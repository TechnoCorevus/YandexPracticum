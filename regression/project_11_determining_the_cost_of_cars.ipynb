{
 "cells": [
  {
   "cell_type": "markdown",
   "metadata": {},
   "source": [
    "# Определение стоимости автомобилей"
   ]
  },
  {
   "cell_type": "markdown",
   "metadata": {},
   "source": [
    "Сервис по продаже автомобилей с пробегом «Не бит, не крашен» разрабатывает приложение для привлечения новых клиентов. В нём можно быстро узнать рыночную стоимость своего автомобиля. В вашем распоряжении исторические данные: технические характеристики, комплектации и цены автомобилей. Вам нужно построить модель для определения стоимости. \n",
    "\n",
    "Заказчику важны:\n",
    "\n",
    "- качество предсказания;\n",
    "- скорость предсказания;\n",
    "- время обучения."
   ]
  },
  {
   "cell_type": "code",
   "execution_count": 1,
   "metadata": {
    "scrolled": true
   },
   "outputs": [
    {
     "name": "stdout",
     "output_type": "stream",
     "text": [
      "Collecting scikit-learn==1.3.0\n",
      "  Downloading scikit_learn-1.3.0-cp39-cp39-manylinux_2_17_x86_64.manylinux2014_x86_64.whl (10.9 MB)\n",
      "\u001b[K     |████████████████████████████████| 10.9 MB 1.1 MB/s eta 0:00:01\n",
      "\u001b[?25hRequirement already satisfied: scipy>=1.5.0 in /opt/conda/lib/python3.9/site-packages (from scikit-learn==1.3.0) (1.9.1)\n",
      "Requirement already satisfied: threadpoolctl>=2.0.0 in /opt/conda/lib/python3.9/site-packages (from scikit-learn==1.3.0) (3.1.0)\n",
      "Requirement already satisfied: numpy>=1.17.3 in /opt/conda/lib/python3.9/site-packages (from scikit-learn==1.3.0) (1.21.1)\n",
      "Collecting joblib>=1.1.1\n",
      "  Downloading joblib-1.3.2-py3-none-any.whl (302 kB)\n",
      "\u001b[K     |████████████████████████████████| 302 kB 60.5 MB/s eta 0:00:01\n",
      "\u001b[?25hInstalling collected packages: joblib, scikit-learn\n",
      "  Attempting uninstall: joblib\n",
      "    Found existing installation: joblib 1.1.0\n",
      "    Uninstalling joblib-1.1.0:\n",
      "      Successfully uninstalled joblib-1.1.0\n",
      "  Attempting uninstall: scikit-learn\n",
      "    Found existing installation: scikit-learn 0.24.1\n",
      "    Uninstalling scikit-learn-0.24.1:\n",
      "      Successfully uninstalled scikit-learn-0.24.1\n",
      "Successfully installed joblib-1.3.2 scikit-learn-1.3.0\n"
     ]
    }
   ],
   "source": [
    "!pip install scikit-learn==1.3.0 -q"
   ]
  },
  {
   "cell_type": "code",
   "execution_count": 2,
   "metadata": {},
   "outputs": [],
   "source": [
    "import pandas as pd\n",
    "import numpy as np\n",
    "import os\n",
    "import random\n",
    "import matplotlib.pyplot as plt\n",
    "import seaborn as sns\n",
    "import lightgbm as lgb\n",
    "import sklearn\n",
    "\n",
    "from sklearn.model_selection import train_test_split\n",
    "from sklearn.metrics import mean_squared_error\n",
    "from sklearn.preprocessing import OneHotEncoder\n",
    "from sklearn.preprocessing import StandardScaler\n",
    "from sklearn.preprocessing import OrdinalEncoder\n",
    "from sklearn.utils import shuffle\n",
    "\n",
    "\n",
    "from sklearn.ensemble import RandomForestClassifier\n",
    "from sklearn.tree import DecisionTreeClassifier\n",
    "from sklearn.linear_model import LinearRegression\n"
   ]
  },
  {
   "cell_type": "code",
   "execution_count": 3,
   "metadata": {},
   "outputs": [],
   "source": [
    "# константа для random_state\n",
    "RANDOM_STATE = 42"
   ]
  },
  {
   "cell_type": "markdown",
   "metadata": {},
   "source": [
    "## Подготовка данных"
   ]
  },
  {
   "cell_type": "markdown",
   "metadata": {},
   "source": [
    "Загрузим датасет"
   ]
  },
  {
   "cell_type": "code",
   "execution_count": 4,
   "metadata": {},
   "outputs": [],
   "source": [
    "path_1 = '/datasets/autos.csv'\n",
    "path_2 = \"C:\\\\DS\\\\YP\\\\S14\\\\autos.csv\"\n",
    "\n",
    "\n",
    "def generate_data (path_1, path_2):\n",
    "    if os.path.exists(path_1):\n",
    "        df = pd.read_csv(path_1)\n",
    "    elif os.path.exists(path_2):\n",
    "        df = pd.read_csv(path_2)\n",
    "    else:\n",
    "        print('Something is wrong')\n",
    "    return df"
   ]
  },
  {
   "cell_type": "code",
   "execution_count": 5,
   "metadata": {
    "scrolled": true
   },
   "outputs": [
    {
     "data": {
      "text/html": [
       "<div>\n",
       "<style scoped>\n",
       "    .dataframe tbody tr th:only-of-type {\n",
       "        vertical-align: middle;\n",
       "    }\n",
       "\n",
       "    .dataframe tbody tr th {\n",
       "        vertical-align: top;\n",
       "    }\n",
       "\n",
       "    .dataframe thead th {\n",
       "        text-align: right;\n",
       "    }\n",
       "</style>\n",
       "<table border=\"1\" class=\"dataframe\">\n",
       "  <thead>\n",
       "    <tr style=\"text-align: right;\">\n",
       "      <th></th>\n",
       "      <th>DateCrawled</th>\n",
       "      <th>Price</th>\n",
       "      <th>VehicleType</th>\n",
       "      <th>RegistrationYear</th>\n",
       "      <th>Gearbox</th>\n",
       "      <th>Power</th>\n",
       "      <th>Model</th>\n",
       "      <th>Kilometer</th>\n",
       "      <th>RegistrationMonth</th>\n",
       "      <th>FuelType</th>\n",
       "      <th>Brand</th>\n",
       "      <th>Repaired</th>\n",
       "      <th>DateCreated</th>\n",
       "      <th>NumberOfPictures</th>\n",
       "      <th>PostalCode</th>\n",
       "      <th>LastSeen</th>\n",
       "    </tr>\n",
       "  </thead>\n",
       "  <tbody>\n",
       "    <tr>\n",
       "      <th>0</th>\n",
       "      <td>2016-03-24 11:52:17</td>\n",
       "      <td>480</td>\n",
       "      <td>NaN</td>\n",
       "      <td>1993</td>\n",
       "      <td>manual</td>\n",
       "      <td>0</td>\n",
       "      <td>golf</td>\n",
       "      <td>150000</td>\n",
       "      <td>0</td>\n",
       "      <td>petrol</td>\n",
       "      <td>volkswagen</td>\n",
       "      <td>NaN</td>\n",
       "      <td>2016-03-24 00:00:00</td>\n",
       "      <td>0</td>\n",
       "      <td>70435</td>\n",
       "      <td>2016-04-07 03:16:57</td>\n",
       "    </tr>\n",
       "    <tr>\n",
       "      <th>1</th>\n",
       "      <td>2016-03-24 10:58:45</td>\n",
       "      <td>18300</td>\n",
       "      <td>coupe</td>\n",
       "      <td>2011</td>\n",
       "      <td>manual</td>\n",
       "      <td>190</td>\n",
       "      <td>NaN</td>\n",
       "      <td>125000</td>\n",
       "      <td>5</td>\n",
       "      <td>gasoline</td>\n",
       "      <td>audi</td>\n",
       "      <td>yes</td>\n",
       "      <td>2016-03-24 00:00:00</td>\n",
       "      <td>0</td>\n",
       "      <td>66954</td>\n",
       "      <td>2016-04-07 01:46:50</td>\n",
       "    </tr>\n",
       "    <tr>\n",
       "      <th>2</th>\n",
       "      <td>2016-03-14 12:52:21</td>\n",
       "      <td>9800</td>\n",
       "      <td>suv</td>\n",
       "      <td>2004</td>\n",
       "      <td>auto</td>\n",
       "      <td>163</td>\n",
       "      <td>grand</td>\n",
       "      <td>125000</td>\n",
       "      <td>8</td>\n",
       "      <td>gasoline</td>\n",
       "      <td>jeep</td>\n",
       "      <td>NaN</td>\n",
       "      <td>2016-03-14 00:00:00</td>\n",
       "      <td>0</td>\n",
       "      <td>90480</td>\n",
       "      <td>2016-04-05 12:47:46</td>\n",
       "    </tr>\n",
       "    <tr>\n",
       "      <th>3</th>\n",
       "      <td>2016-03-17 16:54:04</td>\n",
       "      <td>1500</td>\n",
       "      <td>small</td>\n",
       "      <td>2001</td>\n",
       "      <td>manual</td>\n",
       "      <td>75</td>\n",
       "      <td>golf</td>\n",
       "      <td>150000</td>\n",
       "      <td>6</td>\n",
       "      <td>petrol</td>\n",
       "      <td>volkswagen</td>\n",
       "      <td>no</td>\n",
       "      <td>2016-03-17 00:00:00</td>\n",
       "      <td>0</td>\n",
       "      <td>91074</td>\n",
       "      <td>2016-03-17 17:40:17</td>\n",
       "    </tr>\n",
       "    <tr>\n",
       "      <th>4</th>\n",
       "      <td>2016-03-31 17:25:20</td>\n",
       "      <td>3600</td>\n",
       "      <td>small</td>\n",
       "      <td>2008</td>\n",
       "      <td>manual</td>\n",
       "      <td>69</td>\n",
       "      <td>fabia</td>\n",
       "      <td>90000</td>\n",
       "      <td>7</td>\n",
       "      <td>gasoline</td>\n",
       "      <td>skoda</td>\n",
       "      <td>no</td>\n",
       "      <td>2016-03-31 00:00:00</td>\n",
       "      <td>0</td>\n",
       "      <td>60437</td>\n",
       "      <td>2016-04-06 10:17:21</td>\n",
       "    </tr>\n",
       "  </tbody>\n",
       "</table>\n",
       "</div>"
      ],
      "text/plain": [
       "           DateCrawled  Price VehicleType  RegistrationYear Gearbox  Power  \\\n",
       "0  2016-03-24 11:52:17    480         NaN              1993  manual      0   \n",
       "1  2016-03-24 10:58:45  18300       coupe              2011  manual    190   \n",
       "2  2016-03-14 12:52:21   9800         suv              2004    auto    163   \n",
       "3  2016-03-17 16:54:04   1500       small              2001  manual     75   \n",
       "4  2016-03-31 17:25:20   3600       small              2008  manual     69   \n",
       "\n",
       "   Model  Kilometer  RegistrationMonth  FuelType       Brand Repaired  \\\n",
       "0   golf     150000                  0    petrol  volkswagen      NaN   \n",
       "1    NaN     125000                  5  gasoline        audi      yes   \n",
       "2  grand     125000                  8  gasoline        jeep      NaN   \n",
       "3   golf     150000                  6    petrol  volkswagen       no   \n",
       "4  fabia      90000                  7  gasoline       skoda       no   \n",
       "\n",
       "           DateCreated  NumberOfPictures  PostalCode             LastSeen  \n",
       "0  2016-03-24 00:00:00                 0       70435  2016-04-07 03:16:57  \n",
       "1  2016-03-24 00:00:00                 0       66954  2016-04-07 01:46:50  \n",
       "2  2016-03-14 00:00:00                 0       90480  2016-04-05 12:47:46  \n",
       "3  2016-03-17 00:00:00                 0       91074  2016-03-17 17:40:17  \n",
       "4  2016-03-31 00:00:00                 0       60437  2016-04-06 10:17:21  "
      ]
     },
     "execution_count": 5,
     "metadata": {},
     "output_type": "execute_result"
    }
   ],
   "source": [
    "df = generate_data(path_1, path_2)\n",
    "# провреим загрузку датасета\n",
    "df.head()"
   ]
  },
  {
   "cell_type": "markdown",
   "metadata": {},
   "source": [
    "### Описание данных\n",
    "\n",
    "Признаки\n",
    "* DateCrawled — дата скачивания анкеты из базы\n",
    "* VehicleType — тип автомобильного кузова\n",
    "* RegistrationYear — год регистрации автомобиля\n",
    "* Gearbox — тип коробки передач\n",
    "* Power — мощность (л. с.)\n",
    "* Model — модель автомобиля\n",
    "* Kilometer — пробег (км)\n",
    "* RegistrationMonth — месяц регистрации автомобиля\n",
    "* FuelType — тип топлива\n",
    "* Brand — марка автомобиля\n",
    "* Repaired — была машина в ремонте или нет\n",
    "* DateCreated — дата создания анкеты\n",
    "* NumberOfPictures — количество фотографий автомобиля\n",
    "* PostalCode — почтовый индекс владельца анкеты (пользователя)\n",
    "* LastSeen — дата последней активности пользователя\n",
    "\n",
    "**Целевой признак:**\n",
    "* Price — цена (евро)"
   ]
  },
  {
   "cell_type": "markdown",
   "metadata": {},
   "source": [
    "Заменим название столбцов на название со строчной буквы и отделяя слова нижним подчеркиванием"
   ]
  },
  {
   "cell_type": "code",
   "execution_count": 6,
   "metadata": {},
   "outputs": [],
   "source": [
    "# создаём список с изменёнными названиями столбцов\n",
    "new_columns = ['date_crawled', 'price', 'vehicle_type', 'registration_year', 'gearbox', 'power'\n",
    "               , 'model', 'kilometer', 'registration_month', 'fuel_type', 'brand', 'repaired'\n",
    "               , 'date_created', 'number_of_pictures', 'postal_code', 'last_seen']"
   ]
  },
  {
   "cell_type": "code",
   "execution_count": 7,
   "metadata": {},
   "outputs": [
    {
     "data": {
      "text/plain": [
       "Index(['date_crawled', 'price', 'vehicle_type', 'registration_year', 'gearbox',\n",
       "       'power', 'model', 'kilometer', 'registration_month', 'fuel_type',\n",
       "       'brand', 'repaired', 'date_created', 'number_of_pictures',\n",
       "       'postal_code', 'last_seen'],\n",
       "      dtype='object')"
      ]
     },
     "execution_count": 7,
     "metadata": {},
     "output_type": "execute_result"
    }
   ],
   "source": [
    "# производим замена\n",
    "df.columns = new_columns\n",
    "# проверка\n",
    "df.columns"
   ]
  },
  {
   "cell_type": "markdown",
   "metadata": {},
   "source": [
    "Выведем информацию о датафрейме"
   ]
  },
  {
   "cell_type": "code",
   "execution_count": 8,
   "metadata": {},
   "outputs": [],
   "source": [
    "def get_df_info(df):\n",
    "    display(df.sample(5))\n",
    "    df.info()\n",
    "    display(df.describe(include='all').T)"
   ]
  },
  {
   "cell_type": "code",
   "execution_count": 9,
   "metadata": {
    "scrolled": true
   },
   "outputs": [
    {
     "data": {
      "text/html": [
       "<div>\n",
       "<style scoped>\n",
       "    .dataframe tbody tr th:only-of-type {\n",
       "        vertical-align: middle;\n",
       "    }\n",
       "\n",
       "    .dataframe tbody tr th {\n",
       "        vertical-align: top;\n",
       "    }\n",
       "\n",
       "    .dataframe thead th {\n",
       "        text-align: right;\n",
       "    }\n",
       "</style>\n",
       "<table border=\"1\" class=\"dataframe\">\n",
       "  <thead>\n",
       "    <tr style=\"text-align: right;\">\n",
       "      <th></th>\n",
       "      <th>date_crawled</th>\n",
       "      <th>price</th>\n",
       "      <th>vehicle_type</th>\n",
       "      <th>registration_year</th>\n",
       "      <th>gearbox</th>\n",
       "      <th>power</th>\n",
       "      <th>model</th>\n",
       "      <th>kilometer</th>\n",
       "      <th>registration_month</th>\n",
       "      <th>fuel_type</th>\n",
       "      <th>brand</th>\n",
       "      <th>repaired</th>\n",
       "      <th>date_created</th>\n",
       "      <th>number_of_pictures</th>\n",
       "      <th>postal_code</th>\n",
       "      <th>last_seen</th>\n",
       "    </tr>\n",
       "  </thead>\n",
       "  <tbody>\n",
       "    <tr>\n",
       "      <th>13328</th>\n",
       "      <td>2016-03-08 03:59:49</td>\n",
       "      <td>5399</td>\n",
       "      <td>sedan</td>\n",
       "      <td>2003</td>\n",
       "      <td>manual</td>\n",
       "      <td>131</td>\n",
       "      <td>a4</td>\n",
       "      <td>5000</td>\n",
       "      <td>10</td>\n",
       "      <td>petrol</td>\n",
       "      <td>audi</td>\n",
       "      <td>NaN</td>\n",
       "      <td>2016-03-08 00:00:00</td>\n",
       "      <td>0</td>\n",
       "      <td>13627</td>\n",
       "      <td>2016-04-06 06:45:44</td>\n",
       "    </tr>\n",
       "    <tr>\n",
       "      <th>318539</th>\n",
       "      <td>2016-03-29 18:51:13</td>\n",
       "      <td>350</td>\n",
       "      <td>wagon</td>\n",
       "      <td>2002</td>\n",
       "      <td>manual</td>\n",
       "      <td>166</td>\n",
       "      <td>156</td>\n",
       "      <td>150000</td>\n",
       "      <td>10</td>\n",
       "      <td>petrol</td>\n",
       "      <td>alfa_romeo</td>\n",
       "      <td>NaN</td>\n",
       "      <td>2016-03-29 00:00:00</td>\n",
       "      <td>0</td>\n",
       "      <td>29574</td>\n",
       "      <td>2016-03-31 12:17:24</td>\n",
       "    </tr>\n",
       "    <tr>\n",
       "      <th>316910</th>\n",
       "      <td>2016-03-27 14:41:25</td>\n",
       "      <td>2999</td>\n",
       "      <td>sedan</td>\n",
       "      <td>1999</td>\n",
       "      <td>auto</td>\n",
       "      <td>105</td>\n",
       "      <td>3er</td>\n",
       "      <td>150000</td>\n",
       "      <td>10</td>\n",
       "      <td>petrol</td>\n",
       "      <td>bmw</td>\n",
       "      <td>no</td>\n",
       "      <td>2016-03-27 00:00:00</td>\n",
       "      <td>0</td>\n",
       "      <td>25421</td>\n",
       "      <td>2016-04-05 08:17:14</td>\n",
       "    </tr>\n",
       "    <tr>\n",
       "      <th>343907</th>\n",
       "      <td>2016-03-31 01:57:05</td>\n",
       "      <td>0</td>\n",
       "      <td>wagon</td>\n",
       "      <td>1994</td>\n",
       "      <td>manual</td>\n",
       "      <td>280</td>\n",
       "      <td>100</td>\n",
       "      <td>150000</td>\n",
       "      <td>3</td>\n",
       "      <td>petrol</td>\n",
       "      <td>audi</td>\n",
       "      <td>no</td>\n",
       "      <td>2016-03-31 00:00:00</td>\n",
       "      <td>0</td>\n",
       "      <td>78554</td>\n",
       "      <td>2016-04-06 01:45:41</td>\n",
       "    </tr>\n",
       "    <tr>\n",
       "      <th>175099</th>\n",
       "      <td>2016-03-25 14:57:05</td>\n",
       "      <td>4890</td>\n",
       "      <td>wagon</td>\n",
       "      <td>2009</td>\n",
       "      <td>auto</td>\n",
       "      <td>105</td>\n",
       "      <td>caddy</td>\n",
       "      <td>150000</td>\n",
       "      <td>11</td>\n",
       "      <td>gasoline</td>\n",
       "      <td>volkswagen</td>\n",
       "      <td>no</td>\n",
       "      <td>2016-03-25 00:00:00</td>\n",
       "      <td>0</td>\n",
       "      <td>53783</td>\n",
       "      <td>2016-03-25 18:30:01</td>\n",
       "    </tr>\n",
       "  </tbody>\n",
       "</table>\n",
       "</div>"
      ],
      "text/plain": [
       "               date_crawled  price vehicle_type  registration_year gearbox  \\\n",
       "13328   2016-03-08 03:59:49   5399        sedan               2003  manual   \n",
       "318539  2016-03-29 18:51:13    350        wagon               2002  manual   \n",
       "316910  2016-03-27 14:41:25   2999        sedan               1999    auto   \n",
       "343907  2016-03-31 01:57:05      0        wagon               1994  manual   \n",
       "175099  2016-03-25 14:57:05   4890        wagon               2009    auto   \n",
       "\n",
       "        power  model  kilometer  registration_month fuel_type       brand  \\\n",
       "13328     131     a4       5000                  10    petrol        audi   \n",
       "318539    166    156     150000                  10    petrol  alfa_romeo   \n",
       "316910    105    3er     150000                  10    petrol         bmw   \n",
       "343907    280    100     150000                   3    petrol        audi   \n",
       "175099    105  caddy     150000                  11  gasoline  volkswagen   \n",
       "\n",
       "       repaired         date_created  number_of_pictures  postal_code  \\\n",
       "13328       NaN  2016-03-08 00:00:00                   0        13627   \n",
       "318539      NaN  2016-03-29 00:00:00                   0        29574   \n",
       "316910       no  2016-03-27 00:00:00                   0        25421   \n",
       "343907       no  2016-03-31 00:00:00                   0        78554   \n",
       "175099       no  2016-03-25 00:00:00                   0        53783   \n",
       "\n",
       "                  last_seen  \n",
       "13328   2016-04-06 06:45:44  \n",
       "318539  2016-03-31 12:17:24  \n",
       "316910  2016-04-05 08:17:14  \n",
       "343907  2016-04-06 01:45:41  \n",
       "175099  2016-03-25 18:30:01  "
      ]
     },
     "metadata": {},
     "output_type": "display_data"
    },
    {
     "name": "stdout",
     "output_type": "stream",
     "text": [
      "<class 'pandas.core.frame.DataFrame'>\n",
      "RangeIndex: 354369 entries, 0 to 354368\n",
      "Data columns (total 16 columns):\n",
      " #   Column              Non-Null Count   Dtype \n",
      "---  ------              --------------   ----- \n",
      " 0   date_crawled        354369 non-null  object\n",
      " 1   price               354369 non-null  int64 \n",
      " 2   vehicle_type        316879 non-null  object\n",
      " 3   registration_year   354369 non-null  int64 \n",
      " 4   gearbox             334536 non-null  object\n",
      " 5   power               354369 non-null  int64 \n",
      " 6   model               334664 non-null  object\n",
      " 7   kilometer           354369 non-null  int64 \n",
      " 8   registration_month  354369 non-null  int64 \n",
      " 9   fuel_type           321474 non-null  object\n",
      " 10  brand               354369 non-null  object\n",
      " 11  repaired            283215 non-null  object\n",
      " 12  date_created        354369 non-null  object\n",
      " 13  number_of_pictures  354369 non-null  int64 \n",
      " 14  postal_code         354369 non-null  int64 \n",
      " 15  last_seen           354369 non-null  object\n",
      "dtypes: int64(7), object(9)\n",
      "memory usage: 43.3+ MB\n"
     ]
    },
    {
     "data": {
      "text/html": [
       "<div>\n",
       "<style scoped>\n",
       "    .dataframe tbody tr th:only-of-type {\n",
       "        vertical-align: middle;\n",
       "    }\n",
       "\n",
       "    .dataframe tbody tr th {\n",
       "        vertical-align: top;\n",
       "    }\n",
       "\n",
       "    .dataframe thead th {\n",
       "        text-align: right;\n",
       "    }\n",
       "</style>\n",
       "<table border=\"1\" class=\"dataframe\">\n",
       "  <thead>\n",
       "    <tr style=\"text-align: right;\">\n",
       "      <th></th>\n",
       "      <th>count</th>\n",
       "      <th>unique</th>\n",
       "      <th>top</th>\n",
       "      <th>freq</th>\n",
       "      <th>mean</th>\n",
       "      <th>std</th>\n",
       "      <th>min</th>\n",
       "      <th>25%</th>\n",
       "      <th>50%</th>\n",
       "      <th>75%</th>\n",
       "      <th>max</th>\n",
       "    </tr>\n",
       "  </thead>\n",
       "  <tbody>\n",
       "    <tr>\n",
       "      <th>date_crawled</th>\n",
       "      <td>354369</td>\n",
       "      <td>271174</td>\n",
       "      <td>2016-03-24 14:49:47</td>\n",
       "      <td>7</td>\n",
       "      <td>NaN</td>\n",
       "      <td>NaN</td>\n",
       "      <td>NaN</td>\n",
       "      <td>NaN</td>\n",
       "      <td>NaN</td>\n",
       "      <td>NaN</td>\n",
       "      <td>NaN</td>\n",
       "    </tr>\n",
       "    <tr>\n",
       "      <th>price</th>\n",
       "      <td>354369.0</td>\n",
       "      <td>NaN</td>\n",
       "      <td>NaN</td>\n",
       "      <td>NaN</td>\n",
       "      <td>4416.656776</td>\n",
       "      <td>4514.158514</td>\n",
       "      <td>0.0</td>\n",
       "      <td>1050.0</td>\n",
       "      <td>2700.0</td>\n",
       "      <td>6400.0</td>\n",
       "      <td>20000.0</td>\n",
       "    </tr>\n",
       "    <tr>\n",
       "      <th>vehicle_type</th>\n",
       "      <td>316879</td>\n",
       "      <td>8</td>\n",
       "      <td>sedan</td>\n",
       "      <td>91457</td>\n",
       "      <td>NaN</td>\n",
       "      <td>NaN</td>\n",
       "      <td>NaN</td>\n",
       "      <td>NaN</td>\n",
       "      <td>NaN</td>\n",
       "      <td>NaN</td>\n",
       "      <td>NaN</td>\n",
       "    </tr>\n",
       "    <tr>\n",
       "      <th>registration_year</th>\n",
       "      <td>354369.0</td>\n",
       "      <td>NaN</td>\n",
       "      <td>NaN</td>\n",
       "      <td>NaN</td>\n",
       "      <td>2004.234448</td>\n",
       "      <td>90.227958</td>\n",
       "      <td>1000.0</td>\n",
       "      <td>1999.0</td>\n",
       "      <td>2003.0</td>\n",
       "      <td>2008.0</td>\n",
       "      <td>9999.0</td>\n",
       "    </tr>\n",
       "    <tr>\n",
       "      <th>gearbox</th>\n",
       "      <td>334536</td>\n",
       "      <td>2</td>\n",
       "      <td>manual</td>\n",
       "      <td>268251</td>\n",
       "      <td>NaN</td>\n",
       "      <td>NaN</td>\n",
       "      <td>NaN</td>\n",
       "      <td>NaN</td>\n",
       "      <td>NaN</td>\n",
       "      <td>NaN</td>\n",
       "      <td>NaN</td>\n",
       "    </tr>\n",
       "    <tr>\n",
       "      <th>power</th>\n",
       "      <td>354369.0</td>\n",
       "      <td>NaN</td>\n",
       "      <td>NaN</td>\n",
       "      <td>NaN</td>\n",
       "      <td>110.094337</td>\n",
       "      <td>189.850405</td>\n",
       "      <td>0.0</td>\n",
       "      <td>69.0</td>\n",
       "      <td>105.0</td>\n",
       "      <td>143.0</td>\n",
       "      <td>20000.0</td>\n",
       "    </tr>\n",
       "    <tr>\n",
       "      <th>model</th>\n",
       "      <td>334664</td>\n",
       "      <td>250</td>\n",
       "      <td>golf</td>\n",
       "      <td>29232</td>\n",
       "      <td>NaN</td>\n",
       "      <td>NaN</td>\n",
       "      <td>NaN</td>\n",
       "      <td>NaN</td>\n",
       "      <td>NaN</td>\n",
       "      <td>NaN</td>\n",
       "      <td>NaN</td>\n",
       "    </tr>\n",
       "    <tr>\n",
       "      <th>kilometer</th>\n",
       "      <td>354369.0</td>\n",
       "      <td>NaN</td>\n",
       "      <td>NaN</td>\n",
       "      <td>NaN</td>\n",
       "      <td>128211.172535</td>\n",
       "      <td>37905.34153</td>\n",
       "      <td>5000.0</td>\n",
       "      <td>125000.0</td>\n",
       "      <td>150000.0</td>\n",
       "      <td>150000.0</td>\n",
       "      <td>150000.0</td>\n",
       "    </tr>\n",
       "    <tr>\n",
       "      <th>registration_month</th>\n",
       "      <td>354369.0</td>\n",
       "      <td>NaN</td>\n",
       "      <td>NaN</td>\n",
       "      <td>NaN</td>\n",
       "      <td>5.714645</td>\n",
       "      <td>3.726421</td>\n",
       "      <td>0.0</td>\n",
       "      <td>3.0</td>\n",
       "      <td>6.0</td>\n",
       "      <td>9.0</td>\n",
       "      <td>12.0</td>\n",
       "    </tr>\n",
       "    <tr>\n",
       "      <th>fuel_type</th>\n",
       "      <td>321474</td>\n",
       "      <td>7</td>\n",
       "      <td>petrol</td>\n",
       "      <td>216352</td>\n",
       "      <td>NaN</td>\n",
       "      <td>NaN</td>\n",
       "      <td>NaN</td>\n",
       "      <td>NaN</td>\n",
       "      <td>NaN</td>\n",
       "      <td>NaN</td>\n",
       "      <td>NaN</td>\n",
       "    </tr>\n",
       "    <tr>\n",
       "      <th>brand</th>\n",
       "      <td>354369</td>\n",
       "      <td>40</td>\n",
       "      <td>volkswagen</td>\n",
       "      <td>77013</td>\n",
       "      <td>NaN</td>\n",
       "      <td>NaN</td>\n",
       "      <td>NaN</td>\n",
       "      <td>NaN</td>\n",
       "      <td>NaN</td>\n",
       "      <td>NaN</td>\n",
       "      <td>NaN</td>\n",
       "    </tr>\n",
       "    <tr>\n",
       "      <th>repaired</th>\n",
       "      <td>283215</td>\n",
       "      <td>2</td>\n",
       "      <td>no</td>\n",
       "      <td>247161</td>\n",
       "      <td>NaN</td>\n",
       "      <td>NaN</td>\n",
       "      <td>NaN</td>\n",
       "      <td>NaN</td>\n",
       "      <td>NaN</td>\n",
       "      <td>NaN</td>\n",
       "      <td>NaN</td>\n",
       "    </tr>\n",
       "    <tr>\n",
       "      <th>date_created</th>\n",
       "      <td>354369</td>\n",
       "      <td>109</td>\n",
       "      <td>2016-04-03 00:00:00</td>\n",
       "      <td>13719</td>\n",
       "      <td>NaN</td>\n",
       "      <td>NaN</td>\n",
       "      <td>NaN</td>\n",
       "      <td>NaN</td>\n",
       "      <td>NaN</td>\n",
       "      <td>NaN</td>\n",
       "      <td>NaN</td>\n",
       "    </tr>\n",
       "    <tr>\n",
       "      <th>number_of_pictures</th>\n",
       "      <td>354369.0</td>\n",
       "      <td>NaN</td>\n",
       "      <td>NaN</td>\n",
       "      <td>NaN</td>\n",
       "      <td>0.0</td>\n",
       "      <td>0.0</td>\n",
       "      <td>0.0</td>\n",
       "      <td>0.0</td>\n",
       "      <td>0.0</td>\n",
       "      <td>0.0</td>\n",
       "      <td>0.0</td>\n",
       "    </tr>\n",
       "    <tr>\n",
       "      <th>postal_code</th>\n",
       "      <td>354369.0</td>\n",
       "      <td>NaN</td>\n",
       "      <td>NaN</td>\n",
       "      <td>NaN</td>\n",
       "      <td>50508.689087</td>\n",
       "      <td>25783.096248</td>\n",
       "      <td>1067.0</td>\n",
       "      <td>30165.0</td>\n",
       "      <td>49413.0</td>\n",
       "      <td>71083.0</td>\n",
       "      <td>99998.0</td>\n",
       "    </tr>\n",
       "    <tr>\n",
       "      <th>last_seen</th>\n",
       "      <td>354369</td>\n",
       "      <td>179150</td>\n",
       "      <td>2016-04-06 13:45:54</td>\n",
       "      <td>17</td>\n",
       "      <td>NaN</td>\n",
       "      <td>NaN</td>\n",
       "      <td>NaN</td>\n",
       "      <td>NaN</td>\n",
       "      <td>NaN</td>\n",
       "      <td>NaN</td>\n",
       "      <td>NaN</td>\n",
       "    </tr>\n",
       "  </tbody>\n",
       "</table>\n",
       "</div>"
      ],
      "text/plain": [
       "                       count  unique                  top    freq  \\\n",
       "date_crawled          354369  271174  2016-03-24 14:49:47       7   \n",
       "price               354369.0     NaN                  NaN     NaN   \n",
       "vehicle_type          316879       8                sedan   91457   \n",
       "registration_year   354369.0     NaN                  NaN     NaN   \n",
       "gearbox               334536       2               manual  268251   \n",
       "power               354369.0     NaN                  NaN     NaN   \n",
       "model                 334664     250                 golf   29232   \n",
       "kilometer           354369.0     NaN                  NaN     NaN   \n",
       "registration_month  354369.0     NaN                  NaN     NaN   \n",
       "fuel_type             321474       7               petrol  216352   \n",
       "brand                 354369      40           volkswagen   77013   \n",
       "repaired              283215       2                   no  247161   \n",
       "date_created          354369     109  2016-04-03 00:00:00   13719   \n",
       "number_of_pictures  354369.0     NaN                  NaN     NaN   \n",
       "postal_code         354369.0     NaN                  NaN     NaN   \n",
       "last_seen             354369  179150  2016-04-06 13:45:54      17   \n",
       "\n",
       "                             mean           std     min       25%       50%  \\\n",
       "date_crawled                  NaN           NaN     NaN       NaN       NaN   \n",
       "price                 4416.656776   4514.158514     0.0    1050.0    2700.0   \n",
       "vehicle_type                  NaN           NaN     NaN       NaN       NaN   \n",
       "registration_year     2004.234448     90.227958  1000.0    1999.0    2003.0   \n",
       "gearbox                       NaN           NaN     NaN       NaN       NaN   \n",
       "power                  110.094337    189.850405     0.0      69.0     105.0   \n",
       "model                         NaN           NaN     NaN       NaN       NaN   \n",
       "kilometer           128211.172535   37905.34153  5000.0  125000.0  150000.0   \n",
       "registration_month       5.714645      3.726421     0.0       3.0       6.0   \n",
       "fuel_type                     NaN           NaN     NaN       NaN       NaN   \n",
       "brand                         NaN           NaN     NaN       NaN       NaN   \n",
       "repaired                      NaN           NaN     NaN       NaN       NaN   \n",
       "date_created                  NaN           NaN     NaN       NaN       NaN   \n",
       "number_of_pictures            0.0           0.0     0.0       0.0       0.0   \n",
       "postal_code          50508.689087  25783.096248  1067.0   30165.0   49413.0   \n",
       "last_seen                     NaN           NaN     NaN       NaN       NaN   \n",
       "\n",
       "                         75%       max  \n",
       "date_crawled             NaN       NaN  \n",
       "price                 6400.0   20000.0  \n",
       "vehicle_type             NaN       NaN  \n",
       "registration_year     2008.0    9999.0  \n",
       "gearbox                  NaN       NaN  \n",
       "power                  143.0   20000.0  \n",
       "model                    NaN       NaN  \n",
       "kilometer           150000.0  150000.0  \n",
       "registration_month       9.0      12.0  \n",
       "fuel_type                NaN       NaN  \n",
       "brand                    NaN       NaN  \n",
       "repaired                 NaN       NaN  \n",
       "date_created             NaN       NaN  \n",
       "number_of_pictures       0.0       0.0  \n",
       "postal_code          71083.0   99998.0  \n",
       "last_seen                NaN       NaN  "
      ]
     },
     "metadata": {},
     "output_type": "display_data"
    }
   ],
   "source": [
    "get_df_info(df)"
   ]
  },
  {
   "cell_type": "markdown",
   "metadata": {},
   "source": [
    "Проверим на дубликаты"
   ]
  },
  {
   "cell_type": "code",
   "execution_count": 10,
   "metadata": {},
   "outputs": [
    {
     "data": {
      "text/plain": [
       "date_crawled              0\n",
       "price                     0\n",
       "vehicle_type          37490\n",
       "registration_year         0\n",
       "gearbox               19833\n",
       "power                     0\n",
       "model                 19705\n",
       "kilometer                 0\n",
       "registration_month        0\n",
       "fuel_type             32895\n",
       "brand                     0\n",
       "repaired              71154\n",
       "date_created              0\n",
       "number_of_pictures        0\n",
       "postal_code               0\n",
       "last_seen                 0\n",
       "dtype: int64"
      ]
     },
     "execution_count": 10,
     "metadata": {},
     "output_type": "execute_result"
    }
   ],
   "source": [
    "def get_random_filled_series(df, column):\n",
    "    weights = df[column].value_counts(normalize=True)\n",
    "    nulls = df[df[column].isna()][column]\n",
    "    random_values = random.choices(weights.index, weights=weights, k=len(nulls))\n",
    "    return pd.Series(random_values, index=nulls.index)\n",
    "\n",
    "get_random_filled_series(df, 'vehicle_type')\n",
    "df.isna().sum()"
   ]
  },
  {
   "cell_type": "code",
   "execution_count": 11,
   "metadata": {
    "scrolled": false
   },
   "outputs": [
    {
     "data": {
      "text/plain": [
       "4"
      ]
     },
     "execution_count": 11,
     "metadata": {},
     "output_type": "execute_result"
    }
   ],
   "source": [
    "df.duplicated().sum()"
   ]
  },
  {
   "cell_type": "markdown",
   "metadata": {},
   "source": [
    "Выведем дубликаты на экран"
   ]
  },
  {
   "cell_type": "code",
   "execution_count": 12,
   "metadata": {},
   "outputs": [
    {
     "data": {
      "text/html": [
       "<div>\n",
       "<style scoped>\n",
       "    .dataframe tbody tr th:only-of-type {\n",
       "        vertical-align: middle;\n",
       "    }\n",
       "\n",
       "    .dataframe tbody tr th {\n",
       "        vertical-align: top;\n",
       "    }\n",
       "\n",
       "    .dataframe thead th {\n",
       "        text-align: right;\n",
       "    }\n",
       "</style>\n",
       "<table border=\"1\" class=\"dataframe\">\n",
       "  <thead>\n",
       "    <tr style=\"text-align: right;\">\n",
       "      <th></th>\n",
       "      <th>date_crawled</th>\n",
       "      <th>price</th>\n",
       "      <th>vehicle_type</th>\n",
       "      <th>registration_year</th>\n",
       "      <th>gearbox</th>\n",
       "      <th>power</th>\n",
       "      <th>model</th>\n",
       "      <th>kilometer</th>\n",
       "      <th>registration_month</th>\n",
       "      <th>fuel_type</th>\n",
       "      <th>brand</th>\n",
       "      <th>repaired</th>\n",
       "      <th>date_created</th>\n",
       "      <th>number_of_pictures</th>\n",
       "      <th>postal_code</th>\n",
       "      <th>last_seen</th>\n",
       "    </tr>\n",
       "  </thead>\n",
       "  <tbody>\n",
       "    <tr>\n",
       "      <th>171088</th>\n",
       "      <td>2016-03-08 18:42:48</td>\n",
       "      <td>1799</td>\n",
       "      <td>coupe</td>\n",
       "      <td>1999</td>\n",
       "      <td>auto</td>\n",
       "      <td>193</td>\n",
       "      <td>clk</td>\n",
       "      <td>20000</td>\n",
       "      <td>7</td>\n",
       "      <td>petrol</td>\n",
       "      <td>mercedes_benz</td>\n",
       "      <td>no</td>\n",
       "      <td>2016-03-08 00:00:00</td>\n",
       "      <td>0</td>\n",
       "      <td>89518</td>\n",
       "      <td>2016-03-09 09:46:57</td>\n",
       "    </tr>\n",
       "    <tr>\n",
       "      <th>231258</th>\n",
       "      <td>2016-03-28 00:56:10</td>\n",
       "      <td>1000</td>\n",
       "      <td>small</td>\n",
       "      <td>2002</td>\n",
       "      <td>manual</td>\n",
       "      <td>83</td>\n",
       "      <td>other</td>\n",
       "      <td>150000</td>\n",
       "      <td>1</td>\n",
       "      <td>petrol</td>\n",
       "      <td>suzuki</td>\n",
       "      <td>no</td>\n",
       "      <td>2016-03-28 00:00:00</td>\n",
       "      <td>0</td>\n",
       "      <td>66589</td>\n",
       "      <td>2016-03-28 08:46:21</td>\n",
       "    </tr>\n",
       "    <tr>\n",
       "      <th>258109</th>\n",
       "      <td>2016-04-03 09:01:15</td>\n",
       "      <td>4699</td>\n",
       "      <td>coupe</td>\n",
       "      <td>2003</td>\n",
       "      <td>auto</td>\n",
       "      <td>218</td>\n",
       "      <td>clk</td>\n",
       "      <td>125000</td>\n",
       "      <td>6</td>\n",
       "      <td>petrol</td>\n",
       "      <td>mercedes_benz</td>\n",
       "      <td>yes</td>\n",
       "      <td>2016-04-03 00:00:00</td>\n",
       "      <td>0</td>\n",
       "      <td>75196</td>\n",
       "      <td>2016-04-07 09:44:54</td>\n",
       "    </tr>\n",
       "    <tr>\n",
       "      <th>325651</th>\n",
       "      <td>2016-03-18 18:46:15</td>\n",
       "      <td>1999</td>\n",
       "      <td>wagon</td>\n",
       "      <td>2001</td>\n",
       "      <td>manual</td>\n",
       "      <td>131</td>\n",
       "      <td>passat</td>\n",
       "      <td>150000</td>\n",
       "      <td>7</td>\n",
       "      <td>gasoline</td>\n",
       "      <td>volkswagen</td>\n",
       "      <td>no</td>\n",
       "      <td>2016-03-18 00:00:00</td>\n",
       "      <td>0</td>\n",
       "      <td>36391</td>\n",
       "      <td>2016-03-18 18:46:15</td>\n",
       "    </tr>\n",
       "  </tbody>\n",
       "</table>\n",
       "</div>"
      ],
      "text/plain": [
       "               date_crawled  price vehicle_type  registration_year gearbox  \\\n",
       "171088  2016-03-08 18:42:48   1799        coupe               1999    auto   \n",
       "231258  2016-03-28 00:56:10   1000        small               2002  manual   \n",
       "258109  2016-04-03 09:01:15   4699        coupe               2003    auto   \n",
       "325651  2016-03-18 18:46:15   1999        wagon               2001  manual   \n",
       "\n",
       "        power   model  kilometer  registration_month fuel_type          brand  \\\n",
       "171088    193     clk      20000                   7    petrol  mercedes_benz   \n",
       "231258     83   other     150000                   1    petrol         suzuki   \n",
       "258109    218     clk     125000                   6    petrol  mercedes_benz   \n",
       "325651    131  passat     150000                   7  gasoline     volkswagen   \n",
       "\n",
       "       repaired         date_created  number_of_pictures  postal_code  \\\n",
       "171088       no  2016-03-08 00:00:00                   0        89518   \n",
       "231258       no  2016-03-28 00:00:00                   0        66589   \n",
       "258109      yes  2016-04-03 00:00:00                   0        75196   \n",
       "325651       no  2016-03-18 00:00:00                   0        36391   \n",
       "\n",
       "                  last_seen  \n",
       "171088  2016-03-09 09:46:57  \n",
       "231258  2016-03-28 08:46:21  \n",
       "258109  2016-04-07 09:44:54  \n",
       "325651  2016-03-18 18:46:15  "
      ]
     },
     "execution_count": 12,
     "metadata": {},
     "output_type": "execute_result"
    }
   ],
   "source": [
    "df[df.duplicated()]"
   ]
  },
  {
   "cell_type": "markdown",
   "metadata": {},
   "source": [
    "По факту строки дубликатами на являются. Оставим как есть"
   ]
  },
  {
   "cell_type": "markdown",
   "metadata": {},
   "source": [
    "Проверим на пропуски"
   ]
  },
  {
   "cell_type": "code",
   "execution_count": 13,
   "metadata": {
    "scrolled": true
   },
   "outputs": [
    {
     "data": {
      "text/plain": [
       "date_crawled              0\n",
       "price                     0\n",
       "vehicle_type          37490\n",
       "registration_year         0\n",
       "gearbox               19833\n",
       "power                     0\n",
       "model                 19705\n",
       "kilometer                 0\n",
       "registration_month        0\n",
       "fuel_type             32895\n",
       "brand                     0\n",
       "repaired              71154\n",
       "date_created              0\n",
       "number_of_pictures        0\n",
       "postal_code               0\n",
       "last_seen                 0\n",
       "dtype: int64"
      ]
     },
     "execution_count": 13,
     "metadata": {},
     "output_type": "execute_result"
    }
   ],
   "source": [
    "df.isna().sum()"
   ]
  },
  {
   "cell_type": "markdown",
   "metadata": {},
   "source": [
    "Найдём количество уникальных значений в столбцах с пропусками"
   ]
  },
  {
   "cell_type": "code",
   "execution_count": 14,
   "metadata": {
    "scrolled": true
   },
   "outputs": [
    {
     "name": "stdout",
     "output_type": "stream",
     "text": [
      "vehicle_type: [nan 'coupe' 'suv' 'small' 'sedan' 'convertible' 'bus' 'wagon' 'other'] \n",
      "\n",
      "gearbox: ['manual' 'auto' nan] \n",
      "\n",
      "model: ['golf' nan 'grand' 'fabia' '3er' '2_reihe' 'other' 'c_max' '3_reihe'\n",
      " 'passat' 'navara' 'ka' 'polo' 'twingo' 'a_klasse' 'scirocco' '5er'\n",
      " 'meriva' 'arosa' 'c4' 'civic' 'transporter' 'punto' 'e_klasse' 'clio'\n",
      " 'kadett' 'kangoo' 'corsa' 'one' 'fortwo' '1er' 'b_klasse' 'signum'\n",
      " 'astra' 'a8' 'jetta' 'fiesta' 'c_klasse' 'micra' 'vito' 'sprinter' '156'\n",
      " 'escort' 'forester' 'xc_reihe' 'scenic' 'a4' 'a1' 'insignia' 'combo'\n",
      " 'focus' 'tt' 'a6' 'jazz' 'omega' 'slk' '7er' '80' '147' '100' 'z_reihe'\n",
      " 'sportage' 'sorento' 'v40' 'ibiza' 'mustang' 'eos' 'touran' 'getz' 'a3'\n",
      " 'almera' 'megane' 'lupo' 'r19' 'zafira' 'caddy' 'mondeo' 'cordoba' 'colt'\n",
      " 'impreza' 'vectra' 'berlingo' 'tiguan' 'i_reihe' 'espace' 'sharan'\n",
      " '6_reihe' 'panda' 'up' 'seicento' 'ceed' '5_reihe' 'yeti' 'octavia' 'mii'\n",
      " 'rx_reihe' '6er' 'modus' 'fox' 'matiz' 'beetle' 'c1' 'rio' 'touareg'\n",
      " 'logan' 'spider' 'cuore' 's_max' 'a2' 'galaxy' 'c3' 'viano' 's_klasse'\n",
      " '1_reihe' 'avensis' 'roomster' 'sl' 'kaefer' 'santa' 'cooper' 'leon'\n",
      " '4_reihe' 'a5' '500' 'laguna' 'ptcruiser' 'clk' 'primera' 'x_reihe'\n",
      " 'exeo' '159' 'transit' 'juke' 'qashqai' 'carisma' 'accord' 'corolla'\n",
      " 'lanos' 'phaeton' 'verso' 'swift' 'rav' 'picanto' 'boxster' 'kalos'\n",
      " 'superb' 'stilo' 'alhambra' 'mx_reihe' 'roadster' 'ypsilon' 'cayenne'\n",
      " 'galant' 'justy' '90' 'sirion' 'crossfire' 'agila' 'duster' 'cr_reihe'\n",
      " 'v50' 'c_reihe' 'v_klasse' 'm_klasse' 'yaris' 'c5' 'aygo' 'cc' 'carnival'\n",
      " 'fusion' '911' 'bora' 'forfour' 'm_reihe' 'cl' 'tigra' '300c' 'spark'\n",
      " 'v70' 'kuga' 'x_type' 'ducato' 's_type' 'x_trail' 'toledo' 'altea'\n",
      " 'voyager' 'calibra' 'bravo' 'antara' 'tucson' 'citigo' 'jimny' 'wrangler'\n",
      " 'lybra' 'q7' 'lancer' 'captiva' 'c2' 'discovery' 'freelander' 'sandero'\n",
      " 'note' '900' 'cherokee' 'clubman' 'samara' 'defender' '601' 'cx_reihe'\n",
      " 'legacy' 'pajero' 'auris' 'niva' 's60' 'nubira' 'vivaro' 'g_klasse'\n",
      " 'lodgy' '850' 'range_rover' 'q3' 'serie_2' 'glk' 'charade' 'croma'\n",
      " 'outlander' 'doblo' 'musa' 'move' '9000' 'v60' '145' 'aveo' '200' 'b_max'\n",
      " 'range_rover_sport' 'terios' 'rangerover' 'q5' 'range_rover_evoque'\n",
      " 'materia' 'delta' 'gl' 'kalina' 'amarok' 'elefantino' 'i3' 'kappa'\n",
      " 'serie_3' 'serie_1'] \n",
      "\n",
      "fuel_type: ['petrol' 'gasoline' nan 'lpg' 'other' 'hybrid' 'cng' 'electric'] \n",
      "\n",
      "repaired: [nan 'yes' 'no']\n"
     ]
    }
   ],
   "source": [
    "print('vehicle_type:',df.vehicle_type.unique(),'\\n')\n",
    "print('gearbox:', df.gearbox.unique(),'\\n')\n",
    "print('model:', df.model.unique(),'\\n')\n",
    "print('fuel_type:', df.fuel_type.unique(),'\\n')\n",
    "print('repaired:', df.repaired.unique())"
   ]
  },
  {
   "cell_type": "markdown",
   "metadata": {},
   "source": [
    "Пропуски скорее всего образоывались в результате ошибок при сборе данных, либо пользователи на заполенили анкеты полностью. Т.е. пропуски имеют случайное значение.\n",
    "\n",
    "Можем заменить пропущенные значения на заглушку: \"unknown\""
   ]
  },
  {
   "cell_type": "code",
   "execution_count": 15,
   "metadata": {
    "scrolled": true
   },
   "outputs": [
    {
     "data": {
      "text/plain": [
       "date_crawled              0\n",
       "price                     0\n",
       "vehicle_type              0\n",
       "registration_year         0\n",
       "gearbox                   0\n",
       "power                     0\n",
       "model                     0\n",
       "kilometer                 0\n",
       "registration_month        0\n",
       "fuel_type                 0\n",
       "brand                     0\n",
       "repaired              71154\n",
       "date_created              0\n",
       "number_of_pictures        0\n",
       "postal_code               0\n",
       "last_seen                 0\n",
       "dtype: int64"
      ]
     },
     "execution_count": 15,
     "metadata": {},
     "output_type": "execute_result"
    }
   ],
   "source": [
    "df[['vehicle_type', 'model', 'fuel_type', 'gearbox']] = df[['vehicle_type', 'model', 'fuel_type', 'gearbox']].fillna('unknown')\n",
    "# проверка\n",
    "df.isna().sum()"
   ]
  },
  {
   "cell_type": "markdown",
   "metadata": {},
   "source": [
    "В оставшемся столбц 'repaired' заменим пропуски на значение, которые уже есть в таблице, согласно их долям в таблице."
   ]
  },
  {
   "cell_type": "code",
   "execution_count": 16,
   "metadata": {},
   "outputs": [
    {
     "name": "stdout",
     "output_type": "stream",
     "text": [
      "no     247161\n",
      "yes     36054\n",
      "Name: repaired, dtype: int64\n",
      "\n",
      "no     0.872697\n",
      "yes    0.127303\n",
      "Name: repaired, dtype: float64\n"
     ]
    }
   ],
   "source": [
    "# yайдём колчичество и соотношение данных\n",
    "print(df['repaired'].value_counts())\n",
    "print()\n",
    "print(df['repaired'].value_counts(normalize=True))"
   ]
  },
  {
   "cell_type": "code",
   "execution_count": 17,
   "metadata": {
    "scrolled": true
   },
   "outputs": [
    {
     "name": "stdout",
     "output_type": "stream",
     "text": [
      "no     309373\n",
      "yes     44996\n",
      "Name: repaired, dtype: int64\n",
      "\n",
      "no     0.873025\n",
      "yes    0.126975\n",
      "Name: repaired, dtype: float64\n"
     ]
    }
   ],
   "source": [
    "def get_random_filled_series(df, column):\n",
    "    weights = df[column].value_counts(normalize=True)\n",
    "    nulls = df[df[column].isna()][column]\n",
    "    random_values = random.choices(weights.index, weights=weights, k=len(nulls))\n",
    "    return pd.Series(random_values, index=nulls.index)\n",
    "\n",
    "df['repaired'] = df['repaired'].fillna(get_random_filled_series(df, 'repaired'))\n",
    "\n",
    "# Проверка\n",
    "print(df['repaired'].value_counts())\n",
    "print()\n",
    "print(df['repaired'].value_counts(normalize=True))"
   ]
  },
  {
   "cell_type": "markdown",
   "metadata": {},
   "source": [
    "Проверим, все ли пропуски заменены."
   ]
  },
  {
   "cell_type": "code",
   "execution_count": 18,
   "metadata": {
    "scrolled": false
   },
   "outputs": [
    {
     "data": {
      "text/plain": [
       "date_crawled          0\n",
       "price                 0\n",
       "vehicle_type          0\n",
       "registration_year     0\n",
       "gearbox               0\n",
       "power                 0\n",
       "model                 0\n",
       "kilometer             0\n",
       "registration_month    0\n",
       "fuel_type             0\n",
       "brand                 0\n",
       "repaired              0\n",
       "date_created          0\n",
       "number_of_pictures    0\n",
       "postal_code           0\n",
       "last_seen             0\n",
       "dtype: int64"
      ]
     },
     "execution_count": 18,
     "metadata": {},
     "output_type": "execute_result"
    }
   ],
   "source": [
    "df.isna().sum()"
   ]
  },
  {
   "cell_type": "markdown",
   "metadata": {},
   "source": [
    "Построим гистограммы данных и диаграммы размаха, чтобы проверить распределение"
   ]
  },
  {
   "cell_type": "markdown",
   "metadata": {},
   "source": [
    "Напишем функции для постройки графков"
   ]
  },
  {
   "cell_type": "code",
   "execution_count": 19,
   "metadata": {},
   "outputs": [],
   "source": [
    "# функция для отрисовки гистрограмм\n",
    "def draw_histogram (df, column, title, bins=15,\n",
    "                   figsize=(14,5), color='red',\n",
    "                   xlabel='', ylabel='', rotation=0,\n",
    "                   xlim=None, ylim=None):\n",
    "    plt.figure(figsize=figsize)\n",
    "    \n",
    "    ax = sns.displot(\n",
    "        df[column],\n",
    "        color=color,\n",
    "        kde=False,\n",
    "        bins=bins\n",
    "    )\n",
    "    \n",
    "    if (xlim != None):\n",
    "        plt.xlim(xlim)\n",
    "    if (ylim != None):\n",
    "        plt.ylim(ylim)\n",
    "        \n",
    "    ax.set(\n",
    "        xlabel=xlabel,\n",
    "        ylabel=ylabel,\n",
    "        title=title\n",
    "    )    \n",
    "    \n",
    "    if rotation != 0:\n",
    "        plt.xticks(rotation=rotation)\n"
   ]
  },
  {
   "cell_type": "code",
   "execution_count": 20,
   "metadata": {},
   "outputs": [],
   "source": [
    "def draw_boxplot (df, column, title,\n",
    "                 figsize=(14,5), color='red',\n",
    "                 xlabel='', xlim=None,):\n",
    "    plt.figure(figsize=figsize)\n",
    "    \n",
    "    ax = sns.boxplot(\n",
    "        x=df[column],\n",
    "        color=color\n",
    "    )\n",
    "    \n",
    "    if(xlim != None):\n",
    "        xlim=xlim\n",
    "        \n",
    "    ax.set(xlabel=xlabel,\n",
    "          title=title\n",
    "          )\n",
    "    \n",
    "    "
   ]
  },
  {
   "cell_type": "markdown",
   "metadata": {},
   "source": [
    "Проверим и построим графики цен на автомобили"
   ]
  },
  {
   "cell_type": "code",
   "execution_count": 21,
   "metadata": {},
   "outputs": [
    {
     "data": {
      "text/plain": [
       "<Figure size 1008x360 with 0 Axes>"
      ]
     },
     "metadata": {},
     "output_type": "display_data"
    },
    {
     "data": {
      "image/png": "[encoded data removed]",
      "text/plain": [
       "<Figure size 360x360 with 1 Axes>"
      ]
     },
     "metadata": {
      "needs_background": "light"
     },
     "output_type": "display_data"
    }
   ],
   "source": [
    "draw_histogram(df, column='price', title='цена',bins=45,\n",
    "               xlabel='стоимость автомобиля в евро', ylabel='количество автомобилей')"
   ]
  },
  {
   "cell_type": "markdown",
   "metadata": {},
   "source": [
    "Данные выглядят адекватно, большиство автомобилей стоимостью до 4000 евро"
   ]
  },
  {
   "cell_type": "code",
   "execution_count": 22,
   "metadata": {},
   "outputs": [
    {
     "data": {
      "image/png": "[encoded data removed]",
      "text/plain": [
       "<Figure size 1008x360 with 1 Axes>"
      ]
     },
     "metadata": {
      "needs_background": "light"
     },
     "output_type": "display_data"
    }
   ],
   "source": [
    "draw_boxplot(df, column='price', title='цена')"
   ]
  },
  {
   "cell_type": "markdown",
   "metadata": {},
   "source": [
    "Автомобили стоимостью выше 15000 евро показаны как выборосы, удалять их не будем, так как данных довольно много и для обучения модели они нам тоже понадобятся."
   ]
  },
  {
   "cell_type": "markdown",
   "metadata": {},
   "source": [
    "Проверим и построим графики типа автомоболя"
   ]
  },
  {
   "cell_type": "code",
   "execution_count": 23,
   "metadata": {
    "scrolled": false
   },
   "outputs": [
    {
     "data": {
      "text/plain": [
       "<Figure size 1008x360 with 0 Axes>"
      ]
     },
     "metadata": {},
     "output_type": "display_data"
    },
    {
     "data": {
      "image/png": "[encoded data removed]",
      "text/plain": [
       "<Figure size 360x360 with 1 Axes>"
      ]
     },
     "metadata": {
      "needs_background": "light"
     },
     "output_type": "display_data"
    }
   ],
   "source": [
    "draw_histogram(df, column='vehicle_type', title='тип автомобиля', bins=30,\n",
    "               rotation=45)"
   ]
  },
  {
   "cell_type": "markdown",
   "metadata": {},
   "source": [
    "Неадекватных данных не обнаружено\n",
    "\n",
    "Boxplot по типам автомобилей не показатален, его не строим"
   ]
  },
  {
   "cell_type": "markdown",
   "metadata": {},
   "source": [
    "Далее потроим графики и проверим год регистрации автомобиля"
   ]
  },
  {
   "cell_type": "code",
   "execution_count": 24,
   "metadata": {
    "scrolled": true
   },
   "outputs": [
    {
     "data": {
      "text/plain": [
       "<Figure size 1008x360 with 0 Axes>"
      ]
     },
     "metadata": {},
     "output_type": "display_data"
    },
    {
     "data": {
      "image/png": "[encoded data removed]",
      "text/plain": [
       "<Figure size 360x360 with 1 Axes>"
      ]
     },
     "metadata": {
      "needs_background": "light"
     },
     "output_type": "display_data"
    }
   ],
   "source": [
    "draw_histogram(df, column='registration_year', title='год регистрации автомобиля',bins=60,\n",
    "               xlabel='год регистрации', ylabel='количество автомобилей')"
   ]
  },
  {
   "cell_type": "markdown",
   "metadata": {},
   "source": [
    "Данные выглядят адекватными на графике не видно выбросов"
   ]
  },
  {
   "cell_type": "code",
   "execution_count": 25,
   "metadata": {},
   "outputs": [
    {
     "data": {
      "image/png": "[encoded data removed]",
      "text/plain": [
       "<Figure size 1008x360 with 1 Axes>"
      ]
     },
     "metadata": {
      "needs_background": "light"
     },
     "output_type": "display_data"
    }
   ],
   "source": [
    "draw_boxplot(df, column='registration_year', title='год регистрации автомобиля')"
   ]
  },
  {
   "cell_type": "markdown",
   "metadata": {},
   "source": [
    "Заметны выбросы, график показывает выбросы, примерно до конца 1980х"
   ]
  },
  {
   "cell_type": "code",
   "execution_count": 26,
   "metadata": {
    "scrolled": true
   },
   "outputs": [
    {
     "data": {
      "text/plain": [
       "9999       26\n",
       "9996        1\n",
       "9450        1\n",
       "9229        1\n",
       "9000        3\n",
       "8888        1\n",
       "8500        1\n",
       "8455        1\n",
       "8200        1\n",
       "8000        2\n",
       "7800        1\n",
       "7500        1\n",
       "7100        1\n",
       "7000        4\n",
       "6500        1\n",
       "6000        5\n",
       "5911        2\n",
       "5900        1\n",
       "5600        1\n",
       "5555        2\n",
       "5300        1\n",
       "5000       17\n",
       "4800        1\n",
       "4500        2\n",
       "4100        1\n",
       "4000        3\n",
       "3800        1\n",
       "3700        1\n",
       "3500        1\n",
       "3200        1\n",
       "3000        7\n",
       "2900        1\n",
       "2800        2\n",
       "2500        4\n",
       "2290        1\n",
       "2222        2\n",
       "2200        1\n",
       "2066        1\n",
       "2019       25\n",
       "2018     3959\n",
       "2017    10441\n",
       "2016     9599\n",
       "2015     1302\n",
       "2014     2537\n",
       "2013     4131\n",
       "2012     7178\n",
       "2011     9909\n",
       "2010    10764\n",
       "2009    14503\n",
       "2008    15391\n",
       "2007    17183\n",
       "2006    19900\n",
       "2005    22109\n",
       "2004    19611\n",
       "2003    19763\n",
       "2002    19092\n",
       "2001    20124\n",
       "2000    24490\n",
       "1999    22728\n",
       "1998    17899\n",
       "1997    14666\n",
       "1996    10835\n",
       "1995     9607\n",
       "1994     4841\n",
       "1993     3438\n",
       "1992     3002\n",
       "1991     2762\n",
       "1990     2806\n",
       "1989     1318\n",
       "1988      942\n",
       "1987      667\n",
       "1986      538\n",
       "1985      756\n",
       "1984      399\n",
       "1983      430\n",
       "1982      316\n",
       "1981      263\n",
       "1980      588\n",
       "1979      283\n",
       "1978      285\n",
       "1977      173\n",
       "1976      175\n",
       "1975      143\n",
       "1974      169\n",
       "1973      173\n",
       "1972      213\n",
       "1971      167\n",
       "1970      333\n",
       "1969      118\n",
       "1968      108\n",
       "1967       99\n",
       "1966      113\n",
       "1965       82\n",
       "1964       64\n",
       "1963       57\n",
       "1962       46\n",
       "1961       41\n",
       "1960      188\n",
       "1959       32\n",
       "1958       25\n",
       "1957       13\n",
       "1956       27\n",
       "1955       15\n",
       "1954       11\n",
       "1953       14\n",
       "1952        9\n",
       "1951       12\n",
       "1950       18\n",
       "1949        1\n",
       "1948        3\n",
       "1947        2\n",
       "1946        1\n",
       "1945        4\n",
       "1944        2\n",
       "1943        4\n",
       "1942        3\n",
       "1941        2\n",
       "1940        2\n",
       "1938        8\n",
       "1937       11\n",
       "1936        3\n",
       "1935        4\n",
       "1934        3\n",
       "1933        3\n",
       "1932        3\n",
       "1931        1\n",
       "1930        3\n",
       "1929        7\n",
       "1928        2\n",
       "1927        1\n",
       "1925        1\n",
       "1923        2\n",
       "1920        1\n",
       "1919        1\n",
       "1915        1\n",
       "1910      101\n",
       "1800        5\n",
       "1688        1\n",
       "1602        1\n",
       "1600        2\n",
       "1500        5\n",
       "1400        1\n",
       "1300        2\n",
       "1255        1\n",
       "1253        1\n",
       "1234        4\n",
       "1200        1\n",
       "1111        3\n",
       "1039        1\n",
       "1001        1\n",
       "1000       37\n",
       "Name: registration_year, dtype: int64"
      ]
     },
     "execution_count": 26,
     "metadata": {},
     "output_type": "execute_result"
    }
   ],
   "source": [
    "pd.set_option('display.max_columns', None)\n",
    "pd.set_option('display.max_rows', None)\n",
    "df['registration_year'].value_counts().sort_index(ascending=False)"
   ]
  },
  {
   "cell_type": "markdown",
   "metadata": {},
   "source": [
    "Удалим данные до 1970 года."
   ]
  },
  {
   "cell_type": "code",
   "execution_count": 27,
   "metadata": {},
   "outputs": [
    {
     "data": {
      "image/png": "[encoded data removed]",
      "text/plain": [
       "<Figure size 1008x360 with 1 Axes>"
      ]
     },
     "metadata": {
      "needs_background": "light"
     },
     "output_type": "display_data"
    }
   ],
   "source": [
    "df = df.query('registration_year > 1970')\n",
    "# проверка\n",
    "draw_boxplot(df, column='registration_year', title='год регистрации автомобиля')"
   ]
  },
  {
   "cell_type": "code",
   "execution_count": 28,
   "metadata": {},
   "outputs": [
    {
     "data": {
      "text/plain": [
       "9999"
      ]
     },
     "execution_count": 28,
     "metadata": {},
     "output_type": "execute_result"
    }
   ],
   "source": [
    "df['registration_year'].max()"
   ]
  },
  {
   "cell_type": "markdown",
   "metadata": {},
   "source": [
    "Оставим данные по автомобиля с регистрацией по 2016 год включительно"
   ]
  },
  {
   "cell_type": "code",
   "execution_count": 29,
   "metadata": {},
   "outputs": [],
   "source": [
    "df = df.query('registration_year < 2017')"
   ]
  },
  {
   "cell_type": "code",
   "execution_count": 30,
   "metadata": {},
   "outputs": [
    {
     "data": {
      "text/html": [
       "<div>\n",
       "<style scoped>\n",
       "    .dataframe tbody tr th:only-of-type {\n",
       "        vertical-align: middle;\n",
       "    }\n",
       "\n",
       "    .dataframe tbody tr th {\n",
       "        vertical-align: top;\n",
       "    }\n",
       "\n",
       "    .dataframe thead th {\n",
       "        text-align: right;\n",
       "    }\n",
       "</style>\n",
       "<table border=\"1\" class=\"dataframe\">\n",
       "  <thead>\n",
       "    <tr style=\"text-align: right;\">\n",
       "      <th></th>\n",
       "      <th>date_crawled</th>\n",
       "      <th>registration_year</th>\n",
       "    </tr>\n",
       "  </thead>\n",
       "  <tbody>\n",
       "    <tr>\n",
       "      <th>0</th>\n",
       "      <td>2016-03-24 11:52:17</td>\n",
       "      <td>1993</td>\n",
       "    </tr>\n",
       "    <tr>\n",
       "      <th>1</th>\n",
       "      <td>2016-03-24 10:58:45</td>\n",
       "      <td>2011</td>\n",
       "    </tr>\n",
       "    <tr>\n",
       "      <th>2</th>\n",
       "      <td>2016-03-14 12:52:21</td>\n",
       "      <td>2004</td>\n",
       "    </tr>\n",
       "    <tr>\n",
       "      <th>3</th>\n",
       "      <td>2016-03-17 16:54:04</td>\n",
       "      <td>2001</td>\n",
       "    </tr>\n",
       "    <tr>\n",
       "      <th>4</th>\n",
       "      <td>2016-03-31 17:25:20</td>\n",
       "      <td>2008</td>\n",
       "    </tr>\n",
       "    <tr>\n",
       "      <th>5</th>\n",
       "      <td>2016-04-04 17:36:23</td>\n",
       "      <td>1995</td>\n",
       "    </tr>\n",
       "    <tr>\n",
       "      <th>6</th>\n",
       "      <td>2016-04-01 20:48:51</td>\n",
       "      <td>2004</td>\n",
       "    </tr>\n",
       "    <tr>\n",
       "      <th>7</th>\n",
       "      <td>2016-03-21 18:54:38</td>\n",
       "      <td>1980</td>\n",
       "    </tr>\n",
       "    <tr>\n",
       "      <th>8</th>\n",
       "      <td>2016-04-04 23:42:13</td>\n",
       "      <td>2014</td>\n",
       "    </tr>\n",
       "    <tr>\n",
       "      <th>9</th>\n",
       "      <td>2016-03-17 10:53:50</td>\n",
       "      <td>1998</td>\n",
       "    </tr>\n",
       "    <tr>\n",
       "      <th>10</th>\n",
       "      <td>2016-03-26 19:54:18</td>\n",
       "      <td>2004</td>\n",
       "    </tr>\n",
       "    <tr>\n",
       "      <th>11</th>\n",
       "      <td>2016-04-07 10:06:22</td>\n",
       "      <td>2005</td>\n",
       "    </tr>\n",
       "    <tr>\n",
       "      <th>12</th>\n",
       "      <td>2016-03-15 22:49:09</td>\n",
       "      <td>1995</td>\n",
       "    </tr>\n",
       "    <tr>\n",
       "      <th>13</th>\n",
       "      <td>2016-03-21 21:37:40</td>\n",
       "      <td>2004</td>\n",
       "    </tr>\n",
       "    <tr>\n",
       "      <th>14</th>\n",
       "      <td>2016-03-21 12:57:01</td>\n",
       "      <td>2011</td>\n",
       "    </tr>\n",
       "    <tr>\n",
       "      <th>16</th>\n",
       "      <td>2016-04-01 12:46:46</td>\n",
       "      <td>2016</td>\n",
       "    </tr>\n",
       "    <tr>\n",
       "      <th>17</th>\n",
       "      <td>2016-03-20 10:25:19</td>\n",
       "      <td>2004</td>\n",
       "    </tr>\n",
       "    <tr>\n",
       "      <th>18</th>\n",
       "      <td>2016-03-23 15:48:05</td>\n",
       "      <td>2007</td>\n",
       "    </tr>\n",
       "    <tr>\n",
       "      <th>19</th>\n",
       "      <td>2016-04-01 22:55:47</td>\n",
       "      <td>2004</td>\n",
       "    </tr>\n",
       "    <tr>\n",
       "      <th>20</th>\n",
       "      <td>2016-04-01 19:56:48</td>\n",
       "      <td>2009</td>\n",
       "    </tr>\n",
       "    <tr>\n",
       "      <th>21</th>\n",
       "      <td>2016-03-27 11:38:00</td>\n",
       "      <td>2002</td>\n",
       "    </tr>\n",
       "    <tr>\n",
       "      <th>23</th>\n",
       "      <td>2016-03-12 19:43:07</td>\n",
       "      <td>1997</td>\n",
       "    </tr>\n",
       "    <tr>\n",
       "      <th>24</th>\n",
       "      <td>2016-03-13 20:40:49</td>\n",
       "      <td>1990</td>\n",
       "    </tr>\n",
       "    <tr>\n",
       "      <th>25</th>\n",
       "      <td>2016-03-18 21:44:09</td>\n",
       "      <td>2002</td>\n",
       "    </tr>\n",
       "    <tr>\n",
       "      <th>27</th>\n",
       "      <td>2016-03-07 12:51:23</td>\n",
       "      <td>2008</td>\n",
       "    </tr>\n",
       "    <tr>\n",
       "      <th>28</th>\n",
       "      <td>2016-03-09 11:56:38</td>\n",
       "      <td>1981</td>\n",
       "    </tr>\n",
       "    <tr>\n",
       "      <th>29</th>\n",
       "      <td>2016-03-08 19:55:19</td>\n",
       "      <td>2003</td>\n",
       "    </tr>\n",
       "    <tr>\n",
       "      <th>30</th>\n",
       "      <td>2016-04-03 15:48:11</td>\n",
       "      <td>1995</td>\n",
       "    </tr>\n",
       "    <tr>\n",
       "      <th>31</th>\n",
       "      <td>2016-03-29 16:57:02</td>\n",
       "      <td>2016</td>\n",
       "    </tr>\n",
       "    <tr>\n",
       "      <th>32</th>\n",
       "      <td>2016-03-15 20:59:01</td>\n",
       "      <td>1994</td>\n",
       "    </tr>\n",
       "    <tr>\n",
       "      <th>33</th>\n",
       "      <td>2016-03-25 21:48:47</td>\n",
       "      <td>2007</td>\n",
       "    </tr>\n",
       "    <tr>\n",
       "      <th>34</th>\n",
       "      <td>2016-03-17 18:55:12</td>\n",
       "      <td>2004</td>\n",
       "    </tr>\n",
       "    <tr>\n",
       "      <th>35</th>\n",
       "      <td>2016-03-08 07:54:46</td>\n",
       "      <td>2016</td>\n",
       "    </tr>\n",
       "    <tr>\n",
       "      <th>36</th>\n",
       "      <td>2016-03-11 11:50:37</td>\n",
       "      <td>1991</td>\n",
       "    </tr>\n",
       "    <tr>\n",
       "      <th>37</th>\n",
       "      <td>2016-03-28 17:50:15</td>\n",
       "      <td>2016</td>\n",
       "    </tr>\n",
       "    <tr>\n",
       "      <th>38</th>\n",
       "      <td>2016-04-01 17:45:07</td>\n",
       "      <td>2002</td>\n",
       "    </tr>\n",
       "    <tr>\n",
       "      <th>39</th>\n",
       "      <td>2016-03-25 15:50:30</td>\n",
       "      <td>1984</td>\n",
       "    </tr>\n",
       "    <tr>\n",
       "      <th>40</th>\n",
       "      <td>2016-03-26 22:06:17</td>\n",
       "      <td>1990</td>\n",
       "    </tr>\n",
       "    <tr>\n",
       "      <th>41</th>\n",
       "      <td>2016-03-30 20:38:20</td>\n",
       "      <td>2002</td>\n",
       "    </tr>\n",
       "    <tr>\n",
       "      <th>42</th>\n",
       "      <td>2016-03-24 00:52:09</td>\n",
       "      <td>2006</td>\n",
       "    </tr>\n",
       "    <tr>\n",
       "      <th>43</th>\n",
       "      <td>2016-03-13 15:47:08</td>\n",
       "      <td>2007</td>\n",
       "    </tr>\n",
       "    <tr>\n",
       "      <th>44</th>\n",
       "      <td>2016-03-17 12:44:43</td>\n",
       "      <td>2008</td>\n",
       "    </tr>\n",
       "    <tr>\n",
       "      <th>45</th>\n",
       "      <td>2016-03-29 18:57:46</td>\n",
       "      <td>1999</td>\n",
       "    </tr>\n",
       "    <tr>\n",
       "      <th>46</th>\n",
       "      <td>2016-03-15 18:59:02</td>\n",
       "      <td>2007</td>\n",
       "    </tr>\n",
       "    <tr>\n",
       "      <th>47</th>\n",
       "      <td>2016-04-04 00:38:22</td>\n",
       "      <td>1998</td>\n",
       "    </tr>\n",
       "    <tr>\n",
       "      <th>49</th>\n",
       "      <td>2016-04-04 14:06:22</td>\n",
       "      <td>2012</td>\n",
       "    </tr>\n",
       "    <tr>\n",
       "      <th>50</th>\n",
       "      <td>2016-03-30 08:50:37</td>\n",
       "      <td>2008</td>\n",
       "    </tr>\n",
       "    <tr>\n",
       "      <th>52</th>\n",
       "      <td>2016-04-04 10:57:36</td>\n",
       "      <td>2016</td>\n",
       "    </tr>\n",
       "    <tr>\n",
       "      <th>53</th>\n",
       "      <td>2016-03-29 18:53:48</td>\n",
       "      <td>2008</td>\n",
       "    </tr>\n",
       "    <tr>\n",
       "      <th>54</th>\n",
       "      <td>2016-03-17 07:56:40</td>\n",
       "      <td>2005</td>\n",
       "    </tr>\n",
       "    <tr>\n",
       "      <th>55</th>\n",
       "      <td>2016-03-26 10:39:35</td>\n",
       "      <td>1999</td>\n",
       "    </tr>\n",
       "    <tr>\n",
       "      <th>56</th>\n",
       "      <td>2016-03-22 17:56:12</td>\n",
       "      <td>2006</td>\n",
       "    </tr>\n",
       "    <tr>\n",
       "      <th>58</th>\n",
       "      <td>2016-03-31 08:57:44</td>\n",
       "      <td>1998</td>\n",
       "    </tr>\n",
       "    <tr>\n",
       "      <th>59</th>\n",
       "      <td>2016-03-29 15:48:15</td>\n",
       "      <td>1994</td>\n",
       "    </tr>\n",
       "    <tr>\n",
       "      <th>60</th>\n",
       "      <td>2016-03-26 07:54:29</td>\n",
       "      <td>1995</td>\n",
       "    </tr>\n",
       "    <tr>\n",
       "      <th>61</th>\n",
       "      <td>2016-03-25 19:44:06</td>\n",
       "      <td>2004</td>\n",
       "    </tr>\n",
       "    <tr>\n",
       "      <th>62</th>\n",
       "      <td>2016-03-30 12:49:54</td>\n",
       "      <td>2010</td>\n",
       "    </tr>\n",
       "    <tr>\n",
       "      <th>63</th>\n",
       "      <td>2016-03-08 12:54:47</td>\n",
       "      <td>2006</td>\n",
       "    </tr>\n",
       "    <tr>\n",
       "      <th>64</th>\n",
       "      <td>2016-03-07 22:36:54</td>\n",
       "      <td>2007</td>\n",
       "    </tr>\n",
       "    <tr>\n",
       "      <th>66</th>\n",
       "      <td>2016-03-15 14:50:24</td>\n",
       "      <td>2008</td>\n",
       "    </tr>\n",
       "    <tr>\n",
       "      <th>67</th>\n",
       "      <td>2016-03-21 12:47:55</td>\n",
       "      <td>2000</td>\n",
       "    </tr>\n",
       "    <tr>\n",
       "      <th>68</th>\n",
       "      <td>2016-03-15 09:51:05</td>\n",
       "      <td>1992</td>\n",
       "    </tr>\n",
       "    <tr>\n",
       "      <th>69</th>\n",
       "      <td>2016-04-01 11:56:40</td>\n",
       "      <td>2001</td>\n",
       "    </tr>\n",
       "    <tr>\n",
       "      <th>70</th>\n",
       "      <td>2016-03-08 01:36:42</td>\n",
       "      <td>1993</td>\n",
       "    </tr>\n",
       "    <tr>\n",
       "      <th>71</th>\n",
       "      <td>2016-03-07 08:55:18</td>\n",
       "      <td>1997</td>\n",
       "    </tr>\n",
       "    <tr>\n",
       "      <th>72</th>\n",
       "      <td>2016-03-05 16:45:05</td>\n",
       "      <td>2002</td>\n",
       "    </tr>\n",
       "    <tr>\n",
       "      <th>73</th>\n",
       "      <td>2016-03-22 17:45:41</td>\n",
       "      <td>2008</td>\n",
       "    </tr>\n",
       "    <tr>\n",
       "      <th>74</th>\n",
       "      <td>2016-03-31 18:46:36</td>\n",
       "      <td>2006</td>\n",
       "    </tr>\n",
       "    <tr>\n",
       "      <th>75</th>\n",
       "      <td>2016-03-17 09:48:12</td>\n",
       "      <td>2013</td>\n",
       "    </tr>\n",
       "    <tr>\n",
       "      <th>76</th>\n",
       "      <td>2016-03-11 14:50:52</td>\n",
       "      <td>2003</td>\n",
       "    </tr>\n",
       "    <tr>\n",
       "      <th>77</th>\n",
       "      <td>2016-03-31 22:48:06</td>\n",
       "      <td>2000</td>\n",
       "    </tr>\n",
       "    <tr>\n",
       "      <th>78</th>\n",
       "      <td>2016-03-10 10:50:26</td>\n",
       "      <td>2006</td>\n",
       "    </tr>\n",
       "    <tr>\n",
       "      <th>79</th>\n",
       "      <td>2016-03-17 18:52:56</td>\n",
       "      <td>2016</td>\n",
       "    </tr>\n",
       "    <tr>\n",
       "      <th>80</th>\n",
       "      <td>2016-04-01 22:39:35</td>\n",
       "      <td>2000</td>\n",
       "    </tr>\n",
       "    <tr>\n",
       "      <th>81</th>\n",
       "      <td>2016-04-03 12:56:45</td>\n",
       "      <td>1997</td>\n",
       "    </tr>\n",
       "    <tr>\n",
       "      <th>82</th>\n",
       "      <td>2016-03-09 21:46:09</td>\n",
       "      <td>1994</td>\n",
       "    </tr>\n",
       "    <tr>\n",
       "      <th>83</th>\n",
       "      <td>2016-03-23 18:59:37</td>\n",
       "      <td>2005</td>\n",
       "    </tr>\n",
       "    <tr>\n",
       "      <th>84</th>\n",
       "      <td>2016-03-12 19:46:54</td>\n",
       "      <td>1997</td>\n",
       "    </tr>\n",
       "    <tr>\n",
       "      <th>85</th>\n",
       "      <td>2016-03-29 14:58:15</td>\n",
       "      <td>2005</td>\n",
       "    </tr>\n",
       "    <tr>\n",
       "      <th>86</th>\n",
       "      <td>2016-03-13 19:52:34</td>\n",
       "      <td>2001</td>\n",
       "    </tr>\n",
       "    <tr>\n",
       "      <th>87</th>\n",
       "      <td>2016-03-08 13:49:57</td>\n",
       "      <td>2009</td>\n",
       "    </tr>\n",
       "    <tr>\n",
       "      <th>88</th>\n",
       "      <td>2016-03-07 17:38:57</td>\n",
       "      <td>2004</td>\n",
       "    </tr>\n",
       "    <tr>\n",
       "      <th>89</th>\n",
       "      <td>2016-03-28 09:37:01</td>\n",
       "      <td>1995</td>\n",
       "    </tr>\n",
       "    <tr>\n",
       "      <th>90</th>\n",
       "      <td>2016-03-23 11:53:21</td>\n",
       "      <td>2003</td>\n",
       "    </tr>\n",
       "    <tr>\n",
       "      <th>91</th>\n",
       "      <td>2016-04-02 23:25:25</td>\n",
       "      <td>1984</td>\n",
       "    </tr>\n",
       "    <tr>\n",
       "      <th>92</th>\n",
       "      <td>2016-03-16 07:56:19</td>\n",
       "      <td>2000</td>\n",
       "    </tr>\n",
       "    <tr>\n",
       "      <th>93</th>\n",
       "      <td>2016-03-10 11:44:54</td>\n",
       "      <td>2013</td>\n",
       "    </tr>\n",
       "    <tr>\n",
       "      <th>94</th>\n",
       "      <td>2016-03-28 16:37:43</td>\n",
       "      <td>2009</td>\n",
       "    </tr>\n",
       "    <tr>\n",
       "      <th>95</th>\n",
       "      <td>2016-03-25 18:44:10</td>\n",
       "      <td>2003</td>\n",
       "    </tr>\n",
       "    <tr>\n",
       "      <th>96</th>\n",
       "      <td>2016-03-26 15:38:12</td>\n",
       "      <td>2008</td>\n",
       "    </tr>\n",
       "    <tr>\n",
       "      <th>97</th>\n",
       "      <td>2016-04-01 12:45:41</td>\n",
       "      <td>1999</td>\n",
       "    </tr>\n",
       "    <tr>\n",
       "      <th>98</th>\n",
       "      <td>2016-03-11 19:00:25</td>\n",
       "      <td>2008</td>\n",
       "    </tr>\n",
       "    <tr>\n",
       "      <th>99</th>\n",
       "      <td>2016-03-28 00:56:46</td>\n",
       "      <td>2006</td>\n",
       "    </tr>\n",
       "    <tr>\n",
       "      <th>100</th>\n",
       "      <td>2016-03-15 17:41:31</td>\n",
       "      <td>1995</td>\n",
       "    </tr>\n",
       "    <tr>\n",
       "      <th>101</th>\n",
       "      <td>2016-04-01 09:54:39</td>\n",
       "      <td>2004</td>\n",
       "    </tr>\n",
       "    <tr>\n",
       "      <th>102</th>\n",
       "      <td>2016-03-26 07:36:20</td>\n",
       "      <td>1999</td>\n",
       "    </tr>\n",
       "    <tr>\n",
       "      <th>103</th>\n",
       "      <td>2016-03-21 10:47:53</td>\n",
       "      <td>1997</td>\n",
       "    </tr>\n",
       "    <tr>\n",
       "      <th>104</th>\n",
       "      <td>2016-03-20 12:59:39</td>\n",
       "      <td>1992</td>\n",
       "    </tr>\n",
       "    <tr>\n",
       "      <th>105</th>\n",
       "      <td>2016-04-02 12:54:14</td>\n",
       "      <td>1999</td>\n",
       "    </tr>\n",
       "    <tr>\n",
       "      <th>106</th>\n",
       "      <td>2016-03-23 10:59:51</td>\n",
       "      <td>1997</td>\n",
       "    </tr>\n",
       "  </tbody>\n",
       "</table>\n",
       "</div>"
      ],
      "text/plain": [
       "            date_crawled  registration_year\n",
       "0    2016-03-24 11:52:17               1993\n",
       "1    2016-03-24 10:58:45               2011\n",
       "2    2016-03-14 12:52:21               2004\n",
       "3    2016-03-17 16:54:04               2001\n",
       "4    2016-03-31 17:25:20               2008\n",
       "5    2016-04-04 17:36:23               1995\n",
       "6    2016-04-01 20:48:51               2004\n",
       "7    2016-03-21 18:54:38               1980\n",
       "8    2016-04-04 23:42:13               2014\n",
       "9    2016-03-17 10:53:50               1998\n",
       "10   2016-03-26 19:54:18               2004\n",
       "11   2016-04-07 10:06:22               2005\n",
       "12   2016-03-15 22:49:09               1995\n",
       "13   2016-03-21 21:37:40               2004\n",
       "14   2016-03-21 12:57:01               2011\n",
       "16   2016-04-01 12:46:46               2016\n",
       "17   2016-03-20 10:25:19               2004\n",
       "18   2016-03-23 15:48:05               2007\n",
       "19   2016-04-01 22:55:47               2004\n",
       "20   2016-04-01 19:56:48               2009\n",
       "21   2016-03-27 11:38:00               2002\n",
       "23   2016-03-12 19:43:07               1997\n",
       "24   2016-03-13 20:40:49               1990\n",
       "25   2016-03-18 21:44:09               2002\n",
       "27   2016-03-07 12:51:23               2008\n",
       "28   2016-03-09 11:56:38               1981\n",
       "29   2016-03-08 19:55:19               2003\n",
       "30   2016-04-03 15:48:11               1995\n",
       "31   2016-03-29 16:57:02               2016\n",
       "32   2016-03-15 20:59:01               1994\n",
       "33   2016-03-25 21:48:47               2007\n",
       "34   2016-03-17 18:55:12               2004\n",
       "35   2016-03-08 07:54:46               2016\n",
       "36   2016-03-11 11:50:37               1991\n",
       "37   2016-03-28 17:50:15               2016\n",
       "38   2016-04-01 17:45:07               2002\n",
       "39   2016-03-25 15:50:30               1984\n",
       "40   2016-03-26 22:06:17               1990\n",
       "41   2016-03-30 20:38:20               2002\n",
       "42   2016-03-24 00:52:09               2006\n",
       "43   2016-03-13 15:47:08               2007\n",
       "44   2016-03-17 12:44:43               2008\n",
       "45   2016-03-29 18:57:46               1999\n",
       "46   2016-03-15 18:59:02               2007\n",
       "47   2016-04-04 00:38:22               1998\n",
       "49   2016-04-04 14:06:22               2012\n",
       "50   2016-03-30 08:50:37               2008\n",
       "52   2016-04-04 10:57:36               2016\n",
       "53   2016-03-29 18:53:48               2008\n",
       "54   2016-03-17 07:56:40               2005\n",
       "55   2016-03-26 10:39:35               1999\n",
       "56   2016-03-22 17:56:12               2006\n",
       "58   2016-03-31 08:57:44               1998\n",
       "59   2016-03-29 15:48:15               1994\n",
       "60   2016-03-26 07:54:29               1995\n",
       "61   2016-03-25 19:44:06               2004\n",
       "62   2016-03-30 12:49:54               2010\n",
       "63   2016-03-08 12:54:47               2006\n",
       "64   2016-03-07 22:36:54               2007\n",
       "66   2016-03-15 14:50:24               2008\n",
       "67   2016-03-21 12:47:55               2000\n",
       "68   2016-03-15 09:51:05               1992\n",
       "69   2016-04-01 11:56:40               2001\n",
       "70   2016-03-08 01:36:42               1993\n",
       "71   2016-03-07 08:55:18               1997\n",
       "72   2016-03-05 16:45:05               2002\n",
       "73   2016-03-22 17:45:41               2008\n",
       "74   2016-03-31 18:46:36               2006\n",
       "75   2016-03-17 09:48:12               2013\n",
       "76   2016-03-11 14:50:52               2003\n",
       "77   2016-03-31 22:48:06               2000\n",
       "78   2016-03-10 10:50:26               2006\n",
       "79   2016-03-17 18:52:56               2016\n",
       "80   2016-04-01 22:39:35               2000\n",
       "81   2016-04-03 12:56:45               1997\n",
       "82   2016-03-09 21:46:09               1994\n",
       "83   2016-03-23 18:59:37               2005\n",
       "84   2016-03-12 19:46:54               1997\n",
       "85   2016-03-29 14:58:15               2005\n",
       "86   2016-03-13 19:52:34               2001\n",
       "87   2016-03-08 13:49:57               2009\n",
       "88   2016-03-07 17:38:57               2004\n",
       "89   2016-03-28 09:37:01               1995\n",
       "90   2016-03-23 11:53:21               2003\n",
       "91   2016-04-02 23:25:25               1984\n",
       "92   2016-03-16 07:56:19               2000\n",
       "93   2016-03-10 11:44:54               2013\n",
       "94   2016-03-28 16:37:43               2009\n",
       "95   2016-03-25 18:44:10               2003\n",
       "96   2016-03-26 15:38:12               2008\n",
       "97   2016-04-01 12:45:41               1999\n",
       "98   2016-03-11 19:00:25               2008\n",
       "99   2016-03-28 00:56:46               2006\n",
       "100  2016-03-15 17:41:31               1995\n",
       "101  2016-04-01 09:54:39               2004\n",
       "102  2016-03-26 07:36:20               1999\n",
       "103  2016-03-21 10:47:53               1997\n",
       "104  2016-03-20 12:59:39               1992\n",
       "105  2016-04-02 12:54:14               1999\n",
       "106  2016-03-23 10:59:51               1997"
      ]
     },
     "execution_count": 30,
     "metadata": {},
     "output_type": "execute_result"
    }
   ],
   "source": [
    "df[['date_crawled', 'registration_year']].head(100)"
   ]
  },
  {
   "cell_type": "markdown",
   "metadata": {},
   "source": [
    "Далее проверим разделение по коробке передач"
   ]
  },
  {
   "cell_type": "code",
   "execution_count": 31,
   "metadata": {},
   "outputs": [
    {
     "data": {
      "text/plain": [
       "<Figure size 1008x360 with 0 Axes>"
      ]
     },
     "metadata": {},
     "output_type": "display_data"
    },
    {
     "data": {
      "image/png": "[encoded data removed]",
      "text/plain": [
       "<Figure size 360x360 with 1 Axes>"
      ]
     },
     "metadata": {
      "needs_background": "light"
     },
     "output_type": "display_data"
    }
   ],
   "source": [
    "draw_histogram(df, column='gearbox', title='тип коробки передач автомобиля',bins=2,\n",
    "               xlabel='тип коробки передач', ylabel='количество автомобилей')\n"
   ]
  },
  {
   "cell_type": "markdown",
   "metadata": {},
   "source": [
    "Аномалий не обнаружено.\n",
    "Boxplot по типк коробки передач не информативен"
   ]
  },
  {
   "cell_type": "markdown",
   "metadata": {},
   "source": [
    "Далее проверим мощность двигателя"
   ]
  },
  {
   "cell_type": "code",
   "execution_count": 32,
   "metadata": {
    "scrolled": false
   },
   "outputs": [
    {
     "data": {
      "text/plain": [
       "<Figure size 1008x1440 with 0 Axes>"
      ]
     },
     "metadata": {},
     "output_type": "display_data"
    },
    {
     "data": {
      "image/png": "[encoded data removed]",
      "text/plain": [
       "<Figure size 360x360 with 1 Axes>"
      ]
     },
     "metadata": {
      "needs_background": "light"
     },
     "output_type": "display_data"
    }
   ],
   "source": [
    "draw_histogram(df, column='power', title='мощность двигателя',bins=300, figsize=(14,20),\n",
    "               xlabel='мощность в л.с.', ylabel='количество автомобилей')\n"
   ]
  },
  {
   "cell_type": "markdown",
   "metadata": {},
   "source": [
    "Явно есть выборосы. Построим boxplot"
   ]
  },
  {
   "cell_type": "code",
   "execution_count": 33,
   "metadata": {
    "scrolled": true
   },
   "outputs": [
    {
     "data": {
      "image/png": "[encoded data removed]",
      "text/plain": [
       "<Figure size 1008x360 with 1 Axes>"
      ]
     },
     "metadata": {
      "needs_background": "light"
     },
     "output_type": "display_data"
    }
   ],
   "source": [
    "draw_boxplot(df, column='power', title='мощность двигателя')"
   ]
  },
  {
   "cell_type": "code",
   "execution_count": 34,
   "metadata": {},
   "outputs": [
    {
     "data": {
      "text/plain": [
       "count    338168.000000\n",
       "mean        111.217185\n",
       "std         185.151538\n",
       "min           0.000000\n",
       "25%          69.000000\n",
       "50%         105.000000\n",
       "75%         143.000000\n",
       "max       20000.000000\n",
       "Name: power, dtype: float64"
      ]
     },
     "execution_count": 34,
     "metadata": {},
     "output_type": "execute_result"
    }
   ],
   "source": [
    "df['power'].describe()"
   ]
  },
  {
   "cell_type": "markdown",
   "metadata": {},
   "source": [
    "Большинство двигателей укладываются в диапазон от 75л.с. до 148 л.с.\n",
    "Ограничим диапазон от 50л.с. до 250 л.с."
   ]
  },
  {
   "cell_type": "code",
   "execution_count": 35,
   "metadata": {},
   "outputs": [
    {
     "data": {
      "image/png": "[encoded data removed]",
      "text/plain": [
       "<Figure size 1008x360 with 1 Axes>"
      ]
     },
     "metadata": {
      "needs_background": "light"
     },
     "output_type": "display_data"
    }
   ],
   "source": [
    "df=df.query('50.0 < power < 250.0')\n",
    "# прверка\n",
    "draw_boxplot(df, column='power', title='мощность двигателя')"
   ]
  },
  {
   "cell_type": "markdown",
   "metadata": {},
   "source": [
    "Выбросы удалили."
   ]
  },
  {
   "cell_type": "markdown",
   "metadata": {},
   "source": [
    "Далее проверим пробег"
   ]
  },
  {
   "cell_type": "code",
   "execution_count": 36,
   "metadata": {
    "scrolled": false
   },
   "outputs": [
    {
     "data": {
      "text/plain": [
       "<Figure size 1008x360 with 0 Axes>"
      ]
     },
     "metadata": {},
     "output_type": "display_data"
    },
    {
     "data": {
      "image/png": "[encoded data removed]",
      "text/plain": [
       "<Figure size 360x360 with 1 Axes>"
      ]
     },
     "metadata": {
      "needs_background": "light"
     },
     "output_type": "display_data"
    }
   ],
   "source": [
    "draw_histogram(df, column='kilometer', title='пробег автомобиля',bins=20,\n",
    "               xlabel='пробег', ylabel='количество автомобилей'\n",
    "              )"
   ]
  },
  {
   "cell_type": "markdown",
   "metadata": {},
   "source": [
    "Данные выглядят адекватными."
   ]
  },
  {
   "cell_type": "code",
   "execution_count": 37,
   "metadata": {
    "scrolled": true
   },
   "outputs": [
    {
     "data": {
      "image/png": "[encoded data removed]",
      "text/plain": [
       "<Figure size 1008x360 with 1 Axes>"
      ]
     },
     "metadata": {
      "needs_background": "light"
     },
     "output_type": "display_data"
    }
   ],
   "source": [
    "draw_boxplot(df, column='kilometer', title='пробег автомобиля')"
   ]
  },
  {
   "cell_type": "markdown",
   "metadata": {},
   "source": [
    "Данные выглядят адекватными. Есть выбросы. Это автомобили с малым пробегом. Но и эти данные нам пригодятся."
   ]
  },
  {
   "cell_type": "markdown",
   "metadata": {},
   "source": [
    "Проверим данные по типу топлива."
   ]
  },
  {
   "cell_type": "code",
   "execution_count": 38,
   "metadata": {},
   "outputs": [
    {
     "data": {
      "text/plain": [
       "<Figure size 1008x360 with 0 Axes>"
      ]
     },
     "metadata": {},
     "output_type": "display_data"
    },
    {
     "data": {
      "image/png": "[encoded data removed]",
      "text/plain": [
       "<Figure size 360x360 with 1 Axes>"
      ]
     },
     "metadata": {
      "needs_background": "light"
     },
     "output_type": "display_data"
    }
   ],
   "source": [
    "draw_histogram(df, column='fuel_type', title='тип топлива',bins=10,\n",
    "               xlabel='тип топлива', ylabel='количество автомобилей'\n",
    "              )"
   ]
  },
  {
   "cell_type": "markdown",
   "metadata": {},
   "source": [
    "Данные выглядят адекватными"
   ]
  },
  {
   "cell_type": "markdown",
   "metadata": {},
   "source": [
    "Проверим была ли машина в ремонте "
   ]
  },
  {
   "cell_type": "code",
   "execution_count": 39,
   "metadata": {},
   "outputs": [
    {
     "data": {
      "text/plain": [
       "<Figure size 1008x360 with 0 Axes>"
      ]
     },
     "metadata": {},
     "output_type": "display_data"
    },
    {
     "data": {
      "image/png": "[encoded data removed]",
      "text/plain": [
       "<Figure size 360x360 with 1 Axes>"
      ]
     },
     "metadata": {
      "needs_background": "light"
     },
     "output_type": "display_data"
    }
   ],
   "source": [
    "draw_histogram(df, column='repaired', title='была ли машина в ремонте',bins=30,\n",
    "               xlabel='была ли машина в ремонте', ylabel='количество автомобилей',  rotation=45\n",
    "              )"
   ]
  },
  {
   "cell_type": "markdown",
   "metadata": {},
   "source": [
    "Данные выглядят адекватно"
   ]
  },
  {
   "cell_type": "markdown",
   "metadata": {},
   "source": [
    "Предположим что столбцы:\n",
    "\n",
    "* DateCrawled — дата скачивания анкеты из базы\n",
    "* DateCreated — дата создания анкеты\n",
    "* NumberOfPictures — количество фотографий автомобиля\n",
    "* PostalCode — почтовый индекс владельца анкеты (пользователя)\n",
    "* LastSeen — дата последней активности пользователя\n",
    "\n",
    "Не влияют на стоимость автомобиля. Удалим эти столбцы"
   ]
  },
  {
   "cell_type": "code",
   "execution_count": 40,
   "metadata": {},
   "outputs": [
    {
     "data": {
      "text/html": [
       "<div>\n",
       "<style scoped>\n",
       "    .dataframe tbody tr th:only-of-type {\n",
       "        vertical-align: middle;\n",
       "    }\n",
       "\n",
       "    .dataframe tbody tr th {\n",
       "        vertical-align: top;\n",
       "    }\n",
       "\n",
       "    .dataframe thead th {\n",
       "        text-align: right;\n",
       "    }\n",
       "</style>\n",
       "<table border=\"1\" class=\"dataframe\">\n",
       "  <thead>\n",
       "    <tr style=\"text-align: right;\">\n",
       "      <th></th>\n",
       "      <th>date_crawled</th>\n",
       "      <th>price</th>\n",
       "      <th>vehicle_type</th>\n",
       "      <th>registration_year</th>\n",
       "      <th>gearbox</th>\n",
       "      <th>power</th>\n",
       "      <th>model</th>\n",
       "      <th>kilometer</th>\n",
       "      <th>registration_month</th>\n",
       "      <th>fuel_type</th>\n",
       "      <th>brand</th>\n",
       "      <th>repaired</th>\n",
       "      <th>date_created</th>\n",
       "      <th>number_of_pictures</th>\n",
       "      <th>postal_code</th>\n",
       "      <th>last_seen</th>\n",
       "    </tr>\n",
       "  </thead>\n",
       "  <tbody>\n",
       "    <tr>\n",
       "      <th>1</th>\n",
       "      <td>2016-03-24 10:58:45</td>\n",
       "      <td>18300</td>\n",
       "      <td>coupe</td>\n",
       "      <td>2011</td>\n",
       "      <td>manual</td>\n",
       "      <td>190</td>\n",
       "      <td>unknown</td>\n",
       "      <td>125000</td>\n",
       "      <td>5</td>\n",
       "      <td>gasoline</td>\n",
       "      <td>audi</td>\n",
       "      <td>yes</td>\n",
       "      <td>2016-03-24 00:00:00</td>\n",
       "      <td>0</td>\n",
       "      <td>66954</td>\n",
       "      <td>2016-04-07 01:46:50</td>\n",
       "    </tr>\n",
       "    <tr>\n",
       "      <th>2</th>\n",
       "      <td>2016-03-14 12:52:21</td>\n",
       "      <td>9800</td>\n",
       "      <td>suv</td>\n",
       "      <td>2004</td>\n",
       "      <td>auto</td>\n",
       "      <td>163</td>\n",
       "      <td>grand</td>\n",
       "      <td>125000</td>\n",
       "      <td>8</td>\n",
       "      <td>gasoline</td>\n",
       "      <td>jeep</td>\n",
       "      <td>no</td>\n",
       "      <td>2016-03-14 00:00:00</td>\n",
       "      <td>0</td>\n",
       "      <td>90480</td>\n",
       "      <td>2016-04-05 12:47:46</td>\n",
       "    </tr>\n",
       "    <tr>\n",
       "      <th>3</th>\n",
       "      <td>2016-03-17 16:54:04</td>\n",
       "      <td>1500</td>\n",
       "      <td>small</td>\n",
       "      <td>2001</td>\n",
       "      <td>manual</td>\n",
       "      <td>75</td>\n",
       "      <td>golf</td>\n",
       "      <td>150000</td>\n",
       "      <td>6</td>\n",
       "      <td>petrol</td>\n",
       "      <td>volkswagen</td>\n",
       "      <td>no</td>\n",
       "      <td>2016-03-17 00:00:00</td>\n",
       "      <td>0</td>\n",
       "      <td>91074</td>\n",
       "      <td>2016-03-17 17:40:17</td>\n",
       "    </tr>\n",
       "    <tr>\n",
       "      <th>4</th>\n",
       "      <td>2016-03-31 17:25:20</td>\n",
       "      <td>3600</td>\n",
       "      <td>small</td>\n",
       "      <td>2008</td>\n",
       "      <td>manual</td>\n",
       "      <td>69</td>\n",
       "      <td>fabia</td>\n",
       "      <td>90000</td>\n",
       "      <td>7</td>\n",
       "      <td>gasoline</td>\n",
       "      <td>skoda</td>\n",
       "      <td>no</td>\n",
       "      <td>2016-03-31 00:00:00</td>\n",
       "      <td>0</td>\n",
       "      <td>60437</td>\n",
       "      <td>2016-04-06 10:17:21</td>\n",
       "    </tr>\n",
       "    <tr>\n",
       "      <th>5</th>\n",
       "      <td>2016-04-04 17:36:23</td>\n",
       "      <td>650</td>\n",
       "      <td>sedan</td>\n",
       "      <td>1995</td>\n",
       "      <td>manual</td>\n",
       "      <td>102</td>\n",
       "      <td>3er</td>\n",
       "      <td>150000</td>\n",
       "      <td>10</td>\n",
       "      <td>petrol</td>\n",
       "      <td>bmw</td>\n",
       "      <td>yes</td>\n",
       "      <td>2016-04-04 00:00:00</td>\n",
       "      <td>0</td>\n",
       "      <td>33775</td>\n",
       "      <td>2016-04-06 19:17:07</td>\n",
       "    </tr>\n",
       "  </tbody>\n",
       "</table>\n",
       "</div>"
      ],
      "text/plain": [
       "          date_crawled  price vehicle_type  registration_year gearbox  power  \\\n",
       "1  2016-03-24 10:58:45  18300        coupe               2011  manual    190   \n",
       "2  2016-03-14 12:52:21   9800          suv               2004    auto    163   \n",
       "3  2016-03-17 16:54:04   1500        small               2001  manual     75   \n",
       "4  2016-03-31 17:25:20   3600        small               2008  manual     69   \n",
       "5  2016-04-04 17:36:23    650        sedan               1995  manual    102   \n",
       "\n",
       "     model  kilometer  registration_month fuel_type       brand repaired  \\\n",
       "1  unknown     125000                   5  gasoline        audi      yes   \n",
       "2    grand     125000                   8  gasoline        jeep       no   \n",
       "3     golf     150000                   6    petrol  volkswagen       no   \n",
       "4    fabia      90000                   7  gasoline       skoda       no   \n",
       "5      3er     150000                  10    petrol         bmw      yes   \n",
       "\n",
       "          date_created  number_of_pictures  postal_code            last_seen  \n",
       "1  2016-03-24 00:00:00                   0        66954  2016-04-07 01:46:50  \n",
       "2  2016-03-14 00:00:00                   0        90480  2016-04-05 12:47:46  \n",
       "3  2016-03-17 00:00:00                   0        91074  2016-03-17 17:40:17  \n",
       "4  2016-03-31 00:00:00                   0        60437  2016-04-06 10:17:21  \n",
       "5  2016-04-04 00:00:00                   0        33775  2016-04-06 19:17:07  "
      ]
     },
     "execution_count": 40,
     "metadata": {},
     "output_type": "execute_result"
    }
   ],
   "source": [
    "df.head()"
   ]
  },
  {
   "cell_type": "code",
   "execution_count": 41,
   "metadata": {},
   "outputs": [
    {
     "data": {
      "text/html": [
       "<div>\n",
       "<style scoped>\n",
       "    .dataframe tbody tr th:only-of-type {\n",
       "        vertical-align: middle;\n",
       "    }\n",
       "\n",
       "    .dataframe tbody tr th {\n",
       "        vertical-align: top;\n",
       "    }\n",
       "\n",
       "    .dataframe thead th {\n",
       "        text-align: right;\n",
       "    }\n",
       "</style>\n",
       "<table border=\"1\" class=\"dataframe\">\n",
       "  <thead>\n",
       "    <tr style=\"text-align: right;\">\n",
       "      <th></th>\n",
       "      <th>price</th>\n",
       "      <th>vehicle_type</th>\n",
       "      <th>registration_year</th>\n",
       "      <th>gearbox</th>\n",
       "      <th>power</th>\n",
       "      <th>model</th>\n",
       "      <th>kilometer</th>\n",
       "      <th>registration_month</th>\n",
       "      <th>fuel_type</th>\n",
       "      <th>brand</th>\n",
       "      <th>repaired</th>\n",
       "    </tr>\n",
       "  </thead>\n",
       "  <tbody>\n",
       "    <tr>\n",
       "      <th>1</th>\n",
       "      <td>18300</td>\n",
       "      <td>coupe</td>\n",
       "      <td>2011</td>\n",
       "      <td>manual</td>\n",
       "      <td>190</td>\n",
       "      <td>unknown</td>\n",
       "      <td>125000</td>\n",
       "      <td>5</td>\n",
       "      <td>gasoline</td>\n",
       "      <td>audi</td>\n",
       "      <td>yes</td>\n",
       "    </tr>\n",
       "    <tr>\n",
       "      <th>2</th>\n",
       "      <td>9800</td>\n",
       "      <td>suv</td>\n",
       "      <td>2004</td>\n",
       "      <td>auto</td>\n",
       "      <td>163</td>\n",
       "      <td>grand</td>\n",
       "      <td>125000</td>\n",
       "      <td>8</td>\n",
       "      <td>gasoline</td>\n",
       "      <td>jeep</td>\n",
       "      <td>no</td>\n",
       "    </tr>\n",
       "    <tr>\n",
       "      <th>3</th>\n",
       "      <td>1500</td>\n",
       "      <td>small</td>\n",
       "      <td>2001</td>\n",
       "      <td>manual</td>\n",
       "      <td>75</td>\n",
       "      <td>golf</td>\n",
       "      <td>150000</td>\n",
       "      <td>6</td>\n",
       "      <td>petrol</td>\n",
       "      <td>volkswagen</td>\n",
       "      <td>no</td>\n",
       "    </tr>\n",
       "    <tr>\n",
       "      <th>4</th>\n",
       "      <td>3600</td>\n",
       "      <td>small</td>\n",
       "      <td>2008</td>\n",
       "      <td>manual</td>\n",
       "      <td>69</td>\n",
       "      <td>fabia</td>\n",
       "      <td>90000</td>\n",
       "      <td>7</td>\n",
       "      <td>gasoline</td>\n",
       "      <td>skoda</td>\n",
       "      <td>no</td>\n",
       "    </tr>\n",
       "    <tr>\n",
       "      <th>5</th>\n",
       "      <td>650</td>\n",
       "      <td>sedan</td>\n",
       "      <td>1995</td>\n",
       "      <td>manual</td>\n",
       "      <td>102</td>\n",
       "      <td>3er</td>\n",
       "      <td>150000</td>\n",
       "      <td>10</td>\n",
       "      <td>petrol</td>\n",
       "      <td>bmw</td>\n",
       "      <td>yes</td>\n",
       "    </tr>\n",
       "  </tbody>\n",
       "</table>\n",
       "</div>"
      ],
      "text/plain": [
       "   price vehicle_type  registration_year gearbox  power    model  kilometer  \\\n",
       "1  18300        coupe               2011  manual    190  unknown     125000   \n",
       "2   9800          suv               2004    auto    163    grand     125000   \n",
       "3   1500        small               2001  manual     75     golf     150000   \n",
       "4   3600        small               2008  manual     69    fabia      90000   \n",
       "5    650        sedan               1995  manual    102      3er     150000   \n",
       "\n",
       "   registration_month fuel_type       brand repaired  \n",
       "1                   5  gasoline        audi      yes  \n",
       "2                   8  gasoline        jeep       no  \n",
       "3                   6    petrol  volkswagen       no  \n",
       "4                   7  gasoline       skoda       no  \n",
       "5                  10    petrol         bmw      yes  "
      ]
     },
     "execution_count": 41,
     "metadata": {},
     "output_type": "execute_result"
    }
   ],
   "source": [
    "# сначала сохраним датафрейм\n",
    "df_full = df.copy()\n",
    "\n",
    "# удалим лишние столбцы\n",
    "df.drop(['date_crawled', 'date_created', 'number_of_pictures', 'postal_code', 'last_seen'], axis= 1 , inplace= True)\n",
    "\n",
    "# проверка\n",
    "df.head()"
   ]
  },
  {
   "cell_type": "code",
   "execution_count": 42,
   "metadata": {},
   "outputs": [
    {
     "data": {
      "text/plain": [
       "24720"
      ]
     },
     "execution_count": 42,
     "metadata": {},
     "output_type": "execute_result"
    }
   ],
   "source": [
    "df.duplicated().sum()"
   ]
  },
  {
   "cell_type": "markdown",
   "metadata": {},
   "source": [
    "Считаем подготовку данных оконченной. Удалили пропуски. Пропуски в столбце 'repaired' заменили на данные согласно вероятности распределения. Проверили данные на адекватность и выбросы. Удалили выбросы. Также удалили лишние столбцы, которые не пригодятся в обучении модели."
   ]
  },
  {
   "cell_type": "code",
   "execution_count": 43,
   "metadata": {},
   "outputs": [
    {
     "data": {
      "text/plain": [
       "array([ 5,  8,  6,  7, 10,  0, 12, 11,  2,  3,  1,  4,  9])"
      ]
     },
     "execution_count": 43,
     "metadata": {},
     "output_type": "execute_result"
    }
   ],
   "source": [
    "df.registration_month.unique()"
   ]
  },
  {
   "cell_type": "code",
   "execution_count": 44,
   "metadata": {
    "scrolled": true
   },
   "outputs": [
    {
     "data": {
      "text/plain": [
       "3     29123\n",
       "6     26474\n",
       "4     24718\n",
       "5     24694\n",
       "7     22679\n",
       "10    21971\n",
       "12    20330\n",
       "11    20166\n",
       "9     20114\n",
       "1     19207\n",
       "8     19011\n",
       "0     18124\n",
       "2     18102\n",
       "Name: registration_month, dtype: int64"
      ]
     },
     "execution_count": 44,
     "metadata": {},
     "output_type": "execute_result"
    }
   ],
   "source": [
    "df.registration_month.value_counts()"
   ]
  },
  {
   "cell_type": "markdown",
   "metadata": {},
   "source": [
    "Cудя по количеству месяцев, месяцев 13, что вряд ли. Предположим, что 0 - это не указанный месяц. В таком случае заменим все значения 0 на рандомное в соотвествие распространённостью"
   ]
  },
  {
   "cell_type": "code",
   "execution_count": 45,
   "metadata": {
    "scrolled": true
   },
   "outputs": [
    {
     "data": {
      "text/plain": [
       "array([ 5.,  8.,  6.,  7., 10., 12., 11.,  2.,  3.,  1.,  4.,  9.])"
      ]
     },
     "execution_count": 45,
     "metadata": {},
     "output_type": "execute_result"
    }
   ],
   "source": [
    "# заменим значения 0 на non\n",
    "df.loc[df['registration_month'] == 0, 'registration_month'] = np.nan\n",
    "\n",
    "# заменим nan на рандомное число в соовествие с их долями в таблице\n",
    "df['registration_month'] =  df['registration_month'].fillna(get_random_filled_series(df, 'registration_month'))\n",
    "\n",
    "# проверка\n",
    "df.registration_month.unique()"
   ]
  },
  {
   "cell_type": "markdown",
   "metadata": {},
   "source": [
    "Появилась точка. Вернём тип данных int"
   ]
  },
  {
   "cell_type": "code",
   "execution_count": 46,
   "metadata": {},
   "outputs": [
    {
     "name": "stdout",
     "output_type": "stream",
     "text": [
      "тип данных до изменения float64\n",
      "тип данных после изменения int8\n"
     ]
    },
    {
     "data": {
      "text/plain": [
       "array([ 5,  8,  6,  7, 10, 12, 11,  2,  3,  1,  4,  9], dtype=int8)"
      ]
     },
     "execution_count": 46,
     "metadata": {},
     "output_type": "execute_result"
    }
   ],
   "source": [
    "# проверям тип данных\n",
    "print(\"тип данных до изменения\", df.dtypes['registration_month'])\n",
    "\n",
    "# меняем тип данных\n",
    "df['registration_month'] = df['registration_month'].astype(np.int8)\n",
    "\n",
    "# проверка изменений\n",
    "print(\"тип данных после изменения\",df.dtypes['registration_month'])\n",
    "df.registration_month.unique()"
   ]
  },
  {
   "cell_type": "markdown",
   "metadata": {},
   "source": [
    "## Обучение моделей"
   ]
  },
  {
   "cell_type": "markdown",
   "metadata": {},
   "source": [
    "В этом разделе обучим и сравним  модели LightGBM, случайный лес и логистическая регрессия.\n",
    "\n",
    "Сначало обучим модель градиентного бустинга LightGBM"
   ]
  },
  {
   "cell_type": "markdown",
   "metadata": {},
   "source": [
    "Разделим модель на обучающую и тестовую выборки."
   ]
  },
  {
   "cell_type": "code",
   "execution_count": 47,
   "metadata": {},
   "outputs": [],
   "source": [
    "X = df.drop('price', axis=1)\n",
    "y = df['price']"
   ]
  },
  {
   "cell_type": "code",
   "execution_count": 48,
   "metadata": {},
   "outputs": [],
   "source": [
    "X_train, X_test, y_train, y_test = train_test_split(\n",
    "    X, y, test_size=0.5, random_state=RANDOM_STATE\n",
    "    )\n",
    "\n",
    "X_train, X_valid, y_train, y_valid = train_test_split(\n",
    "    X_test, y_test, test_size=0.25, random_state=RANDOM_STATE\n",
    "    )"
   ]
  },
  {
   "cell_type": "markdown",
   "metadata": {},
   "source": [
    "Выведем информацию о выборках"
   ]
  },
  {
   "cell_type": "code",
   "execution_count": 49,
   "metadata": {},
   "outputs": [
    {
     "data": {
      "text/html": [
       "<div>\n",
       "<style scoped>\n",
       "    .dataframe tbody tr th:only-of-type {\n",
       "        vertical-align: middle;\n",
       "    }\n",
       "\n",
       "    .dataframe tbody tr th {\n",
       "        vertical-align: top;\n",
       "    }\n",
       "\n",
       "    .dataframe thead th {\n",
       "        text-align: right;\n",
       "    }\n",
       "</style>\n",
       "<table border=\"1\" class=\"dataframe\">\n",
       "  <thead>\n",
       "    <tr style=\"text-align: right;\">\n",
       "      <th></th>\n",
       "      <th>vehicle_type</th>\n",
       "      <th>registration_year</th>\n",
       "      <th>gearbox</th>\n",
       "      <th>power</th>\n",
       "      <th>model</th>\n",
       "      <th>kilometer</th>\n",
       "      <th>registration_month</th>\n",
       "      <th>fuel_type</th>\n",
       "      <th>brand</th>\n",
       "      <th>repaired</th>\n",
       "    </tr>\n",
       "  </thead>\n",
       "  <tbody>\n",
       "    <tr>\n",
       "      <th>54566</th>\n",
       "      <td>sedan</td>\n",
       "      <td>1977</td>\n",
       "      <td>manual</td>\n",
       "      <td>90</td>\n",
       "      <td>other</td>\n",
       "      <td>150000</td>\n",
       "      <td>4</td>\n",
       "      <td>petrol</td>\n",
       "      <td>ford</td>\n",
       "      <td>no</td>\n",
       "    </tr>\n",
       "    <tr>\n",
       "      <th>305632</th>\n",
       "      <td>wagon</td>\n",
       "      <td>2005</td>\n",
       "      <td>manual</td>\n",
       "      <td>163</td>\n",
       "      <td>3er</td>\n",
       "      <td>150000</td>\n",
       "      <td>12</td>\n",
       "      <td>gasoline</td>\n",
       "      <td>bmw</td>\n",
       "      <td>no</td>\n",
       "    </tr>\n",
       "    <tr>\n",
       "      <th>57757</th>\n",
       "      <td>small</td>\n",
       "      <td>2009</td>\n",
       "      <td>manual</td>\n",
       "      <td>86</td>\n",
       "      <td>ibiza</td>\n",
       "      <td>125000</td>\n",
       "      <td>2</td>\n",
       "      <td>petrol</td>\n",
       "      <td>seat</td>\n",
       "      <td>no</td>\n",
       "    </tr>\n",
       "    <tr>\n",
       "      <th>74461</th>\n",
       "      <td>sedan</td>\n",
       "      <td>2004</td>\n",
       "      <td>auto</td>\n",
       "      <td>218</td>\n",
       "      <td>5er</td>\n",
       "      <td>150000</td>\n",
       "      <td>3</td>\n",
       "      <td>gasoline</td>\n",
       "      <td>bmw</td>\n",
       "      <td>no</td>\n",
       "    </tr>\n",
       "    <tr>\n",
       "      <th>293757</th>\n",
       "      <td>wagon</td>\n",
       "      <td>1989</td>\n",
       "      <td>manual</td>\n",
       "      <td>170</td>\n",
       "      <td>5er</td>\n",
       "      <td>150000</td>\n",
       "      <td>12</td>\n",
       "      <td>gasoline</td>\n",
       "      <td>bmw</td>\n",
       "      <td>yes</td>\n",
       "    </tr>\n",
       "  </tbody>\n",
       "</table>\n",
       "</div>"
      ],
      "text/plain": [
       "       vehicle_type  registration_year gearbox  power  model  kilometer  \\\n",
       "54566         sedan               1977  manual     90  other     150000   \n",
       "305632        wagon               2005  manual    163    3er     150000   \n",
       "57757         small               2009  manual     86  ibiza     125000   \n",
       "74461         sedan               2004    auto    218    5er     150000   \n",
       "293757        wagon               1989  manual    170    5er     150000   \n",
       "\n",
       "        registration_month fuel_type brand repaired  \n",
       "54566                    4    petrol  ford       no  \n",
       "305632                  12  gasoline   bmw       no  \n",
       "57757                    2    petrol  seat       no  \n",
       "74461                    3  gasoline   bmw       no  \n",
       "293757                  12  gasoline   bmw      yes  "
      ]
     },
     "metadata": {},
     "output_type": "display_data"
    },
    {
     "name": "stdout",
     "output_type": "stream",
     "text": [
      "<class 'pandas.core.frame.DataFrame'>\n",
      "Int64Index: 106767 entries, 330633 to 200973\n",
      "Data columns (total 10 columns):\n",
      " #   Column              Non-Null Count   Dtype \n",
      "---  ------              --------------   ----- \n",
      " 0   vehicle_type        106767 non-null  object\n",
      " 1   registration_year   106767 non-null  int64 \n",
      " 2   gearbox             106767 non-null  object\n",
      " 3   power               106767 non-null  int64 \n",
      " 4   model               106767 non-null  object\n",
      " 5   kilometer           106767 non-null  int64 \n",
      " 6   registration_month  106767 non-null  int8  \n",
      " 7   fuel_type           106767 non-null  object\n",
      " 8   brand               106767 non-null  object\n",
      " 9   repaired            106767 non-null  object\n",
      "dtypes: int64(3), int8(1), object(6)\n",
      "memory usage: 8.2+ MB\n"
     ]
    },
    {
     "data": {
      "text/html": [
       "<div>\n",
       "<style scoped>\n",
       "    .dataframe tbody tr th:only-of-type {\n",
       "        vertical-align: middle;\n",
       "    }\n",
       "\n",
       "    .dataframe tbody tr th {\n",
       "        vertical-align: top;\n",
       "    }\n",
       "\n",
       "    .dataframe thead th {\n",
       "        text-align: right;\n",
       "    }\n",
       "</style>\n",
       "<table border=\"1\" class=\"dataframe\">\n",
       "  <thead>\n",
       "    <tr style=\"text-align: right;\">\n",
       "      <th></th>\n",
       "      <th>count</th>\n",
       "      <th>unique</th>\n",
       "      <th>top</th>\n",
       "      <th>freq</th>\n",
       "      <th>mean</th>\n",
       "      <th>std</th>\n",
       "      <th>min</th>\n",
       "      <th>25%</th>\n",
       "      <th>50%</th>\n",
       "      <th>75%</th>\n",
       "      <th>max</th>\n",
       "    </tr>\n",
       "  </thead>\n",
       "  <tbody>\n",
       "    <tr>\n",
       "      <th>vehicle_type</th>\n",
       "      <td>106767</td>\n",
       "      <td>9</td>\n",
       "      <td>sedan</td>\n",
       "      <td>30305</td>\n",
       "      <td>NaN</td>\n",
       "      <td>NaN</td>\n",
       "      <td>NaN</td>\n",
       "      <td>NaN</td>\n",
       "      <td>NaN</td>\n",
       "      <td>NaN</td>\n",
       "      <td>NaN</td>\n",
       "    </tr>\n",
       "    <tr>\n",
       "      <th>registration_year</th>\n",
       "      <td>106767.0</td>\n",
       "      <td>NaN</td>\n",
       "      <td>NaN</td>\n",
       "      <td>NaN</td>\n",
       "      <td>2003.048817</td>\n",
       "      <td>6.1011</td>\n",
       "      <td>1971.0</td>\n",
       "      <td>1999.0</td>\n",
       "      <td>2003.0</td>\n",
       "      <td>2007.0</td>\n",
       "      <td>2016.0</td>\n",
       "    </tr>\n",
       "    <tr>\n",
       "      <th>gearbox</th>\n",
       "      <td>106767</td>\n",
       "      <td>3</td>\n",
       "      <td>manual</td>\n",
       "      <td>84702</td>\n",
       "      <td>NaN</td>\n",
       "      <td>NaN</td>\n",
       "      <td>NaN</td>\n",
       "      <td>NaN</td>\n",
       "      <td>NaN</td>\n",
       "      <td>NaN</td>\n",
       "      <td>NaN</td>\n",
       "    </tr>\n",
       "    <tr>\n",
       "      <th>power</th>\n",
       "      <td>106767.0</td>\n",
       "      <td>NaN</td>\n",
       "      <td>NaN</td>\n",
       "      <td>NaN</td>\n",
       "      <td>118.587897</td>\n",
       "      <td>44.171356</td>\n",
       "      <td>51.0</td>\n",
       "      <td>80.0</td>\n",
       "      <td>113.0</td>\n",
       "      <td>147.0</td>\n",
       "      <td>249.0</td>\n",
       "    </tr>\n",
       "    <tr>\n",
       "      <th>model</th>\n",
       "      <td>106767</td>\n",
       "      <td>246</td>\n",
       "      <td>golf</td>\n",
       "      <td>9485</td>\n",
       "      <td>NaN</td>\n",
       "      <td>NaN</td>\n",
       "      <td>NaN</td>\n",
       "      <td>NaN</td>\n",
       "      <td>NaN</td>\n",
       "      <td>NaN</td>\n",
       "      <td>NaN</td>\n",
       "    </tr>\n",
       "    <tr>\n",
       "      <th>kilometer</th>\n",
       "      <td>106767.0</td>\n",
       "      <td>NaN</td>\n",
       "      <td>NaN</td>\n",
       "      <td>NaN</td>\n",
       "      <td>128391.403711</td>\n",
       "      <td>36763.843014</td>\n",
       "      <td>5000.0</td>\n",
       "      <td>125000.0</td>\n",
       "      <td>150000.0</td>\n",
       "      <td>150000.0</td>\n",
       "      <td>150000.0</td>\n",
       "    </tr>\n",
       "    <tr>\n",
       "      <th>registration_month</th>\n",
       "      <td>106767.0</td>\n",
       "      <td>NaN</td>\n",
       "      <td>NaN</td>\n",
       "      <td>NaN</td>\n",
       "      <td>6.37564</td>\n",
       "      <td>3.345772</td>\n",
       "      <td>1.0</td>\n",
       "      <td>3.0</td>\n",
       "      <td>6.0</td>\n",
       "      <td>9.0</td>\n",
       "      <td>12.0</td>\n",
       "    </tr>\n",
       "    <tr>\n",
       "      <th>fuel_type</th>\n",
       "      <td>106767</td>\n",
       "      <td>8</td>\n",
       "      <td>petrol</td>\n",
       "      <td>66587</td>\n",
       "      <td>NaN</td>\n",
       "      <td>NaN</td>\n",
       "      <td>NaN</td>\n",
       "      <td>NaN</td>\n",
       "      <td>NaN</td>\n",
       "      <td>NaN</td>\n",
       "      <td>NaN</td>\n",
       "    </tr>\n",
       "    <tr>\n",
       "      <th>brand</th>\n",
       "      <td>106767</td>\n",
       "      <td>40</td>\n",
       "      <td>volkswagen</td>\n",
       "      <td>22875</td>\n",
       "      <td>NaN</td>\n",
       "      <td>NaN</td>\n",
       "      <td>NaN</td>\n",
       "      <td>NaN</td>\n",
       "      <td>NaN</td>\n",
       "      <td>NaN</td>\n",
       "      <td>NaN</td>\n",
       "    </tr>\n",
       "    <tr>\n",
       "      <th>repaired</th>\n",
       "      <td>106767</td>\n",
       "      <td>2</td>\n",
       "      <td>no</td>\n",
       "      <td>94222</td>\n",
       "      <td>NaN</td>\n",
       "      <td>NaN</td>\n",
       "      <td>NaN</td>\n",
       "      <td>NaN</td>\n",
       "      <td>NaN</td>\n",
       "      <td>NaN</td>\n",
       "      <td>NaN</td>\n",
       "    </tr>\n",
       "  </tbody>\n",
       "</table>\n",
       "</div>"
      ],
      "text/plain": [
       "                       count unique         top   freq           mean  \\\n",
       "vehicle_type          106767      9       sedan  30305            NaN   \n",
       "registration_year   106767.0    NaN         NaN    NaN    2003.048817   \n",
       "gearbox               106767      3      manual  84702            NaN   \n",
       "power               106767.0    NaN         NaN    NaN     118.587897   \n",
       "model                 106767    246        golf   9485            NaN   \n",
       "kilometer           106767.0    NaN         NaN    NaN  128391.403711   \n",
       "registration_month  106767.0    NaN         NaN    NaN        6.37564   \n",
       "fuel_type             106767      8      petrol  66587            NaN   \n",
       "brand                 106767     40  volkswagen  22875            NaN   \n",
       "repaired              106767      2          no  94222            NaN   \n",
       "\n",
       "                             std     min       25%       50%       75%  \\\n",
       "vehicle_type                 NaN     NaN       NaN       NaN       NaN   \n",
       "registration_year         6.1011  1971.0    1999.0    2003.0    2007.0   \n",
       "gearbox                      NaN     NaN       NaN       NaN       NaN   \n",
       "power                  44.171356    51.0      80.0     113.0     147.0   \n",
       "model                        NaN     NaN       NaN       NaN       NaN   \n",
       "kilometer           36763.843014  5000.0  125000.0  150000.0  150000.0   \n",
       "registration_month      3.345772     1.0       3.0       6.0       9.0   \n",
       "fuel_type                    NaN     NaN       NaN       NaN       NaN   \n",
       "brand                        NaN     NaN       NaN       NaN       NaN   \n",
       "repaired                     NaN     NaN       NaN       NaN       NaN   \n",
       "\n",
       "                         max  \n",
       "vehicle_type             NaN  \n",
       "registration_year     2016.0  \n",
       "gearbox                  NaN  \n",
       "power                  249.0  \n",
       "model                    NaN  \n",
       "kilometer           150000.0  \n",
       "registration_month      12.0  \n",
       "fuel_type                NaN  \n",
       "brand                    NaN  \n",
       "repaired                 NaN  "
      ]
     },
     "metadata": {},
     "output_type": "display_data"
    }
   ],
   "source": [
    "get_df_info(X_train)"
   ]
  },
  {
   "cell_type": "code",
   "execution_count": 50,
   "metadata": {
    "scrolled": true
   },
   "outputs": [
    {
     "data": {
      "text/html": [
       "<div>\n",
       "<style scoped>\n",
       "    .dataframe tbody tr th:only-of-type {\n",
       "        vertical-align: middle;\n",
       "    }\n",
       "\n",
       "    .dataframe tbody tr th {\n",
       "        vertical-align: top;\n",
       "    }\n",
       "\n",
       "    .dataframe thead th {\n",
       "        text-align: right;\n",
       "    }\n",
       "</style>\n",
       "<table border=\"1\" class=\"dataframe\">\n",
       "  <thead>\n",
       "    <tr style=\"text-align: right;\">\n",
       "      <th></th>\n",
       "      <th>vehicle_type</th>\n",
       "      <th>registration_year</th>\n",
       "      <th>gearbox</th>\n",
       "      <th>power</th>\n",
       "      <th>model</th>\n",
       "      <th>kilometer</th>\n",
       "      <th>registration_month</th>\n",
       "      <th>fuel_type</th>\n",
       "      <th>brand</th>\n",
       "      <th>repaired</th>\n",
       "    </tr>\n",
       "  </thead>\n",
       "  <tbody>\n",
       "    <tr>\n",
       "      <th>286945</th>\n",
       "      <td>wagon</td>\n",
       "      <td>2006</td>\n",
       "      <td>manual</td>\n",
       "      <td>140</td>\n",
       "      <td>a3</td>\n",
       "      <td>150000</td>\n",
       "      <td>2</td>\n",
       "      <td>gasoline</td>\n",
       "      <td>audi</td>\n",
       "      <td>no</td>\n",
       "    </tr>\n",
       "    <tr>\n",
       "      <th>258959</th>\n",
       "      <td>small</td>\n",
       "      <td>2002</td>\n",
       "      <td>manual</td>\n",
       "      <td>75</td>\n",
       "      <td>twingo</td>\n",
       "      <td>150000</td>\n",
       "      <td>6</td>\n",
       "      <td>unknown</td>\n",
       "      <td>renault</td>\n",
       "      <td>no</td>\n",
       "    </tr>\n",
       "    <tr>\n",
       "      <th>225305</th>\n",
       "      <td>sedan</td>\n",
       "      <td>2004</td>\n",
       "      <td>manual</td>\n",
       "      <td>140</td>\n",
       "      <td>golf</td>\n",
       "      <td>150000</td>\n",
       "      <td>11</td>\n",
       "      <td>gasoline</td>\n",
       "      <td>volkswagen</td>\n",
       "      <td>yes</td>\n",
       "    </tr>\n",
       "    <tr>\n",
       "      <th>269925</th>\n",
       "      <td>wagon</td>\n",
       "      <td>2011</td>\n",
       "      <td>auto</td>\n",
       "      <td>184</td>\n",
       "      <td>5er</td>\n",
       "      <td>150000</td>\n",
       "      <td>1</td>\n",
       "      <td>gasoline</td>\n",
       "      <td>bmw</td>\n",
       "      <td>no</td>\n",
       "    </tr>\n",
       "    <tr>\n",
       "      <th>236674</th>\n",
       "      <td>small</td>\n",
       "      <td>1998</td>\n",
       "      <td>manual</td>\n",
       "      <td>75</td>\n",
       "      <td>golf</td>\n",
       "      <td>150000</td>\n",
       "      <td>9</td>\n",
       "      <td>petrol</td>\n",
       "      <td>volkswagen</td>\n",
       "      <td>no</td>\n",
       "    </tr>\n",
       "  </tbody>\n",
       "</table>\n",
       "</div>"
      ],
      "text/plain": [
       "       vehicle_type  registration_year gearbox  power   model  kilometer  \\\n",
       "286945        wagon               2006  manual    140      a3     150000   \n",
       "258959        small               2002  manual     75  twingo     150000   \n",
       "225305        sedan               2004  manual    140    golf     150000   \n",
       "269925        wagon               2011    auto    184     5er     150000   \n",
       "236674        small               1998  manual     75    golf     150000   \n",
       "\n",
       "        registration_month fuel_type       brand repaired  \n",
       "286945                   2  gasoline        audi       no  \n",
       "258959                   6   unknown     renault       no  \n",
       "225305                  11  gasoline  volkswagen      yes  \n",
       "269925                   1  gasoline         bmw       no  \n",
       "236674                   9    petrol  volkswagen       no  "
      ]
     },
     "metadata": {},
     "output_type": "display_data"
    },
    {
     "name": "stdout",
     "output_type": "stream",
     "text": [
      "<class 'pandas.core.frame.DataFrame'>\n",
      "Int64Index: 142357 entries, 249948 to 74101\n",
      "Data columns (total 10 columns):\n",
      " #   Column              Non-Null Count   Dtype \n",
      "---  ------              --------------   ----- \n",
      " 0   vehicle_type        142357 non-null  object\n",
      " 1   registration_year   142357 non-null  int64 \n",
      " 2   gearbox             142357 non-null  object\n",
      " 3   power               142357 non-null  int64 \n",
      " 4   model               142357 non-null  object\n",
      " 5   kilometer           142357 non-null  int64 \n",
      " 6   registration_month  142357 non-null  int8  \n",
      " 7   fuel_type           142357 non-null  object\n",
      " 8   brand               142357 non-null  object\n",
      " 9   repaired            142357 non-null  object\n",
      "dtypes: int64(3), int8(1), object(6)\n",
      "memory usage: 11.0+ MB\n"
     ]
    },
    {
     "data": {
      "text/html": [
       "<div>\n",
       "<style scoped>\n",
       "    .dataframe tbody tr th:only-of-type {\n",
       "        vertical-align: middle;\n",
       "    }\n",
       "\n",
       "    .dataframe tbody tr th {\n",
       "        vertical-align: top;\n",
       "    }\n",
       "\n",
       "    .dataframe thead th {\n",
       "        text-align: right;\n",
       "    }\n",
       "</style>\n",
       "<table border=\"1\" class=\"dataframe\">\n",
       "  <thead>\n",
       "    <tr style=\"text-align: right;\">\n",
       "      <th></th>\n",
       "      <th>count</th>\n",
       "      <th>unique</th>\n",
       "      <th>top</th>\n",
       "      <th>freq</th>\n",
       "      <th>mean</th>\n",
       "      <th>std</th>\n",
       "      <th>min</th>\n",
       "      <th>25%</th>\n",
       "      <th>50%</th>\n",
       "      <th>75%</th>\n",
       "      <th>max</th>\n",
       "    </tr>\n",
       "  </thead>\n",
       "  <tbody>\n",
       "    <tr>\n",
       "      <th>vehicle_type</th>\n",
       "      <td>142357</td>\n",
       "      <td>9</td>\n",
       "      <td>sedan</td>\n",
       "      <td>40450</td>\n",
       "      <td>NaN</td>\n",
       "      <td>NaN</td>\n",
       "      <td>NaN</td>\n",
       "      <td>NaN</td>\n",
       "      <td>NaN</td>\n",
       "      <td>NaN</td>\n",
       "      <td>NaN</td>\n",
       "    </tr>\n",
       "    <tr>\n",
       "      <th>registration_year</th>\n",
       "      <td>142357.0</td>\n",
       "      <td>NaN</td>\n",
       "      <td>NaN</td>\n",
       "      <td>NaN</td>\n",
       "      <td>2003.038832</td>\n",
       "      <td>6.098979</td>\n",
       "      <td>1971.0</td>\n",
       "      <td>1999.0</td>\n",
       "      <td>2003.0</td>\n",
       "      <td>2007.0</td>\n",
       "      <td>2016.0</td>\n",
       "    </tr>\n",
       "    <tr>\n",
       "      <th>gearbox</th>\n",
       "      <td>142357</td>\n",
       "      <td>3</td>\n",
       "      <td>manual</td>\n",
       "      <td>112940</td>\n",
       "      <td>NaN</td>\n",
       "      <td>NaN</td>\n",
       "      <td>NaN</td>\n",
       "      <td>NaN</td>\n",
       "      <td>NaN</td>\n",
       "      <td>NaN</td>\n",
       "      <td>NaN</td>\n",
       "    </tr>\n",
       "    <tr>\n",
       "      <th>power</th>\n",
       "      <td>142357.0</td>\n",
       "      <td>NaN</td>\n",
       "      <td>NaN</td>\n",
       "      <td>NaN</td>\n",
       "      <td>118.535724</td>\n",
       "      <td>44.123828</td>\n",
       "      <td>51.0</td>\n",
       "      <td>80.0</td>\n",
       "      <td>113.0</td>\n",
       "      <td>147.0</td>\n",
       "      <td>249.0</td>\n",
       "    </tr>\n",
       "    <tr>\n",
       "      <th>model</th>\n",
       "      <td>142357</td>\n",
       "      <td>248</td>\n",
       "      <td>golf</td>\n",
       "      <td>12593</td>\n",
       "      <td>NaN</td>\n",
       "      <td>NaN</td>\n",
       "      <td>NaN</td>\n",
       "      <td>NaN</td>\n",
       "      <td>NaN</td>\n",
       "      <td>NaN</td>\n",
       "      <td>NaN</td>\n",
       "    </tr>\n",
       "    <tr>\n",
       "      <th>kilometer</th>\n",
       "      <td>142357.0</td>\n",
       "      <td>NaN</td>\n",
       "      <td>NaN</td>\n",
       "      <td>NaN</td>\n",
       "      <td>128505.693433</td>\n",
       "      <td>36666.251441</td>\n",
       "      <td>5000.0</td>\n",
       "      <td>125000.0</td>\n",
       "      <td>150000.0</td>\n",
       "      <td>150000.0</td>\n",
       "      <td>150000.0</td>\n",
       "    </tr>\n",
       "    <tr>\n",
       "      <th>registration_month</th>\n",
       "      <td>142357.0</td>\n",
       "      <td>NaN</td>\n",
       "      <td>NaN</td>\n",
       "      <td>NaN</td>\n",
       "      <td>6.375816</td>\n",
       "      <td>3.346651</td>\n",
       "      <td>1.0</td>\n",
       "      <td>3.0</td>\n",
       "      <td>6.0</td>\n",
       "      <td>9.0</td>\n",
       "      <td>12.0</td>\n",
       "    </tr>\n",
       "    <tr>\n",
       "      <th>fuel_type</th>\n",
       "      <td>142357</td>\n",
       "      <td>8</td>\n",
       "      <td>petrol</td>\n",
       "      <td>88743</td>\n",
       "      <td>NaN</td>\n",
       "      <td>NaN</td>\n",
       "      <td>NaN</td>\n",
       "      <td>NaN</td>\n",
       "      <td>NaN</td>\n",
       "      <td>NaN</td>\n",
       "      <td>NaN</td>\n",
       "    </tr>\n",
       "    <tr>\n",
       "      <th>brand</th>\n",
       "      <td>142357</td>\n",
       "      <td>40</td>\n",
       "      <td>volkswagen</td>\n",
       "      <td>30578</td>\n",
       "      <td>NaN</td>\n",
       "      <td>NaN</td>\n",
       "      <td>NaN</td>\n",
       "      <td>NaN</td>\n",
       "      <td>NaN</td>\n",
       "      <td>NaN</td>\n",
       "      <td>NaN</td>\n",
       "    </tr>\n",
       "    <tr>\n",
       "      <th>repaired</th>\n",
       "      <td>142357</td>\n",
       "      <td>2</td>\n",
       "      <td>no</td>\n",
       "      <td>125631</td>\n",
       "      <td>NaN</td>\n",
       "      <td>NaN</td>\n",
       "      <td>NaN</td>\n",
       "      <td>NaN</td>\n",
       "      <td>NaN</td>\n",
       "      <td>NaN</td>\n",
       "      <td>NaN</td>\n",
       "    </tr>\n",
       "  </tbody>\n",
       "</table>\n",
       "</div>"
      ],
      "text/plain": [
       "                       count unique         top    freq           mean  \\\n",
       "vehicle_type          142357      9       sedan   40450            NaN   \n",
       "registration_year   142357.0    NaN         NaN     NaN    2003.038832   \n",
       "gearbox               142357      3      manual  112940            NaN   \n",
       "power               142357.0    NaN         NaN     NaN     118.535724   \n",
       "model                 142357    248        golf   12593            NaN   \n",
       "kilometer           142357.0    NaN         NaN     NaN  128505.693433   \n",
       "registration_month  142357.0    NaN         NaN     NaN       6.375816   \n",
       "fuel_type             142357      8      petrol   88743            NaN   \n",
       "brand                 142357     40  volkswagen   30578            NaN   \n",
       "repaired              142357      2          no  125631            NaN   \n",
       "\n",
       "                             std     min       25%       50%       75%  \\\n",
       "vehicle_type                 NaN     NaN       NaN       NaN       NaN   \n",
       "registration_year       6.098979  1971.0    1999.0    2003.0    2007.0   \n",
       "gearbox                      NaN     NaN       NaN       NaN       NaN   \n",
       "power                  44.123828    51.0      80.0     113.0     147.0   \n",
       "model                        NaN     NaN       NaN       NaN       NaN   \n",
       "kilometer           36666.251441  5000.0  125000.0  150000.0  150000.0   \n",
       "registration_month      3.346651     1.0       3.0       6.0       9.0   \n",
       "fuel_type                    NaN     NaN       NaN       NaN       NaN   \n",
       "brand                        NaN     NaN       NaN       NaN       NaN   \n",
       "repaired                     NaN     NaN       NaN       NaN       NaN   \n",
       "\n",
       "                         max  \n",
       "vehicle_type             NaN  \n",
       "registration_year     2016.0  \n",
       "gearbox                  NaN  \n",
       "power                  249.0  \n",
       "model                    NaN  \n",
       "kilometer           150000.0  \n",
       "registration_month      12.0  \n",
       "fuel_type                NaN  \n",
       "brand                    NaN  \n",
       "repaired                 NaN  "
      ]
     },
     "metadata": {},
     "output_type": "display_data"
    }
   ],
   "source": [
    "get_df_info(X_test)"
   ]
  },
  {
   "cell_type": "code",
   "execution_count": 51,
   "metadata": {},
   "outputs": [
    {
     "data": {
      "text/html": [
       "<div>\n",
       "<style scoped>\n",
       "    .dataframe tbody tr th:only-of-type {\n",
       "        vertical-align: middle;\n",
       "    }\n",
       "\n",
       "    .dataframe tbody tr th {\n",
       "        vertical-align: top;\n",
       "    }\n",
       "\n",
       "    .dataframe thead th {\n",
       "        text-align: right;\n",
       "    }\n",
       "</style>\n",
       "<table border=\"1\" class=\"dataframe\">\n",
       "  <thead>\n",
       "    <tr style=\"text-align: right;\">\n",
       "      <th></th>\n",
       "      <th>vehicle_type</th>\n",
       "      <th>registration_year</th>\n",
       "      <th>gearbox</th>\n",
       "      <th>power</th>\n",
       "      <th>model</th>\n",
       "      <th>kilometer</th>\n",
       "      <th>registration_month</th>\n",
       "      <th>fuel_type</th>\n",
       "      <th>brand</th>\n",
       "      <th>repaired</th>\n",
       "    </tr>\n",
       "  </thead>\n",
       "  <tbody>\n",
       "    <tr>\n",
       "      <th>44496</th>\n",
       "      <td>wagon</td>\n",
       "      <td>2006</td>\n",
       "      <td>manual</td>\n",
       "      <td>150</td>\n",
       "      <td>159</td>\n",
       "      <td>150000</td>\n",
       "      <td>5</td>\n",
       "      <td>gasoline</td>\n",
       "      <td>alfa_romeo</td>\n",
       "      <td>no</td>\n",
       "    </tr>\n",
       "    <tr>\n",
       "      <th>244072</th>\n",
       "      <td>wagon</td>\n",
       "      <td>1991</td>\n",
       "      <td>manual</td>\n",
       "      <td>129</td>\n",
       "      <td>3er</td>\n",
       "      <td>150000</td>\n",
       "      <td>8</td>\n",
       "      <td>petrol</td>\n",
       "      <td>bmw</td>\n",
       "      <td>no</td>\n",
       "    </tr>\n",
       "    <tr>\n",
       "      <th>31491</th>\n",
       "      <td>suv</td>\n",
       "      <td>2010</td>\n",
       "      <td>manual</td>\n",
       "      <td>163</td>\n",
       "      <td>i_reihe</td>\n",
       "      <td>100000</td>\n",
       "      <td>6</td>\n",
       "      <td>lpg</td>\n",
       "      <td>hyundai</td>\n",
       "      <td>no</td>\n",
       "    </tr>\n",
       "    <tr>\n",
       "      <th>118041</th>\n",
       "      <td>sedan</td>\n",
       "      <td>1997</td>\n",
       "      <td>manual</td>\n",
       "      <td>90</td>\n",
       "      <td>colt</td>\n",
       "      <td>150000</td>\n",
       "      <td>7</td>\n",
       "      <td>lpg</td>\n",
       "      <td>mitsubishi</td>\n",
       "      <td>no</td>\n",
       "    </tr>\n",
       "    <tr>\n",
       "      <th>129788</th>\n",
       "      <td>wagon</td>\n",
       "      <td>2001</td>\n",
       "      <td>manual</td>\n",
       "      <td>101</td>\n",
       "      <td>focus</td>\n",
       "      <td>30000</td>\n",
       "      <td>12</td>\n",
       "      <td>lpg</td>\n",
       "      <td>ford</td>\n",
       "      <td>yes</td>\n",
       "    </tr>\n",
       "  </tbody>\n",
       "</table>\n",
       "</div>"
      ],
      "text/plain": [
       "       vehicle_type  registration_year gearbox  power    model  kilometer  \\\n",
       "44496         wagon               2006  manual    150      159     150000   \n",
       "244072        wagon               1991  manual    129      3er     150000   \n",
       "31491           suv               2010  manual    163  i_reihe     100000   \n",
       "118041        sedan               1997  manual     90     colt     150000   \n",
       "129788        wagon               2001  manual    101    focus      30000   \n",
       "\n",
       "        registration_month fuel_type       brand repaired  \n",
       "44496                    5  gasoline  alfa_romeo       no  \n",
       "244072                   8    petrol         bmw       no  \n",
       "31491                    6       lpg     hyundai       no  \n",
       "118041                   7       lpg  mitsubishi       no  \n",
       "129788                  12       lpg        ford      yes  "
      ]
     },
     "metadata": {},
     "output_type": "display_data"
    },
    {
     "name": "stdout",
     "output_type": "stream",
     "text": [
      "<class 'pandas.core.frame.DataFrame'>\n",
      "Int64Index: 35590 entries, 312156 to 169156\n",
      "Data columns (total 10 columns):\n",
      " #   Column              Non-Null Count  Dtype \n",
      "---  ------              --------------  ----- \n",
      " 0   vehicle_type        35590 non-null  object\n",
      " 1   registration_year   35590 non-null  int64 \n",
      " 2   gearbox             35590 non-null  object\n",
      " 3   power               35590 non-null  int64 \n",
      " 4   model               35590 non-null  object\n",
      " 5   kilometer           35590 non-null  int64 \n",
      " 6   registration_month  35590 non-null  int8  \n",
      " 7   fuel_type           35590 non-null  object\n",
      " 8   brand               35590 non-null  object\n",
      " 9   repaired            35590 non-null  object\n",
      "dtypes: int64(3), int8(1), object(6)\n",
      "memory usage: 2.7+ MB\n"
     ]
    },
    {
     "data": {
      "text/html": [
       "<div>\n",
       "<style scoped>\n",
       "    .dataframe tbody tr th:only-of-type {\n",
       "        vertical-align: middle;\n",
       "    }\n",
       "\n",
       "    .dataframe tbody tr th {\n",
       "        vertical-align: top;\n",
       "    }\n",
       "\n",
       "    .dataframe thead th {\n",
       "        text-align: right;\n",
       "    }\n",
       "</style>\n",
       "<table border=\"1\" class=\"dataframe\">\n",
       "  <thead>\n",
       "    <tr style=\"text-align: right;\">\n",
       "      <th></th>\n",
       "      <th>count</th>\n",
       "      <th>unique</th>\n",
       "      <th>top</th>\n",
       "      <th>freq</th>\n",
       "      <th>mean</th>\n",
       "      <th>std</th>\n",
       "      <th>min</th>\n",
       "      <th>25%</th>\n",
       "      <th>50%</th>\n",
       "      <th>75%</th>\n",
       "      <th>max</th>\n",
       "    </tr>\n",
       "  </thead>\n",
       "  <tbody>\n",
       "    <tr>\n",
       "      <th>vehicle_type</th>\n",
       "      <td>35590</td>\n",
       "      <td>9</td>\n",
       "      <td>sedan</td>\n",
       "      <td>10145</td>\n",
       "      <td>NaN</td>\n",
       "      <td>NaN</td>\n",
       "      <td>NaN</td>\n",
       "      <td>NaN</td>\n",
       "      <td>NaN</td>\n",
       "      <td>NaN</td>\n",
       "      <td>NaN</td>\n",
       "    </tr>\n",
       "    <tr>\n",
       "      <th>registration_year</th>\n",
       "      <td>35590.0</td>\n",
       "      <td>NaN</td>\n",
       "      <td>NaN</td>\n",
       "      <td>NaN</td>\n",
       "      <td>2003.008879</td>\n",
       "      <td>6.092599</td>\n",
       "      <td>1971.0</td>\n",
       "      <td>1999.0</td>\n",
       "      <td>2003.0</td>\n",
       "      <td>2007.0</td>\n",
       "      <td>2016.0</td>\n",
       "    </tr>\n",
       "    <tr>\n",
       "      <th>gearbox</th>\n",
       "      <td>35590</td>\n",
       "      <td>3</td>\n",
       "      <td>manual</td>\n",
       "      <td>28238</td>\n",
       "      <td>NaN</td>\n",
       "      <td>NaN</td>\n",
       "      <td>NaN</td>\n",
       "      <td>NaN</td>\n",
       "      <td>NaN</td>\n",
       "      <td>NaN</td>\n",
       "      <td>NaN</td>\n",
       "    </tr>\n",
       "    <tr>\n",
       "      <th>power</th>\n",
       "      <td>35590.0</td>\n",
       "      <td>NaN</td>\n",
       "      <td>NaN</td>\n",
       "      <td>NaN</td>\n",
       "      <td>118.379208</td>\n",
       "      <td>43.981187</td>\n",
       "      <td>51.0</td>\n",
       "      <td>80.0</td>\n",
       "      <td>113.0</td>\n",
       "      <td>147.0</td>\n",
       "      <td>249.0</td>\n",
       "    </tr>\n",
       "    <tr>\n",
       "      <th>model</th>\n",
       "      <td>35590</td>\n",
       "      <td>242</td>\n",
       "      <td>golf</td>\n",
       "      <td>3108</td>\n",
       "      <td>NaN</td>\n",
       "      <td>NaN</td>\n",
       "      <td>NaN</td>\n",
       "      <td>NaN</td>\n",
       "      <td>NaN</td>\n",
       "      <td>NaN</td>\n",
       "      <td>NaN</td>\n",
       "    </tr>\n",
       "    <tr>\n",
       "      <th>kilometer</th>\n",
       "      <td>35590.0</td>\n",
       "      <td>NaN</td>\n",
       "      <td>NaN</td>\n",
       "      <td>NaN</td>\n",
       "      <td>128848.552964</td>\n",
       "      <td>36370.272952</td>\n",
       "      <td>5000.0</td>\n",
       "      <td>125000.0</td>\n",
       "      <td>150000.0</td>\n",
       "      <td>150000.0</td>\n",
       "      <td>150000.0</td>\n",
       "    </tr>\n",
       "    <tr>\n",
       "      <th>registration_month</th>\n",
       "      <td>35590.0</td>\n",
       "      <td>NaN</td>\n",
       "      <td>NaN</td>\n",
       "      <td>NaN</td>\n",
       "      <td>6.376342</td>\n",
       "      <td>3.349336</td>\n",
       "      <td>1.0</td>\n",
       "      <td>3.0</td>\n",
       "      <td>6.0</td>\n",
       "      <td>9.0</td>\n",
       "      <td>12.0</td>\n",
       "    </tr>\n",
       "    <tr>\n",
       "      <th>fuel_type</th>\n",
       "      <td>35590</td>\n",
       "      <td>8</td>\n",
       "      <td>petrol</td>\n",
       "      <td>22156</td>\n",
       "      <td>NaN</td>\n",
       "      <td>NaN</td>\n",
       "      <td>NaN</td>\n",
       "      <td>NaN</td>\n",
       "      <td>NaN</td>\n",
       "      <td>NaN</td>\n",
       "      <td>NaN</td>\n",
       "    </tr>\n",
       "    <tr>\n",
       "      <th>brand</th>\n",
       "      <td>35590</td>\n",
       "      <td>39</td>\n",
       "      <td>volkswagen</td>\n",
       "      <td>7703</td>\n",
       "      <td>NaN</td>\n",
       "      <td>NaN</td>\n",
       "      <td>NaN</td>\n",
       "      <td>NaN</td>\n",
       "      <td>NaN</td>\n",
       "      <td>NaN</td>\n",
       "      <td>NaN</td>\n",
       "    </tr>\n",
       "    <tr>\n",
       "      <th>repaired</th>\n",
       "      <td>35590</td>\n",
       "      <td>2</td>\n",
       "      <td>no</td>\n",
       "      <td>31409</td>\n",
       "      <td>NaN</td>\n",
       "      <td>NaN</td>\n",
       "      <td>NaN</td>\n",
       "      <td>NaN</td>\n",
       "      <td>NaN</td>\n",
       "      <td>NaN</td>\n",
       "      <td>NaN</td>\n",
       "    </tr>\n",
       "  </tbody>\n",
       "</table>\n",
       "</div>"
      ],
      "text/plain": [
       "                      count unique         top   freq           mean  \\\n",
       "vehicle_type          35590      9       sedan  10145            NaN   \n",
       "registration_year   35590.0    NaN         NaN    NaN    2003.008879   \n",
       "gearbox               35590      3      manual  28238            NaN   \n",
       "power               35590.0    NaN         NaN    NaN     118.379208   \n",
       "model                 35590    242        golf   3108            NaN   \n",
       "kilometer           35590.0    NaN         NaN    NaN  128848.552964   \n",
       "registration_month  35590.0    NaN         NaN    NaN       6.376342   \n",
       "fuel_type             35590      8      petrol  22156            NaN   \n",
       "brand                 35590     39  volkswagen   7703            NaN   \n",
       "repaired              35590      2          no  31409            NaN   \n",
       "\n",
       "                             std     min       25%       50%       75%  \\\n",
       "vehicle_type                 NaN     NaN       NaN       NaN       NaN   \n",
       "registration_year       6.092599  1971.0    1999.0    2003.0    2007.0   \n",
       "gearbox                      NaN     NaN       NaN       NaN       NaN   \n",
       "power                  43.981187    51.0      80.0     113.0     147.0   \n",
       "model                        NaN     NaN       NaN       NaN       NaN   \n",
       "kilometer           36370.272952  5000.0  125000.0  150000.0  150000.0   \n",
       "registration_month      3.349336     1.0       3.0       6.0       9.0   \n",
       "fuel_type                    NaN     NaN       NaN       NaN       NaN   \n",
       "brand                        NaN     NaN       NaN       NaN       NaN   \n",
       "repaired                     NaN     NaN       NaN       NaN       NaN   \n",
       "\n",
       "                         max  \n",
       "vehicle_type             NaN  \n",
       "registration_year     2016.0  \n",
       "gearbox                  NaN  \n",
       "power                  249.0  \n",
       "model                    NaN  \n",
       "kilometer           150000.0  \n",
       "registration_month      12.0  \n",
       "fuel_type                NaN  \n",
       "brand                    NaN  \n",
       "repaired                 NaN  "
      ]
     },
     "metadata": {},
     "output_type": "display_data"
    }
   ],
   "source": [
    "get_df_info(X_valid)"
   ]
  },
  {
   "cell_type": "markdown",
   "metadata": {},
   "source": [
    "Создадим наборы данных для lightGBM"
   ]
  },
  {
   "cell_type": "code",
   "execution_count": 52,
   "metadata": {},
   "outputs": [],
   "source": [
    "# переведём категориальные признаки подборки в тип \"category\"\n",
    "X_category = X.select_dtypes(include='object').columns.to_list()\n",
    "X[X_category] = X[X_category].astype('category')\n",
    "X_train[X_category] = X_train[X_category].astype('category')\n",
    "X_test[X_category] = X_test[X_category].astype('category')\n",
    "X_valid[X_category] = X_valid[X_category].astype('category')\n",
    "\n",
    "# загружем данные\n",
    "train_data = lgb.Dataset(X_train, label=y_train)\n",
    "test_data = lgb.Dataset(X_test, label=y_test, reference=train_data)\n",
    "valid_data = lgb.Dataset(X_valid, label=y_valid, reference=train_data)\n",
    "\n"
   ]
  },
  {
   "cell_type": "code",
   "execution_count": 53,
   "metadata": {
    "scrolled": true
   },
   "outputs": [
    {
     "name": "stdout",
     "output_type": "stream",
     "text": [
      "<class 'pandas.core.frame.DataFrame'>\n",
      "Int64Index: 106767 entries, 330633 to 200973\n",
      "Data columns (total 10 columns):\n",
      " #   Column              Non-Null Count   Dtype   \n",
      "---  ------              --------------   -----   \n",
      " 0   vehicle_type        106767 non-null  category\n",
      " 1   registration_year   106767 non-null  int64   \n",
      " 2   gearbox             106767 non-null  category\n",
      " 3   power               106767 non-null  int64   \n",
      " 4   model               106767 non-null  category\n",
      " 5   kilometer           106767 non-null  int64   \n",
      " 6   registration_month  106767 non-null  int8    \n",
      " 7   fuel_type           106767 non-null  category\n",
      " 8   brand               106767 non-null  category\n",
      " 9   repaired            106767 non-null  category\n",
      "dtypes: category(6), int64(3), int8(1)\n",
      "memory usage: 4.1 MB\n"
     ]
    }
   ],
   "source": [
    "X_train.info()"
   ]
  },
  {
   "cell_type": "markdown",
   "metadata": {},
   "source": [
    "Укажем параметры для модели lightGBM"
   ]
  },
  {
   "cell_type": "code",
   "execution_count": 54,
   "metadata": {},
   "outputs": [],
   "source": [
    "parameters_1 =  {\n",
    "    'learning_rate': 0.01,\n",
    "    'boosting': 'gbdt',\n",
    "    'objective': 'regression',\n",
    "    'num_leaves': 10,\n",
    "    'verbose': -1\n",
    "}"
   ]
  },
  {
   "cell_type": "markdown",
   "metadata": {},
   "source": [
    "Обучим модель lightGBM, сначала со станадартными параметерами. Будем замерять время выполнения ячеек."
   ]
  },
  {
   "cell_type": "code",
   "execution_count": 55,
   "metadata": {},
   "outputs": [
    {
     "name": "stderr",
     "output_type": "stream",
     "text": [
      "/opt/conda/lib/python3.9/site-packages/lightgbm/engine.py:181: UserWarning: 'early_stopping_rounds' argument is deprecated and will be removed in a future release of LightGBM. Pass 'early_stopping()' callback via 'callbacks' argument instead.\n",
      "  _log_warning(\"'early_stopping_rounds' argument is deprecated and will be removed in a future release of LightGBM. \"\n",
      "/opt/conda/lib/python3.9/site-packages/lightgbm/basic.py:1780: UserWarning: Overriding the parameters from Reference Dataset.\n",
      "  _log_warning('Overriding the parameters from Reference Dataset.')\n",
      "/opt/conda/lib/python3.9/site-packages/lightgbm/basic.py:1513: UserWarning: categorical_column in param dict is overridden.\n",
      "  _log_warning(f'{cat_alias} in param dict is overridden.')\n"
     ]
    },
    {
     "name": "stdout",
     "output_type": "stream",
     "text": [
      "[1]\tvalid_0's l2: 1.95822e+07\n",
      "Training until validation scores don't improve for 30 rounds\n",
      "[2]\tvalid_0's l2: 1.93329e+07\n",
      "[3]\tvalid_0's l2: 1.90886e+07\n",
      "[4]\tvalid_0's l2: 1.88489e+07\n",
      "[5]\tvalid_0's l2: 1.8614e+07\n",
      "[6]\tvalid_0's l2: 1.83835e+07\n",
      "[7]\tvalid_0's l2: 1.81577e+07\n",
      "[8]\tvalid_0's l2: 1.79365e+07\n",
      "[9]\tvalid_0's l2: 1.77192e+07\n",
      "[10]\tvalid_0's l2: 1.75068e+07\n",
      "[11]\tvalid_0's l2: 1.72979e+07\n",
      "[12]\tvalid_0's l2: 1.70938e+07\n",
      "[13]\tvalid_0's l2: 1.68847e+07\n",
      "[14]\tvalid_0's l2: 1.66803e+07\n",
      "[15]\tvalid_0's l2: 1.64839e+07\n",
      "[16]\tvalid_0's l2: 1.62865e+07\n",
      "[17]\tvalid_0's l2: 1.60969e+07\n",
      "[18]\tvalid_0's l2: 1.59068e+07\n",
      "[19]\tvalid_0's l2: 1.57244e+07\n",
      "[20]\tvalid_0's l2: 1.55407e+07\n",
      "[21]\tvalid_0's l2: 1.5361e+07\n",
      "[22]\tvalid_0's l2: 1.51891e+07\n",
      "[23]\tvalid_0's l2: 1.50157e+07\n",
      "[24]\tvalid_0's l2: 1.48488e+07\n",
      "[25]\tvalid_0's l2: 1.4683e+07\n",
      "[26]\tvalid_0's l2: 1.45158e+07\n",
      "[27]\tvalid_0's l2: 1.43612e+07\n",
      "[28]\tvalid_0's l2: 1.42043e+07\n",
      "[29]\tvalid_0's l2: 1.4051e+07\n",
      "[30]\tvalid_0's l2: 1.38982e+07\n",
      "[31]\tvalid_0's l2: 1.37483e+07\n",
      "[32]\tvalid_0's l2: 1.36047e+07\n",
      "[33]\tvalid_0's l2: 1.3462e+07\n",
      "[34]\tvalid_0's l2: 1.33182e+07\n",
      "[35]\tvalid_0's l2: 1.31734e+07\n",
      "[36]\tvalid_0's l2: 1.30419e+07\n",
      "[37]\tvalid_0's l2: 1.29053e+07\n",
      "[38]\tvalid_0's l2: 1.27716e+07\n",
      "[39]\tvalid_0's l2: 1.26384e+07\n",
      "[40]\tvalid_0's l2: 1.25131e+07\n",
      "[41]\tvalid_0's l2: 1.23811e+07\n",
      "[42]\tvalid_0's l2: 1.22575e+07\n",
      "[43]\tvalid_0's l2: 1.21302e+07\n",
      "[44]\tvalid_0's l2: 1.20098e+07\n",
      "[45]\tvalid_0's l2: 1.188e+07\n",
      "[46]\tvalid_0's l2: 1.17594e+07\n",
      "[47]\tvalid_0's l2: 1.16464e+07\n",
      "[48]\tvalid_0's l2: 1.15338e+07\n",
      "[49]\tvalid_0's l2: 1.14195e+07\n",
      "[50]\tvalid_0's l2: 1.13082e+07\n",
      "[51]\tvalid_0's l2: 1.12014e+07\n",
      "[52]\tvalid_0's l2: 1.1094e+07\n",
      "[53]\tvalid_0's l2: 1.09874e+07\n",
      "[54]\tvalid_0's l2: 1.08819e+07\n",
      "[55]\tvalid_0's l2: 1.07799e+07\n",
      "[56]\tvalid_0's l2: 1.0678e+07\n",
      "[57]\tvalid_0's l2: 1.05777e+07\n",
      "[58]\tvalid_0's l2: 1.04794e+07\n",
      "[59]\tvalid_0's l2: 1.03864e+07\n",
      "[60]\tvalid_0's l2: 1.02956e+07\n",
      "[61]\tvalid_0's l2: 1.02019e+07\n",
      "[62]\tvalid_0's l2: 1.01095e+07\n",
      "[63]\tvalid_0's l2: 1.00202e+07\n",
      "[64]\tvalid_0's l2: 9.93085e+06\n",
      "[65]\tvalid_0's l2: 9.84303e+06\n",
      "[66]\tvalid_0's l2: 9.75674e+06\n",
      "[67]\tvalid_0's l2: 9.67451e+06\n",
      "[68]\tvalid_0's l2: 9.59061e+06\n",
      "[69]\tvalid_0's l2: 9.50854e+06\n",
      "[70]\tvalid_0's l2: 9.43224e+06\n",
      "[71]\tvalid_0's l2: 9.35239e+06\n",
      "[72]\tvalid_0's l2: 9.27459e+06\n",
      "[73]\tvalid_0's l2: 9.19625e+06\n",
      "[74]\tvalid_0's l2: 9.12123e+06\n",
      "[75]\tvalid_0's l2: 9.04277e+06\n",
      "[76]\tvalid_0's l2: 8.96895e+06\n",
      "[77]\tvalid_0's l2: 8.89714e+06\n",
      "[78]\tvalid_0's l2: 8.82644e+06\n",
      "[79]\tvalid_0's l2: 8.75275e+06\n",
      "[80]\tvalid_0's l2: 8.68279e+06\n",
      "[81]\tvalid_0's l2: 8.61543e+06\n",
      "[82]\tvalid_0's l2: 8.54848e+06\n",
      "[83]\tvalid_0's l2: 8.4833e+06\n",
      "[84]\tvalid_0's l2: 8.41916e+06\n",
      "[85]\tvalid_0's l2: 8.35198e+06\n",
      "[86]\tvalid_0's l2: 8.28888e+06\n",
      "[87]\tvalid_0's l2: 8.22659e+06\n",
      "[88]\tvalid_0's l2: 8.16313e+06\n",
      "[89]\tvalid_0's l2: 8.10487e+06\n",
      "[90]\tvalid_0's l2: 8.04573e+06\n",
      "[91]\tvalid_0's l2: 7.98556e+06\n",
      "[92]\tvalid_0's l2: 7.92644e+06\n",
      "[93]\tvalid_0's l2: 7.87176e+06\n",
      "[94]\tvalid_0's l2: 7.81288e+06\n",
      "[95]\tvalid_0's l2: 7.75842e+06\n",
      "[96]\tvalid_0's l2: 7.70144e+06\n",
      "[97]\tvalid_0's l2: 7.64975e+06\n",
      "[98]\tvalid_0's l2: 7.59646e+06\n",
      "[99]\tvalid_0's l2: 7.54701e+06\n",
      "[100]\tvalid_0's l2: 7.49307e+06\n",
      "Did not meet early stopping. Best iteration is:\n",
      "[100]\tvalid_0's l2: 7.49307e+06\n",
      "CPU times: user 3.5 s, sys: 0 ns, total: 3.5 s\n",
      "Wall time: 3.55 s\n"
     ]
    }
   ],
   "source": [
    "%%time\n",
    "# обучение модели lightGBM\n",
    "\n",
    "model_1 = lgb.train(\n",
    "    parameters_1, \n",
    "    train_set=train_data,\n",
    "    valid_sets=valid_data,\n",
    "    early_stopping_rounds=30\n",
    "    )\n",
    "\n"
   ]
  },
  {
   "cell_type": "code",
   "execution_count": 56,
   "metadata": {
    "scrolled": true
   },
   "outputs": [
    {
     "name": "stdout",
     "output_type": "stream",
     "text": [
      "RMSE train: 2767.026642952109\n",
      "\n",
      "RMSE valid: 2737.3479670727606\n",
      "CPU times: user 828 ms, sys: 0 ns, total: 828 ms\n",
      "Wall time: 802 ms\n"
     ]
    }
   ],
   "source": [
    "%%time\n",
    "\n",
    "#предсказание модели\n",
    "model_1_prediction_train = model_1.predict(X_train)\n",
    "model_1_prediction_valid = model_1.predict(X_valid)\n",
    "\n",
    "\n",
    "# вывод метрики RMSE\n",
    "print(\"RMSE train:\", mean_squared_error(y_train, model_1_prediction_train)**0.5)\n",
    "print()\n",
    "print(\"RMSE valid:\", mean_squared_error(y_valid, model_1_prediction_valid)**0.5)"
   ]
  },
  {
   "cell_type": "markdown",
   "metadata": {},
   "source": [
    "Значение RMSE в 2700+,что нас не вполне устраивает, нам нужно значение RMSE меньше. Поменяем параметры, чтобы посмотреть как они повлияют на скорость обучения модели и результат. Время обучения две с половиной минуты"
   ]
  },
  {
   "cell_type": "markdown",
   "metadata": {},
   "source": [
    "Изменим глубину деревьев"
   ]
  },
  {
   "cell_type": "code",
   "execution_count": 57,
   "metadata": {},
   "outputs": [],
   "source": [
    "parameters_2 =  {\n",
    "    'learning_rate': 0.01,\n",
    "    'boosting': 'gbdt',\n",
    "    'objective': 'regression',\n",
    "    'num_leaves': 63,\n",
    "    'verbose': -1\n",
    "}"
   ]
  },
  {
   "cell_type": "code",
   "execution_count": 58,
   "metadata": {},
   "outputs": [
    {
     "name": "stdout",
     "output_type": "stream",
     "text": [
      "[1]\tvalid_0's l2: 1.95299e+07\n",
      "Training until validation scores don't improve for 30 rounds\n",
      "[2]\tvalid_0's l2: 1.9229e+07\n"
     ]
    },
    {
     "name": "stderr",
     "output_type": "stream",
     "text": [
      "/opt/conda/lib/python3.9/site-packages/lightgbm/engine.py:181: UserWarning: 'early_stopping_rounds' argument is deprecated and will be removed in a future release of LightGBM. Pass 'early_stopping()' callback via 'callbacks' argument instead.\n",
      "  _log_warning(\"'early_stopping_rounds' argument is deprecated and will be removed in a future release of LightGBM. \"\n"
     ]
    },
    {
     "name": "stdout",
     "output_type": "stream",
     "text": [
      "[3]\tvalid_0's l2: 1.89341e+07\n",
      "[4]\tvalid_0's l2: 1.86451e+07\n",
      "[5]\tvalid_0's l2: 1.83625e+07\n",
      "[6]\tvalid_0's l2: 1.80856e+07\n",
      "[7]\tvalid_0's l2: 1.78143e+07\n",
      "[8]\tvalid_0's l2: 1.75488e+07\n",
      "[9]\tvalid_0's l2: 1.72868e+07\n",
      "[10]\tvalid_0's l2: 1.70307e+07\n",
      "[11]\tvalid_0's l2: 1.67794e+07\n",
      "[12]\tvalid_0's l2: 1.65332e+07\n",
      "[13]\tvalid_0's l2: 1.62919e+07\n",
      "[14]\tvalid_0's l2: 1.60542e+07\n",
      "[15]\tvalid_0's l2: 1.58208e+07\n",
      "[16]\tvalid_0's l2: 1.55924e+07\n",
      "[17]\tvalid_0's l2: 1.53689e+07\n",
      "[18]\tvalid_0's l2: 1.51494e+07\n",
      "[19]\tvalid_0's l2: 1.49336e+07\n",
      "[20]\tvalid_0's l2: 1.47226e+07\n",
      "[21]\tvalid_0's l2: 1.45156e+07\n",
      "[22]\tvalid_0's l2: 1.43112e+07\n",
      "[23]\tvalid_0's l2: 1.41122e+07\n",
      "[24]\tvalid_0's l2: 1.39167e+07\n",
      "[25]\tvalid_0's l2: 1.37241e+07\n",
      "[26]\tvalid_0's l2: 1.35357e+07\n",
      "[27]\tvalid_0's l2: 1.33509e+07\n",
      "[28]\tvalid_0's l2: 1.31695e+07\n",
      "[29]\tvalid_0's l2: 1.29903e+07\n",
      "[30]\tvalid_0's l2: 1.28145e+07\n",
      "[31]\tvalid_0's l2: 1.26422e+07\n",
      "[32]\tvalid_0's l2: 1.2473e+07\n",
      "[33]\tvalid_0's l2: 1.23075e+07\n",
      "[34]\tvalid_0's l2: 1.2145e+07\n",
      "[35]\tvalid_0's l2: 1.19853e+07\n",
      "[36]\tvalid_0's l2: 1.18282e+07\n",
      "[37]\tvalid_0's l2: 1.16743e+07\n",
      "[38]\tvalid_0's l2: 1.15221e+07\n",
      "[39]\tvalid_0's l2: 1.13752e+07\n",
      "[40]\tvalid_0's l2: 1.123e+07\n",
      "[41]\tvalid_0's l2: 1.10877e+07\n",
      "[42]\tvalid_0's l2: 1.09464e+07\n",
      "[43]\tvalid_0's l2: 1.08089e+07\n",
      "[44]\tvalid_0's l2: 1.06734e+07\n",
      "[45]\tvalid_0's l2: 1.05396e+07\n",
      "[46]\tvalid_0's l2: 1.04097e+07\n",
      "[47]\tvalid_0's l2: 1.02804e+07\n",
      "[48]\tvalid_0's l2: 1.0155e+07\n",
      "[49]\tvalid_0's l2: 1.00306e+07\n",
      "[50]\tvalid_0's l2: 9.90827e+06\n",
      "[51]\tvalid_0's l2: 9.78651e+06\n",
      "[52]\tvalid_0's l2: 9.66921e+06\n",
      "[53]\tvalid_0's l2: 9.55212e+06\n",
      "[54]\tvalid_0's l2: 9.43812e+06\n",
      "[55]\tvalid_0's l2: 9.32752e+06\n",
      "[56]\tvalid_0's l2: 9.21762e+06\n",
      "[57]\tvalid_0's l2: 9.10869e+06\n",
      "[58]\tvalid_0's l2: 9.00378e+06\n",
      "[59]\tvalid_0's l2: 8.89976e+06\n",
      "[60]\tvalid_0's l2: 8.79698e+06\n",
      "[61]\tvalid_0's l2: 8.69614e+06\n",
      "[62]\tvalid_0's l2: 8.59922e+06\n",
      "[63]\tvalid_0's l2: 8.5027e+06\n",
      "[64]\tvalid_0's l2: 8.40808e+06\n",
      "[65]\tvalid_0's l2: 8.31565e+06\n",
      "[66]\tvalid_0's l2: 8.2236e+06\n",
      "[67]\tvalid_0's l2: 8.13388e+06\n",
      "[68]\tvalid_0's l2: 8.04608e+06\n",
      "[69]\tvalid_0's l2: 7.95921e+06\n",
      "[70]\tvalid_0's l2: 7.87407e+06\n",
      "[71]\tvalid_0's l2: 7.79137e+06\n",
      "[72]\tvalid_0's l2: 7.70916e+06\n",
      "[73]\tvalid_0's l2: 7.62862e+06\n",
      "[74]\tvalid_0's l2: 7.54926e+06\n",
      "[75]\tvalid_0's l2: 7.47163e+06\n",
      "[76]\tvalid_0's l2: 7.39526e+06\n",
      "[77]\tvalid_0's l2: 7.31997e+06\n",
      "[78]\tvalid_0's l2: 7.24715e+06\n",
      "[79]\tvalid_0's l2: 7.17456e+06\n",
      "[80]\tvalid_0's l2: 7.10288e+06\n",
      "[81]\tvalid_0's l2: 7.03388e+06\n",
      "[82]\tvalid_0's l2: 6.96515e+06\n",
      "[83]\tvalid_0's l2: 6.89808e+06\n",
      "[84]\tvalid_0's l2: 6.83126e+06\n",
      "[85]\tvalid_0's l2: 6.7675e+06\n",
      "[86]\tvalid_0's l2: 6.70334e+06\n",
      "[87]\tvalid_0's l2: 6.6406e+06\n",
      "[88]\tvalid_0's l2: 6.57818e+06\n",
      "[89]\tvalid_0's l2: 6.51856e+06\n",
      "[90]\tvalid_0's l2: 6.45864e+06\n",
      "[91]\tvalid_0's l2: 6.40005e+06\n",
      "[92]\tvalid_0's l2: 6.3422e+06\n",
      "[93]\tvalid_0's l2: 6.28638e+06\n",
      "[94]\tvalid_0's l2: 6.23076e+06\n",
      "[95]\tvalid_0's l2: 6.17477e+06\n",
      "[96]\tvalid_0's l2: 6.12113e+06\n",
      "[97]\tvalid_0's l2: 6.06838e+06\n",
      "[98]\tvalid_0's l2: 6.01596e+06\n",
      "[99]\tvalid_0's l2: 5.965e+06\n",
      "[100]\tvalid_0's l2: 5.91417e+06\n",
      "Did not meet early stopping. Best iteration is:\n",
      "[100]\tvalid_0's l2: 5.91417e+06\n",
      "CPU times: user 7.18 s, sys: 24.4 ms, total: 7.2 s\n",
      "Wall time: 7.29 s\n"
     ]
    }
   ],
   "source": [
    "%%time\n",
    "# обучение модели lightGBM\n",
    "\n",
    "model_2 = lgb.train(\n",
    "    parameters_2, \n",
    "    train_set=train_data,\n",
    "    valid_sets=valid_data,\n",
    "    early_stopping_rounds=30\n",
    "    )\n"
   ]
  },
  {
   "cell_type": "code",
   "execution_count": 59,
   "metadata": {},
   "outputs": [
    {
     "name": "stdout",
     "output_type": "stream",
     "text": [
      "RMSE train: 2448.8008088993474\n",
      "\n",
      "RMSE valid: 2431.906747001741\n",
      "CPU times: user 1.54 s, sys: 0 ns, total: 1.54 s\n",
      "Wall time: 1.59 s\n"
     ]
    }
   ],
   "source": [
    "%%time\n",
    "#предсказание модели\n",
    "model_2_prediction_train = model_2.predict(X_train)\n",
    "model_2_prediction_valid = model_2.predict(X_valid)\n",
    "\n",
    "\n",
    "# вывод метрики RMSE\n",
    "print(\"RMSE train:\", mean_squared_error(y_train, model_2_prediction_train)**0.5)\n",
    "print()\n",
    "print(\"RMSE valid:\", mean_squared_error(y_valid, model_2_prediction_valid)**0.5)"
   ]
  },
  {
   "cell_type": "markdown",
   "metadata": {},
   "source": [
    "Уточность модели увеличилась приблизительно на 10%, скорость обучения осталась увеличилась больше чем в 5 раз."
   ]
  },
  {
   "cell_type": "markdown",
   "metadata": {},
   "source": [
    "Изменим скорость обучения, глубину деревьев оставим ту же: 63"
   ]
  },
  {
   "cell_type": "code",
   "execution_count": 60,
   "metadata": {},
   "outputs": [],
   "source": [
    "parameters_3 =  {\n",
    "    'learning_rate': 0.05,\n",
    "    'boosting': 'gbdt',\n",
    "    'objective': 'regression',\n",
    "    'num_leaves': 63,\n",
    "    'verbose': -1\n",
    "}"
   ]
  },
  {
   "cell_type": "code",
   "execution_count": 61,
   "metadata": {},
   "outputs": [
    {
     "name": "stdout",
     "output_type": "stream",
     "text": [
      "[1]\tvalid_0's l2: 1.83351e+07\n",
      "Training until validation scores don't improve for 30 rounds\n"
     ]
    },
    {
     "name": "stderr",
     "output_type": "stream",
     "text": [
      "/opt/conda/lib/python3.9/site-packages/lightgbm/engine.py:181: UserWarning: 'early_stopping_rounds' argument is deprecated and will be removed in a future release of LightGBM. Pass 'early_stopping()' callback via 'callbacks' argument instead.\n",
      "  _log_warning(\"'early_stopping_rounds' argument is deprecated and will be removed in a future release of LightGBM. \"\n"
     ]
    },
    {
     "name": "stdout",
     "output_type": "stream",
     "text": [
      "[2]\tvalid_0's l2: 1.69792e+07\n",
      "[3]\tvalid_0's l2: 1.57545e+07\n",
      "[4]\tvalid_0's l2: 1.46402e+07\n",
      "[5]\tvalid_0's l2: 1.36338e+07\n",
      "[6]\tvalid_0's l2: 1.2722e+07\n",
      "[7]\tvalid_0's l2: 1.188e+07\n",
      "[8]\tvalid_0's l2: 1.11217e+07\n",
      "[9]\tvalid_0's l2: 1.04254e+07\n",
      "[10]\tvalid_0's l2: 9.79009e+06\n",
      "[11]\tvalid_0's l2: 9.20588e+06\n",
      "[12]\tvalid_0's l2: 8.68515e+06\n",
      "[13]\tvalid_0's l2: 8.20453e+06\n",
      "[14]\tvalid_0's l2: 7.76166e+06\n",
      "[15]\tvalid_0's l2: 7.35856e+06\n",
      "[16]\tvalid_0's l2: 6.99706e+06\n",
      "[17]\tvalid_0's l2: 6.66248e+06\n",
      "[18]\tvalid_0's l2: 6.35834e+06\n",
      "[19]\tvalid_0's l2: 6.07998e+06\n",
      "[20]\tvalid_0's l2: 5.8283e+06\n",
      "[21]\tvalid_0's l2: 5.58872e+06\n",
      "[22]\tvalid_0's l2: 5.37408e+06\n",
      "[23]\tvalid_0's l2: 5.17267e+06\n",
      "[24]\tvalid_0's l2: 4.99184e+06\n",
      "[25]\tvalid_0's l2: 4.82366e+06\n",
      "[26]\tvalid_0's l2: 4.67397e+06\n",
      "[27]\tvalid_0's l2: 4.53388e+06\n",
      "[28]\tvalid_0's l2: 4.40685e+06\n",
      "[29]\tvalid_0's l2: 4.28396e+06\n",
      "[30]\tvalid_0's l2: 4.174e+06\n",
      "[31]\tvalid_0's l2: 4.07115e+06\n",
      "[32]\tvalid_0's l2: 3.98081e+06\n",
      "[33]\tvalid_0's l2: 3.8941e+06\n",
      "[34]\tvalid_0's l2: 3.81506e+06\n",
      "[35]\tvalid_0's l2: 3.742e+06\n",
      "[36]\tvalid_0's l2: 3.67251e+06\n",
      "[37]\tvalid_0's l2: 3.61154e+06\n",
      "[38]\tvalid_0's l2: 3.55464e+06\n",
      "[39]\tvalid_0's l2: 3.49905e+06\n",
      "[40]\tvalid_0's l2: 3.44865e+06\n",
      "[41]\tvalid_0's l2: 3.40108e+06\n",
      "[42]\tvalid_0's l2: 3.35644e+06\n",
      "[43]\tvalid_0's l2: 3.31502e+06\n",
      "[44]\tvalid_0's l2: 3.27956e+06\n",
      "[45]\tvalid_0's l2: 3.24427e+06\n",
      "[46]\tvalid_0's l2: 3.2122e+06\n",
      "[47]\tvalid_0's l2: 3.1793e+06\n",
      "[48]\tvalid_0's l2: 3.15057e+06\n",
      "[49]\tvalid_0's l2: 3.12214e+06\n",
      "[50]\tvalid_0's l2: 3.09684e+06\n",
      "[51]\tvalid_0's l2: 3.07135e+06\n",
      "[52]\tvalid_0's l2: 3.04778e+06\n",
      "[53]\tvalid_0's l2: 3.02809e+06\n",
      "[54]\tvalid_0's l2: 3.00742e+06\n",
      "[55]\tvalid_0's l2: 2.98992e+06\n",
      "[56]\tvalid_0's l2: 2.97307e+06\n",
      "[57]\tvalid_0's l2: 2.95619e+06\n",
      "[58]\tvalid_0's l2: 2.94006e+06\n",
      "[59]\tvalid_0's l2: 2.92338e+06\n",
      "[60]\tvalid_0's l2: 2.91043e+06\n",
      "[61]\tvalid_0's l2: 2.8978e+06\n",
      "[62]\tvalid_0's l2: 2.88538e+06\n",
      "[63]\tvalid_0's l2: 2.87315e+06\n",
      "[64]\tvalid_0's l2: 2.8617e+06\n",
      "[65]\tvalid_0's l2: 2.85071e+06\n",
      "[66]\tvalid_0's l2: 2.84123e+06\n",
      "[67]\tvalid_0's l2: 2.83259e+06\n",
      "[68]\tvalid_0's l2: 2.82253e+06\n",
      "[69]\tvalid_0's l2: 2.81374e+06\n",
      "[70]\tvalid_0's l2: 2.80437e+06\n",
      "[71]\tvalid_0's l2: 2.79652e+06\n",
      "[72]\tvalid_0's l2: 2.78823e+06\n",
      "[73]\tvalid_0's l2: 2.78106e+06\n",
      "[74]\tvalid_0's l2: 2.77364e+06\n",
      "[75]\tvalid_0's l2: 2.76686e+06\n",
      "[76]\tvalid_0's l2: 2.76117e+06\n",
      "[77]\tvalid_0's l2: 2.75474e+06\n",
      "[78]\tvalid_0's l2: 2.74902e+06\n",
      "[79]\tvalid_0's l2: 2.7438e+06\n",
      "[80]\tvalid_0's l2: 2.73937e+06\n",
      "[81]\tvalid_0's l2: 2.73447e+06\n",
      "[82]\tvalid_0's l2: 2.72958e+06\n",
      "[83]\tvalid_0's l2: 2.72477e+06\n",
      "[84]\tvalid_0's l2: 2.71966e+06\n",
      "[85]\tvalid_0's l2: 2.71488e+06\n",
      "[86]\tvalid_0's l2: 2.71139e+06\n",
      "[87]\tvalid_0's l2: 2.70753e+06\n",
      "[88]\tvalid_0's l2: 2.70433e+06\n",
      "[89]\tvalid_0's l2: 2.69988e+06\n",
      "[90]\tvalid_0's l2: 2.69652e+06\n",
      "[91]\tvalid_0's l2: 2.69331e+06\n",
      "[92]\tvalid_0's l2: 2.69009e+06\n",
      "[93]\tvalid_0's l2: 2.68811e+06\n",
      "[94]\tvalid_0's l2: 2.68428e+06\n",
      "[95]\tvalid_0's l2: 2.68092e+06\n",
      "[96]\tvalid_0's l2: 2.67767e+06\n",
      "[97]\tvalid_0's l2: 2.67608e+06\n",
      "[98]\tvalid_0's l2: 2.67308e+06\n",
      "[99]\tvalid_0's l2: 2.67032e+06\n",
      "[100]\tvalid_0's l2: 2.66817e+06\n",
      "Did not meet early stopping. Best iteration is:\n",
      "[100]\tvalid_0's l2: 2.66817e+06\n",
      "CPU times: user 7.34 s, sys: 64.1 ms, total: 7.41 s\n",
      "Wall time: 7.58 s\n"
     ]
    }
   ],
   "source": [
    "%%time\n",
    "# обучение модели lightGBM\n",
    "\n",
    "model_3 = lgb.train(\n",
    "    parameters_3, \n",
    "    train_set=train_data,\n",
    "    valid_sets=valid_data,\n",
    "    early_stopping_rounds=30\n",
    "    )\n"
   ]
  },
  {
   "cell_type": "code",
   "execution_count": 62,
   "metadata": {},
   "outputs": [
    {
     "name": "stdout",
     "output_type": "stream",
     "text": [
      "RMSE train: 1567.1165265111547\n",
      "\n",
      "RMSE valid: 1633.4519887324966\n"
     ]
    }
   ],
   "source": [
    "#предсказание модели\n",
    "model_3_prediction_train = model_3.predict(X_train)\n",
    "model_3_prediction_valid = model_3.predict(X_valid)\n",
    "\n",
    "\n",
    "# вывод метрики RMSE\n",
    "print(\"RMSE train:\", mean_squared_error(y_train, model_3_prediction_train)**0.5)\n",
    "print()\n",
    "print(\"RMSE valid:\", mean_squared_error(y_valid, model_3_prediction_valid)**0.5)"
   ]
  },
  {
   "cell_type": "markdown",
   "metadata": {},
   "source": [
    "Скорость обучеия увеличилась, и больше 4 минут, при это точность значительно улучшилась и RSME меньше 1600.\n"
   ]
  },
  {
   "cell_type": "markdown",
   "metadata": {},
   "source": [
    "**Кодирование значение и альтернативная модель**"
   ]
  },
  {
   "cell_type": "markdown",
   "metadata": {},
   "source": [
    "В датафрейме есть нечисловые категориальные данные, с которыми модель работать не сможет. Переведём их в числовые методом One-Hot Encoding, т.к. этот метод работат с любмыми моделями, в том числе co случайным лесом.\n",
    "В lightGBM уже есть функция One-Hot Encoding, для ускорения работы и удобства, т.к. мы обучаем ещё и другую модель (линейную регрессию) перекодируем данные отдельно."
   ]
  },
  {
   "cell_type": "code",
   "execution_count": 63,
   "metadata": {},
   "outputs": [
    {
     "name": "stdout",
     "output_type": "stream",
     "text": [
      "['vehicle_type', 'gearbox', 'model', 'fuel_type', 'brand', 'repaired']\n",
      "['registration_year', 'power', 'kilometer', 'registration_month']\n"
     ]
    }
   ],
   "source": [
    "#категориальные признаки для OHE\n",
    "#X_train.columns = X.columns.astype(str)\n",
    "ohe_features = X.select_dtypes(include='category').columns.to_list()\n",
    "#численные признаки\n",
    "num_features = X.select_dtypes(exclude='category').columns.to_list()\n",
    "\n",
    "print(ohe_features)\n",
    "print(num_features)"
   ]
  },
  {
   "cell_type": "code",
   "execution_count": 64,
   "metadata": {
    "scrolled": true
   },
   "outputs": [
    {
     "name": "stdout",
     "output_type": "stream",
     "text": [
      "<class 'pandas.core.frame.DataFrame'>\n",
      "Int64Index: 284713 entries, 1 to 354368\n",
      "Data columns (total 10 columns):\n",
      " #   Column              Non-Null Count   Dtype   \n",
      "---  ------              --------------   -----   \n",
      " 0   vehicle_type        284713 non-null  category\n",
      " 1   registration_year   284713 non-null  int64   \n",
      " 2   gearbox             284713 non-null  category\n",
      " 3   power               284713 non-null  int64   \n",
      " 4   model               284713 non-null  category\n",
      " 5   kilometer           284713 non-null  int64   \n",
      " 6   registration_month  284713 non-null  int8    \n",
      " 7   fuel_type           284713 non-null  category\n",
      " 8   brand               284713 non-null  category\n",
      " 9   repaired            284713 non-null  category\n",
      "dtypes: category(6), int64(3), int8(1)\n",
      "memory usage: 10.9 MB\n"
     ]
    }
   ],
   "source": [
    "X.info()"
   ]
  },
  {
   "cell_type": "code",
   "execution_count": 65,
   "metadata": {},
   "outputs": [],
   "source": [
    "# копируем данные\n",
    "X_ohe = X.copy()\n",
    "\n",
    "# таким образом обходим dummy-ловушку\n",
    "encoder_ohe = OneHotEncoder(drop='first', handle_unknown='infrequent_if_exist', sparse_output=False)\n",
    "\n",
    "# обучаем энкодер на заданных категориальных признаках тренировочной выборки\n",
    "encoder_ohe.fit(X_ohe[ohe_features])\n",
    "\n",
    "# создаём скелер\n",
    "scaler = StandardScaler()\n",
    "\n",
    "# обучаем его на численных признаках полной выборки, трансформируем её же\n",
    "X_ohe[num_features] = scaler.fit_transform(X_ohe[num_features])"
   ]
  },
  {
   "cell_type": "code",
   "execution_count": 66,
   "metadata": {},
   "outputs": [
    {
     "data": {
      "text/html": [
       "<div>\n",
       "<style scoped>\n",
       "    .dataframe tbody tr th:only-of-type {\n",
       "        vertical-align: middle;\n",
       "    }\n",
       "\n",
       "    .dataframe tbody tr th {\n",
       "        vertical-align: top;\n",
       "    }\n",
       "\n",
       "    .dataframe thead th {\n",
       "        text-align: right;\n",
       "    }\n",
       "</style>\n",
       "<table border=\"1\" class=\"dataframe\">\n",
       "  <thead>\n",
       "    <tr style=\"text-align: right;\">\n",
       "      <th></th>\n",
       "      <th>vehicle_type</th>\n",
       "      <th>registration_year</th>\n",
       "      <th>gearbox</th>\n",
       "      <th>power</th>\n",
       "      <th>model</th>\n",
       "      <th>kilometer</th>\n",
       "      <th>registration_month</th>\n",
       "      <th>fuel_type</th>\n",
       "      <th>brand</th>\n",
       "      <th>repaired</th>\n",
       "    </tr>\n",
       "  </thead>\n",
       "  <tbody>\n",
       "    <tr>\n",
       "      <th>1</th>\n",
       "      <td>coupe</td>\n",
       "      <td>1.302649</td>\n",
       "      <td>manual</td>\n",
       "      <td>1.627202</td>\n",
       "      <td>unknown</td>\n",
       "      <td>-0.095283</td>\n",
       "      <td>-0.412474</td>\n",
       "      <td>gasoline</td>\n",
       "      <td>audi</td>\n",
       "      <td>yes</td>\n",
       "    </tr>\n",
       "    <tr>\n",
       "      <th>2</th>\n",
       "      <td>suv</td>\n",
       "      <td>0.157973</td>\n",
       "      <td>auto</td>\n",
       "      <td>1.013541</td>\n",
       "      <td>grand</td>\n",
       "      <td>-0.095283</td>\n",
       "      <td>0.484210</td>\n",
       "      <td>gasoline</td>\n",
       "      <td>jeep</td>\n",
       "      <td>no</td>\n",
       "    </tr>\n",
       "    <tr>\n",
       "      <th>3</th>\n",
       "      <td>small</td>\n",
       "      <td>-0.332602</td>\n",
       "      <td>manual</td>\n",
       "      <td>-0.986539</td>\n",
       "      <td>golf</td>\n",
       "      <td>0.586264</td>\n",
       "      <td>-0.113579</td>\n",
       "      <td>petrol</td>\n",
       "      <td>volkswagen</td>\n",
       "      <td>no</td>\n",
       "    </tr>\n",
       "    <tr>\n",
       "      <th>4</th>\n",
       "      <td>small</td>\n",
       "      <td>0.812074</td>\n",
       "      <td>manual</td>\n",
       "      <td>-1.122908</td>\n",
       "      <td>fabia</td>\n",
       "      <td>-1.049449</td>\n",
       "      <td>0.185316</td>\n",
       "      <td>gasoline</td>\n",
       "      <td>skoda</td>\n",
       "      <td>no</td>\n",
       "    </tr>\n",
       "    <tr>\n",
       "      <th>5</th>\n",
       "      <td>sedan</td>\n",
       "      <td>-1.313752</td>\n",
       "      <td>manual</td>\n",
       "      <td>-0.372878</td>\n",
       "      <td>3er</td>\n",
       "      <td>0.586264</td>\n",
       "      <td>1.082000</td>\n",
       "      <td>petrol</td>\n",
       "      <td>bmw</td>\n",
       "      <td>yes</td>\n",
       "    </tr>\n",
       "  </tbody>\n",
       "</table>\n",
       "</div>"
      ],
      "text/plain": [
       "  vehicle_type  registration_year gearbox     power    model  kilometer  \\\n",
       "1        coupe           1.302649  manual  1.627202  unknown  -0.095283   \n",
       "2          suv           0.157973    auto  1.013541    grand  -0.095283   \n",
       "3        small          -0.332602  manual -0.986539     golf   0.586264   \n",
       "4        small           0.812074  manual -1.122908    fabia  -1.049449   \n",
       "5        sedan          -1.313752  manual -0.372878      3er   0.586264   \n",
       "\n",
       "   registration_month fuel_type       brand repaired  \n",
       "1           -0.412474  gasoline        audi      yes  \n",
       "2            0.484210  gasoline        jeep       no  \n",
       "3           -0.113579    petrol  volkswagen       no  \n",
       "4            0.185316  gasoline       skoda       no  \n",
       "5            1.082000    petrol         bmw      yes  "
      ]
     },
     "execution_count": 66,
     "metadata": {},
     "output_type": "execute_result"
    }
   ],
   "source": [
    "X_ohe.head()"
   ]
  },
  {
   "cell_type": "code",
   "execution_count": 67,
   "metadata": {},
   "outputs": [
    {
     "data": {
      "text/html": [
       "<div>\n",
       "<style scoped>\n",
       "    .dataframe tbody tr th:only-of-type {\n",
       "        vertical-align: middle;\n",
       "    }\n",
       "\n",
       "    .dataframe tbody tr th {\n",
       "        vertical-align: top;\n",
       "    }\n",
       "\n",
       "    .dataframe thead th {\n",
       "        text-align: right;\n",
       "    }\n",
       "</style>\n",
       "<table border=\"1\" class=\"dataframe\">\n",
       "  <thead>\n",
       "    <tr style=\"text-align: right;\">\n",
       "      <th></th>\n",
       "      <th>registration_year</th>\n",
       "      <th>power</th>\n",
       "      <th>kilometer</th>\n",
       "      <th>registration_month</th>\n",
       "      <th>vehicle_type_convertible</th>\n",
       "      <th>vehicle_type_coupe</th>\n",
       "      <th>vehicle_type_other</th>\n",
       "      <th>vehicle_type_sedan</th>\n",
       "      <th>vehicle_type_small</th>\n",
       "      <th>vehicle_type_suv</th>\n",
       "      <th>vehicle_type_unknown</th>\n",
       "      <th>vehicle_type_wagon</th>\n",
       "      <th>gearbox_manual</th>\n",
       "      <th>gearbox_unknown</th>\n",
       "      <th>model_145</th>\n",
       "      <th>model_147</th>\n",
       "      <th>model_156</th>\n",
       "      <th>model_159</th>\n",
       "      <th>model_1_reihe</th>\n",
       "      <th>model_1er</th>\n",
       "      <th>model_200</th>\n",
       "      <th>model_2_reihe</th>\n",
       "      <th>model_300c</th>\n",
       "      <th>model_3_reihe</th>\n",
       "      <th>model_3er</th>\n",
       "      <th>model_4_reihe</th>\n",
       "      <th>model_500</th>\n",
       "      <th>model_5_reihe</th>\n",
       "      <th>model_5er</th>\n",
       "      <th>model_6_reihe</th>\n",
       "      <th>model_6er</th>\n",
       "      <th>model_7er</th>\n",
       "      <th>model_80</th>\n",
       "      <th>model_850</th>\n",
       "      <th>model_90</th>\n",
       "      <th>model_900</th>\n",
       "      <th>model_9000</th>\n",
       "      <th>model_911</th>\n",
       "      <th>model_a1</th>\n",
       "      <th>model_a2</th>\n",
       "      <th>model_a3</th>\n",
       "      <th>model_a4</th>\n",
       "      <th>model_a5</th>\n",
       "      <th>model_a6</th>\n",
       "      <th>model_a8</th>\n",
       "      <th>model_a_klasse</th>\n",
       "      <th>model_accord</th>\n",
       "      <th>model_agila</th>\n",
       "      <th>model_alhambra</th>\n",
       "      <th>model_almera</th>\n",
       "      <th>model_altea</th>\n",
       "      <th>model_amarok</th>\n",
       "      <th>model_antara</th>\n",
       "      <th>model_arosa</th>\n",
       "      <th>model_astra</th>\n",
       "      <th>model_auris</th>\n",
       "      <th>model_avensis</th>\n",
       "      <th>model_aveo</th>\n",
       "      <th>model_aygo</th>\n",
       "      <th>model_b_klasse</th>\n",
       "      <th>model_b_max</th>\n",
       "      <th>model_beetle</th>\n",
       "      <th>model_berlingo</th>\n",
       "      <th>model_bora</th>\n",
       "      <th>model_boxster</th>\n",
       "      <th>model_bravo</th>\n",
       "      <th>model_c1</th>\n",
       "      <th>model_c2</th>\n",
       "      <th>model_c3</th>\n",
       "      <th>model_c4</th>\n",
       "      <th>model_c5</th>\n",
       "      <th>model_c_klasse</th>\n",
       "      <th>model_c_max</th>\n",
       "      <th>model_c_reihe</th>\n",
       "      <th>model_caddy</th>\n",
       "      <th>model_calibra</th>\n",
       "      <th>model_captiva</th>\n",
       "      <th>model_carisma</th>\n",
       "      <th>model_carnival</th>\n",
       "      <th>model_cayenne</th>\n",
       "      <th>model_cc</th>\n",
       "      <th>model_ceed</th>\n",
       "      <th>model_charade</th>\n",
       "      <th>model_cherokee</th>\n",
       "      <th>model_citigo</th>\n",
       "      <th>model_civic</th>\n",
       "      <th>model_cl</th>\n",
       "      <th>model_clio</th>\n",
       "      <th>model_clk</th>\n",
       "      <th>model_clubman</th>\n",
       "      <th>model_colt</th>\n",
       "      <th>model_combo</th>\n",
       "      <th>model_cooper</th>\n",
       "      <th>model_cordoba</th>\n",
       "      <th>model_corolla</th>\n",
       "      <th>model_corsa</th>\n",
       "      <th>model_cr_reihe</th>\n",
       "      <th>model_croma</th>\n",
       "      <th>model_crossfire</th>\n",
       "      <th>model_cuore</th>\n",
       "      <th>model_cx_reihe</th>\n",
       "      <th>model_defender</th>\n",
       "      <th>model_delta</th>\n",
       "      <th>model_discovery</th>\n",
       "      <th>model_doblo</th>\n",
       "      <th>model_ducato</th>\n",
       "      <th>model_duster</th>\n",
       "      <th>model_e_klasse</th>\n",
       "      <th>model_elefantino</th>\n",
       "      <th>model_eos</th>\n",
       "      <th>model_escort</th>\n",
       "      <th>model_espace</th>\n",
       "      <th>model_exeo</th>\n",
       "      <th>model_fabia</th>\n",
       "      <th>model_fiesta</th>\n",
       "      <th>model_focus</th>\n",
       "      <th>model_forester</th>\n",
       "      <th>model_forfour</th>\n",
       "      <th>model_fortwo</th>\n",
       "      <th>model_fox</th>\n",
       "      <th>model_freelander</th>\n",
       "      <th>model_fusion</th>\n",
       "      <th>model_g_klasse</th>\n",
       "      <th>model_galant</th>\n",
       "      <th>model_galaxy</th>\n",
       "      <th>model_getz</th>\n",
       "      <th>model_gl</th>\n",
       "      <th>model_glk</th>\n",
       "      <th>model_golf</th>\n",
       "      <th>model_grand</th>\n",
       "      <th>model_i3</th>\n",
       "      <th>model_i_reihe</th>\n",
       "      <th>model_ibiza</th>\n",
       "      <th>model_impreza</th>\n",
       "      <th>model_insignia</th>\n",
       "      <th>model_jazz</th>\n",
       "      <th>model_jetta</th>\n",
       "      <th>model_jimny</th>\n",
       "      <th>model_juke</th>\n",
       "      <th>model_justy</th>\n",
       "      <th>model_ka</th>\n",
       "      <th>model_kadett</th>\n",
       "      <th>model_kaefer</th>\n",
       "      <th>model_kalina</th>\n",
       "      <th>model_kalos</th>\n",
       "      <th>model_kangoo</th>\n",
       "      <th>model_kappa</th>\n",
       "      <th>model_kuga</th>\n",
       "      <th>model_laguna</th>\n",
       "      <th>model_lancer</th>\n",
       "      <th>model_lanos</th>\n",
       "      <th>model_legacy</th>\n",
       "      <th>model_leon</th>\n",
       "      <th>model_lodgy</th>\n",
       "      <th>model_logan</th>\n",
       "      <th>model_lupo</th>\n",
       "      <th>model_lybra</th>\n",
       "      <th>model_m_klasse</th>\n",
       "      <th>model_m_reihe</th>\n",
       "      <th>model_materia</th>\n",
       "      <th>model_matiz</th>\n",
       "      <th>model_megane</th>\n",
       "      <th>model_meriva</th>\n",
       "      <th>model_micra</th>\n",
       "      <th>model_mii</th>\n",
       "      <th>model_modus</th>\n",
       "      <th>model_mondeo</th>\n",
       "      <th>model_move</th>\n",
       "      <th>model_musa</th>\n",
       "      <th>model_mustang</th>\n",
       "      <th>model_mx_reihe</th>\n",
       "      <th>model_navara</th>\n",
       "      <th>model_niva</th>\n",
       "      <th>model_note</th>\n",
       "      <th>model_nubira</th>\n",
       "      <th>model_octavia</th>\n",
       "      <th>model_omega</th>\n",
       "      <th>model_one</th>\n",
       "      <th>model_other</th>\n",
       "      <th>model_outlander</th>\n",
       "      <th>model_pajero</th>\n",
       "      <th>model_panda</th>\n",
       "      <th>model_passat</th>\n",
       "      <th>model_phaeton</th>\n",
       "      <th>model_picanto</th>\n",
       "      <th>model_polo</th>\n",
       "      <th>model_primera</th>\n",
       "      <th>model_ptcruiser</th>\n",
       "      <th>model_punto</th>\n",
       "      <th>model_q3</th>\n",
       "      <th>model_q5</th>\n",
       "      <th>model_q7</th>\n",
       "      <th>model_qashqai</th>\n",
       "      <th>model_r19</th>\n",
       "      <th>model_range_rover</th>\n",
       "      <th>model_range_rover_sport</th>\n",
       "      <th>model_rangerover</th>\n",
       "      <th>model_rav</th>\n",
       "      <th>model_rio</th>\n",
       "      <th>model_roadster</th>\n",
       "      <th>model_roomster</th>\n",
       "      <th>model_rx_reihe</th>\n",
       "      <th>model_s60</th>\n",
       "      <th>model_s_klasse</th>\n",
       "      <th>model_s_max</th>\n",
       "      <th>model_s_type</th>\n",
       "      <th>model_samara</th>\n",
       "      <th>model_sandero</th>\n",
       "      <th>model_santa</th>\n",
       "      <th>model_scenic</th>\n",
       "      <th>model_scirocco</th>\n",
       "      <th>model_seicento</th>\n",
       "      <th>model_serie_2</th>\n",
       "      <th>model_serie_3</th>\n",
       "      <th>model_sharan</th>\n",
       "      <th>model_signum</th>\n",
       "      <th>model_sirion</th>\n",
       "      <th>model_sl</th>\n",
       "      <th>model_slk</th>\n",
       "      <th>model_sorento</th>\n",
       "      <th>model_spark</th>\n",
       "      <th>model_spider</th>\n",
       "      <th>model_sportage</th>\n",
       "      <th>model_sprinter</th>\n",
       "      <th>model_stilo</th>\n",
       "      <th>model_superb</th>\n",
       "      <th>model_swift</th>\n",
       "      <th>model_terios</th>\n",
       "      <th>model_tigra</th>\n",
       "      <th>model_tiguan</th>\n",
       "      <th>model_toledo</th>\n",
       "      <th>model_touareg</th>\n",
       "      <th>model_touran</th>\n",
       "      <th>model_transit</th>\n",
       "      <th>model_transporter</th>\n",
       "      <th>model_tt</th>\n",
       "      <th>model_tucson</th>\n",
       "      <th>model_twingo</th>\n",
       "      <th>model_unknown</th>\n",
       "      <th>model_up</th>\n",
       "      <th>model_v40</th>\n",
       "      <th>model_v50</th>\n",
       "      <th>model_v60</th>\n",
       "      <th>model_v70</th>\n",
       "      <th>model_v_klasse</th>\n",
       "      <th>model_vectra</th>\n",
       "      <th>model_verso</th>\n",
       "      <th>model_viano</th>\n",
       "      <th>model_vito</th>\n",
       "      <th>model_vivaro</th>\n",
       "      <th>model_voyager</th>\n",
       "      <th>model_wrangler</th>\n",
       "      <th>model_x_reihe</th>\n",
       "      <th>model_x_trail</th>\n",
       "      <th>model_x_type</th>\n",
       "      <th>model_xc_reihe</th>\n",
       "      <th>model_yaris</th>\n",
       "      <th>model_yeti</th>\n",
       "      <th>model_ypsilon</th>\n",
       "      <th>model_z_reihe</th>\n",
       "      <th>model_zafira</th>\n",
       "      <th>fuel_type_electric</th>\n",
       "      <th>fuel_type_gasoline</th>\n",
       "      <th>fuel_type_hybrid</th>\n",
       "      <th>fuel_type_lpg</th>\n",
       "      <th>fuel_type_other</th>\n",
       "      <th>fuel_type_petrol</th>\n",
       "      <th>fuel_type_unknown</th>\n",
       "      <th>brand_audi</th>\n",
       "      <th>brand_bmw</th>\n",
       "      <th>brand_chevrolet</th>\n",
       "      <th>brand_chrysler</th>\n",
       "      <th>brand_citroen</th>\n",
       "      <th>brand_dacia</th>\n",
       "      <th>brand_daewoo</th>\n",
       "      <th>brand_daihatsu</th>\n",
       "      <th>brand_fiat</th>\n",
       "      <th>brand_ford</th>\n",
       "      <th>brand_honda</th>\n",
       "      <th>brand_hyundai</th>\n",
       "      <th>brand_jaguar</th>\n",
       "      <th>brand_jeep</th>\n",
       "      <th>brand_kia</th>\n",
       "      <th>brand_lada</th>\n",
       "      <th>brand_lancia</th>\n",
       "      <th>brand_land_rover</th>\n",
       "      <th>brand_mazda</th>\n",
       "      <th>brand_mercedes_benz</th>\n",
       "      <th>brand_mini</th>\n",
       "      <th>brand_mitsubishi</th>\n",
       "      <th>brand_nissan</th>\n",
       "      <th>brand_opel</th>\n",
       "      <th>brand_peugeot</th>\n",
       "      <th>brand_porsche</th>\n",
       "      <th>brand_renault</th>\n",
       "      <th>brand_rover</th>\n",
       "      <th>brand_saab</th>\n",
       "      <th>brand_seat</th>\n",
       "      <th>brand_skoda</th>\n",
       "      <th>brand_smart</th>\n",
       "      <th>brand_sonstige_autos</th>\n",
       "      <th>brand_subaru</th>\n",
       "      <th>brand_suzuki</th>\n",
       "      <th>brand_toyota</th>\n",
       "      <th>brand_trabant</th>\n",
       "      <th>brand_volkswagen</th>\n",
       "      <th>brand_volvo</th>\n",
       "      <th>repaired_yes</th>\n",
       "    </tr>\n",
       "  </thead>\n",
       "  <tbody>\n",
       "    <tr>\n",
       "      <th>330633</th>\n",
       "      <td>-0.496127</td>\n",
       "      <td>-0.077411</td>\n",
       "      <td>0.586264</td>\n",
       "      <td>-1.309158</td>\n",
       "      <td>0.0</td>\n",
       "      <td>0.0</td>\n",
       "      <td>0.0</td>\n",
       "      <td>1.0</td>\n",
       "      <td>0.0</td>\n",
       "      <td>0.0</td>\n",
       "      <td>0.0</td>\n",
       "      <td>0.0</td>\n",
       "      <td>0.0</td>\n",
       "      <td>0.0</td>\n",
       "      <td>0.0</td>\n",
       "      <td>0.0</td>\n",
       "      <td>0.0</td>\n",
       "      <td>0.0</td>\n",
       "      <td>0.0</td>\n",
       "      <td>0.0</td>\n",
       "      <td>0.0</td>\n",
       "      <td>0.0</td>\n",
       "      <td>0.0</td>\n",
       "      <td>0.0</td>\n",
       "      <td>0.0</td>\n",
       "      <td>0.0</td>\n",
       "      <td>0.0</td>\n",
       "      <td>0.0</td>\n",
       "      <td>0.0</td>\n",
       "      <td>0.0</td>\n",
       "      <td>0.0</td>\n",
       "      <td>0.0</td>\n",
       "      <td>0.0</td>\n",
       "      <td>0.0</td>\n",
       "      <td>0.0</td>\n",
       "      <td>0.0</td>\n",
       "      <td>0.0</td>\n",
       "      <td>0.0</td>\n",
       "      <td>0.0</td>\n",
       "      <td>0.0</td>\n",
       "      <td>0.0</td>\n",
       "      <td>0.0</td>\n",
       "      <td>0.0</td>\n",
       "      <td>0.0</td>\n",
       "      <td>0.0</td>\n",
       "      <td>0.0</td>\n",
       "      <td>0.0</td>\n",
       "      <td>0.0</td>\n",
       "      <td>0.0</td>\n",
       "      <td>0.0</td>\n",
       "      <td>0.0</td>\n",
       "      <td>0.0</td>\n",
       "      <td>0.0</td>\n",
       "      <td>0.0</td>\n",
       "      <td>0.0</td>\n",
       "      <td>0.0</td>\n",
       "      <td>0.0</td>\n",
       "      <td>0.0</td>\n",
       "      <td>0.0</td>\n",
       "      <td>0.0</td>\n",
       "      <td>0.0</td>\n",
       "      <td>0.0</td>\n",
       "      <td>0.0</td>\n",
       "      <td>0.0</td>\n",
       "      <td>0.0</td>\n",
       "      <td>0.0</td>\n",
       "      <td>0.0</td>\n",
       "      <td>0.0</td>\n",
       "      <td>0.0</td>\n",
       "      <td>0.0</td>\n",
       "      <td>0.0</td>\n",
       "      <td>0.0</td>\n",
       "      <td>0.0</td>\n",
       "      <td>0.0</td>\n",
       "      <td>0.0</td>\n",
       "      <td>0.0</td>\n",
       "      <td>0.0</td>\n",
       "      <td>0.0</td>\n",
       "      <td>0.0</td>\n",
       "      <td>0.0</td>\n",
       "      <td>0.0</td>\n",
       "      <td>0.0</td>\n",
       "      <td>0.0</td>\n",
       "      <td>0.0</td>\n",
       "      <td>0.0</td>\n",
       "      <td>0.0</td>\n",
       "      <td>0.0</td>\n",
       "      <td>0.0</td>\n",
       "      <td>0.0</td>\n",
       "      <td>0.0</td>\n",
       "      <td>0.0</td>\n",
       "      <td>0.0</td>\n",
       "      <td>0.0</td>\n",
       "      <td>0.0</td>\n",
       "      <td>0.0</td>\n",
       "      <td>0.0</td>\n",
       "      <td>0.0</td>\n",
       "      <td>0.0</td>\n",
       "      <td>0.0</td>\n",
       "      <td>0.0</td>\n",
       "      <td>0.0</td>\n",
       "      <td>0.0</td>\n",
       "      <td>0.0</td>\n",
       "      <td>0.0</td>\n",
       "      <td>0.0</td>\n",
       "      <td>0.0</td>\n",
       "      <td>0.0</td>\n",
       "      <td>0.0</td>\n",
       "      <td>0.0</td>\n",
       "      <td>0.0</td>\n",
       "      <td>0.0</td>\n",
       "      <td>0.0</td>\n",
       "      <td>0.0</td>\n",
       "      <td>0.0</td>\n",
       "      <td>0.0</td>\n",
       "      <td>0.0</td>\n",
       "      <td>0.0</td>\n",
       "      <td>0.0</td>\n",
       "      <td>0.0</td>\n",
       "      <td>0.0</td>\n",
       "      <td>0.0</td>\n",
       "      <td>0.0</td>\n",
       "      <td>0.0</td>\n",
       "      <td>0.0</td>\n",
       "      <td>0.0</td>\n",
       "      <td>0.0</td>\n",
       "      <td>0.0</td>\n",
       "      <td>0.0</td>\n",
       "      <td>0.0</td>\n",
       "      <td>0.0</td>\n",
       "      <td>0.0</td>\n",
       "      <td>0.0</td>\n",
       "      <td>0.0</td>\n",
       "      <td>0.0</td>\n",
       "      <td>0.0</td>\n",
       "      <td>0.0</td>\n",
       "      <td>0.0</td>\n",
       "      <td>0.0</td>\n",
       "      <td>0.0</td>\n",
       "      <td>0.0</td>\n",
       "      <td>0.0</td>\n",
       "      <td>0.0</td>\n",
       "      <td>0.0</td>\n",
       "      <td>0.0</td>\n",
       "      <td>0.0</td>\n",
       "      <td>0.0</td>\n",
       "      <td>0.0</td>\n",
       "      <td>0.0</td>\n",
       "      <td>0.0</td>\n",
       "      <td>0.0</td>\n",
       "      <td>0.0</td>\n",
       "      <td>0.0</td>\n",
       "      <td>0.0</td>\n",
       "      <td>0.0</td>\n",
       "      <td>0.0</td>\n",
       "      <td>0.0</td>\n",
       "      <td>0.0</td>\n",
       "      <td>0.0</td>\n",
       "      <td>0.0</td>\n",
       "      <td>0.0</td>\n",
       "      <td>0.0</td>\n",
       "      <td>0.0</td>\n",
       "      <td>0.0</td>\n",
       "      <td>0.0</td>\n",
       "      <td>0.0</td>\n",
       "      <td>0.0</td>\n",
       "      <td>0.0</td>\n",
       "      <td>0.0</td>\n",
       "      <td>0.0</td>\n",
       "      <td>0.0</td>\n",
       "      <td>0.0</td>\n",
       "      <td>0.0</td>\n",
       "      <td>0.0</td>\n",
       "      <td>0.0</td>\n",
       "      <td>0.0</td>\n",
       "      <td>0.0</td>\n",
       "      <td>0.0</td>\n",
       "      <td>0.0</td>\n",
       "      <td>0.0</td>\n",
       "      <td>0.0</td>\n",
       "      <td>0.0</td>\n",
       "      <td>0.0</td>\n",
       "      <td>1.0</td>\n",
       "      <td>0.0</td>\n",
       "      <td>0.0</td>\n",
       "      <td>0.0</td>\n",
       "      <td>0.0</td>\n",
       "      <td>0.0</td>\n",
       "      <td>0.0</td>\n",
       "      <td>0.0</td>\n",
       "      <td>0.0</td>\n",
       "      <td>0.0</td>\n",
       "      <td>0.0</td>\n",
       "      <td>0.0</td>\n",
       "      <td>0.0</td>\n",
       "      <td>0.0</td>\n",
       "      <td>0.0</td>\n",
       "      <td>0.0</td>\n",
       "      <td>0.0</td>\n",
       "      <td>0.0</td>\n",
       "      <td>0.0</td>\n",
       "      <td>0.0</td>\n",
       "      <td>0.0</td>\n",
       "      <td>0.0</td>\n",
       "      <td>0.0</td>\n",
       "      <td>0.0</td>\n",
       "      <td>0.0</td>\n",
       "      <td>0.0</td>\n",
       "      <td>0.0</td>\n",
       "      <td>0.0</td>\n",
       "      <td>0.0</td>\n",
       "      <td>0.0</td>\n",
       "      <td>0.0</td>\n",
       "      <td>0.0</td>\n",
       "      <td>0.0</td>\n",
       "      <td>0.0</td>\n",
       "      <td>0.0</td>\n",
       "      <td>0.0</td>\n",
       "      <td>0.0</td>\n",
       "      <td>0.0</td>\n",
       "      <td>0.0</td>\n",
       "      <td>0.0</td>\n",
       "      <td>0.0</td>\n",
       "      <td>0.0</td>\n",
       "      <td>0.0</td>\n",
       "      <td>0.0</td>\n",
       "      <td>0.0</td>\n",
       "      <td>0.0</td>\n",
       "      <td>0.0</td>\n",
       "      <td>0.0</td>\n",
       "      <td>0.0</td>\n",
       "      <td>0.0</td>\n",
       "      <td>0.0</td>\n",
       "      <td>0.0</td>\n",
       "      <td>0.0</td>\n",
       "      <td>0.0</td>\n",
       "      <td>0.0</td>\n",
       "      <td>0.0</td>\n",
       "      <td>0.0</td>\n",
       "      <td>0.0</td>\n",
       "      <td>0.0</td>\n",
       "      <td>0.0</td>\n",
       "      <td>0.0</td>\n",
       "      <td>0.0</td>\n",
       "      <td>0.0</td>\n",
       "      <td>0.0</td>\n",
       "      <td>0.0</td>\n",
       "      <td>0.0</td>\n",
       "      <td>0.0</td>\n",
       "      <td>0.0</td>\n",
       "      <td>0.0</td>\n",
       "      <td>0.0</td>\n",
       "      <td>0.0</td>\n",
       "      <td>0.0</td>\n",
       "      <td>0.0</td>\n",
       "      <td>0.0</td>\n",
       "      <td>0.0</td>\n",
       "      <td>0.0</td>\n",
       "      <td>0.0</td>\n",
       "      <td>0.0</td>\n",
       "      <td>0.0</td>\n",
       "      <td>0.0</td>\n",
       "      <td>1.0</td>\n",
       "      <td>0.0</td>\n",
       "      <td>0.0</td>\n",
       "      <td>0.0</td>\n",
       "      <td>0.0</td>\n",
       "      <td>0.0</td>\n",
       "      <td>0.0</td>\n",
       "      <td>0.0</td>\n",
       "      <td>0.0</td>\n",
       "      <td>0.0</td>\n",
       "      <td>0.0</td>\n",
       "      <td>0.0</td>\n",
       "      <td>0.0</td>\n",
       "      <td>0.0</td>\n",
       "      <td>0.0</td>\n",
       "      <td>0.0</td>\n",
       "      <td>0.0</td>\n",
       "      <td>0.0</td>\n",
       "      <td>0.0</td>\n",
       "      <td>0.0</td>\n",
       "      <td>0.0</td>\n",
       "      <td>0.0</td>\n",
       "      <td>0.0</td>\n",
       "      <td>0.0</td>\n",
       "      <td>0.0</td>\n",
       "      <td>0.0</td>\n",
       "      <td>0.0</td>\n",
       "      <td>0.0</td>\n",
       "      <td>0.0</td>\n",
       "      <td>0.0</td>\n",
       "      <td>0.0</td>\n",
       "      <td>0.0</td>\n",
       "      <td>0.0</td>\n",
       "      <td>0.0</td>\n",
       "      <td>0.0</td>\n",
       "      <td>0.0</td>\n",
       "      <td>0.0</td>\n",
       "      <td>0.0</td>\n",
       "      <td>0.0</td>\n",
       "      <td>0.0</td>\n",
       "      <td>0.0</td>\n",
       "      <td>0.0</td>\n",
       "      <td>0.0</td>\n",
       "      <td>1.0</td>\n",
       "      <td>0.0</td>\n",
       "      <td>0.0</td>\n",
       "    </tr>\n",
       "    <tr>\n",
       "      <th>327259</th>\n",
       "      <td>0.975599</td>\n",
       "      <td>-0.986539</td>\n",
       "      <td>-0.776830</td>\n",
       "      <td>-0.412474</td>\n",
       "      <td>0.0</td>\n",
       "      <td>0.0</td>\n",
       "      <td>0.0</td>\n",
       "      <td>0.0</td>\n",
       "      <td>1.0</td>\n",
       "      <td>0.0</td>\n",
       "      <td>0.0</td>\n",
       "      <td>0.0</td>\n",
       "      <td>1.0</td>\n",
       "      <td>0.0</td>\n",
       "      <td>0.0</td>\n",
       "      <td>0.0</td>\n",
       "      <td>0.0</td>\n",
       "      <td>0.0</td>\n",
       "      <td>0.0</td>\n",
       "      <td>0.0</td>\n",
       "      <td>0.0</td>\n",
       "      <td>0.0</td>\n",
       "      <td>0.0</td>\n",
       "      <td>0.0</td>\n",
       "      <td>0.0</td>\n",
       "      <td>0.0</td>\n",
       "      <td>0.0</td>\n",
       "      <td>0.0</td>\n",
       "      <td>0.0</td>\n",
       "      <td>0.0</td>\n",
       "      <td>0.0</td>\n",
       "      <td>0.0</td>\n",
       "      <td>0.0</td>\n",
       "      <td>0.0</td>\n",
       "      <td>0.0</td>\n",
       "      <td>0.0</td>\n",
       "      <td>0.0</td>\n",
       "      <td>0.0</td>\n",
       "      <td>0.0</td>\n",
       "      <td>0.0</td>\n",
       "      <td>0.0</td>\n",
       "      <td>0.0</td>\n",
       "      <td>0.0</td>\n",
       "      <td>0.0</td>\n",
       "      <td>0.0</td>\n",
       "      <td>0.0</td>\n",
       "      <td>0.0</td>\n",
       "      <td>0.0</td>\n",
       "      <td>0.0</td>\n",
       "      <td>0.0</td>\n",
       "      <td>0.0</td>\n",
       "      <td>0.0</td>\n",
       "      <td>0.0</td>\n",
       "      <td>0.0</td>\n",
       "      <td>0.0</td>\n",
       "      <td>0.0</td>\n",
       "      <td>0.0</td>\n",
       "      <td>0.0</td>\n",
       "      <td>0.0</td>\n",
       "      <td>0.0</td>\n",
       "      <td>0.0</td>\n",
       "      <td>0.0</td>\n",
       "      <td>0.0</td>\n",
       "      <td>0.0</td>\n",
       "      <td>0.0</td>\n",
       "      <td>0.0</td>\n",
       "      <td>0.0</td>\n",
       "      <td>0.0</td>\n",
       "      <td>0.0</td>\n",
       "      <td>0.0</td>\n",
       "      <td>0.0</td>\n",
       "      <td>0.0</td>\n",
       "      <td>0.0</td>\n",
       "      <td>0.0</td>\n",
       "      <td>0.0</td>\n",
       "      <td>0.0</td>\n",
       "      <td>0.0</td>\n",
       "      <td>0.0</td>\n",
       "      <td>0.0</td>\n",
       "      <td>0.0</td>\n",
       "      <td>0.0</td>\n",
       "      <td>0.0</td>\n",
       "      <td>0.0</td>\n",
       "      <td>0.0</td>\n",
       "      <td>0.0</td>\n",
       "      <td>0.0</td>\n",
       "      <td>0.0</td>\n",
       "      <td>0.0</td>\n",
       "      <td>0.0</td>\n",
       "      <td>0.0</td>\n",
       "      <td>0.0</td>\n",
       "      <td>0.0</td>\n",
       "      <td>0.0</td>\n",
       "      <td>0.0</td>\n",
       "      <td>0.0</td>\n",
       "      <td>0.0</td>\n",
       "      <td>0.0</td>\n",
       "      <td>0.0</td>\n",
       "      <td>0.0</td>\n",
       "      <td>0.0</td>\n",
       "      <td>0.0</td>\n",
       "      <td>0.0</td>\n",
       "      <td>0.0</td>\n",
       "      <td>0.0</td>\n",
       "      <td>0.0</td>\n",
       "      <td>0.0</td>\n",
       "      <td>0.0</td>\n",
       "      <td>0.0</td>\n",
       "      <td>0.0</td>\n",
       "      <td>0.0</td>\n",
       "      <td>0.0</td>\n",
       "      <td>0.0</td>\n",
       "      <td>0.0</td>\n",
       "      <td>0.0</td>\n",
       "      <td>0.0</td>\n",
       "      <td>0.0</td>\n",
       "      <td>0.0</td>\n",
       "      <td>0.0</td>\n",
       "      <td>0.0</td>\n",
       "      <td>0.0</td>\n",
       "      <td>0.0</td>\n",
       "      <td>0.0</td>\n",
       "      <td>0.0</td>\n",
       "      <td>0.0</td>\n",
       "      <td>0.0</td>\n",
       "      <td>0.0</td>\n",
       "      <td>0.0</td>\n",
       "      <td>0.0</td>\n",
       "      <td>0.0</td>\n",
       "      <td>0.0</td>\n",
       "      <td>0.0</td>\n",
       "      <td>0.0</td>\n",
       "      <td>0.0</td>\n",
       "      <td>0.0</td>\n",
       "      <td>0.0</td>\n",
       "      <td>0.0</td>\n",
       "      <td>0.0</td>\n",
       "      <td>0.0</td>\n",
       "      <td>0.0</td>\n",
       "      <td>0.0</td>\n",
       "      <td>0.0</td>\n",
       "      <td>0.0</td>\n",
       "      <td>0.0</td>\n",
       "      <td>0.0</td>\n",
       "      <td>0.0</td>\n",
       "      <td>0.0</td>\n",
       "      <td>0.0</td>\n",
       "      <td>0.0</td>\n",
       "      <td>0.0</td>\n",
       "      <td>0.0</td>\n",
       "      <td>0.0</td>\n",
       "      <td>0.0</td>\n",
       "      <td>0.0</td>\n",
       "      <td>0.0</td>\n",
       "      <td>0.0</td>\n",
       "      <td>0.0</td>\n",
       "      <td>0.0</td>\n",
       "      <td>0.0</td>\n",
       "      <td>0.0</td>\n",
       "      <td>0.0</td>\n",
       "      <td>0.0</td>\n",
       "      <td>0.0</td>\n",
       "      <td>0.0</td>\n",
       "      <td>0.0</td>\n",
       "      <td>0.0</td>\n",
       "      <td>0.0</td>\n",
       "      <td>0.0</td>\n",
       "      <td>0.0</td>\n",
       "      <td>0.0</td>\n",
       "      <td>0.0</td>\n",
       "      <td>0.0</td>\n",
       "      <td>0.0</td>\n",
       "      <td>0.0</td>\n",
       "      <td>0.0</td>\n",
       "      <td>0.0</td>\n",
       "      <td>0.0</td>\n",
       "      <td>0.0</td>\n",
       "      <td>0.0</td>\n",
       "      <td>0.0</td>\n",
       "      <td>0.0</td>\n",
       "      <td>0.0</td>\n",
       "      <td>0.0</td>\n",
       "      <td>0.0</td>\n",
       "      <td>0.0</td>\n",
       "      <td>0.0</td>\n",
       "      <td>0.0</td>\n",
       "      <td>0.0</td>\n",
       "      <td>0.0</td>\n",
       "      <td>0.0</td>\n",
       "      <td>0.0</td>\n",
       "      <td>0.0</td>\n",
       "      <td>0.0</td>\n",
       "      <td>0.0</td>\n",
       "      <td>0.0</td>\n",
       "      <td>0.0</td>\n",
       "      <td>0.0</td>\n",
       "      <td>0.0</td>\n",
       "      <td>0.0</td>\n",
       "      <td>0.0</td>\n",
       "      <td>0.0</td>\n",
       "      <td>0.0</td>\n",
       "      <td>0.0</td>\n",
       "      <td>0.0</td>\n",
       "      <td>0.0</td>\n",
       "      <td>0.0</td>\n",
       "      <td>0.0</td>\n",
       "      <td>0.0</td>\n",
       "      <td>1.0</td>\n",
       "      <td>0.0</td>\n",
       "      <td>0.0</td>\n",
       "      <td>0.0</td>\n",
       "      <td>0.0</td>\n",
       "      <td>0.0</td>\n",
       "      <td>0.0</td>\n",
       "      <td>0.0</td>\n",
       "      <td>0.0</td>\n",
       "      <td>0.0</td>\n",
       "      <td>0.0</td>\n",
       "      <td>0.0</td>\n",
       "      <td>0.0</td>\n",
       "      <td>0.0</td>\n",
       "      <td>0.0</td>\n",
       "      <td>0.0</td>\n",
       "      <td>0.0</td>\n",
       "      <td>0.0</td>\n",
       "      <td>0.0</td>\n",
       "      <td>0.0</td>\n",
       "      <td>0.0</td>\n",
       "      <td>0.0</td>\n",
       "      <td>0.0</td>\n",
       "      <td>0.0</td>\n",
       "      <td>0.0</td>\n",
       "      <td>0.0</td>\n",
       "      <td>0.0</td>\n",
       "      <td>0.0</td>\n",
       "      <td>0.0</td>\n",
       "      <td>0.0</td>\n",
       "      <td>0.0</td>\n",
       "      <td>0.0</td>\n",
       "      <td>0.0</td>\n",
       "      <td>0.0</td>\n",
       "      <td>0.0</td>\n",
       "      <td>0.0</td>\n",
       "      <td>0.0</td>\n",
       "      <td>0.0</td>\n",
       "      <td>0.0</td>\n",
       "      <td>0.0</td>\n",
       "      <td>0.0</td>\n",
       "      <td>0.0</td>\n",
       "      <td>0.0</td>\n",
       "      <td>0.0</td>\n",
       "      <td>0.0</td>\n",
       "      <td>0.0</td>\n",
       "      <td>0.0</td>\n",
       "      <td>0.0</td>\n",
       "      <td>0.0</td>\n",
       "      <td>0.0</td>\n",
       "      <td>0.0</td>\n",
       "      <td>0.0</td>\n",
       "      <td>0.0</td>\n",
       "      <td>0.0</td>\n",
       "      <td>0.0</td>\n",
       "      <td>0.0</td>\n",
       "      <td>0.0</td>\n",
       "      <td>0.0</td>\n",
       "      <td>0.0</td>\n",
       "      <td>1.0</td>\n",
       "      <td>0.0</td>\n",
       "      <td>0.0</td>\n",
       "      <td>0.0</td>\n",
       "      <td>0.0</td>\n",
       "      <td>0.0</td>\n",
       "      <td>0.0</td>\n",
       "      <td>1.0</td>\n",
       "      <td>0.0</td>\n",
       "      <td>0.0</td>\n",
       "      <td>0.0</td>\n",
       "      <td>0.0</td>\n",
       "      <td>0.0</td>\n",
       "      <td>0.0</td>\n",
       "      <td>0.0</td>\n",
       "      <td>0.0</td>\n",
       "      <td>0.0</td>\n",
       "      <td>0.0</td>\n",
       "      <td>0.0</td>\n",
       "      <td>0.0</td>\n",
       "      <td>0.0</td>\n",
       "      <td>0.0</td>\n",
       "      <td>0.0</td>\n",
       "      <td>0.0</td>\n",
       "      <td>0.0</td>\n",
       "      <td>0.0</td>\n",
       "      <td>0.0</td>\n",
       "      <td>0.0</td>\n",
       "      <td>0.0</td>\n",
       "      <td>0.0</td>\n",
       "      <td>0.0</td>\n",
       "      <td>0.0</td>\n",
       "      <td>0.0</td>\n",
       "      <td>0.0</td>\n",
       "      <td>0.0</td>\n",
       "      <td>0.0</td>\n",
       "      <td>0.0</td>\n",
       "      <td>0.0</td>\n",
       "      <td>0.0</td>\n",
       "      <td>0.0</td>\n",
       "      <td>0.0</td>\n",
       "      <td>0.0</td>\n",
       "    </tr>\n",
       "    <tr>\n",
       "      <th>242461</th>\n",
       "      <td>0.648549</td>\n",
       "      <td>1.377192</td>\n",
       "      <td>0.586264</td>\n",
       "      <td>1.082000</td>\n",
       "      <td>0.0</td>\n",
       "      <td>0.0</td>\n",
       "      <td>0.0</td>\n",
       "      <td>0.0</td>\n",
       "      <td>0.0</td>\n",
       "      <td>0.0</td>\n",
       "      <td>0.0</td>\n",
       "      <td>1.0</td>\n",
       "      <td>0.0</td>\n",
       "      <td>0.0</td>\n",
       "      <td>0.0</td>\n",
       "      <td>0.0</td>\n",
       "      <td>0.0</td>\n",
       "      <td>0.0</td>\n",
       "      <td>0.0</td>\n",
       "      <td>0.0</td>\n",
       "      <td>0.0</td>\n",
       "      <td>0.0</td>\n",
       "      <td>0.0</td>\n",
       "      <td>0.0</td>\n",
       "      <td>1.0</td>\n",
       "      <td>0.0</td>\n",
       "      <td>0.0</td>\n",
       "      <td>0.0</td>\n",
       "      <td>0.0</td>\n",
       "      <td>0.0</td>\n",
       "      <td>0.0</td>\n",
       "      <td>0.0</td>\n",
       "      <td>0.0</td>\n",
       "      <td>0.0</td>\n",
       "      <td>0.0</td>\n",
       "      <td>0.0</td>\n",
       "      <td>0.0</td>\n",
       "      <td>0.0</td>\n",
       "      <td>0.0</td>\n",
       "      <td>0.0</td>\n",
       "      <td>0.0</td>\n",
       "      <td>0.0</td>\n",
       "      <td>0.0</td>\n",
       "      <td>0.0</td>\n",
       "      <td>0.0</td>\n",
       "      <td>0.0</td>\n",
       "      <td>0.0</td>\n",
       "      <td>0.0</td>\n",
       "      <td>0.0</td>\n",
       "      <td>0.0</td>\n",
       "      <td>0.0</td>\n",
       "      <td>0.0</td>\n",
       "      <td>0.0</td>\n",
       "      <td>0.0</td>\n",
       "      <td>0.0</td>\n",
       "      <td>0.0</td>\n",
       "      <td>0.0</td>\n",
       "      <td>0.0</td>\n",
       "      <td>0.0</td>\n",
       "      <td>0.0</td>\n",
       "      <td>0.0</td>\n",
       "      <td>0.0</td>\n",
       "      <td>0.0</td>\n",
       "      <td>0.0</td>\n",
       "      <td>0.0</td>\n",
       "      <td>0.0</td>\n",
       "      <td>0.0</td>\n",
       "      <td>0.0</td>\n",
       "      <td>0.0</td>\n",
       "      <td>0.0</td>\n",
       "      <td>0.0</td>\n",
       "      <td>0.0</td>\n",
       "      <td>0.0</td>\n",
       "      <td>0.0</td>\n",
       "      <td>0.0</td>\n",
       "      <td>0.0</td>\n",
       "      <td>0.0</td>\n",
       "      <td>0.0</td>\n",
       "      <td>0.0</td>\n",
       "      <td>0.0</td>\n",
       "      <td>0.0</td>\n",
       "      <td>0.0</td>\n",
       "      <td>0.0</td>\n",
       "      <td>0.0</td>\n",
       "      <td>0.0</td>\n",
       "      <td>0.0</td>\n",
       "      <td>0.0</td>\n",
       "      <td>0.0</td>\n",
       "      <td>0.0</td>\n",
       "      <td>0.0</td>\n",
       "      <td>0.0</td>\n",
       "      <td>0.0</td>\n",
       "      <td>0.0</td>\n",
       "      <td>0.0</td>\n",
       "      <td>0.0</td>\n",
       "      <td>0.0</td>\n",
       "      <td>0.0</td>\n",
       "      <td>0.0</td>\n",
       "      <td>0.0</td>\n",
       "      <td>0.0</td>\n",
       "      <td>0.0</td>\n",
       "      <td>0.0</td>\n",
       "      <td>0.0</td>\n",
       "      <td>0.0</td>\n",
       "      <td>0.0</td>\n",
       "      <td>0.0</td>\n",
       "      <td>0.0</td>\n",
       "      <td>0.0</td>\n",
       "      <td>0.0</td>\n",
       "      <td>0.0</td>\n",
       "      <td>0.0</td>\n",
       "      <td>0.0</td>\n",
       "      <td>0.0</td>\n",
       "      <td>0.0</td>\n",
       "      <td>0.0</td>\n",
       "      <td>0.0</td>\n",
       "      <td>0.0</td>\n",
       "      <td>0.0</td>\n",
       "      <td>0.0</td>\n",
       "      <td>0.0</td>\n",
       "      <td>0.0</td>\n",
       "      <td>0.0</td>\n",
       "      <td>0.0</td>\n",
       "      <td>0.0</td>\n",
       "      <td>0.0</td>\n",
       "      <td>0.0</td>\n",
       "      <td>0.0</td>\n",
       "      <td>0.0</td>\n",
       "      <td>0.0</td>\n",
       "      <td>0.0</td>\n",
       "      <td>0.0</td>\n",
       "      <td>0.0</td>\n",
       "      <td>0.0</td>\n",
       "      <td>0.0</td>\n",
       "      <td>0.0</td>\n",
       "      <td>0.0</td>\n",
       "      <td>0.0</td>\n",
       "      <td>0.0</td>\n",
       "      <td>0.0</td>\n",
       "      <td>0.0</td>\n",
       "      <td>0.0</td>\n",
       "      <td>0.0</td>\n",
       "      <td>0.0</td>\n",
       "      <td>0.0</td>\n",
       "      <td>0.0</td>\n",
       "      <td>0.0</td>\n",
       "      <td>0.0</td>\n",
       "      <td>0.0</td>\n",
       "      <td>0.0</td>\n",
       "      <td>0.0</td>\n",
       "      <td>0.0</td>\n",
       "      <td>0.0</td>\n",
       "      <td>0.0</td>\n",
       "      <td>0.0</td>\n",
       "      <td>0.0</td>\n",
       "      <td>0.0</td>\n",
       "      <td>0.0</td>\n",
       "      <td>0.0</td>\n",
       "      <td>0.0</td>\n",
       "      <td>0.0</td>\n",
       "      <td>0.0</td>\n",
       "      <td>0.0</td>\n",
       "      <td>0.0</td>\n",
       "      <td>0.0</td>\n",
       "      <td>0.0</td>\n",
       "      <td>0.0</td>\n",
       "      <td>0.0</td>\n",
       "      <td>0.0</td>\n",
       "      <td>0.0</td>\n",
       "      <td>0.0</td>\n",
       "      <td>0.0</td>\n",
       "      <td>0.0</td>\n",
       "      <td>0.0</td>\n",
       "      <td>0.0</td>\n",
       "      <td>0.0</td>\n",
       "      <td>0.0</td>\n",
       "      <td>0.0</td>\n",
       "      <td>0.0</td>\n",
       "      <td>0.0</td>\n",
       "      <td>0.0</td>\n",
       "      <td>0.0</td>\n",
       "      <td>0.0</td>\n",
       "      <td>0.0</td>\n",
       "      <td>0.0</td>\n",
       "      <td>0.0</td>\n",
       "      <td>0.0</td>\n",
       "      <td>0.0</td>\n",
       "      <td>0.0</td>\n",
       "      <td>0.0</td>\n",
       "      <td>0.0</td>\n",
       "      <td>0.0</td>\n",
       "      <td>0.0</td>\n",
       "      <td>0.0</td>\n",
       "      <td>0.0</td>\n",
       "      <td>0.0</td>\n",
       "      <td>0.0</td>\n",
       "      <td>0.0</td>\n",
       "      <td>0.0</td>\n",
       "      <td>0.0</td>\n",
       "      <td>0.0</td>\n",
       "      <td>0.0</td>\n",
       "      <td>0.0</td>\n",
       "      <td>0.0</td>\n",
       "      <td>0.0</td>\n",
       "      <td>0.0</td>\n",
       "      <td>0.0</td>\n",
       "      <td>0.0</td>\n",
       "      <td>0.0</td>\n",
       "      <td>0.0</td>\n",
       "      <td>0.0</td>\n",
       "      <td>0.0</td>\n",
       "      <td>0.0</td>\n",
       "      <td>0.0</td>\n",
       "      <td>0.0</td>\n",
       "      <td>0.0</td>\n",
       "      <td>0.0</td>\n",
       "      <td>0.0</td>\n",
       "      <td>0.0</td>\n",
       "      <td>0.0</td>\n",
       "      <td>0.0</td>\n",
       "      <td>0.0</td>\n",
       "      <td>0.0</td>\n",
       "      <td>0.0</td>\n",
       "      <td>0.0</td>\n",
       "      <td>0.0</td>\n",
       "      <td>0.0</td>\n",
       "      <td>0.0</td>\n",
       "      <td>0.0</td>\n",
       "      <td>0.0</td>\n",
       "      <td>0.0</td>\n",
       "      <td>0.0</td>\n",
       "      <td>0.0</td>\n",
       "      <td>0.0</td>\n",
       "      <td>0.0</td>\n",
       "      <td>0.0</td>\n",
       "      <td>0.0</td>\n",
       "      <td>0.0</td>\n",
       "      <td>0.0</td>\n",
       "      <td>0.0</td>\n",
       "      <td>0.0</td>\n",
       "      <td>0.0</td>\n",
       "      <td>0.0</td>\n",
       "      <td>0.0</td>\n",
       "      <td>0.0</td>\n",
       "      <td>0.0</td>\n",
       "      <td>0.0</td>\n",
       "      <td>0.0</td>\n",
       "      <td>0.0</td>\n",
       "      <td>0.0</td>\n",
       "      <td>0.0</td>\n",
       "      <td>0.0</td>\n",
       "      <td>0.0</td>\n",
       "      <td>0.0</td>\n",
       "      <td>0.0</td>\n",
       "      <td>0.0</td>\n",
       "      <td>0.0</td>\n",
       "      <td>0.0</td>\n",
       "      <td>0.0</td>\n",
       "      <td>0.0</td>\n",
       "      <td>0.0</td>\n",
       "      <td>0.0</td>\n",
       "      <td>0.0</td>\n",
       "      <td>0.0</td>\n",
       "      <td>0.0</td>\n",
       "      <td>0.0</td>\n",
       "      <td>0.0</td>\n",
       "      <td>0.0</td>\n",
       "      <td>1.0</td>\n",
       "      <td>0.0</td>\n",
       "      <td>1.0</td>\n",
       "      <td>0.0</td>\n",
       "      <td>0.0</td>\n",
       "      <td>0.0</td>\n",
       "      <td>0.0</td>\n",
       "      <td>0.0</td>\n",
       "      <td>0.0</td>\n",
       "      <td>0.0</td>\n",
       "      <td>0.0</td>\n",
       "      <td>0.0</td>\n",
       "      <td>0.0</td>\n",
       "      <td>0.0</td>\n",
       "      <td>0.0</td>\n",
       "      <td>0.0</td>\n",
       "      <td>0.0</td>\n",
       "      <td>0.0</td>\n",
       "      <td>0.0</td>\n",
       "      <td>0.0</td>\n",
       "      <td>0.0</td>\n",
       "      <td>0.0</td>\n",
       "      <td>0.0</td>\n",
       "      <td>0.0</td>\n",
       "      <td>0.0</td>\n",
       "      <td>0.0</td>\n",
       "      <td>0.0</td>\n",
       "      <td>0.0</td>\n",
       "      <td>0.0</td>\n",
       "      <td>0.0</td>\n",
       "      <td>0.0</td>\n",
       "      <td>0.0</td>\n",
       "      <td>0.0</td>\n",
       "      <td>0.0</td>\n",
       "      <td>0.0</td>\n",
       "      <td>0.0</td>\n",
       "      <td>0.0</td>\n",
       "      <td>0.0</td>\n",
       "      <td>0.0</td>\n",
       "      <td>0.0</td>\n",
       "      <td>0.0</td>\n",
       "    </tr>\n",
       "    <tr>\n",
       "      <th>90054</th>\n",
       "      <td>0.648549</td>\n",
       "      <td>1.172639</td>\n",
       "      <td>-1.049449</td>\n",
       "      <td>1.380894</td>\n",
       "      <td>0.0</td>\n",
       "      <td>0.0</td>\n",
       "      <td>0.0</td>\n",
       "      <td>0.0</td>\n",
       "      <td>0.0</td>\n",
       "      <td>0.0</td>\n",
       "      <td>0.0</td>\n",
       "      <td>1.0</td>\n",
       "      <td>1.0</td>\n",
       "      <td>0.0</td>\n",
       "      <td>0.0</td>\n",
       "      <td>0.0</td>\n",
       "      <td>0.0</td>\n",
       "      <td>0.0</td>\n",
       "      <td>0.0</td>\n",
       "      <td>0.0</td>\n",
       "      <td>0.0</td>\n",
       "      <td>0.0</td>\n",
       "      <td>0.0</td>\n",
       "      <td>0.0</td>\n",
       "      <td>0.0</td>\n",
       "      <td>0.0</td>\n",
       "      <td>0.0</td>\n",
       "      <td>0.0</td>\n",
       "      <td>0.0</td>\n",
       "      <td>0.0</td>\n",
       "      <td>0.0</td>\n",
       "      <td>0.0</td>\n",
       "      <td>0.0</td>\n",
       "      <td>0.0</td>\n",
       "      <td>0.0</td>\n",
       "      <td>0.0</td>\n",
       "      <td>0.0</td>\n",
       "      <td>0.0</td>\n",
       "      <td>0.0</td>\n",
       "      <td>0.0</td>\n",
       "      <td>0.0</td>\n",
       "      <td>0.0</td>\n",
       "      <td>0.0</td>\n",
       "      <td>0.0</td>\n",
       "      <td>0.0</td>\n",
       "      <td>0.0</td>\n",
       "      <td>0.0</td>\n",
       "      <td>0.0</td>\n",
       "      <td>0.0</td>\n",
       "      <td>0.0</td>\n",
       "      <td>0.0</td>\n",
       "      <td>0.0</td>\n",
       "      <td>0.0</td>\n",
       "      <td>0.0</td>\n",
       "      <td>0.0</td>\n",
       "      <td>0.0</td>\n",
       "      <td>0.0</td>\n",
       "      <td>0.0</td>\n",
       "      <td>0.0</td>\n",
       "      <td>0.0</td>\n",
       "      <td>0.0</td>\n",
       "      <td>0.0</td>\n",
       "      <td>0.0</td>\n",
       "      <td>0.0</td>\n",
       "      <td>0.0</td>\n",
       "      <td>0.0</td>\n",
       "      <td>0.0</td>\n",
       "      <td>0.0</td>\n",
       "      <td>0.0</td>\n",
       "      <td>0.0</td>\n",
       "      <td>1.0</td>\n",
       "      <td>0.0</td>\n",
       "      <td>0.0</td>\n",
       "      <td>0.0</td>\n",
       "      <td>0.0</td>\n",
       "      <td>0.0</td>\n",
       "      <td>0.0</td>\n",
       "      <td>0.0</td>\n",
       "      <td>0.0</td>\n",
       "      <td>0.0</td>\n",
       "      <td>0.0</td>\n",
       "      <td>0.0</td>\n",
       "      <td>0.0</td>\n",
       "      <td>0.0</td>\n",
       "      <td>0.0</td>\n",
       "      <td>0.0</td>\n",
       "      <td>0.0</td>\n",
       "      <td>0.0</td>\n",
       "      <td>0.0</td>\n",
       "      <td>0.0</td>\n",
       "      <td>0.0</td>\n",
       "      <td>0.0</td>\n",
       "      <td>0.0</td>\n",
       "      <td>0.0</td>\n",
       "      <td>0.0</td>\n",
       "      <td>0.0</td>\n",
       "      <td>0.0</td>\n",
       "      <td>0.0</td>\n",
       "      <td>0.0</td>\n",
       "      <td>0.0</td>\n",
       "      <td>0.0</td>\n",
       "      <td>0.0</td>\n",
       "      <td>0.0</td>\n",
       "      <td>0.0</td>\n",
       "      <td>0.0</td>\n",
       "      <td>0.0</td>\n",
       "      <td>0.0</td>\n",
       "      <td>0.0</td>\n",
       "      <td>0.0</td>\n",
       "      <td>0.0</td>\n",
       "      <td>0.0</td>\n",
       "      <td>0.0</td>\n",
       "      <td>0.0</td>\n",
       "      <td>0.0</td>\n",
       "      <td>0.0</td>\n",
       "      <td>0.0</td>\n",
       "      <td>0.0</td>\n",
       "      <td>0.0</td>\n",
       "      <td>0.0</td>\n",
       "      <td>0.0</td>\n",
       "      <td>0.0</td>\n",
       "      <td>0.0</td>\n",
       "      <td>0.0</td>\n",
       "      <td>0.0</td>\n",
       "      <td>0.0</td>\n",
       "      <td>0.0</td>\n",
       "      <td>0.0</td>\n",
       "      <td>0.0</td>\n",
       "      <td>0.0</td>\n",
       "      <td>0.0</td>\n",
       "      <td>0.0</td>\n",
       "      <td>0.0</td>\n",
       "      <td>0.0</td>\n",
       "      <td>0.0</td>\n",
       "      <td>0.0</td>\n",
       "      <td>0.0</td>\n",
       "      <td>0.0</td>\n",
       "      <td>0.0</td>\n",
       "      <td>0.0</td>\n",
       "      <td>0.0</td>\n",
       "      <td>0.0</td>\n",
       "      <td>0.0</td>\n",
       "      <td>0.0</td>\n",
       "      <td>0.0</td>\n",
       "      <td>0.0</td>\n",
       "      <td>0.0</td>\n",
       "      <td>0.0</td>\n",
       "      <td>0.0</td>\n",
       "      <td>0.0</td>\n",
       "      <td>0.0</td>\n",
       "      <td>0.0</td>\n",
       "      <td>0.0</td>\n",
       "      <td>0.0</td>\n",
       "      <td>0.0</td>\n",
       "      <td>0.0</td>\n",
       "      <td>0.0</td>\n",
       "      <td>0.0</td>\n",
       "      <td>0.0</td>\n",
       "      <td>0.0</td>\n",
       "      <td>0.0</td>\n",
       "      <td>0.0</td>\n",
       "      <td>0.0</td>\n",
       "      <td>0.0</td>\n",
       "      <td>0.0</td>\n",
       "      <td>0.0</td>\n",
       "      <td>0.0</td>\n",
       "      <td>0.0</td>\n",
       "      <td>0.0</td>\n",
       "      <td>0.0</td>\n",
       "      <td>0.0</td>\n",
       "      <td>0.0</td>\n",
       "      <td>0.0</td>\n",
       "      <td>0.0</td>\n",
       "      <td>0.0</td>\n",
       "      <td>0.0</td>\n",
       "      <td>0.0</td>\n",
       "      <td>0.0</td>\n",
       "      <td>0.0</td>\n",
       "      <td>0.0</td>\n",
       "      <td>0.0</td>\n",
       "      <td>0.0</td>\n",
       "      <td>0.0</td>\n",
       "      <td>0.0</td>\n",
       "      <td>0.0</td>\n",
       "      <td>0.0</td>\n",
       "      <td>0.0</td>\n",
       "      <td>0.0</td>\n",
       "      <td>0.0</td>\n",
       "      <td>0.0</td>\n",
       "      <td>0.0</td>\n",
       "      <td>0.0</td>\n",
       "      <td>0.0</td>\n",
       "      <td>0.0</td>\n",
       "      <td>0.0</td>\n",
       "      <td>0.0</td>\n",
       "      <td>0.0</td>\n",
       "      <td>0.0</td>\n",
       "      <td>0.0</td>\n",
       "      <td>0.0</td>\n",
       "      <td>0.0</td>\n",
       "      <td>0.0</td>\n",
       "      <td>0.0</td>\n",
       "      <td>0.0</td>\n",
       "      <td>0.0</td>\n",
       "      <td>0.0</td>\n",
       "      <td>0.0</td>\n",
       "      <td>0.0</td>\n",
       "      <td>0.0</td>\n",
       "      <td>0.0</td>\n",
       "      <td>0.0</td>\n",
       "      <td>0.0</td>\n",
       "      <td>0.0</td>\n",
       "      <td>0.0</td>\n",
       "      <td>0.0</td>\n",
       "      <td>0.0</td>\n",
       "      <td>0.0</td>\n",
       "      <td>0.0</td>\n",
       "      <td>0.0</td>\n",
       "      <td>0.0</td>\n",
       "      <td>0.0</td>\n",
       "      <td>0.0</td>\n",
       "      <td>0.0</td>\n",
       "      <td>0.0</td>\n",
       "      <td>0.0</td>\n",
       "      <td>0.0</td>\n",
       "      <td>0.0</td>\n",
       "      <td>0.0</td>\n",
       "      <td>0.0</td>\n",
       "      <td>0.0</td>\n",
       "      <td>0.0</td>\n",
       "      <td>0.0</td>\n",
       "      <td>0.0</td>\n",
       "      <td>0.0</td>\n",
       "      <td>0.0</td>\n",
       "      <td>0.0</td>\n",
       "      <td>0.0</td>\n",
       "      <td>0.0</td>\n",
       "      <td>0.0</td>\n",
       "      <td>0.0</td>\n",
       "      <td>0.0</td>\n",
       "      <td>0.0</td>\n",
       "      <td>0.0</td>\n",
       "      <td>0.0</td>\n",
       "      <td>0.0</td>\n",
       "      <td>0.0</td>\n",
       "      <td>0.0</td>\n",
       "      <td>0.0</td>\n",
       "      <td>0.0</td>\n",
       "      <td>0.0</td>\n",
       "      <td>0.0</td>\n",
       "      <td>0.0</td>\n",
       "      <td>0.0</td>\n",
       "      <td>0.0</td>\n",
       "      <td>0.0</td>\n",
       "      <td>0.0</td>\n",
       "      <td>0.0</td>\n",
       "      <td>0.0</td>\n",
       "      <td>0.0</td>\n",
       "      <td>0.0</td>\n",
       "      <td>0.0</td>\n",
       "      <td>0.0</td>\n",
       "      <td>0.0</td>\n",
       "      <td>1.0</td>\n",
       "      <td>0.0</td>\n",
       "      <td>0.0</td>\n",
       "      <td>0.0</td>\n",
       "      <td>0.0</td>\n",
       "      <td>0.0</td>\n",
       "      <td>0.0</td>\n",
       "      <td>0.0</td>\n",
       "      <td>0.0</td>\n",
       "      <td>0.0</td>\n",
       "      <td>1.0</td>\n",
       "      <td>0.0</td>\n",
       "      <td>0.0</td>\n",
       "      <td>0.0</td>\n",
       "      <td>0.0</td>\n",
       "      <td>0.0</td>\n",
       "      <td>0.0</td>\n",
       "      <td>0.0</td>\n",
       "      <td>0.0</td>\n",
       "      <td>0.0</td>\n",
       "      <td>0.0</td>\n",
       "      <td>0.0</td>\n",
       "      <td>0.0</td>\n",
       "      <td>0.0</td>\n",
       "      <td>0.0</td>\n",
       "      <td>0.0</td>\n",
       "      <td>0.0</td>\n",
       "      <td>0.0</td>\n",
       "      <td>0.0</td>\n",
       "      <td>0.0</td>\n",
       "      <td>0.0</td>\n",
       "      <td>0.0</td>\n",
       "      <td>0.0</td>\n",
       "      <td>0.0</td>\n",
       "      <td>0.0</td>\n",
       "      <td>0.0</td>\n",
       "      <td>0.0</td>\n",
       "      <td>0.0</td>\n",
       "      <td>0.0</td>\n",
       "      <td>0.0</td>\n",
       "      <td>0.0</td>\n",
       "      <td>0.0</td>\n",
       "      <td>0.0</td>\n",
       "      <td>0.0</td>\n",
       "      <td>0.0</td>\n",
       "      <td>0.0</td>\n",
       "    </tr>\n",
       "    <tr>\n",
       "      <th>171678</th>\n",
       "      <td>-0.986702</td>\n",
       "      <td>2.399961</td>\n",
       "      <td>0.586264</td>\n",
       "      <td>1.679789</td>\n",
       "      <td>0.0</td>\n",
       "      <td>0.0</td>\n",
       "      <td>0.0</td>\n",
       "      <td>0.0</td>\n",
       "      <td>0.0</td>\n",
       "      <td>0.0</td>\n",
       "      <td>0.0</td>\n",
       "      <td>1.0</td>\n",
       "      <td>0.0</td>\n",
       "      <td>0.0</td>\n",
       "      <td>0.0</td>\n",
       "      <td>0.0</td>\n",
       "      <td>0.0</td>\n",
       "      <td>0.0</td>\n",
       "      <td>0.0</td>\n",
       "      <td>0.0</td>\n",
       "      <td>0.0</td>\n",
       "      <td>0.0</td>\n",
       "      <td>0.0</td>\n",
       "      <td>0.0</td>\n",
       "      <td>0.0</td>\n",
       "      <td>0.0</td>\n",
       "      <td>0.0</td>\n",
       "      <td>0.0</td>\n",
       "      <td>0.0</td>\n",
       "      <td>0.0</td>\n",
       "      <td>0.0</td>\n",
       "      <td>0.0</td>\n",
       "      <td>0.0</td>\n",
       "      <td>0.0</td>\n",
       "      <td>0.0</td>\n",
       "      <td>0.0</td>\n",
       "      <td>0.0</td>\n",
       "      <td>0.0</td>\n",
       "      <td>0.0</td>\n",
       "      <td>0.0</td>\n",
       "      <td>0.0</td>\n",
       "      <td>0.0</td>\n",
       "      <td>0.0</td>\n",
       "      <td>0.0</td>\n",
       "      <td>0.0</td>\n",
       "      <td>0.0</td>\n",
       "      <td>0.0</td>\n",
       "      <td>0.0</td>\n",
       "      <td>0.0</td>\n",
       "      <td>0.0</td>\n",
       "      <td>0.0</td>\n",
       "      <td>0.0</td>\n",
       "      <td>0.0</td>\n",
       "      <td>0.0</td>\n",
       "      <td>0.0</td>\n",
       "      <td>0.0</td>\n",
       "      <td>0.0</td>\n",
       "      <td>0.0</td>\n",
       "      <td>0.0</td>\n",
       "      <td>0.0</td>\n",
       "      <td>0.0</td>\n",
       "      <td>0.0</td>\n",
       "      <td>0.0</td>\n",
       "      <td>0.0</td>\n",
       "      <td>0.0</td>\n",
       "      <td>0.0</td>\n",
       "      <td>0.0</td>\n",
       "      <td>0.0</td>\n",
       "      <td>0.0</td>\n",
       "      <td>0.0</td>\n",
       "      <td>0.0</td>\n",
       "      <td>0.0</td>\n",
       "      <td>0.0</td>\n",
       "      <td>0.0</td>\n",
       "      <td>0.0</td>\n",
       "      <td>0.0</td>\n",
       "      <td>0.0</td>\n",
       "      <td>0.0</td>\n",
       "      <td>0.0</td>\n",
       "      <td>0.0</td>\n",
       "      <td>0.0</td>\n",
       "      <td>0.0</td>\n",
       "      <td>0.0</td>\n",
       "      <td>0.0</td>\n",
       "      <td>0.0</td>\n",
       "      <td>0.0</td>\n",
       "      <td>0.0</td>\n",
       "      <td>0.0</td>\n",
       "      <td>0.0</td>\n",
       "      <td>0.0</td>\n",
       "      <td>0.0</td>\n",
       "      <td>0.0</td>\n",
       "      <td>0.0</td>\n",
       "      <td>0.0</td>\n",
       "      <td>0.0</td>\n",
       "      <td>0.0</td>\n",
       "      <td>0.0</td>\n",
       "      <td>0.0</td>\n",
       "      <td>0.0</td>\n",
       "      <td>0.0</td>\n",
       "      <td>0.0</td>\n",
       "      <td>0.0</td>\n",
       "      <td>0.0</td>\n",
       "      <td>0.0</td>\n",
       "      <td>0.0</td>\n",
       "      <td>0.0</td>\n",
       "      <td>0.0</td>\n",
       "      <td>1.0</td>\n",
       "      <td>0.0</td>\n",
       "      <td>0.0</td>\n",
       "      <td>0.0</td>\n",
       "      <td>0.0</td>\n",
       "      <td>0.0</td>\n",
       "      <td>0.0</td>\n",
       "      <td>0.0</td>\n",
       "      <td>0.0</td>\n",
       "      <td>0.0</td>\n",
       "      <td>0.0</td>\n",
       "      <td>0.0</td>\n",
       "      <td>0.0</td>\n",
       "      <td>0.0</td>\n",
       "      <td>0.0</td>\n",
       "      <td>0.0</td>\n",
       "      <td>0.0</td>\n",
       "      <td>0.0</td>\n",
       "      <td>0.0</td>\n",
       "      <td>0.0</td>\n",
       "      <td>0.0</td>\n",
       "      <td>0.0</td>\n",
       "      <td>0.0</td>\n",
       "      <td>0.0</td>\n",
       "      <td>0.0</td>\n",
       "      <td>0.0</td>\n",
       "      <td>0.0</td>\n",
       "      <td>0.0</td>\n",
       "      <td>0.0</td>\n",
       "      <td>0.0</td>\n",
       "      <td>0.0</td>\n",
       "      <td>0.0</td>\n",
       "      <td>0.0</td>\n",
       "      <td>0.0</td>\n",
       "      <td>0.0</td>\n",
       "      <td>0.0</td>\n",
       "      <td>0.0</td>\n",
       "      <td>0.0</td>\n",
       "      <td>0.0</td>\n",
       "      <td>0.0</td>\n",
       "      <td>0.0</td>\n",
       "      <td>0.0</td>\n",
       "      <td>0.0</td>\n",
       "      <td>0.0</td>\n",
       "      <td>0.0</td>\n",
       "      <td>0.0</td>\n",
       "      <td>0.0</td>\n",
       "      <td>0.0</td>\n",
       "      <td>0.0</td>\n",
       "      <td>0.0</td>\n",
       "      <td>0.0</td>\n",
       "      <td>0.0</td>\n",
       "      <td>0.0</td>\n",
       "      <td>0.0</td>\n",
       "      <td>0.0</td>\n",
       "      <td>0.0</td>\n",
       "      <td>0.0</td>\n",
       "      <td>0.0</td>\n",
       "      <td>0.0</td>\n",
       "      <td>0.0</td>\n",
       "      <td>0.0</td>\n",
       "      <td>0.0</td>\n",
       "      <td>0.0</td>\n",
       "      <td>0.0</td>\n",
       "      <td>0.0</td>\n",
       "      <td>0.0</td>\n",
       "      <td>0.0</td>\n",
       "      <td>0.0</td>\n",
       "      <td>0.0</td>\n",
       "      <td>0.0</td>\n",
       "      <td>0.0</td>\n",
       "      <td>0.0</td>\n",
       "      <td>0.0</td>\n",
       "      <td>0.0</td>\n",
       "      <td>0.0</td>\n",
       "      <td>0.0</td>\n",
       "      <td>0.0</td>\n",
       "      <td>0.0</td>\n",
       "      <td>0.0</td>\n",
       "      <td>0.0</td>\n",
       "      <td>0.0</td>\n",
       "      <td>0.0</td>\n",
       "      <td>0.0</td>\n",
       "      <td>0.0</td>\n",
       "      <td>0.0</td>\n",
       "      <td>0.0</td>\n",
       "      <td>0.0</td>\n",
       "      <td>0.0</td>\n",
       "      <td>0.0</td>\n",
       "      <td>0.0</td>\n",
       "      <td>0.0</td>\n",
       "      <td>0.0</td>\n",
       "      <td>0.0</td>\n",
       "      <td>0.0</td>\n",
       "      <td>0.0</td>\n",
       "      <td>0.0</td>\n",
       "      <td>0.0</td>\n",
       "      <td>0.0</td>\n",
       "      <td>0.0</td>\n",
       "      <td>0.0</td>\n",
       "      <td>0.0</td>\n",
       "      <td>0.0</td>\n",
       "      <td>0.0</td>\n",
       "      <td>0.0</td>\n",
       "      <td>0.0</td>\n",
       "      <td>0.0</td>\n",
       "      <td>0.0</td>\n",
       "      <td>0.0</td>\n",
       "      <td>0.0</td>\n",
       "      <td>0.0</td>\n",
       "      <td>0.0</td>\n",
       "      <td>0.0</td>\n",
       "      <td>0.0</td>\n",
       "      <td>0.0</td>\n",
       "      <td>0.0</td>\n",
       "      <td>0.0</td>\n",
       "      <td>0.0</td>\n",
       "      <td>0.0</td>\n",
       "      <td>0.0</td>\n",
       "      <td>0.0</td>\n",
       "      <td>0.0</td>\n",
       "      <td>0.0</td>\n",
       "      <td>0.0</td>\n",
       "      <td>0.0</td>\n",
       "      <td>0.0</td>\n",
       "      <td>0.0</td>\n",
       "      <td>0.0</td>\n",
       "      <td>0.0</td>\n",
       "      <td>0.0</td>\n",
       "      <td>0.0</td>\n",
       "      <td>0.0</td>\n",
       "      <td>0.0</td>\n",
       "      <td>0.0</td>\n",
       "      <td>0.0</td>\n",
       "      <td>0.0</td>\n",
       "      <td>0.0</td>\n",
       "      <td>0.0</td>\n",
       "      <td>0.0</td>\n",
       "      <td>0.0</td>\n",
       "      <td>0.0</td>\n",
       "      <td>0.0</td>\n",
       "      <td>0.0</td>\n",
       "      <td>0.0</td>\n",
       "      <td>0.0</td>\n",
       "      <td>0.0</td>\n",
       "      <td>0.0</td>\n",
       "      <td>0.0</td>\n",
       "      <td>0.0</td>\n",
       "      <td>0.0</td>\n",
       "      <td>0.0</td>\n",
       "      <td>0.0</td>\n",
       "      <td>0.0</td>\n",
       "      <td>0.0</td>\n",
       "      <td>0.0</td>\n",
       "      <td>0.0</td>\n",
       "      <td>0.0</td>\n",
       "      <td>0.0</td>\n",
       "      <td>0.0</td>\n",
       "      <td>0.0</td>\n",
       "      <td>1.0</td>\n",
       "      <td>0.0</td>\n",
       "      <td>0.0</td>\n",
       "      <td>0.0</td>\n",
       "      <td>0.0</td>\n",
       "      <td>0.0</td>\n",
       "      <td>0.0</td>\n",
       "      <td>0.0</td>\n",
       "      <td>0.0</td>\n",
       "      <td>0.0</td>\n",
       "      <td>0.0</td>\n",
       "      <td>0.0</td>\n",
       "      <td>0.0</td>\n",
       "      <td>0.0</td>\n",
       "      <td>0.0</td>\n",
       "      <td>0.0</td>\n",
       "      <td>0.0</td>\n",
       "      <td>0.0</td>\n",
       "      <td>0.0</td>\n",
       "      <td>0.0</td>\n",
       "      <td>0.0</td>\n",
       "      <td>1.0</td>\n",
       "      <td>0.0</td>\n",
       "      <td>0.0</td>\n",
       "      <td>0.0</td>\n",
       "      <td>0.0</td>\n",
       "      <td>0.0</td>\n",
       "      <td>0.0</td>\n",
       "      <td>0.0</td>\n",
       "      <td>0.0</td>\n",
       "      <td>0.0</td>\n",
       "      <td>0.0</td>\n",
       "      <td>0.0</td>\n",
       "      <td>0.0</td>\n",
       "      <td>0.0</td>\n",
       "      <td>0.0</td>\n",
       "      <td>0.0</td>\n",
       "      <td>0.0</td>\n",
       "      <td>0.0</td>\n",
       "      <td>0.0</td>\n",
       "      <td>0.0</td>\n",
       "      <td>0.0</td>\n",
       "    </tr>\n",
       "  </tbody>\n",
       "</table>\n",
       "</div>"
      ],
      "text/plain": [
       "        registration_year     power  kilometer  registration_month  \\\n",
       "330633          -0.496127 -0.077411   0.586264           -1.309158   \n",
       "327259           0.975599 -0.986539  -0.776830           -0.412474   \n",
       "242461           0.648549  1.377192   0.586264            1.082000   \n",
       "90054            0.648549  1.172639  -1.049449            1.380894   \n",
       "171678          -0.986702  2.399961   0.586264            1.679789   \n",
       "\n",
       "        vehicle_type_convertible  vehicle_type_coupe  vehicle_type_other  \\\n",
       "330633                       0.0                 0.0                 0.0   \n",
       "327259                       0.0                 0.0                 0.0   \n",
       "242461                       0.0                 0.0                 0.0   \n",
       "90054                        0.0                 0.0                 0.0   \n",
       "171678                       0.0                 0.0                 0.0   \n",
       "\n",
       "        vehicle_type_sedan  vehicle_type_small  vehicle_type_suv  \\\n",
       "330633                 1.0                 0.0               0.0   \n",
       "327259                 0.0                 1.0               0.0   \n",
       "242461                 0.0                 0.0               0.0   \n",
       "90054                  0.0                 0.0               0.0   \n",
       "171678                 0.0                 0.0               0.0   \n",
       "\n",
       "        vehicle_type_unknown  vehicle_type_wagon  gearbox_manual  \\\n",
       "330633                   0.0                 0.0             0.0   \n",
       "327259                   0.0                 0.0             1.0   \n",
       "242461                   0.0                 1.0             0.0   \n",
       "90054                    0.0                 1.0             1.0   \n",
       "171678                   0.0                 1.0             0.0   \n",
       "\n",
       "        gearbox_unknown  model_145  model_147  model_156  model_159  \\\n",
       "330633              0.0        0.0        0.0        0.0        0.0   \n",
       "327259              0.0        0.0        0.0        0.0        0.0   \n",
       "242461              0.0        0.0        0.0        0.0        0.0   \n",
       "90054               0.0        0.0        0.0        0.0        0.0   \n",
       "171678              0.0        0.0        0.0        0.0        0.0   \n",
       "\n",
       "        model_1_reihe  model_1er  model_200  model_2_reihe  model_300c  \\\n",
       "330633            0.0        0.0        0.0            0.0         0.0   \n",
       "327259            0.0        0.0        0.0            0.0         0.0   \n",
       "242461            0.0        0.0        0.0            0.0         0.0   \n",
       "90054             0.0        0.0        0.0            0.0         0.0   \n",
       "171678            0.0        0.0        0.0            0.0         0.0   \n",
       "\n",
       "        model_3_reihe  model_3er  model_4_reihe  model_500  model_5_reihe  \\\n",
       "330633            0.0        0.0            0.0        0.0            0.0   \n",
       "327259            0.0        0.0            0.0        0.0            0.0   \n",
       "242461            0.0        1.0            0.0        0.0            0.0   \n",
       "90054             0.0        0.0            0.0        0.0            0.0   \n",
       "171678            0.0        0.0            0.0        0.0            0.0   \n",
       "\n",
       "        model_5er  model_6_reihe  model_6er  model_7er  model_80  model_850  \\\n",
       "330633        0.0            0.0        0.0        0.0       0.0        0.0   \n",
       "327259        0.0            0.0        0.0        0.0       0.0        0.0   \n",
       "242461        0.0            0.0        0.0        0.0       0.0        0.0   \n",
       "90054         0.0            0.0        0.0        0.0       0.0        0.0   \n",
       "171678        0.0            0.0        0.0        0.0       0.0        0.0   \n",
       "\n",
       "        model_90  model_900  model_9000  model_911  model_a1  model_a2  \\\n",
       "330633       0.0        0.0         0.0        0.0       0.0       0.0   \n",
       "327259       0.0        0.0         0.0        0.0       0.0       0.0   \n",
       "242461       0.0        0.0         0.0        0.0       0.0       0.0   \n",
       "90054        0.0        0.0         0.0        0.0       0.0       0.0   \n",
       "171678       0.0        0.0         0.0        0.0       0.0       0.0   \n",
       "\n",
       "        model_a3  model_a4  model_a5  model_a6  model_a8  model_a_klasse  \\\n",
       "330633       0.0       0.0       0.0       0.0       0.0             0.0   \n",
       "327259       0.0       0.0       0.0       0.0       0.0             0.0   \n",
       "242461       0.0       0.0       0.0       0.0       0.0             0.0   \n",
       "90054        0.0       0.0       0.0       0.0       0.0             0.0   \n",
       "171678       0.0       0.0       0.0       0.0       0.0             0.0   \n",
       "\n",
       "        model_accord  model_agila  model_alhambra  model_almera  model_altea  \\\n",
       "330633           0.0          0.0             0.0           0.0          0.0   \n",
       "327259           0.0          0.0             0.0           0.0          0.0   \n",
       "242461           0.0          0.0             0.0           0.0          0.0   \n",
       "90054            0.0          0.0             0.0           0.0          0.0   \n",
       "171678           0.0          0.0             0.0           0.0          0.0   \n",
       "\n",
       "        model_amarok  model_antara  model_arosa  model_astra  model_auris  \\\n",
       "330633           0.0           0.0          0.0          0.0          0.0   \n",
       "327259           0.0           0.0          0.0          0.0          0.0   \n",
       "242461           0.0           0.0          0.0          0.0          0.0   \n",
       "90054            0.0           0.0          0.0          0.0          0.0   \n",
       "171678           0.0           0.0          0.0          0.0          0.0   \n",
       "\n",
       "        model_avensis  model_aveo  model_aygo  model_b_klasse  model_b_max  \\\n",
       "330633            0.0         0.0         0.0             0.0          0.0   \n",
       "327259            0.0         0.0         0.0             0.0          0.0   \n",
       "242461            0.0         0.0         0.0             0.0          0.0   \n",
       "90054             0.0         0.0         0.0             0.0          0.0   \n",
       "171678            0.0         0.0         0.0             0.0          0.0   \n",
       "\n",
       "        model_beetle  model_berlingo  model_bora  model_boxster  model_bravo  \\\n",
       "330633           0.0             0.0         0.0            0.0          0.0   \n",
       "327259           0.0             0.0         0.0            0.0          0.0   \n",
       "242461           0.0             0.0         0.0            0.0          0.0   \n",
       "90054            0.0             0.0         0.0            0.0          0.0   \n",
       "171678           0.0             0.0         0.0            0.0          0.0   \n",
       "\n",
       "        model_c1  model_c2  model_c3  model_c4  model_c5  model_c_klasse  \\\n",
       "330633       0.0       0.0       0.0       0.0       0.0             0.0   \n",
       "327259       0.0       0.0       0.0       0.0       0.0             0.0   \n",
       "242461       0.0       0.0       0.0       0.0       0.0             0.0   \n",
       "90054        0.0       0.0       0.0       0.0       1.0             0.0   \n",
       "171678       0.0       0.0       0.0       0.0       0.0             0.0   \n",
       "\n",
       "        model_c_max  model_c_reihe  model_caddy  model_calibra  model_captiva  \\\n",
       "330633          0.0            0.0          0.0            0.0            0.0   \n",
       "327259          0.0            0.0          0.0            0.0            0.0   \n",
       "242461          0.0            0.0          0.0            0.0            0.0   \n",
       "90054           0.0            0.0          0.0            0.0            0.0   \n",
       "171678          0.0            0.0          0.0            0.0            0.0   \n",
       "\n",
       "        model_carisma  model_carnival  model_cayenne  model_cc  model_ceed  \\\n",
       "330633            0.0             0.0            0.0       0.0         0.0   \n",
       "327259            0.0             0.0            0.0       0.0         0.0   \n",
       "242461            0.0             0.0            0.0       0.0         0.0   \n",
       "90054             0.0             0.0            0.0       0.0         0.0   \n",
       "171678            0.0             0.0            0.0       0.0         0.0   \n",
       "\n",
       "        model_charade  model_cherokee  model_citigo  model_civic  model_cl  \\\n",
       "330633            0.0             0.0           0.0          0.0       0.0   \n",
       "327259            0.0             0.0           0.0          0.0       0.0   \n",
       "242461            0.0             0.0           0.0          0.0       0.0   \n",
       "90054             0.0             0.0           0.0          0.0       0.0   \n",
       "171678            0.0             0.0           0.0          0.0       0.0   \n",
       "\n",
       "        model_clio  model_clk  model_clubman  model_colt  model_combo  \\\n",
       "330633         0.0        0.0            0.0         0.0          0.0   \n",
       "327259         0.0        0.0            0.0         0.0          0.0   \n",
       "242461         0.0        0.0            0.0         0.0          0.0   \n",
       "90054          0.0        0.0            0.0         0.0          0.0   \n",
       "171678         0.0        0.0            0.0         0.0          0.0   \n",
       "\n",
       "        model_cooper  model_cordoba  model_corolla  model_corsa  \\\n",
       "330633           0.0            0.0            0.0          0.0   \n",
       "327259           0.0            0.0            0.0          0.0   \n",
       "242461           0.0            0.0            0.0          0.0   \n",
       "90054            0.0            0.0            0.0          0.0   \n",
       "171678           0.0            0.0            0.0          0.0   \n",
       "\n",
       "        model_cr_reihe  model_croma  model_crossfire  model_cuore  \\\n",
       "330633             0.0          0.0              0.0          0.0   \n",
       "327259             0.0          0.0              0.0          0.0   \n",
       "242461             0.0          0.0              0.0          0.0   \n",
       "90054              0.0          0.0              0.0          0.0   \n",
       "171678             0.0          0.0              0.0          0.0   \n",
       "\n",
       "        model_cx_reihe  model_defender  model_delta  model_discovery  \\\n",
       "330633             0.0             0.0          0.0              0.0   \n",
       "327259             0.0             0.0          0.0              0.0   \n",
       "242461             0.0             0.0          0.0              0.0   \n",
       "90054              0.0             0.0          0.0              0.0   \n",
       "171678             0.0             0.0          0.0              0.0   \n",
       "\n",
       "        model_doblo  model_ducato  model_duster  model_e_klasse  \\\n",
       "330633          0.0           0.0           0.0             0.0   \n",
       "327259          0.0           0.0           0.0             0.0   \n",
       "242461          0.0           0.0           0.0             0.0   \n",
       "90054           0.0           0.0           0.0             0.0   \n",
       "171678          0.0           0.0           0.0             1.0   \n",
       "\n",
       "        model_elefantino  model_eos  model_escort  model_espace  model_exeo  \\\n",
       "330633               0.0        0.0           0.0           0.0         0.0   \n",
       "327259               0.0        0.0           0.0           0.0         0.0   \n",
       "242461               0.0        0.0           0.0           0.0         0.0   \n",
       "90054                0.0        0.0           0.0           0.0         0.0   \n",
       "171678               0.0        0.0           0.0           0.0         0.0   \n",
       "\n",
       "        model_fabia  model_fiesta  model_focus  model_forester  model_forfour  \\\n",
       "330633          0.0           0.0          0.0             0.0            0.0   \n",
       "327259          0.0           0.0          0.0             0.0            0.0   \n",
       "242461          0.0           0.0          0.0             0.0            0.0   \n",
       "90054           0.0           0.0          0.0             0.0            0.0   \n",
       "171678          0.0           0.0          0.0             0.0            0.0   \n",
       "\n",
       "        model_fortwo  model_fox  model_freelander  model_fusion  \\\n",
       "330633           0.0        0.0               0.0           0.0   \n",
       "327259           0.0        0.0               0.0           0.0   \n",
       "242461           0.0        0.0               0.0           0.0   \n",
       "90054            0.0        0.0               0.0           0.0   \n",
       "171678           0.0        0.0               0.0           0.0   \n",
       "\n",
       "        model_g_klasse  model_galant  model_galaxy  model_getz  model_gl  \\\n",
       "330633             0.0           0.0           0.0         0.0       0.0   \n",
       "327259             0.0           0.0           0.0         0.0       0.0   \n",
       "242461             0.0           0.0           0.0         0.0       0.0   \n",
       "90054              0.0           0.0           0.0         0.0       0.0   \n",
       "171678             0.0           0.0           0.0         0.0       0.0   \n",
       "\n",
       "        model_glk  model_golf  model_grand  model_i3  model_i_reihe  \\\n",
       "330633        0.0         0.0          0.0       0.0            0.0   \n",
       "327259        0.0         0.0          0.0       0.0            0.0   \n",
       "242461        0.0         0.0          0.0       0.0            0.0   \n",
       "90054         0.0         0.0          0.0       0.0            0.0   \n",
       "171678        0.0         0.0          0.0       0.0            0.0   \n",
       "\n",
       "        model_ibiza  model_impreza  model_insignia  model_jazz  model_jetta  \\\n",
       "330633          0.0            0.0             0.0         0.0          0.0   \n",
       "327259          0.0            0.0             0.0         0.0          0.0   \n",
       "242461          0.0            0.0             0.0         0.0          0.0   \n",
       "90054           0.0            0.0             0.0         0.0          0.0   \n",
       "171678          0.0            0.0             0.0         0.0          0.0   \n",
       "\n",
       "        model_jimny  model_juke  model_justy  model_ka  model_kadett  \\\n",
       "330633          0.0         0.0          0.0       0.0           0.0   \n",
       "327259          0.0         0.0          0.0       0.0           0.0   \n",
       "242461          0.0         0.0          0.0       0.0           0.0   \n",
       "90054           0.0         0.0          0.0       0.0           0.0   \n",
       "171678          0.0         0.0          0.0       0.0           0.0   \n",
       "\n",
       "        model_kaefer  model_kalina  model_kalos  model_kangoo  model_kappa  \\\n",
       "330633           0.0           0.0          0.0           0.0          0.0   \n",
       "327259           0.0           0.0          0.0           0.0          0.0   \n",
       "242461           0.0           0.0          0.0           0.0          0.0   \n",
       "90054            0.0           0.0          0.0           0.0          0.0   \n",
       "171678           0.0           0.0          0.0           0.0          0.0   \n",
       "\n",
       "        model_kuga  model_laguna  model_lancer  model_lanos  model_legacy  \\\n",
       "330633         0.0           0.0           0.0          0.0           0.0   \n",
       "327259         0.0           0.0           0.0          0.0           0.0   \n",
       "242461         0.0           0.0           0.0          0.0           0.0   \n",
       "90054          0.0           0.0           0.0          0.0           0.0   \n",
       "171678         0.0           0.0           0.0          0.0           0.0   \n",
       "\n",
       "        model_leon  model_lodgy  model_logan  model_lupo  model_lybra  \\\n",
       "330633         0.0          0.0          0.0         0.0          0.0   \n",
       "327259         0.0          0.0          0.0         0.0          0.0   \n",
       "242461         0.0          0.0          0.0         0.0          0.0   \n",
       "90054          0.0          0.0          0.0         0.0          0.0   \n",
       "171678         0.0          0.0          0.0         0.0          0.0   \n",
       "\n",
       "        model_m_klasse  model_m_reihe  model_materia  model_matiz  \\\n",
       "330633             0.0            0.0            0.0          0.0   \n",
       "327259             0.0            0.0            0.0          0.0   \n",
       "242461             0.0            0.0            0.0          0.0   \n",
       "90054              0.0            0.0            0.0          0.0   \n",
       "171678             0.0            0.0            0.0          0.0   \n",
       "\n",
       "        model_megane  model_meriva  model_micra  model_mii  model_modus  \\\n",
       "330633           0.0           0.0          0.0        0.0          0.0   \n",
       "327259           0.0           0.0          0.0        0.0          0.0   \n",
       "242461           0.0           0.0          0.0        0.0          0.0   \n",
       "90054            0.0           0.0          0.0        0.0          0.0   \n",
       "171678           0.0           0.0          0.0        0.0          0.0   \n",
       "\n",
       "        model_mondeo  model_move  model_musa  model_mustang  model_mx_reihe  \\\n",
       "330633           0.0         0.0         0.0            0.0             0.0   \n",
       "327259           0.0         0.0         0.0            0.0             0.0   \n",
       "242461           0.0         0.0         0.0            0.0             0.0   \n",
       "90054            0.0         0.0         0.0            0.0             0.0   \n",
       "171678           0.0         0.0         0.0            0.0             0.0   \n",
       "\n",
       "        model_navara  model_niva  model_note  model_nubira  model_octavia  \\\n",
       "330633           0.0         0.0         0.0           0.0            0.0   \n",
       "327259           0.0         0.0         0.0           0.0            0.0   \n",
       "242461           0.0         0.0         0.0           0.0            0.0   \n",
       "90054            0.0         0.0         0.0           0.0            0.0   \n",
       "171678           0.0         0.0         0.0           0.0            0.0   \n",
       "\n",
       "        model_omega  model_one  model_other  model_outlander  model_pajero  \\\n",
       "330633          0.0        0.0          0.0              0.0           0.0   \n",
       "327259          0.0        0.0          0.0              0.0           0.0   \n",
       "242461          0.0        0.0          0.0              0.0           0.0   \n",
       "90054           0.0        0.0          0.0              0.0           0.0   \n",
       "171678          0.0        0.0          0.0              0.0           0.0   \n",
       "\n",
       "        model_panda  model_passat  model_phaeton  model_picanto  model_polo  \\\n",
       "330633          0.0           1.0            0.0            0.0         0.0   \n",
       "327259          0.0           0.0            0.0            0.0         0.0   \n",
       "242461          0.0           0.0            0.0            0.0         0.0   \n",
       "90054           0.0           0.0            0.0            0.0         0.0   \n",
       "171678          0.0           0.0            0.0            0.0         0.0   \n",
       "\n",
       "        model_primera  model_ptcruiser  model_punto  model_q3  model_q5  \\\n",
       "330633            0.0              0.0          0.0       0.0       0.0   \n",
       "327259            0.0              0.0          0.0       0.0       0.0   \n",
       "242461            0.0              0.0          0.0       0.0       0.0   \n",
       "90054             0.0              0.0          0.0       0.0       0.0   \n",
       "171678            0.0              0.0          0.0       0.0       0.0   \n",
       "\n",
       "        model_q7  model_qashqai  model_r19  model_range_rover  \\\n",
       "330633       0.0            0.0        0.0                0.0   \n",
       "327259       0.0            0.0        0.0                0.0   \n",
       "242461       0.0            0.0        0.0                0.0   \n",
       "90054        0.0            0.0        0.0                0.0   \n",
       "171678       0.0            0.0        0.0                0.0   \n",
       "\n",
       "        model_range_rover_sport  model_rangerover  model_rav  model_rio  \\\n",
       "330633                      0.0               0.0        0.0        0.0   \n",
       "327259                      0.0               0.0        0.0        0.0   \n",
       "242461                      0.0               0.0        0.0        0.0   \n",
       "90054                       0.0               0.0        0.0        0.0   \n",
       "171678                      0.0               0.0        0.0        0.0   \n",
       "\n",
       "        model_roadster  model_roomster  model_rx_reihe  model_s60  \\\n",
       "330633             0.0             0.0             0.0        0.0   \n",
       "327259             0.0             0.0             0.0        0.0   \n",
       "242461             0.0             0.0             0.0        0.0   \n",
       "90054              0.0             0.0             0.0        0.0   \n",
       "171678             0.0             0.0             0.0        0.0   \n",
       "\n",
       "        model_s_klasse  model_s_max  model_s_type  model_samara  \\\n",
       "330633             0.0          0.0           0.0           0.0   \n",
       "327259             0.0          0.0           0.0           0.0   \n",
       "242461             0.0          0.0           0.0           0.0   \n",
       "90054              0.0          0.0           0.0           0.0   \n",
       "171678             0.0          0.0           0.0           0.0   \n",
       "\n",
       "        model_sandero  model_santa  model_scenic  model_scirocco  \\\n",
       "330633            0.0          0.0           0.0             0.0   \n",
       "327259            1.0          0.0           0.0             0.0   \n",
       "242461            0.0          0.0           0.0             0.0   \n",
       "90054             0.0          0.0           0.0             0.0   \n",
       "171678            0.0          0.0           0.0             0.0   \n",
       "\n",
       "        model_seicento  model_serie_2  model_serie_3  model_sharan  \\\n",
       "330633             0.0            0.0            0.0           0.0   \n",
       "327259             0.0            0.0            0.0           0.0   \n",
       "242461             0.0            0.0            0.0           0.0   \n",
       "90054              0.0            0.0            0.0           0.0   \n",
       "171678             0.0            0.0            0.0           0.0   \n",
       "\n",
       "        model_signum  model_sirion  model_sl  model_slk  model_sorento  \\\n",
       "330633           0.0           0.0       0.0        0.0            0.0   \n",
       "327259           0.0           0.0       0.0        0.0            0.0   \n",
       "242461           0.0           0.0       0.0        0.0            0.0   \n",
       "90054            0.0           0.0       0.0        0.0            0.0   \n",
       "171678           0.0           0.0       0.0        0.0            0.0   \n",
       "\n",
       "        model_spark  model_spider  model_sportage  model_sprinter  \\\n",
       "330633          0.0           0.0             0.0             0.0   \n",
       "327259          0.0           0.0             0.0             0.0   \n",
       "242461          0.0           0.0             0.0             0.0   \n",
       "90054           0.0           0.0             0.0             0.0   \n",
       "171678          0.0           0.0             0.0             0.0   \n",
       "\n",
       "        model_stilo  model_superb  model_swift  model_terios  model_tigra  \\\n",
       "330633          0.0           0.0          0.0           0.0          0.0   \n",
       "327259          0.0           0.0          0.0           0.0          0.0   \n",
       "242461          0.0           0.0          0.0           0.0          0.0   \n",
       "90054           0.0           0.0          0.0           0.0          0.0   \n",
       "171678          0.0           0.0          0.0           0.0          0.0   \n",
       "\n",
       "        model_tiguan  model_toledo  model_touareg  model_touran  \\\n",
       "330633           0.0           0.0            0.0           0.0   \n",
       "327259           0.0           0.0            0.0           0.0   \n",
       "242461           0.0           0.0            0.0           0.0   \n",
       "90054            0.0           0.0            0.0           0.0   \n",
       "171678           0.0           0.0            0.0           0.0   \n",
       "\n",
       "        model_transit  model_transporter  model_tt  model_tucson  \\\n",
       "330633            0.0                0.0       0.0           0.0   \n",
       "327259            0.0                0.0       0.0           0.0   \n",
       "242461            0.0                0.0       0.0           0.0   \n",
       "90054             0.0                0.0       0.0           0.0   \n",
       "171678            0.0                0.0       0.0           0.0   \n",
       "\n",
       "        model_twingo  model_unknown  model_up  model_v40  model_v50  \\\n",
       "330633           0.0            0.0       0.0        0.0        0.0   \n",
       "327259           0.0            0.0       0.0        0.0        0.0   \n",
       "242461           0.0            0.0       0.0        0.0        0.0   \n",
       "90054            0.0            0.0       0.0        0.0        0.0   \n",
       "171678           0.0            0.0       0.0        0.0        0.0   \n",
       "\n",
       "        model_v60  model_v70  model_v_klasse  model_vectra  model_verso  \\\n",
       "330633        0.0        0.0             0.0           0.0          0.0   \n",
       "327259        0.0        0.0             0.0           0.0          0.0   \n",
       "242461        0.0        0.0             0.0           0.0          0.0   \n",
       "90054         0.0        0.0             0.0           0.0          0.0   \n",
       "171678        0.0        0.0             0.0           0.0          0.0   \n",
       "\n",
       "        model_viano  model_vito  model_vivaro  model_voyager  model_wrangler  \\\n",
       "330633          0.0         0.0           0.0            0.0             0.0   \n",
       "327259          0.0         0.0           0.0            0.0             0.0   \n",
       "242461          0.0         0.0           0.0            0.0             0.0   \n",
       "90054           0.0         0.0           0.0            0.0             0.0   \n",
       "171678          0.0         0.0           0.0            0.0             0.0   \n",
       "\n",
       "        model_x_reihe  model_x_trail  model_x_type  model_xc_reihe  \\\n",
       "330633            0.0            0.0           0.0             0.0   \n",
       "327259            0.0            0.0           0.0             0.0   \n",
       "242461            0.0            0.0           0.0             0.0   \n",
       "90054             0.0            0.0           0.0             0.0   \n",
       "171678            0.0            0.0           0.0             0.0   \n",
       "\n",
       "        model_yaris  model_yeti  model_ypsilon  model_z_reihe  model_zafira  \\\n",
       "330633          0.0         0.0            0.0            0.0           0.0   \n",
       "327259          0.0         0.0            0.0            0.0           0.0   \n",
       "242461          0.0         0.0            0.0            0.0           0.0   \n",
       "90054           0.0         0.0            0.0            0.0           0.0   \n",
       "171678          0.0         0.0            0.0            0.0           0.0   \n",
       "\n",
       "        fuel_type_electric  fuel_type_gasoline  fuel_type_hybrid  \\\n",
       "330633                 0.0                 1.0               0.0   \n",
       "327259                 0.0                 0.0               0.0   \n",
       "242461                 0.0                 0.0               0.0   \n",
       "90054                  0.0                 1.0               0.0   \n",
       "171678                 0.0                 0.0               0.0   \n",
       "\n",
       "        fuel_type_lpg  fuel_type_other  fuel_type_petrol  fuel_type_unknown  \\\n",
       "330633            0.0              0.0               0.0                0.0   \n",
       "327259            0.0              0.0               1.0                0.0   \n",
       "242461            0.0              0.0               0.0                1.0   \n",
       "90054             0.0              0.0               0.0                0.0   \n",
       "171678            0.0              0.0               1.0                0.0   \n",
       "\n",
       "        brand_audi  brand_bmw  brand_chevrolet  brand_chrysler  brand_citroen  \\\n",
       "330633         0.0        0.0              0.0             0.0            0.0   \n",
       "327259         0.0        0.0              0.0             0.0            0.0   \n",
       "242461         0.0        1.0              0.0             0.0            0.0   \n",
       "90054          0.0        0.0              0.0             0.0            1.0   \n",
       "171678         0.0        0.0              0.0             0.0            0.0   \n",
       "\n",
       "        brand_dacia  brand_daewoo  brand_daihatsu  brand_fiat  brand_ford  \\\n",
       "330633          0.0           0.0             0.0         0.0         0.0   \n",
       "327259          1.0           0.0             0.0         0.0         0.0   \n",
       "242461          0.0           0.0             0.0         0.0         0.0   \n",
       "90054           0.0           0.0             0.0         0.0         0.0   \n",
       "171678          0.0           0.0             0.0         0.0         0.0   \n",
       "\n",
       "        brand_honda  brand_hyundai  brand_jaguar  brand_jeep  brand_kia  \\\n",
       "330633          0.0            0.0           0.0         0.0        0.0   \n",
       "327259          0.0            0.0           0.0         0.0        0.0   \n",
       "242461          0.0            0.0           0.0         0.0        0.0   \n",
       "90054           0.0            0.0           0.0         0.0        0.0   \n",
       "171678          0.0            0.0           0.0         0.0        0.0   \n",
       "\n",
       "        brand_lada  brand_lancia  brand_land_rover  brand_mazda  \\\n",
       "330633         0.0           0.0               0.0          0.0   \n",
       "327259         0.0           0.0               0.0          0.0   \n",
       "242461         0.0           0.0               0.0          0.0   \n",
       "90054          0.0           0.0               0.0          0.0   \n",
       "171678         0.0           0.0               0.0          0.0   \n",
       "\n",
       "        brand_mercedes_benz  brand_mini  brand_mitsubishi  brand_nissan  \\\n",
       "330633                  0.0         0.0               0.0           0.0   \n",
       "327259                  0.0         0.0               0.0           0.0   \n",
       "242461                  0.0         0.0               0.0           0.0   \n",
       "90054                   0.0         0.0               0.0           0.0   \n",
       "171678                  1.0         0.0               0.0           0.0   \n",
       "\n",
       "        brand_opel  brand_peugeot  brand_porsche  brand_renault  brand_rover  \\\n",
       "330633         0.0            0.0            0.0            0.0          0.0   \n",
       "327259         0.0            0.0            0.0            0.0          0.0   \n",
       "242461         0.0            0.0            0.0            0.0          0.0   \n",
       "90054          0.0            0.0            0.0            0.0          0.0   \n",
       "171678         0.0            0.0            0.0            0.0          0.0   \n",
       "\n",
       "        brand_saab  brand_seat  brand_skoda  brand_smart  \\\n",
       "330633         0.0         0.0          0.0          0.0   \n",
       "327259         0.0         0.0          0.0          0.0   \n",
       "242461         0.0         0.0          0.0          0.0   \n",
       "90054          0.0         0.0          0.0          0.0   \n",
       "171678         0.0         0.0          0.0          0.0   \n",
       "\n",
       "        brand_sonstige_autos  brand_subaru  brand_suzuki  brand_toyota  \\\n",
       "330633                   0.0           0.0           0.0           0.0   \n",
       "327259                   0.0           0.0           0.0           0.0   \n",
       "242461                   0.0           0.0           0.0           0.0   \n",
       "90054                    0.0           0.0           0.0           0.0   \n",
       "171678                   0.0           0.0           0.0           0.0   \n",
       "\n",
       "        brand_trabant  brand_volkswagen  brand_volvo  repaired_yes  \n",
       "330633            0.0               1.0          0.0           0.0  \n",
       "327259            0.0               0.0          0.0           0.0  \n",
       "242461            0.0               0.0          0.0           0.0  \n",
       "90054             0.0               0.0          0.0           0.0  \n",
       "171678            0.0               0.0          0.0           0.0  "
      ]
     },
     "execution_count": 67,
     "metadata": {},
     "output_type": "execute_result"
    }
   ],
   "source": [
    "# кодируем тренировочную выборку энкодером обученным на полной выборке\n",
    "\n",
    "X_train_ohe = X_train.copy()\n",
    "# добавляем закодированные признаки в X_train_ohbe\n",
    "# encoder_ohe.get_feature_names_out() позволяет получить названия колонок\n",
    "X_train_ohe[\n",
    "    encoder_ohe.get_feature_names_out()\n",
    "] = encoder_ohe.transform(X_train_ohe[ohe_features])\n",
    "\n",
    "\n",
    "# удаляем незакодированные категориальные признаки (изначальные колонки)\n",
    "X_train_ohe = X_train_ohe.drop(ohe_features, axis=1)\n",
    "\n",
    "# используем скелер обученный на полной выборке\n",
    "X_train_ohe[num_features] = scaler.transform(X_train_ohe[num_features])\n",
    "\n",
    "# смотрим на результат\n",
    "X_train_ohe.head()"
   ]
  },
  {
   "cell_type": "code",
   "execution_count": 68,
   "metadata": {
    "scrolled": true
   },
   "outputs": [
    {
     "data": {
      "text/html": [
       "<div>\n",
       "<style scoped>\n",
       "    .dataframe tbody tr th:only-of-type {\n",
       "        vertical-align: middle;\n",
       "    }\n",
       "\n",
       "    .dataframe tbody tr th {\n",
       "        vertical-align: top;\n",
       "    }\n",
       "\n",
       "    .dataframe thead th {\n",
       "        text-align: right;\n",
       "    }\n",
       "</style>\n",
       "<table border=\"1\" class=\"dataframe\">\n",
       "  <thead>\n",
       "    <tr style=\"text-align: right;\">\n",
       "      <th></th>\n",
       "      <th>registration_year</th>\n",
       "      <th>power</th>\n",
       "      <th>kilometer</th>\n",
       "      <th>registration_month</th>\n",
       "      <th>vehicle_type_convertible</th>\n",
       "      <th>vehicle_type_coupe</th>\n",
       "      <th>vehicle_type_other</th>\n",
       "      <th>vehicle_type_sedan</th>\n",
       "      <th>vehicle_type_small</th>\n",
       "      <th>vehicle_type_suv</th>\n",
       "      <th>vehicle_type_unknown</th>\n",
       "      <th>vehicle_type_wagon</th>\n",
       "      <th>gearbox_manual</th>\n",
       "      <th>gearbox_unknown</th>\n",
       "      <th>model_145</th>\n",
       "      <th>model_147</th>\n",
       "      <th>model_156</th>\n",
       "      <th>model_159</th>\n",
       "      <th>model_1_reihe</th>\n",
       "      <th>model_1er</th>\n",
       "      <th>model_200</th>\n",
       "      <th>model_2_reihe</th>\n",
       "      <th>model_300c</th>\n",
       "      <th>model_3_reihe</th>\n",
       "      <th>model_3er</th>\n",
       "      <th>model_4_reihe</th>\n",
       "      <th>model_500</th>\n",
       "      <th>model_5_reihe</th>\n",
       "      <th>model_5er</th>\n",
       "      <th>model_6_reihe</th>\n",
       "      <th>model_6er</th>\n",
       "      <th>model_7er</th>\n",
       "      <th>model_80</th>\n",
       "      <th>model_850</th>\n",
       "      <th>model_90</th>\n",
       "      <th>model_900</th>\n",
       "      <th>model_9000</th>\n",
       "      <th>model_911</th>\n",
       "      <th>model_a1</th>\n",
       "      <th>model_a2</th>\n",
       "      <th>model_a3</th>\n",
       "      <th>model_a4</th>\n",
       "      <th>model_a5</th>\n",
       "      <th>model_a6</th>\n",
       "      <th>model_a8</th>\n",
       "      <th>model_a_klasse</th>\n",
       "      <th>model_accord</th>\n",
       "      <th>model_agila</th>\n",
       "      <th>model_alhambra</th>\n",
       "      <th>model_almera</th>\n",
       "      <th>model_altea</th>\n",
       "      <th>model_amarok</th>\n",
       "      <th>model_antara</th>\n",
       "      <th>model_arosa</th>\n",
       "      <th>model_astra</th>\n",
       "      <th>model_auris</th>\n",
       "      <th>model_avensis</th>\n",
       "      <th>model_aveo</th>\n",
       "      <th>model_aygo</th>\n",
       "      <th>model_b_klasse</th>\n",
       "      <th>model_b_max</th>\n",
       "      <th>model_beetle</th>\n",
       "      <th>model_berlingo</th>\n",
       "      <th>model_bora</th>\n",
       "      <th>model_boxster</th>\n",
       "      <th>model_bravo</th>\n",
       "      <th>model_c1</th>\n",
       "      <th>model_c2</th>\n",
       "      <th>model_c3</th>\n",
       "      <th>model_c4</th>\n",
       "      <th>model_c5</th>\n",
       "      <th>model_c_klasse</th>\n",
       "      <th>model_c_max</th>\n",
       "      <th>model_c_reihe</th>\n",
       "      <th>model_caddy</th>\n",
       "      <th>model_calibra</th>\n",
       "      <th>model_captiva</th>\n",
       "      <th>model_carisma</th>\n",
       "      <th>model_carnival</th>\n",
       "      <th>model_cayenne</th>\n",
       "      <th>model_cc</th>\n",
       "      <th>model_ceed</th>\n",
       "      <th>model_charade</th>\n",
       "      <th>model_cherokee</th>\n",
       "      <th>model_citigo</th>\n",
       "      <th>model_civic</th>\n",
       "      <th>model_cl</th>\n",
       "      <th>model_clio</th>\n",
       "      <th>model_clk</th>\n",
       "      <th>model_clubman</th>\n",
       "      <th>model_colt</th>\n",
       "      <th>model_combo</th>\n",
       "      <th>model_cooper</th>\n",
       "      <th>model_cordoba</th>\n",
       "      <th>model_corolla</th>\n",
       "      <th>model_corsa</th>\n",
       "      <th>model_cr_reihe</th>\n",
       "      <th>model_croma</th>\n",
       "      <th>model_crossfire</th>\n",
       "      <th>model_cuore</th>\n",
       "      <th>model_cx_reihe</th>\n",
       "      <th>model_defender</th>\n",
       "      <th>model_delta</th>\n",
       "      <th>model_discovery</th>\n",
       "      <th>model_doblo</th>\n",
       "      <th>model_ducato</th>\n",
       "      <th>model_duster</th>\n",
       "      <th>model_e_klasse</th>\n",
       "      <th>model_elefantino</th>\n",
       "      <th>model_eos</th>\n",
       "      <th>model_escort</th>\n",
       "      <th>model_espace</th>\n",
       "      <th>model_exeo</th>\n",
       "      <th>model_fabia</th>\n",
       "      <th>model_fiesta</th>\n",
       "      <th>model_focus</th>\n",
       "      <th>model_forester</th>\n",
       "      <th>model_forfour</th>\n",
       "      <th>model_fortwo</th>\n",
       "      <th>model_fox</th>\n",
       "      <th>model_freelander</th>\n",
       "      <th>model_fusion</th>\n",
       "      <th>model_g_klasse</th>\n",
       "      <th>model_galant</th>\n",
       "      <th>model_galaxy</th>\n",
       "      <th>model_getz</th>\n",
       "      <th>model_gl</th>\n",
       "      <th>model_glk</th>\n",
       "      <th>model_golf</th>\n",
       "      <th>model_grand</th>\n",
       "      <th>model_i3</th>\n",
       "      <th>model_i_reihe</th>\n",
       "      <th>model_ibiza</th>\n",
       "      <th>model_impreza</th>\n",
       "      <th>model_insignia</th>\n",
       "      <th>model_jazz</th>\n",
       "      <th>model_jetta</th>\n",
       "      <th>model_jimny</th>\n",
       "      <th>model_juke</th>\n",
       "      <th>model_justy</th>\n",
       "      <th>model_ka</th>\n",
       "      <th>model_kadett</th>\n",
       "      <th>model_kaefer</th>\n",
       "      <th>model_kalina</th>\n",
       "      <th>model_kalos</th>\n",
       "      <th>model_kangoo</th>\n",
       "      <th>model_kappa</th>\n",
       "      <th>model_kuga</th>\n",
       "      <th>model_laguna</th>\n",
       "      <th>model_lancer</th>\n",
       "      <th>model_lanos</th>\n",
       "      <th>model_legacy</th>\n",
       "      <th>model_leon</th>\n",
       "      <th>model_lodgy</th>\n",
       "      <th>model_logan</th>\n",
       "      <th>model_lupo</th>\n",
       "      <th>model_lybra</th>\n",
       "      <th>model_m_klasse</th>\n",
       "      <th>model_m_reihe</th>\n",
       "      <th>model_materia</th>\n",
       "      <th>model_matiz</th>\n",
       "      <th>model_megane</th>\n",
       "      <th>model_meriva</th>\n",
       "      <th>model_micra</th>\n",
       "      <th>model_mii</th>\n",
       "      <th>model_modus</th>\n",
       "      <th>model_mondeo</th>\n",
       "      <th>model_move</th>\n",
       "      <th>model_musa</th>\n",
       "      <th>model_mustang</th>\n",
       "      <th>model_mx_reihe</th>\n",
       "      <th>model_navara</th>\n",
       "      <th>model_niva</th>\n",
       "      <th>model_note</th>\n",
       "      <th>model_nubira</th>\n",
       "      <th>model_octavia</th>\n",
       "      <th>model_omega</th>\n",
       "      <th>model_one</th>\n",
       "      <th>model_other</th>\n",
       "      <th>model_outlander</th>\n",
       "      <th>model_pajero</th>\n",
       "      <th>model_panda</th>\n",
       "      <th>model_passat</th>\n",
       "      <th>model_phaeton</th>\n",
       "      <th>model_picanto</th>\n",
       "      <th>model_polo</th>\n",
       "      <th>model_primera</th>\n",
       "      <th>model_ptcruiser</th>\n",
       "      <th>model_punto</th>\n",
       "      <th>model_q3</th>\n",
       "      <th>model_q5</th>\n",
       "      <th>model_q7</th>\n",
       "      <th>model_qashqai</th>\n",
       "      <th>model_r19</th>\n",
       "      <th>model_range_rover</th>\n",
       "      <th>model_range_rover_sport</th>\n",
       "      <th>model_rangerover</th>\n",
       "      <th>model_rav</th>\n",
       "      <th>model_rio</th>\n",
       "      <th>model_roadster</th>\n",
       "      <th>model_roomster</th>\n",
       "      <th>model_rx_reihe</th>\n",
       "      <th>model_s60</th>\n",
       "      <th>model_s_klasse</th>\n",
       "      <th>model_s_max</th>\n",
       "      <th>model_s_type</th>\n",
       "      <th>model_samara</th>\n",
       "      <th>model_sandero</th>\n",
       "      <th>model_santa</th>\n",
       "      <th>model_scenic</th>\n",
       "      <th>model_scirocco</th>\n",
       "      <th>model_seicento</th>\n",
       "      <th>model_serie_2</th>\n",
       "      <th>model_serie_3</th>\n",
       "      <th>model_sharan</th>\n",
       "      <th>model_signum</th>\n",
       "      <th>model_sirion</th>\n",
       "      <th>model_sl</th>\n",
       "      <th>model_slk</th>\n",
       "      <th>model_sorento</th>\n",
       "      <th>model_spark</th>\n",
       "      <th>model_spider</th>\n",
       "      <th>model_sportage</th>\n",
       "      <th>model_sprinter</th>\n",
       "      <th>model_stilo</th>\n",
       "      <th>model_superb</th>\n",
       "      <th>model_swift</th>\n",
       "      <th>model_terios</th>\n",
       "      <th>model_tigra</th>\n",
       "      <th>model_tiguan</th>\n",
       "      <th>model_toledo</th>\n",
       "      <th>model_touareg</th>\n",
       "      <th>model_touran</th>\n",
       "      <th>model_transit</th>\n",
       "      <th>model_transporter</th>\n",
       "      <th>model_tt</th>\n",
       "      <th>model_tucson</th>\n",
       "      <th>model_twingo</th>\n",
       "      <th>model_unknown</th>\n",
       "      <th>model_up</th>\n",
       "      <th>model_v40</th>\n",
       "      <th>model_v50</th>\n",
       "      <th>model_v60</th>\n",
       "      <th>model_v70</th>\n",
       "      <th>model_v_klasse</th>\n",
       "      <th>model_vectra</th>\n",
       "      <th>model_verso</th>\n",
       "      <th>model_viano</th>\n",
       "      <th>model_vito</th>\n",
       "      <th>model_vivaro</th>\n",
       "      <th>model_voyager</th>\n",
       "      <th>model_wrangler</th>\n",
       "      <th>model_x_reihe</th>\n",
       "      <th>model_x_trail</th>\n",
       "      <th>model_x_type</th>\n",
       "      <th>model_xc_reihe</th>\n",
       "      <th>model_yaris</th>\n",
       "      <th>model_yeti</th>\n",
       "      <th>model_ypsilon</th>\n",
       "      <th>model_z_reihe</th>\n",
       "      <th>model_zafira</th>\n",
       "      <th>fuel_type_electric</th>\n",
       "      <th>fuel_type_gasoline</th>\n",
       "      <th>fuel_type_hybrid</th>\n",
       "      <th>fuel_type_lpg</th>\n",
       "      <th>fuel_type_other</th>\n",
       "      <th>fuel_type_petrol</th>\n",
       "      <th>fuel_type_unknown</th>\n",
       "      <th>brand_audi</th>\n",
       "      <th>brand_bmw</th>\n",
       "      <th>brand_chevrolet</th>\n",
       "      <th>brand_chrysler</th>\n",
       "      <th>brand_citroen</th>\n",
       "      <th>brand_dacia</th>\n",
       "      <th>brand_daewoo</th>\n",
       "      <th>brand_daihatsu</th>\n",
       "      <th>brand_fiat</th>\n",
       "      <th>brand_ford</th>\n",
       "      <th>brand_honda</th>\n",
       "      <th>brand_hyundai</th>\n",
       "      <th>brand_jaguar</th>\n",
       "      <th>brand_jeep</th>\n",
       "      <th>brand_kia</th>\n",
       "      <th>brand_lada</th>\n",
       "      <th>brand_lancia</th>\n",
       "      <th>brand_land_rover</th>\n",
       "      <th>brand_mazda</th>\n",
       "      <th>brand_mercedes_benz</th>\n",
       "      <th>brand_mini</th>\n",
       "      <th>brand_mitsubishi</th>\n",
       "      <th>brand_nissan</th>\n",
       "      <th>brand_opel</th>\n",
       "      <th>brand_peugeot</th>\n",
       "      <th>brand_porsche</th>\n",
       "      <th>brand_renault</th>\n",
       "      <th>brand_rover</th>\n",
       "      <th>brand_saab</th>\n",
       "      <th>brand_seat</th>\n",
       "      <th>brand_skoda</th>\n",
       "      <th>brand_smart</th>\n",
       "      <th>brand_sonstige_autos</th>\n",
       "      <th>brand_subaru</th>\n",
       "      <th>brand_suzuki</th>\n",
       "      <th>brand_toyota</th>\n",
       "      <th>brand_trabant</th>\n",
       "      <th>brand_volkswagen</th>\n",
       "      <th>brand_volvo</th>\n",
       "      <th>repaired_yes</th>\n",
       "    </tr>\n",
       "  </thead>\n",
       "  <tbody>\n",
       "    <tr>\n",
       "      <th>249948</th>\n",
       "      <td>0.485024</td>\n",
       "      <td>0.490793</td>\n",
       "      <td>0.586264</td>\n",
       "      <td>1.380894</td>\n",
       "      <td>0.0</td>\n",
       "      <td>0.0</td>\n",
       "      <td>0.0</td>\n",
       "      <td>0.0</td>\n",
       "      <td>0.0</td>\n",
       "      <td>0.0</td>\n",
       "      <td>0.0</td>\n",
       "      <td>1.0</td>\n",
       "      <td>0.0</td>\n",
       "      <td>0.0</td>\n",
       "      <td>0.0</td>\n",
       "      <td>0.0</td>\n",
       "      <td>0.0</td>\n",
       "      <td>0.0</td>\n",
       "      <td>0.0</td>\n",
       "      <td>0.0</td>\n",
       "      <td>0.0</td>\n",
       "      <td>0.0</td>\n",
       "      <td>0.0</td>\n",
       "      <td>0.0</td>\n",
       "      <td>0.0</td>\n",
       "      <td>0.0</td>\n",
       "      <td>0.0</td>\n",
       "      <td>0.0</td>\n",
       "      <td>0.0</td>\n",
       "      <td>0.0</td>\n",
       "      <td>0.0</td>\n",
       "      <td>0.0</td>\n",
       "      <td>0.0</td>\n",
       "      <td>0.0</td>\n",
       "      <td>0.0</td>\n",
       "      <td>0.0</td>\n",
       "      <td>0.0</td>\n",
       "      <td>0.0</td>\n",
       "      <td>0.0</td>\n",
       "      <td>0.0</td>\n",
       "      <td>0.0</td>\n",
       "      <td>0.0</td>\n",
       "      <td>0.0</td>\n",
       "      <td>0.0</td>\n",
       "      <td>0.0</td>\n",
       "      <td>0.0</td>\n",
       "      <td>0.0</td>\n",
       "      <td>0.0</td>\n",
       "      <td>0.0</td>\n",
       "      <td>0.0</td>\n",
       "      <td>0.0</td>\n",
       "      <td>0.0</td>\n",
       "      <td>0.0</td>\n",
       "      <td>0.0</td>\n",
       "      <td>1.0</td>\n",
       "      <td>0.0</td>\n",
       "      <td>0.0</td>\n",
       "      <td>0.0</td>\n",
       "      <td>0.0</td>\n",
       "      <td>0.0</td>\n",
       "      <td>0.0</td>\n",
       "      <td>0.0</td>\n",
       "      <td>0.0</td>\n",
       "      <td>0.0</td>\n",
       "      <td>0.0</td>\n",
       "      <td>0.0</td>\n",
       "      <td>0.0</td>\n",
       "      <td>0.0</td>\n",
       "      <td>0.0</td>\n",
       "      <td>0.0</td>\n",
       "      <td>0.0</td>\n",
       "      <td>0.0</td>\n",
       "      <td>0.0</td>\n",
       "      <td>0.0</td>\n",
       "      <td>0.0</td>\n",
       "      <td>0.0</td>\n",
       "      <td>0.0</td>\n",
       "      <td>0.0</td>\n",
       "      <td>0.0</td>\n",
       "      <td>0.0</td>\n",
       "      <td>0.0</td>\n",
       "      <td>0.0</td>\n",
       "      <td>0.0</td>\n",
       "      <td>0.0</td>\n",
       "      <td>0.0</td>\n",
       "      <td>0.0</td>\n",
       "      <td>0.0</td>\n",
       "      <td>0.0</td>\n",
       "      <td>0.0</td>\n",
       "      <td>0.0</td>\n",
       "      <td>0.0</td>\n",
       "      <td>0.0</td>\n",
       "      <td>0.0</td>\n",
       "      <td>0.0</td>\n",
       "      <td>0.0</td>\n",
       "      <td>0.0</td>\n",
       "      <td>0.0</td>\n",
       "      <td>0.0</td>\n",
       "      <td>0.0</td>\n",
       "      <td>0.0</td>\n",
       "      <td>0.0</td>\n",
       "      <td>0.0</td>\n",
       "      <td>0.0</td>\n",
       "      <td>0.0</td>\n",
       "      <td>0.0</td>\n",
       "      <td>0.0</td>\n",
       "      <td>0.0</td>\n",
       "      <td>0.0</td>\n",
       "      <td>0.0</td>\n",
       "      <td>0.0</td>\n",
       "      <td>0.0</td>\n",
       "      <td>0.0</td>\n",
       "      <td>0.0</td>\n",
       "      <td>0.0</td>\n",
       "      <td>0.0</td>\n",
       "      <td>0.0</td>\n",
       "      <td>0.0</td>\n",
       "      <td>0.0</td>\n",
       "      <td>0.0</td>\n",
       "      <td>0.0</td>\n",
       "      <td>0.0</td>\n",
       "      <td>0.0</td>\n",
       "      <td>0.0</td>\n",
       "      <td>0.0</td>\n",
       "      <td>0.0</td>\n",
       "      <td>0.0</td>\n",
       "      <td>0.0</td>\n",
       "      <td>0.0</td>\n",
       "      <td>0.0</td>\n",
       "      <td>0.0</td>\n",
       "      <td>0.0</td>\n",
       "      <td>0.0</td>\n",
       "      <td>0.0</td>\n",
       "      <td>0.0</td>\n",
       "      <td>0.0</td>\n",
       "      <td>0.0</td>\n",
       "      <td>0.0</td>\n",
       "      <td>0.0</td>\n",
       "      <td>0.0</td>\n",
       "      <td>0.0</td>\n",
       "      <td>0.0</td>\n",
       "      <td>0.0</td>\n",
       "      <td>0.0</td>\n",
       "      <td>0.0</td>\n",
       "      <td>0.0</td>\n",
       "      <td>0.0</td>\n",
       "      <td>0.0</td>\n",
       "      <td>0.0</td>\n",
       "      <td>0.0</td>\n",
       "      <td>0.0</td>\n",
       "      <td>0.0</td>\n",
       "      <td>0.0</td>\n",
       "      <td>0.0</td>\n",
       "      <td>0.0</td>\n",
       "      <td>0.0</td>\n",
       "      <td>0.0</td>\n",
       "      <td>0.0</td>\n",
       "      <td>0.0</td>\n",
       "      <td>0.0</td>\n",
       "      <td>0.0</td>\n",
       "      <td>0.0</td>\n",
       "      <td>0.0</td>\n",
       "      <td>0.0</td>\n",
       "      <td>0.0</td>\n",
       "      <td>0.0</td>\n",
       "      <td>0.0</td>\n",
       "      <td>0.0</td>\n",
       "      <td>0.0</td>\n",
       "      <td>0.0</td>\n",
       "      <td>0.0</td>\n",
       "      <td>0.0</td>\n",
       "      <td>0.0</td>\n",
       "      <td>0.0</td>\n",
       "      <td>0.0</td>\n",
       "      <td>0.0</td>\n",
       "      <td>0.0</td>\n",
       "      <td>0.0</td>\n",
       "      <td>0.0</td>\n",
       "      <td>0.0</td>\n",
       "      <td>0.0</td>\n",
       "      <td>0.0</td>\n",
       "      <td>0.0</td>\n",
       "      <td>0.0</td>\n",
       "      <td>0.0</td>\n",
       "      <td>0.0</td>\n",
       "      <td>0.0</td>\n",
       "      <td>0.0</td>\n",
       "      <td>0.0</td>\n",
       "      <td>0.0</td>\n",
       "      <td>0.0</td>\n",
       "      <td>0.0</td>\n",
       "      <td>0.0</td>\n",
       "      <td>0.0</td>\n",
       "      <td>0.0</td>\n",
       "      <td>0.0</td>\n",
       "      <td>0.0</td>\n",
       "      <td>0.0</td>\n",
       "      <td>0.0</td>\n",
       "      <td>0.0</td>\n",
       "      <td>0.0</td>\n",
       "      <td>0.0</td>\n",
       "      <td>0.0</td>\n",
       "      <td>0.0</td>\n",
       "      <td>0.0</td>\n",
       "      <td>0.0</td>\n",
       "      <td>0.0</td>\n",
       "      <td>0.0</td>\n",
       "      <td>0.0</td>\n",
       "      <td>0.0</td>\n",
       "      <td>0.0</td>\n",
       "      <td>0.0</td>\n",
       "      <td>0.0</td>\n",
       "      <td>0.0</td>\n",
       "      <td>0.0</td>\n",
       "      <td>0.0</td>\n",
       "      <td>0.0</td>\n",
       "      <td>0.0</td>\n",
       "      <td>0.0</td>\n",
       "      <td>0.0</td>\n",
       "      <td>0.0</td>\n",
       "      <td>0.0</td>\n",
       "      <td>0.0</td>\n",
       "      <td>0.0</td>\n",
       "      <td>0.0</td>\n",
       "      <td>0.0</td>\n",
       "      <td>0.0</td>\n",
       "      <td>0.0</td>\n",
       "      <td>0.0</td>\n",
       "      <td>0.0</td>\n",
       "      <td>0.0</td>\n",
       "      <td>0.0</td>\n",
       "      <td>0.0</td>\n",
       "      <td>0.0</td>\n",
       "      <td>0.0</td>\n",
       "      <td>0.0</td>\n",
       "      <td>0.0</td>\n",
       "      <td>0.0</td>\n",
       "      <td>0.0</td>\n",
       "      <td>0.0</td>\n",
       "      <td>0.0</td>\n",
       "      <td>0.0</td>\n",
       "      <td>0.0</td>\n",
       "      <td>0.0</td>\n",
       "      <td>0.0</td>\n",
       "      <td>0.0</td>\n",
       "      <td>0.0</td>\n",
       "      <td>0.0</td>\n",
       "      <td>0.0</td>\n",
       "      <td>0.0</td>\n",
       "      <td>0.0</td>\n",
       "      <td>0.0</td>\n",
       "      <td>0.0</td>\n",
       "      <td>0.0</td>\n",
       "      <td>0.0</td>\n",
       "      <td>0.0</td>\n",
       "      <td>0.0</td>\n",
       "      <td>0.0</td>\n",
       "      <td>0.0</td>\n",
       "      <td>0.0</td>\n",
       "      <td>0.0</td>\n",
       "      <td>0.0</td>\n",
       "      <td>0.0</td>\n",
       "      <td>0.0</td>\n",
       "      <td>0.0</td>\n",
       "      <td>1.0</td>\n",
       "      <td>0.0</td>\n",
       "      <td>0.0</td>\n",
       "      <td>0.0</td>\n",
       "      <td>0.0</td>\n",
       "      <td>0.0</td>\n",
       "      <td>0.0</td>\n",
       "      <td>0.0</td>\n",
       "      <td>0.0</td>\n",
       "      <td>0.0</td>\n",
       "      <td>0.0</td>\n",
       "      <td>0.0</td>\n",
       "      <td>0.0</td>\n",
       "      <td>0.0</td>\n",
       "      <td>0.0</td>\n",
       "      <td>0.0</td>\n",
       "      <td>0.0</td>\n",
       "      <td>0.0</td>\n",
       "      <td>0.0</td>\n",
       "      <td>0.0</td>\n",
       "      <td>0.0</td>\n",
       "      <td>0.0</td>\n",
       "      <td>0.0</td>\n",
       "      <td>0.0</td>\n",
       "      <td>0.0</td>\n",
       "      <td>0.0</td>\n",
       "      <td>0.0</td>\n",
       "      <td>1.0</td>\n",
       "      <td>0.0</td>\n",
       "      <td>0.0</td>\n",
       "      <td>0.0</td>\n",
       "      <td>0.0</td>\n",
       "      <td>0.0</td>\n",
       "      <td>0.0</td>\n",
       "      <td>0.0</td>\n",
       "      <td>0.0</td>\n",
       "      <td>0.0</td>\n",
       "      <td>0.0</td>\n",
       "      <td>0.0</td>\n",
       "      <td>0.0</td>\n",
       "      <td>0.0</td>\n",
       "      <td>0.0</td>\n",
       "      <td>0.0</td>\n",
       "      <td>0.0</td>\n",
       "    </tr>\n",
       "    <tr>\n",
       "      <th>128094</th>\n",
       "      <td>-0.496127</td>\n",
       "      <td>0.399881</td>\n",
       "      <td>0.586264</td>\n",
       "      <td>-0.412474</td>\n",
       "      <td>0.0</td>\n",
       "      <td>0.0</td>\n",
       "      <td>0.0</td>\n",
       "      <td>1.0</td>\n",
       "      <td>0.0</td>\n",
       "      <td>0.0</td>\n",
       "      <td>0.0</td>\n",
       "      <td>0.0</td>\n",
       "      <td>1.0</td>\n",
       "      <td>0.0</td>\n",
       "      <td>0.0</td>\n",
       "      <td>0.0</td>\n",
       "      <td>0.0</td>\n",
       "      <td>0.0</td>\n",
       "      <td>0.0</td>\n",
       "      <td>0.0</td>\n",
       "      <td>0.0</td>\n",
       "      <td>0.0</td>\n",
       "      <td>0.0</td>\n",
       "      <td>0.0</td>\n",
       "      <td>1.0</td>\n",
       "      <td>0.0</td>\n",
       "      <td>0.0</td>\n",
       "      <td>0.0</td>\n",
       "      <td>0.0</td>\n",
       "      <td>0.0</td>\n",
       "      <td>0.0</td>\n",
       "      <td>0.0</td>\n",
       "      <td>0.0</td>\n",
       "      <td>0.0</td>\n",
       "      <td>0.0</td>\n",
       "      <td>0.0</td>\n",
       "      <td>0.0</td>\n",
       "      <td>0.0</td>\n",
       "      <td>0.0</td>\n",
       "      <td>0.0</td>\n",
       "      <td>0.0</td>\n",
       "      <td>0.0</td>\n",
       "      <td>0.0</td>\n",
       "      <td>0.0</td>\n",
       "      <td>0.0</td>\n",
       "      <td>0.0</td>\n",
       "      <td>0.0</td>\n",
       "      <td>0.0</td>\n",
       "      <td>0.0</td>\n",
       "      <td>0.0</td>\n",
       "      <td>0.0</td>\n",
       "      <td>0.0</td>\n",
       "      <td>0.0</td>\n",
       "      <td>0.0</td>\n",
       "      <td>0.0</td>\n",
       "      <td>0.0</td>\n",
       "      <td>0.0</td>\n",
       "      <td>0.0</td>\n",
       "      <td>0.0</td>\n",
       "      <td>0.0</td>\n",
       "      <td>0.0</td>\n",
       "      <td>0.0</td>\n",
       "      <td>0.0</td>\n",
       "      <td>0.0</td>\n",
       "      <td>0.0</td>\n",
       "      <td>0.0</td>\n",
       "      <td>0.0</td>\n",
       "      <td>0.0</td>\n",
       "      <td>0.0</td>\n",
       "      <td>0.0</td>\n",
       "      <td>0.0</td>\n",
       "      <td>0.0</td>\n",
       "      <td>0.0</td>\n",
       "      <td>0.0</td>\n",
       "      <td>0.0</td>\n",
       "      <td>0.0</td>\n",
       "      <td>0.0</td>\n",
       "      <td>0.0</td>\n",
       "      <td>0.0</td>\n",
       "      <td>0.0</td>\n",
       "      <td>0.0</td>\n",
       "      <td>0.0</td>\n",
       "      <td>0.0</td>\n",
       "      <td>0.0</td>\n",
       "      <td>0.0</td>\n",
       "      <td>0.0</td>\n",
       "      <td>0.0</td>\n",
       "      <td>0.0</td>\n",
       "      <td>0.0</td>\n",
       "      <td>0.0</td>\n",
       "      <td>0.0</td>\n",
       "      <td>0.0</td>\n",
       "      <td>0.0</td>\n",
       "      <td>0.0</td>\n",
       "      <td>0.0</td>\n",
       "      <td>0.0</td>\n",
       "      <td>0.0</td>\n",
       "      <td>0.0</td>\n",
       "      <td>0.0</td>\n",
       "      <td>0.0</td>\n",
       "      <td>0.0</td>\n",
       "      <td>0.0</td>\n",
       "      <td>0.0</td>\n",
       "      <td>0.0</td>\n",
       "      <td>0.0</td>\n",
       "      <td>0.0</td>\n",
       "      <td>0.0</td>\n",
       "      <td>0.0</td>\n",
       "      <td>0.0</td>\n",
       "      <td>0.0</td>\n",
       "      <td>0.0</td>\n",
       "      <td>0.0</td>\n",
       "      <td>0.0</td>\n",
       "      <td>0.0</td>\n",
       "      <td>0.0</td>\n",
       "      <td>0.0</td>\n",
       "      <td>0.0</td>\n",
       "      <td>0.0</td>\n",
       "      <td>0.0</td>\n",
       "      <td>0.0</td>\n",
       "      <td>0.0</td>\n",
       "      <td>0.0</td>\n",
       "      <td>0.0</td>\n",
       "      <td>0.0</td>\n",
       "      <td>0.0</td>\n",
       "      <td>0.0</td>\n",
       "      <td>0.0</td>\n",
       "      <td>0.0</td>\n",
       "      <td>0.0</td>\n",
       "      <td>0.0</td>\n",
       "      <td>0.0</td>\n",
       "      <td>0.0</td>\n",
       "      <td>0.0</td>\n",
       "      <td>0.0</td>\n",
       "      <td>0.0</td>\n",
       "      <td>0.0</td>\n",
       "      <td>0.0</td>\n",
       "      <td>0.0</td>\n",
       "      <td>0.0</td>\n",
       "      <td>0.0</td>\n",
       "      <td>0.0</td>\n",
       "      <td>0.0</td>\n",
       "      <td>0.0</td>\n",
       "      <td>0.0</td>\n",
       "      <td>0.0</td>\n",
       "      <td>0.0</td>\n",
       "      <td>0.0</td>\n",
       "      <td>0.0</td>\n",
       "      <td>0.0</td>\n",
       "      <td>0.0</td>\n",
       "      <td>0.0</td>\n",
       "      <td>0.0</td>\n",
       "      <td>0.0</td>\n",
       "      <td>0.0</td>\n",
       "      <td>0.0</td>\n",
       "      <td>0.0</td>\n",
       "      <td>0.0</td>\n",
       "      <td>0.0</td>\n",
       "      <td>0.0</td>\n",
       "      <td>0.0</td>\n",
       "      <td>0.0</td>\n",
       "      <td>0.0</td>\n",
       "      <td>0.0</td>\n",
       "      <td>0.0</td>\n",
       "      <td>0.0</td>\n",
       "      <td>0.0</td>\n",
       "      <td>0.0</td>\n",
       "      <td>0.0</td>\n",
       "      <td>0.0</td>\n",
       "      <td>0.0</td>\n",
       "      <td>0.0</td>\n",
       "      <td>0.0</td>\n",
       "      <td>0.0</td>\n",
       "      <td>0.0</td>\n",
       "      <td>0.0</td>\n",
       "      <td>0.0</td>\n",
       "      <td>0.0</td>\n",
       "      <td>0.0</td>\n",
       "      <td>0.0</td>\n",
       "      <td>0.0</td>\n",
       "      <td>0.0</td>\n",
       "      <td>0.0</td>\n",
       "      <td>0.0</td>\n",
       "      <td>0.0</td>\n",
       "      <td>0.0</td>\n",
       "      <td>0.0</td>\n",
       "      <td>0.0</td>\n",
       "      <td>0.0</td>\n",
       "      <td>0.0</td>\n",
       "      <td>0.0</td>\n",
       "      <td>0.0</td>\n",
       "      <td>0.0</td>\n",
       "      <td>0.0</td>\n",
       "      <td>0.0</td>\n",
       "      <td>0.0</td>\n",
       "      <td>0.0</td>\n",
       "      <td>0.0</td>\n",
       "      <td>0.0</td>\n",
       "      <td>0.0</td>\n",
       "      <td>0.0</td>\n",
       "      <td>0.0</td>\n",
       "      <td>0.0</td>\n",
       "      <td>0.0</td>\n",
       "      <td>0.0</td>\n",
       "      <td>0.0</td>\n",
       "      <td>0.0</td>\n",
       "      <td>0.0</td>\n",
       "      <td>0.0</td>\n",
       "      <td>0.0</td>\n",
       "      <td>0.0</td>\n",
       "      <td>0.0</td>\n",
       "      <td>0.0</td>\n",
       "      <td>0.0</td>\n",
       "      <td>0.0</td>\n",
       "      <td>0.0</td>\n",
       "      <td>0.0</td>\n",
       "      <td>0.0</td>\n",
       "      <td>0.0</td>\n",
       "      <td>0.0</td>\n",
       "      <td>0.0</td>\n",
       "      <td>0.0</td>\n",
       "      <td>0.0</td>\n",
       "      <td>0.0</td>\n",
       "      <td>0.0</td>\n",
       "      <td>0.0</td>\n",
       "      <td>0.0</td>\n",
       "      <td>0.0</td>\n",
       "      <td>0.0</td>\n",
       "      <td>0.0</td>\n",
       "      <td>0.0</td>\n",
       "      <td>0.0</td>\n",
       "      <td>0.0</td>\n",
       "      <td>0.0</td>\n",
       "      <td>0.0</td>\n",
       "      <td>0.0</td>\n",
       "      <td>0.0</td>\n",
       "      <td>0.0</td>\n",
       "      <td>0.0</td>\n",
       "      <td>0.0</td>\n",
       "      <td>0.0</td>\n",
       "      <td>0.0</td>\n",
       "      <td>0.0</td>\n",
       "      <td>0.0</td>\n",
       "      <td>0.0</td>\n",
       "      <td>0.0</td>\n",
       "      <td>0.0</td>\n",
       "      <td>0.0</td>\n",
       "      <td>0.0</td>\n",
       "      <td>0.0</td>\n",
       "      <td>0.0</td>\n",
       "      <td>0.0</td>\n",
       "      <td>0.0</td>\n",
       "      <td>0.0</td>\n",
       "      <td>0.0</td>\n",
       "      <td>0.0</td>\n",
       "      <td>0.0</td>\n",
       "      <td>0.0</td>\n",
       "      <td>0.0</td>\n",
       "      <td>0.0</td>\n",
       "      <td>0.0</td>\n",
       "      <td>0.0</td>\n",
       "      <td>0.0</td>\n",
       "      <td>1.0</td>\n",
       "      <td>0.0</td>\n",
       "      <td>0.0</td>\n",
       "      <td>0.0</td>\n",
       "      <td>0.0</td>\n",
       "      <td>0.0</td>\n",
       "      <td>0.0</td>\n",
       "      <td>1.0</td>\n",
       "      <td>0.0</td>\n",
       "      <td>0.0</td>\n",
       "      <td>0.0</td>\n",
       "      <td>0.0</td>\n",
       "      <td>0.0</td>\n",
       "      <td>0.0</td>\n",
       "      <td>0.0</td>\n",
       "      <td>0.0</td>\n",
       "      <td>0.0</td>\n",
       "      <td>0.0</td>\n",
       "      <td>0.0</td>\n",
       "      <td>0.0</td>\n",
       "      <td>0.0</td>\n",
       "      <td>0.0</td>\n",
       "      <td>0.0</td>\n",
       "      <td>0.0</td>\n",
       "      <td>0.0</td>\n",
       "      <td>0.0</td>\n",
       "      <td>0.0</td>\n",
       "      <td>0.0</td>\n",
       "      <td>0.0</td>\n",
       "      <td>0.0</td>\n",
       "      <td>0.0</td>\n",
       "      <td>0.0</td>\n",
       "      <td>0.0</td>\n",
       "      <td>0.0</td>\n",
       "      <td>0.0</td>\n",
       "      <td>0.0</td>\n",
       "      <td>0.0</td>\n",
       "      <td>0.0</td>\n",
       "      <td>0.0</td>\n",
       "      <td>0.0</td>\n",
       "      <td>0.0</td>\n",
       "      <td>0.0</td>\n",
       "      <td>0.0</td>\n",
       "      <td>0.0</td>\n",
       "      <td>0.0</td>\n",
       "      <td>0.0</td>\n",
       "    </tr>\n",
       "    <tr>\n",
       "      <th>287688</th>\n",
       "      <td>-0.659652</td>\n",
       "      <td>-1.327461</td>\n",
       "      <td>0.586264</td>\n",
       "      <td>0.185316</td>\n",
       "      <td>0.0</td>\n",
       "      <td>0.0</td>\n",
       "      <td>0.0</td>\n",
       "      <td>0.0</td>\n",
       "      <td>1.0</td>\n",
       "      <td>0.0</td>\n",
       "      <td>0.0</td>\n",
       "      <td>0.0</td>\n",
       "      <td>1.0</td>\n",
       "      <td>0.0</td>\n",
       "      <td>0.0</td>\n",
       "      <td>0.0</td>\n",
       "      <td>0.0</td>\n",
       "      <td>0.0</td>\n",
       "      <td>0.0</td>\n",
       "      <td>0.0</td>\n",
       "      <td>0.0</td>\n",
       "      <td>0.0</td>\n",
       "      <td>0.0</td>\n",
       "      <td>0.0</td>\n",
       "      <td>0.0</td>\n",
       "      <td>0.0</td>\n",
       "      <td>0.0</td>\n",
       "      <td>0.0</td>\n",
       "      <td>0.0</td>\n",
       "      <td>0.0</td>\n",
       "      <td>0.0</td>\n",
       "      <td>0.0</td>\n",
       "      <td>0.0</td>\n",
       "      <td>0.0</td>\n",
       "      <td>0.0</td>\n",
       "      <td>0.0</td>\n",
       "      <td>0.0</td>\n",
       "      <td>0.0</td>\n",
       "      <td>0.0</td>\n",
       "      <td>0.0</td>\n",
       "      <td>0.0</td>\n",
       "      <td>0.0</td>\n",
       "      <td>0.0</td>\n",
       "      <td>0.0</td>\n",
       "      <td>0.0</td>\n",
       "      <td>0.0</td>\n",
       "      <td>0.0</td>\n",
       "      <td>0.0</td>\n",
       "      <td>0.0</td>\n",
       "      <td>0.0</td>\n",
       "      <td>0.0</td>\n",
       "      <td>0.0</td>\n",
       "      <td>0.0</td>\n",
       "      <td>0.0</td>\n",
       "      <td>0.0</td>\n",
       "      <td>0.0</td>\n",
       "      <td>0.0</td>\n",
       "      <td>0.0</td>\n",
       "      <td>0.0</td>\n",
       "      <td>0.0</td>\n",
       "      <td>0.0</td>\n",
       "      <td>0.0</td>\n",
       "      <td>0.0</td>\n",
       "      <td>0.0</td>\n",
       "      <td>0.0</td>\n",
       "      <td>0.0</td>\n",
       "      <td>0.0</td>\n",
       "      <td>0.0</td>\n",
       "      <td>0.0</td>\n",
       "      <td>0.0</td>\n",
       "      <td>0.0</td>\n",
       "      <td>0.0</td>\n",
       "      <td>0.0</td>\n",
       "      <td>0.0</td>\n",
       "      <td>0.0</td>\n",
       "      <td>0.0</td>\n",
       "      <td>0.0</td>\n",
       "      <td>0.0</td>\n",
       "      <td>0.0</td>\n",
       "      <td>0.0</td>\n",
       "      <td>0.0</td>\n",
       "      <td>0.0</td>\n",
       "      <td>0.0</td>\n",
       "      <td>0.0</td>\n",
       "      <td>0.0</td>\n",
       "      <td>0.0</td>\n",
       "      <td>0.0</td>\n",
       "      <td>0.0</td>\n",
       "      <td>0.0</td>\n",
       "      <td>0.0</td>\n",
       "      <td>0.0</td>\n",
       "      <td>0.0</td>\n",
       "      <td>0.0</td>\n",
       "      <td>0.0</td>\n",
       "      <td>0.0</td>\n",
       "      <td>0.0</td>\n",
       "      <td>0.0</td>\n",
       "      <td>0.0</td>\n",
       "      <td>0.0</td>\n",
       "      <td>0.0</td>\n",
       "      <td>0.0</td>\n",
       "      <td>0.0</td>\n",
       "      <td>0.0</td>\n",
       "      <td>0.0</td>\n",
       "      <td>0.0</td>\n",
       "      <td>0.0</td>\n",
       "      <td>0.0</td>\n",
       "      <td>0.0</td>\n",
       "      <td>0.0</td>\n",
       "      <td>0.0</td>\n",
       "      <td>0.0</td>\n",
       "      <td>0.0</td>\n",
       "      <td>0.0</td>\n",
       "      <td>0.0</td>\n",
       "      <td>0.0</td>\n",
       "      <td>0.0</td>\n",
       "      <td>0.0</td>\n",
       "      <td>0.0</td>\n",
       "      <td>0.0</td>\n",
       "      <td>0.0</td>\n",
       "      <td>0.0</td>\n",
       "      <td>0.0</td>\n",
       "      <td>0.0</td>\n",
       "      <td>0.0</td>\n",
       "      <td>0.0</td>\n",
       "      <td>0.0</td>\n",
       "      <td>0.0</td>\n",
       "      <td>0.0</td>\n",
       "      <td>0.0</td>\n",
       "      <td>0.0</td>\n",
       "      <td>0.0</td>\n",
       "      <td>0.0</td>\n",
       "      <td>0.0</td>\n",
       "      <td>0.0</td>\n",
       "      <td>0.0</td>\n",
       "      <td>0.0</td>\n",
       "      <td>0.0</td>\n",
       "      <td>0.0</td>\n",
       "      <td>0.0</td>\n",
       "      <td>0.0</td>\n",
       "      <td>0.0</td>\n",
       "      <td>0.0</td>\n",
       "      <td>0.0</td>\n",
       "      <td>0.0</td>\n",
       "      <td>0.0</td>\n",
       "      <td>0.0</td>\n",
       "      <td>0.0</td>\n",
       "      <td>0.0</td>\n",
       "      <td>0.0</td>\n",
       "      <td>0.0</td>\n",
       "      <td>0.0</td>\n",
       "      <td>0.0</td>\n",
       "      <td>0.0</td>\n",
       "      <td>0.0</td>\n",
       "      <td>0.0</td>\n",
       "      <td>0.0</td>\n",
       "      <td>0.0</td>\n",
       "      <td>0.0</td>\n",
       "      <td>0.0</td>\n",
       "      <td>0.0</td>\n",
       "      <td>0.0</td>\n",
       "      <td>0.0</td>\n",
       "      <td>0.0</td>\n",
       "      <td>0.0</td>\n",
       "      <td>0.0</td>\n",
       "      <td>0.0</td>\n",
       "      <td>0.0</td>\n",
       "      <td>0.0</td>\n",
       "      <td>0.0</td>\n",
       "      <td>0.0</td>\n",
       "      <td>0.0</td>\n",
       "      <td>0.0</td>\n",
       "      <td>0.0</td>\n",
       "      <td>0.0</td>\n",
       "      <td>0.0</td>\n",
       "      <td>0.0</td>\n",
       "      <td>0.0</td>\n",
       "      <td>0.0</td>\n",
       "      <td>0.0</td>\n",
       "      <td>0.0</td>\n",
       "      <td>0.0</td>\n",
       "      <td>0.0</td>\n",
       "      <td>0.0</td>\n",
       "      <td>0.0</td>\n",
       "      <td>0.0</td>\n",
       "      <td>1.0</td>\n",
       "      <td>0.0</td>\n",
       "      <td>0.0</td>\n",
       "      <td>0.0</td>\n",
       "      <td>0.0</td>\n",
       "      <td>0.0</td>\n",
       "      <td>0.0</td>\n",
       "      <td>0.0</td>\n",
       "      <td>0.0</td>\n",
       "      <td>0.0</td>\n",
       "      <td>0.0</td>\n",
       "      <td>0.0</td>\n",
       "      <td>0.0</td>\n",
       "      <td>0.0</td>\n",
       "      <td>0.0</td>\n",
       "      <td>0.0</td>\n",
       "      <td>0.0</td>\n",
       "      <td>0.0</td>\n",
       "      <td>0.0</td>\n",
       "      <td>0.0</td>\n",
       "      <td>0.0</td>\n",
       "      <td>0.0</td>\n",
       "      <td>0.0</td>\n",
       "      <td>0.0</td>\n",
       "      <td>0.0</td>\n",
       "      <td>0.0</td>\n",
       "      <td>0.0</td>\n",
       "      <td>0.0</td>\n",
       "      <td>0.0</td>\n",
       "      <td>0.0</td>\n",
       "      <td>0.0</td>\n",
       "      <td>0.0</td>\n",
       "      <td>0.0</td>\n",
       "      <td>0.0</td>\n",
       "      <td>0.0</td>\n",
       "      <td>0.0</td>\n",
       "      <td>0.0</td>\n",
       "      <td>0.0</td>\n",
       "      <td>0.0</td>\n",
       "      <td>0.0</td>\n",
       "      <td>0.0</td>\n",
       "      <td>0.0</td>\n",
       "      <td>0.0</td>\n",
       "      <td>0.0</td>\n",
       "      <td>0.0</td>\n",
       "      <td>0.0</td>\n",
       "      <td>0.0</td>\n",
       "      <td>0.0</td>\n",
       "      <td>0.0</td>\n",
       "      <td>0.0</td>\n",
       "      <td>0.0</td>\n",
       "      <td>0.0</td>\n",
       "      <td>0.0</td>\n",
       "      <td>0.0</td>\n",
       "      <td>0.0</td>\n",
       "      <td>0.0</td>\n",
       "      <td>0.0</td>\n",
       "      <td>0.0</td>\n",
       "      <td>0.0</td>\n",
       "      <td>0.0</td>\n",
       "      <td>0.0</td>\n",
       "      <td>0.0</td>\n",
       "      <td>0.0</td>\n",
       "      <td>0.0</td>\n",
       "      <td>0.0</td>\n",
       "      <td>0.0</td>\n",
       "      <td>0.0</td>\n",
       "      <td>0.0</td>\n",
       "      <td>0.0</td>\n",
       "      <td>0.0</td>\n",
       "      <td>0.0</td>\n",
       "      <td>0.0</td>\n",
       "      <td>0.0</td>\n",
       "      <td>0.0</td>\n",
       "      <td>0.0</td>\n",
       "      <td>0.0</td>\n",
       "      <td>0.0</td>\n",
       "      <td>0.0</td>\n",
       "      <td>0.0</td>\n",
       "      <td>0.0</td>\n",
       "      <td>0.0</td>\n",
       "      <td>1.0</td>\n",
       "      <td>0.0</td>\n",
       "      <td>0.0</td>\n",
       "      <td>0.0</td>\n",
       "      <td>0.0</td>\n",
       "      <td>0.0</td>\n",
       "      <td>0.0</td>\n",
       "      <td>0.0</td>\n",
       "      <td>0.0</td>\n",
       "      <td>0.0</td>\n",
       "      <td>0.0</td>\n",
       "      <td>0.0</td>\n",
       "      <td>0.0</td>\n",
       "      <td>0.0</td>\n",
       "      <td>0.0</td>\n",
       "      <td>0.0</td>\n",
       "      <td>0.0</td>\n",
       "      <td>0.0</td>\n",
       "      <td>0.0</td>\n",
       "      <td>0.0</td>\n",
       "      <td>0.0</td>\n",
       "      <td>0.0</td>\n",
       "      <td>0.0</td>\n",
       "      <td>0.0</td>\n",
       "      <td>0.0</td>\n",
       "      <td>0.0</td>\n",
       "      <td>0.0</td>\n",
       "      <td>0.0</td>\n",
       "      <td>0.0</td>\n",
       "      <td>0.0</td>\n",
       "      <td>0.0</td>\n",
       "      <td>0.0</td>\n",
       "      <td>0.0</td>\n",
       "      <td>0.0</td>\n",
       "      <td>0.0</td>\n",
       "      <td>0.0</td>\n",
       "      <td>0.0</td>\n",
       "      <td>0.0</td>\n",
       "      <td>0.0</td>\n",
       "      <td>1.0</td>\n",
       "      <td>0.0</td>\n",
       "      <td>0.0</td>\n",
       "    </tr>\n",
       "    <tr>\n",
       "      <th>72209</th>\n",
       "      <td>-0.169077</td>\n",
       "      <td>-1.463830</td>\n",
       "      <td>-0.095283</td>\n",
       "      <td>0.185316</td>\n",
       "      <td>0.0</td>\n",
       "      <td>0.0</td>\n",
       "      <td>0.0</td>\n",
       "      <td>0.0</td>\n",
       "      <td>1.0</td>\n",
       "      <td>0.0</td>\n",
       "      <td>0.0</td>\n",
       "      <td>0.0</td>\n",
       "      <td>1.0</td>\n",
       "      <td>0.0</td>\n",
       "      <td>0.0</td>\n",
       "      <td>0.0</td>\n",
       "      <td>0.0</td>\n",
       "      <td>0.0</td>\n",
       "      <td>0.0</td>\n",
       "      <td>0.0</td>\n",
       "      <td>0.0</td>\n",
       "      <td>0.0</td>\n",
       "      <td>0.0</td>\n",
       "      <td>0.0</td>\n",
       "      <td>0.0</td>\n",
       "      <td>0.0</td>\n",
       "      <td>0.0</td>\n",
       "      <td>0.0</td>\n",
       "      <td>0.0</td>\n",
       "      <td>0.0</td>\n",
       "      <td>0.0</td>\n",
       "      <td>0.0</td>\n",
       "      <td>0.0</td>\n",
       "      <td>0.0</td>\n",
       "      <td>0.0</td>\n",
       "      <td>0.0</td>\n",
       "      <td>0.0</td>\n",
       "      <td>0.0</td>\n",
       "      <td>0.0</td>\n",
       "      <td>0.0</td>\n",
       "      <td>0.0</td>\n",
       "      <td>0.0</td>\n",
       "      <td>0.0</td>\n",
       "      <td>0.0</td>\n",
       "      <td>0.0</td>\n",
       "      <td>0.0</td>\n",
       "      <td>0.0</td>\n",
       "      <td>0.0</td>\n",
       "      <td>0.0</td>\n",
       "      <td>0.0</td>\n",
       "      <td>0.0</td>\n",
       "      <td>0.0</td>\n",
       "      <td>0.0</td>\n",
       "      <td>0.0</td>\n",
       "      <td>0.0</td>\n",
       "      <td>0.0</td>\n",
       "      <td>0.0</td>\n",
       "      <td>0.0</td>\n",
       "      <td>0.0</td>\n",
       "      <td>0.0</td>\n",
       "      <td>0.0</td>\n",
       "      <td>0.0</td>\n",
       "      <td>0.0</td>\n",
       "      <td>0.0</td>\n",
       "      <td>0.0</td>\n",
       "      <td>0.0</td>\n",
       "      <td>0.0</td>\n",
       "      <td>0.0</td>\n",
       "      <td>0.0</td>\n",
       "      <td>0.0</td>\n",
       "      <td>0.0</td>\n",
       "      <td>0.0</td>\n",
       "      <td>0.0</td>\n",
       "      <td>0.0</td>\n",
       "      <td>0.0</td>\n",
       "      <td>0.0</td>\n",
       "      <td>0.0</td>\n",
       "      <td>0.0</td>\n",
       "      <td>0.0</td>\n",
       "      <td>0.0</td>\n",
       "      <td>0.0</td>\n",
       "      <td>0.0</td>\n",
       "      <td>0.0</td>\n",
       "      <td>0.0</td>\n",
       "      <td>0.0</td>\n",
       "      <td>0.0</td>\n",
       "      <td>0.0</td>\n",
       "      <td>0.0</td>\n",
       "      <td>0.0</td>\n",
       "      <td>0.0</td>\n",
       "      <td>0.0</td>\n",
       "      <td>0.0</td>\n",
       "      <td>0.0</td>\n",
       "      <td>0.0</td>\n",
       "      <td>0.0</td>\n",
       "      <td>0.0</td>\n",
       "      <td>0.0</td>\n",
       "      <td>0.0</td>\n",
       "      <td>0.0</td>\n",
       "      <td>0.0</td>\n",
       "      <td>0.0</td>\n",
       "      <td>0.0</td>\n",
       "      <td>0.0</td>\n",
       "      <td>0.0</td>\n",
       "      <td>0.0</td>\n",
       "      <td>0.0</td>\n",
       "      <td>0.0</td>\n",
       "      <td>0.0</td>\n",
       "      <td>0.0</td>\n",
       "      <td>0.0</td>\n",
       "      <td>0.0</td>\n",
       "      <td>0.0</td>\n",
       "      <td>0.0</td>\n",
       "      <td>0.0</td>\n",
       "      <td>0.0</td>\n",
       "      <td>0.0</td>\n",
       "      <td>0.0</td>\n",
       "      <td>0.0</td>\n",
       "      <td>0.0</td>\n",
       "      <td>0.0</td>\n",
       "      <td>0.0</td>\n",
       "      <td>0.0</td>\n",
       "      <td>0.0</td>\n",
       "      <td>0.0</td>\n",
       "      <td>0.0</td>\n",
       "      <td>0.0</td>\n",
       "      <td>0.0</td>\n",
       "      <td>0.0</td>\n",
       "      <td>0.0</td>\n",
       "      <td>0.0</td>\n",
       "      <td>0.0</td>\n",
       "      <td>0.0</td>\n",
       "      <td>0.0</td>\n",
       "      <td>0.0</td>\n",
       "      <td>0.0</td>\n",
       "      <td>0.0</td>\n",
       "      <td>0.0</td>\n",
       "      <td>0.0</td>\n",
       "      <td>0.0</td>\n",
       "      <td>0.0</td>\n",
       "      <td>0.0</td>\n",
       "      <td>0.0</td>\n",
       "      <td>0.0</td>\n",
       "      <td>0.0</td>\n",
       "      <td>0.0</td>\n",
       "      <td>0.0</td>\n",
       "      <td>0.0</td>\n",
       "      <td>0.0</td>\n",
       "      <td>0.0</td>\n",
       "      <td>0.0</td>\n",
       "      <td>0.0</td>\n",
       "      <td>0.0</td>\n",
       "      <td>0.0</td>\n",
       "      <td>0.0</td>\n",
       "      <td>0.0</td>\n",
       "      <td>0.0</td>\n",
       "      <td>0.0</td>\n",
       "      <td>0.0</td>\n",
       "      <td>0.0</td>\n",
       "      <td>0.0</td>\n",
       "      <td>0.0</td>\n",
       "      <td>0.0</td>\n",
       "      <td>0.0</td>\n",
       "      <td>0.0</td>\n",
       "      <td>0.0</td>\n",
       "      <td>0.0</td>\n",
       "      <td>0.0</td>\n",
       "      <td>0.0</td>\n",
       "      <td>0.0</td>\n",
       "      <td>0.0</td>\n",
       "      <td>0.0</td>\n",
       "      <td>0.0</td>\n",
       "      <td>0.0</td>\n",
       "      <td>0.0</td>\n",
       "      <td>0.0</td>\n",
       "      <td>0.0</td>\n",
       "      <td>0.0</td>\n",
       "      <td>0.0</td>\n",
       "      <td>0.0</td>\n",
       "      <td>0.0</td>\n",
       "      <td>0.0</td>\n",
       "      <td>0.0</td>\n",
       "      <td>0.0</td>\n",
       "      <td>0.0</td>\n",
       "      <td>0.0</td>\n",
       "      <td>1.0</td>\n",
       "      <td>0.0</td>\n",
       "      <td>0.0</td>\n",
       "      <td>0.0</td>\n",
       "      <td>0.0</td>\n",
       "      <td>0.0</td>\n",
       "      <td>0.0</td>\n",
       "      <td>0.0</td>\n",
       "      <td>0.0</td>\n",
       "      <td>0.0</td>\n",
       "      <td>0.0</td>\n",
       "      <td>0.0</td>\n",
       "      <td>0.0</td>\n",
       "      <td>0.0</td>\n",
       "      <td>0.0</td>\n",
       "      <td>0.0</td>\n",
       "      <td>0.0</td>\n",
       "      <td>0.0</td>\n",
       "      <td>0.0</td>\n",
       "      <td>0.0</td>\n",
       "      <td>0.0</td>\n",
       "      <td>0.0</td>\n",
       "      <td>0.0</td>\n",
       "      <td>0.0</td>\n",
       "      <td>0.0</td>\n",
       "      <td>0.0</td>\n",
       "      <td>0.0</td>\n",
       "      <td>0.0</td>\n",
       "      <td>0.0</td>\n",
       "      <td>0.0</td>\n",
       "      <td>0.0</td>\n",
       "      <td>0.0</td>\n",
       "      <td>0.0</td>\n",
       "      <td>0.0</td>\n",
       "      <td>0.0</td>\n",
       "      <td>0.0</td>\n",
       "      <td>0.0</td>\n",
       "      <td>0.0</td>\n",
       "      <td>0.0</td>\n",
       "      <td>0.0</td>\n",
       "      <td>0.0</td>\n",
       "      <td>0.0</td>\n",
       "      <td>0.0</td>\n",
       "      <td>0.0</td>\n",
       "      <td>0.0</td>\n",
       "      <td>0.0</td>\n",
       "      <td>0.0</td>\n",
       "      <td>0.0</td>\n",
       "      <td>0.0</td>\n",
       "      <td>0.0</td>\n",
       "      <td>0.0</td>\n",
       "      <td>0.0</td>\n",
       "      <td>0.0</td>\n",
       "      <td>0.0</td>\n",
       "      <td>0.0</td>\n",
       "      <td>0.0</td>\n",
       "      <td>0.0</td>\n",
       "      <td>0.0</td>\n",
       "      <td>0.0</td>\n",
       "      <td>0.0</td>\n",
       "      <td>0.0</td>\n",
       "      <td>0.0</td>\n",
       "      <td>0.0</td>\n",
       "      <td>0.0</td>\n",
       "      <td>0.0</td>\n",
       "      <td>0.0</td>\n",
       "      <td>0.0</td>\n",
       "      <td>0.0</td>\n",
       "      <td>0.0</td>\n",
       "      <td>0.0</td>\n",
       "      <td>0.0</td>\n",
       "      <td>0.0</td>\n",
       "      <td>0.0</td>\n",
       "      <td>0.0</td>\n",
       "      <td>0.0</td>\n",
       "      <td>0.0</td>\n",
       "      <td>0.0</td>\n",
       "      <td>0.0</td>\n",
       "      <td>0.0</td>\n",
       "      <td>0.0</td>\n",
       "      <td>0.0</td>\n",
       "      <td>1.0</td>\n",
       "      <td>0.0</td>\n",
       "      <td>0.0</td>\n",
       "      <td>0.0</td>\n",
       "      <td>0.0</td>\n",
       "      <td>0.0</td>\n",
       "      <td>0.0</td>\n",
       "      <td>0.0</td>\n",
       "      <td>0.0</td>\n",
       "      <td>0.0</td>\n",
       "      <td>0.0</td>\n",
       "      <td>0.0</td>\n",
       "      <td>0.0</td>\n",
       "      <td>0.0</td>\n",
       "      <td>0.0</td>\n",
       "      <td>0.0</td>\n",
       "      <td>0.0</td>\n",
       "      <td>0.0</td>\n",
       "      <td>0.0</td>\n",
       "      <td>0.0</td>\n",
       "      <td>0.0</td>\n",
       "      <td>0.0</td>\n",
       "      <td>0.0</td>\n",
       "      <td>0.0</td>\n",
       "      <td>0.0</td>\n",
       "      <td>0.0</td>\n",
       "      <td>0.0</td>\n",
       "      <td>0.0</td>\n",
       "      <td>0.0</td>\n",
       "      <td>0.0</td>\n",
       "      <td>0.0</td>\n",
       "      <td>0.0</td>\n",
       "      <td>0.0</td>\n",
       "      <td>0.0</td>\n",
       "      <td>0.0</td>\n",
       "      <td>0.0</td>\n",
       "      <td>0.0</td>\n",
       "      <td>0.0</td>\n",
       "      <td>0.0</td>\n",
       "      <td>1.0</td>\n",
       "      <td>0.0</td>\n",
       "      <td>0.0</td>\n",
       "    </tr>\n",
       "    <tr>\n",
       "      <th>2970</th>\n",
       "      <td>-0.659652</td>\n",
       "      <td>1.218095</td>\n",
       "      <td>0.586264</td>\n",
       "      <td>1.082000</td>\n",
       "      <td>0.0</td>\n",
       "      <td>0.0</td>\n",
       "      <td>0.0</td>\n",
       "      <td>1.0</td>\n",
       "      <td>0.0</td>\n",
       "      <td>0.0</td>\n",
       "      <td>0.0</td>\n",
       "      <td>0.0</td>\n",
       "      <td>1.0</td>\n",
       "      <td>0.0</td>\n",
       "      <td>0.0</td>\n",
       "      <td>0.0</td>\n",
       "      <td>0.0</td>\n",
       "      <td>0.0</td>\n",
       "      <td>0.0</td>\n",
       "      <td>0.0</td>\n",
       "      <td>0.0</td>\n",
       "      <td>0.0</td>\n",
       "      <td>0.0</td>\n",
       "      <td>0.0</td>\n",
       "      <td>0.0</td>\n",
       "      <td>0.0</td>\n",
       "      <td>0.0</td>\n",
       "      <td>0.0</td>\n",
       "      <td>0.0</td>\n",
       "      <td>0.0</td>\n",
       "      <td>0.0</td>\n",
       "      <td>0.0</td>\n",
       "      <td>0.0</td>\n",
       "      <td>0.0</td>\n",
       "      <td>0.0</td>\n",
       "      <td>0.0</td>\n",
       "      <td>0.0</td>\n",
       "      <td>0.0</td>\n",
       "      <td>0.0</td>\n",
       "      <td>0.0</td>\n",
       "      <td>0.0</td>\n",
       "      <td>1.0</td>\n",
       "      <td>0.0</td>\n",
       "      <td>0.0</td>\n",
       "      <td>0.0</td>\n",
       "      <td>0.0</td>\n",
       "      <td>0.0</td>\n",
       "      <td>0.0</td>\n",
       "      <td>0.0</td>\n",
       "      <td>0.0</td>\n",
       "      <td>0.0</td>\n",
       "      <td>0.0</td>\n",
       "      <td>0.0</td>\n",
       "      <td>0.0</td>\n",
       "      <td>0.0</td>\n",
       "      <td>0.0</td>\n",
       "      <td>0.0</td>\n",
       "      <td>0.0</td>\n",
       "      <td>0.0</td>\n",
       "      <td>0.0</td>\n",
       "      <td>0.0</td>\n",
       "      <td>0.0</td>\n",
       "      <td>0.0</td>\n",
       "      <td>0.0</td>\n",
       "      <td>0.0</td>\n",
       "      <td>0.0</td>\n",
       "      <td>0.0</td>\n",
       "      <td>0.0</td>\n",
       "      <td>0.0</td>\n",
       "      <td>0.0</td>\n",
       "      <td>0.0</td>\n",
       "      <td>0.0</td>\n",
       "      <td>0.0</td>\n",
       "      <td>0.0</td>\n",
       "      <td>0.0</td>\n",
       "      <td>0.0</td>\n",
       "      <td>0.0</td>\n",
       "      <td>0.0</td>\n",
       "      <td>0.0</td>\n",
       "      <td>0.0</td>\n",
       "      <td>0.0</td>\n",
       "      <td>0.0</td>\n",
       "      <td>0.0</td>\n",
       "      <td>0.0</td>\n",
       "      <td>0.0</td>\n",
       "      <td>0.0</td>\n",
       "      <td>0.0</td>\n",
       "      <td>0.0</td>\n",
       "      <td>0.0</td>\n",
       "      <td>0.0</td>\n",
       "      <td>0.0</td>\n",
       "      <td>0.0</td>\n",
       "      <td>0.0</td>\n",
       "      <td>0.0</td>\n",
       "      <td>0.0</td>\n",
       "      <td>0.0</td>\n",
       "      <td>0.0</td>\n",
       "      <td>0.0</td>\n",
       "      <td>0.0</td>\n",
       "      <td>0.0</td>\n",
       "      <td>0.0</td>\n",
       "      <td>0.0</td>\n",
       "      <td>0.0</td>\n",
       "      <td>0.0</td>\n",
       "      <td>0.0</td>\n",
       "      <td>0.0</td>\n",
       "      <td>0.0</td>\n",
       "      <td>0.0</td>\n",
       "      <td>0.0</td>\n",
       "      <td>0.0</td>\n",
       "      <td>0.0</td>\n",
       "      <td>0.0</td>\n",
       "      <td>0.0</td>\n",
       "      <td>0.0</td>\n",
       "      <td>0.0</td>\n",
       "      <td>0.0</td>\n",
       "      <td>0.0</td>\n",
       "      <td>0.0</td>\n",
       "      <td>0.0</td>\n",
       "      <td>0.0</td>\n",
       "      <td>0.0</td>\n",
       "      <td>0.0</td>\n",
       "      <td>0.0</td>\n",
       "      <td>0.0</td>\n",
       "      <td>0.0</td>\n",
       "      <td>0.0</td>\n",
       "      <td>0.0</td>\n",
       "      <td>0.0</td>\n",
       "      <td>0.0</td>\n",
       "      <td>0.0</td>\n",
       "      <td>0.0</td>\n",
       "      <td>0.0</td>\n",
       "      <td>0.0</td>\n",
       "      <td>0.0</td>\n",
       "      <td>0.0</td>\n",
       "      <td>0.0</td>\n",
       "      <td>0.0</td>\n",
       "      <td>0.0</td>\n",
       "      <td>0.0</td>\n",
       "      <td>0.0</td>\n",
       "      <td>0.0</td>\n",
       "      <td>0.0</td>\n",
       "      <td>0.0</td>\n",
       "      <td>0.0</td>\n",
       "      <td>0.0</td>\n",
       "      <td>0.0</td>\n",
       "      <td>0.0</td>\n",
       "      <td>0.0</td>\n",
       "      <td>0.0</td>\n",
       "      <td>0.0</td>\n",
       "      <td>0.0</td>\n",
       "      <td>0.0</td>\n",
       "      <td>0.0</td>\n",
       "      <td>0.0</td>\n",
       "      <td>0.0</td>\n",
       "      <td>0.0</td>\n",
       "      <td>0.0</td>\n",
       "      <td>0.0</td>\n",
       "      <td>0.0</td>\n",
       "      <td>0.0</td>\n",
       "      <td>0.0</td>\n",
       "      <td>0.0</td>\n",
       "      <td>0.0</td>\n",
       "      <td>0.0</td>\n",
       "      <td>0.0</td>\n",
       "      <td>0.0</td>\n",
       "      <td>0.0</td>\n",
       "      <td>0.0</td>\n",
       "      <td>0.0</td>\n",
       "      <td>0.0</td>\n",
       "      <td>0.0</td>\n",
       "      <td>0.0</td>\n",
       "      <td>0.0</td>\n",
       "      <td>0.0</td>\n",
       "      <td>0.0</td>\n",
       "      <td>0.0</td>\n",
       "      <td>0.0</td>\n",
       "      <td>0.0</td>\n",
       "      <td>0.0</td>\n",
       "      <td>0.0</td>\n",
       "      <td>0.0</td>\n",
       "      <td>0.0</td>\n",
       "      <td>0.0</td>\n",
       "      <td>0.0</td>\n",
       "      <td>0.0</td>\n",
       "      <td>0.0</td>\n",
       "      <td>0.0</td>\n",
       "      <td>0.0</td>\n",
       "      <td>0.0</td>\n",
       "      <td>0.0</td>\n",
       "      <td>0.0</td>\n",
       "      <td>0.0</td>\n",
       "      <td>0.0</td>\n",
       "      <td>0.0</td>\n",
       "      <td>0.0</td>\n",
       "      <td>0.0</td>\n",
       "      <td>0.0</td>\n",
       "      <td>0.0</td>\n",
       "      <td>0.0</td>\n",
       "      <td>0.0</td>\n",
       "      <td>0.0</td>\n",
       "      <td>0.0</td>\n",
       "      <td>0.0</td>\n",
       "      <td>0.0</td>\n",
       "      <td>0.0</td>\n",
       "      <td>0.0</td>\n",
       "      <td>0.0</td>\n",
       "      <td>0.0</td>\n",
       "      <td>0.0</td>\n",
       "      <td>0.0</td>\n",
       "      <td>0.0</td>\n",
       "      <td>0.0</td>\n",
       "      <td>0.0</td>\n",
       "      <td>0.0</td>\n",
       "      <td>0.0</td>\n",
       "      <td>0.0</td>\n",
       "      <td>0.0</td>\n",
       "      <td>0.0</td>\n",
       "      <td>0.0</td>\n",
       "      <td>0.0</td>\n",
       "      <td>0.0</td>\n",
       "      <td>0.0</td>\n",
       "      <td>0.0</td>\n",
       "      <td>0.0</td>\n",
       "      <td>0.0</td>\n",
       "      <td>0.0</td>\n",
       "      <td>0.0</td>\n",
       "      <td>0.0</td>\n",
       "      <td>0.0</td>\n",
       "      <td>0.0</td>\n",
       "      <td>0.0</td>\n",
       "      <td>0.0</td>\n",
       "      <td>0.0</td>\n",
       "      <td>0.0</td>\n",
       "      <td>0.0</td>\n",
       "      <td>0.0</td>\n",
       "      <td>0.0</td>\n",
       "      <td>0.0</td>\n",
       "      <td>0.0</td>\n",
       "      <td>0.0</td>\n",
       "      <td>0.0</td>\n",
       "      <td>0.0</td>\n",
       "      <td>0.0</td>\n",
       "      <td>0.0</td>\n",
       "      <td>0.0</td>\n",
       "      <td>0.0</td>\n",
       "      <td>0.0</td>\n",
       "      <td>0.0</td>\n",
       "      <td>0.0</td>\n",
       "      <td>0.0</td>\n",
       "      <td>0.0</td>\n",
       "      <td>0.0</td>\n",
       "      <td>0.0</td>\n",
       "      <td>0.0</td>\n",
       "      <td>0.0</td>\n",
       "      <td>0.0</td>\n",
       "      <td>0.0</td>\n",
       "      <td>0.0</td>\n",
       "      <td>0.0</td>\n",
       "      <td>0.0</td>\n",
       "      <td>0.0</td>\n",
       "      <td>0.0</td>\n",
       "      <td>1.0</td>\n",
       "      <td>0.0</td>\n",
       "      <td>0.0</td>\n",
       "      <td>0.0</td>\n",
       "      <td>0.0</td>\n",
       "      <td>0.0</td>\n",
       "      <td>1.0</td>\n",
       "      <td>0.0</td>\n",
       "      <td>0.0</td>\n",
       "      <td>0.0</td>\n",
       "      <td>0.0</td>\n",
       "      <td>0.0</td>\n",
       "      <td>0.0</td>\n",
       "      <td>0.0</td>\n",
       "      <td>0.0</td>\n",
       "      <td>0.0</td>\n",
       "      <td>0.0</td>\n",
       "      <td>0.0</td>\n",
       "      <td>0.0</td>\n",
       "      <td>0.0</td>\n",
       "      <td>0.0</td>\n",
       "      <td>0.0</td>\n",
       "      <td>0.0</td>\n",
       "      <td>0.0</td>\n",
       "      <td>0.0</td>\n",
       "      <td>0.0</td>\n",
       "      <td>0.0</td>\n",
       "      <td>0.0</td>\n",
       "      <td>0.0</td>\n",
       "      <td>0.0</td>\n",
       "      <td>0.0</td>\n",
       "      <td>0.0</td>\n",
       "      <td>0.0</td>\n",
       "      <td>0.0</td>\n",
       "      <td>0.0</td>\n",
       "      <td>0.0</td>\n",
       "      <td>0.0</td>\n",
       "      <td>0.0</td>\n",
       "      <td>0.0</td>\n",
       "      <td>0.0</td>\n",
       "      <td>0.0</td>\n",
       "      <td>0.0</td>\n",
       "      <td>0.0</td>\n",
       "      <td>0.0</td>\n",
       "      <td>0.0</td>\n",
       "      <td>0.0</td>\n",
       "    </tr>\n",
       "  </tbody>\n",
       "</table>\n",
       "</div>"
      ],
      "text/plain": [
       "        registration_year     power  kilometer  registration_month  \\\n",
       "249948           0.485024  0.490793   0.586264            1.380894   \n",
       "128094          -0.496127  0.399881   0.586264           -0.412474   \n",
       "287688          -0.659652 -1.327461   0.586264            0.185316   \n",
       "72209           -0.169077 -1.463830  -0.095283            0.185316   \n",
       "2970            -0.659652  1.218095   0.586264            1.082000   \n",
       "\n",
       "        vehicle_type_convertible  vehicle_type_coupe  vehicle_type_other  \\\n",
       "249948                       0.0                 0.0                 0.0   \n",
       "128094                       0.0                 0.0                 0.0   \n",
       "287688                       0.0                 0.0                 0.0   \n",
       "72209                        0.0                 0.0                 0.0   \n",
       "2970                         0.0                 0.0                 0.0   \n",
       "\n",
       "        vehicle_type_sedan  vehicle_type_small  vehicle_type_suv  \\\n",
       "249948                 0.0                 0.0               0.0   \n",
       "128094                 1.0                 0.0               0.0   \n",
       "287688                 0.0                 1.0               0.0   \n",
       "72209                  0.0                 1.0               0.0   \n",
       "2970                   1.0                 0.0               0.0   \n",
       "\n",
       "        vehicle_type_unknown  vehicle_type_wagon  gearbox_manual  \\\n",
       "249948                   0.0                 1.0             0.0   \n",
       "128094                   0.0                 0.0             1.0   \n",
       "287688                   0.0                 0.0             1.0   \n",
       "72209                    0.0                 0.0             1.0   \n",
       "2970                     0.0                 0.0             1.0   \n",
       "\n",
       "        gearbox_unknown  model_145  model_147  model_156  model_159  \\\n",
       "249948              0.0        0.0        0.0        0.0        0.0   \n",
       "128094              0.0        0.0        0.0        0.0        0.0   \n",
       "287688              0.0        0.0        0.0        0.0        0.0   \n",
       "72209               0.0        0.0        0.0        0.0        0.0   \n",
       "2970                0.0        0.0        0.0        0.0        0.0   \n",
       "\n",
       "        model_1_reihe  model_1er  model_200  model_2_reihe  model_300c  \\\n",
       "249948            0.0        0.0        0.0            0.0         0.0   \n",
       "128094            0.0        0.0        0.0            0.0         0.0   \n",
       "287688            0.0        0.0        0.0            0.0         0.0   \n",
       "72209             0.0        0.0        0.0            0.0         0.0   \n",
       "2970              0.0        0.0        0.0            0.0         0.0   \n",
       "\n",
       "        model_3_reihe  model_3er  model_4_reihe  model_500  model_5_reihe  \\\n",
       "249948            0.0        0.0            0.0        0.0            0.0   \n",
       "128094            0.0        1.0            0.0        0.0            0.0   \n",
       "287688            0.0        0.0            0.0        0.0            0.0   \n",
       "72209             0.0        0.0            0.0        0.0            0.0   \n",
       "2970              0.0        0.0            0.0        0.0            0.0   \n",
       "\n",
       "        model_5er  model_6_reihe  model_6er  model_7er  model_80  model_850  \\\n",
       "249948        0.0            0.0        0.0        0.0       0.0        0.0   \n",
       "128094        0.0            0.0        0.0        0.0       0.0        0.0   \n",
       "287688        0.0            0.0        0.0        0.0       0.0        0.0   \n",
       "72209         0.0            0.0        0.0        0.0       0.0        0.0   \n",
       "2970          0.0            0.0        0.0        0.0       0.0        0.0   \n",
       "\n",
       "        model_90  model_900  model_9000  model_911  model_a1  model_a2  \\\n",
       "249948       0.0        0.0         0.0        0.0       0.0       0.0   \n",
       "128094       0.0        0.0         0.0        0.0       0.0       0.0   \n",
       "287688       0.0        0.0         0.0        0.0       0.0       0.0   \n",
       "72209        0.0        0.0         0.0        0.0       0.0       0.0   \n",
       "2970         0.0        0.0         0.0        0.0       0.0       0.0   \n",
       "\n",
       "        model_a3  model_a4  model_a5  model_a6  model_a8  model_a_klasse  \\\n",
       "249948       0.0       0.0       0.0       0.0       0.0             0.0   \n",
       "128094       0.0       0.0       0.0       0.0       0.0             0.0   \n",
       "287688       0.0       0.0       0.0       0.0       0.0             0.0   \n",
       "72209        0.0       0.0       0.0       0.0       0.0             0.0   \n",
       "2970         0.0       1.0       0.0       0.0       0.0             0.0   \n",
       "\n",
       "        model_accord  model_agila  model_alhambra  model_almera  model_altea  \\\n",
       "249948           0.0          0.0             0.0           0.0          0.0   \n",
       "128094           0.0          0.0             0.0           0.0          0.0   \n",
       "287688           0.0          0.0             0.0           0.0          0.0   \n",
       "72209            0.0          0.0             0.0           0.0          0.0   \n",
       "2970             0.0          0.0             0.0           0.0          0.0   \n",
       "\n",
       "        model_amarok  model_antara  model_arosa  model_astra  model_auris  \\\n",
       "249948           0.0           0.0          0.0          1.0          0.0   \n",
       "128094           0.0           0.0          0.0          0.0          0.0   \n",
       "287688           0.0           0.0          0.0          0.0          0.0   \n",
       "72209            0.0           0.0          0.0          0.0          0.0   \n",
       "2970             0.0           0.0          0.0          0.0          0.0   \n",
       "\n",
       "        model_avensis  model_aveo  model_aygo  model_b_klasse  model_b_max  \\\n",
       "249948            0.0         0.0         0.0             0.0          0.0   \n",
       "128094            0.0         0.0         0.0             0.0          0.0   \n",
       "287688            0.0         0.0         0.0             0.0          0.0   \n",
       "72209             0.0         0.0         0.0             0.0          0.0   \n",
       "2970              0.0         0.0         0.0             0.0          0.0   \n",
       "\n",
       "        model_beetle  model_berlingo  model_bora  model_boxster  model_bravo  \\\n",
       "249948           0.0             0.0         0.0            0.0          0.0   \n",
       "128094           0.0             0.0         0.0            0.0          0.0   \n",
       "287688           0.0             0.0         0.0            0.0          0.0   \n",
       "72209            0.0             0.0         0.0            0.0          0.0   \n",
       "2970             0.0             0.0         0.0            0.0          0.0   \n",
       "\n",
       "        model_c1  model_c2  model_c3  model_c4  model_c5  model_c_klasse  \\\n",
       "249948       0.0       0.0       0.0       0.0       0.0             0.0   \n",
       "128094       0.0       0.0       0.0       0.0       0.0             0.0   \n",
       "287688       0.0       0.0       0.0       0.0       0.0             0.0   \n",
       "72209        0.0       0.0       0.0       0.0       0.0             0.0   \n",
       "2970         0.0       0.0       0.0       0.0       0.0             0.0   \n",
       "\n",
       "        model_c_max  model_c_reihe  model_caddy  model_calibra  model_captiva  \\\n",
       "249948          0.0            0.0          0.0            0.0            0.0   \n",
       "128094          0.0            0.0          0.0            0.0            0.0   \n",
       "287688          0.0            0.0          0.0            0.0            0.0   \n",
       "72209           0.0            0.0          0.0            0.0            0.0   \n",
       "2970            0.0            0.0          0.0            0.0            0.0   \n",
       "\n",
       "        model_carisma  model_carnival  model_cayenne  model_cc  model_ceed  \\\n",
       "249948            0.0             0.0            0.0       0.0         0.0   \n",
       "128094            0.0             0.0            0.0       0.0         0.0   \n",
       "287688            0.0             0.0            0.0       0.0         0.0   \n",
       "72209             0.0             0.0            0.0       0.0         0.0   \n",
       "2970              0.0             0.0            0.0       0.0         0.0   \n",
       "\n",
       "        model_charade  model_cherokee  model_citigo  model_civic  model_cl  \\\n",
       "249948            0.0             0.0           0.0          0.0       0.0   \n",
       "128094            0.0             0.0           0.0          0.0       0.0   \n",
       "287688            0.0             0.0           0.0          0.0       0.0   \n",
       "72209             0.0             0.0           0.0          0.0       0.0   \n",
       "2970              0.0             0.0           0.0          0.0       0.0   \n",
       "\n",
       "        model_clio  model_clk  model_clubman  model_colt  model_combo  \\\n",
       "249948         0.0        0.0            0.0         0.0          0.0   \n",
       "128094         0.0        0.0            0.0         0.0          0.0   \n",
       "287688         0.0        0.0            0.0         0.0          0.0   \n",
       "72209          0.0        0.0            0.0         0.0          0.0   \n",
       "2970           0.0        0.0            0.0         0.0          0.0   \n",
       "\n",
       "        model_cooper  model_cordoba  model_corolla  model_corsa  \\\n",
       "249948           0.0            0.0            0.0          0.0   \n",
       "128094           0.0            0.0            0.0          0.0   \n",
       "287688           0.0            0.0            0.0          0.0   \n",
       "72209            0.0            0.0            0.0          0.0   \n",
       "2970             0.0            0.0            0.0          0.0   \n",
       "\n",
       "        model_cr_reihe  model_croma  model_crossfire  model_cuore  \\\n",
       "249948             0.0          0.0              0.0          0.0   \n",
       "128094             0.0          0.0              0.0          0.0   \n",
       "287688             0.0          0.0              0.0          0.0   \n",
       "72209              0.0          0.0              0.0          0.0   \n",
       "2970               0.0          0.0              0.0          0.0   \n",
       "\n",
       "        model_cx_reihe  model_defender  model_delta  model_discovery  \\\n",
       "249948             0.0             0.0          0.0              0.0   \n",
       "128094             0.0             0.0          0.0              0.0   \n",
       "287688             0.0             0.0          0.0              0.0   \n",
       "72209              0.0             0.0          0.0              0.0   \n",
       "2970               0.0             0.0          0.0              0.0   \n",
       "\n",
       "        model_doblo  model_ducato  model_duster  model_e_klasse  \\\n",
       "249948          0.0           0.0           0.0             0.0   \n",
       "128094          0.0           0.0           0.0             0.0   \n",
       "287688          0.0           0.0           0.0             0.0   \n",
       "72209           0.0           0.0           0.0             0.0   \n",
       "2970            0.0           0.0           0.0             0.0   \n",
       "\n",
       "        model_elefantino  model_eos  model_escort  model_espace  model_exeo  \\\n",
       "249948               0.0        0.0           0.0           0.0         0.0   \n",
       "128094               0.0        0.0           0.0           0.0         0.0   \n",
       "287688               0.0        0.0           0.0           0.0         0.0   \n",
       "72209                0.0        0.0           0.0           0.0         0.0   \n",
       "2970                 0.0        0.0           0.0           0.0         0.0   \n",
       "\n",
       "        model_fabia  model_fiesta  model_focus  model_forester  model_forfour  \\\n",
       "249948          0.0           0.0          0.0             0.0            0.0   \n",
       "128094          0.0           0.0          0.0             0.0            0.0   \n",
       "287688          0.0           0.0          0.0             0.0            0.0   \n",
       "72209           0.0           0.0          0.0             0.0            0.0   \n",
       "2970            0.0           0.0          0.0             0.0            0.0   \n",
       "\n",
       "        model_fortwo  model_fox  model_freelander  model_fusion  \\\n",
       "249948           0.0        0.0               0.0           0.0   \n",
       "128094           0.0        0.0               0.0           0.0   \n",
       "287688           0.0        0.0               0.0           0.0   \n",
       "72209            0.0        0.0               0.0           0.0   \n",
       "2970             0.0        0.0               0.0           0.0   \n",
       "\n",
       "        model_g_klasse  model_galant  model_galaxy  model_getz  model_gl  \\\n",
       "249948             0.0           0.0           0.0         0.0       0.0   \n",
       "128094             0.0           0.0           0.0         0.0       0.0   \n",
       "287688             0.0           0.0           0.0         0.0       0.0   \n",
       "72209              0.0           0.0           0.0         0.0       0.0   \n",
       "2970               0.0           0.0           0.0         0.0       0.0   \n",
       "\n",
       "        model_glk  model_golf  model_grand  model_i3  model_i_reihe  \\\n",
       "249948        0.0         0.0          0.0       0.0            0.0   \n",
       "128094        0.0         0.0          0.0       0.0            0.0   \n",
       "287688        0.0         0.0          0.0       0.0            0.0   \n",
       "72209         0.0         0.0          0.0       0.0            0.0   \n",
       "2970          0.0         0.0          0.0       0.0            0.0   \n",
       "\n",
       "        model_ibiza  model_impreza  model_insignia  model_jazz  model_jetta  \\\n",
       "249948          0.0            0.0             0.0         0.0          0.0   \n",
       "128094          0.0            0.0             0.0         0.0          0.0   \n",
       "287688          0.0            0.0             0.0         0.0          0.0   \n",
       "72209           0.0            0.0             0.0         0.0          0.0   \n",
       "2970            0.0            0.0             0.0         0.0          0.0   \n",
       "\n",
       "        model_jimny  model_juke  model_justy  model_ka  model_kadett  \\\n",
       "249948          0.0         0.0          0.0       0.0           0.0   \n",
       "128094          0.0         0.0          0.0       0.0           0.0   \n",
       "287688          0.0         0.0          0.0       0.0           0.0   \n",
       "72209           0.0         0.0          0.0       0.0           0.0   \n",
       "2970            0.0         0.0          0.0       0.0           0.0   \n",
       "\n",
       "        model_kaefer  model_kalina  model_kalos  model_kangoo  model_kappa  \\\n",
       "249948           0.0           0.0          0.0           0.0          0.0   \n",
       "128094           0.0           0.0          0.0           0.0          0.0   \n",
       "287688           0.0           0.0          0.0           0.0          0.0   \n",
       "72209            0.0           0.0          0.0           0.0          0.0   \n",
       "2970             0.0           0.0          0.0           0.0          0.0   \n",
       "\n",
       "        model_kuga  model_laguna  model_lancer  model_lanos  model_legacy  \\\n",
       "249948         0.0           0.0           0.0          0.0           0.0   \n",
       "128094         0.0           0.0           0.0          0.0           0.0   \n",
       "287688         0.0           0.0           0.0          0.0           0.0   \n",
       "72209          0.0           0.0           0.0          0.0           0.0   \n",
       "2970           0.0           0.0           0.0          0.0           0.0   \n",
       "\n",
       "        model_leon  model_lodgy  model_logan  model_lupo  model_lybra  \\\n",
       "249948         0.0          0.0          0.0         0.0          0.0   \n",
       "128094         0.0          0.0          0.0         0.0          0.0   \n",
       "287688         0.0          0.0          0.0         0.0          0.0   \n",
       "72209          0.0          0.0          0.0         0.0          0.0   \n",
       "2970           0.0          0.0          0.0         0.0          0.0   \n",
       "\n",
       "        model_m_klasse  model_m_reihe  model_materia  model_matiz  \\\n",
       "249948             0.0            0.0            0.0          0.0   \n",
       "128094             0.0            0.0            0.0          0.0   \n",
       "287688             0.0            0.0            0.0          0.0   \n",
       "72209              0.0            0.0            0.0          0.0   \n",
       "2970               0.0            0.0            0.0          0.0   \n",
       "\n",
       "        model_megane  model_meriva  model_micra  model_mii  model_modus  \\\n",
       "249948           0.0           0.0          0.0        0.0          0.0   \n",
       "128094           0.0           0.0          0.0        0.0          0.0   \n",
       "287688           0.0           0.0          0.0        0.0          0.0   \n",
       "72209            0.0           0.0          0.0        0.0          0.0   \n",
       "2970             0.0           0.0          0.0        0.0          0.0   \n",
       "\n",
       "        model_mondeo  model_move  model_musa  model_mustang  model_mx_reihe  \\\n",
       "249948           0.0         0.0         0.0            0.0             0.0   \n",
       "128094           0.0         0.0         0.0            0.0             0.0   \n",
       "287688           0.0         0.0         0.0            0.0             0.0   \n",
       "72209            0.0         0.0         0.0            0.0             0.0   \n",
       "2970             0.0         0.0         0.0            0.0             0.0   \n",
       "\n",
       "        model_navara  model_niva  model_note  model_nubira  model_octavia  \\\n",
       "249948           0.0         0.0         0.0           0.0            0.0   \n",
       "128094           0.0         0.0         0.0           0.0            0.0   \n",
       "287688           0.0         0.0         0.0           0.0            0.0   \n",
       "72209            0.0         0.0         0.0           0.0            0.0   \n",
       "2970             0.0         0.0         0.0           0.0            0.0   \n",
       "\n",
       "        model_omega  model_one  model_other  model_outlander  model_pajero  \\\n",
       "249948          0.0        0.0          0.0              0.0           0.0   \n",
       "128094          0.0        0.0          0.0              0.0           0.0   \n",
       "287688          0.0        0.0          0.0              0.0           0.0   \n",
       "72209           0.0        0.0          0.0              0.0           0.0   \n",
       "2970            0.0        0.0          0.0              0.0           0.0   \n",
       "\n",
       "        model_panda  model_passat  model_phaeton  model_picanto  model_polo  \\\n",
       "249948          0.0           0.0            0.0            0.0         0.0   \n",
       "128094          0.0           0.0            0.0            0.0         0.0   \n",
       "287688          0.0           0.0            0.0            0.0         1.0   \n",
       "72209           0.0           0.0            0.0            0.0         1.0   \n",
       "2970            0.0           0.0            0.0            0.0         0.0   \n",
       "\n",
       "        model_primera  model_ptcruiser  model_punto  model_q3  model_q5  \\\n",
       "249948            0.0              0.0          0.0       0.0       0.0   \n",
       "128094            0.0              0.0          0.0       0.0       0.0   \n",
       "287688            0.0              0.0          0.0       0.0       0.0   \n",
       "72209             0.0              0.0          0.0       0.0       0.0   \n",
       "2970              0.0              0.0          0.0       0.0       0.0   \n",
       "\n",
       "        model_q7  model_qashqai  model_r19  model_range_rover  \\\n",
       "249948       0.0            0.0        0.0                0.0   \n",
       "128094       0.0            0.0        0.0                0.0   \n",
       "287688       0.0            0.0        0.0                0.0   \n",
       "72209        0.0            0.0        0.0                0.0   \n",
       "2970         0.0            0.0        0.0                0.0   \n",
       "\n",
       "        model_range_rover_sport  model_rangerover  model_rav  model_rio  \\\n",
       "249948                      0.0               0.0        0.0        0.0   \n",
       "128094                      0.0               0.0        0.0        0.0   \n",
       "287688                      0.0               0.0        0.0        0.0   \n",
       "72209                       0.0               0.0        0.0        0.0   \n",
       "2970                        0.0               0.0        0.0        0.0   \n",
       "\n",
       "        model_roadster  model_roomster  model_rx_reihe  model_s60  \\\n",
       "249948             0.0             0.0             0.0        0.0   \n",
       "128094             0.0             0.0             0.0        0.0   \n",
       "287688             0.0             0.0             0.0        0.0   \n",
       "72209              0.0             0.0             0.0        0.0   \n",
       "2970               0.0             0.0             0.0        0.0   \n",
       "\n",
       "        model_s_klasse  model_s_max  model_s_type  model_samara  \\\n",
       "249948             0.0          0.0           0.0           0.0   \n",
       "128094             0.0          0.0           0.0           0.0   \n",
       "287688             0.0          0.0           0.0           0.0   \n",
       "72209              0.0          0.0           0.0           0.0   \n",
       "2970               0.0          0.0           0.0           0.0   \n",
       "\n",
       "        model_sandero  model_santa  model_scenic  model_scirocco  \\\n",
       "249948            0.0          0.0           0.0             0.0   \n",
       "128094            0.0          0.0           0.0             0.0   \n",
       "287688            0.0          0.0           0.0             0.0   \n",
       "72209             0.0          0.0           0.0             0.0   \n",
       "2970              0.0          0.0           0.0             0.0   \n",
       "\n",
       "        model_seicento  model_serie_2  model_serie_3  model_sharan  \\\n",
       "249948             0.0            0.0            0.0           0.0   \n",
       "128094             0.0            0.0            0.0           0.0   \n",
       "287688             0.0            0.0            0.0           0.0   \n",
       "72209              0.0            0.0            0.0           0.0   \n",
       "2970               0.0            0.0            0.0           0.0   \n",
       "\n",
       "        model_signum  model_sirion  model_sl  model_slk  model_sorento  \\\n",
       "249948           0.0           0.0       0.0        0.0            0.0   \n",
       "128094           0.0           0.0       0.0        0.0            0.0   \n",
       "287688           0.0           0.0       0.0        0.0            0.0   \n",
       "72209            0.0           0.0       0.0        0.0            0.0   \n",
       "2970             0.0           0.0       0.0        0.0            0.0   \n",
       "\n",
       "        model_spark  model_spider  model_sportage  model_sprinter  \\\n",
       "249948          0.0           0.0             0.0             0.0   \n",
       "128094          0.0           0.0             0.0             0.0   \n",
       "287688          0.0           0.0             0.0             0.0   \n",
       "72209           0.0           0.0             0.0             0.0   \n",
       "2970            0.0           0.0             0.0             0.0   \n",
       "\n",
       "        model_stilo  model_superb  model_swift  model_terios  model_tigra  \\\n",
       "249948          0.0           0.0          0.0           0.0          0.0   \n",
       "128094          0.0           0.0          0.0           0.0          0.0   \n",
       "287688          0.0           0.0          0.0           0.0          0.0   \n",
       "72209           0.0           0.0          0.0           0.0          0.0   \n",
       "2970            0.0           0.0          0.0           0.0          0.0   \n",
       "\n",
       "        model_tiguan  model_toledo  model_touareg  model_touran  \\\n",
       "249948           0.0           0.0            0.0           0.0   \n",
       "128094           0.0           0.0            0.0           0.0   \n",
       "287688           0.0           0.0            0.0           0.0   \n",
       "72209            0.0           0.0            0.0           0.0   \n",
       "2970             0.0           0.0            0.0           0.0   \n",
       "\n",
       "        model_transit  model_transporter  model_tt  model_tucson  \\\n",
       "249948            0.0                0.0       0.0           0.0   \n",
       "128094            0.0                0.0       0.0           0.0   \n",
       "287688            0.0                0.0       0.0           0.0   \n",
       "72209             0.0                0.0       0.0           0.0   \n",
       "2970              0.0                0.0       0.0           0.0   \n",
       "\n",
       "        model_twingo  model_unknown  model_up  model_v40  model_v50  \\\n",
       "249948           0.0            0.0       0.0        0.0        0.0   \n",
       "128094           0.0            0.0       0.0        0.0        0.0   \n",
       "287688           0.0            0.0       0.0        0.0        0.0   \n",
       "72209            0.0            0.0       0.0        0.0        0.0   \n",
       "2970             0.0            0.0       0.0        0.0        0.0   \n",
       "\n",
       "        model_v60  model_v70  model_v_klasse  model_vectra  model_verso  \\\n",
       "249948        0.0        0.0             0.0           0.0          0.0   \n",
       "128094        0.0        0.0             0.0           0.0          0.0   \n",
       "287688        0.0        0.0             0.0           0.0          0.0   \n",
       "72209         0.0        0.0             0.0           0.0          0.0   \n",
       "2970          0.0        0.0             0.0           0.0          0.0   \n",
       "\n",
       "        model_viano  model_vito  model_vivaro  model_voyager  model_wrangler  \\\n",
       "249948          0.0         0.0           0.0            0.0             0.0   \n",
       "128094          0.0         0.0           0.0            0.0             0.0   \n",
       "287688          0.0         0.0           0.0            0.0             0.0   \n",
       "72209           0.0         0.0           0.0            0.0             0.0   \n",
       "2970            0.0         0.0           0.0            0.0             0.0   \n",
       "\n",
       "        model_x_reihe  model_x_trail  model_x_type  model_xc_reihe  \\\n",
       "249948            0.0            0.0           0.0             0.0   \n",
       "128094            0.0            0.0           0.0             0.0   \n",
       "287688            0.0            0.0           0.0             0.0   \n",
       "72209             0.0            0.0           0.0             0.0   \n",
       "2970              0.0            0.0           0.0             0.0   \n",
       "\n",
       "        model_yaris  model_yeti  model_ypsilon  model_z_reihe  model_zafira  \\\n",
       "249948          0.0         0.0            0.0            0.0           0.0   \n",
       "128094          0.0         0.0            0.0            0.0           0.0   \n",
       "287688          0.0         0.0            0.0            0.0           0.0   \n",
       "72209           0.0         0.0            0.0            0.0           0.0   \n",
       "2970            0.0         0.0            0.0            0.0           0.0   \n",
       "\n",
       "        fuel_type_electric  fuel_type_gasoline  fuel_type_hybrid  \\\n",
       "249948                 0.0                 0.0               0.0   \n",
       "128094                 0.0                 1.0               0.0   \n",
       "287688                 0.0                 0.0               0.0   \n",
       "72209                  0.0                 0.0               0.0   \n",
       "2970                   0.0                 1.0               0.0   \n",
       "\n",
       "        fuel_type_lpg  fuel_type_other  fuel_type_petrol  fuel_type_unknown  \\\n",
       "249948            1.0              0.0               0.0                0.0   \n",
       "128094            0.0              0.0               0.0                0.0   \n",
       "287688            0.0              0.0               1.0                0.0   \n",
       "72209             0.0              0.0               1.0                0.0   \n",
       "2970              0.0              0.0               0.0                0.0   \n",
       "\n",
       "        brand_audi  brand_bmw  brand_chevrolet  brand_chrysler  brand_citroen  \\\n",
       "249948         0.0        0.0              0.0             0.0            0.0   \n",
       "128094         0.0        1.0              0.0             0.0            0.0   \n",
       "287688         0.0        0.0              0.0             0.0            0.0   \n",
       "72209          0.0        0.0              0.0             0.0            0.0   \n",
       "2970           1.0        0.0              0.0             0.0            0.0   \n",
       "\n",
       "        brand_dacia  brand_daewoo  brand_daihatsu  brand_fiat  brand_ford  \\\n",
       "249948          0.0           0.0             0.0         0.0         0.0   \n",
       "128094          0.0           0.0             0.0         0.0         0.0   \n",
       "287688          0.0           0.0             0.0         0.0         0.0   \n",
       "72209           0.0           0.0             0.0         0.0         0.0   \n",
       "2970            0.0           0.0             0.0         0.0         0.0   \n",
       "\n",
       "        brand_honda  brand_hyundai  brand_jaguar  brand_jeep  brand_kia  \\\n",
       "249948          0.0            0.0           0.0         0.0        0.0   \n",
       "128094          0.0            0.0           0.0         0.0        0.0   \n",
       "287688          0.0            0.0           0.0         0.0        0.0   \n",
       "72209           0.0            0.0           0.0         0.0        0.0   \n",
       "2970            0.0            0.0           0.0         0.0        0.0   \n",
       "\n",
       "        brand_lada  brand_lancia  brand_land_rover  brand_mazda  \\\n",
       "249948         0.0           0.0               0.0          0.0   \n",
       "128094         0.0           0.0               0.0          0.0   \n",
       "287688         0.0           0.0               0.0          0.0   \n",
       "72209          0.0           0.0               0.0          0.0   \n",
       "2970           0.0           0.0               0.0          0.0   \n",
       "\n",
       "        brand_mercedes_benz  brand_mini  brand_mitsubishi  brand_nissan  \\\n",
       "249948                  0.0         0.0               0.0           0.0   \n",
       "128094                  0.0         0.0               0.0           0.0   \n",
       "287688                  0.0         0.0               0.0           0.0   \n",
       "72209                   0.0         0.0               0.0           0.0   \n",
       "2970                    0.0         0.0               0.0           0.0   \n",
       "\n",
       "        brand_opel  brand_peugeot  brand_porsche  brand_renault  brand_rover  \\\n",
       "249948         1.0            0.0            0.0            0.0          0.0   \n",
       "128094         0.0            0.0            0.0            0.0          0.0   \n",
       "287688         0.0            0.0            0.0            0.0          0.0   \n",
       "72209          0.0            0.0            0.0            0.0          0.0   \n",
       "2970           0.0            0.0            0.0            0.0          0.0   \n",
       "\n",
       "        brand_saab  brand_seat  brand_skoda  brand_smart  \\\n",
       "249948         0.0         0.0          0.0          0.0   \n",
       "128094         0.0         0.0          0.0          0.0   \n",
       "287688         0.0         0.0          0.0          0.0   \n",
       "72209          0.0         0.0          0.0          0.0   \n",
       "2970           0.0         0.0          0.0          0.0   \n",
       "\n",
       "        brand_sonstige_autos  brand_subaru  brand_suzuki  brand_toyota  \\\n",
       "249948                   0.0           0.0           0.0           0.0   \n",
       "128094                   0.0           0.0           0.0           0.0   \n",
       "287688                   0.0           0.0           0.0           0.0   \n",
       "72209                    0.0           0.0           0.0           0.0   \n",
       "2970                     0.0           0.0           0.0           0.0   \n",
       "\n",
       "        brand_trabant  brand_volkswagen  brand_volvo  repaired_yes  \n",
       "249948            0.0               0.0          0.0           0.0  \n",
       "128094            0.0               0.0          0.0           0.0  \n",
       "287688            0.0               1.0          0.0           0.0  \n",
       "72209             0.0               1.0          0.0           0.0  \n",
       "2970              0.0               0.0          0.0           0.0  "
      ]
     },
     "execution_count": 68,
     "metadata": {},
     "output_type": "execute_result"
    }
   ],
   "source": [
    "# кодируем тестовую выборку энкодером обученным на полной выборке\n",
    "\n",
    "X_test_ohe = X_test.copy()\n",
    "X_test_ohe[\n",
    "    encoder_ohe.get_feature_names_out()\n",
    "] = encoder_ohe.transform(X_test_ohe[ohe_features])\n",
    "\n",
    "X_test_ohe = X_test_ohe.drop(ohe_features, axis=1)\n",
    "\n",
    "# используем скелер обученный на полной выборке\n",
    "X_test_ohe[num_features] = scaler.transform(\n",
    "    X_test_ohe[num_features]\n",
    ")\n",
    "\n",
    "# смотрим на результат\n",
    "X_test_ohe.head()"
   ]
  },
  {
   "cell_type": "code",
   "execution_count": 69,
   "metadata": {},
   "outputs": [
    {
     "data": {
      "text/html": [
       "<div>\n",
       "<style scoped>\n",
       "    .dataframe tbody tr th:only-of-type {\n",
       "        vertical-align: middle;\n",
       "    }\n",
       "\n",
       "    .dataframe tbody tr th {\n",
       "        vertical-align: top;\n",
       "    }\n",
       "\n",
       "    .dataframe thead th {\n",
       "        text-align: right;\n",
       "    }\n",
       "</style>\n",
       "<table border=\"1\" class=\"dataframe\">\n",
       "  <thead>\n",
       "    <tr style=\"text-align: right;\">\n",
       "      <th></th>\n",
       "      <th>registration_year</th>\n",
       "      <th>power</th>\n",
       "      <th>kilometer</th>\n",
       "      <th>registration_month</th>\n",
       "      <th>vehicle_type_convertible</th>\n",
       "      <th>vehicle_type_coupe</th>\n",
       "      <th>vehicle_type_other</th>\n",
       "      <th>vehicle_type_sedan</th>\n",
       "      <th>vehicle_type_small</th>\n",
       "      <th>vehicle_type_suv</th>\n",
       "      <th>vehicle_type_unknown</th>\n",
       "      <th>vehicle_type_wagon</th>\n",
       "      <th>gearbox_manual</th>\n",
       "      <th>gearbox_unknown</th>\n",
       "      <th>model_145</th>\n",
       "      <th>model_147</th>\n",
       "      <th>model_156</th>\n",
       "      <th>model_159</th>\n",
       "      <th>model_1_reihe</th>\n",
       "      <th>model_1er</th>\n",
       "      <th>model_200</th>\n",
       "      <th>model_2_reihe</th>\n",
       "      <th>model_300c</th>\n",
       "      <th>model_3_reihe</th>\n",
       "      <th>model_3er</th>\n",
       "      <th>model_4_reihe</th>\n",
       "      <th>model_500</th>\n",
       "      <th>model_5_reihe</th>\n",
       "      <th>model_5er</th>\n",
       "      <th>model_6_reihe</th>\n",
       "      <th>model_6er</th>\n",
       "      <th>model_7er</th>\n",
       "      <th>model_80</th>\n",
       "      <th>model_850</th>\n",
       "      <th>model_90</th>\n",
       "      <th>model_900</th>\n",
       "      <th>model_9000</th>\n",
       "      <th>model_911</th>\n",
       "      <th>model_a1</th>\n",
       "      <th>model_a2</th>\n",
       "      <th>model_a3</th>\n",
       "      <th>model_a4</th>\n",
       "      <th>model_a5</th>\n",
       "      <th>model_a6</th>\n",
       "      <th>model_a8</th>\n",
       "      <th>model_a_klasse</th>\n",
       "      <th>model_accord</th>\n",
       "      <th>model_agila</th>\n",
       "      <th>model_alhambra</th>\n",
       "      <th>model_almera</th>\n",
       "      <th>model_altea</th>\n",
       "      <th>model_amarok</th>\n",
       "      <th>model_antara</th>\n",
       "      <th>model_arosa</th>\n",
       "      <th>model_astra</th>\n",
       "      <th>model_auris</th>\n",
       "      <th>model_avensis</th>\n",
       "      <th>model_aveo</th>\n",
       "      <th>model_aygo</th>\n",
       "      <th>model_b_klasse</th>\n",
       "      <th>model_b_max</th>\n",
       "      <th>model_beetle</th>\n",
       "      <th>model_berlingo</th>\n",
       "      <th>model_bora</th>\n",
       "      <th>model_boxster</th>\n",
       "      <th>model_bravo</th>\n",
       "      <th>model_c1</th>\n",
       "      <th>model_c2</th>\n",
       "      <th>model_c3</th>\n",
       "      <th>model_c4</th>\n",
       "      <th>model_c5</th>\n",
       "      <th>model_c_klasse</th>\n",
       "      <th>model_c_max</th>\n",
       "      <th>model_c_reihe</th>\n",
       "      <th>model_caddy</th>\n",
       "      <th>model_calibra</th>\n",
       "      <th>model_captiva</th>\n",
       "      <th>model_carisma</th>\n",
       "      <th>model_carnival</th>\n",
       "      <th>model_cayenne</th>\n",
       "      <th>model_cc</th>\n",
       "      <th>model_ceed</th>\n",
       "      <th>model_charade</th>\n",
       "      <th>model_cherokee</th>\n",
       "      <th>model_citigo</th>\n",
       "      <th>model_civic</th>\n",
       "      <th>model_cl</th>\n",
       "      <th>model_clio</th>\n",
       "      <th>model_clk</th>\n",
       "      <th>model_clubman</th>\n",
       "      <th>model_colt</th>\n",
       "      <th>model_combo</th>\n",
       "      <th>model_cooper</th>\n",
       "      <th>model_cordoba</th>\n",
       "      <th>model_corolla</th>\n",
       "      <th>model_corsa</th>\n",
       "      <th>model_cr_reihe</th>\n",
       "      <th>model_croma</th>\n",
       "      <th>model_crossfire</th>\n",
       "      <th>model_cuore</th>\n",
       "      <th>model_cx_reihe</th>\n",
       "      <th>model_defender</th>\n",
       "      <th>model_delta</th>\n",
       "      <th>model_discovery</th>\n",
       "      <th>model_doblo</th>\n",
       "      <th>model_ducato</th>\n",
       "      <th>model_duster</th>\n",
       "      <th>model_e_klasse</th>\n",
       "      <th>model_elefantino</th>\n",
       "      <th>model_eos</th>\n",
       "      <th>model_escort</th>\n",
       "      <th>model_espace</th>\n",
       "      <th>model_exeo</th>\n",
       "      <th>model_fabia</th>\n",
       "      <th>model_fiesta</th>\n",
       "      <th>model_focus</th>\n",
       "      <th>model_forester</th>\n",
       "      <th>model_forfour</th>\n",
       "      <th>model_fortwo</th>\n",
       "      <th>model_fox</th>\n",
       "      <th>model_freelander</th>\n",
       "      <th>model_fusion</th>\n",
       "      <th>model_g_klasse</th>\n",
       "      <th>model_galant</th>\n",
       "      <th>model_galaxy</th>\n",
       "      <th>model_getz</th>\n",
       "      <th>model_gl</th>\n",
       "      <th>model_glk</th>\n",
       "      <th>model_golf</th>\n",
       "      <th>model_grand</th>\n",
       "      <th>model_i3</th>\n",
       "      <th>model_i_reihe</th>\n",
       "      <th>model_ibiza</th>\n",
       "      <th>model_impreza</th>\n",
       "      <th>model_insignia</th>\n",
       "      <th>model_jazz</th>\n",
       "      <th>model_jetta</th>\n",
       "      <th>model_jimny</th>\n",
       "      <th>model_juke</th>\n",
       "      <th>model_justy</th>\n",
       "      <th>model_ka</th>\n",
       "      <th>model_kadett</th>\n",
       "      <th>model_kaefer</th>\n",
       "      <th>model_kalina</th>\n",
       "      <th>model_kalos</th>\n",
       "      <th>model_kangoo</th>\n",
       "      <th>model_kappa</th>\n",
       "      <th>model_kuga</th>\n",
       "      <th>model_laguna</th>\n",
       "      <th>model_lancer</th>\n",
       "      <th>model_lanos</th>\n",
       "      <th>model_legacy</th>\n",
       "      <th>model_leon</th>\n",
       "      <th>model_lodgy</th>\n",
       "      <th>model_logan</th>\n",
       "      <th>model_lupo</th>\n",
       "      <th>model_lybra</th>\n",
       "      <th>model_m_klasse</th>\n",
       "      <th>model_m_reihe</th>\n",
       "      <th>model_materia</th>\n",
       "      <th>model_matiz</th>\n",
       "      <th>model_megane</th>\n",
       "      <th>model_meriva</th>\n",
       "      <th>model_micra</th>\n",
       "      <th>model_mii</th>\n",
       "      <th>model_modus</th>\n",
       "      <th>model_mondeo</th>\n",
       "      <th>model_move</th>\n",
       "      <th>model_musa</th>\n",
       "      <th>model_mustang</th>\n",
       "      <th>model_mx_reihe</th>\n",
       "      <th>model_navara</th>\n",
       "      <th>model_niva</th>\n",
       "      <th>model_note</th>\n",
       "      <th>model_nubira</th>\n",
       "      <th>model_octavia</th>\n",
       "      <th>model_omega</th>\n",
       "      <th>model_one</th>\n",
       "      <th>model_other</th>\n",
       "      <th>model_outlander</th>\n",
       "      <th>model_pajero</th>\n",
       "      <th>model_panda</th>\n",
       "      <th>model_passat</th>\n",
       "      <th>model_phaeton</th>\n",
       "      <th>model_picanto</th>\n",
       "      <th>model_polo</th>\n",
       "      <th>model_primera</th>\n",
       "      <th>model_ptcruiser</th>\n",
       "      <th>model_punto</th>\n",
       "      <th>model_q3</th>\n",
       "      <th>model_q5</th>\n",
       "      <th>model_q7</th>\n",
       "      <th>model_qashqai</th>\n",
       "      <th>model_r19</th>\n",
       "      <th>model_range_rover</th>\n",
       "      <th>model_range_rover_sport</th>\n",
       "      <th>model_rangerover</th>\n",
       "      <th>model_rav</th>\n",
       "      <th>model_rio</th>\n",
       "      <th>model_roadster</th>\n",
       "      <th>model_roomster</th>\n",
       "      <th>model_rx_reihe</th>\n",
       "      <th>model_s60</th>\n",
       "      <th>model_s_klasse</th>\n",
       "      <th>model_s_max</th>\n",
       "      <th>model_s_type</th>\n",
       "      <th>model_samara</th>\n",
       "      <th>model_sandero</th>\n",
       "      <th>model_santa</th>\n",
       "      <th>model_scenic</th>\n",
       "      <th>model_scirocco</th>\n",
       "      <th>model_seicento</th>\n",
       "      <th>model_serie_2</th>\n",
       "      <th>model_serie_3</th>\n",
       "      <th>model_sharan</th>\n",
       "      <th>model_signum</th>\n",
       "      <th>model_sirion</th>\n",
       "      <th>model_sl</th>\n",
       "      <th>model_slk</th>\n",
       "      <th>model_sorento</th>\n",
       "      <th>model_spark</th>\n",
       "      <th>model_spider</th>\n",
       "      <th>model_sportage</th>\n",
       "      <th>model_sprinter</th>\n",
       "      <th>model_stilo</th>\n",
       "      <th>model_superb</th>\n",
       "      <th>model_swift</th>\n",
       "      <th>model_terios</th>\n",
       "      <th>model_tigra</th>\n",
       "      <th>model_tiguan</th>\n",
       "      <th>model_toledo</th>\n",
       "      <th>model_touareg</th>\n",
       "      <th>model_touran</th>\n",
       "      <th>model_transit</th>\n",
       "      <th>model_transporter</th>\n",
       "      <th>model_tt</th>\n",
       "      <th>model_tucson</th>\n",
       "      <th>model_twingo</th>\n",
       "      <th>model_unknown</th>\n",
       "      <th>model_up</th>\n",
       "      <th>model_v40</th>\n",
       "      <th>model_v50</th>\n",
       "      <th>model_v60</th>\n",
       "      <th>model_v70</th>\n",
       "      <th>model_v_klasse</th>\n",
       "      <th>model_vectra</th>\n",
       "      <th>model_verso</th>\n",
       "      <th>model_viano</th>\n",
       "      <th>model_vito</th>\n",
       "      <th>model_vivaro</th>\n",
       "      <th>model_voyager</th>\n",
       "      <th>model_wrangler</th>\n",
       "      <th>model_x_reihe</th>\n",
       "      <th>model_x_trail</th>\n",
       "      <th>model_x_type</th>\n",
       "      <th>model_xc_reihe</th>\n",
       "      <th>model_yaris</th>\n",
       "      <th>model_yeti</th>\n",
       "      <th>model_ypsilon</th>\n",
       "      <th>model_z_reihe</th>\n",
       "      <th>model_zafira</th>\n",
       "      <th>fuel_type_electric</th>\n",
       "      <th>fuel_type_gasoline</th>\n",
       "      <th>fuel_type_hybrid</th>\n",
       "      <th>fuel_type_lpg</th>\n",
       "      <th>fuel_type_other</th>\n",
       "      <th>fuel_type_petrol</th>\n",
       "      <th>fuel_type_unknown</th>\n",
       "      <th>brand_audi</th>\n",
       "      <th>brand_bmw</th>\n",
       "      <th>brand_chevrolet</th>\n",
       "      <th>brand_chrysler</th>\n",
       "      <th>brand_citroen</th>\n",
       "      <th>brand_dacia</th>\n",
       "      <th>brand_daewoo</th>\n",
       "      <th>brand_daihatsu</th>\n",
       "      <th>brand_fiat</th>\n",
       "      <th>brand_ford</th>\n",
       "      <th>brand_honda</th>\n",
       "      <th>brand_hyundai</th>\n",
       "      <th>brand_jaguar</th>\n",
       "      <th>brand_jeep</th>\n",
       "      <th>brand_kia</th>\n",
       "      <th>brand_lada</th>\n",
       "      <th>brand_lancia</th>\n",
       "      <th>brand_land_rover</th>\n",
       "      <th>brand_mazda</th>\n",
       "      <th>brand_mercedes_benz</th>\n",
       "      <th>brand_mini</th>\n",
       "      <th>brand_mitsubishi</th>\n",
       "      <th>brand_nissan</th>\n",
       "      <th>brand_opel</th>\n",
       "      <th>brand_peugeot</th>\n",
       "      <th>brand_porsche</th>\n",
       "      <th>brand_renault</th>\n",
       "      <th>brand_rover</th>\n",
       "      <th>brand_saab</th>\n",
       "      <th>brand_seat</th>\n",
       "      <th>brand_skoda</th>\n",
       "      <th>brand_smart</th>\n",
       "      <th>brand_sonstige_autos</th>\n",
       "      <th>brand_subaru</th>\n",
       "      <th>brand_suzuki</th>\n",
       "      <th>brand_toyota</th>\n",
       "      <th>brand_trabant</th>\n",
       "      <th>brand_volkswagen</th>\n",
       "      <th>brand_volvo</th>\n",
       "      <th>repaired_yes</th>\n",
       "    </tr>\n",
       "  </thead>\n",
       "  <tbody>\n",
       "    <tr>\n",
       "      <th>312156</th>\n",
       "      <td>-0.659652</td>\n",
       "      <td>1.695387</td>\n",
       "      <td>0.586264</td>\n",
       "      <td>-0.412474</td>\n",
       "      <td>0.0</td>\n",
       "      <td>0.0</td>\n",
       "      <td>0.0</td>\n",
       "      <td>1.0</td>\n",
       "      <td>0.0</td>\n",
       "      <td>0.0</td>\n",
       "      <td>0.0</td>\n",
       "      <td>0.0</td>\n",
       "      <td>1.0</td>\n",
       "      <td>0.0</td>\n",
       "      <td>0.0</td>\n",
       "      <td>0.0</td>\n",
       "      <td>0.0</td>\n",
       "      <td>0.0</td>\n",
       "      <td>0.0</td>\n",
       "      <td>0.0</td>\n",
       "      <td>0.0</td>\n",
       "      <td>0.0</td>\n",
       "      <td>0.0</td>\n",
       "      <td>0.0</td>\n",
       "      <td>0.0</td>\n",
       "      <td>0.0</td>\n",
       "      <td>0.0</td>\n",
       "      <td>0.0</td>\n",
       "      <td>0.0</td>\n",
       "      <td>0.0</td>\n",
       "      <td>0.0</td>\n",
       "      <td>0.0</td>\n",
       "      <td>0.0</td>\n",
       "      <td>0.0</td>\n",
       "      <td>0.0</td>\n",
       "      <td>0.0</td>\n",
       "      <td>0.0</td>\n",
       "      <td>0.0</td>\n",
       "      <td>0.0</td>\n",
       "      <td>0.0</td>\n",
       "      <td>0.0</td>\n",
       "      <td>0.0</td>\n",
       "      <td>0.0</td>\n",
       "      <td>0.0</td>\n",
       "      <td>0.0</td>\n",
       "      <td>0.0</td>\n",
       "      <td>0.0</td>\n",
       "      <td>0.0</td>\n",
       "      <td>0.0</td>\n",
       "      <td>0.0</td>\n",
       "      <td>0.0</td>\n",
       "      <td>0.0</td>\n",
       "      <td>0.0</td>\n",
       "      <td>0.0</td>\n",
       "      <td>0.0</td>\n",
       "      <td>0.0</td>\n",
       "      <td>0.0</td>\n",
       "      <td>0.0</td>\n",
       "      <td>0.0</td>\n",
       "      <td>0.0</td>\n",
       "      <td>0.0</td>\n",
       "      <td>0.0</td>\n",
       "      <td>0.0</td>\n",
       "      <td>0.0</td>\n",
       "      <td>0.0</td>\n",
       "      <td>0.0</td>\n",
       "      <td>0.0</td>\n",
       "      <td>0.0</td>\n",
       "      <td>0.0</td>\n",
       "      <td>0.0</td>\n",
       "      <td>0.0</td>\n",
       "      <td>0.0</td>\n",
       "      <td>0.0</td>\n",
       "      <td>0.0</td>\n",
       "      <td>0.0</td>\n",
       "      <td>0.0</td>\n",
       "      <td>0.0</td>\n",
       "      <td>0.0</td>\n",
       "      <td>0.0</td>\n",
       "      <td>0.0</td>\n",
       "      <td>0.0</td>\n",
       "      <td>0.0</td>\n",
       "      <td>0.0</td>\n",
       "      <td>0.0</td>\n",
       "      <td>0.0</td>\n",
       "      <td>0.0</td>\n",
       "      <td>0.0</td>\n",
       "      <td>0.0</td>\n",
       "      <td>0.0</td>\n",
       "      <td>0.0</td>\n",
       "      <td>0.0</td>\n",
       "      <td>0.0</td>\n",
       "      <td>0.0</td>\n",
       "      <td>0.0</td>\n",
       "      <td>0.0</td>\n",
       "      <td>0.0</td>\n",
       "      <td>0.0</td>\n",
       "      <td>0.0</td>\n",
       "      <td>0.0</td>\n",
       "      <td>0.0</td>\n",
       "      <td>0.0</td>\n",
       "      <td>0.0</td>\n",
       "      <td>0.0</td>\n",
       "      <td>0.0</td>\n",
       "      <td>0.0</td>\n",
       "      <td>0.0</td>\n",
       "      <td>0.0</td>\n",
       "      <td>0.0</td>\n",
       "      <td>0.0</td>\n",
       "      <td>0.0</td>\n",
       "      <td>0.0</td>\n",
       "      <td>0.0</td>\n",
       "      <td>0.0</td>\n",
       "      <td>0.0</td>\n",
       "      <td>0.0</td>\n",
       "      <td>0.0</td>\n",
       "      <td>0.0</td>\n",
       "      <td>0.0</td>\n",
       "      <td>0.0</td>\n",
       "      <td>0.0</td>\n",
       "      <td>0.0</td>\n",
       "      <td>0.0</td>\n",
       "      <td>0.0</td>\n",
       "      <td>0.0</td>\n",
       "      <td>0.0</td>\n",
       "      <td>0.0</td>\n",
       "      <td>0.0</td>\n",
       "      <td>0.0</td>\n",
       "      <td>0.0</td>\n",
       "      <td>0.0</td>\n",
       "      <td>0.0</td>\n",
       "      <td>0.0</td>\n",
       "      <td>0.0</td>\n",
       "      <td>0.0</td>\n",
       "      <td>0.0</td>\n",
       "      <td>0.0</td>\n",
       "      <td>0.0</td>\n",
       "      <td>0.0</td>\n",
       "      <td>0.0</td>\n",
       "      <td>0.0</td>\n",
       "      <td>0.0</td>\n",
       "      <td>0.0</td>\n",
       "      <td>0.0</td>\n",
       "      <td>0.0</td>\n",
       "      <td>0.0</td>\n",
       "      <td>0.0</td>\n",
       "      <td>0.0</td>\n",
       "      <td>0.0</td>\n",
       "      <td>0.0</td>\n",
       "      <td>0.0</td>\n",
       "      <td>0.0</td>\n",
       "      <td>0.0</td>\n",
       "      <td>0.0</td>\n",
       "      <td>0.0</td>\n",
       "      <td>0.0</td>\n",
       "      <td>0.0</td>\n",
       "      <td>0.0</td>\n",
       "      <td>0.0</td>\n",
       "      <td>0.0</td>\n",
       "      <td>0.0</td>\n",
       "      <td>0.0</td>\n",
       "      <td>0.0</td>\n",
       "      <td>0.0</td>\n",
       "      <td>0.0</td>\n",
       "      <td>0.0</td>\n",
       "      <td>0.0</td>\n",
       "      <td>0.0</td>\n",
       "      <td>0.0</td>\n",
       "      <td>0.0</td>\n",
       "      <td>0.0</td>\n",
       "      <td>0.0</td>\n",
       "      <td>0.0</td>\n",
       "      <td>0.0</td>\n",
       "      <td>0.0</td>\n",
       "      <td>0.0</td>\n",
       "      <td>0.0</td>\n",
       "      <td>0.0</td>\n",
       "      <td>0.0</td>\n",
       "      <td>0.0</td>\n",
       "      <td>0.0</td>\n",
       "      <td>0.0</td>\n",
       "      <td>0.0</td>\n",
       "      <td>1.0</td>\n",
       "      <td>0.0</td>\n",
       "      <td>0.0</td>\n",
       "      <td>0.0</td>\n",
       "      <td>0.0</td>\n",
       "      <td>0.0</td>\n",
       "      <td>0.0</td>\n",
       "      <td>0.0</td>\n",
       "      <td>0.0</td>\n",
       "      <td>0.0</td>\n",
       "      <td>0.0</td>\n",
       "      <td>0.0</td>\n",
       "      <td>0.0</td>\n",
       "      <td>0.0</td>\n",
       "      <td>0.0</td>\n",
       "      <td>0.0</td>\n",
       "      <td>0.0</td>\n",
       "      <td>0.0</td>\n",
       "      <td>0.0</td>\n",
       "      <td>0.0</td>\n",
       "      <td>0.0</td>\n",
       "      <td>0.0</td>\n",
       "      <td>0.0</td>\n",
       "      <td>0.0</td>\n",
       "      <td>0.0</td>\n",
       "      <td>0.0</td>\n",
       "      <td>0.0</td>\n",
       "      <td>0.0</td>\n",
       "      <td>0.0</td>\n",
       "      <td>0.0</td>\n",
       "      <td>0.0</td>\n",
       "      <td>0.0</td>\n",
       "      <td>0.0</td>\n",
       "      <td>0.0</td>\n",
       "      <td>0.0</td>\n",
       "      <td>0.0</td>\n",
       "      <td>0.0</td>\n",
       "      <td>0.0</td>\n",
       "      <td>0.0</td>\n",
       "      <td>0.0</td>\n",
       "      <td>0.0</td>\n",
       "      <td>0.0</td>\n",
       "      <td>0.0</td>\n",
       "      <td>0.0</td>\n",
       "      <td>0.0</td>\n",
       "      <td>0.0</td>\n",
       "      <td>0.0</td>\n",
       "      <td>0.0</td>\n",
       "      <td>0.0</td>\n",
       "      <td>0.0</td>\n",
       "      <td>0.0</td>\n",
       "      <td>0.0</td>\n",
       "      <td>0.0</td>\n",
       "      <td>0.0</td>\n",
       "      <td>0.0</td>\n",
       "      <td>0.0</td>\n",
       "      <td>0.0</td>\n",
       "      <td>0.0</td>\n",
       "      <td>0.0</td>\n",
       "      <td>0.0</td>\n",
       "      <td>0.0</td>\n",
       "      <td>0.0</td>\n",
       "      <td>0.0</td>\n",
       "      <td>0.0</td>\n",
       "      <td>0.0</td>\n",
       "      <td>0.0</td>\n",
       "      <td>0.0</td>\n",
       "      <td>0.0</td>\n",
       "      <td>0.0</td>\n",
       "      <td>0.0</td>\n",
       "      <td>0.0</td>\n",
       "      <td>0.0</td>\n",
       "      <td>0.0</td>\n",
       "      <td>0.0</td>\n",
       "      <td>0.0</td>\n",
       "      <td>0.0</td>\n",
       "      <td>0.0</td>\n",
       "      <td>0.0</td>\n",
       "      <td>0.0</td>\n",
       "      <td>0.0</td>\n",
       "      <td>0.0</td>\n",
       "      <td>0.0</td>\n",
       "      <td>0.0</td>\n",
       "      <td>0.0</td>\n",
       "      <td>1.0</td>\n",
       "      <td>0.0</td>\n",
       "      <td>0.0</td>\n",
       "      <td>0.0</td>\n",
       "      <td>0.0</td>\n",
       "      <td>0.0</td>\n",
       "      <td>0.0</td>\n",
       "      <td>0.0</td>\n",
       "      <td>0.0</td>\n",
       "      <td>0.0</td>\n",
       "      <td>0.0</td>\n",
       "      <td>0.0</td>\n",
       "      <td>0.0</td>\n",
       "      <td>0.0</td>\n",
       "      <td>0.0</td>\n",
       "      <td>0.0</td>\n",
       "      <td>0.0</td>\n",
       "      <td>0.0</td>\n",
       "      <td>0.0</td>\n",
       "      <td>0.0</td>\n",
       "      <td>0.0</td>\n",
       "      <td>0.0</td>\n",
       "      <td>0.0</td>\n",
       "      <td>0.0</td>\n",
       "      <td>0.0</td>\n",
       "      <td>0.0</td>\n",
       "      <td>0.0</td>\n",
       "      <td>0.0</td>\n",
       "      <td>0.0</td>\n",
       "      <td>0.0</td>\n",
       "      <td>0.0</td>\n",
       "      <td>0.0</td>\n",
       "      <td>0.0</td>\n",
       "      <td>0.0</td>\n",
       "      <td>0.0</td>\n",
       "      <td>0.0</td>\n",
       "      <td>0.0</td>\n",
       "      <td>0.0</td>\n",
       "      <td>0.0</td>\n",
       "      <td>1.0</td>\n",
       "      <td>0.0</td>\n",
       "      <td>0.0</td>\n",
       "    </tr>\n",
       "    <tr>\n",
       "      <th>205215</th>\n",
       "      <td>-0.823177</td>\n",
       "      <td>0.149871</td>\n",
       "      <td>0.586264</td>\n",
       "      <td>1.679789</td>\n",
       "      <td>0.0</td>\n",
       "      <td>0.0</td>\n",
       "      <td>0.0</td>\n",
       "      <td>0.0</td>\n",
       "      <td>0.0</td>\n",
       "      <td>0.0</td>\n",
       "      <td>0.0</td>\n",
       "      <td>1.0</td>\n",
       "      <td>1.0</td>\n",
       "      <td>0.0</td>\n",
       "      <td>0.0</td>\n",
       "      <td>0.0</td>\n",
       "      <td>0.0</td>\n",
       "      <td>0.0</td>\n",
       "      <td>0.0</td>\n",
       "      <td>0.0</td>\n",
       "      <td>0.0</td>\n",
       "      <td>0.0</td>\n",
       "      <td>0.0</td>\n",
       "      <td>0.0</td>\n",
       "      <td>0.0</td>\n",
       "      <td>0.0</td>\n",
       "      <td>0.0</td>\n",
       "      <td>0.0</td>\n",
       "      <td>0.0</td>\n",
       "      <td>0.0</td>\n",
       "      <td>0.0</td>\n",
       "      <td>0.0</td>\n",
       "      <td>0.0</td>\n",
       "      <td>0.0</td>\n",
       "      <td>0.0</td>\n",
       "      <td>0.0</td>\n",
       "      <td>0.0</td>\n",
       "      <td>0.0</td>\n",
       "      <td>0.0</td>\n",
       "      <td>0.0</td>\n",
       "      <td>0.0</td>\n",
       "      <td>1.0</td>\n",
       "      <td>0.0</td>\n",
       "      <td>0.0</td>\n",
       "      <td>0.0</td>\n",
       "      <td>0.0</td>\n",
       "      <td>0.0</td>\n",
       "      <td>0.0</td>\n",
       "      <td>0.0</td>\n",
       "      <td>0.0</td>\n",
       "      <td>0.0</td>\n",
       "      <td>0.0</td>\n",
       "      <td>0.0</td>\n",
       "      <td>0.0</td>\n",
       "      <td>0.0</td>\n",
       "      <td>0.0</td>\n",
       "      <td>0.0</td>\n",
       "      <td>0.0</td>\n",
       "      <td>0.0</td>\n",
       "      <td>0.0</td>\n",
       "      <td>0.0</td>\n",
       "      <td>0.0</td>\n",
       "      <td>0.0</td>\n",
       "      <td>0.0</td>\n",
       "      <td>0.0</td>\n",
       "      <td>0.0</td>\n",
       "      <td>0.0</td>\n",
       "      <td>0.0</td>\n",
       "      <td>0.0</td>\n",
       "      <td>0.0</td>\n",
       "      <td>0.0</td>\n",
       "      <td>0.0</td>\n",
       "      <td>0.0</td>\n",
       "      <td>0.0</td>\n",
       "      <td>0.0</td>\n",
       "      <td>0.0</td>\n",
       "      <td>0.0</td>\n",
       "      <td>0.0</td>\n",
       "      <td>0.0</td>\n",
       "      <td>0.0</td>\n",
       "      <td>0.0</td>\n",
       "      <td>0.0</td>\n",
       "      <td>0.0</td>\n",
       "      <td>0.0</td>\n",
       "      <td>0.0</td>\n",
       "      <td>0.0</td>\n",
       "      <td>0.0</td>\n",
       "      <td>0.0</td>\n",
       "      <td>0.0</td>\n",
       "      <td>0.0</td>\n",
       "      <td>0.0</td>\n",
       "      <td>0.0</td>\n",
       "      <td>0.0</td>\n",
       "      <td>0.0</td>\n",
       "      <td>0.0</td>\n",
       "      <td>0.0</td>\n",
       "      <td>0.0</td>\n",
       "      <td>0.0</td>\n",
       "      <td>0.0</td>\n",
       "      <td>0.0</td>\n",
       "      <td>0.0</td>\n",
       "      <td>0.0</td>\n",
       "      <td>0.0</td>\n",
       "      <td>0.0</td>\n",
       "      <td>0.0</td>\n",
       "      <td>0.0</td>\n",
       "      <td>0.0</td>\n",
       "      <td>0.0</td>\n",
       "      <td>0.0</td>\n",
       "      <td>0.0</td>\n",
       "      <td>0.0</td>\n",
       "      <td>0.0</td>\n",
       "      <td>0.0</td>\n",
       "      <td>0.0</td>\n",
       "      <td>0.0</td>\n",
       "      <td>0.0</td>\n",
       "      <td>0.0</td>\n",
       "      <td>0.0</td>\n",
       "      <td>0.0</td>\n",
       "      <td>0.0</td>\n",
       "      <td>0.0</td>\n",
       "      <td>0.0</td>\n",
       "      <td>0.0</td>\n",
       "      <td>0.0</td>\n",
       "      <td>0.0</td>\n",
       "      <td>0.0</td>\n",
       "      <td>0.0</td>\n",
       "      <td>0.0</td>\n",
       "      <td>0.0</td>\n",
       "      <td>0.0</td>\n",
       "      <td>0.0</td>\n",
       "      <td>0.0</td>\n",
       "      <td>0.0</td>\n",
       "      <td>0.0</td>\n",
       "      <td>0.0</td>\n",
       "      <td>0.0</td>\n",
       "      <td>0.0</td>\n",
       "      <td>0.0</td>\n",
       "      <td>0.0</td>\n",
       "      <td>0.0</td>\n",
       "      <td>0.0</td>\n",
       "      <td>0.0</td>\n",
       "      <td>0.0</td>\n",
       "      <td>0.0</td>\n",
       "      <td>0.0</td>\n",
       "      <td>0.0</td>\n",
       "      <td>0.0</td>\n",
       "      <td>0.0</td>\n",
       "      <td>0.0</td>\n",
       "      <td>0.0</td>\n",
       "      <td>0.0</td>\n",
       "      <td>0.0</td>\n",
       "      <td>0.0</td>\n",
       "      <td>0.0</td>\n",
       "      <td>0.0</td>\n",
       "      <td>0.0</td>\n",
       "      <td>0.0</td>\n",
       "      <td>0.0</td>\n",
       "      <td>0.0</td>\n",
       "      <td>0.0</td>\n",
       "      <td>0.0</td>\n",
       "      <td>0.0</td>\n",
       "      <td>0.0</td>\n",
       "      <td>0.0</td>\n",
       "      <td>0.0</td>\n",
       "      <td>0.0</td>\n",
       "      <td>0.0</td>\n",
       "      <td>0.0</td>\n",
       "      <td>0.0</td>\n",
       "      <td>0.0</td>\n",
       "      <td>0.0</td>\n",
       "      <td>0.0</td>\n",
       "      <td>0.0</td>\n",
       "      <td>0.0</td>\n",
       "      <td>0.0</td>\n",
       "      <td>0.0</td>\n",
       "      <td>0.0</td>\n",
       "      <td>0.0</td>\n",
       "      <td>0.0</td>\n",
       "      <td>0.0</td>\n",
       "      <td>0.0</td>\n",
       "      <td>0.0</td>\n",
       "      <td>0.0</td>\n",
       "      <td>0.0</td>\n",
       "      <td>0.0</td>\n",
       "      <td>0.0</td>\n",
       "      <td>0.0</td>\n",
       "      <td>0.0</td>\n",
       "      <td>0.0</td>\n",
       "      <td>0.0</td>\n",
       "      <td>0.0</td>\n",
       "      <td>0.0</td>\n",
       "      <td>0.0</td>\n",
       "      <td>0.0</td>\n",
       "      <td>0.0</td>\n",
       "      <td>0.0</td>\n",
       "      <td>0.0</td>\n",
       "      <td>0.0</td>\n",
       "      <td>0.0</td>\n",
       "      <td>0.0</td>\n",
       "      <td>0.0</td>\n",
       "      <td>0.0</td>\n",
       "      <td>0.0</td>\n",
       "      <td>0.0</td>\n",
       "      <td>0.0</td>\n",
       "      <td>0.0</td>\n",
       "      <td>0.0</td>\n",
       "      <td>0.0</td>\n",
       "      <td>0.0</td>\n",
       "      <td>0.0</td>\n",
       "      <td>0.0</td>\n",
       "      <td>0.0</td>\n",
       "      <td>0.0</td>\n",
       "      <td>0.0</td>\n",
       "      <td>0.0</td>\n",
       "      <td>0.0</td>\n",
       "      <td>0.0</td>\n",
       "      <td>0.0</td>\n",
       "      <td>0.0</td>\n",
       "      <td>0.0</td>\n",
       "      <td>0.0</td>\n",
       "      <td>0.0</td>\n",
       "      <td>0.0</td>\n",
       "      <td>0.0</td>\n",
       "      <td>0.0</td>\n",
       "      <td>0.0</td>\n",
       "      <td>0.0</td>\n",
       "      <td>0.0</td>\n",
       "      <td>0.0</td>\n",
       "      <td>0.0</td>\n",
       "      <td>0.0</td>\n",
       "      <td>0.0</td>\n",
       "      <td>0.0</td>\n",
       "      <td>0.0</td>\n",
       "      <td>0.0</td>\n",
       "      <td>0.0</td>\n",
       "      <td>0.0</td>\n",
       "      <td>0.0</td>\n",
       "      <td>0.0</td>\n",
       "      <td>0.0</td>\n",
       "      <td>0.0</td>\n",
       "      <td>0.0</td>\n",
       "      <td>0.0</td>\n",
       "      <td>0.0</td>\n",
       "      <td>0.0</td>\n",
       "      <td>0.0</td>\n",
       "      <td>0.0</td>\n",
       "      <td>0.0</td>\n",
       "      <td>0.0</td>\n",
       "      <td>0.0</td>\n",
       "      <td>0.0</td>\n",
       "      <td>0.0</td>\n",
       "      <td>0.0</td>\n",
       "      <td>0.0</td>\n",
       "      <td>0.0</td>\n",
       "      <td>0.0</td>\n",
       "      <td>0.0</td>\n",
       "      <td>0.0</td>\n",
       "      <td>0.0</td>\n",
       "      <td>0.0</td>\n",
       "      <td>0.0</td>\n",
       "      <td>0.0</td>\n",
       "      <td>0.0</td>\n",
       "      <td>0.0</td>\n",
       "      <td>0.0</td>\n",
       "      <td>0.0</td>\n",
       "      <td>1.0</td>\n",
       "      <td>0.0</td>\n",
       "      <td>1.0</td>\n",
       "      <td>0.0</td>\n",
       "      <td>0.0</td>\n",
       "      <td>0.0</td>\n",
       "      <td>0.0</td>\n",
       "      <td>0.0</td>\n",
       "      <td>0.0</td>\n",
       "      <td>0.0</td>\n",
       "      <td>0.0</td>\n",
       "      <td>0.0</td>\n",
       "      <td>0.0</td>\n",
       "      <td>0.0</td>\n",
       "      <td>0.0</td>\n",
       "      <td>0.0</td>\n",
       "      <td>0.0</td>\n",
       "      <td>0.0</td>\n",
       "      <td>0.0</td>\n",
       "      <td>0.0</td>\n",
       "      <td>0.0</td>\n",
       "      <td>0.0</td>\n",
       "      <td>0.0</td>\n",
       "      <td>0.0</td>\n",
       "      <td>0.0</td>\n",
       "      <td>0.0</td>\n",
       "      <td>0.0</td>\n",
       "      <td>0.0</td>\n",
       "      <td>0.0</td>\n",
       "      <td>0.0</td>\n",
       "      <td>0.0</td>\n",
       "      <td>0.0</td>\n",
       "      <td>0.0</td>\n",
       "      <td>0.0</td>\n",
       "      <td>0.0</td>\n",
       "      <td>0.0</td>\n",
       "      <td>0.0</td>\n",
       "      <td>0.0</td>\n",
       "      <td>0.0</td>\n",
       "      <td>0.0</td>\n",
       "      <td>0.0</td>\n",
       "      <td>0.0</td>\n",
       "    </tr>\n",
       "    <tr>\n",
       "      <th>32282</th>\n",
       "      <td>0.812074</td>\n",
       "      <td>2.740883</td>\n",
       "      <td>0.586264</td>\n",
       "      <td>-1.309158</td>\n",
       "      <td>0.0</td>\n",
       "      <td>1.0</td>\n",
       "      <td>0.0</td>\n",
       "      <td>0.0</td>\n",
       "      <td>0.0</td>\n",
       "      <td>0.0</td>\n",
       "      <td>0.0</td>\n",
       "      <td>0.0</td>\n",
       "      <td>1.0</td>\n",
       "      <td>0.0</td>\n",
       "      <td>0.0</td>\n",
       "      <td>0.0</td>\n",
       "      <td>0.0</td>\n",
       "      <td>0.0</td>\n",
       "      <td>0.0</td>\n",
       "      <td>0.0</td>\n",
       "      <td>0.0</td>\n",
       "      <td>0.0</td>\n",
       "      <td>0.0</td>\n",
       "      <td>0.0</td>\n",
       "      <td>0.0</td>\n",
       "      <td>0.0</td>\n",
       "      <td>0.0</td>\n",
       "      <td>0.0</td>\n",
       "      <td>0.0</td>\n",
       "      <td>0.0</td>\n",
       "      <td>0.0</td>\n",
       "      <td>0.0</td>\n",
       "      <td>0.0</td>\n",
       "      <td>0.0</td>\n",
       "      <td>0.0</td>\n",
       "      <td>0.0</td>\n",
       "      <td>0.0</td>\n",
       "      <td>0.0</td>\n",
       "      <td>0.0</td>\n",
       "      <td>0.0</td>\n",
       "      <td>0.0</td>\n",
       "      <td>0.0</td>\n",
       "      <td>1.0</td>\n",
       "      <td>0.0</td>\n",
       "      <td>0.0</td>\n",
       "      <td>0.0</td>\n",
       "      <td>0.0</td>\n",
       "      <td>0.0</td>\n",
       "      <td>0.0</td>\n",
       "      <td>0.0</td>\n",
       "      <td>0.0</td>\n",
       "      <td>0.0</td>\n",
       "      <td>0.0</td>\n",
       "      <td>0.0</td>\n",
       "      <td>0.0</td>\n",
       "      <td>0.0</td>\n",
       "      <td>0.0</td>\n",
       "      <td>0.0</td>\n",
       "      <td>0.0</td>\n",
       "      <td>0.0</td>\n",
       "      <td>0.0</td>\n",
       "      <td>0.0</td>\n",
       "      <td>0.0</td>\n",
       "      <td>0.0</td>\n",
       "      <td>0.0</td>\n",
       "      <td>0.0</td>\n",
       "      <td>0.0</td>\n",
       "      <td>0.0</td>\n",
       "      <td>0.0</td>\n",
       "      <td>0.0</td>\n",
       "      <td>0.0</td>\n",
       "      <td>0.0</td>\n",
       "      <td>0.0</td>\n",
       "      <td>0.0</td>\n",
       "      <td>0.0</td>\n",
       "      <td>0.0</td>\n",
       "      <td>0.0</td>\n",
       "      <td>0.0</td>\n",
       "      <td>0.0</td>\n",
       "      <td>0.0</td>\n",
       "      <td>0.0</td>\n",
       "      <td>0.0</td>\n",
       "      <td>0.0</td>\n",
       "      <td>0.0</td>\n",
       "      <td>0.0</td>\n",
       "      <td>0.0</td>\n",
       "      <td>0.0</td>\n",
       "      <td>0.0</td>\n",
       "      <td>0.0</td>\n",
       "      <td>0.0</td>\n",
       "      <td>0.0</td>\n",
       "      <td>0.0</td>\n",
       "      <td>0.0</td>\n",
       "      <td>0.0</td>\n",
       "      <td>0.0</td>\n",
       "      <td>0.0</td>\n",
       "      <td>0.0</td>\n",
       "      <td>0.0</td>\n",
       "      <td>0.0</td>\n",
       "      <td>0.0</td>\n",
       "      <td>0.0</td>\n",
       "      <td>0.0</td>\n",
       "      <td>0.0</td>\n",
       "      <td>0.0</td>\n",
       "      <td>0.0</td>\n",
       "      <td>0.0</td>\n",
       "      <td>0.0</td>\n",
       "      <td>0.0</td>\n",
       "      <td>0.0</td>\n",
       "      <td>0.0</td>\n",
       "      <td>0.0</td>\n",
       "      <td>0.0</td>\n",
       "      <td>0.0</td>\n",
       "      <td>0.0</td>\n",
       "      <td>0.0</td>\n",
       "      <td>0.0</td>\n",
       "      <td>0.0</td>\n",
       "      <td>0.0</td>\n",
       "      <td>0.0</td>\n",
       "      <td>0.0</td>\n",
       "      <td>0.0</td>\n",
       "      <td>0.0</td>\n",
       "      <td>0.0</td>\n",
       "      <td>0.0</td>\n",
       "      <td>0.0</td>\n",
       "      <td>0.0</td>\n",
       "      <td>0.0</td>\n",
       "      <td>0.0</td>\n",
       "      <td>0.0</td>\n",
       "      <td>0.0</td>\n",
       "      <td>0.0</td>\n",
       "      <td>0.0</td>\n",
       "      <td>0.0</td>\n",
       "      <td>0.0</td>\n",
       "      <td>0.0</td>\n",
       "      <td>0.0</td>\n",
       "      <td>0.0</td>\n",
       "      <td>0.0</td>\n",
       "      <td>0.0</td>\n",
       "      <td>0.0</td>\n",
       "      <td>0.0</td>\n",
       "      <td>0.0</td>\n",
       "      <td>0.0</td>\n",
       "      <td>0.0</td>\n",
       "      <td>0.0</td>\n",
       "      <td>0.0</td>\n",
       "      <td>0.0</td>\n",
       "      <td>0.0</td>\n",
       "      <td>0.0</td>\n",
       "      <td>0.0</td>\n",
       "      <td>0.0</td>\n",
       "      <td>0.0</td>\n",
       "      <td>0.0</td>\n",
       "      <td>0.0</td>\n",
       "      <td>0.0</td>\n",
       "      <td>0.0</td>\n",
       "      <td>0.0</td>\n",
       "      <td>0.0</td>\n",
       "      <td>0.0</td>\n",
       "      <td>0.0</td>\n",
       "      <td>0.0</td>\n",
       "      <td>0.0</td>\n",
       "      <td>0.0</td>\n",
       "      <td>0.0</td>\n",
       "      <td>0.0</td>\n",
       "      <td>0.0</td>\n",
       "      <td>0.0</td>\n",
       "      <td>0.0</td>\n",
       "      <td>0.0</td>\n",
       "      <td>0.0</td>\n",
       "      <td>0.0</td>\n",
       "      <td>0.0</td>\n",
       "      <td>0.0</td>\n",
       "      <td>0.0</td>\n",
       "      <td>0.0</td>\n",
       "      <td>0.0</td>\n",
       "      <td>0.0</td>\n",
       "      <td>0.0</td>\n",
       "      <td>0.0</td>\n",
       "      <td>0.0</td>\n",
       "      <td>0.0</td>\n",
       "      <td>0.0</td>\n",
       "      <td>0.0</td>\n",
       "      <td>0.0</td>\n",
       "      <td>0.0</td>\n",
       "      <td>0.0</td>\n",
       "      <td>0.0</td>\n",
       "      <td>0.0</td>\n",
       "      <td>0.0</td>\n",
       "      <td>0.0</td>\n",
       "      <td>0.0</td>\n",
       "      <td>0.0</td>\n",
       "      <td>0.0</td>\n",
       "      <td>0.0</td>\n",
       "      <td>0.0</td>\n",
       "      <td>0.0</td>\n",
       "      <td>0.0</td>\n",
       "      <td>0.0</td>\n",
       "      <td>0.0</td>\n",
       "      <td>0.0</td>\n",
       "      <td>0.0</td>\n",
       "      <td>0.0</td>\n",
       "      <td>0.0</td>\n",
       "      <td>0.0</td>\n",
       "      <td>0.0</td>\n",
       "      <td>0.0</td>\n",
       "      <td>0.0</td>\n",
       "      <td>0.0</td>\n",
       "      <td>0.0</td>\n",
       "      <td>0.0</td>\n",
       "      <td>0.0</td>\n",
       "      <td>0.0</td>\n",
       "      <td>0.0</td>\n",
       "      <td>0.0</td>\n",
       "      <td>0.0</td>\n",
       "      <td>0.0</td>\n",
       "      <td>0.0</td>\n",
       "      <td>0.0</td>\n",
       "      <td>0.0</td>\n",
       "      <td>0.0</td>\n",
       "      <td>0.0</td>\n",
       "      <td>0.0</td>\n",
       "      <td>0.0</td>\n",
       "      <td>0.0</td>\n",
       "      <td>0.0</td>\n",
       "      <td>0.0</td>\n",
       "      <td>0.0</td>\n",
       "      <td>0.0</td>\n",
       "      <td>0.0</td>\n",
       "      <td>0.0</td>\n",
       "      <td>0.0</td>\n",
       "      <td>0.0</td>\n",
       "      <td>0.0</td>\n",
       "      <td>0.0</td>\n",
       "      <td>0.0</td>\n",
       "      <td>0.0</td>\n",
       "      <td>0.0</td>\n",
       "      <td>0.0</td>\n",
       "      <td>0.0</td>\n",
       "      <td>0.0</td>\n",
       "      <td>0.0</td>\n",
       "      <td>0.0</td>\n",
       "      <td>0.0</td>\n",
       "      <td>0.0</td>\n",
       "      <td>0.0</td>\n",
       "      <td>0.0</td>\n",
       "      <td>0.0</td>\n",
       "      <td>0.0</td>\n",
       "      <td>0.0</td>\n",
       "      <td>0.0</td>\n",
       "      <td>0.0</td>\n",
       "      <td>0.0</td>\n",
       "      <td>0.0</td>\n",
       "      <td>0.0</td>\n",
       "      <td>0.0</td>\n",
       "      <td>0.0</td>\n",
       "      <td>0.0</td>\n",
       "      <td>0.0</td>\n",
       "      <td>0.0</td>\n",
       "      <td>0.0</td>\n",
       "      <td>0.0</td>\n",
       "      <td>0.0</td>\n",
       "      <td>1.0</td>\n",
       "      <td>0.0</td>\n",
       "      <td>0.0</td>\n",
       "      <td>0.0</td>\n",
       "      <td>0.0</td>\n",
       "      <td>0.0</td>\n",
       "      <td>1.0</td>\n",
       "      <td>0.0</td>\n",
       "      <td>0.0</td>\n",
       "      <td>0.0</td>\n",
       "      <td>0.0</td>\n",
       "      <td>0.0</td>\n",
       "      <td>0.0</td>\n",
       "      <td>0.0</td>\n",
       "      <td>0.0</td>\n",
       "      <td>0.0</td>\n",
       "      <td>0.0</td>\n",
       "      <td>0.0</td>\n",
       "      <td>0.0</td>\n",
       "      <td>0.0</td>\n",
       "      <td>0.0</td>\n",
       "      <td>0.0</td>\n",
       "      <td>0.0</td>\n",
       "      <td>0.0</td>\n",
       "      <td>0.0</td>\n",
       "      <td>0.0</td>\n",
       "      <td>0.0</td>\n",
       "      <td>0.0</td>\n",
       "      <td>0.0</td>\n",
       "      <td>0.0</td>\n",
       "      <td>0.0</td>\n",
       "      <td>0.0</td>\n",
       "      <td>0.0</td>\n",
       "      <td>0.0</td>\n",
       "      <td>0.0</td>\n",
       "      <td>0.0</td>\n",
       "      <td>0.0</td>\n",
       "      <td>0.0</td>\n",
       "      <td>0.0</td>\n",
       "      <td>0.0</td>\n",
       "      <td>0.0</td>\n",
       "      <td>0.0</td>\n",
       "      <td>0.0</td>\n",
       "      <td>0.0</td>\n",
       "      <td>0.0</td>\n",
       "      <td>0.0</td>\n",
       "    </tr>\n",
       "    <tr>\n",
       "      <th>199555</th>\n",
       "      <td>-0.659652</td>\n",
       "      <td>0.149871</td>\n",
       "      <td>0.586264</td>\n",
       "      <td>1.082000</td>\n",
       "      <td>0.0</td>\n",
       "      <td>0.0</td>\n",
       "      <td>0.0</td>\n",
       "      <td>0.0</td>\n",
       "      <td>0.0</td>\n",
       "      <td>0.0</td>\n",
       "      <td>0.0</td>\n",
       "      <td>1.0</td>\n",
       "      <td>1.0</td>\n",
       "      <td>0.0</td>\n",
       "      <td>0.0</td>\n",
       "      <td>0.0</td>\n",
       "      <td>0.0</td>\n",
       "      <td>0.0</td>\n",
       "      <td>0.0</td>\n",
       "      <td>0.0</td>\n",
       "      <td>0.0</td>\n",
       "      <td>0.0</td>\n",
       "      <td>0.0</td>\n",
       "      <td>0.0</td>\n",
       "      <td>0.0</td>\n",
       "      <td>0.0</td>\n",
       "      <td>0.0</td>\n",
       "      <td>0.0</td>\n",
       "      <td>0.0</td>\n",
       "      <td>0.0</td>\n",
       "      <td>0.0</td>\n",
       "      <td>0.0</td>\n",
       "      <td>0.0</td>\n",
       "      <td>0.0</td>\n",
       "      <td>0.0</td>\n",
       "      <td>0.0</td>\n",
       "      <td>0.0</td>\n",
       "      <td>0.0</td>\n",
       "      <td>0.0</td>\n",
       "      <td>0.0</td>\n",
       "      <td>0.0</td>\n",
       "      <td>0.0</td>\n",
       "      <td>0.0</td>\n",
       "      <td>0.0</td>\n",
       "      <td>0.0</td>\n",
       "      <td>0.0</td>\n",
       "      <td>0.0</td>\n",
       "      <td>0.0</td>\n",
       "      <td>0.0</td>\n",
       "      <td>0.0</td>\n",
       "      <td>0.0</td>\n",
       "      <td>0.0</td>\n",
       "      <td>0.0</td>\n",
       "      <td>0.0</td>\n",
       "      <td>0.0</td>\n",
       "      <td>0.0</td>\n",
       "      <td>0.0</td>\n",
       "      <td>0.0</td>\n",
       "      <td>0.0</td>\n",
       "      <td>0.0</td>\n",
       "      <td>0.0</td>\n",
       "      <td>0.0</td>\n",
       "      <td>0.0</td>\n",
       "      <td>0.0</td>\n",
       "      <td>0.0</td>\n",
       "      <td>0.0</td>\n",
       "      <td>0.0</td>\n",
       "      <td>0.0</td>\n",
       "      <td>0.0</td>\n",
       "      <td>0.0</td>\n",
       "      <td>0.0</td>\n",
       "      <td>0.0</td>\n",
       "      <td>0.0</td>\n",
       "      <td>0.0</td>\n",
       "      <td>0.0</td>\n",
       "      <td>0.0</td>\n",
       "      <td>0.0</td>\n",
       "      <td>0.0</td>\n",
       "      <td>0.0</td>\n",
       "      <td>0.0</td>\n",
       "      <td>0.0</td>\n",
       "      <td>0.0</td>\n",
       "      <td>0.0</td>\n",
       "      <td>0.0</td>\n",
       "      <td>0.0</td>\n",
       "      <td>0.0</td>\n",
       "      <td>0.0</td>\n",
       "      <td>0.0</td>\n",
       "      <td>0.0</td>\n",
       "      <td>0.0</td>\n",
       "      <td>0.0</td>\n",
       "      <td>0.0</td>\n",
       "      <td>0.0</td>\n",
       "      <td>0.0</td>\n",
       "      <td>0.0</td>\n",
       "      <td>0.0</td>\n",
       "      <td>0.0</td>\n",
       "      <td>0.0</td>\n",
       "      <td>0.0</td>\n",
       "      <td>0.0</td>\n",
       "      <td>0.0</td>\n",
       "      <td>0.0</td>\n",
       "      <td>0.0</td>\n",
       "      <td>0.0</td>\n",
       "      <td>0.0</td>\n",
       "      <td>0.0</td>\n",
       "      <td>0.0</td>\n",
       "      <td>0.0</td>\n",
       "      <td>0.0</td>\n",
       "      <td>0.0</td>\n",
       "      <td>0.0</td>\n",
       "      <td>0.0</td>\n",
       "      <td>0.0</td>\n",
       "      <td>0.0</td>\n",
       "      <td>0.0</td>\n",
       "      <td>1.0</td>\n",
       "      <td>0.0</td>\n",
       "      <td>0.0</td>\n",
       "      <td>0.0</td>\n",
       "      <td>0.0</td>\n",
       "      <td>0.0</td>\n",
       "      <td>0.0</td>\n",
       "      <td>0.0</td>\n",
       "      <td>0.0</td>\n",
       "      <td>0.0</td>\n",
       "      <td>0.0</td>\n",
       "      <td>0.0</td>\n",
       "      <td>0.0</td>\n",
       "      <td>0.0</td>\n",
       "      <td>0.0</td>\n",
       "      <td>0.0</td>\n",
       "      <td>0.0</td>\n",
       "      <td>0.0</td>\n",
       "      <td>0.0</td>\n",
       "      <td>0.0</td>\n",
       "      <td>0.0</td>\n",
       "      <td>0.0</td>\n",
       "      <td>0.0</td>\n",
       "      <td>0.0</td>\n",
       "      <td>0.0</td>\n",
       "      <td>0.0</td>\n",
       "      <td>0.0</td>\n",
       "      <td>0.0</td>\n",
       "      <td>0.0</td>\n",
       "      <td>0.0</td>\n",
       "      <td>0.0</td>\n",
       "      <td>0.0</td>\n",
       "      <td>0.0</td>\n",
       "      <td>0.0</td>\n",
       "      <td>0.0</td>\n",
       "      <td>0.0</td>\n",
       "      <td>0.0</td>\n",
       "      <td>0.0</td>\n",
       "      <td>0.0</td>\n",
       "      <td>0.0</td>\n",
       "      <td>0.0</td>\n",
       "      <td>0.0</td>\n",
       "      <td>0.0</td>\n",
       "      <td>0.0</td>\n",
       "      <td>0.0</td>\n",
       "      <td>0.0</td>\n",
       "      <td>0.0</td>\n",
       "      <td>0.0</td>\n",
       "      <td>0.0</td>\n",
       "      <td>0.0</td>\n",
       "      <td>0.0</td>\n",
       "      <td>0.0</td>\n",
       "      <td>0.0</td>\n",
       "      <td>0.0</td>\n",
       "      <td>0.0</td>\n",
       "      <td>0.0</td>\n",
       "      <td>0.0</td>\n",
       "      <td>0.0</td>\n",
       "      <td>0.0</td>\n",
       "      <td>0.0</td>\n",
       "      <td>0.0</td>\n",
       "      <td>0.0</td>\n",
       "      <td>0.0</td>\n",
       "      <td>0.0</td>\n",
       "      <td>0.0</td>\n",
       "      <td>0.0</td>\n",
       "      <td>0.0</td>\n",
       "      <td>0.0</td>\n",
       "      <td>0.0</td>\n",
       "      <td>0.0</td>\n",
       "      <td>0.0</td>\n",
       "      <td>0.0</td>\n",
       "      <td>0.0</td>\n",
       "      <td>0.0</td>\n",
       "      <td>0.0</td>\n",
       "      <td>0.0</td>\n",
       "      <td>0.0</td>\n",
       "      <td>0.0</td>\n",
       "      <td>0.0</td>\n",
       "      <td>0.0</td>\n",
       "      <td>0.0</td>\n",
       "      <td>0.0</td>\n",
       "      <td>0.0</td>\n",
       "      <td>0.0</td>\n",
       "      <td>0.0</td>\n",
       "      <td>0.0</td>\n",
       "      <td>0.0</td>\n",
       "      <td>0.0</td>\n",
       "      <td>0.0</td>\n",
       "      <td>0.0</td>\n",
       "      <td>0.0</td>\n",
       "      <td>0.0</td>\n",
       "      <td>0.0</td>\n",
       "      <td>0.0</td>\n",
       "      <td>0.0</td>\n",
       "      <td>0.0</td>\n",
       "      <td>0.0</td>\n",
       "      <td>0.0</td>\n",
       "      <td>0.0</td>\n",
       "      <td>0.0</td>\n",
       "      <td>0.0</td>\n",
       "      <td>0.0</td>\n",
       "      <td>0.0</td>\n",
       "      <td>0.0</td>\n",
       "      <td>0.0</td>\n",
       "      <td>0.0</td>\n",
       "      <td>0.0</td>\n",
       "      <td>0.0</td>\n",
       "      <td>0.0</td>\n",
       "      <td>0.0</td>\n",
       "      <td>0.0</td>\n",
       "      <td>0.0</td>\n",
       "      <td>0.0</td>\n",
       "      <td>0.0</td>\n",
       "      <td>0.0</td>\n",
       "      <td>0.0</td>\n",
       "      <td>0.0</td>\n",
       "      <td>0.0</td>\n",
       "      <td>0.0</td>\n",
       "      <td>0.0</td>\n",
       "      <td>0.0</td>\n",
       "      <td>0.0</td>\n",
       "      <td>0.0</td>\n",
       "      <td>0.0</td>\n",
       "      <td>0.0</td>\n",
       "      <td>0.0</td>\n",
       "      <td>0.0</td>\n",
       "      <td>0.0</td>\n",
       "      <td>0.0</td>\n",
       "      <td>0.0</td>\n",
       "      <td>0.0</td>\n",
       "      <td>0.0</td>\n",
       "      <td>0.0</td>\n",
       "      <td>0.0</td>\n",
       "      <td>0.0</td>\n",
       "      <td>0.0</td>\n",
       "      <td>0.0</td>\n",
       "      <td>0.0</td>\n",
       "      <td>0.0</td>\n",
       "      <td>0.0</td>\n",
       "      <td>0.0</td>\n",
       "      <td>0.0</td>\n",
       "      <td>0.0</td>\n",
       "      <td>0.0</td>\n",
       "      <td>0.0</td>\n",
       "      <td>0.0</td>\n",
       "      <td>0.0</td>\n",
       "      <td>0.0</td>\n",
       "      <td>0.0</td>\n",
       "      <td>0.0</td>\n",
       "      <td>0.0</td>\n",
       "      <td>1.0</td>\n",
       "      <td>0.0</td>\n",
       "      <td>0.0</td>\n",
       "      <td>0.0</td>\n",
       "      <td>0.0</td>\n",
       "      <td>0.0</td>\n",
       "      <td>0.0</td>\n",
       "      <td>0.0</td>\n",
       "      <td>0.0</td>\n",
       "      <td>0.0</td>\n",
       "      <td>0.0</td>\n",
       "      <td>1.0</td>\n",
       "      <td>0.0</td>\n",
       "      <td>0.0</td>\n",
       "      <td>0.0</td>\n",
       "      <td>0.0</td>\n",
       "      <td>0.0</td>\n",
       "      <td>0.0</td>\n",
       "      <td>0.0</td>\n",
       "      <td>0.0</td>\n",
       "      <td>0.0</td>\n",
       "      <td>0.0</td>\n",
       "      <td>0.0</td>\n",
       "      <td>0.0</td>\n",
       "      <td>0.0</td>\n",
       "      <td>0.0</td>\n",
       "      <td>0.0</td>\n",
       "      <td>0.0</td>\n",
       "      <td>0.0</td>\n",
       "      <td>0.0</td>\n",
       "      <td>0.0</td>\n",
       "      <td>0.0</td>\n",
       "      <td>0.0</td>\n",
       "      <td>0.0</td>\n",
       "      <td>0.0</td>\n",
       "      <td>0.0</td>\n",
       "      <td>0.0</td>\n",
       "      <td>0.0</td>\n",
       "      <td>0.0</td>\n",
       "      <td>0.0</td>\n",
       "      <td>0.0</td>\n",
       "      <td>1.0</td>\n",
       "    </tr>\n",
       "    <tr>\n",
       "      <th>292618</th>\n",
       "      <td>-0.169077</td>\n",
       "      <td>1.672659</td>\n",
       "      <td>0.586264</td>\n",
       "      <td>-1.010263</td>\n",
       "      <td>0.0</td>\n",
       "      <td>0.0</td>\n",
       "      <td>0.0</td>\n",
       "      <td>0.0</td>\n",
       "      <td>0.0</td>\n",
       "      <td>0.0</td>\n",
       "      <td>0.0</td>\n",
       "      <td>0.0</td>\n",
       "      <td>1.0</td>\n",
       "      <td>0.0</td>\n",
       "      <td>0.0</td>\n",
       "      <td>0.0</td>\n",
       "      <td>0.0</td>\n",
       "      <td>0.0</td>\n",
       "      <td>0.0</td>\n",
       "      <td>0.0</td>\n",
       "      <td>0.0</td>\n",
       "      <td>0.0</td>\n",
       "      <td>0.0</td>\n",
       "      <td>0.0</td>\n",
       "      <td>0.0</td>\n",
       "      <td>0.0</td>\n",
       "      <td>0.0</td>\n",
       "      <td>0.0</td>\n",
       "      <td>0.0</td>\n",
       "      <td>0.0</td>\n",
       "      <td>0.0</td>\n",
       "      <td>0.0</td>\n",
       "      <td>0.0</td>\n",
       "      <td>0.0</td>\n",
       "      <td>0.0</td>\n",
       "      <td>0.0</td>\n",
       "      <td>0.0</td>\n",
       "      <td>0.0</td>\n",
       "      <td>0.0</td>\n",
       "      <td>0.0</td>\n",
       "      <td>0.0</td>\n",
       "      <td>0.0</td>\n",
       "      <td>0.0</td>\n",
       "      <td>0.0</td>\n",
       "      <td>0.0</td>\n",
       "      <td>0.0</td>\n",
       "      <td>0.0</td>\n",
       "      <td>0.0</td>\n",
       "      <td>0.0</td>\n",
       "      <td>0.0</td>\n",
       "      <td>0.0</td>\n",
       "      <td>0.0</td>\n",
       "      <td>0.0</td>\n",
       "      <td>0.0</td>\n",
       "      <td>0.0</td>\n",
       "      <td>0.0</td>\n",
       "      <td>0.0</td>\n",
       "      <td>0.0</td>\n",
       "      <td>0.0</td>\n",
       "      <td>0.0</td>\n",
       "      <td>0.0</td>\n",
       "      <td>0.0</td>\n",
       "      <td>0.0</td>\n",
       "      <td>0.0</td>\n",
       "      <td>0.0</td>\n",
       "      <td>0.0</td>\n",
       "      <td>0.0</td>\n",
       "      <td>0.0</td>\n",
       "      <td>0.0</td>\n",
       "      <td>0.0</td>\n",
       "      <td>0.0</td>\n",
       "      <td>0.0</td>\n",
       "      <td>0.0</td>\n",
       "      <td>0.0</td>\n",
       "      <td>0.0</td>\n",
       "      <td>0.0</td>\n",
       "      <td>0.0</td>\n",
       "      <td>0.0</td>\n",
       "      <td>0.0</td>\n",
       "      <td>0.0</td>\n",
       "      <td>0.0</td>\n",
       "      <td>0.0</td>\n",
       "      <td>0.0</td>\n",
       "      <td>0.0</td>\n",
       "      <td>0.0</td>\n",
       "      <td>0.0</td>\n",
       "      <td>0.0</td>\n",
       "      <td>0.0</td>\n",
       "      <td>0.0</td>\n",
       "      <td>0.0</td>\n",
       "      <td>0.0</td>\n",
       "      <td>0.0</td>\n",
       "      <td>0.0</td>\n",
       "      <td>0.0</td>\n",
       "      <td>0.0</td>\n",
       "      <td>0.0</td>\n",
       "      <td>0.0</td>\n",
       "      <td>0.0</td>\n",
       "      <td>0.0</td>\n",
       "      <td>0.0</td>\n",
       "      <td>0.0</td>\n",
       "      <td>0.0</td>\n",
       "      <td>0.0</td>\n",
       "      <td>0.0</td>\n",
       "      <td>0.0</td>\n",
       "      <td>0.0</td>\n",
       "      <td>0.0</td>\n",
       "      <td>0.0</td>\n",
       "      <td>0.0</td>\n",
       "      <td>0.0</td>\n",
       "      <td>0.0</td>\n",
       "      <td>0.0</td>\n",
       "      <td>0.0</td>\n",
       "      <td>0.0</td>\n",
       "      <td>0.0</td>\n",
       "      <td>0.0</td>\n",
       "      <td>0.0</td>\n",
       "      <td>0.0</td>\n",
       "      <td>0.0</td>\n",
       "      <td>0.0</td>\n",
       "      <td>0.0</td>\n",
       "      <td>0.0</td>\n",
       "      <td>0.0</td>\n",
       "      <td>0.0</td>\n",
       "      <td>0.0</td>\n",
       "      <td>0.0</td>\n",
       "      <td>0.0</td>\n",
       "      <td>0.0</td>\n",
       "      <td>0.0</td>\n",
       "      <td>0.0</td>\n",
       "      <td>0.0</td>\n",
       "      <td>0.0</td>\n",
       "      <td>0.0</td>\n",
       "      <td>0.0</td>\n",
       "      <td>0.0</td>\n",
       "      <td>0.0</td>\n",
       "      <td>0.0</td>\n",
       "      <td>0.0</td>\n",
       "      <td>0.0</td>\n",
       "      <td>0.0</td>\n",
       "      <td>0.0</td>\n",
       "      <td>0.0</td>\n",
       "      <td>0.0</td>\n",
       "      <td>0.0</td>\n",
       "      <td>0.0</td>\n",
       "      <td>0.0</td>\n",
       "      <td>0.0</td>\n",
       "      <td>0.0</td>\n",
       "      <td>0.0</td>\n",
       "      <td>0.0</td>\n",
       "      <td>0.0</td>\n",
       "      <td>0.0</td>\n",
       "      <td>0.0</td>\n",
       "      <td>0.0</td>\n",
       "      <td>0.0</td>\n",
       "      <td>0.0</td>\n",
       "      <td>0.0</td>\n",
       "      <td>0.0</td>\n",
       "      <td>0.0</td>\n",
       "      <td>0.0</td>\n",
       "      <td>0.0</td>\n",
       "      <td>0.0</td>\n",
       "      <td>0.0</td>\n",
       "      <td>0.0</td>\n",
       "      <td>0.0</td>\n",
       "      <td>0.0</td>\n",
       "      <td>0.0</td>\n",
       "      <td>0.0</td>\n",
       "      <td>0.0</td>\n",
       "      <td>0.0</td>\n",
       "      <td>0.0</td>\n",
       "      <td>0.0</td>\n",
       "      <td>0.0</td>\n",
       "      <td>0.0</td>\n",
       "      <td>0.0</td>\n",
       "      <td>0.0</td>\n",
       "      <td>0.0</td>\n",
       "      <td>0.0</td>\n",
       "      <td>0.0</td>\n",
       "      <td>0.0</td>\n",
       "      <td>0.0</td>\n",
       "      <td>0.0</td>\n",
       "      <td>0.0</td>\n",
       "      <td>0.0</td>\n",
       "      <td>0.0</td>\n",
       "      <td>0.0</td>\n",
       "      <td>0.0</td>\n",
       "      <td>0.0</td>\n",
       "      <td>0.0</td>\n",
       "      <td>0.0</td>\n",
       "      <td>0.0</td>\n",
       "      <td>0.0</td>\n",
       "      <td>0.0</td>\n",
       "      <td>0.0</td>\n",
       "      <td>0.0</td>\n",
       "      <td>0.0</td>\n",
       "      <td>0.0</td>\n",
       "      <td>0.0</td>\n",
       "      <td>0.0</td>\n",
       "      <td>0.0</td>\n",
       "      <td>0.0</td>\n",
       "      <td>0.0</td>\n",
       "      <td>0.0</td>\n",
       "      <td>0.0</td>\n",
       "      <td>0.0</td>\n",
       "      <td>0.0</td>\n",
       "      <td>0.0</td>\n",
       "      <td>0.0</td>\n",
       "      <td>0.0</td>\n",
       "      <td>0.0</td>\n",
       "      <td>0.0</td>\n",
       "      <td>0.0</td>\n",
       "      <td>0.0</td>\n",
       "      <td>0.0</td>\n",
       "      <td>0.0</td>\n",
       "      <td>0.0</td>\n",
       "      <td>0.0</td>\n",
       "      <td>0.0</td>\n",
       "      <td>0.0</td>\n",
       "      <td>0.0</td>\n",
       "      <td>0.0</td>\n",
       "      <td>0.0</td>\n",
       "      <td>0.0</td>\n",
       "      <td>0.0</td>\n",
       "      <td>0.0</td>\n",
       "      <td>0.0</td>\n",
       "      <td>0.0</td>\n",
       "      <td>0.0</td>\n",
       "      <td>0.0</td>\n",
       "      <td>0.0</td>\n",
       "      <td>0.0</td>\n",
       "      <td>0.0</td>\n",
       "      <td>0.0</td>\n",
       "      <td>0.0</td>\n",
       "      <td>0.0</td>\n",
       "      <td>0.0</td>\n",
       "      <td>0.0</td>\n",
       "      <td>0.0</td>\n",
       "      <td>0.0</td>\n",
       "      <td>0.0</td>\n",
       "      <td>0.0</td>\n",
       "      <td>0.0</td>\n",
       "      <td>0.0</td>\n",
       "      <td>0.0</td>\n",
       "      <td>0.0</td>\n",
       "      <td>0.0</td>\n",
       "      <td>0.0</td>\n",
       "      <td>0.0</td>\n",
       "      <td>0.0</td>\n",
       "      <td>0.0</td>\n",
       "      <td>0.0</td>\n",
       "      <td>0.0</td>\n",
       "      <td>0.0</td>\n",
       "      <td>0.0</td>\n",
       "      <td>0.0</td>\n",
       "      <td>0.0</td>\n",
       "      <td>0.0</td>\n",
       "      <td>0.0</td>\n",
       "      <td>0.0</td>\n",
       "      <td>0.0</td>\n",
       "      <td>1.0</td>\n",
       "      <td>0.0</td>\n",
       "      <td>0.0</td>\n",
       "      <td>0.0</td>\n",
       "      <td>0.0</td>\n",
       "      <td>0.0</td>\n",
       "      <td>1.0</td>\n",
       "      <td>0.0</td>\n",
       "      <td>0.0</td>\n",
       "      <td>0.0</td>\n",
       "      <td>0.0</td>\n",
       "      <td>0.0</td>\n",
       "      <td>0.0</td>\n",
       "      <td>0.0</td>\n",
       "      <td>0.0</td>\n",
       "      <td>0.0</td>\n",
       "      <td>0.0</td>\n",
       "      <td>0.0</td>\n",
       "      <td>0.0</td>\n",
       "      <td>0.0</td>\n",
       "      <td>0.0</td>\n",
       "      <td>0.0</td>\n",
       "      <td>0.0</td>\n",
       "      <td>0.0</td>\n",
       "      <td>0.0</td>\n",
       "      <td>0.0</td>\n",
       "      <td>0.0</td>\n",
       "      <td>0.0</td>\n",
       "      <td>0.0</td>\n",
       "      <td>0.0</td>\n",
       "      <td>0.0</td>\n",
       "      <td>1.0</td>\n",
       "      <td>0.0</td>\n",
       "      <td>0.0</td>\n",
       "      <td>0.0</td>\n",
       "      <td>0.0</td>\n",
       "      <td>0.0</td>\n",
       "      <td>0.0</td>\n",
       "      <td>0.0</td>\n",
       "      <td>0.0</td>\n",
       "      <td>0.0</td>\n",
       "      <td>0.0</td>\n",
       "      <td>0.0</td>\n",
       "      <td>0.0</td>\n",
       "      <td>0.0</td>\n",
       "      <td>0.0</td>\n",
       "      <td>0.0</td>\n",
       "      <td>0.0</td>\n",
       "    </tr>\n",
       "  </tbody>\n",
       "</table>\n",
       "</div>"
      ],
      "text/plain": [
       "        registration_year     power  kilometer  registration_month  \\\n",
       "312156          -0.659652  1.695387   0.586264           -0.412474   \n",
       "205215          -0.823177  0.149871   0.586264            1.679789   \n",
       "32282            0.812074  2.740883   0.586264           -1.309158   \n",
       "199555          -0.659652  0.149871   0.586264            1.082000   \n",
       "292618          -0.169077  1.672659   0.586264           -1.010263   \n",
       "\n",
       "        vehicle_type_convertible  vehicle_type_coupe  vehicle_type_other  \\\n",
       "312156                       0.0                 0.0                 0.0   \n",
       "205215                       0.0                 0.0                 0.0   \n",
       "32282                        0.0                 1.0                 0.0   \n",
       "199555                       0.0                 0.0                 0.0   \n",
       "292618                       0.0                 0.0                 0.0   \n",
       "\n",
       "        vehicle_type_sedan  vehicle_type_small  vehicle_type_suv  \\\n",
       "312156                 1.0                 0.0               0.0   \n",
       "205215                 0.0                 0.0               0.0   \n",
       "32282                  0.0                 0.0               0.0   \n",
       "199555                 0.0                 0.0               0.0   \n",
       "292618                 0.0                 0.0               0.0   \n",
       "\n",
       "        vehicle_type_unknown  vehicle_type_wagon  gearbox_manual  \\\n",
       "312156                   0.0                 0.0             1.0   \n",
       "205215                   0.0                 1.0             1.0   \n",
       "32282                    0.0                 0.0             1.0   \n",
       "199555                   0.0                 1.0             1.0   \n",
       "292618                   0.0                 0.0             1.0   \n",
       "\n",
       "        gearbox_unknown  model_145  model_147  model_156  model_159  \\\n",
       "312156              0.0        0.0        0.0        0.0        0.0   \n",
       "205215              0.0        0.0        0.0        0.0        0.0   \n",
       "32282               0.0        0.0        0.0        0.0        0.0   \n",
       "199555              0.0        0.0        0.0        0.0        0.0   \n",
       "292618              0.0        0.0        0.0        0.0        0.0   \n",
       "\n",
       "        model_1_reihe  model_1er  model_200  model_2_reihe  model_300c  \\\n",
       "312156            0.0        0.0        0.0            0.0         0.0   \n",
       "205215            0.0        0.0        0.0            0.0         0.0   \n",
       "32282             0.0        0.0        0.0            0.0         0.0   \n",
       "199555            0.0        0.0        0.0            0.0         0.0   \n",
       "292618            0.0        0.0        0.0            0.0         0.0   \n",
       "\n",
       "        model_3_reihe  model_3er  model_4_reihe  model_500  model_5_reihe  \\\n",
       "312156            0.0        0.0            0.0        0.0            0.0   \n",
       "205215            0.0        0.0            0.0        0.0            0.0   \n",
       "32282             0.0        0.0            0.0        0.0            0.0   \n",
       "199555            0.0        0.0            0.0        0.0            0.0   \n",
       "292618            0.0        0.0            0.0        0.0            0.0   \n",
       "\n",
       "        model_5er  model_6_reihe  model_6er  model_7er  model_80  model_850  \\\n",
       "312156        0.0            0.0        0.0        0.0       0.0        0.0   \n",
       "205215        0.0            0.0        0.0        0.0       0.0        0.0   \n",
       "32282         0.0            0.0        0.0        0.0       0.0        0.0   \n",
       "199555        0.0            0.0        0.0        0.0       0.0        0.0   \n",
       "292618        0.0            0.0        0.0        0.0       0.0        0.0   \n",
       "\n",
       "        model_90  model_900  model_9000  model_911  model_a1  model_a2  \\\n",
       "312156       0.0        0.0         0.0        0.0       0.0       0.0   \n",
       "205215       0.0        0.0         0.0        0.0       0.0       0.0   \n",
       "32282        0.0        0.0         0.0        0.0       0.0       0.0   \n",
       "199555       0.0        0.0         0.0        0.0       0.0       0.0   \n",
       "292618       0.0        0.0         0.0        0.0       0.0       0.0   \n",
       "\n",
       "        model_a3  model_a4  model_a5  model_a6  model_a8  model_a_klasse  \\\n",
       "312156       0.0       0.0       0.0       0.0       0.0             0.0   \n",
       "205215       0.0       1.0       0.0       0.0       0.0             0.0   \n",
       "32282        0.0       0.0       1.0       0.0       0.0             0.0   \n",
       "199555       0.0       0.0       0.0       0.0       0.0             0.0   \n",
       "292618       0.0       0.0       0.0       0.0       0.0             0.0   \n",
       "\n",
       "        model_accord  model_agila  model_alhambra  model_almera  model_altea  \\\n",
       "312156           0.0          0.0             0.0           0.0          0.0   \n",
       "205215           0.0          0.0             0.0           0.0          0.0   \n",
       "32282            0.0          0.0             0.0           0.0          0.0   \n",
       "199555           0.0          0.0             0.0           0.0          0.0   \n",
       "292618           0.0          0.0             0.0           0.0          0.0   \n",
       "\n",
       "        model_amarok  model_antara  model_arosa  model_astra  model_auris  \\\n",
       "312156           0.0           0.0          0.0          0.0          0.0   \n",
       "205215           0.0           0.0          0.0          0.0          0.0   \n",
       "32282            0.0           0.0          0.0          0.0          0.0   \n",
       "199555           0.0           0.0          0.0          0.0          0.0   \n",
       "292618           0.0           0.0          0.0          0.0          0.0   \n",
       "\n",
       "        model_avensis  model_aveo  model_aygo  model_b_klasse  model_b_max  \\\n",
       "312156            0.0         0.0         0.0             0.0          0.0   \n",
       "205215            0.0         0.0         0.0             0.0          0.0   \n",
       "32282             0.0         0.0         0.0             0.0          0.0   \n",
       "199555            0.0         0.0         0.0             0.0          0.0   \n",
       "292618            0.0         0.0         0.0             0.0          0.0   \n",
       "\n",
       "        model_beetle  model_berlingo  model_bora  model_boxster  model_bravo  \\\n",
       "312156           0.0             0.0         0.0            0.0          0.0   \n",
       "205215           0.0             0.0         0.0            0.0          0.0   \n",
       "32282            0.0             0.0         0.0            0.0          0.0   \n",
       "199555           0.0             0.0         0.0            0.0          0.0   \n",
       "292618           0.0             0.0         0.0            0.0          0.0   \n",
       "\n",
       "        model_c1  model_c2  model_c3  model_c4  model_c5  model_c_klasse  \\\n",
       "312156       0.0       0.0       0.0       0.0       0.0             0.0   \n",
       "205215       0.0       0.0       0.0       0.0       0.0             0.0   \n",
       "32282        0.0       0.0       0.0       0.0       0.0             0.0   \n",
       "199555       0.0       0.0       0.0       0.0       0.0             0.0   \n",
       "292618       0.0       0.0       0.0       0.0       0.0             0.0   \n",
       "\n",
       "        model_c_max  model_c_reihe  model_caddy  model_calibra  model_captiva  \\\n",
       "312156          0.0            0.0          0.0            0.0            0.0   \n",
       "205215          0.0            0.0          0.0            0.0            0.0   \n",
       "32282           0.0            0.0          0.0            0.0            0.0   \n",
       "199555          0.0            0.0          0.0            0.0            0.0   \n",
       "292618          0.0            0.0          0.0            0.0            0.0   \n",
       "\n",
       "        model_carisma  model_carnival  model_cayenne  model_cc  model_ceed  \\\n",
       "312156            0.0             0.0            0.0       0.0         0.0   \n",
       "205215            0.0             0.0            0.0       0.0         0.0   \n",
       "32282             0.0             0.0            0.0       0.0         0.0   \n",
       "199555            0.0             0.0            0.0       0.0         0.0   \n",
       "292618            0.0             0.0            0.0       0.0         0.0   \n",
       "\n",
       "        model_charade  model_cherokee  model_citigo  model_civic  model_cl  \\\n",
       "312156            0.0             0.0           0.0          0.0       0.0   \n",
       "205215            0.0             0.0           0.0          0.0       0.0   \n",
       "32282             0.0             0.0           0.0          0.0       0.0   \n",
       "199555            0.0             0.0           0.0          0.0       0.0   \n",
       "292618            0.0             0.0           0.0          0.0       0.0   \n",
       "\n",
       "        model_clio  model_clk  model_clubman  model_colt  model_combo  \\\n",
       "312156         0.0        0.0            0.0         0.0          0.0   \n",
       "205215         0.0        0.0            0.0         0.0          0.0   \n",
       "32282          0.0        0.0            0.0         0.0          0.0   \n",
       "199555         0.0        0.0            0.0         0.0          0.0   \n",
       "292618         0.0        0.0            0.0         0.0          0.0   \n",
       "\n",
       "        model_cooper  model_cordoba  model_corolla  model_corsa  \\\n",
       "312156           0.0            0.0            0.0          0.0   \n",
       "205215           0.0            0.0            0.0          0.0   \n",
       "32282            0.0            0.0            0.0          0.0   \n",
       "199555           0.0            0.0            0.0          0.0   \n",
       "292618           0.0            0.0            0.0          0.0   \n",
       "\n",
       "        model_cr_reihe  model_croma  model_crossfire  model_cuore  \\\n",
       "312156             0.0          0.0              0.0          0.0   \n",
       "205215             0.0          0.0              0.0          0.0   \n",
       "32282              0.0          0.0              0.0          0.0   \n",
       "199555             0.0          0.0              0.0          0.0   \n",
       "292618             0.0          0.0              0.0          0.0   \n",
       "\n",
       "        model_cx_reihe  model_defender  model_delta  model_discovery  \\\n",
       "312156             0.0             0.0          0.0              0.0   \n",
       "205215             0.0             0.0          0.0              0.0   \n",
       "32282              0.0             0.0          0.0              0.0   \n",
       "199555             0.0             0.0          0.0              0.0   \n",
       "292618             0.0             0.0          0.0              0.0   \n",
       "\n",
       "        model_doblo  model_ducato  model_duster  model_e_klasse  \\\n",
       "312156          0.0           0.0           0.0             0.0   \n",
       "205215          0.0           0.0           0.0             0.0   \n",
       "32282           0.0           0.0           0.0             0.0   \n",
       "199555          0.0           0.0           0.0             0.0   \n",
       "292618          0.0           0.0           0.0             0.0   \n",
       "\n",
       "        model_elefantino  model_eos  model_escort  model_espace  model_exeo  \\\n",
       "312156               0.0        0.0           0.0           0.0         0.0   \n",
       "205215               0.0        0.0           0.0           0.0         0.0   \n",
       "32282                0.0        0.0           0.0           0.0         0.0   \n",
       "199555               0.0        0.0           0.0           0.0         0.0   \n",
       "292618               0.0        0.0           0.0           0.0         0.0   \n",
       "\n",
       "        model_fabia  model_fiesta  model_focus  model_forester  model_forfour  \\\n",
       "312156          0.0           0.0          0.0             0.0            0.0   \n",
       "205215          0.0           0.0          0.0             0.0            0.0   \n",
       "32282           0.0           0.0          0.0             0.0            0.0   \n",
       "199555          0.0           0.0          1.0             0.0            0.0   \n",
       "292618          0.0           0.0          0.0             0.0            0.0   \n",
       "\n",
       "        model_fortwo  model_fox  model_freelander  model_fusion  \\\n",
       "312156           0.0        0.0               0.0           0.0   \n",
       "205215           0.0        0.0               0.0           0.0   \n",
       "32282            0.0        0.0               0.0           0.0   \n",
       "199555           0.0        0.0               0.0           0.0   \n",
       "292618           0.0        0.0               0.0           0.0   \n",
       "\n",
       "        model_g_klasse  model_galant  model_galaxy  model_getz  model_gl  \\\n",
       "312156             0.0           0.0           0.0         0.0       0.0   \n",
       "205215             0.0           0.0           0.0         0.0       0.0   \n",
       "32282              0.0           0.0           0.0         0.0       0.0   \n",
       "199555             0.0           0.0           0.0         0.0       0.0   \n",
       "292618             0.0           0.0           0.0         0.0       0.0   \n",
       "\n",
       "        model_glk  model_golf  model_grand  model_i3  model_i_reihe  \\\n",
       "312156        0.0         0.0          0.0       0.0            0.0   \n",
       "205215        0.0         0.0          0.0       0.0            0.0   \n",
       "32282         0.0         0.0          0.0       0.0            0.0   \n",
       "199555        0.0         0.0          0.0       0.0            0.0   \n",
       "292618        0.0         0.0          0.0       0.0            0.0   \n",
       "\n",
       "        model_ibiza  model_impreza  model_insignia  model_jazz  model_jetta  \\\n",
       "312156          0.0            0.0             0.0         0.0          0.0   \n",
       "205215          0.0            0.0             0.0         0.0          0.0   \n",
       "32282           0.0            0.0             0.0         0.0          0.0   \n",
       "199555          0.0            0.0             0.0         0.0          0.0   \n",
       "292618          0.0            0.0             0.0         0.0          0.0   \n",
       "\n",
       "        model_jimny  model_juke  model_justy  model_ka  model_kadett  \\\n",
       "312156          0.0         0.0          0.0       0.0           0.0   \n",
       "205215          0.0         0.0          0.0       0.0           0.0   \n",
       "32282           0.0         0.0          0.0       0.0           0.0   \n",
       "199555          0.0         0.0          0.0       0.0           0.0   \n",
       "292618          0.0         0.0          0.0       0.0           0.0   \n",
       "\n",
       "        model_kaefer  model_kalina  model_kalos  model_kangoo  model_kappa  \\\n",
       "312156           0.0           0.0          0.0           0.0          0.0   \n",
       "205215           0.0           0.0          0.0           0.0          0.0   \n",
       "32282            0.0           0.0          0.0           0.0          0.0   \n",
       "199555           0.0           0.0          0.0           0.0          0.0   \n",
       "292618           0.0           0.0          0.0           0.0          0.0   \n",
       "\n",
       "        model_kuga  model_laguna  model_lancer  model_lanos  model_legacy  \\\n",
       "312156         0.0           0.0           0.0          0.0           0.0   \n",
       "205215         0.0           0.0           0.0          0.0           0.0   \n",
       "32282          0.0           0.0           0.0          0.0           0.0   \n",
       "199555         0.0           0.0           0.0          0.0           0.0   \n",
       "292618         0.0           0.0           0.0          0.0           0.0   \n",
       "\n",
       "        model_leon  model_lodgy  model_logan  model_lupo  model_lybra  \\\n",
       "312156         0.0          0.0          0.0         0.0          0.0   \n",
       "205215         0.0          0.0          0.0         0.0          0.0   \n",
       "32282          0.0          0.0          0.0         0.0          0.0   \n",
       "199555         0.0          0.0          0.0         0.0          0.0   \n",
       "292618         0.0          0.0          0.0         0.0          0.0   \n",
       "\n",
       "        model_m_klasse  model_m_reihe  model_materia  model_matiz  \\\n",
       "312156             0.0            0.0            0.0          0.0   \n",
       "205215             0.0            0.0            0.0          0.0   \n",
       "32282              0.0            0.0            0.0          0.0   \n",
       "199555             0.0            0.0            0.0          0.0   \n",
       "292618             0.0            0.0            0.0          0.0   \n",
       "\n",
       "        model_megane  model_meriva  model_micra  model_mii  model_modus  \\\n",
       "312156           0.0           0.0          0.0        0.0          0.0   \n",
       "205215           0.0           0.0          0.0        0.0          0.0   \n",
       "32282            0.0           0.0          0.0        0.0          0.0   \n",
       "199555           0.0           0.0          0.0        0.0          0.0   \n",
       "292618           0.0           0.0          0.0        0.0          0.0   \n",
       "\n",
       "        model_mondeo  model_move  model_musa  model_mustang  model_mx_reihe  \\\n",
       "312156           0.0         0.0         0.0            0.0             0.0   \n",
       "205215           0.0         0.0         0.0            0.0             0.0   \n",
       "32282            0.0         0.0         0.0            0.0             0.0   \n",
       "199555           0.0         0.0         0.0            0.0             0.0   \n",
       "292618           0.0         0.0         0.0            0.0             0.0   \n",
       "\n",
       "        model_navara  model_niva  model_note  model_nubira  model_octavia  \\\n",
       "312156           0.0         0.0         0.0           0.0            0.0   \n",
       "205215           0.0         0.0         0.0           0.0            0.0   \n",
       "32282            0.0         0.0         0.0           0.0            0.0   \n",
       "199555           0.0         0.0         0.0           0.0            0.0   \n",
       "292618           0.0         0.0         0.0           0.0            0.0   \n",
       "\n",
       "        model_omega  model_one  model_other  model_outlander  model_pajero  \\\n",
       "312156          0.0        0.0          0.0              0.0           0.0   \n",
       "205215          0.0        0.0          0.0              0.0           0.0   \n",
       "32282           0.0        0.0          0.0              0.0           0.0   \n",
       "199555          0.0        0.0          0.0              0.0           0.0   \n",
       "292618          0.0        0.0          0.0              0.0           0.0   \n",
       "\n",
       "        model_panda  model_passat  model_phaeton  model_picanto  model_polo  \\\n",
       "312156          0.0           1.0            0.0            0.0         0.0   \n",
       "205215          0.0           0.0            0.0            0.0         0.0   \n",
       "32282           0.0           0.0            0.0            0.0         0.0   \n",
       "199555          0.0           0.0            0.0            0.0         0.0   \n",
       "292618          0.0           0.0            0.0            0.0         0.0   \n",
       "\n",
       "        model_primera  model_ptcruiser  model_punto  model_q3  model_q5  \\\n",
       "312156            0.0              0.0          0.0       0.0       0.0   \n",
       "205215            0.0              0.0          0.0       0.0       0.0   \n",
       "32282             0.0              0.0          0.0       0.0       0.0   \n",
       "199555            0.0              0.0          0.0       0.0       0.0   \n",
       "292618            0.0              0.0          0.0       0.0       0.0   \n",
       "\n",
       "        model_q7  model_qashqai  model_r19  model_range_rover  \\\n",
       "312156       0.0            0.0        0.0                0.0   \n",
       "205215       0.0            0.0        0.0                0.0   \n",
       "32282        0.0            0.0        0.0                0.0   \n",
       "199555       0.0            0.0        0.0                0.0   \n",
       "292618       0.0            0.0        0.0                0.0   \n",
       "\n",
       "        model_range_rover_sport  model_rangerover  model_rav  model_rio  \\\n",
       "312156                      0.0               0.0        0.0        0.0   \n",
       "205215                      0.0               0.0        0.0        0.0   \n",
       "32282                       0.0               0.0        0.0        0.0   \n",
       "199555                      0.0               0.0        0.0        0.0   \n",
       "292618                      0.0               0.0        0.0        0.0   \n",
       "\n",
       "        model_roadster  model_roomster  model_rx_reihe  model_s60  \\\n",
       "312156             0.0             0.0             0.0        0.0   \n",
       "205215             0.0             0.0             0.0        0.0   \n",
       "32282              0.0             0.0             0.0        0.0   \n",
       "199555             0.0             0.0             0.0        0.0   \n",
       "292618             0.0             0.0             0.0        0.0   \n",
       "\n",
       "        model_s_klasse  model_s_max  model_s_type  model_samara  \\\n",
       "312156             0.0          0.0           0.0           0.0   \n",
       "205215             0.0          0.0           0.0           0.0   \n",
       "32282              0.0          0.0           0.0           0.0   \n",
       "199555             0.0          0.0           0.0           0.0   \n",
       "292618             0.0          0.0           0.0           0.0   \n",
       "\n",
       "        model_sandero  model_santa  model_scenic  model_scirocco  \\\n",
       "312156            0.0          0.0           0.0             0.0   \n",
       "205215            0.0          0.0           0.0             0.0   \n",
       "32282             0.0          0.0           0.0             0.0   \n",
       "199555            0.0          0.0           0.0             0.0   \n",
       "292618            0.0          0.0           0.0             0.0   \n",
       "\n",
       "        model_seicento  model_serie_2  model_serie_3  model_sharan  \\\n",
       "312156             0.0            0.0            0.0           0.0   \n",
       "205215             0.0            0.0            0.0           0.0   \n",
       "32282              0.0            0.0            0.0           0.0   \n",
       "199555             0.0            0.0            0.0           0.0   \n",
       "292618             0.0            0.0            0.0           0.0   \n",
       "\n",
       "        model_signum  model_sirion  model_sl  model_slk  model_sorento  \\\n",
       "312156           0.0           0.0       0.0        0.0            0.0   \n",
       "205215           0.0           0.0       0.0        0.0            0.0   \n",
       "32282            0.0           0.0       0.0        0.0            0.0   \n",
       "199555           0.0           0.0       0.0        0.0            0.0   \n",
       "292618           0.0           0.0       0.0        0.0            0.0   \n",
       "\n",
       "        model_spark  model_spider  model_sportage  model_sprinter  \\\n",
       "312156          0.0           0.0             0.0             0.0   \n",
       "205215          0.0           0.0             0.0             0.0   \n",
       "32282           0.0           0.0             0.0             0.0   \n",
       "199555          0.0           0.0             0.0             0.0   \n",
       "292618          0.0           0.0             0.0             0.0   \n",
       "\n",
       "        model_stilo  model_superb  model_swift  model_terios  model_tigra  \\\n",
       "312156          0.0           0.0          0.0           0.0          0.0   \n",
       "205215          0.0           0.0          0.0           0.0          0.0   \n",
       "32282           0.0           0.0          0.0           0.0          0.0   \n",
       "199555          0.0           0.0          0.0           0.0          0.0   \n",
       "292618          0.0           0.0          0.0           0.0          0.0   \n",
       "\n",
       "        model_tiguan  model_toledo  model_touareg  model_touran  \\\n",
       "312156           0.0           0.0            0.0           0.0   \n",
       "205215           0.0           0.0            0.0           0.0   \n",
       "32282            0.0           0.0            0.0           0.0   \n",
       "199555           0.0           0.0            0.0           0.0   \n",
       "292618           0.0           0.0            0.0           0.0   \n",
       "\n",
       "        model_transit  model_transporter  model_tt  model_tucson  \\\n",
       "312156            0.0                0.0       0.0           0.0   \n",
       "205215            0.0                0.0       0.0           0.0   \n",
       "32282             0.0                0.0       0.0           0.0   \n",
       "199555            0.0                0.0       0.0           0.0   \n",
       "292618            0.0                0.0       0.0           0.0   \n",
       "\n",
       "        model_twingo  model_unknown  model_up  model_v40  model_v50  \\\n",
       "312156           0.0            0.0       0.0        0.0        0.0   \n",
       "205215           0.0            0.0       0.0        0.0        0.0   \n",
       "32282            0.0            0.0       0.0        0.0        0.0   \n",
       "199555           0.0            0.0       0.0        0.0        0.0   \n",
       "292618           0.0            0.0       0.0        0.0        0.0   \n",
       "\n",
       "        model_v60  model_v70  model_v_klasse  model_vectra  model_verso  \\\n",
       "312156        0.0        0.0             0.0           0.0          0.0   \n",
       "205215        0.0        0.0             0.0           0.0          0.0   \n",
       "32282         0.0        0.0             0.0           0.0          0.0   \n",
       "199555        0.0        0.0             0.0           0.0          0.0   \n",
       "292618        0.0        0.0             0.0           0.0          0.0   \n",
       "\n",
       "        model_viano  model_vito  model_vivaro  model_voyager  model_wrangler  \\\n",
       "312156          0.0         0.0           0.0            0.0             0.0   \n",
       "205215          0.0         0.0           0.0            0.0             0.0   \n",
       "32282           0.0         0.0           0.0            0.0             0.0   \n",
       "199555          0.0         0.0           0.0            0.0             0.0   \n",
       "292618          0.0         0.0           0.0            0.0             0.0   \n",
       "\n",
       "        model_x_reihe  model_x_trail  model_x_type  model_xc_reihe  \\\n",
       "312156            0.0            0.0           0.0             0.0   \n",
       "205215            0.0            0.0           0.0             0.0   \n",
       "32282             0.0            0.0           0.0             0.0   \n",
       "199555            0.0            0.0           0.0             0.0   \n",
       "292618            0.0            0.0           0.0             0.0   \n",
       "\n",
       "        model_yaris  model_yeti  model_ypsilon  model_z_reihe  model_zafira  \\\n",
       "312156          0.0         0.0            0.0            0.0           0.0   \n",
       "205215          0.0         0.0            0.0            0.0           0.0   \n",
       "32282           0.0         0.0            0.0            0.0           0.0   \n",
       "199555          0.0         0.0            0.0            0.0           0.0   \n",
       "292618          0.0         0.0            0.0            0.0           1.0   \n",
       "\n",
       "        fuel_type_electric  fuel_type_gasoline  fuel_type_hybrid  \\\n",
       "312156                 0.0                 0.0               0.0   \n",
       "205215                 0.0                 0.0               0.0   \n",
       "32282                  0.0                 1.0               0.0   \n",
       "199555                 0.0                 0.0               0.0   \n",
       "292618                 0.0                 0.0               0.0   \n",
       "\n",
       "        fuel_type_lpg  fuel_type_other  fuel_type_petrol  fuel_type_unknown  \\\n",
       "312156            0.0              0.0               1.0                0.0   \n",
       "205215            0.0              0.0               1.0                0.0   \n",
       "32282             0.0              0.0               0.0                0.0   \n",
       "199555            0.0              0.0               1.0                0.0   \n",
       "292618            0.0              0.0               1.0                0.0   \n",
       "\n",
       "        brand_audi  brand_bmw  brand_chevrolet  brand_chrysler  brand_citroen  \\\n",
       "312156         0.0        0.0              0.0             0.0            0.0   \n",
       "205215         1.0        0.0              0.0             0.0            0.0   \n",
       "32282          1.0        0.0              0.0             0.0            0.0   \n",
       "199555         0.0        0.0              0.0             0.0            0.0   \n",
       "292618         0.0        0.0              0.0             0.0            0.0   \n",
       "\n",
       "        brand_dacia  brand_daewoo  brand_daihatsu  brand_fiat  brand_ford  \\\n",
       "312156          0.0           0.0             0.0         0.0         0.0   \n",
       "205215          0.0           0.0             0.0         0.0         0.0   \n",
       "32282           0.0           0.0             0.0         0.0         0.0   \n",
       "199555          0.0           0.0             0.0         0.0         1.0   \n",
       "292618          0.0           0.0             0.0         0.0         0.0   \n",
       "\n",
       "        brand_honda  brand_hyundai  brand_jaguar  brand_jeep  brand_kia  \\\n",
       "312156          0.0            0.0           0.0         0.0        0.0   \n",
       "205215          0.0            0.0           0.0         0.0        0.0   \n",
       "32282           0.0            0.0           0.0         0.0        0.0   \n",
       "199555          0.0            0.0           0.0         0.0        0.0   \n",
       "292618          0.0            0.0           0.0         0.0        0.0   \n",
       "\n",
       "        brand_lada  brand_lancia  brand_land_rover  brand_mazda  \\\n",
       "312156         0.0           0.0               0.0          0.0   \n",
       "205215         0.0           0.0               0.0          0.0   \n",
       "32282          0.0           0.0               0.0          0.0   \n",
       "199555         0.0           0.0               0.0          0.0   \n",
       "292618         0.0           0.0               0.0          0.0   \n",
       "\n",
       "        brand_mercedes_benz  brand_mini  brand_mitsubishi  brand_nissan  \\\n",
       "312156                  0.0         0.0               0.0           0.0   \n",
       "205215                  0.0         0.0               0.0           0.0   \n",
       "32282                   0.0         0.0               0.0           0.0   \n",
       "199555                  0.0         0.0               0.0           0.0   \n",
       "292618                  0.0         0.0               0.0           0.0   \n",
       "\n",
       "        brand_opel  brand_peugeot  brand_porsche  brand_renault  brand_rover  \\\n",
       "312156         0.0            0.0            0.0            0.0          0.0   \n",
       "205215         0.0            0.0            0.0            0.0          0.0   \n",
       "32282          0.0            0.0            0.0            0.0          0.0   \n",
       "199555         0.0            0.0            0.0            0.0          0.0   \n",
       "292618         1.0            0.0            0.0            0.0          0.0   \n",
       "\n",
       "        brand_saab  brand_seat  brand_skoda  brand_smart  \\\n",
       "312156         0.0         0.0          0.0          0.0   \n",
       "205215         0.0         0.0          0.0          0.0   \n",
       "32282          0.0         0.0          0.0          0.0   \n",
       "199555         0.0         0.0          0.0          0.0   \n",
       "292618         0.0         0.0          0.0          0.0   \n",
       "\n",
       "        brand_sonstige_autos  brand_subaru  brand_suzuki  brand_toyota  \\\n",
       "312156                   0.0           0.0           0.0           0.0   \n",
       "205215                   0.0           0.0           0.0           0.0   \n",
       "32282                    0.0           0.0           0.0           0.0   \n",
       "199555                   0.0           0.0           0.0           0.0   \n",
       "292618                   0.0           0.0           0.0           0.0   \n",
       "\n",
       "        brand_trabant  brand_volkswagen  brand_volvo  repaired_yes  \n",
       "312156            0.0               1.0          0.0           0.0  \n",
       "205215            0.0               0.0          0.0           0.0  \n",
       "32282             0.0               0.0          0.0           0.0  \n",
       "199555            0.0               0.0          0.0           1.0  \n",
       "292618            0.0               0.0          0.0           0.0  "
      ]
     },
     "execution_count": 69,
     "metadata": {},
     "output_type": "execute_result"
    }
   ],
   "source": [
    "# кодируем валидную выборку энкодером обученным на полной выборке\n",
    "\n",
    "X_valid_ohe = X_valid.copy()\n",
    "X_valid_ohe[\n",
    "    encoder_ohe.get_feature_names_out()\n",
    "] = encoder_ohe.transform(X_valid_ohe[ohe_features])\n",
    "\n",
    "X_valid_ohe = X_valid_ohe.drop(ohe_features, axis=1)\n",
    "\n",
    "# используем скелер обученный на полной выборке\n",
    "X_valid_ohe[num_features] = scaler.transform(\n",
    "    X_valid_ohe[num_features]\n",
    ")\n",
    "\n",
    "# смотрим на результат\n",
    "X_valid_ohe.head()"
   ]
  },
  {
   "cell_type": "markdown",
   "metadata": {},
   "source": [
    "Обучим модель **Линейную регрессию**"
   ]
  },
  {
   "cell_type": "code",
   "execution_count": 70,
   "metadata": {},
   "outputs": [
    {
     "name": "stdout",
     "output_type": "stream",
     "text": [
      "CPU times: user 6.96 s, sys: 2.9 s, total: 9.86 s\n",
      "Wall time: 9.86 s\n"
     ]
    },
    {
     "data": {
      "text/html": [
       "<style>#sk-container-id-1 {color: black;}#sk-container-id-1 pre{padding: 0;}#sk-container-id-1 div.sk-toggleable {background-color: white;}#sk-container-id-1 label.sk-toggleable__label {cursor: pointer;display: block;width: 100%;margin-bottom: 0;padding: 0.3em;box-sizing: border-box;text-align: center;}#sk-container-id-1 label.sk-toggleable__label-arrow:before {content: \"▸\";float: left;margin-right: 0.25em;color: #696969;}#sk-container-id-1 label.sk-toggleable__label-arrow:hover:before {color: black;}#sk-container-id-1 div.sk-estimator:hover label.sk-toggleable__label-arrow:before {color: black;}#sk-container-id-1 div.sk-toggleable__content {max-height: 0;max-width: 0;overflow: hidden;text-align: left;background-color: #f0f8ff;}#sk-container-id-1 div.sk-toggleable__content pre {margin: 0.2em;color: black;border-radius: 0.25em;background-color: #f0f8ff;}#sk-container-id-1 input.sk-toggleable__control:checked~div.sk-toggleable__content {max-height: 200px;max-width: 100%;overflow: auto;}#sk-container-id-1 input.sk-toggleable__control:checked~label.sk-toggleable__label-arrow:before {content: \"▾\";}#sk-container-id-1 div.sk-estimator input.sk-toggleable__control:checked~label.sk-toggleable__label {background-color: #d4ebff;}#sk-container-id-1 div.sk-label input.sk-toggleable__control:checked~label.sk-toggleable__label {background-color: #d4ebff;}#sk-container-id-1 input.sk-hidden--visually {border: 0;clip: rect(1px 1px 1px 1px);clip: rect(1px, 1px, 1px, 1px);height: 1px;margin: -1px;overflow: hidden;padding: 0;position: absolute;width: 1px;}#sk-container-id-1 div.sk-estimator {font-family: monospace;background-color: #f0f8ff;border: 1px dotted black;border-radius: 0.25em;box-sizing: border-box;margin-bottom: 0.5em;}#sk-container-id-1 div.sk-estimator:hover {background-color: #d4ebff;}#sk-container-id-1 div.sk-parallel-item::after {content: \"\";width: 100%;border-bottom: 1px solid gray;flex-grow: 1;}#sk-container-id-1 div.sk-label:hover label.sk-toggleable__label {background-color: #d4ebff;}#sk-container-id-1 div.sk-serial::before {content: \"\";position: absolute;border-left: 1px solid gray;box-sizing: border-box;top: 0;bottom: 0;left: 50%;z-index: 0;}#sk-container-id-1 div.sk-serial {display: flex;flex-direction: column;align-items: center;background-color: white;padding-right: 0.2em;padding-left: 0.2em;position: relative;}#sk-container-id-1 div.sk-item {position: relative;z-index: 1;}#sk-container-id-1 div.sk-parallel {display: flex;align-items: stretch;justify-content: center;background-color: white;position: relative;}#sk-container-id-1 div.sk-item::before, #sk-container-id-1 div.sk-parallel-item::before {content: \"\";position: absolute;border-left: 1px solid gray;box-sizing: border-box;top: 0;bottom: 0;left: 50%;z-index: -1;}#sk-container-id-1 div.sk-parallel-item {display: flex;flex-direction: column;z-index: 1;position: relative;background-color: white;}#sk-container-id-1 div.sk-parallel-item:first-child::after {align-self: flex-end;width: 50%;}#sk-container-id-1 div.sk-parallel-item:last-child::after {align-self: flex-start;width: 50%;}#sk-container-id-1 div.sk-parallel-item:only-child::after {width: 0;}#sk-container-id-1 div.sk-dashed-wrapped {border: 1px dashed gray;margin: 0 0.4em 0.5em 0.4em;box-sizing: border-box;padding-bottom: 0.4em;background-color: white;}#sk-container-id-1 div.sk-label label {font-family: monospace;font-weight: bold;display: inline-block;line-height: 1.2em;}#sk-container-id-1 div.sk-label-container {text-align: center;}#sk-container-id-1 div.sk-container {/* jupyter's `normalize.less` sets `[hidden] { display: none; }` but bootstrap.min.css set `[hidden] { display: none !important; }` so we also need the `!important` here to be able to override the default hidden behavior on the sphinx rendered scikit-learn.org. See: https://github.com/scikit-learn/scikit-learn/issues/21755 */display: inline-block !important;position: relative;}#sk-container-id-1 div.sk-text-repr-fallback {display: none;}</style><div id=\"sk-container-id-1\" class=\"sk-top-container\"><div class=\"sk-text-repr-fallback\"><pre>LinearRegression()</pre><b>In a Jupyter environment, please rerun this cell to show the HTML representation or trust the notebook. <br />On GitHub, the HTML representation is unable to render, please try loading this page with nbviewer.org.</b></div><div class=\"sk-container\" hidden><div class=\"sk-item\"><div class=\"sk-estimator sk-toggleable\"><input class=\"sk-toggleable__control sk-hidden--visually\" id=\"sk-estimator-id-1\" type=\"checkbox\" checked><label for=\"sk-estimator-id-1\" class=\"sk-toggleable__label sk-toggleable__label-arrow\">LinearRegression</label><div class=\"sk-toggleable__content\"><pre>LinearRegression()</pre></div></div></div></div></div>"
      ],
      "text/plain": [
       "LinearRegression()"
      ]
     },
     "execution_count": 70,
     "metadata": {},
     "output_type": "execute_result"
    }
   ],
   "source": [
    "%%time\n",
    "\n",
    "model_linear = LinearRegression()\n",
    "model_linear.fit(X_train_ohe, y_train)\n"
   ]
  },
  {
   "cell_type": "code",
   "execution_count": 71,
   "metadata": {
    "scrolled": true
   },
   "outputs": [
    {
     "name": "stdout",
     "output_type": "stream",
     "text": [
      "RMSE train: 2480.4637317289607\n",
      "\n",
      "RMSE valid: 2467.196372088126\n",
      "CPU times: user 235 ms, sys: 164 ms, total: 399 ms\n",
      "Wall time: 393 ms\n"
     ]
    }
   ],
   "source": [
    "%%time\n",
    "predictions_train = model_linear.predict(X_train_ohe)\n",
    "predictions_valid = model_linear.predict(X_valid_ohe)\n",
    "\n",
    "print(\"RMSE train:\", mean_squared_error(y_train, predictions_train)**0.5)\n",
    "print()\n",
    "print(\"RMSE valid:\", mean_squared_error(y_valid, predictions_valid)**0.5)"
   ]
  },
  {
   "cell_type": "markdown",
   "metadata": {},
   "source": [
    "Значение RMSE по тренировочной и валидной выборках около 2500. Что сильно выше лучшего результата модели LightGBM"
   ]
  },
  {
   "cell_type": "markdown",
   "metadata": {},
   "source": [
    "Проверим модель на тестовой выборке."
   ]
  },
  {
   "cell_type": "code",
   "execution_count": 74,
   "metadata": {},
   "outputs": [
    {
     "name": "stdout",
     "output_type": "stream",
     "text": [
      "RMSE test: 2477.1534837581185\n"
     ]
    }
   ],
   "source": [
    "predictions_test = model_linear.predict(X_test_ohe)\n",
    "\n",
    "print(\"RMSE test:\", mean_squared_error(y_test, predictions_test)**0.5)"
   ]
  },
  {
   "cell_type": "markdown",
   "metadata": {},
   "source": [
    "Значение RMSE на тестовой выборке совпадаем со значением на тренировочной и валидной и также сильно меньше лучшего результата LightGBM"
   ]
  },
  {
   "cell_type": "markdown",
   "metadata": {},
   "source": [
    "## Анализ моделей"
   ]
  },
  {
   "cell_type": "markdown",
   "metadata": {},
   "source": [
    "В итоге лучшей моделью признаём модель  model_1 c с параметрами:\n",
    "\n",
    "    'learning_rate': 0.05,\n",
    "    'boosting': 'gbdt',\n",
    "    'objective': 'regression',\n",
    "    'num_leaves': 63,\n",
    "    'verbose': -1\n",
    "    \n",
    "Точность этой модели заметно выше чем в других варианах LightGBM, разница. При этом модель обучается в четыре раза медленне, чем первый вариант и немного быстрее чем второй.\n",
    "\n",
    "У модели линейной регресси показатель RMSE равен на тренировочной выборке около 2500, но обученная модель не смогла адеватно предсказать значения по валидной выборке."
   ]
  },
  {
   "cell_type": "markdown",
   "metadata": {},
   "source": [
    "**Проведём испытвания лучшей, третьей модели на тестовой выборке**"
   ]
  },
  {
   "cell_type": "code",
   "execution_count": 73,
   "metadata": {
    "scrolled": false
   },
   "outputs": [
    {
     "name": "stdout",
     "output_type": "stream",
     "text": [
      "RMSE test: 1583.9612129631291\n",
      "CPU times: user 2.11 s, sys: 0 ns, total: 2.11 s\n",
      "Wall time: 2.1 s\n"
     ]
    }
   ],
   "source": [
    "%%time\n",
    "\n",
    "#предсказание модели\n",
    "model_prediction_test = model_3.predict(X_test)\n",
    "\n",
    "\n",
    "# вывод метрики RMSE\n",
    "print(\"RMSE test:\", mean_squared_error(y_test, model_prediction_test)**0.5)"
   ]
  },
  {
   "cell_type": "markdown",
   "metadata": {},
   "source": [
    "Значение RMSE вполне хорошее, почти не отличается от значения RMSE на тренировочной и валидной выборок. Скорость предсказания достаточно высокая."
   ]
  },
  {
   "cell_type": "markdown",
   "metadata": {},
   "source": [
    "### Итоговый вывод\n",
    "\n",
    "Подготовили данные. Удалили пропуски и дубликаты. Пропуски в столбце 'repaired' заменили на данные согласно вероятности распределения. Проверили данные на адекватность и выбросы. Удалили выбросы. Также удалили лишние столбцы, которые не пригодятся в обучении модели. \n",
    "\n",
    "Обучили модель c градиентным бустингом LightGBM, применив к ней три варианта параметров, меняя глубину деревьев и скорость обучения. Выбрали третий вариант как самый оптимальный по соотношению точности и скорости обучения.\n"
   ]
  }
 ],
 "metadata": {
  "ExecuteTimeLog": [
   {
    "duration": 356,
    "start_time": "2023-11-02T10:18:49.202Z"
   },
   {
    "duration": 3,
    "start_time": "2023-11-02T10:19:33.808Z"
   },
   {
    "duration": 57,
    "start_time": "2023-11-02T10:19:49.898Z"
   },
   {
    "duration": 6,
    "start_time": "2023-11-02T10:19:53.082Z"
   },
   {
    "duration": 4,
    "start_time": "2023-11-02T10:19:57.956Z"
   },
   {
    "duration": 6,
    "start_time": "2023-11-02T10:19:59.073Z"
   },
   {
    "duration": 6,
    "start_time": "2023-11-02T10:20:10.796Z"
   },
   {
    "duration": 2,
    "start_time": "2023-11-02T10:20:15.216Z"
   },
   {
    "duration": 34,
    "start_time": "2023-11-02T10:20:15.219Z"
   },
   {
    "duration": 27,
    "start_time": "2023-11-02T10:20:15.254Z"
   },
   {
    "duration": 1033,
    "start_time": "2023-11-02T10:20:45.303Z"
   },
   {
    "duration": 725,
    "start_time": "2023-11-02T10:20:58.449Z"
   },
   {
    "duration": 742,
    "start_time": "2023-11-02T10:21:06.232Z"
   },
   {
    "duration": 699,
    "start_time": "2023-11-02T10:21:21.618Z"
   },
   {
    "duration": 2,
    "start_time": "2023-11-02T10:26:38.563Z"
   },
   {
    "duration": 6,
    "start_time": "2023-11-02T10:27:31.248Z"
   },
   {
    "duration": 37,
    "start_time": "2023-11-02T10:55:07.231Z"
   },
   {
    "duration": 4,
    "start_time": "2023-11-02T10:55:37.161Z"
   },
   {
    "duration": 4,
    "start_time": "2023-11-02T10:55:55.850Z"
   },
   {
    "duration": 131,
    "start_time": "2023-11-02T10:56:56.274Z"
   },
   {
    "duration": 110,
    "start_time": "2023-11-02T10:56:59.441Z"
   },
   {
    "duration": 7,
    "start_time": "2023-11-02T10:58:17.345Z"
   },
   {
    "duration": 7,
    "start_time": "2023-11-02T10:58:20.809Z"
   },
   {
    "duration": 101,
    "start_time": "2023-11-02T10:58:25.465Z"
   },
   {
    "duration": 27,
    "start_time": "2023-11-02T10:59:48.169Z"
   },
   {
    "duration": 20,
    "start_time": "2023-11-02T11:01:03.406Z"
   },
   {
    "duration": 28,
    "start_time": "2023-11-02T11:01:33.393Z"
   },
   {
    "duration": 347,
    "start_time": "2023-11-02T11:03:55.604Z"
   },
   {
    "duration": 375,
    "start_time": "2023-11-02T11:04:52.577Z"
   },
   {
    "duration": 712,
    "start_time": "2023-11-02T11:05:06.851Z"
   },
   {
    "duration": 763,
    "start_time": "2023-11-02T11:05:21.637Z"
   },
   {
    "duration": 108,
    "start_time": "2023-11-02T11:26:00.864Z"
   },
   {
    "duration": 7,
    "start_time": "2023-11-02T11:26:41.965Z"
   },
   {
    "duration": 6,
    "start_time": "2023-11-02T11:26:45.741Z"
   },
   {
    "duration": 6,
    "start_time": "2023-11-02T11:26:50.093Z"
   },
   {
    "duration": 8,
    "start_time": "2023-11-02T11:27:02.398Z"
   },
   {
    "duration": 19,
    "start_time": "2023-11-02T11:27:08.751Z"
   },
   {
    "duration": 19,
    "start_time": "2023-11-02T11:29:19.243Z"
   },
   {
    "duration": 20,
    "start_time": "2023-11-02T11:29:22.276Z"
   },
   {
    "duration": 35,
    "start_time": "2023-11-02T11:29:34.686Z"
   },
   {
    "duration": 39,
    "start_time": "2023-11-02T11:29:58.703Z"
   },
   {
    "duration": 84,
    "start_time": "2023-11-02T11:31:09.751Z"
   },
   {
    "duration": 285,
    "start_time": "2023-11-02T11:33:04.314Z"
   },
   {
    "duration": 85,
    "start_time": "2023-11-02T11:33:13.283Z"
   },
   {
    "duration": 78,
    "start_time": "2023-11-02T11:33:27.957Z"
   },
   {
    "duration": 158,
    "start_time": "2023-11-02T11:33:48.350Z"
   },
   {
    "duration": 85,
    "start_time": "2023-11-02T11:33:54.439Z"
   },
   {
    "duration": 382,
    "start_time": "2023-11-02T11:34:36.610Z"
   },
   {
    "duration": 4,
    "start_time": "2023-11-02T11:34:36.994Z"
   },
   {
    "duration": 747,
    "start_time": "2023-11-02T11:34:37.000Z"
   },
   {
    "duration": 3,
    "start_time": "2023-11-02T11:34:37.748Z"
   },
   {
    "duration": 16,
    "start_time": "2023-11-02T11:34:37.753Z"
   },
   {
    "duration": 119,
    "start_time": "2023-11-02T11:34:37.770Z"
   },
   {
    "duration": 435,
    "start_time": "2023-11-02T11:34:37.892Z"
   },
   {
    "duration": 766,
    "start_time": "2023-11-02T11:34:38.328Z"
   },
   {
    "duration": 106,
    "start_time": "2023-11-02T11:34:39.095Z"
   },
   {
    "duration": 92,
    "start_time": "2023-11-02T11:34:39.203Z"
   },
   {
    "duration": 107,
    "start_time": "2023-11-02T11:34:39.296Z"
   },
   {
    "duration": 176,
    "start_time": "2023-11-02T11:34:54.949Z"
   },
   {
    "duration": 95,
    "start_time": "2023-11-02T11:40:11.199Z"
   },
   {
    "duration": 422,
    "start_time": "2023-11-02T11:42:34.975Z"
   },
   {
    "duration": 2,
    "start_time": "2023-11-02T11:43:09.119Z"
   },
   {
    "duration": 359,
    "start_time": "2023-11-02T11:43:12.467Z"
   },
   {
    "duration": 44,
    "start_time": "2023-11-02T11:44:33.763Z"
   },
   {
    "duration": 47,
    "start_time": "2023-11-02T11:44:46.282Z"
   },
   {
    "duration": 1683,
    "start_time": "2023-11-02T11:45:30.094Z"
   },
   {
    "duration": 61,
    "start_time": "2023-11-02T11:45:34.800Z"
   },
   {
    "duration": 1057,
    "start_time": "2023-11-02T11:46:34.183Z"
   },
   {
    "duration": 24,
    "start_time": "2023-11-02T11:46:44.087Z"
   },
   {
    "duration": 370,
    "start_time": "2023-11-02T11:46:59.870Z"
   },
   {
    "duration": 3,
    "start_time": "2023-11-02T11:47:00.242Z"
   },
   {
    "duration": 820,
    "start_time": "2023-11-02T11:47:00.247Z"
   },
   {
    "duration": 3,
    "start_time": "2023-11-02T11:47:01.069Z"
   },
   {
    "duration": 35,
    "start_time": "2023-11-02T11:47:01.075Z"
   },
   {
    "duration": 158,
    "start_time": "2023-11-02T11:47:01.112Z"
   },
   {
    "duration": 419,
    "start_time": "2023-11-02T11:47:01.272Z"
   },
   {
    "duration": 875,
    "start_time": "2023-11-02T11:47:01.693Z"
   },
   {
    "duration": 154,
    "start_time": "2023-11-02T11:47:02.570Z"
   },
   {
    "duration": 92,
    "start_time": "2023-11-02T11:47:02.726Z"
   },
   {
    "duration": 192,
    "start_time": "2023-11-02T11:47:02.820Z"
   },
   {
    "duration": 28,
    "start_time": "2023-11-02T11:47:03.014Z"
   },
   {
    "duration": 85,
    "start_time": "2023-11-02T11:47:03.043Z"
   },
   {
    "duration": 286,
    "start_time": "2023-11-02T11:50:04.436Z"
   },
   {
    "duration": 38,
    "start_time": "2023-11-02T11:50:53.833Z"
   },
   {
    "duration": 46,
    "start_time": "2023-11-02T11:51:16.562Z"
   },
   {
    "duration": 109,
    "start_time": "2023-11-02T11:52:07.599Z"
   },
   {
    "duration": 71,
    "start_time": "2023-11-02T11:52:14.392Z"
   },
   {
    "duration": 54,
    "start_time": "2023-11-02T11:52:20.809Z"
   },
   {
    "duration": 146,
    "start_time": "2023-11-02T11:52:39.892Z"
   },
   {
    "duration": 100,
    "start_time": "2023-11-02T11:53:24.185Z"
   },
   {
    "duration": 1351,
    "start_time": "2023-11-02T11:53:48.948Z"
   },
   {
    "duration": 404,
    "start_time": "2023-11-02T11:55:22.780Z"
   },
   {
    "duration": 81,
    "start_time": "2023-11-02T12:05:29.697Z"
   },
   {
    "duration": 4,
    "start_time": "2023-11-02T12:05:48.402Z"
   },
   {
    "duration": 3,
    "start_time": "2023-11-02T13:35:19.688Z"
   },
   {
    "duration": 54,
    "start_time": "2023-11-02T15:38:52.413Z"
   },
   {
    "duration": 14,
    "start_time": "2023-11-02T15:39:12.583Z"
   },
   {
    "duration": 8,
    "start_time": "2023-11-02T15:39:26.866Z"
   },
   {
    "duration": 22,
    "start_time": "2023-11-02T15:39:32.638Z"
   },
   {
    "duration": 4,
    "start_time": "2023-11-02T15:39:41.614Z"
   },
   {
    "duration": 4,
    "start_time": "2023-11-02T15:39:44.519Z"
   },
   {
    "duration": 11,
    "start_time": "2023-11-02T15:39:46.527Z"
   },
   {
    "duration": 107,
    "start_time": "2023-11-02T15:40:15.003Z"
   },
   {
    "duration": 8,
    "start_time": "2023-11-02T15:40:20.434Z"
   },
   {
    "duration": 103641,
    "start_time": "2023-11-02T15:40:22.138Z"
   },
   {
    "duration": 2,
    "start_time": "2023-11-02T15:42:10.306Z"
   },
   {
    "duration": 18,
    "start_time": "2023-11-02T15:42:10.310Z"
   },
   {
    "duration": 834,
    "start_time": "2023-11-02T15:42:10.330Z"
   },
   {
    "duration": 7,
    "start_time": "2023-11-02T15:42:11.165Z"
   },
   {
    "duration": 16,
    "start_time": "2023-11-02T15:42:11.174Z"
   },
   {
    "duration": 136,
    "start_time": "2023-11-02T15:42:11.191Z"
   },
   {
    "duration": 423,
    "start_time": "2023-11-02T15:42:11.328Z"
   },
   {
    "duration": 863,
    "start_time": "2023-11-02T15:42:11.753Z"
   },
   {
    "duration": 169,
    "start_time": "2023-11-02T15:42:12.618Z"
   },
   {
    "duration": 110,
    "start_time": "2023-11-02T15:42:12.789Z"
   },
   {
    "duration": 225,
    "start_time": "2023-11-02T15:42:12.901Z"
   },
   {
    "duration": 73,
    "start_time": "2023-11-02T15:42:13.127Z"
   },
   {
    "duration": 172,
    "start_time": "2023-11-02T15:42:13.201Z"
   },
   {
    "duration": 110,
    "start_time": "2023-11-02T15:42:13.376Z"
   },
   {
    "duration": 31,
    "start_time": "2023-11-02T15:42:13.487Z"
   },
   {
    "duration": 44,
    "start_time": "2023-11-02T15:42:13.520Z"
   },
   {
    "duration": 51196,
    "start_time": "2023-11-02T15:42:33.079Z"
   },
   {
    "duration": 156,
    "start_time": "2023-11-02T15:43:31.930Z"
   },
   {
    "duration": 417,
    "start_time": "2023-11-02T15:43:39.479Z"
   },
   {
    "duration": 4,
    "start_time": "2023-11-02T15:44:14.993Z"
   },
   {
    "duration": 406,
    "start_time": "2023-11-02T15:44:17.757Z"
   },
   {
    "duration": 409,
    "start_time": "2023-11-02T15:44:27.482Z"
   },
   {
    "duration": 422,
    "start_time": "2023-11-02T15:44:39.579Z"
   },
   {
    "duration": 454,
    "start_time": "2023-11-02T15:47:21.006Z"
   },
   {
    "duration": 446,
    "start_time": "2023-11-02T15:47:32.075Z"
   },
   {
    "duration": 485,
    "start_time": "2023-11-02T15:47:47.205Z"
   },
   {
    "duration": 150,
    "start_time": "2023-11-02T15:48:05.304Z"
   },
   {
    "duration": 25,
    "start_time": "2023-11-02T15:51:21.835Z"
   },
   {
    "duration": 530,
    "start_time": "2023-11-02T15:51:42.709Z"
   },
   {
    "duration": 610,
    "start_time": "2023-11-02T15:52:01.658Z"
   },
   {
    "duration": 558,
    "start_time": "2023-11-02T15:52:06.823Z"
   },
   {
    "duration": 543,
    "start_time": "2023-11-02T15:52:09.599Z"
   },
   {
    "duration": 578,
    "start_time": "2023-11-02T15:52:13.704Z"
   },
   {
    "duration": 568,
    "start_time": "2023-11-02T15:52:17.608Z"
   },
   {
    "duration": 598,
    "start_time": "2023-11-02T15:53:40.185Z"
   },
   {
    "duration": 578,
    "start_time": "2023-11-02T15:53:49.057Z"
   },
   {
    "duration": 622,
    "start_time": "2023-11-02T15:54:04.765Z"
   },
   {
    "duration": 560,
    "start_time": "2023-11-02T15:54:15.796Z"
   },
   {
    "duration": 5,
    "start_time": "2023-11-02T15:54:37.189Z"
   },
   {
    "duration": 535,
    "start_time": "2023-11-02T15:54:58.842Z"
   },
   {
    "duration": 538,
    "start_time": "2023-11-02T15:55:05.673Z"
   },
   {
    "duration": 525,
    "start_time": "2023-11-02T15:56:17.208Z"
   },
   {
    "duration": 7,
    "start_time": "2023-11-02T15:56:26.986Z"
   },
   {
    "duration": 546,
    "start_time": "2023-11-02T15:56:32.706Z"
   },
   {
    "duration": 567,
    "start_time": "2023-11-02T15:56:38.714Z"
   },
   {
    "duration": 4,
    "start_time": "2023-11-02T16:04:23.673Z"
   },
   {
    "duration": 509,
    "start_time": "2023-11-02T16:04:30.161Z"
   },
   {
    "duration": 491,
    "start_time": "2023-11-02T16:04:39.924Z"
   },
   {
    "duration": 99,
    "start_time": "2023-11-02T16:05:06.838Z"
   },
   {
    "duration": 536,
    "start_time": "2023-11-02T16:05:10.580Z"
   },
   {
    "duration": 4,
    "start_time": "2023-11-02T16:07:21.569Z"
   },
   {
    "duration": 498,
    "start_time": "2023-11-02T16:07:33.054Z"
   },
   {
    "duration": 131,
    "start_time": "2023-11-02T16:08:03.455Z"
   },
   {
    "duration": 4,
    "start_time": "2023-11-02T16:08:37.890Z"
   },
   {
    "duration": 548,
    "start_time": "2023-11-02T16:08:42.977Z"
   },
   {
    "duration": 546,
    "start_time": "2023-11-02T16:08:44.905Z"
   },
   {
    "duration": 4,
    "start_time": "2023-11-02T16:08:54.898Z"
   },
   {
    "duration": 527,
    "start_time": "2023-11-02T16:08:58.134Z"
   },
   {
    "duration": 5,
    "start_time": "2023-11-02T16:10:16.371Z"
   },
   {
    "duration": 5,
    "start_time": "2023-11-02T16:10:23.155Z"
   },
   {
    "duration": 549,
    "start_time": "2023-11-02T16:10:33.980Z"
   },
   {
    "duration": 4,
    "start_time": "2023-11-02T16:10:48.222Z"
   },
   {
    "duration": 562,
    "start_time": "2023-11-02T16:10:51.197Z"
   },
   {
    "duration": 1464,
    "start_time": "2023-11-03T11:10:32.717Z"
   },
   {
    "duration": 4,
    "start_time": "2023-11-03T11:10:34.183Z"
   },
   {
    "duration": 1364,
    "start_time": "2023-11-03T11:10:34.189Z"
   },
   {
    "duration": 4,
    "start_time": "2023-11-03T11:10:35.554Z"
   },
   {
    "duration": 42,
    "start_time": "2023-11-03T11:10:35.560Z"
   },
   {
    "duration": 193,
    "start_time": "2023-11-03T11:10:35.604Z"
   },
   {
    "duration": 507,
    "start_time": "2023-11-03T11:10:35.798Z"
   },
   {
    "duration": 1098,
    "start_time": "2023-11-03T11:10:36.306Z"
   },
   {
    "duration": 178,
    "start_time": "2023-11-03T11:10:37.406Z"
   },
   {
    "duration": 117,
    "start_time": "2023-11-03T11:10:37.586Z"
   },
   {
    "duration": 256,
    "start_time": "2023-11-03T11:10:37.705Z"
   },
   {
    "duration": 70,
    "start_time": "2023-11-03T11:10:37.963Z"
   },
   {
    "duration": 187,
    "start_time": "2023-11-03T11:10:38.035Z"
   },
   {
    "duration": 175,
    "start_time": "2023-11-03T11:10:38.226Z"
   },
   {
    "duration": 6,
    "start_time": "2023-11-03T11:10:38.413Z"
   },
   {
    "duration": 34,
    "start_time": "2023-11-03T11:10:38.422Z"
   },
   {
    "duration": 575,
    "start_time": "2023-11-03T11:10:38.460Z"
   },
   {
    "duration": 157,
    "start_time": "2023-11-03T11:10:39.037Z"
   },
   {
    "duration": 601,
    "start_time": "2023-11-03T11:10:39.196Z"
   },
   {
    "duration": 105,
    "start_time": "2023-11-03T11:12:33.299Z"
   },
   {
    "duration": 8,
    "start_time": "2023-11-03T11:12:45.173Z"
   },
   {
    "duration": 540,
    "start_time": "2023-11-03T11:12:48.061Z"
   },
   {
    "duration": 491,
    "start_time": "2023-11-03T11:12:54.749Z"
   },
   {
    "duration": 123,
    "start_time": "2023-11-03T11:13:29.096Z"
   },
   {
    "duration": 9,
    "start_time": "2023-11-03T11:15:04.650Z"
   },
   {
    "duration": 8,
    "start_time": "2023-11-03T11:15:16.652Z"
   },
   {
    "duration": 8,
    "start_time": "2023-11-03T11:19:12.916Z"
   },
   {
    "duration": 8,
    "start_time": "2023-11-03T11:19:43.949Z"
   },
   {
    "duration": 9,
    "start_time": "2023-11-03T11:21:29.969Z"
   },
   {
    "duration": 8,
    "start_time": "2023-11-03T11:21:45.091Z"
   },
   {
    "duration": 9,
    "start_time": "2023-11-03T11:22:02.616Z"
   },
   {
    "duration": 56,
    "start_time": "2023-11-03T11:23:29.148Z"
   },
   {
    "duration": 47,
    "start_time": "2023-11-03T11:23:35.022Z"
   },
   {
    "duration": 162,
    "start_time": "2023-11-03T11:24:01.161Z"
   },
   {
    "duration": 604,
    "start_time": "2023-11-03T11:39:13.445Z"
   },
   {
    "duration": 56,
    "start_time": "2023-11-03T11:39:36.918Z"
   },
   {
    "duration": 1439,
    "start_time": "2023-11-03T11:41:27.464Z"
   },
   {
    "duration": 532,
    "start_time": "2023-11-03T11:41:31.864Z"
   },
   {
    "duration": 1897,
    "start_time": "2023-11-03T11:41:37.009Z"
   },
   {
    "duration": 471,
    "start_time": "2023-11-03T11:41:43.235Z"
   },
   {
    "duration": 456,
    "start_time": "2023-11-03T11:41:48.668Z"
   },
   {
    "duration": 405,
    "start_time": "2023-11-03T11:41:53.644Z"
   },
   {
    "duration": 434,
    "start_time": "2023-11-03T11:41:59.196Z"
   },
   {
    "duration": 11,
    "start_time": "2023-11-03T11:42:22.534Z"
   },
   {
    "duration": 635,
    "start_time": "2023-11-03T11:42:37.953Z"
   },
   {
    "duration": 959,
    "start_time": "2023-11-03T11:42:43.488Z"
   },
   {
    "duration": 872,
    "start_time": "2023-11-03T11:43:01.009Z"
   },
   {
    "duration": 82,
    "start_time": "2023-11-03T11:43:28.980Z"
   },
   {
    "duration": 851,
    "start_time": "2023-11-03T11:43:32.997Z"
   },
   {
    "duration": 992,
    "start_time": "2023-11-03T11:44:03.685Z"
   },
   {
    "duration": 853,
    "start_time": "2023-11-03T11:44:42.675Z"
   },
   {
    "duration": 139,
    "start_time": "2023-11-03T11:45:25.136Z"
   },
   {
    "duration": 17,
    "start_time": "2023-11-03T11:46:18.157Z"
   },
   {
    "duration": 15,
    "start_time": "2023-11-03T11:46:25.949Z"
   },
   {
    "duration": 15,
    "start_time": "2023-11-03T11:48:56.373Z"
   },
   {
    "duration": 51,
    "start_time": "2023-11-03T11:51:12.379Z"
   },
   {
    "duration": 183,
    "start_time": "2023-11-03T11:51:26.868Z"
   },
   {
    "duration": 5,
    "start_time": "2023-11-03T11:51:44.821Z"
   },
   {
    "duration": 4,
    "start_time": "2023-11-03T11:54:02.502Z"
   },
   {
    "duration": 56,
    "start_time": "2023-11-03T11:54:02.508Z"
   },
   {
    "duration": 1077,
    "start_time": "2023-11-03T11:54:02.566Z"
   },
   {
    "duration": 4,
    "start_time": "2023-11-03T11:54:03.645Z"
   },
   {
    "duration": 31,
    "start_time": "2023-11-03T11:54:03.650Z"
   },
   {
    "duration": 193,
    "start_time": "2023-11-03T11:54:03.683Z"
   },
   {
    "duration": 490,
    "start_time": "2023-11-03T11:54:03.878Z"
   },
   {
    "duration": 952,
    "start_time": "2023-11-03T11:54:04.370Z"
   },
   {
    "duration": 148,
    "start_time": "2023-11-03T11:54:05.325Z"
   },
   {
    "duration": 143,
    "start_time": "2023-11-03T11:54:05.475Z"
   },
   {
    "duration": 244,
    "start_time": "2023-11-03T11:54:05.620Z"
   },
   {
    "duration": 71,
    "start_time": "2023-11-03T11:54:05.866Z"
   },
   {
    "duration": 185,
    "start_time": "2023-11-03T11:54:05.939Z"
   },
   {
    "duration": 128,
    "start_time": "2023-11-03T11:54:06.126Z"
   },
   {
    "duration": 15,
    "start_time": "2023-11-03T11:54:06.256Z"
   },
   {
    "duration": 7,
    "start_time": "2023-11-03T11:54:06.273Z"
   },
   {
    "duration": 514,
    "start_time": "2023-11-03T11:54:06.282Z"
   },
   {
    "duration": 328,
    "start_time": "2023-11-03T11:54:06.798Z"
   },
   {
    "duration": 622,
    "start_time": "2023-11-03T11:54:07.128Z"
   },
   {
    "duration": 571,
    "start_time": "2023-11-03T11:54:07.752Z"
   },
   {
    "duration": 173,
    "start_time": "2023-11-03T11:54:08.325Z"
   },
   {
    "duration": 14,
    "start_time": "2023-11-03T11:54:08.501Z"
   },
   {
    "duration": 243,
    "start_time": "2023-11-03T11:54:08.518Z"
   },
   {
    "duration": 525,
    "start_time": "2023-11-03T11:54:08.764Z"
   },
   {
    "duration": 891,
    "start_time": "2023-11-03T11:54:09.291Z"
   },
   {
    "duration": 294,
    "start_time": "2023-11-03T11:54:10.184Z"
   },
   {
    "duration": 16,
    "start_time": "2023-11-03T11:54:10.479Z"
   },
   {
    "duration": 172,
    "start_time": "2023-11-03T11:54:10.497Z"
   },
   {
    "duration": 163,
    "start_time": "2023-11-03T11:54:20.081Z"
   },
   {
    "duration": 4,
    "start_time": "2023-11-03T11:54:41.126Z"
   },
   {
    "duration": 4819,
    "start_time": "2023-11-03T11:55:32.301Z"
   },
   {
    "duration": 143,
    "start_time": "2023-11-03T11:58:53.864Z"
   },
   {
    "duration": 3217,
    "start_time": "2023-11-03T11:58:58.800Z"
   },
   {
    "duration": 438,
    "start_time": "2023-11-03T11:59:57.784Z"
   },
   {
    "duration": 443,
    "start_time": "2023-11-03T12:00:02.974Z"
   },
   {
    "duration": 484,
    "start_time": "2023-11-03T12:00:05.199Z"
   },
   {
    "duration": 450,
    "start_time": "2023-11-03T12:00:08.927Z"
   },
   {
    "duration": 143,
    "start_time": "2023-11-03T12:17:17.397Z"
   },
   {
    "duration": 192,
    "start_time": "2023-11-03T12:18:37.852Z"
   },
   {
    "duration": 683,
    "start_time": "2023-11-03T12:20:13.794Z"
   },
   {
    "duration": 611,
    "start_time": "2023-11-03T12:20:18.311Z"
   },
   {
    "duration": 54,
    "start_time": "2023-11-03T12:20:57.828Z"
   },
   {
    "duration": 880,
    "start_time": "2023-11-03T14:02:24.652Z"
   },
   {
    "duration": 851,
    "start_time": "2023-11-03T14:02:34.108Z"
   },
   {
    "duration": 936,
    "start_time": "2023-11-03T14:02:38.181Z"
   },
   {
    "duration": 943,
    "start_time": "2023-11-03T14:03:05.573Z"
   },
   {
    "duration": 44,
    "start_time": "2023-11-03T14:05:15.917Z"
   },
   {
    "duration": 15,
    "start_time": "2023-11-03T14:05:25.438Z"
   },
   {
    "duration": 1194,
    "start_time": "2023-11-03T14:06:31.105Z"
   },
   {
    "duration": 636,
    "start_time": "2023-11-03T14:07:28.421Z"
   },
   {
    "duration": 4,
    "start_time": "2023-11-03T14:15:57.393Z"
   },
   {
    "duration": 53,
    "start_time": "2023-11-03T14:16:01.633Z"
   },
   {
    "duration": 53,
    "start_time": "2023-11-03T14:16:54.883Z"
   },
   {
    "duration": 36,
    "start_time": "2023-11-03T14:17:20.953Z"
   },
   {
    "duration": 37,
    "start_time": "2023-11-03T14:17:29.811Z"
   },
   {
    "duration": 46,
    "start_time": "2023-11-03T14:18:05.275Z"
   },
   {
    "duration": 49,
    "start_time": "2023-11-03T14:18:36.193Z"
   },
   {
    "duration": 43,
    "start_time": "2023-11-03T14:19:51.216Z"
   },
   {
    "duration": 3,
    "start_time": "2023-11-03T14:19:55.983Z"
   },
   {
    "duration": 14,
    "start_time": "2023-11-03T14:19:55.989Z"
   },
   {
    "duration": 1083,
    "start_time": "2023-11-03T14:19:56.006Z"
   },
   {
    "duration": 4,
    "start_time": "2023-11-03T14:19:57.090Z"
   },
   {
    "duration": 32,
    "start_time": "2023-11-03T14:19:57.096Z"
   },
   {
    "duration": 195,
    "start_time": "2023-11-03T14:19:57.132Z"
   },
   {
    "duration": 565,
    "start_time": "2023-11-03T14:19:57.337Z"
   },
   {
    "duration": 1166,
    "start_time": "2023-11-03T14:19:57.905Z"
   },
   {
    "duration": 175,
    "start_time": "2023-11-03T14:19:59.072Z"
   },
   {
    "duration": 136,
    "start_time": "2023-11-03T14:19:59.249Z"
   },
   {
    "duration": 271,
    "start_time": "2023-11-03T14:19:59.389Z"
   },
   {
    "duration": 91,
    "start_time": "2023-11-03T14:19:59.662Z"
   },
   {
    "duration": 206,
    "start_time": "2023-11-03T14:19:59.755Z"
   },
   {
    "duration": 169,
    "start_time": "2023-11-03T14:19:59.963Z"
   },
   {
    "duration": 134,
    "start_time": "2023-11-03T14:20:00.135Z"
   },
   {
    "duration": 36,
    "start_time": "2023-11-03T14:20:00.271Z"
   },
   {
    "duration": 739,
    "start_time": "2023-11-03T14:20:00.309Z"
   },
   {
    "duration": 217,
    "start_time": "2023-11-03T14:20:01.050Z"
   },
   {
    "duration": 755,
    "start_time": "2023-11-03T14:20:01.268Z"
   },
   {
    "duration": 663,
    "start_time": "2023-11-03T14:20:02.032Z"
   },
   {
    "duration": 180,
    "start_time": "2023-11-03T14:20:02.697Z"
   },
   {
    "duration": 10,
    "start_time": "2023-11-03T14:20:02.879Z"
   },
   {
    "duration": 226,
    "start_time": "2023-11-03T14:20:02.890Z"
   },
   {
    "duration": 728,
    "start_time": "2023-11-03T14:20:03.118Z"
   },
   {
    "duration": 1260,
    "start_time": "2023-11-03T14:20:03.848Z"
   },
   {
    "duration": 239,
    "start_time": "2023-11-03T14:20:05.110Z"
   },
   {
    "duration": 18,
    "start_time": "2023-11-03T14:20:05.352Z"
   },
   {
    "duration": 269,
    "start_time": "2023-11-03T14:20:05.372Z"
   },
   {
    "duration": 694,
    "start_time": "2023-11-03T14:20:05.648Z"
   },
   {
    "duration": 295,
    "start_time": "2023-11-03T14:20:06.346Z"
   },
   {
    "duration": 774,
    "start_time": "2023-11-03T14:20:06.644Z"
   },
   {
    "duration": 707,
    "start_time": "2023-11-03T14:20:07.420Z"
   },
   {
    "duration": 40,
    "start_time": "2023-11-03T14:20:08.134Z"
   },
   {
    "duration": 52,
    "start_time": "2023-11-03T14:20:50.885Z"
   },
   {
    "duration": 13,
    "start_time": "2023-11-03T14:21:10.933Z"
   },
   {
    "duration": 7,
    "start_time": "2023-11-03T14:21:13.314Z"
   },
   {
    "duration": 10,
    "start_time": "2023-11-03T14:21:13.330Z"
   },
   {
    "duration": 1040,
    "start_time": "2023-11-03T14:21:13.342Z"
   },
   {
    "duration": 3,
    "start_time": "2023-11-03T14:21:14.384Z"
   },
   {
    "duration": 24,
    "start_time": "2023-11-03T14:21:14.389Z"
   },
   {
    "duration": 198,
    "start_time": "2023-11-03T14:21:14.424Z"
   },
   {
    "duration": 557,
    "start_time": "2023-11-03T14:21:14.627Z"
   },
   {
    "duration": 1080,
    "start_time": "2023-11-03T14:21:15.186Z"
   },
   {
    "duration": 176,
    "start_time": "2023-11-03T14:21:16.267Z"
   },
   {
    "duration": 135,
    "start_time": "2023-11-03T14:21:16.445Z"
   },
   {
    "duration": 290,
    "start_time": "2023-11-03T14:21:16.582Z"
   },
   {
    "duration": 93,
    "start_time": "2023-11-03T14:21:16.874Z"
   },
   {
    "duration": 212,
    "start_time": "2023-11-03T14:21:16.969Z"
   },
   {
    "duration": 160,
    "start_time": "2023-11-03T14:21:17.183Z"
   },
   {
    "duration": 5,
    "start_time": "2023-11-03T14:21:17.345Z"
   },
   {
    "duration": 13,
    "start_time": "2023-11-03T14:21:17.352Z"
   },
   {
    "duration": 639,
    "start_time": "2023-11-03T14:21:17.367Z"
   },
   {
    "duration": 396,
    "start_time": "2023-11-03T14:21:18.014Z"
   },
   {
    "duration": 731,
    "start_time": "2023-11-03T14:21:18.417Z"
   },
   {
    "duration": 655,
    "start_time": "2023-11-03T14:21:19.151Z"
   },
   {
    "duration": 184,
    "start_time": "2023-11-03T14:21:19.814Z"
   },
   {
    "duration": 26,
    "start_time": "2023-11-03T14:21:20.000Z"
   },
   {
    "duration": 224,
    "start_time": "2023-11-03T14:21:20.028Z"
   },
   {
    "duration": 598,
    "start_time": "2023-11-03T14:21:20.253Z"
   },
   {
    "duration": 1035,
    "start_time": "2023-11-03T14:21:20.853Z"
   },
   {
    "duration": 342,
    "start_time": "2023-11-03T14:21:21.890Z"
   },
   {
    "duration": 19,
    "start_time": "2023-11-03T14:21:22.234Z"
   },
   {
    "duration": 226,
    "start_time": "2023-11-03T14:21:22.255Z"
   },
   {
    "duration": 582,
    "start_time": "2023-11-03T14:21:22.482Z"
   },
   {
    "duration": 254,
    "start_time": "2023-11-03T14:21:23.066Z"
   },
   {
    "duration": 679,
    "start_time": "2023-11-03T14:21:23.322Z"
   },
   {
    "duration": 616,
    "start_time": "2023-11-03T14:21:24.003Z"
   },
   {
    "duration": 50,
    "start_time": "2023-11-03T14:21:24.631Z"
   },
   {
    "duration": 12,
    "start_time": "2023-11-03T14:21:58.348Z"
   },
   {
    "duration": 3,
    "start_time": "2023-11-03T14:22:03.488Z"
   },
   {
    "duration": 7,
    "start_time": "2023-11-03T14:22:03.493Z"
   },
   {
    "duration": 943,
    "start_time": "2023-11-03T14:22:03.502Z"
   },
   {
    "duration": 3,
    "start_time": "2023-11-03T14:22:04.447Z"
   },
   {
    "duration": 37,
    "start_time": "2023-11-03T14:22:04.452Z"
   },
   {
    "duration": 196,
    "start_time": "2023-11-03T14:22:04.491Z"
   },
   {
    "duration": 511,
    "start_time": "2023-11-03T14:22:04.688Z"
   },
   {
    "duration": 1042,
    "start_time": "2023-11-03T14:22:05.201Z"
   },
   {
    "duration": 185,
    "start_time": "2023-11-03T14:22:06.246Z"
   },
   {
    "duration": 121,
    "start_time": "2023-11-03T14:22:06.441Z"
   },
   {
    "duration": 268,
    "start_time": "2023-11-03T14:22:06.564Z"
   },
   {
    "duration": 87,
    "start_time": "2023-11-03T14:22:06.839Z"
   },
   {
    "duration": 213,
    "start_time": "2023-11-03T14:22:06.927Z"
   },
   {
    "duration": 146,
    "start_time": "2023-11-03T14:22:07.152Z"
   },
   {
    "duration": 12,
    "start_time": "2023-11-03T14:22:07.299Z"
   },
   {
    "duration": 24,
    "start_time": "2023-11-03T14:22:07.312Z"
   },
   {
    "duration": 666,
    "start_time": "2023-11-03T14:22:07.344Z"
   },
   {
    "duration": 246,
    "start_time": "2023-11-03T14:22:08.018Z"
   },
   {
    "duration": 781,
    "start_time": "2023-11-03T14:22:08.267Z"
   },
   {
    "duration": 680,
    "start_time": "2023-11-03T14:22:09.050Z"
   },
   {
    "duration": 168,
    "start_time": "2023-11-03T14:22:09.736Z"
   },
   {
    "duration": 20,
    "start_time": "2023-11-03T14:22:09.906Z"
   },
   {
    "duration": 222,
    "start_time": "2023-11-03T14:22:09.930Z"
   },
   {
    "duration": 812,
    "start_time": "2023-11-03T14:22:10.154Z"
   },
   {
    "duration": 1088,
    "start_time": "2023-11-03T14:22:10.968Z"
   },
   {
    "duration": 225,
    "start_time": "2023-11-03T14:22:12.058Z"
   },
   {
    "duration": 17,
    "start_time": "2023-11-03T14:22:12.285Z"
   },
   {
    "duration": 244,
    "start_time": "2023-11-03T14:22:12.318Z"
   },
   {
    "duration": 605,
    "start_time": "2023-11-03T14:22:12.564Z"
   },
   {
    "duration": 271,
    "start_time": "2023-11-03T14:22:13.171Z"
   },
   {
    "duration": 649,
    "start_time": "2023-11-03T14:22:13.444Z"
   },
   {
    "duration": 624,
    "start_time": "2023-11-03T14:22:14.095Z"
   },
   {
    "duration": 49,
    "start_time": "2023-11-03T14:22:14.721Z"
   },
   {
    "duration": 3,
    "start_time": "2023-11-03T14:22:27.450Z"
   },
   {
    "duration": 25,
    "start_time": "2023-11-03T14:22:27.455Z"
   },
   {
    "duration": 1092,
    "start_time": "2023-11-03T14:22:27.482Z"
   },
   {
    "duration": 5,
    "start_time": "2023-11-03T14:22:28.577Z"
   },
   {
    "duration": 56,
    "start_time": "2023-11-03T14:22:28.585Z"
   },
   {
    "duration": 213,
    "start_time": "2023-11-03T14:22:28.643Z"
   },
   {
    "duration": 505,
    "start_time": "2023-11-03T14:22:28.857Z"
   },
   {
    "duration": 1156,
    "start_time": "2023-11-03T14:22:29.364Z"
   },
   {
    "duration": 179,
    "start_time": "2023-11-03T14:22:30.532Z"
   },
   {
    "duration": 141,
    "start_time": "2023-11-03T14:22:30.719Z"
   },
   {
    "duration": 301,
    "start_time": "2023-11-03T14:22:30.862Z"
   },
   {
    "duration": 88,
    "start_time": "2023-11-03T14:22:31.165Z"
   },
   {
    "duration": 298,
    "start_time": "2023-11-03T14:22:31.256Z"
   },
   {
    "duration": 176,
    "start_time": "2023-11-03T14:22:31.556Z"
   },
   {
    "duration": 52,
    "start_time": "2023-11-03T14:22:31.736Z"
   },
   {
    "duration": 31,
    "start_time": "2023-11-03T14:22:31.790Z"
   },
   {
    "duration": 676,
    "start_time": "2023-11-03T14:22:31.823Z"
   },
   {
    "duration": 239,
    "start_time": "2023-11-03T14:22:32.501Z"
   },
   {
    "duration": 703,
    "start_time": "2023-11-03T14:22:32.744Z"
   },
   {
    "duration": 660,
    "start_time": "2023-11-03T14:22:33.449Z"
   },
   {
    "duration": 233,
    "start_time": "2023-11-03T14:22:34.118Z"
   },
   {
    "duration": 11,
    "start_time": "2023-11-03T14:22:34.352Z"
   },
   {
    "duration": 232,
    "start_time": "2023-11-03T14:22:34.365Z"
   },
   {
    "duration": 646,
    "start_time": "2023-11-03T14:22:34.601Z"
   },
   {
    "duration": 1175,
    "start_time": "2023-11-03T14:22:35.249Z"
   },
   {
    "duration": 190,
    "start_time": "2023-11-03T14:22:36.427Z"
   },
   {
    "duration": 18,
    "start_time": "2023-11-03T14:22:36.619Z"
   },
   {
    "duration": 236,
    "start_time": "2023-11-03T14:22:36.639Z"
   },
   {
    "duration": 583,
    "start_time": "2023-11-03T14:22:36.877Z"
   },
   {
    "duration": 281,
    "start_time": "2023-11-03T14:22:37.463Z"
   },
   {
    "duration": 703,
    "start_time": "2023-11-03T14:22:37.746Z"
   },
   {
    "duration": 659,
    "start_time": "2023-11-03T14:22:38.452Z"
   },
   {
    "duration": 55,
    "start_time": "2023-11-03T14:22:39.113Z"
   },
   {
    "duration": 14,
    "start_time": "2023-11-03T14:23:15.426Z"
   },
   {
    "duration": 3,
    "start_time": "2023-11-03T14:23:36.262Z"
   },
   {
    "duration": 4,
    "start_time": "2023-11-03T14:23:36.270Z"
   },
   {
    "duration": 966,
    "start_time": "2023-11-03T14:23:36.276Z"
   },
   {
    "duration": 3,
    "start_time": "2023-11-03T14:23:37.244Z"
   },
   {
    "duration": 28,
    "start_time": "2023-11-03T14:23:37.248Z"
   },
   {
    "duration": 206,
    "start_time": "2023-11-03T14:23:37.278Z"
   },
   {
    "duration": 501,
    "start_time": "2023-11-03T14:23:37.486Z"
   },
   {
    "duration": 1088,
    "start_time": "2023-11-03T14:23:37.988Z"
   },
   {
    "duration": 179,
    "start_time": "2023-11-03T14:23:39.078Z"
   },
   {
    "duration": 137,
    "start_time": "2023-11-03T14:23:39.259Z"
   },
   {
    "duration": 284,
    "start_time": "2023-11-03T14:23:39.398Z"
   },
   {
    "duration": 79,
    "start_time": "2023-11-03T14:23:39.684Z"
   },
   {
    "duration": 211,
    "start_time": "2023-11-03T14:23:39.765Z"
   },
   {
    "duration": 154,
    "start_time": "2023-11-03T14:23:39.979Z"
   },
   {
    "duration": 8,
    "start_time": "2023-11-03T14:23:40.136Z"
   },
   {
    "duration": 15,
    "start_time": "2023-11-03T14:23:40.146Z"
   },
   {
    "duration": 628,
    "start_time": "2023-11-03T14:23:40.163Z"
   },
   {
    "duration": 207,
    "start_time": "2023-11-03T14:23:40.793Z"
   },
   {
    "duration": 866,
    "start_time": "2023-11-03T14:23:41.002Z"
   },
   {
    "duration": 620,
    "start_time": "2023-11-03T14:23:41.870Z"
   },
   {
    "duration": 186,
    "start_time": "2023-11-03T14:23:42.491Z"
   },
   {
    "duration": 10,
    "start_time": "2023-11-03T14:23:42.679Z"
   },
   {
    "duration": 252,
    "start_time": "2023-11-03T14:23:42.691Z"
   },
   {
    "duration": 620,
    "start_time": "2023-11-03T14:23:42.946Z"
   },
   {
    "duration": 1002,
    "start_time": "2023-11-03T14:23:43.568Z"
   },
   {
    "duration": 196,
    "start_time": "2023-11-03T14:23:44.572Z"
   },
   {
    "duration": 16,
    "start_time": "2023-11-03T14:23:44.770Z"
   },
   {
    "duration": 376,
    "start_time": "2023-11-03T14:23:44.788Z"
   },
   {
    "duration": 602,
    "start_time": "2023-11-03T14:23:45.166Z"
   },
   {
    "duration": 266,
    "start_time": "2023-11-03T14:23:45.770Z"
   },
   {
    "duration": 671,
    "start_time": "2023-11-03T14:23:46.038Z"
   },
   {
    "duration": 633,
    "start_time": "2023-11-03T14:23:46.715Z"
   },
   {
    "duration": 48,
    "start_time": "2023-11-03T14:23:47.349Z"
   },
   {
    "duration": 1392,
    "start_time": "2023-11-03T14:24:07.551Z"
   },
   {
    "duration": 4,
    "start_time": "2023-11-03T14:24:08.945Z"
   },
   {
    "duration": 1182,
    "start_time": "2023-11-03T14:24:08.951Z"
   },
   {
    "duration": 3,
    "start_time": "2023-11-03T14:24:10.142Z"
   },
   {
    "duration": 12,
    "start_time": "2023-11-03T14:24:10.147Z"
   },
   {
    "duration": 207,
    "start_time": "2023-11-03T14:24:10.161Z"
   },
   {
    "duration": 589,
    "start_time": "2023-11-03T14:24:10.370Z"
   },
   {
    "duration": 1176,
    "start_time": "2023-11-03T14:24:10.960Z"
   },
   {
    "duration": 162,
    "start_time": "2023-11-03T14:24:12.137Z"
   },
   {
    "duration": 127,
    "start_time": "2023-11-03T14:24:12.302Z"
   },
   {
    "duration": 275,
    "start_time": "2023-11-03T14:24:12.431Z"
   },
   {
    "duration": 70,
    "start_time": "2023-11-03T14:24:12.708Z"
   },
   {
    "duration": 200,
    "start_time": "2023-11-03T14:24:12.780Z"
   },
   {
    "duration": 146,
    "start_time": "2023-11-03T14:24:12.982Z"
   },
   {
    "duration": 5,
    "start_time": "2023-11-03T14:24:13.130Z"
   },
   {
    "duration": 8,
    "start_time": "2023-11-03T14:24:13.138Z"
   },
   {
    "duration": 562,
    "start_time": "2023-11-03T14:24:13.147Z"
   },
   {
    "duration": 159,
    "start_time": "2023-11-03T14:24:13.711Z"
   },
   {
    "duration": 610,
    "start_time": "2023-11-03T14:24:13.872Z"
   },
   {
    "duration": 554,
    "start_time": "2023-11-03T14:24:14.484Z"
   },
   {
    "duration": 136,
    "start_time": "2023-11-03T14:24:15.040Z"
   },
   {
    "duration": 9,
    "start_time": "2023-11-03T14:24:15.178Z"
   },
   {
    "duration": 204,
    "start_time": "2023-11-03T14:24:15.189Z"
   },
   {
    "duration": 613,
    "start_time": "2023-11-03T14:24:15.395Z"
   },
   {
    "duration": 986,
    "start_time": "2023-11-03T14:24:16.014Z"
   },
   {
    "duration": 157,
    "start_time": "2023-11-03T14:24:17.001Z"
   },
   {
    "duration": 17,
    "start_time": "2023-11-03T14:24:17.160Z"
   },
   {
    "duration": 195,
    "start_time": "2023-11-03T14:24:17.180Z"
   },
   {
    "duration": 496,
    "start_time": "2023-11-03T14:24:17.378Z"
   },
   {
    "duration": 197,
    "start_time": "2023-11-03T14:24:17.876Z"
   },
   {
    "duration": 659,
    "start_time": "2023-11-03T14:24:18.075Z"
   },
   {
    "duration": 588,
    "start_time": "2023-11-03T14:24:18.742Z"
   },
   {
    "duration": 50,
    "start_time": "2023-11-03T14:24:19.332Z"
   },
   {
    "duration": 117,
    "start_time": "2023-11-03T14:24:50.951Z"
   },
   {
    "duration": 3,
    "start_time": "2023-11-03T14:25:12.600Z"
   },
   {
    "duration": 8,
    "start_time": "2023-11-03T14:25:12.605Z"
   },
   {
    "duration": 1104,
    "start_time": "2023-11-03T14:25:12.616Z"
   },
   {
    "duration": 8,
    "start_time": "2023-11-03T14:25:13.727Z"
   },
   {
    "duration": 13,
    "start_time": "2023-11-03T14:25:13.737Z"
   },
   {
    "duration": 192,
    "start_time": "2023-11-03T14:25:13.752Z"
   },
   {
    "duration": 517,
    "start_time": "2023-11-03T14:25:13.946Z"
   },
   {
    "duration": 1113,
    "start_time": "2023-11-03T14:25:14.465Z"
   },
   {
    "duration": 185,
    "start_time": "2023-11-03T14:25:15.580Z"
   },
   {
    "duration": 126,
    "start_time": "2023-11-03T14:25:15.767Z"
   },
   {
    "duration": 283,
    "start_time": "2023-11-03T14:25:15.896Z"
   },
   {
    "duration": 81,
    "start_time": "2023-11-03T14:25:16.181Z"
   },
   {
    "duration": 204,
    "start_time": "2023-11-03T14:25:16.265Z"
   },
   {
    "duration": 146,
    "start_time": "2023-11-03T14:25:16.471Z"
   },
   {
    "duration": 18,
    "start_time": "2023-11-03T14:25:16.619Z"
   },
   {
    "duration": 5,
    "start_time": "2023-11-03T14:25:16.640Z"
   },
   {
    "duration": 570,
    "start_time": "2023-11-03T14:25:16.647Z"
   },
   {
    "duration": 271,
    "start_time": "2023-11-03T14:25:17.219Z"
   },
   {
    "duration": 682,
    "start_time": "2023-11-03T14:25:17.492Z"
   },
   {
    "duration": 601,
    "start_time": "2023-11-03T14:25:18.176Z"
   },
   {
    "duration": 145,
    "start_time": "2023-11-03T14:25:18.778Z"
   },
   {
    "duration": 13,
    "start_time": "2023-11-03T14:25:18.929Z"
   },
   {
    "duration": 192,
    "start_time": "2023-11-03T14:25:18.944Z"
   },
   {
    "duration": 597,
    "start_time": "2023-11-03T14:25:19.141Z"
   },
   {
    "duration": 955,
    "start_time": "2023-11-03T14:25:19.740Z"
   },
   {
    "duration": 275,
    "start_time": "2023-11-03T14:25:20.698Z"
   },
   {
    "duration": 16,
    "start_time": "2023-11-03T14:25:20.975Z"
   },
   {
    "duration": 192,
    "start_time": "2023-11-03T14:25:20.993Z"
   },
   {
    "duration": 507,
    "start_time": "2023-11-03T14:25:21.188Z"
   },
   {
    "duration": 208,
    "start_time": "2023-11-03T14:25:21.696Z"
   },
   {
    "duration": 598,
    "start_time": "2023-11-03T14:25:21.906Z"
   },
   {
    "duration": 584,
    "start_time": "2023-11-03T14:25:22.506Z"
   },
   {
    "duration": 14,
    "start_time": "2023-11-03T14:25:23.091Z"
   },
   {
    "duration": 52,
    "start_time": "2023-11-03T14:25:23.115Z"
   },
   {
    "duration": 84,
    "start_time": "2023-11-03T14:25:53.963Z"
   },
   {
    "duration": 91,
    "start_time": "2023-11-03T14:26:02.444Z"
   },
   {
    "duration": 63,
    "start_time": "2023-11-03T14:26:36.944Z"
   },
   {
    "duration": 44,
    "start_time": "2023-11-03T14:27:13.062Z"
   },
   {
    "duration": 20,
    "start_time": "2023-11-03T14:27:38.117Z"
   },
   {
    "duration": 4,
    "start_time": "2023-11-03T14:27:43.373Z"
   },
   {
    "duration": 4,
    "start_time": "2023-11-03T14:27:43.379Z"
   },
   {
    "duration": 1001,
    "start_time": "2023-11-03T14:27:43.385Z"
   },
   {
    "duration": 3,
    "start_time": "2023-11-03T14:27:44.389Z"
   },
   {
    "duration": 14,
    "start_time": "2023-11-03T14:27:44.394Z"
   },
   {
    "duration": 215,
    "start_time": "2023-11-03T14:27:44.410Z"
   },
   {
    "duration": 523,
    "start_time": "2023-11-03T14:27:44.626Z"
   },
   {
    "duration": 1140,
    "start_time": "2023-11-03T14:27:45.151Z"
   },
   {
    "duration": 190,
    "start_time": "2023-11-03T14:27:46.293Z"
   },
   {
    "duration": 135,
    "start_time": "2023-11-03T14:27:46.485Z"
   },
   {
    "duration": 268,
    "start_time": "2023-11-03T14:27:46.627Z"
   },
   {
    "duration": 78,
    "start_time": "2023-11-03T14:27:46.897Z"
   },
   {
    "duration": 216,
    "start_time": "2023-11-03T14:27:46.978Z"
   },
   {
    "duration": 173,
    "start_time": "2023-11-03T14:27:47.196Z"
   },
   {
    "duration": 5,
    "start_time": "2023-11-03T14:27:47.370Z"
   },
   {
    "duration": 6,
    "start_time": "2023-11-03T14:27:47.377Z"
   },
   {
    "duration": 548,
    "start_time": "2023-11-03T14:27:47.385Z"
   },
   {
    "duration": 152,
    "start_time": "2023-11-03T14:27:47.943Z"
   },
   {
    "duration": 707,
    "start_time": "2023-11-03T14:27:48.097Z"
   },
   {
    "duration": 669,
    "start_time": "2023-11-03T14:27:48.806Z"
   },
   {
    "duration": 141,
    "start_time": "2023-11-03T14:27:49.477Z"
   },
   {
    "duration": 18,
    "start_time": "2023-11-03T14:27:49.625Z"
   },
   {
    "duration": 186,
    "start_time": "2023-11-03T14:27:49.646Z"
   },
   {
    "duration": 616,
    "start_time": "2023-11-03T14:27:49.839Z"
   },
   {
    "duration": 969,
    "start_time": "2023-11-03T14:27:50.458Z"
   },
   {
    "duration": 158,
    "start_time": "2023-11-03T14:27:51.437Z"
   },
   {
    "duration": 30,
    "start_time": "2023-11-03T14:27:51.597Z"
   },
   {
    "duration": 178,
    "start_time": "2023-11-03T14:27:51.635Z"
   },
   {
    "duration": 508,
    "start_time": "2023-11-03T14:27:51.819Z"
   },
   {
    "duration": 325,
    "start_time": "2023-11-03T14:27:52.329Z"
   },
   {
    "duration": 611,
    "start_time": "2023-11-03T14:27:52.657Z"
   },
   {
    "duration": 545,
    "start_time": "2023-11-03T14:27:53.269Z"
   },
   {
    "duration": 21,
    "start_time": "2023-11-03T14:27:53.816Z"
   },
   {
    "duration": 47,
    "start_time": "2023-11-03T14:27:53.839Z"
   },
   {
    "duration": 3,
    "start_time": "2023-11-03T14:28:18.069Z"
   },
   {
    "duration": 4,
    "start_time": "2023-11-03T14:28:18.075Z"
   },
   {
    "duration": 1078,
    "start_time": "2023-11-03T14:28:18.081Z"
   },
   {
    "duration": 3,
    "start_time": "2023-11-03T14:28:19.161Z"
   },
   {
    "duration": 12,
    "start_time": "2023-11-03T14:28:19.166Z"
   },
   {
    "duration": 216,
    "start_time": "2023-11-03T14:28:19.179Z"
   },
   {
    "duration": 532,
    "start_time": "2023-11-03T14:28:19.397Z"
   },
   {
    "duration": 1091,
    "start_time": "2023-11-03T14:28:19.939Z"
   },
   {
    "duration": 171,
    "start_time": "2023-11-03T14:28:21.033Z"
   },
   {
    "duration": 144,
    "start_time": "2023-11-03T14:28:21.205Z"
   },
   {
    "duration": 291,
    "start_time": "2023-11-03T14:28:21.350Z"
   },
   {
    "duration": 58,
    "start_time": "2023-11-03T14:28:21.643Z"
   },
   {
    "duration": 205,
    "start_time": "2023-11-03T14:28:21.703Z"
   },
   {
    "duration": 150,
    "start_time": "2023-11-03T14:28:21.917Z"
   },
   {
    "duration": 5,
    "start_time": "2023-11-03T14:28:22.068Z"
   },
   {
    "duration": 7,
    "start_time": "2023-11-03T14:28:22.074Z"
   },
   {
    "duration": 563,
    "start_time": "2023-11-03T14:28:22.083Z"
   },
   {
    "duration": 166,
    "start_time": "2023-11-03T14:28:22.650Z"
   },
   {
    "duration": 652,
    "start_time": "2023-11-03T14:28:22.827Z"
   },
   {
    "duration": 579,
    "start_time": "2023-11-03T14:28:23.481Z"
   },
   {
    "duration": 141,
    "start_time": "2023-11-03T14:28:24.062Z"
   },
   {
    "duration": 34,
    "start_time": "2023-11-03T14:28:24.205Z"
   },
   {
    "duration": 192,
    "start_time": "2023-11-03T14:28:24.243Z"
   },
   {
    "duration": 627,
    "start_time": "2023-11-03T14:28:24.446Z"
   },
   {
    "duration": 1064,
    "start_time": "2023-11-03T14:28:25.075Z"
   },
   {
    "duration": 147,
    "start_time": "2023-11-03T14:28:26.144Z"
   },
   {
    "duration": 27,
    "start_time": "2023-11-03T14:28:26.293Z"
   },
   {
    "duration": 181,
    "start_time": "2023-11-03T14:28:26.325Z"
   },
   {
    "duration": 485,
    "start_time": "2023-11-03T14:28:26.507Z"
   },
   {
    "duration": 203,
    "start_time": "2023-11-03T14:28:26.994Z"
   },
   {
    "duration": 645,
    "start_time": "2023-11-03T14:28:27.198Z"
   },
   {
    "duration": 607,
    "start_time": "2023-11-03T14:28:27.845Z"
   },
   {
    "duration": 17,
    "start_time": "2023-11-03T14:28:28.454Z"
   },
   {
    "duration": 78,
    "start_time": "2023-11-03T14:28:28.473Z"
   },
   {
    "duration": 3,
    "start_time": "2023-11-03T14:28:37.179Z"
   },
   {
    "duration": 7,
    "start_time": "2023-11-03T14:28:37.185Z"
   },
   {
    "duration": 1064,
    "start_time": "2023-11-03T14:28:37.194Z"
   },
   {
    "duration": 5,
    "start_time": "2023-11-03T14:28:38.264Z"
   },
   {
    "duration": 32,
    "start_time": "2023-11-03T14:28:38.272Z"
   },
   {
    "duration": 225,
    "start_time": "2023-11-03T14:28:38.306Z"
   },
   {
    "duration": 500,
    "start_time": "2023-11-03T14:28:38.536Z"
   },
   {
    "duration": 1025,
    "start_time": "2023-11-03T14:28:39.040Z"
   },
   {
    "duration": 186,
    "start_time": "2023-11-03T14:28:40.068Z"
   },
   {
    "duration": 124,
    "start_time": "2023-11-03T14:28:40.256Z"
   },
   {
    "duration": 277,
    "start_time": "2023-11-03T14:28:40.381Z"
   },
   {
    "duration": 83,
    "start_time": "2023-11-03T14:28:40.660Z"
   },
   {
    "duration": 218,
    "start_time": "2023-11-03T14:28:40.745Z"
   },
   {
    "duration": 139,
    "start_time": "2023-11-03T14:28:40.965Z"
   },
   {
    "duration": 23,
    "start_time": "2023-11-03T14:28:41.107Z"
   },
   {
    "duration": 8,
    "start_time": "2023-11-03T14:28:41.132Z"
   },
   {
    "duration": 567,
    "start_time": "2023-11-03T14:28:41.142Z"
   },
   {
    "duration": 271,
    "start_time": "2023-11-03T14:28:41.714Z"
   },
   {
    "duration": 684,
    "start_time": "2023-11-03T14:28:41.987Z"
   },
   {
    "duration": 578,
    "start_time": "2023-11-03T14:28:42.673Z"
   },
   {
    "duration": 144,
    "start_time": "2023-11-03T14:28:43.254Z"
   },
   {
    "duration": 21,
    "start_time": "2023-11-03T14:28:43.400Z"
   },
   {
    "duration": 181,
    "start_time": "2023-11-03T14:28:43.422Z"
   },
   {
    "duration": 589,
    "start_time": "2023-11-03T14:28:43.618Z"
   },
   {
    "duration": 934,
    "start_time": "2023-11-03T14:28:44.210Z"
   },
   {
    "duration": 258,
    "start_time": "2023-11-03T14:28:45.146Z"
   },
   {
    "duration": 30,
    "start_time": "2023-11-03T14:28:45.406Z"
   },
   {
    "duration": 201,
    "start_time": "2023-11-03T14:28:45.438Z"
   },
   {
    "duration": 460,
    "start_time": "2023-11-03T14:28:45.641Z"
   },
   {
    "duration": 234,
    "start_time": "2023-11-03T14:28:46.104Z"
   },
   {
    "duration": 626,
    "start_time": "2023-11-03T14:28:46.343Z"
   },
   {
    "duration": 562,
    "start_time": "2023-11-03T14:28:46.970Z"
   },
   {
    "duration": 22,
    "start_time": "2023-11-03T14:28:47.533Z"
   },
   {
    "duration": 80,
    "start_time": "2023-11-03T14:28:47.557Z"
   },
   {
    "duration": 21,
    "start_time": "2023-11-03T14:28:54.718Z"
   },
   {
    "duration": 10,
    "start_time": "2023-11-03T14:29:08.730Z"
   },
   {
    "duration": 36,
    "start_time": "2023-11-03T14:29:13.482Z"
   },
   {
    "duration": 15,
    "start_time": "2023-11-03T14:29:17.034Z"
   },
   {
    "duration": 11,
    "start_time": "2023-11-03T14:29:19.229Z"
   },
   {
    "duration": 39,
    "start_time": "2023-11-03T14:29:19.242Z"
   },
   {
    "duration": 1045,
    "start_time": "2023-11-03T14:29:19.283Z"
   },
   {
    "duration": 5,
    "start_time": "2023-11-03T14:29:20.330Z"
   },
   {
    "duration": 40,
    "start_time": "2023-11-03T14:29:20.337Z"
   },
   {
    "duration": 211,
    "start_time": "2023-11-03T14:29:20.379Z"
   },
   {
    "duration": 530,
    "start_time": "2023-11-03T14:29:20.592Z"
   },
   {
    "duration": 1061,
    "start_time": "2023-11-03T14:29:21.126Z"
   },
   {
    "duration": 189,
    "start_time": "2023-11-03T14:29:22.190Z"
   },
   {
    "duration": 125,
    "start_time": "2023-11-03T14:29:22.382Z"
   },
   {
    "duration": 281,
    "start_time": "2023-11-03T14:29:22.519Z"
   },
   {
    "duration": 80,
    "start_time": "2023-11-03T14:29:22.802Z"
   },
   {
    "duration": 207,
    "start_time": "2023-11-03T14:29:22.884Z"
   },
   {
    "duration": 155,
    "start_time": "2023-11-03T14:29:23.094Z"
   },
   {
    "duration": 5,
    "start_time": "2023-11-03T14:29:23.251Z"
   },
   {
    "duration": 17,
    "start_time": "2023-11-03T14:29:23.258Z"
   },
   {
    "duration": 563,
    "start_time": "2023-11-03T14:29:23.276Z"
   },
   {
    "duration": 157,
    "start_time": "2023-11-03T14:29:23.841Z"
   },
   {
    "duration": 677,
    "start_time": "2023-11-03T14:29:24.000Z"
   },
   {
    "duration": 573,
    "start_time": "2023-11-03T14:29:24.679Z"
   },
   {
    "duration": 291,
    "start_time": "2023-11-03T14:29:25.254Z"
   },
   {
    "duration": 9,
    "start_time": "2023-11-03T14:29:25.547Z"
   },
   {
    "duration": 193,
    "start_time": "2023-11-03T14:29:25.557Z"
   },
   {
    "duration": 564,
    "start_time": "2023-11-03T14:29:25.752Z"
   },
   {
    "duration": 927,
    "start_time": "2023-11-03T14:29:26.318Z"
   },
   {
    "duration": 161,
    "start_time": "2023-11-03T14:29:27.248Z"
   },
   {
    "duration": 18,
    "start_time": "2023-11-03T14:29:27.414Z"
   },
   {
    "duration": 215,
    "start_time": "2023-11-03T14:29:27.436Z"
   },
   {
    "duration": 502,
    "start_time": "2023-11-03T14:29:27.652Z"
   },
   {
    "duration": 243,
    "start_time": "2023-11-03T14:29:28.156Z"
   },
   {
    "duration": 761,
    "start_time": "2023-11-03T14:29:28.402Z"
   },
   {
    "duration": 544,
    "start_time": "2023-11-03T14:29:29.165Z"
   },
   {
    "duration": 20,
    "start_time": "2023-11-03T14:29:29.715Z"
   },
   {
    "duration": 35,
    "start_time": "2023-11-03T14:29:29.738Z"
   },
   {
    "duration": 12,
    "start_time": "2023-11-03T14:29:29.775Z"
   },
   {
    "duration": 1567,
    "start_time": "2023-11-06T08:05:30.564Z"
   },
   {
    "duration": 4,
    "start_time": "2023-11-06T08:05:35.204Z"
   },
   {
    "duration": 1209,
    "start_time": "2023-11-06T08:05:35.210Z"
   },
   {
    "duration": 2,
    "start_time": "2023-11-06T08:05:36.421Z"
   },
   {
    "duration": 13,
    "start_time": "2023-11-06T08:05:36.426Z"
   },
   {
    "duration": 161,
    "start_time": "2023-11-06T08:05:36.441Z"
   },
   {
    "duration": 463,
    "start_time": "2023-11-06T08:05:36.603Z"
   },
   {
    "duration": 972,
    "start_time": "2023-11-06T08:05:37.068Z"
   },
   {
    "duration": 131,
    "start_time": "2023-11-06T08:05:38.042Z"
   },
   {
    "duration": 104,
    "start_time": "2023-11-06T08:05:38.176Z"
   },
   {
    "duration": 230,
    "start_time": "2023-11-06T08:05:38.282Z"
   },
   {
    "duration": 57,
    "start_time": "2023-11-06T08:05:38.513Z"
   },
   {
    "duration": 170,
    "start_time": "2023-11-06T08:05:38.571Z"
   },
   {
    "duration": 113,
    "start_time": "2023-11-06T08:05:38.743Z"
   },
   {
    "duration": 4,
    "start_time": "2023-11-06T08:05:38.858Z"
   },
   {
    "duration": 4,
    "start_time": "2023-11-06T08:05:38.864Z"
   },
   {
    "duration": 539,
    "start_time": "2023-11-06T08:05:38.870Z"
   },
   {
    "duration": 169,
    "start_time": "2023-11-06T08:05:39.411Z"
   },
   {
    "duration": 553,
    "start_time": "2023-11-06T08:05:39.581Z"
   },
   {
    "duration": 549,
    "start_time": "2023-11-06T08:05:40.136Z"
   },
   {
    "duration": 117,
    "start_time": "2023-11-06T08:05:40.686Z"
   },
   {
    "duration": 8,
    "start_time": "2023-11-06T08:05:40.807Z"
   },
   {
    "duration": 161,
    "start_time": "2023-11-06T08:05:40.816Z"
   },
   {
    "duration": 489,
    "start_time": "2023-11-06T08:05:40.979Z"
   },
   {
    "duration": 808,
    "start_time": "2023-11-06T08:05:41.472Z"
   },
   {
    "duration": 138,
    "start_time": "2023-11-06T08:05:42.282Z"
   },
   {
    "duration": 19,
    "start_time": "2023-11-06T08:05:42.422Z"
   },
   {
    "duration": 174,
    "start_time": "2023-11-06T08:05:42.443Z"
   },
   {
    "duration": 429,
    "start_time": "2023-11-06T08:05:42.618Z"
   },
   {
    "duration": 264,
    "start_time": "2023-11-06T08:05:43.049Z"
   },
   {
    "duration": 476,
    "start_time": "2023-11-06T08:05:43.314Z"
   },
   {
    "duration": 460,
    "start_time": "2023-11-06T08:05:43.791Z"
   },
   {
    "duration": 13,
    "start_time": "2023-11-06T08:05:44.253Z"
   },
   {
    "duration": 53,
    "start_time": "2023-11-06T08:05:44.267Z"
   },
   {
    "duration": 3,
    "start_time": "2023-11-06T08:21:06.383Z"
   },
   {
    "duration": 1425,
    "start_time": "2023-11-06T08:26:31.053Z"
   },
   {
    "duration": 4,
    "start_time": "2023-11-06T08:27:47.428Z"
   },
   {
    "duration": 1427,
    "start_time": "2023-11-06T08:28:31.802Z"
   },
   {
    "duration": 2,
    "start_time": "2023-11-06T08:28:33.231Z"
   },
   {
    "duration": 5,
    "start_time": "2023-11-06T08:28:33.234Z"
   },
   {
    "duration": 1050,
    "start_time": "2023-11-06T08:28:33.241Z"
   },
   {
    "duration": 4,
    "start_time": "2023-11-06T08:28:34.292Z"
   },
   {
    "duration": 7,
    "start_time": "2023-11-06T08:28:34.297Z"
   },
   {
    "duration": 138,
    "start_time": "2023-11-06T08:28:34.307Z"
   },
   {
    "duration": 456,
    "start_time": "2023-11-06T08:28:34.446Z"
   },
   {
    "duration": 993,
    "start_time": "2023-11-06T08:28:34.903Z"
   },
   {
    "duration": 189,
    "start_time": "2023-11-06T08:28:35.898Z"
   },
   {
    "duration": 143,
    "start_time": "2023-11-06T08:28:36.088Z"
   },
   {
    "duration": 234,
    "start_time": "2023-11-06T08:28:36.232Z"
   },
   {
    "duration": 58,
    "start_time": "2023-11-06T08:28:36.467Z"
   },
   {
    "duration": 164,
    "start_time": "2023-11-06T08:28:36.527Z"
   },
   {
    "duration": 114,
    "start_time": "2023-11-06T08:28:36.693Z"
   },
   {
    "duration": 5,
    "start_time": "2023-11-06T08:28:36.809Z"
   },
   {
    "duration": 10,
    "start_time": "2023-11-06T08:28:36.816Z"
   },
   {
    "duration": 467,
    "start_time": "2023-11-06T08:28:36.828Z"
   },
   {
    "duration": 154,
    "start_time": "2023-11-06T08:28:37.297Z"
   },
   {
    "duration": 542,
    "start_time": "2023-11-06T08:28:37.453Z"
   },
   {
    "duration": 551,
    "start_time": "2023-11-06T08:28:37.997Z"
   },
   {
    "duration": 124,
    "start_time": "2023-11-06T08:28:38.550Z"
   },
   {
    "duration": 8,
    "start_time": "2023-11-06T08:28:38.676Z"
   },
   {
    "duration": 162,
    "start_time": "2023-11-06T08:28:38.686Z"
   },
   {
    "duration": 564,
    "start_time": "2023-11-06T08:28:38.850Z"
   },
   {
    "duration": 846,
    "start_time": "2023-11-06T08:28:39.416Z"
   },
   {
    "duration": 133,
    "start_time": "2023-11-06T08:28:40.264Z"
   },
   {
    "duration": 19,
    "start_time": "2023-11-06T08:28:40.400Z"
   },
   {
    "duration": 174,
    "start_time": "2023-11-06T08:28:40.421Z"
   },
   {
    "duration": 453,
    "start_time": "2023-11-06T08:28:40.596Z"
   },
   {
    "duration": 266,
    "start_time": "2023-11-06T08:28:41.051Z"
   },
   {
    "duration": 506,
    "start_time": "2023-11-06T08:28:41.319Z"
   },
   {
    "duration": 454,
    "start_time": "2023-11-06T08:28:41.827Z"
   },
   {
    "duration": 25,
    "start_time": "2023-11-06T08:28:42.282Z"
   },
   {
    "duration": 48,
    "start_time": "2023-11-06T08:28:42.308Z"
   },
   {
    "duration": 86,
    "start_time": "2023-11-06T08:28:42.357Z"
   },
   {
    "duration": 4,
    "start_time": "2023-11-06T08:31:45.532Z"
   },
   {
    "duration": 216,
    "start_time": "2023-11-06T08:31:56.174Z"
   },
   {
    "duration": 4,
    "start_time": "2023-11-06T08:32:11.414Z"
   },
   {
    "duration": 3,
    "start_time": "2023-11-06T08:32:14.167Z"
   },
   {
    "duration": 380,
    "start_time": "2023-11-06T08:32:15.801Z"
   },
   {
    "duration": 1454,
    "start_time": "2023-11-06T08:32:41.820Z"
   },
   {
    "duration": 3,
    "start_time": "2023-11-06T08:32:43.276Z"
   },
   {
    "duration": 18,
    "start_time": "2023-11-06T08:32:43.280Z"
   },
   {
    "duration": 912,
    "start_time": "2023-11-06T08:32:43.300Z"
   },
   {
    "duration": 3,
    "start_time": "2023-11-06T08:32:44.213Z"
   },
   {
    "duration": 11,
    "start_time": "2023-11-06T08:32:44.218Z"
   },
   {
    "duration": 6,
    "start_time": "2023-11-06T08:32:44.231Z"
   },
   {
    "duration": 1064,
    "start_time": "2023-11-06T08:32:44.238Z"
   },
   {
    "duration": 495,
    "start_time": "2023-11-06T08:32:45.303Z"
   },
   {
    "duration": 1061,
    "start_time": "2023-11-06T08:32:45.801Z"
   },
   {
    "duration": 164,
    "start_time": "2023-11-06T08:32:46.864Z"
   },
   {
    "duration": 136,
    "start_time": "2023-11-06T08:32:47.030Z"
   },
   {
    "duration": 266,
    "start_time": "2023-11-06T08:32:47.168Z"
   },
   {
    "duration": 58,
    "start_time": "2023-11-06T08:32:47.436Z"
   },
   {
    "duration": 172,
    "start_time": "2023-11-06T08:32:47.506Z"
   },
   {
    "duration": 123,
    "start_time": "2023-11-06T08:32:47.680Z"
   },
   {
    "duration": 55,
    "start_time": "2023-11-06T08:32:47.807Z"
   },
   {
    "duration": 48,
    "start_time": "2023-11-06T08:32:47.864Z"
   },
   {
    "duration": 497,
    "start_time": "2023-11-06T08:32:47.914Z"
   },
   {
    "duration": 151,
    "start_time": "2023-11-06T08:32:48.413Z"
   },
   {
    "duration": 559,
    "start_time": "2023-11-06T08:32:48.566Z"
   },
   {
    "duration": 564,
    "start_time": "2023-11-06T08:32:49.127Z"
   },
   {
    "duration": 130,
    "start_time": "2023-11-06T08:32:49.693Z"
   },
   {
    "duration": 8,
    "start_time": "2023-11-06T08:32:49.825Z"
   },
   {
    "duration": 215,
    "start_time": "2023-11-06T08:32:49.834Z"
   },
   {
    "duration": 552,
    "start_time": "2023-11-06T08:32:50.051Z"
   },
   {
    "duration": 840,
    "start_time": "2023-11-06T08:32:50.604Z"
   },
   {
    "duration": 136,
    "start_time": "2023-11-06T08:32:51.448Z"
   },
   {
    "duration": 23,
    "start_time": "2023-11-06T08:32:51.585Z"
   },
   {
    "duration": 172,
    "start_time": "2023-11-06T08:32:51.610Z"
   },
   {
    "duration": 463,
    "start_time": "2023-11-06T08:32:51.783Z"
   },
   {
    "duration": 304,
    "start_time": "2023-11-06T08:32:52.247Z"
   },
   {
    "duration": 555,
    "start_time": "2023-11-06T08:32:52.552Z"
   },
   {
    "duration": 483,
    "start_time": "2023-11-06T08:32:53.109Z"
   },
   {
    "duration": 28,
    "start_time": "2023-11-06T08:32:53.594Z"
   },
   {
    "duration": 55,
    "start_time": "2023-11-06T08:32:53.624Z"
   },
   {
    "duration": 74,
    "start_time": "2023-11-06T08:32:53.681Z"
   },
   {
    "duration": 112,
    "start_time": "2023-11-06T08:33:54.865Z"
   },
   {
    "duration": 19,
    "start_time": "2023-11-06T08:33:59.889Z"
   },
   {
    "duration": 9,
    "start_time": "2023-11-06T08:35:37.980Z"
   },
   {
    "duration": 10,
    "start_time": "2023-11-06T08:35:40.735Z"
   },
   {
    "duration": 71,
    "start_time": "2023-11-06T08:35:46.172Z"
   },
   {
    "duration": 23,
    "start_time": "2023-11-06T08:36:16.025Z"
   },
   {
    "duration": 61,
    "start_time": "2023-11-06T08:36:16.769Z"
   },
   {
    "duration": 276,
    "start_time": "2023-11-06T08:36:59.163Z"
   },
   {
    "duration": 121,
    "start_time": "2023-11-06T08:37:13.118Z"
   },
   {
    "duration": 58,
    "start_time": "2023-11-06T08:37:47.308Z"
   },
   {
    "duration": 65,
    "start_time": "2023-11-06T08:38:53.921Z"
   },
   {
    "duration": 71,
    "start_time": "2023-11-06T08:39:12.881Z"
   },
   {
    "duration": 85,
    "start_time": "2023-11-06T08:39:16.585Z"
   },
   {
    "duration": 28,
    "start_time": "2023-11-06T08:39:21.882Z"
   },
   {
    "duration": 29,
    "start_time": "2023-11-06T08:40:13.983Z"
   },
   {
    "duration": 264,
    "start_time": "2023-11-06T08:41:00.180Z"
   },
   {
    "duration": 119,
    "start_time": "2023-11-06T08:41:04.243Z"
   },
   {
    "duration": 16,
    "start_time": "2023-11-06T08:52:29.105Z"
   },
   {
    "duration": 12,
    "start_time": "2023-11-06T08:55:42.219Z"
   },
   {
    "duration": 3,
    "start_time": "2023-11-06T08:56:24.760Z"
   },
   {
    "duration": 12,
    "start_time": "2023-11-06T08:56:31.991Z"
   },
   {
    "duration": 17,
    "start_time": "2023-11-06T08:58:25.003Z"
   },
   {
    "duration": 20,
    "start_time": "2023-11-06T08:59:17.705Z"
   },
   {
    "duration": 1015,
    "start_time": "2023-11-06T08:59:20.633Z"
   },
   {
    "duration": 12,
    "start_time": "2023-11-06T08:59:25.928Z"
   },
   {
    "duration": 18,
    "start_time": "2023-11-06T08:59:42.203Z"
   },
   {
    "duration": 365,
    "start_time": "2023-11-06T09:00:50.721Z"
   },
   {
    "duration": 4,
    "start_time": "2023-11-06T09:01:21.363Z"
   },
   {
    "duration": 11,
    "start_time": "2023-11-06T09:01:32.581Z"
   },
   {
    "duration": 1517,
    "start_time": "2023-11-06T09:01:56.300Z"
   },
   {
    "duration": 4,
    "start_time": "2023-11-06T09:01:57.821Z"
   },
   {
    "duration": 6,
    "start_time": "2023-11-06T09:01:57.827Z"
   },
   {
    "duration": 949,
    "start_time": "2023-11-06T09:01:57.835Z"
   },
   {
    "duration": 3,
    "start_time": "2023-11-06T09:01:58.786Z"
   },
   {
    "duration": 35,
    "start_time": "2023-11-06T09:01:58.790Z"
   },
   {
    "duration": 9,
    "start_time": "2023-11-06T09:01:58.826Z"
   },
   {
    "duration": 1174,
    "start_time": "2023-11-06T09:01:58.837Z"
   },
   {
    "duration": 533,
    "start_time": "2023-11-06T09:02:00.014Z"
   },
   {
    "duration": 1068,
    "start_time": "2023-11-06T09:02:00.550Z"
   },
   {
    "duration": 140,
    "start_time": "2023-11-06T09:02:01.620Z"
   },
   {
    "duration": 108,
    "start_time": "2023-11-06T09:02:01.761Z"
   },
   {
    "duration": 238,
    "start_time": "2023-11-06T09:02:01.871Z"
   },
   {
    "duration": 55,
    "start_time": "2023-11-06T09:02:02.111Z"
   },
   {
    "duration": 184,
    "start_time": "2023-11-06T09:02:02.168Z"
   },
   {
    "duration": 110,
    "start_time": "2023-11-06T09:02:02.353Z"
   },
   {
    "duration": 6,
    "start_time": "2023-11-06T09:02:02.465Z"
   },
   {
    "duration": 17,
    "start_time": "2023-11-06T09:02:02.473Z"
   },
   {
    "duration": 497,
    "start_time": "2023-11-06T09:02:02.492Z"
   },
   {
    "duration": 141,
    "start_time": "2023-11-06T09:02:02.991Z"
   },
   {
    "duration": 558,
    "start_time": "2023-11-06T09:02:03.133Z"
   },
   {
    "duration": 555,
    "start_time": "2023-11-06T09:02:03.693Z"
   },
   {
    "duration": 128,
    "start_time": "2023-11-06T09:02:04.249Z"
   },
   {
    "duration": 9,
    "start_time": "2023-11-06T09:02:04.378Z"
   },
   {
    "duration": 169,
    "start_time": "2023-11-06T09:02:04.388Z"
   },
   {
    "duration": 513,
    "start_time": "2023-11-06T09:02:04.559Z"
   },
   {
    "duration": 906,
    "start_time": "2023-11-06T09:02:05.074Z"
   },
   {
    "duration": 180,
    "start_time": "2023-11-06T09:02:05.985Z"
   },
   {
    "duration": 16,
    "start_time": "2023-11-06T09:02:06.167Z"
   },
   {
    "duration": 198,
    "start_time": "2023-11-06T09:02:06.185Z"
   },
   {
    "duration": 464,
    "start_time": "2023-11-06T09:02:06.385Z"
   },
   {
    "duration": 298,
    "start_time": "2023-11-06T09:02:06.850Z"
   },
   {
    "duration": 561,
    "start_time": "2023-11-06T09:02:07.149Z"
   },
   {
    "duration": 484,
    "start_time": "2023-11-06T09:02:07.713Z"
   },
   {
    "duration": 21,
    "start_time": "2023-11-06T09:02:08.207Z"
   },
   {
    "duration": 54,
    "start_time": "2023-11-06T09:02:08.229Z"
   },
   {
    "duration": 19,
    "start_time": "2023-11-06T09:02:08.285Z"
   },
   {
    "duration": 72,
    "start_time": "2023-11-06T09:02:08.306Z"
   },
   {
    "duration": 286,
    "start_time": "2023-11-06T09:02:08.380Z"
   },
   {
    "duration": 134,
    "start_time": "2023-11-06T09:02:08.667Z"
   },
   {
    "duration": 22,
    "start_time": "2023-11-06T09:02:08.808Z"
   },
   {
    "duration": 122,
    "start_time": "2023-11-06T09:02:08.832Z"
   },
   {
    "duration": 15,
    "start_time": "2023-11-06T09:09:03.882Z"
   },
   {
    "duration": 2278,
    "start_time": "2023-11-06T09:09:26.900Z"
   },
   {
    "duration": 21,
    "start_time": "2023-11-06T09:09:35.597Z"
   },
   {
    "duration": 12,
    "start_time": "2023-11-06T09:09:42.423Z"
   },
   {
    "duration": 381,
    "start_time": "2023-11-06T09:09:51.375Z"
   },
   {
    "duration": 5,
    "start_time": "2023-11-06T09:10:38.099Z"
   },
   {
    "duration": 12,
    "start_time": "2023-11-06T09:10:47.284Z"
   },
   {
    "duration": 17,
    "start_time": "2023-11-06T09:11:20.337Z"
   },
   {
    "duration": 16,
    "start_time": "2023-11-06T09:11:27.824Z"
   },
   {
    "duration": 1006,
    "start_time": "2023-11-06T09:13:59.776Z"
   },
   {
    "duration": 928,
    "start_time": "2023-11-06T09:14:33.266Z"
   },
   {
    "duration": 989,
    "start_time": "2023-11-06T09:15:29.072Z"
   },
   {
    "duration": 1009,
    "start_time": "2023-11-06T09:16:18.639Z"
   },
   {
    "duration": 1022,
    "start_time": "2023-11-06T09:16:30.235Z"
   },
   {
    "duration": 3473,
    "start_time": "2023-11-06T09:17:48.887Z"
   },
   {
    "duration": 11,
    "start_time": "2023-11-06T09:19:10.151Z"
   },
   {
    "duration": 931,
    "start_time": "2023-11-06T09:19:17.609Z"
   },
   {
    "duration": 945,
    "start_time": "2023-11-06T09:19:50.612Z"
   },
   {
    "duration": 2311,
    "start_time": "2023-11-06T09:21:37.347Z"
   },
   {
    "duration": 1316,
    "start_time": "2023-11-06T09:21:39.660Z"
   },
   {
    "duration": 2,
    "start_time": "2023-11-06T09:21:40.978Z"
   },
   {
    "duration": 14,
    "start_time": "2023-11-06T09:21:40.982Z"
   },
   {
    "duration": 1040,
    "start_time": "2023-11-06T09:21:40.997Z"
   },
   {
    "duration": 3,
    "start_time": "2023-11-06T09:21:42.039Z"
   },
   {
    "duration": 18,
    "start_time": "2023-11-06T09:21:42.044Z"
   },
   {
    "duration": 4,
    "start_time": "2023-11-06T09:21:42.063Z"
   },
   {
    "duration": 1263,
    "start_time": "2023-11-06T09:21:42.069Z"
   },
   {
    "duration": 522,
    "start_time": "2023-11-06T09:21:43.334Z"
   },
   {
    "duration": 1061,
    "start_time": "2023-11-06T09:21:43.858Z"
   },
   {
    "duration": 151,
    "start_time": "2023-11-06T09:21:44.921Z"
   },
   {
    "duration": 121,
    "start_time": "2023-11-06T09:21:45.073Z"
   },
   {
    "duration": 274,
    "start_time": "2023-11-06T09:21:45.195Z"
   },
   {
    "duration": 70,
    "start_time": "2023-11-06T09:21:45.471Z"
   },
   {
    "duration": 173,
    "start_time": "2023-11-06T09:21:45.543Z"
   },
   {
    "duration": 129,
    "start_time": "2023-11-06T09:21:45.718Z"
   },
   {
    "duration": 5,
    "start_time": "2023-11-06T09:21:45.849Z"
   },
   {
    "duration": 31,
    "start_time": "2023-11-06T09:21:45.855Z"
   },
   {
    "duration": 611,
    "start_time": "2023-11-06T09:21:45.888Z"
   },
   {
    "duration": 155,
    "start_time": "2023-11-06T09:21:46.501Z"
   },
   {
    "duration": 619,
    "start_time": "2023-11-06T09:21:46.658Z"
   },
   {
    "duration": 567,
    "start_time": "2023-11-06T09:21:47.279Z"
   },
   {
    "duration": 207,
    "start_time": "2023-11-06T09:21:47.848Z"
   },
   {
    "duration": 8,
    "start_time": "2023-11-06T09:21:48.057Z"
   },
   {
    "duration": 197,
    "start_time": "2023-11-06T09:21:48.066Z"
   },
   {
    "duration": 517,
    "start_time": "2023-11-06T09:21:48.265Z"
   },
   {
    "duration": 865,
    "start_time": "2023-11-06T09:21:48.786Z"
   },
   {
    "duration": 147,
    "start_time": "2023-11-06T09:21:49.653Z"
   },
   {
    "duration": 27,
    "start_time": "2023-11-06T09:21:49.803Z"
   },
   {
    "duration": 179,
    "start_time": "2023-11-06T09:21:49.831Z"
   },
   {
    "duration": 447,
    "start_time": "2023-11-06T09:21:50.013Z"
   },
   {
    "duration": 204,
    "start_time": "2023-11-06T09:21:50.462Z"
   },
   {
    "duration": 663,
    "start_time": "2023-11-06T09:21:50.668Z"
   },
   {
    "duration": 545,
    "start_time": "2023-11-06T09:21:51.332Z"
   },
   {
    "duration": 13,
    "start_time": "2023-11-06T09:21:51.878Z"
   },
   {
    "duration": 75,
    "start_time": "2023-11-06T09:21:51.893Z"
   },
   {
    "duration": 21,
    "start_time": "2023-11-06T09:21:51.969Z"
   },
   {
    "duration": 81,
    "start_time": "2023-11-06T09:21:51.992Z"
   },
   {
    "duration": 336,
    "start_time": "2023-11-06T09:21:52.075Z"
   },
   {
    "duration": 177,
    "start_time": "2023-11-06T09:21:52.413Z"
   },
   {
    "duration": 28,
    "start_time": "2023-11-06T09:21:52.592Z"
   },
   {
    "duration": 2258,
    "start_time": "2023-11-06T09:22:39.101Z"
   },
   {
    "duration": 1284,
    "start_time": "2023-11-06T09:22:41.361Z"
   },
   {
    "duration": 3,
    "start_time": "2023-11-06T09:22:42.647Z"
   },
   {
    "duration": 15,
    "start_time": "2023-11-06T09:22:42.652Z"
   },
   {
    "duration": 940,
    "start_time": "2023-11-06T09:22:42.670Z"
   },
   {
    "duration": 4,
    "start_time": "2023-11-06T09:22:43.612Z"
   },
   {
    "duration": 14,
    "start_time": "2023-11-06T09:22:43.619Z"
   },
   {
    "duration": 10,
    "start_time": "2023-11-06T09:22:43.634Z"
   },
   {
    "duration": 1232,
    "start_time": "2023-11-06T09:22:43.645Z"
   },
   {
    "duration": 534,
    "start_time": "2023-11-06T09:22:44.879Z"
   },
   {
    "duration": 1131,
    "start_time": "2023-11-06T09:22:45.415Z"
   },
   {
    "duration": 192,
    "start_time": "2023-11-06T09:22:46.549Z"
   },
   {
    "duration": 178,
    "start_time": "2023-11-06T09:22:46.743Z"
   },
   {
    "duration": 248,
    "start_time": "2023-11-06T09:22:46.926Z"
   },
   {
    "duration": 76,
    "start_time": "2023-11-06T09:22:47.175Z"
   },
   {
    "duration": 196,
    "start_time": "2023-11-06T09:22:47.253Z"
   },
   {
    "duration": 126,
    "start_time": "2023-11-06T09:22:47.450Z"
   },
   {
    "duration": 4,
    "start_time": "2023-11-06T09:22:47.578Z"
   },
   {
    "duration": 7,
    "start_time": "2023-11-06T09:22:47.584Z"
   },
   {
    "duration": 510,
    "start_time": "2023-11-06T09:22:47.592Z"
   },
   {
    "duration": 152,
    "start_time": "2023-11-06T09:22:48.107Z"
   },
   {
    "duration": 579,
    "start_time": "2023-11-06T09:22:48.261Z"
   },
   {
    "duration": 497,
    "start_time": "2023-11-06T09:22:48.842Z"
   },
   {
    "duration": 220,
    "start_time": "2023-11-06T09:22:49.341Z"
   },
   {
    "duration": 8,
    "start_time": "2023-11-06T09:22:49.563Z"
   },
   {
    "duration": 197,
    "start_time": "2023-11-06T09:22:49.573Z"
   },
   {
    "duration": 541,
    "start_time": "2023-11-06T09:22:49.772Z"
   },
   {
    "duration": 858,
    "start_time": "2023-11-06T09:22:50.315Z"
   },
   {
    "duration": 146,
    "start_time": "2023-11-06T09:22:51.175Z"
   },
   {
    "duration": 15,
    "start_time": "2023-11-06T09:22:51.323Z"
   },
   {
    "duration": 196,
    "start_time": "2023-11-06T09:22:51.339Z"
   },
   {
    "duration": 433,
    "start_time": "2023-11-06T09:22:51.537Z"
   },
   {
    "duration": 192,
    "start_time": "2023-11-06T09:22:51.972Z"
   },
   {
    "duration": 667,
    "start_time": "2023-11-06T09:22:52.166Z"
   },
   {
    "duration": 529,
    "start_time": "2023-11-06T09:22:52.835Z"
   },
   {
    "duration": 13,
    "start_time": "2023-11-06T09:22:53.365Z"
   },
   {
    "duration": 73,
    "start_time": "2023-11-06T09:22:53.380Z"
   },
   {
    "duration": 18,
    "start_time": "2023-11-06T09:22:53.455Z"
   },
   {
    "duration": 82,
    "start_time": "2023-11-06T09:22:53.475Z"
   },
   {
    "duration": 304,
    "start_time": "2023-11-06T09:22:53.558Z"
   },
   {
    "duration": 132,
    "start_time": "2023-11-06T09:22:53.866Z"
   },
   {
    "duration": 31,
    "start_time": "2023-11-06T09:22:53.999Z"
   },
   {
    "duration": 47267,
    "start_time": "2023-11-06T09:22:54.032Z"
   },
   {
    "duration": 599,
    "start_time": "2023-11-06T09:26:46.635Z"
   },
   {
    "duration": 110,
    "start_time": "2023-11-06T09:27:08.169Z"
   },
   {
    "duration": 9,
    "start_time": "2023-11-06T09:27:10.996Z"
   },
   {
    "duration": 132,
    "start_time": "2023-11-06T09:27:54.497Z"
   },
   {
    "duration": 17,
    "start_time": "2023-11-06T09:28:03.467Z"
   },
   {
    "duration": 16795,
    "start_time": "2023-11-06T09:28:31.623Z"
   },
   {
    "duration": 2420,
    "start_time": "2023-11-06T09:29:02.054Z"
   },
   {
    "duration": 1260,
    "start_time": "2023-11-06T09:29:04.477Z"
   },
   {
    "duration": 3,
    "start_time": "2023-11-06T09:29:05.739Z"
   },
   {
    "duration": 18,
    "start_time": "2023-11-06T09:29:05.743Z"
   },
   {
    "duration": 1021,
    "start_time": "2023-11-06T09:29:05.763Z"
   },
   {
    "duration": 3,
    "start_time": "2023-11-06T09:29:06.785Z"
   },
   {
    "duration": 19,
    "start_time": "2023-11-06T09:29:06.790Z"
   },
   {
    "duration": 11,
    "start_time": "2023-11-06T09:29:06.812Z"
   },
   {
    "duration": 1291,
    "start_time": "2023-11-06T09:29:06.825Z"
   },
   {
    "duration": 531,
    "start_time": "2023-11-06T09:29:08.118Z"
   },
   {
    "duration": 1037,
    "start_time": "2023-11-06T09:29:08.650Z"
   },
   {
    "duration": 157,
    "start_time": "2023-11-06T09:29:09.688Z"
   },
   {
    "duration": 113,
    "start_time": "2023-11-06T09:29:09.847Z"
   },
   {
    "duration": 268,
    "start_time": "2023-11-06T09:29:09.963Z"
   },
   {
    "duration": 59,
    "start_time": "2023-11-06T09:29:10.233Z"
   },
   {
    "duration": 189,
    "start_time": "2023-11-06T09:29:10.294Z"
   },
   {
    "duration": 134,
    "start_time": "2023-11-06T09:29:10.485Z"
   },
   {
    "duration": 6,
    "start_time": "2023-11-06T09:29:10.621Z"
   },
   {
    "duration": 6,
    "start_time": "2023-11-06T09:29:10.629Z"
   },
   {
    "duration": 516,
    "start_time": "2023-11-06T09:29:10.636Z"
   },
   {
    "duration": 144,
    "start_time": "2023-11-06T09:29:11.154Z"
   },
   {
    "duration": 630,
    "start_time": "2023-11-06T09:29:11.300Z"
   },
   {
    "duration": 522,
    "start_time": "2023-11-06T09:29:11.932Z"
   },
   {
    "duration": 206,
    "start_time": "2023-11-06T09:29:12.455Z"
   },
   {
    "duration": 9,
    "start_time": "2023-11-06T09:29:12.663Z"
   },
   {
    "duration": 191,
    "start_time": "2023-11-06T09:29:12.674Z"
   },
   {
    "duration": 521,
    "start_time": "2023-11-06T09:29:12.867Z"
   },
   {
    "duration": 860,
    "start_time": "2023-11-06T09:29:13.390Z"
   },
   {
    "duration": 137,
    "start_time": "2023-11-06T09:29:14.252Z"
   },
   {
    "duration": 23,
    "start_time": "2023-11-06T09:29:14.391Z"
   },
   {
    "duration": 183,
    "start_time": "2023-11-06T09:29:14.416Z"
   },
   {
    "duration": 453,
    "start_time": "2023-11-06T09:29:14.607Z"
   },
   {
    "duration": 184,
    "start_time": "2023-11-06T09:29:15.061Z"
   },
   {
    "duration": 649,
    "start_time": "2023-11-06T09:29:15.246Z"
   },
   {
    "duration": 585,
    "start_time": "2023-11-06T09:29:15.897Z"
   },
   {
    "duration": 23,
    "start_time": "2023-11-06T09:29:16.484Z"
   },
   {
    "duration": 55,
    "start_time": "2023-11-06T09:29:16.512Z"
   },
   {
    "duration": 19,
    "start_time": "2023-11-06T09:29:16.568Z"
   },
   {
    "duration": 88,
    "start_time": "2023-11-06T09:29:16.589Z"
   },
   {
    "duration": 302,
    "start_time": "2023-11-06T09:29:16.678Z"
   },
   {
    "duration": 146,
    "start_time": "2023-11-06T09:29:16.983Z"
   },
   {
    "duration": 17,
    "start_time": "2023-11-06T09:29:17.131Z"
   },
   {
    "duration": 47239,
    "start_time": "2023-11-06T09:29:17.149Z"
   },
   {
    "duration": 15264,
    "start_time": "2023-11-06T09:30:04.390Z"
   },
   {
    "duration": 55,
    "start_time": "2023-11-06T10:20:24.170Z"
   },
   {
    "duration": 11,
    "start_time": "2023-11-06T10:21:23.208Z"
   },
   {
    "duration": 1668,
    "start_time": "2023-11-06T10:21:44.504Z"
   },
   {
    "duration": 70,
    "start_time": "2023-11-06T10:21:54.938Z"
   },
   {
    "duration": 9,
    "start_time": "2023-11-06T10:22:03.091Z"
   },
   {
    "duration": 2332,
    "start_time": "2023-11-06T10:22:11.435Z"
   },
   {
    "duration": 1287,
    "start_time": "2023-11-06T10:22:13.770Z"
   },
   {
    "duration": 3,
    "start_time": "2023-11-06T10:22:15.059Z"
   },
   {
    "duration": 41,
    "start_time": "2023-11-06T10:22:15.063Z"
   },
   {
    "duration": 1344,
    "start_time": "2023-11-06T10:22:15.106Z"
   },
   {
    "duration": 5,
    "start_time": "2023-11-06T10:22:16.452Z"
   },
   {
    "duration": 23,
    "start_time": "2023-11-06T10:22:16.459Z"
   },
   {
    "duration": 30,
    "start_time": "2023-11-06T10:22:16.485Z"
   },
   {
    "duration": 1351,
    "start_time": "2023-11-06T10:22:16.517Z"
   },
   {
    "duration": 532,
    "start_time": "2023-11-06T10:22:17.870Z"
   },
   {
    "duration": 1118,
    "start_time": "2023-11-06T10:22:18.404Z"
   },
   {
    "duration": 152,
    "start_time": "2023-11-06T10:22:19.525Z"
   },
   {
    "duration": 114,
    "start_time": "2023-11-06T10:22:19.679Z"
   },
   {
    "duration": 292,
    "start_time": "2023-11-06T10:22:19.796Z"
   },
   {
    "duration": 80,
    "start_time": "2023-11-06T10:22:20.090Z"
   },
   {
    "duration": 205,
    "start_time": "2023-11-06T10:22:20.172Z"
   },
   {
    "duration": 139,
    "start_time": "2023-11-06T10:22:20.379Z"
   },
   {
    "duration": 7,
    "start_time": "2023-11-06T10:22:20.520Z"
   },
   {
    "duration": 21,
    "start_time": "2023-11-06T10:22:20.529Z"
   },
   {
    "duration": 522,
    "start_time": "2023-11-06T10:22:20.552Z"
   },
   {
    "duration": 159,
    "start_time": "2023-11-06T10:22:21.076Z"
   },
   {
    "duration": 614,
    "start_time": "2023-11-06T10:22:21.237Z"
   },
   {
    "duration": 627,
    "start_time": "2023-11-06T10:22:21.852Z"
   },
   {
    "duration": 231,
    "start_time": "2023-11-06T10:22:22.481Z"
   },
   {
    "duration": 16,
    "start_time": "2023-11-06T10:22:22.715Z"
   },
   {
    "duration": 205,
    "start_time": "2023-11-06T10:22:22.733Z"
   },
   {
    "duration": 593,
    "start_time": "2023-11-06T10:22:22.940Z"
   },
   {
    "duration": 933,
    "start_time": "2023-11-06T10:22:23.535Z"
   },
   {
    "duration": 167,
    "start_time": "2023-11-06T10:22:24.470Z"
   },
   {
    "duration": 16,
    "start_time": "2023-11-06T10:22:24.639Z"
   },
   {
    "duration": 197,
    "start_time": "2023-11-06T10:22:24.657Z"
   },
   {
    "duration": 524,
    "start_time": "2023-11-06T10:22:24.855Z"
   },
   {
    "duration": 219,
    "start_time": "2023-11-06T10:22:25.381Z"
   },
   {
    "duration": 727,
    "start_time": "2023-11-06T10:22:25.602Z"
   },
   {
    "duration": 538,
    "start_time": "2023-11-06T10:22:26.332Z"
   },
   {
    "duration": 12,
    "start_time": "2023-11-06T10:22:26.872Z"
   },
   {
    "duration": 61,
    "start_time": "2023-11-06T10:22:26.886Z"
   },
   {
    "duration": 19,
    "start_time": "2023-11-06T10:22:26.948Z"
   },
   {
    "duration": 78,
    "start_time": "2023-11-06T10:22:26.969Z"
   },
   {
    "duration": 305,
    "start_time": "2023-11-06T10:22:27.049Z"
   },
   {
    "duration": 138,
    "start_time": "2023-11-06T10:22:27.357Z"
   },
   {
    "duration": 26,
    "start_time": "2023-11-06T10:22:27.506Z"
   },
   {
    "duration": 55122,
    "start_time": "2023-11-06T10:22:27.533Z"
   },
   {
    "duration": 18454,
    "start_time": "2023-11-06T10:23:22.657Z"
   },
   {
    "duration": 12,
    "start_time": "2023-11-06T10:23:41.116Z"
   },
   {
    "duration": 5,
    "start_time": "2023-11-06T10:23:41.130Z"
   },
   {
    "duration": 201,
    "start_time": "2023-11-06T10:23:41.137Z"
   },
   {
    "duration": 2161,
    "start_time": "2023-11-06T11:55:10.148Z"
   },
   {
    "duration": 1568,
    "start_time": "2023-11-06T11:55:12.311Z"
   },
   {
    "duration": 2,
    "start_time": "2023-11-06T11:55:13.881Z"
   },
   {
    "duration": 18,
    "start_time": "2023-11-06T11:55:13.885Z"
   },
   {
    "duration": 1093,
    "start_time": "2023-11-06T11:55:13.904Z"
   },
   {
    "duration": 3,
    "start_time": "2023-11-06T11:55:14.998Z"
   },
   {
    "duration": 80,
    "start_time": "2023-11-06T11:55:15.003Z"
   },
   {
    "duration": 32,
    "start_time": "2023-11-06T11:55:15.085Z"
   },
   {
    "duration": 1185,
    "start_time": "2023-11-06T11:55:15.118Z"
   },
   {
    "duration": 480,
    "start_time": "2023-11-06T11:55:16.307Z"
   },
   {
    "duration": 1009,
    "start_time": "2023-11-06T11:55:16.789Z"
   },
   {
    "duration": 134,
    "start_time": "2023-11-06T11:55:17.800Z"
   },
   {
    "duration": 102,
    "start_time": "2023-11-06T11:55:17.935Z"
   },
   {
    "duration": 231,
    "start_time": "2023-11-06T11:55:18.038Z"
   },
   {
    "duration": 60,
    "start_time": "2023-11-06T11:55:18.271Z"
   },
   {
    "duration": 156,
    "start_time": "2023-11-06T11:55:18.332Z"
   },
   {
    "duration": 118,
    "start_time": "2023-11-06T11:55:18.490Z"
   },
   {
    "duration": 4,
    "start_time": "2023-11-06T11:55:18.610Z"
   },
   {
    "duration": 8,
    "start_time": "2023-11-06T11:55:18.616Z"
   },
   {
    "duration": 458,
    "start_time": "2023-11-06T11:55:18.625Z"
   },
   {
    "duration": 137,
    "start_time": "2023-11-06T11:55:19.084Z"
   },
   {
    "duration": 599,
    "start_time": "2023-11-06T11:55:19.222Z"
   },
   {
    "duration": 475,
    "start_time": "2023-11-06T11:55:19.823Z"
   },
   {
    "duration": 183,
    "start_time": "2023-11-06T11:55:20.306Z"
   },
   {
    "duration": 19,
    "start_time": "2023-11-06T11:55:20.491Z"
   },
   {
    "duration": 160,
    "start_time": "2023-11-06T11:55:20.511Z"
   },
   {
    "duration": 488,
    "start_time": "2023-11-06T11:55:20.672Z"
   },
   {
    "duration": 799,
    "start_time": "2023-11-06T11:55:21.163Z"
   },
   {
    "duration": 133,
    "start_time": "2023-11-06T11:55:21.964Z"
   },
   {
    "duration": 16,
    "start_time": "2023-11-06T11:55:22.099Z"
   },
   {
    "duration": 176,
    "start_time": "2023-11-06T11:55:22.117Z"
   },
   {
    "duration": 440,
    "start_time": "2023-11-06T11:55:22.295Z"
   },
   {
    "duration": 185,
    "start_time": "2023-11-06T11:55:22.736Z"
   },
   {
    "duration": 573,
    "start_time": "2023-11-06T11:55:22.923Z"
   },
   {
    "duration": 443,
    "start_time": "2023-11-06T11:55:23.507Z"
   },
   {
    "duration": 13,
    "start_time": "2023-11-06T11:55:23.952Z"
   },
   {
    "duration": 69,
    "start_time": "2023-11-06T11:55:23.967Z"
   },
   {
    "duration": 19,
    "start_time": "2023-11-06T11:55:24.038Z"
   },
   {
    "duration": 77,
    "start_time": "2023-11-06T11:55:24.058Z"
   },
   {
    "duration": 265,
    "start_time": "2023-11-06T11:55:24.136Z"
   },
   {
    "duration": 124,
    "start_time": "2023-11-06T11:55:24.402Z"
   },
   {
    "duration": 17,
    "start_time": "2023-11-06T11:55:24.527Z"
   },
   {
    "duration": 48516,
    "start_time": "2023-11-06T11:55:24.546Z"
   },
   {
    "duration": 14097,
    "start_time": "2023-11-06T11:56:13.063Z"
   },
   {
    "duration": 2,
    "start_time": "2023-11-06T11:56:27.162Z"
   },
   {
    "duration": 13,
    "start_time": "2023-11-06T11:56:27.166Z"
   },
   {
    "duration": 404,
    "start_time": "2023-11-06T11:56:27.180Z"
   },
   {
    "duration": 302059,
    "start_time": "2023-11-06T11:56:27.585Z"
   },
   {
    "duration": 0,
    "start_time": "2023-11-06T12:01:29.646Z"
   },
   {
    "duration": 2,
    "start_time": "2023-11-06T12:01:53.072Z"
   },
   {
    "duration": 147,
    "start_time": "2023-11-06T12:06:32.491Z"
   },
   {
    "duration": 93,
    "start_time": "2023-11-06T12:06:32.981Z"
   },
   {
    "duration": 109,
    "start_time": "2023-11-06T12:06:38.218Z"
   },
   {
    "duration": 98,
    "start_time": "2023-11-06T12:07:02.882Z"
   },
   {
    "duration": 122,
    "start_time": "2023-11-06T12:07:10.477Z"
   },
   {
    "duration": 172,
    "start_time": "2023-11-06T12:07:40.637Z"
   },
   {
    "duration": 3,
    "start_time": "2023-11-06T12:07:43.648Z"
   },
   {
    "duration": 90,
    "start_time": "2023-11-06T12:07:45.657Z"
   },
   {
    "duration": 2,
    "start_time": "2023-11-06T12:08:14.469Z"
   },
   {
    "duration": 85,
    "start_time": "2023-11-06T12:08:22.201Z"
   },
   {
    "duration": 3,
    "start_time": "2023-11-06T12:09:10.260Z"
   },
   {
    "duration": 87,
    "start_time": "2023-11-06T12:09:26.356Z"
   },
   {
    "duration": 318,
    "start_time": "2023-11-06T12:09:36.198Z"
   },
   {
    "duration": 10,
    "start_time": "2023-11-06T12:10:15.024Z"
   },
   {
    "duration": 10,
    "start_time": "2023-11-06T12:10:40.268Z"
   },
   {
    "duration": 108,
    "start_time": "2023-11-06T12:10:44.331Z"
   },
   {
    "duration": 86,
    "start_time": "2023-11-06T12:11:29.400Z"
   },
   {
    "duration": 84,
    "start_time": "2023-11-06T12:11:45.242Z"
   },
   {
    "duration": 9,
    "start_time": "2023-11-06T12:13:20.443Z"
   },
   {
    "duration": 4,
    "start_time": "2023-11-06T12:13:23.605Z"
   },
   {
    "duration": 4,
    "start_time": "2023-11-06T12:13:44.228Z"
   },
   {
    "duration": 141,
    "start_time": "2023-11-06T12:14:04.057Z"
   },
   {
    "duration": 84,
    "start_time": "2023-11-06T12:14:10.407Z"
   },
   {
    "duration": 76,
    "start_time": "2023-11-06T12:14:17.360Z"
   },
   {
    "duration": 4,
    "start_time": "2023-11-06T12:18:53.926Z"
   },
   {
    "duration": 80,
    "start_time": "2023-11-06T12:21:19.860Z"
   },
   {
    "duration": 4,
    "start_time": "2023-11-06T12:21:24.387Z"
   },
   {
    "duration": 3,
    "start_time": "2023-11-06T12:21:32.436Z"
   },
   {
    "duration": 3,
    "start_time": "2023-11-06T12:21:39.748Z"
   },
   {
    "duration": 3,
    "start_time": "2023-11-06T12:22:08.793Z"
   },
   {
    "duration": 3,
    "start_time": "2023-11-06T12:22:18.458Z"
   },
   {
    "duration": 3,
    "start_time": "2023-11-06T12:22:19.395Z"
   },
   {
    "duration": 92,
    "start_time": "2023-11-06T12:22:20.369Z"
   },
   {
    "duration": 3,
    "start_time": "2023-11-06T12:22:58.021Z"
   },
   {
    "duration": 7448,
    "start_time": "2023-11-06T12:23:36.569Z"
   },
   {
    "duration": 2798,
    "start_time": "2023-11-06T12:24:07.716Z"
   },
   {
    "duration": 17,
    "start_time": "2023-11-06T12:24:22.677Z"
   },
   {
    "duration": 2873,
    "start_time": "2023-11-06T12:24:40.839Z"
   },
   {
    "duration": 2833,
    "start_time": "2023-11-06T12:25:23.492Z"
   },
   {
    "duration": 2848,
    "start_time": "2023-11-06T12:27:11.176Z"
   },
   {
    "duration": 3,
    "start_time": "2023-11-06T12:27:32.955Z"
   },
   {
    "duration": 5138,
    "start_time": "2023-11-06T12:27:34.985Z"
   },
   {
    "duration": 2892,
    "start_time": "2023-11-06T12:27:40.125Z"
   },
   {
    "duration": 2739,
    "start_time": "2023-11-06T12:29:13.186Z"
   },
   {
    "duration": 4,
    "start_time": "2023-11-06T12:30:27.393Z"
   },
   {
    "duration": 2,
    "start_time": "2023-11-06T12:31:20.455Z"
   },
   {
    "duration": 147,
    "start_time": "2023-11-06T12:31:21.396Z"
   },
   {
    "duration": 3,
    "start_time": "2023-11-06T12:31:46.745Z"
   },
   {
    "duration": 4918,
    "start_time": "2023-11-06T12:31:47.593Z"
   },
   {
    "duration": 2740,
    "start_time": "2023-11-06T12:31:55.777Z"
   },
   {
    "duration": 2,
    "start_time": "2023-11-06T12:36:04.084Z"
   },
   {
    "duration": 122143,
    "start_time": "2023-11-06T12:36:04.765Z"
   },
   {
    "duration": 3,
    "start_time": "2023-11-06T12:40:41.894Z"
   },
   {
    "duration": 2092,
    "start_time": "2023-11-06T12:44:57.439Z"
   },
   {
    "duration": 1289,
    "start_time": "2023-11-06T12:44:59.533Z"
   },
   {
    "duration": 3,
    "start_time": "2023-11-06T12:45:00.823Z"
   },
   {
    "duration": 70,
    "start_time": "2023-11-06T12:45:00.827Z"
   },
   {
    "duration": 993,
    "start_time": "2023-11-06T12:45:00.899Z"
   },
   {
    "duration": 3,
    "start_time": "2023-11-06T12:45:01.893Z"
   },
   {
    "duration": 28,
    "start_time": "2023-11-06T12:45:01.897Z"
   },
   {
    "duration": 31,
    "start_time": "2023-11-06T12:45:01.926Z"
   },
   {
    "duration": 1105,
    "start_time": "2023-11-06T12:45:01.959Z"
   },
   {
    "duration": 491,
    "start_time": "2023-11-06T12:45:03.066Z"
   },
   {
    "duration": 1027,
    "start_time": "2023-11-06T12:45:03.558Z"
   },
   {
    "duration": 133,
    "start_time": "2023-11-06T12:45:04.587Z"
   },
   {
    "duration": 111,
    "start_time": "2023-11-06T12:45:04.722Z"
   },
   {
    "duration": 227,
    "start_time": "2023-11-06T12:45:04.836Z"
   },
   {
    "duration": 68,
    "start_time": "2023-11-06T12:45:05.065Z"
   },
   {
    "duration": 181,
    "start_time": "2023-11-06T12:45:05.135Z"
   },
   {
    "duration": 119,
    "start_time": "2023-11-06T12:45:05.317Z"
   },
   {
    "duration": 6,
    "start_time": "2023-11-06T12:45:05.438Z"
   },
   {
    "duration": 17,
    "start_time": "2023-11-06T12:45:05.445Z"
   },
   {
    "duration": 548,
    "start_time": "2023-11-06T12:45:05.463Z"
   },
   {
    "duration": 170,
    "start_time": "2023-11-06T12:45:06.013Z"
   },
   {
    "duration": 564,
    "start_time": "2023-11-06T12:45:06.186Z"
   },
   {
    "duration": 490,
    "start_time": "2023-11-06T12:45:06.752Z"
   },
   {
    "duration": 224,
    "start_time": "2023-11-06T12:45:07.244Z"
   },
   {
    "duration": 12,
    "start_time": "2023-11-06T12:45:07.470Z"
   },
   {
    "duration": 189,
    "start_time": "2023-11-06T12:45:07.484Z"
   },
   {
    "duration": 495,
    "start_time": "2023-11-06T12:45:07.674Z"
   },
   {
    "duration": 787,
    "start_time": "2023-11-06T12:45:08.170Z"
   },
   {
    "duration": 135,
    "start_time": "2023-11-06T12:45:08.959Z"
   },
   {
    "duration": 22,
    "start_time": "2023-11-06T12:45:09.096Z"
   },
   {
    "duration": 168,
    "start_time": "2023-11-06T12:45:09.119Z"
   },
   {
    "duration": 439,
    "start_time": "2023-11-06T12:45:09.288Z"
   },
   {
    "duration": 179,
    "start_time": "2023-11-06T12:45:09.729Z"
   },
   {
    "duration": 620,
    "start_time": "2023-11-06T12:45:09.910Z"
   },
   {
    "duration": 485,
    "start_time": "2023-11-06T12:45:10.533Z"
   },
   {
    "duration": 13,
    "start_time": "2023-11-06T12:45:11.020Z"
   },
   {
    "duration": 44,
    "start_time": "2023-11-06T12:45:11.034Z"
   },
   {
    "duration": 37,
    "start_time": "2023-11-06T12:45:11.080Z"
   },
   {
    "duration": 81,
    "start_time": "2023-11-06T12:45:11.118Z"
   },
   {
    "duration": 269,
    "start_time": "2023-11-06T12:45:11.201Z"
   },
   {
    "duration": 135,
    "start_time": "2023-11-06T12:45:11.473Z"
   },
   {
    "duration": 20,
    "start_time": "2023-11-06T12:45:11.610Z"
   },
   {
    "duration": 53228,
    "start_time": "2023-11-06T12:45:11.632Z"
   },
   {
    "duration": 18037,
    "start_time": "2023-11-06T12:46:04.862Z"
   },
   {
    "duration": 4,
    "start_time": "2023-11-06T12:46:22.907Z"
   },
   {
    "duration": 15,
    "start_time": "2023-11-06T12:46:22.912Z"
   },
   {
    "duration": 129086,
    "start_time": "2023-11-06T12:46:22.929Z"
   },
   {
    "duration": 2917,
    "start_time": "2023-11-06T12:48:32.016Z"
   },
   {
    "duration": 3,
    "start_time": "2023-11-06T12:48:34.935Z"
   },
   {
    "duration": 3,
    "start_time": "2023-11-06T12:51:37.812Z"
   },
   {
    "duration": 117295,
    "start_time": "2023-11-06T12:51:37.816Z"
   },
   {
    "duration": 4020,
    "start_time": "2023-11-06T12:53:49.096Z"
   },
   {
    "duration": 2,
    "start_time": "2023-11-06T12:57:41.425Z"
   },
   {
    "duration": 9520,
    "start_time": "2023-11-06T12:57:41.795Z"
   },
   {
    "duration": 4011,
    "start_time": "2023-11-06T12:57:51.317Z"
   },
   {
    "duration": 68,
    "start_time": "2023-11-06T13:00:57.679Z"
   },
   {
    "duration": 2,
    "start_time": "2023-11-06T13:01:07.045Z"
   },
   {
    "duration": 14465,
    "start_time": "2023-11-06T13:01:08.352Z"
   },
   {
    "duration": 3905,
    "start_time": "2023-11-06T13:01:22.818Z"
   },
   {
    "duration": 95,
    "start_time": "2023-11-06T13:02:05.574Z"
   },
   {
    "duration": 3,
    "start_time": "2023-11-06T13:02:12.446Z"
   },
   {
    "duration": 59503,
    "start_time": "2023-11-06T13:02:13.222Z"
   },
   {
    "duration": 4592,
    "start_time": "2023-11-06T13:03:12.727Z"
   },
   {
    "duration": 104,
    "start_time": "2023-11-06T13:06:01.987Z"
   },
   {
    "duration": 328,
    "start_time": "2023-11-06T13:06:27.799Z"
   },
   {
    "duration": 13,
    "start_time": "2023-11-06T13:06:33.111Z"
   },
   {
    "duration": 10,
    "start_time": "2023-11-06T13:06:46.794Z"
   },
   {
    "duration": 11,
    "start_time": "2023-11-06T13:07:37.238Z"
   },
   {
    "duration": 169,
    "start_time": "2023-11-06T13:07:50.353Z"
   },
   {
    "duration": 2213,
    "start_time": "2023-11-06T13:08:11.788Z"
   },
   {
    "duration": 1853,
    "start_time": "2023-11-06T13:08:14.003Z"
   },
   {
    "duration": 2,
    "start_time": "2023-11-06T13:08:15.858Z"
   },
   {
    "duration": 8,
    "start_time": "2023-11-06T13:08:15.862Z"
   },
   {
    "duration": 1175,
    "start_time": "2023-11-06T13:08:15.873Z"
   },
   {
    "duration": 3,
    "start_time": "2023-11-06T13:08:17.049Z"
   },
   {
    "duration": 29,
    "start_time": "2023-11-06T13:08:17.054Z"
   },
   {
    "duration": 16,
    "start_time": "2023-11-06T13:08:17.084Z"
   },
   {
    "duration": 1119,
    "start_time": "2023-11-06T13:08:17.102Z"
   },
   {
    "duration": 457,
    "start_time": "2023-11-06T13:08:18.223Z"
   },
   {
    "duration": 962,
    "start_time": "2023-11-06T13:08:18.681Z"
   },
   {
    "duration": 138,
    "start_time": "2023-11-06T13:08:19.644Z"
   },
   {
    "duration": 132,
    "start_time": "2023-11-06T13:08:19.784Z"
   },
   {
    "duration": 234,
    "start_time": "2023-11-06T13:08:19.919Z"
   },
   {
    "duration": 71,
    "start_time": "2023-11-06T13:08:20.155Z"
   },
   {
    "duration": 161,
    "start_time": "2023-11-06T13:08:20.228Z"
   },
   {
    "duration": 109,
    "start_time": "2023-11-06T13:08:20.390Z"
   },
   {
    "duration": 35,
    "start_time": "2023-11-06T13:08:20.507Z"
   },
   {
    "duration": 55,
    "start_time": "2023-11-06T13:08:20.544Z"
   },
   {
    "duration": 570,
    "start_time": "2023-11-06T13:08:20.601Z"
   },
   {
    "duration": 154,
    "start_time": "2023-11-06T13:08:21.173Z"
   },
   {
    "duration": 601,
    "start_time": "2023-11-06T13:08:21.329Z"
   },
   {
    "duration": 560,
    "start_time": "2023-11-06T13:08:21.931Z"
   },
   {
    "duration": 127,
    "start_time": "2023-11-06T13:08:22.493Z"
   },
   {
    "duration": 8,
    "start_time": "2023-11-06T13:08:22.623Z"
   },
   {
    "duration": 179,
    "start_time": "2023-11-06T13:08:22.633Z"
   },
   {
    "duration": 480,
    "start_time": "2023-11-06T13:08:22.814Z"
   },
   {
    "duration": 821,
    "start_time": "2023-11-06T13:08:23.295Z"
   },
   {
    "duration": 128,
    "start_time": "2023-11-06T13:08:24.117Z"
   },
   {
    "duration": 15,
    "start_time": "2023-11-06T13:08:24.246Z"
   },
   {
    "duration": 174,
    "start_time": "2023-11-06T13:08:24.263Z"
   },
   {
    "duration": 514,
    "start_time": "2023-11-06T13:08:24.439Z"
   },
   {
    "duration": 181,
    "start_time": "2023-11-06T13:08:24.955Z"
   },
   {
    "duration": 557,
    "start_time": "2023-11-06T13:08:25.138Z"
   },
   {
    "duration": 499,
    "start_time": "2023-11-06T13:08:25.696Z"
   },
   {
    "duration": 20,
    "start_time": "2023-11-06T13:08:26.197Z"
   },
   {
    "duration": 53,
    "start_time": "2023-11-06T13:08:26.219Z"
   },
   {
    "duration": 35,
    "start_time": "2023-11-06T13:08:26.275Z"
   },
   {
    "duration": 70,
    "start_time": "2023-11-06T13:08:26.312Z"
   },
   {
    "duration": 297,
    "start_time": "2023-11-06T13:08:26.384Z"
   },
   {
    "duration": 130,
    "start_time": "2023-11-06T13:08:26.684Z"
   },
   {
    "duration": 17,
    "start_time": "2023-11-06T13:08:26.816Z"
   },
   {
    "duration": 47579,
    "start_time": "2023-11-06T13:08:26.835Z"
   },
   {
    "duration": 15363,
    "start_time": "2023-11-06T13:09:14.416Z"
   },
   {
    "duration": 3,
    "start_time": "2023-11-06T13:09:29.780Z"
   },
   {
    "duration": 8,
    "start_time": "2023-11-06T13:09:29.785Z"
   },
   {
    "duration": 9429,
    "start_time": "2023-11-06T13:09:29.795Z"
   },
   {
    "duration": 2893,
    "start_time": "2023-11-06T13:09:39.226Z"
   },
   {
    "duration": 4,
    "start_time": "2023-11-06T13:09:42.121Z"
   },
   {
    "duration": 10387,
    "start_time": "2023-11-06T13:09:42.126Z"
   },
   {
    "duration": 3908,
    "start_time": "2023-11-06T13:09:52.515Z"
   },
   {
    "duration": 3,
    "start_time": "2023-11-06T13:09:56.424Z"
   },
   {
    "duration": 10283,
    "start_time": "2023-11-06T13:09:56.428Z"
   },
   {
    "duration": 3911,
    "start_time": "2023-11-06T13:10:06.713Z"
   },
   {
    "duration": 45,
    "start_time": "2023-11-06T13:10:39.632Z"
   },
   {
    "duration": 2245,
    "start_time": "2023-11-06T13:10:54.434Z"
   },
   {
    "duration": 2032,
    "start_time": "2023-11-06T13:10:56.681Z"
   },
   {
    "duration": 3,
    "start_time": "2023-11-06T13:10:58.714Z"
   },
   {
    "duration": 5,
    "start_time": "2023-11-06T13:10:58.718Z"
   },
   {
    "duration": 1077,
    "start_time": "2023-11-06T13:10:58.724Z"
   },
   {
    "duration": 3,
    "start_time": "2023-11-06T13:10:59.802Z"
   },
   {
    "duration": 23,
    "start_time": "2023-11-06T13:10:59.806Z"
   },
   {
    "duration": 4,
    "start_time": "2023-11-06T13:10:59.831Z"
   },
   {
    "duration": 1126,
    "start_time": "2023-11-06T13:10:59.837Z"
   },
   {
    "duration": 494,
    "start_time": "2023-11-06T13:11:00.966Z"
   },
   {
    "duration": 982,
    "start_time": "2023-11-06T13:11:01.461Z"
   },
   {
    "duration": 135,
    "start_time": "2023-11-06T13:11:02.445Z"
   },
   {
    "duration": 124,
    "start_time": "2023-11-06T13:11:02.582Z"
   },
   {
    "duration": 224,
    "start_time": "2023-11-06T13:11:02.707Z"
   },
   {
    "duration": 55,
    "start_time": "2023-11-06T13:11:02.932Z"
   },
   {
    "duration": 223,
    "start_time": "2023-11-06T13:11:02.989Z"
   },
   {
    "duration": 279,
    "start_time": "2023-11-06T13:11:03.213Z"
   },
   {
    "duration": 53,
    "start_time": "2023-11-06T13:11:03.493Z"
   },
   {
    "duration": 14,
    "start_time": "2023-11-06T13:11:03.548Z"
   },
   {
    "duration": 506,
    "start_time": "2023-11-06T13:11:03.563Z"
   },
   {
    "duration": 139,
    "start_time": "2023-11-06T13:11:04.071Z"
   },
   {
    "duration": 577,
    "start_time": "2023-11-06T13:11:04.212Z"
   },
   {
    "duration": 626,
    "start_time": "2023-11-06T13:11:04.807Z"
   },
   {
    "duration": 117,
    "start_time": "2023-11-06T13:11:05.434Z"
   },
   {
    "duration": 9,
    "start_time": "2023-11-06T13:11:05.553Z"
   },
   {
    "duration": 176,
    "start_time": "2023-11-06T13:11:05.564Z"
   },
   {
    "duration": 546,
    "start_time": "2023-11-06T13:11:05.742Z"
   },
   {
    "duration": 816,
    "start_time": "2023-11-06T13:11:06.292Z"
   },
   {
    "duration": 149,
    "start_time": "2023-11-06T13:11:07.109Z"
   },
   {
    "duration": 15,
    "start_time": "2023-11-06T13:11:07.260Z"
   },
   {
    "duration": 210,
    "start_time": "2023-11-06T13:11:07.277Z"
   },
   {
    "duration": 537,
    "start_time": "2023-11-06T13:11:07.489Z"
   },
   {
    "duration": 196,
    "start_time": "2023-11-06T13:11:08.028Z"
   },
   {
    "duration": 472,
    "start_time": "2023-11-06T13:11:08.225Z"
   },
   {
    "duration": 449,
    "start_time": "2023-11-06T13:11:08.699Z"
   },
   {
    "duration": 12,
    "start_time": "2023-11-06T13:11:09.150Z"
   },
   {
    "duration": 53,
    "start_time": "2023-11-06T13:11:09.164Z"
   },
   {
    "duration": 18,
    "start_time": "2023-11-06T13:11:09.219Z"
   },
   {
    "duration": 62,
    "start_time": "2023-11-06T13:11:09.239Z"
   },
   {
    "duration": 277,
    "start_time": "2023-11-06T13:11:09.306Z"
   },
   {
    "duration": 124,
    "start_time": "2023-11-06T13:11:09.584Z"
   },
   {
    "duration": 16,
    "start_time": "2023-11-06T13:11:09.710Z"
   },
   {
    "duration": 48035,
    "start_time": "2023-11-06T13:11:09.727Z"
   },
   {
    "duration": 15691,
    "start_time": "2023-11-06T13:11:57.763Z"
   },
   {
    "duration": 3,
    "start_time": "2023-11-06T13:12:13.456Z"
   },
   {
    "duration": 9,
    "start_time": "2023-11-06T13:12:13.460Z"
   },
   {
    "duration": 13653,
    "start_time": "2023-11-06T13:12:13.470Z"
   },
   {
    "duration": 2883,
    "start_time": "2023-11-06T13:12:27.125Z"
   },
   {
    "duration": 3,
    "start_time": "2023-11-06T13:12:30.009Z"
   },
   {
    "duration": 9399,
    "start_time": "2023-11-06T13:12:30.014Z"
   },
   {
    "duration": 4016,
    "start_time": "2023-11-06T13:12:39.415Z"
   },
   {
    "duration": 4,
    "start_time": "2023-11-06T13:12:43.433Z"
   },
   {
    "duration": 11073,
    "start_time": "2023-11-06T13:12:43.440Z"
   },
   {
    "duration": 4004,
    "start_time": "2023-11-06T13:12:54.515Z"
   },
   {
    "duration": 2220,
    "start_time": "2023-11-06T13:22:53.311Z"
   },
   {
    "duration": 1885,
    "start_time": "2023-11-06T13:22:55.533Z"
   },
   {
    "duration": 3,
    "start_time": "2023-11-06T13:22:57.420Z"
   },
   {
    "duration": 11,
    "start_time": "2023-11-06T13:22:57.425Z"
   },
   {
    "duration": 1084,
    "start_time": "2023-11-06T13:22:57.438Z"
   },
   {
    "duration": 3,
    "start_time": "2023-11-06T13:22:58.524Z"
   },
   {
    "duration": 43,
    "start_time": "2023-11-06T13:22:58.529Z"
   },
   {
    "duration": 25,
    "start_time": "2023-11-06T13:22:58.574Z"
   },
   {
    "duration": 1108,
    "start_time": "2023-11-06T13:22:58.601Z"
   },
   {
    "duration": 494,
    "start_time": "2023-11-06T13:22:59.711Z"
   },
   {
    "duration": 998,
    "start_time": "2023-11-06T13:23:00.207Z"
   },
   {
    "duration": 139,
    "start_time": "2023-11-06T13:23:01.206Z"
   },
   {
    "duration": 125,
    "start_time": "2023-11-06T13:23:01.346Z"
   },
   {
    "duration": 244,
    "start_time": "2023-11-06T13:23:01.474Z"
   },
   {
    "duration": 55,
    "start_time": "2023-11-06T13:23:01.720Z"
   },
   {
    "duration": 186,
    "start_time": "2023-11-06T13:23:01.776Z"
   },
   {
    "duration": 117,
    "start_time": "2023-11-06T13:23:01.965Z"
   },
   {
    "duration": 27,
    "start_time": "2023-11-06T13:23:02.084Z"
   },
   {
    "duration": 34,
    "start_time": "2023-11-06T13:23:02.113Z"
   },
   {
    "duration": 523,
    "start_time": "2023-11-06T13:23:02.149Z"
   },
   {
    "duration": 134,
    "start_time": "2023-11-06T13:23:02.674Z"
   },
   {
    "duration": 534,
    "start_time": "2023-11-06T13:23:02.810Z"
   },
   {
    "duration": 547,
    "start_time": "2023-11-06T13:23:03.346Z"
   },
   {
    "duration": 121,
    "start_time": "2023-11-06T13:23:03.895Z"
   },
   {
    "duration": 10,
    "start_time": "2023-11-06T13:23:04.018Z"
   },
   {
    "duration": 171,
    "start_time": "2023-11-06T13:23:04.029Z"
   },
   {
    "duration": 476,
    "start_time": "2023-11-06T13:23:04.202Z"
   },
   {
    "duration": 933,
    "start_time": "2023-11-06T13:23:04.679Z"
   },
   {
    "duration": 140,
    "start_time": "2023-11-06T13:23:05.614Z"
   },
   {
    "duration": 16,
    "start_time": "2023-11-06T13:23:05.756Z"
   },
   {
    "duration": 202,
    "start_time": "2023-11-06T13:23:05.774Z"
   },
   {
    "duration": 560,
    "start_time": "2023-11-06T13:23:05.978Z"
   },
   {
    "duration": 181,
    "start_time": "2023-11-06T13:23:06.540Z"
   },
   {
    "duration": 497,
    "start_time": "2023-11-06T13:23:06.722Z"
   },
   {
    "duration": 499,
    "start_time": "2023-11-06T13:23:07.221Z"
   },
   {
    "duration": 13,
    "start_time": "2023-11-06T13:23:07.721Z"
   },
   {
    "duration": 46,
    "start_time": "2023-11-06T13:23:07.736Z"
   },
   {
    "duration": 29,
    "start_time": "2023-11-06T13:23:07.784Z"
   },
   {
    "duration": 57,
    "start_time": "2023-11-06T13:23:07.815Z"
   },
   {
    "duration": 273,
    "start_time": "2023-11-06T13:23:07.874Z"
   },
   {
    "duration": 137,
    "start_time": "2023-11-06T13:23:08.151Z"
   },
   {
    "duration": 20,
    "start_time": "2023-11-06T13:23:08.289Z"
   },
   {
    "duration": 46726,
    "start_time": "2023-11-06T13:23:08.311Z"
   },
   {
    "duration": 15944,
    "start_time": "2023-11-06T13:23:55.039Z"
   },
   {
    "duration": 3,
    "start_time": "2023-11-06T13:24:10.985Z"
   },
   {
    "duration": 20,
    "start_time": "2023-11-06T13:24:10.990Z"
   },
   {
    "duration": 148416,
    "start_time": "2023-11-06T13:24:11.012Z"
   },
   {
    "duration": 2979,
    "start_time": "2023-11-06T13:26:39.430Z"
   },
   {
    "duration": 3,
    "start_time": "2023-11-06T13:26:42.410Z"
   },
   {
    "duration": 144193,
    "start_time": "2023-11-06T13:26:42.415Z"
   },
   {
    "duration": 4000,
    "start_time": "2023-11-06T13:29:06.609Z"
   },
   {
    "duration": 3,
    "start_time": "2023-11-06T13:29:10.610Z"
   },
   {
    "duration": 9803,
    "start_time": "2023-11-06T13:29:10.614Z"
   },
   {
    "duration": 3910,
    "start_time": "2023-11-06T13:29:20.418Z"
   },
   {
    "duration": 2,
    "start_time": "2023-11-06T13:29:24.330Z"
   },
   {
    "duration": 16846,
    "start_time": "2023-11-06T13:29:24.409Z"
   },
   {
    "duration": 22304,
    "start_time": "2023-11-06T13:31:41.923Z"
   },
   {
    "duration": 27361,
    "start_time": "2023-11-06T13:32:57.452Z"
   },
   {
    "duration": 2285,
    "start_time": "2023-11-06T13:36:24.346Z"
   },
   {
    "duration": 1931,
    "start_time": "2023-11-06T13:36:26.634Z"
   },
   {
    "duration": 2,
    "start_time": "2023-11-06T13:36:28.567Z"
   },
   {
    "duration": 9,
    "start_time": "2023-11-06T13:36:28.571Z"
   },
   {
    "duration": 1185,
    "start_time": "2023-11-06T13:36:28.583Z"
   },
   {
    "duration": 3,
    "start_time": "2023-11-06T13:36:29.769Z"
   },
   {
    "duration": 54,
    "start_time": "2023-11-06T13:36:29.774Z"
   },
   {
    "duration": 4,
    "start_time": "2023-11-06T13:36:29.830Z"
   },
   {
    "duration": 1244,
    "start_time": "2023-11-06T13:36:29.835Z"
   },
   {
    "duration": 520,
    "start_time": "2023-11-06T13:36:31.081Z"
   },
   {
    "duration": 1081,
    "start_time": "2023-11-06T13:36:31.603Z"
   },
   {
    "duration": 132,
    "start_time": "2023-11-06T13:36:32.685Z"
   },
   {
    "duration": 108,
    "start_time": "2023-11-06T13:36:32.819Z"
   },
   {
    "duration": 234,
    "start_time": "2023-11-06T13:36:32.930Z"
   },
   {
    "duration": 65,
    "start_time": "2023-11-06T13:36:33.166Z"
   },
   {
    "duration": 164,
    "start_time": "2023-11-06T13:36:33.233Z"
   },
   {
    "duration": 132,
    "start_time": "2023-11-06T13:36:33.399Z"
   },
   {
    "duration": 4,
    "start_time": "2023-11-06T13:36:33.533Z"
   },
   {
    "duration": 16,
    "start_time": "2023-11-06T13:36:33.539Z"
   },
   {
    "duration": 492,
    "start_time": "2023-11-06T13:36:33.556Z"
   },
   {
    "duration": 145,
    "start_time": "2023-11-06T13:36:34.050Z"
   },
   {
    "duration": 565,
    "start_time": "2023-11-06T13:36:34.197Z"
   },
   {
    "duration": 555,
    "start_time": "2023-11-06T13:36:34.763Z"
   },
   {
    "duration": 121,
    "start_time": "2023-11-06T13:36:35.320Z"
   },
   {
    "duration": 8,
    "start_time": "2023-11-06T13:36:35.443Z"
   },
   {
    "duration": 178,
    "start_time": "2023-11-06T13:36:35.453Z"
   },
   {
    "duration": 578,
    "start_time": "2023-11-06T13:36:35.632Z"
   },
   {
    "duration": 824,
    "start_time": "2023-11-06T13:36:36.212Z"
   },
   {
    "duration": 138,
    "start_time": "2023-11-06T13:36:37.038Z"
   },
   {
    "duration": 15,
    "start_time": "2023-11-06T13:36:37.177Z"
   },
   {
    "duration": 195,
    "start_time": "2023-11-06T13:36:37.193Z"
   },
   {
    "duration": 558,
    "start_time": "2023-11-06T13:36:37.389Z"
   },
   {
    "duration": 175,
    "start_time": "2023-11-06T13:36:37.949Z"
   },
   {
    "duration": 509,
    "start_time": "2023-11-06T13:36:38.126Z"
   },
   {
    "duration": 490,
    "start_time": "2023-11-06T13:36:38.637Z"
   },
   {
    "duration": 14,
    "start_time": "2023-11-06T13:36:39.129Z"
   },
   {
    "duration": 54,
    "start_time": "2023-11-06T13:36:39.144Z"
   },
   {
    "duration": 25,
    "start_time": "2023-11-06T13:36:39.199Z"
   },
   {
    "duration": 61,
    "start_time": "2023-11-06T13:36:39.226Z"
   },
   {
    "duration": 285,
    "start_time": "2023-11-06T13:36:39.289Z"
   },
   {
    "duration": 130,
    "start_time": "2023-11-06T13:36:39.578Z"
   },
   {
    "duration": 16,
    "start_time": "2023-11-06T13:36:39.710Z"
   },
   {
    "duration": 50721,
    "start_time": "2023-11-06T13:36:39.728Z"
   },
   {
    "duration": 16708,
    "start_time": "2023-11-06T13:37:30.450Z"
   },
   {
    "duration": 3,
    "start_time": "2023-11-06T13:37:47.159Z"
   },
   {
    "duration": 8,
    "start_time": "2023-11-06T13:37:47.164Z"
   },
   {
    "duration": 155938,
    "start_time": "2023-11-06T13:37:47.173Z"
   },
   {
    "duration": 2916,
    "start_time": "2023-11-06T13:40:23.113Z"
   },
   {
    "duration": 3,
    "start_time": "2023-11-06T13:40:26.031Z"
   },
   {
    "duration": 516291,
    "start_time": "2023-11-06T13:40:26.036Z"
   },
   {
    "duration": 4286,
    "start_time": "2023-11-06T13:49:02.329Z"
   },
   {
    "duration": 3,
    "start_time": "2023-11-06T13:49:06.617Z"
   },
   {
    "duration": 632586,
    "start_time": "2023-11-06T13:49:06.623Z"
   },
   {
    "duration": 4001,
    "start_time": "2023-11-06T13:59:39.210Z"
   },
   {
    "duration": 3,
    "start_time": "2023-11-06T13:59:43.214Z"
   },
   {
    "duration": 41489,
    "start_time": "2023-11-06T13:59:43.219Z"
   },
   {
    "duration": 130,
    "start_time": "2023-11-06T14:07:47.674Z"
   },
   {
    "duration": 2173,
    "start_time": "2023-11-06T14:08:01.627Z"
   },
   {
    "duration": 1971,
    "start_time": "2023-11-06T14:08:03.802Z"
   },
   {
    "duration": 3,
    "start_time": "2023-11-06T14:08:05.775Z"
   },
   {
    "duration": 11,
    "start_time": "2023-11-06T14:08:05.780Z"
   },
   {
    "duration": 1178,
    "start_time": "2023-11-06T14:08:05.794Z"
   },
   {
    "duration": 3,
    "start_time": "2023-11-06T14:08:06.973Z"
   },
   {
    "duration": 23,
    "start_time": "2023-11-06T14:08:06.978Z"
   },
   {
    "duration": 17,
    "start_time": "2023-11-06T14:08:07.003Z"
   },
   {
    "duration": 1123,
    "start_time": "2023-11-06T14:08:07.022Z"
   },
   {
    "duration": 477,
    "start_time": "2023-11-06T14:08:08.147Z"
   },
   {
    "duration": 918,
    "start_time": "2023-11-06T14:08:08.625Z"
   },
   {
    "duration": 134,
    "start_time": "2023-11-06T14:08:09.545Z"
   },
   {
    "duration": 99,
    "start_time": "2023-11-06T14:08:09.681Z"
   },
   {
    "duration": 229,
    "start_time": "2023-11-06T14:08:09.783Z"
   },
   {
    "duration": 63,
    "start_time": "2023-11-06T14:08:10.013Z"
   },
   {
    "duration": 174,
    "start_time": "2023-11-06T14:08:10.079Z"
   },
   {
    "duration": 118,
    "start_time": "2023-11-06T14:08:10.255Z"
   },
   {
    "duration": 11,
    "start_time": "2023-11-06T14:08:10.375Z"
   },
   {
    "duration": 6,
    "start_time": "2023-11-06T14:08:10.388Z"
   },
   {
    "duration": 478,
    "start_time": "2023-11-06T14:08:10.396Z"
   },
   {
    "duration": 152,
    "start_time": "2023-11-06T14:08:10.876Z"
   },
   {
    "duration": 551,
    "start_time": "2023-11-06T14:08:11.029Z"
   },
   {
    "duration": 567,
    "start_time": "2023-11-06T14:08:11.582Z"
   },
   {
    "duration": 123,
    "start_time": "2023-11-06T14:08:12.150Z"
   },
   {
    "duration": 8,
    "start_time": "2023-11-06T14:08:12.274Z"
   },
   {
    "duration": 169,
    "start_time": "2023-11-06T14:08:12.284Z"
   },
   {
    "duration": 528,
    "start_time": "2023-11-06T14:08:12.454Z"
   },
   {
    "duration": 801,
    "start_time": "2023-11-06T14:08:12.985Z"
   },
   {
    "duration": 134,
    "start_time": "2023-11-06T14:08:13.788Z"
   },
   {
    "duration": 15,
    "start_time": "2023-11-06T14:08:13.923Z"
   },
   {
    "duration": 172,
    "start_time": "2023-11-06T14:08:13.939Z"
   },
   {
    "duration": 545,
    "start_time": "2023-11-06T14:08:14.112Z"
   },
   {
    "duration": 173,
    "start_time": "2023-11-06T14:08:14.659Z"
   },
   {
    "duration": 523,
    "start_time": "2023-11-06T14:08:14.833Z"
   },
   {
    "duration": 515,
    "start_time": "2023-11-06T14:08:15.358Z"
   },
   {
    "duration": 14,
    "start_time": "2023-11-06T14:08:15.875Z"
   },
   {
    "duration": 55,
    "start_time": "2023-11-06T14:08:15.911Z"
   },
   {
    "duration": 39,
    "start_time": "2023-11-06T14:08:15.968Z"
   },
   {
    "duration": 73,
    "start_time": "2023-11-06T14:08:16.009Z"
   },
   {
    "duration": 341,
    "start_time": "2023-11-06T14:08:16.084Z"
   },
   {
    "duration": 143,
    "start_time": "2023-11-06T14:08:16.429Z"
   },
   {
    "duration": 18,
    "start_time": "2023-11-06T14:08:16.574Z"
   },
   {
    "duration": 51985,
    "start_time": "2023-11-06T14:08:16.608Z"
   },
   {
    "duration": 15923,
    "start_time": "2023-11-06T14:09:08.594Z"
   },
   {
    "duration": 3,
    "start_time": "2023-11-06T14:09:24.518Z"
   },
   {
    "duration": 34,
    "start_time": "2023-11-06T14:09:24.522Z"
   },
   {
    "duration": 124952,
    "start_time": "2023-11-06T14:09:24.558Z"
   },
   {
    "duration": 2922,
    "start_time": "2023-11-06T14:11:29.511Z"
   },
   {
    "duration": 4,
    "start_time": "2023-11-06T14:11:32.436Z"
   },
   {
    "duration": 567876,
    "start_time": "2023-11-06T14:11:32.445Z"
   },
   {
    "duration": 4086,
    "start_time": "2023-11-06T14:21:00.323Z"
   },
   {
    "duration": 2,
    "start_time": "2023-11-06T14:21:04.411Z"
   },
   {
    "duration": 570827,
    "start_time": "2023-11-06T14:21:04.414Z"
   },
   {
    "duration": 4308,
    "start_time": "2023-11-06T14:30:35.309Z"
   },
   {
    "duration": 5,
    "start_time": "2023-11-06T14:30:39.619Z"
   },
   {
    "duration": 58795,
    "start_time": "2023-11-06T14:30:39.629Z"
   },
   {
    "duration": 76,
    "start_time": "2023-11-06T14:31:38.431Z"
   },
   {
    "duration": 6112,
    "start_time": "2023-11-06T15:35:40.178Z"
   },
   {
    "duration": 1399,
    "start_time": "2023-11-06T15:35:46.293Z"
   },
   {
    "duration": 3,
    "start_time": "2023-11-06T15:35:47.694Z"
   },
   {
    "duration": 8,
    "start_time": "2023-11-06T15:35:47.699Z"
   },
   {
    "duration": 1216,
    "start_time": "2023-11-06T15:35:47.710Z"
   },
   {
    "duration": 3,
    "start_time": "2023-11-06T15:35:48.928Z"
   },
   {
    "duration": 9,
    "start_time": "2023-11-06T15:35:48.933Z"
   },
   {
    "duration": 19,
    "start_time": "2023-11-06T15:35:48.944Z"
   },
   {
    "duration": 1263,
    "start_time": "2023-11-06T15:35:48.965Z"
   },
   {
    "duration": 508,
    "start_time": "2023-11-06T15:35:50.231Z"
   },
   {
    "duration": 1085,
    "start_time": "2023-11-06T15:35:50.741Z"
   },
   {
    "duration": 169,
    "start_time": "2023-11-06T15:35:51.827Z"
   },
   {
    "duration": 126,
    "start_time": "2023-11-06T15:35:51.998Z"
   },
   {
    "duration": 280,
    "start_time": "2023-11-06T15:35:52.126Z"
   },
   {
    "duration": 3,
    "start_time": "2023-11-06T15:35:52.408Z"
   },
   {
    "duration": 8,
    "start_time": "2023-11-07T05:47:05.080Z"
   },
   {
    "duration": 6963,
    "start_time": "2023-11-07T05:48:55.855Z"
   },
   {
    "duration": 1609,
    "start_time": "2023-11-07T05:49:02.821Z"
   },
   {
    "duration": 3,
    "start_time": "2023-11-07T05:49:04.432Z"
   },
   {
    "duration": 14,
    "start_time": "2023-11-07T05:49:04.437Z"
   },
   {
    "duration": 1288,
    "start_time": "2023-11-07T05:49:04.453Z"
   },
   {
    "duration": 4,
    "start_time": "2023-11-07T05:49:05.743Z"
   },
   {
    "duration": 17,
    "start_time": "2023-11-07T05:49:05.749Z"
   },
   {
    "duration": 4,
    "start_time": "2023-11-07T05:49:05.767Z"
   },
   {
    "duration": 1135,
    "start_time": "2023-11-07T05:49:05.773Z"
   },
   {
    "duration": 518,
    "start_time": "2023-11-07T05:49:06.911Z"
   },
   {
    "duration": 1037,
    "start_time": "2023-11-07T05:49:07.431Z"
   },
   {
    "duration": 165,
    "start_time": "2023-11-07T05:49:08.470Z"
   },
   {
    "duration": 123,
    "start_time": "2023-11-07T05:49:08.638Z"
   },
   {
    "duration": 239,
    "start_time": "2023-11-07T05:49:08.763Z"
   },
   {
    "duration": 55,
    "start_time": "2023-11-07T05:49:09.004Z"
   },
   {
    "duration": 454,
    "start_time": "2023-11-07T05:49:09.061Z"
   },
   {
    "duration": 386,
    "start_time": "2023-11-07T05:49:09.516Z"
   },
   {
    "duration": 23,
    "start_time": "2023-11-07T05:49:09.904Z"
   },
   {
    "duration": 34,
    "start_time": "2023-11-07T05:49:09.929Z"
   },
   {
    "duration": 566,
    "start_time": "2023-11-07T05:49:09.965Z"
   },
   {
    "duration": 162,
    "start_time": "2023-11-07T05:49:10.533Z"
   },
   {
    "duration": 653,
    "start_time": "2023-11-07T05:49:10.701Z"
   },
   {
    "duration": 542,
    "start_time": "2023-11-07T05:49:11.356Z"
   },
   {
    "duration": 132,
    "start_time": "2023-11-07T05:49:11.901Z"
   },
   {
    "duration": 8,
    "start_time": "2023-11-07T05:49:12.035Z"
   },
   {
    "duration": 183,
    "start_time": "2023-11-07T05:49:12.045Z"
   },
   {
    "duration": 543,
    "start_time": "2023-11-07T05:49:12.229Z"
   },
   {
    "duration": 881,
    "start_time": "2023-11-07T05:49:12.775Z"
   },
   {
    "duration": 149,
    "start_time": "2023-11-07T05:49:13.658Z"
   },
   {
    "duration": 15,
    "start_time": "2023-11-07T05:49:13.809Z"
   },
   {
    "duration": 278,
    "start_time": "2023-11-07T05:49:13.826Z"
   },
   {
    "duration": 470,
    "start_time": "2023-11-07T05:49:14.106Z"
   },
   {
    "duration": 252,
    "start_time": "2023-11-07T05:49:14.579Z"
   },
   {
    "duration": 547,
    "start_time": "2023-11-07T05:49:14.833Z"
   },
   {
    "duration": 475,
    "start_time": "2023-11-07T05:49:15.382Z"
   },
   {
    "duration": 14,
    "start_time": "2023-11-07T05:49:15.859Z"
   },
   {
    "duration": 59,
    "start_time": "2023-11-07T05:49:15.875Z"
   },
   {
    "duration": 6,
    "start_time": "2023-11-07T05:49:15.936Z"
   },
   {
    "duration": 133,
    "start_time": "2023-11-07T05:51:58.088Z"
   },
   {
    "duration": 2166,
    "start_time": "2023-11-07T06:18:03.911Z"
   },
   {
    "duration": 6336,
    "start_time": "2023-11-07T14:45:06.511Z"
   },
   {
    "duration": 1386,
    "start_time": "2023-11-07T14:45:12.849Z"
   },
   {
    "duration": 3,
    "start_time": "2023-11-07T14:45:14.236Z"
   },
   {
    "duration": 7,
    "start_time": "2023-11-07T14:45:14.241Z"
   },
   {
    "duration": 1003,
    "start_time": "2023-11-07T14:45:14.250Z"
   },
   {
    "duration": 5,
    "start_time": "2023-11-07T14:45:15.254Z"
   },
   {
    "duration": 7,
    "start_time": "2023-11-07T14:45:15.260Z"
   },
   {
    "duration": 9,
    "start_time": "2023-11-07T14:45:15.269Z"
   },
   {
    "duration": 915,
    "start_time": "2023-11-07T14:45:15.279Z"
   },
   {
    "duration": 395,
    "start_time": "2023-11-07T14:45:16.196Z"
   },
   {
    "duration": 392,
    "start_time": "2023-11-07T14:45:16.593Z"
   },
   {
    "duration": 804,
    "start_time": "2023-11-07T14:45:16.986Z"
   },
   {
    "duration": 105,
    "start_time": "2023-11-07T14:45:17.792Z"
   },
   {
    "duration": 106,
    "start_time": "2023-11-07T14:45:17.899Z"
   },
   {
    "duration": 2184,
    "start_time": "2023-11-07T14:45:18.006Z"
   },
   {
    "duration": 8,
    "start_time": "2023-11-07T14:45:34.081Z"
   },
   {
    "duration": 81,
    "start_time": "2023-11-07T14:45:40.878Z"
   },
   {
    "duration": 1312,
    "start_time": "2023-11-07T14:45:47.468Z"
   },
   {
    "duration": 3,
    "start_time": "2023-11-07T14:46:27.667Z"
   },
   {
    "duration": 15,
    "start_time": "2023-11-07T14:46:32.267Z"
   },
   {
    "duration": 4,
    "start_time": "2023-11-07T14:47:24.942Z"
   },
   {
    "duration": 24,
    "start_time": "2023-11-07T14:47:27.632Z"
   },
   {
    "duration": 25,
    "start_time": "2023-11-07T14:47:37.898Z"
   },
   {
    "duration": 7,
    "start_time": "2023-11-07T14:48:23.352Z"
   },
   {
    "duration": 7,
    "start_time": "2023-11-07T14:48:27.279Z"
   },
   {
    "duration": 1394,
    "start_time": "2023-11-07T14:48:32.276Z"
   },
   {
    "duration": 4,
    "start_time": "2023-11-07T14:48:40.850Z"
   },
   {
    "duration": 15,
    "start_time": "2023-11-07T14:49:00.401Z"
   },
   {
    "duration": 25,
    "start_time": "2023-11-07T14:49:03.187Z"
   },
   {
    "duration": 34,
    "start_time": "2023-11-07T14:49:12.269Z"
   },
   {
    "duration": 19,
    "start_time": "2023-11-07T14:49:20.396Z"
   },
   {
    "duration": 21,
    "start_time": "2023-11-07T14:49:31.278Z"
   },
   {
    "duration": 12,
    "start_time": "2023-11-07T14:49:38.989Z"
   },
   {
    "duration": 13,
    "start_time": "2023-11-07T14:49:43.942Z"
   },
   {
    "duration": 15,
    "start_time": "2023-11-07T14:50:00.735Z"
   },
   {
    "duration": 13,
    "start_time": "2023-11-07T14:50:06.503Z"
   },
   {
    "duration": 12,
    "start_time": "2023-11-07T14:50:13.169Z"
   },
   {
    "duration": 15,
    "start_time": "2023-11-07T14:50:22.442Z"
   },
   {
    "duration": 1407,
    "start_time": "2023-11-07T14:50:27.659Z"
   },
   {
    "duration": 12,
    "start_time": "2023-11-07T14:50:36.052Z"
   },
   {
    "duration": 13,
    "start_time": "2023-11-07T14:50:42.468Z"
   },
   {
    "duration": 11,
    "start_time": "2023-11-07T14:51:11.835Z"
   },
   {
    "duration": 14,
    "start_time": "2023-11-07T14:51:42.074Z"
   },
   {
    "duration": 1668,
    "start_time": "2023-11-07T14:51:45.699Z"
   },
   {
    "duration": 3039,
    "start_time": "2023-11-07T14:51:53.523Z"
   },
   {
    "duration": 1443,
    "start_time": "2023-11-07T14:51:57.395Z"
   },
   {
    "duration": 31,
    "start_time": "2023-11-07T14:52:26.046Z"
   },
   {
    "duration": 22,
    "start_time": "2023-11-07T14:52:31.954Z"
   },
   {
    "duration": 3,
    "start_time": "2023-11-07T14:57:17.861Z"
   },
   {
    "duration": 8,
    "start_time": "2023-11-07T14:57:31.462Z"
   },
   {
    "duration": 63,
    "start_time": "2023-11-07T14:57:35.863Z"
   },
   {
    "duration": 74,
    "start_time": "2023-11-07T14:58:04.584Z"
   },
   {
    "duration": 173,
    "start_time": "2023-11-07T14:58:18.810Z"
   },
   {
    "duration": 6386,
    "start_time": "2023-11-11T11:08:08.054Z"
   },
   {
    "duration": 1410,
    "start_time": "2023-11-11T11:08:14.442Z"
   },
   {
    "duration": 2,
    "start_time": "2023-11-11T11:08:15.854Z"
   },
   {
    "duration": 9,
    "start_time": "2023-11-11T11:08:15.858Z"
   },
   {
    "duration": 2936,
    "start_time": "2023-11-11T11:08:15.868Z"
   },
   {
    "duration": 3,
    "start_time": "2023-11-11T11:08:18.806Z"
   },
   {
    "duration": 6,
    "start_time": "2023-11-11T11:08:18.810Z"
   },
   {
    "duration": 3,
    "start_time": "2023-11-11T11:08:18.817Z"
   },
   {
    "duration": 1112,
    "start_time": "2023-11-11T11:08:18.822Z"
   },
   {
    "duration": 232,
    "start_time": "2023-11-11T11:08:19.937Z"
   },
   {
    "duration": 450,
    "start_time": "2023-11-11T11:08:20.171Z"
   },
   {
    "duration": 442,
    "start_time": "2023-11-11T11:08:20.623Z"
   },
   {
    "duration": 925,
    "start_time": "2023-11-11T11:08:21.066Z"
   },
   {
    "duration": 140,
    "start_time": "2023-11-11T11:08:21.993Z"
   },
   {
    "duration": 438,
    "start_time": "2023-11-11T11:09:14.102Z"
   },
   {
    "duration": 108,
    "start_time": "2023-11-11T11:09:17.429Z"
   },
   {
    "duration": 9,
    "start_time": "2023-11-11T11:10:38.366Z"
   },
   {
    "duration": 456,
    "start_time": "2023-11-11T11:10:41.271Z"
   },
   {
    "duration": 2345,
    "start_time": "2023-11-11T11:10:53.309Z"
   },
   {
    "duration": 4,
    "start_time": "2023-11-11T11:10:55.656Z"
   },
   {
    "duration": 15,
    "start_time": "2023-11-11T11:10:55.661Z"
   },
   {
    "duration": 34,
    "start_time": "2023-11-11T11:10:55.677Z"
   },
   {
    "duration": 871,
    "start_time": "2023-11-11T11:10:55.713Z"
   },
   {
    "duration": 3,
    "start_time": "2023-11-11T11:10:56.585Z"
   },
   {
    "duration": 20,
    "start_time": "2023-11-11T11:10:56.589Z"
   },
   {
    "duration": 9,
    "start_time": "2023-11-11T11:10:56.610Z"
   },
   {
    "duration": 1006,
    "start_time": "2023-11-11T11:10:56.620Z"
   },
   {
    "duration": 224,
    "start_time": "2023-11-11T11:10:57.627Z"
   },
   {
    "duration": 461,
    "start_time": "2023-11-11T11:10:57.853Z"
   },
   {
    "duration": 585,
    "start_time": "2023-11-11T11:10:58.315Z"
   },
   {
    "duration": 474,
    "start_time": "2023-11-11T11:13:35.153Z"
   },
   {
    "duration": 76,
    "start_time": "2023-11-11T11:16:35.563Z"
   },
   {
    "duration": 452,
    "start_time": "2023-11-11T11:16:38.570Z"
   },
   {
    "duration": 1307,
    "start_time": "2023-11-11T11:19:57.101Z"
   },
   {
    "duration": 16,
    "start_time": "2023-11-11T11:24:26.676Z"
   },
   {
    "duration": 10,
    "start_time": "2023-11-11T11:24:31.705Z"
   },
   {
    "duration": 358,
    "start_time": "2023-11-11T11:24:34.729Z"
   },
   {
    "duration": 2359,
    "start_time": "2023-11-11T11:24:53.191Z"
   },
   {
    "duration": 5,
    "start_time": "2023-11-11T11:24:55.552Z"
   },
   {
    "duration": 6,
    "start_time": "2023-11-11T11:24:55.558Z"
   },
   {
    "duration": 5,
    "start_time": "2023-11-11T11:24:55.566Z"
   },
   {
    "duration": 858,
    "start_time": "2023-11-11T11:24:55.572Z"
   },
   {
    "duration": 3,
    "start_time": "2023-11-11T11:24:56.432Z"
   },
   {
    "duration": 7,
    "start_time": "2023-11-11T11:24:56.436Z"
   },
   {
    "duration": 4,
    "start_time": "2023-11-11T11:24:56.445Z"
   },
   {
    "duration": 1063,
    "start_time": "2023-11-11T11:24:56.450Z"
   },
   {
    "duration": 262,
    "start_time": "2023-11-11T11:24:57.515Z"
   },
   {
    "duration": 453,
    "start_time": "2023-11-11T11:24:57.779Z"
   },
   {
    "duration": 451,
    "start_time": "2023-11-11T11:24:58.233Z"
   },
   {
    "duration": 222,
    "start_time": "2023-11-11T11:24:58.686Z"
   },
   {
    "duration": 123,
    "start_time": "2023-11-11T11:24:58.909Z"
   },
   {
    "duration": 329,
    "start_time": "2023-11-11T11:24:59.033Z"
   },
   {
    "duration": 85,
    "start_time": "2023-11-11T11:24:59.364Z"
   },
   {
    "duration": 254,
    "start_time": "2023-11-11T11:24:59.451Z"
   },
   {
    "duration": 75,
    "start_time": "2023-11-11T11:27:01.945Z"
   },
   {
    "duration": 8,
    "start_time": "2023-11-11T11:28:37.827Z"
   },
   {
    "duration": 7572,
    "start_time": "2023-11-11T13:49:28.863Z"
   },
   {
    "duration": 1537,
    "start_time": "2023-11-11T13:49:36.438Z"
   },
   {
    "duration": 2,
    "start_time": "2023-11-11T13:49:37.977Z"
   },
   {
    "duration": 7,
    "start_time": "2023-11-11T13:49:37.981Z"
   },
   {
    "duration": 3079,
    "start_time": "2023-11-11T13:49:37.990Z"
   },
   {
    "duration": 3,
    "start_time": "2023-11-11T13:49:41.070Z"
   },
   {
    "duration": 7,
    "start_time": "2023-11-11T13:49:41.074Z"
   },
   {
    "duration": 6,
    "start_time": "2023-11-11T13:49:41.082Z"
   },
   {
    "duration": 1205,
    "start_time": "2023-11-11T13:49:41.090Z"
   },
   {
    "duration": 282,
    "start_time": "2023-11-11T13:49:42.301Z"
   },
   {
    "duration": 506,
    "start_time": "2023-11-11T13:49:42.584Z"
   },
   {
    "duration": 526,
    "start_time": "2023-11-11T13:49:43.091Z"
   },
   {
    "duration": 174,
    "start_time": "2023-11-11T13:49:43.618Z"
   },
   {
    "duration": 110,
    "start_time": "2023-11-11T13:49:43.794Z"
   },
   {
    "duration": 368,
    "start_time": "2023-11-11T13:49:43.906Z"
   },
   {
    "duration": 85,
    "start_time": "2023-11-11T13:49:44.276Z"
   },
   {
    "duration": 277,
    "start_time": "2023-11-11T13:49:44.363Z"
   },
   {
    "duration": 191,
    "start_time": "2023-11-11T13:49:44.642Z"
   },
   {
    "duration": 5,
    "start_time": "2023-11-11T13:49:44.835Z"
   },
   {
    "duration": 4,
    "start_time": "2023-11-11T13:49:44.841Z"
   },
   {
    "duration": 119,
    "start_time": "2023-11-11T13:51:22.426Z"
   },
   {
    "duration": 70,
    "start_time": "2023-11-11T13:51:27.634Z"
   },
   {
    "duration": 12,
    "start_time": "2023-11-11T13:51:32.328Z"
   },
   {
    "duration": 19,
    "start_time": "2023-11-11T13:51:59.391Z"
   },
   {
    "duration": 15,
    "start_time": "2023-11-11T13:52:36.526Z"
   },
   {
    "duration": 14,
    "start_time": "2023-11-11T13:55:32.639Z"
   },
   {
    "duration": 9,
    "start_time": "2023-11-11T13:57:39.538Z"
   },
   {
    "duration": 14,
    "start_time": "2023-11-11T13:57:44.942Z"
   },
   {
    "duration": 78,
    "start_time": "2023-11-11T14:04:17.130Z"
   },
   {
    "duration": 61,
    "start_time": "2023-11-11T14:04:40.601Z"
   },
   {
    "duration": 71,
    "start_time": "2023-11-11T14:05:02.188Z"
   },
   {
    "duration": 374,
    "start_time": "2023-11-11T14:06:02.560Z"
   },
   {
    "duration": 22,
    "start_time": "2023-11-11T14:06:39.020Z"
   },
   {
    "duration": 20,
    "start_time": "2023-11-11T14:06:41.729Z"
   },
   {
    "duration": 3,
    "start_time": "2023-11-11T14:07:38.586Z"
   },
   {
    "duration": 10,
    "start_time": "2023-11-11T14:08:08.962Z"
   },
   {
    "duration": 3,
    "start_time": "2023-11-11T14:08:17.256Z"
   },
   {
    "duration": 10,
    "start_time": "2023-11-11T14:09:24.360Z"
   },
   {
    "duration": 3,
    "start_time": "2023-11-11T14:09:38.592Z"
   },
   {
    "duration": 6,
    "start_time": "2023-11-11T14:11:18.791Z"
   },
   {
    "duration": 10,
    "start_time": "2023-11-11T14:11:24.966Z"
   },
   {
    "duration": 5,
    "start_time": "2023-11-11T14:12:54.722Z"
   },
   {
    "duration": 6,
    "start_time": "2023-11-11T14:12:58.569Z"
   },
   {
    "duration": 8,
    "start_time": "2023-11-11T14:13:12.235Z"
   },
   {
    "duration": 11,
    "start_time": "2023-11-11T14:13:51.436Z"
   },
   {
    "duration": 2500,
    "start_time": "2023-11-11T14:13:56.835Z"
   },
   {
    "duration": 4,
    "start_time": "2023-11-11T14:13:59.337Z"
   },
   {
    "duration": 14,
    "start_time": "2023-11-11T14:13:59.342Z"
   },
   {
    "duration": 3,
    "start_time": "2023-11-11T14:13:59.358Z"
   },
   {
    "duration": 864,
    "start_time": "2023-11-11T14:13:59.362Z"
   },
   {
    "duration": 3,
    "start_time": "2023-11-11T14:14:00.228Z"
   },
   {
    "duration": 47,
    "start_time": "2023-11-11T14:14:00.232Z"
   },
   {
    "duration": 33,
    "start_time": "2023-11-11T14:14:00.280Z"
   },
   {
    "duration": 1226,
    "start_time": "2023-11-11T14:14:00.315Z"
   },
   {
    "duration": 290,
    "start_time": "2023-11-11T14:14:01.545Z"
   },
   {
    "duration": 401,
    "start_time": "2023-11-11T14:14:01.836Z"
   },
   {
    "duration": 406,
    "start_time": "2023-11-11T14:14:02.239Z"
   },
   {
    "duration": 169,
    "start_time": "2023-11-11T14:14:02.647Z"
   },
   {
    "duration": 106,
    "start_time": "2023-11-11T14:14:02.818Z"
   },
   {
    "duration": 357,
    "start_time": "2023-11-11T14:14:02.926Z"
   },
   {
    "duration": 87,
    "start_time": "2023-11-11T14:14:03.285Z"
   },
   {
    "duration": 258,
    "start_time": "2023-11-11T14:14:03.373Z"
   },
   {
    "duration": 195,
    "start_time": "2023-11-11T14:14:03.633Z"
   },
   {
    "duration": 14,
    "start_time": "2023-11-11T14:14:03.829Z"
   },
   {
    "duration": 21,
    "start_time": "2023-11-11T14:14:03.844Z"
   },
   {
    "duration": 601,
    "start_time": "2023-11-11T14:14:03.867Z"
   },
   {
    "duration": 167,
    "start_time": "2023-11-11T14:14:04.470Z"
   },
   {
    "duration": 613,
    "start_time": "2023-11-11T14:14:04.638Z"
   },
   {
    "duration": 640,
    "start_time": "2023-11-11T14:14:05.253Z"
   },
   {
    "duration": 140,
    "start_time": "2023-11-11T14:14:05.895Z"
   },
   {
    "duration": 8,
    "start_time": "2023-11-11T14:14:06.037Z"
   },
   {
    "duration": 188,
    "start_time": "2023-11-11T14:14:06.046Z"
   },
   {
    "duration": 16,
    "start_time": "2023-11-11T14:14:06.237Z"
   },
   {
    "duration": 605,
    "start_time": "2023-11-11T14:14:06.254Z"
   },
   {
    "duration": 899,
    "start_time": "2023-11-11T14:14:06.861Z"
   },
   {
    "duration": 153,
    "start_time": "2023-11-11T14:14:07.762Z"
   },
   {
    "duration": 15,
    "start_time": "2023-11-11T14:14:07.917Z"
   },
   {
    "duration": 190,
    "start_time": "2023-11-11T14:14:07.933Z"
   },
   {
    "duration": 531,
    "start_time": "2023-11-11T14:14:08.124Z"
   },
   {
    "duration": 207,
    "start_time": "2023-11-11T14:14:08.656Z"
   },
   {
    "duration": 549,
    "start_time": "2023-11-11T14:14:08.864Z"
   },
   {
    "duration": 561,
    "start_time": "2023-11-11T14:14:09.414Z"
   },
   {
    "duration": 13,
    "start_time": "2023-11-11T14:14:09.976Z"
   },
   {
    "duration": 88,
    "start_time": "2023-11-11T14:14:09.991Z"
   },
   {
    "duration": 5,
    "start_time": "2023-11-11T14:14:10.081Z"
   },
   {
    "duration": 11,
    "start_time": "2023-11-11T14:14:10.087Z"
   },
   {
    "duration": 88,
    "start_time": "2023-11-11T14:14:10.100Z"
   },
   {
    "duration": 8,
    "start_time": "2023-11-11T14:14:10.190Z"
   },
   {
    "duration": 30,
    "start_time": "2023-11-11T14:14:10.202Z"
   },
   {
    "duration": 74,
    "start_time": "2023-11-11T14:14:10.233Z"
   },
   {
    "duration": 379,
    "start_time": "2023-11-11T14:14:10.309Z"
   },
   {
    "duration": 181,
    "start_time": "2023-11-11T14:14:10.690Z"
   },
   {
    "duration": 35,
    "start_time": "2023-11-11T14:14:10.872Z"
   },
   {
    "duration": 26,
    "start_time": "2023-11-11T14:14:10.910Z"
   },
   {
    "duration": 0,
    "start_time": "2023-11-11T14:14:10.938Z"
   },
   {
    "duration": 0,
    "start_time": "2023-11-11T14:14:10.940Z"
   },
   {
    "duration": 0,
    "start_time": "2023-11-11T14:14:10.941Z"
   },
   {
    "duration": 0,
    "start_time": "2023-11-11T14:14:10.942Z"
   },
   {
    "duration": 0,
    "start_time": "2023-11-11T14:14:10.943Z"
   },
   {
    "duration": 0,
    "start_time": "2023-11-11T14:14:10.944Z"
   },
   {
    "duration": 0,
    "start_time": "2023-11-11T14:14:10.945Z"
   },
   {
    "duration": 0,
    "start_time": "2023-11-11T14:14:10.946Z"
   },
   {
    "duration": 0,
    "start_time": "2023-11-11T14:14:10.947Z"
   },
   {
    "duration": 0,
    "start_time": "2023-11-11T14:14:10.948Z"
   },
   {
    "duration": 0,
    "start_time": "2023-11-11T14:14:10.949Z"
   },
   {
    "duration": 0,
    "start_time": "2023-11-11T14:14:10.950Z"
   },
   {
    "duration": 0,
    "start_time": "2023-11-11T14:14:10.951Z"
   },
   {
    "duration": 0,
    "start_time": "2023-11-11T14:14:10.953Z"
   },
   {
    "duration": 50,
    "start_time": "2023-11-15T14:53:49.211Z"
   },
   {
    "duration": 6673,
    "start_time": "2023-11-15T14:53:53.730Z"
   },
   {
    "duration": 2060,
    "start_time": "2023-11-15T14:54:00.406Z"
   },
   {
    "duration": 3,
    "start_time": "2023-11-15T14:54:02.467Z"
   },
   {
    "duration": 42,
    "start_time": "2023-11-15T14:54:02.472Z"
   },
   {
    "duration": 1112,
    "start_time": "2023-11-15T14:54:02.515Z"
   },
   {
    "duration": 3,
    "start_time": "2023-11-15T14:54:03.629Z"
   },
   {
    "duration": 19,
    "start_time": "2023-11-15T14:54:03.634Z"
   },
   {
    "duration": 29,
    "start_time": "2023-11-15T14:54:03.655Z"
   },
   {
    "duration": 1023,
    "start_time": "2023-11-15T14:54:03.686Z"
   },
   {
    "duration": 205,
    "start_time": "2023-11-15T14:54:04.712Z"
   },
   {
    "duration": 415,
    "start_time": "2023-11-15T14:54:04.918Z"
   },
   {
    "duration": 441,
    "start_time": "2023-11-15T14:54:05.334Z"
   },
   {
    "duration": 156,
    "start_time": "2023-11-15T14:54:05.776Z"
   },
   {
    "duration": 99,
    "start_time": "2023-11-15T14:54:05.934Z"
   },
   {
    "duration": 277,
    "start_time": "2023-11-15T14:54:06.035Z"
   },
   {
    "duration": 69,
    "start_time": "2023-11-15T14:54:06.314Z"
   },
   {
    "duration": 254,
    "start_time": "2023-11-15T14:54:06.384Z"
   },
   {
    "duration": 145,
    "start_time": "2023-11-15T14:54:06.639Z"
   },
   {
    "duration": 15,
    "start_time": "2023-11-15T14:54:06.786Z"
   },
   {
    "duration": 38,
    "start_time": "2023-11-15T14:54:06.802Z"
   },
   {
    "duration": 559,
    "start_time": "2023-11-15T14:54:06.841Z"
   },
   {
    "duration": 157,
    "start_time": "2023-11-15T14:54:07.401Z"
   },
   {
    "duration": 592,
    "start_time": "2023-11-15T14:54:07.560Z"
   },
   {
    "duration": 572,
    "start_time": "2023-11-15T14:54:08.153Z"
   },
   {
    "duration": 116,
    "start_time": "2023-11-15T14:54:08.727Z"
   },
   {
    "duration": 8,
    "start_time": "2023-11-15T14:54:08.844Z"
   },
   {
    "duration": 203,
    "start_time": "2023-11-15T14:54:08.853Z"
   },
   {
    "duration": 17,
    "start_time": "2023-11-15T14:54:09.060Z"
   },
   {
    "duration": 558,
    "start_time": "2023-11-15T14:54:09.079Z"
   },
   {
    "duration": 821,
    "start_time": "2023-11-15T14:54:09.639Z"
   },
   {
    "duration": 133,
    "start_time": "2023-11-15T14:54:10.464Z"
   },
   {
    "duration": 16,
    "start_time": "2023-11-15T14:54:10.599Z"
   },
   {
    "duration": 189,
    "start_time": "2023-11-15T14:54:10.616Z"
   },
   {
    "duration": 516,
    "start_time": "2023-11-15T14:54:10.807Z"
   },
   {
    "duration": 187,
    "start_time": "2023-11-15T14:54:11.325Z"
   },
   {
    "duration": 551,
    "start_time": "2023-11-15T14:54:11.514Z"
   },
   {
    "duration": 454,
    "start_time": "2023-11-15T14:54:12.067Z"
   },
   {
    "duration": 13,
    "start_time": "2023-11-15T14:54:12.523Z"
   },
   {
    "duration": 64,
    "start_time": "2023-11-15T14:54:12.537Z"
   },
   {
    "duration": 5,
    "start_time": "2023-11-15T14:54:12.603Z"
   },
   {
    "duration": 7,
    "start_time": "2023-11-15T14:54:12.609Z"
   },
   {
    "duration": 64,
    "start_time": "2023-11-15T14:54:12.617Z"
   },
   {
    "duration": 8,
    "start_time": "2023-11-15T14:54:12.682Z"
   },
   {
    "duration": 27,
    "start_time": "2023-11-15T14:54:12.692Z"
   },
   {
    "duration": 76,
    "start_time": "2023-11-15T14:55:29.178Z"
   },
   {
    "duration": 108,
    "start_time": "2023-11-15T14:55:35.299Z"
   },
   {
    "duration": 84,
    "start_time": "2023-11-15T14:56:03.180Z"
   },
   {
    "duration": 11,
    "start_time": "2023-11-15T14:58:27.028Z"
   },
   {
    "duration": 108,
    "start_time": "2023-11-15T14:58:48.990Z"
   },
   {
    "duration": 20,
    "start_time": "2023-11-15T14:58:57.755Z"
   },
   {
    "duration": 18,
    "start_time": "2023-11-15T15:03:01.335Z"
   },
   {
    "duration": 18,
    "start_time": "2023-11-15T15:03:04.290Z"
   },
   {
    "duration": 76,
    "start_time": "2023-11-15T15:03:19.714Z"
   },
   {
    "duration": 15,
    "start_time": "2023-11-15T15:03:23.368Z"
   },
   {
    "duration": 11,
    "start_time": "2023-11-15T15:03:31.353Z"
   },
   {
    "duration": 13,
    "start_time": "2023-11-15T15:04:01.213Z"
   },
   {
    "duration": 11,
    "start_time": "2023-11-15T15:04:05.645Z"
   },
   {
    "duration": 4,
    "start_time": "2023-11-15T15:05:12.973Z"
   },
   {
    "duration": 4,
    "start_time": "2023-11-15T15:05:33.697Z"
   },
   {
    "duration": 10,
    "start_time": "2023-11-15T15:05:40.151Z"
   },
   {
    "duration": 2365,
    "start_time": "2023-11-15T15:06:42.925Z"
   },
   {
    "duration": 5,
    "start_time": "2023-11-15T15:06:45.292Z"
   },
   {
    "duration": 11,
    "start_time": "2023-11-15T15:06:45.299Z"
   },
   {
    "duration": 5,
    "start_time": "2023-11-15T15:06:45.312Z"
   },
   {
    "duration": 843,
    "start_time": "2023-11-15T15:06:45.318Z"
   },
   {
    "duration": 3,
    "start_time": "2023-11-15T15:06:46.165Z"
   },
   {
    "duration": 18,
    "start_time": "2023-11-15T15:06:46.170Z"
   },
   {
    "duration": 16,
    "start_time": "2023-11-15T15:06:46.190Z"
   },
   {
    "duration": 976,
    "start_time": "2023-11-15T15:06:46.207Z"
   },
   {
    "duration": 225,
    "start_time": "2023-11-15T15:06:47.186Z"
   },
   {
    "duration": 391,
    "start_time": "2023-11-15T15:06:47.412Z"
   },
   {
    "duration": 387,
    "start_time": "2023-11-15T15:06:47.805Z"
   },
   {
    "duration": 126,
    "start_time": "2023-11-15T15:06:48.194Z"
   },
   {
    "duration": 100,
    "start_time": "2023-11-15T15:06:48.321Z"
   },
   {
    "duration": 283,
    "start_time": "2023-11-15T15:06:48.423Z"
   },
   {
    "duration": 67,
    "start_time": "2023-11-15T15:06:48.708Z"
   },
   {
    "duration": 165,
    "start_time": "2023-11-15T15:06:48.777Z"
   },
   {
    "duration": 131,
    "start_time": "2023-11-15T15:06:48.943Z"
   },
   {
    "duration": 5,
    "start_time": "2023-11-15T15:06:49.075Z"
   },
   {
    "duration": 8,
    "start_time": "2023-11-15T15:06:49.082Z"
   },
   {
    "duration": 584,
    "start_time": "2023-11-15T15:06:49.091Z"
   },
   {
    "duration": 160,
    "start_time": "2023-11-15T15:06:49.676Z"
   },
   {
    "duration": 551,
    "start_time": "2023-11-15T15:06:49.837Z"
   },
   {
    "duration": 512,
    "start_time": "2023-11-15T15:06:50.390Z"
   },
   {
    "duration": 125,
    "start_time": "2023-11-15T15:06:50.903Z"
   },
   {
    "duration": 9,
    "start_time": "2023-11-15T15:06:51.029Z"
   },
   {
    "duration": 192,
    "start_time": "2023-11-15T15:06:51.039Z"
   },
   {
    "duration": 16,
    "start_time": "2023-11-15T15:06:51.235Z"
   },
   {
    "duration": 567,
    "start_time": "2023-11-15T15:06:51.252Z"
   },
   {
    "duration": 953,
    "start_time": "2023-11-15T15:06:51.820Z"
   },
   {
    "duration": 133,
    "start_time": "2023-11-15T15:06:52.775Z"
   },
   {
    "duration": 19,
    "start_time": "2023-11-15T15:06:52.909Z"
   },
   {
    "duration": 180,
    "start_time": "2023-11-15T15:06:52.929Z"
   },
   {
    "duration": 415,
    "start_time": "2023-11-15T15:06:53.111Z"
   },
   {
    "duration": 183,
    "start_time": "2023-11-15T15:06:53.528Z"
   },
   {
    "duration": 557,
    "start_time": "2023-11-15T15:06:53.713Z"
   },
   {
    "duration": 522,
    "start_time": "2023-11-15T15:06:54.272Z"
   },
   {
    "duration": 20,
    "start_time": "2023-11-15T15:06:54.796Z"
   },
   {
    "duration": 91,
    "start_time": "2023-11-15T15:06:54.818Z"
   },
   {
    "duration": 6,
    "start_time": "2023-11-15T15:06:54.911Z"
   },
   {
    "duration": 8,
    "start_time": "2023-11-15T15:06:54.919Z"
   },
   {
    "duration": 77,
    "start_time": "2023-11-15T15:06:54.929Z"
   },
   {
    "duration": 10,
    "start_time": "2023-11-15T15:06:55.008Z"
   },
   {
    "duration": 49,
    "start_time": "2023-11-15T15:06:55.020Z"
   },
   {
    "duration": 129,
    "start_time": "2023-11-15T15:06:55.071Z"
   },
   {
    "duration": 195,
    "start_time": "2023-11-15T15:06:55.202Z"
   },
   {
    "duration": 224,
    "start_time": "2023-11-15T15:06:55.399Z"
   },
   {
    "duration": 197,
    "start_time": "2023-11-15T15:06:58.047Z"
   },
   {
    "duration": 4,
    "start_time": "2023-11-15T15:07:40.755Z"
   },
   {
    "duration": 7,
    "start_time": "2023-11-15T15:08:35.328Z"
   },
   {
    "duration": 4,
    "start_time": "2023-11-15T15:09:10.543Z"
   },
   {
    "duration": 2429,
    "start_time": "2023-11-15T15:09:14.930Z"
   },
   {
    "duration": 5,
    "start_time": "2023-11-15T15:09:17.361Z"
   },
   {
    "duration": 14,
    "start_time": "2023-11-15T15:09:17.367Z"
   },
   {
    "duration": 4,
    "start_time": "2023-11-15T15:09:17.383Z"
   },
   {
    "duration": 813,
    "start_time": "2023-11-15T15:09:17.389Z"
   },
   {
    "duration": 3,
    "start_time": "2023-11-15T15:09:18.203Z"
   },
   {
    "duration": 20,
    "start_time": "2023-11-15T15:09:18.207Z"
   },
   {
    "duration": 8,
    "start_time": "2023-11-15T15:09:18.229Z"
   },
   {
    "duration": 1051,
    "start_time": "2023-11-15T15:09:18.238Z"
   },
   {
    "duration": 211,
    "start_time": "2023-11-15T15:09:19.291Z"
   },
   {
    "duration": 388,
    "start_time": "2023-11-15T15:09:19.503Z"
   },
   {
    "duration": 397,
    "start_time": "2023-11-15T15:09:19.893Z"
   },
   {
    "duration": 124,
    "start_time": "2023-11-15T15:09:20.291Z"
   },
   {
    "duration": 113,
    "start_time": "2023-11-15T15:09:20.416Z"
   },
   {
    "duration": 3,
    "start_time": "2023-11-15T15:09:43.271Z"
   },
   {
    "duration": 253,
    "start_time": "2023-11-15T15:09:56.159Z"
   },
   {
    "duration": 326,
    "start_time": "2023-11-15T15:10:42.757Z"
   },
   {
    "duration": 2380,
    "start_time": "2023-11-15T15:10:47.121Z"
   },
   {
    "duration": 4,
    "start_time": "2023-11-15T15:10:49.504Z"
   },
   {
    "duration": 27,
    "start_time": "2023-11-15T15:10:49.510Z"
   },
   {
    "duration": 20,
    "start_time": "2023-11-15T15:10:49.539Z"
   },
   {
    "duration": 830,
    "start_time": "2023-11-15T15:10:49.560Z"
   },
   {
    "duration": 3,
    "start_time": "2023-11-15T15:10:50.392Z"
   },
   {
    "duration": 7,
    "start_time": "2023-11-15T15:10:50.397Z"
   },
   {
    "duration": 4,
    "start_time": "2023-11-15T15:10:50.405Z"
   },
   {
    "duration": 1068,
    "start_time": "2023-11-15T15:10:50.410Z"
   },
   {
    "duration": 240,
    "start_time": "2023-11-15T15:10:51.481Z"
   },
   {
    "duration": 417,
    "start_time": "2023-11-15T15:10:51.723Z"
   },
   {
    "duration": 407,
    "start_time": "2023-11-15T15:10:52.141Z"
   },
   {
    "duration": 136,
    "start_time": "2023-11-15T15:10:52.550Z"
   },
   {
    "duration": 104,
    "start_time": "2023-11-15T15:10:52.688Z"
   },
   {
    "duration": 232,
    "start_time": "2023-11-15T15:10:55.381Z"
   },
   {
    "duration": 2428,
    "start_time": "2023-11-15T15:11:29.832Z"
   },
   {
    "duration": 5,
    "start_time": "2023-11-15T15:11:32.263Z"
   },
   {
    "duration": 25,
    "start_time": "2023-11-15T15:11:32.269Z"
   },
   {
    "duration": 13,
    "start_time": "2023-11-15T15:11:32.296Z"
   },
   {
    "duration": 829,
    "start_time": "2023-11-15T15:11:32.310Z"
   },
   {
    "duration": 3,
    "start_time": "2023-11-15T15:11:33.140Z"
   },
   {
    "duration": 18,
    "start_time": "2023-11-15T15:11:33.144Z"
   },
   {
    "duration": 4,
    "start_time": "2023-11-15T15:11:33.163Z"
   },
   {
    "duration": 951,
    "start_time": "2023-11-15T15:11:33.168Z"
   },
   {
    "duration": 202,
    "start_time": "2023-11-15T15:11:34.121Z"
   },
   {
    "duration": 373,
    "start_time": "2023-11-15T15:11:34.325Z"
   },
   {
    "duration": 386,
    "start_time": "2023-11-15T15:11:34.700Z"
   },
   {
    "duration": 123,
    "start_time": "2023-11-15T15:11:35.087Z"
   },
   {
    "duration": 98,
    "start_time": "2023-11-15T15:11:35.212Z"
   },
   {
    "duration": 176,
    "start_time": "2023-11-15T15:11:35.312Z"
   },
   {
    "duration": 2340,
    "start_time": "2023-11-15T15:11:49.935Z"
   },
   {
    "duration": 5,
    "start_time": "2023-11-15T15:11:52.277Z"
   },
   {
    "duration": 18,
    "start_time": "2023-11-15T15:11:52.283Z"
   },
   {
    "duration": 15,
    "start_time": "2023-11-15T15:11:52.304Z"
   },
   {
    "duration": 797,
    "start_time": "2023-11-15T15:11:52.321Z"
   },
   {
    "duration": 4,
    "start_time": "2023-11-15T15:11:53.119Z"
   },
   {
    "duration": 24,
    "start_time": "2023-11-15T15:11:53.124Z"
   },
   {
    "duration": 20,
    "start_time": "2023-11-15T15:11:53.150Z"
   },
   {
    "duration": 965,
    "start_time": "2023-11-15T15:11:53.171Z"
   },
   {
    "duration": 222,
    "start_time": "2023-11-15T15:11:54.139Z"
   },
   {
    "duration": 395,
    "start_time": "2023-11-15T15:11:54.363Z"
   },
   {
    "duration": 389,
    "start_time": "2023-11-15T15:11:54.760Z"
   },
   {
    "duration": 128,
    "start_time": "2023-11-15T15:11:55.151Z"
   },
   {
    "duration": 102,
    "start_time": "2023-11-15T15:11:55.281Z"
   },
   {
    "duration": 132,
    "start_time": "2023-11-15T15:11:55.384Z"
   },
   {
    "duration": 127,
    "start_time": "2023-11-15T15:12:56.306Z"
   },
   {
    "duration": 189,
    "start_time": "2023-11-15T15:13:12.037Z"
   },
   {
    "duration": 152,
    "start_time": "2023-11-15T15:13:20.332Z"
   },
   {
    "duration": 2305,
    "start_time": "2023-11-15T15:13:35.285Z"
   },
   {
    "duration": 4,
    "start_time": "2023-11-15T15:13:37.592Z"
   },
   {
    "duration": 26,
    "start_time": "2023-11-15T15:13:37.598Z"
   },
   {
    "duration": 5,
    "start_time": "2023-11-15T15:13:37.626Z"
   },
   {
    "duration": 765,
    "start_time": "2023-11-15T15:13:37.632Z"
   },
   {
    "duration": 3,
    "start_time": "2023-11-15T15:13:38.399Z"
   },
   {
    "duration": 7,
    "start_time": "2023-11-15T15:13:38.403Z"
   },
   {
    "duration": 3,
    "start_time": "2023-11-15T15:13:38.411Z"
   },
   {
    "duration": 934,
    "start_time": "2023-11-15T15:13:38.415Z"
   },
   {
    "duration": 200,
    "start_time": "2023-11-15T15:13:39.351Z"
   },
   {
    "duration": 349,
    "start_time": "2023-11-15T15:13:39.552Z"
   },
   {
    "duration": 355,
    "start_time": "2023-11-15T15:13:39.903Z"
   },
   {
    "duration": 123,
    "start_time": "2023-11-15T15:13:40.259Z"
   },
   {
    "duration": 99,
    "start_time": "2023-11-15T15:13:40.383Z"
   },
   {
    "duration": 210,
    "start_time": "2023-11-15T15:13:40.484Z"
   },
   {
    "duration": 2401,
    "start_time": "2023-11-15T15:14:01.066Z"
   },
   {
    "duration": 5,
    "start_time": "2023-11-15T15:14:03.469Z"
   },
   {
    "duration": 9,
    "start_time": "2023-11-15T15:14:03.475Z"
   },
   {
    "duration": 11,
    "start_time": "2023-11-15T15:14:03.485Z"
   },
   {
    "duration": 780,
    "start_time": "2023-11-15T15:14:03.498Z"
   },
   {
    "duration": 3,
    "start_time": "2023-11-15T15:14:04.280Z"
   },
   {
    "duration": 5,
    "start_time": "2023-11-15T15:14:04.284Z"
   },
   {
    "duration": 4,
    "start_time": "2023-11-15T15:14:04.291Z"
   },
   {
    "duration": 951,
    "start_time": "2023-11-15T15:14:04.296Z"
   },
   {
    "duration": 203,
    "start_time": "2023-11-15T15:14:05.250Z"
   },
   {
    "duration": 362,
    "start_time": "2023-11-15T15:14:05.455Z"
   },
   {
    "duration": 414,
    "start_time": "2023-11-15T15:14:05.818Z"
   },
   {
    "duration": 122,
    "start_time": "2023-11-15T15:14:06.234Z"
   },
   {
    "duration": 90,
    "start_time": "2023-11-15T15:14:06.357Z"
   },
   {
    "duration": 215,
    "start_time": "2023-11-15T15:14:06.448Z"
   },
   {
    "duration": 59,
    "start_time": "2023-11-15T15:14:06.665Z"
   },
   {
    "duration": 201,
    "start_time": "2023-11-15T15:14:06.725Z"
   },
   {
    "duration": 145,
    "start_time": "2023-11-15T15:14:06.928Z"
   },
   {
    "duration": 5,
    "start_time": "2023-11-15T15:14:07.074Z"
   },
   {
    "duration": 15,
    "start_time": "2023-11-15T15:14:07.080Z"
   },
   {
    "duration": 673,
    "start_time": "2023-11-15T15:14:07.097Z"
   },
   {
    "duration": 154,
    "start_time": "2023-11-15T15:14:07.771Z"
   },
   {
    "duration": 555,
    "start_time": "2023-11-15T15:14:07.926Z"
   },
   {
    "duration": 460,
    "start_time": "2023-11-15T15:14:08.483Z"
   },
   {
    "duration": 117,
    "start_time": "2023-11-15T15:14:08.944Z"
   },
   {
    "duration": 8,
    "start_time": "2023-11-15T15:14:09.066Z"
   },
   {
    "duration": 175,
    "start_time": "2023-11-15T15:14:09.075Z"
   },
   {
    "duration": 22,
    "start_time": "2023-11-15T15:14:09.253Z"
   },
   {
    "duration": 545,
    "start_time": "2023-11-15T15:14:09.277Z"
   },
   {
    "duration": 942,
    "start_time": "2023-11-15T15:14:09.823Z"
   },
   {
    "duration": 127,
    "start_time": "2023-11-15T15:14:10.767Z"
   },
   {
    "duration": 15,
    "start_time": "2023-11-15T15:14:10.896Z"
   },
   {
    "duration": 176,
    "start_time": "2023-11-15T15:14:10.913Z"
   },
   {
    "duration": 413,
    "start_time": "2023-11-15T15:14:11.090Z"
   },
   {
    "duration": 183,
    "start_time": "2023-11-15T15:14:11.505Z"
   },
   {
    "duration": 550,
    "start_time": "2023-11-15T15:14:11.690Z"
   },
   {
    "duration": 510,
    "start_time": "2023-11-15T15:14:12.242Z"
   },
   {
    "duration": 15,
    "start_time": "2023-11-15T15:14:12.754Z"
   },
   {
    "duration": 81,
    "start_time": "2023-11-15T15:14:12.771Z"
   },
   {
    "duration": 6,
    "start_time": "2023-11-15T15:14:12.854Z"
   },
   {
    "duration": 8,
    "start_time": "2023-11-15T15:14:12.865Z"
   },
   {
    "duration": 52,
    "start_time": "2023-11-15T15:14:12.874Z"
   },
   {
    "duration": 9,
    "start_time": "2023-11-15T15:14:12.927Z"
   },
   {
    "duration": 44,
    "start_time": "2023-11-15T15:14:12.937Z"
   },
   {
    "duration": 104,
    "start_time": "2023-11-15T15:14:12.983Z"
   },
   {
    "duration": 159,
    "start_time": "2023-11-15T15:14:13.088Z"
   },
   {
    "duration": 219,
    "start_time": "2023-11-15T15:14:13.248Z"
   },
   {
    "duration": 105,
    "start_time": "2023-11-15T15:14:13.469Z"
   },
   {
    "duration": 13,
    "start_time": "2023-11-15T15:14:20.835Z"
   },
   {
    "duration": 21244,
    "start_time": "2023-11-15T15:14:21.708Z"
   },
   {
    "duration": 48,
    "start_time": "2023-11-15T15:15:00.985Z"
   },
   {
    "duration": 2363,
    "start_time": "2023-11-15T15:15:37.936Z"
   },
   {
    "duration": 2070,
    "start_time": "2023-11-15T15:15:40.301Z"
   },
   {
    "duration": 2,
    "start_time": "2023-11-15T15:15:42.373Z"
   },
   {
    "duration": 36,
    "start_time": "2023-11-15T15:15:42.377Z"
   },
   {
    "duration": 1105,
    "start_time": "2023-11-15T15:15:42.414Z"
   },
   {
    "duration": 3,
    "start_time": "2023-11-15T15:15:43.520Z"
   },
   {
    "duration": 38,
    "start_time": "2023-11-15T15:15:43.525Z"
   },
   {
    "duration": 41,
    "start_time": "2023-11-15T15:15:43.564Z"
   },
   {
    "duration": 1024,
    "start_time": "2023-11-15T15:15:43.607Z"
   },
   {
    "duration": 223,
    "start_time": "2023-11-15T15:15:44.634Z"
   },
   {
    "duration": 448,
    "start_time": "2023-11-15T15:15:44.866Z"
   },
   {
    "duration": 458,
    "start_time": "2023-11-15T15:15:45.316Z"
   },
   {
    "duration": 140,
    "start_time": "2023-11-15T15:15:45.775Z"
   },
   {
    "duration": 108,
    "start_time": "2023-11-15T15:15:45.917Z"
   },
   {
    "duration": 251,
    "start_time": "2023-11-15T15:15:46.027Z"
   },
   {
    "duration": 61,
    "start_time": "2023-11-15T15:15:46.279Z"
   },
   {
    "duration": 212,
    "start_time": "2023-11-15T15:15:46.341Z"
   },
   {
    "duration": 129,
    "start_time": "2023-11-15T15:15:46.554Z"
   },
   {
    "duration": 40,
    "start_time": "2023-11-15T15:15:46.685Z"
   },
   {
    "duration": 28,
    "start_time": "2023-11-15T15:15:46.726Z"
   },
   {
    "duration": 542,
    "start_time": "2023-11-15T15:15:46.755Z"
   },
   {
    "duration": 152,
    "start_time": "2023-11-15T15:15:47.299Z"
   },
   {
    "duration": 574,
    "start_time": "2023-11-15T15:15:47.453Z"
   },
   {
    "duration": 557,
    "start_time": "2023-11-15T15:15:48.029Z"
   },
   {
    "duration": 134,
    "start_time": "2023-11-15T15:15:48.588Z"
   },
   {
    "duration": 9,
    "start_time": "2023-11-15T15:15:48.723Z"
   },
   {
    "duration": 184,
    "start_time": "2023-11-15T15:15:48.734Z"
   },
   {
    "duration": 15,
    "start_time": "2023-11-15T15:15:48.921Z"
   },
   {
    "duration": 531,
    "start_time": "2023-11-15T15:15:48.938Z"
   },
   {
    "duration": 819,
    "start_time": "2023-11-15T15:15:49.470Z"
   },
   {
    "duration": 138,
    "start_time": "2023-11-15T15:15:50.290Z"
   },
   {
    "duration": 15,
    "start_time": "2023-11-15T15:15:50.430Z"
   },
   {
    "duration": 256,
    "start_time": "2023-11-15T15:15:50.447Z"
   },
   {
    "duration": 525,
    "start_time": "2023-11-15T15:15:50.704Z"
   },
   {
    "duration": 184,
    "start_time": "2023-11-15T15:15:51.231Z"
   },
   {
    "duration": 531,
    "start_time": "2023-11-15T15:15:51.416Z"
   },
   {
    "duration": 479,
    "start_time": "2023-11-15T15:15:51.948Z"
   },
   {
    "duration": 12,
    "start_time": "2023-11-15T15:15:52.429Z"
   },
   {
    "duration": 87,
    "start_time": "2023-11-15T15:15:52.442Z"
   },
   {
    "duration": 4,
    "start_time": "2023-11-15T15:15:52.531Z"
   },
   {
    "duration": 20,
    "start_time": "2023-11-15T15:15:52.537Z"
   },
   {
    "duration": 53,
    "start_time": "2023-11-15T15:15:52.558Z"
   },
   {
    "duration": 9,
    "start_time": "2023-11-15T15:15:52.613Z"
   },
   {
    "duration": 24,
    "start_time": "2023-11-15T15:15:52.623Z"
   },
   {
    "duration": 120,
    "start_time": "2023-11-15T15:15:52.648Z"
   },
   {
    "duration": 159,
    "start_time": "2023-11-15T15:15:52.770Z"
   },
   {
    "duration": 203,
    "start_time": "2023-11-15T15:15:52.931Z"
   },
   {
    "duration": 3,
    "start_time": "2023-11-15T15:16:24.991Z"
   },
   {
    "duration": 94,
    "start_time": "2023-11-15T15:19:59.933Z"
   },
   {
    "duration": 17,
    "start_time": "2023-11-15T15:20:19.770Z"
   },
   {
    "duration": 60,
    "start_time": "2023-11-15T15:20:49.290Z"
   },
   {
    "duration": 9,
    "start_time": "2023-11-15T15:21:09.638Z"
   },
   {
    "duration": 11,
    "start_time": "2023-11-15T15:21:12.963Z"
   },
   {
    "duration": 2425,
    "start_time": "2023-11-15T15:22:33.761Z"
   },
   {
    "duration": 5,
    "start_time": "2023-11-15T15:22:36.188Z"
   },
   {
    "duration": 5,
    "start_time": "2023-11-15T15:22:36.194Z"
   },
   {
    "duration": 16,
    "start_time": "2023-11-15T15:22:36.201Z"
   },
   {
    "duration": 798,
    "start_time": "2023-11-15T15:22:36.218Z"
   },
   {
    "duration": 3,
    "start_time": "2023-11-15T15:22:37.018Z"
   },
   {
    "duration": 14,
    "start_time": "2023-11-15T15:22:37.023Z"
   },
   {
    "duration": 11,
    "start_time": "2023-11-15T15:22:37.038Z"
   },
   {
    "duration": 1015,
    "start_time": "2023-11-15T15:22:37.051Z"
   },
   {
    "duration": 205,
    "start_time": "2023-11-15T15:22:38.069Z"
   },
   {
    "duration": 393,
    "start_time": "2023-11-15T15:22:38.276Z"
   },
   {
    "duration": 388,
    "start_time": "2023-11-15T15:22:38.671Z"
   },
   {
    "duration": 122,
    "start_time": "2023-11-15T15:22:39.064Z"
   },
   {
    "duration": 98,
    "start_time": "2023-11-15T15:22:39.188Z"
   },
   {
    "duration": 206,
    "start_time": "2023-11-15T15:22:39.288Z"
   },
   {
    "duration": 71,
    "start_time": "2023-11-15T15:22:39.495Z"
   },
   {
    "duration": 201,
    "start_time": "2023-11-15T15:22:39.568Z"
   },
   {
    "duration": 123,
    "start_time": "2023-11-15T15:22:39.771Z"
   },
   {
    "duration": 8,
    "start_time": "2023-11-15T15:22:39.895Z"
   },
   {
    "duration": 23,
    "start_time": "2023-11-15T15:22:39.905Z"
   },
   {
    "duration": 565,
    "start_time": "2023-11-15T15:22:39.930Z"
   },
   {
    "duration": 172,
    "start_time": "2023-11-15T15:22:40.496Z"
   },
   {
    "duration": 610,
    "start_time": "2023-11-15T15:22:40.670Z"
   },
   {
    "duration": 561,
    "start_time": "2023-11-15T15:22:41.282Z"
   },
   {
    "duration": 133,
    "start_time": "2023-11-15T15:22:41.845Z"
   },
   {
    "duration": 9,
    "start_time": "2023-11-15T15:22:41.980Z"
   },
   {
    "duration": 182,
    "start_time": "2023-11-15T15:22:41.990Z"
   },
   {
    "duration": 16,
    "start_time": "2023-11-15T15:22:42.176Z"
   },
   {
    "duration": 586,
    "start_time": "2023-11-15T15:22:42.194Z"
   },
   {
    "duration": 974,
    "start_time": "2023-11-15T15:22:42.782Z"
   },
   {
    "duration": 149,
    "start_time": "2023-11-15T15:22:43.758Z"
   },
   {
    "duration": 16,
    "start_time": "2023-11-15T15:22:43.908Z"
   },
   {
    "duration": 180,
    "start_time": "2023-11-15T15:22:43.926Z"
   },
   {
    "duration": 440,
    "start_time": "2023-11-15T15:22:44.108Z"
   },
   {
    "duration": 197,
    "start_time": "2023-11-15T15:22:44.549Z"
   },
   {
    "duration": 543,
    "start_time": "2023-11-15T15:22:44.748Z"
   },
   {
    "duration": 540,
    "start_time": "2023-11-15T15:22:45.293Z"
   },
   {
    "duration": 14,
    "start_time": "2023-11-15T15:22:45.835Z"
   },
   {
    "duration": 89,
    "start_time": "2023-11-15T15:22:45.850Z"
   },
   {
    "duration": 8,
    "start_time": "2023-11-15T15:22:45.941Z"
   },
   {
    "duration": 22,
    "start_time": "2023-11-15T15:22:45.951Z"
   },
   {
    "duration": 61,
    "start_time": "2023-11-15T15:22:45.975Z"
   },
   {
    "duration": 29,
    "start_time": "2023-11-15T15:22:46.038Z"
   },
   {
    "duration": 23,
    "start_time": "2023-11-15T15:22:46.068Z"
   },
   {
    "duration": 110,
    "start_time": "2023-11-15T15:22:46.093Z"
   },
   {
    "duration": 168,
    "start_time": "2023-11-15T15:22:46.205Z"
   },
   {
    "duration": 222,
    "start_time": "2023-11-15T15:22:46.376Z"
   },
   {
    "duration": 98,
    "start_time": "2023-11-15T15:22:46.599Z"
   },
   {
    "duration": 17,
    "start_time": "2023-11-15T15:28:44.961Z"
   },
   {
    "duration": 348,
    "start_time": "2023-11-15T15:28:45.769Z"
   },
   {
    "duration": 228,
    "start_time": "2023-11-15T15:29:02.043Z"
   },
   {
    "duration": 472,
    "start_time": "2023-11-15T15:29:10.500Z"
   },
   {
    "duration": 208,
    "start_time": "2023-11-15T15:29:54.737Z"
   },
   {
    "duration": 217,
    "start_time": "2023-11-15T15:31:00.503Z"
   },
   {
    "duration": 112,
    "start_time": "2023-11-15T15:31:03.254Z"
   },
   {
    "duration": 2516,
    "start_time": "2023-11-15T15:31:15.151Z"
   },
   {
    "duration": 6,
    "start_time": "2023-11-15T15:31:17.675Z"
   },
   {
    "duration": 65,
    "start_time": "2023-11-15T15:31:17.683Z"
   },
   {
    "duration": 38,
    "start_time": "2023-11-15T15:31:17.751Z"
   },
   {
    "duration": 908,
    "start_time": "2023-11-15T15:31:17.791Z"
   },
   {
    "duration": 3,
    "start_time": "2023-11-15T15:31:18.701Z"
   },
   {
    "duration": 43,
    "start_time": "2023-11-15T15:31:18.705Z"
   },
   {
    "duration": 39,
    "start_time": "2023-11-15T15:31:18.749Z"
   },
   {
    "duration": 1121,
    "start_time": "2023-11-15T15:31:18.789Z"
   },
   {
    "duration": 224,
    "start_time": "2023-11-15T15:31:19.913Z"
   },
   {
    "duration": 432,
    "start_time": "2023-11-15T15:31:20.139Z"
   },
   {
    "duration": 439,
    "start_time": "2023-11-15T15:31:20.573Z"
   },
   {
    "duration": 131,
    "start_time": "2023-11-15T15:31:21.014Z"
   },
   {
    "duration": 114,
    "start_time": "2023-11-15T15:31:21.147Z"
   },
   {
    "duration": 224,
    "start_time": "2023-11-15T15:31:21.265Z"
   },
   {
    "duration": 57,
    "start_time": "2023-11-15T15:31:21.491Z"
   },
   {
    "duration": 238,
    "start_time": "2023-11-15T15:31:21.550Z"
   },
   {
    "duration": 128,
    "start_time": "2023-11-15T15:31:21.790Z"
   },
   {
    "duration": 51,
    "start_time": "2023-11-15T15:31:21.920Z"
   },
   {
    "duration": 23,
    "start_time": "2023-11-15T15:31:21.973Z"
   },
   {
    "duration": 720,
    "start_time": "2023-11-15T15:31:21.998Z"
   },
   {
    "duration": 171,
    "start_time": "2023-11-15T15:31:22.719Z"
   },
   {
    "duration": 615,
    "start_time": "2023-11-15T15:31:22.892Z"
   },
   {
    "duration": 544,
    "start_time": "2023-11-15T15:31:23.509Z"
   },
   {
    "duration": 144,
    "start_time": "2023-11-15T15:31:24.055Z"
   },
   {
    "duration": 8,
    "start_time": "2023-11-15T15:31:24.200Z"
   },
   {
    "duration": 211,
    "start_time": "2023-11-15T15:31:24.209Z"
   },
   {
    "duration": 15,
    "start_time": "2023-11-15T15:31:24.424Z"
   },
   {
    "duration": 653,
    "start_time": "2023-11-15T15:31:24.440Z"
   },
   {
    "duration": 1099,
    "start_time": "2023-11-15T15:31:25.095Z"
   },
   {
    "duration": 177,
    "start_time": "2023-11-15T15:31:26.196Z"
   },
   {
    "duration": 18,
    "start_time": "2023-11-15T15:31:26.375Z"
   },
   {
    "duration": 200,
    "start_time": "2023-11-15T15:31:26.394Z"
   },
   {
    "duration": 427,
    "start_time": "2023-11-15T15:31:26.595Z"
   },
   {
    "duration": 199,
    "start_time": "2023-11-15T15:31:27.024Z"
   },
   {
    "duration": 566,
    "start_time": "2023-11-15T15:31:27.224Z"
   },
   {
    "duration": 527,
    "start_time": "2023-11-15T15:31:27.792Z"
   },
   {
    "duration": 12,
    "start_time": "2023-11-15T15:31:28.321Z"
   },
   {
    "duration": 101,
    "start_time": "2023-11-15T15:31:28.334Z"
   },
   {
    "duration": 5,
    "start_time": "2023-11-15T15:31:28.436Z"
   },
   {
    "duration": 31,
    "start_time": "2023-11-15T15:31:28.442Z"
   },
   {
    "duration": 74,
    "start_time": "2023-11-15T15:31:28.475Z"
   },
   {
    "duration": 9,
    "start_time": "2023-11-15T15:31:28.550Z"
   },
   {
    "duration": 54,
    "start_time": "2023-11-15T15:31:28.561Z"
   },
   {
    "duration": 128,
    "start_time": "2023-11-15T15:31:28.617Z"
   },
   {
    "duration": 167,
    "start_time": "2023-11-15T15:31:28.746Z"
   },
   {
    "duration": 208,
    "start_time": "2023-11-15T15:31:28.915Z"
   },
   {
    "duration": 96,
    "start_time": "2023-11-15T15:31:29.125Z"
   },
   {
    "duration": 12,
    "start_time": "2023-11-15T15:36:43.257Z"
   },
   {
    "duration": 307,
    "start_time": "2023-11-15T15:36:49.451Z"
   },
   {
    "duration": 29961,
    "start_time": "2023-11-15T15:37:27.549Z"
   },
   {
    "duration": 2607,
    "start_time": "2023-11-15T15:38:44.042Z"
   },
   {
    "duration": 6,
    "start_time": "2023-11-15T15:38:46.654Z"
   },
   {
    "duration": 29,
    "start_time": "2023-11-15T15:38:46.662Z"
   },
   {
    "duration": 27,
    "start_time": "2023-11-15T15:38:46.693Z"
   },
   {
    "duration": 901,
    "start_time": "2023-11-15T15:38:46.721Z"
   },
   {
    "duration": 3,
    "start_time": "2023-11-15T15:38:47.624Z"
   },
   {
    "duration": 25,
    "start_time": "2023-11-15T15:38:47.628Z"
   },
   {
    "duration": 13,
    "start_time": "2023-11-15T15:38:47.655Z"
   },
   {
    "duration": 1126,
    "start_time": "2023-11-15T15:38:47.671Z"
   },
   {
    "duration": 216,
    "start_time": "2023-11-15T15:38:48.799Z"
   },
   {
    "duration": 431,
    "start_time": "2023-11-15T15:38:49.017Z"
   },
   {
    "duration": 441,
    "start_time": "2023-11-15T15:38:49.449Z"
   },
   {
    "duration": 129,
    "start_time": "2023-11-15T15:38:49.892Z"
   },
   {
    "duration": 109,
    "start_time": "2023-11-15T15:38:50.022Z"
   },
   {
    "duration": 228,
    "start_time": "2023-11-15T15:38:50.132Z"
   },
   {
    "duration": 69,
    "start_time": "2023-11-15T15:38:50.365Z"
   },
   {
    "duration": 271,
    "start_time": "2023-11-15T15:38:50.436Z"
   },
   {
    "duration": 134,
    "start_time": "2023-11-15T15:38:50.708Z"
   },
   {
    "duration": 30,
    "start_time": "2023-11-15T15:38:50.843Z"
   },
   {
    "duration": 34,
    "start_time": "2023-11-15T15:38:50.876Z"
   },
   {
    "duration": 628,
    "start_time": "2023-11-15T15:38:50.912Z"
   },
   {
    "duration": 167,
    "start_time": "2023-11-15T15:38:51.542Z"
   },
   {
    "duration": 605,
    "start_time": "2023-11-15T15:38:51.711Z"
   },
   {
    "duration": 560,
    "start_time": "2023-11-15T15:38:52.318Z"
   },
   {
    "duration": 272,
    "start_time": "2023-11-15T15:38:52.880Z"
   },
   {
    "duration": 22,
    "start_time": "2023-11-15T15:38:53.154Z"
   },
   {
    "duration": 198,
    "start_time": "2023-11-15T15:38:53.180Z"
   },
   {
    "duration": 16,
    "start_time": "2023-11-15T15:38:53.382Z"
   },
   {
    "duration": 576,
    "start_time": "2023-11-15T15:38:53.400Z"
   },
   {
    "duration": 868,
    "start_time": "2023-11-15T15:38:53.978Z"
   },
   {
    "duration": 157,
    "start_time": "2023-11-15T15:38:54.847Z"
   },
   {
    "duration": 16,
    "start_time": "2023-11-15T15:38:55.006Z"
   },
   {
    "duration": 203,
    "start_time": "2023-11-15T15:38:55.024Z"
   },
   {
    "duration": 484,
    "start_time": "2023-11-15T15:38:55.229Z"
   },
   {
    "duration": 220,
    "start_time": "2023-11-15T15:38:55.715Z"
   },
   {
    "duration": 739,
    "start_time": "2023-11-15T15:38:55.936Z"
   },
   {
    "duration": 493,
    "start_time": "2023-11-15T15:38:56.678Z"
   },
   {
    "duration": 19,
    "start_time": "2023-11-15T15:38:57.173Z"
   },
   {
    "duration": 89,
    "start_time": "2023-11-15T15:38:57.194Z"
   },
   {
    "duration": 10,
    "start_time": "2023-11-15T15:38:57.285Z"
   },
   {
    "duration": 8,
    "start_time": "2023-11-15T15:38:57.299Z"
   },
   {
    "duration": 73,
    "start_time": "2023-11-15T15:38:57.308Z"
   },
   {
    "duration": 9,
    "start_time": "2023-11-15T15:38:57.383Z"
   },
   {
    "duration": 23,
    "start_time": "2023-11-15T15:38:57.393Z"
   },
   {
    "duration": 116,
    "start_time": "2023-11-15T15:38:57.417Z"
   },
   {
    "duration": 182,
    "start_time": "2023-11-15T15:38:57.534Z"
   },
   {
    "duration": 222,
    "start_time": "2023-11-15T15:38:57.717Z"
   },
   {
    "duration": 93,
    "start_time": "2023-11-15T15:38:57.941Z"
   },
   {
    "duration": 178,
    "start_time": "2023-11-15T15:38:58.036Z"
   },
   {
    "duration": 3,
    "start_time": "2023-11-15T15:38:58.216Z"
   },
   {
    "duration": 1087,
    "start_time": "2023-11-15T15:38:58.220Z"
   },
   {
    "duration": 9,
    "start_time": "2023-11-15T15:38:59.308Z"
   },
   {
    "duration": 0,
    "start_time": "2023-11-15T15:38:59.319Z"
   },
   {
    "duration": 0,
    "start_time": "2023-11-15T15:38:59.320Z"
   },
   {
    "duration": 0,
    "start_time": "2023-11-15T15:38:59.321Z"
   },
   {
    "duration": 0,
    "start_time": "2023-11-15T15:38:59.322Z"
   },
   {
    "duration": 0,
    "start_time": "2023-11-15T15:38:59.323Z"
   },
   {
    "duration": 0,
    "start_time": "2023-11-15T15:38:59.324Z"
   },
   {
    "duration": 2472,
    "start_time": "2023-11-15T16:04:04.500Z"
   },
   {
    "duration": 4,
    "start_time": "2023-11-15T16:04:06.975Z"
   },
   {
    "duration": 32,
    "start_time": "2023-11-15T16:04:06.981Z"
   },
   {
    "duration": 19,
    "start_time": "2023-11-15T16:04:07.015Z"
   },
   {
    "duration": 786,
    "start_time": "2023-11-15T16:04:07.036Z"
   },
   {
    "duration": 3,
    "start_time": "2023-11-15T16:04:07.824Z"
   },
   {
    "duration": 20,
    "start_time": "2023-11-15T16:04:07.829Z"
   },
   {
    "duration": 18,
    "start_time": "2023-11-15T16:04:07.850Z"
   },
   {
    "duration": 1003,
    "start_time": "2023-11-15T16:04:07.870Z"
   },
   {
    "duration": 213,
    "start_time": "2023-11-15T16:04:08.877Z"
   },
   {
    "duration": 383,
    "start_time": "2023-11-15T16:04:09.092Z"
   },
   {
    "duration": 383,
    "start_time": "2023-11-15T16:04:09.477Z"
   },
   {
    "duration": 122,
    "start_time": "2023-11-15T16:04:09.862Z"
   },
   {
    "duration": 99,
    "start_time": "2023-11-15T16:04:09.986Z"
   },
   {
    "duration": 204,
    "start_time": "2023-11-15T16:04:10.087Z"
   },
   {
    "duration": 74,
    "start_time": "2023-11-15T16:04:10.292Z"
   },
   {
    "duration": 214,
    "start_time": "2023-11-15T16:04:10.368Z"
   },
   {
    "duration": 145,
    "start_time": "2023-11-15T16:04:10.583Z"
   },
   {
    "duration": 13,
    "start_time": "2023-11-15T16:04:10.730Z"
   },
   {
    "duration": 22,
    "start_time": "2023-11-15T16:04:10.745Z"
   },
   {
    "duration": 614,
    "start_time": "2023-11-15T16:04:10.768Z"
   },
   {
    "duration": 154,
    "start_time": "2023-11-15T16:04:11.384Z"
   },
   {
    "duration": 628,
    "start_time": "2023-11-15T16:04:11.540Z"
   },
   {
    "duration": 488,
    "start_time": "2023-11-15T16:04:12.170Z"
   },
   {
    "duration": 121,
    "start_time": "2023-11-15T16:04:12.664Z"
   },
   {
    "duration": 9,
    "start_time": "2023-11-15T16:04:12.787Z"
   },
   {
    "duration": 197,
    "start_time": "2023-11-15T16:04:12.798Z"
   },
   {
    "duration": 17,
    "start_time": "2023-11-15T16:04:12.998Z"
   },
   {
    "duration": 535,
    "start_time": "2023-11-15T16:04:13.017Z"
   },
   {
    "duration": 934,
    "start_time": "2023-11-15T16:04:13.554Z"
   },
   {
    "duration": 134,
    "start_time": "2023-11-15T16:04:14.489Z"
   },
   {
    "duration": 16,
    "start_time": "2023-11-15T16:04:14.625Z"
   },
   {
    "duration": 180,
    "start_time": "2023-11-15T16:04:14.642Z"
   },
   {
    "duration": 466,
    "start_time": "2023-11-15T16:04:14.823Z"
   },
   {
    "duration": 191,
    "start_time": "2023-11-15T16:04:15.290Z"
   },
   {
    "duration": 583,
    "start_time": "2023-11-15T16:04:15.483Z"
   },
   {
    "duration": 492,
    "start_time": "2023-11-15T16:04:16.069Z"
   },
   {
    "duration": 12,
    "start_time": "2023-11-15T16:04:16.565Z"
   },
   {
    "duration": 93,
    "start_time": "2023-11-15T16:04:16.578Z"
   },
   {
    "duration": 5,
    "start_time": "2023-11-15T16:04:16.673Z"
   },
   {
    "duration": 40,
    "start_time": "2023-11-15T16:04:16.679Z"
   },
   {
    "duration": 75,
    "start_time": "2023-11-15T16:04:16.721Z"
   },
   {
    "duration": 8,
    "start_time": "2023-11-15T16:04:16.798Z"
   },
   {
    "duration": 40,
    "start_time": "2023-11-15T16:04:16.808Z"
   },
   {
    "duration": 96,
    "start_time": "2023-11-15T16:04:16.849Z"
   },
   {
    "duration": 161,
    "start_time": "2023-11-15T16:04:16.946Z"
   },
   {
    "duration": 199,
    "start_time": "2023-11-15T16:04:17.109Z"
   },
   {
    "duration": 86,
    "start_time": "2023-11-15T16:04:17.309Z"
   },
   {
    "duration": 164,
    "start_time": "2023-11-15T16:04:17.396Z"
   },
   {
    "duration": 4,
    "start_time": "2023-11-15T16:04:17.561Z"
   },
   {
    "duration": 4952,
    "start_time": "2023-11-15T16:04:29.925Z"
   },
   {
    "duration": 1887,
    "start_time": "2023-11-15T16:04:43.103Z"
   },
   {
    "duration": 1070,
    "start_time": "2023-11-15T16:04:57.930Z"
   },
   {
    "duration": 1118,
    "start_time": "2023-11-15T16:05:16.859Z"
   },
   {
    "duration": 9,
    "start_time": "2023-11-15T16:06:02.065Z"
   },
   {
    "duration": 10,
    "start_time": "2023-11-15T16:06:19.217Z"
   },
   {
    "duration": 500,
    "start_time": "2023-11-15T16:06:28.112Z"
   },
   {
    "duration": 2566,
    "start_time": "2023-11-15T16:06:35.143Z"
   },
   {
    "duration": 5,
    "start_time": "2023-11-15T16:06:37.712Z"
   },
   {
    "duration": 11,
    "start_time": "2023-11-15T16:06:37.719Z"
   },
   {
    "duration": 26,
    "start_time": "2023-11-15T16:06:37.732Z"
   },
   {
    "duration": 745,
    "start_time": "2023-11-15T16:06:37.760Z"
   },
   {
    "duration": 3,
    "start_time": "2023-11-15T16:06:38.507Z"
   },
   {
    "duration": 56,
    "start_time": "2023-11-15T16:06:38.512Z"
   },
   {
    "duration": 30,
    "start_time": "2023-11-15T16:06:38.570Z"
   },
   {
    "duration": 993,
    "start_time": "2023-11-15T16:06:38.602Z"
   },
   {
    "duration": 209,
    "start_time": "2023-11-15T16:06:39.598Z"
   },
   {
    "duration": 371,
    "start_time": "2023-11-15T16:06:39.809Z"
   },
   {
    "duration": 399,
    "start_time": "2023-11-15T16:06:40.181Z"
   },
   {
    "duration": 129,
    "start_time": "2023-11-15T16:06:40.582Z"
   },
   {
    "duration": 98,
    "start_time": "2023-11-15T16:06:40.713Z"
   },
   {
    "duration": 198,
    "start_time": "2023-11-15T16:06:40.812Z"
   },
   {
    "duration": 64,
    "start_time": "2023-11-15T16:06:41.011Z"
   },
   {
    "duration": 196,
    "start_time": "2023-11-15T16:06:41.077Z"
   },
   {
    "duration": 138,
    "start_time": "2023-11-15T16:06:41.275Z"
   },
   {
    "duration": 4,
    "start_time": "2023-11-15T16:06:41.415Z"
   },
   {
    "duration": 13,
    "start_time": "2023-11-15T16:06:41.421Z"
   },
   {
    "duration": 549,
    "start_time": "2023-11-15T16:06:41.435Z"
   },
   {
    "duration": 260,
    "start_time": "2023-11-15T16:06:41.986Z"
   },
   {
    "duration": 566,
    "start_time": "2023-11-15T16:06:42.248Z"
   },
   {
    "duration": 519,
    "start_time": "2023-11-15T16:06:42.816Z"
   },
   {
    "duration": 123,
    "start_time": "2023-11-15T16:06:43.337Z"
   },
   {
    "duration": 10,
    "start_time": "2023-11-15T16:06:43.465Z"
   },
   {
    "duration": 203,
    "start_time": "2023-11-15T16:06:43.476Z"
   },
   {
    "duration": 16,
    "start_time": "2023-11-15T16:06:43.682Z"
   },
   {
    "duration": 538,
    "start_time": "2023-11-15T16:06:43.699Z"
   },
   {
    "duration": 844,
    "start_time": "2023-11-15T16:06:44.238Z"
   },
   {
    "duration": 247,
    "start_time": "2023-11-15T16:06:45.084Z"
   },
   {
    "duration": 15,
    "start_time": "2023-11-15T16:06:45.333Z"
   },
   {
    "duration": 190,
    "start_time": "2023-11-15T16:06:45.349Z"
   },
   {
    "duration": 479,
    "start_time": "2023-11-15T16:06:45.541Z"
   },
   {
    "duration": 195,
    "start_time": "2023-11-15T16:06:46.022Z"
   },
   {
    "duration": 541,
    "start_time": "2023-11-15T16:06:46.219Z"
   },
   {
    "duration": 477,
    "start_time": "2023-11-15T16:06:46.765Z"
   },
   {
    "duration": 22,
    "start_time": "2023-11-15T16:06:47.243Z"
   },
   {
    "duration": 61,
    "start_time": "2023-11-15T16:06:47.267Z"
   },
   {
    "duration": 5,
    "start_time": "2023-11-15T16:06:47.329Z"
   },
   {
    "duration": 8,
    "start_time": "2023-11-15T16:06:47.336Z"
   },
   {
    "duration": 65,
    "start_time": "2023-11-15T16:06:47.345Z"
   },
   {
    "duration": 8,
    "start_time": "2023-11-15T16:06:47.412Z"
   },
   {
    "duration": 19,
    "start_time": "2023-11-15T16:06:47.421Z"
   },
   {
    "duration": 104,
    "start_time": "2023-11-15T16:06:47.442Z"
   },
   {
    "duration": 168,
    "start_time": "2023-11-15T16:06:47.547Z"
   },
   {
    "duration": 196,
    "start_time": "2023-11-15T16:06:47.717Z"
   },
   {
    "duration": 83,
    "start_time": "2023-11-15T16:06:47.915Z"
   },
   {
    "duration": 155,
    "start_time": "2023-11-15T16:06:48.000Z"
   },
   {
    "duration": 8,
    "start_time": "2023-11-15T16:06:48.157Z"
   },
   {
    "duration": 465,
    "start_time": "2023-11-15T16:06:57.756Z"
   },
   {
    "duration": 2409,
    "start_time": "2023-11-15T16:07:29.843Z"
   },
   {
    "duration": 4,
    "start_time": "2023-11-15T16:07:32.255Z"
   },
   {
    "duration": 12,
    "start_time": "2023-11-15T16:07:32.261Z"
   },
   {
    "duration": 3,
    "start_time": "2023-11-15T16:07:32.276Z"
   },
   {
    "duration": 779,
    "start_time": "2023-11-15T16:07:32.280Z"
   },
   {
    "duration": 6,
    "start_time": "2023-11-15T16:07:33.061Z"
   },
   {
    "duration": 17,
    "start_time": "2023-11-15T16:07:33.068Z"
   },
   {
    "duration": 8,
    "start_time": "2023-11-15T16:07:33.087Z"
   },
   {
    "duration": 976,
    "start_time": "2023-11-15T16:07:33.096Z"
   },
   {
    "duration": 204,
    "start_time": "2023-11-15T16:07:34.074Z"
   },
   {
    "duration": 374,
    "start_time": "2023-11-15T16:07:34.280Z"
   },
   {
    "duration": 382,
    "start_time": "2023-11-15T16:07:34.656Z"
   },
   {
    "duration": 144,
    "start_time": "2023-11-15T16:07:35.040Z"
   },
   {
    "duration": 99,
    "start_time": "2023-11-15T16:07:35.186Z"
   },
   {
    "duration": 198,
    "start_time": "2023-11-15T16:07:35.286Z"
   },
   {
    "duration": 60,
    "start_time": "2023-11-15T16:07:35.486Z"
   },
   {
    "duration": 203,
    "start_time": "2023-11-15T16:07:35.547Z"
   },
   {
    "duration": 148,
    "start_time": "2023-11-15T16:07:35.752Z"
   },
   {
    "duration": 5,
    "start_time": "2023-11-15T16:07:35.902Z"
   },
   {
    "duration": 15,
    "start_time": "2023-11-15T16:07:35.908Z"
   },
   {
    "duration": 563,
    "start_time": "2023-11-15T16:07:35.924Z"
   },
   {
    "duration": 162,
    "start_time": "2023-11-15T16:07:36.489Z"
   },
   {
    "duration": 579,
    "start_time": "2023-11-15T16:07:36.653Z"
   },
   {
    "duration": 505,
    "start_time": "2023-11-15T16:07:37.233Z"
   },
   {
    "duration": 125,
    "start_time": "2023-11-15T16:07:37.740Z"
   },
   {
    "duration": 9,
    "start_time": "2023-11-15T16:07:37.867Z"
   },
   {
    "duration": 180,
    "start_time": "2023-11-15T16:07:37.877Z"
   },
   {
    "duration": 15,
    "start_time": "2023-11-15T16:07:38.065Z"
   },
   {
    "duration": 652,
    "start_time": "2023-11-15T16:07:38.082Z"
   },
   {
    "duration": 840,
    "start_time": "2023-11-15T16:07:38.735Z"
   },
   {
    "duration": 134,
    "start_time": "2023-11-15T16:07:39.577Z"
   },
   {
    "duration": 15,
    "start_time": "2023-11-15T16:07:39.713Z"
   },
   {
    "duration": 175,
    "start_time": "2023-11-15T16:07:39.729Z"
   },
   {
    "duration": 404,
    "start_time": "2023-11-15T16:07:39.905Z"
   },
   {
    "duration": 187,
    "start_time": "2023-11-15T16:07:40.310Z"
   },
   {
    "duration": 554,
    "start_time": "2023-11-15T16:07:40.499Z"
   },
   {
    "duration": 546,
    "start_time": "2023-11-15T16:07:41.055Z"
   },
   {
    "duration": 15,
    "start_time": "2023-11-15T16:07:41.603Z"
   },
   {
    "duration": 83,
    "start_time": "2023-11-15T16:07:41.620Z"
   },
   {
    "duration": 5,
    "start_time": "2023-11-15T16:07:41.705Z"
   },
   {
    "duration": 19,
    "start_time": "2023-11-15T16:07:41.711Z"
   },
   {
    "duration": 73,
    "start_time": "2023-11-15T16:07:41.732Z"
   },
   {
    "duration": 9,
    "start_time": "2023-11-15T16:07:41.806Z"
   },
   {
    "duration": 36,
    "start_time": "2023-11-15T16:07:41.816Z"
   },
   {
    "duration": 92,
    "start_time": "2023-11-15T16:07:41.853Z"
   },
   {
    "duration": 264,
    "start_time": "2023-11-15T16:07:41.947Z"
   },
   {
    "duration": 192,
    "start_time": "2023-11-15T16:07:42.213Z"
   },
   {
    "duration": 93,
    "start_time": "2023-11-15T16:07:42.407Z"
   },
   {
    "duration": 171,
    "start_time": "2023-11-15T16:07:42.502Z"
   },
   {
    "duration": 3,
    "start_time": "2023-11-15T16:07:48.241Z"
   },
   {
    "duration": 483,
    "start_time": "2023-11-15T16:07:49.689Z"
   },
   {
    "duration": 16,
    "start_time": "2023-11-15T16:08:22.220Z"
   },
   {
    "duration": 11,
    "start_time": "2023-11-15T16:08:27.309Z"
   },
   {
    "duration": 3,
    "start_time": "2023-11-15T16:08:31.366Z"
   },
   {
    "duration": 5384,
    "start_time": "2023-11-15T16:08:32.293Z"
   },
   {
    "duration": 1065,
    "start_time": "2023-11-15T16:08:48.911Z"
   },
   {
    "duration": 964,
    "start_time": "2023-11-15T16:08:54.921Z"
   },
   {
    "duration": 4,
    "start_time": "2023-11-15T16:10:08.623Z"
   },
   {
    "duration": 4,
    "start_time": "2023-11-15T16:10:12.911Z"
   },
   {
    "duration": 1194,
    "start_time": "2023-11-15T16:10:25.587Z"
   },
   {
    "duration": 119,
    "start_time": "2023-11-15T16:10:54.707Z"
   },
   {
    "duration": 3,
    "start_time": "2023-11-15T16:11:46.632Z"
   },
   {
    "duration": 8684,
    "start_time": "2023-11-15T16:12:19.285Z"
   },
   {
    "duration": 3,
    "start_time": "2023-11-15T16:12:47.266Z"
   },
   {
    "duration": 10173,
    "start_time": "2023-11-15T16:12:48.103Z"
   },
   {
    "duration": 1933,
    "start_time": "2023-11-15T16:13:01.536Z"
   },
   {
    "duration": 1962,
    "start_time": "2023-11-15T16:13:17.706Z"
   },
   {
    "duration": 3,
    "start_time": "2023-11-15T16:13:28.826Z"
   },
   {
    "duration": 4,
    "start_time": "2023-11-15T16:13:39.884Z"
   },
   {
    "duration": 10285,
    "start_time": "2023-11-15T16:13:39.889Z"
   },
   {
    "duration": 2114,
    "start_time": "2023-11-15T16:14:09.367Z"
   },
   {
    "duration": 2091,
    "start_time": "2023-11-15T16:14:19.596Z"
   },
   {
    "duration": 14,
    "start_time": "2023-11-15T16:14:51.803Z"
   },
   {
    "duration": 56,
    "start_time": "2023-11-15T16:14:52.522Z"
   },
   {
    "duration": 47,
    "start_time": "2023-11-15T16:14:54.066Z"
   },
   {
    "duration": 2525,
    "start_time": "2023-11-15T16:15:31.735Z"
   },
   {
    "duration": 4,
    "start_time": "2023-11-15T16:15:34.263Z"
   },
   {
    "duration": 3,
    "start_time": "2023-11-15T16:15:34.269Z"
   },
   {
    "duration": 4,
    "start_time": "2023-11-15T16:15:34.274Z"
   },
   {
    "duration": 804,
    "start_time": "2023-11-15T16:15:34.279Z"
   },
   {
    "duration": 3,
    "start_time": "2023-11-15T16:15:35.085Z"
   },
   {
    "duration": 13,
    "start_time": "2023-11-15T16:15:35.089Z"
   },
   {
    "duration": 25,
    "start_time": "2023-11-15T16:15:35.104Z"
   },
   {
    "duration": 1096,
    "start_time": "2023-11-15T16:15:35.130Z"
   },
   {
    "duration": 217,
    "start_time": "2023-11-15T16:15:36.229Z"
   },
   {
    "duration": 394,
    "start_time": "2023-11-15T16:15:36.447Z"
   },
   {
    "duration": 383,
    "start_time": "2023-11-15T16:15:36.842Z"
   },
   {
    "duration": 124,
    "start_time": "2023-11-15T16:15:37.226Z"
   },
   {
    "duration": 108,
    "start_time": "2023-11-15T16:15:37.352Z"
   },
   {
    "duration": 201,
    "start_time": "2023-11-15T16:15:37.465Z"
   },
   {
    "duration": 64,
    "start_time": "2023-11-15T16:15:37.668Z"
   },
   {
    "duration": 214,
    "start_time": "2023-11-15T16:15:37.734Z"
   },
   {
    "duration": 129,
    "start_time": "2023-11-15T16:15:37.949Z"
   },
   {
    "duration": 12,
    "start_time": "2023-11-15T16:15:38.080Z"
   },
   {
    "duration": 20,
    "start_time": "2023-11-15T16:15:38.094Z"
   },
   {
    "duration": 597,
    "start_time": "2023-11-15T16:15:38.115Z"
   },
   {
    "duration": 163,
    "start_time": "2023-11-15T16:15:38.714Z"
   },
   {
    "duration": 608,
    "start_time": "2023-11-15T16:15:38.879Z"
   },
   {
    "duration": 514,
    "start_time": "2023-11-15T16:15:39.488Z"
   },
   {
    "duration": 134,
    "start_time": "2023-11-15T16:15:40.004Z"
   },
   {
    "duration": 9,
    "start_time": "2023-11-15T16:15:40.139Z"
   },
   {
    "duration": 187,
    "start_time": "2023-11-15T16:15:40.150Z"
   },
   {
    "duration": 25,
    "start_time": "2023-11-15T16:15:40.342Z"
   },
   {
    "duration": 592,
    "start_time": "2023-11-15T16:15:40.368Z"
   },
   {
    "duration": 992,
    "start_time": "2023-11-15T16:15:40.966Z"
   },
   {
    "duration": 142,
    "start_time": "2023-11-15T16:15:41.960Z"
   },
   {
    "duration": 16,
    "start_time": "2023-11-15T16:15:42.104Z"
   },
   {
    "duration": 189,
    "start_time": "2023-11-15T16:15:42.122Z"
   },
   {
    "duration": 452,
    "start_time": "2023-11-15T16:15:42.313Z"
   },
   {
    "duration": 205,
    "start_time": "2023-11-15T16:15:42.767Z"
   },
   {
    "duration": 552,
    "start_time": "2023-11-15T16:15:42.973Z"
   },
   {
    "duration": 508,
    "start_time": "2023-11-15T16:15:43.526Z"
   },
   {
    "duration": 13,
    "start_time": "2023-11-15T16:15:44.035Z"
   },
   {
    "duration": 93,
    "start_time": "2023-11-15T16:15:44.049Z"
   },
   {
    "duration": 5,
    "start_time": "2023-11-15T16:15:44.143Z"
   },
   {
    "duration": 40,
    "start_time": "2023-11-15T16:15:44.150Z"
   },
   {
    "duration": 86,
    "start_time": "2023-11-15T16:15:44.192Z"
   },
   {
    "duration": 9,
    "start_time": "2023-11-15T16:15:44.280Z"
   },
   {
    "duration": 62,
    "start_time": "2023-11-15T16:15:44.291Z"
   },
   {
    "duration": 110,
    "start_time": "2023-11-15T16:15:44.355Z"
   },
   {
    "duration": 169,
    "start_time": "2023-11-15T16:15:44.467Z"
   },
   {
    "duration": 218,
    "start_time": "2023-11-15T16:15:44.638Z"
   },
   {
    "duration": 98,
    "start_time": "2023-11-15T16:15:44.857Z"
   },
   {
    "duration": 180,
    "start_time": "2023-11-15T16:15:44.966Z"
   },
   {
    "duration": 4,
    "start_time": "2023-11-15T16:15:45.147Z"
   },
   {
    "duration": 3715,
    "start_time": "2023-11-15T16:15:45.153Z"
   },
   {
    "duration": 1215,
    "start_time": "2023-11-15T16:15:48.869Z"
   },
   {
    "duration": 3,
    "start_time": "2023-11-15T16:15:50.165Z"
   },
   {
    "duration": 7105,
    "start_time": "2023-11-15T16:15:50.170Z"
   },
   {
    "duration": 2105,
    "start_time": "2023-11-15T16:15:57.276Z"
   },
   {
    "duration": 3,
    "start_time": "2023-11-15T16:15:59.383Z"
   },
   {
    "duration": 10186,
    "start_time": "2023-11-15T16:15:59.387Z"
   },
   {
    "duration": 2218,
    "start_time": "2023-11-15T16:16:09.574Z"
   },
   {
    "duration": 0,
    "start_time": "2023-11-15T16:16:11.793Z"
   },
   {
    "duration": 0,
    "start_time": "2023-11-15T16:16:11.794Z"
   },
   {
    "duration": 0,
    "start_time": "2023-11-15T16:16:11.796Z"
   },
   {
    "duration": 0,
    "start_time": "2023-11-15T16:16:11.796Z"
   },
   {
    "duration": 0,
    "start_time": "2023-11-15T16:16:11.797Z"
   },
   {
    "duration": 0,
    "start_time": "2023-11-15T16:16:11.865Z"
   },
   {
    "duration": 0,
    "start_time": "2023-11-15T16:16:11.867Z"
   },
   {
    "duration": 114,
    "start_time": "2023-11-15T16:19:51.401Z"
   },
   {
    "duration": 3554,
    "start_time": "2023-11-15T16:19:58.515Z"
   },
   {
    "duration": 46,
    "start_time": "2023-11-15T16:20:22.468Z"
   },
   {
    "duration": 84,
    "start_time": "2023-11-15T16:20:29.212Z"
   },
   {
    "duration": 64103,
    "start_time": "2023-11-15T16:21:06.105Z"
   },
   {
    "duration": 15,
    "start_time": "2023-11-15T16:22:10.210Z"
   },
   {
    "duration": 2353,
    "start_time": "2023-11-15T16:22:10.227Z"
   },
   {
    "duration": 2608,
    "start_time": "2023-11-15T16:22:22.018Z"
   },
   {
    "duration": 5,
    "start_time": "2023-11-15T16:22:24.629Z"
   },
   {
    "duration": 46,
    "start_time": "2023-11-15T16:22:24.636Z"
   },
   {
    "duration": 47,
    "start_time": "2023-11-15T16:22:24.685Z"
   },
   {
    "duration": 877,
    "start_time": "2023-11-15T16:22:24.734Z"
   },
   {
    "duration": 3,
    "start_time": "2023-11-15T16:22:25.613Z"
   },
   {
    "duration": 35,
    "start_time": "2023-11-15T16:22:25.617Z"
   },
   {
    "duration": 26,
    "start_time": "2023-11-15T16:22:25.653Z"
   },
   {
    "duration": 1131,
    "start_time": "2023-11-15T16:22:25.681Z"
   },
   {
    "duration": 234,
    "start_time": "2023-11-15T16:22:26.816Z"
   },
   {
    "duration": 419,
    "start_time": "2023-11-15T16:22:27.052Z"
   },
   {
    "duration": 411,
    "start_time": "2023-11-15T16:22:27.472Z"
   },
   {
    "duration": 142,
    "start_time": "2023-11-15T16:22:27.886Z"
   },
   {
    "duration": 116,
    "start_time": "2023-11-15T16:22:28.030Z"
   },
   {
    "duration": 239,
    "start_time": "2023-11-15T16:22:28.147Z"
   },
   {
    "duration": 67,
    "start_time": "2023-11-15T16:22:28.388Z"
   },
   {
    "duration": 271,
    "start_time": "2023-11-15T16:22:28.465Z"
   },
   {
    "duration": 158,
    "start_time": "2023-11-15T16:22:28.738Z"
   },
   {
    "duration": 5,
    "start_time": "2023-11-15T16:22:28.897Z"
   },
   {
    "duration": 27,
    "start_time": "2023-11-15T16:22:28.904Z"
   },
   {
    "duration": 617,
    "start_time": "2023-11-15T16:22:28.932Z"
   },
   {
    "duration": 170,
    "start_time": "2023-11-15T16:22:29.551Z"
   },
   {
    "duration": 816,
    "start_time": "2023-11-15T16:22:29.722Z"
   },
   {
    "duration": 555,
    "start_time": "2023-11-15T16:22:30.539Z"
   },
   {
    "duration": 142,
    "start_time": "2023-11-15T16:22:31.096Z"
   },
   {
    "duration": 9,
    "start_time": "2023-11-15T16:22:31.240Z"
   },
   {
    "duration": 210,
    "start_time": "2023-11-15T16:22:31.250Z"
   },
   {
    "duration": 24,
    "start_time": "2023-11-15T16:22:31.464Z"
   },
   {
    "duration": 616,
    "start_time": "2023-11-15T16:22:31.490Z"
   },
   {
    "duration": 955,
    "start_time": "2023-11-15T16:22:32.108Z"
   },
   {
    "duration": 147,
    "start_time": "2023-11-15T16:22:33.067Z"
   },
   {
    "duration": 24,
    "start_time": "2023-11-15T16:22:33.216Z"
   },
   {
    "duration": 303,
    "start_time": "2023-11-15T16:22:33.243Z"
   },
   {
    "duration": 539,
    "start_time": "2023-11-15T16:22:33.547Z"
   },
   {
    "duration": 196,
    "start_time": "2023-11-15T16:22:34.088Z"
   },
   {
    "duration": 617,
    "start_time": "2023-11-15T16:22:34.286Z"
   },
   {
    "duration": 570,
    "start_time": "2023-11-15T16:22:34.905Z"
   },
   {
    "duration": 19,
    "start_time": "2023-11-15T16:22:35.483Z"
   },
   {
    "duration": 192,
    "start_time": "2023-11-15T16:22:35.504Z"
   },
   {
    "duration": 6,
    "start_time": "2023-11-15T16:22:35.697Z"
   },
   {
    "duration": 22,
    "start_time": "2023-11-15T16:22:35.704Z"
   },
   {
    "duration": 70,
    "start_time": "2023-11-15T16:22:35.728Z"
   },
   {
    "duration": 9,
    "start_time": "2023-11-15T16:22:35.800Z"
   },
   {
    "duration": 50,
    "start_time": "2023-11-15T16:22:35.811Z"
   },
   {
    "duration": 205,
    "start_time": "2023-11-15T16:22:35.864Z"
   },
   {
    "duration": 224,
    "start_time": "2023-11-15T16:22:36.075Z"
   },
   {
    "duration": 226,
    "start_time": "2023-11-15T16:22:36.300Z"
   },
   {
    "duration": 99,
    "start_time": "2023-11-15T16:22:36.527Z"
   },
   {
    "duration": 204,
    "start_time": "2023-11-15T16:22:36.628Z"
   },
   {
    "duration": 3,
    "start_time": "2023-11-15T16:22:36.833Z"
   },
   {
    "duration": 31834,
    "start_time": "2023-11-15T16:22:36.838Z"
   },
   {
    "duration": 1204,
    "start_time": "2023-11-15T16:23:08.674Z"
   },
   {
    "duration": 3,
    "start_time": "2023-11-15T16:23:09.879Z"
   },
   {
    "duration": 9990,
    "start_time": "2023-11-15T16:23:09.884Z"
   },
   {
    "duration": 2000,
    "start_time": "2023-11-15T16:23:19.876Z"
   },
   {
    "duration": 3,
    "start_time": "2023-11-15T16:23:21.877Z"
   },
   {
    "duration": 11488,
    "start_time": "2023-11-15T16:23:21.882Z"
   },
   {
    "duration": 2203,
    "start_time": "2023-11-15T16:23:33.372Z"
   },
   {
    "duration": 6823,
    "start_time": "2023-11-17T13:04:09.534Z"
   },
   {
    "duration": 1598,
    "start_time": "2023-11-17T13:04:16.360Z"
   },
   {
    "duration": 6,
    "start_time": "2023-11-17T13:04:17.960Z"
   },
   {
    "duration": 10,
    "start_time": "2023-11-17T13:04:17.968Z"
   },
   {
    "duration": 1123,
    "start_time": "2023-11-17T13:04:17.980Z"
   },
   {
    "duration": 3,
    "start_time": "2023-11-17T13:04:19.105Z"
   },
   {
    "duration": 27,
    "start_time": "2023-11-17T13:04:19.110Z"
   },
   {
    "duration": 4,
    "start_time": "2023-11-17T13:04:19.138Z"
   },
   {
    "duration": 1046,
    "start_time": "2023-11-17T13:04:19.143Z"
   },
   {
    "duration": 215,
    "start_time": "2023-11-17T13:04:20.191Z"
   },
   {
    "duration": 473,
    "start_time": "2023-11-17T13:04:20.408Z"
   },
   {
    "duration": 457,
    "start_time": "2023-11-17T13:04:20.882Z"
   },
   {
    "duration": 132,
    "start_time": "2023-11-17T13:04:21.340Z"
   },
   {
    "duration": 101,
    "start_time": "2023-11-17T13:04:21.476Z"
   },
   {
    "duration": 244,
    "start_time": "2023-11-17T13:04:21.579Z"
   },
   {
    "duration": 69,
    "start_time": "2023-11-17T13:04:21.825Z"
   },
   {
    "duration": 213,
    "start_time": "2023-11-17T13:04:21.895Z"
   },
   {
    "duration": 132,
    "start_time": "2023-11-17T13:04:22.109Z"
   },
   {
    "duration": 5,
    "start_time": "2023-11-17T13:04:22.242Z"
   },
   {
    "duration": 18,
    "start_time": "2023-11-17T13:04:22.248Z"
   },
   {
    "duration": 554,
    "start_time": "2023-11-17T13:04:22.268Z"
   },
   {
    "duration": 162,
    "start_time": "2023-11-17T13:04:22.824Z"
   },
   {
    "duration": 615,
    "start_time": "2023-11-17T13:04:22.988Z"
   },
   {
    "duration": 579,
    "start_time": "2023-11-17T13:04:23.605Z"
   },
   {
    "duration": 132,
    "start_time": "2023-11-17T13:04:24.187Z"
   },
   {
    "duration": 9,
    "start_time": "2023-11-17T13:04:24.320Z"
   },
   {
    "duration": 195,
    "start_time": "2023-11-17T13:04:24.331Z"
   },
   {
    "duration": 16,
    "start_time": "2023-11-17T13:04:24.528Z"
   },
   {
    "duration": 608,
    "start_time": "2023-11-17T13:04:24.546Z"
   },
   {
    "duration": 916,
    "start_time": "2023-11-17T13:04:25.156Z"
   },
   {
    "duration": 156,
    "start_time": "2023-11-17T13:04:26.074Z"
   },
   {
    "duration": 16,
    "start_time": "2023-11-17T13:04:26.232Z"
   },
   {
    "duration": 190,
    "start_time": "2023-11-17T13:04:26.250Z"
   },
   {
    "duration": 561,
    "start_time": "2023-11-17T13:04:26.442Z"
   },
   {
    "duration": 206,
    "start_time": "2023-11-17T13:04:27.005Z"
   },
   {
    "duration": 556,
    "start_time": "2023-11-17T13:04:27.212Z"
   },
   {
    "duration": 528,
    "start_time": "2023-11-17T13:04:27.770Z"
   },
   {
    "duration": 14,
    "start_time": "2023-11-17T13:04:28.299Z"
   },
   {
    "duration": 104,
    "start_time": "2023-11-17T13:04:28.315Z"
   },
   {
    "duration": 5,
    "start_time": "2023-11-17T13:04:28.421Z"
   },
   {
    "duration": 36,
    "start_time": "2023-11-17T13:04:28.430Z"
   },
   {
    "duration": 77,
    "start_time": "2023-11-17T13:04:28.467Z"
   },
   {
    "duration": 8,
    "start_time": "2023-11-17T13:04:28.546Z"
   },
   {
    "duration": 47,
    "start_time": "2023-11-17T13:04:28.556Z"
   },
   {
    "duration": 148,
    "start_time": "2023-11-17T13:04:28.605Z"
   },
   {
    "duration": 174,
    "start_time": "2023-11-17T13:04:28.755Z"
   },
   {
    "duration": 213,
    "start_time": "2023-11-17T13:04:28.931Z"
   },
   {
    "duration": 93,
    "start_time": "2023-11-17T13:04:29.146Z"
   },
   {
    "duration": 187,
    "start_time": "2023-11-17T13:04:29.240Z"
   },
   {
    "duration": 3,
    "start_time": "2023-11-17T13:04:29.428Z"
   },
   {
    "duration": 2470,
    "start_time": "2023-11-17T13:10:35.819Z"
   },
   {
    "duration": 5,
    "start_time": "2023-11-17T13:10:38.292Z"
   },
   {
    "duration": 17,
    "start_time": "2023-11-17T13:10:38.298Z"
   },
   {
    "duration": 15,
    "start_time": "2023-11-17T13:10:38.317Z"
   },
   {
    "duration": 867,
    "start_time": "2023-11-17T13:10:38.334Z"
   },
   {
    "duration": 3,
    "start_time": "2023-11-17T13:10:39.202Z"
   },
   {
    "duration": 27,
    "start_time": "2023-11-17T13:10:39.206Z"
   },
   {
    "duration": 25,
    "start_time": "2023-11-17T13:10:39.234Z"
   },
   {
    "duration": 1050,
    "start_time": "2023-11-17T13:10:39.261Z"
   },
   {
    "duration": 214,
    "start_time": "2023-11-17T13:10:40.314Z"
   },
   {
    "duration": 429,
    "start_time": "2023-11-17T13:10:40.530Z"
   },
   {
    "duration": 408,
    "start_time": "2023-11-17T13:10:40.961Z"
   },
   {
    "duration": 132,
    "start_time": "2023-11-17T13:10:41.371Z"
   },
   {
    "duration": 104,
    "start_time": "2023-11-17T13:10:41.505Z"
   },
   {
    "duration": 210,
    "start_time": "2023-11-17T13:10:41.611Z"
   },
   {
    "duration": 64,
    "start_time": "2023-11-17T13:10:41.823Z"
   },
   {
    "duration": 209,
    "start_time": "2023-11-17T13:10:41.888Z"
   },
   {
    "duration": 127,
    "start_time": "2023-11-17T13:10:42.098Z"
   },
   {
    "duration": 25,
    "start_time": "2023-11-17T13:10:42.226Z"
   },
   {
    "duration": 26,
    "start_time": "2023-11-17T13:10:42.252Z"
   },
   {
    "duration": 620,
    "start_time": "2023-11-17T13:10:42.280Z"
   },
   {
    "duration": 164,
    "start_time": "2023-11-17T13:10:42.901Z"
   },
   {
    "duration": 598,
    "start_time": "2023-11-17T13:10:43.067Z"
   },
   {
    "duration": 517,
    "start_time": "2023-11-17T13:10:43.667Z"
   },
   {
    "duration": 120,
    "start_time": "2023-11-17T13:10:44.186Z"
   },
   {
    "duration": 8,
    "start_time": "2023-11-17T13:10:44.308Z"
   },
   {
    "duration": 171,
    "start_time": "2023-11-17T13:10:44.318Z"
   },
   {
    "duration": 18,
    "start_time": "2023-11-17T13:10:44.493Z"
   },
   {
    "duration": 679,
    "start_time": "2023-11-17T13:10:44.512Z"
   },
   {
    "duration": 1033,
    "start_time": "2023-11-17T13:10:45.192Z"
   },
   {
    "duration": 148,
    "start_time": "2023-11-17T13:10:46.227Z"
   },
   {
    "duration": 17,
    "start_time": "2023-11-17T13:10:46.377Z"
   },
   {
    "duration": 185,
    "start_time": "2023-11-17T13:10:46.396Z"
   },
   {
    "duration": 461,
    "start_time": "2023-11-17T13:10:46.582Z"
   },
   {
    "duration": 206,
    "start_time": "2023-11-17T13:10:47.045Z"
   },
   {
    "duration": 525,
    "start_time": "2023-11-17T13:10:47.252Z"
   },
   {
    "duration": 522,
    "start_time": "2023-11-17T13:10:47.779Z"
   },
   {
    "duration": 13,
    "start_time": "2023-11-17T13:10:48.303Z"
   },
   {
    "duration": 76,
    "start_time": "2023-11-17T13:10:48.318Z"
   },
   {
    "duration": 5,
    "start_time": "2023-11-17T13:10:48.396Z"
   },
   {
    "duration": 6,
    "start_time": "2023-11-17T13:10:48.403Z"
   },
   {
    "duration": 74,
    "start_time": "2023-11-17T13:10:48.411Z"
   },
   {
    "duration": 8,
    "start_time": "2023-11-17T13:10:48.487Z"
   },
   {
    "duration": 24,
    "start_time": "2023-11-17T13:10:48.497Z"
   },
   {
    "duration": 104,
    "start_time": "2023-11-17T13:10:48.523Z"
   },
   {
    "duration": 180,
    "start_time": "2023-11-17T13:10:48.629Z"
   },
   {
    "duration": 220,
    "start_time": "2023-11-17T13:10:48.811Z"
   },
   {
    "duration": 89,
    "start_time": "2023-11-17T13:10:49.032Z"
   },
   {
    "duration": 177,
    "start_time": "2023-11-17T13:10:49.123Z"
   },
   {
    "duration": 4,
    "start_time": "2023-11-17T13:10:49.301Z"
   },
   {
    "duration": 3,
    "start_time": "2023-11-17T13:10:59.419Z"
   },
   {
    "duration": 3649,
    "start_time": "2023-11-17T13:10:59.425Z"
   },
   {
    "duration": 1202,
    "start_time": "2023-11-17T13:11:03.076Z"
   },
   {
    "duration": 3,
    "start_time": "2023-11-17T13:11:04.280Z"
   },
   {
    "duration": 7385,
    "start_time": "2023-11-17T13:11:04.284Z"
   },
   {
    "duration": 1998,
    "start_time": "2023-11-17T13:11:11.671Z"
   },
   {
    "duration": 3,
    "start_time": "2023-11-17T13:11:13.671Z"
   },
   {
    "duration": 7596,
    "start_time": "2023-11-17T13:11:13.676Z"
   },
   {
    "duration": 2360,
    "start_time": "2023-11-17T13:11:21.273Z"
   },
   {
    "duration": 0,
    "start_time": "2023-11-17T13:11:23.636Z"
   },
   {
    "duration": 0,
    "start_time": "2023-11-17T13:11:23.636Z"
   },
   {
    "duration": 0,
    "start_time": "2023-11-17T13:11:23.638Z"
   },
   {
    "duration": 0,
    "start_time": "2023-11-17T13:11:23.639Z"
   },
   {
    "duration": 0,
    "start_time": "2023-11-17T13:11:23.641Z"
   },
   {
    "duration": 0,
    "start_time": "2023-11-17T13:11:23.642Z"
   },
   {
    "duration": 0,
    "start_time": "2023-11-17T13:11:23.643Z"
   },
   {
    "duration": 13,
    "start_time": "2023-11-17T13:12:51.572Z"
   },
   {
    "duration": 13,
    "start_time": "2023-11-17T13:12:51.587Z"
   },
   {
    "duration": 64005,
    "start_time": "2023-11-17T13:12:51.602Z"
   },
   {
    "duration": 1173,
    "start_time": "2023-11-17T13:13:55.609Z"
   },
   {
    "duration": 3,
    "start_time": "2023-11-17T13:13:56.784Z"
   },
   {
    "duration": 0,
    "start_time": "2023-11-17T13:14:16.107Z"
   },
   {
    "duration": 0,
    "start_time": "2023-11-17T13:14:16.108Z"
   },
   {
    "duration": 0,
    "start_time": "2023-11-17T13:14:16.109Z"
   },
   {
    "duration": 0,
    "start_time": "2023-11-17T13:14:16.110Z"
   },
   {
    "duration": 0,
    "start_time": "2023-11-17T13:14:16.112Z"
   },
   {
    "duration": 0,
    "start_time": "2023-11-17T13:14:16.113Z"
   },
   {
    "duration": 0,
    "start_time": "2023-11-17T13:14:16.114Z"
   },
   {
    "duration": 0,
    "start_time": "2023-11-17T13:14:16.116Z"
   },
   {
    "duration": 0,
    "start_time": "2023-11-17T13:14:16.117Z"
   },
   {
    "duration": 0,
    "start_time": "2023-11-17T13:14:16.118Z"
   },
   {
    "duration": 0,
    "start_time": "2023-11-17T13:14:16.119Z"
   },
   {
    "duration": 0,
    "start_time": "2023-11-17T13:14:16.120Z"
   },
   {
    "duration": 0,
    "start_time": "2023-11-17T13:14:16.166Z"
   },
   {
    "duration": 0,
    "start_time": "2023-11-17T13:14:16.167Z"
   },
   {
    "duration": 0,
    "start_time": "2023-11-17T13:14:16.168Z"
   },
   {
    "duration": 0,
    "start_time": "2023-11-17T13:14:16.169Z"
   },
   {
    "duration": 4,
    "start_time": "2023-11-17T13:15:04.261Z"
   },
   {
    "duration": 132492,
    "start_time": "2023-11-17T13:17:26.681Z"
   },
   {
    "duration": 1312,
    "start_time": "2023-11-17T13:19:39.176Z"
   },
   {
    "duration": 3,
    "start_time": "2023-11-17T13:19:40.491Z"
   },
   {
    "duration": 795060,
    "start_time": "2023-11-17T13:19:40.565Z"
   },
   {
    "duration": 2122,
    "start_time": "2023-11-17T13:32:55.671Z"
   },
   {
    "duration": 5,
    "start_time": "2023-11-17T13:32:57.796Z"
   },
   {
    "duration": 992063,
    "start_time": "2023-11-17T13:32:57.803Z"
   },
   {
    "duration": 2107,
    "start_time": "2023-11-17T13:49:29.874Z"
   },
   {
    "duration": 0,
    "start_time": "2023-11-17T13:49:31.985Z"
   },
   {
    "duration": 0,
    "start_time": "2023-11-17T13:49:31.986Z"
   },
   {
    "duration": 0,
    "start_time": "2023-11-17T13:49:31.988Z"
   },
   {
    "duration": 0,
    "start_time": "2023-11-17T13:49:31.989Z"
   },
   {
    "duration": 0,
    "start_time": "2023-11-17T13:49:31.990Z"
   },
   {
    "duration": 0,
    "start_time": "2023-11-17T13:49:31.992Z"
   },
   {
    "duration": 0,
    "start_time": "2023-11-17T13:49:31.994Z"
   },
   {
    "duration": 2107,
    "start_time": "2023-11-17T14:10:01.183Z"
   },
   {
    "duration": 31273,
    "start_time": "2023-11-17T14:15:07.684Z"
   },
   {
    "duration": 3,
    "start_time": "2023-11-17T14:15:47.495Z"
   },
   {
    "duration": 127524,
    "start_time": "2023-11-17T14:15:55.848Z"
   },
   {
    "duration": 1215,
    "start_time": "2023-11-17T14:18:03.374Z"
   },
   {
    "duration": 14,
    "start_time": "2023-11-17T14:28:10.530Z"
   },
   {
    "duration": 82,
    "start_time": "2023-11-17T14:28:11.323Z"
   },
   {
    "duration": 31,
    "start_time": "2023-11-17T14:31:14.419Z"
   },
   {
    "duration": 30,
    "start_time": "2023-11-17T14:31:25.692Z"
   },
   {
    "duration": 16,
    "start_time": "2023-11-17T14:31:33.853Z"
   },
   {
    "duration": 28577,
    "start_time": "2023-11-17T14:31:36.414Z"
   },
   {
    "duration": 39497,
    "start_time": "2023-11-17T14:32:46.547Z"
   },
   {
    "duration": 6885,
    "start_time": "2023-11-17T14:33:26.046Z"
   },
   {
    "duration": 292,
    "start_time": "2023-11-17T14:33:56.059Z"
   },
   {
    "duration": 7550,
    "start_time": "2023-11-17T14:34:16.567Z"
   },
   {
    "duration": 2532,
    "start_time": "2023-11-17T14:34:33.599Z"
   },
   {
    "duration": 477,
    "start_time": "2023-11-17T14:34:36.133Z"
   },
   {
    "duration": 684,
    "start_time": "2023-11-17T14:36:36.931Z"
   },
   {
    "duration": 142,
    "start_time": "2023-11-17T14:37:13.504Z"
   },
   {
    "duration": 33594,
    "start_time": "2023-11-17T14:38:14.496Z"
   },
   {
    "duration": 134,
    "start_time": "2023-11-17T14:38:48.092Z"
   },
   {
    "duration": 18,
    "start_time": "2023-11-17T14:38:55.838Z"
   },
   {
    "duration": 104,
    "start_time": "2023-11-17T14:39:07.593Z"
   },
   {
    "duration": 127,
    "start_time": "2023-11-17T14:39:26.479Z"
   },
   {
    "duration": 14,
    "start_time": "2023-11-17T14:39:37.387Z"
   },
   {
    "duration": 490,
    "start_time": "2023-11-17T14:39:54.310Z"
   },
   {
    "duration": 27,
    "start_time": "2023-11-17T14:40:00.749Z"
   },
   {
    "duration": 98,
    "start_time": "2023-11-17T14:40:01.303Z"
   },
   {
    "duration": 221,
    "start_time": "2023-11-17T14:40:06.624Z"
   },
   {
    "duration": 2797,
    "start_time": "2023-11-17T14:41:53.932Z"
   },
   {
    "duration": 2060,
    "start_time": "2023-11-17T14:41:56.731Z"
   },
   {
    "duration": 2,
    "start_time": "2023-11-17T14:41:58.794Z"
   },
   {
    "duration": 9,
    "start_time": "2023-11-17T14:41:58.799Z"
   },
   {
    "duration": 1217,
    "start_time": "2023-11-17T14:41:58.810Z"
   },
   {
    "duration": 3,
    "start_time": "2023-11-17T14:42:00.028Z"
   },
   {
    "duration": 43,
    "start_time": "2023-11-17T14:42:00.033Z"
   },
   {
    "duration": 33,
    "start_time": "2023-11-17T14:42:00.081Z"
   },
   {
    "duration": 1301,
    "start_time": "2023-11-17T14:42:00.115Z"
   },
   {
    "duration": 258,
    "start_time": "2023-11-17T14:42:01.418Z"
   },
   {
    "duration": 522,
    "start_time": "2023-11-17T14:42:01.678Z"
   },
   {
    "duration": 524,
    "start_time": "2023-11-17T14:42:02.202Z"
   },
   {
    "duration": 168,
    "start_time": "2023-11-17T14:42:02.727Z"
   },
   {
    "duration": 117,
    "start_time": "2023-11-17T14:42:02.897Z"
   },
   {
    "duration": 315,
    "start_time": "2023-11-17T14:42:03.016Z"
   },
   {
    "duration": 81,
    "start_time": "2023-11-17T14:42:03.333Z"
   },
   {
    "duration": 248,
    "start_time": "2023-11-17T14:42:03.416Z"
   },
   {
    "duration": 166,
    "start_time": "2023-11-17T14:42:03.667Z"
   },
   {
    "duration": 21,
    "start_time": "2023-11-17T14:42:03.835Z"
   },
   {
    "duration": 37,
    "start_time": "2023-11-17T14:42:03.857Z"
   },
   {
    "duration": 608,
    "start_time": "2023-11-17T14:42:03.896Z"
   },
   {
    "duration": 198,
    "start_time": "2023-11-17T14:42:04.506Z"
   },
   {
    "duration": 643,
    "start_time": "2023-11-17T14:42:04.706Z"
   },
   {
    "duration": 686,
    "start_time": "2023-11-17T14:42:05.351Z"
   },
   {
    "duration": 175,
    "start_time": "2023-11-17T14:42:06.041Z"
   },
   {
    "duration": 13,
    "start_time": "2023-11-17T14:42:06.218Z"
   },
   {
    "duration": 248,
    "start_time": "2023-11-17T14:42:06.233Z"
   },
   {
    "duration": 18,
    "start_time": "2023-11-17T14:42:06.488Z"
   },
   {
    "duration": 707,
    "start_time": "2023-11-17T14:42:06.508Z"
   },
   {
    "duration": 993,
    "start_time": "2023-11-17T14:42:07.217Z"
   },
   {
    "duration": 169,
    "start_time": "2023-11-17T14:42:08.212Z"
   },
   {
    "duration": 21,
    "start_time": "2023-11-17T14:42:08.382Z"
   },
   {
    "duration": 203,
    "start_time": "2023-11-17T14:42:08.404Z"
   },
   {
    "duration": 603,
    "start_time": "2023-11-17T14:42:08.609Z"
   },
   {
    "duration": 218,
    "start_time": "2023-11-17T14:42:09.214Z"
   },
   {
    "duration": 626,
    "start_time": "2023-11-17T14:42:09.434Z"
   },
   {
    "duration": 580,
    "start_time": "2023-11-17T14:42:10.062Z"
   },
   {
    "duration": 14,
    "start_time": "2023-11-17T14:42:10.644Z"
   },
   {
    "duration": 74,
    "start_time": "2023-11-17T14:42:10.678Z"
   },
   {
    "duration": 6,
    "start_time": "2023-11-17T14:42:10.754Z"
   },
   {
    "duration": 19,
    "start_time": "2023-11-17T14:42:10.761Z"
   },
   {
    "duration": 62,
    "start_time": "2023-11-17T14:42:10.781Z"
   },
   {
    "duration": 23,
    "start_time": "2023-11-17T14:42:10.845Z"
   },
   {
    "duration": 34,
    "start_time": "2023-11-17T14:42:10.877Z"
   },
   {
    "duration": 110,
    "start_time": "2023-11-17T14:42:10.912Z"
   },
   {
    "duration": 203,
    "start_time": "2023-11-17T14:42:11.023Z"
   },
   {
    "duration": 248,
    "start_time": "2023-11-17T14:42:11.228Z"
   },
   {
    "duration": 102,
    "start_time": "2023-11-17T14:42:11.481Z"
   },
   {
    "duration": 165,
    "start_time": "2023-11-17T14:42:11.592Z"
   },
   {
    "duration": 3,
    "start_time": "2023-11-17T14:42:11.759Z"
   },
   {
    "duration": 73536,
    "start_time": "2023-11-17T14:42:11.763Z"
   },
   {
    "duration": 93,
    "start_time": "2023-11-17T14:43:25.300Z"
   },
   {
    "duration": 3,
    "start_time": "2023-11-17T14:43:25.395Z"
   },
   {
    "duration": 9187,
    "start_time": "2023-11-17T14:43:25.400Z"
   },
   {
    "duration": 206,
    "start_time": "2023-11-17T14:43:34.592Z"
   },
   {
    "duration": 3,
    "start_time": "2023-11-17T14:43:34.800Z"
   },
   {
    "duration": 11638,
    "start_time": "2023-11-17T14:43:34.805Z"
   },
   {
    "duration": 9,
    "start_time": "2023-11-17T14:43:46.445Z"
   },
   {
    "duration": 0,
    "start_time": "2023-11-17T14:43:46.456Z"
   },
   {
    "duration": 0,
    "start_time": "2023-11-17T14:43:46.457Z"
   },
   {
    "duration": 0,
    "start_time": "2023-11-17T14:43:46.458Z"
   },
   {
    "duration": 0,
    "start_time": "2023-11-17T14:43:46.460Z"
   },
   {
    "duration": 0,
    "start_time": "2023-11-17T14:43:46.461Z"
   },
   {
    "duration": 0,
    "start_time": "2023-11-17T14:43:46.462Z"
   },
   {
    "duration": 0,
    "start_time": "2023-11-17T14:43:46.463Z"
   },
   {
    "duration": 0,
    "start_time": "2023-11-17T14:43:46.464Z"
   },
   {
    "duration": 0,
    "start_time": "2023-11-17T14:43:46.466Z"
   },
   {
    "duration": 0,
    "start_time": "2023-11-17T14:43:46.466Z"
   },
   {
    "duration": 17,
    "start_time": "2023-11-17T14:43:54.484Z"
   },
   {
    "duration": 28951,
    "start_time": "2023-11-17T14:43:55.896Z"
   },
   {
    "duration": 286,
    "start_time": "2023-11-17T14:44:51.956Z"
   },
   {
    "duration": 2790,
    "start_time": "2023-11-17T14:45:53.127Z"
   },
   {
    "duration": 8,
    "start_time": "2023-11-17T14:45:55.920Z"
   },
   {
    "duration": 11,
    "start_time": "2023-11-17T14:45:55.929Z"
   },
   {
    "duration": 10,
    "start_time": "2023-11-17T14:45:55.945Z"
   },
   {
    "duration": 920,
    "start_time": "2023-11-17T14:45:55.958Z"
   },
   {
    "duration": 6,
    "start_time": "2023-11-17T14:45:56.879Z"
   },
   {
    "duration": 5,
    "start_time": "2023-11-17T14:45:56.887Z"
   },
   {
    "duration": 3,
    "start_time": "2023-11-17T14:45:56.895Z"
   },
   {
    "duration": 1136,
    "start_time": "2023-11-17T14:45:56.899Z"
   },
   {
    "duration": 279,
    "start_time": "2023-11-17T14:45:58.038Z"
   },
   {
    "duration": 424,
    "start_time": "2023-11-17T14:45:58.318Z"
   },
   {
    "duration": 444,
    "start_time": "2023-11-17T14:45:58.744Z"
   },
   {
    "duration": 150,
    "start_time": "2023-11-17T14:45:59.190Z"
   },
   {
    "duration": 131,
    "start_time": "2023-11-17T14:45:59.343Z"
   },
   {
    "duration": 224,
    "start_time": "2023-11-17T14:45:59.480Z"
   },
   {
    "duration": 80,
    "start_time": "2023-11-17T14:45:59.706Z"
   },
   {
    "duration": 230,
    "start_time": "2023-11-17T14:45:59.787Z"
   },
   {
    "duration": 152,
    "start_time": "2023-11-17T14:46:00.019Z"
   },
   {
    "duration": 20,
    "start_time": "2023-11-17T14:46:00.172Z"
   },
   {
    "duration": 28,
    "start_time": "2023-11-17T14:46:00.193Z"
   },
   {
    "duration": 712,
    "start_time": "2023-11-17T14:46:00.222Z"
   },
   {
    "duration": 171,
    "start_time": "2023-11-17T14:46:00.936Z"
   },
   {
    "duration": 684,
    "start_time": "2023-11-17T14:46:01.109Z"
   },
   {
    "duration": 595,
    "start_time": "2023-11-17T14:46:01.794Z"
   },
   {
    "duration": 133,
    "start_time": "2023-11-17T14:46:02.391Z"
   },
   {
    "duration": 9,
    "start_time": "2023-11-17T14:46:02.525Z"
   },
   {
    "duration": 204,
    "start_time": "2023-11-17T14:46:02.536Z"
   },
   {
    "duration": 28,
    "start_time": "2023-11-17T14:46:02.744Z"
   },
   {
    "duration": 612,
    "start_time": "2023-11-17T14:46:02.777Z"
   },
   {
    "duration": 1071,
    "start_time": "2023-11-17T14:46:03.391Z"
   },
   {
    "duration": 148,
    "start_time": "2023-11-17T14:46:04.467Z"
   },
   {
    "duration": 17,
    "start_time": "2023-11-17T14:46:04.617Z"
   },
   {
    "duration": 207,
    "start_time": "2023-11-17T14:46:04.635Z"
   },
   {
    "duration": 481,
    "start_time": "2023-11-17T14:46:04.844Z"
   },
   {
    "duration": 204,
    "start_time": "2023-11-17T14:46:05.326Z"
   },
   {
    "duration": 627,
    "start_time": "2023-11-17T14:46:05.532Z"
   },
   {
    "duration": 571,
    "start_time": "2023-11-17T14:46:06.165Z"
   },
   {
    "duration": 14,
    "start_time": "2023-11-17T14:46:06.737Z"
   },
   {
    "duration": 75,
    "start_time": "2023-11-17T14:46:06.752Z"
   },
   {
    "duration": 6,
    "start_time": "2023-11-17T14:46:06.829Z"
   },
   {
    "duration": 13,
    "start_time": "2023-11-17T14:46:06.836Z"
   },
   {
    "duration": 71,
    "start_time": "2023-11-17T14:46:06.866Z"
   },
   {
    "duration": 12,
    "start_time": "2023-11-17T14:46:06.939Z"
   },
   {
    "duration": 32,
    "start_time": "2023-11-17T14:46:06.953Z"
   },
   {
    "duration": 106,
    "start_time": "2023-11-17T14:46:06.987Z"
   },
   {
    "duration": 223,
    "start_time": "2023-11-17T14:46:07.095Z"
   },
   {
    "duration": 237,
    "start_time": "2023-11-17T14:46:07.320Z"
   },
   {
    "duration": 101,
    "start_time": "2023-11-17T14:46:07.559Z"
   },
   {
    "duration": 209,
    "start_time": "2023-11-17T14:46:07.662Z"
   },
   {
    "duration": 25,
    "start_time": "2023-11-17T14:48:00.647Z"
   },
   {
    "duration": 29652,
    "start_time": "2023-11-17T14:48:02.179Z"
   },
   {
    "duration": 22131,
    "start_time": "2023-11-17T14:48:50.563Z"
   },
   {
    "duration": 2800,
    "start_time": "2023-11-17T14:51:28.973Z"
   },
   {
    "duration": 2213,
    "start_time": "2023-11-17T14:51:31.776Z"
   },
   {
    "duration": 3,
    "start_time": "2023-11-17T14:51:33.995Z"
   },
   {
    "duration": 16,
    "start_time": "2023-11-17T14:51:34.000Z"
   },
   {
    "duration": 1305,
    "start_time": "2023-11-17T14:51:34.018Z"
   },
   {
    "duration": 3,
    "start_time": "2023-11-17T14:51:35.325Z"
   },
   {
    "duration": 17,
    "start_time": "2023-11-17T14:51:35.330Z"
   },
   {
    "duration": 26,
    "start_time": "2023-11-17T14:51:35.349Z"
   },
   {
    "duration": 1240,
    "start_time": "2023-11-17T14:51:35.381Z"
   },
   {
    "duration": 270,
    "start_time": "2023-11-17T14:51:36.623Z"
   },
   {
    "duration": 514,
    "start_time": "2023-11-17T14:51:36.899Z"
   },
   {
    "duration": 511,
    "start_time": "2023-11-17T14:51:37.415Z"
   },
   {
    "duration": 178,
    "start_time": "2023-11-17T14:51:37.927Z"
   },
   {
    "duration": 127,
    "start_time": "2023-11-17T14:51:38.107Z"
   },
   {
    "duration": 291,
    "start_time": "2023-11-17T14:51:38.236Z"
   },
   {
    "duration": 83,
    "start_time": "2023-11-17T14:51:38.529Z"
   },
   {
    "duration": 248,
    "start_time": "2023-11-17T14:51:38.614Z"
   },
   {
    "duration": 158,
    "start_time": "2023-11-17T14:51:38.875Z"
   },
   {
    "duration": 5,
    "start_time": "2023-11-17T14:51:39.034Z"
   },
   {
    "duration": 54,
    "start_time": "2023-11-17T14:51:39.040Z"
   },
   {
    "duration": 606,
    "start_time": "2023-11-17T14:51:39.097Z"
   },
   {
    "duration": 186,
    "start_time": "2023-11-17T14:51:39.705Z"
   },
   {
    "duration": 639,
    "start_time": "2023-11-17T14:51:39.895Z"
   },
   {
    "duration": 643,
    "start_time": "2023-11-17T14:51:40.536Z"
   },
   {
    "duration": 136,
    "start_time": "2023-11-17T14:51:41.181Z"
   },
   {
    "duration": 11,
    "start_time": "2023-11-17T14:51:41.318Z"
   },
   {
    "duration": 219,
    "start_time": "2023-11-17T14:51:41.331Z"
   },
   {
    "duration": 33,
    "start_time": "2023-11-17T14:51:41.555Z"
   },
   {
    "duration": 695,
    "start_time": "2023-11-17T14:51:41.590Z"
   },
   {
    "duration": 937,
    "start_time": "2023-11-17T14:51:42.287Z"
   },
   {
    "duration": 175,
    "start_time": "2023-11-17T14:51:43.226Z"
   },
   {
    "duration": 16,
    "start_time": "2023-11-17T14:51:43.403Z"
   },
   {
    "duration": 207,
    "start_time": "2023-11-17T14:51:43.421Z"
   },
   {
    "duration": 601,
    "start_time": "2023-11-17T14:51:43.630Z"
   },
   {
    "duration": 213,
    "start_time": "2023-11-17T14:51:44.232Z"
   },
   {
    "duration": 686,
    "start_time": "2023-11-17T14:51:44.447Z"
   },
   {
    "duration": 574,
    "start_time": "2023-11-17T14:51:45.135Z"
   },
   {
    "duration": 14,
    "start_time": "2023-11-17T14:51:45.711Z"
   },
   {
    "duration": 100,
    "start_time": "2023-11-17T14:51:45.727Z"
   },
   {
    "duration": 7,
    "start_time": "2023-11-17T14:51:45.829Z"
   },
   {
    "duration": 17,
    "start_time": "2023-11-17T14:51:45.838Z"
   },
   {
    "duration": 85,
    "start_time": "2023-11-17T14:51:45.856Z"
   },
   {
    "duration": 29,
    "start_time": "2023-11-17T14:51:45.943Z"
   },
   {
    "duration": 26,
    "start_time": "2023-11-17T14:51:45.982Z"
   },
   {
    "duration": 178,
    "start_time": "2023-11-17T14:51:46.010Z"
   },
   {
    "duration": 183,
    "start_time": "2023-11-17T14:51:46.194Z"
   },
   {
    "duration": 244,
    "start_time": "2023-11-17T14:51:46.379Z"
   },
   {
    "duration": 111,
    "start_time": "2023-11-17T14:51:46.625Z"
   },
   {
    "duration": 185,
    "start_time": "2023-11-17T14:51:46.737Z"
   },
   {
    "duration": 16,
    "start_time": "2023-11-17T14:52:56.229Z"
   },
   {
    "duration": 30064,
    "start_time": "2023-11-17T14:52:57.236Z"
   },
   {
    "duration": 40052,
    "start_time": "2023-11-17T14:53:27.302Z"
   },
   {
    "duration": 83,
    "start_time": "2023-11-17T14:54:58.744Z"
   },
   {
    "duration": 74,
    "start_time": "2023-11-17T14:55:17.276Z"
   },
   {
    "duration": 349,
    "start_time": "2023-11-17T14:56:50.443Z"
   },
   {
    "duration": 31820,
    "start_time": "2023-11-17T14:57:28.511Z"
   },
   {
    "duration": 39254,
    "start_time": "2023-11-17T14:58:02.392Z"
   },
   {
    "duration": 24,
    "start_time": "2023-11-17T14:58:42.769Z"
   },
   {
    "duration": 20,
    "start_time": "2023-11-17T14:58:43.183Z"
   },
   {
    "duration": 4,
    "start_time": "2023-11-17T15:02:23.405Z"
   },
   {
    "duration": 2672,
    "start_time": "2023-11-17T15:27:02.172Z"
   },
   {
    "duration": 1342,
    "start_time": "2023-11-17T15:27:04.846Z"
   },
   {
    "duration": 2,
    "start_time": "2023-11-17T15:27:06.191Z"
   },
   {
    "duration": 48,
    "start_time": "2023-11-17T15:27:06.195Z"
   },
   {
    "duration": 932,
    "start_time": "2023-11-17T15:27:06.245Z"
   },
   {
    "duration": 3,
    "start_time": "2023-11-17T15:27:07.181Z"
   },
   {
    "duration": 29,
    "start_time": "2023-11-17T15:27:07.186Z"
   },
   {
    "duration": 10,
    "start_time": "2023-11-17T15:27:07.216Z"
   },
   {
    "duration": 1151,
    "start_time": "2023-11-17T15:27:07.228Z"
   },
   {
    "duration": 240,
    "start_time": "2023-11-17T15:27:08.383Z"
   },
   {
    "duration": 494,
    "start_time": "2023-11-17T15:27:08.625Z"
   },
   {
    "duration": 499,
    "start_time": "2023-11-17T15:27:09.120Z"
   },
   {
    "duration": 138,
    "start_time": "2023-11-17T15:27:09.620Z"
   },
   {
    "duration": 106,
    "start_time": "2023-11-17T15:27:09.776Z"
   },
   {
    "duration": 247,
    "start_time": "2023-11-17T15:27:09.884Z"
   },
   {
    "duration": 74,
    "start_time": "2023-11-17T15:27:10.132Z"
   },
   {
    "duration": 226,
    "start_time": "2023-11-17T15:27:10.207Z"
   },
   {
    "duration": 157,
    "start_time": "2023-11-17T15:27:10.434Z"
   },
   {
    "duration": 5,
    "start_time": "2023-11-17T15:27:10.593Z"
   },
   {
    "duration": 4,
    "start_time": "2023-11-17T15:27:10.599Z"
   },
   {
    "duration": 595,
    "start_time": "2023-11-17T15:27:10.605Z"
   },
   {
    "duration": 187,
    "start_time": "2023-11-17T15:27:11.202Z"
   },
   {
    "duration": 638,
    "start_time": "2023-11-17T15:27:11.391Z"
   },
   {
    "duration": 647,
    "start_time": "2023-11-17T15:27:12.031Z"
   },
   {
    "duration": 137,
    "start_time": "2023-11-17T15:27:12.680Z"
   },
   {
    "duration": 10,
    "start_time": "2023-11-17T15:27:12.819Z"
   },
   {
    "duration": 202,
    "start_time": "2023-11-17T15:27:12.830Z"
   },
   {
    "duration": 16,
    "start_time": "2023-11-17T15:27:13.034Z"
   },
   {
    "duration": 639,
    "start_time": "2023-11-17T15:27:13.052Z"
   },
   {
    "duration": 1047,
    "start_time": "2023-11-17T15:27:13.692Z"
   },
   {
    "duration": 168,
    "start_time": "2023-11-17T15:27:14.741Z"
   },
   {
    "duration": 22,
    "start_time": "2023-11-17T15:27:14.911Z"
   },
   {
    "duration": 240,
    "start_time": "2023-11-17T15:27:14.936Z"
   },
   {
    "duration": 569,
    "start_time": "2023-11-17T15:27:15.178Z"
   },
   {
    "duration": 234,
    "start_time": "2023-11-17T15:27:15.749Z"
   },
   {
    "duration": 642,
    "start_time": "2023-11-17T15:27:15.985Z"
   },
   {
    "duration": 581,
    "start_time": "2023-11-17T15:27:16.630Z"
   },
   {
    "duration": 13,
    "start_time": "2023-11-17T15:27:17.212Z"
   },
   {
    "duration": 95,
    "start_time": "2023-11-17T15:27:17.226Z"
   },
   {
    "duration": 6,
    "start_time": "2023-11-17T15:27:17.323Z"
   },
   {
    "duration": 17,
    "start_time": "2023-11-17T15:27:17.333Z"
   },
   {
    "duration": 75,
    "start_time": "2023-11-17T15:27:17.351Z"
   },
   {
    "duration": 13,
    "start_time": "2023-11-17T15:27:17.428Z"
   },
   {
    "duration": 48,
    "start_time": "2023-11-17T15:27:17.443Z"
   },
   {
    "duration": 123,
    "start_time": "2023-11-17T15:27:17.492Z"
   },
   {
    "duration": 199,
    "start_time": "2023-11-17T15:27:17.617Z"
   },
   {
    "duration": 269,
    "start_time": "2023-11-17T15:27:17.817Z"
   },
   {
    "duration": 110,
    "start_time": "2023-11-17T15:27:18.087Z"
   },
   {
    "duration": 256,
    "start_time": "2023-11-17T15:27:18.199Z"
   },
   {
    "duration": 3,
    "start_time": "2023-11-17T15:27:18.457Z"
   },
   {
    "duration": 134634,
    "start_time": "2023-11-17T15:27:18.465Z"
   },
   {
    "duration": 1219,
    "start_time": "2023-11-17T15:29:33.166Z"
   },
   {
    "duration": 3,
    "start_time": "2023-11-17T15:29:34.387Z"
   },
   {
    "duration": 808785,
    "start_time": "2023-11-17T15:29:34.392Z"
   },
   {
    "duration": 2027,
    "start_time": "2023-11-17T15:43:03.187Z"
   },
   {
    "duration": 3,
    "start_time": "2023-11-17T15:43:05.216Z"
   },
   {
    "duration": 734587,
    "start_time": "2023-11-17T15:43:05.220Z"
   },
   {
    "duration": 10,
    "start_time": "2023-11-17T15:55:19.809Z"
   },
   {
    "duration": 0,
    "start_time": "2023-11-17T15:55:19.820Z"
   },
   {
    "duration": 0,
    "start_time": "2023-11-17T15:55:19.821Z"
   },
   {
    "duration": 0,
    "start_time": "2023-11-17T15:55:19.823Z"
   },
   {
    "duration": 0,
    "start_time": "2023-11-17T15:55:19.824Z"
   },
   {
    "duration": 0,
    "start_time": "2023-11-17T15:55:19.825Z"
   },
   {
    "duration": 0,
    "start_time": "2023-11-17T15:55:19.826Z"
   },
   {
    "duration": 0,
    "start_time": "2023-11-17T15:55:19.827Z"
   },
   {
    "duration": 0,
    "start_time": "2023-11-17T15:55:19.828Z"
   },
   {
    "duration": 2511,
    "start_time": "2023-11-17T15:55:51.413Z"
   },
   {
    "duration": 1311,
    "start_time": "2023-11-17T15:55:53.927Z"
   },
   {
    "duration": 3,
    "start_time": "2023-11-17T15:55:55.239Z"
   },
   {
    "duration": 16,
    "start_time": "2023-11-17T15:55:55.243Z"
   },
   {
    "duration": 986,
    "start_time": "2023-11-17T15:55:55.261Z"
   },
   {
    "duration": 3,
    "start_time": "2023-11-17T15:55:56.248Z"
   },
   {
    "duration": 14,
    "start_time": "2023-11-17T15:55:56.252Z"
   },
   {
    "duration": 30,
    "start_time": "2023-11-17T15:55:56.269Z"
   },
   {
    "duration": 1112,
    "start_time": "2023-11-17T15:55:56.301Z"
   },
   {
    "duration": 234,
    "start_time": "2023-11-17T15:55:57.416Z"
   },
   {
    "duration": 499,
    "start_time": "2023-11-17T15:55:57.651Z"
   },
   {
    "duration": 525,
    "start_time": "2023-11-17T15:55:58.151Z"
   },
   {
    "duration": 148,
    "start_time": "2023-11-17T15:55:58.683Z"
   },
   {
    "duration": 110,
    "start_time": "2023-11-17T15:55:58.832Z"
   },
   {
    "duration": 269,
    "start_time": "2023-11-17T15:55:58.943Z"
   },
   {
    "duration": 85,
    "start_time": "2023-11-17T15:55:59.214Z"
   },
   {
    "duration": 245,
    "start_time": "2023-11-17T15:55:59.300Z"
   },
   {
    "duration": 164,
    "start_time": "2023-11-17T15:55:59.549Z"
   },
   {
    "duration": 4,
    "start_time": "2023-11-17T15:55:59.715Z"
   },
   {
    "duration": 3,
    "start_time": "2023-11-17T15:55:59.721Z"
   },
   {
    "duration": 601,
    "start_time": "2023-11-17T15:55:59.726Z"
   },
   {
    "duration": 189,
    "start_time": "2023-11-17T15:56:00.328Z"
   },
   {
    "duration": 722,
    "start_time": "2023-11-17T15:56:00.520Z"
   },
   {
    "duration": 658,
    "start_time": "2023-11-17T15:56:01.244Z"
   },
   {
    "duration": 126,
    "start_time": "2023-11-17T15:56:01.904Z"
   },
   {
    "duration": 11,
    "start_time": "2023-11-17T15:56:02.032Z"
   },
   {
    "duration": 304,
    "start_time": "2023-11-17T15:56:02.044Z"
   },
   {
    "duration": 37,
    "start_time": "2023-11-17T15:56:02.353Z"
   },
   {
    "duration": 662,
    "start_time": "2023-11-17T15:56:02.393Z"
   },
   {
    "duration": 985,
    "start_time": "2023-11-17T15:56:03.057Z"
   },
   {
    "duration": 170,
    "start_time": "2023-11-17T15:56:04.044Z"
   },
   {
    "duration": 16,
    "start_time": "2023-11-17T15:56:04.216Z"
   },
   {
    "duration": 215,
    "start_time": "2023-11-17T15:56:04.233Z"
   },
   {
    "duration": 560,
    "start_time": "2023-11-17T15:56:04.450Z"
   },
   {
    "duration": 212,
    "start_time": "2023-11-17T15:56:05.012Z"
   },
   {
    "duration": 597,
    "start_time": "2023-11-17T15:56:05.226Z"
   },
   {
    "duration": 644,
    "start_time": "2023-11-17T15:56:05.825Z"
   },
   {
    "duration": 20,
    "start_time": "2023-11-17T15:56:06.471Z"
   },
   {
    "duration": 94,
    "start_time": "2023-11-17T15:56:06.499Z"
   },
   {
    "duration": 7,
    "start_time": "2023-11-17T15:56:06.595Z"
   },
   {
    "duration": 8,
    "start_time": "2023-11-17T15:56:06.603Z"
   },
   {
    "duration": 66,
    "start_time": "2023-11-17T15:56:06.613Z"
   },
   {
    "duration": 19,
    "start_time": "2023-11-17T15:56:06.681Z"
   },
   {
    "duration": 23,
    "start_time": "2023-11-17T15:56:06.701Z"
   },
   {
    "duration": 118,
    "start_time": "2023-11-17T15:56:06.725Z"
   },
   {
    "duration": 199,
    "start_time": "2023-11-17T15:56:06.845Z"
   },
   {
    "duration": 250,
    "start_time": "2023-11-17T15:56:07.046Z"
   },
   {
    "duration": 102,
    "start_time": "2023-11-17T15:56:07.297Z"
   },
   {
    "duration": 203,
    "start_time": "2023-11-17T15:56:07.400Z"
   },
   {
    "duration": 3,
    "start_time": "2023-11-17T15:56:07.604Z"
   },
   {
    "duration": 132295,
    "start_time": "2023-11-17T15:56:07.609Z"
   },
   {
    "duration": 872,
    "start_time": "2023-11-17T15:58:19.906Z"
   },
   {
    "duration": 4,
    "start_time": "2023-11-17T15:58:20.785Z"
   },
   {
    "duration": 821090,
    "start_time": "2023-11-17T15:58:20.795Z"
   },
   {
    "duration": 1500,
    "start_time": "2023-11-17T16:12:01.887Z"
   },
   {
    "duration": 3,
    "start_time": "2023-11-17T16:12:03.389Z"
   },
   {
    "duration": 747591,
    "start_time": "2023-11-17T16:12:03.394Z"
   },
   {
    "duration": 2006,
    "start_time": "2023-11-17T16:24:30.990Z"
   },
   {
    "duration": 129495,
    "start_time": "2023-11-17T16:24:32.998Z"
   },
   {
    "duration": 795,
    "start_time": "2023-11-17T16:26:42.495Z"
   },
   {
    "duration": 94,
    "start_time": "2023-11-17T16:26:43.295Z"
   },
   {
    "duration": 259,
    "start_time": "2023-11-17T16:26:43.391Z"
   },
   {
    "duration": 0,
    "start_time": "2023-11-17T16:26:43.652Z"
   },
   {
    "duration": 0,
    "start_time": "2023-11-17T16:26:43.653Z"
   },
   {
    "duration": 0,
    "start_time": "2023-11-17T16:26:43.655Z"
   },
   {
    "duration": 0,
    "start_time": "2023-11-17T16:26:43.657Z"
   },
   {
    "duration": 11,
    "start_time": "2023-11-17T16:41:32.343Z"
   },
   {
    "duration": 25,
    "start_time": "2023-11-17T16:41:41.947Z"
   },
   {
    "duration": 0,
    "start_time": "2023-11-17T16:41:58.781Z"
   },
   {
    "duration": 97,
    "start_time": "2023-11-17T16:42:00.577Z"
   },
   {
    "duration": 13,
    "start_time": "2023-11-17T16:42:17.338Z"
   },
   {
    "duration": 139,
    "start_time": "2023-11-17T16:42:25.643Z"
   },
   {
    "duration": 225,
    "start_time": "2023-11-17T16:43:07.063Z"
   },
   {
    "duration": 27,
    "start_time": "2023-11-17T16:43:08.557Z"
   },
   {
    "duration": 18,
    "start_time": "2023-11-17T16:43:20.184Z"
   },
   {
    "duration": 2514,
    "start_time": "2023-11-17T16:43:31.818Z"
   },
   {
    "duration": 1268,
    "start_time": "2023-11-17T16:43:34.334Z"
   },
   {
    "duration": 2,
    "start_time": "2023-11-17T16:43:35.604Z"
   },
   {
    "duration": 11,
    "start_time": "2023-11-17T16:43:35.608Z"
   },
   {
    "duration": 907,
    "start_time": "2023-11-17T16:43:35.621Z"
   },
   {
    "duration": 3,
    "start_time": "2023-11-17T16:43:36.529Z"
   },
   {
    "duration": 6,
    "start_time": "2023-11-17T16:43:36.533Z"
   },
   {
    "duration": 3,
    "start_time": "2023-11-17T16:43:36.540Z"
   },
   {
    "duration": 1095,
    "start_time": "2023-11-17T16:43:36.544Z"
   },
   {
    "duration": 231,
    "start_time": "2023-11-17T16:43:37.641Z"
   },
   {
    "duration": 453,
    "start_time": "2023-11-17T16:43:37.880Z"
   },
   {
    "duration": 477,
    "start_time": "2023-11-17T16:43:38.334Z"
   },
   {
    "duration": 144,
    "start_time": "2023-11-17T16:43:38.813Z"
   },
   {
    "duration": 104,
    "start_time": "2023-11-17T16:43:38.973Z"
   },
   {
    "duration": 247,
    "start_time": "2023-11-17T16:43:39.079Z"
   },
   {
    "duration": 78,
    "start_time": "2023-11-17T16:43:39.327Z"
   },
   {
    "duration": 208,
    "start_time": "2023-11-17T16:43:39.407Z"
   },
   {
    "duration": 132,
    "start_time": "2023-11-17T16:43:39.617Z"
   },
   {
    "duration": 5,
    "start_time": "2023-11-17T16:43:39.750Z"
   },
   {
    "duration": 20,
    "start_time": "2023-11-17T16:43:39.768Z"
   },
   {
    "duration": 531,
    "start_time": "2023-11-17T16:43:39.789Z"
   },
   {
    "duration": 164,
    "start_time": "2023-11-17T16:43:40.321Z"
   },
   {
    "duration": 619,
    "start_time": "2023-11-17T16:43:40.486Z"
   },
   {
    "duration": 588,
    "start_time": "2023-11-17T16:43:41.107Z"
   },
   {
    "duration": 122,
    "start_time": "2023-11-17T16:43:41.697Z"
   },
   {
    "duration": 8,
    "start_time": "2023-11-17T16:43:41.821Z"
   },
   {
    "duration": 190,
    "start_time": "2023-11-17T16:43:41.831Z"
   },
   {
    "duration": 15,
    "start_time": "2023-11-17T16:43:42.023Z"
   },
   {
    "duration": 608,
    "start_time": "2023-11-17T16:43:42.039Z"
   },
   {
    "duration": 860,
    "start_time": "2023-11-17T16:43:42.649Z"
   },
   {
    "duration": 142,
    "start_time": "2023-11-17T16:43:43.510Z"
   },
   {
    "duration": 25,
    "start_time": "2023-11-17T16:43:43.654Z"
   },
   {
    "duration": 192,
    "start_time": "2023-11-17T16:43:43.682Z"
   },
   {
    "duration": 538,
    "start_time": "2023-11-17T16:43:43.877Z"
   },
   {
    "duration": 190,
    "start_time": "2023-11-17T16:43:44.417Z"
   },
   {
    "duration": 582,
    "start_time": "2023-11-17T16:43:44.609Z"
   },
   {
    "duration": 543,
    "start_time": "2023-11-17T16:43:45.193Z"
   },
   {
    "duration": 13,
    "start_time": "2023-11-17T16:43:45.737Z"
   },
   {
    "duration": 86,
    "start_time": "2023-11-17T16:43:45.752Z"
   },
   {
    "duration": 5,
    "start_time": "2023-11-17T16:43:45.840Z"
   },
   {
    "duration": 8,
    "start_time": "2023-11-17T16:43:45.865Z"
   },
   {
    "duration": 56,
    "start_time": "2023-11-17T16:43:45.875Z"
   },
   {
    "duration": 39,
    "start_time": "2023-11-17T16:43:45.933Z"
   },
   {
    "duration": 25,
    "start_time": "2023-11-17T16:43:45.974Z"
   },
   {
    "duration": 99,
    "start_time": "2023-11-17T16:43:46.001Z"
   },
   {
    "duration": 183,
    "start_time": "2023-11-17T16:43:46.102Z"
   },
   {
    "duration": 211,
    "start_time": "2023-11-17T16:43:46.287Z"
   },
   {
    "duration": 103,
    "start_time": "2023-11-17T16:43:46.499Z"
   },
   {
    "duration": 318,
    "start_time": "2023-11-17T16:43:46.604Z"
   },
   {
    "duration": 20,
    "start_time": "2023-11-17T16:43:46.924Z"
   },
   {
    "duration": 4,
    "start_time": "2023-11-17T16:43:46.945Z"
   },
   {
    "duration": 129728,
    "start_time": "2023-11-17T16:43:46.965Z"
   },
   {
    "duration": 880,
    "start_time": "2023-11-17T16:45:56.701Z"
   },
   {
    "duration": 4,
    "start_time": "2023-11-17T16:45:57.582Z"
   },
   {
    "duration": 963201,
    "start_time": "2023-11-17T16:45:57.588Z"
   },
   {
    "duration": 1497,
    "start_time": "2023-11-17T17:02:00.795Z"
   },
   {
    "duration": 4,
    "start_time": "2023-11-17T17:02:02.294Z"
   },
   {
    "duration": 771681,
    "start_time": "2023-11-17T17:02:02.299Z"
   },
   {
    "duration": 2205,
    "start_time": "2023-11-17T17:14:53.981Z"
   },
   {
    "duration": 132279,
    "start_time": "2023-11-17T17:14:56.188Z"
   },
   {
    "duration": 819,
    "start_time": "2023-11-17T17:17:08.469Z"
   },
   {
    "duration": 15,
    "start_time": "2023-11-17T17:17:09.290Z"
   },
   {
    "duration": 74,
    "start_time": "2023-11-17T17:17:09.307Z"
   },
   {
    "duration": 238,
    "start_time": "2023-11-17T17:17:09.382Z"
   },
   {
    "duration": 27770,
    "start_time": "2023-11-17T17:17:09.622Z"
   },
   {
    "duration": 37527,
    "start_time": "2023-11-17T17:17:37.394Z"
   },
   {
    "duration": 18,
    "start_time": "2023-11-17T17:18:14.923Z"
   },
   {
    "duration": 49,
    "start_time": "2023-11-17T17:18:14.943Z"
   },
   {
    "duration": 6282,
    "start_time": "2023-11-18T06:40:40.456Z"
   },
   {
    "duration": 1458,
    "start_time": "2023-11-18T06:40:46.740Z"
   },
   {
    "duration": 3,
    "start_time": "2023-11-18T06:40:48.199Z"
   },
   {
    "duration": 22,
    "start_time": "2023-11-18T06:40:48.204Z"
   },
   {
    "duration": 2927,
    "start_time": "2023-11-18T06:40:48.228Z"
   },
   {
    "duration": 3,
    "start_time": "2023-11-18T06:40:51.156Z"
   },
   {
    "duration": 6,
    "start_time": "2023-11-18T06:40:51.160Z"
   },
   {
    "duration": 2,
    "start_time": "2023-11-18T06:40:51.168Z"
   },
   {
    "duration": 1029,
    "start_time": "2023-11-18T06:40:51.172Z"
   },
   {
    "duration": 209,
    "start_time": "2023-11-18T06:40:52.203Z"
   },
   {
    "duration": 452,
    "start_time": "2023-11-18T06:40:52.413Z"
   },
   {
    "duration": 441,
    "start_time": "2023-11-18T06:40:52.866Z"
   },
   {
    "duration": 129,
    "start_time": "2023-11-18T06:40:53.308Z"
   },
   {
    "duration": 102,
    "start_time": "2023-11-18T06:40:53.438Z"
   },
   {
    "duration": 231,
    "start_time": "2023-11-18T06:40:53.541Z"
   },
   {
    "duration": 60,
    "start_time": "2023-11-18T06:40:53.773Z"
   },
   {
    "duration": 213,
    "start_time": "2023-11-18T06:40:53.835Z"
   },
   {
    "duration": 136,
    "start_time": "2023-11-18T06:40:54.050Z"
   },
   {
    "duration": 4,
    "start_time": "2023-11-18T06:40:54.188Z"
   },
   {
    "duration": 9,
    "start_time": "2023-11-18T06:40:54.193Z"
   },
   {
    "duration": 567,
    "start_time": "2023-11-18T06:40:54.204Z"
   },
   {
    "duration": 139,
    "start_time": "2023-11-18T06:40:54.773Z"
   },
   {
    "duration": 549,
    "start_time": "2023-11-18T06:40:54.913Z"
   },
   {
    "duration": 554,
    "start_time": "2023-11-18T06:40:55.463Z"
   },
   {
    "duration": 128,
    "start_time": "2023-11-18T06:40:56.019Z"
   },
   {
    "duration": 10,
    "start_time": "2023-11-18T06:40:56.149Z"
   },
   {
    "duration": 183,
    "start_time": "2023-11-18T06:40:56.160Z"
   },
   {
    "duration": 4,
    "start_time": "2023-11-18T06:40:56.355Z"
   },
   {
    "duration": 2275,
    "start_time": "2023-11-18T06:58:44.164Z"
   },
   {
    "duration": 4,
    "start_time": "2023-11-18T06:58:46.441Z"
   },
   {
    "duration": 20,
    "start_time": "2023-11-18T06:58:46.446Z"
   },
   {
    "duration": 8,
    "start_time": "2023-11-18T06:58:46.467Z"
   },
   {
    "duration": 845,
    "start_time": "2023-11-18T06:58:46.477Z"
   },
   {
    "duration": 3,
    "start_time": "2023-11-18T06:58:47.323Z"
   },
   {
    "duration": 7,
    "start_time": "2023-11-18T06:58:47.327Z"
   },
   {
    "duration": 8,
    "start_time": "2023-11-18T06:58:47.336Z"
   },
   {
    "duration": 996,
    "start_time": "2023-11-18T06:58:47.345Z"
   },
   {
    "duration": 209,
    "start_time": "2023-11-18T06:58:48.343Z"
   },
   {
    "duration": 420,
    "start_time": "2023-11-18T06:58:48.554Z"
   },
   {
    "duration": 424,
    "start_time": "2023-11-18T06:58:48.975Z"
   },
   {
    "duration": 132,
    "start_time": "2023-11-18T06:58:49.400Z"
   },
   {
    "duration": 96,
    "start_time": "2023-11-18T06:58:49.535Z"
   },
   {
    "duration": 224,
    "start_time": "2023-11-18T06:58:49.632Z"
   },
   {
    "duration": 62,
    "start_time": "2023-11-18T06:58:49.857Z"
   },
   {
    "duration": 205,
    "start_time": "2023-11-18T06:58:49.920Z"
   },
   {
    "duration": 135,
    "start_time": "2023-11-18T06:58:50.126Z"
   },
   {
    "duration": 4,
    "start_time": "2023-11-18T06:58:50.263Z"
   },
   {
    "duration": 43,
    "start_time": "2023-11-18T06:58:50.268Z"
   },
   {
    "duration": 563,
    "start_time": "2023-11-18T06:58:50.312Z"
   },
   {
    "duration": 147,
    "start_time": "2023-11-18T06:58:50.876Z"
   },
   {
    "duration": 585,
    "start_time": "2023-11-18T06:58:51.024Z"
   },
   {
    "duration": 510,
    "start_time": "2023-11-18T06:58:51.611Z"
   },
   {
    "duration": 118,
    "start_time": "2023-11-18T06:58:52.123Z"
   },
   {
    "duration": 17,
    "start_time": "2023-11-18T06:58:52.244Z"
   },
   {
    "duration": 271,
    "start_time": "2023-11-18T06:58:52.263Z"
   },
   {
    "duration": 5,
    "start_time": "2023-11-18T06:58:52.535Z"
   },
   {
    "duration": 28,
    "start_time": "2023-11-18T06:58:52.541Z"
   },
   {
    "duration": 553,
    "start_time": "2023-11-18T06:58:52.570Z"
   },
   {
    "duration": 813,
    "start_time": "2023-11-18T06:58:53.124Z"
   },
   {
    "duration": 139,
    "start_time": "2023-11-18T06:58:53.938Z"
   },
   {
    "duration": 17,
    "start_time": "2023-11-18T06:58:54.078Z"
   },
   {
    "duration": 180,
    "start_time": "2023-11-18T06:58:54.097Z"
   },
   {
    "duration": 435,
    "start_time": "2023-11-18T06:58:54.279Z"
   },
   {
    "duration": 171,
    "start_time": "2023-11-18T06:58:54.716Z"
   },
   {
    "duration": 539,
    "start_time": "2023-11-18T06:58:54.890Z"
   },
   {
    "duration": 579,
    "start_time": "2023-11-18T06:58:55.431Z"
   },
   {
    "duration": 13,
    "start_time": "2023-11-18T06:58:56.011Z"
   },
   {
    "duration": 108,
    "start_time": "2023-11-18T06:58:56.025Z"
   },
   {
    "duration": 39,
    "start_time": "2023-11-18T06:58:56.136Z"
   },
   {
    "duration": 24,
    "start_time": "2023-11-18T06:58:56.176Z"
   },
   {
    "duration": 87,
    "start_time": "2023-11-18T06:58:56.202Z"
   },
   {
    "duration": 15,
    "start_time": "2023-11-18T06:58:56.290Z"
   },
   {
    "duration": 45,
    "start_time": "2023-11-18T06:58:56.307Z"
   },
   {
    "duration": 126,
    "start_time": "2023-11-18T06:58:56.353Z"
   },
   {
    "duration": 154,
    "start_time": "2023-11-18T06:58:56.481Z"
   },
   {
    "duration": 208,
    "start_time": "2023-11-18T06:58:56.636Z"
   },
   {
    "duration": 80,
    "start_time": "2023-11-18T06:58:56.846Z"
   },
   {
    "duration": 109,
    "start_time": "2023-11-18T06:59:59.398Z"
   },
   {
    "duration": 290,
    "start_time": "2023-11-18T07:00:49.288Z"
   },
   {
    "duration": 13,
    "start_time": "2023-11-18T07:01:09.508Z"
   },
   {
    "duration": 21,
    "start_time": "2023-11-18T07:01:12.439Z"
   },
   {
    "duration": 211,
    "start_time": "2023-11-18T07:01:15.688Z"
   },
   {
    "duration": 116,
    "start_time": "2023-11-18T07:08:28.384Z"
   },
   {
    "duration": 50,
    "start_time": "2023-11-18T10:40:29.434Z"
   },
   {
    "duration": 7069,
    "start_time": "2023-11-18T10:40:34.338Z"
   },
   {
    "duration": 1595,
    "start_time": "2023-11-18T10:40:41.409Z"
   },
   {
    "duration": 2,
    "start_time": "2023-11-18T10:40:43.007Z"
   },
   {
    "duration": 7,
    "start_time": "2023-11-18T10:40:43.012Z"
   },
   {
    "duration": 3011,
    "start_time": "2023-11-18T10:40:43.021Z"
   },
   {
    "duration": 4,
    "start_time": "2023-11-18T10:40:46.034Z"
   },
   {
    "duration": 16,
    "start_time": "2023-11-18T10:40:46.040Z"
   },
   {
    "duration": 8,
    "start_time": "2023-11-18T10:40:46.058Z"
   },
   {
    "duration": 1175,
    "start_time": "2023-11-18T10:40:46.068Z"
   },
   {
    "duration": 250,
    "start_time": "2023-11-18T10:40:47.247Z"
   },
   {
    "duration": 505,
    "start_time": "2023-11-18T10:40:47.500Z"
   },
   {
    "duration": 522,
    "start_time": "2023-11-18T10:40:48.007Z"
   },
   {
    "duration": 170,
    "start_time": "2023-11-18T10:40:48.530Z"
   },
   {
    "duration": 112,
    "start_time": "2023-11-18T10:40:48.702Z"
   },
   {
    "duration": 267,
    "start_time": "2023-11-18T10:40:48.815Z"
   },
   {
    "duration": 78,
    "start_time": "2023-11-18T10:40:49.084Z"
   },
   {
    "duration": 245,
    "start_time": "2023-11-18T10:40:49.165Z"
   },
   {
    "duration": 155,
    "start_time": "2023-11-18T10:40:49.412Z"
   },
   {
    "duration": 5,
    "start_time": "2023-11-18T10:40:49.569Z"
   },
   {
    "duration": 7,
    "start_time": "2023-11-18T10:40:49.575Z"
   },
   {
    "duration": 672,
    "start_time": "2023-11-18T10:40:49.583Z"
   },
   {
    "duration": 171,
    "start_time": "2023-11-18T10:40:50.257Z"
   },
   {
    "duration": 700,
    "start_time": "2023-11-18T10:40:50.430Z"
   },
   {
    "duration": 569,
    "start_time": "2023-11-18T10:40:51.132Z"
   },
   {
    "duration": 154,
    "start_time": "2023-11-18T10:40:51.703Z"
   },
   {
    "duration": 9,
    "start_time": "2023-11-18T10:40:51.859Z"
   },
   {
    "duration": 235,
    "start_time": "2023-11-18T10:40:51.869Z"
   },
   {
    "duration": 5,
    "start_time": "2023-11-18T10:40:52.107Z"
   },
   {
    "duration": 64,
    "start_time": "2023-11-18T10:40:52.113Z"
   },
   {
    "duration": 31,
    "start_time": "2023-11-18T10:40:52.179Z"
   },
   {
    "duration": 2663,
    "start_time": "2023-11-18T10:44:02.696Z"
   },
   {
    "duration": 1377,
    "start_time": "2023-11-18T10:44:05.362Z"
   },
   {
    "duration": 3,
    "start_time": "2023-11-18T10:44:06.740Z"
   },
   {
    "duration": 9,
    "start_time": "2023-11-18T10:44:06.745Z"
   },
   {
    "duration": 1001,
    "start_time": "2023-11-18T10:44:06.756Z"
   },
   {
    "duration": 3,
    "start_time": "2023-11-18T10:44:07.759Z"
   },
   {
    "duration": 6,
    "start_time": "2023-11-18T10:44:07.763Z"
   },
   {
    "duration": 4,
    "start_time": "2023-11-18T10:44:07.771Z"
   },
   {
    "duration": 1198,
    "start_time": "2023-11-18T10:44:07.777Z"
   },
   {
    "duration": 249,
    "start_time": "2023-11-18T10:44:08.977Z"
   },
   {
    "duration": 521,
    "start_time": "2023-11-18T10:44:09.228Z"
   },
   {
    "duration": 552,
    "start_time": "2023-11-18T10:44:09.752Z"
   },
   {
    "duration": 152,
    "start_time": "2023-11-18T10:44:10.306Z"
   },
   {
    "duration": 152,
    "start_time": "2023-11-18T10:44:10.460Z"
   },
   {
    "duration": 266,
    "start_time": "2023-11-18T10:44:10.614Z"
   },
   {
    "duration": 138,
    "start_time": "2023-11-18T10:44:10.881Z"
   },
   {
    "duration": 402,
    "start_time": "2023-11-18T10:44:11.021Z"
   },
   {
    "duration": 158,
    "start_time": "2023-11-18T10:44:11.425Z"
   },
   {
    "duration": 6,
    "start_time": "2023-11-18T10:44:11.584Z"
   },
   {
    "duration": 7,
    "start_time": "2023-11-18T10:44:11.600Z"
   },
   {
    "duration": 602,
    "start_time": "2023-11-18T10:44:11.608Z"
   },
   {
    "duration": 167,
    "start_time": "2023-11-18T10:44:12.211Z"
   },
   {
    "duration": 653,
    "start_time": "2023-11-18T10:44:12.379Z"
   },
   {
    "duration": 599,
    "start_time": "2023-11-18T10:44:13.033Z"
   },
   {
    "duration": 134,
    "start_time": "2023-11-18T10:44:13.634Z"
   },
   {
    "duration": 10,
    "start_time": "2023-11-18T10:44:13.769Z"
   },
   {
    "duration": 208,
    "start_time": "2023-11-18T10:44:13.780Z"
   },
   {
    "duration": 10,
    "start_time": "2023-11-18T10:44:13.992Z"
   },
   {
    "duration": 66,
    "start_time": "2023-11-18T10:44:14.003Z"
   },
   {
    "duration": 30,
    "start_time": "2023-11-18T10:44:14.071Z"
   },
   {
    "duration": 604,
    "start_time": "2023-11-18T10:44:14.103Z"
   },
   {
    "duration": 909,
    "start_time": "2023-11-18T10:44:14.710Z"
   },
   {
    "duration": 154,
    "start_time": "2023-11-18T10:44:15.621Z"
   },
   {
    "duration": 26,
    "start_time": "2023-11-18T10:44:15.776Z"
   },
   {
    "duration": 201,
    "start_time": "2023-11-18T10:44:15.804Z"
   },
   {
    "duration": 550,
    "start_time": "2023-11-18T10:44:16.007Z"
   },
   {
    "duration": 209,
    "start_time": "2023-11-18T10:44:16.559Z"
   },
   {
    "duration": 576,
    "start_time": "2023-11-18T10:44:16.770Z"
   },
   {
    "duration": 564,
    "start_time": "2023-11-18T10:44:17.348Z"
   },
   {
    "duration": 14,
    "start_time": "2023-11-18T10:44:17.913Z"
   },
   {
    "duration": 94,
    "start_time": "2023-11-18T10:44:17.929Z"
   },
   {
    "duration": 167,
    "start_time": "2023-11-18T10:44:18.025Z"
   },
   {
    "duration": 8,
    "start_time": "2023-11-18T10:44:18.194Z"
   },
   {
    "duration": 9,
    "start_time": "2023-11-18T10:44:18.203Z"
   },
   {
    "duration": 52,
    "start_time": "2023-11-18T10:44:18.213Z"
   },
   {
    "duration": 37,
    "start_time": "2023-11-18T10:44:18.267Z"
   },
   {
    "duration": 14,
    "start_time": "2023-11-18T10:44:18.306Z"
   },
   {
    "duration": 114,
    "start_time": "2023-11-18T10:44:18.322Z"
   },
   {
    "duration": 194,
    "start_time": "2023-11-18T10:44:18.438Z"
   },
   {
    "duration": 236,
    "start_time": "2023-11-18T10:44:18.634Z"
   },
   {
    "duration": 98,
    "start_time": "2023-11-18T10:44:18.872Z"
   },
   {
    "duration": 342,
    "start_time": "2023-11-18T10:44:18.973Z"
   },
   {
    "duration": 21,
    "start_time": "2023-11-18T10:44:19.317Z"
   },
   {
    "duration": 73,
    "start_time": "2023-11-18T10:44:19.340Z"
   },
   {
    "duration": 9985,
    "start_time": "2023-11-18T10:44:19.415Z"
   },
   {
    "duration": 901,
    "start_time": "2023-11-18T10:44:29.402Z"
   },
   {
    "duration": 3,
    "start_time": "2023-11-18T10:44:30.305Z"
   },
   {
    "duration": 7794,
    "start_time": "2023-11-18T10:44:30.310Z"
   },
   {
    "duration": 1604,
    "start_time": "2023-11-18T10:44:38.105Z"
   },
   {
    "duration": 3,
    "start_time": "2023-11-18T10:44:39.710Z"
   },
   {
    "duration": 8786,
    "start_time": "2023-11-18T10:44:39.715Z"
   },
   {
    "duration": 2199,
    "start_time": "2023-11-18T10:44:48.503Z"
   },
   {
    "duration": 4100,
    "start_time": "2023-11-18T10:44:50.703Z"
   },
   {
    "duration": 809,
    "start_time": "2023-11-18T10:44:54.804Z"
   },
   {
    "duration": 18,
    "start_time": "2023-11-18T10:44:55.614Z"
   },
   {
    "duration": 81,
    "start_time": "2023-11-18T10:44:55.633Z"
   },
   {
    "duration": 254,
    "start_time": "2023-11-18T10:44:55.716Z"
   },
   {
    "duration": 27686,
    "start_time": "2023-11-18T10:44:55.972Z"
   },
   {
    "duration": 36779,
    "start_time": "2023-11-18T10:45:23.660Z"
   },
   {
    "duration": 20,
    "start_time": "2023-11-18T10:46:00.440Z"
   },
   {
    "duration": 86,
    "start_time": "2023-11-18T10:46:00.461Z"
   },
   {
    "duration": 2569,
    "start_time": "2023-11-18T10:47:06.140Z"
   },
   {
    "duration": 1404,
    "start_time": "2023-11-18T10:47:08.711Z"
   },
   {
    "duration": 2,
    "start_time": "2023-11-18T10:47:10.117Z"
   },
   {
    "duration": 11,
    "start_time": "2023-11-18T10:47:10.121Z"
   },
   {
    "duration": 967,
    "start_time": "2023-11-18T10:47:10.133Z"
   },
   {
    "duration": 3,
    "start_time": "2023-11-18T10:47:11.102Z"
   },
   {
    "duration": 30,
    "start_time": "2023-11-18T10:47:11.107Z"
   },
   {
    "duration": 34,
    "start_time": "2023-11-18T10:47:11.139Z"
   },
   {
    "duration": 1224,
    "start_time": "2023-11-18T10:47:11.175Z"
   },
   {
    "duration": 245,
    "start_time": "2023-11-18T10:47:12.402Z"
   },
   {
    "duration": 525,
    "start_time": "2023-11-18T10:47:12.649Z"
   },
   {
    "duration": 517,
    "start_time": "2023-11-18T10:47:13.176Z"
   },
   {
    "duration": 152,
    "start_time": "2023-11-18T10:47:13.699Z"
   },
   {
    "duration": 113,
    "start_time": "2023-11-18T10:47:13.852Z"
   },
   {
    "duration": 280,
    "start_time": "2023-11-18T10:47:13.967Z"
   },
   {
    "duration": 77,
    "start_time": "2023-11-18T10:47:14.249Z"
   },
   {
    "duration": 245,
    "start_time": "2023-11-18T10:47:14.327Z"
   },
   {
    "duration": 159,
    "start_time": "2023-11-18T10:47:14.574Z"
   },
   {
    "duration": 10,
    "start_time": "2023-11-18T10:47:14.735Z"
   },
   {
    "duration": 13,
    "start_time": "2023-11-18T10:47:14.746Z"
   },
   {
    "duration": 557,
    "start_time": "2023-11-18T10:47:14.760Z"
   },
   {
    "duration": 168,
    "start_time": "2023-11-18T10:47:15.319Z"
   },
   {
    "duration": 650,
    "start_time": "2023-11-18T10:47:15.489Z"
   },
   {
    "duration": 635,
    "start_time": "2023-11-18T10:47:16.140Z"
   },
   {
    "duration": 148,
    "start_time": "2023-11-18T10:47:16.777Z"
   },
   {
    "duration": 10,
    "start_time": "2023-11-18T10:47:16.927Z"
   },
   {
    "duration": 207,
    "start_time": "2023-11-18T10:47:16.939Z"
   },
   {
    "duration": 4,
    "start_time": "2023-11-18T10:47:17.151Z"
   },
   {
    "duration": 73,
    "start_time": "2023-11-18T10:47:17.156Z"
   },
   {
    "duration": 18,
    "start_time": "2023-11-18T10:47:17.231Z"
   },
   {
    "duration": 605,
    "start_time": "2023-11-18T10:47:17.251Z"
   },
   {
    "duration": 928,
    "start_time": "2023-11-18T10:47:17.858Z"
   },
   {
    "duration": 149,
    "start_time": "2023-11-18T10:47:18.788Z"
   },
   {
    "duration": 18,
    "start_time": "2023-11-18T10:47:18.938Z"
   },
   {
    "duration": 203,
    "start_time": "2023-11-18T10:47:18.958Z"
   },
   {
    "duration": 577,
    "start_time": "2023-11-18T10:47:19.163Z"
   },
   {
    "duration": 215,
    "start_time": "2023-11-18T10:47:19.742Z"
   },
   {
    "duration": 573,
    "start_time": "2023-11-18T10:47:19.959Z"
   },
   {
    "duration": 537,
    "start_time": "2023-11-18T10:47:20.534Z"
   },
   {
    "duration": 14,
    "start_time": "2023-11-18T10:47:21.073Z"
   },
   {
    "duration": 79,
    "start_time": "2023-11-18T10:47:21.100Z"
   },
   {
    "duration": 175,
    "start_time": "2023-11-18T10:47:21.181Z"
   },
   {
    "duration": 7,
    "start_time": "2023-11-18T10:47:21.359Z"
   },
   {
    "duration": 26,
    "start_time": "2023-11-18T10:47:21.367Z"
   },
   {
    "duration": 51,
    "start_time": "2023-11-18T10:47:21.399Z"
   },
   {
    "duration": 10,
    "start_time": "2023-11-18T10:47:21.452Z"
   },
   {
    "duration": 32,
    "start_time": "2023-11-18T10:47:21.464Z"
   },
   {
    "duration": 116,
    "start_time": "2023-11-18T10:47:21.500Z"
   },
   {
    "duration": 190,
    "start_time": "2023-11-18T10:47:21.617Z"
   },
   {
    "duration": 247,
    "start_time": "2023-11-18T10:47:21.809Z"
   },
   {
    "duration": 103,
    "start_time": "2023-11-18T10:47:22.057Z"
   },
   {
    "duration": 325,
    "start_time": "2023-11-18T10:47:22.162Z"
   },
   {
    "duration": 26,
    "start_time": "2023-11-18T10:47:22.489Z"
   },
   {
    "duration": 8,
    "start_time": "2023-11-18T10:47:22.516Z"
   },
   {
    "duration": 13277,
    "start_time": "2023-11-18T10:47:22.526Z"
   },
   {
    "duration": 902,
    "start_time": "2023-11-18T10:47:35.805Z"
   },
   {
    "duration": 3,
    "start_time": "2023-11-18T10:47:36.709Z"
   },
   {
    "duration": 7896,
    "start_time": "2023-11-18T10:47:36.713Z"
   },
   {
    "duration": 1593,
    "start_time": "2023-11-18T10:47:44.610Z"
   },
   {
    "duration": 4,
    "start_time": "2023-11-18T10:47:46.205Z"
   },
   {
    "duration": 7509,
    "start_time": "2023-11-18T10:47:46.210Z"
   },
   {
    "duration": 2194,
    "start_time": "2023-11-18T10:47:53.720Z"
   },
   {
    "duration": 4195,
    "start_time": "2023-11-18T10:47:55.915Z"
   },
   {
    "duration": 805,
    "start_time": "2023-11-18T10:48:00.199Z"
   },
   {
    "duration": 17,
    "start_time": "2023-11-18T10:48:01.005Z"
   },
   {
    "duration": 63,
    "start_time": "2023-11-18T10:48:01.024Z"
   },
   {
    "duration": 320,
    "start_time": "2023-11-18T10:48:01.088Z"
   },
   {
    "duration": 27986,
    "start_time": "2023-11-18T10:48:01.410Z"
   },
   {
    "duration": 36066,
    "start_time": "2023-11-18T10:48:29.397Z"
   },
   {
    "duration": 18,
    "start_time": "2023-11-18T10:49:05.465Z"
   },
   {
    "duration": 22,
    "start_time": "2023-11-18T10:49:05.485Z"
   },
   {
    "duration": 37,
    "start_time": "2023-11-18T10:51:47.915Z"
   },
   {
    "duration": 15,
    "start_time": "2023-11-18T10:51:56.467Z"
   },
   {
    "duration": 247,
    "start_time": "2023-11-18T12:22:26.603Z"
   },
   {
    "duration": 15,
    "start_time": "2023-11-18T12:22:33.468Z"
   },
   {
    "duration": 26513,
    "start_time": "2023-11-18T12:22:51.688Z"
   },
   {
    "duration": 35849,
    "start_time": "2023-11-18T12:24:15.791Z"
   },
   {
    "duration": 7476,
    "start_time": "2023-11-18T12:25:16.542Z"
   },
   {
    "duration": 10243,
    "start_time": "2023-11-18T12:25:38.760Z"
   },
   {
    "duration": 196,
    "start_time": "2023-11-18T12:25:49.005Z"
   },
   {
    "duration": 760,
    "start_time": "2023-11-18T12:26:30.751Z"
   },
   {
    "duration": 135,
    "start_time": "2023-11-18T12:26:50.569Z"
   },
   {
    "duration": 618,
    "start_time": "2023-11-18T12:27:11.484Z"
   },
   {
    "duration": 797,
    "start_time": "2023-11-18T12:27:32.716Z"
   },
   {
    "duration": 3,
    "start_time": "2023-11-18T12:28:46.325Z"
   },
   {
    "duration": 2696,
    "start_time": "2023-11-18T12:29:27.787Z"
   },
   {
    "duration": 1440,
    "start_time": "2023-11-18T12:29:30.485Z"
   },
   {
    "duration": 3,
    "start_time": "2023-11-18T12:29:31.927Z"
   },
   {
    "duration": 82,
    "start_time": "2023-11-18T12:29:31.932Z"
   },
   {
    "duration": 1053,
    "start_time": "2023-11-18T12:29:32.016Z"
   },
   {
    "duration": 3,
    "start_time": "2023-11-18T12:29:33.071Z"
   },
   {
    "duration": 148,
    "start_time": "2023-11-18T12:29:33.077Z"
   },
   {
    "duration": 10,
    "start_time": "2023-11-18T12:29:33.227Z"
   },
   {
    "duration": 1313,
    "start_time": "2023-11-18T12:29:33.239Z"
   },
   {
    "duration": 261,
    "start_time": "2023-11-18T12:29:34.555Z"
   },
   {
    "duration": 516,
    "start_time": "2023-11-18T12:29:34.817Z"
   },
   {
    "duration": 523,
    "start_time": "2023-11-18T12:29:35.335Z"
   },
   {
    "duration": 162,
    "start_time": "2023-11-18T12:29:35.860Z"
   },
   {
    "duration": 119,
    "start_time": "2023-11-18T12:29:36.024Z"
   },
   {
    "duration": 276,
    "start_time": "2023-11-18T12:29:36.146Z"
   },
   {
    "duration": 80,
    "start_time": "2023-11-18T12:29:36.425Z"
   },
   {
    "duration": 238,
    "start_time": "2023-11-18T12:29:36.507Z"
   },
   {
    "duration": 161,
    "start_time": "2023-11-18T12:29:36.747Z"
   },
   {
    "duration": 5,
    "start_time": "2023-11-18T12:29:36.909Z"
   },
   {
    "duration": 5,
    "start_time": "2023-11-18T12:29:36.915Z"
   },
   {
    "duration": 600,
    "start_time": "2023-11-18T12:29:36.922Z"
   },
   {
    "duration": 178,
    "start_time": "2023-11-18T12:29:37.523Z"
   },
   {
    "duration": 650,
    "start_time": "2023-11-18T12:29:37.703Z"
   },
   {
    "duration": 639,
    "start_time": "2023-11-18T12:29:38.354Z"
   },
   {
    "duration": 131,
    "start_time": "2023-11-18T12:29:38.994Z"
   },
   {
    "duration": 10,
    "start_time": "2023-11-18T12:29:39.127Z"
   },
   {
    "duration": 222,
    "start_time": "2023-11-18T12:29:39.138Z"
   },
   {
    "duration": 5,
    "start_time": "2023-11-18T12:29:39.364Z"
   },
   {
    "duration": 74,
    "start_time": "2023-11-18T12:29:39.370Z"
   },
   {
    "duration": 21,
    "start_time": "2023-11-18T12:29:39.446Z"
   },
   {
    "duration": 639,
    "start_time": "2023-11-18T12:29:39.469Z"
   },
   {
    "duration": 865,
    "start_time": "2023-11-18T12:29:40.110Z"
   },
   {
    "duration": 177,
    "start_time": "2023-11-18T12:29:40.976Z"
   },
   {
    "duration": 21,
    "start_time": "2023-11-18T12:29:41.154Z"
   },
   {
    "duration": 201,
    "start_time": "2023-11-18T12:29:41.176Z"
   },
   {
    "duration": 563,
    "start_time": "2023-11-18T12:29:41.379Z"
   },
   {
    "duration": 217,
    "start_time": "2023-11-18T12:29:41.943Z"
   },
   {
    "duration": 554,
    "start_time": "2023-11-18T12:29:42.162Z"
   },
   {
    "duration": 564,
    "start_time": "2023-11-18T12:29:42.718Z"
   },
   {
    "duration": 18,
    "start_time": "2023-11-18T12:29:43.284Z"
   },
   {
    "duration": 76,
    "start_time": "2023-11-18T12:29:43.304Z"
   },
   {
    "duration": 167,
    "start_time": "2023-11-18T12:29:43.382Z"
   },
   {
    "duration": 5,
    "start_time": "2023-11-18T12:29:43.551Z"
   },
   {
    "duration": 27,
    "start_time": "2023-11-18T12:29:43.557Z"
   },
   {
    "duration": 51,
    "start_time": "2023-11-18T12:29:43.586Z"
   },
   {
    "duration": 10,
    "start_time": "2023-11-18T12:29:43.638Z"
   },
   {
    "duration": 18,
    "start_time": "2023-11-18T12:29:43.650Z"
   },
   {
    "duration": 120,
    "start_time": "2023-11-18T12:29:43.670Z"
   },
   {
    "duration": 190,
    "start_time": "2023-11-18T12:29:43.791Z"
   },
   {
    "duration": 251,
    "start_time": "2023-11-18T12:29:43.983Z"
   },
   {
    "duration": 105,
    "start_time": "2023-11-18T12:29:44.235Z"
   },
   {
    "duration": 323,
    "start_time": "2023-11-18T12:29:44.341Z"
   },
   {
    "duration": 19,
    "start_time": "2023-11-18T12:29:44.666Z"
   },
   {
    "duration": 23,
    "start_time": "2023-11-18T12:29:44.687Z"
   },
   {
    "duration": 3796,
    "start_time": "2023-11-18T12:29:44.712Z"
   },
   {
    "duration": 902,
    "start_time": "2023-11-18T12:29:48.510Z"
   },
   {
    "duration": 3,
    "start_time": "2023-11-18T12:29:49.413Z"
   },
   {
    "duration": 9894,
    "start_time": "2023-11-18T12:29:49.418Z"
   },
   {
    "duration": 1592,
    "start_time": "2023-11-18T12:29:59.313Z"
   },
   {
    "duration": 3,
    "start_time": "2023-11-18T12:30:00.907Z"
   },
   {
    "duration": 8601,
    "start_time": "2023-11-18T12:30:00.911Z"
   },
   {
    "duration": 2295,
    "start_time": "2023-11-18T12:30:09.514Z"
   },
   {
    "duration": 3,
    "start_time": "2023-11-18T12:30:11.810Z"
   },
   {
    "duration": 98,
    "start_time": "2023-11-18T12:30:11.814Z"
   },
   {
    "duration": 42,
    "start_time": "2023-11-18T12:30:11.913Z"
   },
   {
    "duration": 364,
    "start_time": "2023-11-18T12:30:12.003Z"
   },
   {
    "duration": 16,
    "start_time": "2023-11-18T12:30:12.368Z"
   },
   {
    "duration": 26835,
    "start_time": "2023-11-18T12:30:12.385Z"
   },
   {
    "duration": 36474,
    "start_time": "2023-11-18T12:30:39.222Z"
   },
   {
    "duration": 7673,
    "start_time": "2023-11-18T12:31:15.697Z"
   },
   {
    "duration": 12136,
    "start_time": "2023-11-18T12:31:23.373Z"
   },
   {
    "duration": 199,
    "start_time": "2023-11-18T12:31:35.601Z"
   },
   {
    "duration": 906,
    "start_time": "2023-11-18T12:31:35.804Z"
   },
   {
    "duration": 786,
    "start_time": "2023-11-18T12:37:38.649Z"
   },
   {
    "duration": 812,
    "start_time": "2023-11-18T12:37:45.689Z"
   },
   {
    "duration": 310,
    "start_time": "2023-11-18T12:37:55.210Z"
   },
   {
    "duration": 186,
    "start_time": "2023-11-18T12:38:00.421Z"
   },
   {
    "duration": 648,
    "start_time": "2023-11-18T12:38:08.986Z"
   },
   {
    "duration": 191,
    "start_time": "2023-11-18T12:42:30.117Z"
   },
   {
    "duration": 587,
    "start_time": "2023-11-18T12:43:07.321Z"
   },
   {
    "duration": 203,
    "start_time": "2023-11-18T12:43:15.705Z"
   },
   {
    "duration": 10777,
    "start_time": "2023-11-18T12:43:19.434Z"
   },
   {
    "duration": 299,
    "start_time": "2023-11-18T12:43:30.301Z"
   },
   {
    "duration": 2107,
    "start_time": "2023-11-18T12:48:35.138Z"
   },
   {
    "duration": 2081,
    "start_time": "2023-11-18T12:48:39.121Z"
   },
   {
    "duration": 13,
    "start_time": "2023-11-18T12:59:25.562Z"
   },
   {
    "duration": 16,
    "start_time": "2023-11-18T12:59:30.490Z"
   },
   {
    "duration": 29,
    "start_time": "2023-11-18T12:59:38.331Z"
   },
   {
    "duration": 2639,
    "start_time": "2023-11-18T13:11:05.471Z"
   },
   {
    "duration": 1391,
    "start_time": "2023-11-18T13:11:08.113Z"
   },
   {
    "duration": 3,
    "start_time": "2023-11-18T13:11:09.506Z"
   },
   {
    "duration": 13,
    "start_time": "2023-11-18T13:11:09.511Z"
   },
   {
    "duration": 1008,
    "start_time": "2023-11-18T13:11:09.526Z"
   },
   {
    "duration": 3,
    "start_time": "2023-11-18T13:11:10.536Z"
   },
   {
    "duration": 21,
    "start_time": "2023-11-18T13:11:10.541Z"
   },
   {
    "duration": 15,
    "start_time": "2023-11-18T13:11:10.564Z"
   },
   {
    "duration": 1248,
    "start_time": "2023-11-18T13:11:10.581Z"
   },
   {
    "duration": 276,
    "start_time": "2023-11-18T13:11:11.832Z"
   },
   {
    "duration": 535,
    "start_time": "2023-11-18T13:11:12.109Z"
   },
   {
    "duration": 555,
    "start_time": "2023-11-18T13:11:12.645Z"
   },
   {
    "duration": 162,
    "start_time": "2023-11-18T13:11:13.201Z"
   },
   {
    "duration": 116,
    "start_time": "2023-11-18T13:11:13.364Z"
   },
   {
    "duration": 280,
    "start_time": "2023-11-18T13:11:13.481Z"
   },
   {
    "duration": 78,
    "start_time": "2023-11-18T13:11:13.763Z"
   },
   {
    "duration": 245,
    "start_time": "2023-11-18T13:11:13.843Z"
   },
   {
    "duration": 167,
    "start_time": "2023-11-18T13:11:14.090Z"
   },
   {
    "duration": 5,
    "start_time": "2023-11-18T13:11:14.259Z"
   },
   {
    "duration": 5,
    "start_time": "2023-11-18T13:11:14.265Z"
   },
   {
    "duration": 577,
    "start_time": "2023-11-18T13:11:14.271Z"
   },
   {
    "duration": 178,
    "start_time": "2023-11-18T13:11:14.850Z"
   },
   {
    "duration": 629,
    "start_time": "2023-11-18T13:11:15.030Z"
   },
   {
    "duration": 640,
    "start_time": "2023-11-18T13:11:15.661Z"
   },
   {
    "duration": 137,
    "start_time": "2023-11-18T13:11:16.303Z"
   },
   {
    "duration": 10,
    "start_time": "2023-11-18T13:11:16.441Z"
   },
   {
    "duration": 210,
    "start_time": "2023-11-18T13:11:16.453Z"
   },
   {
    "duration": 6,
    "start_time": "2023-11-18T13:11:16.668Z"
   },
   {
    "duration": 79,
    "start_time": "2023-11-18T13:11:16.675Z"
   },
   {
    "duration": 19,
    "start_time": "2023-11-18T13:11:16.756Z"
   },
   {
    "duration": 626,
    "start_time": "2023-11-18T13:11:16.777Z"
   },
   {
    "duration": 895,
    "start_time": "2023-11-18T13:11:17.405Z"
   },
   {
    "duration": 153,
    "start_time": "2023-11-18T13:11:18.301Z"
   },
   {
    "duration": 18,
    "start_time": "2023-11-18T13:11:18.456Z"
   },
   {
    "duration": 202,
    "start_time": "2023-11-18T13:11:18.476Z"
   },
   {
    "duration": 572,
    "start_time": "2023-11-18T13:11:18.679Z"
   },
   {
    "duration": 209,
    "start_time": "2023-11-18T13:11:19.253Z"
   },
   {
    "duration": 575,
    "start_time": "2023-11-18T13:11:19.464Z"
   },
   {
    "duration": 537,
    "start_time": "2023-11-18T13:11:20.040Z"
   },
   {
    "duration": 14,
    "start_time": "2023-11-18T13:11:20.579Z"
   },
   {
    "duration": 76,
    "start_time": "2023-11-18T13:11:20.600Z"
   },
   {
    "duration": 173,
    "start_time": "2023-11-18T13:11:20.678Z"
   },
   {
    "duration": 6,
    "start_time": "2023-11-18T13:11:20.852Z"
   },
   {
    "duration": 10,
    "start_time": "2023-11-18T13:11:20.859Z"
   },
   {
    "duration": 70,
    "start_time": "2023-11-18T13:11:20.870Z"
   },
   {
    "duration": 10,
    "start_time": "2023-11-18T13:11:20.942Z"
   },
   {
    "duration": 35,
    "start_time": "2023-11-18T13:11:20.953Z"
   },
   {
    "duration": 103,
    "start_time": "2023-11-18T13:11:20.990Z"
   },
   {
    "duration": 207,
    "start_time": "2023-11-18T13:11:21.094Z"
   },
   {
    "duration": 242,
    "start_time": "2023-11-18T13:11:21.302Z"
   },
   {
    "duration": 103,
    "start_time": "2023-11-18T13:11:21.546Z"
   },
   {
    "duration": 322,
    "start_time": "2023-11-18T13:11:21.651Z"
   },
   {
    "duration": 25,
    "start_time": "2023-11-18T13:11:21.975Z"
   },
   {
    "duration": 3,
    "start_time": "2023-11-18T13:11:22.002Z"
   },
   {
    "duration": 3499,
    "start_time": "2023-11-18T13:11:22.006Z"
   },
   {
    "duration": 902,
    "start_time": "2023-11-18T13:11:25.506Z"
   },
   {
    "duration": 3,
    "start_time": "2023-11-18T13:11:26.410Z"
   },
   {
    "duration": 8490,
    "start_time": "2023-11-18T13:11:26.415Z"
   },
   {
    "duration": 1598,
    "start_time": "2023-11-18T13:11:34.907Z"
   },
   {
    "duration": 2,
    "start_time": "2023-11-18T13:11:36.507Z"
   },
   {
    "duration": 7600,
    "start_time": "2023-11-18T13:11:36.511Z"
   },
   {
    "duration": 2204,
    "start_time": "2023-11-18T13:11:44.112Z"
   },
   {
    "duration": 17,
    "start_time": "2023-11-18T13:11:46.318Z"
   },
   {
    "duration": 87,
    "start_time": "2023-11-18T13:11:46.336Z"
   },
   {
    "duration": 288,
    "start_time": "2023-11-18T13:11:46.426Z"
   },
   {
    "duration": 19,
    "start_time": "2023-11-18T13:11:46.716Z"
   },
   {
    "duration": 27951,
    "start_time": "2023-11-18T13:11:46.737Z"
   },
   {
    "duration": 36869,
    "start_time": "2023-11-18T13:12:14.690Z"
   },
   {
    "duration": 7034,
    "start_time": "2023-11-18T13:12:51.560Z"
   },
   {
    "duration": 10606,
    "start_time": "2023-11-18T13:12:58.599Z"
   },
   {
    "duration": 401,
    "start_time": "2023-11-18T13:13:09.206Z"
   },
   {
    "duration": 92,
    "start_time": "2023-11-18T13:13:09.609Z"
   },
   {
    "duration": 2209,
    "start_time": "2023-11-18T13:13:09.703Z"
   },
   {
    "duration": 7195,
    "start_time": "2023-11-19T06:48:28.672Z"
   },
   {
    "duration": 1542,
    "start_time": "2023-11-19T06:48:35.870Z"
   },
   {
    "duration": 3,
    "start_time": "2023-11-19T06:48:37.414Z"
   },
   {
    "duration": 28,
    "start_time": "2023-11-19T06:48:37.419Z"
   },
   {
    "duration": 1167,
    "start_time": "2023-11-19T06:48:37.448Z"
   },
   {
    "duration": 3,
    "start_time": "2023-11-19T06:48:38.617Z"
   },
   {
    "duration": 12,
    "start_time": "2023-11-19T06:48:38.621Z"
   },
   {
    "duration": 6,
    "start_time": "2023-11-19T06:48:38.635Z"
   },
   {
    "duration": 1169,
    "start_time": "2023-11-19T06:48:38.642Z"
   },
   {
    "duration": 252,
    "start_time": "2023-11-19T06:48:39.815Z"
   },
   {
    "duration": 491,
    "start_time": "2023-11-19T06:48:40.069Z"
   },
   {
    "duration": 489,
    "start_time": "2023-11-19T06:48:40.562Z"
   },
   {
    "duration": 153,
    "start_time": "2023-11-19T06:48:41.053Z"
   },
   {
    "duration": 146,
    "start_time": "2023-11-19T06:48:41.208Z"
   },
   {
    "duration": 265,
    "start_time": "2023-11-19T06:48:41.355Z"
   },
   {
    "duration": 70,
    "start_time": "2023-11-19T06:48:41.622Z"
   },
   {
    "duration": 238,
    "start_time": "2023-11-19T06:48:41.694Z"
   },
   {
    "duration": 149,
    "start_time": "2023-11-19T06:48:41.934Z"
   },
   {
    "duration": 5,
    "start_time": "2023-11-19T06:48:42.085Z"
   },
   {
    "duration": 16,
    "start_time": "2023-11-19T06:48:42.092Z"
   },
   {
    "duration": 650,
    "start_time": "2023-11-19T06:48:42.110Z"
   },
   {
    "duration": 174,
    "start_time": "2023-11-19T06:48:42.762Z"
   },
   {
    "duration": 702,
    "start_time": "2023-11-19T06:48:42.938Z"
   },
   {
    "duration": 561,
    "start_time": "2023-11-19T06:48:43.642Z"
   },
   {
    "duration": 133,
    "start_time": "2023-11-19T06:48:44.207Z"
   },
   {
    "duration": 11,
    "start_time": "2023-11-19T06:48:44.342Z"
   },
   {
    "duration": 203,
    "start_time": "2023-11-19T06:48:44.355Z"
   },
   {
    "duration": 5,
    "start_time": "2023-11-19T06:48:44.563Z"
   },
   {
    "duration": 76,
    "start_time": "2023-11-19T06:48:44.570Z"
   },
   {
    "duration": 18,
    "start_time": "2023-11-19T06:48:44.648Z"
   },
   {
    "duration": 623,
    "start_time": "2023-11-19T06:48:44.668Z"
   },
   {
    "duration": 902,
    "start_time": "2023-11-19T06:48:45.293Z"
   },
   {
    "duration": 150,
    "start_time": "2023-11-19T06:48:46.197Z"
   },
   {
    "duration": 18,
    "start_time": "2023-11-19T06:48:46.349Z"
   },
   {
    "duration": 296,
    "start_time": "2023-11-19T06:48:46.370Z"
   },
   {
    "duration": 476,
    "start_time": "2023-11-19T06:48:46.668Z"
   },
   {
    "duration": 205,
    "start_time": "2023-11-19T06:48:47.146Z"
   },
   {
    "duration": 568,
    "start_time": "2023-11-19T06:48:47.353Z"
   },
   {
    "duration": 557,
    "start_time": "2023-11-19T06:48:47.922Z"
   },
   {
    "duration": 14,
    "start_time": "2023-11-19T06:48:48.480Z"
   },
   {
    "duration": 82,
    "start_time": "2023-11-19T06:48:48.495Z"
   },
   {
    "duration": 160,
    "start_time": "2023-11-19T06:48:48.578Z"
   },
   {
    "duration": 6,
    "start_time": "2023-11-19T06:48:48.739Z"
   },
   {
    "duration": 7,
    "start_time": "2023-11-19T06:48:48.746Z"
   },
   {
    "duration": 66,
    "start_time": "2023-11-19T06:48:48.755Z"
   },
   {
    "duration": 8,
    "start_time": "2023-11-19T06:48:48.823Z"
   },
   {
    "duration": 30,
    "start_time": "2023-11-19T06:48:48.833Z"
   },
   {
    "duration": 101,
    "start_time": "2023-11-19T06:48:48.865Z"
   },
   {
    "duration": 187,
    "start_time": "2023-11-19T06:48:48.968Z"
   },
   {
    "duration": 233,
    "start_time": "2023-11-19T06:48:49.156Z"
   },
   {
    "duration": 92,
    "start_time": "2023-11-19T06:48:49.391Z"
   },
   {
    "duration": 330,
    "start_time": "2023-11-19T06:48:49.485Z"
   },
   {
    "duration": 21,
    "start_time": "2023-11-19T06:48:49.816Z"
   },
   {
    "duration": 2,
    "start_time": "2023-11-19T06:48:49.839Z"
   },
   {
    "duration": 3570,
    "start_time": "2023-11-19T06:48:49.843Z"
   },
   {
    "duration": 806,
    "start_time": "2023-11-19T06:48:53.415Z"
   },
   {
    "duration": 85,
    "start_time": "2023-11-19T06:48:54.223Z"
   },
   {
    "duration": 7308,
    "start_time": "2023-11-19T06:48:54.309Z"
   },
   {
    "duration": 1596,
    "start_time": "2023-11-19T06:49:01.619Z"
   },
   {
    "duration": 3,
    "start_time": "2023-11-19T06:49:03.217Z"
   },
   {
    "duration": 7595,
    "start_time": "2023-11-19T06:49:03.222Z"
   },
   {
    "duration": 2205,
    "start_time": "2023-11-19T06:49:10.818Z"
   },
   {
    "duration": 15,
    "start_time": "2023-11-19T06:49:13.024Z"
   },
   {
    "duration": 78,
    "start_time": "2023-11-19T06:49:13.041Z"
   },
   {
    "duration": 251,
    "start_time": "2023-11-19T06:49:13.120Z"
   },
   {
    "duration": 15,
    "start_time": "2023-11-19T06:49:13.373Z"
   },
   {
    "duration": 31453,
    "start_time": "2023-11-19T06:49:13.389Z"
   },
   {
    "duration": 42273,
    "start_time": "2023-11-19T06:49:44.844Z"
   },
   {
    "duration": 7224,
    "start_time": "2023-11-19T06:50:27.119Z"
   },
   {
    "duration": 9867,
    "start_time": "2023-11-19T06:50:34.344Z"
   },
   {
    "duration": 397,
    "start_time": "2023-11-19T06:50:44.214Z"
   },
   {
    "duration": 93,
    "start_time": "2023-11-19T06:50:44.613Z"
   },
   {
    "duration": 2107,
    "start_time": "2023-11-19T06:50:44.708Z"
   },
   {
    "duration": 373,
    "start_time": "2023-11-19T06:53:28.741Z"
   }
  ],
  "kernelspec": {
   "display_name": "Python 3 (ipykernel)",
   "language": "python",
   "name": "python3"
  },
  "language_info": {
   "codemirror_mode": {
    "name": "ipython",
    "version": 3
   },
   "file_extension": ".py",
   "mimetype": "text/x-python",
   "name": "python",
   "nbconvert_exporter": "python",
   "pygments_lexer": "ipython3",
   "version": "3.10.13"
  },
  "toc": {
   "base_numbering": 1,
   "nav_menu": {},
   "number_sections": true,
   "sideBar": true,
   "skip_h1_title": true,
   "title_cell": "Table of Contents",
   "title_sidebar": "Contents",
   "toc_cell": false,
   "toc_position": {},
   "toc_section_display": true,
   "toc_window_display": true
  }
 },
 "nbformat": 4,
 "nbformat_minor": 2
}
