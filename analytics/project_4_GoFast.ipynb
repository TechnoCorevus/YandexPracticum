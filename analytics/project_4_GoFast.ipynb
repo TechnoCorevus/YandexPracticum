{
 "cells": [
  {
   "cell_type": "code",
   "execution_count": 2,
   "id": "45a9ed9f",
   "metadata": {},
   "outputs": [],
   "source": [
    "import pandas as pd\n",
    "import scipy.stats as st\n",
    "import matplotlib.pyplot as plt\n",
    "import numpy as np\n",
    "from math import factorial\n",
    "from math import sqrt"
   ]
  },
  {
   "cell_type": "markdown",
   "id": "5db8090e",
   "metadata": {},
   "source": [
    "**Описание проекта**"
   ]
  },
  {
   "cell_type": "markdown",
   "id": "5367945a",
   "metadata": {},
   "source": [
    "**В нашей распоряжении данные популярного сервиса аренды самокатов GoFast. На предоставлены данные из нескольких российских городов. Необходимо проанализировать данные. Сравнить поведение пользователей у которых есть подписка на сервис с поведением пользователей у которых нет подписки на сервис. Также нужно проверить гипотезы:**\n",
    "\n",
    "**1. Тратят ли пользователи с подпиской больше времени на поездки?**\n",
    "\n",
    "**2. Расстояние одной поездки в 3130 метров — оптимальное с точки зрения износа самоката. Можно ли сказать, что расстояние, которое проезжают пользователи с подпиской за одну поездку, не превышает 3130 метров?**\n",
    "\n",
    "**3. Будет ли помесячная выручка от пользователей с подпиской по месяцам выше, чем выручка от пользователей без подписки.**\n",
    "\n",
    "**4. Изменится ли количество обращений пользователей в техническую поддержку, если команда сервиса обновит сервера**\n"
   ]
  },
  {
   "cell_type": "markdown",
   "id": "c42cbe00",
   "metadata": {},
   "source": [
    "#### Шаг 1. Загрузка данных"
   ]
  },
  {
   "cell_type": "code",
   "execution_count": 3,
   "id": "eff9f206",
   "metadata": {},
   "outputs": [],
   "source": [
    "# загрузка датафрейма с данными о пользователях\n",
    "df_users = pd.read_csv('/datasets/users_go.csv')"
   ]
  },
  {
   "cell_type": "code",
   "execution_count": 4,
   "id": "dd19e6e0",
   "metadata": {},
   "outputs": [],
   "source": [
    "# Увеличим диапазон вывода значений на экран\n",
    "pd.set_option('display.max_columns', None)\n",
    "pd.set_option('display.max_rows', None)"
   ]
  },
  {
   "cell_type": "code",
   "execution_count": 5,
   "id": "9e4cc6b2",
   "metadata": {},
   "outputs": [
    {
     "data": {
      "text/html": [
       "<div>\n",
       "<style scoped>\n",
       "    .dataframe tbody tr th:only-of-type {\n",
       "        vertical-align: middle;\n",
       "    }\n",
       "\n",
       "    .dataframe tbody tr th {\n",
       "        vertical-align: top;\n",
       "    }\n",
       "\n",
       "    .dataframe thead th {\n",
       "        text-align: right;\n",
       "    }\n",
       "</style>\n",
       "<table border=\"1\" class=\"dataframe\">\n",
       "  <thead>\n",
       "    <tr style=\"text-align: right;\">\n",
       "      <th></th>\n",
       "      <th>user_id</th>\n",
       "      <th>name</th>\n",
       "      <th>age</th>\n",
       "      <th>city</th>\n",
       "      <th>subscription_type</th>\n",
       "    </tr>\n",
       "  </thead>\n",
       "  <tbody>\n",
       "    <tr>\n",
       "      <th>0</th>\n",
       "      <td>1</td>\n",
       "      <td>Кира</td>\n",
       "      <td>22</td>\n",
       "      <td>Тюмень</td>\n",
       "      <td>ultra</td>\n",
       "    </tr>\n",
       "    <tr>\n",
       "      <th>1</th>\n",
       "      <td>2</td>\n",
       "      <td>Станислав</td>\n",
       "      <td>31</td>\n",
       "      <td>Омск</td>\n",
       "      <td>ultra</td>\n",
       "    </tr>\n",
       "    <tr>\n",
       "      <th>2</th>\n",
       "      <td>3</td>\n",
       "      <td>Алексей</td>\n",
       "      <td>20</td>\n",
       "      <td>Москва</td>\n",
       "      <td>ultra</td>\n",
       "    </tr>\n",
       "    <tr>\n",
       "      <th>3</th>\n",
       "      <td>4</td>\n",
       "      <td>Константин</td>\n",
       "      <td>26</td>\n",
       "      <td>Ростов-на-Дону</td>\n",
       "      <td>ultra</td>\n",
       "    </tr>\n",
       "    <tr>\n",
       "      <th>4</th>\n",
       "      <td>5</td>\n",
       "      <td>Адель</td>\n",
       "      <td>28</td>\n",
       "      <td>Омск</td>\n",
       "      <td>ultra</td>\n",
       "    </tr>\n",
       "  </tbody>\n",
       "</table>\n",
       "</div>"
      ],
      "text/plain": [
       "   user_id        name  age            city subscription_type\n",
       "0        1        Кира   22          Тюмень             ultra\n",
       "1        2   Станислав   31            Омск             ultra\n",
       "2        3     Алексей   20          Москва             ultra\n",
       "3        4  Константин   26  Ростов-на-Дону             ultra\n",
       "4        5       Адель   28            Омск             ultra"
      ]
     },
     "execution_count": 5,
     "metadata": {},
     "output_type": "execute_result"
    }
   ],
   "source": [
    "# вывод первых 5ти строк датафрейма\n",
    "df_users.head()"
   ]
  },
  {
   "cell_type": "markdown",
   "id": "f9d805ff",
   "metadata": {},
   "source": [
    "**Описание данных**\n",
    "\n",
    "user_id - уникальный идентификатор пользователя\n",
    "\n",
    "name - имя пользователя\n",
    "\n",
    "age - возраст пользователя\n",
    "\n",
    "city - город\n",
    "\n",
    "subscription_type - тип подписки (free, ultra)"
   ]
  },
  {
   "cell_type": "code",
   "execution_count": 6,
   "id": "6ddfb48b",
   "metadata": {
    "scrolled": true
   },
   "outputs": [
    {
     "name": "stdout",
     "output_type": "stream",
     "text": [
      "<class 'pandas.core.frame.DataFrame'>\n",
      "RangeIndex: 1565 entries, 0 to 1564\n",
      "Data columns (total 5 columns):\n",
      " #   Column             Non-Null Count  Dtype \n",
      "---  ------             --------------  ----- \n",
      " 0   user_id            1565 non-null   int64 \n",
      " 1   name               1565 non-null   object\n",
      " 2   age                1565 non-null   int64 \n",
      " 3   city               1565 non-null   object\n",
      " 4   subscription_type  1565 non-null   object\n",
      "dtypes: int64(2), object(3)\n",
      "memory usage: 61.3+ KB\n"
     ]
    }
   ],
   "source": [
    "# вывод информации о датафрейме\n",
    "df_users.info();"
   ]
  },
  {
   "cell_type": "code",
   "execution_count": 7,
   "id": "0dfe938e",
   "metadata": {},
   "outputs": [
    {
     "data": {
      "text/plain": [
       "Text(0, 0.5, 'число пользователей')"
      ]
     },
     "execution_count": 7,
     "metadata": {},
     "output_type": "execute_result"
    },
    {
     "data": {
      "image/png": "[encoded data removed]",
      "text/plain": [
       "<Figure size 432x288 with 1 Axes>"
      ]
     },
     "metadata": {
      "needs_background": "light"
     },
     "output_type": "display_data"
    }
   ],
   "source": [
    "#выведем гистограммы фрейма для наглядности распределения данных\n",
    "df_users['age'].plot(kind='hist', title='возраст');\n",
    "plt.xlabel('возраст пользователей')\n",
    "plt.ylabel('число пользователей')"
   ]
  },
  {
   "cell_type": "markdown",
   "id": "6d013bc9",
   "metadata": {},
   "source": [
    "**Заметно, что большинсто пользователей приложения от 18 до 34 лет**"
   ]
  },
  {
   "cell_type": "code",
   "execution_count": 8,
   "id": "591a4bd4",
   "metadata": {},
   "outputs": [],
   "source": [
    "# загрузка датафрейма с данными о поездках\n",
    "df_rides = pd.read_csv('/datasets/rides_go.csv')"
   ]
  },
  {
   "cell_type": "code",
   "execution_count": 9,
   "id": "c5908d49",
   "metadata": {},
   "outputs": [
    {
     "data": {
      "text/html": [
       "<div>\n",
       "<style scoped>\n",
       "    .dataframe tbody tr th:only-of-type {\n",
       "        vertical-align: middle;\n",
       "    }\n",
       "\n",
       "    .dataframe tbody tr th {\n",
       "        vertical-align: top;\n",
       "    }\n",
       "\n",
       "    .dataframe thead th {\n",
       "        text-align: right;\n",
       "    }\n",
       "</style>\n",
       "<table border=\"1\" class=\"dataframe\">\n",
       "  <thead>\n",
       "    <tr style=\"text-align: right;\">\n",
       "      <th></th>\n",
       "      <th>user_id</th>\n",
       "      <th>distance</th>\n",
       "      <th>duration</th>\n",
       "      <th>date</th>\n",
       "    </tr>\n",
       "  </thead>\n",
       "  <tbody>\n",
       "    <tr>\n",
       "      <th>0</th>\n",
       "      <td>1</td>\n",
       "      <td>4409.919140</td>\n",
       "      <td>25.599769</td>\n",
       "      <td>2021-01-01</td>\n",
       "    </tr>\n",
       "    <tr>\n",
       "      <th>1</th>\n",
       "      <td>1</td>\n",
       "      <td>2617.592153</td>\n",
       "      <td>15.816871</td>\n",
       "      <td>2021-01-18</td>\n",
       "    </tr>\n",
       "    <tr>\n",
       "      <th>2</th>\n",
       "      <td>1</td>\n",
       "      <td>754.159807</td>\n",
       "      <td>6.232113</td>\n",
       "      <td>2021-04-20</td>\n",
       "    </tr>\n",
       "    <tr>\n",
       "      <th>3</th>\n",
       "      <td>1</td>\n",
       "      <td>2694.783254</td>\n",
       "      <td>18.511000</td>\n",
       "      <td>2021-08-11</td>\n",
       "    </tr>\n",
       "    <tr>\n",
       "      <th>4</th>\n",
       "      <td>1</td>\n",
       "      <td>4028.687306</td>\n",
       "      <td>26.265803</td>\n",
       "      <td>2021-08-28</td>\n",
       "    </tr>\n",
       "  </tbody>\n",
       "</table>\n",
       "</div>"
      ],
      "text/plain": [
       "   user_id     distance   duration        date\n",
       "0        1  4409.919140  25.599769  2021-01-01\n",
       "1        1  2617.592153  15.816871  2021-01-18\n",
       "2        1   754.159807   6.232113  2021-04-20\n",
       "3        1  2694.783254  18.511000  2021-08-11\n",
       "4        1  4028.687306  26.265803  2021-08-28"
      ]
     },
     "execution_count": 9,
     "metadata": {},
     "output_type": "execute_result"
    }
   ],
   "source": [
    "# вывод первых 5ти строк датафрейма \n",
    "df_rides.head()"
   ]
  },
  {
   "cell_type": "markdown",
   "id": "f07b99dc",
   "metadata": {},
   "source": [
    "**Описание данных**\n",
    "\n",
    "user_id - уникальный идентификатор пользователя\n",
    "\n",
    "distance - расстояние, которое пользователь проехал в текущей сессии (в метрах)\n",
    "\n",
    "duration - продолжительность сессии (в минутах) — время с того момента, как пользователь нажал кнопку «Начать поездку» до момента, как он нажал кнопку «Завершить поездку»\n",
    "\n",
    "date - дата совершения поездки"
   ]
  },
  {
   "cell_type": "code",
   "execution_count": 10,
   "id": "fdfa425a",
   "metadata": {
    "scrolled": true
   },
   "outputs": [
    {
     "name": "stdout",
     "output_type": "stream",
     "text": [
      "<class 'pandas.core.frame.DataFrame'>\n",
      "RangeIndex: 18068 entries, 0 to 18067\n",
      "Data columns (total 4 columns):\n",
      " #   Column    Non-Null Count  Dtype  \n",
      "---  ------    --------------  -----  \n",
      " 0   user_id   18068 non-null  int64  \n",
      " 1   distance  18068 non-null  float64\n",
      " 2   duration  18068 non-null  float64\n",
      " 3   date      18068 non-null  object \n",
      "dtypes: float64(2), int64(1), object(1)\n",
      "memory usage: 564.8+ KB\n"
     ]
    }
   ],
   "source": [
    "# вывод информации о датафрейме\n",
    "df_rides.info()"
   ]
  },
  {
   "cell_type": "code",
   "execution_count": 11,
   "id": "cb44cb89",
   "metadata": {
    "scrolled": true
   },
   "outputs": [
    {
     "data": {
      "text/plain": [
       "Text(0, 0.5, 'количество поездок')"
      ]
     },
     "execution_count": 11,
     "metadata": {},
     "output_type": "execute_result"
    },
    {
     "data": {
      "image/png": "[encoded data removed]",
      "text/plain": [
       "<Figure size 432x288 with 1 Axes>"
      ]
     },
     "metadata": {
      "needs_background": "light"
     },
     "output_type": "display_data"
    }
   ],
   "source": [
    "# выведем гистограммы фрейма для наглядности распределения данных\n",
    "df_rides['distance'].plot(kind='hist', title='расстояние');\n",
    "plt.xlabel('расстояние за одну поездку в метрах')\n",
    "plt.ylabel('количество поездок')"
   ]
  },
  {
   "cell_type": "markdown",
   "id": "b1dc7ca4",
   "metadata": {},
   "source": [
    "**Хорошо заметно, что большая часть поездок приходится на расстояние от 2000 до 5000 метров. С пиком около 3000 метров**"
   ]
  },
  {
   "cell_type": "code",
   "execution_count": 12,
   "id": "d813ee9f",
   "metadata": {
    "scrolled": true
   },
   "outputs": [
    {
     "data": {
      "text/plain": [
       "Text(0, 0.5, 'количество поездок')"
      ]
     },
     "execution_count": 12,
     "metadata": {},
     "output_type": "execute_result"
    },
    {
     "data": {
      "image/png": "[encoded data removed]",
      "text/plain": [
       "<Figure size 432x288 with 1 Axes>"
      ]
     },
     "metadata": {
      "needs_background": "light"
     },
     "output_type": "display_data"
    }
   ],
   "source": [
    "df_rides['duration'].plot(kind='hist', title='длительность поездки');\n",
    "plt.xlabel('длительность одной поездки в минутах')\n",
    "plt.ylabel('количество поездок')"
   ]
  },
  {
   "cell_type": "markdown",
   "id": "19a6635d",
   "metadata": {},
   "source": [
    "**Большинство поездок укладивается в интервал от 10 до 30 минут с пиком в районе 20 минут.**"
   ]
  },
  {
   "cell_type": "code",
   "execution_count": 13,
   "id": "63a5cd7e",
   "metadata": {},
   "outputs": [],
   "source": [
    "df_subscriptions = pd.read_csv('/datasets/subscriptions_go.csv')"
   ]
  },
  {
   "cell_type": "code",
   "execution_count": 14,
   "id": "a572fed5",
   "metadata": {},
   "outputs": [
    {
     "data": {
      "text/html": [
       "<div>\n",
       "<style scoped>\n",
       "    .dataframe tbody tr th:only-of-type {\n",
       "        vertical-align: middle;\n",
       "    }\n",
       "\n",
       "    .dataframe tbody tr th {\n",
       "        vertical-align: top;\n",
       "    }\n",
       "\n",
       "    .dataframe thead th {\n",
       "        text-align: right;\n",
       "    }\n",
       "</style>\n",
       "<table border=\"1\" class=\"dataframe\">\n",
       "  <thead>\n",
       "    <tr style=\"text-align: right;\">\n",
       "      <th></th>\n",
       "      <th>subscription_type</th>\n",
       "      <th>minute_price</th>\n",
       "      <th>start_ride_price</th>\n",
       "      <th>subscription_fee</th>\n",
       "    </tr>\n",
       "  </thead>\n",
       "  <tbody>\n",
       "    <tr>\n",
       "      <th>0</th>\n",
       "      <td>free</td>\n",
       "      <td>8</td>\n",
       "      <td>50</td>\n",
       "      <td>0</td>\n",
       "    </tr>\n",
       "    <tr>\n",
       "      <th>1</th>\n",
       "      <td>ultra</td>\n",
       "      <td>6</td>\n",
       "      <td>0</td>\n",
       "      <td>199</td>\n",
       "    </tr>\n",
       "  </tbody>\n",
       "</table>\n",
       "</div>"
      ],
      "text/plain": [
       "  subscription_type  minute_price  start_ride_price  subscription_fee\n",
       "0              free             8                50                 0\n",
       "1             ultra             6                 0               199"
      ]
     },
     "execution_count": 14,
     "metadata": {},
     "output_type": "execute_result"
    }
   ],
   "source": [
    "# вывод первых 5ти строк датафрейма\n",
    "df_subscriptions.head()"
   ]
  },
  {
   "cell_type": "markdown",
   "id": "1771a2d9",
   "metadata": {},
   "source": [
    "**Описание данных**\n",
    "\n",
    "subscription_type - тип подписки\n",
    "\n",
    "minute_price - стоимость одной минуты поездки по данной подписке\n",
    "\n",
    "start_ride_price - стоимость начала поездки\n",
    "\n",
    "subscription_fee - стоимость ежемесячного платежа"
   ]
  },
  {
   "cell_type": "code",
   "execution_count": 15,
   "id": "65d1fd21",
   "metadata": {
    "scrolled": true
   },
   "outputs": [
    {
     "name": "stdout",
     "output_type": "stream",
     "text": [
      "<class 'pandas.core.frame.DataFrame'>\n",
      "RangeIndex: 2 entries, 0 to 1\n",
      "Data columns (total 4 columns):\n",
      " #   Column             Non-Null Count  Dtype \n",
      "---  ------             --------------  ----- \n",
      " 0   subscription_type  2 non-null      object\n",
      " 1   minute_price       2 non-null      int64 \n",
      " 2   start_ride_price   2 non-null      int64 \n",
      " 3   subscription_fee   2 non-null      int64 \n",
      "dtypes: int64(3), object(1)\n",
      "memory usage: 192.0+ bytes\n"
     ]
    }
   ],
   "source": [
    "# вывод информации о датафрейме\n",
    "df_subscriptions.info();"
   ]
  },
  {
   "cell_type": "code",
   "execution_count": 16,
   "id": "58c471f2",
   "metadata": {
    "scrolled": true
   },
   "outputs": [
    {
     "data": {
      "text/plain": [
       "<AxesSubplot:>"
      ]
     },
     "execution_count": 16,
     "metadata": {},
     "output_type": "execute_result"
    },
    {
     "data": {
      "image/png": "[encoded data removed]",
      "text/plain": [
       "<Figure size 432x288 with 1 Axes>"
      ]
     },
     "metadata": {
      "needs_background": "light"
     },
     "output_type": "display_data"
    }
   ],
   "source": [
    "# выведем график фрейма для наглядности распределения данных\n",
    "df_users['subscription_type'].hist()"
   ]
  },
  {
   "cell_type": "markdown",
   "id": "00edf22e",
   "metadata": {},
   "source": [
    "**График показывает соотошение количества пользователей с подпиской и без. Значение 'free' - означает пользователей без подписки, значение ultra - пользоватлей с подпиской. Из графика видно, что группа пользователей без подписки больше группы пользователей с подпиской.**"
   ]
  },
  {
   "cell_type": "markdown",
   "id": "e95ebca7",
   "metadata": {},
   "source": [
    "#### Шаг 2. Предобработка данных"
   ]
  },
  {
   "cell_type": "markdown",
   "id": "391f24a9",
   "metadata": {},
   "source": [
    "**Преобразуем дату в тип данных date**"
   ]
  },
  {
   "cell_type": "code",
   "execution_count": 17,
   "id": "af6d202c",
   "metadata": {},
   "outputs": [],
   "source": [
    "# преобразуем тим данных в колонке 'date' датафрейма df_rides из типа данных object в тип данных date\n",
    "df_rides['date'] = pd.to_datetime(df_rides['date'])"
   ]
  },
  {
   "cell_type": "code",
   "execution_count": 18,
   "id": "bde82065",
   "metadata": {},
   "outputs": [
    {
     "data": {
      "text/plain": [
       "array([2021])"
      ]
     },
     "execution_count": 18,
     "metadata": {},
     "output_type": "execute_result"
    }
   ],
   "source": [
    "# проверим преобразование\n",
    "df_rides['date'].head()\n",
    "df_rides['date'].dt.year.unique()"
   ]
  },
  {
   "cell_type": "markdown",
   "id": "76f69df0",
   "metadata": {},
   "source": [
    "**Данные представлены за один 2021 год. Можем смело разбивать на месяцы**"
   ]
  },
  {
   "cell_type": "code",
   "execution_count": 19,
   "id": "d426c3b2",
   "metadata": {},
   "outputs": [
    {
     "data": {
      "text/plain": [
       "array([ 1,  4,  8, 10, 11, 12,  3,  6,  7,  2,  5,  9])"
      ]
     },
     "execution_count": 19,
     "metadata": {},
     "output_type": "execute_result"
    }
   ],
   "source": [
    "# создадим новый столбец с номером месяца\n",
    "df_rides['month'] = df_rides['date'].dt.month \n",
    "\n",
    "# проверим  столбец\n",
    "df_rides['month'].unique()"
   ]
  },
  {
   "cell_type": "markdown",
   "id": "fd2fcd15",
   "metadata": {},
   "source": [
    "**Проверим данные на наличие пропусков и дубликатов**"
   ]
  },
  {
   "cell_type": "code",
   "execution_count": 20,
   "id": "527c852d",
   "metadata": {},
   "outputs": [
    {
     "data": {
      "text/plain": [
       "user_id              0\n",
       "name                 0\n",
       "age                  0\n",
       "city                 0\n",
       "subscription_type    0\n",
       "dtype: int64"
      ]
     },
     "execution_count": 20,
     "metadata": {},
     "output_type": "execute_result"
    }
   ],
   "source": [
    "# ищем пропуски в датафрейме пользователей\n",
    "df_users.isna().sum()"
   ]
  },
  {
   "cell_type": "code",
   "execution_count": 21,
   "id": "01c194ba",
   "metadata": {},
   "outputs": [
    {
     "data": {
      "text/plain": [
       "31"
      ]
     },
     "execution_count": 21,
     "metadata": {},
     "output_type": "execute_result"
    }
   ],
   "source": [
    "# ищем дубликаты в датафрейме пользователей по колонкам\n",
    "df_users.duplicated().sum()\n"
   ]
  },
  {
   "cell_type": "code",
   "execution_count": 22,
   "id": "1e752666",
   "metadata": {
    "scrolled": true
   },
   "outputs": [
    {
     "data": {
      "text/html": [
       "<div>\n",
       "<style scoped>\n",
       "    .dataframe tbody tr th:only-of-type {\n",
       "        vertical-align: middle;\n",
       "    }\n",
       "\n",
       "    .dataframe tbody tr th {\n",
       "        vertical-align: top;\n",
       "    }\n",
       "\n",
       "    .dataframe thead th {\n",
       "        text-align: right;\n",
       "    }\n",
       "</style>\n",
       "<table border=\"1\" class=\"dataframe\">\n",
       "  <thead>\n",
       "    <tr style=\"text-align: right;\">\n",
       "      <th></th>\n",
       "      <th>user_id</th>\n",
       "      <th>name</th>\n",
       "      <th>age</th>\n",
       "      <th>city</th>\n",
       "      <th>subscription_type</th>\n",
       "    </tr>\n",
       "  </thead>\n",
       "  <tbody>\n",
       "    <tr>\n",
       "      <th>1534</th>\n",
       "      <td>293</td>\n",
       "      <td>Агата</td>\n",
       "      <td>26</td>\n",
       "      <td>Краснодар</td>\n",
       "      <td>ultra</td>\n",
       "    </tr>\n",
       "    <tr>\n",
       "      <th>1535</th>\n",
       "      <td>16</td>\n",
       "      <td>Амалия</td>\n",
       "      <td>27</td>\n",
       "      <td>Краснодар</td>\n",
       "      <td>ultra</td>\n",
       "    </tr>\n",
       "    <tr>\n",
       "      <th>1536</th>\n",
       "      <td>909</td>\n",
       "      <td>Константин</td>\n",
       "      <td>20</td>\n",
       "      <td>Екатеринбург</td>\n",
       "      <td>free</td>\n",
       "    </tr>\n",
       "    <tr>\n",
       "      <th>1537</th>\n",
       "      <td>403</td>\n",
       "      <td>Полина</td>\n",
       "      <td>19</td>\n",
       "      <td>Сочи</td>\n",
       "      <td>ultra</td>\n",
       "    </tr>\n",
       "    <tr>\n",
       "      <th>1538</th>\n",
       "      <td>908</td>\n",
       "      <td>Рустам</td>\n",
       "      <td>30</td>\n",
       "      <td>Тюмень</td>\n",
       "      <td>free</td>\n",
       "    </tr>\n",
       "    <tr>\n",
       "      <th>1539</th>\n",
       "      <td>43</td>\n",
       "      <td>Стефания</td>\n",
       "      <td>22</td>\n",
       "      <td>Омск</td>\n",
       "      <td>ultra</td>\n",
       "    </tr>\n",
       "    <tr>\n",
       "      <th>1540</th>\n",
       "      <td>127</td>\n",
       "      <td>Павел</td>\n",
       "      <td>25</td>\n",
       "      <td>Пятигорск</td>\n",
       "      <td>ultra</td>\n",
       "    </tr>\n",
       "    <tr>\n",
       "      <th>1541</th>\n",
       "      <td>659</td>\n",
       "      <td>Злата</td>\n",
       "      <td>27</td>\n",
       "      <td>Ростов-на-Дону</td>\n",
       "      <td>ultra</td>\n",
       "    </tr>\n",
       "    <tr>\n",
       "      <th>1542</th>\n",
       "      <td>204</td>\n",
       "      <td>Руслан</td>\n",
       "      <td>30</td>\n",
       "      <td>Пятигорск</td>\n",
       "      <td>ultra</td>\n",
       "    </tr>\n",
       "    <tr>\n",
       "      <th>1543</th>\n",
       "      <td>153</td>\n",
       "      <td>Герман</td>\n",
       "      <td>23</td>\n",
       "      <td>Москва</td>\n",
       "      <td>ultra</td>\n",
       "    </tr>\n",
       "    <tr>\n",
       "      <th>1544</th>\n",
       "      <td>1245</td>\n",
       "      <td>Регина</td>\n",
       "      <td>27</td>\n",
       "      <td>Пятигорск</td>\n",
       "      <td>free</td>\n",
       "    </tr>\n",
       "    <tr>\n",
       "      <th>1545</th>\n",
       "      <td>807</td>\n",
       "      <td>Александр</td>\n",
       "      <td>28</td>\n",
       "      <td>Екатеринбург</td>\n",
       "      <td>free</td>\n",
       "    </tr>\n",
       "    <tr>\n",
       "      <th>1546</th>\n",
       "      <td>924</td>\n",
       "      <td>Мария</td>\n",
       "      <td>23</td>\n",
       "      <td>Пятигорск</td>\n",
       "      <td>free</td>\n",
       "    </tr>\n",
       "    <tr>\n",
       "      <th>1547</th>\n",
       "      <td>635</td>\n",
       "      <td>Герман</td>\n",
       "      <td>21</td>\n",
       "      <td>Москва</td>\n",
       "      <td>ultra</td>\n",
       "    </tr>\n",
       "    <tr>\n",
       "      <th>1548</th>\n",
       "      <td>136</td>\n",
       "      <td>Марсель</td>\n",
       "      <td>25</td>\n",
       "      <td>Тюмень</td>\n",
       "      <td>ultra</td>\n",
       "    </tr>\n",
       "    <tr>\n",
       "      <th>1549</th>\n",
       "      <td>108</td>\n",
       "      <td>Влада</td>\n",
       "      <td>29</td>\n",
       "      <td>Тюмень</td>\n",
       "      <td>ultra</td>\n",
       "    </tr>\n",
       "    <tr>\n",
       "      <th>1550</th>\n",
       "      <td>737</td>\n",
       "      <td>Мелания</td>\n",
       "      <td>27</td>\n",
       "      <td>Ростов-на-Дону</td>\n",
       "      <td>free</td>\n",
       "    </tr>\n",
       "    <tr>\n",
       "      <th>1551</th>\n",
       "      <td>666</td>\n",
       "      <td>Зарина</td>\n",
       "      <td>29</td>\n",
       "      <td>Москва</td>\n",
       "      <td>ultra</td>\n",
       "    </tr>\n",
       "    <tr>\n",
       "      <th>1552</th>\n",
       "      <td>297</td>\n",
       "      <td>Егор</td>\n",
       "      <td>33</td>\n",
       "      <td>Пятигорск</td>\n",
       "      <td>ultra</td>\n",
       "    </tr>\n",
       "    <tr>\n",
       "      <th>1553</th>\n",
       "      <td>121</td>\n",
       "      <td>Алина</td>\n",
       "      <td>25</td>\n",
       "      <td>Пятигорск</td>\n",
       "      <td>ultra</td>\n",
       "    </tr>\n",
       "    <tr>\n",
       "      <th>1554</th>\n",
       "      <td>1198</td>\n",
       "      <td>Демид</td>\n",
       "      <td>29</td>\n",
       "      <td>Ростов-на-Дону</td>\n",
       "      <td>free</td>\n",
       "    </tr>\n",
       "    <tr>\n",
       "      <th>1555</th>\n",
       "      <td>72</td>\n",
       "      <td>Никита</td>\n",
       "      <td>25</td>\n",
       "      <td>Москва</td>\n",
       "      <td>ultra</td>\n",
       "    </tr>\n",
       "    <tr>\n",
       "      <th>1556</th>\n",
       "      <td>422</td>\n",
       "      <td>Кирилл</td>\n",
       "      <td>27</td>\n",
       "      <td>Сочи</td>\n",
       "      <td>ultra</td>\n",
       "    </tr>\n",
       "    <tr>\n",
       "      <th>1557</th>\n",
       "      <td>611</td>\n",
       "      <td>Владимир</td>\n",
       "      <td>28</td>\n",
       "      <td>Омск</td>\n",
       "      <td>ultra</td>\n",
       "    </tr>\n",
       "    <tr>\n",
       "      <th>1558</th>\n",
       "      <td>1237</td>\n",
       "      <td>Евгения</td>\n",
       "      <td>23</td>\n",
       "      <td>Тюмень</td>\n",
       "      <td>free</td>\n",
       "    </tr>\n",
       "    <tr>\n",
       "      <th>1559</th>\n",
       "      <td>209</td>\n",
       "      <td>Андрей</td>\n",
       "      <td>23</td>\n",
       "      <td>Омск</td>\n",
       "      <td>ultra</td>\n",
       "    </tr>\n",
       "    <tr>\n",
       "      <th>1560</th>\n",
       "      <td>829</td>\n",
       "      <td>Федор</td>\n",
       "      <td>29</td>\n",
       "      <td>Пятигорск</td>\n",
       "      <td>free</td>\n",
       "    </tr>\n",
       "    <tr>\n",
       "      <th>1561</th>\n",
       "      <td>809</td>\n",
       "      <td>Юрий</td>\n",
       "      <td>26</td>\n",
       "      <td>Сочи</td>\n",
       "      <td>free</td>\n",
       "    </tr>\n",
       "    <tr>\n",
       "      <th>1562</th>\n",
       "      <td>307</td>\n",
       "      <td>Ясмина</td>\n",
       "      <td>19</td>\n",
       "      <td>Краснодар</td>\n",
       "      <td>ultra</td>\n",
       "    </tr>\n",
       "    <tr>\n",
       "      <th>1563</th>\n",
       "      <td>47</td>\n",
       "      <td>Юрий</td>\n",
       "      <td>28</td>\n",
       "      <td>Тюмень</td>\n",
       "      <td>ultra</td>\n",
       "    </tr>\n",
       "    <tr>\n",
       "      <th>1564</th>\n",
       "      <td>1045</td>\n",
       "      <td>Артемий</td>\n",
       "      <td>28</td>\n",
       "      <td>Ростов-на-Дону</td>\n",
       "      <td>free</td>\n",
       "    </tr>\n",
       "  </tbody>\n",
       "</table>\n",
       "</div>"
      ],
      "text/plain": [
       "      user_id        name  age            city subscription_type\n",
       "1534      293       Агата   26       Краснодар             ultra\n",
       "1535       16      Амалия   27       Краснодар             ultra\n",
       "1536      909  Константин   20    Екатеринбург              free\n",
       "1537      403      Полина   19            Сочи             ultra\n",
       "1538      908      Рустам   30          Тюмень              free\n",
       "1539       43    Стефания   22            Омск             ultra\n",
       "1540      127       Павел   25       Пятигорск             ultra\n",
       "1541      659       Злата   27  Ростов-на-Дону             ultra\n",
       "1542      204      Руслан   30       Пятигорск             ultra\n",
       "1543      153      Герман   23          Москва             ultra\n",
       "1544     1245      Регина   27       Пятигорск              free\n",
       "1545      807   Александр   28    Екатеринбург              free\n",
       "1546      924       Мария   23       Пятигорск              free\n",
       "1547      635      Герман   21          Москва             ultra\n",
       "1548      136     Марсель   25          Тюмень             ultra\n",
       "1549      108       Влада   29          Тюмень             ultra\n",
       "1550      737     Мелания   27  Ростов-на-Дону              free\n",
       "1551      666      Зарина   29          Москва             ultra\n",
       "1552      297        Егор   33       Пятигорск             ultra\n",
       "1553      121       Алина   25       Пятигорск             ultra\n",
       "1554     1198       Демид   29  Ростов-на-Дону              free\n",
       "1555       72      Никита   25          Москва             ultra\n",
       "1556      422      Кирилл   27            Сочи             ultra\n",
       "1557      611    Владимир   28            Омск             ultra\n",
       "1558     1237     Евгения   23          Тюмень              free\n",
       "1559      209      Андрей   23            Омск             ultra\n",
       "1560      829       Федор   29       Пятигорск              free\n",
       "1561      809        Юрий   26            Сочи              free\n",
       "1562      307      Ясмина   19       Краснодар             ultra\n",
       "1563       47        Юрий   28          Тюмень             ultra\n",
       "1564     1045     Артемий   28  Ростов-на-Дону              free"
      ]
     },
     "execution_count": 22,
     "metadata": {},
     "output_type": "execute_result"
    }
   ],
   "source": [
    "# проверим как выглядят дубликаты\n",
    "df_users[df_users.duplicated()]"
   ]
  },
  {
   "cell_type": "code",
   "execution_count": 23,
   "id": "83f4716a",
   "metadata": {},
   "outputs": [
    {
     "data": {
      "text/plain": [
       "0"
      ]
     },
     "execution_count": 23,
     "metadata": {},
     "output_type": "execute_result"
    }
   ],
   "source": [
    "# удаляем дубликаты\n",
    "df_users = df_users.drop_duplicates()\n",
    "\n",
    "# проверка\n",
    "df_users.duplicated().sum()"
   ]
  },
  {
   "cell_type": "code",
   "execution_count": 24,
   "id": "866ee149",
   "metadata": {},
   "outputs": [
    {
     "data": {
      "text/plain": [
       "user_id     0\n",
       "distance    0\n",
       "duration    0\n",
       "date        0\n",
       "month       0\n",
       "dtype: int64"
      ]
     },
     "execution_count": 24,
     "metadata": {},
     "output_type": "execute_result"
    }
   ],
   "source": [
    "# проверка датафрейма с поездками на пропуски\n",
    "df_rides.isna().sum()"
   ]
  },
  {
   "cell_type": "code",
   "execution_count": 25,
   "id": "71a14d5b",
   "metadata": {},
   "outputs": [
    {
     "data": {
      "text/plain": [
       "0"
      ]
     },
     "execution_count": 25,
     "metadata": {},
     "output_type": "execute_result"
    }
   ],
   "source": [
    "# проверка нк дубликаты датафрейма с поездками\n",
    "df_rides.duplicated().sum()"
   ]
  },
  {
   "cell_type": "code",
   "execution_count": 26,
   "id": "8b056374",
   "metadata": {},
   "outputs": [
    {
     "data": {
      "text/plain": [
       "subscription_type    0\n",
       "minute_price         0\n",
       "start_ride_price     0\n",
       "subscription_fee     0\n",
       "dtype: int64"
      ]
     },
     "execution_count": 26,
     "metadata": {},
     "output_type": "execute_result"
    }
   ],
   "source": [
    "# проверка датафрейма с подписками на пропуски\n",
    "df_subscriptions.isna().sum()"
   ]
  },
  {
   "cell_type": "code",
   "execution_count": 27,
   "id": "0fb7f5eb",
   "metadata": {},
   "outputs": [
    {
     "data": {
      "text/plain": [
       "0"
      ]
     },
     "execution_count": 27,
     "metadata": {},
     "output_type": "execute_result"
    }
   ],
   "source": [
    "# проверка нк дубликаты датафрейма с подписками\n",
    "df_subscriptions.duplicated().sum()"
   ]
  },
  {
   "cell_type": "markdown",
   "id": "f44b2805",
   "metadata": {},
   "source": [
    "**Поготовили данные для дальнейшей работы. Удалили дубликаты и изменили тип данных в колонке с датой.**\n",
    "\n",
    "**Из данных видно, что средний возраст пользователя около 25 лет. Среднее расстояние около 3000 метров, а среднее время в пути около 20 минут. Количество пользователей с подпиской и без делится поровну.**"
   ]
  },
  {
   "cell_type": "markdown",
   "id": "212593c7",
   "metadata": {},
   "source": [
    "#### Шаг 3. Исследовательский анализ данных"
   ]
  },
  {
   "cell_type": "markdown",
   "id": "1542bd5b",
   "metadata": {},
   "source": [
    "**Исследуем частоту встречаемости городов**"
   ]
  },
  {
   "cell_type": "code",
   "execution_count": 28,
   "id": "e530002e",
   "metadata": {},
   "outputs": [
    {
     "data": {
      "text/plain": [
       "Пятигорск         219\n",
       "Екатеринбург      204\n",
       "Ростов-на-Дону    198\n",
       "Краснодар         193\n",
       "Сочи              189\n",
       "Омск              183\n",
       "Тюмень            180\n",
       "Москва            168\n",
       "Name: city, dtype: int64"
      ]
     },
     "execution_count": 28,
     "metadata": {},
     "output_type": "execute_result"
    }
   ],
   "source": [
    "# посчитаем встречаемость городов в таблице\n",
    "df_users['city'].value_counts()"
   ]
  },
  {
   "cell_type": "code",
   "execution_count": 29,
   "id": "e3a4274c",
   "metadata": {},
   "outputs": [
    {
     "data": {
      "text/plain": [
       "<AxesSubplot:>"
      ]
     },
     "execution_count": 29,
     "metadata": {},
     "output_type": "execute_result"
    },
    {
     "data": {
      "image/png": "[encoded data removed]",
      "text/plain": [
       "<Figure size 432x288 with 1 Axes>"
      ]
     },
     "metadata": {
      "needs_background": "light"
     },
     "output_type": "display_data"
    }
   ],
   "source": [
    "# построим график встречаемости городов в таблице\n",
    "df_users['city'].value_counts().plot(kind=\"bar\")"
   ]
  },
  {
   "cell_type": "markdown",
   "id": "4753a3f0",
   "metadata": {},
   "source": [
    "**Можно сделать вывод, что наибольшее количество пользователей из Пятигорска, числом 219. На втором месте Екатеринбург с 204мя пользователями. На последнем Москва в которой 168 пользователей.**"
   ]
  },
  {
   "cell_type": "markdown",
   "id": "2cd983cf",
   "metadata": {},
   "source": [
    "**Далее найдём соотношение пользователей с подпиской и без подписки**"
   ]
  },
  {
   "cell_type": "code",
   "execution_count": 30,
   "id": "06e307c2",
   "metadata": {},
   "outputs": [],
   "source": [
    "# сгруппируем данные и найдём их соотношение\n",
    "ultra_count = df_users['subscription_type'][df_users['subscription_type']=='ultra'].count()\n",
    "free_count = df_users['subscription_type'][df_users['subscription_type']=='free'].count()\n",
    "\n",
    "subscription_rate = ultra_count / (ultra_count + free_count)"
   ]
  },
  {
   "cell_type": "markdown",
   "id": "279806a6",
   "metadata": {},
   "source": [
    "**Почти 45.5% пользователей имеют подписку, без подписки соответсвенно 55,5%**"
   ]
  },
  {
   "cell_type": "markdown",
   "id": "8551a0bf",
   "metadata": {},
   "source": [
    "**Исследуем возраст пользователей**"
   ]
  },
  {
   "cell_type": "code",
   "execution_count": 31,
   "id": "af2a8dba",
   "metadata": {},
   "outputs": [
    {
     "data": {
      "text/plain": [
       "25    145\n",
       "24    132\n",
       "26    131\n",
       "23    129\n",
       "27    119\n",
       "22    119\n",
       "28    112\n",
       "21     93\n",
       "20     71\n",
       "30     68\n",
       "29     68\n",
       "31     48\n",
       "19     47\n",
       "18     46\n",
       "32     41\n",
       "33     39\n",
       "17     26\n",
       "34     19\n",
       "16     19\n",
       "35     15\n",
       "15     13\n",
       "14      9\n",
       "13      8\n",
       "36      6\n",
       "12      4\n",
       "38      3\n",
       "37      2\n",
       "39      1\n",
       "43      1\n",
       "Name: age, dtype: int64"
      ]
     },
     "execution_count": 31,
     "metadata": {},
     "output_type": "execute_result"
    }
   ],
   "source": [
    "#отсортируем пользователей по возрасту\n",
    "df_users['age'].value_counts()"
   ]
  },
  {
   "cell_type": "code",
   "execution_count": 32,
   "id": "18ad64e6",
   "metadata": {},
   "outputs": [
    {
     "data": {
      "text/plain": [
       "Text(0, 0.5, 'количество')"
      ]
     },
     "execution_count": 32,
     "metadata": {},
     "output_type": "execute_result"
    },
    {
     "data": {
      "image/png": "[encoded data removed]",
      "text/plain": [
       "<Figure size 432x288 with 1 Axes>"
      ]
     },
     "metadata": {
      "needs_background": "light"
     },
     "output_type": "display_data"
    }
   ],
   "source": [
    "# построим график\n",
    "df_users['age'].value_counts(sort=False).plot(kind=\"bar\", title='возраст пользователя');\n",
    "plt.xlabel('возраст')\n",
    "plt.ylabel('количество')"
   ]
  },
  {
   "cell_type": "markdown",
   "id": "f9fa7e28",
   "metadata": {},
   "source": [
    "**Заметно что пользователи в основном в возрасте от 20 до 30 лет**"
   ]
  },
  {
   "cell_type": "code",
   "execution_count": 33,
   "id": "0f123385",
   "metadata": {},
   "outputs": [
    {
     "data": {
      "text/html": [
       "<div>\n",
       "<style scoped>\n",
       "    .dataframe tbody tr th:only-of-type {\n",
       "        vertical-align: middle;\n",
       "    }\n",
       "\n",
       "    .dataframe tbody tr th {\n",
       "        vertical-align: top;\n",
       "    }\n",
       "\n",
       "    .dataframe thead th {\n",
       "        text-align: right;\n",
       "    }\n",
       "</style>\n",
       "<table border=\"1\" class=\"dataframe\">\n",
       "  <thead>\n",
       "    <tr style=\"text-align: right;\">\n",
       "      <th></th>\n",
       "      <th>distance</th>\n",
       "    </tr>\n",
       "    <tr>\n",
       "      <th>user_id</th>\n",
       "      <th></th>\n",
       "    </tr>\n",
       "  </thead>\n",
       "  <tbody>\n",
       "    <tr>\n",
       "      <th>1</th>\n",
       "      <td>2839.181839</td>\n",
       "    </tr>\n",
       "    <tr>\n",
       "      <th>2</th>\n",
       "      <td>3087.641692</td>\n",
       "    </tr>\n",
       "    <tr>\n",
       "      <th>3</th>\n",
       "      <td>3075.633155</td>\n",
       "    </tr>\n",
       "    <tr>\n",
       "      <th>4</th>\n",
       "      <td>3202.656423</td>\n",
       "    </tr>\n",
       "    <tr>\n",
       "      <th>5</th>\n",
       "      <td>3232.449968</td>\n",
       "    </tr>\n",
       "  </tbody>\n",
       "</table>\n",
       "</div>"
      ],
      "text/plain": [
       "            distance\n",
       "user_id             \n",
       "1        2839.181839\n",
       "2        3087.641692\n",
       "3        3075.633155\n",
       "4        3202.656423\n",
       "5        3232.449968"
      ]
     },
     "execution_count": 33,
     "metadata": {},
     "output_type": "execute_result"
    }
   ],
   "source": [
    "# посчитаем какое расстояние пользователь проезжает в среднем за одну поездку\n",
    "df_rides.pivot_table(index='user_id', values='distance', aggfunc='mean').head()"
   ]
  },
  {
   "cell_type": "code",
   "execution_count": 34,
   "id": "1889d83a",
   "metadata": {},
   "outputs": [
    {
     "data": {
      "image/png": "[encoded data removed]",
      "text/plain": [
       "<Figure size 432x288 with 1 Axes>"
      ]
     },
     "metadata": {
      "needs_background": "light"
     },
     "output_type": "display_data"
    }
   ],
   "source": [
    "# выведем график\n",
    "df_rides.pivot_table(index='user_id', values='distance', aggfunc='mean').hist(bins= 30);"
   ]
  },
  {
   "cell_type": "markdown",
   "id": "9b54d2b2",
   "metadata": {},
   "source": [
    "**Большинство поездок укладывается в интервал от 2800м, до 3500м.**"
   ]
  },
  {
   "cell_type": "markdown",
   "id": "b6db3b57",
   "metadata": {},
   "source": [
    "**Исследуем продолжительность поездок**"
   ]
  },
  {
   "cell_type": "code",
   "execution_count": 35,
   "id": "a3042910",
   "metadata": {},
   "outputs": [
    {
     "data": {
      "text/html": [
       "<div>\n",
       "<style scoped>\n",
       "    .dataframe tbody tr th:only-of-type {\n",
       "        vertical-align: middle;\n",
       "    }\n",
       "\n",
       "    .dataframe tbody tr th {\n",
       "        vertical-align: top;\n",
       "    }\n",
       "\n",
       "    .dataframe thead th {\n",
       "        text-align: right;\n",
       "    }\n",
       "</style>\n",
       "<table border=\"1\" class=\"dataframe\">\n",
       "  <thead>\n",
       "    <tr style=\"text-align: right;\">\n",
       "      <th></th>\n",
       "      <th>duration</th>\n",
       "    </tr>\n",
       "    <tr>\n",
       "      <th>user_id</th>\n",
       "      <th></th>\n",
       "    </tr>\n",
       "  </thead>\n",
       "  <tbody>\n",
       "    <tr>\n",
       "      <th>1</th>\n",
       "      <td>17.050409</td>\n",
       "    </tr>\n",
       "    <tr>\n",
       "      <th>2</th>\n",
       "      <td>17.967662</td>\n",
       "    </tr>\n",
       "    <tr>\n",
       "      <th>3</th>\n",
       "      <td>19.432793</td>\n",
       "    </tr>\n",
       "    <tr>\n",
       "      <th>4</th>\n",
       "      <td>20.611684</td>\n",
       "    </tr>\n",
       "    <tr>\n",
       "      <th>5</th>\n",
       "      <td>15.824903</td>\n",
       "    </tr>\n",
       "  </tbody>\n",
       "</table>\n",
       "</div>"
      ],
      "text/plain": [
       "          duration\n",
       "user_id           \n",
       "1        17.050409\n",
       "2        17.967662\n",
       "3        19.432793\n",
       "4        20.611684\n",
       "5        15.824903"
      ]
     },
     "execution_count": 35,
     "metadata": {},
     "output_type": "execute_result"
    }
   ],
   "source": [
    "# посчитаем сколько времени пользователь тратит в среднем за одну поездку\n",
    "df_rides.pivot_table(index='user_id', values='duration', aggfunc='mean').head()"
   ]
  },
  {
   "cell_type": "code",
   "execution_count": 36,
   "id": "d45a3cbe",
   "metadata": {},
   "outputs": [
    {
     "data": {
      "image/png": "[encoded data removed]",
      "text/plain": [
       "<Figure size 432x288 with 1 Axes>"
      ]
     },
     "metadata": {
      "needs_background": "light"
     },
     "output_type": "display_data"
    }
   ],
   "source": [
    "# выведем график \n",
    "df_rides.pivot_table(index='user_id', values='duration', aggfunc='mean').hist(bins = 30);"
   ]
  },
  {
   "cell_type": "markdown",
   "id": "0dc81c50",
   "metadata": {},
   "source": [
    "**Чаше всего ездят по 17 минут, большиство поездок длительностью от 15 до 21 минуты**"
   ]
  },
  {
   "cell_type": "markdown",
   "id": "4ef51331",
   "metadata": {},
   "source": [
    "#### Шаг 4. Объединение данных"
   ]
  },
  {
   "cell_type": "markdown",
   "id": "a247c801",
   "metadata": {},
   "source": [
    "**Объеденение двух датафреймов, df_users и df_rides в одну таблицу df_go**"
   ]
  },
  {
   "cell_type": "code",
   "execution_count": 37,
   "id": "7555f0ba",
   "metadata": {},
   "outputs": [],
   "source": [
    "# объединение таблиц методом merge()\n",
    "df_go = df_users.merge(df_rides, on='user_id', how='left')\n",
    "df_go = df_go.merge(df_subscriptions, how='left')"
   ]
  },
  {
   "cell_type": "code",
   "execution_count": 38,
   "id": "6921245e",
   "metadata": {
    "scrolled": true
   },
   "outputs": [
    {
     "data": {
      "text/html": [
       "<div>\n",
       "<style scoped>\n",
       "    .dataframe tbody tr th:only-of-type {\n",
       "        vertical-align: middle;\n",
       "    }\n",
       "\n",
       "    .dataframe tbody tr th {\n",
       "        vertical-align: top;\n",
       "    }\n",
       "\n",
       "    .dataframe thead th {\n",
       "        text-align: right;\n",
       "    }\n",
       "</style>\n",
       "<table border=\"1\" class=\"dataframe\">\n",
       "  <thead>\n",
       "    <tr style=\"text-align: right;\">\n",
       "      <th></th>\n",
       "      <th>user_id</th>\n",
       "      <th>name</th>\n",
       "      <th>age</th>\n",
       "      <th>city</th>\n",
       "      <th>subscription_type</th>\n",
       "      <th>distance</th>\n",
       "      <th>duration</th>\n",
       "      <th>date</th>\n",
       "      <th>month</th>\n",
       "      <th>minute_price</th>\n",
       "      <th>start_ride_price</th>\n",
       "      <th>subscription_fee</th>\n",
       "    </tr>\n",
       "  </thead>\n",
       "  <tbody>\n",
       "    <tr>\n",
       "      <th>0</th>\n",
       "      <td>1</td>\n",
       "      <td>Кира</td>\n",
       "      <td>22</td>\n",
       "      <td>Тюмень</td>\n",
       "      <td>ultra</td>\n",
       "      <td>4409.919140</td>\n",
       "      <td>25.599769</td>\n",
       "      <td>2021-01-01</td>\n",
       "      <td>1</td>\n",
       "      <td>6</td>\n",
       "      <td>0</td>\n",
       "      <td>199</td>\n",
       "    </tr>\n",
       "    <tr>\n",
       "      <th>1</th>\n",
       "      <td>1</td>\n",
       "      <td>Кира</td>\n",
       "      <td>22</td>\n",
       "      <td>Тюмень</td>\n",
       "      <td>ultra</td>\n",
       "      <td>2617.592153</td>\n",
       "      <td>15.816871</td>\n",
       "      <td>2021-01-18</td>\n",
       "      <td>1</td>\n",
       "      <td>6</td>\n",
       "      <td>0</td>\n",
       "      <td>199</td>\n",
       "    </tr>\n",
       "    <tr>\n",
       "      <th>2</th>\n",
       "      <td>1</td>\n",
       "      <td>Кира</td>\n",
       "      <td>22</td>\n",
       "      <td>Тюмень</td>\n",
       "      <td>ultra</td>\n",
       "      <td>754.159807</td>\n",
       "      <td>6.232113</td>\n",
       "      <td>2021-04-20</td>\n",
       "      <td>4</td>\n",
       "      <td>6</td>\n",
       "      <td>0</td>\n",
       "      <td>199</td>\n",
       "    </tr>\n",
       "    <tr>\n",
       "      <th>3</th>\n",
       "      <td>1</td>\n",
       "      <td>Кира</td>\n",
       "      <td>22</td>\n",
       "      <td>Тюмень</td>\n",
       "      <td>ultra</td>\n",
       "      <td>2694.783254</td>\n",
       "      <td>18.511000</td>\n",
       "      <td>2021-08-11</td>\n",
       "      <td>8</td>\n",
       "      <td>6</td>\n",
       "      <td>0</td>\n",
       "      <td>199</td>\n",
       "    </tr>\n",
       "    <tr>\n",
       "      <th>4</th>\n",
       "      <td>1</td>\n",
       "      <td>Кира</td>\n",
       "      <td>22</td>\n",
       "      <td>Тюмень</td>\n",
       "      <td>ultra</td>\n",
       "      <td>4028.687306</td>\n",
       "      <td>26.265803</td>\n",
       "      <td>2021-08-28</td>\n",
       "      <td>8</td>\n",
       "      <td>6</td>\n",
       "      <td>0</td>\n",
       "      <td>199</td>\n",
       "    </tr>\n",
       "  </tbody>\n",
       "</table>\n",
       "</div>"
      ],
      "text/plain": [
       "   user_id  name  age    city subscription_type     distance   duration  \\\n",
       "0        1  Кира   22  Тюмень             ultra  4409.919140  25.599769   \n",
       "1        1  Кира   22  Тюмень             ultra  2617.592153  15.816871   \n",
       "2        1  Кира   22  Тюмень             ultra   754.159807   6.232113   \n",
       "3        1  Кира   22  Тюмень             ultra  2694.783254  18.511000   \n",
       "4        1  Кира   22  Тюмень             ultra  4028.687306  26.265803   \n",
       "\n",
       "        date  month  minute_price  start_ride_price  subscription_fee  \n",
       "0 2021-01-01      1             6                 0               199  \n",
       "1 2021-01-18      1             6                 0               199  \n",
       "2 2021-04-20      4             6                 0               199  \n",
       "3 2021-08-11      8             6                 0               199  \n",
       "4 2021-08-28      8             6                 0               199  "
      ]
     },
     "execution_count": 38,
     "metadata": {},
     "output_type": "execute_result"
    }
   ],
   "source": [
    "# проверка объединения\n",
    "df_go.head(5)"
   ]
  },
  {
   "cell_type": "markdown",
   "id": "43b866b7",
   "metadata": {},
   "source": [
    "**Выделим из df_go таблицу с пользователями с подпиской**"
   ]
  },
  {
   "cell_type": "code",
   "execution_count": 39,
   "id": "0e4e0da6",
   "metadata": {},
   "outputs": [
    {
     "data": {
      "text/plain": [
       "array(['ultra'], dtype=object)"
      ]
     },
     "execution_count": 39,
     "metadata": {},
     "output_type": "execute_result"
    }
   ],
   "source": [
    "# передаём df_go_ultra, таблицу с подписками\n",
    "df_go_ultra = df_go[df_go['subscription_type']=='ultra']\n",
    "\n",
    "# проверка\n",
    "df_go_ultra['subscription_type'].unique()\n"
   ]
  },
  {
   "cell_type": "markdown",
   "id": "42f2e85a",
   "metadata": {},
   "source": [
    "**Выделим из df_go таблицу с пользователями без подписки**"
   ]
  },
  {
   "cell_type": "code",
   "execution_count": 40,
   "id": "c114d061",
   "metadata": {},
   "outputs": [
    {
     "data": {
      "text/plain": [
       "array(['free'], dtype=object)"
      ]
     },
     "execution_count": 40,
     "metadata": {},
     "output_type": "execute_result"
    }
   ],
   "source": [
    "# передаём df_go_free, таблицу без подписки\n",
    "df_go_free = df_go[df_go['subscription_type']=='free']\n",
    "\n",
    "# проверка\n",
    "df_go_free['subscription_type'].unique()"
   ]
  },
  {
   "cell_type": "markdown",
   "id": "4c18be2f",
   "metadata": {},
   "source": [
    "**Построим графики времени и дальности поездок для пользователей с подпиской**"
   ]
  },
  {
   "cell_type": "code",
   "execution_count": 41,
   "id": "fccd3868",
   "metadata": {},
   "outputs": [
    {
     "data": {
      "text/plain": [
       "<AxesSubplot:>"
      ]
     },
     "execution_count": 41,
     "metadata": {},
     "output_type": "execute_result"
    },
    {
     "data": {
      "image/png": "[encoded data removed]",
      "text/plain": [
       "<Figure size 432x288 with 1 Axes>"
      ]
     },
     "metadata": {
      "needs_background": "light"
     },
     "output_type": "display_data"
    }
   ],
   "source": [
    "# гистограмма дальности поездок\n",
    "df_go_ultra['distance'].hist(bins=30)"
   ]
  },
  {
   "cell_type": "markdown",
   "id": "b8f64728",
   "metadata": {},
   "source": [
    "**Большинство поездок от 2500 метров до 4200 метров**\n",
    "\n",
    "**Пик приходится на 3100 метров**"
   ]
  },
  {
   "cell_type": "code",
   "execution_count": 42,
   "id": "23bc83a1",
   "metadata": {},
   "outputs": [
    {
     "data": {
      "text/plain": [
       "<AxesSubplot:>"
      ]
     },
     "execution_count": 42,
     "metadata": {},
     "output_type": "execute_result"
    },
    {
     "data": {
      "image/png": "[encoded data removed]",
      "text/plain": [
       "<Figure size 432x288 with 1 Axes>"
      ]
     },
     "metadata": {
      "needs_background": "light"
     },
     "output_type": "display_data"
    }
   ],
   "source": [
    "# гистограмма длительности поездок\n",
    "df_go_ultra['duration'].hist(bins=30)"
   ]
  },
  {
   "cell_type": "markdown",
   "id": "f98da96e",
   "metadata": {},
   "source": [
    "**Большинство поездок проходит от 10 ддо 27 минут. Пик приходтися на 17 минут.**"
   ]
  },
  {
   "cell_type": "markdown",
   "id": "ae88ae17",
   "metadata": {},
   "source": [
    "**Построим графики времени и дальности поездок для пользователей без подписки**"
   ]
  },
  {
   "cell_type": "code",
   "execution_count": 43,
   "id": "b5d1889c",
   "metadata": {
    "scrolled": true
   },
   "outputs": [
    {
     "data": {
      "text/plain": [
       "<AxesSubplot:>"
      ]
     },
     "execution_count": 43,
     "metadata": {},
     "output_type": "execute_result"
    },
    {
     "data": {
      "image/png": "[encoded data removed]",
      "text/plain": [
       "<Figure size 432x288 with 1 Axes>"
      ]
     },
     "metadata": {
      "needs_background": "light"
     },
     "output_type": "display_data"
    }
   ],
   "source": [
    "# гистограмма дальности поездок\n",
    "df_go_free['distance'].hist(bins=30)"
   ]
  },
  {
   "cell_type": "markdown",
   "id": "9726da61",
   "metadata": {},
   "source": [
    "**Большинство поездок от 2000 метров до 4600 метров. Пик приходится на 2500 метров**"
   ]
  },
  {
   "cell_type": "code",
   "execution_count": 44,
   "id": "37461f0c",
   "metadata": {
    "scrolled": true
   },
   "outputs": [
    {
     "data": {
      "text/plain": [
       "<AxesSubplot:>"
      ]
     },
     "execution_count": 44,
     "metadata": {},
     "output_type": "execute_result"
    },
    {
     "data": {
      "image/png": "[encoded data removed]",
      "text/plain": [
       "<Figure size 432x288 with 1 Axes>"
      ]
     },
     "metadata": {
      "needs_background": "light"
     },
     "output_type": "display_data"
    }
   ],
   "source": [
    "# гистограмма длительности поездок\n",
    "df_go_free['duration'].hist(bins=30)"
   ]
  },
  {
   "cell_type": "markdown",
   "id": "82cda808",
   "metadata": {},
   "source": [
    "**Большинсто поездок от 8 до 27 минут. Пик с 16 до 20 минут**"
   ]
  },
  {
   "cell_type": "markdown",
   "id": "402d620f",
   "metadata": {},
   "source": [
    "#### Шаг 5. Подсчёт выручки"
   ]
  },
  {
   "cell_type": "markdown",
   "id": "0ad2cb64",
   "metadata": {},
   "source": [
    "**Необходимо найти суммарное расстояние, количество поездок и суммарное время для каждого пользователя за каждый месяц.**\n",
    "\n",
    "**Найдём количество поездок каждого пользователя по месяцам**"
   ]
  },
  {
   "cell_type": "code",
   "execution_count": 45,
   "id": "1e680060",
   "metadata": {},
   "outputs": [
    {
     "data": {
      "text/html": [
       "<div>\n",
       "<style scoped>\n",
       "    .dataframe tbody tr th:only-of-type {\n",
       "        vertical-align: middle;\n",
       "    }\n",
       "\n",
       "    .dataframe tbody tr th {\n",
       "        vertical-align: top;\n",
       "    }\n",
       "\n",
       "    .dataframe thead th {\n",
       "        text-align: right;\n",
       "    }\n",
       "</style>\n",
       "<table border=\"1\" class=\"dataframe\">\n",
       "  <thead>\n",
       "    <tr style=\"text-align: right;\">\n",
       "      <th></th>\n",
       "      <th></th>\n",
       "      <th></th>\n",
       "      <th>trip_sum</th>\n",
       "    </tr>\n",
       "    <tr>\n",
       "      <th>user_id</th>\n",
       "      <th>month</th>\n",
       "      <th>subscription_type</th>\n",
       "      <th></th>\n",
       "    </tr>\n",
       "  </thead>\n",
       "  <tbody>\n",
       "    <tr>\n",
       "      <th rowspan=\"6\" valign=\"top\">1</th>\n",
       "      <th>1</th>\n",
       "      <th>ultra</th>\n",
       "      <td>2</td>\n",
       "    </tr>\n",
       "    <tr>\n",
       "      <th>4</th>\n",
       "      <th>ultra</th>\n",
       "      <td>1</td>\n",
       "    </tr>\n",
       "    <tr>\n",
       "      <th>8</th>\n",
       "      <th>ultra</th>\n",
       "      <td>2</td>\n",
       "    </tr>\n",
       "    <tr>\n",
       "      <th>10</th>\n",
       "      <th>ultra</th>\n",
       "      <td>2</td>\n",
       "    </tr>\n",
       "    <tr>\n",
       "      <th>11</th>\n",
       "      <th>ultra</th>\n",
       "      <td>3</td>\n",
       "    </tr>\n",
       "    <tr>\n",
       "      <th>12</th>\n",
       "      <th>ultra</th>\n",
       "      <td>2</td>\n",
       "    </tr>\n",
       "    <tr>\n",
       "      <th rowspan=\"4\" valign=\"top\">2</th>\n",
       "      <th>3</th>\n",
       "      <th>ultra</th>\n",
       "      <td>3</td>\n",
       "    </tr>\n",
       "    <tr>\n",
       "      <th>4</th>\n",
       "      <th>ultra</th>\n",
       "      <td>2</td>\n",
       "    </tr>\n",
       "    <tr>\n",
       "      <th>6</th>\n",
       "      <th>ultra</th>\n",
       "      <td>1</td>\n",
       "    </tr>\n",
       "    <tr>\n",
       "      <th>7</th>\n",
       "      <th>ultra</th>\n",
       "      <td>2</td>\n",
       "    </tr>\n",
       "  </tbody>\n",
       "</table>\n",
       "</div>"
      ],
      "text/plain": [
       "                                 trip_sum\n",
       "user_id month subscription_type          \n",
       "1       1     ultra                     2\n",
       "        4     ultra                     1\n",
       "        8     ultra                     2\n",
       "        10    ultra                     2\n",
       "        11    ultra                     3\n",
       "        12    ultra                     2\n",
       "2       3     ultra                     3\n",
       "        4     ultra                     2\n",
       "        6     ultra                     1\n",
       "        7     ultra                     2"
      ]
     },
     "execution_count": 45,
     "metadata": {},
     "output_type": "execute_result"
    }
   ],
   "source": [
    "# Для количества поездок для пользователя за месяц подсчитаем сколько записей \n",
    "# приходится на каждый месяц, можно использовать любой другой столбец\n",
    "\n",
    "df_agg_go = pd.DataFrame()\n",
    "df_agg_go = df_go.pivot_table(index=['user_id', 'month', 'subscription_type'],\n",
    "                              values='date', aggfunc='count')\n",
    "\n",
    "\n",
    "# переименуем столбец\n",
    "df_agg_go.rename(columns = { 'date' : 'trip_sum'}, inplace = True)\n",
    "# проверка\n",
    "df_agg_go.head(10)"
   ]
  },
  {
   "cell_type": "markdown",
   "id": "f7bab730",
   "metadata": {},
   "source": [
    "**Выведем в отдельный столбец сборного датафрейма суммарную дальность поездок каждого пользователя**"
   ]
  },
  {
   "cell_type": "code",
   "execution_count": 46,
   "id": "c41d3410",
   "metadata": {},
   "outputs": [
    {
     "data": {
      "text/html": [
       "<div>\n",
       "<style scoped>\n",
       "    .dataframe tbody tr th:only-of-type {\n",
       "        vertical-align: middle;\n",
       "    }\n",
       "\n",
       "    .dataframe tbody tr th {\n",
       "        vertical-align: top;\n",
       "    }\n",
       "\n",
       "    .dataframe thead th {\n",
       "        text-align: right;\n",
       "    }\n",
       "</style>\n",
       "<table border=\"1\" class=\"dataframe\">\n",
       "  <thead>\n",
       "    <tr style=\"text-align: right;\">\n",
       "      <th></th>\n",
       "      <th></th>\n",
       "      <th></th>\n",
       "      <th>trip_sum</th>\n",
       "      <th>distance_sum</th>\n",
       "    </tr>\n",
       "    <tr>\n",
       "      <th>user_id</th>\n",
       "      <th>month</th>\n",
       "      <th>subscription_type</th>\n",
       "      <th></th>\n",
       "      <th></th>\n",
       "    </tr>\n",
       "  </thead>\n",
       "  <tbody>\n",
       "    <tr>\n",
       "      <th rowspan=\"6\" valign=\"top\">1</th>\n",
       "      <th>1</th>\n",
       "      <th>ultra</th>\n",
       "      <td>2</td>\n",
       "      <td>7027.511294</td>\n",
       "    </tr>\n",
       "    <tr>\n",
       "      <th>4</th>\n",
       "      <th>ultra</th>\n",
       "      <td>1</td>\n",
       "      <td>754.159807</td>\n",
       "    </tr>\n",
       "    <tr>\n",
       "      <th>8</th>\n",
       "      <th>ultra</th>\n",
       "      <td>2</td>\n",
       "      <td>6723.470560</td>\n",
       "    </tr>\n",
       "    <tr>\n",
       "      <th>10</th>\n",
       "      <th>ultra</th>\n",
       "      <td>2</td>\n",
       "      <td>5809.911100</td>\n",
       "    </tr>\n",
       "    <tr>\n",
       "      <th>11</th>\n",
       "      <th>ultra</th>\n",
       "      <td>3</td>\n",
       "      <td>7003.499363</td>\n",
       "    </tr>\n",
       "    <tr>\n",
       "      <th>12</th>\n",
       "      <th>ultra</th>\n",
       "      <td>2</td>\n",
       "      <td>6751.629942</td>\n",
       "    </tr>\n",
       "    <tr>\n",
       "      <th rowspan=\"7\" valign=\"top\">2</th>\n",
       "      <th>3</th>\n",
       "      <th>ultra</th>\n",
       "      <td>3</td>\n",
       "      <td>10187.723006</td>\n",
       "    </tr>\n",
       "    <tr>\n",
       "      <th>4</th>\n",
       "      <th>ultra</th>\n",
       "      <td>2</td>\n",
       "      <td>6164.381824</td>\n",
       "    </tr>\n",
       "    <tr>\n",
       "      <th>6</th>\n",
       "      <th>ultra</th>\n",
       "      <td>1</td>\n",
       "      <td>3255.338202</td>\n",
       "    </tr>\n",
       "    <tr>\n",
       "      <th>7</th>\n",
       "      <th>ultra</th>\n",
       "      <td>2</td>\n",
       "      <td>6780.722964</td>\n",
       "    </tr>\n",
       "    <tr>\n",
       "      <th>8</th>\n",
       "      <th>ultra</th>\n",
       "      <td>1</td>\n",
       "      <td>923.007439</td>\n",
       "    </tr>\n",
       "    <tr>\n",
       "      <th>10</th>\n",
       "      <th>ultra</th>\n",
       "      <td>1</td>\n",
       "      <td>2824.636598</td>\n",
       "    </tr>\n",
       "    <tr>\n",
       "      <th>12</th>\n",
       "      <th>ultra</th>\n",
       "      <td>1</td>\n",
       "      <td>3828.248580</td>\n",
       "    </tr>\n",
       "    <tr>\n",
       "      <th rowspan=\"7\" valign=\"top\">3</th>\n",
       "      <th>1</th>\n",
       "      <th>ultra</th>\n",
       "      <td>1</td>\n",
       "      <td>3061.777147</td>\n",
       "    </tr>\n",
       "    <tr>\n",
       "      <th>2</th>\n",
       "      <th>ultra</th>\n",
       "      <td>2</td>\n",
       "      <td>5421.152016</td>\n",
       "    </tr>\n",
       "    <tr>\n",
       "      <th>4</th>\n",
       "      <th>ultra</th>\n",
       "      <td>1</td>\n",
       "      <td>2956.651632</td>\n",
       "    </tr>\n",
       "    <tr>\n",
       "      <th>5</th>\n",
       "      <th>ultra</th>\n",
       "      <td>3</td>\n",
       "      <td>9064.026918</td>\n",
       "    </tr>\n",
       "    <tr>\n",
       "      <th>7</th>\n",
       "      <th>ultra</th>\n",
       "      <td>3</td>\n",
       "      <td>10919.595403</td>\n",
       "    </tr>\n",
       "    <tr>\n",
       "      <th>9</th>\n",
       "      <th>ultra</th>\n",
       "      <td>1</td>\n",
       "      <td>2891.012822</td>\n",
       "    </tr>\n",
       "    <tr>\n",
       "      <th>12</th>\n",
       "      <th>ultra</th>\n",
       "      <td>1</td>\n",
       "      <td>2593.381928</td>\n",
       "    </tr>\n",
       "  </tbody>\n",
       "</table>\n",
       "</div>"
      ],
      "text/plain": [
       "                                 trip_sum  distance_sum\n",
       "user_id month subscription_type                        \n",
       "1       1     ultra                     2   7027.511294\n",
       "        4     ultra                     1    754.159807\n",
       "        8     ultra                     2   6723.470560\n",
       "        10    ultra                     2   5809.911100\n",
       "        11    ultra                     3   7003.499363\n",
       "        12    ultra                     2   6751.629942\n",
       "2       3     ultra                     3  10187.723006\n",
       "        4     ultra                     2   6164.381824\n",
       "        6     ultra                     1   3255.338202\n",
       "        7     ultra                     2   6780.722964\n",
       "        8     ultra                     1    923.007439\n",
       "        10    ultra                     1   2824.636598\n",
       "        12    ultra                     1   3828.248580\n",
       "3       1     ultra                     1   3061.777147\n",
       "        2     ultra                     2   5421.152016\n",
       "        4     ultra                     1   2956.651632\n",
       "        5     ultra                     3   9064.026918\n",
       "        7     ultra                     3  10919.595403\n",
       "        9     ultra                     1   2891.012822\n",
       "        12    ultra                     1   2593.381928"
      ]
     },
     "execution_count": 46,
     "metadata": {},
     "output_type": "execute_result"
    }
   ],
   "source": [
    "# суммарное расстрояние для каждого пользователя\n",
    "df_agg_go['distance_sum'] = df_go.pivot_table(index=['user_id', 'month', 'subscription_type'], values='distance', aggfunc='sum')\n",
    "\n",
    "\n",
    "# проверка\n",
    "df_agg_go.head(20)"
   ]
  },
  {
   "cell_type": "markdown",
   "id": "d3586ec6",
   "metadata": {},
   "source": [
    "**Выведем в отдельный столбец сборного датафрейма суммарное время поездок каждого пользователя**"
   ]
  },
  {
   "cell_type": "code",
   "execution_count": 47,
   "id": "62dbf4fc",
   "metadata": {},
   "outputs": [],
   "source": [
    "# округляем значение времени поездки\n",
    "df_go['duration'] = df_go['duration'].round()\n",
    "\n",
    "# суммарное время для каждого пользователя\n",
    "df_agg_go['duration_sum'] = df_go.pivot_table(index=['user_id', 'month', 'subscription_type'], \n",
    "                                              values='duration', aggfunc='sum')\n"
   ]
  },
  {
   "cell_type": "code",
   "execution_count": 48,
   "id": "882407a1",
   "metadata": {},
   "outputs": [
    {
     "data": {
      "text/html": [
       "<div>\n",
       "<style scoped>\n",
       "    .dataframe tbody tr th:only-of-type {\n",
       "        vertical-align: middle;\n",
       "    }\n",
       "\n",
       "    .dataframe tbody tr th {\n",
       "        vertical-align: top;\n",
       "    }\n",
       "\n",
       "    .dataframe thead th {\n",
       "        text-align: right;\n",
       "    }\n",
       "</style>\n",
       "<table border=\"1\" class=\"dataframe\">\n",
       "  <thead>\n",
       "    <tr style=\"text-align: right;\">\n",
       "      <th></th>\n",
       "      <th>user_id</th>\n",
       "      <th>month</th>\n",
       "      <th>subscription_type</th>\n",
       "      <th>trip_sum</th>\n",
       "      <th>distance_sum</th>\n",
       "      <th>duration_sum</th>\n",
       "    </tr>\n",
       "  </thead>\n",
       "  <tbody>\n",
       "    <tr>\n",
       "      <th>0</th>\n",
       "      <td>1</td>\n",
       "      <td>1</td>\n",
       "      <td>ultra</td>\n",
       "      <td>2</td>\n",
       "      <td>7027.511294</td>\n",
       "      <td>42.0</td>\n",
       "    </tr>\n",
       "    <tr>\n",
       "      <th>1</th>\n",
       "      <td>1</td>\n",
       "      <td>4</td>\n",
       "      <td>ultra</td>\n",
       "      <td>1</td>\n",
       "      <td>754.159807</td>\n",
       "      <td>6.0</td>\n",
       "    </tr>\n",
       "    <tr>\n",
       "      <th>2</th>\n",
       "      <td>1</td>\n",
       "      <td>8</td>\n",
       "      <td>ultra</td>\n",
       "      <td>2</td>\n",
       "      <td>6723.470560</td>\n",
       "      <td>45.0</td>\n",
       "    </tr>\n",
       "    <tr>\n",
       "      <th>3</th>\n",
       "      <td>1</td>\n",
       "      <td>10</td>\n",
       "      <td>ultra</td>\n",
       "      <td>2</td>\n",
       "      <td>5809.911100</td>\n",
       "      <td>32.0</td>\n",
       "    </tr>\n",
       "    <tr>\n",
       "      <th>4</th>\n",
       "      <td>1</td>\n",
       "      <td>11</td>\n",
       "      <td>ultra</td>\n",
       "      <td>3</td>\n",
       "      <td>7003.499363</td>\n",
       "      <td>53.0</td>\n",
       "    </tr>\n",
       "    <tr>\n",
       "      <th>5</th>\n",
       "      <td>1</td>\n",
       "      <td>12</td>\n",
       "      <td>ultra</td>\n",
       "      <td>2</td>\n",
       "      <td>6751.629942</td>\n",
       "      <td>28.0</td>\n",
       "    </tr>\n",
       "    <tr>\n",
       "      <th>6</th>\n",
       "      <td>2</td>\n",
       "      <td>3</td>\n",
       "      <td>ultra</td>\n",
       "      <td>3</td>\n",
       "      <td>10187.723006</td>\n",
       "      <td>61.0</td>\n",
       "    </tr>\n",
       "    <tr>\n",
       "      <th>7</th>\n",
       "      <td>2</td>\n",
       "      <td>4</td>\n",
       "      <td>ultra</td>\n",
       "      <td>2</td>\n",
       "      <td>6164.381824</td>\n",
       "      <td>39.0</td>\n",
       "    </tr>\n",
       "    <tr>\n",
       "      <th>8</th>\n",
       "      <td>2</td>\n",
       "      <td>6</td>\n",
       "      <td>ultra</td>\n",
       "      <td>1</td>\n",
       "      <td>3255.338202</td>\n",
       "      <td>14.0</td>\n",
       "    </tr>\n",
       "    <tr>\n",
       "      <th>9</th>\n",
       "      <td>2</td>\n",
       "      <td>7</td>\n",
       "      <td>ultra</td>\n",
       "      <td>2</td>\n",
       "      <td>6780.722964</td>\n",
       "      <td>46.0</td>\n",
       "    </tr>\n",
       "  </tbody>\n",
       "</table>\n",
       "</div>"
      ],
      "text/plain": [
       "   user_id  month subscription_type  trip_sum  distance_sum  duration_sum\n",
       "0        1      1             ultra         2   7027.511294          42.0\n",
       "1        1      4             ultra         1    754.159807           6.0\n",
       "2        1      8             ultra         2   6723.470560          45.0\n",
       "3        1     10             ultra         2   5809.911100          32.0\n",
       "4        1     11             ultra         3   7003.499363          53.0\n",
       "5        1     12             ultra         2   6751.629942          28.0\n",
       "6        2      3             ultra         3  10187.723006          61.0\n",
       "7        2      4             ultra         2   6164.381824          39.0\n",
       "8        2      6             ultra         1   3255.338202          14.0\n",
       "9        2      7             ultra         2   6780.722964          46.0"
      ]
     },
     "execution_count": 48,
     "metadata": {},
     "output_type": "execute_result"
    }
   ],
   "source": [
    "# сброс индекса\n",
    "df_agg_go.reset_index(inplace= True )\n",
    "\n",
    "# проверка\n",
    "df_agg_go.head(10)"
   ]
  },
  {
   "cell_type": "markdown",
   "id": "88c2a9a8",
   "metadata": {},
   "source": [
    "**Далее посчитаем помесячную выручку и добавим в новый столбец**"
   ]
  },
  {
   "cell_type": "code",
   "execution_count": 49,
   "id": "f94afe86",
   "metadata": {},
   "outputs": [],
   "source": [
    "# введём переменные для стоимости элементов поездки\n",
    "\n",
    "# стоимость старта с подпиской и без\n",
    "start_ultra = 0\n",
    "start_free = 50\n",
    "\n",
    "# стоимость подписки\n",
    "subscr_ultra = 199\n",
    "subscr_free = 0\n",
    "\n",
    "# стоимость одной минуты с подпиской и без\n",
    "one_min_ultra = 6\n",
    "one_min_free = 8\n",
    "\n",
    "#функция для подсчёта помесячной суммы\n",
    "def month_pay_sum(row):\n",
    "    if row['subscription_type'] == 'ultra':\n",
    "        month_sum = subscr_ultra + start_ultra * row['trip_sum'] + one_min_ultra * row['duration_sum']\n",
    "        return month_sum\n",
    "    else:\n",
    "        month_sum = subscr_free + start_free * row['trip_sum'] + one_min_free * row['duration_sum']\n",
    "        return month_sum"
   ]
  },
  {
   "cell_type": "code",
   "execution_count": 50,
   "id": "0f4147a6",
   "metadata": {},
   "outputs": [],
   "source": [
    "df_agg_go['month_pay'] = df_agg_go.apply(month_pay_sum, axis = 1)"
   ]
  },
  {
   "cell_type": "code",
   "execution_count": 74,
   "id": "f17526ad",
   "metadata": {
    "scrolled": false
   },
   "outputs": [
    {
     "name": "stdout",
     "output_type": "stream",
     "text": [
      "   user_id  month subscription_type  trip_sum  distance_sum  duration_sum  \\\n",
      "0        1      1             ultra         2   7027.511294          42.0   \n",
      "1        1      4             ultra         1    754.159807           6.0   \n",
      "2        1      8             ultra         2   6723.470560          45.0   \n",
      "3        1     10             ultra         2   5809.911100          32.0   \n",
      "4        1     11             ultra         3   7003.499363          53.0   \n",
      "\n",
      "   month_pay  \n",
      "0      451.0  \n",
      "1      235.0  \n",
      "2      469.0  \n",
      "3      391.0  \n",
      "4      517.0  \n"
     ]
    },
    {
     "data": {
      "text/plain": [
       "3812767.0"
      ]
     },
     "execution_count": 74,
     "metadata": {},
     "output_type": "execute_result"
    }
   ],
   "source": [
    "# проверка, добавился ли столбец\n",
    "print(df_agg_go.head())\n",
    "#df_agg_go.tail()\n",
    "df_agg_go['month_pay'].sum()\n",
    "#df_agg_go['duration_sum'].sum()"
   ]
  },
  {
   "cell_type": "markdown",
   "id": "f3a79571",
   "metadata": {},
   "source": [
    "**Выручка подсчитана, далее проверим гипотезы**"
   ]
  },
  {
   "cell_type": "markdown",
   "id": "41545ac0",
   "metadata": {},
   "source": [
    "#### Шаг 6. Проверка гипотез"
   ]
  },
  {
   "cell_type": "markdown",
   "id": "b5acaf7f",
   "metadata": {},
   "source": [
    "**Гипотеза №1. Тратят ли пользователи с подпиской больше времени на поездки.**"
   ]
  },
  {
   "cell_type": "markdown",
   "id": "ada28c6e",
   "metadata": {},
   "source": [
    "**Задача: выяснить, тратят ли пользователи с подпиской больше времени на поездку.**\n",
    "\n",
    "**Нулевая гипотеза: в среднем, пользователи с подпиской тратят на поездку меньше или равное время, что и пользователи без подпиской..**\n",
    "\n",
    "**Альтернативная гипотеза: пользователи с подпиской, в среднем, тратят больше времени на поездку, чем пользователи без подписки**\n",
    "\n",
    "**Статистическая значимость 5%**"
   ]
  },
  {
   "cell_type": "code",
   "execution_count": 65,
   "id": "0480e7ae",
   "metadata": {},
   "outputs": [
    {
     "name": "stdout",
     "output_type": "stream",
     "text": [
      "p-значение: 1.2804098316645618e-34\n",
      "Отвергаем нулевую гипотезу\n"
     ]
    }
   ],
   "source": [
    "# уровень статистической значимости\n",
    "alpha = 0.05\n",
    "\n",
    "results = st.ttest_ind(\n",
    "    df_go_ultra['duration'],\n",
    "    df_go_free['duration'], \n",
    "    alternative='greater')\n",
    "\n",
    "print('p-значение:', results.pvalue)\n",
    "\n",
    "if (results.pvalue < alpha):\n",
    "    print('Отвергаем нулевую гипотезу')\n",
    "else:\n",
    "    print('Не отвергаем нулевую гипотезу') "
   ]
  },
  {
   "cell_type": "markdown",
   "id": "35d31a06",
   "metadata": {},
   "source": [
    "**Выяснили, что пользователи без подписки тратят больше времени на поездку**"
   ]
  },
  {
   "cell_type": "markdown",
   "id": "f6ff5842",
   "metadata": {},
   "source": [
    "**Расстояние одной поездки в 3130 метров — оптимальное с точки зрения износа самоката.**\n",
    "**Гипотеза №2 расстояние, которое проезжают пользователи с подпиской не превышает 3130 метров**\n",
    "\n",
    "**Нулевая гипотеза, среднее расстояние поездки пользователей с подпиской меньше или равно 3130 метрам**\n",
    "\n",
    "**Альтернативная гипотеза, среднее время поездки пользователей с подпиской превышает 3130 метров**\n",
    "\n",
    "**Статистическая значимость 5%**"
   ]
  },
  {
   "cell_type": "code",
   "execution_count": 53,
   "id": "e9e0f6e6",
   "metadata": {},
   "outputs": [],
   "source": [
    "# создадим таблицу для сравнения"
   ]
  },
  {
   "cell_type": "code",
   "execution_count": 77,
   "id": "b9aa333d",
   "metadata": {},
   "outputs": [
    {
     "name": "stdout",
     "output_type": "stream",
     "text": [
      "p-значение: 0.9195368847849785\n",
      "Не отвергаем нулевую гипотезу\n"
     ]
    }
   ],
   "source": [
    "# уровень статистической значимости\n",
    "alpha = 0.05\n",
    "\n",
    "# значение для сравнения\n",
    "distance_value = 3130\n",
    "\n",
    "results = st.ttest_1samp(\n",
    "    df_go_ultra['distance'],\n",
    "    distance_value,\n",
    "    alternative = 'greater')\n",
    "\n",
    "print('p-значение:', results.pvalue)\n",
    "\n",
    "if (results.pvalue < alpha):\n",
    "    print('Отвергаем нулевую гипотезу')\n",
    "else:\n",
    "    print('Не отвергаем нулевую гипотезу') "
   ]
  },
  {
   "cell_type": "markdown",
   "id": "3bd4d1bf",
   "metadata": {},
   "source": [
    "**Действительно пользователи с подпиской проезжают, меньше 3130 метров, что благополучно скажется на износе самокатов**"
   ]
  },
  {
   "cell_type": "markdown",
   "id": "c130424b",
   "metadata": {},
   "source": [
    "**Гипотеза №3.Будет ли помесячная выручка от пользователей с подпиской по месяцам выше, чем от пользователей без подписки**\n",
    "\n",
    "**Нулевая гипотеза: Средняя помесячная выручка от пользователей с подпиской меньше или равна средней помесячной выручке от пользователей без подписки**\n",
    "\n",
    "**Альтернативная гипотеза: Средняя помесячная выручка от пользователей с подпиской выше, чем средняя помесячная выручка от пользователей без подписки**\n",
    "\n",
    "**Статистическая значимость 5%**"
   ]
  },
  {
   "cell_type": "code",
   "execution_count": 76,
   "id": "631c6530",
   "metadata": {},
   "outputs": [
    {
     "name": "stdout",
     "output_type": "stream",
     "text": [
      "p-значение: 1.7274069878387966e-37\n",
      "Отвергаем нулевую гипотезу\n"
     ]
    }
   ],
   "source": [
    "# уровень статистической значимости\n",
    "alpha = 0.05\n",
    "\n",
    "results = st.ttest_ind(\n",
    "    df_agg_go.query('subscription_type == \"ultra\"')['month_pay'],\n",
    "    df_agg_go.query('subscription_type == \"free\"')['month_pay'],  \n",
    "    alternative='greater')\n",
    "\n",
    "print('p-значение:', results.pvalue)\n",
    "\n",
    "if (results.pvalue < alpha):\n",
    "    print('Отвергаем нулевую гипотезу')\n",
    "else:\n",
    "    print('Не отвергаем нулевую гипотезу') "
   ]
  },
  {
   "cell_type": "markdown",
   "id": "4cf430f4",
   "metadata": {},
   "source": [
    "**Нулевая опровергнута, а значит пользователи с подпиской приносят больше прибыли чем пользователи без подписки**"
   ]
  },
  {
   "cell_type": "markdown",
   "id": "ff61d8d1",
   "metadata": {},
   "source": [
    "**Задание 6.4 Представьте такую ситуацию: техническая команда сервиса обновила сервера, с которыми взаимодействует мобильное приложение. Она надеется, что из-за этого количество обращений в техподдержку значимо снизилось. Некоторый файл содержит для каждого пользователя данные о количестве обращений до обновления и после него. Какой тест вам понадобился бы для проверки этой гипотезы?**\n",
    "\n",
    "**Напрпшивается вывод, что нам понадобитс проверка гипотезы о равенстве средних для зависимых (парных) выборок, но в здест проверятся только равенство выборок до и после изменений. Нам же нужно проверить что изменения произошли в меньшую сторону, поэтому предлагаю проверку о равенстве средних двух генеральных совокупностей**"
   ]
  },
  {
   "cell_type": "markdown",
   "id": "61213c5e",
   "metadata": {},
   "source": [
    "#### Шаг 7. Распределения"
   ]
  },
  {
   "cell_type": "markdown",
   "id": "6c24acdd",
   "metadata": {},
   "source": [
    "**7.1 Отделу маркетинга GoFast поставили задачу: нужно провести акцию с раздачей промокодов на один бесплатный месяц подписки, в рамках которой как минимум 100 существующих клиентов должны продлить эту подписку. То есть по завершении периода действия подписки пользователь может либо отказаться от неё, либо продлить, совершив соответствующий платёж. \n",
    "Эта акция уже проводилась ранее и по итогу выяснилось, что после бесплатного пробного периода подписку продлевают \n",
    "10 % пользователей. Выясните, какое минимальное количество промокодов нужно разослать, чтобы вероятность не выполнить план была примерно 5 %. Подберите параметры распределения, описывающего эту ситуацию, постройте график распределения и сформулируйте ответ на вопрос о количестве промокодов.**"
   ]
  },
  {
   "cell_type": "code",
   "execution_count": 56,
   "id": "f6e9fb2c",
   "metadata": {},
   "outputs": [
    {
     "data": {
      "text/plain": [
       "1534"
      ]
     },
     "execution_count": 56,
     "metadata": {},
     "output_type": "execute_result"
    }
   ],
   "source": [
    "df_agg_go['user_id'].nunique()"
   ]
  },
  {
   "cell_type": "code",
   "execution_count": 57,
   "id": "5f2cf729",
   "metadata": {},
   "outputs": [
    {
     "data": {
      "text/plain": [
       "<BarContainer object of 101 artists>"
      ]
     },
     "execution_count": 57,
     "metadata": {},
     "output_type": "execute_result"
    },
    {
     "data": {
      "image/png": "[encoded data removed]",
      "text/plain": [
       "<Figure size 432x288 with 1 Axes>"
      ]
     },
     "metadata": {
      "needs_background": "light"
     },
     "output_type": "display_data"
    }
   ],
   "source": [
    "# используем биномиальное распределение\n",
    "# построим график\n",
    "\n",
    "# количество попыток\n",
    "n = 100\n",
    "\n",
    "# вероятность успеха\n",
    "p = 0.1 \n",
    "\n",
    "distr = []\n",
    "\n",
    "\n",
    "for k in range(0, n + 1):\n",
    "    choose = factorial(n) / (factorial(k) * factorial(n - k))\n",
    "    prob = choose * p**k * (1 - p)**(n - k) \n",
    "    distr.append(prob)\n",
    "    \n",
    "plt.bar(range(0, n + 1), distr)\n"
   ]
  },
  {
   "cell_type": "markdown",
   "id": "541b2ac1",
   "metadata": {},
   "source": [
    "**Искать нужное количество на распределении больше 1000 лучше с помошью аппроксимации**"
   ]
  },
  {
   "cell_type": "code",
   "execution_count": 58,
   "id": "fda19b26",
   "metadata": {},
   "outputs": [
    {
     "name": "stdout",
     "output_type": "stream",
     "text": [
      "0.9999974273273825\n"
     ]
    }
   ],
   "source": [
    "# задаём параметры биномиального распределения\n",
    "# количесто попыток\n",
    "n = 1536\n",
    "# вероятность успеха\n",
    "p = 0.1\n",
    "\n",
    "# задаём параметры нормального распределения равными\n",
    "# мат.ожиданию и дисперсии биномиального распределения\n",
    "mu = n * p\n",
    "sigma = sqrt(n * p * (1 - p))\n",
    "\n",
    "# задаём нормальное распределение\n",
    "distr = st.norm(mu, sigma) \n",
    "\n",
    "# считаем вероятность хвоста слева от 43 тысяч\n",
    "result = 1 - distr.cdf(100)\n",
    "print(result)"
   ]
  },
  {
   "cell_type": "markdown",
   "id": "d76d4ea2",
   "metadata": {},
   "source": [
    "**Если разослать промокоды всем, то вероятность успеха почти 100%**\n",
    "\n",
    "**Подберём нужное количество промокодов для  успеха**"
   ]
  },
  {
   "cell_type": "code",
   "execution_count": 59,
   "id": "ff3e91ea",
   "metadata": {},
   "outputs": [
    {
     "name": "stdout",
     "output_type": "stream",
     "text": [
      "0.9502851068730583\n"
     ]
    }
   ],
   "source": [
    "# задаём параметры биномиального распределения\n",
    "# количесто попыток\n",
    "n = 1169\n",
    "# вероятность успеха\n",
    "p = 0.1\n",
    "\n",
    "# задаём параметры нормального распределения равными\n",
    "# мат.ожиданию и дисперсии биномиального распределения\n",
    "mu = n * p\n",
    "sigma = sqrt(n * p * (1 - p))\n",
    "\n",
    "# задаём нормальное распределение\n",
    "distr = st.norm(mu, sigma) \n",
    "\n",
    "result = 1 - distr.cdf(100)\n",
    "print(result)"
   ]
  },
  {
   "cell_type": "markdown",
   "id": "9e463d22",
   "metadata": {},
   "source": [
    "**Для вероятности успеха в подписке 100 клиентов в 95% необходимо разослать 1169 промокодов**"
   ]
  },
  {
   "cell_type": "markdown",
   "id": "5b621ebc",
   "metadata": {},
   "source": [
    "**7.2 Отдел маркетинга рассылает клиентам push-уведомления в мобильном приложении. Клиенты могут открыть его или не открывать. Известно, что уведомления открывают около 40 % получивших клиентов. Отдел планирует разослать 1 млн уведомлений. С помощью аппроксимации постройте примерный график распределения и оцените вероятность того, что уведомление откроют не более 399,5 тыс. пользователей.**"
   ]
  },
  {
   "cell_type": "markdown",
   "id": "4bc9eb03",
   "metadata": {},
   "source": [
    "**Для подсчтёта используем аппроксимацию**"
   ]
  },
  {
   "cell_type": "code",
   "execution_count": 60,
   "id": "40f0b534",
   "metadata": {},
   "outputs": [
    {
     "name": "stdout",
     "output_type": "stream",
     "text": [
      "0.15371708296369768\n"
     ]
    }
   ],
   "source": [
    "# задаём параметры биномиального распределения\n",
    "# количесто попыток\n",
    "n = 1000000\n",
    "# вероятность успеха\n",
    "p = 0.4\n",
    "\n",
    "# задаём параметры нормального распределения равными\n",
    "# мат.ожиданию и дисперсии биномиального распределения\n",
    "mu = n * p\n",
    "sigma = sqrt(n * p * (1 - p))\n",
    "\n",
    "# задаём нормальное распределение\n",
    "distr = st.norm(mu, sigma) \n",
    "\n",
    "result = distr.cdf(399500)\n",
    "print(result)"
   ]
  },
  {
   "cell_type": "markdown",
   "id": "883606a0",
   "metadata": {},
   "source": [
    "**Вероятность в 15%, довольно небольша вероятность успеха**"
   ]
  },
  {
   "cell_type": "markdown",
   "id": "480e744a",
   "metadata": {},
   "source": [
    "**Итоговый вывод**\n",
    "\n",
    "**Возраст пользователей приложения в основном в возрасте от 20 до 30 лет с пиком в 25**\n",
    "\n",
    "**Большинство поездок укладывается в интервал от 2800м, до 3500м с пиком около 3000 метров.**\n",
    "\n",
    "**В основном поездки занимат от 15 до 21 минуты чаше всего ездят по 17 минут.**\n",
    "\n",
    "**Почти 45.5% пользователей имеют подписку, без подписки соответсвенно 55,5%**\n",
    "\n",
    "**Наибольшее количество пользователей нахоится в  Пятигорске, числом 219. На втором месте Екатеринбург с 204мя пользователями. На последнем Москва в которой 168 пользователей.**\n",
    "\n",
    "\n",
    "**В процессе исследования выяснили, что пользователи с подпиской тратят больше времени на поездку, проезжают меньше 3130 метров, а приыли приносят больше.**\n",
    "\n",
    "**Считаю, что смело можно рекомендовать отделу маркетига рекламировать для пользоватлей подписку**"
   ]
  }
 ],
 "metadata": {
  "ExecuteTimeLog": [
   {
    "duration": 48,
    "start_time": "2023-08-10T09:27:00.611Z"
   },
   {
    "duration": 1215,
    "start_time": "2023-08-10T09:27:06.982Z"
   },
   {
    "duration": 158,
    "start_time": "2023-08-10T09:27:39.379Z"
   },
   {
    "duration": 17,
    "start_time": "2023-08-10T09:27:54.857Z"
   },
   {
    "duration": 16,
    "start_time": "2023-08-10T09:31:08.520Z"
   },
   {
    "duration": 181,
    "start_time": "2023-08-10T09:31:40.316Z"
   },
   {
    "duration": 9,
    "start_time": "2023-08-10T09:32:47.100Z"
   },
   {
    "duration": 17,
    "start_time": "2023-08-10T09:34:20.464Z"
   },
   {
    "duration": 73,
    "start_time": "2023-08-10T09:34:45.072Z"
   },
   {
    "duration": 8,
    "start_time": "2023-08-10T09:34:53.084Z"
   },
   {
    "duration": 7,
    "start_time": "2023-08-10T09:35:25.412Z"
   },
   {
    "duration": 13,
    "start_time": "2023-08-10T09:38:23.267Z"
   },
   {
    "duration": 8,
    "start_time": "2023-08-10T10:14:58.826Z"
   },
   {
    "duration": 63,
    "start_time": "2023-08-10T10:15:19.638Z"
   },
   {
    "duration": 10,
    "start_time": "2023-08-10T10:15:23.047Z"
   },
   {
    "duration": 9,
    "start_time": "2023-08-10T10:15:28.527Z"
   },
   {
    "duration": 8,
    "start_time": "2023-08-10T10:18:13.565Z"
   },
   {
    "duration": 5,
    "start_time": "2023-08-10T10:18:45.204Z"
   },
   {
    "duration": 5,
    "start_time": "2023-08-10T10:20:03.038Z"
   },
   {
    "duration": 15,
    "start_time": "2023-08-10T10:20:29.170Z"
   },
   {
    "duration": 2,
    "start_time": "2023-08-10T10:24:19.992Z"
   },
   {
    "duration": 263,
    "start_time": "2023-08-10T10:24:33.397Z"
   },
   {
    "duration": 526,
    "start_time": "2023-08-10T10:24:57.191Z"
   },
   {
    "duration": 267,
    "start_time": "2023-08-10T10:25:14.367Z"
   },
   {
    "duration": 161,
    "start_time": "2023-08-10T10:25:29.890Z"
   },
   {
    "duration": 164,
    "start_time": "2023-08-10T10:26:07.387Z"
   },
   {
    "duration": 7,
    "start_time": "2023-08-10T10:28:13.704Z"
   },
   {
    "duration": 6,
    "start_time": "2023-08-10T10:28:33.692Z"
   },
   {
    "duration": 6,
    "start_time": "2023-08-10T10:28:55.923Z"
   },
   {
    "duration": 6,
    "start_time": "2023-08-10T10:29:23.216Z"
   },
   {
    "duration": 5,
    "start_time": "2023-08-10T10:29:36.890Z"
   },
   {
    "duration": 5,
    "start_time": "2023-08-10T10:29:58.591Z"
   },
   {
    "duration": 8,
    "start_time": "2023-08-10T10:32:16.115Z"
   },
   {
    "duration": 22,
    "start_time": "2023-08-10T10:32:43.887Z"
   },
   {
    "duration": 11,
    "start_time": "2023-08-10T10:33:17.953Z"
   },
   {
    "duration": 13,
    "start_time": "2023-08-10T10:33:27.629Z"
   },
   {
    "duration": 89,
    "start_time": "2023-08-10T10:33:34.288Z"
   },
   {
    "duration": 86,
    "start_time": "2023-08-10T10:33:36.546Z"
   },
   {
    "duration": 95,
    "start_time": "2023-08-10T10:33:41.090Z"
   },
   {
    "duration": 11,
    "start_time": "2023-08-10T10:34:29.884Z"
   },
   {
    "duration": 9,
    "start_time": "2023-08-10T10:34:45.225Z"
   },
   {
    "duration": 6,
    "start_time": "2023-08-10T10:36:22.890Z"
   },
   {
    "duration": 13,
    "start_time": "2023-08-10T10:37:28.939Z"
   },
   {
    "duration": 13,
    "start_time": "2023-08-10T10:37:32.293Z"
   },
   {
    "duration": 10,
    "start_time": "2023-08-10T10:37:35.696Z"
   },
   {
    "duration": 20,
    "start_time": "2023-08-10T10:37:55.895Z"
   },
   {
    "duration": 14,
    "start_time": "2023-08-10T10:47:38.620Z"
   },
   {
    "duration": 5,
    "start_time": "2023-08-10T10:48:08.735Z"
   },
   {
    "duration": 13,
    "start_time": "2023-08-10T10:48:38.770Z"
   },
   {
    "duration": 155,
    "start_time": "2023-08-10T10:49:06.023Z"
   },
   {
    "duration": 10,
    "start_time": "2023-08-10T10:49:09.223Z"
   },
   {
    "duration": 11,
    "start_time": "2023-08-10T10:49:38.510Z"
   },
   {
    "duration": 22,
    "start_time": "2023-08-10T10:49:51.817Z"
   },
   {
    "duration": 7,
    "start_time": "2023-08-10T10:50:28.220Z"
   },
   {
    "duration": 14,
    "start_time": "2023-08-10T10:51:04.388Z"
   },
   {
    "duration": 11,
    "start_time": "2023-08-10T10:51:08.603Z"
   },
   {
    "duration": 8,
    "start_time": "2023-08-10T10:51:43.449Z"
   },
   {
    "duration": 9,
    "start_time": "2023-08-10T10:51:46.007Z"
   },
   {
    "duration": 6,
    "start_time": "2023-08-10T10:52:05.445Z"
   },
   {
    "duration": 9,
    "start_time": "2023-08-10T10:52:35.888Z"
   },
   {
    "duration": 8,
    "start_time": "2023-08-10T10:53:53.327Z"
   },
   {
    "duration": 11,
    "start_time": "2023-08-10T10:54:25.697Z"
   },
   {
    "duration": 8,
    "start_time": "2023-08-10T10:54:30.254Z"
   },
   {
    "duration": 6,
    "start_time": "2023-08-10T10:54:37.390Z"
   },
   {
    "duration": 76,
    "start_time": "2023-08-10T10:54:37.401Z"
   },
   {
    "duration": 12,
    "start_time": "2023-08-10T10:54:37.479Z"
   },
   {
    "duration": 29,
    "start_time": "2023-08-10T10:54:37.492Z"
   },
   {
    "duration": 370,
    "start_time": "2023-08-10T10:54:37.523Z"
   },
   {
    "duration": 28,
    "start_time": "2023-08-10T10:54:37.895Z"
   },
   {
    "duration": 8,
    "start_time": "2023-08-10T10:54:37.925Z"
   },
   {
    "duration": 18,
    "start_time": "2023-08-10T10:54:37.934Z"
   },
   {
    "duration": 326,
    "start_time": "2023-08-10T10:54:37.953Z"
   },
   {
    "duration": 29,
    "start_time": "2023-08-10T10:54:38.280Z"
   },
   {
    "duration": 7,
    "start_time": "2023-08-10T10:54:38.310Z"
   },
   {
    "duration": 18,
    "start_time": "2023-08-10T10:54:38.318Z"
   },
   {
    "duration": 183,
    "start_time": "2023-08-10T10:54:38.338Z"
   },
   {
    "duration": 7,
    "start_time": "2023-08-10T10:54:38.524Z"
   },
   {
    "duration": 33,
    "start_time": "2023-08-10T10:54:38.532Z"
   },
   {
    "duration": 20,
    "start_time": "2023-08-10T10:54:38.566Z"
   },
   {
    "duration": 29,
    "start_time": "2023-08-10T10:54:38.588Z"
   },
   {
    "duration": 24,
    "start_time": "2023-08-10T10:54:38.618Z"
   },
   {
    "duration": 36,
    "start_time": "2023-08-10T10:54:38.644Z"
   },
   {
    "duration": 25,
    "start_time": "2023-08-10T10:54:38.682Z"
   },
   {
    "duration": 24,
    "start_time": "2023-08-10T10:54:38.709Z"
   },
   {
    "duration": 7,
    "start_time": "2023-08-10T10:54:38.735Z"
   },
   {
    "duration": 16,
    "start_time": "2023-08-10T10:54:38.744Z"
   },
   {
    "duration": 10,
    "start_time": "2023-08-10T10:54:38.761Z"
   },
   {
    "duration": 32,
    "start_time": "2023-08-10T10:54:38.773Z"
   },
   {
    "duration": 2,
    "start_time": "2023-08-10T10:54:49.526Z"
   },
   {
    "duration": 108,
    "start_time": "2023-08-10T10:54:49.530Z"
   },
   {
    "duration": 17,
    "start_time": "2023-08-10T10:54:49.639Z"
   },
   {
    "duration": 20,
    "start_time": "2023-08-10T10:54:49.659Z"
   },
   {
    "duration": 281,
    "start_time": "2023-08-10T10:54:49.680Z"
   },
   {
    "duration": 39,
    "start_time": "2023-08-10T10:54:49.963Z"
   },
   {
    "duration": 12,
    "start_time": "2023-08-10T10:54:50.004Z"
   },
   {
    "duration": 29,
    "start_time": "2023-08-10T10:54:50.019Z"
   },
   {
    "duration": 369,
    "start_time": "2023-08-10T10:54:50.051Z"
   },
   {
    "duration": 19,
    "start_time": "2023-08-10T10:54:50.424Z"
   },
   {
    "duration": 9,
    "start_time": "2023-08-10T10:54:50.445Z"
   },
   {
    "duration": 24,
    "start_time": "2023-08-10T10:54:50.456Z"
   },
   {
    "duration": 224,
    "start_time": "2023-08-10T10:54:50.483Z"
   },
   {
    "duration": 11,
    "start_time": "2023-08-10T10:54:50.713Z"
   },
   {
    "duration": 55,
    "start_time": "2023-08-10T10:54:50.729Z"
   },
   {
    "duration": 21,
    "start_time": "2023-08-10T10:54:50.786Z"
   },
   {
    "duration": 38,
    "start_time": "2023-08-10T10:54:50.809Z"
   },
   {
    "duration": 45,
    "start_time": "2023-08-10T10:54:50.849Z"
   },
   {
    "duration": 39,
    "start_time": "2023-08-10T10:54:50.898Z"
   },
   {
    "duration": 6,
    "start_time": "2023-08-10T10:54:50.939Z"
   },
   {
    "duration": 15,
    "start_time": "2023-08-10T10:54:50.947Z"
   },
   {
    "duration": 10,
    "start_time": "2023-08-10T10:54:50.963Z"
   },
   {
    "duration": 23,
    "start_time": "2023-08-10T10:54:50.980Z"
   },
   {
    "duration": 12,
    "start_time": "2023-08-10T10:54:51.006Z"
   },
   {
    "duration": 31,
    "start_time": "2023-08-10T10:54:51.022Z"
   },
   {
    "duration": 9,
    "start_time": "2023-08-10T10:55:46.498Z"
   },
   {
    "duration": 2,
    "start_time": "2023-08-10T10:55:49.167Z"
   },
   {
    "duration": 64,
    "start_time": "2023-08-10T10:55:49.171Z"
   },
   {
    "duration": 3,
    "start_time": "2023-08-10T10:55:49.236Z"
   },
   {
    "duration": 39,
    "start_time": "2023-08-10T10:55:49.242Z"
   },
   {
    "duration": 21,
    "start_time": "2023-08-10T10:55:49.284Z"
   },
   {
    "duration": 290,
    "start_time": "2023-08-10T10:55:49.310Z"
   },
   {
    "duration": 28,
    "start_time": "2023-08-10T10:55:49.611Z"
   },
   {
    "duration": 9,
    "start_time": "2023-08-10T10:55:49.641Z"
   },
   {
    "duration": 19,
    "start_time": "2023-08-10T10:55:49.652Z"
   },
   {
    "duration": 447,
    "start_time": "2023-08-10T10:55:49.675Z"
   },
   {
    "duration": 21,
    "start_time": "2023-08-10T10:55:50.124Z"
   },
   {
    "duration": 9,
    "start_time": "2023-08-10T10:55:50.146Z"
   },
   {
    "duration": 16,
    "start_time": "2023-08-10T10:55:50.156Z"
   },
   {
    "duration": 244,
    "start_time": "2023-08-10T10:55:50.174Z"
   },
   {
    "duration": 16,
    "start_time": "2023-08-10T10:55:50.420Z"
   },
   {
    "duration": 22,
    "start_time": "2023-08-10T10:55:50.438Z"
   },
   {
    "duration": 31,
    "start_time": "2023-08-10T10:55:50.462Z"
   },
   {
    "duration": 16,
    "start_time": "2023-08-10T10:55:50.495Z"
   },
   {
    "duration": 20,
    "start_time": "2023-08-10T10:55:50.519Z"
   },
   {
    "duration": 54,
    "start_time": "2023-08-10T10:55:50.541Z"
   },
   {
    "duration": 25,
    "start_time": "2023-08-10T10:55:50.597Z"
   },
   {
    "duration": 30,
    "start_time": "2023-08-10T10:55:50.626Z"
   },
   {
    "duration": 60,
    "start_time": "2023-08-10T10:55:50.658Z"
   },
   {
    "duration": 16,
    "start_time": "2023-08-10T10:55:50.720Z"
   },
   {
    "duration": 24,
    "start_time": "2023-08-10T10:55:50.738Z"
   },
   {
    "duration": 29,
    "start_time": "2023-08-10T10:55:50.764Z"
   },
   {
    "duration": 129,
    "start_time": "2023-08-10T10:59:31.695Z"
   },
   {
    "duration": 160,
    "start_time": "2023-08-10T10:59:37.717Z"
   },
   {
    "duration": 720,
    "start_time": "2023-08-10T10:59:44.927Z"
   },
   {
    "duration": 174,
    "start_time": "2023-08-10T10:59:54.210Z"
   },
   {
    "duration": 222,
    "start_time": "2023-08-10T11:00:08.722Z"
   },
   {
    "duration": 244,
    "start_time": "2023-08-10T11:02:43.193Z"
   },
   {
    "duration": 213,
    "start_time": "2023-08-10T11:02:49.638Z"
   },
   {
    "duration": 90,
    "start_time": "2023-08-10T11:03:00.681Z"
   },
   {
    "duration": 233,
    "start_time": "2023-08-10T11:03:06.946Z"
   },
   {
    "duration": 335,
    "start_time": "2023-08-10T11:04:18.646Z"
   },
   {
    "duration": 20,
    "start_time": "2023-08-10T11:04:42.305Z"
   },
   {
    "duration": 7,
    "start_time": "2023-08-10T11:05:01.422Z"
   },
   {
    "duration": 4,
    "start_time": "2023-08-10T11:05:09.123Z"
   },
   {
    "duration": 8,
    "start_time": "2023-08-10T11:05:34.437Z"
   },
   {
    "duration": 10,
    "start_time": "2023-08-10T11:05:47.980Z"
   },
   {
    "duration": 170,
    "start_time": "2023-08-10T11:06:04.237Z"
   },
   {
    "duration": 21,
    "start_time": "2023-08-10T11:07:25.806Z"
   },
   {
    "duration": 20,
    "start_time": "2023-08-10T11:07:35.377Z"
   },
   {
    "duration": 18,
    "start_time": "2023-08-10T11:07:39.002Z"
   },
   {
    "duration": 385,
    "start_time": "2023-08-10T11:08:02.730Z"
   },
   {
    "duration": 16,
    "start_time": "2023-08-10T11:08:09.589Z"
   },
   {
    "duration": 182,
    "start_time": "2023-08-10T11:09:18.768Z"
   },
   {
    "duration": 9,
    "start_time": "2023-08-10T11:11:52.027Z"
   },
   {
    "duration": 22,
    "start_time": "2023-08-10T11:23:15.198Z"
   },
   {
    "duration": 24,
    "start_time": "2023-08-10T11:24:21.675Z"
   },
   {
    "duration": 33,
    "start_time": "2023-08-10T11:26:42.102Z"
   },
   {
    "duration": 18,
    "start_time": "2023-08-10T11:26:49.503Z"
   },
   {
    "duration": 24,
    "start_time": "2023-08-10T11:27:00.518Z"
   },
   {
    "duration": 14,
    "start_time": "2023-08-10T11:27:15.702Z"
   },
   {
    "duration": 12,
    "start_time": "2023-08-10T11:27:39.036Z"
   },
   {
    "duration": 34,
    "start_time": "2023-08-10T11:32:24.001Z"
   },
   {
    "duration": 5817,
    "start_time": "2023-08-10T11:37:25.012Z"
   },
   {
    "duration": 1056,
    "start_time": "2023-08-10T11:37:47.012Z"
   },
   {
    "duration": 20,
    "start_time": "2023-08-10T11:38:31.077Z"
   },
   {
    "duration": 699,
    "start_time": "2023-08-10T11:38:35.282Z"
   },
   {
    "duration": 1778,
    "start_time": "2023-08-10T11:38:54.443Z"
   },
   {
    "duration": 1055,
    "start_time": "2023-08-10T11:39:52.203Z"
   },
   {
    "duration": 1744,
    "start_time": "2023-08-10T11:40:07.768Z"
   },
   {
    "duration": 1732,
    "start_time": "2023-08-10T11:40:15.494Z"
   },
   {
    "duration": 2214,
    "start_time": "2023-08-10T11:44:23.032Z"
   },
   {
    "duration": 2386,
    "start_time": "2023-08-10T11:44:34.848Z"
   },
   {
    "duration": 22,
    "start_time": "2023-08-10T11:44:49.077Z"
   },
   {
    "duration": 7,
    "start_time": "2023-08-10T11:45:02.331Z"
   },
   {
    "duration": 14,
    "start_time": "2023-08-10T11:52:37.868Z"
   },
   {
    "duration": 7,
    "start_time": "2023-08-10T11:52:45.363Z"
   },
   {
    "duration": 117,
    "start_time": "2023-08-10T11:53:59.530Z"
   },
   {
    "duration": 14,
    "start_time": "2023-08-10T11:54:04.367Z"
   },
   {
    "duration": 6,
    "start_time": "2023-08-10T11:54:08.338Z"
   },
   {
    "duration": 11,
    "start_time": "2023-08-10T11:54:31.719Z"
   },
   {
    "duration": 137,
    "start_time": "2023-08-10T11:54:36.218Z"
   },
   {
    "duration": 7,
    "start_time": "2023-08-10T11:54:43.228Z"
   },
   {
    "duration": 4,
    "start_time": "2023-08-10T11:54:46.768Z"
   },
   {
    "duration": 4,
    "start_time": "2023-08-10T11:54:55.969Z"
   },
   {
    "duration": 149,
    "start_time": "2023-08-10T11:56:01.702Z"
   },
   {
    "duration": 8,
    "start_time": "2023-08-10T11:56:24.524Z"
   },
   {
    "duration": 6,
    "start_time": "2023-08-10T11:56:36.620Z"
   },
   {
    "duration": 11,
    "start_time": "2023-08-10T11:56:48.594Z"
   },
   {
    "duration": 7,
    "start_time": "2023-08-10T11:57:35.407Z"
   },
   {
    "duration": 7,
    "start_time": "2023-08-10T11:57:42.324Z"
   },
   {
    "duration": 6,
    "start_time": "2023-08-10T11:57:49.168Z"
   },
   {
    "duration": 111,
    "start_time": "2023-08-10T11:58:08.071Z"
   },
   {
    "duration": 10,
    "start_time": "2023-08-10T11:58:18.598Z"
   },
   {
    "duration": 11,
    "start_time": "2023-08-10T11:59:00.102Z"
   },
   {
    "duration": 7,
    "start_time": "2023-08-10T11:59:17.975Z"
   },
   {
    "duration": 8,
    "start_time": "2023-08-10T12:03:02.438Z"
   },
   {
    "duration": 9,
    "start_time": "2023-08-10T12:06:02.505Z"
   },
   {
    "duration": 12,
    "start_time": "2023-08-10T12:06:06.818Z"
   },
   {
    "duration": 12,
    "start_time": "2023-08-10T12:06:13.535Z"
   },
   {
    "duration": 15,
    "start_time": "2023-08-10T12:06:25.118Z"
   },
   {
    "duration": 22,
    "start_time": "2023-08-10T12:07:58.495Z"
   },
   {
    "duration": 281,
    "start_time": "2023-08-10T12:08:37.616Z"
   },
   {
    "duration": 195,
    "start_time": "2023-08-10T12:23:40.672Z"
   },
   {
    "duration": 1897,
    "start_time": "2023-08-10T12:23:46.875Z"
   },
   {
    "duration": 9,
    "start_time": "2023-08-10T12:25:06.515Z"
   },
   {
    "duration": 83,
    "start_time": "2023-08-10T12:25:15.081Z"
   },
   {
    "duration": 12,
    "start_time": "2023-08-10T12:25:28.713Z"
   },
   {
    "duration": 153,
    "start_time": "2023-08-10T12:27:05.619Z"
   },
   {
    "duration": 310,
    "start_time": "2023-08-10T12:27:16.727Z"
   },
   {
    "duration": 175,
    "start_time": "2023-08-10T12:27:23.873Z"
   },
   {
    "duration": 281,
    "start_time": "2023-08-10T12:27:42.676Z"
   },
   {
    "duration": 192,
    "start_time": "2023-08-10T12:28:01.611Z"
   },
   {
    "duration": 180,
    "start_time": "2023-08-10T12:28:04.671Z"
   },
   {
    "duration": 163,
    "start_time": "2023-08-10T12:28:08.774Z"
   },
   {
    "duration": 166,
    "start_time": "2023-08-10T12:28:12.701Z"
   },
   {
    "duration": 177,
    "start_time": "2023-08-10T12:28:21.516Z"
   },
   {
    "duration": 172,
    "start_time": "2023-08-10T12:28:34.814Z"
   },
   {
    "duration": 218,
    "start_time": "2023-08-10T12:29:00.010Z"
   },
   {
    "duration": 204,
    "start_time": "2023-08-10T12:29:26.129Z"
   },
   {
    "duration": 245,
    "start_time": "2023-08-10T12:29:30.560Z"
   },
   {
    "duration": 182,
    "start_time": "2023-08-10T12:30:24.094Z"
   },
   {
    "duration": 2612,
    "start_time": "2023-08-10T12:30:42.620Z"
   },
   {
    "duration": 2292,
    "start_time": "2023-08-10T12:31:16.498Z"
   },
   {
    "duration": 2604,
    "start_time": "2023-08-10T12:31:24.969Z"
   },
   {
    "duration": 164,
    "start_time": "2023-08-10T12:31:37.270Z"
   },
   {
    "duration": 357,
    "start_time": "2023-08-10T12:33:25.912Z"
   },
   {
    "duration": 166,
    "start_time": "2023-08-10T12:33:37.187Z"
   },
   {
    "duration": 192,
    "start_time": "2023-08-10T12:33:58.460Z"
   },
   {
    "duration": 10,
    "start_time": "2023-08-10T12:34:17.448Z"
   },
   {
    "duration": 12,
    "start_time": "2023-08-10T12:34:27.323Z"
   },
   {
    "duration": 12,
    "start_time": "2023-08-10T12:34:34.039Z"
   },
   {
    "duration": 24,
    "start_time": "2023-08-10T12:34:40.194Z"
   },
   {
    "duration": 8,
    "start_time": "2023-08-10T12:34:49.117Z"
   },
   {
    "duration": 15,
    "start_time": "2023-08-10T12:34:52.988Z"
   },
   {
    "duration": 2,
    "start_time": "2023-08-10T12:34:59.050Z"
   },
   {
    "duration": 269,
    "start_time": "2023-08-10T12:35:04.667Z"
   },
   {
    "duration": 160,
    "start_time": "2023-08-10T12:36:49.924Z"
   },
   {
    "duration": 146,
    "start_time": "2023-08-10T12:36:58.017Z"
   },
   {
    "duration": 178,
    "start_time": "2023-08-10T12:37:04.083Z"
   },
   {
    "duration": 12,
    "start_time": "2023-08-10T12:39:00.442Z"
   },
   {
    "duration": 7,
    "start_time": "2023-08-10T12:39:03.120Z"
   },
   {
    "duration": 8,
    "start_time": "2023-08-10T12:40:43.565Z"
   },
   {
    "duration": 12,
    "start_time": "2023-08-10T12:40:53.459Z"
   },
   {
    "duration": 187,
    "start_time": "2023-08-10T12:41:30.926Z"
   },
   {
    "duration": 470,
    "start_time": "2023-08-10T12:41:42.043Z"
   },
   {
    "duration": 10,
    "start_time": "2023-08-10T13:27:10.803Z"
   },
   {
    "duration": 16,
    "start_time": "2023-08-10T13:27:17.318Z"
   },
   {
    "duration": 14,
    "start_time": "2023-08-10T13:27:36.712Z"
   },
   {
    "duration": 32,
    "start_time": "2023-08-10T13:32:36.373Z"
   },
   {
    "duration": 17,
    "start_time": "2023-08-10T13:35:37.275Z"
   },
   {
    "duration": 8,
    "start_time": "2023-08-10T13:37:23.751Z"
   },
   {
    "duration": 27,
    "start_time": "2023-08-10T13:37:50.291Z"
   },
   {
    "duration": 8,
    "start_time": "2023-08-10T13:38:09.449Z"
   },
   {
    "duration": 159,
    "start_time": "2023-08-10T13:38:27.799Z"
   },
   {
    "duration": 8,
    "start_time": "2023-08-10T13:38:30.653Z"
   },
   {
    "duration": 7,
    "start_time": "2023-08-10T13:38:34.659Z"
   },
   {
    "duration": 8,
    "start_time": "2023-08-10T13:39:22.210Z"
   },
   {
    "duration": 168,
    "start_time": "2023-08-10T13:44:22.791Z"
   },
   {
    "duration": 185,
    "start_time": "2023-08-10T13:44:46.124Z"
   },
   {
    "duration": 11,
    "start_time": "2023-08-10T13:45:46.957Z"
   },
   {
    "duration": 15,
    "start_time": "2023-08-10T13:46:04.078Z"
   },
   {
    "duration": 7,
    "start_time": "2023-08-10T13:46:06.159Z"
   },
   {
    "duration": 168,
    "start_time": "2023-08-10T13:46:09.170Z"
   },
   {
    "duration": 196,
    "start_time": "2023-08-10T13:46:12.319Z"
   },
   {
    "duration": 159,
    "start_time": "2023-08-10T13:46:15.098Z"
   },
   {
    "duration": 185,
    "start_time": "2023-08-10T13:46:17.115Z"
   },
   {
    "duration": 192,
    "start_time": "2023-08-10T13:46:38.516Z"
   },
   {
    "duration": 152,
    "start_time": "2023-08-10T13:46:42.516Z"
   },
   {
    "duration": 160,
    "start_time": "2023-08-10T13:46:45.152Z"
   },
   {
    "duration": 155,
    "start_time": "2023-08-10T14:01:05.402Z"
   },
   {
    "duration": 96,
    "start_time": "2023-08-10T14:01:16.780Z"
   },
   {
    "duration": 9,
    "start_time": "2023-08-10T14:18:08.456Z"
   },
   {
    "duration": 165,
    "start_time": "2023-08-10T14:18:13.876Z"
   },
   {
    "duration": 14,
    "start_time": "2023-08-10T14:21:09.760Z"
   },
   {
    "duration": 19,
    "start_time": "2023-08-10T14:21:14.125Z"
   },
   {
    "duration": 20,
    "start_time": "2023-08-10T14:21:34.368Z"
   },
   {
    "duration": 11,
    "start_time": "2023-08-10T14:22:29.164Z"
   },
   {
    "duration": 4,
    "start_time": "2023-08-10T14:22:34.502Z"
   },
   {
    "duration": 147,
    "start_time": "2023-08-10T14:22:37.988Z"
   },
   {
    "duration": 13,
    "start_time": "2023-08-10T14:22:48.313Z"
   },
   {
    "duration": 149,
    "start_time": "2023-08-10T14:27:37.228Z"
   },
   {
    "duration": 146,
    "start_time": "2023-08-10T14:27:41.119Z"
   },
   {
    "duration": 2,
    "start_time": "2023-08-10T14:37:15.295Z"
   },
   {
    "duration": 28,
    "start_time": "2023-08-10T14:37:15.317Z"
   },
   {
    "duration": 3,
    "start_time": "2023-08-10T14:37:15.381Z"
   },
   {
    "duration": 23,
    "start_time": "2023-08-10T14:37:15.386Z"
   },
   {
    "duration": 13,
    "start_time": "2023-08-10T14:37:15.411Z"
   },
   {
    "duration": 229,
    "start_time": "2023-08-10T14:37:15.426Z"
   },
   {
    "duration": 26,
    "start_time": "2023-08-10T14:37:15.657Z"
   },
   {
    "duration": 8,
    "start_time": "2023-08-10T14:37:15.685Z"
   },
   {
    "duration": 20,
    "start_time": "2023-08-10T14:37:15.694Z"
   },
   {
    "duration": 268,
    "start_time": "2023-08-10T14:37:15.716Z"
   },
   {
    "duration": 16,
    "start_time": "2023-08-10T14:37:15.986Z"
   },
   {
    "duration": 9,
    "start_time": "2023-08-10T14:37:16.003Z"
   },
   {
    "duration": 24,
    "start_time": "2023-08-10T14:37:16.013Z"
   },
   {
    "duration": 184,
    "start_time": "2023-08-10T14:37:16.039Z"
   },
   {
    "duration": 7,
    "start_time": "2023-08-10T14:37:16.225Z"
   },
   {
    "duration": 6,
    "start_time": "2023-08-10T14:37:16.234Z"
   },
   {
    "duration": 14,
    "start_time": "2023-08-10T14:37:16.242Z"
   },
   {
    "duration": 19,
    "start_time": "2023-08-10T14:37:16.257Z"
   },
   {
    "duration": 13,
    "start_time": "2023-08-10T14:37:16.278Z"
   },
   {
    "duration": 31,
    "start_time": "2023-08-10T14:37:16.293Z"
   },
   {
    "duration": 11,
    "start_time": "2023-08-10T14:37:16.326Z"
   },
   {
    "duration": 29,
    "start_time": "2023-08-10T14:37:16.339Z"
   },
   {
    "duration": 31,
    "start_time": "2023-08-10T14:37:16.370Z"
   },
   {
    "duration": 9,
    "start_time": "2023-08-10T14:37:16.402Z"
   },
   {
    "duration": 8,
    "start_time": "2023-08-10T14:37:16.412Z"
   },
   {
    "duration": 12,
    "start_time": "2023-08-10T14:37:16.421Z"
   },
   {
    "duration": 123,
    "start_time": "2023-08-10T14:37:16.434Z"
   },
   {
    "duration": 5,
    "start_time": "2023-08-10T14:37:16.558Z"
   },
   {
    "duration": 14,
    "start_time": "2023-08-10T14:37:16.565Z"
   },
   {
    "duration": 235,
    "start_time": "2023-08-10T14:37:16.580Z"
   },
   {
    "duration": 14,
    "start_time": "2023-08-10T14:37:16.816Z"
   },
   {
    "duration": 162,
    "start_time": "2023-08-10T14:37:16.833Z"
   },
   {
    "duration": 13,
    "start_time": "2023-08-10T14:37:16.997Z"
   },
   {
    "duration": 184,
    "start_time": "2023-08-10T14:37:17.011Z"
   },
   {
    "duration": 10,
    "start_time": "2023-08-10T14:37:17.197Z"
   },
   {
    "duration": 13,
    "start_time": "2023-08-10T14:37:17.209Z"
   },
   {
    "duration": 21,
    "start_time": "2023-08-10T14:37:17.223Z"
   },
   {
    "duration": 8,
    "start_time": "2023-08-10T14:37:17.245Z"
   },
   {
    "duration": 147,
    "start_time": "2023-08-10T14:37:17.255Z"
   },
   {
    "duration": 159,
    "start_time": "2023-08-10T14:37:17.403Z"
   },
   {
    "duration": 152,
    "start_time": "2023-08-10T14:37:17.564Z"
   },
   {
    "duration": 169,
    "start_time": "2023-08-10T14:37:17.718Z"
   },
   {
    "duration": 157,
    "start_time": "2023-08-10T14:37:17.888Z"
   },
   {
    "duration": 23,
    "start_time": "2023-08-10T14:38:00.908Z"
   },
   {
    "duration": 78,
    "start_time": "2023-08-10T14:40:37.567Z"
   },
   {
    "duration": 1395,
    "start_time": "2023-08-10T14:40:41.168Z"
   },
   {
    "duration": 24,
    "start_time": "2023-08-10T14:41:51.029Z"
   },
   {
    "duration": 6,
    "start_time": "2023-08-10T14:42:14.604Z"
   },
   {
    "duration": 13,
    "start_time": "2023-08-10T14:42:21.567Z"
   },
   {
    "duration": 1024,
    "start_time": "2023-08-10T14:42:35.830Z"
   },
   {
    "duration": 1499,
    "start_time": "2023-08-10T14:43:27.478Z"
   },
   {
    "duration": 6,
    "start_time": "2023-08-10T14:43:34.590Z"
   },
   {
    "duration": 7,
    "start_time": "2023-08-10T14:43:46.759Z"
   },
   {
    "duration": 9,
    "start_time": "2023-08-10T14:43:53.975Z"
   },
   {
    "duration": 8,
    "start_time": "2023-08-10T14:43:57.167Z"
   },
   {
    "duration": 14,
    "start_time": "2023-08-10T14:47:59.466Z"
   },
   {
    "duration": 11,
    "start_time": "2023-08-10T14:48:07.354Z"
   },
   {
    "duration": 12,
    "start_time": "2023-08-10T14:48:18.115Z"
   },
   {
    "duration": 14,
    "start_time": "2023-08-10T14:49:05.759Z"
   },
   {
    "duration": 1391,
    "start_time": "2023-08-10T14:50:48.962Z"
   },
   {
    "duration": 1100,
    "start_time": "2023-08-10T14:51:02.007Z"
   },
   {
    "duration": 14,
    "start_time": "2023-08-10T14:51:11.191Z"
   },
   {
    "duration": 97,
    "start_time": "2023-08-10T14:51:38.898Z"
   },
   {
    "duration": 97,
    "start_time": "2023-08-10T14:51:45.455Z"
   },
   {
    "duration": 9,
    "start_time": "2023-08-10T14:54:12.058Z"
   },
   {
    "duration": 12,
    "start_time": "2023-08-10T14:56:43.342Z"
   },
   {
    "duration": 10,
    "start_time": "2023-08-10T14:56:53.775Z"
   },
   {
    "duration": 58,
    "start_time": "2023-08-10T14:56:59.475Z"
   },
   {
    "duration": 12,
    "start_time": "2023-08-10T14:57:21.655Z"
   },
   {
    "duration": 61,
    "start_time": "2023-08-10T14:57:32.414Z"
   },
   {
    "duration": 1405,
    "start_time": "2023-08-10T14:57:43.680Z"
   },
   {
    "duration": 2532,
    "start_time": "2023-08-10T14:57:51.150Z"
   },
   {
    "duration": 9,
    "start_time": "2023-08-10T14:58:36.470Z"
   },
   {
    "duration": 7,
    "start_time": "2023-08-10T14:58:43.655Z"
   },
   {
    "duration": 6,
    "start_time": "2023-08-10T14:59:03.547Z"
   },
   {
    "duration": 9,
    "start_time": "2023-08-10T14:59:09.287Z"
   },
   {
    "duration": 13,
    "start_time": "2023-08-10T15:01:31.294Z"
   },
   {
    "duration": 58,
    "start_time": "2023-08-10T15:03:41.799Z"
   },
   {
    "duration": 1431,
    "start_time": "2023-08-10T16:34:57.190Z"
   },
   {
    "duration": 97,
    "start_time": "2023-08-10T16:34:58.623Z"
   },
   {
    "duration": 3,
    "start_time": "2023-08-10T16:34:58.722Z"
   },
   {
    "duration": 17,
    "start_time": "2023-08-10T16:34:58.727Z"
   },
   {
    "duration": 13,
    "start_time": "2023-08-10T16:34:58.747Z"
   },
   {
    "duration": 274,
    "start_time": "2023-08-10T16:34:58.762Z"
   },
   {
    "duration": 80,
    "start_time": "2023-08-10T16:34:59.039Z"
   },
   {
    "duration": 10,
    "start_time": "2023-08-10T16:34:59.121Z"
   },
   {
    "duration": 16,
    "start_time": "2023-08-10T16:34:59.133Z"
   },
   {
    "duration": 335,
    "start_time": "2023-08-10T16:34:59.151Z"
   },
   {
    "duration": 55,
    "start_time": "2023-08-10T16:34:59.488Z"
   },
   {
    "duration": 7,
    "start_time": "2023-08-10T16:34:59.545Z"
   },
   {
    "duration": 34,
    "start_time": "2023-08-10T16:34:59.554Z"
   },
   {
    "duration": 188,
    "start_time": "2023-08-10T16:34:59.593Z"
   },
   {
    "duration": 7,
    "start_time": "2023-08-10T16:34:59.782Z"
   },
   {
    "duration": 19,
    "start_time": "2023-08-10T16:34:59.790Z"
   },
   {
    "duration": 14,
    "start_time": "2023-08-10T16:34:59.810Z"
   },
   {
    "duration": 25,
    "start_time": "2023-08-10T16:34:59.826Z"
   },
   {
    "duration": 46,
    "start_time": "2023-08-10T16:34:59.853Z"
   },
   {
    "duration": 17,
    "start_time": "2023-08-10T16:34:59.900Z"
   },
   {
    "duration": 9,
    "start_time": "2023-08-10T16:34:59.919Z"
   },
   {
    "duration": 7,
    "start_time": "2023-08-10T16:34:59.930Z"
   },
   {
    "duration": 9,
    "start_time": "2023-08-10T16:34:59.938Z"
   },
   {
    "duration": 17,
    "start_time": "2023-08-10T16:34:59.949Z"
   },
   {
    "duration": 25,
    "start_time": "2023-08-10T16:34:59.967Z"
   },
   {
    "duration": 83,
    "start_time": "2023-08-10T16:34:59.994Z"
   },
   {
    "duration": 188,
    "start_time": "2023-08-10T16:35:00.078Z"
   },
   {
    "duration": 30,
    "start_time": "2023-08-10T16:35:00.268Z"
   },
   {
    "duration": 95,
    "start_time": "2023-08-10T16:35:00.300Z"
   },
   {
    "duration": 299,
    "start_time": "2023-08-10T16:35:00.398Z"
   },
   {
    "duration": 14,
    "start_time": "2023-08-10T16:35:00.699Z"
   },
   {
    "duration": 419,
    "start_time": "2023-08-10T16:35:00.715Z"
   },
   {
    "duration": 162,
    "start_time": "2023-08-10T16:35:01.136Z"
   },
   {
    "duration": 795,
    "start_time": "2023-08-10T16:35:01.300Z"
   },
   {
    "duration": 83,
    "start_time": "2023-08-10T16:35:02.098Z"
   },
   {
    "duration": 81,
    "start_time": "2023-08-10T16:35:02.183Z"
   },
   {
    "duration": 84,
    "start_time": "2023-08-10T16:35:02.268Z"
   },
   {
    "duration": 44,
    "start_time": "2023-08-10T16:35:02.356Z"
   },
   {
    "duration": 249,
    "start_time": "2023-08-10T16:35:02.402Z"
   },
   {
    "duration": 267,
    "start_time": "2023-08-10T16:35:02.656Z"
   },
   {
    "duration": 196,
    "start_time": "2023-08-10T16:35:02.928Z"
   },
   {
    "duration": 192,
    "start_time": "2023-08-10T16:35:03.126Z"
   },
   {
    "duration": 146,
    "start_time": "2023-08-10T16:35:03.320Z"
   },
   {
    "duration": 7,
    "start_time": "2023-08-10T16:35:11.971Z"
   },
   {
    "duration": 11,
    "start_time": "2023-08-10T16:35:21.897Z"
   },
   {
    "duration": 7,
    "start_time": "2023-08-10T16:36:15.803Z"
   },
   {
    "duration": 10,
    "start_time": "2023-08-10T16:36:21.869Z"
   },
   {
    "duration": 10,
    "start_time": "2023-08-10T16:38:45.096Z"
   },
   {
    "duration": 984,
    "start_time": "2023-08-10T16:41:37.391Z"
   },
   {
    "duration": 117,
    "start_time": "2023-08-10T16:42:00.606Z"
   },
   {
    "duration": 1108,
    "start_time": "2023-08-10T16:42:11.939Z"
   },
   {
    "duration": 111,
    "start_time": "2023-08-10T16:42:58.780Z"
   },
   {
    "duration": 16,
    "start_time": "2023-08-10T16:43:23.895Z"
   },
   {
    "duration": 120,
    "start_time": "2023-08-10T16:43:34.287Z"
   },
   {
    "duration": 6,
    "start_time": "2023-08-10T16:44:01.305Z"
   },
   {
    "duration": 16,
    "start_time": "2023-08-10T16:44:23.383Z"
   },
   {
    "duration": 42,
    "start_time": "2023-08-10T16:44:32.641Z"
   },
   {
    "duration": 40,
    "start_time": "2023-08-10T16:44:35.483Z"
   },
   {
    "duration": 15,
    "start_time": "2023-08-10T16:44:47.696Z"
   },
   {
    "duration": 146,
    "start_time": "2023-08-10T16:45:04.223Z"
   },
   {
    "duration": 94,
    "start_time": "2023-08-10T16:45:16.536Z"
   },
   {
    "duration": 8,
    "start_time": "2023-08-10T16:45:34.131Z"
   },
   {
    "duration": 17,
    "start_time": "2023-08-10T16:46:15.475Z"
   },
   {
    "duration": 13,
    "start_time": "2023-08-10T16:47:38.215Z"
   },
   {
    "duration": 3,
    "start_time": "2023-08-10T16:47:42.013Z"
   },
   {
    "duration": 20,
    "start_time": "2023-08-10T16:55:17.499Z"
   },
   {
    "duration": 18,
    "start_time": "2023-08-10T16:57:54.634Z"
   },
   {
    "duration": 13,
    "start_time": "2023-08-10T16:58:04.137Z"
   },
   {
    "duration": 14,
    "start_time": "2023-08-10T16:59:58.033Z"
   },
   {
    "duration": 11,
    "start_time": "2023-08-10T17:00:07.803Z"
   },
   {
    "duration": 13,
    "start_time": "2023-08-10T17:00:16.176Z"
   },
   {
    "duration": 14,
    "start_time": "2023-08-10T17:00:22.291Z"
   },
   {
    "duration": 16,
    "start_time": "2023-08-10T17:00:31.723Z"
   },
   {
    "duration": 11,
    "start_time": "2023-08-10T17:00:38.002Z"
   },
   {
    "duration": 58,
    "start_time": "2023-08-10T17:00:48.012Z"
   },
   {
    "duration": 13,
    "start_time": "2023-08-10T17:01:02.408Z"
   },
   {
    "duration": 11,
    "start_time": "2023-08-10T17:03:31.272Z"
   },
   {
    "duration": 50,
    "start_time": "2023-08-10T17:04:28.019Z"
   },
   {
    "duration": 86,
    "start_time": "2023-08-10T17:04:28.071Z"
   },
   {
    "duration": 40,
    "start_time": "2023-08-10T17:04:28.159Z"
   },
   {
    "duration": 63,
    "start_time": "2023-08-10T17:04:28.201Z"
   },
   {
    "duration": 5,
    "start_time": "2023-08-10T17:04:28.266Z"
   },
   {
    "duration": 44,
    "start_time": "2023-08-10T17:04:28.279Z"
   },
   {
    "duration": 39,
    "start_time": "2023-08-10T17:04:28.326Z"
   },
   {
    "duration": 552,
    "start_time": "2023-08-10T17:04:28.367Z"
   },
   {
    "duration": 26,
    "start_time": "2023-08-10T17:04:28.921Z"
   },
   {
    "duration": 13,
    "start_time": "2023-08-10T17:04:28.949Z"
   },
   {
    "duration": 38,
    "start_time": "2023-08-10T17:04:28.974Z"
   },
   {
    "duration": 353,
    "start_time": "2023-08-10T17:04:29.014Z"
   },
   {
    "duration": 29,
    "start_time": "2023-08-10T17:04:29.368Z"
   },
   {
    "duration": 17,
    "start_time": "2023-08-10T17:04:29.399Z"
   },
   {
    "duration": 51,
    "start_time": "2023-08-10T17:04:29.418Z"
   },
   {
    "duration": 236,
    "start_time": "2023-08-10T17:04:29.471Z"
   },
   {
    "duration": 7,
    "start_time": "2023-08-10T17:04:29.709Z"
   },
   {
    "duration": 15,
    "start_time": "2023-08-10T17:04:29.717Z"
   },
   {
    "duration": 68,
    "start_time": "2023-08-10T17:04:29.733Z"
   },
   {
    "duration": 43,
    "start_time": "2023-08-10T17:04:29.804Z"
   },
   {
    "duration": 87,
    "start_time": "2023-08-10T17:04:29.849Z"
   },
   {
    "duration": 55,
    "start_time": "2023-08-10T17:04:29.941Z"
   },
   {
    "duration": 40,
    "start_time": "2023-08-10T17:04:29.999Z"
   },
   {
    "duration": 75,
    "start_time": "2023-08-10T17:04:30.041Z"
   },
   {
    "duration": 38,
    "start_time": "2023-08-10T17:04:30.120Z"
   },
   {
    "duration": 46,
    "start_time": "2023-08-10T17:04:30.161Z"
   },
   {
    "duration": 50,
    "start_time": "2023-08-10T17:04:30.209Z"
   },
   {
    "duration": 47,
    "start_time": "2023-08-10T17:04:30.261Z"
   },
   {
    "duration": 194,
    "start_time": "2023-08-10T17:04:30.311Z"
   },
   {
    "duration": 5,
    "start_time": "2023-08-10T17:04:30.507Z"
   },
   {
    "duration": 65,
    "start_time": "2023-08-10T17:04:30.514Z"
   },
   {
    "duration": 270,
    "start_time": "2023-08-10T17:04:30.581Z"
   },
   {
    "duration": 20,
    "start_time": "2023-08-10T17:04:30.855Z"
   },
   {
    "duration": 240,
    "start_time": "2023-08-10T17:04:30.878Z"
   },
   {
    "duration": 17,
    "start_time": "2023-08-10T17:04:31.121Z"
   },
   {
    "duration": 245,
    "start_time": "2023-08-10T17:04:31.140Z"
   },
   {
    "duration": 13,
    "start_time": "2023-08-10T17:04:31.387Z"
   },
   {
    "duration": 55,
    "start_time": "2023-08-10T17:04:31.402Z"
   },
   {
    "duration": 61,
    "start_time": "2023-08-10T17:04:31.458Z"
   },
   {
    "duration": 66,
    "start_time": "2023-08-10T17:04:31.521Z"
   },
   {
    "duration": 215,
    "start_time": "2023-08-10T17:04:31.589Z"
   },
   {
    "duration": 196,
    "start_time": "2023-08-10T17:04:31.806Z"
   },
   {
    "duration": 374,
    "start_time": "2023-08-10T17:04:32.004Z"
   },
   {
    "duration": 239,
    "start_time": "2023-08-10T17:04:32.380Z"
   },
   {
    "duration": 20,
    "start_time": "2023-08-10T17:04:42.284Z"
   },
   {
    "duration": 24,
    "start_time": "2023-08-10T17:04:50.478Z"
   },
   {
    "duration": 693,
    "start_time": "2023-08-10T17:05:34.011Z"
   },
   {
    "duration": 762,
    "start_time": "2023-08-10T17:08:47.028Z"
   },
   {
    "duration": 24,
    "start_time": "2023-08-10T17:08:59.421Z"
   },
   {
    "duration": 20,
    "start_time": "2023-08-10T17:09:10.633Z"
   },
   {
    "duration": 39,
    "start_time": "2023-08-10T17:09:53.531Z"
   },
   {
    "duration": 21,
    "start_time": "2023-08-10T17:11:20.670Z"
   },
   {
    "duration": 21,
    "start_time": "2023-08-10T17:11:40.431Z"
   },
   {
    "duration": 36,
    "start_time": "2023-08-10T17:11:47.001Z"
   },
   {
    "duration": 3,
    "start_time": "2023-08-10T17:11:55.935Z"
   },
   {
    "duration": 31,
    "start_time": "2023-08-10T17:11:55.972Z"
   },
   {
    "duration": 3,
    "start_time": "2023-08-10T17:11:56.006Z"
   },
   {
    "duration": 31,
    "start_time": "2023-08-10T17:11:56.011Z"
   },
   {
    "duration": 43,
    "start_time": "2023-08-10T17:11:56.044Z"
   },
   {
    "duration": 290,
    "start_time": "2023-08-10T17:11:56.090Z"
   },
   {
    "duration": 30,
    "start_time": "2023-08-10T17:11:56.382Z"
   },
   {
    "duration": 25,
    "start_time": "2023-08-10T17:11:56.415Z"
   },
   {
    "duration": 43,
    "start_time": "2023-08-10T17:11:56.442Z"
   },
   {
    "duration": 351,
    "start_time": "2023-08-10T17:11:56.487Z"
   },
   {
    "duration": 17,
    "start_time": "2023-08-10T17:11:56.840Z"
   },
   {
    "duration": 25,
    "start_time": "2023-08-10T17:11:56.858Z"
   },
   {
    "duration": 56,
    "start_time": "2023-08-10T17:11:56.885Z"
   },
   {
    "duration": 199,
    "start_time": "2023-08-10T17:11:56.944Z"
   },
   {
    "duration": 15,
    "start_time": "2023-08-10T17:11:57.147Z"
   },
   {
    "duration": 49,
    "start_time": "2023-08-10T17:11:57.164Z"
   },
   {
    "duration": 26,
    "start_time": "2023-08-10T17:11:57.216Z"
   },
   {
    "duration": 25,
    "start_time": "2023-08-10T17:11:57.244Z"
   },
   {
    "duration": 28,
    "start_time": "2023-08-10T17:11:57.270Z"
   },
   {
    "duration": 40,
    "start_time": "2023-08-10T17:11:57.300Z"
   },
   {
    "duration": 19,
    "start_time": "2023-08-10T17:11:57.342Z"
   },
   {
    "duration": 32,
    "start_time": "2023-08-10T17:11:57.363Z"
   },
   {
    "duration": 24,
    "start_time": "2023-08-10T17:11:57.397Z"
   },
   {
    "duration": 11,
    "start_time": "2023-08-10T17:11:57.423Z"
   },
   {
    "duration": 13,
    "start_time": "2023-08-10T17:11:57.438Z"
   },
   {
    "duration": 45,
    "start_time": "2023-08-10T17:11:57.453Z"
   },
   {
    "duration": 178,
    "start_time": "2023-08-10T17:11:57.500Z"
   },
   {
    "duration": 6,
    "start_time": "2023-08-10T17:11:57.680Z"
   },
   {
    "duration": 24,
    "start_time": "2023-08-10T17:11:57.688Z"
   },
   {
    "duration": 278,
    "start_time": "2023-08-10T17:11:57.714Z"
   },
   {
    "duration": 17,
    "start_time": "2023-08-10T17:11:57.994Z"
   },
   {
    "duration": 210,
    "start_time": "2023-08-10T17:11:58.012Z"
   },
   {
    "duration": 15,
    "start_time": "2023-08-10T17:11:58.224Z"
   },
   {
    "duration": 233,
    "start_time": "2023-08-10T17:11:58.241Z"
   },
   {
    "duration": 14,
    "start_time": "2023-08-10T17:11:58.476Z"
   },
   {
    "duration": 20,
    "start_time": "2023-08-10T17:11:58.492Z"
   },
   {
    "duration": 22,
    "start_time": "2023-08-10T17:11:58.515Z"
   },
   {
    "duration": 19,
    "start_time": "2023-08-10T17:11:58.539Z"
   },
   {
    "duration": 182,
    "start_time": "2023-08-10T17:11:58.563Z"
   },
   {
    "duration": 310,
    "start_time": "2023-08-10T17:11:58.747Z"
   },
   {
    "duration": 189,
    "start_time": "2023-08-10T17:11:59.059Z"
   },
   {
    "duration": 219,
    "start_time": "2023-08-10T17:11:59.256Z"
   },
   {
    "duration": 3,
    "start_time": "2023-08-10T17:11:59.478Z"
   },
   {
    "duration": 29,
    "start_time": "2023-08-10T17:11:59.483Z"
   },
   {
    "duration": 19,
    "start_time": "2023-08-10T17:12:05.372Z"
   },
   {
    "duration": 4,
    "start_time": "2023-08-10T17:12:10.680Z"
   },
   {
    "duration": 71,
    "start_time": "2023-08-10T17:12:10.687Z"
   },
   {
    "duration": 156,
    "start_time": "2023-08-10T17:12:10.760Z"
   },
   {
    "duration": 73,
    "start_time": "2023-08-10T17:12:10.918Z"
   },
   {
    "duration": 141,
    "start_time": "2023-08-10T17:12:10.994Z"
   },
   {
    "duration": 281,
    "start_time": "2023-08-10T17:12:11.137Z"
   },
   {
    "duration": 28,
    "start_time": "2023-08-10T17:12:11.420Z"
   },
   {
    "duration": 17,
    "start_time": "2023-08-10T17:12:11.449Z"
   },
   {
    "duration": 41,
    "start_time": "2023-08-10T17:12:11.469Z"
   },
   {
    "duration": 359,
    "start_time": "2023-08-10T17:12:11.512Z"
   },
   {
    "duration": 26,
    "start_time": "2023-08-10T17:12:11.875Z"
   },
   {
    "duration": 77,
    "start_time": "2023-08-10T17:12:11.903Z"
   },
   {
    "duration": 47,
    "start_time": "2023-08-10T17:12:11.982Z"
   },
   {
    "duration": 185,
    "start_time": "2023-08-10T17:12:12.031Z"
   },
   {
    "duration": 7,
    "start_time": "2023-08-10T17:12:12.218Z"
   },
   {
    "duration": 8,
    "start_time": "2023-08-10T17:12:12.228Z"
   },
   {
    "duration": 31,
    "start_time": "2023-08-10T17:12:12.238Z"
   },
   {
    "duration": 16,
    "start_time": "2023-08-10T17:12:12.271Z"
   },
   {
    "duration": 10,
    "start_time": "2023-08-10T17:12:12.288Z"
   },
   {
    "duration": 15,
    "start_time": "2023-08-10T17:12:12.299Z"
   },
   {
    "duration": 9,
    "start_time": "2023-08-10T17:12:12.316Z"
   },
   {
    "duration": 33,
    "start_time": "2023-08-10T17:12:12.327Z"
   },
   {
    "duration": 36,
    "start_time": "2023-08-10T17:12:12.362Z"
   },
   {
    "duration": 31,
    "start_time": "2023-08-10T17:12:12.400Z"
   },
   {
    "duration": 20,
    "start_time": "2023-08-10T17:12:12.434Z"
   },
   {
    "duration": 68,
    "start_time": "2023-08-10T17:12:12.456Z"
   },
   {
    "duration": 307,
    "start_time": "2023-08-10T17:12:12.527Z"
   },
   {
    "duration": 7,
    "start_time": "2023-08-10T17:12:12.836Z"
   },
   {
    "duration": 18,
    "start_time": "2023-08-10T17:12:12.855Z"
   },
   {
    "duration": 313,
    "start_time": "2023-08-10T17:12:12.875Z"
   },
   {
    "duration": 15,
    "start_time": "2023-08-10T17:12:13.190Z"
   },
   {
    "duration": 215,
    "start_time": "2023-08-10T17:12:13.208Z"
   },
   {
    "duration": 13,
    "start_time": "2023-08-10T17:12:13.425Z"
   },
   {
    "duration": 262,
    "start_time": "2023-08-10T17:12:13.455Z"
   },
   {
    "duration": 12,
    "start_time": "2023-08-10T17:12:13.719Z"
   },
   {
    "duration": 21,
    "start_time": "2023-08-10T17:12:13.733Z"
   },
   {
    "duration": 18,
    "start_time": "2023-08-10T17:12:13.761Z"
   },
   {
    "duration": 17,
    "start_time": "2023-08-10T17:12:13.781Z"
   },
   {
    "duration": 180,
    "start_time": "2023-08-10T17:12:13.800Z"
   },
   {
    "duration": 242,
    "start_time": "2023-08-10T17:12:13.982Z"
   },
   {
    "duration": 268,
    "start_time": "2023-08-10T17:12:14.226Z"
   },
   {
    "duration": 380,
    "start_time": "2023-08-10T17:12:14.496Z"
   },
   {
    "duration": 2,
    "start_time": "2023-08-10T17:12:14.878Z"
   },
   {
    "duration": 27,
    "start_time": "2023-08-10T17:12:14.881Z"
   },
   {
    "duration": 0,
    "start_time": "2023-08-10T17:12:14.911Z"
   },
   {
    "duration": 4,
    "start_time": "2023-08-10T17:13:16.090Z"
   },
   {
    "duration": 29,
    "start_time": "2023-08-10T17:13:18.134Z"
   },
   {
    "duration": 27,
    "start_time": "2023-08-10T17:13:19.505Z"
   },
   {
    "duration": 31,
    "start_time": "2023-08-10T17:13:37.379Z"
   },
   {
    "duration": 35,
    "start_time": "2023-08-10T17:13:41.293Z"
   },
   {
    "duration": 26,
    "start_time": "2023-08-10T17:14:12.725Z"
   },
   {
    "duration": 11,
    "start_time": "2023-08-10T17:15:57.276Z"
   },
   {
    "duration": 226,
    "start_time": "2023-08-10T17:16:04.788Z"
   },
   {
    "duration": 575,
    "start_time": "2023-08-10T17:16:39.675Z"
   },
   {
    "duration": 19,
    "start_time": "2023-08-10T17:17:15.031Z"
   },
   {
    "duration": 586,
    "start_time": "2023-08-10T17:18:22.981Z"
   },
   {
    "duration": 37,
    "start_time": "2023-08-10T17:19:07.366Z"
   },
   {
    "duration": 722,
    "start_time": "2023-08-10T17:19:14.009Z"
   },
   {
    "duration": 19,
    "start_time": "2023-08-10T17:19:23.785Z"
   },
   {
    "duration": 19,
    "start_time": "2023-08-10T17:22:18.879Z"
   },
   {
    "duration": 24,
    "start_time": "2023-08-10T17:22:42.392Z"
   },
   {
    "duration": 27,
    "start_time": "2023-08-10T17:22:48.897Z"
   },
   {
    "duration": 27,
    "start_time": "2023-08-10T17:22:53.599Z"
   },
   {
    "duration": 29,
    "start_time": "2023-08-10T17:24:00.525Z"
   },
   {
    "duration": 30,
    "start_time": "2023-08-10T17:24:13.723Z"
   },
   {
    "duration": 25,
    "start_time": "2023-08-10T17:24:21.379Z"
   },
   {
    "duration": 1370,
    "start_time": "2023-08-11T06:48:00.832Z"
   },
   {
    "duration": 133,
    "start_time": "2023-08-11T06:48:02.205Z"
   },
   {
    "duration": 3,
    "start_time": "2023-08-11T06:48:02.340Z"
   },
   {
    "duration": 56,
    "start_time": "2023-08-11T06:48:02.346Z"
   },
   {
    "duration": 41,
    "start_time": "2023-08-11T06:48:02.404Z"
   },
   {
    "duration": 246,
    "start_time": "2023-08-11T06:48:02.446Z"
   },
   {
    "duration": 70,
    "start_time": "2023-08-11T06:48:02.694Z"
   },
   {
    "duration": 7,
    "start_time": "2023-08-11T06:48:02.766Z"
   },
   {
    "duration": 41,
    "start_time": "2023-08-11T06:48:02.775Z"
   },
   {
    "duration": 254,
    "start_time": "2023-08-11T06:48:02.818Z"
   },
   {
    "duration": 52,
    "start_time": "2023-08-11T06:48:03.073Z"
   },
   {
    "duration": 53,
    "start_time": "2023-08-11T06:48:03.127Z"
   },
   {
    "duration": 34,
    "start_time": "2023-08-11T06:48:03.181Z"
   },
   {
    "duration": 154,
    "start_time": "2023-08-11T06:48:03.216Z"
   },
   {
    "duration": 7,
    "start_time": "2023-08-11T06:48:03.371Z"
   },
   {
    "duration": 17,
    "start_time": "2023-08-11T06:48:03.380Z"
   },
   {
    "duration": 19,
    "start_time": "2023-08-11T06:48:03.399Z"
   },
   {
    "duration": 11,
    "start_time": "2023-08-11T06:48:03.420Z"
   },
   {
    "duration": 12,
    "start_time": "2023-08-11T06:48:03.433Z"
   },
   {
    "duration": 21,
    "start_time": "2023-08-11T06:48:03.446Z"
   },
   {
    "duration": 8,
    "start_time": "2023-08-11T06:48:03.469Z"
   },
   {
    "duration": 18,
    "start_time": "2023-08-11T06:48:03.478Z"
   },
   {
    "duration": 8,
    "start_time": "2023-08-11T06:48:03.498Z"
   },
   {
    "duration": 8,
    "start_time": "2023-08-11T06:48:03.508Z"
   },
   {
    "duration": 6,
    "start_time": "2023-08-11T06:48:03.537Z"
   },
   {
    "duration": 9,
    "start_time": "2023-08-11T06:48:03.545Z"
   },
   {
    "duration": 163,
    "start_time": "2023-08-11T06:48:03.556Z"
   },
   {
    "duration": 7,
    "start_time": "2023-08-11T06:48:03.722Z"
   },
   {
    "duration": 6,
    "start_time": "2023-08-11T06:48:03.737Z"
   },
   {
    "duration": 232,
    "start_time": "2023-08-11T06:48:03.745Z"
   },
   {
    "duration": 12,
    "start_time": "2023-08-11T06:48:03.979Z"
   },
   {
    "duration": 160,
    "start_time": "2023-08-11T06:48:03.993Z"
   },
   {
    "duration": 11,
    "start_time": "2023-08-11T06:48:04.155Z"
   },
   {
    "duration": 179,
    "start_time": "2023-08-11T06:48:04.168Z"
   },
   {
    "duration": 10,
    "start_time": "2023-08-11T06:48:04.348Z"
   },
   {
    "duration": 23,
    "start_time": "2023-08-11T06:48:04.359Z"
   },
   {
    "duration": 57,
    "start_time": "2023-08-11T06:48:04.383Z"
   },
   {
    "duration": 36,
    "start_time": "2023-08-11T06:48:04.443Z"
   },
   {
    "duration": 157,
    "start_time": "2023-08-11T06:48:04.481Z"
   },
   {
    "duration": 204,
    "start_time": "2023-08-11T06:48:04.640Z"
   },
   {
    "duration": 167,
    "start_time": "2023-08-11T06:48:04.845Z"
   },
   {
    "duration": 163,
    "start_time": "2023-08-11T06:48:05.013Z"
   },
   {
    "duration": 16,
    "start_time": "2023-08-11T06:48:05.178Z"
   },
   {
    "duration": 30,
    "start_time": "2023-08-11T06:48:05.196Z"
   },
   {
    "duration": 19,
    "start_time": "2023-08-11T06:48:05.228Z"
   },
   {
    "duration": 68,
    "start_time": "2023-08-11T06:48:05.249Z"
   },
   {
    "duration": 52,
    "start_time": "2023-08-11T06:48:11.988Z"
   },
   {
    "duration": 10,
    "start_time": "2023-08-11T06:53:29.433Z"
   },
   {
    "duration": 1003,
    "start_time": "2023-08-11T07:12:40.672Z"
   },
   {
    "duration": 2,
    "start_time": "2023-08-11T07:13:16.833Z"
   },
   {
    "duration": 33,
    "start_time": "2023-08-11T07:13:16.853Z"
   },
   {
    "duration": 2,
    "start_time": "2023-08-11T07:13:16.890Z"
   },
   {
    "duration": 8,
    "start_time": "2023-08-11T07:13:16.934Z"
   },
   {
    "duration": 10,
    "start_time": "2023-08-11T07:13:16.956Z"
   },
   {
    "duration": 206,
    "start_time": "2023-08-11T07:13:17.018Z"
   },
   {
    "duration": 26,
    "start_time": "2023-08-11T07:13:17.226Z"
   },
   {
    "duration": 8,
    "start_time": "2023-08-11T07:13:17.253Z"
   },
   {
    "duration": 22,
    "start_time": "2023-08-11T07:13:17.263Z"
   },
   {
    "duration": 252,
    "start_time": "2023-08-11T07:13:17.287Z"
   },
   {
    "duration": 16,
    "start_time": "2023-08-11T07:13:17.541Z"
   },
   {
    "duration": 26,
    "start_time": "2023-08-11T07:13:17.558Z"
   },
   {
    "duration": 37,
    "start_time": "2023-08-11T07:13:17.586Z"
   },
   {
    "duration": 170,
    "start_time": "2023-08-11T07:13:17.625Z"
   },
   {
    "duration": 7,
    "start_time": "2023-08-11T07:13:17.797Z"
   },
   {
    "duration": 31,
    "start_time": "2023-08-11T07:13:17.806Z"
   },
   {
    "duration": 33,
    "start_time": "2023-08-11T07:13:17.839Z"
   },
   {
    "duration": 24,
    "start_time": "2023-08-11T07:13:17.874Z"
   },
   {
    "duration": 40,
    "start_time": "2023-08-11T07:13:17.900Z"
   },
   {
    "duration": 43,
    "start_time": "2023-08-11T07:13:17.941Z"
   },
   {
    "duration": 19,
    "start_time": "2023-08-11T07:13:17.986Z"
   },
   {
    "duration": 22,
    "start_time": "2023-08-11T07:13:18.006Z"
   },
   {
    "duration": 29,
    "start_time": "2023-08-11T07:13:18.029Z"
   },
   {
    "duration": 39,
    "start_time": "2023-08-11T07:13:18.060Z"
   },
   {
    "duration": 26,
    "start_time": "2023-08-11T07:13:18.101Z"
   },
   {
    "duration": 75,
    "start_time": "2023-08-11T07:13:18.129Z"
   },
   {
    "duration": 235,
    "start_time": "2023-08-11T07:13:18.205Z"
   },
   {
    "duration": 5,
    "start_time": "2023-08-11T07:13:18.442Z"
   },
   {
    "duration": 73,
    "start_time": "2023-08-11T07:13:18.448Z"
   },
   {
    "duration": 272,
    "start_time": "2023-08-11T07:13:18.523Z"
   },
   {
    "duration": 15,
    "start_time": "2023-08-11T07:13:18.797Z"
   },
   {
    "duration": 179,
    "start_time": "2023-08-11T07:13:18.814Z"
   },
   {
    "duration": 11,
    "start_time": "2023-08-11T07:13:18.995Z"
   },
   {
    "duration": 271,
    "start_time": "2023-08-11T07:13:19.008Z"
   },
   {
    "duration": 10,
    "start_time": "2023-08-11T07:13:19.281Z"
   },
   {
    "duration": 30,
    "start_time": "2023-08-11T07:13:19.293Z"
   },
   {
    "duration": 34,
    "start_time": "2023-08-11T07:13:19.325Z"
   },
   {
    "duration": 31,
    "start_time": "2023-08-11T07:13:19.362Z"
   },
   {
    "duration": 173,
    "start_time": "2023-08-11T07:13:19.394Z"
   },
   {
    "duration": 144,
    "start_time": "2023-08-11T07:13:19.569Z"
   },
   {
    "duration": 140,
    "start_time": "2023-08-11T07:13:19.715Z"
   },
   {
    "duration": 161,
    "start_time": "2023-08-11T07:13:19.856Z"
   },
   {
    "duration": 21,
    "start_time": "2023-08-11T07:13:20.019Z"
   },
   {
    "duration": 27,
    "start_time": "2023-08-11T07:13:20.042Z"
   },
   {
    "duration": 58,
    "start_time": "2023-08-11T07:13:20.070Z"
   },
   {
    "duration": 1561,
    "start_time": "2023-08-11T07:13:20.129Z"
   },
   {
    "duration": 0,
    "start_time": "2023-08-11T07:13:21.691Z"
   },
   {
    "duration": 914,
    "start_time": "2023-08-11T07:14:17.068Z"
   },
   {
    "duration": 1065,
    "start_time": "2023-08-11T07:14:35.329Z"
   },
   {
    "duration": 20,
    "start_time": "2023-08-11T07:19:07.840Z"
   },
   {
    "duration": 534,
    "start_time": "2023-08-11T07:19:14.617Z"
   },
   {
    "duration": 13,
    "start_time": "2023-08-11T07:20:15.155Z"
   },
   {
    "duration": 14,
    "start_time": "2023-08-11T07:20:21.698Z"
   },
   {
    "duration": 15,
    "start_time": "2023-08-11T07:20:47.495Z"
   },
   {
    "duration": 14,
    "start_time": "2023-08-11T07:20:56.900Z"
   },
   {
    "duration": 14,
    "start_time": "2023-08-11T07:22:26.850Z"
   },
   {
    "duration": 1197,
    "start_time": "2023-08-11T09:08:33.672Z"
   },
   {
    "duration": 162,
    "start_time": "2023-08-11T09:08:34.871Z"
   },
   {
    "duration": 4,
    "start_time": "2023-08-11T09:08:35.035Z"
   },
   {
    "duration": 23,
    "start_time": "2023-08-11T09:08:35.040Z"
   },
   {
    "duration": 12,
    "start_time": "2023-08-11T09:08:35.065Z"
   },
   {
    "duration": 258,
    "start_time": "2023-08-11T09:08:35.078Z"
   },
   {
    "duration": 68,
    "start_time": "2023-08-11T09:08:35.337Z"
   },
   {
    "duration": 20,
    "start_time": "2023-08-11T09:08:35.407Z"
   },
   {
    "duration": 23,
    "start_time": "2023-08-11T09:08:35.429Z"
   },
   {
    "duration": 296,
    "start_time": "2023-08-11T09:08:35.455Z"
   },
   {
    "duration": 54,
    "start_time": "2023-08-11T09:08:35.754Z"
   },
   {
    "duration": 13,
    "start_time": "2023-08-11T09:08:35.810Z"
   },
   {
    "duration": 23,
    "start_time": "2023-08-11T09:08:35.825Z"
   },
   {
    "duration": 209,
    "start_time": "2023-08-11T09:08:35.851Z"
   },
   {
    "duration": 8,
    "start_time": "2023-08-11T09:08:36.062Z"
   },
   {
    "duration": 26,
    "start_time": "2023-08-11T09:08:36.072Z"
   },
   {
    "duration": 22,
    "start_time": "2023-08-11T09:08:36.100Z"
   },
   {
    "duration": 13,
    "start_time": "2023-08-11T09:08:36.123Z"
   },
   {
    "duration": 13,
    "start_time": "2023-08-11T09:08:36.137Z"
   },
   {
    "duration": 13,
    "start_time": "2023-08-11T09:08:36.152Z"
   },
   {
    "duration": 14,
    "start_time": "2023-08-11T09:08:36.166Z"
   },
   {
    "duration": 37,
    "start_time": "2023-08-11T09:08:36.182Z"
   },
   {
    "duration": 23,
    "start_time": "2023-08-11T09:08:36.221Z"
   },
   {
    "duration": 13,
    "start_time": "2023-08-11T09:08:36.246Z"
   },
   {
    "duration": 11,
    "start_time": "2023-08-11T09:08:36.261Z"
   },
   {
    "duration": 16,
    "start_time": "2023-08-11T09:08:36.274Z"
   },
   {
    "duration": 158,
    "start_time": "2023-08-11T09:08:36.292Z"
   },
   {
    "duration": 5,
    "start_time": "2023-08-11T09:08:36.454Z"
   },
   {
    "duration": 14,
    "start_time": "2023-08-11T09:08:36.461Z"
   },
   {
    "duration": 254,
    "start_time": "2023-08-11T09:08:36.476Z"
   },
   {
    "duration": 14,
    "start_time": "2023-08-11T09:08:36.732Z"
   },
   {
    "duration": 184,
    "start_time": "2023-08-11T09:08:36.747Z"
   },
   {
    "duration": 13,
    "start_time": "2023-08-11T09:08:36.932Z"
   },
   {
    "duration": 197,
    "start_time": "2023-08-11T09:08:36.947Z"
   },
   {
    "duration": 10,
    "start_time": "2023-08-11T09:08:37.146Z"
   },
   {
    "duration": 12,
    "start_time": "2023-08-11T09:08:37.158Z"
   },
   {
    "duration": 16,
    "start_time": "2023-08-11T09:08:37.172Z"
   },
   {
    "duration": 33,
    "start_time": "2023-08-11T09:08:37.190Z"
   },
   {
    "duration": 149,
    "start_time": "2023-08-11T09:08:37.225Z"
   },
   {
    "duration": 281,
    "start_time": "2023-08-11T09:08:37.376Z"
   },
   {
    "duration": 174,
    "start_time": "2023-08-11T09:08:37.658Z"
   },
   {
    "duration": 193,
    "start_time": "2023-08-11T09:08:37.834Z"
   },
   {
    "duration": 20,
    "start_time": "2023-08-11T09:08:38.029Z"
   },
   {
    "duration": 17,
    "start_time": "2023-08-11T09:08:38.050Z"
   },
   {
    "duration": 18,
    "start_time": "2023-08-11T09:08:38.068Z"
   },
   {
    "duration": 116,
    "start_time": "2023-08-11T09:08:38.108Z"
   },
   {
    "duration": 0,
    "start_time": "2023-08-11T09:08:38.226Z"
   },
   {
    "duration": 21,
    "start_time": "2023-08-11T09:09:22.877Z"
   },
   {
    "duration": 22,
    "start_time": "2023-08-11T09:09:29.167Z"
   },
   {
    "duration": 24,
    "start_time": "2023-08-11T09:09:43.600Z"
   },
   {
    "duration": 24,
    "start_time": "2023-08-11T09:09:48.277Z"
   },
   {
    "duration": 1301,
    "start_time": "2023-08-11T09:09:55.891Z"
   },
   {
    "duration": 22,
    "start_time": "2023-08-11T09:10:36.937Z"
   },
   {
    "duration": 325,
    "start_time": "2023-08-11T09:10:51.350Z"
   },
   {
    "duration": 625,
    "start_time": "2023-08-11T09:11:09.554Z"
   },
   {
    "duration": 4,
    "start_time": "2023-08-11T09:11:13.938Z"
   },
   {
    "duration": 35,
    "start_time": "2023-08-11T09:11:13.944Z"
   },
   {
    "duration": 3,
    "start_time": "2023-08-11T09:11:13.982Z"
   },
   {
    "duration": 30,
    "start_time": "2023-08-11T09:11:13.987Z"
   },
   {
    "duration": 40,
    "start_time": "2023-08-11T09:11:14.019Z"
   },
   {
    "duration": 264,
    "start_time": "2023-08-11T09:11:14.061Z"
   },
   {
    "duration": 26,
    "start_time": "2023-08-11T09:11:14.328Z"
   },
   {
    "duration": 8,
    "start_time": "2023-08-11T09:11:14.356Z"
   },
   {
    "duration": 14,
    "start_time": "2023-08-11T09:11:14.366Z"
   },
   {
    "duration": 330,
    "start_time": "2023-08-11T09:11:14.382Z"
   },
   {
    "duration": 26,
    "start_time": "2023-08-11T09:11:14.715Z"
   },
   {
    "duration": 8,
    "start_time": "2023-08-11T09:11:14.743Z"
   },
   {
    "duration": 22,
    "start_time": "2023-08-11T09:11:14.752Z"
   },
   {
    "duration": 178,
    "start_time": "2023-08-11T09:11:14.775Z"
   },
   {
    "duration": 7,
    "start_time": "2023-08-11T09:11:14.954Z"
   },
   {
    "duration": 11,
    "start_time": "2023-08-11T09:11:14.965Z"
   },
   {
    "duration": 13,
    "start_time": "2023-08-11T09:11:14.978Z"
   },
   {
    "duration": 21,
    "start_time": "2023-08-11T09:11:14.994Z"
   },
   {
    "duration": 70,
    "start_time": "2023-08-11T09:11:15.017Z"
   },
   {
    "duration": 34,
    "start_time": "2023-08-11T09:11:15.089Z"
   },
   {
    "duration": 13,
    "start_time": "2023-08-11T09:11:15.126Z"
   },
   {
    "duration": 136,
    "start_time": "2023-08-11T09:11:15.141Z"
   },
   {
    "duration": 9,
    "start_time": "2023-08-11T09:11:15.278Z"
   },
   {
    "duration": 26,
    "start_time": "2023-08-11T09:11:15.289Z"
   },
   {
    "duration": 41,
    "start_time": "2023-08-11T09:11:15.317Z"
   },
   {
    "duration": 23,
    "start_time": "2023-08-11T09:11:15.360Z"
   },
   {
    "duration": 144,
    "start_time": "2023-08-11T09:11:15.385Z"
   },
   {
    "duration": 5,
    "start_time": "2023-08-11T09:11:15.531Z"
   },
   {
    "duration": 29,
    "start_time": "2023-08-11T09:11:15.539Z"
   },
   {
    "duration": 284,
    "start_time": "2023-08-11T09:11:15.569Z"
   },
   {
    "duration": 13,
    "start_time": "2023-08-11T09:11:15.855Z"
   },
   {
    "duration": 237,
    "start_time": "2023-08-11T09:11:15.870Z"
   },
   {
    "duration": 16,
    "start_time": "2023-08-11T09:11:16.113Z"
   },
   {
    "duration": 200,
    "start_time": "2023-08-11T09:11:16.130Z"
   },
   {
    "duration": 11,
    "start_time": "2023-08-11T09:11:16.332Z"
   },
   {
    "duration": 68,
    "start_time": "2023-08-11T09:11:16.345Z"
   },
   {
    "duration": 57,
    "start_time": "2023-08-11T09:11:16.415Z"
   },
   {
    "duration": 9,
    "start_time": "2023-08-11T09:11:16.475Z"
   },
   {
    "duration": 165,
    "start_time": "2023-08-11T09:11:16.485Z"
   },
   {
    "duration": 184,
    "start_time": "2023-08-11T09:11:16.654Z"
   },
   {
    "duration": 180,
    "start_time": "2023-08-11T09:11:16.839Z"
   },
   {
    "duration": 166,
    "start_time": "2023-08-11T09:11:17.025Z"
   },
   {
    "duration": 35,
    "start_time": "2023-08-11T09:11:17.193Z"
   },
   {
    "duration": 24,
    "start_time": "2023-08-11T09:11:17.239Z"
   },
   {
    "duration": 27,
    "start_time": "2023-08-11T09:11:17.265Z"
   },
   {
    "duration": 34,
    "start_time": "2023-08-11T09:11:17.294Z"
   },
   {
    "duration": 0,
    "start_time": "2023-08-11T09:11:17.330Z"
   },
   {
    "duration": 560,
    "start_time": "2023-08-11T09:11:29.359Z"
   },
   {
    "duration": 576,
    "start_time": "2023-08-11T09:11:45.264Z"
   },
   {
    "duration": 3,
    "start_time": "2023-08-11T09:11:49.893Z"
   },
   {
    "duration": 28,
    "start_time": "2023-08-11T09:11:50.038Z"
   },
   {
    "duration": 3,
    "start_time": "2023-08-11T09:11:50.251Z"
   },
   {
    "duration": 10,
    "start_time": "2023-08-11T09:11:50.349Z"
   },
   {
    "duration": 12,
    "start_time": "2023-08-11T09:11:50.482Z"
   },
   {
    "duration": 242,
    "start_time": "2023-08-11T09:11:50.650Z"
   },
   {
    "duration": 31,
    "start_time": "2023-08-11T09:11:50.894Z"
   },
   {
    "duration": 9,
    "start_time": "2023-08-11T09:11:51.051Z"
   },
   {
    "duration": 13,
    "start_time": "2023-08-11T09:11:51.360Z"
   },
   {
    "duration": 285,
    "start_time": "2023-08-11T09:11:56.858Z"
   },
   {
    "duration": 27,
    "start_time": "2023-08-11T09:11:57.145Z"
   },
   {
    "duration": 7,
    "start_time": "2023-08-11T09:11:57.374Z"
   },
   {
    "duration": 20,
    "start_time": "2023-08-11T09:11:57.383Z"
   },
   {
    "duration": 219,
    "start_time": "2023-08-11T09:11:57.405Z"
   },
   {
    "duration": 7,
    "start_time": "2023-08-11T09:11:57.833Z"
   },
   {
    "duration": 22,
    "start_time": "2023-08-11T09:11:57.842Z"
   },
   {
    "duration": 14,
    "start_time": "2023-08-11T09:11:57.865Z"
   },
   {
    "duration": 7,
    "start_time": "2023-08-11T09:11:58.373Z"
   },
   {
    "duration": 11,
    "start_time": "2023-08-11T09:11:58.381Z"
   },
   {
    "duration": 17,
    "start_time": "2023-08-11T09:11:58.393Z"
   },
   {
    "duration": 11,
    "start_time": "2023-08-11T09:11:58.719Z"
   },
   {
    "duration": 7,
    "start_time": "2023-08-11T09:11:58.732Z"
   },
   {
    "duration": 9,
    "start_time": "2023-08-11T09:11:59.284Z"
   },
   {
    "duration": 6,
    "start_time": "2023-08-11T09:11:59.294Z"
   },
   {
    "duration": 61,
    "start_time": "2023-08-11T09:11:59.302Z"
   },
   {
    "duration": 6,
    "start_time": "2023-08-11T09:11:59.936Z"
   },
   {
    "duration": 186,
    "start_time": "2023-08-11T09:11:59.944Z"
   },
   {
    "duration": 27,
    "start_time": "2023-08-11T09:12:00.132Z"
   },
   {
    "duration": 6,
    "start_time": "2023-08-11T09:12:04.850Z"
   },
   {
    "duration": 314,
    "start_time": "2023-08-11T09:12:04.858Z"
   },
   {
    "duration": 17,
    "start_time": "2023-08-11T09:12:08.565Z"
   },
   {
    "duration": 201,
    "start_time": "2023-08-11T09:12:08.584Z"
   },
   {
    "duration": 14,
    "start_time": "2023-08-11T09:12:08.787Z"
   },
   {
    "duration": 207,
    "start_time": "2023-08-11T09:12:08.813Z"
   },
   {
    "duration": 10,
    "start_time": "2023-08-11T09:12:09.023Z"
   },
   {
    "duration": 40,
    "start_time": "2023-08-11T09:12:09.035Z"
   },
   {
    "duration": 10,
    "start_time": "2023-08-11T09:12:09.815Z"
   },
   {
    "duration": 56,
    "start_time": "2023-08-11T09:12:09.826Z"
   },
   {
    "duration": 203,
    "start_time": "2023-08-11T09:12:09.884Z"
   },
   {
    "duration": 177,
    "start_time": "2023-08-11T09:12:10.088Z"
   },
   {
    "duration": 183,
    "start_time": "2023-08-11T09:12:10.267Z"
   },
   {
    "duration": 169,
    "start_time": "2023-08-11T09:12:11.523Z"
   },
   {
    "duration": 25,
    "start_time": "2023-08-11T09:12:11.694Z"
   },
   {
    "duration": 21,
    "start_time": "2023-08-11T09:12:11.722Z"
   },
   {
    "duration": 1414,
    "start_time": "2023-08-11T09:12:11.745Z"
   },
   {
    "duration": 1415,
    "start_time": "2023-08-11T09:12:13.161Z"
   },
   {
    "duration": 0,
    "start_time": "2023-08-11T09:12:14.577Z"
   },
   {
    "duration": 1210,
    "start_time": "2023-08-11T09:12:36.766Z"
   },
   {
    "duration": 1329,
    "start_time": "2023-08-11T09:13:09.145Z"
   },
   {
    "duration": 583,
    "start_time": "2023-08-11T09:13:43.518Z"
   },
   {
    "duration": 335,
    "start_time": "2023-08-11T09:18:45.249Z"
   },
   {
    "duration": 282,
    "start_time": "2023-08-11T09:18:56.504Z"
   },
   {
    "duration": 314,
    "start_time": "2023-08-11T09:19:04.019Z"
   },
   {
    "duration": 3,
    "start_time": "2023-08-11T09:19:14.430Z"
   },
   {
    "duration": 56,
    "start_time": "2023-08-11T09:19:14.435Z"
   },
   {
    "duration": 3,
    "start_time": "2023-08-11T09:19:17.228Z"
   },
   {
    "duration": 71,
    "start_time": "2023-08-11T09:19:17.233Z"
   },
   {
    "duration": 35,
    "start_time": "2023-08-11T09:19:17.305Z"
   },
   {
    "duration": 247,
    "start_time": "2023-08-11T09:19:20.581Z"
   },
   {
    "duration": 37,
    "start_time": "2023-08-11T09:19:20.831Z"
   },
   {
    "duration": 8,
    "start_time": "2023-08-11T09:19:20.869Z"
   },
   {
    "duration": 13,
    "start_time": "2023-08-11T09:19:23.745Z"
   },
   {
    "duration": 326,
    "start_time": "2023-08-11T09:19:23.760Z"
   },
   {
    "duration": 33,
    "start_time": "2023-08-11T09:19:24.088Z"
   },
   {
    "duration": 9,
    "start_time": "2023-08-11T09:19:26.064Z"
   },
   {
    "duration": 30,
    "start_time": "2023-08-11T09:19:26.075Z"
   },
   {
    "duration": 218,
    "start_time": "2023-08-11T09:19:26.107Z"
   },
   {
    "duration": 9,
    "start_time": "2023-08-11T09:19:26.328Z"
   },
   {
    "duration": 35,
    "start_time": "2023-08-11T09:19:26.339Z"
   },
   {
    "duration": 18,
    "start_time": "2023-08-11T09:19:26.377Z"
   },
   {
    "duration": 43,
    "start_time": "2023-08-11T09:19:26.396Z"
   },
   {
    "duration": 18,
    "start_time": "2023-08-11T09:19:26.441Z"
   },
   {
    "duration": 15,
    "start_time": "2023-08-11T09:19:26.460Z"
   },
   {
    "duration": 11,
    "start_time": "2023-08-11T09:19:26.477Z"
   },
   {
    "duration": 10,
    "start_time": "2023-08-11T09:19:26.489Z"
   },
   {
    "duration": 10,
    "start_time": "2023-08-11T09:19:26.571Z"
   },
   {
    "duration": 11,
    "start_time": "2023-08-11T09:19:26.583Z"
   },
   {
    "duration": 32,
    "start_time": "2023-08-11T09:19:26.597Z"
   },
   {
    "duration": 17,
    "start_time": "2023-08-11T09:19:26.633Z"
   },
   {
    "duration": 162,
    "start_time": "2023-08-11T09:19:26.652Z"
   },
   {
    "duration": 6,
    "start_time": "2023-08-11T09:19:26.815Z"
   },
   {
    "duration": 30,
    "start_time": "2023-08-11T09:19:26.823Z"
   },
   {
    "duration": 300,
    "start_time": "2023-08-11T09:19:26.855Z"
   },
   {
    "duration": 15,
    "start_time": "2023-08-11T09:19:27.156Z"
   },
   {
    "duration": 205,
    "start_time": "2023-08-11T09:19:27.173Z"
   },
   {
    "duration": 13,
    "start_time": "2023-08-11T09:19:27.381Z"
   },
   {
    "duration": 49,
    "start_time": "2023-08-11T12:05:18.204Z"
   },
   {
    "duration": 14,
    "start_time": "2023-08-11T12:05:32.291Z"
   },
   {
    "duration": 1184,
    "start_time": "2023-08-11T12:05:39.937Z"
   },
   {
    "duration": 139,
    "start_time": "2023-08-11T12:05:41.123Z"
   },
   {
    "duration": 3,
    "start_time": "2023-08-11T12:05:41.264Z"
   },
   {
    "duration": 17,
    "start_time": "2023-08-11T12:05:41.269Z"
   },
   {
    "duration": 15,
    "start_time": "2023-08-11T12:05:41.289Z"
   },
   {
    "duration": 253,
    "start_time": "2023-08-11T12:05:41.306Z"
   },
   {
    "duration": 77,
    "start_time": "2023-08-11T12:05:41.561Z"
   },
   {
    "duration": 8,
    "start_time": "2023-08-11T12:05:41.639Z"
   },
   {
    "duration": 19,
    "start_time": "2023-08-11T12:05:41.649Z"
   },
   {
    "duration": 275,
    "start_time": "2023-08-11T12:05:41.670Z"
   },
   {
    "duration": 60,
    "start_time": "2023-08-11T12:05:41.947Z"
   },
   {
    "duration": 7,
    "start_time": "2023-08-11T12:05:42.008Z"
   },
   {
    "duration": 12,
    "start_time": "2023-08-11T12:05:42.017Z"
   },
   {
    "duration": 177,
    "start_time": "2023-08-11T12:05:42.031Z"
   },
   {
    "duration": 7,
    "start_time": "2023-08-11T12:05:42.209Z"
   },
   {
    "duration": 20,
    "start_time": "2023-08-11T12:05:42.218Z"
   },
   {
    "duration": 10,
    "start_time": "2023-08-11T12:05:42.240Z"
   },
   {
    "duration": 11,
    "start_time": "2023-08-11T12:05:42.252Z"
   },
   {
    "duration": 15,
    "start_time": "2023-08-11T12:05:42.265Z"
   },
   {
    "duration": 26,
    "start_time": "2023-08-11T12:05:42.282Z"
   },
   {
    "duration": 15,
    "start_time": "2023-08-11T12:05:42.310Z"
   },
   {
    "duration": 20,
    "start_time": "2023-08-11T12:05:42.327Z"
   },
   {
    "duration": 25,
    "start_time": "2023-08-11T12:05:42.349Z"
   },
   {
    "duration": 27,
    "start_time": "2023-08-11T12:05:42.376Z"
   },
   {
    "duration": 30,
    "start_time": "2023-08-11T12:05:42.405Z"
   },
   {
    "duration": 39,
    "start_time": "2023-08-11T12:05:42.436Z"
   },
   {
    "duration": 153,
    "start_time": "2023-08-11T12:05:42.477Z"
   },
   {
    "duration": 5,
    "start_time": "2023-08-11T12:05:42.633Z"
   },
   {
    "duration": 11,
    "start_time": "2023-08-11T12:05:42.640Z"
   },
   {
    "duration": 243,
    "start_time": "2023-08-11T12:05:42.653Z"
   },
   {
    "duration": 16,
    "start_time": "2023-08-11T12:05:42.897Z"
   },
   {
    "duration": 166,
    "start_time": "2023-08-11T12:05:42.915Z"
   },
   {
    "duration": 21,
    "start_time": "2023-08-11T12:05:43.082Z"
   },
   {
    "duration": 194,
    "start_time": "2023-08-11T12:05:43.104Z"
   },
   {
    "duration": 9,
    "start_time": "2023-08-11T12:05:43.303Z"
   },
   {
    "duration": 11,
    "start_time": "2023-08-11T12:05:43.314Z"
   },
   {
    "duration": 18,
    "start_time": "2023-08-11T12:05:43.327Z"
   },
   {
    "duration": 14,
    "start_time": "2023-08-11T12:05:43.346Z"
   },
   {
    "duration": 149,
    "start_time": "2023-08-11T12:05:43.361Z"
   },
   {
    "duration": 229,
    "start_time": "2023-08-11T12:05:43.511Z"
   },
   {
    "duration": 181,
    "start_time": "2023-08-11T12:05:43.742Z"
   },
   {
    "duration": 182,
    "start_time": "2023-08-11T12:05:43.925Z"
   },
   {
    "duration": 17,
    "start_time": "2023-08-11T12:05:44.109Z"
   },
   {
    "duration": 20,
    "start_time": "2023-08-11T12:05:44.127Z"
   },
   {
    "duration": 19,
    "start_time": "2023-08-11T12:05:44.149Z"
   },
   {
    "duration": 71,
    "start_time": "2023-08-11T12:05:44.189Z"
   },
   {
    "duration": 0,
    "start_time": "2023-08-11T12:05:44.262Z"
   },
   {
    "duration": 13,
    "start_time": "2023-08-11T12:08:58.369Z"
   },
   {
    "duration": 62860,
    "start_time": "2023-08-11T12:09:47.545Z"
   },
   {
    "duration": 13,
    "start_time": "2023-08-11T12:11:09.088Z"
   },
   {
    "duration": 1947,
    "start_time": "2023-08-11T12:11:17.246Z"
   },
   {
    "duration": 15,
    "start_time": "2023-08-11T12:12:20.490Z"
   },
   {
    "duration": 12,
    "start_time": "2023-08-11T12:22:16.354Z"
   },
   {
    "duration": 5,
    "start_time": "2023-08-11T12:25:17.119Z"
   },
   {
    "duration": 5,
    "start_time": "2023-08-11T12:25:50.772Z"
   },
   {
    "duration": 1273,
    "start_time": "2023-08-11T14:18:13.298Z"
   },
   {
    "duration": 179,
    "start_time": "2023-08-11T14:18:14.573Z"
   },
   {
    "duration": 3,
    "start_time": "2023-08-11T14:18:14.754Z"
   },
   {
    "duration": 25,
    "start_time": "2023-08-11T14:18:14.760Z"
   },
   {
    "duration": 12,
    "start_time": "2023-08-11T14:18:14.786Z"
   },
   {
    "duration": 280,
    "start_time": "2023-08-11T14:18:14.800Z"
   },
   {
    "duration": 173,
    "start_time": "2023-08-11T14:18:15.082Z"
   },
   {
    "duration": 10,
    "start_time": "2023-08-11T14:18:15.257Z"
   },
   {
    "duration": 17,
    "start_time": "2023-08-11T14:18:15.270Z"
   },
   {
    "duration": 308,
    "start_time": "2023-08-11T14:18:15.290Z"
   },
   {
    "duration": 71,
    "start_time": "2023-08-11T14:18:15.599Z"
   },
   {
    "duration": 8,
    "start_time": "2023-08-11T14:18:15.672Z"
   },
   {
    "duration": 14,
    "start_time": "2023-08-11T14:18:15.681Z"
   },
   {
    "duration": 185,
    "start_time": "2023-08-11T14:18:15.696Z"
   },
   {
    "duration": 8,
    "start_time": "2023-08-11T14:18:15.883Z"
   },
   {
    "duration": 10,
    "start_time": "2023-08-11T14:18:15.892Z"
   },
   {
    "duration": 14,
    "start_time": "2023-08-11T14:18:15.904Z"
   },
   {
    "duration": 6,
    "start_time": "2023-08-11T14:18:15.920Z"
   },
   {
    "duration": 16,
    "start_time": "2023-08-11T14:18:15.927Z"
   },
   {
    "duration": 27,
    "start_time": "2023-08-11T14:18:15.958Z"
   },
   {
    "duration": 13,
    "start_time": "2023-08-11T14:18:15.986Z"
   },
   {
    "duration": 6,
    "start_time": "2023-08-11T14:18:16.001Z"
   },
   {
    "duration": 10,
    "start_time": "2023-08-11T14:18:16.008Z"
   },
   {
    "duration": 6,
    "start_time": "2023-08-11T14:18:16.019Z"
   },
   {
    "duration": 31,
    "start_time": "2023-08-11T14:18:16.027Z"
   },
   {
    "duration": 8,
    "start_time": "2023-08-11T14:18:16.060Z"
   },
   {
    "duration": 160,
    "start_time": "2023-08-11T14:18:16.069Z"
   },
   {
    "duration": 5,
    "start_time": "2023-08-11T14:18:16.233Z"
   },
   {
    "duration": 18,
    "start_time": "2023-08-11T14:18:16.240Z"
   },
   {
    "duration": 252,
    "start_time": "2023-08-11T14:18:16.262Z"
   },
   {
    "duration": 16,
    "start_time": "2023-08-11T14:18:16.516Z"
   },
   {
    "duration": 208,
    "start_time": "2023-08-11T14:18:16.534Z"
   },
   {
    "duration": 26,
    "start_time": "2023-08-11T14:18:16.744Z"
   },
   {
    "duration": 203,
    "start_time": "2023-08-11T14:18:16.772Z"
   },
   {
    "duration": 14,
    "start_time": "2023-08-11T14:18:16.977Z"
   },
   {
    "duration": 13,
    "start_time": "2023-08-11T14:18:16.993Z"
   },
   {
    "duration": 11,
    "start_time": "2023-08-11T14:18:17.008Z"
   },
   {
    "duration": 8,
    "start_time": "2023-08-11T14:18:17.021Z"
   },
   {
    "duration": 168,
    "start_time": "2023-08-11T14:18:17.031Z"
   },
   {
    "duration": 286,
    "start_time": "2023-08-11T14:18:17.201Z"
   },
   {
    "duration": 175,
    "start_time": "2023-08-11T14:18:17.489Z"
   },
   {
    "duration": 191,
    "start_time": "2023-08-11T14:18:17.666Z"
   },
   {
    "duration": 23,
    "start_time": "2023-08-11T14:18:17.859Z"
   },
   {
    "duration": 20,
    "start_time": "2023-08-11T14:18:17.884Z"
   },
   {
    "duration": 21,
    "start_time": "2023-08-11T14:18:17.905Z"
   },
   {
    "duration": 66131,
    "start_time": "2023-08-11T14:18:17.928Z"
   },
   {
    "duration": 12,
    "start_time": "2023-08-11T14:19:24.061Z"
   },
   {
    "duration": 7,
    "start_time": "2023-08-11T14:19:24.075Z"
   },
   {
    "duration": 7,
    "start_time": "2023-08-11T14:19:24.084Z"
   },
   {
    "duration": 14,
    "start_time": "2023-08-11T14:21:24.987Z"
   },
   {
    "duration": 12,
    "start_time": "2023-08-11T14:21:32.647Z"
   },
   {
    "duration": 25,
    "start_time": "2023-08-11T14:21:39.955Z"
   },
   {
    "duration": 5,
    "start_time": "2023-08-11T14:21:47.900Z"
   },
   {
    "duration": 39,
    "start_time": "2023-08-11T14:35:51.471Z"
   },
   {
    "duration": 3,
    "start_time": "2023-08-11T14:36:24.151Z"
   },
   {
    "duration": 30,
    "start_time": "2023-08-11T14:36:24.264Z"
   },
   {
    "duration": 3,
    "start_time": "2023-08-11T14:36:24.307Z"
   },
   {
    "duration": 10,
    "start_time": "2023-08-11T14:36:27.166Z"
   },
   {
    "duration": 13,
    "start_time": "2023-08-11T14:36:27.178Z"
   },
   {
    "duration": 258,
    "start_time": "2023-08-11T14:36:27.745Z"
   },
   {
    "duration": 39,
    "start_time": "2023-08-11T14:36:28.005Z"
   },
   {
    "duration": 9,
    "start_time": "2023-08-11T14:36:28.046Z"
   },
   {
    "duration": 13,
    "start_time": "2023-08-11T14:36:28.058Z"
   },
   {
    "duration": 340,
    "start_time": "2023-08-11T14:36:28.076Z"
   },
   {
    "duration": 16,
    "start_time": "2023-08-11T14:36:28.418Z"
   },
   {
    "duration": 8,
    "start_time": "2023-08-11T14:36:28.436Z"
   },
   {
    "duration": 24,
    "start_time": "2023-08-11T14:36:28.446Z"
   },
   {
    "duration": 204,
    "start_time": "2023-08-11T14:36:28.472Z"
   },
   {
    "duration": 7,
    "start_time": "2023-08-11T14:36:28.680Z"
   },
   {
    "duration": 9,
    "start_time": "2023-08-11T14:36:28.689Z"
   },
   {
    "duration": 18,
    "start_time": "2023-08-11T14:36:28.699Z"
   },
   {
    "duration": 10,
    "start_time": "2023-08-11T14:36:28.719Z"
   },
   {
    "duration": 17,
    "start_time": "2023-08-11T14:36:28.731Z"
   },
   {
    "duration": 17,
    "start_time": "2023-08-11T14:36:28.759Z"
   },
   {
    "duration": 9,
    "start_time": "2023-08-11T14:36:28.777Z"
   },
   {
    "duration": 11,
    "start_time": "2023-08-11T14:36:28.788Z"
   },
   {
    "duration": 12,
    "start_time": "2023-08-11T14:36:28.929Z"
   },
   {
    "duration": 8,
    "start_time": "2023-08-11T14:36:28.944Z"
   },
   {
    "duration": 9,
    "start_time": "2023-08-11T14:36:28.954Z"
   },
   {
    "duration": 6,
    "start_time": "2023-08-11T14:36:30.098Z"
   },
   {
    "duration": 206,
    "start_time": "2023-08-11T14:36:30.106Z"
   },
   {
    "duration": 5,
    "start_time": "2023-08-11T14:36:30.315Z"
   },
   {
    "duration": 66,
    "start_time": "2023-08-11T14:36:30.322Z"
   },
   {
    "duration": 279,
    "start_time": "2023-08-11T14:36:30.390Z"
   },
   {
    "duration": 16,
    "start_time": "2023-08-11T14:36:30.671Z"
   },
   {
    "duration": 208,
    "start_time": "2023-08-11T14:36:30.689Z"
   },
   {
    "duration": 13,
    "start_time": "2023-08-11T14:36:30.899Z"
   },
   {
    "duration": 440,
    "start_time": "2023-08-11T14:36:30.915Z"
   },
   {
    "duration": 17,
    "start_time": "2023-08-11T14:36:31.357Z"
   },
   {
    "duration": 44,
    "start_time": "2023-08-11T14:36:31.376Z"
   },
   {
    "duration": 29,
    "start_time": "2023-08-11T14:36:31.422Z"
   },
   {
    "duration": 42,
    "start_time": "2023-08-11T14:36:31.453Z"
   },
   {
    "duration": 216,
    "start_time": "2023-08-11T14:36:31.497Z"
   },
   {
    "duration": 196,
    "start_time": "2023-08-11T14:36:31.715Z"
   },
   {
    "duration": 186,
    "start_time": "2023-08-11T14:36:31.912Z"
   },
   {
    "duration": 217,
    "start_time": "2023-08-11T14:36:32.101Z"
   },
   {
    "duration": 21,
    "start_time": "2023-08-11T14:36:32.320Z"
   },
   {
    "duration": 56,
    "start_time": "2023-08-11T14:36:32.343Z"
   },
   {
    "duration": 36,
    "start_time": "2023-08-11T14:36:32.401Z"
   },
   {
    "duration": 66210,
    "start_time": "2023-08-11T14:36:32.439Z"
   },
   {
    "duration": 15,
    "start_time": "2023-08-11T14:37:38.651Z"
   },
   {
    "duration": 7,
    "start_time": "2023-08-11T14:37:38.668Z"
   },
   {
    "duration": 5,
    "start_time": "2023-08-11T14:37:38.678Z"
   },
   {
    "duration": 6,
    "start_time": "2023-08-11T14:37:38.684Z"
   },
   {
    "duration": 5,
    "start_time": "2023-08-11T14:37:38.692Z"
   },
   {
    "duration": 16,
    "start_time": "2023-08-11T14:37:38.698Z"
   },
   {
    "duration": 12,
    "start_time": "2023-08-11T14:38:03.087Z"
   },
   {
    "duration": 13,
    "start_time": "2023-08-11T14:38:28.493Z"
   },
   {
    "duration": 1335,
    "start_time": "2023-08-12T07:55:57.555Z"
   },
   {
    "duration": 192,
    "start_time": "2023-08-12T07:55:58.892Z"
   },
   {
    "duration": 4,
    "start_time": "2023-08-12T07:55:59.085Z"
   },
   {
    "duration": 31,
    "start_time": "2023-08-12T07:55:59.090Z"
   },
   {
    "duration": 12,
    "start_time": "2023-08-12T07:55:59.124Z"
   },
   {
    "duration": 287,
    "start_time": "2023-08-12T07:55:59.138Z"
   },
   {
    "duration": 169,
    "start_time": "2023-08-12T07:55:59.427Z"
   },
   {
    "duration": 9,
    "start_time": "2023-08-12T07:55:59.598Z"
   },
   {
    "duration": 39,
    "start_time": "2023-08-12T07:55:59.609Z"
   },
   {
    "duration": 298,
    "start_time": "2023-08-12T07:55:59.650Z"
   },
   {
    "duration": 75,
    "start_time": "2023-08-12T07:55:59.950Z"
   },
   {
    "duration": 9,
    "start_time": "2023-08-12T07:56:00.027Z"
   },
   {
    "duration": 35,
    "start_time": "2023-08-12T07:56:00.039Z"
   },
   {
    "duration": 193,
    "start_time": "2023-08-12T07:56:00.079Z"
   },
   {
    "duration": 6,
    "start_time": "2023-08-12T07:56:00.274Z"
   },
   {
    "duration": 38,
    "start_time": "2023-08-12T07:56:00.282Z"
   },
   {
    "duration": 42,
    "start_time": "2023-08-12T07:56:00.322Z"
   },
   {
    "duration": 50,
    "start_time": "2023-08-12T07:56:00.366Z"
   },
   {
    "duration": 43,
    "start_time": "2023-08-12T07:56:00.418Z"
   },
   {
    "duration": 54,
    "start_time": "2023-08-12T07:56:00.463Z"
   },
   {
    "duration": 29,
    "start_time": "2023-08-12T07:56:00.519Z"
   },
   {
    "duration": 27,
    "start_time": "2023-08-12T07:56:00.549Z"
   },
   {
    "duration": 42,
    "start_time": "2023-08-12T07:56:00.577Z"
   },
   {
    "duration": 15,
    "start_time": "2023-08-12T07:56:00.621Z"
   },
   {
    "duration": 29,
    "start_time": "2023-08-12T07:56:00.638Z"
   },
   {
    "duration": 28,
    "start_time": "2023-08-12T07:56:00.669Z"
   },
   {
    "duration": 147,
    "start_time": "2023-08-12T07:56:00.698Z"
   },
   {
    "duration": 13,
    "start_time": "2023-08-12T07:56:00.847Z"
   },
   {
    "duration": 23,
    "start_time": "2023-08-12T07:56:00.862Z"
   },
   {
    "duration": 272,
    "start_time": "2023-08-12T07:56:00.886Z"
   },
   {
    "duration": 19,
    "start_time": "2023-08-12T07:56:01.160Z"
   },
   {
    "duration": 217,
    "start_time": "2023-08-12T07:56:01.181Z"
   },
   {
    "duration": 13,
    "start_time": "2023-08-12T07:56:01.400Z"
   },
   {
    "duration": 210,
    "start_time": "2023-08-12T07:56:01.415Z"
   },
   {
    "duration": 12,
    "start_time": "2023-08-12T07:56:01.627Z"
   },
   {
    "duration": 26,
    "start_time": "2023-08-12T07:56:01.641Z"
   },
   {
    "duration": 14,
    "start_time": "2023-08-12T07:56:01.670Z"
   },
   {
    "duration": 50,
    "start_time": "2023-08-12T07:56:01.686Z"
   },
   {
    "duration": 185,
    "start_time": "2023-08-12T07:56:01.739Z"
   },
   {
    "duration": 274,
    "start_time": "2023-08-12T07:56:01.926Z"
   },
   {
    "duration": 198,
    "start_time": "2023-08-12T07:56:02.205Z"
   },
   {
    "duration": 195,
    "start_time": "2023-08-12T07:56:02.405Z"
   },
   {
    "duration": 19,
    "start_time": "2023-08-12T07:56:02.602Z"
   },
   {
    "duration": 34,
    "start_time": "2023-08-12T07:56:02.623Z"
   },
   {
    "duration": 23,
    "start_time": "2023-08-12T07:56:02.659Z"
   },
   {
    "duration": 67053,
    "start_time": "2023-08-12T07:56:02.684Z"
   },
   {
    "duration": 18,
    "start_time": "2023-08-12T07:57:09.739Z"
   },
   {
    "duration": 11,
    "start_time": "2023-08-12T07:57:09.759Z"
   },
   {
    "duration": 14,
    "start_time": "2023-08-12T07:57:09.771Z"
   },
   {
    "duration": 17,
    "start_time": "2023-08-12T07:57:09.787Z"
   },
   {
    "duration": 9,
    "start_time": "2023-08-12T07:57:09.805Z"
   },
   {
    "duration": 16,
    "start_time": "2023-08-12T07:57:09.815Z"
   },
   {
    "duration": 120,
    "start_time": "2023-08-12T08:22:08.120Z"
   },
   {
    "duration": 8437,
    "start_time": "2023-08-12T08:22:33.800Z"
   },
   {
    "duration": 3589,
    "start_time": "2023-08-12T08:23:29.980Z"
   },
   {
    "duration": 9467,
    "start_time": "2023-08-12T08:24:06.906Z"
   },
   {
    "duration": 9327,
    "start_time": "2023-08-12T08:24:39.786Z"
   },
   {
    "duration": 10088,
    "start_time": "2023-08-12T08:25:18.983Z"
   },
   {
    "duration": 6140,
    "start_time": "2023-08-12T08:26:36.974Z"
   },
   {
    "duration": 3104,
    "start_time": "2023-08-12T08:44:50.156Z"
   },
   {
    "duration": 314,
    "start_time": "2023-08-12T08:44:57.962Z"
   },
   {
    "duration": 11,
    "start_time": "2023-08-12T08:44:58.987Z"
   },
   {
    "duration": 92,
    "start_time": "2023-08-12T08:44:59.500Z"
   },
   {
    "duration": 3,
    "start_time": "2023-08-12T08:45:15.704Z"
   },
   {
    "duration": 63,
    "start_time": "2023-08-12T08:45:15.710Z"
   },
   {
    "duration": 3,
    "start_time": "2023-08-12T08:45:15.775Z"
   },
   {
    "duration": 87,
    "start_time": "2023-08-12T08:45:15.780Z"
   },
   {
    "duration": 12,
    "start_time": "2023-08-12T08:45:15.871Z"
   },
   {
    "duration": 604,
    "start_time": "2023-08-12T08:45:15.885Z"
   },
   {
    "duration": 80,
    "start_time": "2023-08-12T08:45:16.491Z"
   },
   {
    "duration": 9,
    "start_time": "2023-08-12T08:45:16.574Z"
   },
   {
    "duration": 78,
    "start_time": "2023-08-12T08:45:16.584Z"
   },
   {
    "duration": 610,
    "start_time": "2023-08-12T08:45:16.664Z"
   },
   {
    "duration": 28,
    "start_time": "2023-08-12T08:45:17.276Z"
   },
   {
    "duration": 54,
    "start_time": "2023-08-12T08:45:17.305Z"
   },
   {
    "duration": 19,
    "start_time": "2023-08-12T08:45:17.361Z"
   },
   {
    "duration": 391,
    "start_time": "2023-08-12T08:45:17.381Z"
   },
   {
    "duration": 8,
    "start_time": "2023-08-12T08:45:17.773Z"
   },
   {
    "duration": 7,
    "start_time": "2023-08-12T08:45:17.782Z"
   },
   {
    "duration": 72,
    "start_time": "2023-08-12T08:45:17.790Z"
   },
   {
    "duration": 6,
    "start_time": "2023-08-12T08:45:17.866Z"
   },
   {
    "duration": 26,
    "start_time": "2023-08-12T08:45:17.873Z"
   },
   {
    "duration": 72,
    "start_time": "2023-08-12T08:45:17.901Z"
   },
   {
    "duration": 9,
    "start_time": "2023-08-12T08:45:17.975Z"
   },
   {
    "duration": 8,
    "start_time": "2023-08-12T08:45:17.986Z"
   },
   {
    "duration": 71,
    "start_time": "2023-08-12T08:45:17.995Z"
   },
   {
    "duration": 8,
    "start_time": "2023-08-12T08:45:18.072Z"
   },
   {
    "duration": 8,
    "start_time": "2023-08-12T08:45:18.081Z"
   },
   {
    "duration": 8,
    "start_time": "2023-08-12T08:45:18.091Z"
   },
   {
    "duration": 387,
    "start_time": "2023-08-12T08:45:18.100Z"
   },
   {
    "duration": 5,
    "start_time": "2023-08-12T08:45:18.489Z"
   },
   {
    "duration": 61,
    "start_time": "2023-08-12T08:45:18.499Z"
   },
   {
    "duration": 531,
    "start_time": "2023-08-12T08:45:18.563Z"
   },
   {
    "duration": 81,
    "start_time": "2023-08-12T08:45:19.096Z"
   },
   {
    "duration": 401,
    "start_time": "2023-08-12T08:45:19.179Z"
   },
   {
    "duration": 13,
    "start_time": "2023-08-12T08:45:19.582Z"
   },
   {
    "duration": 478,
    "start_time": "2023-08-12T08:45:19.597Z"
   },
   {
    "duration": 12,
    "start_time": "2023-08-12T08:45:20.077Z"
   },
   {
    "duration": 80,
    "start_time": "2023-08-12T08:45:20.090Z"
   },
   {
    "duration": 36,
    "start_time": "2023-08-12T08:45:20.174Z"
   },
   {
    "duration": 63,
    "start_time": "2023-08-12T08:45:20.212Z"
   },
   {
    "duration": 406,
    "start_time": "2023-08-12T08:45:20.277Z"
   },
   {
    "duration": 607,
    "start_time": "2023-08-12T08:45:20.685Z"
   },
   {
    "duration": 470,
    "start_time": "2023-08-12T08:45:21.294Z"
   },
   {
    "duration": 421,
    "start_time": "2023-08-12T08:45:21.769Z"
   },
   {
    "duration": 80,
    "start_time": "2023-08-12T08:45:22.192Z"
   },
   {
    "duration": 19,
    "start_time": "2023-08-12T08:45:22.274Z"
   },
   {
    "duration": 83,
    "start_time": "2023-08-12T08:45:22.294Z"
   },
   {
    "duration": 148316,
    "start_time": "2023-08-12T08:45:22.378Z"
   },
   {
    "duration": 68,
    "start_time": "2023-08-12T08:47:50.696Z"
   },
   {
    "duration": 5,
    "start_time": "2023-08-12T08:47:50.770Z"
   },
   {
    "duration": 19,
    "start_time": "2023-08-12T08:47:50.777Z"
   },
   {
    "duration": 78,
    "start_time": "2023-08-12T08:47:50.798Z"
   },
   {
    "duration": 89,
    "start_time": "2023-08-12T08:47:50.878Z"
   },
   {
    "duration": 14,
    "start_time": "2023-08-12T08:47:50.969Z"
   },
   {
    "duration": 18,
    "start_time": "2023-08-12T08:47:50.985Z"
   },
   {
    "duration": 40743,
    "start_time": "2023-08-12T08:58:15.957Z"
   },
   {
    "duration": 0,
    "start_time": "2023-08-12T08:58:56.757Z"
   },
   {
    "duration": 0,
    "start_time": "2023-08-12T08:58:56.758Z"
   },
   {
    "duration": 0,
    "start_time": "2023-08-12T08:58:56.759Z"
   },
   {
    "duration": 0,
    "start_time": "2023-08-12T08:58:56.764Z"
   },
   {
    "duration": 0,
    "start_time": "2023-08-12T08:58:56.764Z"
   },
   {
    "duration": 0,
    "start_time": "2023-08-12T08:58:56.765Z"
   },
   {
    "duration": 0,
    "start_time": "2023-08-12T08:58:56.765Z"
   },
   {
    "duration": 0,
    "start_time": "2023-08-12T08:58:56.766Z"
   },
   {
    "duration": 0,
    "start_time": "2023-08-12T08:58:56.767Z"
   },
   {
    "duration": 0,
    "start_time": "2023-08-12T08:58:56.768Z"
   },
   {
    "duration": 0,
    "start_time": "2023-08-12T08:58:56.768Z"
   },
   {
    "duration": 0,
    "start_time": "2023-08-12T08:58:56.769Z"
   },
   {
    "duration": 0,
    "start_time": "2023-08-12T08:58:56.769Z"
   },
   {
    "duration": 0,
    "start_time": "2023-08-12T08:58:56.771Z"
   },
   {
    "duration": 0,
    "start_time": "2023-08-12T08:58:56.774Z"
   },
   {
    "duration": 0,
    "start_time": "2023-08-12T08:58:56.775Z"
   },
   {
    "duration": 0,
    "start_time": "2023-08-12T08:58:56.776Z"
   },
   {
    "duration": 0,
    "start_time": "2023-08-12T08:58:56.777Z"
   },
   {
    "duration": 0,
    "start_time": "2023-08-12T08:58:56.778Z"
   },
   {
    "duration": 0,
    "start_time": "2023-08-12T08:58:56.779Z"
   },
   {
    "duration": 0,
    "start_time": "2023-08-12T08:58:56.780Z"
   },
   {
    "duration": 0,
    "start_time": "2023-08-12T08:58:56.781Z"
   },
   {
    "duration": 0,
    "start_time": "2023-08-12T08:58:56.782Z"
   },
   {
    "duration": 0,
    "start_time": "2023-08-12T08:58:56.783Z"
   },
   {
    "duration": 0,
    "start_time": "2023-08-12T08:58:56.784Z"
   },
   {
    "duration": 0,
    "start_time": "2023-08-12T08:58:56.785Z"
   },
   {
    "duration": 0,
    "start_time": "2023-08-12T08:58:56.786Z"
   },
   {
    "duration": 0,
    "start_time": "2023-08-12T08:58:56.787Z"
   },
   {
    "duration": 0,
    "start_time": "2023-08-12T08:58:56.788Z"
   },
   {
    "duration": 0,
    "start_time": "2023-08-12T08:58:56.859Z"
   },
   {
    "duration": 0,
    "start_time": "2023-08-12T08:58:56.860Z"
   },
   {
    "duration": 0,
    "start_time": "2023-08-12T08:58:56.864Z"
   },
   {
    "duration": 1,
    "start_time": "2023-08-12T08:58:56.864Z"
   },
   {
    "duration": 0,
    "start_time": "2023-08-12T08:58:56.865Z"
   },
   {
    "duration": 0,
    "start_time": "2023-08-12T08:58:56.866Z"
   },
   {
    "duration": 0,
    "start_time": "2023-08-12T08:58:56.866Z"
   },
   {
    "duration": 0,
    "start_time": "2023-08-12T08:58:56.867Z"
   },
   {
    "duration": 0,
    "start_time": "2023-08-12T08:58:56.869Z"
   },
   {
    "duration": 0,
    "start_time": "2023-08-12T08:58:56.870Z"
   },
   {
    "duration": 0,
    "start_time": "2023-08-12T08:58:56.871Z"
   },
   {
    "duration": 0,
    "start_time": "2023-08-12T08:58:56.872Z"
   },
   {
    "duration": 0,
    "start_time": "2023-08-12T08:58:56.873Z"
   },
   {
    "duration": 0,
    "start_time": "2023-08-12T08:58:56.874Z"
   },
   {
    "duration": 0,
    "start_time": "2023-08-12T08:58:56.875Z"
   },
   {
    "duration": 0,
    "start_time": "2023-08-12T08:58:56.876Z"
   },
   {
    "duration": 0,
    "start_time": "2023-08-12T08:58:56.877Z"
   },
   {
    "duration": 0,
    "start_time": "2023-08-12T08:58:56.878Z"
   },
   {
    "duration": 0,
    "start_time": "2023-08-12T08:58:56.879Z"
   },
   {
    "duration": 0,
    "start_time": "2023-08-12T08:58:56.880Z"
   },
   {
    "duration": 0,
    "start_time": "2023-08-12T08:58:56.882Z"
   },
   {
    "duration": 0,
    "start_time": "2023-08-12T08:58:56.883Z"
   },
   {
    "duration": 0,
    "start_time": "2023-08-12T08:58:56.884Z"
   },
   {
    "duration": 3,
    "start_time": "2023-08-12T08:59:00.814Z"
   },
   {
    "duration": 67,
    "start_time": "2023-08-12T08:59:00.819Z"
   },
   {
    "duration": 22,
    "start_time": "2023-08-12T08:59:00.889Z"
   },
   {
    "duration": 56,
    "start_time": "2023-08-12T08:59:00.913Z"
   },
   {
    "duration": 93,
    "start_time": "2023-08-12T08:59:00.972Z"
   },
   {
    "duration": 590,
    "start_time": "2023-08-12T08:59:01.067Z"
   },
   {
    "duration": 30,
    "start_time": "2023-08-12T08:59:01.665Z"
   },
   {
    "duration": 69,
    "start_time": "2023-08-12T08:59:01.697Z"
   },
   {
    "duration": 33,
    "start_time": "2023-08-12T08:59:01.768Z"
   },
   {
    "duration": 767,
    "start_time": "2023-08-12T08:59:01.803Z"
   },
   {
    "duration": 29,
    "start_time": "2023-08-12T08:59:02.574Z"
   },
   {
    "duration": 166,
    "start_time": "2023-08-12T08:59:02.605Z"
   },
   {
    "duration": 337,
    "start_time": "2023-08-12T08:59:02.773Z"
   },
   {
    "duration": 464,
    "start_time": "2023-08-12T08:59:03.112Z"
   },
   {
    "duration": 8,
    "start_time": "2023-08-12T08:59:03.578Z"
   },
   {
    "duration": 70,
    "start_time": "2023-08-12T08:59:03.588Z"
   },
   {
    "duration": 23,
    "start_time": "2023-08-12T08:59:03.670Z"
   },
   {
    "duration": 11,
    "start_time": "2023-08-12T08:59:03.695Z"
   },
   {
    "duration": 55,
    "start_time": "2023-08-12T08:59:03.707Z"
   },
   {
    "duration": 17,
    "start_time": "2023-08-12T08:59:03.765Z"
   },
   {
    "duration": 11,
    "start_time": "2023-08-12T08:59:03.784Z"
   },
   {
    "duration": 15,
    "start_time": "2023-08-12T08:59:03.859Z"
   },
   {
    "duration": 27,
    "start_time": "2023-08-12T08:59:03.876Z"
   },
   {
    "duration": 54,
    "start_time": "2023-08-12T08:59:03.904Z"
   },
   {
    "duration": 8,
    "start_time": "2023-08-12T08:59:03.961Z"
   },
   {
    "duration": 11,
    "start_time": "2023-08-12T08:59:03.973Z"
   },
   {
    "duration": 379,
    "start_time": "2023-08-12T08:59:03.986Z"
   },
   {
    "duration": 8,
    "start_time": "2023-08-12T08:59:04.367Z"
   },
   {
    "duration": 5,
    "start_time": "2023-08-12T08:59:04.379Z"
   },
   {
    "duration": 590,
    "start_time": "2023-08-12T08:59:04.386Z"
   },
   {
    "duration": 14,
    "start_time": "2023-08-12T08:59:04.978Z"
   },
   {
    "duration": 405,
    "start_time": "2023-08-12T08:59:04.994Z"
   },
   {
    "duration": 16,
    "start_time": "2023-08-12T08:59:05.461Z"
   },
   {
    "duration": 624,
    "start_time": "2023-08-12T08:59:05.479Z"
   },
   {
    "duration": 19,
    "start_time": "2023-08-12T08:59:06.159Z"
   },
   {
    "duration": 15,
    "start_time": "2023-08-12T08:59:06.180Z"
   },
   {
    "duration": 12,
    "start_time": "2023-08-12T08:59:06.196Z"
   },
   {
    "duration": 15,
    "start_time": "2023-08-12T08:59:06.257Z"
   },
   {
    "duration": 320,
    "start_time": "2023-08-12T08:59:06.274Z"
   },
   {
    "duration": 485,
    "start_time": "2023-08-12T08:59:06.596Z"
   },
   {
    "duration": 401,
    "start_time": "2023-08-12T08:59:07.083Z"
   },
   {
    "duration": 403,
    "start_time": "2023-08-12T08:59:07.486Z"
   },
   {
    "duration": 82,
    "start_time": "2023-08-12T08:59:07.891Z"
   },
   {
    "duration": 18,
    "start_time": "2023-08-12T08:59:07.975Z"
   },
   {
    "duration": 84,
    "start_time": "2023-08-12T08:59:07.995Z"
   },
   {
    "duration": 145916,
    "start_time": "2023-08-12T08:59:08.081Z"
   },
   {
    "duration": 78,
    "start_time": "2023-08-12T09:01:33.999Z"
   },
   {
    "duration": 6,
    "start_time": "2023-08-12T09:01:34.079Z"
   },
   {
    "duration": 12,
    "start_time": "2023-08-12T09:01:34.087Z"
   },
   {
    "duration": 60,
    "start_time": "2023-08-12T09:01:34.101Z"
   },
   {
    "duration": 10,
    "start_time": "2023-08-12T09:01:34.163Z"
   },
   {
    "duration": 16,
    "start_time": "2023-08-12T09:03:27.004Z"
   },
   {
    "duration": 97,
    "start_time": "2023-08-12T09:03:30.101Z"
   },
   {
    "duration": 16,
    "start_time": "2023-08-12T09:13:01.774Z"
   },
   {
    "duration": 60009,
    "start_time": "2023-08-12T09:15:18.872Z"
   },
   {
    "duration": 0,
    "start_time": "2023-08-12T09:16:18.885Z"
   },
   {
    "duration": 85252,
    "start_time": "2023-08-12T09:16:32.006Z"
   },
   {
    "duration": 13,
    "start_time": "2023-08-12T09:18:21.914Z"
   },
   {
    "duration": 1573,
    "start_time": "2023-08-12T09:18:41.274Z"
   },
   {
    "duration": 32238,
    "start_time": "2023-08-12T09:19:09.838Z"
   },
   {
    "duration": 11,
    "start_time": "2023-08-12T09:20:04.513Z"
   },
   {
    "duration": 13,
    "start_time": "2023-08-12T09:20:11.480Z"
   },
   {
    "duration": 1706,
    "start_time": "2023-08-12T09:20:34.683Z"
   },
   {
    "duration": 15826,
    "start_time": "2023-08-12T09:21:47.632Z"
   },
   {
    "duration": 13,
    "start_time": "2023-08-12T09:22:11.768Z"
   },
   {
    "duration": 0,
    "start_time": "2023-08-12T09:26:50.479Z"
   },
   {
    "duration": 25,
    "start_time": "2023-08-12T09:27:14.781Z"
   },
   {
    "duration": 96,
    "start_time": "2023-08-12T09:27:37.791Z"
   },
   {
    "duration": 1742,
    "start_time": "2023-08-12T09:27:45.218Z"
   },
   {
    "duration": 22011,
    "start_time": "2023-08-12T09:28:54.177Z"
   },
   {
    "duration": 41884,
    "start_time": "2023-08-12T09:29:27.379Z"
   },
   {
    "duration": 9250,
    "start_time": "2023-08-12T09:31:15.309Z"
   },
   {
    "duration": 3717,
    "start_time": "2023-08-12T09:31:49.469Z"
   },
   {
    "duration": 5176,
    "start_time": "2023-08-12T09:31:55.116Z"
   },
   {
    "duration": 4697,
    "start_time": "2023-08-12T09:32:05.163Z"
   },
   {
    "duration": 6469,
    "start_time": "2023-08-12T09:32:15.020Z"
   },
   {
    "duration": 16,
    "start_time": "2023-08-12T09:32:30.096Z"
   },
   {
    "duration": 4442,
    "start_time": "2023-08-12T09:32:37.344Z"
   },
   {
    "duration": 3805,
    "start_time": "2023-08-12T09:33:02.974Z"
   },
   {
    "duration": 3844,
    "start_time": "2023-08-12T09:33:14.439Z"
   },
   {
    "duration": 3955,
    "start_time": "2023-08-12T09:33:28.710Z"
   },
   {
    "duration": 7,
    "start_time": "2023-08-12T09:34:05.656Z"
   },
   {
    "duration": 4027,
    "start_time": "2023-08-12T09:34:38.076Z"
   },
   {
    "duration": 4,
    "start_time": "2023-08-12T09:34:46.276Z"
   },
   {
    "duration": 1507,
    "start_time": "2023-08-12T12:03:33.767Z"
   },
   {
    "duration": 138,
    "start_time": "2023-08-12T12:03:35.279Z"
   },
   {
    "duration": 13,
    "start_time": "2023-08-12T12:03:35.419Z"
   },
   {
    "duration": 55,
    "start_time": "2023-08-12T12:03:35.436Z"
   },
   {
    "duration": 53,
    "start_time": "2023-08-12T12:03:35.494Z"
   },
   {
    "duration": 323,
    "start_time": "2023-08-12T12:03:35.549Z"
   },
   {
    "duration": 105,
    "start_time": "2023-08-12T12:03:35.875Z"
   },
   {
    "duration": 13,
    "start_time": "2023-08-12T12:03:35.983Z"
   },
   {
    "duration": 57,
    "start_time": "2023-08-12T12:03:35.999Z"
   },
   {
    "duration": 378,
    "start_time": "2023-08-12T12:03:36.059Z"
   },
   {
    "duration": 65,
    "start_time": "2023-08-12T12:03:36.440Z"
   },
   {
    "duration": 13,
    "start_time": "2023-08-12T12:03:36.511Z"
   },
   {
    "duration": 22,
    "start_time": "2023-08-12T12:03:36.530Z"
   },
   {
    "duration": 202,
    "start_time": "2023-08-12T12:03:36.557Z"
   },
   {
    "duration": 8,
    "start_time": "2023-08-12T12:03:36.761Z"
   },
   {
    "duration": 15,
    "start_time": "2023-08-12T12:03:36.771Z"
   },
   {
    "duration": 27,
    "start_time": "2023-08-12T12:03:36.789Z"
   },
   {
    "duration": 20,
    "start_time": "2023-08-12T12:03:36.818Z"
   },
   {
    "duration": 10,
    "start_time": "2023-08-12T12:03:36.840Z"
   },
   {
    "duration": 17,
    "start_time": "2023-08-12T12:03:36.852Z"
   },
   {
    "duration": 22,
    "start_time": "2023-08-12T12:03:36.871Z"
   },
   {
    "duration": 49,
    "start_time": "2023-08-12T12:03:36.895Z"
   },
   {
    "duration": 25,
    "start_time": "2023-08-12T12:03:36.947Z"
   },
   {
    "duration": 8,
    "start_time": "2023-08-12T12:03:36.974Z"
   },
   {
    "duration": 26,
    "start_time": "2023-08-12T12:03:36.984Z"
   },
   {
    "duration": 101,
    "start_time": "2023-08-12T12:03:37.012Z"
   },
   {
    "duration": 189,
    "start_time": "2023-08-12T12:03:37.118Z"
   },
   {
    "duration": 13,
    "start_time": "2023-08-12T12:03:37.308Z"
   },
   {
    "duration": 17,
    "start_time": "2023-08-12T12:03:37.326Z"
   },
   {
    "duration": 253,
    "start_time": "2023-08-12T12:03:37.346Z"
   },
   {
    "duration": 23,
    "start_time": "2023-08-12T12:03:37.609Z"
   },
   {
    "duration": 202,
    "start_time": "2023-08-12T12:03:37.634Z"
   },
   {
    "duration": 17,
    "start_time": "2023-08-12T12:03:37.838Z"
   },
   {
    "duration": 211,
    "start_time": "2023-08-12T12:03:37.858Z"
   },
   {
    "duration": 12,
    "start_time": "2023-08-12T12:03:38.071Z"
   },
   {
    "duration": 31,
    "start_time": "2023-08-12T12:03:38.084Z"
   },
   {
    "duration": 31,
    "start_time": "2023-08-12T12:03:38.117Z"
   },
   {
    "duration": 22,
    "start_time": "2023-08-12T12:03:38.150Z"
   },
   {
    "duration": 180,
    "start_time": "2023-08-12T12:03:38.173Z"
   },
   {
    "duration": 275,
    "start_time": "2023-08-12T12:03:38.355Z"
   },
   {
    "duration": 184,
    "start_time": "2023-08-12T12:03:38.635Z"
   },
   {
    "duration": 216,
    "start_time": "2023-08-12T12:03:38.825Z"
   },
   {
    "duration": 19,
    "start_time": "2023-08-12T12:03:39.043Z"
   },
   {
    "duration": 56,
    "start_time": "2023-08-12T12:03:39.064Z"
   },
   {
    "duration": 56,
    "start_time": "2023-08-12T12:03:39.126Z"
   },
   {
    "duration": 1589,
    "start_time": "2023-08-12T12:03:39.183Z"
   },
   {
    "duration": 8,
    "start_time": "2023-08-12T12:03:40.774Z"
   },
   {
    "duration": 58,
    "start_time": "2023-08-12T12:03:40.784Z"
   },
   {
    "duration": 7,
    "start_time": "2023-08-12T12:03:40.844Z"
   },
   {
    "duration": 10,
    "start_time": "2023-08-12T12:03:40.852Z"
   },
   {
    "duration": 6,
    "start_time": "2023-08-12T12:03:40.863Z"
   },
   {
    "duration": 6,
    "start_time": "2023-08-12T12:03:40.870Z"
   },
   {
    "duration": 15,
    "start_time": "2023-08-12T12:03:40.878Z"
   },
   {
    "duration": 106,
    "start_time": "2023-08-12T12:03:40.895Z"
   },
   {
    "duration": 0,
    "start_time": "2023-08-12T12:03:41.003Z"
   },
   {
    "duration": 2017,
    "start_time": "2023-08-12T12:04:41.543Z"
   },
   {
    "duration": 12693,
    "start_time": "2023-08-12T12:08:16.139Z"
   },
   {
    "duration": 12,
    "start_time": "2023-08-12T12:09:00.874Z"
   },
   {
    "duration": 5,
    "start_time": "2023-08-12T12:09:45.134Z"
   },
   {
    "duration": 7,
    "start_time": "2023-08-12T12:10:05.621Z"
   },
   {
    "duration": 4,
    "start_time": "2023-08-12T12:10:17.650Z"
   },
   {
    "duration": 89,
    "start_time": "2023-08-12T12:10:45.038Z"
   },
   {
    "duration": 1457,
    "start_time": "2023-08-12T12:10:49.395Z"
   },
   {
    "duration": 1461,
    "start_time": "2023-08-12T12:11:03.343Z"
   },
   {
    "duration": 11,
    "start_time": "2023-08-12T12:11:40.334Z"
   },
   {
    "duration": 12757,
    "start_time": "2023-08-12T12:13:26.477Z"
   },
   {
    "duration": 17,
    "start_time": "2023-08-12T12:13:59.490Z"
   },
   {
    "duration": 10,
    "start_time": "2023-08-12T12:25:15.527Z"
   },
   {
    "duration": 8746,
    "start_time": "2023-08-12T12:26:37.913Z"
   },
   {
    "duration": 333,
    "start_time": "2023-08-12T12:26:59.174Z"
   },
   {
    "duration": 10902,
    "start_time": "2023-08-12T12:28:48.185Z"
   },
   {
    "duration": 959,
    "start_time": "2023-08-12T12:29:14.262Z"
   },
   {
    "duration": 637,
    "start_time": "2023-08-12T12:33:17.333Z"
   },
   {
    "duration": 2901,
    "start_time": "2023-08-12T12:34:43.957Z"
   },
   {
    "duration": 39,
    "start_time": "2023-08-12T12:36:27.087Z"
   },
   {
    "duration": 27,
    "start_time": "2023-08-12T12:36:39.609Z"
   },
   {
    "duration": 21,
    "start_time": "2023-08-12T12:36:45.754Z"
   },
   {
    "duration": 14,
    "start_time": "2023-08-12T12:37:18.147Z"
   },
   {
    "duration": 31,
    "start_time": "2023-08-12T12:37:45.098Z"
   },
   {
    "duration": 45,
    "start_time": "2023-08-12T12:38:05.934Z"
   },
   {
    "duration": 31762,
    "start_time": "2023-08-12T12:38:30.135Z"
   },
   {
    "duration": 13,
    "start_time": "2023-08-12T12:39:42.827Z"
   },
   {
    "duration": 4,
    "start_time": "2023-08-12T12:42:06.881Z"
   },
   {
    "duration": 1230,
    "start_time": "2023-08-12T12:42:13.726Z"
   },
   {
    "duration": 19,
    "start_time": "2023-08-12T12:48:36.999Z"
   },
   {
    "duration": 16,
    "start_time": "2023-08-12T12:48:59.988Z"
   },
   {
    "duration": 13,
    "start_time": "2023-08-12T12:49:10.162Z"
   },
   {
    "duration": 12,
    "start_time": "2023-08-12T12:49:23.666Z"
   },
   {
    "duration": 91,
    "start_time": "2023-08-12T12:50:31.366Z"
   },
   {
    "duration": 11516,
    "start_time": "2023-08-12T12:50:56.158Z"
   },
   {
    "duration": 3047,
    "start_time": "2023-08-12T12:57:51.991Z"
   },
   {
    "duration": 3082,
    "start_time": "2023-08-12T12:58:41.377Z"
   },
   {
    "duration": 5,
    "start_time": "2023-08-12T12:59:54.944Z"
   },
   {
    "duration": 5,
    "start_time": "2023-08-12T12:59:59.994Z"
   },
   {
    "duration": 5,
    "start_time": "2023-08-12T13:00:18.027Z"
   },
   {
    "duration": 66,
    "start_time": "2023-08-12T13:00:32.124Z"
   },
   {
    "duration": 26,
    "start_time": "2023-08-12T13:00:39.402Z"
   },
   {
    "duration": 9,
    "start_time": "2023-08-12T13:00:45.606Z"
   },
   {
    "duration": 16,
    "start_time": "2023-08-12T13:01:18.598Z"
   },
   {
    "duration": 165,
    "start_time": "2023-08-12T13:01:30.336Z"
   },
   {
    "duration": 14,
    "start_time": "2023-08-12T13:01:59.786Z"
   },
   {
    "duration": 174,
    "start_time": "2023-08-12T13:02:32.690Z"
   },
   {
    "duration": 15,
    "start_time": "2023-08-12T13:03:20.552Z"
   },
   {
    "duration": 41460,
    "start_time": "2023-08-12T13:04:18.396Z"
   },
   {
    "duration": 1432,
    "start_time": "2023-08-12T13:05:18.828Z"
   },
   {
    "duration": 3625,
    "start_time": "2023-08-12T13:06:33.823Z"
   },
   {
    "duration": 2081,
    "start_time": "2023-08-12T13:06:56.673Z"
   },
   {
    "duration": 4,
    "start_time": "2023-08-12T13:07:09.124Z"
   },
   {
    "duration": 9,
    "start_time": "2023-08-12T13:08:16.578Z"
   },
   {
    "duration": 2151,
    "start_time": "2023-08-12T13:08:27.982Z"
   },
   {
    "duration": 4,
    "start_time": "2023-08-12T13:08:30.135Z"
   },
   {
    "duration": 6,
    "start_time": "2023-08-12T13:08:34.730Z"
   },
   {
    "duration": 11,
    "start_time": "2023-08-12T13:09:10.884Z"
   },
   {
    "duration": 5,
    "start_time": "2023-08-12T13:09:22.346Z"
   },
   {
    "duration": 2271,
    "start_time": "2023-08-12T13:12:30.062Z"
   },
   {
    "duration": 5,
    "start_time": "2023-08-12T13:12:35.970Z"
   },
   {
    "duration": 4,
    "start_time": "2023-08-12T13:12:45.246Z"
   },
   {
    "duration": 4,
    "start_time": "2023-08-12T13:12:56.148Z"
   },
   {
    "duration": 80,
    "start_time": "2023-08-12T13:14:30.540Z"
   },
   {
    "duration": 4,
    "start_time": "2023-08-12T13:14:34.690Z"
   },
   {
    "duration": 5,
    "start_time": "2023-08-12T13:14:40.823Z"
   },
   {
    "duration": 5,
    "start_time": "2023-08-12T13:14:55.866Z"
   },
   {
    "duration": 4,
    "start_time": "2023-08-12T13:15:04.936Z"
   },
   {
    "duration": 4,
    "start_time": "2023-08-12T13:15:12.977Z"
   },
   {
    "duration": 4,
    "start_time": "2023-08-12T13:40:42.659Z"
   },
   {
    "duration": 47,
    "start_time": "2023-08-12T13:40:42.666Z"
   },
   {
    "duration": 4,
    "start_time": "2023-08-12T13:40:42.715Z"
   },
   {
    "duration": 33,
    "start_time": "2023-08-12T13:40:42.721Z"
   },
   {
    "duration": 25,
    "start_time": "2023-08-12T13:40:42.757Z"
   },
   {
    "duration": 378,
    "start_time": "2023-08-12T13:40:42.785Z"
   },
   {
    "duration": 28,
    "start_time": "2023-08-12T13:40:43.165Z"
   },
   {
    "duration": 14,
    "start_time": "2023-08-12T13:40:43.195Z"
   },
   {
    "duration": 15,
    "start_time": "2023-08-12T13:40:43.211Z"
   },
   {
    "duration": 325,
    "start_time": "2023-08-12T13:40:43.228Z"
   },
   {
    "duration": 17,
    "start_time": "2023-08-12T13:40:43.555Z"
   },
   {
    "duration": 9,
    "start_time": "2023-08-12T13:40:43.573Z"
   },
   {
    "duration": 29,
    "start_time": "2023-08-12T13:40:43.584Z"
   },
   {
    "duration": 200,
    "start_time": "2023-08-12T13:40:43.618Z"
   },
   {
    "duration": 9,
    "start_time": "2023-08-12T13:40:43.820Z"
   },
   {
    "duration": 24,
    "start_time": "2023-08-12T13:40:43.831Z"
   },
   {
    "duration": 19,
    "start_time": "2023-08-12T13:40:43.857Z"
   },
   {
    "duration": 11,
    "start_time": "2023-08-12T13:40:43.878Z"
   },
   {
    "duration": 15,
    "start_time": "2023-08-12T13:40:43.891Z"
   },
   {
    "duration": 21,
    "start_time": "2023-08-12T13:40:43.908Z"
   },
   {
    "duration": 12,
    "start_time": "2023-08-12T13:40:43.930Z"
   },
   {
    "duration": 12,
    "start_time": "2023-08-12T13:40:43.944Z"
   },
   {
    "duration": 17,
    "start_time": "2023-08-12T13:40:43.958Z"
   },
   {
    "duration": 10,
    "start_time": "2023-08-12T13:40:43.978Z"
   },
   {
    "duration": 61,
    "start_time": "2023-08-12T13:40:44.010Z"
   },
   {
    "duration": 32,
    "start_time": "2023-08-12T13:40:44.073Z"
   },
   {
    "duration": 191,
    "start_time": "2023-08-12T13:40:44.107Z"
   },
   {
    "duration": 11,
    "start_time": "2023-08-12T13:40:44.300Z"
   },
   {
    "duration": 14,
    "start_time": "2023-08-12T13:40:44.313Z"
   },
   {
    "duration": 267,
    "start_time": "2023-08-12T13:40:44.330Z"
   },
   {
    "duration": 22,
    "start_time": "2023-08-12T13:40:44.599Z"
   },
   {
    "duration": 192,
    "start_time": "2023-08-12T13:40:44.623Z"
   },
   {
    "duration": 16,
    "start_time": "2023-08-12T13:40:44.817Z"
   },
   {
    "duration": 250,
    "start_time": "2023-08-12T13:40:44.835Z"
   },
   {
    "duration": 30,
    "start_time": "2023-08-12T13:40:45.088Z"
   },
   {
    "duration": 75,
    "start_time": "2023-08-12T13:40:45.120Z"
   },
   {
    "duration": 48,
    "start_time": "2023-08-12T13:40:45.197Z"
   },
   {
    "duration": 63,
    "start_time": "2023-08-12T13:40:45.247Z"
   },
   {
    "duration": 164,
    "start_time": "2023-08-12T13:40:45.312Z"
   },
   {
    "duration": 184,
    "start_time": "2023-08-12T13:40:45.477Z"
   },
   {
    "duration": 333,
    "start_time": "2023-08-12T13:40:45.665Z"
   },
   {
    "duration": 210,
    "start_time": "2023-08-12T13:40:46.001Z"
   },
   {
    "duration": 20,
    "start_time": "2023-08-12T13:40:46.213Z"
   },
   {
    "duration": 32,
    "start_time": "2023-08-12T13:40:46.235Z"
   },
   {
    "duration": 81,
    "start_time": "2023-08-12T13:40:46.269Z"
   },
   {
    "duration": 12587,
    "start_time": "2023-08-12T13:40:46.352Z"
   },
   {
    "duration": 10,
    "start_time": "2023-08-12T13:40:58.941Z"
   },
   {
    "duration": 18,
    "start_time": "2023-08-12T13:40:58.953Z"
   },
   {
    "duration": 7,
    "start_time": "2023-08-12T13:40:58.972Z"
   },
   {
    "duration": 8,
    "start_time": "2023-08-12T13:40:58.980Z"
   },
   {
    "duration": 6,
    "start_time": "2023-08-12T13:40:59.008Z"
   },
   {
    "duration": 16,
    "start_time": "2023-08-12T13:40:59.015Z"
   },
   {
    "duration": 2126,
    "start_time": "2023-08-12T13:40:59.033Z"
   },
   {
    "duration": 4,
    "start_time": "2023-08-12T13:41:01.161Z"
   },
   {
    "duration": 17287,
    "start_time": "2023-08-12T13:47:28.566Z"
   },
   {
    "duration": 3,
    "start_time": "2023-08-12T13:47:45.855Z"
   },
   {
    "duration": 92,
    "start_time": "2023-08-12T13:47:45.859Z"
   },
   {
    "duration": 6,
    "start_time": "2023-08-12T13:47:45.954Z"
   },
   {
    "duration": 24,
    "start_time": "2023-08-12T13:47:45.962Z"
   },
   {
    "duration": 48,
    "start_time": "2023-08-12T13:47:45.989Z"
   },
   {
    "duration": 305,
    "start_time": "2023-08-12T13:47:46.040Z"
   },
   {
    "duration": 30,
    "start_time": "2023-08-12T13:47:46.346Z"
   },
   {
    "duration": 16,
    "start_time": "2023-08-12T13:47:46.378Z"
   },
   {
    "duration": 22,
    "start_time": "2023-08-12T13:47:46.397Z"
   },
   {
    "duration": 317,
    "start_time": "2023-08-12T13:47:46.421Z"
   },
   {
    "duration": 16,
    "start_time": "2023-08-12T13:47:46.740Z"
   },
   {
    "duration": 69,
    "start_time": "2023-08-12T13:47:46.758Z"
   },
   {
    "duration": 31,
    "start_time": "2023-08-12T13:47:46.828Z"
   },
   {
    "duration": 194,
    "start_time": "2023-08-12T13:47:46.861Z"
   },
   {
    "duration": 8,
    "start_time": "2023-08-12T13:47:47.056Z"
   },
   {
    "duration": 22,
    "start_time": "2023-08-12T13:47:47.066Z"
   },
   {
    "duration": 30,
    "start_time": "2023-08-12T13:47:47.090Z"
   },
   {
    "duration": 28,
    "start_time": "2023-08-12T13:47:47.122Z"
   },
   {
    "duration": 23,
    "start_time": "2023-08-12T13:47:47.152Z"
   },
   {
    "duration": 25,
    "start_time": "2023-08-12T13:47:47.176Z"
   },
   {
    "duration": 21,
    "start_time": "2023-08-12T13:47:47.204Z"
   },
   {
    "duration": 15,
    "start_time": "2023-08-12T13:47:47.227Z"
   },
   {
    "duration": 10,
    "start_time": "2023-08-12T13:47:47.244Z"
   },
   {
    "duration": 24,
    "start_time": "2023-08-12T13:47:47.257Z"
   },
   {
    "duration": 54,
    "start_time": "2023-08-12T13:47:47.283Z"
   },
   {
    "duration": 54,
    "start_time": "2023-08-12T13:47:47.339Z"
   },
   {
    "duration": 154,
    "start_time": "2023-08-12T13:47:47.397Z"
   },
   {
    "duration": 6,
    "start_time": "2023-08-12T13:47:47.553Z"
   },
   {
    "duration": 25,
    "start_time": "2023-08-12T13:47:47.561Z"
   },
   {
    "duration": 284,
    "start_time": "2023-08-12T13:47:47.588Z"
   },
   {
    "duration": 15,
    "start_time": "2023-08-12T13:47:47.875Z"
   },
   {
    "duration": 202,
    "start_time": "2023-08-12T13:47:47.892Z"
   },
   {
    "duration": 17,
    "start_time": "2023-08-12T13:47:48.096Z"
   },
   {
    "duration": 312,
    "start_time": "2023-08-12T13:47:48.115Z"
   },
   {
    "duration": 12,
    "start_time": "2023-08-12T13:47:48.429Z"
   },
   {
    "duration": 154,
    "start_time": "2023-08-12T13:47:48.443Z"
   },
   {
    "duration": 93,
    "start_time": "2023-08-12T13:47:48.599Z"
   },
   {
    "duration": 102,
    "start_time": "2023-08-12T13:47:48.693Z"
   },
   {
    "duration": 233,
    "start_time": "2023-08-12T13:47:48.797Z"
   },
   {
    "duration": 329,
    "start_time": "2023-08-12T13:47:49.032Z"
   },
   {
    "duration": 203,
    "start_time": "2023-08-12T13:47:49.363Z"
   },
   {
    "duration": 195,
    "start_time": "2023-08-12T13:47:49.568Z"
   },
   {
    "duration": 20,
    "start_time": "2023-08-12T13:47:49.764Z"
   },
   {
    "duration": 36,
    "start_time": "2023-08-12T13:47:49.785Z"
   },
   {
    "duration": 1059,
    "start_time": "2023-08-12T13:47:56.177Z"
   },
   {
    "duration": 951,
    "start_time": "2023-08-12T13:48:13.265Z"
   },
   {
    "duration": 936,
    "start_time": "2023-08-12T13:48:24.803Z"
   },
   {
    "duration": 3,
    "start_time": "2023-08-12T13:48:29.004Z"
   },
   {
    "duration": 46,
    "start_time": "2023-08-12T13:48:29.011Z"
   },
   {
    "duration": 4,
    "start_time": "2023-08-12T13:48:29.059Z"
   },
   {
    "duration": 35,
    "start_time": "2023-08-12T13:48:29.064Z"
   },
   {
    "duration": 20,
    "start_time": "2023-08-12T13:48:29.101Z"
   },
   {
    "duration": 278,
    "start_time": "2023-08-12T13:48:29.123Z"
   },
   {
    "duration": 40,
    "start_time": "2023-08-12T13:48:29.403Z"
   },
   {
    "duration": 12,
    "start_time": "2023-08-12T13:48:29.446Z"
   },
   {
    "duration": 29,
    "start_time": "2023-08-12T13:48:29.460Z"
   },
   {
    "duration": 308,
    "start_time": "2023-08-12T13:48:29.491Z"
   },
   {
    "duration": 16,
    "start_time": "2023-08-12T13:48:29.801Z"
   },
   {
    "duration": 8,
    "start_time": "2023-08-12T13:48:29.819Z"
   },
   {
    "duration": 25,
    "start_time": "2023-08-12T13:48:29.829Z"
   },
   {
    "duration": 196,
    "start_time": "2023-08-12T13:48:29.856Z"
   },
   {
    "duration": 7,
    "start_time": "2023-08-12T13:48:30.056Z"
   },
   {
    "duration": 62,
    "start_time": "2023-08-12T13:48:30.065Z"
   },
   {
    "duration": 45,
    "start_time": "2023-08-12T13:48:30.129Z"
   },
   {
    "duration": 22,
    "start_time": "2023-08-12T13:48:30.176Z"
   },
   {
    "duration": 36,
    "start_time": "2023-08-12T13:48:30.200Z"
   },
   {
    "duration": 41,
    "start_time": "2023-08-12T13:48:30.238Z"
   },
   {
    "duration": 18,
    "start_time": "2023-08-12T13:48:30.281Z"
   },
   {
    "duration": 50,
    "start_time": "2023-08-12T13:48:30.300Z"
   },
   {
    "duration": 35,
    "start_time": "2023-08-12T13:48:30.352Z"
   },
   {
    "duration": 32,
    "start_time": "2023-08-12T13:48:30.389Z"
   },
   {
    "duration": 35,
    "start_time": "2023-08-12T13:48:30.424Z"
   },
   {
    "duration": 70,
    "start_time": "2023-08-12T13:48:30.461Z"
   },
   {
    "duration": 211,
    "start_time": "2023-08-12T13:48:30.533Z"
   },
   {
    "duration": 38,
    "start_time": "2023-08-12T13:48:30.746Z"
   },
   {
    "duration": 46,
    "start_time": "2023-08-12T13:48:30.787Z"
   },
   {
    "duration": 319,
    "start_time": "2023-08-12T13:48:30.835Z"
   },
   {
    "duration": 15,
    "start_time": "2023-08-12T13:48:31.156Z"
   },
   {
    "duration": 240,
    "start_time": "2023-08-12T13:48:31.173Z"
   },
   {
    "duration": 16,
    "start_time": "2023-08-12T13:48:31.416Z"
   },
   {
    "duration": 221,
    "start_time": "2023-08-12T13:48:31.434Z"
   },
   {
    "duration": 12,
    "start_time": "2023-08-12T13:48:31.658Z"
   },
   {
    "duration": 87,
    "start_time": "2023-08-12T13:48:31.672Z"
   },
   {
    "duration": 46,
    "start_time": "2023-08-12T13:48:31.760Z"
   },
   {
    "duration": 71,
    "start_time": "2023-08-12T13:48:31.808Z"
   },
   {
    "duration": 188,
    "start_time": "2023-08-12T13:48:31.882Z"
   },
   {
    "duration": 194,
    "start_time": "2023-08-12T13:48:32.073Z"
   },
   {
    "duration": 210,
    "start_time": "2023-08-12T13:48:32.269Z"
   },
   {
    "duration": 393,
    "start_time": "2023-08-12T13:48:32.483Z"
   },
   {
    "duration": 19,
    "start_time": "2023-08-12T13:48:32.877Z"
   },
   {
    "duration": 82,
    "start_time": "2023-08-12T13:48:32.909Z"
   },
   {
    "duration": 24,
    "start_time": "2023-08-12T13:48:32.993Z"
   },
   {
    "duration": 11585,
    "start_time": "2023-08-12T13:48:33.019Z"
   },
   {
    "duration": 10,
    "start_time": "2023-08-12T13:48:44.607Z"
   },
   {
    "duration": 16,
    "start_time": "2023-08-12T13:48:44.619Z"
   },
   {
    "duration": 38,
    "start_time": "2023-08-12T13:48:44.636Z"
   },
   {
    "duration": 36,
    "start_time": "2023-08-12T13:48:44.676Z"
   },
   {
    "duration": 44,
    "start_time": "2023-08-12T13:48:44.714Z"
   },
   {
    "duration": 20,
    "start_time": "2023-08-12T13:48:44.760Z"
   },
   {
    "duration": 2080,
    "start_time": "2023-08-12T13:48:44.782Z"
   },
   {
    "duration": 4,
    "start_time": "2023-08-12T13:48:46.864Z"
   },
   {
    "duration": 16922,
    "start_time": "2023-08-12T13:49:02.991Z"
   },
   {
    "duration": 16256,
    "start_time": "2023-08-12T13:49:38.384Z"
   },
   {
    "duration": 12648,
    "start_time": "2023-08-12T13:50:30.020Z"
   },
   {
    "duration": 11,
    "start_time": "2023-08-12T13:50:48.230Z"
   },
   {
    "duration": 7860,
    "start_time": "2023-08-12T13:52:13.070Z"
   },
   {
    "duration": 11,
    "start_time": "2023-08-12T13:52:20.933Z"
   },
   {
    "duration": 4,
    "start_time": "2023-08-12T13:52:26.770Z"
   },
   {
    "duration": 54,
    "start_time": "2023-08-12T13:52:26.776Z"
   },
   {
    "duration": 4,
    "start_time": "2023-08-12T13:52:26.832Z"
   },
   {
    "duration": 25,
    "start_time": "2023-08-12T13:52:26.837Z"
   },
   {
    "duration": 23,
    "start_time": "2023-08-12T13:52:26.866Z"
   },
   {
    "duration": 287,
    "start_time": "2023-08-12T13:52:26.891Z"
   },
   {
    "duration": 28,
    "start_time": "2023-08-12T13:52:27.180Z"
   },
   {
    "duration": 15,
    "start_time": "2023-08-12T13:52:27.210Z"
   },
   {
    "duration": 16,
    "start_time": "2023-08-12T13:52:27.227Z"
   },
   {
    "duration": 370,
    "start_time": "2023-08-12T13:52:27.245Z"
   },
   {
    "duration": 17,
    "start_time": "2023-08-12T13:52:27.618Z"
   },
   {
    "duration": 42,
    "start_time": "2023-08-12T13:52:27.638Z"
   },
   {
    "duration": 89,
    "start_time": "2023-08-12T13:52:27.683Z"
   },
   {
    "duration": 177,
    "start_time": "2023-08-12T13:52:27.774Z"
   },
   {
    "duration": 10,
    "start_time": "2023-08-12T13:52:27.952Z"
   },
   {
    "duration": 268,
    "start_time": "2023-08-12T13:52:27.965Z"
   },
   {
    "duration": 30,
    "start_time": "2023-08-12T13:52:28.235Z"
   },
   {
    "duration": 40,
    "start_time": "2023-08-12T13:52:28.267Z"
   },
   {
    "duration": 18,
    "start_time": "2023-08-12T13:52:28.309Z"
   },
   {
    "duration": 30,
    "start_time": "2023-08-12T13:52:28.328Z"
   },
   {
    "duration": 9,
    "start_time": "2023-08-12T13:52:28.359Z"
   },
   {
    "duration": 25,
    "start_time": "2023-08-12T13:52:28.370Z"
   },
   {
    "duration": 15,
    "start_time": "2023-08-12T13:52:28.397Z"
   },
   {
    "duration": 19,
    "start_time": "2023-08-12T13:52:28.413Z"
   },
   {
    "duration": 11,
    "start_time": "2023-08-12T13:52:28.434Z"
   },
   {
    "duration": 27,
    "start_time": "2023-08-12T13:52:28.447Z"
   },
   {
    "duration": 158,
    "start_time": "2023-08-12T13:52:28.476Z"
   },
   {
    "duration": 5,
    "start_time": "2023-08-12T13:52:28.636Z"
   },
   {
    "duration": 9,
    "start_time": "2023-08-12T13:52:28.645Z"
   },
   {
    "duration": 273,
    "start_time": "2023-08-12T13:52:28.656Z"
   },
   {
    "duration": 15,
    "start_time": "2023-08-12T13:52:28.930Z"
   },
   {
    "duration": 207,
    "start_time": "2023-08-12T13:52:28.947Z"
   },
   {
    "duration": 15,
    "start_time": "2023-08-12T13:52:29.156Z"
   },
   {
    "duration": 287,
    "start_time": "2023-08-12T13:52:29.173Z"
   },
   {
    "duration": 11,
    "start_time": "2023-08-12T13:52:29.463Z"
   },
   {
    "duration": 38,
    "start_time": "2023-08-12T13:52:29.476Z"
   },
   {
    "duration": 24,
    "start_time": "2023-08-12T13:52:29.516Z"
   },
   {
    "duration": 11,
    "start_time": "2023-08-12T13:52:29.542Z"
   },
   {
    "duration": 173,
    "start_time": "2023-08-12T13:52:29.554Z"
   },
   {
    "duration": 180,
    "start_time": "2023-08-12T13:52:29.729Z"
   },
   {
    "duration": 190,
    "start_time": "2023-08-12T13:52:29.911Z"
   },
   {
    "duration": 206,
    "start_time": "2023-08-12T13:52:30.103Z"
   },
   {
    "duration": 20,
    "start_time": "2023-08-12T13:52:30.311Z"
   },
   {
    "duration": 86,
    "start_time": "2023-08-12T13:52:30.333Z"
   },
   {
    "duration": 77,
    "start_time": "2023-08-12T13:52:30.422Z"
   },
   {
    "duration": 8441,
    "start_time": "2023-08-12T13:52:30.502Z"
   },
   {
    "duration": 10,
    "start_time": "2023-08-12T13:52:38.945Z"
   },
   {
    "duration": 20,
    "start_time": "2023-08-12T13:52:38.957Z"
   },
   {
    "duration": 19,
    "start_time": "2023-08-12T13:52:38.979Z"
   },
   {
    "duration": 30,
    "start_time": "2023-08-12T13:52:39.000Z"
   },
   {
    "duration": 63,
    "start_time": "2023-08-12T13:52:39.032Z"
   },
   {
    "duration": 35,
    "start_time": "2023-08-12T13:52:39.096Z"
   },
   {
    "duration": 953,
    "start_time": "2023-08-12T13:52:39.133Z"
   },
   {
    "duration": 0,
    "start_time": "2023-08-12T13:52:40.088Z"
   },
   {
    "duration": 284,
    "start_time": "2023-08-12T13:53:11.683Z"
   },
   {
    "duration": 252,
    "start_time": "2023-08-12T13:53:26.288Z"
   },
   {
    "duration": 3,
    "start_time": "2023-08-12T13:53:45.835Z"
   },
   {
    "duration": 59,
    "start_time": "2023-08-12T13:53:45.841Z"
   },
   {
    "duration": 4,
    "start_time": "2023-08-12T13:53:45.902Z"
   },
   {
    "duration": 19,
    "start_time": "2023-08-12T13:53:45.908Z"
   },
   {
    "duration": 38,
    "start_time": "2023-08-12T13:53:45.929Z"
   },
   {
    "duration": 348,
    "start_time": "2023-08-12T13:53:45.969Z"
   },
   {
    "duration": 32,
    "start_time": "2023-08-12T13:53:46.319Z"
   },
   {
    "duration": 12,
    "start_time": "2023-08-12T13:53:46.353Z"
   },
   {
    "duration": 19,
    "start_time": "2023-08-12T13:53:46.367Z"
   },
   {
    "duration": 578,
    "start_time": "2023-08-12T13:53:46.387Z"
   },
   {
    "duration": 27,
    "start_time": "2023-08-12T13:53:46.968Z"
   },
   {
    "duration": 8,
    "start_time": "2023-08-12T13:53:46.997Z"
   },
   {
    "duration": 19,
    "start_time": "2023-08-12T13:53:47.007Z"
   },
   {
    "duration": 190,
    "start_time": "2023-08-12T13:53:47.028Z"
   },
   {
    "duration": 9,
    "start_time": "2023-08-12T13:53:47.220Z"
   },
   {
    "duration": 23,
    "start_time": "2023-08-12T13:53:47.230Z"
   },
   {
    "duration": 19,
    "start_time": "2023-08-12T13:53:47.255Z"
   },
   {
    "duration": 8,
    "start_time": "2023-08-12T13:53:47.276Z"
   },
   {
    "duration": 51,
    "start_time": "2023-08-12T13:53:47.286Z"
   },
   {
    "duration": 52,
    "start_time": "2023-08-12T13:53:47.339Z"
   },
   {
    "duration": 49,
    "start_time": "2023-08-12T13:53:47.393Z"
   },
   {
    "duration": 73,
    "start_time": "2023-08-12T13:53:47.443Z"
   },
   {
    "duration": 53,
    "start_time": "2023-08-12T13:53:47.518Z"
   },
   {
    "duration": 38,
    "start_time": "2023-08-12T13:53:47.573Z"
   },
   {
    "duration": 45,
    "start_time": "2023-08-12T13:53:47.612Z"
   },
   {
    "duration": 58,
    "start_time": "2023-08-12T13:53:47.659Z"
   },
   {
    "duration": 176,
    "start_time": "2023-08-12T13:53:47.718Z"
   },
   {
    "duration": 13,
    "start_time": "2023-08-12T13:53:47.896Z"
   },
   {
    "duration": 42,
    "start_time": "2023-08-12T13:53:47.914Z"
   },
   {
    "duration": 279,
    "start_time": "2023-08-12T13:53:47.958Z"
   },
   {
    "duration": 15,
    "start_time": "2023-08-12T13:53:48.239Z"
   },
   {
    "duration": 203,
    "start_time": "2023-08-12T13:53:48.255Z"
   },
   {
    "duration": 14,
    "start_time": "2023-08-12T13:53:48.460Z"
   },
   {
    "duration": 289,
    "start_time": "2023-08-12T13:53:48.476Z"
   },
   {
    "duration": 27,
    "start_time": "2023-08-12T13:53:48.767Z"
   },
   {
    "duration": 14,
    "start_time": "2023-08-12T13:53:48.796Z"
   },
   {
    "duration": 12,
    "start_time": "2023-08-12T13:53:48.813Z"
   },
   {
    "duration": 10,
    "start_time": "2023-08-12T13:53:48.827Z"
   },
   {
    "duration": 192,
    "start_time": "2023-08-12T13:53:48.839Z"
   },
   {
    "duration": 190,
    "start_time": "2023-08-12T13:53:49.033Z"
   },
   {
    "duration": 191,
    "start_time": "2023-08-12T13:53:49.225Z"
   },
   {
    "duration": 226,
    "start_time": "2023-08-12T13:53:49.419Z"
   },
   {
    "duration": 22,
    "start_time": "2023-08-12T13:53:49.646Z"
   },
   {
    "duration": 40,
    "start_time": "2023-08-12T13:53:49.670Z"
   },
   {
    "duration": 27,
    "start_time": "2023-08-12T13:53:49.712Z"
   },
   {
    "duration": 4,
    "start_time": "2023-08-12T13:53:49.741Z"
   },
   {
    "duration": 12,
    "start_time": "2023-08-12T13:53:49.746Z"
   },
   {
    "duration": 8,
    "start_time": "2023-08-12T13:53:49.760Z"
   },
   {
    "duration": 8,
    "start_time": "2023-08-12T13:53:49.769Z"
   },
   {
    "duration": 35,
    "start_time": "2023-08-12T13:53:49.778Z"
   },
   {
    "duration": 10,
    "start_time": "2023-08-12T13:53:49.815Z"
   },
   {
    "duration": 17,
    "start_time": "2023-08-12T13:53:49.826Z"
   },
   {
    "duration": 986,
    "start_time": "2023-08-12T13:53:49.845Z"
   },
   {
    "duration": 1,
    "start_time": "2023-08-12T13:53:50.832Z"
   },
   {
    "duration": 283,
    "start_time": "2023-08-12T13:54:21.912Z"
   },
   {
    "duration": 251,
    "start_time": "2023-08-12T13:54:36.173Z"
   },
   {
    "duration": 4,
    "start_time": "2023-08-12T13:54:41.243Z"
   },
   {
    "duration": 38,
    "start_time": "2023-08-12T13:54:41.250Z"
   },
   {
    "duration": 5,
    "start_time": "2023-08-12T13:54:41.290Z"
   },
   {
    "duration": 15,
    "start_time": "2023-08-12T13:54:41.298Z"
   },
   {
    "duration": 22,
    "start_time": "2023-08-12T13:54:41.315Z"
   },
   {
    "duration": 319,
    "start_time": "2023-08-12T13:54:41.339Z"
   },
   {
    "duration": 34,
    "start_time": "2023-08-12T13:54:41.660Z"
   },
   {
    "duration": 15,
    "start_time": "2023-08-12T13:54:41.696Z"
   },
   {
    "duration": 31,
    "start_time": "2023-08-12T13:54:41.713Z"
   },
   {
    "duration": 323,
    "start_time": "2023-08-12T13:54:41.747Z"
   },
   {
    "duration": 16,
    "start_time": "2023-08-12T13:54:42.072Z"
   },
   {
    "duration": 7,
    "start_time": "2023-08-12T13:54:42.090Z"
   },
   {
    "duration": 43,
    "start_time": "2023-08-12T13:54:42.109Z"
   },
   {
    "duration": 204,
    "start_time": "2023-08-12T13:54:42.154Z"
   },
   {
    "duration": 8,
    "start_time": "2023-08-12T13:54:42.360Z"
   },
   {
    "duration": 8,
    "start_time": "2023-08-12T13:54:42.370Z"
   },
   {
    "duration": 30,
    "start_time": "2023-08-12T13:54:42.380Z"
   },
   {
    "duration": 7,
    "start_time": "2023-08-12T13:54:42.412Z"
   },
   {
    "duration": 15,
    "start_time": "2023-08-12T13:54:42.422Z"
   },
   {
    "duration": 22,
    "start_time": "2023-08-12T13:54:42.440Z"
   },
   {
    "duration": 9,
    "start_time": "2023-08-12T13:54:42.464Z"
   },
   {
    "duration": 25,
    "start_time": "2023-08-12T13:54:42.475Z"
   },
   {
    "duration": 20,
    "start_time": "2023-08-12T13:54:42.501Z"
   },
   {
    "duration": 7,
    "start_time": "2023-08-12T13:54:42.524Z"
   },
   {
    "duration": 19,
    "start_time": "2023-08-12T13:54:42.533Z"
   },
   {
    "duration": 17,
    "start_time": "2023-08-12T13:54:42.554Z"
   },
   {
    "duration": 151,
    "start_time": "2023-08-12T13:54:42.573Z"
   },
   {
    "duration": 6,
    "start_time": "2023-08-12T13:54:42.730Z"
   },
   {
    "duration": 27,
    "start_time": "2023-08-12T13:54:42.739Z"
   },
   {
    "duration": 272,
    "start_time": "2023-08-12T13:54:42.768Z"
   },
   {
    "duration": 16,
    "start_time": "2023-08-12T13:54:43.042Z"
   },
   {
    "duration": 213,
    "start_time": "2023-08-12T13:54:43.060Z"
   },
   {
    "duration": 16,
    "start_time": "2023-08-12T13:54:43.275Z"
   },
   {
    "duration": 477,
    "start_time": "2023-08-12T13:54:43.293Z"
   },
   {
    "duration": 15,
    "start_time": "2023-08-12T13:54:43.773Z"
   },
   {
    "duration": 85,
    "start_time": "2023-08-12T13:54:43.790Z"
   },
   {
    "duration": 17,
    "start_time": "2023-08-12T13:54:43.877Z"
   },
   {
    "duration": 9,
    "start_time": "2023-08-12T13:54:43.896Z"
   },
   {
    "duration": 191,
    "start_time": "2023-08-12T13:54:43.908Z"
   },
   {
    "duration": 189,
    "start_time": "2023-08-12T13:54:44.101Z"
   },
   {
    "duration": 184,
    "start_time": "2023-08-12T13:54:44.292Z"
   },
   {
    "duration": 193,
    "start_time": "2023-08-12T13:54:44.478Z"
   },
   {
    "duration": 19,
    "start_time": "2023-08-12T13:54:44.673Z"
   },
   {
    "duration": 32,
    "start_time": "2023-08-12T13:54:44.694Z"
   },
   {
    "duration": 23,
    "start_time": "2023-08-12T13:54:44.729Z"
   },
   {
    "duration": 271,
    "start_time": "2023-08-12T13:54:54.473Z"
   },
   {
    "duration": 3,
    "start_time": "2023-08-12T13:55:06.627Z"
   },
   {
    "duration": 50,
    "start_time": "2023-08-12T13:55:06.633Z"
   },
   {
    "duration": 4,
    "start_time": "2023-08-12T13:55:06.686Z"
   },
   {
    "duration": 18,
    "start_time": "2023-08-12T13:55:06.692Z"
   },
   {
    "duration": 23,
    "start_time": "2023-08-12T13:55:06.712Z"
   },
   {
    "duration": 283,
    "start_time": "2023-08-12T13:55:06.737Z"
   },
   {
    "duration": 28,
    "start_time": "2023-08-12T13:55:07.022Z"
   },
   {
    "duration": 13,
    "start_time": "2023-08-12T13:55:07.052Z"
   },
   {
    "duration": 30,
    "start_time": "2023-08-12T13:55:07.066Z"
   },
   {
    "duration": 312,
    "start_time": "2023-08-12T13:55:07.098Z"
   },
   {
    "duration": 17,
    "start_time": "2023-08-12T13:55:07.413Z"
   },
   {
    "duration": 7,
    "start_time": "2023-08-12T13:55:07.432Z"
   },
   {
    "duration": 14,
    "start_time": "2023-08-12T13:55:07.441Z"
   },
   {
    "duration": 198,
    "start_time": "2023-08-12T13:55:07.457Z"
   },
   {
    "duration": 10,
    "start_time": "2023-08-12T13:55:07.658Z"
   },
   {
    "duration": 14,
    "start_time": "2023-08-12T13:55:07.670Z"
   },
   {
    "duration": 26,
    "start_time": "2023-08-12T13:55:07.687Z"
   },
   {
    "duration": 13,
    "start_time": "2023-08-12T13:55:07.715Z"
   },
   {
    "duration": 20,
    "start_time": "2023-08-12T13:55:07.730Z"
   },
   {
    "duration": 27,
    "start_time": "2023-08-12T13:55:07.753Z"
   },
   {
    "duration": 10,
    "start_time": "2023-08-12T13:55:07.782Z"
   },
   {
    "duration": 16,
    "start_time": "2023-08-12T13:55:07.794Z"
   },
   {
    "duration": 12,
    "start_time": "2023-08-12T13:55:07.811Z"
   },
   {
    "duration": 22,
    "start_time": "2023-08-12T13:55:07.824Z"
   },
   {
    "duration": 28,
    "start_time": "2023-08-12T13:55:07.848Z"
   },
   {
    "duration": 24,
    "start_time": "2023-08-12T13:55:07.878Z"
   },
   {
    "duration": 185,
    "start_time": "2023-08-12T13:55:07.904Z"
   },
   {
    "duration": 5,
    "start_time": "2023-08-12T13:55:08.091Z"
   },
   {
    "duration": 8,
    "start_time": "2023-08-12T13:55:08.108Z"
   },
   {
    "duration": 269,
    "start_time": "2023-08-12T13:55:08.118Z"
   },
   {
    "duration": 22,
    "start_time": "2023-08-12T13:55:08.389Z"
   },
   {
    "duration": 215,
    "start_time": "2023-08-12T13:55:08.413Z"
   },
   {
    "duration": 16,
    "start_time": "2023-08-12T13:55:08.630Z"
   },
   {
    "duration": 230,
    "start_time": "2023-08-12T13:55:08.649Z"
   },
   {
    "duration": 12,
    "start_time": "2023-08-12T13:55:08.881Z"
   },
   {
    "duration": 24,
    "start_time": "2023-08-12T13:55:08.895Z"
   },
   {
    "duration": 13,
    "start_time": "2023-08-12T13:55:08.921Z"
   },
   {
    "duration": 12,
    "start_time": "2023-08-12T13:55:08.936Z"
   },
   {
    "duration": 177,
    "start_time": "2023-08-12T13:55:08.950Z"
   },
   {
    "duration": 191,
    "start_time": "2023-08-12T13:55:09.129Z"
   },
   {
    "duration": 219,
    "start_time": "2023-08-12T13:55:09.322Z"
   },
   {
    "duration": 200,
    "start_time": "2023-08-12T13:55:09.543Z"
   },
   {
    "duration": 21,
    "start_time": "2023-08-12T13:55:09.745Z"
   },
   {
    "duration": 44,
    "start_time": "2023-08-12T13:55:09.768Z"
   },
   {
    "duration": 23,
    "start_time": "2023-08-12T13:55:09.813Z"
   },
   {
    "duration": 1164,
    "start_time": "2023-08-12T13:55:09.838Z"
   },
   {
    "duration": 0,
    "start_time": "2023-08-12T13:55:11.004Z"
   },
   {
    "duration": 0,
    "start_time": "2023-08-12T13:55:11.006Z"
   },
   {
    "duration": 0,
    "start_time": "2023-08-12T13:55:11.007Z"
   },
   {
    "duration": 0,
    "start_time": "2023-08-12T13:55:11.009Z"
   },
   {
    "duration": 0,
    "start_time": "2023-08-12T13:55:11.011Z"
   },
   {
    "duration": 0,
    "start_time": "2023-08-12T13:55:11.013Z"
   },
   {
    "duration": 0,
    "start_time": "2023-08-12T13:55:11.014Z"
   },
   {
    "duration": 0,
    "start_time": "2023-08-12T13:55:11.015Z"
   },
   {
    "duration": 87,
    "start_time": "2023-08-12T13:56:18.067Z"
   },
   {
    "duration": 13351,
    "start_time": "2023-08-12T13:56:23.343Z"
   },
   {
    "duration": 16,
    "start_time": "2023-08-12T13:56:36.696Z"
   },
   {
    "duration": 12,
    "start_time": "2023-08-12T13:58:01.514Z"
   },
   {
    "duration": 10,
    "start_time": "2023-08-12T13:58:22.767Z"
   },
   {
    "duration": 10,
    "start_time": "2023-08-12T13:58:45.633Z"
   },
   {
    "duration": 10,
    "start_time": "2023-08-12T13:59:00.503Z"
   },
   {
    "duration": 11,
    "start_time": "2023-08-12T13:59:04.127Z"
   },
   {
    "duration": 124220,
    "start_time": "2023-08-12T13:59:14.673Z"
   },
   {
    "duration": 0,
    "start_time": "2023-08-12T14:01:18.895Z"
   },
   {
    "duration": 4739,
    "start_time": "2023-08-12T14:02:35.586Z"
   },
   {
    "duration": 4,
    "start_time": "2023-08-12T14:02:55.006Z"
   },
   {
    "duration": 4,
    "start_time": "2023-08-12T14:02:57.872Z"
   },
   {
    "duration": 8405,
    "start_time": "2023-08-12T14:03:02.876Z"
   },
   {
    "duration": 10574,
    "start_time": "2023-08-12T14:03:17.764Z"
   },
   {
    "duration": 93,
    "start_time": "2023-08-12T14:10:09.380Z"
   },
   {
    "duration": 21,
    "start_time": "2023-08-12T14:11:11.508Z"
   },
   {
    "duration": 17,
    "start_time": "2023-08-12T14:11:37.296Z"
   },
   {
    "duration": 5,
    "start_time": "2023-08-12T14:17:32.188Z"
   },
   {
    "duration": 83,
    "start_time": "2023-08-12T14:17:32.196Z"
   },
   {
    "duration": 33,
    "start_time": "2023-08-12T14:17:32.282Z"
   },
   {
    "duration": 91,
    "start_time": "2023-08-12T14:17:32.319Z"
   },
   {
    "duration": 52,
    "start_time": "2023-08-12T14:17:32.414Z"
   },
   {
    "duration": 388,
    "start_time": "2023-08-12T14:17:32.468Z"
   },
   {
    "duration": 26,
    "start_time": "2023-08-12T14:17:32.858Z"
   },
   {
    "duration": 180,
    "start_time": "2023-08-12T14:17:32.887Z"
   },
   {
    "duration": 71,
    "start_time": "2023-08-12T14:17:33.071Z"
   },
   {
    "duration": 444,
    "start_time": "2023-08-12T14:17:33.144Z"
   },
   {
    "duration": 29,
    "start_time": "2023-08-12T14:17:33.591Z"
   },
   {
    "duration": 11,
    "start_time": "2023-08-12T14:17:33.622Z"
   },
   {
    "duration": 53,
    "start_time": "2023-08-12T14:17:33.635Z"
   },
   {
    "duration": 313,
    "start_time": "2023-08-12T14:17:33.691Z"
   },
   {
    "duration": 14,
    "start_time": "2023-08-12T14:17:34.006Z"
   },
   {
    "duration": 39,
    "start_time": "2023-08-12T14:17:34.023Z"
   },
   {
    "duration": 16,
    "start_time": "2023-08-12T14:17:34.065Z"
   },
   {
    "duration": 32,
    "start_time": "2023-08-12T14:17:34.084Z"
   },
   {
    "duration": 72,
    "start_time": "2023-08-12T14:17:34.119Z"
   },
   {
    "duration": 47,
    "start_time": "2023-08-12T14:17:34.194Z"
   },
   {
    "duration": 38,
    "start_time": "2023-08-12T14:17:34.244Z"
   },
   {
    "duration": 51,
    "start_time": "2023-08-12T14:17:34.285Z"
   },
   {
    "duration": 132,
    "start_time": "2023-08-12T14:17:34.338Z"
   },
   {
    "duration": 75,
    "start_time": "2023-08-12T14:17:34.474Z"
   },
   {
    "duration": 233,
    "start_time": "2023-08-12T14:17:34.551Z"
   },
   {
    "duration": 209,
    "start_time": "2023-08-12T14:17:34.786Z"
   },
   {
    "duration": 769,
    "start_time": "2023-08-12T14:17:34.997Z"
   },
   {
    "duration": 111,
    "start_time": "2023-08-12T14:17:35.769Z"
   },
   {
    "duration": 184,
    "start_time": "2023-08-12T14:17:35.883Z"
   },
   {
    "duration": 473,
    "start_time": "2023-08-12T14:17:36.070Z"
   },
   {
    "duration": 21,
    "start_time": "2023-08-12T14:17:36.546Z"
   },
   {
    "duration": 723,
    "start_time": "2023-08-12T14:17:36.569Z"
   },
   {
    "duration": 26,
    "start_time": "2023-08-12T14:17:37.294Z"
   },
   {
    "duration": 445,
    "start_time": "2023-08-12T14:17:37.322Z"
   },
   {
    "duration": 16,
    "start_time": "2023-08-12T14:17:37.770Z"
   },
   {
    "duration": 34,
    "start_time": "2023-08-12T14:17:37.797Z"
   },
   {
    "duration": 43,
    "start_time": "2023-08-12T14:17:37.834Z"
   },
   {
    "duration": 29,
    "start_time": "2023-08-12T14:17:37.879Z"
   },
   {
    "duration": 260,
    "start_time": "2023-08-12T14:17:37.912Z"
   },
   {
    "duration": 240,
    "start_time": "2023-08-12T14:17:38.175Z"
   },
   {
    "duration": 212,
    "start_time": "2023-08-12T14:17:38.418Z"
   },
   {
    "duration": 312,
    "start_time": "2023-08-12T14:17:38.633Z"
   },
   {
    "duration": 25,
    "start_time": "2023-08-12T14:17:38.949Z"
   },
   {
    "duration": 38,
    "start_time": "2023-08-12T14:17:38.976Z"
   },
   {
    "duration": 33,
    "start_time": "2023-08-12T14:17:39.016Z"
   },
   {
    "duration": 13074,
    "start_time": "2023-08-12T14:17:39.052Z"
   },
   {
    "duration": 9,
    "start_time": "2023-08-12T14:17:52.128Z"
   },
   {
    "duration": 59,
    "start_time": "2023-08-12T14:17:52.140Z"
   },
   {
    "duration": 0,
    "start_time": "2023-08-12T14:17:52.202Z"
   },
   {
    "duration": 0,
    "start_time": "2023-08-12T14:17:52.203Z"
   },
   {
    "duration": 0,
    "start_time": "2023-08-12T14:17:52.205Z"
   },
   {
    "duration": 0,
    "start_time": "2023-08-12T14:17:52.207Z"
   },
   {
    "duration": 0,
    "start_time": "2023-08-12T14:17:52.208Z"
   },
   {
    "duration": 0,
    "start_time": "2023-08-12T14:17:52.210Z"
   },
   {
    "duration": 0,
    "start_time": "2023-08-12T14:17:52.212Z"
   },
   {
    "duration": 18,
    "start_time": "2023-08-12T14:18:16.342Z"
   },
   {
    "duration": 3,
    "start_time": "2023-08-12T14:20:18.643Z"
   },
   {
    "duration": 52,
    "start_time": "2023-08-12T14:20:18.649Z"
   },
   {
    "duration": 3,
    "start_time": "2023-08-12T14:20:18.703Z"
   },
   {
    "duration": 80,
    "start_time": "2023-08-12T14:20:18.709Z"
   },
   {
    "duration": 30,
    "start_time": "2023-08-12T14:20:18.791Z"
   },
   {
    "duration": 268,
    "start_time": "2023-08-12T14:20:18.823Z"
   },
   {
    "duration": 25,
    "start_time": "2023-08-12T14:20:19.094Z"
   },
   {
    "duration": 9,
    "start_time": "2023-08-12T14:20:19.121Z"
   },
   {
    "duration": 16,
    "start_time": "2023-08-12T14:20:19.133Z"
   },
   {
    "duration": 352,
    "start_time": "2023-08-12T14:20:19.152Z"
   },
   {
    "duration": 18,
    "start_time": "2023-08-12T14:20:19.506Z"
   },
   {
    "duration": 10,
    "start_time": "2023-08-12T14:20:19.526Z"
   },
   {
    "duration": 22,
    "start_time": "2023-08-12T14:20:19.539Z"
   },
   {
    "duration": 190,
    "start_time": "2023-08-12T14:20:19.563Z"
   },
   {
    "duration": 8,
    "start_time": "2023-08-12T14:20:19.756Z"
   },
   {
    "duration": 9,
    "start_time": "2023-08-12T14:20:19.766Z"
   },
   {
    "duration": 10,
    "start_time": "2023-08-12T14:20:19.777Z"
   },
   {
    "duration": 9,
    "start_time": "2023-08-12T14:20:19.809Z"
   },
   {
    "duration": 10,
    "start_time": "2023-08-12T14:20:19.820Z"
   },
   {
    "duration": 18,
    "start_time": "2023-08-12T14:20:19.833Z"
   },
   {
    "duration": 11,
    "start_time": "2023-08-12T14:20:19.853Z"
   },
   {
    "duration": 44,
    "start_time": "2023-08-12T14:20:19.866Z"
   },
   {
    "duration": 10,
    "start_time": "2023-08-12T14:20:19.912Z"
   },
   {
    "duration": 7,
    "start_time": "2023-08-12T14:20:19.926Z"
   },
   {
    "duration": 17,
    "start_time": "2023-08-12T14:20:19.935Z"
   },
   {
    "duration": 15,
    "start_time": "2023-08-12T14:20:19.954Z"
   },
   {
    "duration": 190,
    "start_time": "2023-08-12T14:20:19.971Z"
   },
   {
    "duration": 7,
    "start_time": "2023-08-12T14:20:20.164Z"
   },
   {
    "duration": 30,
    "start_time": "2023-08-12T14:20:20.173Z"
   },
   {
    "duration": 280,
    "start_time": "2023-08-12T14:20:20.205Z"
   },
   {
    "duration": 23,
    "start_time": "2023-08-12T14:20:20.487Z"
   },
   {
    "duration": 198,
    "start_time": "2023-08-12T14:20:20.513Z"
   },
   {
    "duration": 17,
    "start_time": "2023-08-12T14:20:20.713Z"
   },
   {
    "duration": 236,
    "start_time": "2023-08-12T14:20:20.732Z"
   },
   {
    "duration": 12,
    "start_time": "2023-08-12T14:20:20.970Z"
   },
   {
    "duration": 58,
    "start_time": "2023-08-12T14:20:20.984Z"
   },
   {
    "duration": 18,
    "start_time": "2023-08-12T14:20:21.044Z"
   },
   {
    "duration": 17,
    "start_time": "2023-08-12T14:20:21.064Z"
   },
   {
    "duration": 172,
    "start_time": "2023-08-12T14:20:21.084Z"
   },
   {
    "duration": 200,
    "start_time": "2023-08-12T14:20:21.259Z"
   },
   {
    "duration": 190,
    "start_time": "2023-08-12T14:20:21.461Z"
   },
   {
    "duration": 198,
    "start_time": "2023-08-12T14:20:21.653Z"
   },
   {
    "duration": 20,
    "start_time": "2023-08-12T14:20:21.853Z"
   },
   {
    "duration": 42,
    "start_time": "2023-08-12T14:20:21.875Z"
   },
   {
    "duration": 24,
    "start_time": "2023-08-12T14:20:21.920Z"
   },
   {
    "duration": 12548,
    "start_time": "2023-08-12T14:20:21.947Z"
   },
   {
    "duration": 15,
    "start_time": "2023-08-12T14:20:34.497Z"
   },
   {
    "duration": 128,
    "start_time": "2023-08-12T14:20:34.514Z"
   },
   {
    "duration": 0,
    "start_time": "2023-08-12T14:20:34.644Z"
   },
   {
    "duration": 0,
    "start_time": "2023-08-12T14:20:34.646Z"
   },
   {
    "duration": 0,
    "start_time": "2023-08-12T14:20:34.648Z"
   },
   {
    "duration": 0,
    "start_time": "2023-08-12T14:20:34.649Z"
   },
   {
    "duration": 0,
    "start_time": "2023-08-12T14:20:34.650Z"
   },
   {
    "duration": 0,
    "start_time": "2023-08-12T14:20:34.652Z"
   },
   {
    "duration": 0,
    "start_time": "2023-08-12T14:20:34.653Z"
   },
   {
    "duration": 18,
    "start_time": "2023-08-12T14:21:45.585Z"
   },
   {
    "duration": 38,
    "start_time": "2023-08-12T14:25:45.879Z"
   },
   {
    "duration": 29,
    "start_time": "2023-08-12T14:25:52.077Z"
   },
   {
    "duration": 32,
    "start_time": "2023-08-12T14:26:26.292Z"
   },
   {
    "duration": 12,
    "start_time": "2023-08-12T14:26:38.784Z"
   },
   {
    "duration": 33,
    "start_time": "2023-08-12T14:26:41.349Z"
   },
   {
    "duration": 30,
    "start_time": "2023-08-12T14:26:47.701Z"
   },
   {
    "duration": 40,
    "start_time": "2023-08-12T14:26:53.502Z"
   },
   {
    "duration": 35,
    "start_time": "2023-08-12T14:26:58.157Z"
   },
   {
    "duration": 38,
    "start_time": "2023-08-12T14:27:02.195Z"
   },
   {
    "duration": 19,
    "start_time": "2023-08-12T14:27:23.153Z"
   },
   {
    "duration": 34,
    "start_time": "2023-08-12T14:27:34.934Z"
   },
   {
    "duration": 1400,
    "start_time": "2023-08-12T14:27:56.122Z"
   },
   {
    "duration": 27,
    "start_time": "2023-08-12T14:28:10.457Z"
   },
   {
    "duration": 4,
    "start_time": "2023-08-12T14:28:16.027Z"
   },
   {
    "duration": 40,
    "start_time": "2023-08-12T14:28:16.034Z"
   },
   {
    "duration": 3,
    "start_time": "2023-08-12T14:28:16.076Z"
   },
   {
    "duration": 21,
    "start_time": "2023-08-12T14:28:16.081Z"
   },
   {
    "duration": 14,
    "start_time": "2023-08-12T14:28:16.104Z"
   },
   {
    "duration": 279,
    "start_time": "2023-08-12T14:28:16.120Z"
   },
   {
    "duration": 27,
    "start_time": "2023-08-12T14:28:16.401Z"
   },
   {
    "duration": 9,
    "start_time": "2023-08-12T14:28:16.430Z"
   },
   {
    "duration": 16,
    "start_time": "2023-08-12T14:28:16.441Z"
   },
   {
    "duration": 338,
    "start_time": "2023-08-12T14:28:16.460Z"
   },
   {
    "duration": 16,
    "start_time": "2023-08-12T14:28:16.800Z"
   },
   {
    "duration": 8,
    "start_time": "2023-08-12T14:28:16.818Z"
   },
   {
    "duration": 20,
    "start_time": "2023-08-12T14:28:16.828Z"
   },
   {
    "duration": 202,
    "start_time": "2023-08-12T14:28:16.850Z"
   },
   {
    "duration": 8,
    "start_time": "2023-08-12T14:28:17.054Z"
   },
   {
    "duration": 16,
    "start_time": "2023-08-12T14:28:17.064Z"
   },
   {
    "duration": 26,
    "start_time": "2023-08-12T14:28:17.082Z"
   },
   {
    "duration": 11,
    "start_time": "2023-08-12T14:28:17.111Z"
   },
   {
    "duration": 17,
    "start_time": "2023-08-12T14:28:17.125Z"
   },
   {
    "duration": 25,
    "start_time": "2023-08-12T14:28:17.144Z"
   },
   {
    "duration": 13,
    "start_time": "2023-08-12T14:28:17.171Z"
   },
   {
    "duration": 9,
    "start_time": "2023-08-12T14:28:17.210Z"
   },
   {
    "duration": 13,
    "start_time": "2023-08-12T14:28:17.221Z"
   },
   {
    "duration": 8,
    "start_time": "2023-08-12T14:28:17.236Z"
   },
   {
    "duration": 9,
    "start_time": "2023-08-12T14:28:17.246Z"
   },
   {
    "duration": 8,
    "start_time": "2023-08-12T14:28:17.257Z"
   },
   {
    "duration": 187,
    "start_time": "2023-08-12T14:28:17.266Z"
   },
   {
    "duration": 5,
    "start_time": "2023-08-12T14:28:17.457Z"
   },
   {
    "duration": 28,
    "start_time": "2023-08-12T14:28:17.464Z"
   },
   {
    "duration": 269,
    "start_time": "2023-08-12T14:28:17.494Z"
   },
   {
    "duration": 16,
    "start_time": "2023-08-12T14:28:17.765Z"
   },
   {
    "duration": 220,
    "start_time": "2023-08-12T14:28:17.783Z"
   },
   {
    "duration": 22,
    "start_time": "2023-08-12T14:28:18.006Z"
   },
   {
    "duration": 229,
    "start_time": "2023-08-12T14:28:18.031Z"
   },
   {
    "duration": 11,
    "start_time": "2023-08-12T14:28:18.262Z"
   },
   {
    "duration": 32,
    "start_time": "2023-08-12T14:28:18.277Z"
   },
   {
    "duration": 13,
    "start_time": "2023-08-12T14:28:18.311Z"
   },
   {
    "duration": 14,
    "start_time": "2023-08-12T14:28:18.326Z"
   },
   {
    "duration": 211,
    "start_time": "2023-08-12T14:28:18.343Z"
   },
   {
    "duration": 193,
    "start_time": "2023-08-12T14:28:18.556Z"
   },
   {
    "duration": 188,
    "start_time": "2023-08-12T14:28:18.752Z"
   },
   {
    "duration": 614,
    "start_time": "2023-08-12T14:28:18.942Z"
   },
   {
    "duration": 22,
    "start_time": "2023-08-12T14:28:19.558Z"
   },
   {
    "duration": 39,
    "start_time": "2023-08-12T14:28:19.582Z"
   },
   {
    "duration": 24,
    "start_time": "2023-08-12T14:28:19.624Z"
   },
   {
    "duration": 20,
    "start_time": "2023-08-12T14:28:19.650Z"
   },
   {
    "duration": 0,
    "start_time": "2023-08-12T14:28:19.672Z"
   },
   {
    "duration": 0,
    "start_time": "2023-08-12T14:28:19.673Z"
   },
   {
    "duration": 14,
    "start_time": "2023-08-12T14:28:26.855Z"
   },
   {
    "duration": 12,
    "start_time": "2023-08-12T14:28:37.553Z"
   },
   {
    "duration": 4,
    "start_time": "2023-08-12T14:28:56.269Z"
   },
   {
    "duration": 44,
    "start_time": "2023-08-12T14:28:56.274Z"
   },
   {
    "duration": 4,
    "start_time": "2023-08-12T14:28:56.320Z"
   },
   {
    "duration": 31,
    "start_time": "2023-08-12T14:28:56.327Z"
   },
   {
    "duration": 18,
    "start_time": "2023-08-12T14:28:56.361Z"
   },
   {
    "duration": 276,
    "start_time": "2023-08-12T14:28:56.381Z"
   },
   {
    "duration": 28,
    "start_time": "2023-08-12T14:28:56.659Z"
   },
   {
    "duration": 9,
    "start_time": "2023-08-12T14:28:56.689Z"
   },
   {
    "duration": 21,
    "start_time": "2023-08-12T14:28:56.702Z"
   },
   {
    "duration": 329,
    "start_time": "2023-08-12T14:28:56.725Z"
   },
   {
    "duration": 18,
    "start_time": "2023-08-12T14:28:57.056Z"
   },
   {
    "duration": 10,
    "start_time": "2023-08-12T14:28:57.076Z"
   },
   {
    "duration": 25,
    "start_time": "2023-08-12T14:28:57.088Z"
   },
   {
    "duration": 188,
    "start_time": "2023-08-12T14:28:57.115Z"
   },
   {
    "duration": 8,
    "start_time": "2023-08-12T14:28:57.305Z"
   },
   {
    "duration": 18,
    "start_time": "2023-08-12T14:28:57.315Z"
   },
   {
    "duration": 13,
    "start_time": "2023-08-12T14:28:57.335Z"
   },
   {
    "duration": 9,
    "start_time": "2023-08-12T14:28:57.350Z"
   },
   {
    "duration": 11,
    "start_time": "2023-08-12T14:28:57.361Z"
   },
   {
    "duration": 45,
    "start_time": "2023-08-12T14:28:57.374Z"
   },
   {
    "duration": 16,
    "start_time": "2023-08-12T14:28:57.421Z"
   },
   {
    "duration": 8,
    "start_time": "2023-08-12T14:28:57.439Z"
   },
   {
    "duration": 20,
    "start_time": "2023-08-12T14:28:57.449Z"
   },
   {
    "duration": 7,
    "start_time": "2023-08-12T14:28:57.470Z"
   },
   {
    "duration": 32,
    "start_time": "2023-08-12T14:28:57.480Z"
   },
   {
    "duration": 15,
    "start_time": "2023-08-12T14:28:57.514Z"
   },
   {
    "duration": 193,
    "start_time": "2023-08-12T14:28:57.535Z"
   },
   {
    "duration": 8,
    "start_time": "2023-08-12T14:28:57.730Z"
   },
   {
    "duration": 13,
    "start_time": "2023-08-12T14:28:57.740Z"
   },
   {
    "duration": 309,
    "start_time": "2023-08-12T14:28:57.755Z"
   },
   {
    "duration": 15,
    "start_time": "2023-08-12T14:28:58.066Z"
   },
   {
    "duration": 233,
    "start_time": "2023-08-12T14:28:58.083Z"
   },
   {
    "duration": 16,
    "start_time": "2023-08-12T14:28:58.319Z"
   },
   {
    "duration": 218,
    "start_time": "2023-08-12T14:28:58.337Z"
   },
   {
    "duration": 12,
    "start_time": "2023-08-12T14:28:58.557Z"
   },
   {
    "duration": 15,
    "start_time": "2023-08-12T14:28:58.571Z"
   },
   {
    "duration": 19,
    "start_time": "2023-08-12T14:28:58.610Z"
   },
   {
    "duration": 22,
    "start_time": "2023-08-12T14:28:58.632Z"
   },
   {
    "duration": 165,
    "start_time": "2023-08-12T14:28:58.657Z"
   },
   {
    "duration": 193,
    "start_time": "2023-08-12T14:28:58.824Z"
   },
   {
    "duration": 182,
    "start_time": "2023-08-12T14:28:59.019Z"
   },
   {
    "duration": 224,
    "start_time": "2023-08-12T14:28:59.209Z"
   },
   {
    "duration": 22,
    "start_time": "2023-08-12T14:28:59.435Z"
   },
   {
    "duration": 55,
    "start_time": "2023-08-12T14:28:59.460Z"
   },
   {
    "duration": 36,
    "start_time": "2023-08-12T14:28:59.517Z"
   },
   {
    "duration": 22,
    "start_time": "2023-08-12T14:28:59.555Z"
   },
   {
    "duration": 0,
    "start_time": "2023-08-12T14:28:59.579Z"
   },
   {
    "duration": 0,
    "start_time": "2023-08-12T14:28:59.581Z"
   },
   {
    "duration": 0,
    "start_time": "2023-08-12T14:28:59.583Z"
   },
   {
    "duration": 0,
    "start_time": "2023-08-12T14:28:59.584Z"
   },
   {
    "duration": 0,
    "start_time": "2023-08-12T14:28:59.609Z"
   },
   {
    "duration": 0,
    "start_time": "2023-08-12T14:28:59.612Z"
   },
   {
    "duration": 0,
    "start_time": "2023-08-12T14:28:59.613Z"
   },
   {
    "duration": 0,
    "start_time": "2023-08-12T14:28:59.615Z"
   },
   {
    "duration": 0,
    "start_time": "2023-08-12T14:28:59.616Z"
   },
   {
    "duration": 0,
    "start_time": "2023-08-12T14:28:59.618Z"
   },
   {
    "duration": 3,
    "start_time": "2023-08-12T14:29:12.062Z"
   },
   {
    "duration": 12977,
    "start_time": "2023-08-12T14:29:12.068Z"
   },
   {
    "duration": 14,
    "start_time": "2023-08-12T14:29:25.048Z"
   },
   {
    "duration": 24,
    "start_time": "2023-08-12T14:29:25.064Z"
   },
   {
    "duration": 21,
    "start_time": "2023-08-12T14:29:25.090Z"
   },
   {
    "duration": 5,
    "start_time": "2023-08-12T14:29:25.113Z"
   },
   {
    "duration": 18,
    "start_time": "2023-08-12T14:29:25.120Z"
   },
   {
    "duration": 10,
    "start_time": "2023-08-12T14:29:25.140Z"
   },
   {
    "duration": 21,
    "start_time": "2023-08-12T14:29:25.153Z"
   },
   {
    "duration": 3018,
    "start_time": "2023-08-12T14:29:25.176Z"
   },
   {
    "duration": 5,
    "start_time": "2023-08-12T14:29:28.196Z"
   },
   {
    "duration": 30,
    "start_time": "2023-08-12T14:29:33.187Z"
   },
   {
    "duration": 27,
    "start_time": "2023-08-12T14:33:01.055Z"
   },
   {
    "duration": 27,
    "start_time": "2023-08-12T14:33:22.700Z"
   },
   {
    "duration": 0,
    "start_time": "2023-08-12T14:36:04.041Z"
   },
   {
    "duration": 21,
    "start_time": "2023-08-12T14:37:23.128Z"
   },
   {
    "duration": 16,
    "start_time": "2023-08-12T14:38:24.924Z"
   },
   {
    "duration": 1107,
    "start_time": "2023-08-12T14:38:50.141Z"
   },
   {
    "duration": 15,
    "start_time": "2023-08-12T14:39:49.150Z"
   },
   {
    "duration": 14,
    "start_time": "2023-08-12T14:40:04.670Z"
   },
   {
    "duration": 89,
    "start_time": "2023-08-12T14:42:59.288Z"
   },
   {
    "duration": 26,
    "start_time": "2023-08-12T14:53:48.731Z"
   },
   {
    "duration": 27,
    "start_time": "2023-08-12T14:53:59.890Z"
   },
   {
    "duration": 41,
    "start_time": "2023-08-12T14:54:06.920Z"
   },
   {
    "duration": 4,
    "start_time": "2023-08-12T14:54:57.870Z"
   },
   {
    "duration": 73,
    "start_time": "2023-08-12T14:54:57.877Z"
   },
   {
    "duration": 4,
    "start_time": "2023-08-12T14:54:57.953Z"
   },
   {
    "duration": 33,
    "start_time": "2023-08-12T14:54:57.958Z"
   },
   {
    "duration": 60,
    "start_time": "2023-08-12T14:54:57.994Z"
   },
   {
    "duration": 311,
    "start_time": "2023-08-12T14:54:58.056Z"
   },
   {
    "duration": 29,
    "start_time": "2023-08-12T14:54:58.369Z"
   },
   {
    "duration": 21,
    "start_time": "2023-08-12T14:54:58.401Z"
   },
   {
    "duration": 41,
    "start_time": "2023-08-12T14:54:58.427Z"
   },
   {
    "duration": 366,
    "start_time": "2023-08-12T14:54:58.471Z"
   },
   {
    "duration": 25,
    "start_time": "2023-08-12T14:54:58.839Z"
   },
   {
    "duration": 37,
    "start_time": "2023-08-12T14:54:58.866Z"
   },
   {
    "duration": 42,
    "start_time": "2023-08-12T14:54:58.906Z"
   },
   {
    "duration": 277,
    "start_time": "2023-08-12T14:54:58.953Z"
   },
   {
    "duration": 11,
    "start_time": "2023-08-12T14:54:59.236Z"
   },
   {
    "duration": 24,
    "start_time": "2023-08-12T14:54:59.250Z"
   },
   {
    "duration": 67,
    "start_time": "2023-08-12T14:54:59.276Z"
   },
   {
    "duration": 62,
    "start_time": "2023-08-12T14:54:59.346Z"
   },
   {
    "duration": 86,
    "start_time": "2023-08-12T14:54:59.410Z"
   },
   {
    "duration": 70,
    "start_time": "2023-08-12T14:54:59.498Z"
   },
   {
    "duration": 19,
    "start_time": "2023-08-12T14:54:59.570Z"
   },
   {
    "duration": 20,
    "start_time": "2023-08-12T14:54:59.591Z"
   },
   {
    "duration": 67,
    "start_time": "2023-08-12T14:54:59.613Z"
   },
   {
    "duration": 22,
    "start_time": "2023-08-12T14:54:59.682Z"
   },
   {
    "duration": 46,
    "start_time": "2023-08-12T14:54:59.707Z"
   },
   {
    "duration": 26,
    "start_time": "2023-08-12T14:54:59.755Z"
   },
   {
    "duration": 200,
    "start_time": "2023-08-12T14:54:59.784Z"
   },
   {
    "duration": 7,
    "start_time": "2023-08-12T14:54:59.986Z"
   },
   {
    "duration": 57,
    "start_time": "2023-08-12T14:54:59.995Z"
   },
   {
    "duration": 395,
    "start_time": "2023-08-12T14:55:00.055Z"
   },
   {
    "duration": 16,
    "start_time": "2023-08-12T14:55:00.452Z"
   },
   {
    "duration": 372,
    "start_time": "2023-08-12T14:55:00.470Z"
   },
   {
    "duration": 20,
    "start_time": "2023-08-12T14:55:00.845Z"
   },
   {
    "duration": 295,
    "start_time": "2023-08-12T14:55:00.867Z"
   },
   {
    "duration": 11,
    "start_time": "2023-08-12T14:55:01.166Z"
   },
   {
    "duration": 116,
    "start_time": "2023-08-12T14:55:01.179Z"
   },
   {
    "duration": 76,
    "start_time": "2023-08-12T14:55:01.297Z"
   },
   {
    "duration": 222,
    "start_time": "2023-08-12T14:55:01.375Z"
   },
   {
    "duration": 448,
    "start_time": "2023-08-12T14:55:01.600Z"
   },
   {
    "duration": 274,
    "start_time": "2023-08-12T14:55:02.051Z"
   },
   {
    "duration": 253,
    "start_time": "2023-08-12T14:55:02.331Z"
   },
   {
    "duration": 306,
    "start_time": "2023-08-12T14:55:02.586Z"
   },
   {
    "duration": 41,
    "start_time": "2023-08-12T14:55:02.895Z"
   },
   {
    "duration": 63,
    "start_time": "2023-08-12T14:55:02.939Z"
   },
   {
    "duration": 54,
    "start_time": "2023-08-12T14:55:03.005Z"
   },
   {
    "duration": 13908,
    "start_time": "2023-08-12T14:55:03.061Z"
   },
   {
    "duration": 13,
    "start_time": "2023-08-12T14:55:16.971Z"
   },
   {
    "duration": 40,
    "start_time": "2023-08-12T14:55:16.987Z"
   },
   {
    "duration": 28,
    "start_time": "2023-08-12T14:55:17.029Z"
   },
   {
    "duration": 17,
    "start_time": "2023-08-12T14:55:17.059Z"
   },
   {
    "duration": 37,
    "start_time": "2023-08-12T14:55:17.078Z"
   },
   {
    "duration": 41,
    "start_time": "2023-08-12T14:55:17.117Z"
   },
   {
    "duration": 2177,
    "start_time": "2023-08-12T14:55:17.160Z"
   },
   {
    "duration": 5,
    "start_time": "2023-08-12T14:55:19.339Z"
   },
   {
    "duration": 12,
    "start_time": "2023-08-12T15:14:13.325Z"
   },
   {
    "duration": 1008,
    "start_time": "2023-08-12T15:14:31.151Z"
   },
   {
    "duration": 22,
    "start_time": "2023-08-12T15:15:01.026Z"
   },
   {
    "duration": 1133,
    "start_time": "2023-08-12T15:15:37.075Z"
   },
   {
    "duration": 86,
    "start_time": "2023-08-12T15:16:56.477Z"
   },
   {
    "duration": 28,
    "start_time": "2023-08-12T15:17:00.252Z"
   },
   {
    "duration": 19,
    "start_time": "2023-08-12T15:17:54.927Z"
   },
   {
    "duration": 15,
    "start_time": "2023-08-12T15:18:04.204Z"
   },
   {
    "duration": 5,
    "start_time": "2023-08-12T15:18:12.659Z"
   },
   {
    "duration": 6,
    "start_time": "2023-08-12T15:18:24.700Z"
   },
   {
    "duration": 3,
    "start_time": "2023-08-12T15:18:28.692Z"
   },
   {
    "duration": 43,
    "start_time": "2023-08-12T15:18:28.697Z"
   },
   {
    "duration": 4,
    "start_time": "2023-08-12T15:18:28.742Z"
   },
   {
    "duration": 20,
    "start_time": "2023-08-12T15:18:28.748Z"
   },
   {
    "duration": 14,
    "start_time": "2023-08-12T15:18:28.769Z"
   },
   {
    "duration": 284,
    "start_time": "2023-08-12T15:18:28.785Z"
   },
   {
    "duration": 26,
    "start_time": "2023-08-12T15:18:29.070Z"
   },
   {
    "duration": 22,
    "start_time": "2023-08-12T15:18:29.098Z"
   },
   {
    "duration": 16,
    "start_time": "2023-08-12T15:18:29.125Z"
   },
   {
    "duration": 356,
    "start_time": "2023-08-12T15:18:29.143Z"
   },
   {
    "duration": 25,
    "start_time": "2023-08-12T15:18:29.502Z"
   },
   {
    "duration": 20,
    "start_time": "2023-08-12T15:18:29.530Z"
   },
   {
    "duration": 13,
    "start_time": "2023-08-12T15:18:29.552Z"
   },
   {
    "duration": 211,
    "start_time": "2023-08-12T15:18:29.567Z"
   },
   {
    "duration": 9,
    "start_time": "2023-08-12T15:18:29.780Z"
   },
   {
    "duration": 35,
    "start_time": "2023-08-12T15:18:29.791Z"
   },
   {
    "duration": 17,
    "start_time": "2023-08-12T15:18:29.828Z"
   },
   {
    "duration": 8,
    "start_time": "2023-08-12T15:18:29.847Z"
   },
   {
    "duration": 15,
    "start_time": "2023-08-12T15:18:29.857Z"
   },
   {
    "duration": 16,
    "start_time": "2023-08-12T15:18:29.875Z"
   },
   {
    "duration": 19,
    "start_time": "2023-08-12T15:18:29.893Z"
   },
   {
    "duration": 9,
    "start_time": "2023-08-12T15:18:29.914Z"
   },
   {
    "duration": 23,
    "start_time": "2023-08-12T15:18:29.925Z"
   },
   {
    "duration": 9,
    "start_time": "2023-08-12T15:18:29.954Z"
   },
   {
    "duration": 11,
    "start_time": "2023-08-12T15:18:29.966Z"
   },
   {
    "duration": 43,
    "start_time": "2023-08-12T15:18:29.980Z"
   },
   {
    "duration": 188,
    "start_time": "2023-08-12T15:18:30.026Z"
   },
   {
    "duration": 10,
    "start_time": "2023-08-12T15:18:30.216Z"
   },
   {
    "duration": 32,
    "start_time": "2023-08-12T15:18:30.228Z"
   },
   {
    "duration": 281,
    "start_time": "2023-08-12T15:18:30.261Z"
   },
   {
    "duration": 15,
    "start_time": "2023-08-12T15:18:30.544Z"
   },
   {
    "duration": 229,
    "start_time": "2023-08-12T15:18:30.562Z"
   },
   {
    "duration": 24,
    "start_time": "2023-08-12T15:18:30.793Z"
   },
   {
    "duration": 1794,
    "start_time": "2023-08-12T15:18:30.823Z"
   },
   {
    "duration": 14,
    "start_time": "2023-08-12T15:18:32.624Z"
   },
   {
    "duration": 15,
    "start_time": "2023-08-12T15:18:32.641Z"
   },
   {
    "duration": 15,
    "start_time": "2023-08-12T15:18:32.659Z"
   },
   {
    "duration": 20,
    "start_time": "2023-08-12T15:18:32.676Z"
   },
   {
    "duration": 196,
    "start_time": "2023-08-12T15:18:32.699Z"
   },
   {
    "duration": 191,
    "start_time": "2023-08-12T15:18:32.898Z"
   },
   {
    "duration": 189,
    "start_time": "2023-08-12T15:18:33.091Z"
   },
   {
    "duration": 214,
    "start_time": "2023-08-12T15:18:33.282Z"
   },
   {
    "duration": 31,
    "start_time": "2023-08-12T15:18:33.498Z"
   },
   {
    "duration": 28,
    "start_time": "2023-08-12T15:18:33.531Z"
   },
   {
    "duration": 60,
    "start_time": "2023-08-12T15:18:33.561Z"
   },
   {
    "duration": 12894,
    "start_time": "2023-08-12T15:18:33.627Z"
   },
   {
    "duration": 17,
    "start_time": "2023-08-12T15:18:46.523Z"
   },
   {
    "duration": 25,
    "start_time": "2023-08-12T15:18:46.542Z"
   },
   {
    "duration": 9,
    "start_time": "2023-08-12T15:18:46.569Z"
   },
   {
    "duration": 10,
    "start_time": "2023-08-12T15:18:46.579Z"
   },
   {
    "duration": 34,
    "start_time": "2023-08-12T15:18:46.592Z"
   },
   {
    "duration": 13,
    "start_time": "2023-08-12T15:18:46.629Z"
   },
   {
    "duration": 28,
    "start_time": "2023-08-12T15:18:46.644Z"
   },
   {
    "duration": 2173,
    "start_time": "2023-08-12T15:18:46.674Z"
   },
   {
    "duration": 5,
    "start_time": "2023-08-12T15:18:48.849Z"
   },
   {
    "duration": 4,
    "start_time": "2023-08-12T15:19:22.952Z"
   },
   {
    "duration": 92,
    "start_time": "2023-08-12T15:19:22.958Z"
   },
   {
    "duration": 39,
    "start_time": "2023-08-12T15:19:23.053Z"
   },
   {
    "duration": 102,
    "start_time": "2023-08-12T15:19:23.094Z"
   },
   {
    "duration": 68,
    "start_time": "2023-08-12T15:19:23.199Z"
   },
   {
    "duration": 302,
    "start_time": "2023-08-12T15:19:23.269Z"
   },
   {
    "duration": 26,
    "start_time": "2023-08-12T15:19:23.574Z"
   },
   {
    "duration": 10,
    "start_time": "2023-08-12T15:19:23.601Z"
   },
   {
    "duration": 62,
    "start_time": "2023-08-12T15:19:23.613Z"
   },
   {
    "duration": 358,
    "start_time": "2023-08-12T15:19:23.677Z"
   },
   {
    "duration": 27,
    "start_time": "2023-08-12T15:19:24.037Z"
   },
   {
    "duration": 11,
    "start_time": "2023-08-12T15:19:24.066Z"
   },
   {
    "duration": 19,
    "start_time": "2023-08-12T15:19:24.081Z"
   },
   {
    "duration": 248,
    "start_time": "2023-08-12T15:19:24.102Z"
   },
   {
    "duration": 8,
    "start_time": "2023-08-12T15:19:24.353Z"
   },
   {
    "duration": 43,
    "start_time": "2023-08-12T15:19:24.363Z"
   },
   {
    "duration": 41,
    "start_time": "2023-08-12T15:19:24.408Z"
   },
   {
    "duration": 22,
    "start_time": "2023-08-12T15:19:24.451Z"
   },
   {
    "duration": 26,
    "start_time": "2023-08-12T15:19:24.475Z"
   },
   {
    "duration": 42,
    "start_time": "2023-08-12T15:19:24.503Z"
   },
   {
    "duration": 31,
    "start_time": "2023-08-12T15:19:24.547Z"
   },
   {
    "duration": 15,
    "start_time": "2023-08-12T15:19:24.581Z"
   },
   {
    "duration": 28,
    "start_time": "2023-08-12T15:19:24.598Z"
   },
   {
    "duration": 19,
    "start_time": "2023-08-12T15:19:24.628Z"
   },
   {
    "duration": 34,
    "start_time": "2023-08-12T15:19:24.649Z"
   },
   {
    "duration": 24,
    "start_time": "2023-08-12T15:19:24.685Z"
   },
   {
    "duration": 185,
    "start_time": "2023-08-12T15:19:24.714Z"
   },
   {
    "duration": 8,
    "start_time": "2023-08-12T15:19:24.901Z"
   },
   {
    "duration": 31,
    "start_time": "2023-08-12T15:19:24.910Z"
   },
   {
    "duration": 286,
    "start_time": "2023-08-12T15:19:24.944Z"
   },
   {
    "duration": 17,
    "start_time": "2023-08-12T15:19:25.233Z"
   },
   {
    "duration": 210,
    "start_time": "2023-08-12T15:19:25.252Z"
   },
   {
    "duration": 14,
    "start_time": "2023-08-12T15:19:25.464Z"
   },
   {
    "duration": 230,
    "start_time": "2023-08-12T15:19:25.481Z"
   },
   {
    "duration": 12,
    "start_time": "2023-08-12T15:19:25.720Z"
   },
   {
    "duration": 15,
    "start_time": "2023-08-12T15:19:25.734Z"
   },
   {
    "duration": 29,
    "start_time": "2023-08-12T15:19:25.757Z"
   },
   {
    "duration": 28,
    "start_time": "2023-08-12T15:19:25.788Z"
   },
   {
    "duration": 236,
    "start_time": "2023-08-12T15:19:25.818Z"
   },
   {
    "duration": 235,
    "start_time": "2023-08-12T15:19:26.056Z"
   },
   {
    "duration": 194,
    "start_time": "2023-08-12T15:19:26.294Z"
   },
   {
    "duration": 215,
    "start_time": "2023-08-12T15:19:26.490Z"
   },
   {
    "duration": 30,
    "start_time": "2023-08-12T15:19:26.706Z"
   },
   {
    "duration": 24,
    "start_time": "2023-08-12T15:19:26.738Z"
   },
   {
    "duration": 54,
    "start_time": "2023-08-12T15:19:26.764Z"
   },
   {
    "duration": 13210,
    "start_time": "2023-08-12T15:19:26.826Z"
   },
   {
    "duration": 11,
    "start_time": "2023-08-12T15:19:40.039Z"
   },
   {
    "duration": 14,
    "start_time": "2023-08-12T15:19:40.052Z"
   },
   {
    "duration": 9,
    "start_time": "2023-08-12T15:19:40.068Z"
   },
   {
    "duration": 10,
    "start_time": "2023-08-12T15:19:40.080Z"
   },
   {
    "duration": 17,
    "start_time": "2023-08-12T15:19:40.092Z"
   },
   {
    "duration": 24,
    "start_time": "2023-08-12T15:19:40.117Z"
   },
   {
    "duration": 9,
    "start_time": "2023-08-12T15:19:40.143Z"
   },
   {
    "duration": 7,
    "start_time": "2023-08-12T15:19:40.155Z"
   },
   {
    "duration": 18,
    "start_time": "2023-08-12T15:19:40.163Z"
   },
   {
    "duration": 5,
    "start_time": "2023-08-12T15:26:03.387Z"
   },
   {
    "duration": 5,
    "start_time": "2023-08-12T15:26:11.733Z"
   },
   {
    "duration": 3,
    "start_time": "2023-08-12T15:26:16.502Z"
   },
   {
    "duration": 8,
    "start_time": "2023-08-12T15:27:21.086Z"
   },
   {
    "duration": 138,
    "start_time": "2023-08-12T15:27:29.678Z"
   },
   {
    "duration": 13,
    "start_time": "2023-08-12T15:29:02.911Z"
   },
   {
    "duration": 14,
    "start_time": "2023-08-12T15:37:49.725Z"
   },
   {
    "duration": 15,
    "start_time": "2023-08-12T15:43:05.402Z"
   },
   {
    "duration": 133,
    "start_time": "2023-08-12T15:43:17.180Z"
   },
   {
    "duration": 10,
    "start_time": "2023-08-12T15:45:21.839Z"
   },
   {
    "duration": 19,
    "start_time": "2023-08-12T15:49:13.412Z"
   },
   {
    "duration": 14,
    "start_time": "2023-08-12T15:49:22.318Z"
   },
   {
    "duration": 12,
    "start_time": "2023-08-12T15:49:33.559Z"
   },
   {
    "duration": 13,
    "start_time": "2023-08-12T15:49:34.060Z"
   },
   {
    "duration": 3,
    "start_time": "2023-08-12T15:49:36.910Z"
   },
   {
    "duration": 56,
    "start_time": "2023-08-12T15:49:36.915Z"
   },
   {
    "duration": 4,
    "start_time": "2023-08-12T15:49:36.973Z"
   },
   {
    "duration": 35,
    "start_time": "2023-08-12T15:49:36.978Z"
   },
   {
    "duration": 25,
    "start_time": "2023-08-12T15:49:37.016Z"
   },
   {
    "duration": 331,
    "start_time": "2023-08-12T15:49:37.043Z"
   },
   {
    "duration": 30,
    "start_time": "2023-08-12T15:49:37.376Z"
   },
   {
    "duration": 11,
    "start_time": "2023-08-12T15:49:37.409Z"
   },
   {
    "duration": 39,
    "start_time": "2023-08-12T15:49:37.422Z"
   },
   {
    "duration": 392,
    "start_time": "2023-08-12T15:49:37.464Z"
   },
   {
    "duration": 17,
    "start_time": "2023-08-12T15:49:37.860Z"
   },
   {
    "duration": 57,
    "start_time": "2023-08-12T15:49:37.879Z"
   },
   {
    "duration": 79,
    "start_time": "2023-08-12T15:49:37.938Z"
   },
   {
    "duration": 237,
    "start_time": "2023-08-12T15:49:38.019Z"
   },
   {
    "duration": 18,
    "start_time": "2023-08-12T15:49:38.258Z"
   },
   {
    "duration": 76,
    "start_time": "2023-08-12T15:49:38.278Z"
   },
   {
    "duration": 29,
    "start_time": "2023-08-12T15:49:38.356Z"
   },
   {
    "duration": 55,
    "start_time": "2023-08-12T15:49:38.387Z"
   },
   {
    "duration": 30,
    "start_time": "2023-08-12T15:49:38.445Z"
   },
   {
    "duration": 36,
    "start_time": "2023-08-12T15:49:38.477Z"
   },
   {
    "duration": 11,
    "start_time": "2023-08-12T15:49:38.515Z"
   },
   {
    "duration": 22,
    "start_time": "2023-08-12T15:49:38.527Z"
   },
   {
    "duration": 36,
    "start_time": "2023-08-12T15:49:38.551Z"
   },
   {
    "duration": 49,
    "start_time": "2023-08-12T15:49:38.588Z"
   },
   {
    "duration": 54,
    "start_time": "2023-08-12T15:49:38.638Z"
   },
   {
    "duration": 28,
    "start_time": "2023-08-12T15:49:38.693Z"
   },
   {
    "duration": 208,
    "start_time": "2023-08-12T15:49:38.723Z"
   },
   {
    "duration": 6,
    "start_time": "2023-08-12T15:49:38.934Z"
   },
   {
    "duration": 50,
    "start_time": "2023-08-12T15:49:38.945Z"
   },
   {
    "duration": 336,
    "start_time": "2023-08-12T15:49:38.997Z"
   },
   {
    "duration": 21,
    "start_time": "2023-08-12T15:49:39.335Z"
   },
   {
    "duration": 243,
    "start_time": "2023-08-12T15:49:39.359Z"
   },
   {
    "duration": 19,
    "start_time": "2023-08-12T15:49:39.604Z"
   },
   {
    "duration": 238,
    "start_time": "2023-08-12T15:49:39.625Z"
   },
   {
    "duration": 11,
    "start_time": "2023-08-12T15:49:39.865Z"
   },
   {
    "duration": 48,
    "start_time": "2023-08-12T15:49:39.879Z"
   },
   {
    "duration": 61,
    "start_time": "2023-08-12T15:49:39.929Z"
   },
   {
    "duration": 67,
    "start_time": "2023-08-12T15:49:39.992Z"
   },
   {
    "duration": 273,
    "start_time": "2023-08-12T15:49:40.061Z"
   },
   {
    "duration": 231,
    "start_time": "2023-08-12T15:49:40.337Z"
   },
   {
    "duration": 195,
    "start_time": "2023-08-12T15:49:40.570Z"
   },
   {
    "duration": 205,
    "start_time": "2023-08-12T15:49:40.767Z"
   },
   {
    "duration": 42,
    "start_time": "2023-08-12T15:49:40.974Z"
   },
   {
    "duration": 38,
    "start_time": "2023-08-12T15:49:41.019Z"
   },
   {
    "duration": 35,
    "start_time": "2023-08-12T15:49:41.059Z"
   },
   {
    "duration": 12861,
    "start_time": "2023-08-12T15:49:41.110Z"
   },
   {
    "duration": 14,
    "start_time": "2023-08-12T15:49:53.973Z"
   },
   {
    "duration": 20,
    "start_time": "2023-08-12T15:49:53.989Z"
   },
   {
    "duration": 22,
    "start_time": "2023-08-12T15:49:54.011Z"
   },
   {
    "duration": 0,
    "start_time": "2023-08-12T15:49:54.035Z"
   },
   {
    "duration": 0,
    "start_time": "2023-08-12T15:49:54.036Z"
   },
   {
    "duration": 0,
    "start_time": "2023-08-12T15:49:54.037Z"
   },
   {
    "duration": 0,
    "start_time": "2023-08-12T15:49:54.039Z"
   },
   {
    "duration": 0,
    "start_time": "2023-08-12T15:49:54.040Z"
   },
   {
    "duration": 0,
    "start_time": "2023-08-12T15:49:54.041Z"
   },
   {
    "duration": 0,
    "start_time": "2023-08-12T15:49:54.042Z"
   },
   {
    "duration": 8,
    "start_time": "2023-08-12T15:50:27.959Z"
   },
   {
    "duration": 105,
    "start_time": "2023-08-12T16:01:44.590Z"
   },
   {
    "duration": 11,
    "start_time": "2023-08-12T16:01:55.059Z"
   },
   {
    "duration": 1254,
    "start_time": "2023-08-12T16:10:36.321Z"
   },
   {
    "duration": 12,
    "start_time": "2023-08-12T16:11:54.835Z"
   },
   {
    "duration": 10,
    "start_time": "2023-08-12T16:12:04.170Z"
   },
   {
    "duration": 9,
    "start_time": "2023-08-12T16:12:09.466Z"
   },
   {
    "duration": 8,
    "start_time": "2023-08-12T16:19:23.816Z"
   },
   {
    "duration": 4,
    "start_time": "2023-08-12T16:21:55.230Z"
   },
   {
    "duration": 40,
    "start_time": "2023-08-12T16:21:55.236Z"
   },
   {
    "duration": 3,
    "start_time": "2023-08-12T16:21:55.279Z"
   },
   {
    "duration": 14,
    "start_time": "2023-08-12T16:21:55.283Z"
   },
   {
    "duration": 34,
    "start_time": "2023-08-12T16:21:55.299Z"
   },
   {
    "duration": 282,
    "start_time": "2023-08-12T16:21:55.335Z"
   },
   {
    "duration": 28,
    "start_time": "2023-08-12T16:21:55.618Z"
   },
   {
    "duration": 9,
    "start_time": "2023-08-12T16:21:55.648Z"
   },
   {
    "duration": 14,
    "start_time": "2023-08-12T16:21:55.659Z"
   },
   {
    "duration": 399,
    "start_time": "2023-08-12T16:21:55.675Z"
   },
   {
    "duration": 17,
    "start_time": "2023-08-12T16:21:56.077Z"
   },
   {
    "duration": 44,
    "start_time": "2023-08-12T16:21:56.097Z"
   },
   {
    "duration": 61,
    "start_time": "2023-08-12T16:21:56.142Z"
   },
   {
    "duration": 228,
    "start_time": "2023-08-12T16:21:56.205Z"
   },
   {
    "duration": 8,
    "start_time": "2023-08-12T16:21:56.436Z"
   },
   {
    "duration": 14,
    "start_time": "2023-08-12T16:21:56.446Z"
   },
   {
    "duration": 15,
    "start_time": "2023-08-12T16:21:56.462Z"
   },
   {
    "duration": 12,
    "start_time": "2023-08-12T16:21:56.479Z"
   },
   {
    "duration": 63,
    "start_time": "2023-08-12T16:21:56.493Z"
   },
   {
    "duration": 31,
    "start_time": "2023-08-12T16:21:56.558Z"
   },
   {
    "duration": 10,
    "start_time": "2023-08-12T16:21:56.590Z"
   },
   {
    "duration": 12,
    "start_time": "2023-08-12T16:21:56.602Z"
   },
   {
    "duration": 20,
    "start_time": "2023-08-12T16:21:56.615Z"
   },
   {
    "duration": 9,
    "start_time": "2023-08-12T16:21:56.637Z"
   },
   {
    "duration": 16,
    "start_time": "2023-08-12T16:21:56.647Z"
   },
   {
    "duration": 7,
    "start_time": "2023-08-12T16:21:56.665Z"
   },
   {
    "duration": 149,
    "start_time": "2023-08-12T16:21:56.674Z"
   },
   {
    "duration": 5,
    "start_time": "2023-08-12T16:21:56.825Z"
   },
   {
    "duration": 7,
    "start_time": "2023-08-12T16:21:56.834Z"
   },
   {
    "duration": 282,
    "start_time": "2023-08-12T16:21:56.842Z"
   },
   {
    "duration": 16,
    "start_time": "2023-08-12T16:21:57.126Z"
   },
   {
    "duration": 200,
    "start_time": "2023-08-12T16:21:57.144Z"
   },
   {
    "duration": 14,
    "start_time": "2023-08-12T16:21:57.346Z"
   },
   {
    "duration": 217,
    "start_time": "2023-08-12T16:21:57.361Z"
   },
   {
    "duration": 11,
    "start_time": "2023-08-12T16:21:57.579Z"
   },
   {
    "duration": 31,
    "start_time": "2023-08-12T16:21:57.592Z"
   },
   {
    "duration": 25,
    "start_time": "2023-08-12T16:21:57.625Z"
   },
   {
    "duration": 12,
    "start_time": "2023-08-12T16:21:57.652Z"
   },
   {
    "duration": 174,
    "start_time": "2023-08-12T16:21:57.666Z"
   },
   {
    "duration": 204,
    "start_time": "2023-08-12T16:21:57.842Z"
   },
   {
    "duration": 181,
    "start_time": "2023-08-12T16:21:58.048Z"
   },
   {
    "duration": 201,
    "start_time": "2023-08-12T16:21:58.231Z"
   },
   {
    "duration": 20,
    "start_time": "2023-08-12T16:21:58.435Z"
   },
   {
    "duration": 166,
    "start_time": "2023-08-12T16:21:58.457Z"
   },
   {
    "duration": 119,
    "start_time": "2023-08-12T16:21:58.625Z"
   },
   {
    "duration": 12612,
    "start_time": "2023-08-12T16:21:58.746Z"
   },
   {
    "duration": 13,
    "start_time": "2023-08-12T16:22:11.360Z"
   },
   {
    "duration": 16,
    "start_time": "2023-08-12T16:22:11.375Z"
   },
   {
    "duration": 41,
    "start_time": "2023-08-12T16:22:11.393Z"
   },
   {
    "duration": 62,
    "start_time": "2023-08-12T16:22:11.437Z"
   },
   {
    "duration": 48,
    "start_time": "2023-08-12T16:22:11.501Z"
   },
   {
    "duration": 32,
    "start_time": "2023-08-12T16:22:11.551Z"
   },
   {
    "duration": 38,
    "start_time": "2023-08-12T16:22:11.585Z"
   },
   {
    "duration": 3,
    "start_time": "2023-08-12T16:26:36.074Z"
   },
   {
    "duration": 259,
    "start_time": "2023-08-12T16:29:37.266Z"
   },
   {
    "duration": 19,
    "start_time": "2023-08-12T16:30:59.597Z"
   },
   {
    "duration": 11,
    "start_time": "2023-08-12T16:31:12.021Z"
   },
   {
    "duration": 57,
    "start_time": "2023-08-12T16:31:24.322Z"
   },
   {
    "duration": 5,
    "start_time": "2023-08-12T16:31:43.885Z"
   },
   {
    "duration": 1974,
    "start_time": "2023-08-12T16:32:09.455Z"
   },
   {
    "duration": 53,
    "start_time": "2023-08-12T16:32:18.011Z"
   },
   {
    "duration": 1491,
    "start_time": "2023-08-12T16:32:22.812Z"
   },
   {
    "duration": 5,
    "start_time": "2023-08-12T16:36:15.162Z"
   },
   {
    "duration": 7,
    "start_time": "2023-08-12T16:36:29.416Z"
   },
   {
    "duration": 5,
    "start_time": "2023-08-12T16:36:35.457Z"
   },
   {
    "duration": 4,
    "start_time": "2023-08-12T16:41:55.386Z"
   },
   {
    "duration": 6,
    "start_time": "2023-08-12T16:43:54.647Z"
   },
   {
    "duration": 6,
    "start_time": "2023-08-12T16:44:07.403Z"
   },
   {
    "duration": 5,
    "start_time": "2023-08-12T16:44:13.432Z"
   },
   {
    "duration": 6,
    "start_time": "2023-08-12T16:44:32.042Z"
   },
   {
    "duration": 6,
    "start_time": "2023-08-12T16:46:41.632Z"
   },
   {
    "duration": 7,
    "start_time": "2023-08-12T16:46:52.003Z"
   },
   {
    "duration": 6,
    "start_time": "2023-08-12T16:46:55.648Z"
   },
   {
    "duration": 6,
    "start_time": "2023-08-12T16:46:58.991Z"
   },
   {
    "duration": 6,
    "start_time": "2023-08-12T16:47:06.084Z"
   },
   {
    "duration": 4,
    "start_time": "2023-08-12T16:54:01.335Z"
   },
   {
    "duration": 5,
    "start_time": "2023-08-12T16:57:16.698Z"
   },
   {
    "duration": 6,
    "start_time": "2023-08-12T17:00:41.785Z"
   },
   {
    "duration": 12,
    "start_time": "2023-08-12T17:02:58.662Z"
   },
   {
    "duration": 12,
    "start_time": "2023-08-12T17:03:13.099Z"
   },
   {
    "duration": 2313,
    "start_time": "2023-08-12T17:03:23.245Z"
   },
   {
    "duration": 55,
    "start_time": "2023-08-12T17:03:28.082Z"
   },
   {
    "duration": 262,
    "start_time": "2023-08-12T17:04:17.889Z"
   },
   {
    "duration": 7,
    "start_time": "2023-08-12T17:05:11.218Z"
   },
   {
    "duration": 6,
    "start_time": "2023-08-12T17:05:18.180Z"
   },
   {
    "duration": 6,
    "start_time": "2023-08-12T17:05:31.134Z"
   },
   {
    "duration": 6,
    "start_time": "2023-08-12T17:05:42.275Z"
   },
   {
    "duration": 6,
    "start_time": "2023-08-12T17:05:54.093Z"
   },
   {
    "duration": 6,
    "start_time": "2023-08-12T17:06:15.816Z"
   },
   {
    "duration": 6,
    "start_time": "2023-08-12T17:07:31.240Z"
   },
   {
    "duration": 6,
    "start_time": "2023-08-12T17:07:40.895Z"
   },
   {
    "duration": 6,
    "start_time": "2023-08-12T17:07:54.430Z"
   },
   {
    "duration": 5,
    "start_time": "2023-08-12T17:07:58.706Z"
   },
   {
    "duration": 7,
    "start_time": "2023-08-12T17:08:03.573Z"
   },
   {
    "duration": 7,
    "start_time": "2023-08-12T17:08:26.431Z"
   },
   {
    "duration": 7,
    "start_time": "2023-08-12T17:10:01.376Z"
   },
   {
    "duration": 8,
    "start_time": "2023-08-12T17:10:10.592Z"
   },
   {
    "duration": 6,
    "start_time": "2023-08-12T17:10:18.156Z"
   },
   {
    "duration": 7,
    "start_time": "2023-08-12T17:10:26.282Z"
   },
   {
    "duration": 6,
    "start_time": "2023-08-12T17:10:31.930Z"
   },
   {
    "duration": 6,
    "start_time": "2023-08-12T17:10:45.522Z"
   },
   {
    "duration": 6,
    "start_time": "2023-08-12T17:10:49.654Z"
   },
   {
    "duration": 6,
    "start_time": "2023-08-12T17:10:58.988Z"
   },
   {
    "duration": 6,
    "start_time": "2023-08-12T17:11:02.563Z"
   },
   {
    "duration": 6,
    "start_time": "2023-08-12T17:15:00.598Z"
   },
   {
    "duration": 7,
    "start_time": "2023-08-12T17:15:04.872Z"
   },
   {
    "duration": 6,
    "start_time": "2023-08-12T17:15:08.245Z"
   },
   {
    "duration": 10,
    "start_time": "2023-08-12T17:19:10.821Z"
   },
   {
    "duration": 1080,
    "start_time": "2023-08-13T05:06:20.799Z"
   },
   {
    "duration": 99,
    "start_time": "2023-08-13T05:06:21.881Z"
   },
   {
    "duration": 3,
    "start_time": "2023-08-13T05:06:21.982Z"
   },
   {
    "duration": 22,
    "start_time": "2023-08-13T05:06:21.987Z"
   },
   {
    "duration": 14,
    "start_time": "2023-08-13T05:06:22.010Z"
   },
   {
    "duration": 286,
    "start_time": "2023-08-13T05:06:22.025Z"
   },
   {
    "duration": 28,
    "start_time": "2023-08-13T05:06:22.313Z"
   },
   {
    "duration": 9,
    "start_time": "2023-08-13T05:06:22.343Z"
   },
   {
    "duration": 25,
    "start_time": "2023-08-13T05:06:22.359Z"
   },
   {
    "duration": 308,
    "start_time": "2023-08-13T05:06:22.387Z"
   },
   {
    "duration": 17,
    "start_time": "2023-08-13T05:06:22.697Z"
   },
   {
    "duration": 8,
    "start_time": "2023-08-13T05:06:22.715Z"
   },
   {
    "duration": 24,
    "start_time": "2023-08-13T05:06:22.725Z"
   },
   {
    "duration": 181,
    "start_time": "2023-08-13T05:06:22.751Z"
   },
   {
    "duration": 7,
    "start_time": "2023-08-13T05:06:22.934Z"
   },
   {
    "duration": 18,
    "start_time": "2023-08-13T05:06:22.943Z"
   },
   {
    "duration": 17,
    "start_time": "2023-08-13T05:06:22.963Z"
   },
   {
    "duration": 7,
    "start_time": "2023-08-13T05:06:22.982Z"
   },
   {
    "duration": 9,
    "start_time": "2023-08-13T05:06:22.991Z"
   },
   {
    "duration": 16,
    "start_time": "2023-08-13T05:06:23.001Z"
   },
   {
    "duration": 9,
    "start_time": "2023-08-13T05:06:23.019Z"
   },
   {
    "duration": 31,
    "start_time": "2023-08-13T05:06:23.030Z"
   },
   {
    "duration": 9,
    "start_time": "2023-08-13T05:06:23.063Z"
   },
   {
    "duration": 9,
    "start_time": "2023-08-13T05:06:23.074Z"
   },
   {
    "duration": 20,
    "start_time": "2023-08-13T05:06:23.085Z"
   },
   {
    "duration": 11,
    "start_time": "2023-08-13T05:06:23.107Z"
   },
   {
    "duration": 156,
    "start_time": "2023-08-13T05:06:23.120Z"
   },
   {
    "duration": 5,
    "start_time": "2023-08-13T05:06:23.280Z"
   },
   {
    "duration": 19,
    "start_time": "2023-08-13T05:06:23.286Z"
   },
   {
    "duration": 259,
    "start_time": "2023-08-13T05:06:23.307Z"
   },
   {
    "duration": 15,
    "start_time": "2023-08-13T05:06:23.568Z"
   },
   {
    "duration": 190,
    "start_time": "2023-08-13T05:06:23.585Z"
   },
   {
    "duration": 13,
    "start_time": "2023-08-13T05:06:23.777Z"
   },
   {
    "duration": 209,
    "start_time": "2023-08-13T05:06:23.792Z"
   },
   {
    "duration": 12,
    "start_time": "2023-08-13T05:06:24.002Z"
   },
   {
    "duration": 14,
    "start_time": "2023-08-13T05:06:24.015Z"
   },
   {
    "duration": 30,
    "start_time": "2023-08-13T05:06:24.031Z"
   },
   {
    "duration": 23,
    "start_time": "2023-08-13T05:06:24.063Z"
   },
   {
    "duration": 153,
    "start_time": "2023-08-13T05:06:24.088Z"
   },
   {
    "duration": 273,
    "start_time": "2023-08-13T05:06:24.243Z"
   },
   {
    "duration": 174,
    "start_time": "2023-08-13T05:06:24.517Z"
   },
   {
    "duration": 199,
    "start_time": "2023-08-13T05:06:24.693Z"
   },
   {
    "duration": 23,
    "start_time": "2023-08-13T05:06:24.894Z"
   },
   {
    "duration": 41,
    "start_time": "2023-08-13T05:06:24.919Z"
   },
   {
    "duration": 28,
    "start_time": "2023-08-13T05:06:24.962Z"
   },
   {
    "duration": 11656,
    "start_time": "2023-08-13T05:06:24.992Z"
   },
   {
    "duration": 18,
    "start_time": "2023-08-13T05:06:36.650Z"
   },
   {
    "duration": 15,
    "start_time": "2023-08-13T05:06:36.669Z"
   },
   {
    "duration": 7,
    "start_time": "2023-08-13T05:06:36.686Z"
   },
   {
    "duration": 9,
    "start_time": "2023-08-13T05:06:36.695Z"
   },
   {
    "duration": 10,
    "start_time": "2023-08-13T05:06:36.706Z"
   },
   {
    "duration": 14,
    "start_time": "2023-08-13T05:06:36.718Z"
   },
   {
    "duration": 25,
    "start_time": "2023-08-13T05:06:36.734Z"
   },
   {
    "duration": 15,
    "start_time": "2023-08-13T05:06:36.761Z"
   },
   {
    "duration": 243,
    "start_time": "2023-08-13T05:06:36.779Z"
   },
   {
    "duration": 5,
    "start_time": "2023-08-13T05:06:37.024Z"
   },
   {
    "duration": 32,
    "start_time": "2023-08-13T05:06:37.031Z"
   },
   {
    "duration": 13,
    "start_time": "2023-08-13T05:06:37.065Z"
   },
   {
    "duration": 6,
    "start_time": "2023-08-13T06:57:08.058Z"
   },
   {
    "duration": 8,
    "start_time": "2023-08-13T06:57:54.360Z"
   },
   {
    "duration": 110,
    "start_time": "2023-08-13T06:58:46.483Z"
   },
   {
    "duration": 2955,
    "start_time": "2023-08-13T06:59:02.531Z"
   },
   {
    "duration": 22,
    "start_time": "2023-08-13T07:10:28.572Z"
   },
   {
    "duration": 262,
    "start_time": "2023-08-13T07:10:38.682Z"
   },
   {
    "duration": 48,
    "start_time": "2023-08-13T10:07:03.871Z"
   },
   {
    "duration": 1251,
    "start_time": "2023-08-13T10:07:09.661Z"
   },
   {
    "duration": 128,
    "start_time": "2023-08-13T10:07:10.915Z"
   },
   {
    "duration": 3,
    "start_time": "2023-08-13T10:07:11.044Z"
   },
   {
    "duration": 16,
    "start_time": "2023-08-13T10:07:11.050Z"
   },
   {
    "duration": 11,
    "start_time": "2023-08-13T10:07:11.067Z"
   },
   {
    "duration": 223,
    "start_time": "2023-08-13T10:07:11.079Z"
   },
   {
    "duration": 68,
    "start_time": "2023-08-13T10:07:11.304Z"
   },
   {
    "duration": 8,
    "start_time": "2023-08-13T10:07:11.373Z"
   },
   {
    "duration": 13,
    "start_time": "2023-08-13T10:07:11.382Z"
   },
   {
    "duration": 242,
    "start_time": "2023-08-13T10:07:11.397Z"
   },
   {
    "duration": 53,
    "start_time": "2023-08-13T10:07:11.640Z"
   },
   {
    "duration": 7,
    "start_time": "2023-08-13T10:07:11.695Z"
   },
   {
    "duration": 9,
    "start_time": "2023-08-13T10:07:11.704Z"
   },
   {
    "duration": 144,
    "start_time": "2023-08-13T10:07:11.714Z"
   },
   {
    "duration": 6,
    "start_time": "2023-08-13T10:07:11.859Z"
   },
   {
    "duration": 6,
    "start_time": "2023-08-13T10:07:11.867Z"
   },
   {
    "duration": 16,
    "start_time": "2023-08-13T10:07:11.875Z"
   },
   {
    "duration": 13,
    "start_time": "2023-08-13T10:07:11.892Z"
   },
   {
    "duration": 7,
    "start_time": "2023-08-13T10:07:11.906Z"
   },
   {
    "duration": 14,
    "start_time": "2023-08-13T10:07:11.914Z"
   },
   {
    "duration": 7,
    "start_time": "2023-08-13T10:07:11.929Z"
   },
   {
    "duration": 9,
    "start_time": "2023-08-13T10:07:11.937Z"
   },
   {
    "duration": 8,
    "start_time": "2023-08-13T10:07:11.948Z"
   },
   {
    "duration": 5,
    "start_time": "2023-08-13T10:07:11.958Z"
   },
   {
    "duration": 38,
    "start_time": "2023-08-13T10:07:11.965Z"
   },
   {
    "duration": 7,
    "start_time": "2023-08-13T10:07:12.005Z"
   },
   {
    "duration": 123,
    "start_time": "2023-08-13T10:07:12.013Z"
   },
   {
    "duration": 4,
    "start_time": "2023-08-13T10:07:12.139Z"
   },
   {
    "duration": 10,
    "start_time": "2023-08-13T10:07:12.145Z"
   },
   {
    "duration": 216,
    "start_time": "2023-08-13T10:07:12.156Z"
   },
   {
    "duration": 13,
    "start_time": "2023-08-13T10:07:12.373Z"
   },
   {
    "duration": 154,
    "start_time": "2023-08-13T10:07:12.388Z"
   },
   {
    "duration": 11,
    "start_time": "2023-08-13T10:07:12.543Z"
   },
   {
    "duration": 162,
    "start_time": "2023-08-13T10:07:12.555Z"
   },
   {
    "duration": 10,
    "start_time": "2023-08-13T10:07:12.718Z"
   },
   {
    "duration": 11,
    "start_time": "2023-08-13T10:07:12.729Z"
   },
   {
    "duration": 8,
    "start_time": "2023-08-13T10:07:12.741Z"
   },
   {
    "duration": 8,
    "start_time": "2023-08-13T10:07:12.750Z"
   },
   {
    "duration": 143,
    "start_time": "2023-08-13T10:07:12.760Z"
   },
   {
    "duration": 212,
    "start_time": "2023-08-13T10:07:12.904Z"
   },
   {
    "duration": 145,
    "start_time": "2023-08-13T10:07:13.117Z"
   },
   {
    "duration": 163,
    "start_time": "2023-08-13T10:07:13.263Z"
   },
   {
    "duration": 19,
    "start_time": "2023-08-13T10:07:13.427Z"
   },
   {
    "duration": 19,
    "start_time": "2023-08-13T10:07:13.447Z"
   },
   {
    "duration": 47,
    "start_time": "2023-08-13T10:07:13.468Z"
   },
   {
    "duration": 8544,
    "start_time": "2023-08-13T10:07:13.517Z"
   },
   {
    "duration": 9,
    "start_time": "2023-08-13T10:07:22.063Z"
   },
   {
    "duration": 27,
    "start_time": "2023-08-13T10:07:22.074Z"
   },
   {
    "duration": 30,
    "start_time": "2023-08-13T10:07:22.102Z"
   },
   {
    "duration": 9,
    "start_time": "2023-08-13T10:07:22.134Z"
   },
   {
    "duration": 17,
    "start_time": "2023-08-13T10:07:22.144Z"
   },
   {
    "duration": 31,
    "start_time": "2023-08-13T10:07:22.163Z"
   },
   {
    "duration": 19,
    "start_time": "2023-08-13T10:07:22.196Z"
   },
   {
    "duration": 25,
    "start_time": "2023-08-13T10:07:22.216Z"
   },
   {
    "duration": 219,
    "start_time": "2023-08-13T10:07:22.242Z"
   },
   {
    "duration": 5,
    "start_time": "2023-08-13T10:07:22.463Z"
   },
   {
    "duration": 19,
    "start_time": "2023-08-13T10:07:22.470Z"
   },
   {
    "duration": 21,
    "start_time": "2023-08-13T10:07:22.491Z"
   },
   {
    "duration": 10,
    "start_time": "2023-08-13T10:07:43.508Z"
   },
   {
    "duration": 9,
    "start_time": "2023-08-13T10:07:48.054Z"
   },
   {
    "duration": 10,
    "start_time": "2023-08-13T10:07:50.947Z"
   },
   {
    "duration": 130,
    "start_time": "2023-08-13T10:08:44.154Z"
   },
   {
    "duration": 116,
    "start_time": "2023-08-13T10:09:30.544Z"
   },
   {
    "duration": 129,
    "start_time": "2023-08-13T10:11:12.679Z"
   },
   {
    "duration": 129,
    "start_time": "2023-08-13T10:11:25.295Z"
   },
   {
    "duration": 58,
    "start_time": "2023-08-13T10:11:39.216Z"
   },
   {
    "duration": 128,
    "start_time": "2023-08-13T10:11:49.669Z"
   },
   {
    "duration": 598,
    "start_time": "2023-08-13T10:13:12.054Z"
   },
   {
    "duration": 139,
    "start_time": "2023-08-13T10:13:27.455Z"
   },
   {
    "duration": 121,
    "start_time": "2023-08-13T10:14:24.097Z"
   },
   {
    "duration": 6,
    "start_time": "2023-08-13T10:14:38.812Z"
   },
   {
    "duration": 10,
    "start_time": "2023-08-13T10:18:13.698Z"
   },
   {
    "duration": 8,
    "start_time": "2023-08-13T10:18:54.286Z"
   },
   {
    "duration": 111,
    "start_time": "2023-08-13T10:18:57.975Z"
   },
   {
    "duration": 116,
    "start_time": "2023-08-13T10:19:15.651Z"
   },
   {
    "duration": 79,
    "start_time": "2023-08-13T10:20:16.344Z"
   },
   {
    "duration": 118,
    "start_time": "2023-08-13T10:20:20.186Z"
   },
   {
    "duration": 142,
    "start_time": "2023-08-13T10:20:26.594Z"
   },
   {
    "duration": 94,
    "start_time": "2023-08-13T10:21:14.018Z"
   },
   {
    "duration": 10,
    "start_time": "2023-08-13T10:21:25.743Z"
   },
   {
    "duration": 9,
    "start_time": "2023-08-13T10:21:33.778Z"
   },
   {
    "duration": 136,
    "start_time": "2023-08-13T10:30:04.533Z"
   },
   {
    "duration": 111,
    "start_time": "2023-08-13T10:31:12.077Z"
   },
   {
    "duration": 120,
    "start_time": "2023-08-13T10:31:30.278Z"
   },
   {
    "duration": 52,
    "start_time": "2023-08-13T10:31:49.134Z"
   },
   {
    "duration": 121,
    "start_time": "2023-08-13T10:32:44.014Z"
   },
   {
    "duration": 64,
    "start_time": "2023-08-13T10:32:59.070Z"
   },
   {
    "duration": 3,
    "start_time": "2023-08-13T10:33:36.167Z"
   },
   {
    "duration": 140,
    "start_time": "2023-08-13T10:33:46.153Z"
   },
   {
    "duration": 104,
    "start_time": "2023-08-13T10:35:54.514Z"
   },
   {
    "duration": 193,
    "start_time": "2023-08-13T10:36:04.582Z"
   },
   {
    "duration": 211,
    "start_time": "2023-08-13T10:36:15.446Z"
   },
   {
    "duration": 115,
    "start_time": "2023-08-13T10:36:38.745Z"
   },
   {
    "duration": 112,
    "start_time": "2023-08-13T10:36:44.600Z"
   },
   {
    "duration": 117,
    "start_time": "2023-08-13T10:36:47.607Z"
   },
   {
    "duration": 121,
    "start_time": "2023-08-13T10:36:54.023Z"
   },
   {
    "duration": 123,
    "start_time": "2023-08-13T10:39:22.635Z"
   },
   {
    "duration": 144,
    "start_time": "2023-08-13T10:39:31.411Z"
   },
   {
    "duration": 123,
    "start_time": "2023-08-13T10:43:37.672Z"
   },
   {
    "duration": 123,
    "start_time": "2023-08-13T10:44:03.012Z"
   },
   {
    "duration": 136,
    "start_time": "2023-08-13T10:44:09.542Z"
   },
   {
    "duration": 9,
    "start_time": "2023-08-13T10:48:29.148Z"
   },
   {
    "duration": 167,
    "start_time": "2023-08-13T10:48:46.295Z"
   },
   {
    "duration": 12,
    "start_time": "2023-08-13T10:57:05.168Z"
   },
   {
    "duration": 191,
    "start_time": "2023-08-13T10:57:37.573Z"
   },
   {
    "duration": 988,
    "start_time": "2023-08-13T10:57:52.904Z"
   },
   {
    "duration": 13,
    "start_time": "2023-08-13T10:57:57.139Z"
   },
   {
    "duration": 12,
    "start_time": "2023-08-13T10:59:14.431Z"
   },
   {
    "duration": 88,
    "start_time": "2023-08-13T11:00:40.335Z"
   },
   {
    "duration": 82,
    "start_time": "2023-08-13T11:00:48.685Z"
   },
   {
    "duration": 167,
    "start_time": "2023-08-13T11:00:52.305Z"
   },
   {
    "duration": 74,
    "start_time": "2023-08-13T11:00:54.529Z"
   },
   {
    "duration": 65,
    "start_time": "2023-08-13T11:07:27.507Z"
   },
   {
    "duration": 194,
    "start_time": "2023-08-13T11:14:34.945Z"
   },
   {
    "duration": 196,
    "start_time": "2023-08-13T11:15:04.045Z"
   },
   {
    "duration": 206,
    "start_time": "2023-08-13T11:15:26.518Z"
   },
   {
    "duration": 195,
    "start_time": "2023-08-13T11:15:48.771Z"
   },
   {
    "duration": 229,
    "start_time": "2023-08-13T11:18:08.904Z"
   },
   {
    "duration": 205,
    "start_time": "2023-08-13T11:18:31.502Z"
   },
   {
    "duration": 169,
    "start_time": "2023-08-13T11:19:08.420Z"
   },
   {
    "duration": 149,
    "start_time": "2023-08-13T11:19:23.240Z"
   },
   {
    "duration": 45,
    "start_time": "2023-08-13T11:21:21.968Z"
   },
   {
    "duration": 15,
    "start_time": "2023-08-13T11:21:24.618Z"
   },
   {
    "duration": 54,
    "start_time": "2023-08-13T11:21:48.903Z"
   },
   {
    "duration": 6,
    "start_time": "2023-08-13T11:25:25.618Z"
   },
   {
    "duration": 9,
    "start_time": "2023-08-13T11:25:30.405Z"
   },
   {
    "duration": 11,
    "start_time": "2023-08-13T11:25:36.968Z"
   },
   {
    "duration": 10,
    "start_time": "2023-08-13T11:25:57.752Z"
   },
   {
    "duration": 2,
    "start_time": "2023-08-13T11:26:11.540Z"
   },
   {
    "duration": 36,
    "start_time": "2023-08-13T11:26:11.544Z"
   },
   {
    "duration": 3,
    "start_time": "2023-08-13T11:26:11.581Z"
   },
   {
    "duration": 14,
    "start_time": "2023-08-13T11:26:11.585Z"
   },
   {
    "duration": 11,
    "start_time": "2023-08-13T11:26:11.600Z"
   },
   {
    "duration": 140,
    "start_time": "2023-08-13T11:26:11.613Z"
   },
   {
    "duration": 25,
    "start_time": "2023-08-13T11:26:11.755Z"
   },
   {
    "duration": 18,
    "start_time": "2023-08-13T11:26:11.782Z"
   },
   {
    "duration": 10,
    "start_time": "2023-08-13T11:26:11.802Z"
   },
   {
    "duration": 263,
    "start_time": "2023-08-13T11:26:11.813Z"
   },
   {
    "duration": 142,
    "start_time": "2023-08-13T11:26:12.078Z"
   },
   {
    "duration": 15,
    "start_time": "2023-08-13T11:26:12.222Z"
   },
   {
    "duration": 8,
    "start_time": "2023-08-13T11:26:12.239Z"
   },
   {
    "duration": 19,
    "start_time": "2023-08-13T11:26:12.249Z"
   },
   {
    "duration": 82,
    "start_time": "2023-08-13T11:26:12.270Z"
   },
   {
    "duration": 6,
    "start_time": "2023-08-13T11:26:12.354Z"
   },
   {
    "duration": 8,
    "start_time": "2023-08-13T11:26:12.362Z"
   },
   {
    "duration": 9,
    "start_time": "2023-08-13T11:26:12.372Z"
   },
   {
    "duration": 21,
    "start_time": "2023-08-13T11:26:12.382Z"
   },
   {
    "duration": 16,
    "start_time": "2023-08-13T11:26:12.404Z"
   },
   {
    "duration": 13,
    "start_time": "2023-08-13T11:26:12.421Z"
   },
   {
    "duration": 6,
    "start_time": "2023-08-13T11:26:12.436Z"
   },
   {
    "duration": 5,
    "start_time": "2023-08-13T11:26:12.444Z"
   },
   {
    "duration": 7,
    "start_time": "2023-08-13T11:26:12.453Z"
   },
   {
    "duration": 5,
    "start_time": "2023-08-13T11:26:12.462Z"
   },
   {
    "duration": 33,
    "start_time": "2023-08-13T11:26:12.469Z"
   },
   {
    "duration": 7,
    "start_time": "2023-08-13T11:26:12.504Z"
   },
   {
    "duration": 119,
    "start_time": "2023-08-13T11:26:12.513Z"
   },
   {
    "duration": 4,
    "start_time": "2023-08-13T11:26:12.634Z"
   },
   {
    "duration": 10,
    "start_time": "2023-08-13T11:26:12.640Z"
   },
   {
    "duration": 211,
    "start_time": "2023-08-13T11:26:12.652Z"
   },
   {
    "duration": 11,
    "start_time": "2023-08-13T11:26:12.864Z"
   },
   {
    "duration": 145,
    "start_time": "2023-08-13T11:26:12.876Z"
   },
   {
    "duration": 10,
    "start_time": "2023-08-13T11:26:13.024Z"
   },
   {
    "duration": 150,
    "start_time": "2023-08-13T11:26:13.035Z"
   },
   {
    "duration": 14,
    "start_time": "2023-08-13T11:26:13.186Z"
   },
   {
    "duration": 10,
    "start_time": "2023-08-13T11:26:13.201Z"
   },
   {
    "duration": 967,
    "start_time": "2023-08-13T11:26:13.213Z"
   },
   {
    "duration": 0,
    "start_time": "2023-08-13T11:26:14.181Z"
   },
   {
    "duration": 0,
    "start_time": "2023-08-13T11:26:14.182Z"
   },
   {
    "duration": 0,
    "start_time": "2023-08-13T11:26:14.183Z"
   },
   {
    "duration": 0,
    "start_time": "2023-08-13T11:26:14.184Z"
   },
   {
    "duration": 0,
    "start_time": "2023-08-13T11:26:14.185Z"
   },
   {
    "duration": 0,
    "start_time": "2023-08-13T11:26:14.186Z"
   },
   {
    "duration": 0,
    "start_time": "2023-08-13T11:26:14.186Z"
   },
   {
    "duration": 0,
    "start_time": "2023-08-13T11:26:14.187Z"
   },
   {
    "duration": 0,
    "start_time": "2023-08-13T11:26:14.188Z"
   },
   {
    "duration": 0,
    "start_time": "2023-08-13T11:26:14.189Z"
   },
   {
    "duration": 0,
    "start_time": "2023-08-13T11:26:14.190Z"
   },
   {
    "duration": 0,
    "start_time": "2023-08-13T11:26:14.190Z"
   },
   {
    "duration": 0,
    "start_time": "2023-08-13T11:26:14.191Z"
   },
   {
    "duration": 0,
    "start_time": "2023-08-13T11:26:14.192Z"
   },
   {
    "duration": 0,
    "start_time": "2023-08-13T11:26:14.192Z"
   },
   {
    "duration": 0,
    "start_time": "2023-08-13T11:26:14.193Z"
   },
   {
    "duration": 0,
    "start_time": "2023-08-13T11:26:14.194Z"
   },
   {
    "duration": 0,
    "start_time": "2023-08-13T11:26:14.195Z"
   },
   {
    "duration": 0,
    "start_time": "2023-08-13T11:26:14.196Z"
   },
   {
    "duration": 0,
    "start_time": "2023-08-13T11:26:14.196Z"
   },
   {
    "duration": 0,
    "start_time": "2023-08-13T11:26:14.197Z"
   },
   {
    "duration": 11,
    "start_time": "2023-08-13T11:26:20.426Z"
   },
   {
    "duration": 3,
    "start_time": "2023-08-13T11:26:57.940Z"
   },
   {
    "duration": 49,
    "start_time": "2023-08-13T11:26:57.945Z"
   },
   {
    "duration": 2,
    "start_time": "2023-08-13T11:26:57.996Z"
   },
   {
    "duration": 25,
    "start_time": "2023-08-13T11:26:57.999Z"
   },
   {
    "duration": 22,
    "start_time": "2023-08-13T11:26:58.026Z"
   },
   {
    "duration": 133,
    "start_time": "2023-08-13T11:26:58.049Z"
   },
   {
    "duration": 24,
    "start_time": "2023-08-13T11:26:58.184Z"
   },
   {
    "duration": 6,
    "start_time": "2023-08-13T11:26:58.210Z"
   },
   {
    "duration": 27,
    "start_time": "2023-08-13T11:26:58.217Z"
   },
   {
    "duration": 153,
    "start_time": "2023-08-13T11:26:58.246Z"
   },
   {
    "duration": 132,
    "start_time": "2023-08-13T11:26:58.402Z"
   },
   {
    "duration": 16,
    "start_time": "2023-08-13T11:26:58.535Z"
   },
   {
    "duration": 6,
    "start_time": "2023-08-13T11:26:58.552Z"
   },
   {
    "duration": 14,
    "start_time": "2023-08-13T11:26:58.559Z"
   },
   {
    "duration": 104,
    "start_time": "2023-08-13T11:26:58.575Z"
   },
   {
    "duration": 6,
    "start_time": "2023-08-13T11:26:58.681Z"
   },
   {
    "duration": 14,
    "start_time": "2023-08-13T11:26:58.688Z"
   },
   {
    "duration": 9,
    "start_time": "2023-08-13T11:26:58.703Z"
   },
   {
    "duration": 16,
    "start_time": "2023-08-13T11:26:58.713Z"
   },
   {
    "duration": 9,
    "start_time": "2023-08-13T11:26:58.730Z"
   },
   {
    "duration": 22,
    "start_time": "2023-08-13T11:26:58.740Z"
   },
   {
    "duration": 24,
    "start_time": "2023-08-13T11:26:58.764Z"
   },
   {
    "duration": 15,
    "start_time": "2023-08-13T11:26:58.790Z"
   },
   {
    "duration": 19,
    "start_time": "2023-08-13T11:26:58.806Z"
   },
   {
    "duration": 16,
    "start_time": "2023-08-13T11:26:58.826Z"
   },
   {
    "duration": 9,
    "start_time": "2023-08-13T11:26:58.843Z"
   },
   {
    "duration": 21,
    "start_time": "2023-08-13T11:26:58.854Z"
   },
   {
    "duration": 110,
    "start_time": "2023-08-13T11:26:58.876Z"
   },
   {
    "duration": 12,
    "start_time": "2023-08-13T11:26:58.988Z"
   },
   {
    "duration": 30,
    "start_time": "2023-08-13T11:26:59.001Z"
   },
   {
    "duration": 197,
    "start_time": "2023-08-13T11:26:59.033Z"
   },
   {
    "duration": 12,
    "start_time": "2023-08-13T11:26:59.231Z"
   },
   {
    "duration": 143,
    "start_time": "2023-08-13T11:26:59.244Z"
   },
   {
    "duration": 13,
    "start_time": "2023-08-13T11:26:59.389Z"
   },
   {
    "duration": 155,
    "start_time": "2023-08-13T11:26:59.404Z"
   },
   {
    "duration": 15,
    "start_time": "2023-08-13T11:27:03.344Z"
   },
   {
    "duration": 11,
    "start_time": "2023-08-13T11:27:33.446Z"
   },
   {
    "duration": 10,
    "start_time": "2023-08-13T11:28:34.137Z"
   },
   {
    "duration": 10,
    "start_time": "2023-08-13T11:28:39.870Z"
   },
   {
    "duration": 24,
    "start_time": "2023-08-13T11:28:45.380Z"
   },
   {
    "duration": 13,
    "start_time": "2023-08-13T11:28:47.646Z"
   },
   {
    "duration": 15,
    "start_time": "2023-08-13T11:28:59.948Z"
   },
   {
    "duration": 11,
    "start_time": "2023-08-13T11:29:03.004Z"
   },
   {
    "duration": 12,
    "start_time": "2023-08-13T11:29:07.304Z"
   },
   {
    "duration": 10,
    "start_time": "2023-08-13T11:29:10.822Z"
   },
   {
    "duration": 2,
    "start_time": "2023-08-13T11:29:42.863Z"
   },
   {
    "duration": 29,
    "start_time": "2023-08-13T11:29:42.868Z"
   },
   {
    "duration": 2,
    "start_time": "2023-08-13T11:29:42.898Z"
   },
   {
    "duration": 14,
    "start_time": "2023-08-13T11:29:42.902Z"
   },
   {
    "duration": 147,
    "start_time": "2023-08-13T11:29:42.918Z"
   },
   {
    "duration": 160,
    "start_time": "2023-08-13T11:29:43.066Z"
   },
   {
    "duration": 26,
    "start_time": "2023-08-13T11:29:43.227Z"
   },
   {
    "duration": 12,
    "start_time": "2023-08-13T11:29:43.255Z"
   },
   {
    "duration": 16,
    "start_time": "2023-08-13T11:29:43.269Z"
   },
   {
    "duration": 122,
    "start_time": "2023-08-13T11:29:43.286Z"
   },
   {
    "duration": 136,
    "start_time": "2023-08-13T11:29:43.410Z"
   },
   {
    "duration": 15,
    "start_time": "2023-08-13T11:29:43.547Z"
   },
   {
    "duration": 6,
    "start_time": "2023-08-13T11:29:43.563Z"
   },
   {
    "duration": 14,
    "start_time": "2023-08-13T11:29:43.570Z"
   },
   {
    "duration": 79,
    "start_time": "2023-08-13T11:29:43.585Z"
   },
   {
    "duration": 6,
    "start_time": "2023-08-13T11:29:43.666Z"
   },
   {
    "duration": 10,
    "start_time": "2023-08-13T11:29:43.674Z"
   },
   {
    "duration": 16,
    "start_time": "2023-08-13T11:29:43.685Z"
   },
   {
    "duration": 13,
    "start_time": "2023-08-13T11:29:43.703Z"
   },
   {
    "duration": 19,
    "start_time": "2023-08-13T11:29:43.717Z"
   },
   {
    "duration": 15,
    "start_time": "2023-08-13T11:29:43.737Z"
   },
   {
    "duration": 8,
    "start_time": "2023-08-13T11:29:43.753Z"
   },
   {
    "duration": 21,
    "start_time": "2023-08-13T11:29:43.763Z"
   },
   {
    "duration": 8,
    "start_time": "2023-08-13T11:29:43.786Z"
   },
   {
    "duration": 7,
    "start_time": "2023-08-13T11:29:43.796Z"
   },
   {
    "duration": 5,
    "start_time": "2023-08-13T11:29:43.805Z"
   },
   {
    "duration": 12,
    "start_time": "2023-08-13T11:29:43.811Z"
   },
   {
    "duration": 121,
    "start_time": "2023-08-13T11:29:43.824Z"
   },
   {
    "duration": 4,
    "start_time": "2023-08-13T11:29:43.949Z"
   },
   {
    "duration": 11,
    "start_time": "2023-08-13T11:29:43.955Z"
   },
   {
    "duration": 217,
    "start_time": "2023-08-13T11:29:43.967Z"
   },
   {
    "duration": 18,
    "start_time": "2023-08-13T11:29:44.186Z"
   },
   {
    "duration": 140,
    "start_time": "2023-08-13T11:29:44.205Z"
   },
   {
    "duration": 12,
    "start_time": "2023-08-13T11:29:44.347Z"
   },
   {
    "duration": 157,
    "start_time": "2023-08-13T11:29:44.360Z"
   },
   {
    "duration": 15,
    "start_time": "2023-08-13T11:29:44.519Z"
   },
   {
    "duration": 11,
    "start_time": "2023-08-13T11:29:44.535Z"
   },
   {
    "duration": 9,
    "start_time": "2023-08-13T11:29:44.547Z"
   },
   {
    "duration": 6,
    "start_time": "2023-08-13T11:29:44.557Z"
   },
   {
    "duration": 149,
    "start_time": "2023-08-13T11:29:44.564Z"
   },
   {
    "duration": 144,
    "start_time": "2023-08-13T11:29:44.715Z"
   },
   {
    "duration": 130,
    "start_time": "2023-08-13T11:29:44.861Z"
   },
   {
    "duration": 152,
    "start_time": "2023-08-13T11:29:44.993Z"
   },
   {
    "duration": 18,
    "start_time": "2023-08-13T11:29:45.146Z"
   },
   {
    "duration": 35,
    "start_time": "2023-08-13T11:29:45.165Z"
   },
   {
    "duration": 22,
    "start_time": "2023-08-13T11:29:45.202Z"
   },
   {
    "duration": 8267,
    "start_time": "2023-08-13T11:29:45.225Z"
   },
   {
    "duration": 13,
    "start_time": "2023-08-13T11:29:53.494Z"
   },
   {
    "duration": 36,
    "start_time": "2023-08-13T11:29:53.508Z"
   },
   {
    "duration": 12,
    "start_time": "2023-08-13T11:29:53.546Z"
   },
   {
    "duration": 11,
    "start_time": "2023-08-13T11:29:53.559Z"
   },
   {
    "duration": 15,
    "start_time": "2023-08-13T11:29:53.572Z"
   },
   {
    "duration": 22,
    "start_time": "2023-08-13T11:29:53.589Z"
   },
   {
    "duration": 29,
    "start_time": "2023-08-13T11:29:53.613Z"
   },
   {
    "duration": 21,
    "start_time": "2023-08-13T11:29:53.643Z"
   },
   {
    "duration": 275,
    "start_time": "2023-08-13T11:29:53.665Z"
   },
   {
    "duration": 61,
    "start_time": "2023-08-13T11:29:53.941Z"
   },
   {
    "duration": 16,
    "start_time": "2023-08-13T11:29:54.003Z"
   },
   {
    "duration": 21,
    "start_time": "2023-08-13T11:29:54.020Z"
   },
   {
    "duration": 18,
    "start_time": "2023-08-13T11:30:14.658Z"
   },
   {
    "duration": 19,
    "start_time": "2023-08-13T11:30:36.438Z"
   },
   {
    "duration": 23,
    "start_time": "2023-08-13T11:32:08.502Z"
   },
   {
    "duration": 1002,
    "start_time": "2023-08-13T11:35:52.886Z"
   },
   {
    "duration": 9,
    "start_time": "2023-08-13T11:36:06.756Z"
   },
   {
    "duration": 3,
    "start_time": "2023-08-13T11:36:12.317Z"
   },
   {
    "duration": 34,
    "start_time": "2023-08-13T11:36:12.324Z"
   },
   {
    "duration": 3,
    "start_time": "2023-08-13T11:36:12.360Z"
   },
   {
    "duration": 11,
    "start_time": "2023-08-13T11:36:12.364Z"
   },
   {
    "duration": 17,
    "start_time": "2023-08-13T11:36:12.377Z"
   },
   {
    "duration": 133,
    "start_time": "2023-08-13T11:36:12.395Z"
   },
   {
    "duration": 24,
    "start_time": "2023-08-13T11:36:12.530Z"
   },
   {
    "duration": 6,
    "start_time": "2023-08-13T11:36:12.556Z"
   },
   {
    "duration": 12,
    "start_time": "2023-08-13T11:36:12.564Z"
   },
   {
    "duration": 276,
    "start_time": "2023-08-13T11:36:12.578Z"
   },
   {
    "duration": 136,
    "start_time": "2023-08-13T11:36:12.857Z"
   },
   {
    "duration": 16,
    "start_time": "2023-08-13T11:36:12.994Z"
   },
   {
    "duration": 6,
    "start_time": "2023-08-13T11:36:13.012Z"
   },
   {
    "duration": 28,
    "start_time": "2023-08-13T11:36:13.020Z"
   },
   {
    "duration": 76,
    "start_time": "2023-08-13T11:36:13.050Z"
   },
   {
    "duration": 7,
    "start_time": "2023-08-13T11:36:13.127Z"
   },
   {
    "duration": 10,
    "start_time": "2023-08-13T11:36:13.135Z"
   },
   {
    "duration": 8,
    "start_time": "2023-08-13T11:36:13.146Z"
   },
   {
    "duration": 8,
    "start_time": "2023-08-13T11:36:13.155Z"
   },
   {
    "duration": 8,
    "start_time": "2023-08-13T11:36:13.164Z"
   },
   {
    "duration": 34,
    "start_time": "2023-08-13T11:36:13.174Z"
   },
   {
    "duration": 6,
    "start_time": "2023-08-13T11:36:13.210Z"
   },
   {
    "duration": 7,
    "start_time": "2023-08-13T11:36:13.217Z"
   },
   {
    "duration": 10,
    "start_time": "2023-08-13T11:36:13.226Z"
   },
   {
    "duration": 6,
    "start_time": "2023-08-13T11:36:13.238Z"
   },
   {
    "duration": 8,
    "start_time": "2023-08-13T11:36:13.246Z"
   },
   {
    "duration": 10,
    "start_time": "2023-08-13T11:36:13.256Z"
   },
   {
    "duration": 150,
    "start_time": "2023-08-13T11:36:13.268Z"
   },
   {
    "duration": 5,
    "start_time": "2023-08-13T11:36:13.421Z"
   },
   {
    "duration": 7,
    "start_time": "2023-08-13T11:36:13.427Z"
   },
   {
    "duration": 223,
    "start_time": "2023-08-13T11:36:13.436Z"
   },
   {
    "duration": 12,
    "start_time": "2023-08-13T11:36:13.661Z"
   },
   {
    "duration": 157,
    "start_time": "2023-08-13T11:36:13.674Z"
   },
   {
    "duration": 11,
    "start_time": "2023-08-13T11:36:13.833Z"
   },
   {
    "duration": 159,
    "start_time": "2023-08-13T11:36:13.845Z"
   },
   {
    "duration": 14,
    "start_time": "2023-08-13T11:36:14.006Z"
   },
   {
    "duration": 12,
    "start_time": "2023-08-13T11:36:14.021Z"
   },
   {
    "duration": 21,
    "start_time": "2023-08-13T11:36:14.035Z"
   },
   {
    "duration": 12,
    "start_time": "2023-08-13T11:36:14.057Z"
   },
   {
    "duration": 129,
    "start_time": "2023-08-13T11:36:14.070Z"
   },
   {
    "duration": 141,
    "start_time": "2023-08-13T11:36:14.201Z"
   },
   {
    "duration": 144,
    "start_time": "2023-08-13T11:36:14.343Z"
   },
   {
    "duration": 152,
    "start_time": "2023-08-13T11:36:14.488Z"
   },
   {
    "duration": 17,
    "start_time": "2023-08-13T11:36:14.642Z"
   },
   {
    "duration": 51,
    "start_time": "2023-08-13T11:36:14.661Z"
   },
   {
    "duration": 70,
    "start_time": "2023-08-13T11:36:14.714Z"
   },
   {
    "duration": 8060,
    "start_time": "2023-08-13T11:36:22.581Z"
   },
   {
    "duration": 53,
    "start_time": "2023-08-13T11:36:30.654Z"
   },
   {
    "duration": 3,
    "start_time": "2023-08-13T11:36:30.817Z"
   },
   {
    "duration": 84,
    "start_time": "2023-08-13T11:36:30.823Z"
   },
   {
    "duration": 33,
    "start_time": "2023-08-13T11:36:30.909Z"
   },
   {
    "duration": 56,
    "start_time": "2023-08-13T11:36:30.943Z"
   },
   {
    "duration": 118,
    "start_time": "2023-08-13T11:36:31.001Z"
   },
   {
    "duration": 232,
    "start_time": "2023-08-13T11:36:31.121Z"
   },
   {
    "duration": 28,
    "start_time": "2023-08-13T11:36:31.354Z"
   },
   {
    "duration": 14,
    "start_time": "2023-08-13T11:36:31.384Z"
   },
   {
    "duration": 71,
    "start_time": "2023-08-13T11:36:31.400Z"
   },
   {
    "duration": 223,
    "start_time": "2023-08-13T11:36:31.473Z"
   },
   {
    "duration": 141,
    "start_time": "2023-08-13T11:36:31.699Z"
   },
   {
    "duration": 16,
    "start_time": "2023-08-13T11:36:31.841Z"
   },
   {
    "duration": 53,
    "start_time": "2023-08-13T11:36:31.858Z"
   },
   {
    "duration": 67,
    "start_time": "2023-08-13T11:36:31.912Z"
   },
   {
    "duration": 96,
    "start_time": "2023-08-13T11:36:31.981Z"
   },
   {
    "duration": 7,
    "start_time": "2023-08-13T11:36:32.079Z"
   },
   {
    "duration": 20,
    "start_time": "2023-08-13T11:36:32.087Z"
   },
   {
    "duration": 9,
    "start_time": "2023-08-13T11:36:32.109Z"
   },
   {
    "duration": 15,
    "start_time": "2023-08-13T11:36:32.119Z"
   },
   {
    "duration": 18,
    "start_time": "2023-08-13T11:36:32.135Z"
   },
   {
    "duration": 32,
    "start_time": "2023-08-13T11:36:32.155Z"
   },
   {
    "duration": 8,
    "start_time": "2023-08-13T11:36:32.188Z"
   },
   {
    "duration": 16,
    "start_time": "2023-08-13T11:36:32.197Z"
   },
   {
    "duration": 8,
    "start_time": "2023-08-13T11:36:32.215Z"
   },
   {
    "duration": 7,
    "start_time": "2023-08-13T11:36:32.224Z"
   },
   {
    "duration": 35,
    "start_time": "2023-08-13T11:36:32.232Z"
   },
   {
    "duration": 29,
    "start_time": "2023-08-13T11:36:32.269Z"
   },
   {
    "duration": 147,
    "start_time": "2023-08-13T11:36:32.300Z"
   },
   {
    "duration": 4,
    "start_time": "2023-08-13T11:36:32.452Z"
   },
   {
    "duration": 25,
    "start_time": "2023-08-13T11:36:32.458Z"
   },
   {
    "duration": 269,
    "start_time": "2023-08-13T11:36:32.485Z"
   },
   {
    "duration": 12,
    "start_time": "2023-08-13T11:36:32.756Z"
   },
   {
    "duration": 167,
    "start_time": "2023-08-13T11:36:32.770Z"
   },
   {
    "duration": 11,
    "start_time": "2023-08-13T11:36:32.938Z"
   },
   {
    "duration": 169,
    "start_time": "2023-08-13T11:36:32.951Z"
   },
   {
    "duration": 14,
    "start_time": "2023-08-13T11:36:33.121Z"
   },
   {
    "duration": 18,
    "start_time": "2023-08-13T11:36:33.137Z"
   },
   {
    "duration": 19,
    "start_time": "2023-08-13T11:36:33.156Z"
   },
   {
    "duration": 7,
    "start_time": "2023-08-13T11:36:33.177Z"
   },
   {
    "duration": 295,
    "start_time": "2023-08-13T11:36:33.186Z"
   },
   {
    "duration": 152,
    "start_time": "2023-08-13T11:36:33.482Z"
   },
   {
    "duration": 139,
    "start_time": "2023-08-13T11:36:33.636Z"
   },
   {
    "duration": 152,
    "start_time": "2023-08-13T11:36:33.776Z"
   },
   {
    "duration": 17,
    "start_time": "2023-08-13T11:36:33.930Z"
   },
   {
    "duration": 19,
    "start_time": "2023-08-13T11:36:33.949Z"
   },
   {
    "duration": 40,
    "start_time": "2023-08-13T11:36:33.969Z"
   },
   {
    "duration": 10089,
    "start_time": "2023-08-13T11:36:34.010Z"
   },
   {
    "duration": 9,
    "start_time": "2023-08-13T11:36:44.101Z"
   },
   {
    "duration": 10,
    "start_time": "2023-08-13T11:36:44.111Z"
   },
   {
    "duration": 25,
    "start_time": "2023-08-13T11:36:44.123Z"
   },
   {
    "duration": 5,
    "start_time": "2023-08-13T11:36:44.150Z"
   },
   {
    "duration": 47,
    "start_time": "2023-08-13T11:36:44.157Z"
   },
   {
    "duration": 21,
    "start_time": "2023-08-13T11:36:44.206Z"
   },
   {
    "duration": 7,
    "start_time": "2023-08-13T11:36:44.228Z"
   },
   {
    "duration": 6,
    "start_time": "2023-08-13T11:36:44.236Z"
   },
   {
    "duration": 458,
    "start_time": "2023-08-13T11:36:44.243Z"
   },
   {
    "duration": 4,
    "start_time": "2023-08-13T11:36:44.703Z"
   },
   {
    "duration": 8,
    "start_time": "2023-08-13T11:36:44.709Z"
   },
   {
    "duration": 7,
    "start_time": "2023-08-13T11:36:44.719Z"
   },
   {
    "duration": 5,
    "start_time": "2023-08-13T11:37:01.566Z"
   },
   {
    "duration": 5,
    "start_time": "2023-08-13T11:37:08.337Z"
   },
   {
    "duration": 278,
    "start_time": "2023-08-13T11:40:26.457Z"
   },
   {
    "duration": 261,
    "start_time": "2023-08-13T11:40:43.937Z"
   },
   {
    "duration": 3,
    "start_time": "2023-08-13T11:40:51.141Z"
   },
   {
    "duration": 29,
    "start_time": "2023-08-13T11:40:51.148Z"
   },
   {
    "duration": 3,
    "start_time": "2023-08-13T11:40:51.179Z"
   },
   {
    "duration": 13,
    "start_time": "2023-08-13T11:40:51.183Z"
   },
   {
    "duration": 26,
    "start_time": "2023-08-13T11:40:51.198Z"
   },
   {
    "duration": 149,
    "start_time": "2023-08-13T11:40:51.226Z"
   },
   {
    "duration": 26,
    "start_time": "2023-08-13T11:40:51.376Z"
   },
   {
    "duration": 9,
    "start_time": "2023-08-13T11:40:51.404Z"
   },
   {
    "duration": 26,
    "start_time": "2023-08-13T11:40:51.415Z"
   },
   {
    "duration": 149,
    "start_time": "2023-08-13T11:40:51.443Z"
   },
   {
    "duration": 174,
    "start_time": "2023-08-13T11:40:51.594Z"
   },
   {
    "duration": 16,
    "start_time": "2023-08-13T11:40:51.770Z"
   },
   {
    "duration": 8,
    "start_time": "2023-08-13T11:40:51.788Z"
   },
   {
    "duration": 32,
    "start_time": "2023-08-13T11:40:51.799Z"
   },
   {
    "duration": 123,
    "start_time": "2023-08-13T11:40:51.833Z"
   },
   {
    "duration": 6,
    "start_time": "2023-08-13T11:40:51.958Z"
   },
   {
    "duration": 18,
    "start_time": "2023-08-13T11:40:51.965Z"
   },
   {
    "duration": 18,
    "start_time": "2023-08-13T11:40:51.984Z"
   },
   {
    "duration": 46,
    "start_time": "2023-08-13T11:40:52.003Z"
   },
   {
    "duration": 16,
    "start_time": "2023-08-13T11:40:52.050Z"
   },
   {
    "duration": 27,
    "start_time": "2023-08-13T11:40:52.067Z"
   },
   {
    "duration": 25,
    "start_time": "2023-08-13T11:40:52.096Z"
   },
   {
    "duration": 17,
    "start_time": "2023-08-13T11:40:52.122Z"
   },
   {
    "duration": 8,
    "start_time": "2023-08-13T11:40:52.143Z"
   },
   {
    "duration": 6,
    "start_time": "2023-08-13T11:40:52.152Z"
   },
   {
    "duration": 13,
    "start_time": "2023-08-13T11:40:52.160Z"
   },
   {
    "duration": 17,
    "start_time": "2023-08-13T11:40:52.174Z"
   },
   {
    "duration": 150,
    "start_time": "2023-08-13T11:40:52.192Z"
   },
   {
    "duration": 5,
    "start_time": "2023-08-13T11:40:52.344Z"
   },
   {
    "duration": 84,
    "start_time": "2023-08-13T11:40:52.351Z"
   },
   {
    "duration": 238,
    "start_time": "2023-08-13T11:40:52.437Z"
   },
   {
    "duration": 11,
    "start_time": "2023-08-13T11:40:52.676Z"
   },
   {
    "duration": 167,
    "start_time": "2023-08-13T11:40:52.689Z"
   },
   {
    "duration": 11,
    "start_time": "2023-08-13T11:40:52.858Z"
   },
   {
    "duration": 184,
    "start_time": "2023-08-13T11:40:52.871Z"
   },
   {
    "duration": 16,
    "start_time": "2023-08-13T11:40:53.056Z"
   },
   {
    "duration": 11,
    "start_time": "2023-08-13T11:40:53.073Z"
   },
   {
    "duration": 24,
    "start_time": "2023-08-13T11:40:53.085Z"
   },
   {
    "duration": 20,
    "start_time": "2023-08-13T11:40:53.110Z"
   },
   {
    "duration": 149,
    "start_time": "2023-08-13T11:40:53.131Z"
   },
   {
    "duration": 160,
    "start_time": "2023-08-13T11:40:53.281Z"
   },
   {
    "duration": 145,
    "start_time": "2023-08-13T11:40:53.443Z"
   },
   {
    "duration": 160,
    "start_time": "2023-08-13T11:40:53.590Z"
   },
   {
    "duration": 18,
    "start_time": "2023-08-13T11:40:53.751Z"
   },
   {
    "duration": 35,
    "start_time": "2023-08-13T11:40:53.770Z"
   },
   {
    "duration": 25,
    "start_time": "2023-08-13T11:40:53.807Z"
   },
   {
    "duration": 10616,
    "start_time": "2023-08-13T11:40:53.833Z"
   },
   {
    "duration": 4,
    "start_time": "2023-08-13T11:41:04.450Z"
   },
   {
    "duration": 46,
    "start_time": "2023-08-13T11:41:04.456Z"
   },
   {
    "duration": 18,
    "start_time": "2023-08-13T11:41:04.504Z"
   },
   {
    "duration": 18,
    "start_time": "2023-08-13T11:41:04.523Z"
   },
   {
    "duration": 18,
    "start_time": "2023-08-13T11:41:04.542Z"
   },
   {
    "duration": 73,
    "start_time": "2023-08-13T11:41:04.561Z"
   },
   {
    "duration": 13,
    "start_time": "2023-08-13T11:41:04.636Z"
   },
   {
    "duration": 15,
    "start_time": "2023-08-13T11:41:04.650Z"
   },
   {
    "duration": 198,
    "start_time": "2023-08-13T11:41:04.667Z"
   },
   {
    "duration": 5,
    "start_time": "2023-08-13T11:41:04.867Z"
   },
   {
    "duration": 15,
    "start_time": "2023-08-13T11:41:04.873Z"
   },
   {
    "duration": 11,
    "start_time": "2023-08-13T11:41:04.889Z"
   },
   {
    "duration": 1104,
    "start_time": "2023-08-13T11:41:22.362Z"
   },
   {
    "duration": 5,
    "start_time": "2023-08-13T11:41:39.950Z"
   },
   {
    "duration": 3,
    "start_time": "2023-08-13T11:41:54.661Z"
   },
   {
    "duration": 304,
    "start_time": "2023-08-13T11:42:07.937Z"
   },
   {
    "duration": 3,
    "start_time": "2023-08-13T11:42:11.459Z"
   },
   {
    "duration": 32,
    "start_time": "2023-08-13T11:42:11.466Z"
   },
   {
    "duration": 3,
    "start_time": "2023-08-13T11:42:11.501Z"
   },
   {
    "duration": 30,
    "start_time": "2023-08-13T11:42:11.505Z"
   },
   {
    "duration": 12,
    "start_time": "2023-08-13T11:42:11.538Z"
   },
   {
    "duration": 191,
    "start_time": "2023-08-13T11:42:11.551Z"
   },
   {
    "duration": 25,
    "start_time": "2023-08-13T11:42:11.744Z"
   },
   {
    "duration": 8,
    "start_time": "2023-08-13T11:42:11.770Z"
   },
   {
    "duration": 19,
    "start_time": "2023-08-13T11:42:11.780Z"
   },
   {
    "duration": 153,
    "start_time": "2023-08-13T11:42:11.804Z"
   },
   {
    "duration": 158,
    "start_time": "2023-08-13T11:42:11.960Z"
   },
   {
    "duration": 16,
    "start_time": "2023-08-13T11:42:12.120Z"
   },
   {
    "duration": 6,
    "start_time": "2023-08-13T11:42:12.138Z"
   },
   {
    "duration": 11,
    "start_time": "2023-08-13T11:42:12.146Z"
   },
   {
    "duration": 93,
    "start_time": "2023-08-13T11:42:12.158Z"
   },
   {
    "duration": 6,
    "start_time": "2023-08-13T11:42:12.253Z"
   },
   {
    "duration": 13,
    "start_time": "2023-08-13T11:42:12.261Z"
   },
   {
    "duration": 8,
    "start_time": "2023-08-13T11:42:12.276Z"
   },
   {
    "duration": 19,
    "start_time": "2023-08-13T11:42:12.286Z"
   },
   {
    "duration": 19,
    "start_time": "2023-08-13T11:42:12.307Z"
   },
   {
    "duration": 12,
    "start_time": "2023-08-13T11:42:12.328Z"
   },
   {
    "duration": 7,
    "start_time": "2023-08-13T11:42:12.342Z"
   },
   {
    "duration": 6,
    "start_time": "2023-08-13T11:42:12.350Z"
   },
   {
    "duration": 13,
    "start_time": "2023-08-13T11:42:12.357Z"
   },
   {
    "duration": 13,
    "start_time": "2023-08-13T11:42:12.371Z"
   },
   {
    "duration": 15,
    "start_time": "2023-08-13T11:42:12.385Z"
   },
   {
    "duration": 24,
    "start_time": "2023-08-13T11:42:12.402Z"
   },
   {
    "duration": 129,
    "start_time": "2023-08-13T11:42:12.428Z"
   },
   {
    "duration": 4,
    "start_time": "2023-08-13T11:42:12.561Z"
   },
   {
    "duration": 7,
    "start_time": "2023-08-13T11:42:12.567Z"
   },
   {
    "duration": 260,
    "start_time": "2023-08-13T11:42:12.576Z"
   },
   {
    "duration": 12,
    "start_time": "2023-08-13T11:42:12.838Z"
   },
   {
    "duration": 169,
    "start_time": "2023-08-13T11:42:12.852Z"
   },
   {
    "duration": 13,
    "start_time": "2023-08-13T11:42:13.022Z"
   },
   {
    "duration": 184,
    "start_time": "2023-08-13T11:42:13.036Z"
   },
   {
    "duration": 16,
    "start_time": "2023-08-13T11:42:13.222Z"
   },
   {
    "duration": 13,
    "start_time": "2023-08-13T11:42:13.239Z"
   },
   {
    "duration": 9,
    "start_time": "2023-08-13T11:42:13.254Z"
   },
   {
    "duration": 11,
    "start_time": "2023-08-13T11:42:13.264Z"
   },
   {
    "duration": 168,
    "start_time": "2023-08-13T11:42:13.277Z"
   },
   {
    "duration": 175,
    "start_time": "2023-08-13T11:42:13.446Z"
   },
   {
    "duration": 163,
    "start_time": "2023-08-13T11:42:13.622Z"
   },
   {
    "duration": 173,
    "start_time": "2023-08-13T11:42:13.787Z"
   },
   {
    "duration": 19,
    "start_time": "2023-08-13T11:42:13.962Z"
   },
   {
    "duration": 44,
    "start_time": "2023-08-13T11:42:13.982Z"
   },
   {
    "duration": 26,
    "start_time": "2023-08-13T11:42:14.027Z"
   },
   {
    "duration": 8661,
    "start_time": "2023-08-13T11:42:14.055Z"
   },
   {
    "duration": 5,
    "start_time": "2023-08-13T11:42:22.718Z"
   },
   {
    "duration": 29,
    "start_time": "2023-08-13T11:42:22.724Z"
   },
   {
    "duration": 22,
    "start_time": "2023-08-13T11:42:22.754Z"
   },
   {
    "duration": 29,
    "start_time": "2023-08-13T11:42:22.777Z"
   },
   {
    "duration": 15,
    "start_time": "2023-08-13T11:42:22.810Z"
   },
   {
    "duration": 21,
    "start_time": "2023-08-13T11:42:22.827Z"
   },
   {
    "duration": 66,
    "start_time": "2023-08-13T11:42:22.849Z"
   },
   {
    "duration": 8,
    "start_time": "2023-08-13T11:42:22.916Z"
   },
   {
    "duration": 222,
    "start_time": "2023-08-13T11:42:22.925Z"
   },
   {
    "duration": 5,
    "start_time": "2023-08-13T11:42:23.149Z"
   },
   {
    "duration": 8,
    "start_time": "2023-08-13T11:42:23.155Z"
   },
   {
    "duration": 36,
    "start_time": "2023-08-13T11:42:23.165Z"
   },
   {
    "duration": 271,
    "start_time": "2023-08-13T11:47:20.713Z"
   },
   {
    "duration": 4,
    "start_time": "2023-08-13T11:47:35.492Z"
   },
   {
    "duration": 47,
    "start_time": "2023-08-13T11:47:35.503Z"
   },
   {
    "duration": 3,
    "start_time": "2023-08-13T11:47:35.552Z"
   },
   {
    "duration": 10,
    "start_time": "2023-08-13T11:47:35.556Z"
   },
   {
    "duration": 9,
    "start_time": "2023-08-13T11:47:35.568Z"
   },
   {
    "duration": 147,
    "start_time": "2023-08-13T11:47:35.579Z"
   },
   {
    "duration": 24,
    "start_time": "2023-08-13T11:47:35.728Z"
   },
   {
    "duration": 7,
    "start_time": "2023-08-13T11:47:35.754Z"
   },
   {
    "duration": 15,
    "start_time": "2023-08-13T11:47:35.762Z"
   },
   {
    "duration": 151,
    "start_time": "2023-08-13T11:47:35.779Z"
   },
   {
    "duration": 175,
    "start_time": "2023-08-13T11:47:35.933Z"
   },
   {
    "duration": 25,
    "start_time": "2023-08-13T11:47:36.110Z"
   },
   {
    "duration": 14,
    "start_time": "2023-08-13T11:47:36.137Z"
   },
   {
    "duration": 40,
    "start_time": "2023-08-13T11:47:36.152Z"
   },
   {
    "duration": 90,
    "start_time": "2023-08-13T11:47:36.193Z"
   },
   {
    "duration": 6,
    "start_time": "2023-08-13T11:47:36.285Z"
   },
   {
    "duration": 13,
    "start_time": "2023-08-13T11:47:36.292Z"
   },
   {
    "duration": 7,
    "start_time": "2023-08-13T11:47:36.306Z"
   },
   {
    "duration": 9,
    "start_time": "2023-08-13T11:47:36.315Z"
   },
   {
    "duration": 10,
    "start_time": "2023-08-13T11:47:36.326Z"
   },
   {
    "duration": 24,
    "start_time": "2023-08-13T11:47:36.337Z"
   },
   {
    "duration": 8,
    "start_time": "2023-08-13T11:47:36.362Z"
   },
   {
    "duration": 6,
    "start_time": "2023-08-13T11:47:36.371Z"
   },
   {
    "duration": 34,
    "start_time": "2023-08-13T11:47:36.378Z"
   },
   {
    "duration": 9,
    "start_time": "2023-08-13T11:47:36.414Z"
   },
   {
    "duration": 12,
    "start_time": "2023-08-13T11:47:36.424Z"
   },
   {
    "duration": 7,
    "start_time": "2023-08-13T11:47:36.438Z"
   },
   {
    "duration": 141,
    "start_time": "2023-08-13T11:47:36.447Z"
   },
   {
    "duration": 12,
    "start_time": "2023-08-13T11:47:36.591Z"
   },
   {
    "duration": 16,
    "start_time": "2023-08-13T11:47:36.604Z"
   },
   {
    "duration": 404,
    "start_time": "2023-08-13T11:47:36.621Z"
   },
   {
    "duration": 11,
    "start_time": "2023-08-13T11:47:37.026Z"
   },
   {
    "duration": 141,
    "start_time": "2023-08-13T11:47:37.038Z"
   },
   {
    "duration": 18,
    "start_time": "2023-08-13T11:47:37.182Z"
   },
   {
    "duration": 157,
    "start_time": "2023-08-13T11:47:37.202Z"
   },
   {
    "duration": 14,
    "start_time": "2023-08-13T11:47:37.361Z"
   },
   {
    "duration": 10,
    "start_time": "2023-08-13T11:47:37.376Z"
   },
   {
    "duration": 30,
    "start_time": "2023-08-13T11:47:37.399Z"
   },
   {
    "duration": 40,
    "start_time": "2023-08-13T11:47:37.431Z"
   },
   {
    "duration": 148,
    "start_time": "2023-08-13T11:47:37.473Z"
   },
   {
    "duration": 135,
    "start_time": "2023-08-13T11:47:37.623Z"
   },
   {
    "duration": 143,
    "start_time": "2023-08-13T11:47:37.759Z"
   },
   {
    "duration": 153,
    "start_time": "2023-08-13T11:47:37.904Z"
   },
   {
    "duration": 19,
    "start_time": "2023-08-13T11:47:38.059Z"
   },
   {
    "duration": 38,
    "start_time": "2023-08-13T11:47:38.080Z"
   },
   {
    "duration": 24,
    "start_time": "2023-08-13T11:47:38.122Z"
   },
   {
    "duration": 7919,
    "start_time": "2023-08-13T11:47:38.148Z"
   },
   {
    "duration": 4,
    "start_time": "2023-08-13T11:47:46.068Z"
   },
   {
    "duration": 11,
    "start_time": "2023-08-13T11:47:46.073Z"
   },
   {
    "duration": 5,
    "start_time": "2023-08-13T11:47:46.086Z"
   },
   {
    "duration": 10,
    "start_time": "2023-08-13T11:47:46.092Z"
   },
   {
    "duration": 8,
    "start_time": "2023-08-13T11:47:46.104Z"
   },
   {
    "duration": 14,
    "start_time": "2023-08-13T11:47:46.113Z"
   },
   {
    "duration": 5,
    "start_time": "2023-08-13T11:47:46.128Z"
   },
   {
    "duration": 5,
    "start_time": "2023-08-13T11:47:46.134Z"
   },
   {
    "duration": 245,
    "start_time": "2023-08-13T11:47:46.140Z"
   },
   {
    "duration": 6,
    "start_time": "2023-08-13T11:47:46.386Z"
   },
   {
    "duration": 24,
    "start_time": "2023-08-13T11:47:46.399Z"
   },
   {
    "duration": 18,
    "start_time": "2023-08-13T11:47:46.425Z"
   },
   {
    "duration": 60,
    "start_time": "2023-08-13T11:49:08.095Z"
   },
   {
    "duration": 58,
    "start_time": "2023-08-13T11:49:21.366Z"
   },
   {
    "duration": 70,
    "start_time": "2023-08-13T11:49:31.035Z"
   },
   {
    "duration": 6973,
    "start_time": "2023-08-13T11:49:44.147Z"
   },
   {
    "duration": 5,
    "start_time": "2023-08-13T11:49:55.953Z"
   },
   {
    "duration": 3,
    "start_time": "2023-08-13T11:50:09.992Z"
   },
   {
    "duration": 83,
    "start_time": "2023-08-13T11:50:09.999Z"
   },
   {
    "duration": 27,
    "start_time": "2023-08-13T11:50:10.084Z"
   },
   {
    "duration": 21,
    "start_time": "2023-08-13T11:50:10.112Z"
   },
   {
    "duration": 30,
    "start_time": "2023-08-13T11:50:10.135Z"
   },
   {
    "duration": 160,
    "start_time": "2023-08-13T11:50:10.166Z"
   },
   {
    "duration": 27,
    "start_time": "2023-08-13T11:50:10.327Z"
   },
   {
    "duration": 8,
    "start_time": "2023-08-13T11:50:10.355Z"
   },
   {
    "duration": 16,
    "start_time": "2023-08-13T11:50:10.365Z"
   },
   {
    "duration": 147,
    "start_time": "2023-08-13T11:50:10.383Z"
   },
   {
    "duration": 143,
    "start_time": "2023-08-13T11:50:10.532Z"
   },
   {
    "duration": 17,
    "start_time": "2023-08-13T11:50:10.677Z"
   },
   {
    "duration": 7,
    "start_time": "2023-08-13T11:50:10.696Z"
   },
   {
    "duration": 11,
    "start_time": "2023-08-13T11:50:10.704Z"
   },
   {
    "duration": 94,
    "start_time": "2023-08-13T11:50:10.717Z"
   },
   {
    "duration": 7,
    "start_time": "2023-08-13T11:50:10.813Z"
   },
   {
    "duration": 9,
    "start_time": "2023-08-13T11:50:10.821Z"
   },
   {
    "duration": 10,
    "start_time": "2023-08-13T11:50:10.831Z"
   },
   {
    "duration": 19,
    "start_time": "2023-08-13T11:50:10.842Z"
   },
   {
    "duration": 18,
    "start_time": "2023-08-13T11:50:10.862Z"
   },
   {
    "duration": 20,
    "start_time": "2023-08-13T11:50:10.881Z"
   },
   {
    "duration": 7,
    "start_time": "2023-08-13T11:50:10.903Z"
   },
   {
    "duration": 18,
    "start_time": "2023-08-13T11:50:10.912Z"
   },
   {
    "duration": 15,
    "start_time": "2023-08-13T11:50:10.932Z"
   },
   {
    "duration": 6,
    "start_time": "2023-08-13T11:50:10.949Z"
   },
   {
    "duration": 9,
    "start_time": "2023-08-13T11:50:10.956Z"
   },
   {
    "duration": 8,
    "start_time": "2023-08-13T11:50:10.967Z"
   },
   {
    "duration": 159,
    "start_time": "2023-08-13T11:50:10.977Z"
   },
   {
    "duration": 5,
    "start_time": "2023-08-13T11:50:11.140Z"
   },
   {
    "duration": 14,
    "start_time": "2023-08-13T11:50:11.147Z"
   },
   {
    "duration": 235,
    "start_time": "2023-08-13T11:50:11.162Z"
   },
   {
    "duration": 12,
    "start_time": "2023-08-13T11:50:11.400Z"
   },
   {
    "duration": 160,
    "start_time": "2023-08-13T11:50:11.414Z"
   },
   {
    "duration": 11,
    "start_time": "2023-08-13T11:50:11.576Z"
   },
   {
    "duration": 171,
    "start_time": "2023-08-13T11:50:11.589Z"
   },
   {
    "duration": 16,
    "start_time": "2023-08-13T11:50:11.762Z"
   },
   {
    "duration": 22,
    "start_time": "2023-08-13T11:50:11.779Z"
   },
   {
    "duration": 13,
    "start_time": "2023-08-13T11:50:11.802Z"
   },
   {
    "duration": 9,
    "start_time": "2023-08-13T11:50:11.817Z"
   },
   {
    "duration": 144,
    "start_time": "2023-08-13T11:50:11.828Z"
   },
   {
    "duration": 163,
    "start_time": "2023-08-13T11:50:11.973Z"
   },
   {
    "duration": 140,
    "start_time": "2023-08-13T11:50:12.137Z"
   },
   {
    "duration": 165,
    "start_time": "2023-08-13T11:50:12.279Z"
   },
   {
    "duration": 19,
    "start_time": "2023-08-13T11:50:12.446Z"
   },
   {
    "duration": 58,
    "start_time": "2023-08-13T11:50:12.467Z"
   },
   {
    "duration": 49,
    "start_time": "2023-08-13T11:50:12.527Z"
   },
   {
    "duration": 7194,
    "start_time": "2023-08-13T11:50:12.577Z"
   },
   {
    "duration": 4,
    "start_time": "2023-08-13T11:50:19.773Z"
   },
   {
    "duration": 26,
    "start_time": "2023-08-13T11:50:19.778Z"
   },
   {
    "duration": 11,
    "start_time": "2023-08-13T11:50:19.806Z"
   },
   {
    "duration": 18,
    "start_time": "2023-08-13T11:50:19.819Z"
   },
   {
    "duration": 23,
    "start_time": "2023-08-13T11:50:19.838Z"
   },
   {
    "duration": 11,
    "start_time": "2023-08-13T11:50:19.862Z"
   },
   {
    "duration": 4,
    "start_time": "2023-08-13T11:50:19.875Z"
   },
   {
    "duration": 10,
    "start_time": "2023-08-13T11:50:19.881Z"
   },
   {
    "duration": 190,
    "start_time": "2023-08-13T11:50:19.892Z"
   },
   {
    "duration": 5,
    "start_time": "2023-08-13T11:50:20.083Z"
   },
   {
    "duration": 52,
    "start_time": "2023-08-13T11:50:20.100Z"
   },
   {
    "duration": 26,
    "start_time": "2023-08-13T11:50:20.153Z"
   },
   {
    "duration": 297,
    "start_time": "2023-08-13T11:50:28.735Z"
   },
   {
    "duration": 3,
    "start_time": "2023-08-13T11:50:54.552Z"
   },
   {
    "duration": 32,
    "start_time": "2023-08-13T11:50:54.558Z"
   },
   {
    "duration": 3,
    "start_time": "2023-08-13T11:50:54.592Z"
   },
   {
    "duration": 12,
    "start_time": "2023-08-13T11:50:54.596Z"
   },
   {
    "duration": 10,
    "start_time": "2023-08-13T11:50:54.609Z"
   },
   {
    "duration": 146,
    "start_time": "2023-08-13T11:50:54.621Z"
   },
   {
    "duration": 24,
    "start_time": "2023-08-13T11:50:54.769Z"
   },
   {
    "duration": 9,
    "start_time": "2023-08-13T11:50:54.794Z"
   },
   {
    "duration": 21,
    "start_time": "2023-08-13T11:50:54.805Z"
   },
   {
    "duration": 133,
    "start_time": "2023-08-13T11:50:54.827Z"
   },
   {
    "duration": 378,
    "start_time": "2023-08-13T11:50:54.963Z"
   },
   {
    "duration": 16,
    "start_time": "2023-08-13T11:50:55.343Z"
   },
   {
    "duration": 6,
    "start_time": "2023-08-13T11:50:55.360Z"
   },
   {
    "duration": 31,
    "start_time": "2023-08-13T11:50:55.367Z"
   },
   {
    "duration": 84,
    "start_time": "2023-08-13T11:50:55.400Z"
   },
   {
    "duration": 7,
    "start_time": "2023-08-13T11:50:55.485Z"
   },
   {
    "duration": 14,
    "start_time": "2023-08-13T11:50:55.493Z"
   },
   {
    "duration": 14,
    "start_time": "2023-08-13T11:50:55.509Z"
   },
   {
    "duration": 14,
    "start_time": "2023-08-13T11:50:55.525Z"
   },
   {
    "duration": 8,
    "start_time": "2023-08-13T11:50:55.541Z"
   },
   {
    "duration": 19,
    "start_time": "2023-08-13T11:50:55.550Z"
   },
   {
    "duration": 7,
    "start_time": "2023-08-13T11:50:55.570Z"
   },
   {
    "duration": 6,
    "start_time": "2023-08-13T11:50:55.579Z"
   },
   {
    "duration": 28,
    "start_time": "2023-08-13T11:50:55.586Z"
   },
   {
    "duration": 13,
    "start_time": "2023-08-13T11:50:55.615Z"
   },
   {
    "duration": 6,
    "start_time": "2023-08-13T11:50:55.630Z"
   },
   {
    "duration": 19,
    "start_time": "2023-08-13T11:50:55.637Z"
   },
   {
    "duration": 118,
    "start_time": "2023-08-13T11:50:55.658Z"
   },
   {
    "duration": 4,
    "start_time": "2023-08-13T11:50:55.781Z"
   },
   {
    "duration": 24,
    "start_time": "2023-08-13T11:50:55.787Z"
   },
   {
    "duration": 236,
    "start_time": "2023-08-13T11:50:55.813Z"
   },
   {
    "duration": 14,
    "start_time": "2023-08-13T11:50:56.051Z"
   },
   {
    "duration": 172,
    "start_time": "2023-08-13T11:50:56.067Z"
   },
   {
    "duration": 12,
    "start_time": "2023-08-13T11:50:56.240Z"
   },
   {
    "duration": 153,
    "start_time": "2023-08-13T11:50:56.254Z"
   },
   {
    "duration": 14,
    "start_time": "2023-08-13T11:50:56.408Z"
   },
   {
    "duration": 10,
    "start_time": "2023-08-13T11:50:56.424Z"
   },
   {
    "duration": 14,
    "start_time": "2023-08-13T11:50:56.435Z"
   },
   {
    "duration": 7,
    "start_time": "2023-08-13T11:50:56.450Z"
   },
   {
    "duration": 134,
    "start_time": "2023-08-13T11:50:56.459Z"
   },
   {
    "duration": 141,
    "start_time": "2023-08-13T11:50:56.594Z"
   },
   {
    "duration": 140,
    "start_time": "2023-08-13T11:50:56.737Z"
   },
   {
    "duration": 148,
    "start_time": "2023-08-13T11:50:56.878Z"
   },
   {
    "duration": 20,
    "start_time": "2023-08-13T11:50:57.027Z"
   },
   {
    "duration": 22,
    "start_time": "2023-08-13T11:50:57.048Z"
   },
   {
    "duration": 45,
    "start_time": "2023-08-13T11:50:57.072Z"
   },
   {
    "duration": 6616,
    "start_time": "2023-08-13T11:50:57.119Z"
   },
   {
    "duration": 3,
    "start_time": "2023-08-13T11:51:03.737Z"
   },
   {
    "duration": 23,
    "start_time": "2023-08-13T11:51:03.742Z"
   },
   {
    "duration": 8,
    "start_time": "2023-08-13T11:51:03.767Z"
   },
   {
    "duration": 14,
    "start_time": "2023-08-13T11:51:03.776Z"
   },
   {
    "duration": 12,
    "start_time": "2023-08-13T11:51:03.791Z"
   },
   {
    "duration": 8,
    "start_time": "2023-08-13T11:51:03.804Z"
   },
   {
    "duration": 6,
    "start_time": "2023-08-13T11:51:03.813Z"
   },
   {
    "duration": 7,
    "start_time": "2023-08-13T11:51:03.820Z"
   },
   {
    "duration": 205,
    "start_time": "2023-08-13T11:51:03.828Z"
   },
   {
    "duration": 5,
    "start_time": "2023-08-13T11:51:04.035Z"
   },
   {
    "duration": 12,
    "start_time": "2023-08-13T11:51:04.041Z"
   },
   {
    "duration": 27,
    "start_time": "2023-08-13T11:51:04.054Z"
   },
   {
    "duration": 2,
    "start_time": "2023-08-13T11:52:10.887Z"
   },
   {
    "duration": 31,
    "start_time": "2023-08-13T11:52:10.891Z"
   },
   {
    "duration": 2,
    "start_time": "2023-08-13T11:52:10.924Z"
   },
   {
    "duration": 31,
    "start_time": "2023-08-13T11:52:10.927Z"
   },
   {
    "duration": 23,
    "start_time": "2023-08-13T11:52:10.960Z"
   },
   {
    "duration": 137,
    "start_time": "2023-08-13T11:52:10.985Z"
   },
   {
    "duration": 25,
    "start_time": "2023-08-13T11:52:11.124Z"
   },
   {
    "duration": 7,
    "start_time": "2023-08-13T11:52:11.150Z"
   },
   {
    "duration": 15,
    "start_time": "2023-08-13T11:52:11.158Z"
   },
   {
    "duration": 135,
    "start_time": "2023-08-13T11:52:11.175Z"
   },
   {
    "duration": 132,
    "start_time": "2023-08-13T11:52:11.311Z"
   },
   {
    "duration": 16,
    "start_time": "2023-08-13T11:52:11.445Z"
   },
   {
    "duration": 7,
    "start_time": "2023-08-13T11:52:11.462Z"
   },
   {
    "duration": 8,
    "start_time": "2023-08-13T11:52:11.473Z"
   },
   {
    "duration": 89,
    "start_time": "2023-08-13T11:52:11.483Z"
   },
   {
    "duration": 7,
    "start_time": "2023-08-13T11:52:11.574Z"
   },
   {
    "duration": 18,
    "start_time": "2023-08-13T11:52:11.582Z"
   },
   {
    "duration": 6,
    "start_time": "2023-08-13T11:52:11.602Z"
   },
   {
    "duration": 5,
    "start_time": "2023-08-13T11:52:11.610Z"
   },
   {
    "duration": 8,
    "start_time": "2023-08-13T11:52:11.617Z"
   },
   {
    "duration": 12,
    "start_time": "2023-08-13T11:52:11.627Z"
   },
   {
    "duration": 8,
    "start_time": "2023-08-13T11:52:11.640Z"
   },
   {
    "duration": 5,
    "start_time": "2023-08-13T11:52:11.650Z"
   },
   {
    "duration": 9,
    "start_time": "2023-08-13T11:52:11.699Z"
   },
   {
    "duration": 5,
    "start_time": "2023-08-13T11:52:11.710Z"
   },
   {
    "duration": 6,
    "start_time": "2023-08-13T11:52:11.717Z"
   },
   {
    "duration": 6,
    "start_time": "2023-08-13T11:52:11.724Z"
   },
   {
    "duration": 136,
    "start_time": "2023-08-13T11:52:11.732Z"
   },
   {
    "duration": 5,
    "start_time": "2023-08-13T11:52:11.870Z"
   },
   {
    "duration": 7,
    "start_time": "2023-08-13T11:52:11.876Z"
   },
   {
    "duration": 219,
    "start_time": "2023-08-13T11:52:11.884Z"
   },
   {
    "duration": 11,
    "start_time": "2023-08-13T11:52:12.105Z"
   },
   {
    "duration": 144,
    "start_time": "2023-08-13T11:52:12.117Z"
   },
   {
    "duration": 11,
    "start_time": "2023-08-13T11:52:12.263Z"
   },
   {
    "duration": 164,
    "start_time": "2023-08-13T11:52:12.276Z"
   },
   {
    "duration": 14,
    "start_time": "2023-08-13T11:52:12.442Z"
   },
   {
    "duration": 10,
    "start_time": "2023-08-13T11:52:12.458Z"
   },
   {
    "duration": 10,
    "start_time": "2023-08-13T11:52:12.470Z"
   },
   {
    "duration": 23,
    "start_time": "2023-08-13T11:52:12.481Z"
   },
   {
    "duration": 134,
    "start_time": "2023-08-13T11:52:12.506Z"
   },
   {
    "duration": 142,
    "start_time": "2023-08-13T11:52:12.644Z"
   },
   {
    "duration": 138,
    "start_time": "2023-08-13T11:52:12.788Z"
   },
   {
    "duration": 146,
    "start_time": "2023-08-13T11:52:12.928Z"
   },
   {
    "duration": 28,
    "start_time": "2023-08-13T11:52:13.076Z"
   },
   {
    "duration": 20,
    "start_time": "2023-08-13T11:52:13.106Z"
   },
   {
    "duration": 22,
    "start_time": "2023-08-13T11:52:13.127Z"
   },
   {
    "duration": 7898,
    "start_time": "2023-08-13T11:52:13.150Z"
   },
   {
    "duration": 4,
    "start_time": "2023-08-13T11:52:21.049Z"
   },
   {
    "duration": 17,
    "start_time": "2023-08-13T11:52:21.054Z"
   },
   {
    "duration": 17,
    "start_time": "2023-08-13T11:52:21.073Z"
   },
   {
    "duration": 22,
    "start_time": "2023-08-13T11:52:21.091Z"
   },
   {
    "duration": 18,
    "start_time": "2023-08-13T11:52:21.115Z"
   },
   {
    "duration": 16,
    "start_time": "2023-08-13T11:52:21.134Z"
   },
   {
    "duration": 9,
    "start_time": "2023-08-13T11:52:21.152Z"
   },
   {
    "duration": 18,
    "start_time": "2023-08-13T11:52:21.162Z"
   },
   {
    "duration": 200,
    "start_time": "2023-08-13T11:52:21.181Z"
   },
   {
    "duration": 5,
    "start_time": "2023-08-13T11:52:21.383Z"
   },
   {
    "duration": 29,
    "start_time": "2023-08-13T11:52:21.389Z"
   },
   {
    "duration": 49,
    "start_time": "2023-08-13T11:52:21.419Z"
   },
   {
    "duration": 6576,
    "start_time": "2023-08-13T11:54:45.755Z"
   },
   {
    "duration": 4,
    "start_time": "2023-08-13T11:54:52.332Z"
   },
   {
    "duration": 11,
    "start_time": "2023-08-13T11:58:19.838Z"
   },
   {
    "duration": 11356,
    "start_time": "2023-08-13T11:58:30.412Z"
   },
   {
    "duration": 4,
    "start_time": "2023-08-13T11:59:02.055Z"
   },
   {
    "duration": 0,
    "start_time": "2023-08-13T12:00:31.933Z"
   },
   {
    "duration": 0,
    "start_time": "2023-08-13T12:00:31.934Z"
   },
   {
    "duration": 3,
    "start_time": "2023-08-13T12:00:41.230Z"
   },
   {
    "duration": 1192,
    "start_time": "2023-08-13T12:00:56.563Z"
   },
   {
    "duration": 10,
    "start_time": "2023-08-13T12:01:24.227Z"
   },
   {
    "duration": 4666,
    "start_time": "2023-08-13T12:01:33.678Z"
   },
   {
    "duration": 4,
    "start_time": "2023-08-13T12:01:39.766Z"
   },
   {
    "duration": 3,
    "start_time": "2023-08-13T12:04:27.712Z"
   },
   {
    "duration": 40,
    "start_time": "2023-08-13T12:04:27.718Z"
   },
   {
    "duration": 2,
    "start_time": "2023-08-13T12:04:27.760Z"
   },
   {
    "duration": 14,
    "start_time": "2023-08-13T12:04:27.763Z"
   },
   {
    "duration": 11,
    "start_time": "2023-08-13T12:04:27.779Z"
   },
   {
    "duration": 149,
    "start_time": "2023-08-13T12:04:27.791Z"
   },
   {
    "duration": 25,
    "start_time": "2023-08-13T12:04:27.942Z"
   },
   {
    "duration": 9,
    "start_time": "2023-08-13T12:04:27.968Z"
   },
   {
    "duration": 30,
    "start_time": "2023-08-13T12:04:27.978Z"
   },
   {
    "duration": 140,
    "start_time": "2023-08-13T12:04:28.009Z"
   },
   {
    "duration": 133,
    "start_time": "2023-08-13T12:04:28.152Z"
   },
   {
    "duration": 21,
    "start_time": "2023-08-13T12:04:28.287Z"
   },
   {
    "duration": 20,
    "start_time": "2023-08-13T12:04:28.311Z"
   },
   {
    "duration": 21,
    "start_time": "2023-08-13T12:04:28.332Z"
   },
   {
    "duration": 76,
    "start_time": "2023-08-13T12:04:28.355Z"
   },
   {
    "duration": 6,
    "start_time": "2023-08-13T12:04:28.433Z"
   },
   {
    "duration": 15,
    "start_time": "2023-08-13T12:04:28.440Z"
   },
   {
    "duration": 6,
    "start_time": "2023-08-13T12:04:28.457Z"
   },
   {
    "duration": 5,
    "start_time": "2023-08-13T12:04:28.464Z"
   },
   {
    "duration": 21,
    "start_time": "2023-08-13T12:04:28.470Z"
   },
   {
    "duration": 27,
    "start_time": "2023-08-13T12:04:28.492Z"
   },
   {
    "duration": 12,
    "start_time": "2023-08-13T12:04:28.520Z"
   },
   {
    "duration": 24,
    "start_time": "2023-08-13T12:04:28.534Z"
   },
   {
    "duration": 6,
    "start_time": "2023-08-13T12:04:28.559Z"
   },
   {
    "duration": 4,
    "start_time": "2023-08-13T12:04:28.567Z"
   },
   {
    "duration": 10,
    "start_time": "2023-08-13T12:04:28.572Z"
   },
   {
    "duration": 31,
    "start_time": "2023-08-13T12:04:28.583Z"
   },
   {
    "duration": 123,
    "start_time": "2023-08-13T12:04:28.615Z"
   },
   {
    "duration": 4,
    "start_time": "2023-08-13T12:04:28.742Z"
   },
   {
    "duration": 13,
    "start_time": "2023-08-13T12:04:28.747Z"
   },
   {
    "duration": 485,
    "start_time": "2023-08-13T12:04:28.761Z"
   },
   {
    "duration": 11,
    "start_time": "2023-08-13T12:04:29.248Z"
   },
   {
    "duration": 163,
    "start_time": "2023-08-13T12:04:29.260Z"
   },
   {
    "duration": 11,
    "start_time": "2023-08-13T12:04:29.424Z"
   },
   {
    "duration": 149,
    "start_time": "2023-08-13T12:04:29.436Z"
   },
   {
    "duration": 22,
    "start_time": "2023-08-13T12:04:29.586Z"
   },
   {
    "duration": 11,
    "start_time": "2023-08-13T12:04:29.610Z"
   },
   {
    "duration": 8,
    "start_time": "2023-08-13T12:04:29.623Z"
   },
   {
    "duration": 7,
    "start_time": "2023-08-13T12:04:29.632Z"
   },
   {
    "duration": 141,
    "start_time": "2023-08-13T12:04:29.640Z"
   },
   {
    "duration": 142,
    "start_time": "2023-08-13T12:04:29.783Z"
   },
   {
    "duration": 136,
    "start_time": "2023-08-13T12:04:29.926Z"
   },
   {
    "duration": 151,
    "start_time": "2023-08-13T12:04:30.063Z"
   },
   {
    "duration": 21,
    "start_time": "2023-08-13T12:04:30.215Z"
   },
   {
    "duration": 59,
    "start_time": "2023-08-13T12:04:30.238Z"
   },
   {
    "duration": 78,
    "start_time": "2023-08-13T12:04:30.299Z"
   },
   {
    "duration": 2649,
    "start_time": "2023-08-13T12:04:30.378Z"
   },
   {
    "duration": 0,
    "start_time": "2023-08-13T12:04:33.029Z"
   },
   {
    "duration": 0,
    "start_time": "2023-08-13T12:04:33.030Z"
   },
   {
    "duration": 0,
    "start_time": "2023-08-13T12:04:33.031Z"
   },
   {
    "duration": 0,
    "start_time": "2023-08-13T12:04:33.032Z"
   },
   {
    "duration": 0,
    "start_time": "2023-08-13T12:04:33.033Z"
   },
   {
    "duration": 0,
    "start_time": "2023-08-13T12:04:33.034Z"
   },
   {
    "duration": 0,
    "start_time": "2023-08-13T12:04:33.035Z"
   },
   {
    "duration": 0,
    "start_time": "2023-08-13T12:04:33.035Z"
   },
   {
    "duration": 0,
    "start_time": "2023-08-13T12:04:33.036Z"
   },
   {
    "duration": 0,
    "start_time": "2023-08-13T12:04:33.037Z"
   },
   {
    "duration": 1,
    "start_time": "2023-08-13T12:04:33.038Z"
   },
   {
    "duration": 0,
    "start_time": "2023-08-13T12:04:33.039Z"
   },
   {
    "duration": 2576,
    "start_time": "2023-08-13T12:05:10.620Z"
   },
   {
    "duration": 6294,
    "start_time": "2023-08-13T12:05:21.838Z"
   },
   {
    "duration": 6,
    "start_time": "2023-08-13T12:05:31.640Z"
   },
   {
    "duration": 2,
    "start_time": "2023-08-13T12:05:43.064Z"
   },
   {
    "duration": 37,
    "start_time": "2023-08-13T12:05:43.069Z"
   },
   {
    "duration": 3,
    "start_time": "2023-08-13T12:05:43.108Z"
   },
   {
    "duration": 33,
    "start_time": "2023-08-13T12:05:43.112Z"
   },
   {
    "duration": 35,
    "start_time": "2023-08-13T12:05:43.147Z"
   },
   {
    "duration": 159,
    "start_time": "2023-08-13T12:05:43.183Z"
   },
   {
    "duration": 24,
    "start_time": "2023-08-13T12:05:43.344Z"
   },
   {
    "duration": 7,
    "start_time": "2023-08-13T12:05:43.370Z"
   },
   {
    "duration": 20,
    "start_time": "2023-08-13T12:05:43.379Z"
   },
   {
    "duration": 141,
    "start_time": "2023-08-13T12:05:43.401Z"
   },
   {
    "duration": 146,
    "start_time": "2023-08-13T12:05:43.545Z"
   },
   {
    "duration": 18,
    "start_time": "2023-08-13T12:05:43.692Z"
   },
   {
    "duration": 10,
    "start_time": "2023-08-13T12:05:43.712Z"
   },
   {
    "duration": 22,
    "start_time": "2023-08-13T12:05:43.724Z"
   },
   {
    "duration": 120,
    "start_time": "2023-08-13T12:05:43.748Z"
   },
   {
    "duration": 9,
    "start_time": "2023-08-13T12:05:43.870Z"
   },
   {
    "duration": 19,
    "start_time": "2023-08-13T12:05:43.881Z"
   },
   {
    "duration": 7,
    "start_time": "2023-08-13T12:05:43.903Z"
   },
   {
    "duration": 12,
    "start_time": "2023-08-13T12:05:43.912Z"
   },
   {
    "duration": 14,
    "start_time": "2023-08-13T12:05:43.926Z"
   },
   {
    "duration": 13,
    "start_time": "2023-08-13T12:05:43.942Z"
   },
   {
    "duration": 10,
    "start_time": "2023-08-13T12:05:43.957Z"
   },
   {
    "duration": 32,
    "start_time": "2023-08-13T12:05:43.969Z"
   },
   {
    "duration": 11,
    "start_time": "2023-08-13T12:05:44.003Z"
   },
   {
    "duration": 7,
    "start_time": "2023-08-13T12:05:44.015Z"
   },
   {
    "duration": 22,
    "start_time": "2023-08-13T12:05:44.024Z"
   },
   {
    "duration": 9,
    "start_time": "2023-08-13T12:05:44.048Z"
   },
   {
    "duration": 135,
    "start_time": "2023-08-13T12:05:44.058Z"
   },
   {
    "duration": 7,
    "start_time": "2023-08-13T12:05:44.196Z"
   },
   {
    "duration": 33,
    "start_time": "2023-08-13T12:05:44.204Z"
   },
   {
    "duration": 237,
    "start_time": "2023-08-13T12:05:44.239Z"
   },
   {
    "duration": 22,
    "start_time": "2023-08-13T12:05:44.478Z"
   },
   {
    "duration": 147,
    "start_time": "2023-08-13T12:05:44.502Z"
   },
   {
    "duration": 11,
    "start_time": "2023-08-13T12:05:44.650Z"
   },
   {
    "duration": 159,
    "start_time": "2023-08-13T12:05:44.663Z"
   },
   {
    "duration": 14,
    "start_time": "2023-08-13T12:05:44.824Z"
   },
   {
    "duration": 26,
    "start_time": "2023-08-13T12:05:44.839Z"
   },
   {
    "duration": 20,
    "start_time": "2023-08-13T12:05:44.866Z"
   },
   {
    "duration": 39,
    "start_time": "2023-08-13T12:05:44.887Z"
   },
   {
    "duration": 119,
    "start_time": "2023-08-13T12:05:44.927Z"
   },
   {
    "duration": 137,
    "start_time": "2023-08-13T12:05:45.047Z"
   },
   {
    "duration": 137,
    "start_time": "2023-08-13T12:05:45.185Z"
   },
   {
    "duration": 160,
    "start_time": "2023-08-13T12:05:45.324Z"
   },
   {
    "duration": 26,
    "start_time": "2023-08-13T12:05:45.487Z"
   },
   {
    "duration": 19,
    "start_time": "2023-08-13T12:05:45.515Z"
   },
   {
    "duration": 25,
    "start_time": "2023-08-13T12:05:45.535Z"
   },
   {
    "duration": 5969,
    "start_time": "2023-08-13T12:05:45.561Z"
   },
   {
    "duration": 4,
    "start_time": "2023-08-13T12:05:51.533Z"
   },
   {
    "duration": 45,
    "start_time": "2023-08-13T12:05:51.539Z"
   },
   {
    "duration": 39,
    "start_time": "2023-08-13T12:05:51.586Z"
   },
   {
    "duration": 28,
    "start_time": "2023-08-13T12:05:51.626Z"
   },
   {
    "duration": 19,
    "start_time": "2023-08-13T12:05:51.656Z"
   },
   {
    "duration": 14,
    "start_time": "2023-08-13T12:05:51.677Z"
   },
   {
    "duration": 9,
    "start_time": "2023-08-13T12:05:51.692Z"
   },
   {
    "duration": 19,
    "start_time": "2023-08-13T12:05:51.703Z"
   },
   {
    "duration": 227,
    "start_time": "2023-08-13T12:05:51.724Z"
   },
   {
    "duration": 4,
    "start_time": "2023-08-13T12:05:51.953Z"
   },
   {
    "duration": 35,
    "start_time": "2023-08-13T12:05:51.958Z"
   },
   {
    "duration": 24,
    "start_time": "2023-08-13T12:05:51.995Z"
   },
   {
    "duration": 5,
    "start_time": "2023-08-13T12:36:04.621Z"
   },
   {
    "duration": 8,
    "start_time": "2023-08-13T12:36:07.979Z"
   },
   {
    "duration": 4,
    "start_time": "2023-08-13T12:36:16.783Z"
   },
   {
    "duration": 4,
    "start_time": "2023-08-13T12:36:25.206Z"
   },
   {
    "duration": 6712,
    "start_time": "2023-08-13T12:36:33.583Z"
   },
   {
    "duration": 3,
    "start_time": "2023-08-13T12:36:40.297Z"
   },
   {
    "duration": 16,
    "start_time": "2023-08-13T12:38:36.509Z"
   },
   {
    "duration": 9,
    "start_time": "2023-08-13T12:41:22.191Z"
   },
   {
    "duration": 10,
    "start_time": "2023-08-13T12:43:14.982Z"
   },
   {
    "duration": 8,
    "start_time": "2023-08-13T12:44:08.764Z"
   },
   {
    "duration": 13,
    "start_time": "2023-08-13T12:44:58.484Z"
   },
   {
    "duration": 6,
    "start_time": "2023-08-13T12:45:56.412Z"
   },
   {
    "duration": 7,
    "start_time": "2023-08-13T12:48:42.350Z"
   },
   {
    "duration": 6,
    "start_time": "2023-08-13T12:49:06.877Z"
   },
   {
    "duration": 5,
    "start_time": "2023-08-13T12:50:56.454Z"
   },
   {
    "duration": 5,
    "start_time": "2023-08-13T12:51:46.889Z"
   },
   {
    "duration": 5,
    "start_time": "2023-08-13T12:52:03.703Z"
   },
   {
    "duration": 5,
    "start_time": "2023-08-13T12:55:09.388Z"
   },
   {
    "duration": 5,
    "start_time": "2023-08-13T12:55:20.584Z"
   },
   {
    "duration": 5,
    "start_time": "2023-08-13T12:55:44.639Z"
   },
   {
    "duration": 6,
    "start_time": "2023-08-13T12:55:49.885Z"
   },
   {
    "duration": 6,
    "start_time": "2023-08-13T12:56:10.282Z"
   },
   {
    "duration": 6,
    "start_time": "2023-08-13T12:57:08.419Z"
   },
   {
    "duration": 356,
    "start_time": "2023-08-13T13:00:03.862Z"
   },
   {
    "duration": 57,
    "start_time": "2023-08-13T13:00:08.284Z"
   },
   {
    "duration": 5,
    "start_time": "2023-08-13T13:00:11.228Z"
   },
   {
    "duration": 15,
    "start_time": "2023-08-13T13:08:33.382Z"
   },
   {
    "duration": 27,
    "start_time": "2023-08-13T13:09:19.736Z"
   },
   {
    "duration": 31,
    "start_time": "2023-08-13T13:09:38.345Z"
   },
   {
    "duration": 6,
    "start_time": "2023-08-13T13:09:43.666Z"
   },
   {
    "duration": 11,
    "start_time": "2023-08-13T13:11:07.595Z"
   },
   {
    "duration": 4,
    "start_time": "2023-08-13T13:13:22.519Z"
   },
   {
    "duration": 8,
    "start_time": "2023-08-13T13:14:06.577Z"
   },
   {
    "duration": 5,
    "start_time": "2023-08-13T13:21:20.650Z"
   },
   {
    "duration": 4,
    "start_time": "2023-08-13T13:46:22.945Z"
   },
   {
    "duration": 44,
    "start_time": "2023-08-13T13:46:22.950Z"
   },
   {
    "duration": 2,
    "start_time": "2023-08-13T13:46:22.996Z"
   },
   {
    "duration": 34,
    "start_time": "2023-08-13T13:46:23.000Z"
   },
   {
    "duration": 19,
    "start_time": "2023-08-13T13:46:23.036Z"
   },
   {
    "duration": 159,
    "start_time": "2023-08-13T13:46:23.056Z"
   },
   {
    "duration": 33,
    "start_time": "2023-08-13T13:46:23.217Z"
   },
   {
    "duration": 7,
    "start_time": "2023-08-13T13:46:23.252Z"
   },
   {
    "duration": 15,
    "start_time": "2023-08-13T13:46:23.261Z"
   },
   {
    "duration": 147,
    "start_time": "2023-08-13T13:46:23.277Z"
   },
   {
    "duration": 145,
    "start_time": "2023-08-13T13:46:23.425Z"
   },
   {
    "duration": 16,
    "start_time": "2023-08-13T13:46:23.571Z"
   },
   {
    "duration": 6,
    "start_time": "2023-08-13T13:46:23.590Z"
   },
   {
    "duration": 19,
    "start_time": "2023-08-13T13:46:23.597Z"
   },
   {
    "duration": 86,
    "start_time": "2023-08-13T13:46:23.617Z"
   },
   {
    "duration": 12,
    "start_time": "2023-08-13T13:46:23.708Z"
   },
   {
    "duration": 13,
    "start_time": "2023-08-13T13:46:23.721Z"
   },
   {
    "duration": 8,
    "start_time": "2023-08-13T13:46:23.735Z"
   },
   {
    "duration": 6,
    "start_time": "2023-08-13T13:46:23.745Z"
   },
   {
    "duration": 6,
    "start_time": "2023-08-13T13:46:23.753Z"
   },
   {
    "duration": 18,
    "start_time": "2023-08-13T13:46:23.761Z"
   },
   {
    "duration": 33,
    "start_time": "2023-08-13T13:46:23.781Z"
   },
   {
    "duration": 8,
    "start_time": "2023-08-13T13:46:23.817Z"
   },
   {
    "duration": 15,
    "start_time": "2023-08-13T13:46:23.826Z"
   },
   {
    "duration": 5,
    "start_time": "2023-08-13T13:46:23.843Z"
   },
   {
    "duration": 7,
    "start_time": "2023-08-13T13:46:23.849Z"
   },
   {
    "duration": 10,
    "start_time": "2023-08-13T13:46:23.857Z"
   },
   {
    "duration": 121,
    "start_time": "2023-08-13T13:46:23.869Z"
   },
   {
    "duration": 11,
    "start_time": "2023-08-13T13:46:23.992Z"
   },
   {
    "duration": 22,
    "start_time": "2023-08-13T13:46:24.004Z"
   },
   {
    "duration": 219,
    "start_time": "2023-08-13T13:46:24.027Z"
   },
   {
    "duration": 16,
    "start_time": "2023-08-13T13:46:24.247Z"
   },
   {
    "duration": 166,
    "start_time": "2023-08-13T13:46:24.265Z"
   },
   {
    "duration": 12,
    "start_time": "2023-08-13T13:46:24.432Z"
   },
   {
    "duration": 177,
    "start_time": "2023-08-13T13:46:24.446Z"
   },
   {
    "duration": 15,
    "start_time": "2023-08-13T13:46:24.624Z"
   },
   {
    "duration": 11,
    "start_time": "2023-08-13T13:46:24.643Z"
   },
   {
    "duration": 20,
    "start_time": "2023-08-13T13:46:24.655Z"
   },
   {
    "duration": 9,
    "start_time": "2023-08-13T13:46:24.676Z"
   },
   {
    "duration": 139,
    "start_time": "2023-08-13T13:46:24.686Z"
   },
   {
    "duration": 134,
    "start_time": "2023-08-13T13:46:24.827Z"
   },
   {
    "duration": 144,
    "start_time": "2023-08-13T13:46:24.963Z"
   },
   {
    "duration": 182,
    "start_time": "2023-08-13T13:46:25.109Z"
   },
   {
    "duration": 34,
    "start_time": "2023-08-13T13:46:25.292Z"
   },
   {
    "duration": 29,
    "start_time": "2023-08-13T13:46:25.327Z"
   },
   {
    "duration": 49,
    "start_time": "2023-08-13T13:46:25.358Z"
   },
   {
    "duration": 6332,
    "start_time": "2023-08-13T13:46:25.409Z"
   },
   {
    "duration": 4,
    "start_time": "2023-08-13T13:46:31.742Z"
   },
   {
    "duration": 46,
    "start_time": "2023-08-13T13:46:31.748Z"
   },
   {
    "duration": 43,
    "start_time": "2023-08-13T13:46:31.796Z"
   },
   {
    "duration": 50,
    "start_time": "2023-08-13T13:46:31.841Z"
   },
   {
    "duration": 33,
    "start_time": "2023-08-13T13:46:31.893Z"
   },
   {
    "duration": 57,
    "start_time": "2023-08-13T13:46:31.927Z"
   },
   {
    "duration": 226,
    "start_time": "2023-08-13T13:46:31.986Z"
   },
   {
    "duration": 6,
    "start_time": "2023-08-13T13:46:32.214Z"
   },
   {
    "duration": 46,
    "start_time": "2023-08-13T13:46:32.221Z"
   },
   {
    "duration": 37,
    "start_time": "2023-08-13T13:46:32.268Z"
   },
   {
    "duration": 1296,
    "start_time": "2023-08-14T08:56:50.965Z"
   },
   {
    "duration": 148,
    "start_time": "2023-08-14T08:56:52.264Z"
   },
   {
    "duration": 3,
    "start_time": "2023-08-14T08:56:52.413Z"
   },
   {
    "duration": 24,
    "start_time": "2023-08-14T08:56:52.418Z"
   },
   {
    "duration": 12,
    "start_time": "2023-08-14T08:56:52.443Z"
   },
   {
    "duration": 180,
    "start_time": "2023-08-14T08:56:52.457Z"
   },
   {
    "duration": 69,
    "start_time": "2023-08-14T08:56:52.640Z"
   },
   {
    "duration": 8,
    "start_time": "2023-08-14T08:56:52.711Z"
   },
   {
    "duration": 16,
    "start_time": "2023-08-14T08:56:52.721Z"
   },
   {
    "duration": 149,
    "start_time": "2023-08-14T08:56:52.739Z"
   },
   {
    "duration": 154,
    "start_time": "2023-08-14T08:56:52.890Z"
   },
   {
    "duration": 52,
    "start_time": "2023-08-14T08:56:53.046Z"
   },
   {
    "duration": 8,
    "start_time": "2023-08-14T08:56:53.100Z"
   },
   {
    "duration": 18,
    "start_time": "2023-08-14T08:56:53.110Z"
   },
   {
    "duration": 96,
    "start_time": "2023-08-14T08:56:53.130Z"
   },
   {
    "duration": 7,
    "start_time": "2023-08-14T08:56:53.228Z"
   },
   {
    "duration": 11,
    "start_time": "2023-08-14T08:56:53.237Z"
   },
   {
    "duration": 16,
    "start_time": "2023-08-14T08:56:53.250Z"
   },
   {
    "duration": 11,
    "start_time": "2023-08-14T08:56:53.268Z"
   },
   {
    "duration": 7,
    "start_time": "2023-08-14T08:56:53.295Z"
   },
   {
    "duration": 24,
    "start_time": "2023-08-14T08:56:53.304Z"
   },
   {
    "duration": 11,
    "start_time": "2023-08-14T08:56:53.330Z"
   },
   {
    "duration": 9,
    "start_time": "2023-08-14T08:56:53.343Z"
   },
   {
    "duration": 9,
    "start_time": "2023-08-14T08:56:53.354Z"
   },
   {
    "duration": 7,
    "start_time": "2023-08-14T08:56:53.395Z"
   },
   {
    "duration": 9,
    "start_time": "2023-08-14T08:56:53.403Z"
   },
   {
    "duration": 9,
    "start_time": "2023-08-14T08:56:53.414Z"
   },
   {
    "duration": 190,
    "start_time": "2023-08-14T08:56:53.429Z"
   },
   {
    "duration": 4,
    "start_time": "2023-08-14T08:56:53.621Z"
   },
   {
    "duration": 18,
    "start_time": "2023-08-14T08:56:53.627Z"
   },
   {
    "duration": 268,
    "start_time": "2023-08-14T08:56:53.647Z"
   },
   {
    "duration": 14,
    "start_time": "2023-08-14T08:56:53.917Z"
   },
   {
    "duration": 174,
    "start_time": "2023-08-14T08:56:53.933Z"
   },
   {
    "duration": 12,
    "start_time": "2023-08-14T08:56:54.109Z"
   },
   {
    "duration": 196,
    "start_time": "2023-08-14T08:56:54.123Z"
   },
   {
    "duration": 18,
    "start_time": "2023-08-14T08:56:54.320Z"
   },
   {
    "duration": 12,
    "start_time": "2023-08-14T08:56:54.340Z"
   },
   {
    "duration": 10,
    "start_time": "2023-08-14T08:56:54.354Z"
   },
   {
    "duration": 36,
    "start_time": "2023-08-14T08:56:54.365Z"
   },
   {
    "duration": 168,
    "start_time": "2023-08-14T08:56:54.403Z"
   },
   {
    "duration": 241,
    "start_time": "2023-08-14T08:56:54.573Z"
   },
   {
    "duration": 170,
    "start_time": "2023-08-14T08:56:54.816Z"
   },
   {
    "duration": 186,
    "start_time": "2023-08-14T08:56:54.987Z"
   },
   {
    "duration": 26,
    "start_time": "2023-08-14T08:56:55.174Z"
   },
   {
    "duration": 22,
    "start_time": "2023-08-14T08:56:55.202Z"
   },
   {
    "duration": 26,
    "start_time": "2023-08-14T08:56:55.225Z"
   },
   {
    "duration": 133,
    "start_time": "2023-08-14T08:56:55.252Z"
   },
   {
    "duration": 0,
    "start_time": "2023-08-14T08:56:55.387Z"
   },
   {
    "duration": 0,
    "start_time": "2023-08-14T08:56:55.395Z"
   },
   {
    "duration": 0,
    "start_time": "2023-08-14T08:56:55.397Z"
   },
   {
    "duration": 1,
    "start_time": "2023-08-14T08:56:55.398Z"
   },
   {
    "duration": 0,
    "start_time": "2023-08-14T08:56:55.400Z"
   },
   {
    "duration": 0,
    "start_time": "2023-08-14T08:56:55.402Z"
   },
   {
    "duration": 0,
    "start_time": "2023-08-14T08:56:55.405Z"
   },
   {
    "duration": 0,
    "start_time": "2023-08-14T08:56:55.411Z"
   },
   {
    "duration": 0,
    "start_time": "2023-08-14T08:56:55.413Z"
   },
   {
    "duration": 0,
    "start_time": "2023-08-14T08:56:55.414Z"
   },
   {
    "duration": 4,
    "start_time": "2023-08-14T09:05:18.525Z"
   },
   {
    "duration": 1016,
    "start_time": "2023-08-14T09:07:11.649Z"
   },
   {
    "duration": 81,
    "start_time": "2023-08-14T09:07:12.667Z"
   },
   {
    "duration": 3,
    "start_time": "2023-08-14T09:07:12.750Z"
   },
   {
    "duration": 27,
    "start_time": "2023-08-14T09:07:12.756Z"
   },
   {
    "duration": 20,
    "start_time": "2023-08-14T09:07:12.785Z"
   },
   {
    "duration": 179,
    "start_time": "2023-08-14T09:07:12.807Z"
   },
   {
    "duration": 27,
    "start_time": "2023-08-14T09:07:12.988Z"
   },
   {
    "duration": 9,
    "start_time": "2023-08-14T09:07:13.017Z"
   },
   {
    "duration": 32,
    "start_time": "2023-08-14T09:07:13.027Z"
   },
   {
    "duration": 166,
    "start_time": "2023-08-14T09:07:13.062Z"
   },
   {
    "duration": 172,
    "start_time": "2023-08-14T09:07:13.230Z"
   },
   {
    "duration": 16,
    "start_time": "2023-08-14T09:07:13.404Z"
   },
   {
    "duration": 8,
    "start_time": "2023-08-14T09:07:13.423Z"
   },
   {
    "duration": 25,
    "start_time": "2023-08-14T09:07:13.433Z"
   },
   {
    "duration": 107,
    "start_time": "2023-08-14T09:07:13.459Z"
   },
   {
    "duration": 7,
    "start_time": "2023-08-14T09:07:13.567Z"
   },
   {
    "duration": 27,
    "start_time": "2023-08-14T09:07:13.576Z"
   },
   {
    "duration": 11,
    "start_time": "2023-08-14T09:07:13.605Z"
   },
   {
    "duration": 7,
    "start_time": "2023-08-14T09:07:13.618Z"
   },
   {
    "duration": 30,
    "start_time": "2023-08-14T09:07:13.627Z"
   },
   {
    "duration": 14,
    "start_time": "2023-08-14T09:07:13.659Z"
   },
   {
    "duration": 17,
    "start_time": "2023-08-14T09:07:13.675Z"
   },
   {
    "duration": 26,
    "start_time": "2023-08-14T09:07:13.695Z"
   },
   {
    "duration": 22,
    "start_time": "2023-08-14T09:07:13.723Z"
   },
   {
    "duration": 16,
    "start_time": "2023-08-14T09:07:13.747Z"
   },
   {
    "duration": 24,
    "start_time": "2023-08-14T09:07:13.765Z"
   },
   {
    "duration": 24,
    "start_time": "2023-08-14T09:07:13.791Z"
   },
   {
    "duration": 158,
    "start_time": "2023-08-14T09:07:13.818Z"
   },
   {
    "duration": 5,
    "start_time": "2023-08-14T09:07:13.978Z"
   },
   {
    "duration": 139,
    "start_time": "2023-08-14T09:07:13.985Z"
   },
   {
    "duration": 335,
    "start_time": "2023-08-14T09:07:14.126Z"
   },
   {
    "duration": 15,
    "start_time": "2023-08-14T09:07:14.464Z"
   },
   {
    "duration": 172,
    "start_time": "2023-08-14T09:07:14.482Z"
   },
   {
    "duration": 13,
    "start_time": "2023-08-14T09:07:14.656Z"
   },
   {
    "duration": 200,
    "start_time": "2023-08-14T09:07:14.671Z"
   },
   {
    "duration": 23,
    "start_time": "2023-08-14T09:07:14.872Z"
   },
   {
    "duration": 22,
    "start_time": "2023-08-14T09:07:14.897Z"
   },
   {
    "duration": 22,
    "start_time": "2023-08-14T09:07:14.921Z"
   },
   {
    "duration": 21,
    "start_time": "2023-08-14T09:07:14.944Z"
   },
   {
    "duration": 156,
    "start_time": "2023-08-14T09:07:14.967Z"
   },
   {
    "duration": 260,
    "start_time": "2023-08-14T09:07:15.125Z"
   },
   {
    "duration": 196,
    "start_time": "2023-08-14T09:07:15.387Z"
   },
   {
    "duration": 195,
    "start_time": "2023-08-14T09:07:15.594Z"
   },
   {
    "duration": 23,
    "start_time": "2023-08-14T09:07:15.794Z"
   },
   {
    "duration": 27,
    "start_time": "2023-08-14T09:07:15.820Z"
   },
   {
    "duration": 54,
    "start_time": "2023-08-14T09:07:15.850Z"
   },
   {
    "duration": 182,
    "start_time": "2023-08-14T09:07:15.906Z"
   },
   {
    "duration": 0,
    "start_time": "2023-08-14T09:07:16.090Z"
   },
   {
    "duration": 0,
    "start_time": "2023-08-14T09:07:16.091Z"
   },
   {
    "duration": 0,
    "start_time": "2023-08-14T09:07:16.092Z"
   },
   {
    "duration": 0,
    "start_time": "2023-08-14T09:07:16.094Z"
   },
   {
    "duration": 0,
    "start_time": "2023-08-14T09:07:16.096Z"
   },
   {
    "duration": 0,
    "start_time": "2023-08-14T09:07:16.097Z"
   },
   {
    "duration": 0,
    "start_time": "2023-08-14T09:07:16.098Z"
   },
   {
    "duration": 0,
    "start_time": "2023-08-14T09:07:16.100Z"
   },
   {
    "duration": 0,
    "start_time": "2023-08-14T09:07:16.101Z"
   },
   {
    "duration": 0,
    "start_time": "2023-08-14T09:07:16.103Z"
   },
   {
    "duration": 1247,
    "start_time": "2023-08-14T10:42:26.375Z"
   },
   {
    "duration": 149,
    "start_time": "2023-08-14T10:42:27.624Z"
   },
   {
    "duration": 2,
    "start_time": "2023-08-14T10:42:27.775Z"
   },
   {
    "duration": 108,
    "start_time": "2023-08-14T10:42:27.779Z"
   },
   {
    "duration": 27,
    "start_time": "2023-08-14T10:42:27.889Z"
   },
   {
    "duration": 195,
    "start_time": "2023-08-14T10:42:27.919Z"
   },
   {
    "duration": 68,
    "start_time": "2023-08-14T10:42:28.115Z"
   },
   {
    "duration": 9,
    "start_time": "2023-08-14T10:42:28.184Z"
   },
   {
    "duration": 52,
    "start_time": "2023-08-14T10:42:28.195Z"
   },
   {
    "duration": 204,
    "start_time": "2023-08-14T10:42:28.250Z"
   },
   {
    "duration": 163,
    "start_time": "2023-08-14T10:42:28.456Z"
   },
   {
    "duration": 55,
    "start_time": "2023-08-14T10:42:28.621Z"
   },
   {
    "duration": 17,
    "start_time": "2023-08-14T10:42:28.677Z"
   },
   {
    "duration": 50,
    "start_time": "2023-08-14T10:42:28.697Z"
   },
   {
    "duration": 126,
    "start_time": "2023-08-14T10:42:28.749Z"
   },
   {
    "duration": 6,
    "start_time": "2023-08-14T10:42:28.877Z"
   },
   {
    "duration": 44,
    "start_time": "2023-08-14T10:42:28.886Z"
   },
   {
    "duration": 67,
    "start_time": "2023-08-14T10:42:28.932Z"
   },
   {
    "duration": 20,
    "start_time": "2023-08-14T10:42:29.002Z"
   },
   {
    "duration": 34,
    "start_time": "2023-08-14T10:42:29.023Z"
   },
   {
    "duration": 41,
    "start_time": "2023-08-14T10:42:29.059Z"
   },
   {
    "duration": 45,
    "start_time": "2023-08-14T10:42:29.102Z"
   },
   {
    "duration": 54,
    "start_time": "2023-08-14T10:42:29.149Z"
   },
   {
    "duration": 38,
    "start_time": "2023-08-14T10:42:29.204Z"
   },
   {
    "duration": 36,
    "start_time": "2023-08-14T10:42:29.243Z"
   },
   {
    "duration": 51,
    "start_time": "2023-08-14T10:42:29.281Z"
   },
   {
    "duration": 119,
    "start_time": "2023-08-14T10:42:29.333Z"
   },
   {
    "duration": 212,
    "start_time": "2023-08-14T10:42:29.455Z"
   },
   {
    "duration": 4,
    "start_time": "2023-08-14T10:42:29.669Z"
   },
   {
    "duration": 63,
    "start_time": "2023-08-14T10:42:29.675Z"
   },
   {
    "duration": 293,
    "start_time": "2023-08-14T10:42:29.740Z"
   },
   {
    "duration": 13,
    "start_time": "2023-08-14T10:42:30.035Z"
   },
   {
    "duration": 203,
    "start_time": "2023-08-14T10:42:30.049Z"
   },
   {
    "duration": 12,
    "start_time": "2023-08-14T10:42:30.253Z"
   },
   {
    "duration": 283,
    "start_time": "2023-08-14T10:42:30.267Z"
   },
   {
    "duration": 18,
    "start_time": "2023-08-14T10:42:30.551Z"
   },
   {
    "duration": 34,
    "start_time": "2023-08-14T10:42:30.571Z"
   },
   {
    "duration": 42,
    "start_time": "2023-08-14T10:42:30.607Z"
   },
   {
    "duration": 40,
    "start_time": "2023-08-14T10:42:30.651Z"
   },
   {
    "duration": 178,
    "start_time": "2023-08-14T10:42:30.693Z"
   },
   {
    "duration": 253,
    "start_time": "2023-08-14T10:42:30.873Z"
   },
   {
    "duration": 162,
    "start_time": "2023-08-14T10:42:31.128Z"
   },
   {
    "duration": 184,
    "start_time": "2023-08-14T10:42:31.292Z"
   },
   {
    "duration": 26,
    "start_time": "2023-08-14T10:42:31.487Z"
   },
   {
    "duration": 21,
    "start_time": "2023-08-14T10:42:39.542Z"
   },
   {
    "duration": 58,
    "start_time": "2023-08-14T10:42:39.565Z"
   },
   {
    "duration": 96,
    "start_time": "2023-08-14T10:42:41.082Z"
   },
   {
    "duration": 2539,
    "start_time": "2023-08-14T10:42:44.914Z"
   },
   {
    "duration": 0,
    "start_time": "2023-08-14T10:42:47.455Z"
   },
   {
    "duration": 0,
    "start_time": "2023-08-14T10:42:47.456Z"
   },
   {
    "duration": 0,
    "start_time": "2023-08-14T10:42:47.456Z"
   },
   {
    "duration": 0,
    "start_time": "2023-08-14T10:42:47.458Z"
   },
   {
    "duration": 0,
    "start_time": "2023-08-14T10:42:47.459Z"
   },
   {
    "duration": 0,
    "start_time": "2023-08-14T10:42:47.460Z"
   },
   {
    "duration": 1,
    "start_time": "2023-08-14T10:42:47.461Z"
   },
   {
    "duration": 0,
    "start_time": "2023-08-14T10:42:47.463Z"
   },
   {
    "duration": 0,
    "start_time": "2023-08-14T10:42:47.463Z"
   },
   {
    "duration": 1233,
    "start_time": "2023-08-14T16:41:54.050Z"
   },
   {
    "duration": 136,
    "start_time": "2023-08-14T16:41:55.285Z"
   },
   {
    "duration": 3,
    "start_time": "2023-08-14T16:41:55.422Z"
   },
   {
    "duration": 38,
    "start_time": "2023-08-14T16:41:55.426Z"
   },
   {
    "duration": 8,
    "start_time": "2023-08-14T16:41:55.466Z"
   },
   {
    "duration": 143,
    "start_time": "2023-08-14T16:41:55.476Z"
   },
   {
    "duration": 73,
    "start_time": "2023-08-14T16:41:55.620Z"
   },
   {
    "duration": 7,
    "start_time": "2023-08-14T16:41:55.694Z"
   },
   {
    "duration": 19,
    "start_time": "2023-08-14T16:41:55.702Z"
   },
   {
    "duration": 131,
    "start_time": "2023-08-14T16:41:55.724Z"
   },
   {
    "duration": 130,
    "start_time": "2023-08-14T16:41:55.856Z"
   },
   {
    "duration": 61,
    "start_time": "2023-08-14T16:41:55.987Z"
   },
   {
    "duration": 8,
    "start_time": "2023-08-14T16:41:56.050Z"
   },
   {
    "duration": 10,
    "start_time": "2023-08-14T16:41:56.059Z"
   },
   {
    "duration": 93,
    "start_time": "2023-08-14T16:41:56.070Z"
   },
   {
    "duration": 6,
    "start_time": "2023-08-14T16:41:56.164Z"
   },
   {
    "duration": 21,
    "start_time": "2023-08-14T16:41:56.171Z"
   },
   {
    "duration": 16,
    "start_time": "2023-08-14T16:41:56.194Z"
   },
   {
    "duration": 12,
    "start_time": "2023-08-14T16:41:56.211Z"
   },
   {
    "duration": 11,
    "start_time": "2023-08-14T16:41:56.225Z"
   },
   {
    "duration": 28,
    "start_time": "2023-08-14T16:41:56.237Z"
   },
   {
    "duration": 11,
    "start_time": "2023-08-14T16:41:56.266Z"
   },
   {
    "duration": 13,
    "start_time": "2023-08-14T16:41:56.279Z"
   },
   {
    "duration": 17,
    "start_time": "2023-08-14T16:41:56.293Z"
   },
   {
    "duration": 8,
    "start_time": "2023-08-14T16:41:56.312Z"
   },
   {
    "duration": 28,
    "start_time": "2023-08-14T16:41:56.322Z"
   },
   {
    "duration": 19,
    "start_time": "2023-08-14T16:41:56.351Z"
   },
   {
    "duration": 128,
    "start_time": "2023-08-14T16:41:56.373Z"
   },
   {
    "duration": 5,
    "start_time": "2023-08-14T16:41:56.502Z"
   },
   {
    "duration": 10,
    "start_time": "2023-08-14T16:41:56.508Z"
   },
   {
    "duration": 214,
    "start_time": "2023-08-14T16:41:56.519Z"
   },
   {
    "duration": 17,
    "start_time": "2023-08-14T16:41:56.737Z"
   },
   {
    "duration": 144,
    "start_time": "2023-08-14T16:41:56.756Z"
   },
   {
    "duration": 11,
    "start_time": "2023-08-14T16:41:56.901Z"
   },
   {
    "duration": 157,
    "start_time": "2023-08-14T16:41:56.913Z"
   },
   {
    "duration": 16,
    "start_time": "2023-08-14T16:41:57.071Z"
   },
   {
    "duration": 10,
    "start_time": "2023-08-14T16:41:57.088Z"
   },
   {
    "duration": 14,
    "start_time": "2023-08-14T16:41:57.099Z"
   },
   {
    "duration": 18,
    "start_time": "2023-08-14T16:41:57.114Z"
   },
   {
    "duration": 129,
    "start_time": "2023-08-14T16:41:57.134Z"
   },
   {
    "duration": 197,
    "start_time": "2023-08-14T16:41:57.264Z"
   },
   {
    "duration": 133,
    "start_time": "2023-08-14T16:41:57.462Z"
   },
   {
    "duration": 156,
    "start_time": "2023-08-14T16:41:57.597Z"
   },
   {
    "duration": 18,
    "start_time": "2023-08-14T16:41:57.754Z"
   },
   {
    "duration": 25,
    "start_time": "2023-08-14T16:41:57.774Z"
   },
   {
    "duration": 30,
    "start_time": "2023-08-14T16:41:57.801Z"
   },
   {
    "duration": 101,
    "start_time": "2023-08-14T16:41:57.833Z"
   },
   {
    "duration": 0,
    "start_time": "2023-08-14T16:41:57.940Z"
   },
   {
    "duration": 0,
    "start_time": "2023-08-14T16:41:57.941Z"
   },
   {
    "duration": 0,
    "start_time": "2023-08-14T16:41:57.941Z"
   },
   {
    "duration": 0,
    "start_time": "2023-08-14T16:41:57.942Z"
   },
   {
    "duration": 0,
    "start_time": "2023-08-14T16:41:57.942Z"
   },
   {
    "duration": 0,
    "start_time": "2023-08-14T16:41:57.943Z"
   },
   {
    "duration": 0,
    "start_time": "2023-08-14T16:41:57.943Z"
   },
   {
    "duration": 0,
    "start_time": "2023-08-14T16:41:57.943Z"
   },
   {
    "duration": 0,
    "start_time": "2023-08-14T16:41:57.944Z"
   },
   {
    "duration": 0,
    "start_time": "2023-08-14T16:41:57.945Z"
   },
   {
    "duration": 1006,
    "start_time": "2023-08-14T16:42:27.372Z"
   },
   {
    "duration": 69,
    "start_time": "2023-08-14T16:42:28.380Z"
   },
   {
    "duration": 3,
    "start_time": "2023-08-14T16:42:28.450Z"
   },
   {
    "duration": 28,
    "start_time": "2023-08-14T16:42:28.455Z"
   },
   {
    "duration": 12,
    "start_time": "2023-08-14T16:42:28.485Z"
   },
   {
    "duration": 175,
    "start_time": "2023-08-14T16:42:28.498Z"
   },
   {
    "duration": 24,
    "start_time": "2023-08-14T16:42:28.675Z"
   },
   {
    "duration": 17,
    "start_time": "2023-08-14T16:42:28.701Z"
   },
   {
    "duration": 29,
    "start_time": "2023-08-14T16:42:28.719Z"
   },
   {
    "duration": 135,
    "start_time": "2023-08-14T16:42:28.752Z"
   },
   {
    "duration": 134,
    "start_time": "2023-08-14T16:42:28.889Z"
   },
   {
    "duration": 14,
    "start_time": "2023-08-14T16:42:29.025Z"
   },
   {
    "duration": 20,
    "start_time": "2023-08-14T16:42:29.049Z"
   },
   {
    "duration": 17,
    "start_time": "2023-08-14T16:42:29.071Z"
   },
   {
    "duration": 108,
    "start_time": "2023-08-14T16:42:29.089Z"
   },
   {
    "duration": 8,
    "start_time": "2023-08-14T16:42:29.198Z"
   },
   {
    "duration": 12,
    "start_time": "2023-08-14T16:42:29.207Z"
   },
   {
    "duration": 12,
    "start_time": "2023-08-14T16:42:29.221Z"
   },
   {
    "duration": 13,
    "start_time": "2023-08-14T16:42:29.237Z"
   },
   {
    "duration": 18,
    "start_time": "2023-08-14T16:42:29.252Z"
   },
   {
    "duration": 13,
    "start_time": "2023-08-14T16:42:29.271Z"
   },
   {
    "duration": 6,
    "start_time": "2023-08-14T16:42:29.285Z"
   },
   {
    "duration": 8,
    "start_time": "2023-08-14T16:42:29.293Z"
   },
   {
    "duration": 13,
    "start_time": "2023-08-14T16:42:29.302Z"
   },
   {
    "duration": 5,
    "start_time": "2023-08-14T16:42:29.317Z"
   },
   {
    "duration": 12,
    "start_time": "2023-08-14T16:42:29.323Z"
   },
   {
    "duration": 11,
    "start_time": "2023-08-14T16:42:29.344Z"
   },
   {
    "duration": 118,
    "start_time": "2023-08-14T16:42:29.358Z"
   },
   {
    "duration": 5,
    "start_time": "2023-08-14T16:42:29.477Z"
   },
   {
    "duration": 10,
    "start_time": "2023-08-14T16:42:29.483Z"
   },
   {
    "duration": 224,
    "start_time": "2023-08-14T16:42:29.494Z"
   },
   {
    "duration": 25,
    "start_time": "2023-08-14T16:42:29.719Z"
   },
   {
    "duration": 141,
    "start_time": "2023-08-14T16:42:29.745Z"
   },
   {
    "duration": 10,
    "start_time": "2023-08-14T16:42:29.887Z"
   },
   {
    "duration": 154,
    "start_time": "2023-08-14T16:42:29.898Z"
   },
   {
    "duration": 15,
    "start_time": "2023-08-14T16:42:30.053Z"
   },
   {
    "duration": 44,
    "start_time": "2023-08-14T16:42:30.069Z"
   },
   {
    "duration": 41,
    "start_time": "2023-08-14T16:42:30.114Z"
   },
   {
    "duration": 27,
    "start_time": "2023-08-14T16:42:30.156Z"
   },
   {
    "duration": 137,
    "start_time": "2023-08-14T16:42:30.184Z"
   },
   {
    "duration": 195,
    "start_time": "2023-08-14T16:42:30.323Z"
   },
   {
    "duration": 160,
    "start_time": "2023-08-14T16:42:30.520Z"
   },
   {
    "duration": 142,
    "start_time": "2023-08-14T16:42:30.681Z"
   },
   {
    "duration": 27,
    "start_time": "2023-08-14T16:42:30.824Z"
   },
   {
    "duration": 31,
    "start_time": "2023-08-14T16:42:30.853Z"
   },
   {
    "duration": 22,
    "start_time": "2023-08-14T16:42:30.885Z"
   },
   {
    "duration": 121,
    "start_time": "2023-08-14T16:42:30.908Z"
   },
   {
    "duration": 0,
    "start_time": "2023-08-14T16:42:31.030Z"
   },
   {
    "duration": 0,
    "start_time": "2023-08-14T16:42:31.031Z"
   },
   {
    "duration": 0,
    "start_time": "2023-08-14T16:42:31.032Z"
   },
   {
    "duration": 0,
    "start_time": "2023-08-14T16:42:31.033Z"
   },
   {
    "duration": 0,
    "start_time": "2023-08-14T16:42:31.037Z"
   },
   {
    "duration": 0,
    "start_time": "2023-08-14T16:42:31.038Z"
   },
   {
    "duration": 0,
    "start_time": "2023-08-14T16:42:31.038Z"
   },
   {
    "duration": 0,
    "start_time": "2023-08-14T16:42:31.039Z"
   },
   {
    "duration": 0,
    "start_time": "2023-08-14T16:42:31.039Z"
   },
   {
    "duration": 0,
    "start_time": "2023-08-14T16:42:31.040Z"
   },
   {
    "duration": 1240,
    "start_time": "2023-08-14T17:22:20.503Z"
   },
   {
    "duration": 136,
    "start_time": "2023-08-14T17:22:21.745Z"
   },
   {
    "duration": 10,
    "start_time": "2023-08-14T17:22:21.883Z"
   },
   {
    "duration": 53,
    "start_time": "2023-08-14T17:22:21.899Z"
   },
   {
    "duration": 11,
    "start_time": "2023-08-14T17:22:21.954Z"
   },
   {
    "duration": 164,
    "start_time": "2023-08-14T17:22:21.966Z"
   },
   {
    "duration": 91,
    "start_time": "2023-08-14T17:22:22.131Z"
   },
   {
    "duration": 12,
    "start_time": "2023-08-14T17:22:22.224Z"
   },
   {
    "duration": 22,
    "start_time": "2023-08-14T17:22:22.238Z"
   },
   {
    "duration": 152,
    "start_time": "2023-08-14T17:22:22.262Z"
   },
   {
    "duration": 139,
    "start_time": "2023-08-14T17:22:22.415Z"
   },
   {
    "duration": 446,
    "start_time": "2023-08-14T17:22:22.556Z"
   },
   {
    "duration": 276,
    "start_time": "2023-08-14T17:22:23.003Z"
   },
   {
    "duration": 33,
    "start_time": "2023-08-14T17:22:23.282Z"
   },
   {
    "duration": 142,
    "start_time": "2023-08-14T17:22:23.318Z"
   },
   {
    "duration": 7,
    "start_time": "2023-08-14T17:22:23.461Z"
   },
   {
    "duration": 35,
    "start_time": "2023-08-14T17:22:23.470Z"
   },
   {
    "duration": 33,
    "start_time": "2023-08-14T17:22:23.506Z"
   },
   {
    "duration": 17,
    "start_time": "2023-08-14T17:22:23.541Z"
   },
   {
    "duration": 24,
    "start_time": "2023-08-14T17:22:23.559Z"
   },
   {
    "duration": 37,
    "start_time": "2023-08-14T17:22:23.585Z"
   },
   {
    "duration": 17,
    "start_time": "2023-08-14T17:22:23.624Z"
   },
   {
    "duration": 40,
    "start_time": "2023-08-14T17:22:23.643Z"
   },
   {
    "duration": 31,
    "start_time": "2023-08-14T17:22:23.684Z"
   },
   {
    "duration": 8,
    "start_time": "2023-08-14T17:22:23.717Z"
   },
   {
    "duration": 15,
    "start_time": "2023-08-14T17:22:23.727Z"
   },
   {
    "duration": 11,
    "start_time": "2023-08-14T17:22:23.744Z"
   },
   {
    "duration": 128,
    "start_time": "2023-08-14T17:22:23.757Z"
   },
   {
    "duration": 5,
    "start_time": "2023-08-14T17:22:23.887Z"
   },
   {
    "duration": 17,
    "start_time": "2023-08-14T17:22:23.894Z"
   },
   {
    "duration": 228,
    "start_time": "2023-08-14T17:22:23.912Z"
   },
   {
    "duration": 13,
    "start_time": "2023-08-14T17:22:24.142Z"
   },
   {
    "duration": 154,
    "start_time": "2023-08-14T17:22:24.157Z"
   },
   {
    "duration": 12,
    "start_time": "2023-08-14T17:22:24.314Z"
   },
   {
    "duration": 153,
    "start_time": "2023-08-14T17:22:24.338Z"
   },
   {
    "duration": 17,
    "start_time": "2023-08-14T17:22:24.493Z"
   },
   {
    "duration": 27,
    "start_time": "2023-08-14T17:22:24.512Z"
   },
   {
    "duration": 11,
    "start_time": "2023-08-14T17:22:24.541Z"
   },
   {
    "duration": 9,
    "start_time": "2023-08-14T17:22:24.554Z"
   },
   {
    "duration": 160,
    "start_time": "2023-08-14T17:22:24.565Z"
   },
   {
    "duration": 251,
    "start_time": "2023-08-14T17:22:24.738Z"
   },
   {
    "duration": 160,
    "start_time": "2023-08-14T17:22:24.991Z"
   },
   {
    "duration": 165,
    "start_time": "2023-08-14T17:22:25.153Z"
   },
   {
    "duration": 24,
    "start_time": "2023-08-14T17:22:25.320Z"
   },
   {
    "duration": 20,
    "start_time": "2023-08-14T17:22:25.346Z"
   },
   {
    "duration": 23,
    "start_time": "2023-08-14T17:22:25.367Z"
   },
   {
    "duration": 6610,
    "start_time": "2023-08-14T17:22:25.391Z"
   },
   {
    "duration": 5,
    "start_time": "2023-08-14T17:22:32.002Z"
   },
   {
    "duration": 29,
    "start_time": "2023-08-14T17:22:32.008Z"
   },
   {
    "duration": 12,
    "start_time": "2023-08-14T17:22:32.039Z"
   },
   {
    "duration": 24,
    "start_time": "2023-08-14T17:22:32.053Z"
   },
   {
    "duration": 127,
    "start_time": "2023-08-14T17:22:32.078Z"
   },
   {
    "duration": 0,
    "start_time": "2023-08-14T17:22:32.206Z"
   },
   {
    "duration": 0,
    "start_time": "2023-08-14T17:22:32.208Z"
   },
   {
    "duration": 0,
    "start_time": "2023-08-14T17:22:32.209Z"
   },
   {
    "duration": 0,
    "start_time": "2023-08-14T17:22:32.211Z"
   },
   {
    "duration": 0,
    "start_time": "2023-08-14T17:22:32.212Z"
   },
   {
    "duration": 1019,
    "start_time": "2023-08-14T17:38:57.053Z"
   },
   {
    "duration": 77,
    "start_time": "2023-08-14T17:38:58.074Z"
   },
   {
    "duration": 3,
    "start_time": "2023-08-14T17:38:58.153Z"
   },
   {
    "duration": 25,
    "start_time": "2023-08-14T17:38:58.158Z"
   },
   {
    "duration": 32,
    "start_time": "2023-08-14T17:38:58.185Z"
   },
   {
    "duration": 162,
    "start_time": "2023-08-14T17:38:58.219Z"
   },
   {
    "duration": 26,
    "start_time": "2023-08-14T17:38:58.383Z"
   },
   {
    "duration": 9,
    "start_time": "2023-08-14T17:38:58.410Z"
   },
   {
    "duration": 24,
    "start_time": "2023-08-14T17:38:58.420Z"
   },
   {
    "duration": 148,
    "start_time": "2023-08-14T17:38:58.448Z"
   },
   {
    "duration": 147,
    "start_time": "2023-08-14T17:38:58.598Z"
   },
   {
    "duration": 15,
    "start_time": "2023-08-14T17:38:58.747Z"
   },
   {
    "duration": 7,
    "start_time": "2023-08-14T17:38:58.764Z"
   },
   {
    "duration": 15,
    "start_time": "2023-08-14T17:38:58.773Z"
   },
   {
    "duration": 93,
    "start_time": "2023-08-14T17:38:58.789Z"
   },
   {
    "duration": 7,
    "start_time": "2023-08-14T17:38:58.884Z"
   },
   {
    "duration": 34,
    "start_time": "2023-08-14T17:38:58.892Z"
   },
   {
    "duration": 8,
    "start_time": "2023-08-14T17:38:58.928Z"
   },
   {
    "duration": 14,
    "start_time": "2023-08-14T17:38:58.938Z"
   },
   {
    "duration": 8,
    "start_time": "2023-08-14T17:38:58.953Z"
   },
   {
    "duration": 26,
    "start_time": "2023-08-14T17:38:58.962Z"
   },
   {
    "duration": 6,
    "start_time": "2023-08-14T17:38:58.990Z"
   },
   {
    "duration": 11,
    "start_time": "2023-08-14T17:38:58.998Z"
   },
   {
    "duration": 9,
    "start_time": "2023-08-14T17:38:59.011Z"
   },
   {
    "duration": 8,
    "start_time": "2023-08-14T17:38:59.038Z"
   },
   {
    "duration": 9,
    "start_time": "2023-08-14T17:38:59.047Z"
   },
   {
    "duration": 10,
    "start_time": "2023-08-14T17:38:59.057Z"
   },
   {
    "duration": 210,
    "start_time": "2023-08-14T17:38:59.072Z"
   },
   {
    "duration": 7,
    "start_time": "2023-08-14T17:38:59.284Z"
   },
   {
    "duration": 32,
    "start_time": "2023-08-14T17:38:59.293Z"
   },
   {
    "duration": 229,
    "start_time": "2023-08-14T17:38:59.327Z"
   },
   {
    "duration": 14,
    "start_time": "2023-08-14T17:38:59.558Z"
   },
   {
    "duration": 155,
    "start_time": "2023-08-14T17:38:59.573Z"
   },
   {
    "duration": 21,
    "start_time": "2023-08-14T17:38:59.730Z"
   },
   {
    "duration": 171,
    "start_time": "2023-08-14T17:38:59.752Z"
   },
   {
    "duration": 21,
    "start_time": "2023-08-14T17:38:59.924Z"
   },
   {
    "duration": 18,
    "start_time": "2023-08-14T17:38:59.947Z"
   },
   {
    "duration": 22,
    "start_time": "2023-08-14T17:38:59.967Z"
   },
   {
    "duration": 37,
    "start_time": "2023-08-14T17:38:59.991Z"
   },
   {
    "duration": 172,
    "start_time": "2023-08-14T17:39:00.030Z"
   },
   {
    "duration": 197,
    "start_time": "2023-08-14T17:39:00.204Z"
   },
   {
    "duration": 159,
    "start_time": "2023-08-14T17:39:00.403Z"
   },
   {
    "duration": 197,
    "start_time": "2023-08-14T17:39:00.564Z"
   },
   {
    "duration": 19,
    "start_time": "2023-08-14T17:39:00.763Z"
   },
   {
    "duration": 53,
    "start_time": "2023-08-14T17:39:00.783Z"
   },
   {
    "duration": 33,
    "start_time": "2023-08-14T17:39:00.837Z"
   },
   {
    "duration": 6759,
    "start_time": "2023-08-14T17:39:00.871Z"
   },
   {
    "duration": 9,
    "start_time": "2023-08-14T17:39:07.632Z"
   },
   {
    "duration": 138,
    "start_time": "2023-08-14T17:39:07.643Z"
   },
   {
    "duration": 9,
    "start_time": "2023-08-14T17:39:07.783Z"
   },
   {
    "duration": 22,
    "start_time": "2023-08-14T17:39:07.796Z"
   },
   {
    "duration": 103,
    "start_time": "2023-08-14T17:39:07.820Z"
   },
   {
    "duration": 0,
    "start_time": "2023-08-14T17:39:07.925Z"
   },
   {
    "duration": 0,
    "start_time": "2023-08-14T17:39:07.927Z"
   },
   {
    "duration": 0,
    "start_time": "2023-08-14T17:39:07.928Z"
   },
   {
    "duration": 0,
    "start_time": "2023-08-14T17:39:07.938Z"
   },
   {
    "duration": 0,
    "start_time": "2023-08-14T17:39:07.939Z"
   },
   {
    "duration": 3488,
    "start_time": "2023-08-14T17:42:28.481Z"
   },
   {
    "duration": 4,
    "start_time": "2023-08-14T17:44:02.189Z"
   },
   {
    "duration": 375,
    "start_time": "2023-08-14T17:44:04.153Z"
   },
   {
    "duration": 1260,
    "start_time": "2023-08-14T17:44:33.736Z"
   },
   {
    "duration": 89,
    "start_time": "2023-08-14T17:44:34.998Z"
   },
   {
    "duration": 4,
    "start_time": "2023-08-14T17:44:35.088Z"
   },
   {
    "duration": 21,
    "start_time": "2023-08-14T17:44:35.093Z"
   },
   {
    "duration": 16,
    "start_time": "2023-08-14T17:44:35.116Z"
   },
   {
    "duration": 182,
    "start_time": "2023-08-14T17:44:35.134Z"
   },
   {
    "duration": 37,
    "start_time": "2023-08-14T17:44:35.318Z"
   },
   {
    "duration": 16,
    "start_time": "2023-08-14T17:44:35.356Z"
   },
   {
    "duration": 22,
    "start_time": "2023-08-14T17:44:35.374Z"
   },
   {
    "duration": 159,
    "start_time": "2023-08-14T17:44:35.400Z"
   },
   {
    "duration": 138,
    "start_time": "2023-08-14T17:44:35.561Z"
   },
   {
    "duration": 16,
    "start_time": "2023-08-14T17:44:35.700Z"
   },
   {
    "duration": 46,
    "start_time": "2023-08-14T17:44:35.717Z"
   },
   {
    "duration": 59,
    "start_time": "2023-08-14T17:44:35.765Z"
   },
   {
    "duration": 126,
    "start_time": "2023-08-14T17:44:35.826Z"
   },
   {
    "duration": 8,
    "start_time": "2023-08-14T17:44:35.953Z"
   },
   {
    "duration": 51,
    "start_time": "2023-08-14T17:44:35.962Z"
   },
   {
    "duration": 49,
    "start_time": "2023-08-14T17:44:36.015Z"
   },
   {
    "duration": 55,
    "start_time": "2023-08-14T17:44:36.065Z"
   },
   {
    "duration": 70,
    "start_time": "2023-08-14T17:44:36.122Z"
   },
   {
    "duration": 89,
    "start_time": "2023-08-14T17:44:36.194Z"
   },
   {
    "duration": 47,
    "start_time": "2023-08-14T17:44:36.285Z"
   },
   {
    "duration": 43,
    "start_time": "2023-08-14T17:44:36.334Z"
   },
   {
    "duration": 89,
    "start_time": "2023-08-14T17:44:36.379Z"
   },
   {
    "duration": 43,
    "start_time": "2023-08-14T17:44:36.470Z"
   },
   {
    "duration": 57,
    "start_time": "2023-08-14T17:44:36.515Z"
   },
   {
    "duration": 46,
    "start_time": "2023-08-14T17:44:36.574Z"
   },
   {
    "duration": 167,
    "start_time": "2023-08-14T17:44:36.625Z"
   },
   {
    "duration": 4,
    "start_time": "2023-08-14T17:44:36.794Z"
   },
   {
    "duration": 62,
    "start_time": "2023-08-14T17:44:36.799Z"
   },
   {
    "duration": 252,
    "start_time": "2023-08-14T17:44:36.863Z"
   },
   {
    "duration": 28,
    "start_time": "2023-08-14T17:44:37.117Z"
   },
   {
    "duration": 213,
    "start_time": "2023-08-14T17:44:37.146Z"
   },
   {
    "duration": 16,
    "start_time": "2023-08-14T17:44:37.361Z"
   },
   {
    "duration": 191,
    "start_time": "2023-08-14T17:44:37.379Z"
   },
   {
    "duration": 17,
    "start_time": "2023-08-14T17:44:37.572Z"
   },
   {
    "duration": 74,
    "start_time": "2023-08-14T17:44:37.591Z"
   },
   {
    "duration": 59,
    "start_time": "2023-08-14T17:44:37.667Z"
   },
   {
    "duration": 20,
    "start_time": "2023-08-14T17:44:37.728Z"
   },
   {
    "duration": 176,
    "start_time": "2023-08-14T17:44:37.749Z"
   },
   {
    "duration": 219,
    "start_time": "2023-08-14T17:44:37.927Z"
   },
   {
    "duration": 143,
    "start_time": "2023-08-14T17:44:38.158Z"
   },
   {
    "duration": 157,
    "start_time": "2023-08-14T17:44:38.302Z"
   },
   {
    "duration": 19,
    "start_time": "2023-08-14T17:44:38.461Z"
   },
   {
    "duration": 47,
    "start_time": "2023-08-14T17:44:38.483Z"
   },
   {
    "duration": 55,
    "start_time": "2023-08-14T17:44:38.532Z"
   },
   {
    "duration": 40,
    "start_time": "2023-08-14T17:44:38.589Z"
   },
   {
    "duration": 8262,
    "start_time": "2023-08-14T17:44:38.631Z"
   },
   {
    "duration": 4,
    "start_time": "2023-08-14T17:44:46.895Z"
   },
   {
    "duration": 179,
    "start_time": "2023-08-14T17:44:46.901Z"
   },
   {
    "duration": 0,
    "start_time": "2023-08-14T17:44:47.082Z"
   },
   {
    "duration": 0,
    "start_time": "2023-08-14T17:44:47.083Z"
   },
   {
    "duration": 0,
    "start_time": "2023-08-14T17:44:47.084Z"
   },
   {
    "duration": 0,
    "start_time": "2023-08-14T17:44:47.085Z"
   },
   {
    "duration": 0,
    "start_time": "2023-08-14T17:44:47.087Z"
   },
   {
    "duration": 0,
    "start_time": "2023-08-14T17:44:47.088Z"
   },
   {
    "duration": 0,
    "start_time": "2023-08-14T17:44:47.089Z"
   },
   {
    "duration": 0,
    "start_time": "2023-08-14T17:44:47.090Z"
   },
   {
    "duration": 0,
    "start_time": "2023-08-14T17:44:47.091Z"
   },
   {
    "duration": 5,
    "start_time": "2023-08-14T17:46:11.102Z"
   },
   {
    "duration": 6,
    "start_time": "2023-08-14T17:46:30.923Z"
   },
   {
    "duration": 232,
    "start_time": "2023-08-14T17:58:37.417Z"
   },
   {
    "duration": 1081,
    "start_time": "2023-08-14T18:14:37.083Z"
   },
   {
    "duration": 67,
    "start_time": "2023-08-14T18:14:38.165Z"
   },
   {
    "duration": 14,
    "start_time": "2023-08-14T18:14:38.234Z"
   },
   {
    "duration": 18,
    "start_time": "2023-08-14T18:14:38.257Z"
   },
   {
    "duration": 20,
    "start_time": "2023-08-14T18:14:38.277Z"
   },
   {
    "duration": 155,
    "start_time": "2023-08-14T18:14:38.298Z"
   },
   {
    "duration": 35,
    "start_time": "2023-08-14T18:14:38.455Z"
   },
   {
    "duration": 7,
    "start_time": "2023-08-14T18:14:38.492Z"
   },
   {
    "duration": 11,
    "start_time": "2023-08-14T18:14:38.501Z"
   },
   {
    "duration": 156,
    "start_time": "2023-08-14T18:14:38.515Z"
   },
   {
    "duration": 136,
    "start_time": "2023-08-14T18:14:38.673Z"
   },
   {
    "duration": 16,
    "start_time": "2023-08-14T18:14:38.811Z"
   },
   {
    "duration": 7,
    "start_time": "2023-08-14T18:14:38.828Z"
   },
   {
    "duration": 43,
    "start_time": "2023-08-14T18:14:38.837Z"
   },
   {
    "duration": 83,
    "start_time": "2023-08-14T18:14:38.881Z"
   },
   {
    "duration": 7,
    "start_time": "2023-08-14T18:14:38.965Z"
   },
   {
    "duration": 11,
    "start_time": "2023-08-14T18:14:38.973Z"
   },
   {
    "duration": 6,
    "start_time": "2023-08-14T18:14:38.985Z"
   },
   {
    "duration": 7,
    "start_time": "2023-08-14T18:14:38.992Z"
   },
   {
    "duration": 12,
    "start_time": "2023-08-14T18:14:39.000Z"
   },
   {
    "duration": 35,
    "start_time": "2023-08-14T18:14:39.013Z"
   },
   {
    "duration": 13,
    "start_time": "2023-08-14T18:14:39.049Z"
   },
   {
    "duration": 15,
    "start_time": "2023-08-14T18:14:39.063Z"
   },
   {
    "duration": 7,
    "start_time": "2023-08-14T18:14:39.079Z"
   },
   {
    "duration": 8,
    "start_time": "2023-08-14T18:14:39.087Z"
   },
   {
    "duration": 6,
    "start_time": "2023-08-14T18:14:39.096Z"
   },
   {
    "duration": 13,
    "start_time": "2023-08-14T18:14:39.103Z"
   },
   {
    "duration": 144,
    "start_time": "2023-08-14T18:14:39.120Z"
   },
   {
    "duration": 5,
    "start_time": "2023-08-14T18:14:39.272Z"
   },
   {
    "duration": 11,
    "start_time": "2023-08-14T18:14:39.278Z"
   },
   {
    "duration": 229,
    "start_time": "2023-08-14T18:14:39.291Z"
   },
   {
    "duration": 16,
    "start_time": "2023-08-14T18:14:39.522Z"
   },
   {
    "duration": 152,
    "start_time": "2023-08-14T18:14:39.539Z"
   },
   {
    "duration": 11,
    "start_time": "2023-08-14T18:14:39.693Z"
   },
   {
    "duration": 176,
    "start_time": "2023-08-14T18:14:39.706Z"
   },
   {
    "duration": 16,
    "start_time": "2023-08-14T18:14:39.884Z"
   },
   {
    "duration": 12,
    "start_time": "2023-08-14T18:14:39.901Z"
   },
   {
    "duration": 37,
    "start_time": "2023-08-14T18:14:39.915Z"
   },
   {
    "duration": 11,
    "start_time": "2023-08-14T18:14:39.953Z"
   },
   {
    "duration": 137,
    "start_time": "2023-08-14T18:14:39.965Z"
   },
   {
    "duration": 203,
    "start_time": "2023-08-14T18:14:40.104Z"
   },
   {
    "duration": 162,
    "start_time": "2023-08-14T18:14:40.309Z"
   },
   {
    "duration": 159,
    "start_time": "2023-08-14T18:14:40.472Z"
   },
   {
    "duration": 32,
    "start_time": "2023-08-14T18:14:40.632Z"
   },
   {
    "duration": 29,
    "start_time": "2023-08-14T18:14:40.667Z"
   },
   {
    "duration": 22,
    "start_time": "2023-08-14T18:14:40.697Z"
   },
   {
    "duration": 8003,
    "start_time": "2023-08-14T18:14:40.722Z"
   },
   {
    "duration": 5,
    "start_time": "2023-08-14T18:14:48.726Z"
   },
   {
    "duration": 34,
    "start_time": "2023-08-14T18:14:48.750Z"
   },
   {
    "duration": 25,
    "start_time": "2023-08-14T18:14:48.785Z"
   },
   {
    "duration": 19,
    "start_time": "2023-08-14T18:14:48.811Z"
   },
   {
    "duration": 141,
    "start_time": "2023-08-14T18:14:48.831Z"
   },
   {
    "duration": 0,
    "start_time": "2023-08-14T18:14:48.973Z"
   },
   {
    "duration": 0,
    "start_time": "2023-08-14T18:14:48.974Z"
   },
   {
    "duration": 0,
    "start_time": "2023-08-14T18:14:48.975Z"
   },
   {
    "duration": 0,
    "start_time": "2023-08-14T18:14:48.977Z"
   },
   {
    "duration": 0,
    "start_time": "2023-08-14T18:14:48.978Z"
   },
   {
    "duration": 10,
    "start_time": "2023-08-14T18:15:30.872Z"
   },
   {
    "duration": 7,
    "start_time": "2023-08-14T18:15:34.412Z"
   },
   {
    "duration": 6,
    "start_time": "2023-08-14T18:15:38.866Z"
   },
   {
    "duration": 107,
    "start_time": "2023-08-14T18:24:23.424Z"
   },
   {
    "duration": 1337,
    "start_time": "2023-08-15T07:24:39.690Z"
   },
   {
    "duration": 165,
    "start_time": "2023-08-15T07:24:41.030Z"
   },
   {
    "duration": 4,
    "start_time": "2023-08-15T07:24:41.197Z"
   },
   {
    "duration": 25,
    "start_time": "2023-08-15T07:24:41.203Z"
   },
   {
    "duration": 17,
    "start_time": "2023-08-15T07:24:41.231Z"
   },
   {
    "duration": 186,
    "start_time": "2023-08-15T07:24:41.250Z"
   },
   {
    "duration": 70,
    "start_time": "2023-08-15T07:24:41.438Z"
   },
   {
    "duration": 9,
    "start_time": "2023-08-15T07:24:41.510Z"
   },
   {
    "duration": 23,
    "start_time": "2023-08-15T07:24:41.521Z"
   },
   {
    "duration": 161,
    "start_time": "2023-08-15T07:24:41.546Z"
   },
   {
    "duration": 162,
    "start_time": "2023-08-15T07:24:41.709Z"
   },
   {
    "duration": 54,
    "start_time": "2023-08-15T07:24:41.873Z"
   },
   {
    "duration": 8,
    "start_time": "2023-08-15T07:24:41.929Z"
   },
   {
    "duration": 12,
    "start_time": "2023-08-15T07:24:41.941Z"
   },
   {
    "duration": 105,
    "start_time": "2023-08-15T07:24:41.955Z"
   },
   {
    "duration": 9,
    "start_time": "2023-08-15T07:24:42.062Z"
   },
   {
    "duration": 32,
    "start_time": "2023-08-15T07:24:42.073Z"
   },
   {
    "duration": 40,
    "start_time": "2023-08-15T07:24:42.107Z"
   },
   {
    "duration": 26,
    "start_time": "2023-08-15T07:24:42.149Z"
   },
   {
    "duration": 131,
    "start_time": "2023-08-15T07:24:42.177Z"
   },
   {
    "duration": 237,
    "start_time": "2023-08-15T07:24:42.310Z"
   },
   {
    "duration": 9,
    "start_time": "2023-08-15T07:24:42.548Z"
   },
   {
    "duration": 8,
    "start_time": "2023-08-15T07:24:42.559Z"
   },
   {
    "duration": 13,
    "start_time": "2023-08-15T07:24:42.568Z"
   },
   {
    "duration": 7,
    "start_time": "2023-08-15T07:24:42.582Z"
   },
   {
    "duration": 10,
    "start_time": "2023-08-15T07:24:42.590Z"
   },
   {
    "duration": 11,
    "start_time": "2023-08-15T07:24:42.601Z"
   },
   {
    "duration": 163,
    "start_time": "2023-08-15T07:24:42.614Z"
   },
   {
    "duration": 5,
    "start_time": "2023-08-15T07:24:42.779Z"
   },
   {
    "duration": 29,
    "start_time": "2023-08-15T07:24:42.785Z"
   },
   {
    "duration": 259,
    "start_time": "2023-08-15T07:24:42.815Z"
   },
   {
    "duration": 18,
    "start_time": "2023-08-15T07:24:43.075Z"
   },
   {
    "duration": 178,
    "start_time": "2023-08-15T07:24:43.095Z"
   },
   {
    "duration": 13,
    "start_time": "2023-08-15T07:24:43.274Z"
   },
   {
    "duration": 188,
    "start_time": "2023-08-15T07:24:43.289Z"
   },
   {
    "duration": 20,
    "start_time": "2023-08-15T07:24:43.479Z"
   },
   {
    "duration": 13,
    "start_time": "2023-08-15T07:24:43.501Z"
   },
   {
    "duration": 16,
    "start_time": "2023-08-15T07:24:43.516Z"
   },
   {
    "duration": 30,
    "start_time": "2023-08-15T07:24:43.533Z"
   },
   {
    "duration": 159,
    "start_time": "2023-08-15T07:24:43.565Z"
   },
   {
    "duration": 296,
    "start_time": "2023-08-15T07:24:43.727Z"
   },
   {
    "duration": 187,
    "start_time": "2023-08-15T07:24:44.025Z"
   },
   {
    "duration": 186,
    "start_time": "2023-08-15T07:24:44.214Z"
   },
   {
    "duration": 22,
    "start_time": "2023-08-15T07:24:44.402Z"
   },
   {
    "duration": 38,
    "start_time": "2023-08-15T07:24:44.426Z"
   },
   {
    "duration": 26,
    "start_time": "2023-08-15T07:24:44.465Z"
   },
   {
    "duration": 10201,
    "start_time": "2023-08-15T07:24:44.493Z"
   },
   {
    "duration": 4,
    "start_time": "2023-08-15T07:24:54.696Z"
   },
   {
    "duration": 17,
    "start_time": "2023-08-15T07:24:54.702Z"
   },
   {
    "duration": 11,
    "start_time": "2023-08-15T07:24:54.721Z"
   },
   {
    "duration": 14,
    "start_time": "2023-08-15T07:24:54.733Z"
   },
   {
    "duration": 114,
    "start_time": "2023-08-15T07:24:54.748Z"
   },
   {
    "duration": 0,
    "start_time": "2023-08-15T07:24:54.864Z"
   },
   {
    "duration": 0,
    "start_time": "2023-08-15T07:24:54.865Z"
   },
   {
    "duration": 0,
    "start_time": "2023-08-15T07:24:54.866Z"
   },
   {
    "duration": 0,
    "start_time": "2023-08-15T07:24:54.867Z"
   },
   {
    "duration": 0,
    "start_time": "2023-08-15T07:24:54.869Z"
   },
   {
    "duration": 3,
    "start_time": "2023-08-15T07:27:07.939Z"
   },
   {
    "duration": 33,
    "start_time": "2023-08-15T07:27:07.946Z"
   },
   {
    "duration": 3,
    "start_time": "2023-08-15T07:27:07.981Z"
   },
   {
    "duration": 13,
    "start_time": "2023-08-15T07:27:07.985Z"
   },
   {
    "duration": 24,
    "start_time": "2023-08-15T07:27:08.000Z"
   },
   {
    "duration": 177,
    "start_time": "2023-08-15T07:27:08.025Z"
   },
   {
    "duration": 32,
    "start_time": "2023-08-15T07:27:08.204Z"
   },
   {
    "duration": 22,
    "start_time": "2023-08-15T07:27:08.239Z"
   },
   {
    "duration": 19,
    "start_time": "2023-08-15T07:27:08.263Z"
   },
   {
    "duration": 231,
    "start_time": "2023-08-15T07:27:08.285Z"
   },
   {
    "duration": 167,
    "start_time": "2023-08-15T07:27:08.519Z"
   },
   {
    "duration": 17,
    "start_time": "2023-08-15T07:27:08.688Z"
   },
   {
    "duration": 8,
    "start_time": "2023-08-15T07:27:08.706Z"
   },
   {
    "duration": 31,
    "start_time": "2023-08-15T07:27:08.716Z"
   },
   {
    "duration": 102,
    "start_time": "2023-08-15T07:27:08.749Z"
   },
   {
    "duration": 10,
    "start_time": "2023-08-15T07:27:08.853Z"
   },
   {
    "duration": 18,
    "start_time": "2023-08-15T07:27:08.865Z"
   },
   {
    "duration": 7,
    "start_time": "2023-08-15T07:27:08.885Z"
   },
   {
    "duration": 14,
    "start_time": "2023-08-15T07:27:08.894Z"
   },
   {
    "duration": 42,
    "start_time": "2023-08-15T07:27:08.910Z"
   },
   {
    "duration": 17,
    "start_time": "2023-08-15T07:27:08.954Z"
   },
   {
    "duration": 8,
    "start_time": "2023-08-15T07:27:08.973Z"
   },
   {
    "duration": 12,
    "start_time": "2023-08-15T07:27:08.983Z"
   },
   {
    "duration": 9,
    "start_time": "2023-08-15T07:27:08.997Z"
   },
   {
    "duration": 7,
    "start_time": "2023-08-15T07:27:09.007Z"
   },
   {
    "duration": 16,
    "start_time": "2023-08-15T07:27:09.015Z"
   },
   {
    "duration": 7,
    "start_time": "2023-08-15T07:27:09.060Z"
   },
   {
    "duration": 173,
    "start_time": "2023-08-15T07:27:09.069Z"
   },
   {
    "duration": 13,
    "start_time": "2023-08-15T07:27:09.246Z"
   },
   {
    "duration": 28,
    "start_time": "2023-08-15T07:27:09.261Z"
   },
   {
    "duration": 267,
    "start_time": "2023-08-15T07:27:09.291Z"
   },
   {
    "duration": 14,
    "start_time": "2023-08-15T07:27:09.560Z"
   },
   {
    "duration": 185,
    "start_time": "2023-08-15T07:27:09.576Z"
   },
   {
    "duration": 14,
    "start_time": "2023-08-15T07:27:09.763Z"
   },
   {
    "duration": 201,
    "start_time": "2023-08-15T07:27:09.778Z"
   },
   {
    "duration": 18,
    "start_time": "2023-08-15T07:27:09.980Z"
   },
   {
    "duration": 14,
    "start_time": "2023-08-15T07:27:10.000Z"
   },
   {
    "duration": 38,
    "start_time": "2023-08-15T07:27:10.015Z"
   },
   {
    "duration": 12,
    "start_time": "2023-08-15T07:27:10.055Z"
   },
   {
    "duration": 271,
    "start_time": "2023-08-15T07:27:10.068Z"
   },
   {
    "duration": 202,
    "start_time": "2023-08-15T07:27:10.341Z"
   },
   {
    "duration": 170,
    "start_time": "2023-08-15T07:27:10.545Z"
   },
   {
    "duration": 194,
    "start_time": "2023-08-15T07:27:10.717Z"
   },
   {
    "duration": 22,
    "start_time": "2023-08-15T07:27:10.913Z"
   },
   {
    "duration": 42,
    "start_time": "2023-08-15T07:27:10.937Z"
   },
   {
    "duration": 27,
    "start_time": "2023-08-15T07:27:10.981Z"
   },
   {
    "duration": 11385,
    "start_time": "2023-08-15T07:27:11.010Z"
   },
   {
    "duration": 4,
    "start_time": "2023-08-15T07:27:22.397Z"
   },
   {
    "duration": 68,
    "start_time": "2023-08-15T07:27:22.403Z"
   },
   {
    "duration": 12,
    "start_time": "2023-08-15T07:27:22.473Z"
   },
   {
    "duration": 18,
    "start_time": "2023-08-15T07:27:22.486Z"
   },
   {
    "duration": 61,
    "start_time": "2023-08-15T07:27:22.506Z"
   },
   {
    "duration": 0,
    "start_time": "2023-08-15T07:27:22.568Z"
   },
   {
    "duration": 0,
    "start_time": "2023-08-15T07:27:22.570Z"
   },
   {
    "duration": 0,
    "start_time": "2023-08-15T07:27:22.571Z"
   },
   {
    "duration": 0,
    "start_time": "2023-08-15T07:27:22.572Z"
   },
   {
    "duration": 0,
    "start_time": "2023-08-15T07:27:22.573Z"
   },
   {
    "duration": 351,
    "start_time": "2023-08-15T07:28:15.787Z"
   },
   {
    "duration": 3,
    "start_time": "2023-08-15T07:29:36.925Z"
   },
   {
    "duration": 38,
    "start_time": "2023-08-15T07:29:36.932Z"
   },
   {
    "duration": 3,
    "start_time": "2023-08-15T07:29:36.972Z"
   },
   {
    "duration": 18,
    "start_time": "2023-08-15T07:29:36.976Z"
   },
   {
    "duration": 20,
    "start_time": "2023-08-15T07:29:36.997Z"
   },
   {
    "duration": 186,
    "start_time": "2023-08-15T07:29:37.019Z"
   },
   {
    "duration": 27,
    "start_time": "2023-08-15T07:29:37.207Z"
   },
   {
    "duration": 9,
    "start_time": "2023-08-15T07:29:37.235Z"
   },
   {
    "duration": 21,
    "start_time": "2023-08-15T07:29:37.246Z"
   },
   {
    "duration": 163,
    "start_time": "2023-08-15T07:29:37.269Z"
   },
   {
    "duration": 164,
    "start_time": "2023-08-15T07:29:37.435Z"
   },
   {
    "duration": 17,
    "start_time": "2023-08-15T07:29:37.602Z"
   },
   {
    "duration": 8,
    "start_time": "2023-08-15T07:29:37.621Z"
   },
   {
    "duration": 29,
    "start_time": "2023-08-15T07:29:37.631Z"
   },
   {
    "duration": 90,
    "start_time": "2023-08-15T07:29:37.662Z"
   },
   {
    "duration": 9,
    "start_time": "2023-08-15T07:29:37.753Z"
   },
   {
    "duration": 20,
    "start_time": "2023-08-15T07:29:37.764Z"
   },
   {
    "duration": 8,
    "start_time": "2023-08-15T07:29:37.785Z"
   },
   {
    "duration": 11,
    "start_time": "2023-08-15T07:29:37.795Z"
   },
   {
    "duration": 11,
    "start_time": "2023-08-15T07:29:37.807Z"
   },
   {
    "duration": 23,
    "start_time": "2023-08-15T07:29:37.820Z"
   },
   {
    "duration": 18,
    "start_time": "2023-08-15T07:29:37.844Z"
   },
   {
    "duration": 26,
    "start_time": "2023-08-15T07:29:37.863Z"
   },
   {
    "duration": 27,
    "start_time": "2023-08-15T07:29:37.891Z"
   },
   {
    "duration": 12,
    "start_time": "2023-08-15T07:29:37.920Z"
   },
   {
    "duration": 10,
    "start_time": "2023-08-15T07:29:37.933Z"
   },
   {
    "duration": 29,
    "start_time": "2023-08-15T07:29:37.945Z"
   },
   {
    "duration": 140,
    "start_time": "2023-08-15T07:29:37.976Z"
   },
   {
    "duration": 5,
    "start_time": "2023-08-15T07:29:38.119Z"
   },
   {
    "duration": 19,
    "start_time": "2023-08-15T07:29:38.126Z"
   },
   {
    "duration": 321,
    "start_time": "2023-08-15T07:29:38.147Z"
   },
   {
    "duration": 17,
    "start_time": "2023-08-15T07:29:38.470Z"
   },
   {
    "duration": 303,
    "start_time": "2023-08-15T07:29:38.490Z"
   },
   {
    "duration": 14,
    "start_time": "2023-08-15T07:29:38.795Z"
   },
   {
    "duration": 194,
    "start_time": "2023-08-15T07:29:38.811Z"
   },
   {
    "duration": 18,
    "start_time": "2023-08-15T07:29:39.007Z"
   },
   {
    "duration": 13,
    "start_time": "2023-08-15T07:29:39.027Z"
   },
   {
    "duration": 24,
    "start_time": "2023-08-15T07:29:39.041Z"
   },
   {
    "duration": 14,
    "start_time": "2023-08-15T07:29:39.067Z"
   },
   {
    "duration": 159,
    "start_time": "2023-08-15T07:29:39.082Z"
   },
   {
    "duration": 186,
    "start_time": "2023-08-15T07:29:39.242Z"
   },
   {
    "duration": 170,
    "start_time": "2023-08-15T07:29:39.429Z"
   },
   {
    "duration": 184,
    "start_time": "2023-08-15T07:29:39.600Z"
   },
   {
    "duration": 21,
    "start_time": "2023-08-15T07:29:39.786Z"
   },
   {
    "duration": 36,
    "start_time": "2023-08-15T07:29:39.809Z"
   },
   {
    "duration": 580,
    "start_time": "2023-08-15T07:30:08.094Z"
   },
   {
    "duration": 530,
    "start_time": "2023-08-15T07:30:21.931Z"
   },
   {
    "duration": 3,
    "start_time": "2023-08-15T07:31:17.429Z"
   },
   {
    "duration": 46,
    "start_time": "2023-08-15T07:31:17.438Z"
   },
   {
    "duration": 3,
    "start_time": "2023-08-15T07:31:17.486Z"
   },
   {
    "duration": 24,
    "start_time": "2023-08-15T07:31:17.490Z"
   },
   {
    "duration": 17,
    "start_time": "2023-08-15T07:31:17.516Z"
   },
   {
    "duration": 184,
    "start_time": "2023-08-15T07:31:17.535Z"
   },
   {
    "duration": 40,
    "start_time": "2023-08-15T07:31:17.721Z"
   },
   {
    "duration": 10,
    "start_time": "2023-08-15T07:31:17.763Z"
   },
   {
    "duration": 28,
    "start_time": "2023-08-15T07:31:17.775Z"
   },
   {
    "duration": 178,
    "start_time": "2023-08-15T07:31:17.805Z"
   },
   {
    "duration": 178,
    "start_time": "2023-08-15T07:31:17.987Z"
   },
   {
    "duration": 17,
    "start_time": "2023-08-15T07:31:18.166Z"
   },
   {
    "duration": 11,
    "start_time": "2023-08-15T07:31:18.185Z"
   },
   {
    "duration": 31,
    "start_time": "2023-08-15T07:31:18.197Z"
   },
   {
    "duration": 138,
    "start_time": "2023-08-15T07:31:18.230Z"
   },
   {
    "duration": 9,
    "start_time": "2023-08-15T07:31:18.370Z"
   },
   {
    "duration": 30,
    "start_time": "2023-08-15T07:31:18.382Z"
   },
   {
    "duration": 14,
    "start_time": "2023-08-15T07:31:18.414Z"
   },
   {
    "duration": 19,
    "start_time": "2023-08-15T07:31:18.430Z"
   },
   {
    "duration": 25,
    "start_time": "2023-08-15T07:31:18.452Z"
   },
   {
    "duration": 33,
    "start_time": "2023-08-15T07:31:18.480Z"
   },
   {
    "duration": 12,
    "start_time": "2023-08-15T07:31:18.515Z"
   },
   {
    "duration": 23,
    "start_time": "2023-08-15T07:31:18.530Z"
   },
   {
    "duration": 35,
    "start_time": "2023-08-15T07:31:18.555Z"
   },
   {
    "duration": 14,
    "start_time": "2023-08-15T07:31:18.592Z"
   },
   {
    "duration": 29,
    "start_time": "2023-08-15T07:31:18.607Z"
   },
   {
    "duration": 12,
    "start_time": "2023-08-15T07:31:18.638Z"
   },
   {
    "duration": 162,
    "start_time": "2023-08-15T07:31:18.652Z"
   },
   {
    "duration": 5,
    "start_time": "2023-08-15T07:31:18.819Z"
   },
   {
    "duration": 33,
    "start_time": "2023-08-15T07:31:18.826Z"
   },
   {
    "duration": 433,
    "start_time": "2023-08-15T07:31:18.861Z"
   },
   {
    "duration": 16,
    "start_time": "2023-08-15T07:31:19.296Z"
   },
   {
    "duration": 213,
    "start_time": "2023-08-15T07:31:19.314Z"
   },
   {
    "duration": 15,
    "start_time": "2023-08-15T07:31:19.529Z"
   },
   {
    "duration": 235,
    "start_time": "2023-08-15T07:31:19.546Z"
   },
   {
    "duration": 19,
    "start_time": "2023-08-15T07:31:19.783Z"
   },
   {
    "duration": 14,
    "start_time": "2023-08-15T07:31:19.804Z"
   },
   {
    "duration": 14,
    "start_time": "2023-08-15T07:31:19.820Z"
   },
   {
    "duration": 30,
    "start_time": "2023-08-15T07:31:19.836Z"
   },
   {
    "duration": 171,
    "start_time": "2023-08-15T07:31:19.868Z"
   },
   {
    "duration": 188,
    "start_time": "2023-08-15T07:31:20.041Z"
   },
   {
    "duration": 184,
    "start_time": "2023-08-15T07:31:20.231Z"
   },
   {
    "duration": 209,
    "start_time": "2023-08-15T07:31:20.418Z"
   },
   {
    "duration": 35,
    "start_time": "2023-08-15T07:31:20.629Z"
   },
   {
    "duration": 25,
    "start_time": "2023-08-15T07:31:20.666Z"
   },
   {
    "duration": 27,
    "start_time": "2023-08-15T07:31:20.693Z"
   },
   {
    "duration": 10480,
    "start_time": "2023-08-15T07:31:20.722Z"
   },
   {
    "duration": 5,
    "start_time": "2023-08-15T07:31:31.204Z"
   },
   {
    "duration": 40,
    "start_time": "2023-08-15T07:31:31.211Z"
   },
   {
    "duration": 59,
    "start_time": "2023-08-15T07:31:31.253Z"
   },
   {
    "duration": 100,
    "start_time": "2023-08-15T07:31:31.314Z"
   },
   {
    "duration": 26,
    "start_time": "2023-08-15T07:31:31.415Z"
   },
   {
    "duration": 0,
    "start_time": "2023-08-15T07:31:31.442Z"
   },
   {
    "duration": 0,
    "start_time": "2023-08-15T07:31:31.444Z"
   },
   {
    "duration": 0,
    "start_time": "2023-08-15T07:31:31.446Z"
   },
   {
    "duration": 0,
    "start_time": "2023-08-15T07:31:31.447Z"
   },
   {
    "duration": 0,
    "start_time": "2023-08-15T07:31:31.448Z"
   },
   {
    "duration": 421,
    "start_time": "2023-08-15T07:31:44.023Z"
   },
   {
    "duration": 389,
    "start_time": "2023-08-15T07:32:50.203Z"
   },
   {
    "duration": 329,
    "start_time": "2023-08-15T07:32:54.034Z"
   },
   {
    "duration": 694,
    "start_time": "2023-08-15T07:33:01.064Z"
   },
   {
    "duration": 4,
    "start_time": "2023-08-15T07:33:48.906Z"
   },
   {
    "duration": 62,
    "start_time": "2023-08-15T07:33:48.911Z"
   },
   {
    "duration": 2,
    "start_time": "2023-08-15T07:33:48.976Z"
   },
   {
    "duration": 17,
    "start_time": "2023-08-15T07:33:48.980Z"
   },
   {
    "duration": 26,
    "start_time": "2023-08-15T07:33:48.999Z"
   },
   {
    "duration": 171,
    "start_time": "2023-08-15T07:33:49.026Z"
   },
   {
    "duration": 28,
    "start_time": "2023-08-15T07:33:49.199Z"
   },
   {
    "duration": 8,
    "start_time": "2023-08-15T07:33:49.229Z"
   },
   {
    "duration": 20,
    "start_time": "2023-08-15T07:33:49.239Z"
   },
   {
    "duration": 321,
    "start_time": "2023-08-15T07:33:49.261Z"
   },
   {
    "duration": 174,
    "start_time": "2023-08-15T07:33:49.585Z"
   },
   {
    "duration": 18,
    "start_time": "2023-08-15T07:33:49.761Z"
   },
   {
    "duration": 7,
    "start_time": "2023-08-15T07:33:49.782Z"
   },
   {
    "duration": 19,
    "start_time": "2023-08-15T07:33:49.791Z"
   },
   {
    "duration": 99,
    "start_time": "2023-08-15T07:33:49.812Z"
   },
   {
    "duration": 8,
    "start_time": "2023-08-15T07:33:49.913Z"
   },
   {
    "duration": 24,
    "start_time": "2023-08-15T07:33:49.922Z"
   },
   {
    "duration": 16,
    "start_time": "2023-08-15T07:33:49.947Z"
   },
   {
    "duration": 39,
    "start_time": "2023-08-15T07:33:49.964Z"
   },
   {
    "duration": 47,
    "start_time": "2023-08-15T07:33:50.004Z"
   },
   {
    "duration": 56,
    "start_time": "2023-08-15T07:33:50.052Z"
   },
   {
    "duration": 40,
    "start_time": "2023-08-15T07:33:50.109Z"
   },
   {
    "duration": 28,
    "start_time": "2023-08-15T07:33:50.150Z"
   },
   {
    "duration": 35,
    "start_time": "2023-08-15T07:33:50.180Z"
   },
   {
    "duration": 32,
    "start_time": "2023-08-15T07:33:50.217Z"
   },
   {
    "duration": 20,
    "start_time": "2023-08-15T07:33:50.251Z"
   },
   {
    "duration": 41,
    "start_time": "2023-08-15T07:33:50.273Z"
   },
   {
    "duration": 147,
    "start_time": "2023-08-15T07:33:50.316Z"
   },
   {
    "duration": 6,
    "start_time": "2023-08-15T07:33:50.468Z"
   },
   {
    "duration": 22,
    "start_time": "2023-08-15T07:33:50.476Z"
   },
   {
    "duration": 296,
    "start_time": "2023-08-15T07:33:50.500Z"
   },
   {
    "duration": 14,
    "start_time": "2023-08-15T07:33:50.798Z"
   },
   {
    "duration": 188,
    "start_time": "2023-08-15T07:33:50.814Z"
   },
   {
    "duration": 13,
    "start_time": "2023-08-15T07:33:51.003Z"
   },
   {
    "duration": 202,
    "start_time": "2023-08-15T07:33:51.018Z"
   },
   {
    "duration": 18,
    "start_time": "2023-08-15T07:33:51.222Z"
   },
   {
    "duration": 30,
    "start_time": "2023-08-15T07:33:51.242Z"
   },
   {
    "duration": 25,
    "start_time": "2023-08-15T07:33:51.273Z"
   },
   {
    "duration": 26,
    "start_time": "2023-08-15T07:33:51.300Z"
   },
   {
    "duration": 161,
    "start_time": "2023-08-15T07:33:51.327Z"
   },
   {
    "duration": 173,
    "start_time": "2023-08-15T07:33:51.491Z"
   },
   {
    "duration": 192,
    "start_time": "2023-08-15T07:33:51.667Z"
   },
   {
    "duration": 182,
    "start_time": "2023-08-15T07:33:51.861Z"
   },
   {
    "duration": 29,
    "start_time": "2023-08-15T07:33:52.045Z"
   },
   {
    "duration": 26,
    "start_time": "2023-08-15T07:33:52.075Z"
   },
   {
    "duration": 27,
    "start_time": "2023-08-15T07:33:52.102Z"
   },
   {
    "duration": 11904,
    "start_time": "2023-08-15T07:33:52.131Z"
   },
   {
    "duration": 5,
    "start_time": "2023-08-15T07:34:04.037Z"
   },
   {
    "duration": 28,
    "start_time": "2023-08-15T07:34:04.043Z"
   },
   {
    "duration": 11,
    "start_time": "2023-08-15T07:34:04.073Z"
   },
   {
    "duration": 44,
    "start_time": "2023-08-15T07:34:04.086Z"
   },
   {
    "duration": 31,
    "start_time": "2023-08-15T07:34:04.132Z"
   },
   {
    "duration": 0,
    "start_time": "2023-08-15T07:34:04.165Z"
   },
   {
    "duration": 0,
    "start_time": "2023-08-15T07:34:04.167Z"
   },
   {
    "duration": 0,
    "start_time": "2023-08-15T07:34:04.169Z"
   },
   {
    "duration": 0,
    "start_time": "2023-08-15T07:34:04.171Z"
   },
   {
    "duration": 0,
    "start_time": "2023-08-15T07:34:04.173Z"
   },
   {
    "duration": 495,
    "start_time": "2023-08-15T07:34:05.917Z"
   },
   {
    "duration": 474,
    "start_time": "2023-08-15T07:34:10.197Z"
   },
   {
    "duration": 30,
    "start_time": "2023-08-15T07:35:22.619Z"
   },
   {
    "duration": 30,
    "start_time": "2023-08-15T07:35:27.046Z"
   },
   {
    "duration": 3,
    "start_time": "2023-08-15T07:35:28.069Z"
   },
   {
    "duration": 9,
    "start_time": "2023-08-15T07:35:28.582Z"
   },
   {
    "duration": 12,
    "start_time": "2023-08-15T07:35:29.019Z"
   },
   {
    "duration": 174,
    "start_time": "2023-08-15T07:35:29.232Z"
   },
   {
    "duration": 40,
    "start_time": "2023-08-15T07:35:31.916Z"
   },
   {
    "duration": 150,
    "start_time": "2023-08-15T07:35:31.958Z"
   },
   {
    "duration": 37,
    "start_time": "2023-08-15T07:35:32.110Z"
   },
   {
    "duration": 400,
    "start_time": "2023-08-15T07:35:32.149Z"
   },
   {
    "duration": 167,
    "start_time": "2023-08-15T07:35:32.551Z"
   },
   {
    "duration": 28,
    "start_time": "2023-08-15T07:35:33.210Z"
   },
   {
    "duration": 10,
    "start_time": "2023-08-15T07:35:33.407Z"
   },
   {
    "duration": 11,
    "start_time": "2023-08-15T07:35:33.819Z"
   },
   {
    "duration": 88,
    "start_time": "2023-08-15T07:35:34.077Z"
   },
   {
    "duration": 8,
    "start_time": "2023-08-15T07:35:35.535Z"
   },
   {
    "duration": 8,
    "start_time": "2023-08-15T07:35:35.990Z"
   },
   {
    "duration": 8,
    "start_time": "2023-08-15T07:35:36.379Z"
   },
   {
    "duration": 7,
    "start_time": "2023-08-15T07:35:37.363Z"
   },
   {
    "duration": 7,
    "start_time": "2023-08-15T07:35:37.577Z"
   },
   {
    "duration": 14,
    "start_time": "2023-08-15T07:35:37.789Z"
   },
   {
    "duration": 10,
    "start_time": "2023-08-15T07:35:38.000Z"
   },
   {
    "duration": 11,
    "start_time": "2023-08-15T07:35:38.424Z"
   },
   {
    "duration": 9,
    "start_time": "2023-08-15T07:35:38.661Z"
   },
   {
    "duration": 7,
    "start_time": "2023-08-15T07:35:38.864Z"
   },
   {
    "duration": 6,
    "start_time": "2023-08-15T07:35:39.075Z"
   },
   {
    "duration": 6,
    "start_time": "2023-08-15T07:35:40.729Z"
   },
   {
    "duration": 148,
    "start_time": "2023-08-15T07:35:40.926Z"
   },
   {
    "duration": 5,
    "start_time": "2023-08-15T07:35:41.788Z"
   },
   {
    "duration": 6,
    "start_time": "2023-08-15T07:35:42.423Z"
   },
   {
    "duration": 260,
    "start_time": "2023-08-15T07:35:42.645Z"
   },
   {
    "duration": 15,
    "start_time": "2023-08-15T07:35:43.896Z"
   },
   {
    "duration": 169,
    "start_time": "2023-08-15T07:35:44.110Z"
   },
   {
    "duration": 16,
    "start_time": "2023-08-15T07:35:44.944Z"
   },
   {
    "duration": 302,
    "start_time": "2023-08-15T07:41:12.397Z"
   },
   {
    "duration": 9,
    "start_time": "2023-08-15T07:41:35.290Z"
   },
   {
    "duration": 247,
    "start_time": "2023-08-15T07:41:40.170Z"
   },
   {
    "duration": 10,
    "start_time": "2023-08-15T07:43:07.061Z"
   },
   {
    "duration": 10,
    "start_time": "2023-08-15T07:43:18.117Z"
   },
   {
    "duration": 6,
    "start_time": "2023-08-15T07:43:37.375Z"
   },
   {
    "duration": 5,
    "start_time": "2023-08-15T07:43:49.228Z"
   },
   {
    "duration": 95,
    "start_time": "2023-08-15T07:43:55.488Z"
   },
   {
    "duration": 6,
    "start_time": "2023-08-15T07:43:59.515Z"
   },
   {
    "duration": 5,
    "start_time": "2023-08-15T07:44:10.777Z"
   },
   {
    "duration": 6,
    "start_time": "2023-08-15T07:45:16.967Z"
   },
   {
    "duration": 363,
    "start_time": "2023-08-15T07:45:28.833Z"
   },
   {
    "duration": 4,
    "start_time": "2023-08-15T07:45:39.819Z"
   },
   {
    "duration": 11,
    "start_time": "2023-08-15T07:45:47.534Z"
   },
   {
    "duration": 5,
    "start_time": "2023-08-15T07:45:50.977Z"
   },
   {
    "duration": 13,
    "start_time": "2023-08-15T07:46:13.765Z"
   },
   {
    "duration": 126,
    "start_time": "2023-08-15T07:46:23.975Z"
   },
   {
    "duration": 12,
    "start_time": "2023-08-15T07:46:55.595Z"
   },
   {
    "duration": 6,
    "start_time": "2023-08-15T07:46:55.912Z"
   },
   {
    "duration": 8,
    "start_time": "2023-08-15T07:46:56.231Z"
   },
   {
    "duration": 6,
    "start_time": "2023-08-15T07:46:57.072Z"
   },
   {
    "duration": 6,
    "start_time": "2023-08-15T07:46:57.221Z"
   },
   {
    "duration": 9,
    "start_time": "2023-08-15T07:46:57.407Z"
   },
   {
    "duration": 10,
    "start_time": "2023-08-15T07:46:57.585Z"
   },
   {
    "duration": 7,
    "start_time": "2023-08-15T07:46:57.966Z"
   },
   {
    "duration": 10,
    "start_time": "2023-08-15T07:46:58.124Z"
   },
   {
    "duration": 10,
    "start_time": "2023-08-15T07:46:58.306Z"
   },
   {
    "duration": 6,
    "start_time": "2023-08-15T07:46:58.502Z"
   },
   {
    "duration": 8,
    "start_time": "2023-08-15T07:46:59.795Z"
   },
   {
    "duration": 165,
    "start_time": "2023-08-15T07:46:59.962Z"
   },
   {
    "duration": 5,
    "start_time": "2023-08-15T07:47:00.750Z"
   },
   {
    "duration": 5,
    "start_time": "2023-08-15T07:47:01.565Z"
   },
   {
    "duration": 250,
    "start_time": "2023-08-15T07:47:01.780Z"
   },
   {
    "duration": 15,
    "start_time": "2023-08-15T07:47:03.336Z"
   },
   {
    "duration": 173,
    "start_time": "2023-08-15T07:47:03.579Z"
   },
   {
    "duration": 13,
    "start_time": "2023-08-15T07:47:04.574Z"
   },
   {
    "duration": 183,
    "start_time": "2023-08-15T07:47:04.807Z"
   },
   {
    "duration": 20,
    "start_time": "2023-08-15T07:47:05.927Z"
   },
   {
    "duration": 13,
    "start_time": "2023-08-15T07:47:06.826Z"
   },
   {
    "duration": 10,
    "start_time": "2023-08-15T07:47:07.308Z"
   },
   {
    "duration": 9,
    "start_time": "2023-08-15T07:47:07.794Z"
   },
   {
    "duration": 195,
    "start_time": "2023-08-15T07:47:08.269Z"
   },
   {
    "duration": 173,
    "start_time": "2023-08-15T07:47:09.004Z"
   },
   {
    "duration": 182,
    "start_time": "2023-08-15T07:47:09.916Z"
   },
   {
    "duration": 185,
    "start_time": "2023-08-15T07:47:10.478Z"
   },
   {
    "duration": 31,
    "start_time": "2023-08-15T07:47:11.599Z"
   },
   {
    "duration": 26,
    "start_time": "2023-08-15T07:47:12.795Z"
   },
   {
    "duration": 30,
    "start_time": "2023-08-15T07:47:13.178Z"
   },
   {
    "duration": 9798,
    "start_time": "2023-08-15T07:47:23.570Z"
   },
   {
    "duration": 5,
    "start_time": "2023-08-15T07:47:33.371Z"
   },
   {
    "duration": 19,
    "start_time": "2023-08-15T07:47:44.886Z"
   },
   {
    "duration": 4,
    "start_time": "2023-08-15T07:48:27.769Z"
   },
   {
    "duration": 170,
    "start_time": "2023-08-15T07:49:18.064Z"
   },
   {
    "duration": 539,
    "start_time": "2023-08-15T07:49:23.065Z"
   },
   {
    "duration": 1467,
    "start_time": "2023-08-15T07:49:45.550Z"
   },
   {
    "duration": 5,
    "start_time": "2023-08-15T07:51:22.238Z"
   },
   {
    "duration": 11,
    "start_time": "2023-08-15T07:51:29.167Z"
   },
   {
    "duration": 81,
    "start_time": "2023-08-15T07:52:39.794Z"
   },
   {
    "duration": 122,
    "start_time": "2023-08-15T07:53:04.519Z"
   },
   {
    "duration": 9773,
    "start_time": "2023-08-15T07:53:11.304Z"
   },
   {
    "duration": 10,
    "start_time": "2023-08-15T07:53:41.575Z"
   },
   {
    "duration": 9789,
    "start_time": "2023-08-15T07:53:53.035Z"
   },
   {
    "duration": 11,
    "start_time": "2023-08-15T07:54:02.826Z"
   },
   {
    "duration": 7952,
    "start_time": "2023-08-15T07:57:12.783Z"
   },
   {
    "duration": 21,
    "start_time": "2023-08-15T07:57:20.738Z"
   },
   {
    "duration": 7582,
    "start_time": "2023-08-15T07:57:35.323Z"
   },
   {
    "duration": 10,
    "start_time": "2023-08-15T07:57:42.907Z"
   },
   {
    "duration": 5856,
    "start_time": "2023-08-15T07:57:51.976Z"
   },
   {
    "duration": 12,
    "start_time": "2023-08-15T07:57:57.834Z"
   },
   {
    "duration": 4,
    "start_time": "2023-08-15T07:58:04.546Z"
   },
   {
    "duration": 47,
    "start_time": "2023-08-15T07:58:04.553Z"
   },
   {
    "duration": 3,
    "start_time": "2023-08-15T07:58:04.602Z"
   },
   {
    "duration": 21,
    "start_time": "2023-08-15T07:58:04.607Z"
   },
   {
    "duration": 29,
    "start_time": "2023-08-15T07:58:04.631Z"
   },
   {
    "duration": 422,
    "start_time": "2023-08-15T07:58:04.662Z"
   },
   {
    "duration": 31,
    "start_time": "2023-08-15T07:58:05.086Z"
   },
   {
    "duration": 35,
    "start_time": "2023-08-15T07:58:05.119Z"
   },
   {
    "duration": 42,
    "start_time": "2023-08-15T07:58:05.156Z"
   },
   {
    "duration": 201,
    "start_time": "2023-08-15T07:58:05.199Z"
   },
   {
    "duration": 189,
    "start_time": "2023-08-15T07:58:05.405Z"
   },
   {
    "duration": 28,
    "start_time": "2023-08-15T07:58:05.596Z"
   },
   {
    "duration": 9,
    "start_time": "2023-08-15T07:58:05.626Z"
   },
   {
    "duration": 24,
    "start_time": "2023-08-15T07:58:05.638Z"
   },
   {
    "duration": 137,
    "start_time": "2023-08-15T07:58:05.664Z"
   },
   {
    "duration": 7,
    "start_time": "2023-08-15T07:58:05.803Z"
   },
   {
    "duration": 43,
    "start_time": "2023-08-15T07:58:05.812Z"
   },
   {
    "duration": 33,
    "start_time": "2023-08-15T07:58:05.857Z"
   },
   {
    "duration": 23,
    "start_time": "2023-08-15T07:58:05.892Z"
   },
   {
    "duration": 29,
    "start_time": "2023-08-15T07:58:05.917Z"
   },
   {
    "duration": 57,
    "start_time": "2023-08-15T07:58:05.948Z"
   },
   {
    "duration": 11,
    "start_time": "2023-08-15T07:58:06.007Z"
   },
   {
    "duration": 24,
    "start_time": "2023-08-15T07:58:06.020Z"
   },
   {
    "duration": 31,
    "start_time": "2023-08-15T07:58:06.046Z"
   },
   {
    "duration": 21,
    "start_time": "2023-08-15T07:58:06.078Z"
   },
   {
    "duration": 14,
    "start_time": "2023-08-15T07:58:06.101Z"
   },
   {
    "duration": 17,
    "start_time": "2023-08-15T07:58:06.117Z"
   },
   {
    "duration": 165,
    "start_time": "2023-08-15T07:58:06.136Z"
   },
   {
    "duration": 5,
    "start_time": "2023-08-15T07:58:06.303Z"
   },
   {
    "duration": 90,
    "start_time": "2023-08-15T07:58:06.310Z"
   },
   {
    "duration": 267,
    "start_time": "2023-08-15T07:58:06.403Z"
   },
   {
    "duration": 15,
    "start_time": "2023-08-15T07:58:06.673Z"
   },
   {
    "duration": 188,
    "start_time": "2023-08-15T07:58:06.690Z"
   },
   {
    "duration": 15,
    "start_time": "2023-08-15T07:58:06.880Z"
   },
   {
    "duration": 209,
    "start_time": "2023-08-15T07:58:06.898Z"
   },
   {
    "duration": 19,
    "start_time": "2023-08-15T07:58:07.109Z"
   },
   {
    "duration": 22,
    "start_time": "2023-08-15T07:58:07.130Z"
   },
   {
    "duration": 9,
    "start_time": "2023-08-15T07:58:07.159Z"
   },
   {
    "duration": 11,
    "start_time": "2023-08-15T07:58:07.170Z"
   },
   {
    "duration": 178,
    "start_time": "2023-08-15T07:58:07.183Z"
   },
   {
    "duration": 195,
    "start_time": "2023-08-15T07:58:07.366Z"
   },
   {
    "duration": 174,
    "start_time": "2023-08-15T07:58:07.563Z"
   },
   {
    "duration": 190,
    "start_time": "2023-08-15T07:58:07.739Z"
   },
   {
    "duration": 32,
    "start_time": "2023-08-15T07:58:07.931Z"
   },
   {
    "duration": 23,
    "start_time": "2023-08-15T07:58:07.965Z"
   },
   {
    "duration": 26,
    "start_time": "2023-08-15T07:58:07.991Z"
   },
   {
    "duration": 6256,
    "start_time": "2023-08-15T07:58:08.018Z"
   },
   {
    "duration": 10,
    "start_time": "2023-08-15T07:58:14.277Z"
   },
   {
    "duration": 18,
    "start_time": "2023-08-15T07:58:14.289Z"
   },
   {
    "duration": 8,
    "start_time": "2023-08-15T07:58:14.309Z"
   },
   {
    "duration": 13,
    "start_time": "2023-08-15T07:58:14.318Z"
   },
   {
    "duration": 16,
    "start_time": "2023-08-15T07:58:14.333Z"
   },
   {
    "duration": 0,
    "start_time": "2023-08-15T07:58:14.351Z"
   },
   {
    "duration": 0,
    "start_time": "2023-08-15T07:58:14.352Z"
   },
   {
    "duration": 0,
    "start_time": "2023-08-15T07:58:14.359Z"
   },
   {
    "duration": 0,
    "start_time": "2023-08-15T07:58:14.360Z"
   },
   {
    "duration": 0,
    "start_time": "2023-08-15T07:58:14.361Z"
   },
   {
    "duration": 68,
    "start_time": "2023-08-15T07:58:45.758Z"
   },
   {
    "duration": 93,
    "start_time": "2023-08-15T07:58:51.606Z"
   },
   {
    "duration": 178,
    "start_time": "2023-08-15T07:58:57.294Z"
   },
   {
    "duration": 59,
    "start_time": "2023-08-15T07:59:13.020Z"
   },
   {
    "duration": 4,
    "start_time": "2023-08-15T07:59:22.480Z"
   },
   {
    "duration": 12,
    "start_time": "2023-08-15T07:59:23.969Z"
   },
   {
    "duration": 3,
    "start_time": "2023-08-15T07:59:29.037Z"
   },
   {
    "duration": 36,
    "start_time": "2023-08-15T07:59:29.045Z"
   },
   {
    "duration": 3,
    "start_time": "2023-08-15T07:59:29.083Z"
   },
   {
    "duration": 19,
    "start_time": "2023-08-15T07:59:29.088Z"
   },
   {
    "duration": 29,
    "start_time": "2023-08-15T07:59:29.110Z"
   },
   {
    "duration": 188,
    "start_time": "2023-08-15T07:59:29.141Z"
   },
   {
    "duration": 39,
    "start_time": "2023-08-15T07:59:29.331Z"
   },
   {
    "duration": 9,
    "start_time": "2023-08-15T07:59:29.372Z"
   },
   {
    "duration": 32,
    "start_time": "2023-08-15T07:59:29.383Z"
   },
   {
    "duration": 168,
    "start_time": "2023-08-15T07:59:29.417Z"
   },
   {
    "duration": 164,
    "start_time": "2023-08-15T07:59:29.588Z"
   },
   {
    "duration": 17,
    "start_time": "2023-08-15T07:59:29.754Z"
   },
   {
    "duration": 8,
    "start_time": "2023-08-15T07:59:29.773Z"
   },
   {
    "duration": 21,
    "start_time": "2023-08-15T07:59:29.783Z"
   },
   {
    "duration": 129,
    "start_time": "2023-08-15T07:59:29.805Z"
   },
   {
    "duration": 8,
    "start_time": "2023-08-15T07:59:29.935Z"
   },
   {
    "duration": 8,
    "start_time": "2023-08-15T07:59:29.958Z"
   },
   {
    "duration": 10,
    "start_time": "2023-08-15T07:59:29.967Z"
   },
   {
    "duration": 7,
    "start_time": "2023-08-15T07:59:29.978Z"
   },
   {
    "duration": 9,
    "start_time": "2023-08-15T07:59:29.986Z"
   },
   {
    "duration": 15,
    "start_time": "2023-08-15T07:59:29.997Z"
   },
   {
    "duration": 8,
    "start_time": "2023-08-15T07:59:30.014Z"
   },
   {
    "duration": 90,
    "start_time": "2023-08-15T07:59:30.024Z"
   },
   {
    "duration": 36,
    "start_time": "2023-08-15T07:59:30.115Z"
   },
   {
    "duration": 49,
    "start_time": "2023-08-15T07:59:30.153Z"
   },
   {
    "duration": 73,
    "start_time": "2023-08-15T07:59:30.204Z"
   },
   {
    "duration": 52,
    "start_time": "2023-08-15T07:59:30.279Z"
   },
   {
    "duration": 184,
    "start_time": "2023-08-15T07:59:30.333Z"
   },
   {
    "duration": 6,
    "start_time": "2023-08-15T07:59:30.521Z"
   },
   {
    "duration": 50,
    "start_time": "2023-08-15T07:59:30.529Z"
   },
   {
    "duration": 296,
    "start_time": "2023-08-15T07:59:30.581Z"
   },
   {
    "duration": 15,
    "start_time": "2023-08-15T07:59:30.878Z"
   },
   {
    "duration": 199,
    "start_time": "2023-08-15T07:59:30.895Z"
   },
   {
    "duration": 14,
    "start_time": "2023-08-15T07:59:31.096Z"
   },
   {
    "duration": 353,
    "start_time": "2023-08-15T07:59:31.111Z"
   },
   {
    "duration": 18,
    "start_time": "2023-08-15T07:59:31.465Z"
   },
   {
    "duration": 31,
    "start_time": "2023-08-15T07:59:31.485Z"
   },
   {
    "duration": 54,
    "start_time": "2023-08-15T07:59:31.518Z"
   },
   {
    "duration": 29,
    "start_time": "2023-08-15T07:59:31.573Z"
   },
   {
    "duration": 184,
    "start_time": "2023-08-15T07:59:31.603Z"
   },
   {
    "duration": 640,
    "start_time": "2023-08-15T07:59:31.790Z"
   },
   {
    "duration": 183,
    "start_time": "2023-08-15T07:59:32.431Z"
   },
   {
    "duration": 186,
    "start_time": "2023-08-15T07:59:32.616Z"
   },
   {
    "duration": 21,
    "start_time": "2023-08-15T07:59:32.805Z"
   },
   {
    "duration": 41,
    "start_time": "2023-08-15T07:59:32.829Z"
   },
   {
    "duration": 26,
    "start_time": "2023-08-15T07:59:32.872Z"
   },
   {
    "duration": 3,
    "start_time": "2023-08-15T07:59:32.899Z"
   },
   {
    "duration": 26,
    "start_time": "2023-08-15T07:59:32.904Z"
   },
   {
    "duration": 9,
    "start_time": "2023-08-15T07:59:32.933Z"
   },
   {
    "duration": 7,
    "start_time": "2023-08-15T07:59:32.943Z"
   },
   {
    "duration": 9,
    "start_time": "2023-08-15T07:59:32.959Z"
   },
   {
    "duration": 11,
    "start_time": "2023-08-15T07:59:32.969Z"
   },
   {
    "duration": 0,
    "start_time": "2023-08-15T07:59:32.982Z"
   },
   {
    "duration": 0,
    "start_time": "2023-08-15T07:59:32.983Z"
   },
   {
    "duration": 0,
    "start_time": "2023-08-15T07:59:32.984Z"
   },
   {
    "duration": 0,
    "start_time": "2023-08-15T07:59:32.986Z"
   },
   {
    "duration": 0,
    "start_time": "2023-08-15T07:59:32.987Z"
   },
   {
    "duration": 3,
    "start_time": "2023-08-15T07:59:52.000Z"
   },
   {
    "duration": 252,
    "start_time": "2023-08-15T08:00:02.607Z"
   },
   {
    "duration": 12,
    "start_time": "2023-08-15T08:00:04.536Z"
   },
   {
    "duration": 261,
    "start_time": "2023-08-15T08:00:17.882Z"
   },
   {
    "duration": 12,
    "start_time": "2023-08-15T08:00:19.070Z"
   },
   {
    "duration": 1946,
    "start_time": "2023-08-15T08:00:36.153Z"
   },
   {
    "duration": 10,
    "start_time": "2023-08-15T08:00:38.101Z"
   },
   {
    "duration": 3882,
    "start_time": "2023-08-15T08:00:58.363Z"
   },
   {
    "duration": 13,
    "start_time": "2023-08-15T08:01:02.247Z"
   },
   {
    "duration": 9874,
    "start_time": "2023-08-15T08:01:22.740Z"
   },
   {
    "duration": 11,
    "start_time": "2023-08-15T08:01:32.616Z"
   },
   {
    "duration": 75,
    "start_time": "2023-08-15T08:01:46.769Z"
   },
   {
    "duration": 150,
    "start_time": "2023-08-15T08:02:00.801Z"
   },
   {
    "duration": 750,
    "start_time": "2023-08-15T08:02:14.018Z"
   },
   {
    "duration": 3912,
    "start_time": "2023-08-15T08:02:21.864Z"
   },
   {
    "duration": 11,
    "start_time": "2023-08-15T08:02:56.320Z"
   },
   {
    "duration": 12,
    "start_time": "2023-08-15T08:03:14.992Z"
   },
   {
    "duration": 622,
    "start_time": "2023-08-15T08:04:05.093Z"
   },
   {
    "duration": 9716,
    "start_time": "2023-08-15T08:04:25.105Z"
   },
   {
    "duration": 14,
    "start_time": "2023-08-15T08:04:40.434Z"
   },
   {
    "duration": 272,
    "start_time": "2023-08-15T08:04:51.429Z"
   },
   {
    "duration": 6,
    "start_time": "2023-08-15T08:05:00.668Z"
   },
   {
    "duration": 9600,
    "start_time": "2023-08-15T08:05:37.217Z"
   },
   {
    "duration": 6,
    "start_time": "2023-08-15T08:05:46.819Z"
   },
   {
    "duration": 9786,
    "start_time": "2023-08-15T08:07:19.925Z"
   },
   {
    "duration": 6,
    "start_time": "2023-08-15T08:07:29.713Z"
   },
   {
    "duration": 3910,
    "start_time": "2023-08-15T08:07:55.540Z"
   },
   {
    "duration": 8,
    "start_time": "2023-08-15T08:07:59.452Z"
   },
   {
    "duration": 6,
    "start_time": "2023-08-15T08:08:02.679Z"
   },
   {
    "duration": 12,
    "start_time": "2023-08-15T08:08:50.176Z"
   },
   {
    "duration": 15,
    "start_time": "2023-08-15T08:09:17.993Z"
   },
   {
    "duration": 14,
    "start_time": "2023-08-15T08:09:22.447Z"
   },
   {
    "duration": 7,
    "start_time": "2023-08-15T08:09:28.411Z"
   },
   {
    "duration": 6,
    "start_time": "2023-08-15T08:09:31.990Z"
   },
   {
    "duration": 7,
    "start_time": "2023-08-15T08:09:38.369Z"
   },
   {
    "duration": 5,
    "start_time": "2023-08-15T08:09:51.251Z"
   },
   {
    "duration": 1487,
    "start_time": "2023-08-15T08:10:10.209Z"
   },
   {
    "duration": 83,
    "start_time": "2023-08-15T08:14:11.226Z"
   },
   {
    "duration": 240,
    "start_time": "2023-08-15T08:14:24.591Z"
   },
   {
    "duration": 74,
    "start_time": "2023-08-15T08:14:35.790Z"
   },
   {
    "duration": 59,
    "start_time": "2023-08-15T08:14:40.266Z"
   },
   {
    "duration": 160,
    "start_time": "2023-08-15T08:15:02.528Z"
   },
   {
    "duration": 11,
    "start_time": "2023-08-15T08:15:17.374Z"
   },
   {
    "duration": 5,
    "start_time": "2023-08-15T08:15:39.823Z"
   },
   {
    "duration": 0,
    "start_time": "2023-08-15T08:19:34.286Z"
   },
   {
    "duration": 0,
    "start_time": "2023-08-15T08:19:34.287Z"
   },
   {
    "duration": 0,
    "start_time": "2023-08-15T08:19:34.288Z"
   },
   {
    "duration": 0,
    "start_time": "2023-08-15T08:19:34.289Z"
   },
   {
    "duration": 1,
    "start_time": "2023-08-15T08:19:34.290Z"
   },
   {
    "duration": 0,
    "start_time": "2023-08-15T08:19:34.292Z"
   },
   {
    "duration": 0,
    "start_time": "2023-08-15T08:19:34.293Z"
   },
   {
    "duration": 0,
    "start_time": "2023-08-15T08:19:34.294Z"
   },
   {
    "duration": 0,
    "start_time": "2023-08-15T08:19:34.295Z"
   },
   {
    "duration": 0,
    "start_time": "2023-08-15T08:19:34.297Z"
   },
   {
    "duration": 0,
    "start_time": "2023-08-15T08:19:34.298Z"
   },
   {
    "duration": 0,
    "start_time": "2023-08-15T08:19:34.300Z"
   },
   {
    "duration": 0,
    "start_time": "2023-08-15T08:19:34.301Z"
   },
   {
    "duration": 0,
    "start_time": "2023-08-15T08:19:34.302Z"
   },
   {
    "duration": 0,
    "start_time": "2023-08-15T08:19:34.303Z"
   },
   {
    "duration": 0,
    "start_time": "2023-08-15T08:19:34.304Z"
   },
   {
    "duration": 0,
    "start_time": "2023-08-15T08:19:34.305Z"
   },
   {
    "duration": 0,
    "start_time": "2023-08-15T08:19:34.306Z"
   },
   {
    "duration": 0,
    "start_time": "2023-08-15T08:19:34.307Z"
   },
   {
    "duration": 0,
    "start_time": "2023-08-15T08:19:34.308Z"
   },
   {
    "duration": 0,
    "start_time": "2023-08-15T08:19:34.310Z"
   },
   {
    "duration": 0,
    "start_time": "2023-08-15T08:19:34.311Z"
   },
   {
    "duration": 0,
    "start_time": "2023-08-15T08:19:34.312Z"
   },
   {
    "duration": 0,
    "start_time": "2023-08-15T08:19:34.313Z"
   },
   {
    "duration": 0,
    "start_time": "2023-08-15T08:19:34.314Z"
   },
   {
    "duration": 0,
    "start_time": "2023-08-15T08:19:34.316Z"
   },
   {
    "duration": 0,
    "start_time": "2023-08-15T08:19:34.359Z"
   },
   {
    "duration": 0,
    "start_time": "2023-08-15T08:19:34.360Z"
   },
   {
    "duration": 0,
    "start_time": "2023-08-15T08:19:34.361Z"
   },
   {
    "duration": 0,
    "start_time": "2023-08-15T08:19:34.362Z"
   },
   {
    "duration": 0,
    "start_time": "2023-08-15T08:19:34.364Z"
   },
   {
    "duration": 0,
    "start_time": "2023-08-15T08:19:34.365Z"
   },
   {
    "duration": 0,
    "start_time": "2023-08-15T08:19:34.366Z"
   },
   {
    "duration": 0,
    "start_time": "2023-08-15T08:19:34.368Z"
   },
   {
    "duration": 0,
    "start_time": "2023-08-15T08:19:34.369Z"
   },
   {
    "duration": 0,
    "start_time": "2023-08-15T08:19:34.370Z"
   },
   {
    "duration": 0,
    "start_time": "2023-08-15T08:19:34.372Z"
   },
   {
    "duration": 0,
    "start_time": "2023-08-15T08:19:34.373Z"
   },
   {
    "duration": 0,
    "start_time": "2023-08-15T08:19:34.375Z"
   },
   {
    "duration": 0,
    "start_time": "2023-08-15T08:19:34.375Z"
   },
   {
    "duration": 0,
    "start_time": "2023-08-15T08:19:34.376Z"
   },
   {
    "duration": 0,
    "start_time": "2023-08-15T08:19:34.377Z"
   },
   {
    "duration": 0,
    "start_time": "2023-08-15T08:19:34.378Z"
   },
   {
    "duration": 0,
    "start_time": "2023-08-15T08:19:34.379Z"
   },
   {
    "duration": 0,
    "start_time": "2023-08-15T08:19:34.381Z"
   },
   {
    "duration": 0,
    "start_time": "2023-08-15T08:19:34.382Z"
   },
   {
    "duration": 0,
    "start_time": "2023-08-15T08:19:34.384Z"
   },
   {
    "duration": 0,
    "start_time": "2023-08-15T08:19:34.385Z"
   },
   {
    "duration": 0,
    "start_time": "2023-08-15T08:19:34.386Z"
   },
   {
    "duration": 0,
    "start_time": "2023-08-15T08:19:34.387Z"
   },
   {
    "duration": 0,
    "start_time": "2023-08-15T08:19:34.387Z"
   },
   {
    "duration": 0,
    "start_time": "2023-08-15T08:19:34.388Z"
   },
   {
    "duration": 0,
    "start_time": "2023-08-15T08:19:34.390Z"
   },
   {
    "duration": 0,
    "start_time": "2023-08-15T08:19:34.391Z"
   },
   {
    "duration": 0,
    "start_time": "2023-08-15T08:19:34.393Z"
   },
   {
    "duration": 0,
    "start_time": "2023-08-15T08:19:34.394Z"
   },
   {
    "duration": 0,
    "start_time": "2023-08-15T08:19:34.395Z"
   },
   {
    "duration": 33678,
    "start_time": "2023-08-15T08:20:38.519Z"
   },
   {
    "duration": 1603,
    "start_time": "2023-08-15T08:23:06.764Z"
   },
   {
    "duration": 15,
    "start_time": "2023-08-15T08:23:17.324Z"
   },
   {
    "duration": 17134,
    "start_time": "2023-08-15T08:23:30.467Z"
   },
   {
    "duration": 6,
    "start_time": "2023-08-15T08:23:53.142Z"
   },
   {
    "duration": 6,
    "start_time": "2023-08-15T08:23:59.667Z"
   },
   {
    "duration": 11,
    "start_time": "2023-08-15T08:24:15.923Z"
   },
   {
    "duration": 11,
    "start_time": "2023-08-15T08:24:34.588Z"
   },
   {
    "duration": 18312,
    "start_time": "2023-08-15T08:33:44.283Z"
   },
   {
    "duration": 96,
    "start_time": "2023-08-15T08:42:37.472Z"
   },
   {
    "duration": 11,
    "start_time": "2023-08-15T08:42:48.048Z"
   },
   {
    "duration": 14,
    "start_time": "2023-08-15T08:43:43.672Z"
   },
   {
    "duration": 3865,
    "start_time": "2023-08-15T08:43:52.488Z"
   },
   {
    "duration": 1523,
    "start_time": "2023-08-15T08:44:01.478Z"
   },
   {
    "duration": 10516,
    "start_time": "2023-08-15T08:44:44.215Z"
   },
   {
    "duration": 15,
    "start_time": "2023-08-15T08:45:08.454Z"
   },
   {
    "duration": 6,
    "start_time": "2023-08-15T08:45:14.399Z"
   },
   {
    "duration": 11,
    "start_time": "2023-08-15T08:45:45.113Z"
   },
   {
    "duration": 4,
    "start_time": "2023-08-15T08:45:57.504Z"
   },
   {
    "duration": 46,
    "start_time": "2023-08-15T08:45:57.509Z"
   },
   {
    "duration": 3,
    "start_time": "2023-08-15T08:45:57.558Z"
   },
   {
    "duration": 27,
    "start_time": "2023-08-15T08:45:57.563Z"
   },
   {
    "duration": 33,
    "start_time": "2023-08-15T08:45:57.592Z"
   },
   {
    "duration": 185,
    "start_time": "2023-08-15T08:45:57.627Z"
   },
   {
    "duration": 25,
    "start_time": "2023-08-15T08:45:57.814Z"
   },
   {
    "duration": 9,
    "start_time": "2023-08-15T08:45:57.842Z"
   },
   {
    "duration": 33,
    "start_time": "2023-08-15T08:45:57.861Z"
   },
   {
    "duration": 174,
    "start_time": "2023-08-15T08:45:57.897Z"
   },
   {
    "duration": 204,
    "start_time": "2023-08-15T08:45:58.073Z"
   },
   {
    "duration": 32,
    "start_time": "2023-08-15T08:45:58.279Z"
   },
   {
    "duration": 43,
    "start_time": "2023-08-15T08:45:58.313Z"
   },
   {
    "duration": 27,
    "start_time": "2023-08-15T08:45:58.358Z"
   },
   {
    "duration": 193,
    "start_time": "2023-08-15T08:45:58.388Z"
   },
   {
    "duration": 11,
    "start_time": "2023-08-15T08:45:58.583Z"
   },
   {
    "duration": 34,
    "start_time": "2023-08-15T08:45:58.596Z"
   },
   {
    "duration": 22,
    "start_time": "2023-08-15T08:45:58.633Z"
   },
   {
    "duration": 8,
    "start_time": "2023-08-15T08:45:58.657Z"
   },
   {
    "duration": 10,
    "start_time": "2023-08-15T08:45:58.668Z"
   },
   {
    "duration": 25,
    "start_time": "2023-08-15T08:45:58.679Z"
   },
   {
    "duration": 9,
    "start_time": "2023-08-15T08:45:58.706Z"
   },
   {
    "duration": 18,
    "start_time": "2023-08-15T08:45:58.717Z"
   },
   {
    "duration": 10,
    "start_time": "2023-08-15T08:45:58.759Z"
   },
   {
    "duration": 14,
    "start_time": "2023-08-15T08:45:58.771Z"
   },
   {
    "duration": 13,
    "start_time": "2023-08-15T08:45:58.787Z"
   },
   {
    "duration": 10,
    "start_time": "2023-08-15T08:45:58.804Z"
   },
   {
    "duration": 175,
    "start_time": "2023-08-15T08:45:58.816Z"
   },
   {
    "duration": 6,
    "start_time": "2023-08-15T08:45:58.993Z"
   },
   {
    "duration": 14,
    "start_time": "2023-08-15T08:45:59.001Z"
   },
   {
    "duration": 343,
    "start_time": "2023-08-15T08:45:59.018Z"
   },
   {
    "duration": 24,
    "start_time": "2023-08-15T08:45:59.363Z"
   },
   {
    "duration": 221,
    "start_time": "2023-08-15T08:45:59.389Z"
   },
   {
    "duration": 20,
    "start_time": "2023-08-15T08:45:59.611Z"
   },
   {
    "duration": 207,
    "start_time": "2023-08-15T08:45:59.633Z"
   },
   {
    "duration": 24,
    "start_time": "2023-08-15T08:45:59.843Z"
   },
   {
    "duration": 15,
    "start_time": "2023-08-15T08:45:59.869Z"
   },
   {
    "duration": 19,
    "start_time": "2023-08-15T08:45:59.886Z"
   },
   {
    "duration": 12,
    "start_time": "2023-08-15T08:45:59.907Z"
   },
   {
    "duration": 210,
    "start_time": "2023-08-15T08:45:59.921Z"
   },
   {
    "duration": 213,
    "start_time": "2023-08-15T08:46:00.134Z"
   },
   {
    "duration": 232,
    "start_time": "2023-08-15T08:46:00.360Z"
   },
   {
    "duration": 215,
    "start_time": "2023-08-15T08:46:00.594Z"
   },
   {
    "duration": 23,
    "start_time": "2023-08-15T08:46:00.811Z"
   },
   {
    "duration": 130,
    "start_time": "2023-08-15T08:46:00.836Z"
   },
   {
    "duration": 66,
    "start_time": "2023-08-15T08:46:00.969Z"
   },
   {
    "duration": 9048,
    "start_time": "2023-08-15T08:46:01.037Z"
   },
   {
    "duration": 12,
    "start_time": "2023-08-15T08:46:10.087Z"
   },
   {
    "duration": 60,
    "start_time": "2023-08-15T08:46:10.102Z"
   },
   {
    "duration": 26,
    "start_time": "2023-08-15T08:46:10.164Z"
   },
   {
    "duration": 67,
    "start_time": "2023-08-15T08:46:10.192Z"
   },
   {
    "duration": 13,
    "start_time": "2023-08-15T08:46:10.261Z"
   },
   {
    "duration": 0,
    "start_time": "2023-08-15T08:46:10.276Z"
   },
   {
    "duration": 0,
    "start_time": "2023-08-15T08:46:10.277Z"
   },
   {
    "duration": 0,
    "start_time": "2023-08-15T08:46:10.279Z"
   },
   {
    "duration": 0,
    "start_time": "2023-08-15T08:46:10.281Z"
   },
   {
    "duration": 0,
    "start_time": "2023-08-15T08:46:10.282Z"
   },
   {
    "duration": 11,
    "start_time": "2023-08-15T08:46:19.968Z"
   },
   {
    "duration": 12,
    "start_time": "2023-08-15T08:46:28.499Z"
   },
   {
    "duration": 1463,
    "start_time": "2023-08-15T08:46:49.277Z"
   },
   {
    "duration": 3,
    "start_time": "2023-08-15T08:49:04.262Z"
   },
   {
    "duration": 37,
    "start_time": "2023-08-15T08:49:04.267Z"
   },
   {
    "duration": 3,
    "start_time": "2023-08-15T08:49:04.306Z"
   },
   {
    "duration": 15,
    "start_time": "2023-08-15T08:49:04.311Z"
   },
   {
    "duration": 17,
    "start_time": "2023-08-15T08:49:04.327Z"
   },
   {
    "duration": 183,
    "start_time": "2023-08-15T08:49:04.346Z"
   },
   {
    "duration": 32,
    "start_time": "2023-08-15T08:49:04.531Z"
   },
   {
    "duration": 10,
    "start_time": "2023-08-15T08:49:04.565Z"
   },
   {
    "duration": 18,
    "start_time": "2023-08-15T08:49:04.577Z"
   },
   {
    "duration": 190,
    "start_time": "2023-08-15T08:49:04.597Z"
   },
   {
    "duration": 181,
    "start_time": "2023-08-15T08:49:04.789Z"
   },
   {
    "duration": 17,
    "start_time": "2023-08-15T08:49:04.972Z"
   },
   {
    "duration": 9,
    "start_time": "2023-08-15T08:49:04.991Z"
   },
   {
    "duration": 29,
    "start_time": "2023-08-15T08:49:05.002Z"
   },
   {
    "duration": 444,
    "start_time": "2023-08-15T08:49:05.034Z"
   },
   {
    "duration": 9,
    "start_time": "2023-08-15T08:49:05.480Z"
   },
   {
    "duration": 13,
    "start_time": "2023-08-15T08:49:05.490Z"
   },
   {
    "duration": 19,
    "start_time": "2023-08-15T08:49:05.505Z"
   },
   {
    "duration": 23,
    "start_time": "2023-08-15T08:49:05.526Z"
   },
   {
    "duration": 30,
    "start_time": "2023-08-15T08:49:05.551Z"
   },
   {
    "duration": 20,
    "start_time": "2023-08-15T08:49:05.584Z"
   },
   {
    "duration": 24,
    "start_time": "2023-08-15T08:49:05.607Z"
   },
   {
    "duration": 8,
    "start_time": "2023-08-15T08:49:05.633Z"
   },
   {
    "duration": 16,
    "start_time": "2023-08-15T08:49:05.645Z"
   },
   {
    "duration": 14,
    "start_time": "2023-08-15T08:49:05.663Z"
   },
   {
    "duration": 13,
    "start_time": "2023-08-15T08:49:05.679Z"
   },
   {
    "duration": 44,
    "start_time": "2023-08-15T08:49:05.693Z"
   },
   {
    "duration": 178,
    "start_time": "2023-08-15T08:49:05.739Z"
   },
   {
    "duration": 5,
    "start_time": "2023-08-15T08:49:05.919Z"
   },
   {
    "duration": 30,
    "start_time": "2023-08-15T08:49:05.926Z"
   },
   {
    "duration": 287,
    "start_time": "2023-08-15T08:49:05.958Z"
   },
   {
    "duration": 23,
    "start_time": "2023-08-15T08:49:06.248Z"
   },
   {
    "duration": 193,
    "start_time": "2023-08-15T08:49:06.273Z"
   },
   {
    "duration": 16,
    "start_time": "2023-08-15T08:49:06.468Z"
   },
   {
    "duration": 207,
    "start_time": "2023-08-15T08:49:06.486Z"
   },
   {
    "duration": 17,
    "start_time": "2023-08-15T08:49:06.695Z"
   },
   {
    "duration": 25,
    "start_time": "2023-08-15T08:49:06.714Z"
   },
   {
    "duration": 24,
    "start_time": "2023-08-15T08:49:06.741Z"
   },
   {
    "duration": 19,
    "start_time": "2023-08-15T08:49:06.767Z"
   },
   {
    "duration": 167,
    "start_time": "2023-08-15T08:49:06.788Z"
   },
   {
    "duration": 182,
    "start_time": "2023-08-15T08:49:06.959Z"
   },
   {
    "duration": 172,
    "start_time": "2023-08-15T08:49:07.143Z"
   },
   {
    "duration": 202,
    "start_time": "2023-08-15T08:49:07.317Z"
   },
   {
    "duration": 23,
    "start_time": "2023-08-15T08:49:07.521Z"
   },
   {
    "duration": 33,
    "start_time": "2023-08-15T08:49:07.558Z"
   },
   {
    "duration": 30,
    "start_time": "2023-08-15T08:49:07.593Z"
   },
   {
    "duration": 25,
    "start_time": "2023-08-15T08:49:11.186Z"
   },
   {
    "duration": 25,
    "start_time": "2023-08-15T08:50:14.722Z"
   },
   {
    "duration": 4,
    "start_time": "2023-08-15T08:50:29.283Z"
   },
   {
    "duration": 11,
    "start_time": "2023-08-15T08:50:33.170Z"
   },
   {
    "duration": 95,
    "start_time": "2023-08-15T08:50:55.315Z"
   },
   {
    "duration": 189,
    "start_time": "2023-08-15T08:51:15.519Z"
   },
   {
    "duration": 0,
    "start_time": "2023-08-15T08:53:03.091Z"
   },
   {
    "duration": 24,
    "start_time": "2023-08-15T09:02:26.314Z"
   },
   {
    "duration": 321,
    "start_time": "2023-08-15T09:05:03.550Z"
   },
   {
    "duration": 22,
    "start_time": "2023-08-15T09:05:18.190Z"
   },
   {
    "duration": 22,
    "start_time": "2023-08-15T09:05:28.657Z"
   },
   {
    "duration": 74,
    "start_time": "2023-08-15T09:24:15.986Z"
   },
   {
    "duration": 81,
    "start_time": "2023-08-15T09:24:22.039Z"
   },
   {
    "duration": 5,
    "start_time": "2023-08-15T09:24:25.099Z"
   },
   {
    "duration": 5904,
    "start_time": "2023-08-15T09:33:44.648Z"
   },
   {
    "duration": 0,
    "start_time": "2023-08-15T09:33:50.559Z"
   },
   {
    "duration": 4,
    "start_time": "2023-08-15T09:33:52.446Z"
   },
   {
    "duration": 19984,
    "start_time": "2023-08-15T09:33:57.693Z"
   },
   {
    "duration": 51,
    "start_time": "2023-08-15T09:35:08.892Z"
   },
   {
    "duration": 1266,
    "start_time": "2023-08-15T09:35:14.082Z"
   },
   {
    "duration": 154,
    "start_time": "2023-08-15T09:35:15.351Z"
   },
   {
    "duration": 3,
    "start_time": "2023-08-15T09:35:15.507Z"
   },
   {
    "duration": 31,
    "start_time": "2023-08-15T09:35:15.513Z"
   },
   {
    "duration": 24,
    "start_time": "2023-08-15T09:35:15.546Z"
   },
   {
    "duration": 192,
    "start_time": "2023-08-15T09:35:15.572Z"
   },
   {
    "duration": 77,
    "start_time": "2023-08-15T09:35:15.765Z"
   },
   {
    "duration": 10,
    "start_time": "2023-08-15T09:35:15.844Z"
   },
   {
    "duration": 20,
    "start_time": "2023-08-15T09:35:15.856Z"
   },
   {
    "duration": 166,
    "start_time": "2023-08-15T09:35:15.879Z"
   },
   {
    "duration": 175,
    "start_time": "2023-08-15T09:35:16.047Z"
   },
   {
    "duration": 56,
    "start_time": "2023-08-15T09:35:16.223Z"
   },
   {
    "duration": 8,
    "start_time": "2023-08-15T09:35:16.281Z"
   },
   {
    "duration": 22,
    "start_time": "2023-08-15T09:35:16.291Z"
   },
   {
    "duration": 166,
    "start_time": "2023-08-15T09:35:16.315Z"
   },
   {
    "duration": 8,
    "start_time": "2023-08-15T09:35:16.483Z"
   },
   {
    "duration": 30,
    "start_time": "2023-08-15T09:35:16.493Z"
   },
   {
    "duration": 34,
    "start_time": "2023-08-15T09:35:16.524Z"
   },
   {
    "duration": 71,
    "start_time": "2023-08-15T09:35:16.560Z"
   },
   {
    "duration": 14,
    "start_time": "2023-08-15T09:35:16.633Z"
   },
   {
    "duration": 23,
    "start_time": "2023-08-15T09:35:16.649Z"
   },
   {
    "duration": 12,
    "start_time": "2023-08-15T09:35:16.674Z"
   },
   {
    "duration": 14,
    "start_time": "2023-08-15T09:35:16.688Z"
   },
   {
    "duration": 9,
    "start_time": "2023-08-15T09:35:16.704Z"
   },
   {
    "duration": 10,
    "start_time": "2023-08-15T09:35:16.715Z"
   },
   {
    "duration": 11,
    "start_time": "2023-08-15T09:35:16.727Z"
   },
   {
    "duration": 23,
    "start_time": "2023-08-15T09:35:16.740Z"
   },
   {
    "duration": 162,
    "start_time": "2023-08-15T09:35:16.768Z"
   },
   {
    "duration": 6,
    "start_time": "2023-08-15T09:35:16.932Z"
   },
   {
    "duration": 22,
    "start_time": "2023-08-15T09:35:16.940Z"
   },
   {
    "duration": 280,
    "start_time": "2023-08-15T09:35:16.963Z"
   },
   {
    "duration": 23,
    "start_time": "2023-08-15T09:35:17.245Z"
   },
   {
    "duration": 197,
    "start_time": "2023-08-15T09:35:17.270Z"
   },
   {
    "duration": 14,
    "start_time": "2023-08-15T09:35:17.470Z"
   },
   {
    "duration": 208,
    "start_time": "2023-08-15T09:35:17.486Z"
   },
   {
    "duration": 20,
    "start_time": "2023-08-15T09:35:17.696Z"
   },
   {
    "duration": 14,
    "start_time": "2023-08-15T09:35:17.717Z"
   },
   {
    "duration": 34,
    "start_time": "2023-08-15T09:35:17.733Z"
   },
   {
    "duration": 11,
    "start_time": "2023-08-15T09:35:17.769Z"
   },
   {
    "duration": 197,
    "start_time": "2023-08-15T09:35:17.782Z"
   },
   {
    "duration": 296,
    "start_time": "2023-08-15T09:35:17.982Z"
   },
   {
    "duration": 224,
    "start_time": "2023-08-15T09:35:18.280Z"
   },
   {
    "duration": 248,
    "start_time": "2023-08-15T09:35:18.507Z"
   },
   {
    "duration": 24,
    "start_time": "2023-08-15T09:35:18.759Z"
   },
   {
    "duration": 29,
    "start_time": "2023-08-15T09:35:18.785Z"
   },
   {
    "duration": 59,
    "start_time": "2023-08-15T09:35:18.816Z"
   },
   {
    "duration": 4,
    "start_time": "2023-08-15T09:35:18.878Z"
   },
   {
    "duration": 16015,
    "start_time": "2023-08-15T09:35:18.884Z"
   },
   {
    "duration": 0,
    "start_time": "2023-08-15T09:35:34.902Z"
   },
   {
    "duration": 0,
    "start_time": "2023-08-15T09:35:34.903Z"
   },
   {
    "duration": 0,
    "start_time": "2023-08-15T09:35:34.905Z"
   },
   {
    "duration": 1,
    "start_time": "2023-08-15T09:35:34.906Z"
   },
   {
    "duration": 0,
    "start_time": "2023-08-15T09:35:34.908Z"
   },
   {
    "duration": 0,
    "start_time": "2023-08-15T09:35:34.910Z"
   },
   {
    "duration": 0,
    "start_time": "2023-08-15T09:35:34.911Z"
   },
   {
    "duration": 0,
    "start_time": "2023-08-15T09:35:34.913Z"
   },
   {
    "duration": 0,
    "start_time": "2023-08-15T09:35:34.915Z"
   },
   {
    "duration": 0,
    "start_time": "2023-08-15T09:35:34.916Z"
   },
   {
    "duration": 5,
    "start_time": "2023-08-15T09:41:29.162Z"
   },
   {
    "duration": 143,
    "start_time": "2023-08-15T09:41:34.276Z"
   },
   {
    "duration": 11,
    "start_time": "2023-08-15T09:41:42.840Z"
   },
   {
    "duration": 1779,
    "start_time": "2023-08-15T09:41:48.958Z"
   },
   {
    "duration": 143,
    "start_time": "2023-08-15T09:42:05.021Z"
   },
   {
    "duration": 6,
    "start_time": "2023-08-15T09:42:07.563Z"
   },
   {
    "duration": 5,
    "start_time": "2023-08-15T09:42:34.795Z"
   },
   {
    "duration": 5,
    "start_time": "2023-08-15T09:42:56.687Z"
   },
   {
    "duration": 4,
    "start_time": "2023-08-15T09:43:28.458Z"
   },
   {
    "duration": 84,
    "start_time": "2023-08-15T09:43:28.467Z"
   },
   {
    "duration": 3,
    "start_time": "2023-08-15T09:43:28.554Z"
   },
   {
    "duration": 28,
    "start_time": "2023-08-15T09:43:28.558Z"
   },
   {
    "duration": 26,
    "start_time": "2023-08-15T09:43:28.588Z"
   },
   {
    "duration": 187,
    "start_time": "2023-08-15T09:43:28.616Z"
   },
   {
    "duration": 25,
    "start_time": "2023-08-15T09:43:28.804Z"
   },
   {
    "duration": 9,
    "start_time": "2023-08-15T09:43:28.831Z"
   },
   {
    "duration": 26,
    "start_time": "2023-08-15T09:43:28.841Z"
   },
   {
    "duration": 173,
    "start_time": "2023-08-15T09:43:28.868Z"
   },
   {
    "duration": 172,
    "start_time": "2023-08-15T09:43:29.044Z"
   },
   {
    "duration": 17,
    "start_time": "2023-08-15T09:43:29.218Z"
   },
   {
    "duration": 7,
    "start_time": "2023-08-15T09:43:29.237Z"
   },
   {
    "duration": 24,
    "start_time": "2023-08-15T09:43:29.246Z"
   },
   {
    "duration": 155,
    "start_time": "2023-08-15T09:43:29.272Z"
   },
   {
    "duration": 8,
    "start_time": "2023-08-15T09:43:29.429Z"
   },
   {
    "duration": 28,
    "start_time": "2023-08-15T09:43:29.439Z"
   },
   {
    "duration": 16,
    "start_time": "2023-08-15T09:43:29.469Z"
   },
   {
    "duration": 15,
    "start_time": "2023-08-15T09:43:29.487Z"
   },
   {
    "duration": 20,
    "start_time": "2023-08-15T09:43:29.504Z"
   },
   {
    "duration": 15,
    "start_time": "2023-08-15T09:43:29.525Z"
   },
   {
    "duration": 19,
    "start_time": "2023-08-15T09:43:29.542Z"
   },
   {
    "duration": 6,
    "start_time": "2023-08-15T09:43:29.563Z"
   },
   {
    "duration": 18,
    "start_time": "2023-08-15T09:43:29.571Z"
   },
   {
    "duration": 7,
    "start_time": "2023-08-15T09:43:29.590Z"
   },
   {
    "duration": 11,
    "start_time": "2023-08-15T09:43:29.599Z"
   },
   {
    "duration": 25,
    "start_time": "2023-08-15T09:43:29.611Z"
   },
   {
    "duration": 163,
    "start_time": "2023-08-15T09:43:29.638Z"
   },
   {
    "duration": 5,
    "start_time": "2023-08-15T09:43:29.805Z"
   },
   {
    "duration": 11,
    "start_time": "2023-08-15T09:43:29.812Z"
   },
   {
    "duration": 291,
    "start_time": "2023-08-15T09:43:29.825Z"
   },
   {
    "duration": 15,
    "start_time": "2023-08-15T09:43:30.119Z"
   },
   {
    "duration": 271,
    "start_time": "2023-08-15T09:43:30.136Z"
   },
   {
    "duration": 15,
    "start_time": "2023-08-15T09:43:30.409Z"
   },
   {
    "duration": 233,
    "start_time": "2023-08-15T09:43:30.426Z"
   },
   {
    "duration": 17,
    "start_time": "2023-08-15T09:43:30.661Z"
   },
   {
    "duration": 42,
    "start_time": "2023-08-15T09:43:30.680Z"
   },
   {
    "duration": 35,
    "start_time": "2023-08-15T09:43:30.724Z"
   },
   {
    "duration": 62,
    "start_time": "2023-08-15T09:43:30.761Z"
   },
   {
    "duration": 192,
    "start_time": "2023-08-15T09:43:30.825Z"
   },
   {
    "duration": 196,
    "start_time": "2023-08-15T09:43:31.019Z"
   },
   {
    "duration": 192,
    "start_time": "2023-08-15T09:43:31.216Z"
   },
   {
    "duration": 205,
    "start_time": "2023-08-15T09:43:31.410Z"
   },
   {
    "duration": 23,
    "start_time": "2023-08-15T09:43:31.617Z"
   },
   {
    "duration": 64,
    "start_time": "2023-08-15T09:43:31.642Z"
   },
   {
    "duration": 101,
    "start_time": "2023-08-15T09:43:33.732Z"
   },
   {
    "duration": 28,
    "start_time": "2023-08-15T09:43:59.672Z"
   },
   {
    "duration": 3,
    "start_time": "2023-08-15T09:44:27.928Z"
   },
   {
    "duration": 31,
    "start_time": "2023-08-15T09:44:27.951Z"
   },
   {
    "duration": 4,
    "start_time": "2023-08-15T09:44:27.984Z"
   },
   {
    "duration": 17,
    "start_time": "2023-08-15T09:44:27.990Z"
   },
   {
    "duration": 24,
    "start_time": "2023-08-15T09:44:28.009Z"
   },
   {
    "duration": 200,
    "start_time": "2023-08-15T09:44:28.035Z"
   },
   {
    "duration": 35,
    "start_time": "2023-08-15T09:44:28.237Z"
   },
   {
    "duration": 16,
    "start_time": "2023-08-15T09:44:28.275Z"
   },
   {
    "duration": 24,
    "start_time": "2023-08-15T09:44:28.294Z"
   },
   {
    "duration": 216,
    "start_time": "2023-08-15T09:44:28.321Z"
   },
   {
    "duration": 177,
    "start_time": "2023-08-15T09:44:28.539Z"
   },
   {
    "duration": 16,
    "start_time": "2023-08-15T09:44:28.718Z"
   },
   {
    "duration": 8,
    "start_time": "2023-08-15T09:44:28.736Z"
   },
   {
    "duration": 24,
    "start_time": "2023-08-15T09:44:28.745Z"
   },
   {
    "duration": 270,
    "start_time": "2023-08-15T09:44:28.772Z"
   },
   {
    "duration": 18,
    "start_time": "2023-08-15T09:44:29.043Z"
   },
   {
    "duration": 18,
    "start_time": "2023-08-15T09:44:29.063Z"
   },
   {
    "duration": 23,
    "start_time": "2023-08-15T09:44:29.083Z"
   },
   {
    "duration": 22,
    "start_time": "2023-08-15T09:44:29.108Z"
   },
   {
    "duration": 9,
    "start_time": "2023-08-15T09:44:29.132Z"
   },
   {
    "duration": 35,
    "start_time": "2023-08-15T09:44:29.143Z"
   },
   {
    "duration": 16,
    "start_time": "2023-08-15T09:44:29.181Z"
   },
   {
    "duration": 8,
    "start_time": "2023-08-15T09:44:29.199Z"
   },
   {
    "duration": 18,
    "start_time": "2023-08-15T09:44:29.209Z"
   },
   {
    "duration": 14,
    "start_time": "2023-08-15T09:44:29.229Z"
   },
   {
    "duration": 15,
    "start_time": "2023-08-15T09:44:29.260Z"
   },
   {
    "duration": 32,
    "start_time": "2023-08-15T09:44:29.277Z"
   },
   {
    "duration": 170,
    "start_time": "2023-08-15T09:44:29.311Z"
   },
   {
    "duration": 5,
    "start_time": "2023-08-15T09:44:29.483Z"
   },
   {
    "duration": 18,
    "start_time": "2023-08-15T09:44:29.490Z"
   },
   {
    "duration": 288,
    "start_time": "2023-08-15T09:44:29.509Z"
   },
   {
    "duration": 19,
    "start_time": "2023-08-15T09:44:29.801Z"
   },
   {
    "duration": 196,
    "start_time": "2023-08-15T09:44:29.822Z"
   },
   {
    "duration": 14,
    "start_time": "2023-08-15T09:44:30.020Z"
   },
   {
    "duration": 282,
    "start_time": "2023-08-15T09:44:30.036Z"
   },
   {
    "duration": 18,
    "start_time": "2023-08-15T09:44:30.320Z"
   },
   {
    "duration": 63,
    "start_time": "2023-08-15T09:44:30.340Z"
   },
   {
    "duration": 68,
    "start_time": "2023-08-15T09:44:30.405Z"
   },
   {
    "duration": 56,
    "start_time": "2023-08-15T09:44:30.476Z"
   },
   {
    "duration": 231,
    "start_time": "2023-08-15T09:44:30.533Z"
   },
   {
    "duration": 194,
    "start_time": "2023-08-15T09:44:30.765Z"
   },
   {
    "duration": 192,
    "start_time": "2023-08-15T09:44:30.963Z"
   },
   {
    "duration": 201,
    "start_time": "2023-08-15T09:44:31.159Z"
   },
   {
    "duration": 23,
    "start_time": "2023-08-15T09:44:31.362Z"
   },
   {
    "duration": 70,
    "start_time": "2023-08-15T09:44:31.387Z"
   },
   {
    "duration": 44,
    "start_time": "2023-08-15T09:53:38.238Z"
   },
   {
    "duration": 5,
    "start_time": "2023-08-15T09:53:51.659Z"
   },
   {
    "duration": 3,
    "start_time": "2023-08-15T09:54:12.341Z"
   },
   {
    "duration": 80,
    "start_time": "2023-08-15T09:54:12.358Z"
   },
   {
    "duration": 4,
    "start_time": "2023-08-15T09:54:12.441Z"
   },
   {
    "duration": 23,
    "start_time": "2023-08-15T09:54:12.446Z"
   },
   {
    "duration": 15,
    "start_time": "2023-08-15T09:54:12.471Z"
   },
   {
    "duration": 192,
    "start_time": "2023-08-15T09:54:12.489Z"
   },
   {
    "duration": 25,
    "start_time": "2023-08-15T09:54:12.683Z"
   },
   {
    "duration": 10,
    "start_time": "2023-08-15T09:54:12.710Z"
   },
   {
    "duration": 38,
    "start_time": "2023-08-15T09:54:12.721Z"
   },
   {
    "duration": 167,
    "start_time": "2023-08-15T09:54:12.761Z"
   },
   {
    "duration": 165,
    "start_time": "2023-08-15T09:54:12.930Z"
   },
   {
    "duration": 17,
    "start_time": "2023-08-15T09:54:13.096Z"
   },
   {
    "duration": 8,
    "start_time": "2023-08-15T09:54:13.115Z"
   },
   {
    "duration": 13,
    "start_time": "2023-08-15T09:54:13.125Z"
   },
   {
    "duration": 288,
    "start_time": "2023-08-15T09:54:13.158Z"
   },
   {
    "duration": 15,
    "start_time": "2023-08-15T09:54:13.448Z"
   },
   {
    "duration": 9,
    "start_time": "2023-08-15T09:54:13.466Z"
   },
   {
    "duration": 9,
    "start_time": "2023-08-15T09:54:13.477Z"
   },
   {
    "duration": 6,
    "start_time": "2023-08-15T09:54:13.489Z"
   },
   {
    "duration": 8,
    "start_time": "2023-08-15T09:54:13.496Z"
   },
   {
    "duration": 14,
    "start_time": "2023-08-15T09:54:13.506Z"
   },
   {
    "duration": 10,
    "start_time": "2023-08-15T09:54:13.560Z"
   },
   {
    "duration": 11,
    "start_time": "2023-08-15T09:54:13.572Z"
   },
   {
    "duration": 11,
    "start_time": "2023-08-15T09:54:13.585Z"
   },
   {
    "duration": 6,
    "start_time": "2023-08-15T09:54:13.598Z"
   },
   {
    "duration": 10,
    "start_time": "2023-08-15T09:54:13.606Z"
   },
   {
    "duration": 42,
    "start_time": "2023-08-15T09:54:13.618Z"
   },
   {
    "duration": 149,
    "start_time": "2023-08-15T09:54:13.662Z"
   },
   {
    "duration": 6,
    "start_time": "2023-08-15T09:54:13.813Z"
   },
   {
    "duration": 13,
    "start_time": "2023-08-15T09:54:13.820Z"
   },
   {
    "duration": 289,
    "start_time": "2023-08-15T09:54:13.834Z"
   },
   {
    "duration": 15,
    "start_time": "2023-08-15T09:54:14.124Z"
   },
   {
    "duration": 195,
    "start_time": "2023-08-15T09:54:14.141Z"
   },
   {
    "duration": 22,
    "start_time": "2023-08-15T09:54:14.338Z"
   },
   {
    "duration": 197,
    "start_time": "2023-08-15T09:54:14.362Z"
   },
   {
    "duration": 18,
    "start_time": "2023-08-15T09:54:14.561Z"
   },
   {
    "duration": 14,
    "start_time": "2023-08-15T09:54:14.581Z"
   },
   {
    "duration": 19,
    "start_time": "2023-08-15T09:54:14.596Z"
   },
   {
    "duration": 8,
    "start_time": "2023-08-15T09:54:14.617Z"
   },
   {
    "duration": 184,
    "start_time": "2023-08-15T09:54:14.627Z"
   },
   {
    "duration": 192,
    "start_time": "2023-08-15T09:54:14.813Z"
   },
   {
    "duration": 192,
    "start_time": "2023-08-15T09:54:15.009Z"
   },
   {
    "duration": 212,
    "start_time": "2023-08-15T09:54:15.203Z"
   },
   {
    "duration": 23,
    "start_time": "2023-08-15T09:54:15.417Z"
   },
   {
    "duration": 40,
    "start_time": "2023-08-15T09:54:15.442Z"
   },
   {
    "duration": 27,
    "start_time": "2023-08-15T09:54:24.981Z"
   },
   {
    "duration": 6,
    "start_time": "2023-08-15T09:54:31.648Z"
   },
   {
    "duration": 632,
    "start_time": "2023-08-15T09:55:04.491Z"
   },
   {
    "duration": 3,
    "start_time": "2023-08-15T09:55:23.039Z"
   },
   {
    "duration": 39,
    "start_time": "2023-08-15T09:55:23.046Z"
   },
   {
    "duration": 3,
    "start_time": "2023-08-15T09:55:23.087Z"
   },
   {
    "duration": 40,
    "start_time": "2023-08-15T09:55:23.092Z"
   },
   {
    "duration": 17,
    "start_time": "2023-08-15T09:55:23.135Z"
   },
   {
    "duration": 185,
    "start_time": "2023-08-15T09:55:23.154Z"
   },
   {
    "duration": 29,
    "start_time": "2023-08-15T09:55:23.341Z"
   },
   {
    "duration": 11,
    "start_time": "2023-08-15T09:55:23.372Z"
   },
   {
    "duration": 26,
    "start_time": "2023-08-15T09:55:23.385Z"
   },
   {
    "duration": 173,
    "start_time": "2023-08-15T09:55:23.413Z"
   },
   {
    "duration": 170,
    "start_time": "2023-08-15T09:55:23.589Z"
   },
   {
    "duration": 17,
    "start_time": "2023-08-15T09:55:23.760Z"
   },
   {
    "duration": 8,
    "start_time": "2023-08-15T09:55:23.779Z"
   },
   {
    "duration": 25,
    "start_time": "2023-08-15T09:55:23.789Z"
   },
   {
    "duration": 127,
    "start_time": "2023-08-15T09:55:23.816Z"
   },
   {
    "duration": 8,
    "start_time": "2023-08-15T09:55:23.944Z"
   },
   {
    "duration": 36,
    "start_time": "2023-08-15T09:55:23.953Z"
   },
   {
    "duration": 26,
    "start_time": "2023-08-15T09:55:23.991Z"
   },
   {
    "duration": 20,
    "start_time": "2023-08-15T09:55:24.018Z"
   },
   {
    "duration": 25,
    "start_time": "2023-08-15T09:55:24.040Z"
   },
   {
    "duration": 21,
    "start_time": "2023-08-15T09:55:24.066Z"
   },
   {
    "duration": 9,
    "start_time": "2023-08-15T09:55:24.089Z"
   },
   {
    "duration": 27,
    "start_time": "2023-08-15T09:55:24.099Z"
   },
   {
    "duration": 25,
    "start_time": "2023-08-15T09:55:24.128Z"
   },
   {
    "duration": 15,
    "start_time": "2023-08-15T09:55:24.155Z"
   },
   {
    "duration": 24,
    "start_time": "2023-08-15T09:55:24.172Z"
   },
   {
    "duration": 20,
    "start_time": "2023-08-15T09:55:24.198Z"
   },
   {
    "duration": 328,
    "start_time": "2023-08-15T09:55:24.219Z"
   },
   {
    "duration": 6,
    "start_time": "2023-08-15T09:55:24.560Z"
   },
   {
    "duration": 51,
    "start_time": "2023-08-15T09:55:24.567Z"
   },
   {
    "duration": 300,
    "start_time": "2023-08-15T09:55:24.620Z"
   },
   {
    "duration": 15,
    "start_time": "2023-08-15T09:55:24.922Z"
   },
   {
    "duration": 188,
    "start_time": "2023-08-15T09:55:24.939Z"
   },
   {
    "duration": 13,
    "start_time": "2023-08-15T09:55:25.130Z"
   },
   {
    "duration": 203,
    "start_time": "2023-08-15T09:55:25.145Z"
   },
   {
    "duration": 24,
    "start_time": "2023-08-15T09:55:25.350Z"
   },
   {
    "duration": 15,
    "start_time": "2023-08-15T09:55:25.376Z"
   },
   {
    "duration": 25,
    "start_time": "2023-08-15T09:55:25.394Z"
   },
   {
    "duration": 9,
    "start_time": "2023-08-15T09:55:25.421Z"
   },
   {
    "duration": 180,
    "start_time": "2023-08-15T09:55:25.432Z"
   },
   {
    "duration": 188,
    "start_time": "2023-08-15T09:55:25.614Z"
   },
   {
    "duration": 179,
    "start_time": "2023-08-15T09:55:25.804Z"
   },
   {
    "duration": 199,
    "start_time": "2023-08-15T09:55:25.984Z"
   },
   {
    "duration": 23,
    "start_time": "2023-08-15T09:55:26.184Z"
   },
   {
    "duration": 33,
    "start_time": "2023-08-15T09:55:26.209Z"
   },
   {
    "duration": 37,
    "start_time": "2023-08-15T09:55:26.244Z"
   },
   {
    "duration": 358,
    "start_time": "2023-08-15T09:55:27.283Z"
   },
   {
    "duration": 308,
    "start_time": "2023-08-15T09:55:32.420Z"
   },
   {
    "duration": 282,
    "start_time": "2023-08-15T09:55:36.297Z"
   },
   {
    "duration": 4,
    "start_time": "2023-08-15T09:55:48.002Z"
   },
   {
    "duration": 48,
    "start_time": "2023-08-15T09:55:48.012Z"
   },
   {
    "duration": 3,
    "start_time": "2023-08-15T09:55:48.062Z"
   },
   {
    "duration": 19,
    "start_time": "2023-08-15T09:55:48.067Z"
   },
   {
    "duration": 32,
    "start_time": "2023-08-15T09:55:48.089Z"
   },
   {
    "duration": 216,
    "start_time": "2023-08-15T09:55:48.123Z"
   },
   {
    "duration": 28,
    "start_time": "2023-08-15T09:55:48.360Z"
   },
   {
    "duration": 19,
    "start_time": "2023-08-15T09:55:48.391Z"
   },
   {
    "duration": 36,
    "start_time": "2023-08-15T09:55:48.412Z"
   },
   {
    "duration": 203,
    "start_time": "2023-08-15T09:55:48.451Z"
   },
   {
    "duration": 178,
    "start_time": "2023-08-15T09:55:48.658Z"
   },
   {
    "duration": 17,
    "start_time": "2023-08-15T09:55:48.838Z"
   },
   {
    "duration": 8,
    "start_time": "2023-08-15T09:55:48.857Z"
   },
   {
    "duration": 21,
    "start_time": "2023-08-15T09:55:48.867Z"
   },
   {
    "duration": 137,
    "start_time": "2023-08-15T09:55:48.890Z"
   },
   {
    "duration": 8,
    "start_time": "2023-08-15T09:55:49.028Z"
   },
   {
    "duration": 24,
    "start_time": "2023-08-15T09:55:49.038Z"
   },
   {
    "duration": 14,
    "start_time": "2023-08-15T09:55:49.063Z"
   },
   {
    "duration": 24,
    "start_time": "2023-08-15T09:55:49.079Z"
   },
   {
    "duration": 14,
    "start_time": "2023-08-15T09:55:49.105Z"
   },
   {
    "duration": 39,
    "start_time": "2023-08-15T09:55:49.121Z"
   },
   {
    "duration": 8,
    "start_time": "2023-08-15T09:55:49.162Z"
   },
   {
    "duration": 10,
    "start_time": "2023-08-15T09:55:49.172Z"
   },
   {
    "duration": 26,
    "start_time": "2023-08-15T09:55:49.183Z"
   },
   {
    "duration": 6,
    "start_time": "2023-08-15T09:55:49.211Z"
   },
   {
    "duration": 32,
    "start_time": "2023-08-15T09:55:49.219Z"
   },
   {
    "duration": 10,
    "start_time": "2023-08-15T09:55:49.253Z"
   },
   {
    "duration": 338,
    "start_time": "2023-08-15T09:55:49.264Z"
   },
   {
    "duration": 5,
    "start_time": "2023-08-15T09:55:49.606Z"
   },
   {
    "duration": 11,
    "start_time": "2023-08-15T09:55:49.613Z"
   },
   {
    "duration": 279,
    "start_time": "2023-08-15T09:55:49.626Z"
   },
   {
    "duration": 16,
    "start_time": "2023-08-15T09:55:49.907Z"
   },
   {
    "duration": 192,
    "start_time": "2023-08-15T09:55:49.925Z"
   },
   {
    "duration": 14,
    "start_time": "2023-08-15T09:55:50.118Z"
   },
   {
    "duration": 206,
    "start_time": "2023-08-15T09:55:50.133Z"
   },
   {
    "duration": 23,
    "start_time": "2023-08-15T09:55:50.341Z"
   },
   {
    "duration": 12,
    "start_time": "2023-08-15T09:55:50.366Z"
   },
   {
    "duration": 24,
    "start_time": "2023-08-15T09:55:50.380Z"
   },
   {
    "duration": 10,
    "start_time": "2023-08-15T09:55:50.406Z"
   },
   {
    "duration": 188,
    "start_time": "2023-08-15T09:55:50.418Z"
   },
   {
    "duration": 183,
    "start_time": "2023-08-15T09:55:50.608Z"
   },
   {
    "duration": 180,
    "start_time": "2023-08-15T09:55:50.793Z"
   },
   {
    "duration": 203,
    "start_time": "2023-08-15T09:55:50.975Z"
   },
   {
    "duration": 22,
    "start_time": "2023-08-15T09:55:51.179Z"
   },
   {
    "duration": 56,
    "start_time": "2023-08-15T09:55:51.203Z"
   },
   {
    "duration": 32,
    "start_time": "2023-08-15T09:55:51.261Z"
   },
   {
    "duration": 6,
    "start_time": "2023-08-15T09:55:51.295Z"
   },
   {
    "duration": 178,
    "start_time": "2023-08-15T09:55:51.303Z"
   },
   {
    "duration": 5,
    "start_time": "2023-08-15T09:55:51.483Z"
   },
   {
    "duration": 20,
    "start_time": "2023-08-15T09:55:51.490Z"
   },
   {
    "duration": 15,
    "start_time": "2023-08-15T09:55:51.512Z"
   },
   {
    "duration": 15,
    "start_time": "2023-08-15T09:55:51.529Z"
   },
   {
    "duration": 11,
    "start_time": "2023-08-15T09:55:51.546Z"
   },
   {
    "duration": 0,
    "start_time": "2023-08-15T09:55:51.559Z"
   },
   {
    "duration": 0,
    "start_time": "2023-08-15T09:55:51.560Z"
   },
   {
    "duration": 0,
    "start_time": "2023-08-15T09:55:51.561Z"
   },
   {
    "duration": 0,
    "start_time": "2023-08-15T09:55:51.562Z"
   },
   {
    "duration": 0,
    "start_time": "2023-08-15T09:55:51.564Z"
   },
   {
    "duration": 5,
    "start_time": "2023-08-15T09:56:04.539Z"
   },
   {
    "duration": 500,
    "start_time": "2023-08-15T09:56:27.925Z"
   },
   {
    "duration": 459,
    "start_time": "2023-08-15T09:56:30.015Z"
   },
   {
    "duration": 291,
    "start_time": "2023-08-15T09:56:32.017Z"
   },
   {
    "duration": 4,
    "start_time": "2023-08-15T09:56:37.225Z"
   },
   {
    "duration": 152,
    "start_time": "2023-08-15T09:56:37.231Z"
   },
   {
    "duration": 4,
    "start_time": "2023-08-15T09:56:37.385Z"
   },
   {
    "duration": 14,
    "start_time": "2023-08-15T09:56:37.390Z"
   },
   {
    "duration": 18,
    "start_time": "2023-08-15T09:56:37.407Z"
   },
   {
    "duration": 179,
    "start_time": "2023-08-15T09:56:37.427Z"
   },
   {
    "duration": 25,
    "start_time": "2023-08-15T09:56:37.608Z"
   },
   {
    "duration": 91,
    "start_time": "2023-08-15T09:56:37.635Z"
   },
   {
    "duration": 22,
    "start_time": "2023-08-15T09:56:37.728Z"
   },
   {
    "duration": 156,
    "start_time": "2023-08-15T09:56:37.751Z"
   },
   {
    "duration": 160,
    "start_time": "2023-08-15T09:56:37.910Z"
   },
   {
    "duration": 17,
    "start_time": "2023-08-15T09:56:38.072Z"
   },
   {
    "duration": 8,
    "start_time": "2023-08-15T09:56:38.090Z"
   },
   {
    "duration": 30,
    "start_time": "2023-08-15T09:56:38.100Z"
   },
   {
    "duration": 151,
    "start_time": "2023-08-15T09:56:38.133Z"
   },
   {
    "duration": 9,
    "start_time": "2023-08-15T09:56:38.286Z"
   },
   {
    "duration": 17,
    "start_time": "2023-08-15T09:56:38.297Z"
   },
   {
    "duration": 13,
    "start_time": "2023-08-15T09:56:38.316Z"
   },
   {
    "duration": 30,
    "start_time": "2023-08-15T09:56:38.331Z"
   },
   {
    "duration": 12,
    "start_time": "2023-08-15T09:56:38.363Z"
   },
   {
    "duration": 30,
    "start_time": "2023-08-15T09:56:38.377Z"
   },
   {
    "duration": 16,
    "start_time": "2023-08-15T09:56:38.410Z"
   },
   {
    "duration": 19,
    "start_time": "2023-08-15T09:56:38.429Z"
   },
   {
    "duration": 27,
    "start_time": "2023-08-15T09:56:38.460Z"
   },
   {
    "duration": 30,
    "start_time": "2023-08-15T09:56:38.490Z"
   },
   {
    "duration": 15,
    "start_time": "2023-08-15T09:56:38.521Z"
   },
   {
    "duration": 10,
    "start_time": "2023-08-15T09:56:38.537Z"
   },
   {
    "duration": 156,
    "start_time": "2023-08-15T09:56:38.549Z"
   },
   {
    "duration": 5,
    "start_time": "2023-08-15T09:56:38.709Z"
   },
   {
    "duration": 21,
    "start_time": "2023-08-15T09:56:38.716Z"
   },
   {
    "duration": 278,
    "start_time": "2023-08-15T09:56:38.739Z"
   },
   {
    "duration": 15,
    "start_time": "2023-08-15T09:56:39.018Z"
   },
   {
    "duration": 410,
    "start_time": "2023-08-15T09:56:39.035Z"
   },
   {
    "duration": 23,
    "start_time": "2023-08-15T09:56:39.447Z"
   },
   {
    "duration": 192,
    "start_time": "2023-08-15T09:56:39.472Z"
   },
   {
    "duration": 18,
    "start_time": "2023-08-15T09:56:39.666Z"
   },
   {
    "duration": 12,
    "start_time": "2023-08-15T09:56:39.686Z"
   },
   {
    "duration": 12,
    "start_time": "2023-08-15T09:56:39.700Z"
   },
   {
    "duration": 7,
    "start_time": "2023-08-15T09:56:39.714Z"
   },
   {
    "duration": 182,
    "start_time": "2023-08-15T09:56:39.723Z"
   },
   {
    "duration": 191,
    "start_time": "2023-08-15T09:56:39.907Z"
   },
   {
    "duration": 173,
    "start_time": "2023-08-15T09:56:40.099Z"
   },
   {
    "duration": 203,
    "start_time": "2023-08-15T09:56:40.274Z"
   },
   {
    "duration": 23,
    "start_time": "2023-08-15T09:56:40.479Z"
   },
   {
    "duration": 26,
    "start_time": "2023-08-15T09:56:40.504Z"
   },
   {
    "duration": 49,
    "start_time": "2023-08-15T09:56:40.531Z"
   },
   {
    "duration": 323,
    "start_time": "2023-08-15T09:56:41.457Z"
   },
   {
    "duration": 4,
    "start_time": "2023-08-15T09:56:44.101Z"
   },
   {
    "duration": 136,
    "start_time": "2023-08-15T09:56:45.717Z"
   },
   {
    "duration": 7,
    "start_time": "2023-08-15T09:56:47.446Z"
   },
   {
    "duration": 4,
    "start_time": "2023-08-15T09:57:15.075Z"
   },
   {
    "duration": 68,
    "start_time": "2023-08-15T09:57:15.084Z"
   },
   {
    "duration": 3,
    "start_time": "2023-08-15T09:57:15.155Z"
   },
   {
    "duration": 33,
    "start_time": "2023-08-15T09:57:15.160Z"
   },
   {
    "duration": 20,
    "start_time": "2023-08-15T09:57:15.195Z"
   },
   {
    "duration": 213,
    "start_time": "2023-08-15T09:57:15.216Z"
   },
   {
    "duration": 36,
    "start_time": "2023-08-15T09:57:15.431Z"
   },
   {
    "duration": 10,
    "start_time": "2023-08-15T09:57:15.470Z"
   },
   {
    "duration": 25,
    "start_time": "2023-08-15T09:57:15.482Z"
   },
   {
    "duration": 181,
    "start_time": "2023-08-15T09:57:15.509Z"
   },
   {
    "duration": 172,
    "start_time": "2023-08-15T09:57:15.693Z"
   },
   {
    "duration": 16,
    "start_time": "2023-08-15T09:57:15.867Z"
   },
   {
    "duration": 12,
    "start_time": "2023-08-15T09:57:15.886Z"
   },
   {
    "duration": 32,
    "start_time": "2023-08-15T09:57:15.901Z"
   },
   {
    "duration": 126,
    "start_time": "2023-08-15T09:57:15.935Z"
   },
   {
    "duration": 9,
    "start_time": "2023-08-15T09:57:16.063Z"
   },
   {
    "duration": 21,
    "start_time": "2023-08-15T09:57:16.074Z"
   },
   {
    "duration": 11,
    "start_time": "2023-08-15T09:57:16.097Z"
   },
   {
    "duration": 29,
    "start_time": "2023-08-15T09:57:16.110Z"
   },
   {
    "duration": 10,
    "start_time": "2023-08-15T09:57:16.141Z"
   },
   {
    "duration": 27,
    "start_time": "2023-08-15T09:57:16.158Z"
   },
   {
    "duration": 10,
    "start_time": "2023-08-15T09:57:16.188Z"
   },
   {
    "duration": 8,
    "start_time": "2023-08-15T09:57:16.200Z"
   },
   {
    "duration": 11,
    "start_time": "2023-08-15T09:57:16.210Z"
   },
   {
    "duration": 7,
    "start_time": "2023-08-15T09:57:16.224Z"
   },
   {
    "duration": 8,
    "start_time": "2023-08-15T09:57:16.259Z"
   },
   {
    "duration": 11,
    "start_time": "2023-08-15T09:57:16.269Z"
   },
   {
    "duration": 162,
    "start_time": "2023-08-15T09:57:16.283Z"
   },
   {
    "duration": 6,
    "start_time": "2023-08-15T09:57:16.461Z"
   },
   {
    "duration": 28,
    "start_time": "2023-08-15T09:57:16.469Z"
   },
   {
    "duration": 280,
    "start_time": "2023-08-15T09:57:16.499Z"
   },
   {
    "duration": 16,
    "start_time": "2023-08-15T09:57:16.782Z"
   },
   {
    "duration": 203,
    "start_time": "2023-08-15T09:57:16.800Z"
   },
   {
    "duration": 17,
    "start_time": "2023-08-15T09:57:17.006Z"
   },
   {
    "duration": 220,
    "start_time": "2023-08-15T09:57:17.024Z"
   },
   {
    "duration": 31,
    "start_time": "2023-08-15T09:57:17.246Z"
   },
   {
    "duration": 22,
    "start_time": "2023-08-15T09:57:17.279Z"
   },
   {
    "duration": 25,
    "start_time": "2023-08-15T09:57:17.303Z"
   },
   {
    "duration": 20,
    "start_time": "2023-08-15T09:57:17.330Z"
   },
   {
    "duration": 167,
    "start_time": "2023-08-15T09:57:17.352Z"
   },
   {
    "duration": 208,
    "start_time": "2023-08-15T09:57:17.521Z"
   },
   {
    "duration": 188,
    "start_time": "2023-08-15T09:57:17.732Z"
   },
   {
    "duration": 201,
    "start_time": "2023-08-15T09:57:17.922Z"
   },
   {
    "duration": 23,
    "start_time": "2023-08-15T09:57:18.125Z"
   },
   {
    "duration": 28,
    "start_time": "2023-08-15T09:57:18.158Z"
   },
   {
    "duration": 31,
    "start_time": "2023-08-15T09:57:18.189Z"
   },
   {
    "duration": 4,
    "start_time": "2023-08-15T09:57:18.222Z"
   },
   {
    "duration": 215,
    "start_time": "2023-08-15T09:57:18.227Z"
   },
   {
    "duration": 6,
    "start_time": "2023-08-15T09:57:18.445Z"
   },
   {
    "duration": 35,
    "start_time": "2023-08-15T09:57:18.459Z"
   },
   {
    "duration": 36,
    "start_time": "2023-08-15T09:57:18.496Z"
   },
   {
    "duration": 48,
    "start_time": "2023-08-15T09:57:18.534Z"
   },
   {
    "duration": 46,
    "start_time": "2023-08-15T09:57:18.584Z"
   },
   {
    "duration": 0,
    "start_time": "2023-08-15T09:57:18.631Z"
   },
   {
    "duration": 0,
    "start_time": "2023-08-15T09:57:18.633Z"
   },
   {
    "duration": 0,
    "start_time": "2023-08-15T09:57:18.634Z"
   },
   {
    "duration": 0,
    "start_time": "2023-08-15T09:57:18.635Z"
   },
   {
    "duration": 0,
    "start_time": "2023-08-15T09:57:18.637Z"
   },
   {
    "duration": 639,
    "start_time": "2023-08-15T09:59:09.766Z"
   },
   {
    "duration": 3,
    "start_time": "2023-08-15T09:59:12.972Z"
   },
   {
    "duration": 135,
    "start_time": "2023-08-15T09:59:12.981Z"
   },
   {
    "duration": 9,
    "start_time": "2023-08-15T09:59:13.119Z"
   },
   {
    "duration": 60,
    "start_time": "2023-08-15T09:59:13.130Z"
   },
   {
    "duration": 43,
    "start_time": "2023-08-15T09:59:13.193Z"
   },
   {
    "duration": 212,
    "start_time": "2023-08-15T09:59:13.238Z"
   },
   {
    "duration": 25,
    "start_time": "2023-08-15T09:59:13.453Z"
   },
   {
    "duration": 10,
    "start_time": "2023-08-15T09:59:13.479Z"
   },
   {
    "duration": 14,
    "start_time": "2023-08-15T09:59:13.490Z"
   },
   {
    "duration": 198,
    "start_time": "2023-08-15T09:59:13.506Z"
   },
   {
    "duration": 181,
    "start_time": "2023-08-15T09:59:13.707Z"
   },
   {
    "duration": 17,
    "start_time": "2023-08-15T09:59:13.890Z"
   },
   {
    "duration": 9,
    "start_time": "2023-08-15T09:59:13.909Z"
   },
   {
    "duration": 29,
    "start_time": "2023-08-15T09:59:13.919Z"
   },
   {
    "duration": 143,
    "start_time": "2023-08-15T09:59:13.951Z"
   },
   {
    "duration": 8,
    "start_time": "2023-08-15T09:59:14.096Z"
   },
   {
    "duration": 18,
    "start_time": "2023-08-15T09:59:14.105Z"
   },
   {
    "duration": 19,
    "start_time": "2023-08-15T09:59:14.125Z"
   },
   {
    "duration": 13,
    "start_time": "2023-08-15T09:59:14.146Z"
   },
   {
    "duration": 19,
    "start_time": "2023-08-15T09:59:14.162Z"
   },
   {
    "duration": 26,
    "start_time": "2023-08-15T09:59:14.183Z"
   },
   {
    "duration": 12,
    "start_time": "2023-08-15T09:59:14.211Z"
   },
   {
    "duration": 11,
    "start_time": "2023-08-15T09:59:14.225Z"
   },
   {
    "duration": 23,
    "start_time": "2023-08-15T09:59:14.237Z"
   },
   {
    "duration": 7,
    "start_time": "2023-08-15T09:59:14.262Z"
   },
   {
    "duration": 12,
    "start_time": "2023-08-15T09:59:14.270Z"
   },
   {
    "duration": 13,
    "start_time": "2023-08-15T09:59:14.284Z"
   },
   {
    "duration": 171,
    "start_time": "2023-08-15T09:59:14.300Z"
   },
   {
    "duration": 6,
    "start_time": "2023-08-15T09:59:14.475Z"
   },
   {
    "duration": 12,
    "start_time": "2023-08-15T09:59:14.482Z"
   },
   {
    "duration": 293,
    "start_time": "2023-08-15T09:59:14.496Z"
   },
   {
    "duration": 16,
    "start_time": "2023-08-15T09:59:14.791Z"
   },
   {
    "duration": 197,
    "start_time": "2023-08-15T09:59:14.809Z"
   },
   {
    "duration": 15,
    "start_time": "2023-08-15T09:59:15.008Z"
   },
   {
    "duration": 346,
    "start_time": "2023-08-15T09:59:15.025Z"
   },
   {
    "duration": 19,
    "start_time": "2023-08-15T09:59:15.373Z"
   },
   {
    "duration": 70,
    "start_time": "2023-08-15T09:59:15.394Z"
   },
   {
    "duration": 19,
    "start_time": "2023-08-15T09:59:15.465Z"
   },
   {
    "duration": 11,
    "start_time": "2023-08-15T09:59:15.485Z"
   },
   {
    "duration": 376,
    "start_time": "2023-08-15T09:59:15.498Z"
   },
   {
    "duration": 395,
    "start_time": "2023-08-15T09:59:15.876Z"
   },
   {
    "duration": 387,
    "start_time": "2023-08-15T09:59:16.273Z"
   },
   {
    "duration": 400,
    "start_time": "2023-08-15T09:59:16.662Z"
   },
   {
    "duration": 24,
    "start_time": "2023-08-15T09:59:17.064Z"
   },
   {
    "duration": 77,
    "start_time": "2023-08-15T09:59:17.090Z"
   },
   {
    "duration": 30,
    "start_time": "2023-08-15T09:59:17.169Z"
   },
   {
    "duration": 59,
    "start_time": "2023-08-15T09:59:17.201Z"
   },
   {
    "duration": 313,
    "start_time": "2023-08-15T09:59:17.262Z"
   },
   {
    "duration": 5,
    "start_time": "2023-08-15T09:59:17.577Z"
   },
   {
    "duration": 10,
    "start_time": "2023-08-15T09:59:17.584Z"
   },
   {
    "duration": 12,
    "start_time": "2023-08-15T09:59:17.596Z"
   },
   {
    "duration": 10,
    "start_time": "2023-08-15T09:59:17.660Z"
   },
   {
    "duration": 17,
    "start_time": "2023-08-15T09:59:17.671Z"
   },
   {
    "duration": 0,
    "start_time": "2023-08-15T09:59:17.690Z"
   },
   {
    "duration": 0,
    "start_time": "2023-08-15T09:59:17.691Z"
   },
   {
    "duration": 0,
    "start_time": "2023-08-15T09:59:17.692Z"
   },
   {
    "duration": 0,
    "start_time": "2023-08-15T09:59:17.694Z"
   },
   {
    "duration": 0,
    "start_time": "2023-08-15T09:59:17.695Z"
   },
   {
    "duration": 5,
    "start_time": "2023-08-15T09:59:28.196Z"
   },
   {
    "duration": 5,
    "start_time": "2023-08-15T09:59:42.306Z"
   },
   {
    "duration": 138,
    "start_time": "2023-08-15T09:59:42.921Z"
   },
   {
    "duration": 1377,
    "start_time": "2023-08-15T09:59:55.168Z"
   },
   {
    "duration": 6,
    "start_time": "2023-08-15T10:00:05.168Z"
   },
   {
    "duration": 4,
    "start_time": "2023-08-15T10:00:33.026Z"
   },
   {
    "duration": 48,
    "start_time": "2023-08-15T10:00:33.033Z"
   },
   {
    "duration": 8,
    "start_time": "2023-08-15T10:00:33.083Z"
   },
   {
    "duration": 15,
    "start_time": "2023-08-15T10:00:33.093Z"
   },
   {
    "duration": 42,
    "start_time": "2023-08-15T10:00:33.110Z"
   },
   {
    "duration": 175,
    "start_time": "2023-08-15T10:00:33.154Z"
   },
   {
    "duration": 36,
    "start_time": "2023-08-15T10:00:33.331Z"
   },
   {
    "duration": 10,
    "start_time": "2023-08-15T10:00:33.369Z"
   },
   {
    "duration": 26,
    "start_time": "2023-08-15T10:00:33.381Z"
   },
   {
    "duration": 164,
    "start_time": "2023-08-15T10:00:33.409Z"
   },
   {
    "duration": 168,
    "start_time": "2023-08-15T10:00:33.575Z"
   },
   {
    "duration": 18,
    "start_time": "2023-08-15T10:00:33.746Z"
   },
   {
    "duration": 8,
    "start_time": "2023-08-15T10:00:33.766Z"
   },
   {
    "duration": 40,
    "start_time": "2023-08-15T10:00:33.776Z"
   },
   {
    "duration": 141,
    "start_time": "2023-08-15T10:00:33.818Z"
   },
   {
    "duration": 8,
    "start_time": "2023-08-15T10:00:33.960Z"
   },
   {
    "duration": 19,
    "start_time": "2023-08-15T10:00:33.970Z"
   },
   {
    "duration": 21,
    "start_time": "2023-08-15T10:00:33.990Z"
   },
   {
    "duration": 15,
    "start_time": "2023-08-15T10:00:34.013Z"
   },
   {
    "duration": 20,
    "start_time": "2023-08-15T10:00:34.029Z"
   },
   {
    "duration": 20,
    "start_time": "2023-08-15T10:00:34.051Z"
   },
   {
    "duration": 18,
    "start_time": "2023-08-15T10:00:34.073Z"
   },
   {
    "duration": 11,
    "start_time": "2023-08-15T10:00:34.093Z"
   },
   {
    "duration": 20,
    "start_time": "2023-08-15T10:00:34.106Z"
   },
   {
    "duration": 21,
    "start_time": "2023-08-15T10:00:34.129Z"
   },
   {
    "duration": 30,
    "start_time": "2023-08-15T10:00:34.152Z"
   },
   {
    "duration": 21,
    "start_time": "2023-08-15T10:00:34.184Z"
   },
   {
    "duration": 154,
    "start_time": "2023-08-15T10:00:34.207Z"
   },
   {
    "duration": 5,
    "start_time": "2023-08-15T10:00:34.365Z"
   },
   {
    "duration": 26,
    "start_time": "2023-08-15T10:00:34.372Z"
   },
   {
    "duration": 280,
    "start_time": "2023-08-15T10:00:34.400Z"
   },
   {
    "duration": 14,
    "start_time": "2023-08-15T10:00:34.682Z"
   },
   {
    "duration": 189,
    "start_time": "2023-08-15T10:00:34.697Z"
   },
   {
    "duration": 13,
    "start_time": "2023-08-15T10:00:34.888Z"
   },
   {
    "duration": 189,
    "start_time": "2023-08-15T10:00:34.903Z"
   },
   {
    "duration": 16,
    "start_time": "2023-08-15T10:00:35.094Z"
   },
   {
    "duration": 62,
    "start_time": "2023-08-15T10:00:35.112Z"
   },
   {
    "duration": 26,
    "start_time": "2023-08-15T10:00:35.176Z"
   },
   {
    "duration": 20,
    "start_time": "2023-08-15T10:00:35.204Z"
   },
   {
    "duration": 187,
    "start_time": "2023-08-15T10:00:35.226Z"
   },
   {
    "duration": 187,
    "start_time": "2023-08-15T10:00:35.415Z"
   },
   {
    "duration": 188,
    "start_time": "2023-08-15T10:00:35.604Z"
   },
   {
    "duration": 203,
    "start_time": "2023-08-15T10:00:35.794Z"
   },
   {
    "duration": 23,
    "start_time": "2023-08-15T10:00:35.999Z"
   },
   {
    "duration": 48,
    "start_time": "2023-08-15T10:00:36.024Z"
   },
   {
    "duration": 32,
    "start_time": "2023-08-15T10:00:36.074Z"
   },
   {
    "duration": 5,
    "start_time": "2023-08-15T10:00:36.108Z"
   },
   {
    "duration": 195,
    "start_time": "2023-08-15T10:00:36.115Z"
   },
   {
    "duration": 5,
    "start_time": "2023-08-15T10:00:36.312Z"
   },
   {
    "duration": 32,
    "start_time": "2023-08-15T10:00:36.318Z"
   },
   {
    "duration": 19,
    "start_time": "2023-08-15T10:00:36.353Z"
   },
   {
    "duration": 27,
    "start_time": "2023-08-15T10:00:36.374Z"
   },
   {
    "duration": 20,
    "start_time": "2023-08-15T10:00:36.403Z"
   },
   {
    "duration": 0,
    "start_time": "2023-08-15T10:00:36.425Z"
   },
   {
    "duration": 0,
    "start_time": "2023-08-15T10:00:36.426Z"
   },
   {
    "duration": 0,
    "start_time": "2023-08-15T10:00:36.428Z"
   },
   {
    "duration": 0,
    "start_time": "2023-08-15T10:00:36.726Z"
   },
   {
    "duration": 0,
    "start_time": "2023-08-15T10:00:36.727Z"
   },
   {
    "duration": 5,
    "start_time": "2023-08-15T10:01:20.356Z"
   },
   {
    "duration": 5,
    "start_time": "2023-08-15T10:02:01.538Z"
   },
   {
    "duration": 164,
    "start_time": "2023-08-15T10:02:04.943Z"
   },
   {
    "duration": 6,
    "start_time": "2023-08-15T10:02:06.462Z"
   },
   {
    "duration": 7,
    "start_time": "2023-08-15T10:02:11.907Z"
   },
   {
    "duration": 554,
    "start_time": "2023-08-15T10:03:11.114Z"
   },
   {
    "duration": 3,
    "start_time": "2023-08-15T10:03:19.494Z"
   },
   {
    "duration": 159,
    "start_time": "2023-08-15T10:03:19.503Z"
   },
   {
    "duration": 99,
    "start_time": "2023-08-15T10:03:19.664Z"
   },
   {
    "duration": 112,
    "start_time": "2023-08-15T10:03:19.765Z"
   },
   {
    "duration": 85,
    "start_time": "2023-08-15T10:03:19.880Z"
   },
   {
    "duration": 241,
    "start_time": "2023-08-15T10:03:19.966Z"
   },
   {
    "duration": 27,
    "start_time": "2023-08-15T10:03:20.209Z"
   },
   {
    "duration": 44,
    "start_time": "2023-08-15T10:03:20.238Z"
   },
   {
    "duration": 162,
    "start_time": "2023-08-15T10:03:20.284Z"
   },
   {
    "duration": 210,
    "start_time": "2023-08-15T10:03:20.448Z"
   },
   {
    "duration": 181,
    "start_time": "2023-08-15T10:03:20.662Z"
   },
   {
    "duration": 29,
    "start_time": "2023-08-15T10:03:20.844Z"
   },
   {
    "duration": 11,
    "start_time": "2023-08-15T10:03:20.875Z"
   },
   {
    "duration": 44,
    "start_time": "2023-08-15T10:03:20.888Z"
   },
   {
    "duration": 213,
    "start_time": "2023-08-15T10:03:20.934Z"
   },
   {
    "duration": 15,
    "start_time": "2023-08-15T10:03:21.150Z"
   },
   {
    "duration": 35,
    "start_time": "2023-08-15T10:03:21.167Z"
   },
   {
    "duration": 28,
    "start_time": "2023-08-15T10:03:21.203Z"
   },
   {
    "duration": 40,
    "start_time": "2023-08-15T10:03:21.232Z"
   },
   {
    "duration": 24,
    "start_time": "2023-08-15T10:03:21.274Z"
   },
   {
    "duration": 34,
    "start_time": "2023-08-15T10:03:21.300Z"
   },
   {
    "duration": 38,
    "start_time": "2023-08-15T10:03:21.337Z"
   },
   {
    "duration": 26,
    "start_time": "2023-08-15T10:03:21.377Z"
   },
   {
    "duration": 27,
    "start_time": "2023-08-15T10:03:21.406Z"
   },
   {
    "duration": 12,
    "start_time": "2023-08-15T10:03:21.435Z"
   },
   {
    "duration": 13,
    "start_time": "2023-08-15T10:03:21.449Z"
   },
   {
    "duration": 26,
    "start_time": "2023-08-15T10:03:21.464Z"
   },
   {
    "duration": 158,
    "start_time": "2023-08-15T10:03:21.492Z"
   },
   {
    "duration": 6,
    "start_time": "2023-08-15T10:03:21.658Z"
   },
   {
    "duration": 15,
    "start_time": "2023-08-15T10:03:21.666Z"
   },
   {
    "duration": 289,
    "start_time": "2023-08-15T10:03:21.684Z"
   },
   {
    "duration": 15,
    "start_time": "2023-08-15T10:03:21.975Z"
   },
   {
    "duration": 198,
    "start_time": "2023-08-15T10:03:21.992Z"
   },
   {
    "duration": 18,
    "start_time": "2023-08-15T10:03:22.191Z"
   },
   {
    "duration": 219,
    "start_time": "2023-08-15T10:03:22.211Z"
   },
   {
    "duration": 30,
    "start_time": "2023-08-15T10:03:22.432Z"
   },
   {
    "duration": 13,
    "start_time": "2023-08-15T10:03:22.465Z"
   },
   {
    "duration": 18,
    "start_time": "2023-08-15T10:03:22.481Z"
   },
   {
    "duration": 14,
    "start_time": "2023-08-15T10:03:22.501Z"
   },
   {
    "duration": 190,
    "start_time": "2023-08-15T10:03:22.517Z"
   },
   {
    "duration": 202,
    "start_time": "2023-08-15T10:03:22.709Z"
   },
   {
    "duration": 192,
    "start_time": "2023-08-15T10:03:22.912Z"
   },
   {
    "duration": 203,
    "start_time": "2023-08-15T10:03:23.106Z"
   },
   {
    "duration": 24,
    "start_time": "2023-08-15T10:03:23.311Z"
   },
   {
    "duration": 66,
    "start_time": "2023-08-15T10:03:23.337Z"
   },
   {
    "duration": 78,
    "start_time": "2023-08-15T10:03:23.405Z"
   },
   {
    "duration": 7,
    "start_time": "2023-08-15T10:03:23.486Z"
   },
   {
    "duration": 155,
    "start_time": "2023-08-15T10:03:23.495Z"
   },
   {
    "duration": 8,
    "start_time": "2023-08-15T10:03:23.652Z"
   },
   {
    "duration": 156,
    "start_time": "2023-08-15T10:03:23.662Z"
   },
   {
    "duration": 27,
    "start_time": "2023-08-15T10:03:23.820Z"
   },
   {
    "duration": 169,
    "start_time": "2023-08-15T10:03:23.849Z"
   },
   {
    "duration": 68,
    "start_time": "2023-08-15T10:03:24.020Z"
   },
   {
    "duration": 0,
    "start_time": "2023-08-15T10:03:24.090Z"
   },
   {
    "duration": 0,
    "start_time": "2023-08-15T10:03:24.091Z"
   },
   {
    "duration": 0,
    "start_time": "2023-08-15T10:03:24.092Z"
   },
   {
    "duration": 0,
    "start_time": "2023-08-15T10:03:24.094Z"
   },
   {
    "duration": 0,
    "start_time": "2023-08-15T10:03:24.094Z"
   },
   {
    "duration": 403,
    "start_time": "2023-08-15T10:04:21.218Z"
   },
   {
    "duration": 4,
    "start_time": "2023-08-15T10:04:34.160Z"
   },
   {
    "duration": 60,
    "start_time": "2023-08-15T10:04:34.167Z"
   },
   {
    "duration": 14,
    "start_time": "2023-08-15T10:04:34.229Z"
   },
   {
    "duration": 31,
    "start_time": "2023-08-15T10:04:34.244Z"
   },
   {
    "duration": 27,
    "start_time": "2023-08-15T10:04:34.278Z"
   },
   {
    "duration": 223,
    "start_time": "2023-08-15T10:04:34.307Z"
   },
   {
    "duration": 28,
    "start_time": "2023-08-15T10:04:34.532Z"
   },
   {
    "duration": 21,
    "start_time": "2023-08-15T10:04:34.562Z"
   },
   {
    "duration": 34,
    "start_time": "2023-08-15T10:04:34.585Z"
   },
   {
    "duration": 193,
    "start_time": "2023-08-15T10:04:34.621Z"
   },
   {
    "duration": 165,
    "start_time": "2023-08-15T10:04:34.817Z"
   },
   {
    "duration": 17,
    "start_time": "2023-08-15T10:04:34.984Z"
   },
   {
    "duration": 28,
    "start_time": "2023-08-15T10:04:35.002Z"
   },
   {
    "duration": 57,
    "start_time": "2023-08-15T10:04:35.032Z"
   },
   {
    "duration": 207,
    "start_time": "2023-08-15T10:04:35.092Z"
   },
   {
    "duration": 8,
    "start_time": "2023-08-15T10:04:35.301Z"
   },
   {
    "duration": 33,
    "start_time": "2023-08-15T10:04:35.311Z"
   },
   {
    "duration": 15,
    "start_time": "2023-08-15T10:04:35.347Z"
   },
   {
    "duration": 26,
    "start_time": "2023-08-15T10:04:35.364Z"
   },
   {
    "duration": 25,
    "start_time": "2023-08-15T10:04:35.392Z"
   },
   {
    "duration": 29,
    "start_time": "2023-08-15T10:04:35.419Z"
   },
   {
    "duration": 16,
    "start_time": "2023-08-15T10:04:35.451Z"
   },
   {
    "duration": 18,
    "start_time": "2023-08-15T10:04:35.469Z"
   },
   {
    "duration": 24,
    "start_time": "2023-08-15T10:04:35.489Z"
   },
   {
    "duration": 15,
    "start_time": "2023-08-15T10:04:35.515Z"
   },
   {
    "duration": 37,
    "start_time": "2023-08-15T10:04:35.532Z"
   },
   {
    "duration": 19,
    "start_time": "2023-08-15T10:04:35.571Z"
   },
   {
    "duration": 162,
    "start_time": "2023-08-15T10:04:35.592Z"
   },
   {
    "duration": 5,
    "start_time": "2023-08-15T10:04:35.758Z"
   },
   {
    "duration": 47,
    "start_time": "2023-08-15T10:04:35.765Z"
   },
   {
    "duration": 296,
    "start_time": "2023-08-15T10:04:35.813Z"
   },
   {
    "duration": 13,
    "start_time": "2023-08-15T10:04:36.111Z"
   },
   {
    "duration": 186,
    "start_time": "2023-08-15T10:04:36.126Z"
   },
   {
    "duration": 13,
    "start_time": "2023-08-15T10:04:36.314Z"
   },
   {
    "duration": 210,
    "start_time": "2023-08-15T10:04:36.329Z"
   },
   {
    "duration": 22,
    "start_time": "2023-08-15T10:04:36.541Z"
   },
   {
    "duration": 13,
    "start_time": "2023-08-15T10:04:36.565Z"
   },
   {
    "duration": 27,
    "start_time": "2023-08-15T10:04:36.580Z"
   },
   {
    "duration": 20,
    "start_time": "2023-08-15T10:04:36.609Z"
   },
   {
    "duration": 160,
    "start_time": "2023-08-15T10:04:36.630Z"
   },
   {
    "duration": 180,
    "start_time": "2023-08-15T10:04:36.792Z"
   },
   {
    "duration": 179,
    "start_time": "2023-08-15T10:04:36.974Z"
   },
   {
    "duration": 189,
    "start_time": "2023-08-15T10:04:37.154Z"
   },
   {
    "duration": 30,
    "start_time": "2023-08-15T10:04:37.344Z"
   },
   {
    "duration": 25,
    "start_time": "2023-08-15T10:04:37.376Z"
   },
   {
    "duration": 29,
    "start_time": "2023-08-15T10:04:37.402Z"
   },
   {
    "duration": 27,
    "start_time": "2023-08-15T10:04:37.433Z"
   },
   {
    "duration": 152,
    "start_time": "2023-08-15T10:04:37.462Z"
   },
   {
    "duration": 5,
    "start_time": "2023-08-15T10:04:37.616Z"
   },
   {
    "duration": 13,
    "start_time": "2023-08-15T10:04:37.623Z"
   },
   {
    "duration": 9,
    "start_time": "2023-08-15T10:04:37.637Z"
   },
   {
    "duration": 17,
    "start_time": "2023-08-15T10:04:37.648Z"
   },
   {
    "duration": 11,
    "start_time": "2023-08-15T10:04:37.667Z"
   },
   {
    "duration": 0,
    "start_time": "2023-08-15T10:04:37.680Z"
   },
   {
    "duration": 0,
    "start_time": "2023-08-15T10:04:37.681Z"
   },
   {
    "duration": 0,
    "start_time": "2023-08-15T10:04:37.682Z"
   },
   {
    "duration": 0,
    "start_time": "2023-08-15T10:04:37.683Z"
   },
   {
    "duration": 0,
    "start_time": "2023-08-15T10:04:37.684Z"
   },
   {
    "duration": 14,
    "start_time": "2023-08-15T10:05:44.698Z"
   },
   {
    "duration": 690,
    "start_time": "2023-08-15T10:05:48.133Z"
   },
   {
    "duration": 3,
    "start_time": "2023-08-15T10:05:51.173Z"
   },
   {
    "duration": 60,
    "start_time": "2023-08-15T10:05:51.178Z"
   },
   {
    "duration": 8,
    "start_time": "2023-08-15T10:05:51.240Z"
   },
   {
    "duration": 35,
    "start_time": "2023-08-15T10:05:51.250Z"
   },
   {
    "duration": 36,
    "start_time": "2023-08-15T10:05:51.286Z"
   },
   {
    "duration": 210,
    "start_time": "2023-08-15T10:05:51.325Z"
   },
   {
    "duration": 31,
    "start_time": "2023-08-15T10:05:51.537Z"
   },
   {
    "duration": 10,
    "start_time": "2023-08-15T10:05:51.570Z"
   },
   {
    "duration": 36,
    "start_time": "2023-08-15T10:05:51.582Z"
   },
   {
    "duration": 182,
    "start_time": "2023-08-15T10:05:51.620Z"
   },
   {
    "duration": 171,
    "start_time": "2023-08-15T10:05:51.806Z"
   },
   {
    "duration": 17,
    "start_time": "2023-08-15T10:05:51.979Z"
   },
   {
    "duration": 14,
    "start_time": "2023-08-15T10:05:51.998Z"
   },
   {
    "duration": 16,
    "start_time": "2023-08-15T10:05:52.014Z"
   },
   {
    "duration": 161,
    "start_time": "2023-08-15T10:05:52.032Z"
   },
   {
    "duration": 8,
    "start_time": "2023-08-15T10:05:52.195Z"
   },
   {
    "duration": 16,
    "start_time": "2023-08-15T10:05:52.205Z"
   },
   {
    "duration": 23,
    "start_time": "2023-08-15T10:05:52.222Z"
   },
   {
    "duration": 7,
    "start_time": "2023-08-15T10:05:52.247Z"
   },
   {
    "duration": 29,
    "start_time": "2023-08-15T10:05:52.256Z"
   },
   {
    "duration": 32,
    "start_time": "2023-08-15T10:05:52.287Z"
   },
   {
    "duration": 11,
    "start_time": "2023-08-15T10:05:52.322Z"
   },
   {
    "duration": 28,
    "start_time": "2023-08-15T10:05:52.335Z"
   },
   {
    "duration": 30,
    "start_time": "2023-08-15T10:05:52.365Z"
   },
   {
    "duration": 9,
    "start_time": "2023-08-15T10:05:52.397Z"
   },
   {
    "duration": 8,
    "start_time": "2023-08-15T10:05:52.408Z"
   },
   {
    "duration": 31,
    "start_time": "2023-08-15T10:05:52.418Z"
   },
   {
    "duration": 143,
    "start_time": "2023-08-15T10:05:52.451Z"
   },
   {
    "duration": 5,
    "start_time": "2023-08-15T10:05:52.599Z"
   },
   {
    "duration": 11,
    "start_time": "2023-08-15T10:05:52.606Z"
   },
   {
    "duration": 285,
    "start_time": "2023-08-15T10:05:52.618Z"
   },
   {
    "duration": 17,
    "start_time": "2023-08-15T10:05:52.905Z"
   },
   {
    "duration": 203,
    "start_time": "2023-08-15T10:05:52.924Z"
   },
   {
    "duration": 14,
    "start_time": "2023-08-15T10:05:53.129Z"
   },
   {
    "duration": 208,
    "start_time": "2023-08-15T10:05:53.145Z"
   },
   {
    "duration": 17,
    "start_time": "2023-08-15T10:05:53.359Z"
   },
   {
    "duration": 12,
    "start_time": "2023-08-15T10:05:53.378Z"
   },
   {
    "duration": 17,
    "start_time": "2023-08-15T10:05:53.392Z"
   },
   {
    "duration": 9,
    "start_time": "2023-08-15T10:05:53.411Z"
   },
   {
    "duration": 194,
    "start_time": "2023-08-15T10:05:53.422Z"
   },
   {
    "duration": 168,
    "start_time": "2023-08-15T10:05:53.619Z"
   },
   {
    "duration": 181,
    "start_time": "2023-08-15T10:05:53.788Z"
   },
   {
    "duration": 195,
    "start_time": "2023-08-15T10:05:53.972Z"
   },
   {
    "duration": 23,
    "start_time": "2023-08-15T10:05:54.169Z"
   },
   {
    "duration": 27,
    "start_time": "2023-08-15T10:05:54.194Z"
   },
   {
    "duration": 38,
    "start_time": "2023-08-15T10:05:54.223Z"
   },
   {
    "duration": 13,
    "start_time": "2023-08-15T10:05:54.264Z"
   },
   {
    "duration": 4,
    "start_time": "2023-08-15T10:05:54.278Z"
   },
   {
    "duration": 154,
    "start_time": "2023-08-15T10:05:54.284Z"
   },
   {
    "duration": 5,
    "start_time": "2023-08-15T10:05:54.440Z"
   },
   {
    "duration": 23,
    "start_time": "2023-08-15T10:05:54.446Z"
   },
   {
    "duration": 7,
    "start_time": "2023-08-15T10:05:54.471Z"
   },
   {
    "duration": 12,
    "start_time": "2023-08-15T10:05:54.480Z"
   },
   {
    "duration": 11,
    "start_time": "2023-08-15T10:05:54.494Z"
   },
   {
    "duration": 0,
    "start_time": "2023-08-15T10:05:54.507Z"
   },
   {
    "duration": 0,
    "start_time": "2023-08-15T10:05:54.509Z"
   },
   {
    "duration": 0,
    "start_time": "2023-08-15T10:05:54.510Z"
   },
   {
    "duration": 0,
    "start_time": "2023-08-15T10:05:54.511Z"
   },
   {
    "duration": 0,
    "start_time": "2023-08-15T10:05:54.512Z"
   },
   {
    "duration": 427,
    "start_time": "2023-08-15T10:07:38.493Z"
   },
   {
    "duration": 4,
    "start_time": "2023-08-15T10:07:41.726Z"
   },
   {
    "duration": 36,
    "start_time": "2023-08-15T10:07:41.736Z"
   },
   {
    "duration": 3,
    "start_time": "2023-08-15T10:07:41.774Z"
   },
   {
    "duration": 26,
    "start_time": "2023-08-15T10:07:41.779Z"
   },
   {
    "duration": 18,
    "start_time": "2023-08-15T10:07:41.808Z"
   },
   {
    "duration": 209,
    "start_time": "2023-08-15T10:07:41.828Z"
   },
   {
    "duration": 35,
    "start_time": "2023-08-15T10:07:42.040Z"
   },
   {
    "duration": 14,
    "start_time": "2023-08-15T10:07:42.077Z"
   },
   {
    "duration": 37,
    "start_time": "2023-08-15T10:07:42.093Z"
   },
   {
    "duration": 194,
    "start_time": "2023-08-15T10:07:42.133Z"
   },
   {
    "duration": 175,
    "start_time": "2023-08-15T10:07:42.330Z"
   },
   {
    "duration": 18,
    "start_time": "2023-08-15T10:07:42.507Z"
   },
   {
    "duration": 23,
    "start_time": "2023-08-15T10:07:42.526Z"
   },
   {
    "duration": 41,
    "start_time": "2023-08-15T10:07:42.551Z"
   },
   {
    "duration": 149,
    "start_time": "2023-08-15T10:07:42.594Z"
   },
   {
    "duration": 18,
    "start_time": "2023-08-15T10:07:42.745Z"
   },
   {
    "duration": 26,
    "start_time": "2023-08-15T10:07:42.766Z"
   },
   {
    "duration": 17,
    "start_time": "2023-08-15T10:07:42.795Z"
   },
   {
    "duration": 11,
    "start_time": "2023-08-15T10:07:42.814Z"
   },
   {
    "duration": 16,
    "start_time": "2023-08-15T10:07:42.828Z"
   },
   {
    "duration": 31,
    "start_time": "2023-08-15T10:07:42.846Z"
   },
   {
    "duration": 11,
    "start_time": "2023-08-15T10:07:42.880Z"
   },
   {
    "duration": 30,
    "start_time": "2023-08-15T10:07:42.893Z"
   },
   {
    "duration": 22,
    "start_time": "2023-08-15T10:07:42.925Z"
   },
   {
    "duration": 16,
    "start_time": "2023-08-15T10:07:42.950Z"
   },
   {
    "duration": 33,
    "start_time": "2023-08-15T10:07:42.968Z"
   },
   {
    "duration": 27,
    "start_time": "2023-08-15T10:07:43.004Z"
   },
   {
    "duration": 157,
    "start_time": "2023-08-15T10:07:43.034Z"
   },
   {
    "duration": 9,
    "start_time": "2023-08-15T10:07:43.197Z"
   },
   {
    "duration": 34,
    "start_time": "2023-08-15T10:07:43.207Z"
   },
   {
    "duration": 293,
    "start_time": "2023-08-15T10:07:43.244Z"
   },
   {
    "duration": 28,
    "start_time": "2023-08-15T10:07:43.539Z"
   },
   {
    "duration": 197,
    "start_time": "2023-08-15T10:07:43.569Z"
   },
   {
    "duration": 15,
    "start_time": "2023-08-15T10:07:43.767Z"
   },
   {
    "duration": 221,
    "start_time": "2023-08-15T10:07:43.784Z"
   },
   {
    "duration": 29,
    "start_time": "2023-08-15T10:07:44.007Z"
   },
   {
    "duration": 30,
    "start_time": "2023-08-15T10:07:44.038Z"
   },
   {
    "duration": 18,
    "start_time": "2023-08-15T10:07:44.071Z"
   },
   {
    "duration": 16,
    "start_time": "2023-08-15T10:07:44.091Z"
   },
   {
    "duration": 187,
    "start_time": "2023-08-15T10:07:44.108Z"
   },
   {
    "duration": 200,
    "start_time": "2023-08-15T10:07:44.297Z"
   },
   {
    "duration": 190,
    "start_time": "2023-08-15T10:07:44.499Z"
   },
   {
    "duration": 390,
    "start_time": "2023-08-15T10:07:44.691Z"
   },
   {
    "duration": 78,
    "start_time": "2023-08-15T10:07:45.083Z"
   },
   {
    "duration": 27,
    "start_time": "2023-08-15T10:07:45.163Z"
   },
   {
    "duration": 74,
    "start_time": "2023-08-15T10:07:45.193Z"
   },
   {
    "duration": 15,
    "start_time": "2023-08-15T10:07:45.269Z"
   },
   {
    "duration": 23,
    "start_time": "2023-08-15T10:07:45.286Z"
   },
   {
    "duration": 324,
    "start_time": "2023-08-15T10:07:45.359Z"
   },
   {
    "duration": 5,
    "start_time": "2023-08-15T10:07:45.685Z"
   },
   {
    "duration": 69,
    "start_time": "2023-08-15T10:07:45.692Z"
   },
   {
    "duration": 16,
    "start_time": "2023-08-15T10:07:45.763Z"
   },
   {
    "duration": 379,
    "start_time": "2023-08-15T10:07:45.781Z"
   },
   {
    "duration": 104,
    "start_time": "2023-08-15T10:07:46.163Z"
   },
   {
    "duration": 0,
    "start_time": "2023-08-15T10:07:46.270Z"
   },
   {
    "duration": 0,
    "start_time": "2023-08-15T10:07:46.271Z"
   },
   {
    "duration": 0,
    "start_time": "2023-08-15T10:07:46.273Z"
   },
   {
    "duration": 0,
    "start_time": "2023-08-15T10:07:46.275Z"
   },
   {
    "duration": 0,
    "start_time": "2023-08-15T10:07:46.276Z"
   },
   {
    "duration": 5,
    "start_time": "2023-08-15T10:07:53.226Z"
   },
   {
    "duration": 4,
    "start_time": "2023-08-15T10:08:03.514Z"
   },
   {
    "duration": 8,
    "start_time": "2023-08-15T10:08:08.109Z"
   },
   {
    "duration": 3,
    "start_time": "2023-08-15T10:08:29.818Z"
   },
   {
    "duration": 64,
    "start_time": "2023-08-15T10:08:29.827Z"
   },
   {
    "duration": 4,
    "start_time": "2023-08-15T10:08:29.893Z"
   },
   {
    "duration": 15,
    "start_time": "2023-08-15T10:08:29.899Z"
   },
   {
    "duration": 22,
    "start_time": "2023-08-15T10:08:29.918Z"
   },
   {
    "duration": 226,
    "start_time": "2023-08-15T10:08:29.942Z"
   },
   {
    "duration": 26,
    "start_time": "2023-08-15T10:08:30.171Z"
   },
   {
    "duration": 38,
    "start_time": "2023-08-15T10:08:30.199Z"
   },
   {
    "duration": 69,
    "start_time": "2023-08-15T10:08:30.239Z"
   },
   {
    "duration": 251,
    "start_time": "2023-08-15T10:08:30.310Z"
   },
   {
    "duration": 173,
    "start_time": "2023-08-15T10:08:30.566Z"
   },
   {
    "duration": 18,
    "start_time": "2023-08-15T10:08:30.741Z"
   },
   {
    "duration": 28,
    "start_time": "2023-08-15T10:08:30.761Z"
   },
   {
    "duration": 55,
    "start_time": "2023-08-15T10:08:30.791Z"
   },
   {
    "duration": 176,
    "start_time": "2023-08-15T10:08:30.848Z"
   },
   {
    "duration": 8,
    "start_time": "2023-08-15T10:08:31.026Z"
   },
   {
    "duration": 128,
    "start_time": "2023-08-15T10:08:31.036Z"
   },
   {
    "duration": 39,
    "start_time": "2023-08-15T10:08:31.166Z"
   },
   {
    "duration": 41,
    "start_time": "2023-08-15T10:08:31.207Z"
   },
   {
    "duration": 30,
    "start_time": "2023-08-15T10:08:31.250Z"
   },
   {
    "duration": 35,
    "start_time": "2023-08-15T10:08:31.282Z"
   },
   {
    "duration": 35,
    "start_time": "2023-08-15T10:08:31.319Z"
   },
   {
    "duration": 47,
    "start_time": "2023-08-15T10:08:31.356Z"
   },
   {
    "duration": 73,
    "start_time": "2023-08-15T10:08:31.405Z"
   },
   {
    "duration": 74,
    "start_time": "2023-08-15T10:08:31.480Z"
   },
   {
    "duration": 42,
    "start_time": "2023-08-15T10:08:31.556Z"
   },
   {
    "duration": 31,
    "start_time": "2023-08-15T10:08:31.600Z"
   },
   {
    "duration": 175,
    "start_time": "2023-08-15T10:08:31.633Z"
   },
   {
    "duration": 6,
    "start_time": "2023-08-15T10:08:31.812Z"
   },
   {
    "duration": 14,
    "start_time": "2023-08-15T10:08:31.820Z"
   },
   {
    "duration": 303,
    "start_time": "2023-08-15T10:08:31.836Z"
   },
   {
    "duration": 28,
    "start_time": "2023-08-15T10:08:32.142Z"
   },
   {
    "duration": 209,
    "start_time": "2023-08-15T10:08:32.173Z"
   },
   {
    "duration": 15,
    "start_time": "2023-08-15T10:08:32.384Z"
   },
   {
    "duration": 234,
    "start_time": "2023-08-15T10:08:32.401Z"
   },
   {
    "duration": 29,
    "start_time": "2023-08-15T10:08:32.638Z"
   },
   {
    "duration": 13,
    "start_time": "2023-08-15T10:08:32.669Z"
   },
   {
    "duration": 15,
    "start_time": "2023-08-15T10:08:32.684Z"
   },
   {
    "duration": 9,
    "start_time": "2023-08-15T10:08:32.701Z"
   },
   {
    "duration": 694,
    "start_time": "2023-08-15T10:08:32.712Z"
   },
   {
    "duration": 335,
    "start_time": "2023-08-15T10:08:33.458Z"
   },
   {
    "duration": 388,
    "start_time": "2023-08-15T10:08:33.795Z"
   },
   {
    "duration": 394,
    "start_time": "2023-08-15T10:08:34.185Z"
   },
   {
    "duration": 80,
    "start_time": "2023-08-15T10:08:34.580Z"
   },
   {
    "duration": 28,
    "start_time": "2023-08-15T10:08:34.662Z"
   },
   {
    "duration": 74,
    "start_time": "2023-08-15T10:08:34.692Z"
   },
   {
    "duration": 13,
    "start_time": "2023-08-15T10:08:34.768Z"
   },
   {
    "duration": 9,
    "start_time": "2023-08-15T10:08:34.783Z"
   },
   {
    "duration": 302,
    "start_time": "2023-08-15T10:08:34.794Z"
   },
   {
    "duration": 6,
    "start_time": "2023-08-15T10:08:35.098Z"
   },
   {
    "duration": 21,
    "start_time": "2023-08-15T10:08:35.160Z"
   },
   {
    "duration": 40,
    "start_time": "2023-08-15T10:08:35.183Z"
   },
   {
    "duration": 24,
    "start_time": "2023-08-15T10:08:35.225Z"
   },
   {
    "duration": 13,
    "start_time": "2023-08-15T10:08:35.260Z"
   },
   {
    "duration": 0,
    "start_time": "2023-08-15T10:08:35.275Z"
   },
   {
    "duration": 0,
    "start_time": "2023-08-15T10:08:35.277Z"
   },
   {
    "duration": 0,
    "start_time": "2023-08-15T10:08:35.277Z"
   },
   {
    "duration": 0,
    "start_time": "2023-08-15T10:08:35.279Z"
   },
   {
    "duration": 0,
    "start_time": "2023-08-15T10:08:35.280Z"
   },
   {
    "duration": 6,
    "start_time": "2023-08-15T10:08:58.857Z"
   },
   {
    "duration": 85,
    "start_time": "2023-08-15T10:10:04.185Z"
   },
   {
    "duration": 11,
    "start_time": "2023-08-15T10:23:12.685Z"
   },
   {
    "duration": 31,
    "start_time": "2023-08-15T10:31:41.679Z"
   },
   {
    "duration": 3,
    "start_time": "2023-08-15T10:31:49.869Z"
   },
   {
    "duration": 36,
    "start_time": "2023-08-15T10:31:49.878Z"
   },
   {
    "duration": 4,
    "start_time": "2023-08-15T10:31:49.916Z"
   },
   {
    "duration": 22,
    "start_time": "2023-08-15T10:31:49.922Z"
   },
   {
    "duration": 18,
    "start_time": "2023-08-15T10:31:49.947Z"
   },
   {
    "duration": 210,
    "start_time": "2023-08-15T10:31:49.967Z"
   },
   {
    "duration": 26,
    "start_time": "2023-08-15T10:31:50.180Z"
   },
   {
    "duration": 10,
    "start_time": "2023-08-15T10:31:50.208Z"
   },
   {
    "duration": 40,
    "start_time": "2023-08-15T10:31:50.221Z"
   },
   {
    "duration": 179,
    "start_time": "2023-08-15T10:31:50.264Z"
   },
   {
    "duration": 180,
    "start_time": "2023-08-15T10:31:50.447Z"
   },
   {
    "duration": 17,
    "start_time": "2023-08-15T10:31:50.629Z"
   },
   {
    "duration": 16,
    "start_time": "2023-08-15T10:31:50.647Z"
   },
   {
    "duration": 13,
    "start_time": "2023-08-15T10:31:50.665Z"
   },
   {
    "duration": 135,
    "start_time": "2023-08-15T10:31:50.680Z"
   },
   {
    "duration": 7,
    "start_time": "2023-08-15T10:31:50.817Z"
   },
   {
    "duration": 20,
    "start_time": "2023-08-15T10:31:50.825Z"
   },
   {
    "duration": 18,
    "start_time": "2023-08-15T10:31:50.847Z"
   },
   {
    "duration": 19,
    "start_time": "2023-08-15T10:31:50.867Z"
   },
   {
    "duration": 28,
    "start_time": "2023-08-15T10:31:50.888Z"
   },
   {
    "duration": 27,
    "start_time": "2023-08-15T10:31:50.918Z"
   },
   {
    "duration": 9,
    "start_time": "2023-08-15T10:31:50.947Z"
   },
   {
    "duration": 16,
    "start_time": "2023-08-15T10:31:50.958Z"
   },
   {
    "duration": 18,
    "start_time": "2023-08-15T10:31:50.976Z"
   },
   {
    "duration": 13,
    "start_time": "2023-08-15T10:31:50.996Z"
   },
   {
    "duration": 15,
    "start_time": "2023-08-15T10:31:51.010Z"
   },
   {
    "duration": 29,
    "start_time": "2023-08-15T10:31:51.027Z"
   },
   {
    "duration": 156,
    "start_time": "2023-08-15T10:31:51.058Z"
   },
   {
    "duration": 5,
    "start_time": "2023-08-15T10:31:51.218Z"
   },
   {
    "duration": 22,
    "start_time": "2023-08-15T10:31:51.225Z"
   },
   {
    "duration": 280,
    "start_time": "2023-08-15T10:31:51.258Z"
   },
   {
    "duration": 25,
    "start_time": "2023-08-15T10:31:51.540Z"
   },
   {
    "duration": 181,
    "start_time": "2023-08-15T10:31:51.567Z"
   },
   {
    "duration": 20,
    "start_time": "2023-08-15T10:31:51.750Z"
   },
   {
    "duration": 197,
    "start_time": "2023-08-15T10:31:51.771Z"
   },
   {
    "duration": 16,
    "start_time": "2023-08-15T10:31:51.970Z"
   },
   {
    "duration": 14,
    "start_time": "2023-08-15T10:31:51.987Z"
   },
   {
    "duration": 31,
    "start_time": "2023-08-15T10:31:52.003Z"
   },
   {
    "duration": 24,
    "start_time": "2023-08-15T10:31:52.036Z"
   },
   {
    "duration": 167,
    "start_time": "2023-08-15T10:31:52.062Z"
   },
   {
    "duration": 185,
    "start_time": "2023-08-15T10:31:52.231Z"
   },
   {
    "duration": 179,
    "start_time": "2023-08-15T10:31:52.418Z"
   },
   {
    "duration": 187,
    "start_time": "2023-08-15T10:31:52.599Z"
   },
   {
    "duration": 22,
    "start_time": "2023-08-15T10:31:52.788Z"
   },
   {
    "duration": 48,
    "start_time": "2023-08-15T10:31:52.812Z"
   },
   {
    "duration": 17,
    "start_time": "2023-08-15T10:31:52.862Z"
   },
   {
    "duration": 12,
    "start_time": "2023-08-15T10:31:52.881Z"
   },
   {
    "duration": 9,
    "start_time": "2023-08-15T10:31:52.894Z"
   },
   {
    "duration": 167,
    "start_time": "2023-08-15T10:31:52.905Z"
   },
   {
    "duration": 5,
    "start_time": "2023-08-15T10:31:53.074Z"
   },
   {
    "duration": 18,
    "start_time": "2023-08-15T10:31:53.080Z"
   },
   {
    "duration": 22,
    "start_time": "2023-08-15T10:31:53.099Z"
   },
   {
    "duration": 25,
    "start_time": "2023-08-15T10:31:53.123Z"
   },
   {
    "duration": 24,
    "start_time": "2023-08-15T10:31:53.150Z"
   },
   {
    "duration": 0,
    "start_time": "2023-08-15T10:31:53.176Z"
   },
   {
    "duration": 0,
    "start_time": "2023-08-15T10:31:53.177Z"
   },
   {
    "duration": 0,
    "start_time": "2023-08-15T10:31:53.179Z"
   },
   {
    "duration": 0,
    "start_time": "2023-08-15T10:31:53.180Z"
   },
   {
    "duration": 0,
    "start_time": "2023-08-15T10:31:53.181Z"
   },
   {
    "duration": 0,
    "start_time": "2023-08-15T10:31:53.182Z"
   },
   {
    "duration": 32,
    "start_time": "2023-08-15T10:32:11.887Z"
   },
   {
    "duration": 11,
    "start_time": "2023-08-15T10:32:27.824Z"
   },
   {
    "duration": 30,
    "start_time": "2023-08-15T10:32:40.808Z"
   },
   {
    "duration": 32,
    "start_time": "2023-08-15T10:32:44.720Z"
   },
   {
    "duration": 30,
    "start_time": "2023-08-15T10:32:57.761Z"
   },
   {
    "duration": 122,
    "start_time": "2023-08-15T10:33:12.509Z"
   },
   {
    "duration": 13,
    "start_time": "2023-08-15T10:33:32.468Z"
   },
   {
    "duration": 3,
    "start_time": "2023-08-15T10:34:52.749Z"
   },
   {
    "duration": 30,
    "start_time": "2023-08-15T10:34:52.763Z"
   },
   {
    "duration": 5,
    "start_time": "2023-08-15T10:34:52.795Z"
   },
   {
    "duration": 32,
    "start_time": "2023-08-15T10:34:52.802Z"
   },
   {
    "duration": 29,
    "start_time": "2023-08-15T10:34:52.837Z"
   },
   {
    "duration": 206,
    "start_time": "2023-08-15T10:34:52.868Z"
   },
   {
    "duration": 25,
    "start_time": "2023-08-15T10:34:53.077Z"
   },
   {
    "duration": 11,
    "start_time": "2023-08-15T10:34:53.104Z"
   },
   {
    "duration": 35,
    "start_time": "2023-08-15T10:34:53.117Z"
   },
   {
    "duration": 190,
    "start_time": "2023-08-15T10:34:53.154Z"
   },
   {
    "duration": 168,
    "start_time": "2023-08-15T10:34:53.348Z"
   },
   {
    "duration": 17,
    "start_time": "2023-08-15T10:34:53.518Z"
   },
   {
    "duration": 21,
    "start_time": "2023-08-15T10:34:53.537Z"
   },
   {
    "duration": 40,
    "start_time": "2023-08-15T10:34:53.561Z"
   },
   {
    "duration": 141,
    "start_time": "2023-08-15T10:34:53.604Z"
   },
   {
    "duration": 16,
    "start_time": "2023-08-15T10:34:53.748Z"
   },
   {
    "duration": 22,
    "start_time": "2023-08-15T10:34:53.765Z"
   },
   {
    "duration": 24,
    "start_time": "2023-08-15T10:34:53.789Z"
   },
   {
    "duration": 17,
    "start_time": "2023-08-15T10:34:53.815Z"
   },
   {
    "duration": 25,
    "start_time": "2023-08-15T10:34:53.834Z"
   },
   {
    "duration": 21,
    "start_time": "2023-08-15T10:34:53.861Z"
   },
   {
    "duration": 11,
    "start_time": "2023-08-15T10:34:53.884Z"
   },
   {
    "duration": 21,
    "start_time": "2023-08-15T10:34:53.897Z"
   },
   {
    "duration": 25,
    "start_time": "2023-08-15T10:34:53.920Z"
   },
   {
    "duration": 20,
    "start_time": "2023-08-15T10:34:53.947Z"
   },
   {
    "duration": 48,
    "start_time": "2023-08-15T10:34:53.969Z"
   },
   {
    "duration": 22,
    "start_time": "2023-08-15T10:34:54.019Z"
   },
   {
    "duration": 151,
    "start_time": "2023-08-15T10:34:54.043Z"
   },
   {
    "duration": 5,
    "start_time": "2023-08-15T10:34:54.200Z"
   },
   {
    "duration": 16,
    "start_time": "2023-08-15T10:34:54.207Z"
   },
   {
    "duration": 282,
    "start_time": "2023-08-15T10:34:54.226Z"
   },
   {
    "duration": 14,
    "start_time": "2023-08-15T10:34:54.510Z"
   },
   {
    "duration": 188,
    "start_time": "2023-08-15T10:34:54.526Z"
   },
   {
    "duration": 15,
    "start_time": "2023-08-15T10:34:54.716Z"
   },
   {
    "duration": 194,
    "start_time": "2023-08-15T10:34:54.733Z"
   },
   {
    "duration": 16,
    "start_time": "2023-08-15T10:34:54.929Z"
   },
   {
    "duration": 30,
    "start_time": "2023-08-15T10:34:54.946Z"
   },
   {
    "duration": 24,
    "start_time": "2023-08-15T10:34:54.977Z"
   },
   {
    "duration": 18,
    "start_time": "2023-08-15T10:34:55.002Z"
   },
   {
    "duration": 160,
    "start_time": "2023-08-15T10:34:55.022Z"
   },
   {
    "duration": 187,
    "start_time": "2023-08-15T10:34:55.184Z"
   },
   {
    "duration": 184,
    "start_time": "2023-08-15T10:34:55.374Z"
   },
   {
    "duration": 187,
    "start_time": "2023-08-15T10:34:55.560Z"
   },
   {
    "duration": 26,
    "start_time": "2023-08-15T10:34:55.749Z"
   },
   {
    "duration": 26,
    "start_time": "2023-08-15T10:34:55.777Z"
   },
   {
    "duration": 17,
    "start_time": "2023-08-15T10:34:55.804Z"
   },
   {
    "duration": 42,
    "start_time": "2023-08-15T10:34:55.822Z"
   },
   {
    "duration": 4,
    "start_time": "2023-08-15T10:34:55.866Z"
   },
   {
    "duration": 158,
    "start_time": "2023-08-15T10:34:55.871Z"
   },
   {
    "duration": 5,
    "start_time": "2023-08-15T10:34:56.031Z"
   },
   {
    "duration": 38,
    "start_time": "2023-08-15T10:34:56.037Z"
   },
   {
    "duration": 9,
    "start_time": "2023-08-15T10:34:56.077Z"
   },
   {
    "duration": 22,
    "start_time": "2023-08-15T10:34:56.087Z"
   },
   {
    "duration": 19,
    "start_time": "2023-08-15T10:34:56.111Z"
   },
   {
    "duration": 26,
    "start_time": "2023-08-15T10:34:56.132Z"
   },
   {
    "duration": 282,
    "start_time": "2023-08-15T10:34:56.161Z"
   },
   {
    "duration": 6,
    "start_time": "2023-08-15T10:34:56.445Z"
   },
   {
    "duration": 21,
    "start_time": "2023-08-15T10:34:56.459Z"
   },
   {
    "duration": 24,
    "start_time": "2023-08-15T10:34:56.482Z"
   },
   {
    "duration": 1057,
    "start_time": "2023-08-15T12:32:51.190Z"
   },
   {
    "duration": 94,
    "start_time": "2023-08-15T12:32:52.249Z"
   },
   {
    "duration": 2,
    "start_time": "2023-08-15T12:32:52.345Z"
   },
   {
    "duration": 21,
    "start_time": "2023-08-15T12:32:52.349Z"
   },
   {
    "duration": 14,
    "start_time": "2023-08-15T12:32:52.371Z"
   },
   {
    "duration": 187,
    "start_time": "2023-08-15T12:32:52.386Z"
   },
   {
    "duration": 29,
    "start_time": "2023-08-15T12:32:52.575Z"
   },
   {
    "duration": 8,
    "start_time": "2023-08-15T12:32:52.606Z"
   },
   {
    "duration": 25,
    "start_time": "2023-08-15T12:32:52.616Z"
   },
   {
    "duration": 159,
    "start_time": "2023-08-15T12:32:52.644Z"
   },
   {
    "duration": 165,
    "start_time": "2023-08-15T12:32:52.805Z"
   },
   {
    "duration": 17,
    "start_time": "2023-08-15T12:32:52.972Z"
   },
   {
    "duration": 7,
    "start_time": "2023-08-15T12:32:52.990Z"
   },
   {
    "duration": 13,
    "start_time": "2023-08-15T12:32:52.999Z"
   },
   {
    "duration": 118,
    "start_time": "2023-08-15T12:32:53.013Z"
   },
   {
    "duration": 7,
    "start_time": "2023-08-15T12:32:53.133Z"
   },
   {
    "duration": 24,
    "start_time": "2023-08-15T12:32:53.142Z"
   },
   {
    "duration": 12,
    "start_time": "2023-08-15T12:32:53.171Z"
   },
   {
    "duration": 33,
    "start_time": "2023-08-15T12:32:53.185Z"
   },
   {
    "duration": 18,
    "start_time": "2023-08-15T12:32:53.219Z"
   },
   {
    "duration": 49,
    "start_time": "2023-08-15T12:32:53.239Z"
   },
   {
    "duration": 17,
    "start_time": "2023-08-15T12:32:53.290Z"
   },
   {
    "duration": 7,
    "start_time": "2023-08-15T12:32:53.308Z"
   },
   {
    "duration": 36,
    "start_time": "2023-08-15T12:32:53.316Z"
   },
   {
    "duration": 19,
    "start_time": "2023-08-15T12:32:53.354Z"
   },
   {
    "duration": 12,
    "start_time": "2023-08-15T12:32:53.374Z"
   },
   {
    "duration": 10,
    "start_time": "2023-08-15T12:32:53.387Z"
   },
   {
    "duration": 125,
    "start_time": "2023-08-15T12:32:53.401Z"
   },
   {
    "duration": 5,
    "start_time": "2023-08-15T12:32:53.528Z"
   },
   {
    "duration": 38,
    "start_time": "2023-08-15T12:32:53.534Z"
   },
   {
    "duration": 267,
    "start_time": "2023-08-15T12:32:53.573Z"
   },
   {
    "duration": 25,
    "start_time": "2023-08-15T12:32:53.842Z"
   },
   {
    "duration": 205,
    "start_time": "2023-08-15T12:32:53.870Z"
   },
   {
    "duration": 14,
    "start_time": "2023-08-15T12:32:54.077Z"
   },
   {
    "duration": 195,
    "start_time": "2023-08-15T12:32:54.093Z"
   },
   {
    "duration": 17,
    "start_time": "2023-08-15T12:32:54.290Z"
   },
   {
    "duration": 15,
    "start_time": "2023-08-15T12:32:54.309Z"
   },
   {
    "duration": 23,
    "start_time": "2023-08-15T12:32:54.325Z"
   },
   {
    "duration": 17,
    "start_time": "2023-08-15T12:32:54.358Z"
   },
   {
    "duration": 154,
    "start_time": "2023-08-15T12:32:54.377Z"
   },
   {
    "duration": 274,
    "start_time": "2023-08-15T12:32:54.532Z"
   },
   {
    "duration": 166,
    "start_time": "2023-08-15T12:32:54.808Z"
   },
   {
    "duration": 192,
    "start_time": "2023-08-15T12:32:54.976Z"
   },
   {
    "duration": 20,
    "start_time": "2023-08-15T12:32:55.170Z"
   },
   {
    "duration": 31,
    "start_time": "2023-08-15T12:32:55.192Z"
   },
   {
    "duration": 39,
    "start_time": "2023-08-15T12:32:55.224Z"
   },
   {
    "duration": 17,
    "start_time": "2023-08-15T12:32:55.265Z"
   },
   {
    "duration": 3,
    "start_time": "2023-08-15T12:32:55.284Z"
   },
   {
    "duration": 140,
    "start_time": "2023-08-15T12:32:55.289Z"
   },
   {
    "duration": 5,
    "start_time": "2023-08-15T12:32:55.431Z"
   },
   {
    "duration": 14,
    "start_time": "2023-08-15T12:32:55.437Z"
   },
   {
    "duration": 16,
    "start_time": "2023-08-15T12:32:55.455Z"
   },
   {
    "duration": 26,
    "start_time": "2023-08-15T12:32:55.472Z"
   },
   {
    "duration": 30,
    "start_time": "2023-08-15T12:32:55.500Z"
   },
   {
    "duration": 9,
    "start_time": "2023-08-15T12:32:55.532Z"
   },
   {
    "duration": 237,
    "start_time": "2023-08-15T12:32:55.543Z"
   },
   {
    "duration": 5,
    "start_time": "2023-08-15T12:32:55.782Z"
   },
   {
    "duration": 25,
    "start_time": "2023-08-15T12:32:55.788Z"
   },
   {
    "duration": 12,
    "start_time": "2023-08-15T12:32:55.815Z"
   },
   {
    "duration": 1084,
    "start_time": "2023-08-15T12:44:25.720Z"
   },
   {
    "duration": 95,
    "start_time": "2023-08-15T12:44:26.806Z"
   },
   {
    "duration": 3,
    "start_time": "2023-08-15T12:44:26.903Z"
   },
   {
    "duration": 33,
    "start_time": "2023-08-15T12:44:26.908Z"
   },
   {
    "duration": 32,
    "start_time": "2023-08-15T12:44:26.943Z"
   },
   {
    "duration": 196,
    "start_time": "2023-08-15T12:44:26.977Z"
   },
   {
    "duration": 27,
    "start_time": "2023-08-15T12:44:27.175Z"
   },
   {
    "duration": 11,
    "start_time": "2023-08-15T12:44:27.204Z"
   },
   {
    "duration": 35,
    "start_time": "2023-08-15T12:44:27.216Z"
   },
   {
    "duration": 173,
    "start_time": "2023-08-15T12:44:27.255Z"
   },
   {
    "duration": 174,
    "start_time": "2023-08-15T12:44:27.430Z"
   },
   {
    "duration": 16,
    "start_time": "2023-08-15T12:44:27.606Z"
   },
   {
    "duration": 14,
    "start_time": "2023-08-15T12:44:27.624Z"
   },
   {
    "duration": 28,
    "start_time": "2023-08-15T12:44:27.640Z"
   },
   {
    "duration": 130,
    "start_time": "2023-08-15T12:44:27.671Z"
   },
   {
    "duration": 8,
    "start_time": "2023-08-15T12:44:27.803Z"
   },
   {
    "duration": 18,
    "start_time": "2023-08-15T12:44:27.813Z"
   },
   {
    "duration": 10,
    "start_time": "2023-08-15T12:44:27.833Z"
   },
   {
    "duration": 21,
    "start_time": "2023-08-15T12:44:27.845Z"
   },
   {
    "duration": 12,
    "start_time": "2023-08-15T12:44:27.867Z"
   },
   {
    "duration": 14,
    "start_time": "2023-08-15T12:44:27.880Z"
   },
   {
    "duration": 18,
    "start_time": "2023-08-15T12:44:27.896Z"
   },
   {
    "duration": 10,
    "start_time": "2023-08-15T12:44:27.916Z"
   },
   {
    "duration": 13,
    "start_time": "2023-08-15T12:44:27.928Z"
   },
   {
    "duration": 32,
    "start_time": "2023-08-15T12:44:27.942Z"
   },
   {
    "duration": 6,
    "start_time": "2023-08-15T12:44:27.977Z"
   },
   {
    "duration": 7,
    "start_time": "2023-08-15T12:44:27.985Z"
   },
   {
    "duration": 146,
    "start_time": "2023-08-15T12:44:27.996Z"
   },
   {
    "duration": 24,
    "start_time": "2023-08-15T12:44:28.143Z"
   },
   {
    "duration": 7,
    "start_time": "2023-08-15T12:44:28.169Z"
   },
   {
    "duration": 293,
    "start_time": "2023-08-15T12:44:28.177Z"
   },
   {
    "duration": 21,
    "start_time": "2023-08-15T12:44:28.472Z"
   },
   {
    "duration": 202,
    "start_time": "2023-08-15T12:44:28.495Z"
   },
   {
    "duration": 14,
    "start_time": "2023-08-15T12:44:28.700Z"
   },
   {
    "duration": 230,
    "start_time": "2023-08-15T12:44:28.716Z"
   },
   {
    "duration": 23,
    "start_time": "2023-08-15T12:44:28.957Z"
   },
   {
    "duration": 31,
    "start_time": "2023-08-15T12:44:28.983Z"
   },
   {
    "duration": 21,
    "start_time": "2023-08-15T12:44:29.017Z"
   },
   {
    "duration": 13,
    "start_time": "2023-08-15T12:44:29.040Z"
   },
   {
    "duration": 206,
    "start_time": "2023-08-15T12:44:29.056Z"
   },
   {
    "duration": 275,
    "start_time": "2023-08-15T12:44:29.265Z"
   },
   {
    "duration": 180,
    "start_time": "2023-08-15T12:44:29.542Z"
   },
   {
    "duration": 196,
    "start_time": "2023-08-15T12:44:29.725Z"
   },
   {
    "duration": 40,
    "start_time": "2023-08-15T12:44:29.923Z"
   },
   {
    "duration": 24,
    "start_time": "2023-08-15T12:44:29.969Z"
   },
   {
    "duration": 18,
    "start_time": "2023-08-15T12:44:29.994Z"
   },
   {
    "duration": 19,
    "start_time": "2023-08-15T12:44:30.014Z"
   },
   {
    "duration": 46,
    "start_time": "2023-08-15T12:44:30.035Z"
   },
   {
    "duration": 206,
    "start_time": "2023-08-15T12:44:30.082Z"
   },
   {
    "duration": 4,
    "start_time": "2023-08-15T12:44:30.290Z"
   },
   {
    "duration": 47,
    "start_time": "2023-08-15T12:44:30.296Z"
   },
   {
    "duration": 35,
    "start_time": "2023-08-15T12:44:30.345Z"
   },
   {
    "duration": 40,
    "start_time": "2023-08-15T12:44:30.382Z"
   },
   {
    "duration": 114,
    "start_time": "2023-08-15T12:44:30.425Z"
   },
   {
    "duration": 131,
    "start_time": "2023-08-15T12:44:30.541Z"
   },
   {
    "duration": 317,
    "start_time": "2023-08-15T12:44:30.674Z"
   },
   {
    "duration": 5,
    "start_time": "2023-08-15T12:44:30.993Z"
   },
   {
    "duration": 33,
    "start_time": "2023-08-15T12:44:31.000Z"
   },
   {
    "duration": 58,
    "start_time": "2023-08-15T12:44:31.034Z"
   },
   {
    "duration": 1052,
    "start_time": "2023-08-15T12:47:03.314Z"
   },
   {
    "duration": 101,
    "start_time": "2023-08-15T12:47:04.368Z"
   },
   {
    "duration": 4,
    "start_time": "2023-08-15T12:47:04.471Z"
   },
   {
    "duration": 14,
    "start_time": "2023-08-15T12:47:04.478Z"
   },
   {
    "duration": 12,
    "start_time": "2023-08-15T12:47:04.495Z"
   },
   {
    "duration": 191,
    "start_time": "2023-08-15T12:47:04.509Z"
   },
   {
    "duration": 27,
    "start_time": "2023-08-15T12:47:04.702Z"
   },
   {
    "duration": 10,
    "start_time": "2023-08-15T12:47:04.730Z"
   },
   {
    "duration": 28,
    "start_time": "2023-08-15T12:47:04.742Z"
   },
   {
    "duration": 153,
    "start_time": "2023-08-15T12:47:04.774Z"
   },
   {
    "duration": 173,
    "start_time": "2023-08-15T12:47:04.928Z"
   },
   {
    "duration": 16,
    "start_time": "2023-08-15T12:47:05.103Z"
   },
   {
    "duration": 27,
    "start_time": "2023-08-15T12:47:05.121Z"
   },
   {
    "duration": 25,
    "start_time": "2023-08-15T12:47:05.149Z"
   },
   {
    "duration": 142,
    "start_time": "2023-08-15T12:47:05.176Z"
   },
   {
    "duration": 7,
    "start_time": "2023-08-15T12:47:05.320Z"
   },
   {
    "duration": 42,
    "start_time": "2023-08-15T12:47:05.329Z"
   },
   {
    "duration": 40,
    "start_time": "2023-08-15T12:47:05.373Z"
   },
   {
    "duration": 28,
    "start_time": "2023-08-15T12:47:05.414Z"
   },
   {
    "duration": 26,
    "start_time": "2023-08-15T12:47:05.443Z"
   },
   {
    "duration": 14,
    "start_time": "2023-08-15T12:47:05.471Z"
   },
   {
    "duration": 10,
    "start_time": "2023-08-15T12:47:05.487Z"
   },
   {
    "duration": 28,
    "start_time": "2023-08-15T12:47:05.498Z"
   },
   {
    "duration": 12,
    "start_time": "2023-08-15T12:47:05.527Z"
   },
   {
    "duration": 6,
    "start_time": "2023-08-15T12:47:05.541Z"
   },
   {
    "duration": 24,
    "start_time": "2023-08-15T12:47:05.549Z"
   },
   {
    "duration": 8,
    "start_time": "2023-08-15T12:47:05.575Z"
   },
   {
    "duration": 144,
    "start_time": "2023-08-15T12:47:05.587Z"
   },
   {
    "duration": 5,
    "start_time": "2023-08-15T12:47:05.733Z"
   },
   {
    "duration": 35,
    "start_time": "2023-08-15T12:47:05.740Z"
   },
   {
    "duration": 308,
    "start_time": "2023-08-15T12:47:05.777Z"
   },
   {
    "duration": 16,
    "start_time": "2023-08-15T12:47:06.087Z"
   },
   {
    "duration": 201,
    "start_time": "2023-08-15T12:47:06.105Z"
   },
   {
    "duration": 14,
    "start_time": "2023-08-15T12:47:06.308Z"
   },
   {
    "duration": 203,
    "start_time": "2023-08-15T12:47:06.323Z"
   },
   {
    "duration": 35,
    "start_time": "2023-08-15T12:47:06.528Z"
   },
   {
    "duration": 17,
    "start_time": "2023-08-15T12:47:06.565Z"
   },
   {
    "duration": 19,
    "start_time": "2023-08-15T12:47:06.584Z"
   },
   {
    "duration": 15,
    "start_time": "2023-08-15T12:47:06.605Z"
   },
   {
    "duration": 160,
    "start_time": "2023-08-15T12:47:06.622Z"
   },
   {
    "duration": 279,
    "start_time": "2023-08-15T12:47:06.784Z"
   },
   {
    "duration": 205,
    "start_time": "2023-08-15T12:47:07.072Z"
   },
   {
    "duration": 206,
    "start_time": "2023-08-15T12:47:07.279Z"
   },
   {
    "duration": 22,
    "start_time": "2023-08-15T12:47:07.487Z"
   },
   {
    "duration": 25,
    "start_time": "2023-08-15T12:47:07.511Z"
   },
   {
    "duration": 25,
    "start_time": "2023-08-15T12:47:07.560Z"
   },
   {
    "duration": 17,
    "start_time": "2023-08-15T12:47:07.587Z"
   },
   {
    "duration": 5,
    "start_time": "2023-08-15T12:47:07.606Z"
   },
   {
    "duration": 180,
    "start_time": "2023-08-15T12:47:07.613Z"
   },
   {
    "duration": 5,
    "start_time": "2023-08-15T12:47:07.794Z"
   },
   {
    "duration": 10,
    "start_time": "2023-08-15T12:47:07.801Z"
   },
   {
    "duration": 11,
    "start_time": "2023-08-15T12:47:07.813Z"
   },
   {
    "duration": 20,
    "start_time": "2023-08-15T12:47:07.826Z"
   },
   {
    "duration": 14,
    "start_time": "2023-08-15T12:47:07.848Z"
   },
   {
    "duration": 27,
    "start_time": "2023-08-15T12:47:07.868Z"
   },
   {
    "duration": 274,
    "start_time": "2023-08-15T12:47:07.897Z"
   },
   {
    "duration": 5,
    "start_time": "2023-08-15T12:47:08.174Z"
   },
   {
    "duration": 30,
    "start_time": "2023-08-15T12:47:08.180Z"
   },
   {
    "duration": 36,
    "start_time": "2023-08-15T12:47:08.214Z"
   },
   {
    "duration": 1365,
    "start_time": "2023-08-15T17:40:18.855Z"
   },
   {
    "duration": 194,
    "start_time": "2023-08-15T17:40:20.224Z"
   },
   {
    "duration": 5,
    "start_time": "2023-08-15T17:40:20.420Z"
   },
   {
    "duration": 45,
    "start_time": "2023-08-15T17:40:20.427Z"
   },
   {
    "duration": 20,
    "start_time": "2023-08-15T17:40:20.474Z"
   },
   {
    "duration": 219,
    "start_time": "2023-08-15T17:40:20.496Z"
   },
   {
    "duration": 71,
    "start_time": "2023-08-15T17:40:20.717Z"
   },
   {
    "duration": 11,
    "start_time": "2023-08-15T17:40:20.790Z"
   },
   {
    "duration": 15,
    "start_time": "2023-08-15T17:40:20.803Z"
   },
   {
    "duration": 171,
    "start_time": "2023-08-15T17:40:20.821Z"
   },
   {
    "duration": 178,
    "start_time": "2023-08-15T17:40:20.995Z"
   },
   {
    "duration": 55,
    "start_time": "2023-08-15T17:40:21.176Z"
   },
   {
    "duration": 11,
    "start_time": "2023-08-15T17:40:21.234Z"
   },
   {
    "duration": 30,
    "start_time": "2023-08-15T17:40:21.247Z"
   },
   {
    "duration": 154,
    "start_time": "2023-08-15T17:40:21.279Z"
   },
   {
    "duration": 11,
    "start_time": "2023-08-15T17:40:21.435Z"
   },
   {
    "duration": 14,
    "start_time": "2023-08-15T17:40:21.449Z"
   },
   {
    "duration": 8,
    "start_time": "2023-08-15T17:40:21.465Z"
   },
   {
    "duration": 34,
    "start_time": "2023-08-15T17:40:21.475Z"
   },
   {
    "duration": 8,
    "start_time": "2023-08-15T17:40:21.511Z"
   },
   {
    "duration": 16,
    "start_time": "2023-08-15T17:40:21.521Z"
   },
   {
    "duration": 9,
    "start_time": "2023-08-15T17:40:21.539Z"
   },
   {
    "duration": 7,
    "start_time": "2023-08-15T17:40:21.550Z"
   },
   {
    "duration": 52,
    "start_time": "2023-08-15T17:40:21.558Z"
   },
   {
    "duration": 6,
    "start_time": "2023-08-15T17:40:21.612Z"
   },
   {
    "duration": 14,
    "start_time": "2023-08-15T17:40:21.620Z"
   },
   {
    "duration": 8,
    "start_time": "2023-08-15T17:40:21.636Z"
   },
   {
    "duration": 169,
    "start_time": "2023-08-15T17:40:21.649Z"
   },
   {
    "duration": 7,
    "start_time": "2023-08-15T17:40:21.820Z"
   },
   {
    "duration": 14,
    "start_time": "2023-08-15T17:40:21.828Z"
   },
   {
    "duration": 346,
    "start_time": "2023-08-15T17:40:21.844Z"
   },
   {
    "duration": 24,
    "start_time": "2023-08-15T17:40:22.193Z"
   },
   {
    "duration": 192,
    "start_time": "2023-08-15T17:40:22.219Z"
   },
   {
    "duration": 16,
    "start_time": "2023-08-15T17:40:22.413Z"
   },
   {
    "duration": 247,
    "start_time": "2023-08-15T17:40:22.431Z"
   },
   {
    "duration": 32,
    "start_time": "2023-08-15T17:40:22.680Z"
   },
   {
    "duration": 14,
    "start_time": "2023-08-15T17:40:22.714Z"
   },
   {
    "duration": 37,
    "start_time": "2023-08-15T17:40:22.730Z"
   },
   {
    "duration": 14,
    "start_time": "2023-08-15T17:40:22.769Z"
   },
   {
    "duration": 195,
    "start_time": "2023-08-15T17:40:22.785Z"
   },
   {
    "duration": 308,
    "start_time": "2023-08-15T17:40:22.982Z"
   },
   {
    "duration": 180,
    "start_time": "2023-08-15T17:40:23.292Z"
   },
   {
    "duration": 215,
    "start_time": "2023-08-15T17:40:23.474Z"
   },
   {
    "duration": 34,
    "start_time": "2023-08-15T17:40:23.691Z"
   },
   {
    "duration": 29,
    "start_time": "2023-08-15T17:40:23.727Z"
   },
   {
    "duration": 50,
    "start_time": "2023-08-15T17:40:23.758Z"
   },
   {
    "duration": 21,
    "start_time": "2023-08-15T17:40:23.811Z"
   },
   {
    "duration": 5,
    "start_time": "2023-08-15T17:40:23.834Z"
   },
   {
    "duration": 162,
    "start_time": "2023-08-15T17:40:23.840Z"
   },
   {
    "duration": 7,
    "start_time": "2023-08-15T17:40:24.008Z"
   },
   {
    "duration": 17,
    "start_time": "2023-08-15T17:40:24.017Z"
   },
   {
    "duration": 15,
    "start_time": "2023-08-15T17:40:24.036Z"
   },
   {
    "duration": 12,
    "start_time": "2023-08-15T17:40:24.054Z"
   },
   {
    "duration": 17,
    "start_time": "2023-08-15T17:40:24.068Z"
   },
   {
    "duration": 24,
    "start_time": "2023-08-15T17:40:24.087Z"
   },
   {
    "duration": 292,
    "start_time": "2023-08-15T17:40:24.113Z"
   },
   {
    "duration": 7,
    "start_time": "2023-08-15T17:40:24.409Z"
   },
   {
    "duration": 9,
    "start_time": "2023-08-15T17:40:24.418Z"
   },
   {
    "duration": 12,
    "start_time": "2023-08-15T17:40:24.430Z"
   },
   {
    "duration": 6,
    "start_time": "2023-08-15T17:41:55.011Z"
   },
   {
    "duration": 6,
    "start_time": "2023-08-15T17:42:01.138Z"
   },
   {
    "duration": 11,
    "start_time": "2023-08-15T17:43:19.431Z"
   },
   {
    "duration": 1097,
    "start_time": "2023-08-15T17:43:27.033Z"
   },
   {
    "duration": 100,
    "start_time": "2023-08-15T17:43:28.132Z"
   },
   {
    "duration": 3,
    "start_time": "2023-08-15T17:43:28.234Z"
   },
   {
    "duration": 93,
    "start_time": "2023-08-15T17:43:28.239Z"
   },
   {
    "duration": 69,
    "start_time": "2023-08-15T17:43:28.334Z"
   },
   {
    "duration": 179,
    "start_time": "2023-08-15T17:43:28.405Z"
   },
   {
    "duration": 27,
    "start_time": "2023-08-15T17:43:28.586Z"
   },
   {
    "duration": 9,
    "start_time": "2023-08-15T17:43:28.616Z"
   },
   {
    "duration": 14,
    "start_time": "2023-08-15T17:43:28.626Z"
   },
   {
    "duration": 181,
    "start_time": "2023-08-15T17:43:28.643Z"
   },
   {
    "duration": 173,
    "start_time": "2023-08-15T17:43:28.826Z"
   },
   {
    "duration": 16,
    "start_time": "2023-08-15T17:43:29.001Z"
   },
   {
    "duration": 17,
    "start_time": "2023-08-15T17:43:29.019Z"
   },
   {
    "duration": 14,
    "start_time": "2023-08-15T17:43:29.039Z"
   },
   {
    "duration": 140,
    "start_time": "2023-08-15T17:43:29.055Z"
   },
   {
    "duration": 17,
    "start_time": "2023-08-15T17:43:29.197Z"
   },
   {
    "duration": 12,
    "start_time": "2023-08-15T17:43:29.215Z"
   },
   {
    "duration": 9,
    "start_time": "2023-08-15T17:43:29.229Z"
   },
   {
    "duration": 7,
    "start_time": "2023-08-15T17:43:29.240Z"
   },
   {
    "duration": 11,
    "start_time": "2023-08-15T17:43:29.249Z"
   },
   {
    "duration": 15,
    "start_time": "2023-08-15T17:43:29.262Z"
   },
   {
    "duration": 9,
    "start_time": "2023-08-15T17:43:29.310Z"
   },
   {
    "duration": 7,
    "start_time": "2023-08-15T17:43:29.321Z"
   },
   {
    "duration": 10,
    "start_time": "2023-08-15T17:43:29.330Z"
   },
   {
    "duration": 6,
    "start_time": "2023-08-15T17:43:29.342Z"
   },
   {
    "duration": 12,
    "start_time": "2023-08-15T17:43:29.349Z"
   },
   {
    "duration": 45,
    "start_time": "2023-08-15T17:43:29.364Z"
   },
   {
    "duration": 168,
    "start_time": "2023-08-15T17:43:29.413Z"
   },
   {
    "duration": 7,
    "start_time": "2023-08-15T17:43:29.582Z"
   },
   {
    "duration": 18,
    "start_time": "2023-08-15T17:43:29.591Z"
   },
   {
    "duration": 273,
    "start_time": "2023-08-15T17:43:29.612Z"
   },
   {
    "duration": 25,
    "start_time": "2023-08-15T17:43:29.887Z"
   },
   {
    "duration": 197,
    "start_time": "2023-08-15T17:43:29.914Z"
   },
   {
    "duration": 14,
    "start_time": "2023-08-15T17:43:30.113Z"
   },
   {
    "duration": 208,
    "start_time": "2023-08-15T17:43:30.129Z"
   },
   {
    "duration": 20,
    "start_time": "2023-08-15T17:43:30.338Z"
   },
   {
    "duration": 50,
    "start_time": "2023-08-15T17:43:30.360Z"
   },
   {
    "duration": 33,
    "start_time": "2023-08-15T17:43:30.412Z"
   },
   {
    "duration": 72,
    "start_time": "2023-08-15T17:43:30.447Z"
   },
   {
    "duration": 183,
    "start_time": "2023-08-15T17:43:30.521Z"
   },
   {
    "duration": 282,
    "start_time": "2023-08-15T17:43:30.709Z"
   },
   {
    "duration": 204,
    "start_time": "2023-08-15T17:43:30.994Z"
   },
   {
    "duration": 229,
    "start_time": "2023-08-15T17:43:31.201Z"
   },
   {
    "duration": 26,
    "start_time": "2023-08-15T17:43:31.433Z"
   },
   {
    "duration": 75,
    "start_time": "2023-08-15T17:43:31.461Z"
   },
   {
    "duration": 64,
    "start_time": "2023-08-15T17:43:31.537Z"
   },
   {
    "duration": 36,
    "start_time": "2023-08-15T17:43:31.603Z"
   },
   {
    "duration": 35,
    "start_time": "2023-08-15T17:43:31.641Z"
   },
   {
    "duration": 157,
    "start_time": "2023-08-15T17:43:31.678Z"
   },
   {
    "duration": 6,
    "start_time": "2023-08-15T17:43:31.837Z"
   },
   {
    "duration": 31,
    "start_time": "2023-08-15T17:43:31.844Z"
   },
   {
    "duration": 17,
    "start_time": "2023-08-15T17:43:31.877Z"
   },
   {
    "duration": 35,
    "start_time": "2023-08-15T17:43:31.896Z"
   },
   {
    "duration": 24,
    "start_time": "2023-08-15T17:43:31.933Z"
   },
   {
    "duration": 33,
    "start_time": "2023-08-15T17:43:31.959Z"
   },
   {
    "duration": 277,
    "start_time": "2023-08-15T17:43:31.994Z"
   },
   {
    "duration": 5,
    "start_time": "2023-08-15T17:43:32.273Z"
   },
   {
    "duration": 27,
    "start_time": "2023-08-15T17:43:32.281Z"
   },
   {
    "duration": 31,
    "start_time": "2023-08-15T17:43:32.310Z"
   },
   {
    "duration": 7,
    "start_time": "2023-08-15T17:46:01.061Z"
   },
   {
    "duration": 10,
    "start_time": "2023-08-15T17:46:14.683Z"
   },
   {
    "duration": 7,
    "start_time": "2023-08-15T17:46:23.831Z"
   },
   {
    "duration": 6,
    "start_time": "2023-08-15T17:48:10.071Z"
   },
   {
    "duration": 5,
    "start_time": "2023-08-15T17:48:24.486Z"
   },
   {
    "duration": 6,
    "start_time": "2023-08-15T17:48:49.288Z"
   },
   {
    "duration": 5,
    "start_time": "2023-08-15T17:48:55.167Z"
   },
   {
    "duration": 7,
    "start_time": "2023-08-15T17:49:08.451Z"
   },
   {
    "duration": 7,
    "start_time": "2023-08-15T17:49:16.746Z"
   },
   {
    "duration": 5,
    "start_time": "2023-08-15T17:49:34.299Z"
   },
   {
    "duration": 125,
    "start_time": "2023-08-15T17:49:57.226Z"
   },
   {
    "duration": 19,
    "start_time": "2023-08-15T17:50:10.981Z"
   },
   {
    "duration": 9,
    "start_time": "2023-08-15T17:50:16.942Z"
   },
   {
    "duration": 8,
    "start_time": "2023-08-15T17:50:25.260Z"
   },
   {
    "duration": 7,
    "start_time": "2023-08-15T17:50:25.437Z"
   },
   {
    "duration": 1265,
    "start_time": "2023-08-15T17:50:44.529Z"
   },
   {
    "duration": 104,
    "start_time": "2023-08-15T17:50:45.796Z"
   },
   {
    "duration": 4,
    "start_time": "2023-08-15T17:50:45.903Z"
   },
   {
    "duration": 87,
    "start_time": "2023-08-15T17:50:45.909Z"
   },
   {
    "duration": 84,
    "start_time": "2023-08-15T17:50:46.000Z"
   },
   {
    "duration": 257,
    "start_time": "2023-08-15T17:50:46.086Z"
   },
   {
    "duration": 31,
    "start_time": "2023-08-15T17:50:46.346Z"
   },
   {
    "duration": 37,
    "start_time": "2023-08-15T17:50:46.380Z"
   },
   {
    "duration": 33,
    "start_time": "2023-08-15T17:50:46.420Z"
   },
   {
    "duration": 258,
    "start_time": "2023-08-15T17:50:46.455Z"
   },
   {
    "duration": 237,
    "start_time": "2023-08-15T17:50:46.716Z"
   },
   {
    "duration": 28,
    "start_time": "2023-08-15T17:50:46.955Z"
   },
   {
    "duration": 17,
    "start_time": "2023-08-15T17:50:46.985Z"
   },
   {
    "duration": 81,
    "start_time": "2023-08-15T17:50:47.007Z"
   },
   {
    "duration": 153,
    "start_time": "2023-08-15T17:50:47.090Z"
   },
   {
    "duration": 10,
    "start_time": "2023-08-15T17:50:47.245Z"
   },
   {
    "duration": 163,
    "start_time": "2023-08-15T17:50:47.258Z"
   },
   {
    "duration": 133,
    "start_time": "2023-08-15T17:50:47.424Z"
   },
   {
    "duration": 49,
    "start_time": "2023-08-15T17:50:47.559Z"
   },
   {
    "duration": 84,
    "start_time": "2023-08-15T17:50:47.610Z"
   },
   {
    "duration": 45,
    "start_time": "2023-08-15T17:50:47.696Z"
   },
   {
    "duration": 24,
    "start_time": "2023-08-15T17:50:47.742Z"
   },
   {
    "duration": 103,
    "start_time": "2023-08-15T17:50:47.768Z"
   },
   {
    "duration": 98,
    "start_time": "2023-08-15T17:50:47.873Z"
   },
   {
    "duration": 31,
    "start_time": "2023-08-15T17:50:47.973Z"
   },
   {
    "duration": 37,
    "start_time": "2023-08-15T17:50:48.006Z"
   },
   {
    "duration": 18,
    "start_time": "2023-08-15T17:50:48.045Z"
   },
   {
    "duration": 178,
    "start_time": "2023-08-15T17:50:48.065Z"
   },
   {
    "duration": 5,
    "start_time": "2023-08-15T17:50:48.245Z"
   },
   {
    "duration": 24,
    "start_time": "2023-08-15T17:50:48.252Z"
   },
   {
    "duration": 290,
    "start_time": "2023-08-15T17:50:48.278Z"
   },
   {
    "duration": 16,
    "start_time": "2023-08-15T17:50:48.569Z"
   },
   {
    "duration": 238,
    "start_time": "2023-08-15T17:50:48.586Z"
   },
   {
    "duration": 14,
    "start_time": "2023-08-15T17:50:48.826Z"
   },
   {
    "duration": 270,
    "start_time": "2023-08-15T17:50:48.843Z"
   },
   {
    "duration": 19,
    "start_time": "2023-08-15T17:50:49.116Z"
   },
   {
    "duration": 54,
    "start_time": "2023-08-15T17:50:49.137Z"
   },
   {
    "duration": 14,
    "start_time": "2023-08-15T17:50:49.193Z"
   },
   {
    "duration": 13,
    "start_time": "2023-08-15T17:50:49.210Z"
   },
   {
    "duration": 195,
    "start_time": "2023-08-15T17:50:49.225Z"
   },
   {
    "duration": 290,
    "start_time": "2023-08-15T17:50:49.424Z"
   },
   {
    "duration": 185,
    "start_time": "2023-08-15T17:50:49.716Z"
   },
   {
    "duration": 198,
    "start_time": "2023-08-15T17:50:49.902Z"
   },
   {
    "duration": 26,
    "start_time": "2023-08-15T17:50:50.102Z"
   },
   {
    "duration": 107,
    "start_time": "2023-08-15T17:50:50.130Z"
   },
   {
    "duration": 67,
    "start_time": "2023-08-15T17:50:50.238Z"
   },
   {
    "duration": 22,
    "start_time": "2023-08-15T17:50:50.307Z"
   },
   {
    "duration": 13,
    "start_time": "2023-08-15T17:50:50.330Z"
   },
   {
    "duration": 179,
    "start_time": "2023-08-15T17:50:50.345Z"
   },
   {
    "duration": 6,
    "start_time": "2023-08-15T17:50:50.526Z"
   },
   {
    "duration": 29,
    "start_time": "2023-08-15T17:50:50.534Z"
   },
   {
    "duration": 20,
    "start_time": "2023-08-15T17:50:50.566Z"
   },
   {
    "duration": 45,
    "start_time": "2023-08-15T17:50:50.588Z"
   },
   {
    "duration": 21,
    "start_time": "2023-08-15T17:50:50.635Z"
   },
   {
    "duration": 36,
    "start_time": "2023-08-15T17:50:50.658Z"
   },
   {
    "duration": 113,
    "start_time": "2023-08-15T17:50:50.697Z"
   },
   {
    "duration": 0,
    "start_time": "2023-08-15T17:50:50.811Z"
   },
   {
    "duration": 0,
    "start_time": "2023-08-15T17:50:50.812Z"
   },
   {
    "duration": 0,
    "start_time": "2023-08-15T17:50:50.813Z"
   },
   {
    "duration": 0,
    "start_time": "2023-08-15T17:50:50.814Z"
   },
   {
    "duration": 0,
    "start_time": "2023-08-15T17:50:50.815Z"
   },
   {
    "duration": 0,
    "start_time": "2023-08-15T17:50:50.817Z"
   },
   {
    "duration": 1175,
    "start_time": "2023-08-15T17:51:37.083Z"
   },
   {
    "duration": 104,
    "start_time": "2023-08-15T17:51:38.260Z"
   },
   {
    "duration": 76,
    "start_time": "2023-08-15T17:51:38.366Z"
   },
   {
    "duration": 168,
    "start_time": "2023-08-15T17:51:38.444Z"
   },
   {
    "duration": 116,
    "start_time": "2023-08-15T17:51:38.615Z"
   },
   {
    "duration": 282,
    "start_time": "2023-08-15T17:51:38.733Z"
   },
   {
    "duration": 30,
    "start_time": "2023-08-15T17:51:39.017Z"
   },
   {
    "duration": 29,
    "start_time": "2023-08-15T17:51:39.049Z"
   },
   {
    "duration": 42,
    "start_time": "2023-08-15T17:51:39.080Z"
   },
   {
    "duration": 229,
    "start_time": "2023-08-15T17:51:39.126Z"
   },
   {
    "duration": 192,
    "start_time": "2023-08-15T17:51:39.358Z"
   },
   {
    "duration": 28,
    "start_time": "2023-08-15T17:51:39.553Z"
   },
   {
    "duration": 24,
    "start_time": "2023-08-15T17:51:39.583Z"
   },
   {
    "duration": 34,
    "start_time": "2023-08-15T17:51:39.609Z"
   },
   {
    "duration": 195,
    "start_time": "2023-08-15T17:51:39.645Z"
   },
   {
    "duration": 8,
    "start_time": "2023-08-15T17:51:39.842Z"
   },
   {
    "duration": 107,
    "start_time": "2023-08-15T17:51:39.852Z"
   },
   {
    "duration": 108,
    "start_time": "2023-08-15T17:51:39.961Z"
   },
   {
    "duration": 269,
    "start_time": "2023-08-15T17:51:40.071Z"
   },
   {
    "duration": 234,
    "start_time": "2023-08-15T17:51:40.342Z"
   },
   {
    "duration": 49,
    "start_time": "2023-08-15T17:51:40.578Z"
   },
   {
    "duration": 14,
    "start_time": "2023-08-15T17:51:40.629Z"
   },
   {
    "duration": 21,
    "start_time": "2023-08-15T17:51:40.645Z"
   },
   {
    "duration": 21,
    "start_time": "2023-08-15T17:51:40.668Z"
   },
   {
    "duration": 7,
    "start_time": "2023-08-15T17:51:40.691Z"
   },
   {
    "duration": 11,
    "start_time": "2023-08-15T17:51:40.700Z"
   },
   {
    "duration": 27,
    "start_time": "2023-08-15T17:51:40.713Z"
   },
   {
    "duration": 186,
    "start_time": "2023-08-15T17:51:40.746Z"
   },
   {
    "duration": 6,
    "start_time": "2023-08-15T17:51:40.934Z"
   },
   {
    "duration": 68,
    "start_time": "2023-08-15T17:51:40.942Z"
   },
   {
    "duration": 314,
    "start_time": "2023-08-15T17:51:41.011Z"
   },
   {
    "duration": 23,
    "start_time": "2023-08-15T17:51:41.327Z"
   },
   {
    "duration": 228,
    "start_time": "2023-08-15T17:51:41.352Z"
   },
   {
    "duration": 15,
    "start_time": "2023-08-15T17:51:41.582Z"
   },
   {
    "duration": 242,
    "start_time": "2023-08-15T17:51:41.608Z"
   },
   {
    "duration": 21,
    "start_time": "2023-08-15T17:51:41.852Z"
   },
   {
    "duration": 40,
    "start_time": "2023-08-15T17:51:41.875Z"
   },
   {
    "duration": 32,
    "start_time": "2023-08-15T17:51:41.917Z"
   },
   {
    "duration": 22,
    "start_time": "2023-08-15T17:51:41.951Z"
   },
   {
    "duration": 171,
    "start_time": "2023-08-15T17:51:41.975Z"
   },
   {
    "duration": 295,
    "start_time": "2023-08-15T17:51:42.148Z"
   },
   {
    "duration": 191,
    "start_time": "2023-08-15T17:51:42.445Z"
   },
   {
    "duration": 202,
    "start_time": "2023-08-15T17:51:42.639Z"
   },
   {
    "duration": 23,
    "start_time": "2023-08-15T17:51:42.843Z"
   },
   {
    "duration": 42,
    "start_time": "2023-08-15T17:51:42.868Z"
   },
   {
    "duration": 38,
    "start_time": "2023-08-15T17:51:42.913Z"
   },
   {
    "duration": 145,
    "start_time": "2023-08-15T17:51:42.953Z"
   },
   {
    "duration": 15,
    "start_time": "2023-08-15T17:51:43.100Z"
   },
   {
    "duration": 160,
    "start_time": "2023-08-15T17:51:43.118Z"
   },
   {
    "duration": 6,
    "start_time": "2023-08-15T17:51:43.280Z"
   },
   {
    "duration": 23,
    "start_time": "2023-08-15T17:51:43.288Z"
   },
   {
    "duration": 29,
    "start_time": "2023-08-15T17:51:43.312Z"
   },
   {
    "duration": 58,
    "start_time": "2023-08-15T17:51:43.343Z"
   },
   {
    "duration": 129,
    "start_time": "2023-08-15T17:51:43.403Z"
   },
   {
    "duration": 0,
    "start_time": "2023-08-15T17:51:43.534Z"
   },
   {
    "duration": 0,
    "start_time": "2023-08-15T17:51:43.536Z"
   },
   {
    "duration": 0,
    "start_time": "2023-08-15T17:51:43.537Z"
   },
   {
    "duration": 0,
    "start_time": "2023-08-15T17:51:43.538Z"
   },
   {
    "duration": 0,
    "start_time": "2023-08-15T17:51:43.539Z"
   },
   {
    "duration": 0,
    "start_time": "2023-08-15T17:51:43.541Z"
   },
   {
    "duration": 6,
    "start_time": "2023-08-15T17:51:52.072Z"
   },
   {
    "duration": 7,
    "start_time": "2023-08-15T17:51:54.176Z"
   },
   {
    "duration": 7,
    "start_time": "2023-08-15T17:52:13.843Z"
   },
   {
    "duration": 6,
    "start_time": "2023-08-15T17:52:16.233Z"
   },
   {
    "duration": 7,
    "start_time": "2023-08-15T17:52:19.855Z"
   },
   {
    "duration": 1256,
    "start_time": "2023-08-15T17:52:29.106Z"
   },
   {
    "duration": 107,
    "start_time": "2023-08-15T17:52:30.365Z"
   },
   {
    "duration": 146,
    "start_time": "2023-08-15T17:52:30.474Z"
   },
   {
    "duration": 97,
    "start_time": "2023-08-15T17:52:30.622Z"
   },
   {
    "duration": 180,
    "start_time": "2023-08-15T17:52:30.722Z"
   },
   {
    "duration": 207,
    "start_time": "2023-08-15T17:52:30.904Z"
   },
   {
    "duration": 28,
    "start_time": "2023-08-15T17:52:31.114Z"
   },
   {
    "duration": 28,
    "start_time": "2023-08-15T17:52:31.144Z"
   },
   {
    "duration": 261,
    "start_time": "2023-08-15T17:52:31.174Z"
   },
   {
    "duration": 264,
    "start_time": "2023-08-15T17:52:31.437Z"
   },
   {
    "duration": 236,
    "start_time": "2023-08-15T17:52:31.704Z"
   },
   {
    "duration": 27,
    "start_time": "2023-08-15T17:52:31.942Z"
   },
   {
    "duration": 38,
    "start_time": "2023-08-15T17:52:31.971Z"
   },
   {
    "duration": 36,
    "start_time": "2023-08-15T17:52:32.013Z"
   },
   {
    "duration": 160,
    "start_time": "2023-08-15T17:52:32.051Z"
   },
   {
    "duration": 8,
    "start_time": "2023-08-15T17:52:32.213Z"
   },
   {
    "duration": 51,
    "start_time": "2023-08-15T17:52:32.223Z"
   },
   {
    "duration": 21,
    "start_time": "2023-08-15T17:52:32.276Z"
   },
   {
    "duration": 36,
    "start_time": "2023-08-15T17:52:32.299Z"
   },
   {
    "duration": 23,
    "start_time": "2023-08-15T17:52:32.337Z"
   },
   {
    "duration": 22,
    "start_time": "2023-08-15T17:52:32.362Z"
   },
   {
    "duration": 11,
    "start_time": "2023-08-15T17:52:32.386Z"
   },
   {
    "duration": 18,
    "start_time": "2023-08-15T17:52:32.399Z"
   },
   {
    "duration": 28,
    "start_time": "2023-08-15T17:52:32.419Z"
   },
   {
    "duration": 53,
    "start_time": "2023-08-15T17:52:32.449Z"
   },
   {
    "duration": 20,
    "start_time": "2023-08-15T17:52:32.504Z"
   },
   {
    "duration": 58,
    "start_time": "2023-08-15T17:52:32.526Z"
   },
   {
    "duration": 174,
    "start_time": "2023-08-15T17:52:32.587Z"
   },
   {
    "duration": 6,
    "start_time": "2023-08-15T17:52:32.763Z"
   },
   {
    "duration": 18,
    "start_time": "2023-08-15T17:52:32.771Z"
   },
   {
    "duration": 286,
    "start_time": "2023-08-15T17:52:32.791Z"
   },
   {
    "duration": 16,
    "start_time": "2023-08-15T17:52:33.080Z"
   },
   {
    "duration": 187,
    "start_time": "2023-08-15T17:52:33.098Z"
   },
   {
    "duration": 22,
    "start_time": "2023-08-15T17:52:33.287Z"
   },
   {
    "duration": 271,
    "start_time": "2023-08-15T17:52:33.311Z"
   },
   {
    "duration": 26,
    "start_time": "2023-08-15T17:52:33.584Z"
   },
   {
    "duration": 51,
    "start_time": "2023-08-15T17:52:33.612Z"
   },
   {
    "duration": 188,
    "start_time": "2023-08-15T17:52:33.664Z"
   },
   {
    "duration": 27,
    "start_time": "2023-08-15T17:52:33.853Z"
   },
   {
    "duration": 194,
    "start_time": "2023-08-15T17:52:33.882Z"
   },
   {
    "duration": 302,
    "start_time": "2023-08-15T17:52:34.080Z"
   },
   {
    "duration": 181,
    "start_time": "2023-08-15T17:52:34.383Z"
   },
   {
    "duration": 197,
    "start_time": "2023-08-15T17:52:34.565Z"
   },
   {
    "duration": 24,
    "start_time": "2023-08-15T17:52:34.764Z"
   },
   {
    "duration": 26,
    "start_time": "2023-08-15T17:52:34.808Z"
   },
   {
    "duration": 22,
    "start_time": "2023-08-15T17:52:34.836Z"
   },
   {
    "duration": 34,
    "start_time": "2023-08-15T17:52:34.860Z"
   },
   {
    "duration": 5,
    "start_time": "2023-08-15T17:52:34.896Z"
   },
   {
    "duration": 167,
    "start_time": "2023-08-15T17:52:34.909Z"
   },
   {
    "duration": 6,
    "start_time": "2023-08-15T17:52:35.078Z"
   },
   {
    "duration": 32,
    "start_time": "2023-08-15T17:52:35.086Z"
   },
   {
    "duration": 13,
    "start_time": "2023-08-15T17:52:35.120Z"
   },
   {
    "duration": 18,
    "start_time": "2023-08-15T17:52:35.135Z"
   },
   {
    "duration": 85,
    "start_time": "2023-08-15T17:52:35.155Z"
   },
   {
    "duration": 0,
    "start_time": "2023-08-15T17:52:35.242Z"
   },
   {
    "duration": 0,
    "start_time": "2023-08-15T17:52:35.243Z"
   },
   {
    "duration": 0,
    "start_time": "2023-08-15T17:52:35.244Z"
   },
   {
    "duration": 0,
    "start_time": "2023-08-15T17:52:35.247Z"
   },
   {
    "duration": 0,
    "start_time": "2023-08-15T17:52:35.248Z"
   },
   {
    "duration": 0,
    "start_time": "2023-08-15T17:52:35.250Z"
   },
   {
    "duration": 10,
    "start_time": "2023-08-15T17:55:51.367Z"
   },
   {
    "duration": 1240,
    "start_time": "2023-08-15T17:56:34.875Z"
   },
   {
    "duration": 120,
    "start_time": "2023-08-15T17:56:36.119Z"
   },
   {
    "duration": 38,
    "start_time": "2023-08-15T17:56:36.241Z"
   },
   {
    "duration": 83,
    "start_time": "2023-08-15T17:56:36.282Z"
   },
   {
    "duration": 106,
    "start_time": "2023-08-15T17:56:36.367Z"
   },
   {
    "duration": 276,
    "start_time": "2023-08-15T17:56:36.475Z"
   },
   {
    "duration": 27,
    "start_time": "2023-08-15T17:56:36.753Z"
   },
   {
    "duration": 10,
    "start_time": "2023-08-15T17:56:36.782Z"
   },
   {
    "duration": 36,
    "start_time": "2023-08-15T17:56:36.794Z"
   },
   {
    "duration": 170,
    "start_time": "2023-08-15T17:56:36.833Z"
   },
   {
    "duration": 179,
    "start_time": "2023-08-15T17:56:37.005Z"
   },
   {
    "duration": 36,
    "start_time": "2023-08-15T17:56:37.187Z"
   },
   {
    "duration": 22,
    "start_time": "2023-08-15T17:56:37.225Z"
   },
   {
    "duration": 142,
    "start_time": "2023-08-15T17:56:37.248Z"
   },
   {
    "duration": 184,
    "start_time": "2023-08-15T17:56:37.392Z"
   },
   {
    "duration": 8,
    "start_time": "2023-08-15T17:56:37.577Z"
   },
   {
    "duration": 39,
    "start_time": "2023-08-15T17:56:37.587Z"
   },
   {
    "duration": 29,
    "start_time": "2023-08-15T17:56:37.628Z"
   },
   {
    "duration": 13,
    "start_time": "2023-08-15T17:56:37.659Z"
   },
   {
    "duration": 43,
    "start_time": "2023-08-15T17:56:37.673Z"
   },
   {
    "duration": 23,
    "start_time": "2023-08-15T17:56:37.717Z"
   },
   {
    "duration": 9,
    "start_time": "2023-08-15T17:56:37.742Z"
   },
   {
    "duration": 63,
    "start_time": "2023-08-15T17:56:37.753Z"
   },
   {
    "duration": 107,
    "start_time": "2023-08-15T17:56:37.818Z"
   },
   {
    "duration": 23,
    "start_time": "2023-08-15T17:56:37.927Z"
   },
   {
    "duration": 61,
    "start_time": "2023-08-15T17:56:37.952Z"
   },
   {
    "duration": 29,
    "start_time": "2023-08-15T17:56:38.016Z"
   },
   {
    "duration": 393,
    "start_time": "2023-08-15T17:56:38.052Z"
   },
   {
    "duration": 7,
    "start_time": "2023-08-15T17:56:38.446Z"
   },
   {
    "duration": 75,
    "start_time": "2023-08-15T17:56:38.455Z"
   },
   {
    "duration": 697,
    "start_time": "2023-08-15T17:56:38.533Z"
   },
   {
    "duration": 19,
    "start_time": "2023-08-15T17:56:39.232Z"
   },
   {
    "duration": 497,
    "start_time": "2023-08-15T17:56:39.253Z"
   },
   {
    "duration": 70,
    "start_time": "2023-08-15T17:56:39.752Z"
   },
   {
    "duration": 498,
    "start_time": "2023-08-15T17:56:39.824Z"
   },
   {
    "duration": 21,
    "start_time": "2023-08-15T17:56:40.325Z"
   },
   {
    "duration": 81,
    "start_time": "2023-08-15T17:56:40.348Z"
   },
   {
    "duration": 13,
    "start_time": "2023-08-15T17:56:40.430Z"
   },
   {
    "duration": 78,
    "start_time": "2023-08-15T17:56:40.445Z"
   },
   {
    "duration": 429,
    "start_time": "2023-08-15T17:56:40.526Z"
   },
   {
    "duration": 784,
    "start_time": "2023-08-15T17:56:40.957Z"
   },
   {
    "duration": 497,
    "start_time": "2023-08-15T17:56:41.742Z"
   },
   {
    "duration": 285,
    "start_time": "2023-08-15T17:56:42.241Z"
   },
   {
    "duration": 24,
    "start_time": "2023-08-15T17:56:42.529Z"
   },
   {
    "duration": 38,
    "start_time": "2023-08-15T17:56:42.555Z"
   },
   {
    "duration": 37,
    "start_time": "2023-08-15T17:56:42.596Z"
   },
   {
    "duration": 60,
    "start_time": "2023-08-15T17:56:42.636Z"
   },
   {
    "duration": 37,
    "start_time": "2023-08-15T17:56:42.698Z"
   },
   {
    "duration": 183,
    "start_time": "2023-08-15T17:56:42.737Z"
   },
   {
    "duration": 6,
    "start_time": "2023-08-15T17:56:42.927Z"
   },
   {
    "duration": 17,
    "start_time": "2023-08-15T17:56:42.934Z"
   },
   {
    "duration": 20,
    "start_time": "2023-08-15T17:56:42.953Z"
   },
   {
    "duration": 24,
    "start_time": "2023-08-15T17:56:42.974Z"
   },
   {
    "duration": 24,
    "start_time": "2023-08-15T17:56:43.000Z"
   },
   {
    "duration": 10,
    "start_time": "2023-08-15T17:56:43.025Z"
   },
   {
    "duration": 325,
    "start_time": "2023-08-15T17:56:43.037Z"
   },
   {
    "duration": 6,
    "start_time": "2023-08-15T17:56:43.364Z"
   },
   {
    "duration": 16,
    "start_time": "2023-08-15T17:56:43.372Z"
   },
   {
    "duration": 38,
    "start_time": "2023-08-15T17:56:43.390Z"
   },
   {
    "duration": 20,
    "start_time": "2023-08-15T17:58:58.402Z"
   },
   {
    "duration": 13,
    "start_time": "2023-08-15T17:59:02.445Z"
   },
   {
    "duration": 13,
    "start_time": "2023-08-15T17:59:05.074Z"
   },
   {
    "duration": 51,
    "start_time": "2023-08-16T07:17:00.081Z"
   },
   {
    "duration": 1421,
    "start_time": "2023-08-16T07:17:07.921Z"
   },
   {
    "duration": 151,
    "start_time": "2023-08-16T07:17:09.345Z"
   },
   {
    "duration": 4,
    "start_time": "2023-08-16T07:17:09.497Z"
   },
   {
    "duration": 22,
    "start_time": "2023-08-16T07:17:09.503Z"
   },
   {
    "duration": 12,
    "start_time": "2023-08-16T07:17:09.527Z"
   },
   {
    "duration": 165,
    "start_time": "2023-08-16T07:17:09.540Z"
   },
   {
    "duration": 163,
    "start_time": "2023-08-16T07:17:09.706Z"
   },
   {
    "duration": 8,
    "start_time": "2023-08-16T07:17:09.871Z"
   },
   {
    "duration": 11,
    "start_time": "2023-08-16T07:17:09.881Z"
   },
   {
    "duration": 147,
    "start_time": "2023-08-16T07:17:09.894Z"
   },
   {
    "duration": 151,
    "start_time": "2023-08-16T07:17:10.043Z"
   },
   {
    "duration": 58,
    "start_time": "2023-08-16T07:17:10.196Z"
   },
   {
    "duration": 8,
    "start_time": "2023-08-16T07:17:10.256Z"
   },
   {
    "duration": 12,
    "start_time": "2023-08-16T07:17:10.265Z"
   },
   {
    "duration": 130,
    "start_time": "2023-08-16T07:17:10.279Z"
   },
   {
    "duration": 7,
    "start_time": "2023-08-16T07:17:10.411Z"
   },
   {
    "duration": 9,
    "start_time": "2023-08-16T07:17:10.420Z"
   },
   {
    "duration": 7,
    "start_time": "2023-08-16T07:17:10.431Z"
   },
   {
    "duration": 22,
    "start_time": "2023-08-16T07:17:10.439Z"
   },
   {
    "duration": 7,
    "start_time": "2023-08-16T07:17:10.462Z"
   },
   {
    "duration": 15,
    "start_time": "2023-08-16T07:17:10.471Z"
   },
   {
    "duration": 7,
    "start_time": "2023-08-16T07:17:10.487Z"
   },
   {
    "duration": 5,
    "start_time": "2023-08-16T07:17:10.496Z"
   },
   {
    "duration": 18,
    "start_time": "2023-08-16T07:17:10.503Z"
   },
   {
    "duration": 5,
    "start_time": "2023-08-16T07:17:10.522Z"
   },
   {
    "duration": 31,
    "start_time": "2023-08-16T07:17:10.529Z"
   },
   {
    "duration": 11,
    "start_time": "2023-08-16T07:17:10.562Z"
   },
   {
    "duration": 131,
    "start_time": "2023-08-16T07:17:10.577Z"
   },
   {
    "duration": 5,
    "start_time": "2023-08-16T07:17:10.710Z"
   },
   {
    "duration": 11,
    "start_time": "2023-08-16T07:17:10.716Z"
   },
   {
    "duration": 287,
    "start_time": "2023-08-16T07:17:10.729Z"
   },
   {
    "duration": 15,
    "start_time": "2023-08-16T07:17:11.018Z"
   },
   {
    "duration": 184,
    "start_time": "2023-08-16T07:17:11.035Z"
   },
   {
    "duration": 16,
    "start_time": "2023-08-16T07:17:11.221Z"
   },
   {
    "duration": 187,
    "start_time": "2023-08-16T07:17:11.239Z"
   },
   {
    "duration": 28,
    "start_time": "2023-08-16T07:17:11.428Z"
   },
   {
    "duration": 13,
    "start_time": "2023-08-16T07:17:11.459Z"
   },
   {
    "duration": 18,
    "start_time": "2023-08-16T07:17:11.474Z"
   },
   {
    "duration": 30,
    "start_time": "2023-08-16T07:17:11.494Z"
   },
   {
    "duration": 175,
    "start_time": "2023-08-16T07:17:11.527Z"
   },
   {
    "duration": 256,
    "start_time": "2023-08-16T07:17:11.704Z"
   },
   {
    "duration": 173,
    "start_time": "2023-08-16T07:17:11.962Z"
   },
   {
    "duration": 180,
    "start_time": "2023-08-16T07:17:12.137Z"
   },
   {
    "duration": 22,
    "start_time": "2023-08-16T07:17:12.319Z"
   },
   {
    "duration": 33,
    "start_time": "2023-08-16T07:17:12.356Z"
   },
   {
    "duration": 20,
    "start_time": "2023-08-16T07:17:12.392Z"
   },
   {
    "duration": 14,
    "start_time": "2023-08-16T07:17:12.413Z"
   },
   {
    "duration": 29,
    "start_time": "2023-08-16T07:17:12.429Z"
   },
   {
    "duration": 144,
    "start_time": "2023-08-16T07:17:12.460Z"
   },
   {
    "duration": 5,
    "start_time": "2023-08-16T07:17:12.605Z"
   },
   {
    "duration": 10,
    "start_time": "2023-08-16T07:17:12.612Z"
   },
   {
    "duration": 13,
    "start_time": "2023-08-16T07:17:12.624Z"
   },
   {
    "duration": 14,
    "start_time": "2023-08-16T07:17:12.639Z"
   },
   {
    "duration": 30,
    "start_time": "2023-08-16T07:17:12.654Z"
   },
   {
    "duration": 4,
    "start_time": "2023-08-16T07:17:12.686Z"
   },
   {
    "duration": 255,
    "start_time": "2023-08-16T07:17:12.692Z"
   },
   {
    "duration": 10,
    "start_time": "2023-08-16T07:17:12.949Z"
   },
   {
    "duration": 10,
    "start_time": "2023-08-16T07:17:12.961Z"
   },
   {
    "duration": 8,
    "start_time": "2023-08-16T07:17:12.973Z"
   },
   {
    "duration": 4,
    "start_time": "2023-08-16T09:49:54.445Z"
   },
   {
    "duration": 30,
    "start_time": "2023-08-16T09:49:54.468Z"
   },
   {
    "duration": 4,
    "start_time": "2023-08-16T09:49:54.500Z"
   },
   {
    "duration": 12,
    "start_time": "2023-08-16T09:49:54.509Z"
   },
   {
    "duration": 22,
    "start_time": "2023-08-16T09:49:54.524Z"
   },
   {
    "duration": 262,
    "start_time": "2023-08-16T09:49:54.549Z"
   },
   {
    "duration": 28,
    "start_time": "2023-08-16T09:49:54.814Z"
   },
   {
    "duration": 15,
    "start_time": "2023-08-16T09:49:54.844Z"
   },
   {
    "duration": 14,
    "start_time": "2023-08-16T09:49:54.862Z"
   },
   {
    "duration": 192,
    "start_time": "2023-08-16T09:49:54.879Z"
   },
   {
    "duration": 172,
    "start_time": "2023-08-16T09:49:55.073Z"
   },
   {
    "duration": 25,
    "start_time": "2023-08-16T09:49:55.247Z"
   },
   {
    "duration": 31,
    "start_time": "2023-08-16T09:49:55.274Z"
   },
   {
    "duration": 21,
    "start_time": "2023-08-16T09:49:55.308Z"
   },
   {
    "duration": 170,
    "start_time": "2023-08-16T09:49:55.333Z"
   },
   {
    "duration": 7,
    "start_time": "2023-08-16T09:49:55.505Z"
   },
   {
    "duration": 11,
    "start_time": "2023-08-16T09:49:55.513Z"
   },
   {
    "duration": 13,
    "start_time": "2023-08-16T09:49:55.526Z"
   },
   {
    "duration": 8,
    "start_time": "2023-08-16T09:49:55.557Z"
   },
   {
    "duration": 9,
    "start_time": "2023-08-16T09:49:55.566Z"
   },
   {
    "duration": 24,
    "start_time": "2023-08-16T09:49:55.577Z"
   },
   {
    "duration": 12,
    "start_time": "2023-08-16T09:49:55.603Z"
   },
   {
    "duration": 7,
    "start_time": "2023-08-16T09:49:55.616Z"
   },
   {
    "duration": 35,
    "start_time": "2023-08-16T09:49:55.625Z"
   },
   {
    "duration": 6,
    "start_time": "2023-08-16T09:49:55.662Z"
   },
   {
    "duration": 21,
    "start_time": "2023-08-16T09:49:55.670Z"
   },
   {
    "duration": 19,
    "start_time": "2023-08-16T09:49:55.694Z"
   },
   {
    "duration": 143,
    "start_time": "2023-08-16T09:49:55.715Z"
   },
   {
    "duration": 5,
    "start_time": "2023-08-16T09:49:55.860Z"
   },
   {
    "duration": 7,
    "start_time": "2023-08-16T09:49:58.098Z"
   },
   {
    "duration": 309,
    "start_time": "2023-08-16T09:49:58.107Z"
   },
   {
    "duration": 16,
    "start_time": "2023-08-16T09:49:58.418Z"
   },
   {
    "duration": 316,
    "start_time": "2023-08-16T09:49:58.435Z"
   },
   {
    "duration": 14,
    "start_time": "2023-08-16T09:49:58.757Z"
   },
   {
    "duration": 248,
    "start_time": "2023-08-16T09:49:58.772Z"
   },
   {
    "duration": 33,
    "start_time": "2023-08-16T09:49:59.023Z"
   },
   {
    "duration": 16,
    "start_time": "2023-08-16T09:49:59.059Z"
   },
   {
    "duration": 15,
    "start_time": "2023-08-16T09:49:59.077Z"
   },
   {
    "duration": 22,
    "start_time": "2023-08-16T09:49:59.094Z"
   },
   {
    "duration": 185,
    "start_time": "2023-08-16T09:49:59.119Z"
   },
   {
    "duration": 188,
    "start_time": "2023-08-16T09:49:59.306Z"
   },
   {
    "duration": 198,
    "start_time": "2023-08-16T09:49:59.496Z"
   },
   {
    "duration": 198,
    "start_time": "2023-08-16T09:49:59.697Z"
   },
   {
    "duration": 23,
    "start_time": "2023-08-16T09:49:59.897Z"
   },
   {
    "duration": 41,
    "start_time": "2023-08-16T09:49:59.922Z"
   },
   {
    "duration": 18,
    "start_time": "2023-08-16T09:49:59.965Z"
   },
   {
    "duration": 16,
    "start_time": "2023-08-16T09:49:59.985Z"
   },
   {
    "duration": 5,
    "start_time": "2023-08-16T09:50:00.003Z"
   },
   {
    "duration": 216,
    "start_time": "2023-08-16T09:50:00.010Z"
   },
   {
    "duration": 5,
    "start_time": "2023-08-16T09:50:00.228Z"
   },
   {
    "duration": 55,
    "start_time": "2023-08-16T09:50:00.236Z"
   },
   {
    "duration": 118,
    "start_time": "2023-08-16T09:50:00.294Z"
   },
   {
    "duration": 90,
    "start_time": "2023-08-16T09:50:00.415Z"
   },
   {
    "duration": 42,
    "start_time": "2023-08-16T09:50:00.506Z"
   },
   {
    "duration": 105,
    "start_time": "2023-08-16T09:50:00.551Z"
   },
   {
    "duration": 328,
    "start_time": "2023-08-16T09:50:00.658Z"
   },
   {
    "duration": 6,
    "start_time": "2023-08-16T09:50:00.988Z"
   },
   {
    "duration": 39,
    "start_time": "2023-08-16T09:50:00.995Z"
   },
   {
    "duration": 54,
    "start_time": "2023-08-16T09:50:01.036Z"
   },
   {
    "duration": 1329,
    "start_time": "2023-08-16T11:38:14.274Z"
   },
   {
    "duration": 156,
    "start_time": "2023-08-16T11:38:15.606Z"
   },
   {
    "duration": 3,
    "start_time": "2023-08-16T11:38:15.764Z"
   },
   {
    "duration": 38,
    "start_time": "2023-08-16T11:38:15.769Z"
   },
   {
    "duration": 87,
    "start_time": "2023-08-16T11:38:15.810Z"
   },
   {
    "duration": 253,
    "start_time": "2023-08-16T11:38:15.899Z"
   },
   {
    "duration": 157,
    "start_time": "2023-08-16T11:38:16.153Z"
   },
   {
    "duration": 9,
    "start_time": "2023-08-16T11:38:16.312Z"
   },
   {
    "duration": 44,
    "start_time": "2023-08-16T11:38:16.323Z"
   },
   {
    "duration": 167,
    "start_time": "2023-08-16T11:38:16.369Z"
   },
   {
    "duration": 171,
    "start_time": "2023-08-16T11:38:16.538Z"
   },
   {
    "duration": 69,
    "start_time": "2023-08-16T11:38:16.710Z"
   },
   {
    "duration": 8,
    "start_time": "2023-08-16T11:38:16.781Z"
   },
   {
    "duration": 76,
    "start_time": "2023-08-16T11:38:16.792Z"
   },
   {
    "duration": 233,
    "start_time": "2023-08-16T11:38:16.870Z"
   },
   {
    "duration": 63,
    "start_time": "2023-08-16T11:38:17.105Z"
   },
   {
    "duration": 23,
    "start_time": "2023-08-16T11:38:17.170Z"
   },
   {
    "duration": 7,
    "start_time": "2023-08-16T11:38:17.194Z"
   },
   {
    "duration": 6,
    "start_time": "2023-08-16T11:38:17.203Z"
   },
   {
    "duration": 58,
    "start_time": "2023-08-16T11:38:17.210Z"
   },
   {
    "duration": 14,
    "start_time": "2023-08-16T11:38:17.269Z"
   },
   {
    "duration": 88,
    "start_time": "2023-08-16T11:38:17.284Z"
   },
   {
    "duration": 97,
    "start_time": "2023-08-16T11:38:17.374Z"
   },
   {
    "duration": 18,
    "start_time": "2023-08-16T11:38:17.473Z"
   },
   {
    "duration": 18,
    "start_time": "2023-08-16T11:38:17.493Z"
   },
   {
    "duration": 14,
    "start_time": "2023-08-16T11:38:17.513Z"
   },
   {
    "duration": 7,
    "start_time": "2023-08-16T11:38:17.567Z"
   },
   {
    "duration": 296,
    "start_time": "2023-08-16T11:38:17.575Z"
   },
   {
    "duration": 6,
    "start_time": "2023-08-16T11:38:17.872Z"
   },
   {
    "duration": 22,
    "start_time": "2023-08-16T11:38:17.880Z"
   },
   {
    "duration": 564,
    "start_time": "2023-08-16T11:38:17.904Z"
   },
   {
    "duration": 15,
    "start_time": "2023-08-16T11:38:18.470Z"
   },
   {
    "duration": 255,
    "start_time": "2023-08-16T11:38:18.487Z"
   },
   {
    "duration": 29,
    "start_time": "2023-08-16T11:38:18.744Z"
   },
   {
    "duration": 225,
    "start_time": "2023-08-16T11:38:18.775Z"
   },
   {
    "duration": 19,
    "start_time": "2023-08-16T11:38:19.002Z"
   },
   {
    "duration": 33,
    "start_time": "2023-08-16T11:38:19.022Z"
   },
   {
    "duration": 84,
    "start_time": "2023-08-16T11:38:19.057Z"
   },
   {
    "duration": 22,
    "start_time": "2023-08-16T11:38:19.142Z"
   },
   {
    "duration": 308,
    "start_time": "2023-08-16T11:38:19.166Z"
   },
   {
    "duration": 286,
    "start_time": "2023-08-16T11:38:19.478Z"
   },
   {
    "duration": 190,
    "start_time": "2023-08-16T11:38:19.767Z"
   },
   {
    "duration": 210,
    "start_time": "2023-08-16T11:38:19.959Z"
   },
   {
    "duration": 22,
    "start_time": "2023-08-16T11:38:20.171Z"
   },
   {
    "duration": 33,
    "start_time": "2023-08-16T11:38:20.194Z"
   },
   {
    "duration": 17,
    "start_time": "2023-08-16T11:38:20.229Z"
   },
   {
    "duration": 31,
    "start_time": "2023-08-16T11:38:20.248Z"
   },
   {
    "duration": 7,
    "start_time": "2023-08-16T11:38:20.281Z"
   },
   {
    "duration": 160,
    "start_time": "2023-08-16T11:38:20.290Z"
   },
   {
    "duration": 4,
    "start_time": "2023-08-16T11:38:20.452Z"
   },
   {
    "duration": 13,
    "start_time": "2023-08-16T11:38:20.467Z"
   },
   {
    "duration": 86,
    "start_time": "2023-08-16T11:38:20.481Z"
   },
   {
    "duration": 24,
    "start_time": "2023-08-16T11:38:20.569Z"
   },
   {
    "duration": 32,
    "start_time": "2023-08-16T11:38:20.594Z"
   },
   {
    "duration": 33,
    "start_time": "2023-08-16T11:38:20.627Z"
   },
   {
    "duration": 265,
    "start_time": "2023-08-16T11:38:20.662Z"
   },
   {
    "duration": 6,
    "start_time": "2023-08-16T11:38:20.929Z"
   },
   {
    "duration": 25,
    "start_time": "2023-08-16T11:38:20.936Z"
   },
   {
    "duration": 27,
    "start_time": "2023-08-16T11:38:20.963Z"
   },
   {
    "duration": 7,
    "start_time": "2023-08-16T11:39:28.421Z"
   },
   {
    "duration": 5,
    "start_time": "2023-08-16T11:57:54.353Z"
   },
   {
    "duration": 6,
    "start_time": "2023-08-16T11:59:29.533Z"
   },
   {
    "duration": 7,
    "start_time": "2023-08-16T12:01:32.734Z"
   },
   {
    "duration": 6,
    "start_time": "2023-08-16T12:01:38.624Z"
   },
   {
    "duration": 16,
    "start_time": "2023-08-16T12:06:21.366Z"
   },
   {
    "duration": 4,
    "start_time": "2023-08-16T12:14:59.259Z"
   },
   {
    "duration": 29,
    "start_time": "2023-08-16T12:14:59.268Z"
   },
   {
    "duration": 3,
    "start_time": "2023-08-16T12:14:59.299Z"
   },
   {
    "duration": 9,
    "start_time": "2023-08-16T12:14:59.348Z"
   },
   {
    "duration": 16,
    "start_time": "2023-08-16T12:14:59.359Z"
   },
   {
    "duration": 169,
    "start_time": "2023-08-16T12:14:59.385Z"
   },
   {
    "duration": 27,
    "start_time": "2023-08-16T12:14:59.566Z"
   },
   {
    "duration": 21,
    "start_time": "2023-08-16T12:14:59.595Z"
   },
   {
    "duration": 39,
    "start_time": "2023-08-16T12:14:59.617Z"
   },
   {
    "duration": 170,
    "start_time": "2023-08-16T12:14:59.657Z"
   },
   {
    "duration": 183,
    "start_time": "2023-08-16T12:14:59.829Z"
   },
   {
    "duration": 16,
    "start_time": "2023-08-16T12:15:00.014Z"
   },
   {
    "duration": 44,
    "start_time": "2023-08-16T12:15:00.032Z"
   },
   {
    "duration": 59,
    "start_time": "2023-08-16T12:15:00.078Z"
   },
   {
    "duration": 182,
    "start_time": "2023-08-16T12:15:00.138Z"
   },
   {
    "duration": 8,
    "start_time": "2023-08-16T12:15:00.321Z"
   },
   {
    "duration": 100,
    "start_time": "2023-08-16T12:15:00.330Z"
   },
   {
    "duration": 101,
    "start_time": "2023-08-16T12:15:00.432Z"
   },
   {
    "duration": 41,
    "start_time": "2023-08-16T12:15:00.535Z"
   },
   {
    "duration": 70,
    "start_time": "2023-08-16T12:15:00.578Z"
   },
   {
    "duration": 58,
    "start_time": "2023-08-16T12:15:00.651Z"
   },
   {
    "duration": 35,
    "start_time": "2023-08-16T12:15:00.710Z"
   },
   {
    "duration": 32,
    "start_time": "2023-08-16T12:15:00.747Z"
   },
   {
    "duration": 48,
    "start_time": "2023-08-16T12:15:00.781Z"
   },
   {
    "duration": 38,
    "start_time": "2023-08-16T12:15:00.831Z"
   },
   {
    "duration": 43,
    "start_time": "2023-08-16T12:15:00.872Z"
   },
   {
    "duration": 35,
    "start_time": "2023-08-16T12:15:00.917Z"
   },
   {
    "duration": 164,
    "start_time": "2023-08-16T12:15:00.954Z"
   },
   {
    "duration": 5,
    "start_time": "2023-08-16T12:15:01.120Z"
   },
   {
    "duration": 52,
    "start_time": "2023-08-16T12:15:01.127Z"
   },
   {
    "duration": 292,
    "start_time": "2023-08-16T12:15:01.180Z"
   },
   {
    "duration": 14,
    "start_time": "2023-08-16T12:15:01.474Z"
   },
   {
    "duration": 368,
    "start_time": "2023-08-16T12:15:01.490Z"
   },
   {
    "duration": 19,
    "start_time": "2023-08-16T12:15:01.860Z"
   },
   {
    "duration": 345,
    "start_time": "2023-08-16T12:15:01.881Z"
   },
   {
    "duration": 19,
    "start_time": "2023-08-16T12:15:02.228Z"
   },
   {
    "duration": 77,
    "start_time": "2023-08-16T12:15:02.250Z"
   },
   {
    "duration": 43,
    "start_time": "2023-08-16T12:15:02.329Z"
   },
   {
    "duration": 71,
    "start_time": "2023-08-16T12:15:02.374Z"
   },
   {
    "duration": 209,
    "start_time": "2023-08-16T12:15:02.447Z"
   },
   {
    "duration": 190,
    "start_time": "2023-08-16T12:15:02.658Z"
   },
   {
    "duration": 198,
    "start_time": "2023-08-16T12:15:02.850Z"
   },
   {
    "duration": 201,
    "start_time": "2023-08-16T12:15:03.049Z"
   },
   {
    "duration": 27,
    "start_time": "2023-08-16T12:15:03.252Z"
   },
   {
    "duration": 54,
    "start_time": "2023-08-16T12:15:03.284Z"
   },
   {
    "duration": 20,
    "start_time": "2023-08-16T12:15:03.340Z"
   },
   {
    "duration": 24,
    "start_time": "2023-08-16T12:15:03.362Z"
   },
   {
    "duration": 25,
    "start_time": "2023-08-16T12:15:03.388Z"
   },
   {
    "duration": 161,
    "start_time": "2023-08-16T12:15:03.415Z"
   },
   {
    "duration": 6,
    "start_time": "2023-08-16T12:15:03.578Z"
   },
   {
    "duration": 56,
    "start_time": "2023-08-16T12:15:03.585Z"
   },
   {
    "duration": 26,
    "start_time": "2023-08-16T12:15:03.642Z"
   },
   {
    "duration": 18,
    "start_time": "2023-08-16T12:15:03.670Z"
   },
   {
    "duration": 48,
    "start_time": "2023-08-16T12:15:03.689Z"
   },
   {
    "duration": 8,
    "start_time": "2023-08-16T12:15:03.739Z"
   },
   {
    "duration": 313,
    "start_time": "2023-08-16T12:15:03.749Z"
   },
   {
    "duration": 7,
    "start_time": "2023-08-16T12:15:04.064Z"
   },
   {
    "duration": 14,
    "start_time": "2023-08-16T12:15:04.073Z"
   },
   {
    "duration": 32,
    "start_time": "2023-08-16T12:15:04.089Z"
   },
   {
    "duration": 4,
    "start_time": "2023-08-16T12:16:42.829Z"
   },
   {
    "duration": 29,
    "start_time": "2023-08-16T12:16:42.848Z"
   },
   {
    "duration": 3,
    "start_time": "2023-08-16T12:16:42.880Z"
   },
   {
    "duration": 17,
    "start_time": "2023-08-16T12:16:42.885Z"
   },
   {
    "duration": 24,
    "start_time": "2023-08-16T12:16:42.905Z"
   },
   {
    "duration": 176,
    "start_time": "2023-08-16T12:16:42.931Z"
   },
   {
    "duration": 25,
    "start_time": "2023-08-16T12:16:43.109Z"
   },
   {
    "duration": 9,
    "start_time": "2023-08-16T12:16:43.136Z"
   },
   {
    "duration": 35,
    "start_time": "2023-08-16T12:16:43.147Z"
   },
   {
    "duration": 207,
    "start_time": "2023-08-16T12:16:43.185Z"
   },
   {
    "duration": 164,
    "start_time": "2023-08-16T12:16:43.394Z"
   },
   {
    "duration": 15,
    "start_time": "2023-08-16T12:16:43.560Z"
   },
   {
    "duration": 10,
    "start_time": "2023-08-16T12:16:43.577Z"
   },
   {
    "duration": 18,
    "start_time": "2023-08-16T12:16:43.589Z"
   },
   {
    "duration": 265,
    "start_time": "2023-08-16T12:16:43.609Z"
   },
   {
    "duration": 10,
    "start_time": "2023-08-16T12:16:43.875Z"
   },
   {
    "duration": 20,
    "start_time": "2023-08-16T12:16:43.887Z"
   },
   {
    "duration": 13,
    "start_time": "2023-08-16T12:16:43.909Z"
   },
   {
    "duration": 43,
    "start_time": "2023-08-16T12:16:43.926Z"
   },
   {
    "duration": 9,
    "start_time": "2023-08-16T12:16:43.971Z"
   },
   {
    "duration": 42,
    "start_time": "2023-08-16T12:16:43.982Z"
   },
   {
    "duration": 12,
    "start_time": "2023-08-16T12:16:44.026Z"
   },
   {
    "duration": 27,
    "start_time": "2023-08-16T12:16:44.041Z"
   },
   {
    "duration": 21,
    "start_time": "2023-08-16T12:16:44.071Z"
   },
   {
    "duration": 22,
    "start_time": "2023-08-16T12:16:44.094Z"
   },
   {
    "duration": 13,
    "start_time": "2023-08-16T12:16:44.118Z"
   },
   {
    "duration": 21,
    "start_time": "2023-08-16T12:16:44.133Z"
   },
   {
    "duration": 176,
    "start_time": "2023-08-16T12:16:44.155Z"
   },
   {
    "duration": 5,
    "start_time": "2023-08-16T12:16:44.333Z"
   },
   {
    "duration": 10,
    "start_time": "2023-08-16T12:16:44.339Z"
   },
   {
    "duration": 291,
    "start_time": "2023-08-16T12:16:44.350Z"
   },
   {
    "duration": 24,
    "start_time": "2023-08-16T12:16:44.643Z"
   },
   {
    "duration": 190,
    "start_time": "2023-08-16T12:16:44.669Z"
   },
   {
    "duration": 15,
    "start_time": "2023-08-16T12:16:44.867Z"
   },
   {
    "duration": 230,
    "start_time": "2023-08-16T12:16:44.884Z"
   },
   {
    "duration": 20,
    "start_time": "2023-08-16T12:16:45.116Z"
   },
   {
    "duration": 13,
    "start_time": "2023-08-16T12:16:45.138Z"
   },
   {
    "duration": 39,
    "start_time": "2023-08-16T12:16:45.168Z"
   },
   {
    "duration": 9,
    "start_time": "2023-08-16T12:16:45.209Z"
   },
   {
    "duration": 173,
    "start_time": "2023-08-16T12:16:45.220Z"
   },
   {
    "duration": 190,
    "start_time": "2023-08-16T12:16:45.395Z"
   },
   {
    "duration": 193,
    "start_time": "2023-08-16T12:16:45.587Z"
   },
   {
    "duration": 202,
    "start_time": "2023-08-16T12:16:45.782Z"
   },
   {
    "duration": 22,
    "start_time": "2023-08-16T12:16:45.986Z"
   },
   {
    "duration": 26,
    "start_time": "2023-08-16T12:16:46.009Z"
   },
   {
    "duration": 23,
    "start_time": "2023-08-16T12:16:46.067Z"
   },
   {
    "duration": 15,
    "start_time": "2023-08-16T12:16:46.092Z"
   },
   {
    "duration": 6,
    "start_time": "2023-08-16T12:16:46.109Z"
   },
   {
    "duration": 175,
    "start_time": "2023-08-16T12:16:46.119Z"
   },
   {
    "duration": 6,
    "start_time": "2023-08-16T12:16:46.296Z"
   },
   {
    "duration": 16,
    "start_time": "2023-08-16T12:16:46.304Z"
   },
   {
    "duration": 15,
    "start_time": "2023-08-16T12:16:46.322Z"
   },
   {
    "duration": 7,
    "start_time": "2023-08-16T12:16:46.339Z"
   },
   {
    "duration": 27,
    "start_time": "2023-08-16T12:16:46.347Z"
   },
   {
    "duration": 6,
    "start_time": "2023-08-16T12:16:46.376Z"
   },
   {
    "duration": 305,
    "start_time": "2023-08-16T12:16:46.384Z"
   },
   {
    "duration": 8,
    "start_time": "2023-08-16T12:16:46.691Z"
   },
   {
    "duration": 31,
    "start_time": "2023-08-16T12:16:46.701Z"
   },
   {
    "duration": 24,
    "start_time": "2023-08-16T12:16:46.735Z"
   },
   {
    "duration": 1125,
    "start_time": "2023-08-16T16:28:51.363Z"
   },
   {
    "duration": 133,
    "start_time": "2023-08-16T16:28:52.490Z"
   },
   {
    "duration": 3,
    "start_time": "2023-08-16T16:28:52.624Z"
   },
   {
    "duration": 20,
    "start_time": "2023-08-16T16:28:52.629Z"
   },
   {
    "duration": 14,
    "start_time": "2023-08-16T16:28:52.651Z"
   },
   {
    "duration": 182,
    "start_time": "2023-08-16T16:28:52.667Z"
   },
   {
    "duration": 71,
    "start_time": "2023-08-16T16:28:52.851Z"
   },
   {
    "duration": 10,
    "start_time": "2023-08-16T16:28:52.923Z"
   },
   {
    "duration": 23,
    "start_time": "2023-08-16T16:28:52.935Z"
   },
   {
    "duration": 168,
    "start_time": "2023-08-16T16:28:52.961Z"
   },
   {
    "duration": 165,
    "start_time": "2023-08-16T16:28:53.131Z"
   },
   {
    "duration": 53,
    "start_time": "2023-08-16T16:28:53.298Z"
   },
   {
    "duration": 7,
    "start_time": "2023-08-16T16:28:53.353Z"
   },
   {
    "duration": 28,
    "start_time": "2023-08-16T16:28:53.361Z"
   },
   {
    "duration": 121,
    "start_time": "2023-08-16T16:28:53.391Z"
   },
   {
    "duration": 7,
    "start_time": "2023-08-16T16:28:53.514Z"
   },
   {
    "duration": 24,
    "start_time": "2023-08-16T16:28:53.523Z"
   },
   {
    "duration": 12,
    "start_time": "2023-08-16T16:28:53.549Z"
   },
   {
    "duration": 11,
    "start_time": "2023-08-16T16:28:53.563Z"
   },
   {
    "duration": 12,
    "start_time": "2023-08-16T16:28:53.576Z"
   },
   {
    "duration": 19,
    "start_time": "2023-08-16T16:28:53.589Z"
   },
   {
    "duration": 8,
    "start_time": "2023-08-16T16:28:53.610Z"
   },
   {
    "duration": 11,
    "start_time": "2023-08-16T16:28:53.620Z"
   },
   {
    "duration": 18,
    "start_time": "2023-08-16T16:28:53.632Z"
   },
   {
    "duration": 16,
    "start_time": "2023-08-16T16:28:53.651Z"
   },
   {
    "duration": 13,
    "start_time": "2023-08-16T16:28:53.669Z"
   },
   {
    "duration": 15,
    "start_time": "2023-08-16T16:28:53.683Z"
   },
   {
    "duration": 146,
    "start_time": "2023-08-16T16:28:53.702Z"
   },
   {
    "duration": 5,
    "start_time": "2023-08-16T16:28:53.849Z"
   },
   {
    "duration": 17,
    "start_time": "2023-08-16T16:28:53.856Z"
   },
   {
    "duration": 252,
    "start_time": "2023-08-16T16:28:53.875Z"
   },
   {
    "duration": 15,
    "start_time": "2023-08-16T16:28:54.129Z"
   },
   {
    "duration": 185,
    "start_time": "2023-08-16T16:28:54.146Z"
   },
   {
    "duration": 14,
    "start_time": "2023-08-16T16:28:54.333Z"
   },
   {
    "duration": 185,
    "start_time": "2023-08-16T16:28:54.348Z"
   },
   {
    "duration": 20,
    "start_time": "2023-08-16T16:28:54.535Z"
   },
   {
    "duration": 15,
    "start_time": "2023-08-16T16:28:54.556Z"
   },
   {
    "duration": 10,
    "start_time": "2023-08-16T16:28:54.595Z"
   },
   {
    "duration": 12,
    "start_time": "2023-08-16T16:28:54.606Z"
   },
   {
    "duration": 162,
    "start_time": "2023-08-16T16:28:54.620Z"
   },
   {
    "duration": 266,
    "start_time": "2023-08-16T16:28:54.783Z"
   },
   {
    "duration": 175,
    "start_time": "2023-08-16T16:28:55.051Z"
   },
   {
    "duration": 204,
    "start_time": "2023-08-16T16:28:55.228Z"
   },
   {
    "duration": 29,
    "start_time": "2023-08-16T16:28:55.434Z"
   },
   {
    "duration": 48,
    "start_time": "2023-08-16T16:28:55.464Z"
   },
   {
    "duration": 26,
    "start_time": "2023-08-16T16:28:55.514Z"
   },
   {
    "duration": 16,
    "start_time": "2023-08-16T16:28:55.542Z"
   },
   {
    "duration": 5,
    "start_time": "2023-08-16T16:28:55.561Z"
   },
   {
    "duration": 169,
    "start_time": "2023-08-16T16:28:55.569Z"
   },
   {
    "duration": 5,
    "start_time": "2023-08-16T16:28:55.740Z"
   },
   {
    "duration": 18,
    "start_time": "2023-08-16T16:28:55.747Z"
   },
   {
    "duration": 11,
    "start_time": "2023-08-16T16:28:55.767Z"
   },
   {
    "duration": 15,
    "start_time": "2023-08-16T16:28:55.780Z"
   },
   {
    "duration": 24,
    "start_time": "2023-08-16T16:28:55.796Z"
   },
   {
    "duration": 11,
    "start_time": "2023-08-16T16:28:55.822Z"
   },
   {
    "duration": 256,
    "start_time": "2023-08-16T16:28:55.834Z"
   },
   {
    "duration": 5,
    "start_time": "2023-08-16T16:28:56.095Z"
   },
   {
    "duration": 15,
    "start_time": "2023-08-16T16:28:56.102Z"
   },
   {
    "duration": 9,
    "start_time": "2023-08-16T16:28:56.119Z"
   },
   {
    "duration": 5,
    "start_time": "2023-08-16T16:42:10.749Z"
   },
   {
    "duration": 5,
    "start_time": "2023-08-16T16:42:26.232Z"
   },
   {
    "duration": 5,
    "start_time": "2023-08-16T16:42:31.606Z"
   },
   {
    "duration": 6,
    "start_time": "2023-08-16T16:42:37.495Z"
   },
   {
    "duration": 5,
    "start_time": "2023-08-16T16:42:44.670Z"
   },
   {
    "duration": 8,
    "start_time": "2023-08-16T16:43:03.670Z"
   },
   {
    "duration": 6,
    "start_time": "2023-08-16T16:44:35.914Z"
   },
   {
    "duration": 7,
    "start_time": "2023-08-16T16:44:45.973Z"
   },
   {
    "duration": 6,
    "start_time": "2023-08-16T16:44:51.605Z"
   },
   {
    "duration": 8,
    "start_time": "2023-08-16T16:46:12.773Z"
   },
   {
    "duration": 5,
    "start_time": "2023-08-16T16:46:28.392Z"
   },
   {
    "duration": 5,
    "start_time": "2023-08-16T16:46:35.888Z"
   },
   {
    "duration": 17,
    "start_time": "2023-08-16T16:52:15.698Z"
   },
   {
    "duration": 11,
    "start_time": "2023-08-16T16:52:30.636Z"
   },
   {
    "duration": 78,
    "start_time": "2023-08-16T17:12:34.297Z"
   },
   {
    "duration": 1446,
    "start_time": "2023-08-16T17:12:43.836Z"
   },
   {
    "duration": 207,
    "start_time": "2023-08-16T17:12:45.285Z"
   },
   {
    "duration": 4,
    "start_time": "2023-08-16T17:12:45.494Z"
   },
   {
    "duration": 54,
    "start_time": "2023-08-16T17:12:45.501Z"
   },
   {
    "duration": 24,
    "start_time": "2023-08-16T17:12:45.557Z"
   },
   {
    "duration": 267,
    "start_time": "2023-08-16T17:12:45.584Z"
   },
   {
    "duration": 183,
    "start_time": "2023-08-16T17:12:45.854Z"
   },
   {
    "duration": 159,
    "start_time": "2023-08-16T17:12:46.039Z"
   },
   {
    "duration": 113,
    "start_time": "2023-08-16T17:12:46.201Z"
   },
   {
    "duration": 262,
    "start_time": "2023-08-16T17:12:46.318Z"
   },
   {
    "duration": 269,
    "start_time": "2023-08-16T17:12:46.582Z"
   },
   {
    "duration": 68,
    "start_time": "2023-08-16T17:12:46.854Z"
   },
   {
    "duration": 11,
    "start_time": "2023-08-16T17:12:46.929Z"
   },
   {
    "duration": 35,
    "start_time": "2023-08-16T17:12:46.942Z"
   },
   {
    "duration": 175,
    "start_time": "2023-08-16T17:12:46.979Z"
   },
   {
    "duration": 11,
    "start_time": "2023-08-16T17:12:47.156Z"
   },
   {
    "duration": 22,
    "start_time": "2023-08-16T17:12:47.170Z"
   },
   {
    "duration": 21,
    "start_time": "2023-08-16T17:12:47.195Z"
   },
   {
    "duration": 23,
    "start_time": "2023-08-16T17:12:47.218Z"
   },
   {
    "duration": 40,
    "start_time": "2023-08-16T17:12:47.243Z"
   },
   {
    "duration": 37,
    "start_time": "2023-08-16T17:12:47.285Z"
   },
   {
    "duration": 12,
    "start_time": "2023-08-16T17:12:47.324Z"
   },
   {
    "duration": 28,
    "start_time": "2023-08-16T17:12:47.338Z"
   },
   {
    "duration": 38,
    "start_time": "2023-08-16T17:12:47.368Z"
   },
   {
    "duration": 21,
    "start_time": "2023-08-16T17:12:47.408Z"
   },
   {
    "duration": 16,
    "start_time": "2023-08-16T17:12:47.432Z"
   },
   {
    "duration": 26,
    "start_time": "2023-08-16T17:12:47.450Z"
   },
   {
    "duration": 183,
    "start_time": "2023-08-16T17:12:47.481Z"
   },
   {
    "duration": 6,
    "start_time": "2023-08-16T17:12:47.667Z"
   },
   {
    "duration": 90,
    "start_time": "2023-08-16T17:12:47.675Z"
   },
   {
    "duration": 605,
    "start_time": "2023-08-16T17:12:47.768Z"
   },
   {
    "duration": 43,
    "start_time": "2023-08-16T17:12:48.379Z"
   },
   {
    "duration": 416,
    "start_time": "2023-08-16T17:12:48.425Z"
   },
   {
    "duration": 20,
    "start_time": "2023-08-16T17:12:48.845Z"
   },
   {
    "duration": 509,
    "start_time": "2023-08-16T17:12:48.870Z"
   },
   {
    "duration": 35,
    "start_time": "2023-08-16T17:12:49.382Z"
   },
   {
    "duration": 116,
    "start_time": "2023-08-16T17:12:49.420Z"
   },
   {
    "duration": 64,
    "start_time": "2023-08-16T17:12:49.538Z"
   },
   {
    "duration": 40,
    "start_time": "2023-08-16T17:12:49.604Z"
   },
   {
    "duration": 243,
    "start_time": "2023-08-16T17:12:49.651Z"
   },
   {
    "duration": 364,
    "start_time": "2023-08-16T17:12:49.896Z"
   },
   {
    "duration": 257,
    "start_time": "2023-08-16T17:12:50.263Z"
   },
   {
    "duration": 276,
    "start_time": "2023-08-16T17:12:50.522Z"
   },
   {
    "duration": 38,
    "start_time": "2023-08-16T17:12:50.800Z"
   },
   {
    "duration": 89,
    "start_time": "2023-08-16T17:12:50.840Z"
   },
   {
    "duration": 119,
    "start_time": "2023-08-16T17:12:50.931Z"
   },
   {
    "duration": 195,
    "start_time": "2023-08-16T17:12:51.053Z"
   },
   {
    "duration": 157,
    "start_time": "2023-08-16T17:12:51.251Z"
   },
   {
    "duration": 323,
    "start_time": "2023-08-16T17:12:51.411Z"
   },
   {
    "duration": 11,
    "start_time": "2023-08-16T17:12:51.737Z"
   },
   {
    "duration": 171,
    "start_time": "2023-08-16T17:12:51.751Z"
   },
   {
    "duration": 145,
    "start_time": "2023-08-16T17:12:51.925Z"
   },
   {
    "duration": 65,
    "start_time": "2023-08-16T17:12:52.073Z"
   },
   {
    "duration": 87,
    "start_time": "2023-08-16T17:12:52.140Z"
   },
   {
    "duration": 72,
    "start_time": "2023-08-16T17:12:52.233Z"
   },
   {
    "duration": 417,
    "start_time": "2023-08-16T17:12:52.307Z"
   },
   {
    "duration": 14,
    "start_time": "2023-08-16T17:12:52.727Z"
   },
   {
    "duration": 35,
    "start_time": "2023-08-16T17:12:52.743Z"
   },
   {
    "duration": 40,
    "start_time": "2023-08-16T17:12:52.780Z"
   },
   {
    "duration": 11,
    "start_time": "2023-08-16T17:13:06.031Z"
   },
   {
    "duration": 20,
    "start_time": "2023-08-16T17:13:16.684Z"
   },
   {
    "duration": 8,
    "start_time": "2023-08-16T17:20:30.939Z"
   },
   {
    "duration": 10,
    "start_time": "2023-08-16T17:20:38.494Z"
   },
   {
    "duration": 20,
    "start_time": "2023-08-16T17:22:24.570Z"
   },
   {
    "duration": 9,
    "start_time": "2023-08-16T17:25:48.040Z"
   },
   {
    "duration": 16,
    "start_time": "2023-08-16T17:25:55.300Z"
   },
   {
    "duration": 15,
    "start_time": "2023-08-16T17:28:18.342Z"
   },
   {
    "duration": 15,
    "start_time": "2023-08-16T17:29:13.869Z"
   },
   {
    "duration": 15,
    "start_time": "2023-08-16T17:36:42.592Z"
   },
   {
    "duration": 18,
    "start_time": "2023-08-16T17:37:26.660Z"
   },
   {
    "duration": 239,
    "start_time": "2023-08-16T17:37:52.427Z"
   },
   {
    "duration": 349,
    "start_time": "2023-08-16T17:38:12.290Z"
   },
   {
    "duration": 23,
    "start_time": "2023-08-16T17:40:34.611Z"
   },
   {
    "duration": 17,
    "start_time": "2023-08-16T17:50:39.521Z"
   },
   {
    "duration": 18,
    "start_time": "2023-08-16T17:51:57.451Z"
   },
   {
    "duration": 8,
    "start_time": "2023-08-16T17:53:54.748Z"
   }
  ],
  "kernelspec": {
   "display_name": "Python 3 (ipykernel)",
   "language": "python",
   "name": "python3"
  },
  "language_info": {
   "codemirror_mode": {
    "name": "ipython",
    "version": 3
   },
   "file_extension": ".py",
   "mimetype": "text/x-python",
   "name": "python",
   "nbconvert_exporter": "python",
   "pygments_lexer": "ipython3",
   "version": "3.10.13"
  },
  "toc": {
   "base_numbering": 1,
   "nav_menu": {},
   "number_sections": true,
   "sideBar": true,
   "skip_h1_title": true,
   "title_cell": "Table of Contents",
   "title_sidebar": "Contents",
   "toc_cell": false,
   "toc_position": {
    "height": "calc(100% - 180px)",
    "left": "10px",
    "top": "150px",
    "width": "260.188px"
   },
   "toc_section_display": true,
   "toc_window_display": true
  }
 },
 "nbformat": 4,
 "nbformat_minor": 5
}
