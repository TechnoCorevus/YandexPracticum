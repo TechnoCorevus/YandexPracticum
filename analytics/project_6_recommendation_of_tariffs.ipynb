{
 "cells": [
  {
   "cell_type": "markdown",
   "id": "4dd1adfe",
   "metadata": {},
   "source": [
    "**Описание проекта**\n",
    "\n",
    "Оператор мобильной связи «Мегалайн» выяснил: многие клиенты пользуются архивными тарифами. Они хотят построить систему, способную проанализировать поведение клиентов и предложить пользователям новый тариф: «Смарт» или «Ультра».\n",
    "\n",
    "Нужно построить модель с максимально большим значением accuracy. Необходимо довести долю правильных ответов по крайней мере до 0.75."
   ]
  },
  {
   "cell_type": "code",
   "execution_count": 18,
   "id": "8d3dd41b",
   "metadata": {},
   "outputs": [],
   "source": [
    "import pandas as pd\n",
    "from sklearn.tree import DecisionTreeClassifier\n",
    "from sklearn.model_selection import train_test_split\n",
    "from sklearn.tree import DecisionTreeClassifier\n",
    "from sklearn.ensemble import RandomForestClassifier\n",
    "from sklearn.linear_model import LogisticRegression\n",
    "from sklearn.metrics import accuracy_score\n",
    "from sklearn.model_selection import train_test_split\n",
    "from sklearn.metrics import mean_squared_error\n",
    "import seaborn as sns\n",
    "from sklearn.dummy import DummyClassifier"
   ]
  },
  {
   "cell_type": "markdown",
   "id": "d4afd52c",
   "metadata": {},
   "source": [
    "Выведем датасет для проверки"
   ]
  },
  {
   "cell_type": "code",
   "execution_count": 19,
   "id": "200fde21",
   "metadata": {},
   "outputs": [],
   "source": [
    "try:\n",
    "    df = pd.read_csv('/datasets/users_behavior.csv')\n",
    "except:\n",
    "    df = pd.read_csv(\"C:\\\\DS\\\\YP\\\\S9\\\\users_behavior.csv\")"
   ]
  },
  {
   "cell_type": "code",
   "execution_count": 20,
   "id": "f6b52dec",
   "metadata": {},
   "outputs": [
    {
     "data": {
      "text/html": [
       "<div>\n",
       "<style scoped>\n",
       "    .dataframe tbody tr th:only-of-type {\n",
       "        vertical-align: middle;\n",
       "    }\n",
       "\n",
       "    .dataframe tbody tr th {\n",
       "        vertical-align: top;\n",
       "    }\n",
       "\n",
       "    .dataframe thead th {\n",
       "        text-align: right;\n",
       "    }\n",
       "</style>\n",
       "<table border=\"1\" class=\"dataframe\">\n",
       "  <thead>\n",
       "    <tr style=\"text-align: right;\">\n",
       "      <th></th>\n",
       "      <th>calls</th>\n",
       "      <th>minutes</th>\n",
       "      <th>messages</th>\n",
       "      <th>mb_used</th>\n",
       "      <th>is_ultra</th>\n",
       "    </tr>\n",
       "  </thead>\n",
       "  <tbody>\n",
       "    <tr>\n",
       "      <th>0</th>\n",
       "      <td>40.0</td>\n",
       "      <td>311.90</td>\n",
       "      <td>83.0</td>\n",
       "      <td>19915.42</td>\n",
       "      <td>0</td>\n",
       "    </tr>\n",
       "    <tr>\n",
       "      <th>1</th>\n",
       "      <td>85.0</td>\n",
       "      <td>516.75</td>\n",
       "      <td>56.0</td>\n",
       "      <td>22696.96</td>\n",
       "      <td>0</td>\n",
       "    </tr>\n",
       "    <tr>\n",
       "      <th>2</th>\n",
       "      <td>77.0</td>\n",
       "      <td>467.66</td>\n",
       "      <td>86.0</td>\n",
       "      <td>21060.45</td>\n",
       "      <td>0</td>\n",
       "    </tr>\n",
       "    <tr>\n",
       "      <th>3</th>\n",
       "      <td>106.0</td>\n",
       "      <td>745.53</td>\n",
       "      <td>81.0</td>\n",
       "      <td>8437.39</td>\n",
       "      <td>1</td>\n",
       "    </tr>\n",
       "    <tr>\n",
       "      <th>4</th>\n",
       "      <td>66.0</td>\n",
       "      <td>418.74</td>\n",
       "      <td>1.0</td>\n",
       "      <td>14502.75</td>\n",
       "      <td>0</td>\n",
       "    </tr>\n",
       "  </tbody>\n",
       "</table>\n",
       "</div>"
      ],
      "text/plain": [
       "   calls  minutes  messages   mb_used  is_ultra\n",
       "0   40.0   311.90      83.0  19915.42         0\n",
       "1   85.0   516.75      56.0  22696.96         0\n",
       "2   77.0   467.66      86.0  21060.45         0\n",
       "3  106.0   745.53      81.0   8437.39         1\n",
       "4   66.0   418.74       1.0  14502.75         0"
      ]
     },
     "execution_count": 20,
     "metadata": {},
     "output_type": "execute_result"
    }
   ],
   "source": [
    "df.head()"
   ]
  },
  {
   "cell_type": "markdown",
   "id": "a8eccdd1",
   "metadata": {},
   "source": [
    "**Описание данных**\n",
    "\n",
    "Каждый объект в наборе данных — это информация о поведении одного пользователя за месяц. Известно:\n",
    "\n",
    "сalls — количество звонков,\n",
    "\n",
    "minutes — суммарная длительность звонков в минутах,\n",
    "\n",
    "messages — количество sms-сообщений,\n",
    "\n",
    "mb_used — израсходованный интернет-трафик в Мб,\n",
    "\n",
    "is_ultra — каким тарифом пользовался в течение месяца («Ультра» — 1, «Смарт» — 0)."
   ]
  },
  {
   "cell_type": "markdown",
   "id": "300dbdb3",
   "metadata": {},
   "source": [
    "# 1. Подготовка данных"
   ]
  },
  {
   "cell_type": "markdown",
   "id": "95153876",
   "metadata": {},
   "source": [
    "Вывод инофрмации о датафрейме"
   ]
  },
  {
   "cell_type": "code",
   "execution_count": 21,
   "id": "4edc38c8",
   "metadata": {},
   "outputs": [
    {
     "name": "stdout",
     "output_type": "stream",
     "text": [
      "<class 'pandas.core.frame.DataFrame'>\n",
      "RangeIndex: 3214 entries, 0 to 3213\n",
      "Data columns (total 5 columns):\n",
      " #   Column    Non-Null Count  Dtype  \n",
      "---  ------    --------------  -----  \n",
      " 0   calls     3214 non-null   float64\n",
      " 1   minutes   3214 non-null   float64\n",
      " 2   messages  3214 non-null   float64\n",
      " 3   mb_used   3214 non-null   float64\n",
      " 4   is_ultra  3214 non-null   int64  \n",
      "dtypes: float64(4), int64(1)\n",
      "memory usage: 125.7 KB\n"
     ]
    }
   ],
   "source": [
    "df.info();"
   ]
  },
  {
   "cell_type": "markdown",
   "id": "2bffa6d3",
   "metadata": {},
   "source": [
    "Проверка на пропуски"
   ]
  },
  {
   "cell_type": "code",
   "execution_count": 22,
   "id": "5a56d41f",
   "metadata": {},
   "outputs": [
    {
     "data": {
      "text/plain": [
       "calls       0\n",
       "minutes     0\n",
       "messages    0\n",
       "mb_used     0\n",
       "is_ultra    0\n",
       "dtype: int64"
      ]
     },
     "execution_count": 22,
     "metadata": {},
     "output_type": "execute_result"
    }
   ],
   "source": [
    "df.isna().sum()"
   ]
  },
  {
   "cell_type": "markdown",
   "id": "156deb10",
   "metadata": {},
   "source": [
    "Проверка на дубликаты"
   ]
  },
  {
   "cell_type": "code",
   "execution_count": 23,
   "id": "0810d132",
   "metadata": {
    "scrolled": false
   },
   "outputs": [
    {
     "data": {
      "text/plain": [
       "0"
      ]
     },
     "execution_count": 23,
     "metadata": {},
     "output_type": "execute_result"
    }
   ],
   "source": [
    "df.duplicated().sum()"
   ]
  },
  {
   "cell_type": "markdown",
   "id": "5a640b68",
   "metadata": {},
   "source": [
    "Посмотрим описание на данных"
   ]
  },
  {
   "cell_type": "code",
   "execution_count": 24,
   "id": "fab7e027",
   "metadata": {},
   "outputs": [
    {
     "data": {
      "text/html": [
       "<div>\n",
       "<style scoped>\n",
       "    .dataframe tbody tr th:only-of-type {\n",
       "        vertical-align: middle;\n",
       "    }\n",
       "\n",
       "    .dataframe tbody tr th {\n",
       "        vertical-align: top;\n",
       "    }\n",
       "\n",
       "    .dataframe thead th {\n",
       "        text-align: right;\n",
       "    }\n",
       "</style>\n",
       "<table border=\"1\" class=\"dataframe\">\n",
       "  <thead>\n",
       "    <tr style=\"text-align: right;\">\n",
       "      <th></th>\n",
       "      <th>calls</th>\n",
       "      <th>minutes</th>\n",
       "      <th>messages</th>\n",
       "      <th>mb_used</th>\n",
       "      <th>is_ultra</th>\n",
       "    </tr>\n",
       "  </thead>\n",
       "  <tbody>\n",
       "    <tr>\n",
       "      <th>count</th>\n",
       "      <td>3214.000000</td>\n",
       "      <td>3214.000000</td>\n",
       "      <td>3214.000000</td>\n",
       "      <td>3214.000000</td>\n",
       "      <td>3214.000000</td>\n",
       "    </tr>\n",
       "    <tr>\n",
       "      <th>mean</th>\n",
       "      <td>63.038892</td>\n",
       "      <td>438.208787</td>\n",
       "      <td>38.281269</td>\n",
       "      <td>17207.673836</td>\n",
       "      <td>0.306472</td>\n",
       "    </tr>\n",
       "    <tr>\n",
       "      <th>std</th>\n",
       "      <td>33.236368</td>\n",
       "      <td>234.569872</td>\n",
       "      <td>36.148326</td>\n",
       "      <td>7570.968246</td>\n",
       "      <td>0.461100</td>\n",
       "    </tr>\n",
       "    <tr>\n",
       "      <th>min</th>\n",
       "      <td>0.000000</td>\n",
       "      <td>0.000000</td>\n",
       "      <td>0.000000</td>\n",
       "      <td>0.000000</td>\n",
       "      <td>0.000000</td>\n",
       "    </tr>\n",
       "    <tr>\n",
       "      <th>25%</th>\n",
       "      <td>40.000000</td>\n",
       "      <td>274.575000</td>\n",
       "      <td>9.000000</td>\n",
       "      <td>12491.902500</td>\n",
       "      <td>0.000000</td>\n",
       "    </tr>\n",
       "    <tr>\n",
       "      <th>50%</th>\n",
       "      <td>62.000000</td>\n",
       "      <td>430.600000</td>\n",
       "      <td>30.000000</td>\n",
       "      <td>16943.235000</td>\n",
       "      <td>0.000000</td>\n",
       "    </tr>\n",
       "    <tr>\n",
       "      <th>75%</th>\n",
       "      <td>82.000000</td>\n",
       "      <td>571.927500</td>\n",
       "      <td>57.000000</td>\n",
       "      <td>21424.700000</td>\n",
       "      <td>1.000000</td>\n",
       "    </tr>\n",
       "    <tr>\n",
       "      <th>max</th>\n",
       "      <td>244.000000</td>\n",
       "      <td>1632.060000</td>\n",
       "      <td>224.000000</td>\n",
       "      <td>49745.730000</td>\n",
       "      <td>1.000000</td>\n",
       "    </tr>\n",
       "  </tbody>\n",
       "</table>\n",
       "</div>"
      ],
      "text/plain": [
       "             calls      minutes     messages       mb_used     is_ultra\n",
       "count  3214.000000  3214.000000  3214.000000   3214.000000  3214.000000\n",
       "mean     63.038892   438.208787    38.281269  17207.673836     0.306472\n",
       "std      33.236368   234.569872    36.148326   7570.968246     0.461100\n",
       "min       0.000000     0.000000     0.000000      0.000000     0.000000\n",
       "25%      40.000000   274.575000     9.000000  12491.902500     0.000000\n",
       "50%      62.000000   430.600000    30.000000  16943.235000     0.000000\n",
       "75%      82.000000   571.927500    57.000000  21424.700000     1.000000\n",
       "max     244.000000  1632.060000   224.000000  49745.730000     1.000000"
      ]
     },
     "execution_count": 24,
     "metadata": {},
     "output_type": "execute_result"
    }
   ],
   "source": [
    "df.describe()"
   ]
  },
  {
   "cell_type": "markdown",
   "id": "a8f6c521",
   "metadata": {},
   "source": [
    "Данные уже хорошо подготовлены. Дальнейшей подготоки не требуется."
   ]
  },
  {
   "cell_type": "markdown",
   "id": "d934f330",
   "metadata": {},
   "source": [
    "Построим графики корреляции с помощью библиотки seaborn"
   ]
  },
  {
   "cell_type": "code",
   "execution_count": 25,
   "id": "76b1563f",
   "metadata": {},
   "outputs": [
    {
     "data": {
      "image/png": "[encoded data removed]",
      "text/plain": [
       "<Figure size 900x900 with 20 Axes>"
      ]
     },
     "metadata": {
      "needs_background": "light"
     },
     "output_type": "display_data"
    }
   ],
   "source": [
    "sns.pairplot(df, corner=True);"
   ]
  },
  {
   "cell_type": "markdown",
   "id": "ff0e1c07",
   "metadata": {},
   "source": [
    "Наиболее заметная корреляция между количеством звонков 'calls' и суммарной длительностью звонков 'minutes'\n",
    "\n",
    "Поcтрою график с подсветкой по звонкам"
   ]
  },
  {
   "cell_type": "code",
   "execution_count": 26,
   "id": "e7fa0d19",
   "metadata": {
    "scrolled": true
   },
   "outputs": [
    {
     "data": {
      "image/png": "[encoded data removed]",
      "text/plain": [
       "<Figure size 764.5x720 with 14 Axes>"
      ]
     },
     "metadata": {
      "needs_background": "light"
     },
     "output_type": "display_data"
    }
   ],
   "source": [
    "sns.pairplot(df, hue='is_ultra', diag_kind='hist', corner=True);"
   ]
  },
  {
   "cell_type": "markdown",
   "id": "5b074559",
   "metadata": {},
   "source": [
    "# 2. Разбиение данных на выборки"
   ]
  },
  {
   "cell_type": "markdown",
   "id": "268b742b",
   "metadata": {},
   "source": [
    "Разделим исходные данные на обучающую, валидационную и тестовую выборки."
   ]
  },
  {
   "cell_type": "code",
   "execution_count": 27,
   "id": "088147cf",
   "metadata": {},
   "outputs": [],
   "source": [
    "# Определяем тестовую выборку\n",
    "features = df.drop(['is_ultra'], axis=1) # данные для обучения\n",
    "target = df['is_ultra'] # целевые значения"
   ]
  },
  {
   "cell_type": "code",
   "execution_count": 28,
   "id": "05a20b5f",
   "metadata": {},
   "outputs": [],
   "source": [
    "# Разделение на обучающую и валидационную выборки\n",
    "df_train, df_test = train_test_split(df, test_size=0.5, random_state=888)\n",
    "df_test, df_valid = train_test_split(df_test, test_size=0.5, random_state=888)\n",
    "\n",
    "\n",
    "# опеределяем выборки\n",
    "features_train = df_train.drop(['is_ultra'], axis=1)\n",
    "target_train = df_train['is_ultra']\n",
    "\n",
    "features_test = df_test.drop(['is_ultra'], axis=1)\n",
    "target_test = df_test['is_ultra']\n",
    "\n",
    "features_valid = df_valid.drop(['is_ultra'], axis=1)\n",
    "target_valid = df_valid['is_ultra']"
   ]
  },
  {
   "cell_type": "code",
   "execution_count": 29,
   "id": "335effda",
   "metadata": {},
   "outputs": [
    {
     "name": "stdout",
     "output_type": "stream",
     "text": [
      "(1607, 4)\n",
      "(1607,)\n",
      "(803, 4)\n",
      "(803,)\n",
      "(804, 4)\n",
      "(804,)\n"
     ]
    }
   ],
   "source": [
    "# проверка\n",
    "print(features_train.shape)\n",
    "print(target_train.shape)\n",
    "print(features_test.shape)\n",
    "print(target_test.shape)\n",
    "print(features_valid.shape)\n",
    "print(target_valid.shape)"
   ]
  },
  {
   "cell_type": "markdown",
   "id": "cf3ef4db",
   "metadata": {},
   "source": [
    "# 3. Исследование качества моделей"
   ]
  },
  {
   "cell_type": "markdown",
   "id": "f404aca7",
   "metadata": {},
   "source": [
    "Первой исследуем качетсво модели \"дерево решений\", разной глубины. Глубина от 1 до 5"
   ]
  },
  {
   "cell_type": "code",
   "execution_count": 30,
   "id": "283d7753",
   "metadata": {},
   "outputs": [
    {
     "name": "stdout",
     "output_type": "stream",
     "text": [
      "Лучшая точность: 0.8109452736318408 , с глубиной: 3\n"
     ]
    }
   ],
   "source": [
    "#Создадим цикл с изменением глубины дерева\n",
    "best_depth = 0\n",
    "best_result = 0\n",
    "for depth in range(1, 6):\n",
    "    model_tree = DecisionTreeClassifier(random_state=888, max_depth = depth) # обучение модели с заданной глубиной\n",
    "    model_tree.fit(features_train, target_train) # обучение модели на тренировочной выборке\n",
    "    predictions = model_tree.predict(features_valid) # подсчёт качества модели на валидационной выборке\n",
    "    result = accuracy_score(target_valid, predictions)\n",
    "    if result > best_result:\n",
    "        best_result = result\n",
    "        best_depth = depth\n",
    "        \n",
    "print('Лучшая точность:', best_result, ', с глубиной:', best_depth)    \n",
    "    "
   ]
  },
  {
   "cell_type": "markdown",
   "id": "3ddfd00d",
   "metadata": {},
   "source": [
    "Выяснили, что лучшую точность даёт глубина 3"
   ]
  },
  {
   "cell_type": "markdown",
   "id": "71fef3d8",
   "metadata": {},
   "source": [
    "Далее исследуем качество модели \"случайный лес\", с разным количеством деревьев. От 1 до 12."
   ]
  },
  {
   "cell_type": "code",
   "execution_count": 31,
   "id": "0bba1624",
   "metadata": {},
   "outputs": [
    {
     "name": "stdout",
     "output_type": "stream",
     "text": [
      "Accuracy наилучшей модели на валидационной выборке: 0.8296019900497512 с количеством деревьев: 33 и глубиной деревьев: 5\n"
     ]
    }
   ],
   "source": [
    "best_model = None\n",
    "best_result = 0\n",
    "best_est = None\n",
    "best_depth = 0\n",
    "for est in range(1, 40):\n",
    "    for depth in range(1, 6):\n",
    "        model_forest = RandomForestClassifier(random_state=888, n_estimators=est, max_depth = depth) # обучение модели с заданным числом деревьев\n",
    "        model_forest.fit(features_train, target_train) # обучение модели на тренировочной выборке\n",
    "        predictions = model_forest.predict(features_valid)\n",
    "        result = accuracy_score(target_valid, predictions) # подсчёт качества модели на валидационной выборке\n",
    "        if result > best_result:\n",
    "            best_result = result # сохранение наилучшего значений метрики accurcy на валидационных данных\n",
    "            best_est = est\n",
    "            best_depth = depth\n",
    "print(\"Accuracy наилучшей модели на валидационной выборке:\", best_result, \"с количеством деревьев:\", best_est,\n",
    "     \"и глубиной деревьев:\", best_depth)\n",
    "    "
   ]
  },
  {
   "cell_type": "markdown",
   "id": "16083614",
   "metadata": {},
   "source": [
    "Лучший показатель точности у модели \"Случайный лес\" с количеством деревьев: 33, глубиной деревьев 5."
   ]
  },
  {
   "cell_type": "markdown",
   "id": "1acd96a7",
   "metadata": {},
   "source": [
    "# 4. Проверка качества модели на тестовой выборке."
   ]
  },
  {
   "cell_type": "markdown",
   "id": "bbb462b2",
   "metadata": {},
   "source": [
    "Проверим качество модели \"дерево решений\" с глубиной 3, на тестовой выборке. Перед тестированием объединим тренировочную и валидационную выборку. Обучем и сравним модели на объединённой и на необъединённой выборках"
   ]
  },
  {
   "cell_type": "code",
   "execution_count": 32,
   "id": "6c192f1c",
   "metadata": {},
   "outputs": [
    {
     "name": "stdout",
     "output_type": "stream",
     "text": [
      "Accuracy\n",
      "Обучающая выборка: 0.791537025513379\n",
      "Обучающая объединённая выборка: 0.7980091248444628\n",
      "\n",
      "Тестовая выборка: 0.7870485678704857\n"
     ]
    }
   ],
   "source": [
    "model_tree = DecisionTreeClassifier(random_state=888, max_depth=3)\n",
    "\n",
    "# объединение тренировочной и валидационной выборки\n",
    "features_train_v = features_train.append(features_valid)\n",
    "target_train_v = target_train.append(target_valid)\n",
    "\n",
    "# обучение модели на объединённой выборке выборке\n",
    "model_train_tree_v= model_tree.fit(features_train_v, target_train_v)\n",
    "# обучние на тренировочной выборке\n",
    "model_train_tree= model_tree.fit(features_train, target_train) \n",
    "\n",
    "\n",
    "\n",
    "\n",
    "# предсказание по объединённой обучающей выборке\n",
    "predictions_train_tree_v = model_train_tree_v.predict(features_train_v)\n",
    "# предсказание по обучающей выборке\n",
    "predictions_train_tree = model_train_tree.predict(features_train)\n",
    "# Предсказание по тестовой выборке\n",
    "predictions_test_tree = model_train_tree.predict(features_test)\n",
    "\n",
    "# подсчёт точности\n",
    "accuracy_train_v_tree = accuracy_score(target_train_v, predictions_train_tree_v)\n",
    "accuracy_train_tree = accuracy_score(target_train, predictions_train_tree)\n",
    "\n",
    "accuracy_test_tree = accuracy_score(target_test, predictions_test_tree)\n",
    "\n",
    "# вывод точности для сравнения\n",
    "print(\"Accuracy\")\n",
    "print(\"Обучающая выборка:\", accuracy_train_tree)\n",
    "print(\"Обучающая объединённая выборка:\", accuracy_train_v_tree)\n",
    "print()\n",
    "print(\"Тестовая выборка:\", accuracy_test_tree) "
   ]
  },
  {
   "cell_type": "markdown",
   "id": "00af575b",
   "metadata": {},
   "source": [
    "Показатели довольно близки. Обучение на объединённой модели прошло немного лучше\n",
    "\n",
    "Далее проверим модель случайный лес. Перед тестированием объединим тренировочную и валидационную выборку. Обучем и сравним модели на объединённой и на необъединённой выборках"
   ]
  },
  {
   "cell_type": "code",
   "execution_count": 33,
   "id": "684f441f",
   "metadata": {
    "scrolled": true
   },
   "outputs": [
    {
     "name": "stdout",
     "output_type": "stream",
     "text": [
      "Accuracy\n",
      "Обучающая выборка: 0.820784069695084\n",
      "Обучающая объединённая выборка: 0.823724595603484\n",
      "\n",
      "Тестовая выборка: 0.7957658779576587\n"
     ]
    }
   ],
   "source": [
    "# обучение модели с заданным числом и глубиной деревьев \n",
    "model_forest = RandomForestClassifier(random_state=888, n_estimators=33, max_depth=5) \n",
    "\n",
    "# объединение тренировочной и валидационной выборки\n",
    "features_train_v = features_train.append(features_valid)\n",
    "target_train_v = target_train.append(target_valid)\n",
    "\n",
    "# обучение модели на объединённой выборке выборке\n",
    "model_test_v= model_forest.fit(features_train_v, target_train_v)\n",
    "# обучние на тренировочной выборке\n",
    "model_test= model_forest.fit(features_train, target_train) \n",
    "\n",
    "\n",
    "    \n",
    "# предсказание по объединённой обучающей выборке\n",
    "predictions_train_v = model_test_v.predict(features_train_v)\n",
    "\n",
    "# предсказание по обучающей выборке\n",
    "predictions_train = model_test.predict(features_train)\n",
    "\n",
    "# Предсказание по тестовой выборке\n",
    "predictions_test = model_test.predict(features_test)\n",
    "\n",
    "\n",
    "# подсчёт точности по объедиённой выборке\n",
    "accuracy_train_v_forest = accuracy_score(target_train_v, predictions_train_v)\n",
    "# подсчёт точности по тренировочной выборке\n",
    "accuracy_train_forest = accuracy_score(target_train, predictions_train)\n",
    "\n",
    "\n",
    "accuracy_test_forest = accuracy_score(target_test, predictions_test)\n",
    "\n",
    "# вывод точности для сравнения\n",
    "print(\"Accuracy\")\n",
    "print(\"Обучающая выборка:\", accuracy_train_forest)\n",
    "print(\"Обучающая объединённая выборка:\", accuracy_train_v_forest)\n",
    "print()\n",
    "print(\"Тестовая выборка:\", accuracy_test_forest) "
   ]
  },
  {
   "cell_type": "markdown",
   "id": "50301221",
   "metadata": {},
   "source": [
    "Обучение на объединённой модели прошло немного лучше"
   ]
  },
  {
   "cell_type": "markdown",
   "id": "b4b22765",
   "metadata": {},
   "source": [
    "# 5. Проверка модели на вменяемость"
   ]
  },
  {
   "cell_type": "markdown",
   "id": "653a809b",
   "metadata": {},
   "source": [
    "Проверим на вменяемость модель \"дерево решений\" и  модель \"случайный лес\""
   ]
  },
  {
   "cell_type": "code",
   "execution_count": 34,
   "id": "c8607719",
   "metadata": {},
   "outputs": [
    {
     "name": "stdout",
     "output_type": "stream",
     "text": [
      "Точность DummyClassifier: 0.685749844430616\n",
      "Точность модели \"дерево\": 0.7980091248444628\n",
      "Точность модели \"случайный лес\": 0.823724595603484\n"
     ]
    }
   ],
   "source": [
    "dummy_clf = DummyClassifier(strategy='most_frequent', random_state=0)\n",
    "dummy_model = dummy_clf.fit(features_train, target_train)\n",
    "#dummy_predictions = dummy_clf.predict(features_valid)\n",
    "dummy_score = dummy_model.score(features_train, target_train)\n",
    "\n",
    "print('Точность DummyClassifier:', dummy_score)\n",
    "print('Точность модели \"дерево\":', accuracy_train_v_tree)\n",
    "print('Точность модели \"случайный лес\":', accuracy_train_v_forest)"
   ]
  },
  {
   "cell_type": "markdown",
   "id": "4d2fbc61",
   "metadata": {},
   "source": [
    "В итоге: наилучшим образом с подбором с задачей проанализировать поведение клиентов и предложить пользователям новый тариф: «Смарт» или «Ультра», справляется модель случайный лес с количеством деревьев 33 и глубиной 5."
   ]
  }
 ],
 "metadata": {
  "ExecuteTimeLog": [
   {
    "duration": 1055,
    "start_time": "2023-08-25T06:37:42.374Z"
   },
   {
    "duration": 114,
    "start_time": "2023-08-25T06:37:43.431Z"
   },
   {
    "duration": 19,
    "start_time": "2023-08-25T06:37:43.547Z"
   },
   {
    "duration": 11,
    "start_time": "2023-08-25T06:37:43.568Z"
   },
   {
    "duration": 6,
    "start_time": "2023-08-25T06:37:43.581Z"
   },
   {
    "duration": 6,
    "start_time": "2023-08-25T06:37:43.588Z"
   },
   {
    "duration": 3,
    "start_time": "2023-08-25T06:37:43.596Z"
   },
   {
    "duration": 29,
    "start_time": "2023-08-25T06:37:43.601Z"
   },
   {
    "duration": 4,
    "start_time": "2023-08-25T06:37:43.632Z"
   },
   {
    "duration": 28,
    "start_time": "2023-08-25T06:37:43.638Z"
   },
   {
    "duration": 2780,
    "start_time": "2023-08-25T06:37:43.668Z"
   },
   {
    "duration": 13,
    "start_time": "2023-08-25T06:37:46.449Z"
   },
   {
    "duration": 40,
    "start_time": "2023-08-25T06:37:46.464Z"
   },
   {
    "duration": 10,
    "start_time": "2023-08-25T06:37:46.523Z"
   },
   {
    "duration": 153,
    "start_time": "2023-08-25T06:37:46.535Z"
   },
   {
    "duration": 585,
    "start_time": "2023-08-25T06:40:23.258Z"
   },
   {
    "duration": 118,
    "start_time": "2023-08-25T06:40:59.012Z"
   },
   {
    "duration": 9,
    "start_time": "2023-08-25T06:41:38.836Z"
   },
   {
    "duration": 9508,
    "start_time": "2023-08-25T06:41:46.046Z"
   },
   {
    "duration": 11,
    "start_time": "2023-08-25T06:41:59.745Z"
   },
   {
    "duration": 3751,
    "start_time": "2023-08-25T06:43:27.982Z"
   },
   {
    "duration": 9811,
    "start_time": "2023-08-25T06:52:29.157Z"
   },
   {
    "duration": 32018,
    "start_time": "2023-08-25T06:56:23.174Z"
   },
   {
    "duration": 9,
    "start_time": "2023-08-25T07:07:02.162Z"
   },
   {
    "duration": 811,
    "start_time": "2023-08-25T07:07:07.617Z"
   },
   {
    "duration": 4,
    "start_time": "2023-08-25T07:09:14.365Z"
   },
   {
    "duration": 680,
    "start_time": "2023-08-25T07:09:20.243Z"
   },
   {
    "duration": 760,
    "start_time": "2023-08-25T07:11:53.012Z"
   },
   {
    "duration": 765,
    "start_time": "2023-08-25T07:12:05.772Z"
   },
   {
    "duration": 4,
    "start_time": "2023-08-25T07:12:14.110Z"
   },
   {
    "duration": 29,
    "start_time": "2023-08-25T07:12:14.136Z"
   },
   {
    "duration": 11,
    "start_time": "2023-08-25T07:12:14.166Z"
   },
   {
    "duration": 14,
    "start_time": "2023-08-25T07:12:14.179Z"
   },
   {
    "duration": 8,
    "start_time": "2023-08-25T07:12:14.195Z"
   },
   {
    "duration": 18,
    "start_time": "2023-08-25T07:12:14.205Z"
   },
   {
    "duration": 691,
    "start_time": "2023-08-25T07:12:14.225Z"
   },
   {
    "duration": 0,
    "start_time": "2023-08-25T07:12:14.918Z"
   },
   {
    "duration": 0,
    "start_time": "2023-08-25T07:12:14.919Z"
   },
   {
    "duration": 0,
    "start_time": "2023-08-25T07:12:14.920Z"
   },
   {
    "duration": 0,
    "start_time": "2023-08-25T07:12:14.921Z"
   },
   {
    "duration": 0,
    "start_time": "2023-08-25T07:12:14.923Z"
   },
   {
    "duration": 0,
    "start_time": "2023-08-25T07:12:14.924Z"
   },
   {
    "duration": 0,
    "start_time": "2023-08-25T07:12:14.924Z"
   },
   {
    "duration": 0,
    "start_time": "2023-08-25T07:12:14.925Z"
   },
   {
    "duration": 0,
    "start_time": "2023-08-25T07:12:14.927Z"
   },
   {
    "duration": 0,
    "start_time": "2023-08-25T07:12:14.928Z"
   },
   {
    "duration": 149,
    "start_time": "2023-08-25T07:41:41.299Z"
   },
   {
    "duration": 732,
    "start_time": "2023-08-25T07:41:52.215Z"
   },
   {
    "duration": 7362,
    "start_time": "2023-08-25T07:43:29.146Z"
   },
   {
    "duration": 1005,
    "start_time": "2023-08-25T07:45:55.538Z"
   },
   {
    "duration": 946,
    "start_time": "2023-08-25T07:46:02.018Z"
   },
   {
    "duration": 6610,
    "start_time": "2023-08-25T07:46:07.591Z"
   },
   {
    "duration": 4174,
    "start_time": "2023-08-25T07:47:44.596Z"
   },
   {
    "duration": 4012,
    "start_time": "2023-08-25T07:47:52.055Z"
   },
   {
    "duration": 3002,
    "start_time": "2023-08-25T07:49:50.400Z"
   },
   {
    "duration": 4008,
    "start_time": "2023-08-25T07:50:24.921Z"
   },
   {
    "duration": 14,
    "start_time": "2023-08-25T07:51:29.572Z"
   },
   {
    "duration": 3409,
    "start_time": "2023-08-25T07:51:37.549Z"
   },
   {
    "duration": 851,
    "start_time": "2023-08-25T07:53:27.525Z"
   },
   {
    "duration": 74,
    "start_time": "2023-08-25T07:54:12.570Z"
   },
   {
    "duration": 95,
    "start_time": "2023-08-25T07:54:21.561Z"
   },
   {
    "duration": 91,
    "start_time": "2023-08-25T07:54:57.880Z"
   },
   {
    "duration": 91,
    "start_time": "2023-08-25T07:55:03.874Z"
   },
   {
    "duration": 94,
    "start_time": "2023-08-25T07:55:13.312Z"
   },
   {
    "duration": 66,
    "start_time": "2023-08-25T07:55:27.640Z"
   },
   {
    "duration": 129,
    "start_time": "2023-08-25T07:56:42.299Z"
   },
   {
    "duration": 117,
    "start_time": "2023-08-25T07:56:48.818Z"
   },
   {
    "duration": 3888,
    "start_time": "2023-08-25T07:57:33.019Z"
   },
   {
    "duration": 236,
    "start_time": "2023-08-25T07:57:54.838Z"
   },
   {
    "duration": 59715,
    "start_time": "2023-08-25T07:57:58.846Z"
   },
   {
    "duration": 61361,
    "start_time": "2023-08-25T07:59:51.253Z"
   },
   {
    "duration": 8312,
    "start_time": "2023-08-25T08:00:58.719Z"
   },
   {
    "duration": 2772,
    "start_time": "2023-08-25T08:01:10.601Z"
   },
   {
    "duration": 4315,
    "start_time": "2023-08-25T08:01:46.118Z"
   },
   {
    "duration": 2843,
    "start_time": "2023-08-25T08:02:01.021Z"
   },
   {
    "duration": 4376,
    "start_time": "2023-08-25T08:02:21.024Z"
   },
   {
    "duration": 2792,
    "start_time": "2023-08-25T08:02:46.283Z"
   },
   {
    "duration": 4377,
    "start_time": "2023-08-25T08:02:54.720Z"
   },
   {
    "duration": 2847,
    "start_time": "2023-08-25T08:03:12.268Z"
   },
   {
    "duration": 51,
    "start_time": "2023-08-25T08:22:25.059Z"
   },
   {
    "duration": 1761,
    "start_time": "2023-08-25T08:22:30.410Z"
   },
   {
    "duration": 135,
    "start_time": "2023-08-25T08:22:32.173Z"
   },
   {
    "duration": 33,
    "start_time": "2023-08-25T08:22:32.310Z"
   },
   {
    "duration": 14,
    "start_time": "2023-08-25T08:22:32.356Z"
   },
   {
    "duration": 10,
    "start_time": "2023-08-25T08:22:32.372Z"
   },
   {
    "duration": 132,
    "start_time": "2023-08-25T08:22:32.384Z"
   },
   {
    "duration": 0,
    "start_time": "2023-08-25T08:22:32.518Z"
   },
   {
    "duration": 0,
    "start_time": "2023-08-25T08:22:32.519Z"
   },
   {
    "duration": 0,
    "start_time": "2023-08-25T08:22:32.520Z"
   },
   {
    "duration": 0,
    "start_time": "2023-08-25T08:22:32.521Z"
   },
   {
    "duration": 0,
    "start_time": "2023-08-25T08:22:32.522Z"
   },
   {
    "duration": 0,
    "start_time": "2023-08-25T08:22:32.524Z"
   },
   {
    "duration": 0,
    "start_time": "2023-08-25T08:22:32.525Z"
   },
   {
    "duration": 0,
    "start_time": "2023-08-25T08:22:32.526Z"
   },
   {
    "duration": 0,
    "start_time": "2023-08-25T08:22:32.528Z"
   },
   {
    "duration": 0,
    "start_time": "2023-08-25T08:22:32.529Z"
   },
   {
    "duration": 0,
    "start_time": "2023-08-25T08:22:32.531Z"
   },
   {
    "duration": 0,
    "start_time": "2023-08-25T08:22:32.532Z"
   },
   {
    "duration": 4,
    "start_time": "2023-08-25T09:00:28.092Z"
   },
   {
    "duration": 74,
    "start_time": "2023-08-25T09:00:28.098Z"
   },
   {
    "duration": 10,
    "start_time": "2023-08-25T09:00:28.174Z"
   },
   {
    "duration": 20,
    "start_time": "2023-08-25T09:00:28.186Z"
   },
   {
    "duration": 28,
    "start_time": "2023-08-25T09:00:28.208Z"
   },
   {
    "duration": 212,
    "start_time": "2023-08-25T09:00:28.238Z"
   },
   {
    "duration": 0,
    "start_time": "2023-08-25T09:00:28.452Z"
   },
   {
    "duration": 0,
    "start_time": "2023-08-25T09:00:28.453Z"
   },
   {
    "duration": 0,
    "start_time": "2023-08-25T09:00:28.454Z"
   },
   {
    "duration": 0,
    "start_time": "2023-08-25T09:00:28.455Z"
   },
   {
    "duration": 0,
    "start_time": "2023-08-25T09:00:28.456Z"
   },
   {
    "duration": 0,
    "start_time": "2023-08-25T09:00:28.457Z"
   },
   {
    "duration": 0,
    "start_time": "2023-08-25T09:00:28.458Z"
   },
   {
    "duration": 0,
    "start_time": "2023-08-25T09:00:28.460Z"
   },
   {
    "duration": 0,
    "start_time": "2023-08-25T09:00:28.461Z"
   },
   {
    "duration": 0,
    "start_time": "2023-08-25T09:00:28.461Z"
   },
   {
    "duration": 0,
    "start_time": "2023-08-25T09:00:28.463Z"
   },
   {
    "duration": 0,
    "start_time": "2023-08-25T09:00:28.464Z"
   },
   {
    "duration": 8,
    "start_time": "2023-08-25T09:03:16.003Z"
   },
   {
    "duration": 25,
    "start_time": "2023-08-25T09:03:21.644Z"
   },
   {
    "duration": 6,
    "start_time": "2023-08-25T09:04:06.062Z"
   },
   {
    "duration": 45,
    "start_time": "2023-08-25T09:04:06.071Z"
   },
   {
    "duration": 18,
    "start_time": "2023-08-25T09:04:06.118Z"
   },
   {
    "duration": 11,
    "start_time": "2023-08-25T09:04:06.143Z"
   },
   {
    "duration": 23,
    "start_time": "2023-08-25T09:04:06.156Z"
   },
   {
    "duration": 7,
    "start_time": "2023-08-25T09:04:06.181Z"
   },
   {
    "duration": 51,
    "start_time": "2023-08-25T09:04:06.190Z"
   },
   {
    "duration": 3022,
    "start_time": "2023-08-25T09:04:06.244Z"
   },
   {
    "duration": 66128,
    "start_time": "2023-08-25T09:04:09.269Z"
   },
   {
    "duration": 4,
    "start_time": "2023-08-25T09:15:41.966Z"
   },
   {
    "duration": 46,
    "start_time": "2023-08-25T09:15:41.972Z"
   },
   {
    "duration": 15,
    "start_time": "2023-08-25T09:15:42.020Z"
   },
   {
    "duration": 15,
    "start_time": "2023-08-25T09:15:42.040Z"
   },
   {
    "duration": 10,
    "start_time": "2023-08-25T09:15:42.057Z"
   },
   {
    "duration": 20,
    "start_time": "2023-08-25T09:15:42.069Z"
   },
   {
    "duration": 50,
    "start_time": "2023-08-25T09:15:42.091Z"
   },
   {
    "duration": 2909,
    "start_time": "2023-08-25T09:15:42.144Z"
   },
   {
    "duration": 1665,
    "start_time": "2023-08-25T09:16:17.523Z"
   },
   {
    "duration": 135,
    "start_time": "2023-08-25T09:16:19.192Z"
   },
   {
    "duration": 23,
    "start_time": "2023-08-25T09:16:19.330Z"
   },
   {
    "duration": 11,
    "start_time": "2023-08-25T09:16:19.356Z"
   },
   {
    "duration": 8,
    "start_time": "2023-08-25T09:16:19.368Z"
   },
   {
    "duration": 7,
    "start_time": "2023-08-25T09:16:19.377Z"
   },
   {
    "duration": 67,
    "start_time": "2023-08-25T09:16:19.386Z"
   },
   {
    "duration": 2988,
    "start_time": "2023-08-25T09:16:19.454Z"
   },
   {
    "duration": 40832,
    "start_time": "2023-08-25T09:16:22.444Z"
   },
   {
    "duration": 0,
    "start_time": "2023-08-25T09:17:03.279Z"
   },
   {
    "duration": 0,
    "start_time": "2023-08-25T09:17:03.280Z"
   },
   {
    "duration": 0,
    "start_time": "2023-08-25T09:17:03.282Z"
   },
   {
    "duration": 0,
    "start_time": "2023-08-25T09:17:03.283Z"
   },
   {
    "duration": 0,
    "start_time": "2023-08-25T09:17:03.285Z"
   },
   {
    "duration": 0,
    "start_time": "2023-08-25T09:17:03.287Z"
   },
   {
    "duration": 0,
    "start_time": "2023-08-25T09:17:03.289Z"
   },
   {
    "duration": 0,
    "start_time": "2023-08-25T09:17:03.290Z"
   },
   {
    "duration": 0,
    "start_time": "2023-08-25T09:17:03.292Z"
   },
   {
    "duration": 16,
    "start_time": "2023-08-25T09:17:25.370Z"
   },
   {
    "duration": 12,
    "start_time": "2023-08-25T09:17:33.612Z"
   },
   {
    "duration": 1524,
    "start_time": "2023-08-25T09:17:43.340Z"
   },
   {
    "duration": 20,
    "start_time": "2023-08-25T09:17:47.619Z"
   },
   {
    "duration": 3402,
    "start_time": "2023-08-25T09:18:08.010Z"
   },
   {
    "duration": 3,
    "start_time": "2023-08-25T09:19:27.909Z"
   },
   {
    "duration": 5,
    "start_time": "2023-08-25T09:19:30.798Z"
   },
   {
    "duration": 56,
    "start_time": "2023-08-25T09:19:30.808Z"
   },
   {
    "duration": 16,
    "start_time": "2023-08-25T09:19:30.867Z"
   },
   {
    "duration": 32,
    "start_time": "2023-08-25T09:19:30.885Z"
   },
   {
    "duration": 30,
    "start_time": "2023-08-25T09:19:30.919Z"
   },
   {
    "duration": 9,
    "start_time": "2023-08-25T09:19:30.952Z"
   },
   {
    "duration": 42,
    "start_time": "2023-08-25T09:19:30.963Z"
   },
   {
    "duration": 5219,
    "start_time": "2023-08-25T09:19:31.006Z"
   },
   {
    "duration": 3,
    "start_time": "2023-08-25T09:19:36.227Z"
   },
   {
    "duration": 48,
    "start_time": "2023-08-25T09:19:36.232Z"
   },
   {
    "duration": 22,
    "start_time": "2023-08-25T09:19:36.282Z"
   },
   {
    "duration": 33,
    "start_time": "2023-08-25T09:19:36.306Z"
   },
   {
    "duration": 44,
    "start_time": "2023-08-25T09:19:36.341Z"
   },
   {
    "duration": 3167,
    "start_time": "2023-08-25T09:19:36.387Z"
   },
   {
    "duration": 13,
    "start_time": "2023-08-25T09:19:39.557Z"
   },
   {
    "duration": 70,
    "start_time": "2023-08-25T09:19:39.572Z"
   },
   {
    "duration": 16,
    "start_time": "2023-08-25T09:19:39.645Z"
   },
   {
    "duration": 187,
    "start_time": "2023-08-25T09:19:39.663Z"
   },
   {
    "duration": 107,
    "start_time": "2023-08-25T09:24:46.484Z"
   },
   {
    "duration": 16102,
    "start_time": "2023-08-25T09:24:55.967Z"
   },
   {
    "duration": 5,
    "start_time": "2023-08-25T09:25:29.982Z"
   },
   {
    "duration": 211,
    "start_time": "2023-08-25T09:25:29.992Z"
   },
   {
    "duration": 48,
    "start_time": "2023-08-25T09:25:30.205Z"
   },
   {
    "duration": 63,
    "start_time": "2023-08-25T09:25:30.259Z"
   },
   {
    "duration": 194,
    "start_time": "2023-08-25T09:25:30.328Z"
   },
   {
    "duration": 45,
    "start_time": "2023-08-25T09:25:30.524Z"
   },
   {
    "duration": 47,
    "start_time": "2023-08-25T09:25:30.571Z"
   },
   {
    "duration": 3237,
    "start_time": "2023-08-25T09:25:30.620Z"
   },
   {
    "duration": 2,
    "start_time": "2023-08-25T09:25:33.865Z"
   },
   {
    "duration": 7,
    "start_time": "2023-08-25T09:25:33.869Z"
   },
   {
    "duration": 13,
    "start_time": "2023-08-25T09:25:33.880Z"
   },
   {
    "duration": 5,
    "start_time": "2023-08-25T09:25:33.895Z"
   },
   {
    "duration": 67,
    "start_time": "2023-08-25T09:25:33.902Z"
   },
   {
    "duration": 15657,
    "start_time": "2023-08-25T09:25:33.971Z"
   },
   {
    "duration": 24,
    "start_time": "2023-08-25T09:25:49.630Z"
   },
   {
    "duration": 90,
    "start_time": "2023-08-25T09:25:49.659Z"
   },
   {
    "duration": 14,
    "start_time": "2023-08-25T09:25:49.754Z"
   },
   {
    "duration": 182,
    "start_time": "2023-08-25T09:25:49.770Z"
   },
   {
    "duration": 9356,
    "start_time": "2023-08-25T09:26:24.376Z"
   },
   {
    "duration": 2087,
    "start_time": "2023-08-25T09:26:53.178Z"
   },
   {
    "duration": 3132,
    "start_time": "2023-08-25T09:27:06.262Z"
   },
   {
    "duration": 2188,
    "start_time": "2023-08-25T09:27:18.416Z"
   },
   {
    "duration": 29,
    "start_time": "2023-08-25T09:27:33.971Z"
   },
   {
    "duration": 2421,
    "start_time": "2023-08-25T09:27:41.750Z"
   },
   {
    "duration": 1978,
    "start_time": "2023-08-25T09:29:04.410Z"
   },
   {
    "duration": 1931,
    "start_time": "2023-08-25T09:29:23.054Z"
   },
   {
    "duration": 1965,
    "start_time": "2023-08-25T09:29:30.297Z"
   },
   {
    "duration": 3293,
    "start_time": "2023-08-25T09:29:46.436Z"
   },
   {
    "duration": 3067,
    "start_time": "2023-08-25T09:30:06.349Z"
   },
   {
    "duration": 73,
    "start_time": "2023-08-25T09:30:50.104Z"
   },
   {
    "duration": 9005,
    "start_time": "2023-08-25T09:30:53.629Z"
   },
   {
    "duration": 8966,
    "start_time": "2023-08-25T09:31:39.769Z"
   },
   {
    "duration": 9031,
    "start_time": "2023-08-25T09:31:49.831Z"
   },
   {
    "duration": 99,
    "start_time": "2023-08-25T09:33:28.496Z"
   },
   {
    "duration": 115,
    "start_time": "2023-08-25T09:34:45.871Z"
   },
   {
    "duration": 153,
    "start_time": "2023-08-25T10:12:50.266Z"
   },
   {
    "duration": 113,
    "start_time": "2023-08-25T10:13:05.246Z"
   },
   {
    "duration": 9,
    "start_time": "2023-08-25T10:13:36.577Z"
   },
   {
    "duration": 5,
    "start_time": "2023-08-25T10:13:50.413Z"
   },
   {
    "duration": 67,
    "start_time": "2023-08-25T10:13:50.421Z"
   },
   {
    "duration": 15,
    "start_time": "2023-08-25T10:13:50.490Z"
   },
   {
    "duration": 15,
    "start_time": "2023-08-25T10:13:50.507Z"
   },
   {
    "duration": 14,
    "start_time": "2023-08-25T10:13:50.527Z"
   },
   {
    "duration": 30,
    "start_time": "2023-08-25T10:13:50.546Z"
   },
   {
    "duration": 44,
    "start_time": "2023-08-25T10:13:50.579Z"
   },
   {
    "duration": 3659,
    "start_time": "2023-08-25T10:13:50.628Z"
   },
   {
    "duration": 3,
    "start_time": "2023-08-25T10:13:54.289Z"
   },
   {
    "duration": 18,
    "start_time": "2023-08-25T10:13:54.294Z"
   },
   {
    "duration": 20,
    "start_time": "2023-08-25T10:13:54.314Z"
   },
   {
    "duration": 28,
    "start_time": "2023-08-25T10:13:54.336Z"
   },
   {
    "duration": 94,
    "start_time": "2023-08-25T10:13:54.367Z"
   },
   {
    "duration": 9575,
    "start_time": "2023-08-25T10:13:54.463Z"
   },
   {
    "duration": 22,
    "start_time": "2023-08-25T10:14:04.040Z"
   },
   {
    "duration": 129,
    "start_time": "2023-08-25T10:14:04.064Z"
   },
   {
    "duration": 127,
    "start_time": "2023-08-25T10:14:04.195Z"
   },
   {
    "duration": 77,
    "start_time": "2023-08-25T10:14:04.323Z"
   },
   {
    "duration": 216,
    "start_time": "2023-08-25T10:14:04.402Z"
   },
   {
    "duration": 6,
    "start_time": "2023-08-25T10:14:10.969Z"
   },
   {
    "duration": 138,
    "start_time": "2023-08-25T10:15:47.138Z"
   },
   {
    "duration": 129,
    "start_time": "2023-08-25T10:15:53.186Z"
   },
   {
    "duration": 26,
    "start_time": "2023-08-25T10:15:57.614Z"
   },
   {
    "duration": 15,
    "start_time": "2023-08-25T10:16:00.841Z"
   },
   {
    "duration": 189,
    "start_time": "2023-08-25T10:16:22.827Z"
   },
   {
    "duration": 217,
    "start_time": "2023-08-25T11:06:09.890Z"
   },
   {
    "duration": 199,
    "start_time": "2023-08-25T11:06:44.235Z"
   },
   {
    "duration": 4,
    "start_time": "2023-08-25T11:25:00.284Z"
   },
   {
    "duration": 22,
    "start_time": "2023-08-25T11:29:47.539Z"
   },
   {
    "duration": 27,
    "start_time": "2023-08-25T11:30:13.882Z"
   },
   {
    "duration": 40,
    "start_time": "2023-08-25T11:30:49.808Z"
   },
   {
    "duration": 19,
    "start_time": "2023-08-25T11:31:17.388Z"
   },
   {
    "duration": 16,
    "start_time": "2023-08-25T11:31:35.357Z"
   },
   {
    "duration": 21,
    "start_time": "2023-08-25T11:31:53.212Z"
   },
   {
    "duration": 12,
    "start_time": "2023-08-25T11:31:59.376Z"
   },
   {
    "duration": 19,
    "start_time": "2023-08-25T11:32:14.311Z"
   },
   {
    "duration": 12,
    "start_time": "2023-08-25T11:32:19.208Z"
   },
   {
    "duration": 27,
    "start_time": "2023-08-25T11:32:49.313Z"
   },
   {
    "duration": 22,
    "start_time": "2023-08-25T11:32:57.064Z"
   },
   {
    "duration": 75,
    "start_time": "2023-08-25T11:40:27.069Z"
   },
   {
    "duration": 59,
    "start_time": "2023-08-25T11:40:45.520Z"
   },
   {
    "duration": 4,
    "start_time": "2023-08-25T11:41:03.696Z"
   },
   {
    "duration": 66,
    "start_time": "2023-08-25T11:41:03.702Z"
   },
   {
    "duration": 10,
    "start_time": "2023-08-25T11:41:03.770Z"
   },
   {
    "duration": 87,
    "start_time": "2023-08-25T11:41:03.781Z"
   },
   {
    "duration": 123,
    "start_time": "2023-08-25T11:41:03.871Z"
   },
   {
    "duration": 59,
    "start_time": "2023-08-25T11:41:03.995Z"
   },
   {
    "duration": 65,
    "start_time": "2023-08-25T11:41:04.056Z"
   },
   {
    "duration": 2983,
    "start_time": "2023-08-25T11:41:04.122Z"
   },
   {
    "duration": 4,
    "start_time": "2023-08-25T11:41:07.107Z"
   },
   {
    "duration": 37,
    "start_time": "2023-08-25T11:41:07.113Z"
   },
   {
    "duration": 44,
    "start_time": "2023-08-25T11:41:07.154Z"
   },
   {
    "duration": 34,
    "start_time": "2023-08-25T11:41:07.201Z"
   },
   {
    "duration": 57,
    "start_time": "2023-08-25T11:41:07.243Z"
   },
   {
    "duration": 8638,
    "start_time": "2023-08-25T11:41:07.302Z"
   },
   {
    "duration": 45,
    "start_time": "2023-08-25T11:41:15.942Z"
   },
   {
    "duration": 221,
    "start_time": "2023-08-25T11:41:15.990Z"
   },
   {
    "duration": 25,
    "start_time": "2023-08-25T11:41:16.213Z"
   },
   {
    "duration": 156,
    "start_time": "2023-08-25T11:41:16.247Z"
   },
   {
    "duration": 52,
    "start_time": "2023-08-25T11:43:53.650Z"
   },
   {
    "duration": 61,
    "start_time": "2023-08-25T11:45:04.046Z"
   },
   {
    "duration": 190,
    "start_time": "2023-08-25T11:45:25.607Z"
   },
   {
    "duration": 46,
    "start_time": "2023-08-25T11:45:34.328Z"
   },
   {
    "duration": 43,
    "start_time": "2023-08-25T11:45:39.139Z"
   },
   {
    "duration": 198,
    "start_time": "2023-08-25T11:45:43.600Z"
   },
   {
    "duration": 4,
    "start_time": "2023-08-25T11:45:55.278Z"
   },
   {
    "duration": 73,
    "start_time": "2023-08-25T11:45:55.284Z"
   },
   {
    "duration": 40,
    "start_time": "2023-08-25T11:45:55.359Z"
   },
   {
    "duration": 89,
    "start_time": "2023-08-25T11:45:55.402Z"
   },
   {
    "duration": 42,
    "start_time": "2023-08-25T11:45:55.493Z"
   },
   {
    "duration": 53,
    "start_time": "2023-08-25T11:45:55.537Z"
   },
   {
    "duration": 52,
    "start_time": "2023-08-25T11:45:55.592Z"
   },
   {
    "duration": 2904,
    "start_time": "2023-08-25T11:45:55.646Z"
   },
   {
    "duration": 3,
    "start_time": "2023-08-25T11:45:58.552Z"
   },
   {
    "duration": 32,
    "start_time": "2023-08-25T11:45:58.558Z"
   },
   {
    "duration": 40,
    "start_time": "2023-08-25T11:45:58.592Z"
   },
   {
    "duration": 22,
    "start_time": "2023-08-25T11:45:58.634Z"
   },
   {
    "duration": 33,
    "start_time": "2023-08-25T11:45:58.657Z"
   },
   {
    "duration": 8547,
    "start_time": "2023-08-25T11:45:58.692Z"
   },
   {
    "duration": 50,
    "start_time": "2023-08-25T11:46:07.241Z"
   },
   {
    "duration": 204,
    "start_time": "2023-08-25T11:46:07.293Z"
   },
   {
    "duration": 12,
    "start_time": "2023-08-25T11:46:07.499Z"
   },
   {
    "duration": 262,
    "start_time": "2023-08-25T11:46:07.524Z"
   },
   {
    "duration": 4,
    "start_time": "2023-08-25T11:46:46.599Z"
   },
   {
    "duration": 10,
    "start_time": "2023-08-25T11:46:46.980Z"
   },
   {
    "duration": 5,
    "start_time": "2023-08-25T11:46:47.196Z"
   },
   {
    "duration": 34,
    "start_time": "2023-08-25T11:46:48.105Z"
   },
   {
    "duration": 9140,
    "start_time": "2023-08-25T11:46:48.849Z"
   },
   {
    "duration": 75,
    "start_time": "2023-08-25T11:46:57.991Z"
   },
   {
    "duration": 210,
    "start_time": "2023-08-25T11:46:58.067Z"
   },
   {
    "duration": 15,
    "start_time": "2023-08-25T11:46:58.279Z"
   },
   {
    "duration": 180,
    "start_time": "2023-08-25T11:46:58.296Z"
   },
   {
    "duration": 34,
    "start_time": "2023-08-25T11:50:31.339Z"
   },
   {
    "duration": 27,
    "start_time": "2023-08-25T11:50:59.250Z"
   },
   {
    "duration": 5,
    "start_time": "2023-08-25T11:51:14.341Z"
   },
   {
    "duration": 40,
    "start_time": "2023-08-25T11:51:14.348Z"
   },
   {
    "duration": 11,
    "start_time": "2023-08-25T11:51:14.394Z"
   },
   {
    "duration": 13,
    "start_time": "2023-08-25T11:51:14.407Z"
   },
   {
    "duration": 8,
    "start_time": "2023-08-25T11:51:14.421Z"
   },
   {
    "duration": 8,
    "start_time": "2023-08-25T11:51:14.431Z"
   },
   {
    "duration": 25,
    "start_time": "2023-08-25T11:51:14.441Z"
   },
   {
    "duration": 7538,
    "start_time": "2023-08-25T11:51:14.468Z"
   },
   {
    "duration": 14,
    "start_time": "2023-08-25T11:51:22.009Z"
   },
   {
    "duration": 6,
    "start_time": "2023-08-25T11:51:22.026Z"
   },
   {
    "duration": 26,
    "start_time": "2023-08-25T11:51:22.035Z"
   },
   {
    "duration": 6,
    "start_time": "2023-08-25T11:51:22.063Z"
   },
   {
    "duration": 66,
    "start_time": "2023-08-25T11:51:22.071Z"
   },
   {
    "duration": 9235,
    "start_time": "2023-08-25T11:51:22.141Z"
   },
   {
    "duration": 23,
    "start_time": "2023-08-25T11:51:31.378Z"
   },
   {
    "duration": 552,
    "start_time": "2023-08-25T11:51:31.403Z"
   },
   {
    "duration": 101,
    "start_time": "2023-08-25T11:51:31.957Z"
   },
   {
    "duration": 258,
    "start_time": "2023-08-25T11:51:32.060Z"
   },
   {
    "duration": 196,
    "start_time": "2023-08-25T11:56:30.738Z"
   },
   {
    "duration": 184,
    "start_time": "2023-08-25T11:57:43.074Z"
   },
   {
    "duration": 4,
    "start_time": "2023-08-25T11:57:46.897Z"
   },
   {
    "duration": 89,
    "start_time": "2023-08-25T11:57:46.912Z"
   },
   {
    "duration": 76,
    "start_time": "2023-08-25T11:57:47.003Z"
   },
   {
    "duration": 30,
    "start_time": "2023-08-25T11:57:47.081Z"
   },
   {
    "duration": 14,
    "start_time": "2023-08-25T11:57:47.113Z"
   },
   {
    "duration": 153,
    "start_time": "2023-08-25T11:57:47.128Z"
   },
   {
    "duration": 40,
    "start_time": "2023-08-25T11:57:47.283Z"
   },
   {
    "duration": 2694,
    "start_time": "2023-08-25T11:57:47.325Z"
   },
   {
    "duration": 4,
    "start_time": "2023-08-25T11:57:50.021Z"
   },
   {
    "duration": 21,
    "start_time": "2023-08-25T11:57:50.027Z"
   },
   {
    "duration": 18,
    "start_time": "2023-08-25T11:57:50.050Z"
   },
   {
    "duration": 6,
    "start_time": "2023-08-25T11:57:50.070Z"
   },
   {
    "duration": 59,
    "start_time": "2023-08-25T11:57:50.078Z"
   },
   {
    "duration": 8126,
    "start_time": "2023-08-25T11:57:50.139Z"
   },
   {
    "duration": 23,
    "start_time": "2023-08-25T11:57:58.267Z"
   },
   {
    "duration": 198,
    "start_time": "2023-08-25T11:57:58.292Z"
   },
   {
    "duration": 13,
    "start_time": "2023-08-25T11:57:58.492Z"
   },
   {
    "duration": 156,
    "start_time": "2023-08-25T11:57:58.507Z"
   },
   {
    "duration": 6,
    "start_time": "2023-08-25T11:58:30.534Z"
   },
   {
    "duration": 7,
    "start_time": "2023-08-25T12:00:06.187Z"
   },
   {
    "duration": 6,
    "start_time": "2023-08-25T12:00:10.705Z"
   },
   {
    "duration": 6,
    "start_time": "2023-08-25T12:00:35.429Z"
   },
   {
    "duration": 8,
    "start_time": "2023-08-25T12:03:23.007Z"
   },
   {
    "duration": 9,
    "start_time": "2023-08-25T12:03:41.643Z"
   },
   {
    "duration": 51,
    "start_time": "2023-08-25T13:59:04.369Z"
   },
   {
    "duration": 1697,
    "start_time": "2023-08-25T13:59:07.694Z"
   },
   {
    "duration": 66,
    "start_time": "2023-08-25T13:59:09.393Z"
   },
   {
    "duration": 15,
    "start_time": "2023-08-25T13:59:09.460Z"
   },
   {
    "duration": 12,
    "start_time": "2023-08-25T13:59:09.477Z"
   },
   {
    "duration": 7,
    "start_time": "2023-08-25T13:59:09.491Z"
   },
   {
    "duration": 17,
    "start_time": "2023-08-25T13:59:09.500Z"
   },
   {
    "duration": 31,
    "start_time": "2023-08-25T13:59:09.519Z"
   },
   {
    "duration": 2805,
    "start_time": "2023-08-25T13:59:09.552Z"
   },
   {
    "duration": 3863,
    "start_time": "2023-08-25T13:59:12.360Z"
   },
   {
    "duration": 4,
    "start_time": "2023-08-25T13:59:16.226Z"
   },
   {
    "duration": 29,
    "start_time": "2023-08-25T13:59:16.231Z"
   },
   {
    "duration": 10,
    "start_time": "2023-08-25T13:59:16.262Z"
   },
   {
    "duration": 32,
    "start_time": "2023-08-25T13:59:16.273Z"
   },
   {
    "duration": 7883,
    "start_time": "2023-08-25T13:59:16.306Z"
   },
   {
    "duration": 94,
    "start_time": "2023-08-25T13:59:24.190Z"
   },
   {
    "duration": 0,
    "start_time": "2023-08-25T13:59:24.286Z"
   },
   {
    "duration": 0,
    "start_time": "2023-08-25T13:59:24.287Z"
   },
   {
    "duration": 22,
    "start_time": "2023-08-25T14:00:04.316Z"
   },
   {
    "duration": 4,
    "start_time": "2023-08-25T14:00:08.160Z"
   },
   {
    "duration": 54,
    "start_time": "2023-08-25T14:00:08.166Z"
   },
   {
    "duration": 25,
    "start_time": "2023-08-25T14:00:08.222Z"
   },
   {
    "duration": 20,
    "start_time": "2023-08-25T14:00:08.248Z"
   },
   {
    "duration": 14,
    "start_time": "2023-08-25T14:00:08.270Z"
   },
   {
    "duration": 8,
    "start_time": "2023-08-25T14:00:08.285Z"
   },
   {
    "duration": 39,
    "start_time": "2023-08-25T14:00:08.295Z"
   },
   {
    "duration": 2661,
    "start_time": "2023-08-25T14:00:08.336Z"
   },
   {
    "duration": 4108,
    "start_time": "2023-08-25T14:00:11.000Z"
   },
   {
    "duration": 4,
    "start_time": "2023-08-25T14:00:15.110Z"
   },
   {
    "duration": 88,
    "start_time": "2023-08-25T14:00:15.115Z"
   },
   {
    "duration": 62,
    "start_time": "2023-08-25T14:00:15.205Z"
   },
   {
    "duration": 97,
    "start_time": "2023-08-25T14:00:15.269Z"
   },
   {
    "duration": 8418,
    "start_time": "2023-08-25T14:00:15.367Z"
   },
   {
    "duration": 21,
    "start_time": "2023-08-25T14:00:23.787Z"
   },
   {
    "duration": 256,
    "start_time": "2023-08-25T14:00:23.810Z"
   },
   {
    "duration": 8,
    "start_time": "2023-08-25T14:00:24.069Z"
   }
  ],
  "kernelspec": {
   "display_name": "Python 3 (ipykernel)",
   "language": "python",
   "name": "python3"
  },
  "language_info": {
   "codemirror_mode": {
    "name": "ipython",
    "version": 3
   },
   "file_extension": ".py",
   "mimetype": "text/x-python",
   "name": "python",
   "nbconvert_exporter": "python",
   "pygments_lexer": "ipython3",
   "version": "3.10.13"
  },
  "toc": {
   "base_numbering": 1,
   "nav_menu": {},
   "number_sections": true,
   "sideBar": true,
   "skip_h1_title": true,
   "title_cell": "Table of Contents",
   "title_sidebar": "Contents",
   "toc_cell": false,
   "toc_position": {},
   "toc_section_display": true,
   "toc_window_display": false
  }
 },
 "nbformat": 4,
 "nbformat_minor": 5
}
