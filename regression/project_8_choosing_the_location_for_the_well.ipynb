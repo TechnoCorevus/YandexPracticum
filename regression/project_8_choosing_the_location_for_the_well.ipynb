{
 "cells": [
  {
   "cell_type": "markdown",
   "id": "cff5b1ed",
   "metadata": {},
   "source": [
    "**Описание проекта.**\n",
    "\n",
    "Допустим, вы работаете в добывающей компании «ГлавРосГосНефть». Нужно решить, где бурить новую скважину. \n",
    "Шаги для выбора локации обычно такие:\n",
    "В избранном регионе собирают характеристики для скважин: качество нефти и объём её запасов;\n",
    "Строят модель для предсказания объёма запасов в новых скважинах;\n",
    "Выбирают скважины с самыми высокими оценками значений;\n",
    "Определяют регион с максимальной суммарной прибылью отобранных скважин.\n",
    "Вам предоставлены пробы нефти в трёх регионах. Характеристики для каждой скважины в регионе уже известны. Постройте модель для определения региона, где добыча принесёт наибольшую прибыль. Проанализируйте возможную прибыль и риски техникой Bootstrap."
   ]
  },
  {
   "cell_type": "markdown",
   "id": "45b4e502",
   "metadata": {},
   "source": [
    "## Подготовка данных"
   ]
  },
  {
   "cell_type": "code",
   "execution_count": 1,
   "id": "99e341d3",
   "metadata": {},
   "outputs": [],
   "source": [
    "import pandas as pd\n",
    "import seaborn as sns\n",
    "import numpy as np\n",
    "import os\n",
    "import matplotlib.pyplot as plt\n",
    "import seaborn as sns\n",
    "from sklearn.linear_model import LinearRegression\n",
    "from sklearn.model_selection import train_test_split\n",
    "from sklearn.metrics import mean_squared_error\n",
    "\n",
    "\n"
   ]
  },
  {
   "cell_type": "code",
   "execution_count": 2,
   "id": "4f926944",
   "metadata": {},
   "outputs": [],
   "source": [
    "# определим константы\n",
    "RANDOM_STATE = np.random.RandomState(42) # константа для random_state\n",
    "BUDGET = 10000000 # бюджет на развитие в тыс. рублей.\n",
    "BARREL_PRICE = 450 # цена за тысячу баррелей в тыс. рублей.\n",
    "DOTS = 500 # количество точек\n",
    "DOTS_BEST = 200 # количество лучших точек\n",
    "GOAL = 'product' # целевой параметр\n",
    "\n",
    "plt.rcParams[\"figure.figsize\"] = (9,7)"
   ]
  },
  {
   "cell_type": "code",
   "execution_count": 3,
   "id": "d51692ec",
   "metadata": {
    "scrolled": true
   },
   "outputs": [],
   "source": [
    "# функция для создания датафреймов\n",
    "\n",
    "\n",
    "list_path_1 = ['/datasets/geo_data_0.csv', '/datasets/geo_data_1.csv', '/datasets/geo_data_2.csv']\n",
    "list_path_2 = [\"C:\\\\DS\\\\YP\\\\S11\\\\geo_data_0.csv\", \"C:\\\\DS\\\\YP\\\\S11\\\\geo_data_1.csv\", \"C:\\\\DS\\\\YP\\\\S11\\\\geo_data_2.csv\"]\n",
    "                                              \n",
    "def generate_data (path_1, path_2):\n",
    "    i = 0\n",
    "    list = []\n",
    "    for path1, path2 in zip(path_1, path_2):\n",
    "        if os.path.exists(path1):\n",
    "            x = pd.DataFrame()\n",
    "            list.append(x)\n",
    "            list[i] = pd.read_csv(path1)\n",
    "            i += 1\n",
    "        elif os.path.exists(path2):\n",
    "            x = pd.DataFrame()\n",
    "            list.append(x)\n",
    "            list[i] = pd.read_csv(path2)\n",
    "            i += 1\n",
    "        else:    \n",
    "            print('Something is wrong')\n",
    "    return list\n",
    "\n",
    "\n"
   ]
  },
  {
   "cell_type": "code",
   "execution_count": 4,
   "id": "96948dd0",
   "metadata": {
    "scrolled": true
   },
   "outputs": [],
   "source": [
    "# создаём датафреймы\n",
    "df_list = generate_data(list_path_1, list_path_2)"
   ]
  },
  {
   "cell_type": "code",
   "execution_count": 5,
   "id": "ac5aa742",
   "metadata": {},
   "outputs": [
    {
     "name": "stdout",
     "output_type": "stream",
     "text": [
      "      id        f0        f1        f2     product\n",
      "0  txEyH  0.705745 -0.497823  1.221170  105.280062\n",
      "1  2acmU  1.334711 -0.340164  4.365080   73.037750\n",
      "2  409Wp  1.022732  0.151990  1.419926   85.265647\n",
      "3  iJLyR -0.032172  0.139033  2.978566  168.620776\n",
      "4  Xdl7t  1.988431  0.155413  4.751769  154.036647\n",
      "      id         f0         f1        f2     product\n",
      "0  kBEdx -15.001348  -8.276000 -0.005876    3.179103\n",
      "1  62mP7  14.272088  -3.475083  0.999183   26.953261\n",
      "2  vyE1P   6.263187  -5.948386  5.001160  134.766305\n",
      "3  KcrkZ -13.081196 -11.506057  4.999415  137.945408\n",
      "4  AHL4O  12.702195  -8.147433  5.004363  134.766305\n",
      "      id        f0        f1        f2     product\n",
      "0  fwXo0 -1.146987  0.963328 -0.828965   27.758673\n",
      "1  WJtFt  0.262778  0.269839 -2.530187   56.069697\n",
      "2  ovLUW  0.194587  0.289035 -5.586433   62.871910\n",
      "3  q6cA6  2.236060 -0.553760  0.930038  114.572842\n",
      "4  WPMUX -0.515993  1.716266  5.899011  149.600746\n"
     ]
    }
   ],
   "source": [
    "# вывод первых 5ти строка датафрейма\n",
    "for data in df_list:\n",
    "    print(data.head())"
   ]
  },
  {
   "cell_type": "markdown",
   "id": "87340f29",
   "metadata": {},
   "source": [
    "**Описание данных**\n",
    "\n",
    "id — уникальный идентификатор скважины;\n",
    "\n",
    "f0, f1, f2 — три признака точек (неважно, что они означают, но сами признаки значимы);\n",
    "\n",
    "product — объём запасов в скважине (тыс. баррелей)."
   ]
  },
  {
   "cell_type": "markdown",
   "id": "1343d36e",
   "metadata": {},
   "source": [
    "Выведем информаци о датафреймах"
   ]
  },
  {
   "cell_type": "code",
   "execution_count": 6,
   "id": "4c5cf57d",
   "metadata": {
    "scrolled": true
   },
   "outputs": [
    {
     "name": "stdout",
     "output_type": "stream",
     "text": [
      "Информация о df_0\n",
      "\n",
      "<class 'pandas.core.frame.DataFrame'>\n",
      "RangeIndex: 100000 entries, 0 to 99999\n",
      "Data columns (total 5 columns):\n",
      " #   Column   Non-Null Count   Dtype  \n",
      "---  ------   --------------   -----  \n",
      " 0   id       100000 non-null  object \n",
      " 1   f0       100000 non-null  float64\n",
      " 2   f1       100000 non-null  float64\n",
      " 3   f2       100000 non-null  float64\n",
      " 4   product  100000 non-null  float64\n",
      "dtypes: float64(4), object(1)\n",
      "memory usage: 3.8+ MB\n",
      "None\n",
      "\n",
      "Информация о df_1\n",
      "\n",
      "<class 'pandas.core.frame.DataFrame'>\n",
      "RangeIndex: 100000 entries, 0 to 99999\n",
      "Data columns (total 5 columns):\n",
      " #   Column   Non-Null Count   Dtype  \n",
      "---  ------   --------------   -----  \n",
      " 0   id       100000 non-null  object \n",
      " 1   f0       100000 non-null  float64\n",
      " 2   f1       100000 non-null  float64\n",
      " 3   f2       100000 non-null  float64\n",
      " 4   product  100000 non-null  float64\n",
      "dtypes: float64(4), object(1)\n",
      "memory usage: 3.8+ MB\n",
      "None\n",
      "\n",
      "Информация о df_2\n",
      "\n",
      "<class 'pandas.core.frame.DataFrame'>\n",
      "RangeIndex: 100000 entries, 0 to 99999\n",
      "Data columns (total 5 columns):\n",
      " #   Column   Non-Null Count   Dtype  \n",
      "---  ------   --------------   -----  \n",
      " 0   id       100000 non-null  object \n",
      " 1   f0       100000 non-null  float64\n",
      " 2   f1       100000 non-null  float64\n",
      " 3   f2       100000 non-null  float64\n",
      " 4   product  100000 non-null  float64\n",
      "dtypes: float64(4), object(1)\n",
      "memory usage: 3.8+ MB\n",
      "None\n",
      "\n"
     ]
    }
   ],
   "source": [
    "# вывод информации о датафремах\n",
    "i = len(df_list)\n",
    "for df, j in zip(df_list, range(0, i)):\n",
    "    print(\"Информация о df_{}\".format(j))\n",
    "    print()\n",
    "    print(df.info());\n",
    "    print()\n",
    "\n"
   ]
  },
  {
   "cell_type": "markdown",
   "id": "5b44e175",
   "metadata": {},
   "source": [
    "Проверка датасетов на пропуски"
   ]
  },
  {
   "cell_type": "code",
   "execution_count": 7,
   "id": "7226f42e",
   "metadata": {},
   "outputs": [
    {
     "name": "stdout",
     "output_type": "stream",
     "text": [
      "Пропуски в df_0\n",
      "\n",
      "id         0\n",
      "f0         0\n",
      "f1         0\n",
      "f2         0\n",
      "product    0\n",
      "dtype: int64\n",
      "\n",
      "Пропуски в df_1\n",
      "\n",
      "id         0\n",
      "f0         0\n",
      "f1         0\n",
      "f2         0\n",
      "product    0\n",
      "dtype: int64\n",
      "\n",
      "Пропуски в df_2\n",
      "\n",
      "id         0\n",
      "f0         0\n",
      "f1         0\n",
      "f2         0\n",
      "product    0\n",
      "dtype: int64\n",
      "\n"
     ]
    }
   ],
   "source": [
    "# проверка на пропуски\n",
    "i = len(df_list)\n",
    "for df, j in zip(df_list, range(0, i)):\n",
    "    print(\"Пропуски в df_{}\".format(j))\n",
    "    print()\n",
    "    print(df.isna().sum());\n",
    "    print()"
   ]
  },
  {
   "cell_type": "markdown",
   "id": "effd9ede",
   "metadata": {},
   "source": [
    "Проверим датасеты на дубликаты"
   ]
  },
  {
   "cell_type": "code",
   "execution_count": 8,
   "id": "3ced601a",
   "metadata": {},
   "outputs": [
    {
     "name": "stdout",
     "output_type": "stream",
     "text": [
      "дубликаты в df_0\n",
      "\n",
      "0\n",
      "\n",
      "дубликаты в df_1\n",
      "\n",
      "0\n",
      "\n",
      "дубликаты в df_2\n",
      "\n",
      "0\n",
      "\n"
     ]
    }
   ],
   "source": [
    "# проверка на наличие дубликатов\n",
    "i = len(df_list)\n",
    "for df, j in zip(df_list, range(0, i)):\n",
    "    print(\"дубликаты в df_{}\".format(j))\n",
    "    print()\n",
    "    print(df.duplicated().sum());\n",
    "    print()"
   ]
  },
  {
   "cell_type": "markdown",
   "id": "2f1f4ef4",
   "metadata": {},
   "source": [
    "Провелём проверку на наличие неявных дубликатов. Т.к. подразумевается, что id - уникальный параметр, проверка на на подсчёт уникальных параметров выдаст неявные дубликаты. Если попадаются одинаковые id - то это дубликат"
   ]
  },
  {
   "cell_type": "code",
   "execution_count": 9,
   "id": "e7c59ed7",
   "metadata": {
    "scrolled": true
   },
   "outputs": [
    {
     "name": "stdout",
     "output_type": "stream",
     "text": [
      "неявные дубликаты в df_2\n",
      "\n",
      "10\n",
      "\n",
      "неявные дубликаты в df_2\n",
      "\n",
      "4\n",
      "\n",
      "неявные дубликаты в df_2\n",
      "\n",
      "4\n",
      "\n"
     ]
    }
   ],
   "source": [
    "# проверка на скрытых дубликатов\n",
    "i = len(df_list)\n",
    "for df in df_list:\n",
    "    print(\"неявные дубликаты в df_{}\".format(j))\n",
    "    print()\n",
    "    print(df[df.duplicated('id')]['id'].count());\n",
    "    print()"
   ]
  },
  {
   "cell_type": "markdown",
   "id": "6b1f796f",
   "metadata": {},
   "source": [
    "Во всех таблицах встречаются одинаковые id. Из повторяющихся значений удалим все кроме первого"
   ]
  },
  {
   "cell_type": "code",
   "execution_count": 10,
   "id": "6b45ee13",
   "metadata": {},
   "outputs": [],
   "source": [
    "# удаление дубликатов\n",
    "i = len(df_list)\n",
    "for df in df_list:\n",
    "    df['id'] = df.drop_duplicates(subset='id')\n",
    "    \n"
   ]
  },
  {
   "cell_type": "code",
   "execution_count": 11,
   "id": "c884155d",
   "metadata": {
    "scrolled": true
   },
   "outputs": [
    {
     "name": "stdout",
     "output_type": "stream",
     "text": [
      "неявные дубликаты в df_0\n",
      "\n",
      "0\n",
      "\n",
      "неявные дубликаты в df_1\n",
      "\n",
      "0\n",
      "\n",
      "неявные дубликаты в df_2\n",
      "\n",
      "0\n",
      "\n"
     ]
    }
   ],
   "source": [
    "# проверка\n",
    "i = len(df_list)\n",
    "for df, j in zip(df_list, range(0, i)):\n",
    "    print(\"неявные дубликаты в df_{}\".format(j))\n",
    "    print()\n",
    "    print(df[df.duplicated('id')]['id'].count());\n",
    "    print()\n"
   ]
  },
  {
   "cell_type": "markdown",
   "id": "7b1a91a1",
   "metadata": {},
   "source": [
    "Далее визуализируем распределение целевой переменной product. Это позволит понять, если особенности распределения и сходство между распределение в разных регионах."
   ]
  },
  {
   "cell_type": "code",
   "execution_count": 12,
   "id": "4f888b1e",
   "metadata": {},
   "outputs": [
    {
     "data": {
      "image/png": "[encoded data removed]",
      "text/plain": [
       "<Figure size 648x504 with 1 Axes>"
      ]
     },
     "metadata": {
      "needs_background": "light"
     },
     "output_type": "display_data"
    },
    {
     "data": {
      "image/png": "[encoded data removed]",
      "text/plain": [
       "<Figure size 648x504 with 1 Axes>"
      ]
     },
     "metadata": {
      "needs_background": "light"
     },
     "output_type": "display_data"
    },
    {
     "data": {
      "image/png": "[encoded data removed]",
      "text/plain": [
       "<Figure size 648x504 with 1 Axes>"
      ]
     },
     "metadata": {
      "needs_background": "light"
     },
     "output_type": "display_data"
    }
   ],
   "source": [
    "i = 1\n",
    "for df in df_list:\n",
    "    df.hist(column='product', bins=30)\n",
    "    plt.title(f'Распределение добычи по скважинам на участе №{i}')\n",
    "    plt.xlabel('Количество скважин')\n",
    "    plt.ylabel('Добыча в тыс. баррелей')\n",
    "    plt.show()\n",
    "    i+=1"
   ]
  },
  {
   "cell_type": "markdown",
   "id": "94710e2c",
   "metadata": {},
   "source": [
    "Распределение в первом и третьем регионах схожи и похоже на нормальное распределение. Во втором регионе много минимальных и максимальных значений, между ними множество схожих. Это распределение выглядит подозрительно, как искусственно сгенерированное. \n",
    "\n",
    "Далее проверим признаки на корреляцию"
   ]
  },
  {
   "cell_type": "code",
   "execution_count": 13,
   "id": "8d5858e3",
   "metadata": {},
   "outputs": [
    {
     "name": "stdout",
     "output_type": "stream",
     "text": [
      "корреляция в df_0\n",
      "\n",
      "               f0        f1        f2   product\n",
      "f0       1.000000 -0.440723 -0.003153  0.143536\n",
      "f1      -0.440723  1.000000  0.001724 -0.192356\n",
      "f2      -0.003153  0.001724  1.000000  0.483663\n",
      "product  0.143536 -0.192356  0.483663  1.000000\n",
      "\n",
      "корреляция в df_1\n",
      "\n",
      "               f0        f1        f2   product\n",
      "f0       1.000000  0.182287 -0.001777 -0.030491\n",
      "f1       0.182287  1.000000 -0.002595 -0.010155\n",
      "f2      -0.001777 -0.002595  1.000000  0.999397\n",
      "product -0.030491 -0.010155  0.999397  1.000000\n",
      "\n",
      "корреляция в df_2\n",
      "\n",
      "               f0        f1        f2   product\n",
      "f0       1.000000  0.000528 -0.000448 -0.001987\n",
      "f1       0.000528  1.000000  0.000779 -0.001012\n",
      "f2      -0.000448  0.000779  1.000000  0.445871\n",
      "product -0.001987 -0.001012  0.445871  1.000000\n",
      "\n"
     ]
    }
   ],
   "source": [
    "# проверка на корреляцию\n",
    "i = len(df_list)\n",
    "for df, j in zip(df_list, range(0, i)):\n",
    "    print(\"корреляция в df_{}\".format(j))\n",
    "    print()\n",
    "    print(df.corr());\n",
    "    print()"
   ]
  },
  {
   "cell_type": "markdown",
   "id": "75f39dea",
   "metadata": {},
   "source": [
    "Во всех регионах корреляция целевого признака, 'product', выше всего с признаком 'f2', во втором регионе корреляция с признаком 'f2' аномально высокая, по сути, целевой признак почти полностью зависит от 'f2'"
   ]
  },
  {
   "cell_type": "markdown",
   "id": "17eba719",
   "metadata": {},
   "source": [
    "Перед проверкой модели, удалим признаки, которые нам пока не понадобятся"
   ]
  },
  {
   "cell_type": "code",
   "execution_count": 14,
   "id": "c0d33f89",
   "metadata": {},
   "outputs": [],
   "source": [
    "# копирование датафрейма перед удаление лишнего признака\n",
    "i = len(df_list)\n",
    "for df, j in zip(df_list, range(0, i)):\n",
    "    locals()['df_old_' + str(j)] = df.copy()"
   ]
  },
  {
   "cell_type": "code",
   "execution_count": 15,
   "id": "b5d72646",
   "metadata": {},
   "outputs": [
    {
     "data": {
      "text/html": [
       "<div>\n",
       "<style scoped>\n",
       "    .dataframe tbody tr th:only-of-type {\n",
       "        vertical-align: middle;\n",
       "    }\n",
       "\n",
       "    .dataframe tbody tr th {\n",
       "        vertical-align: top;\n",
       "    }\n",
       "\n",
       "    .dataframe thead th {\n",
       "        text-align: right;\n",
       "    }\n",
       "</style>\n",
       "<table border=\"1\" class=\"dataframe\">\n",
       "  <thead>\n",
       "    <tr style=\"text-align: right;\">\n",
       "      <th></th>\n",
       "      <th>id</th>\n",
       "      <th>f0</th>\n",
       "      <th>f1</th>\n",
       "      <th>f2</th>\n",
       "      <th>product</th>\n",
       "    </tr>\n",
       "  </thead>\n",
       "  <tbody>\n",
       "    <tr>\n",
       "      <th>0</th>\n",
       "      <td>txEyH</td>\n",
       "      <td>0.705745</td>\n",
       "      <td>-0.497823</td>\n",
       "      <td>1.221170</td>\n",
       "      <td>105.280062</td>\n",
       "    </tr>\n",
       "    <tr>\n",
       "      <th>1</th>\n",
       "      <td>2acmU</td>\n",
       "      <td>1.334711</td>\n",
       "      <td>-0.340164</td>\n",
       "      <td>4.365080</td>\n",
       "      <td>73.037750</td>\n",
       "    </tr>\n",
       "    <tr>\n",
       "      <th>2</th>\n",
       "      <td>409Wp</td>\n",
       "      <td>1.022732</td>\n",
       "      <td>0.151990</td>\n",
       "      <td>1.419926</td>\n",
       "      <td>85.265647</td>\n",
       "    </tr>\n",
       "    <tr>\n",
       "      <th>3</th>\n",
       "      <td>iJLyR</td>\n",
       "      <td>-0.032172</td>\n",
       "      <td>0.139033</td>\n",
       "      <td>2.978566</td>\n",
       "      <td>168.620776</td>\n",
       "    </tr>\n",
       "    <tr>\n",
       "      <th>4</th>\n",
       "      <td>Xdl7t</td>\n",
       "      <td>1.988431</td>\n",
       "      <td>0.155413</td>\n",
       "      <td>4.751769</td>\n",
       "      <td>154.036647</td>\n",
       "    </tr>\n",
       "  </tbody>\n",
       "</table>\n",
       "</div>"
      ],
      "text/plain": [
       "      id        f0        f1        f2     product\n",
       "0  txEyH  0.705745 -0.497823  1.221170  105.280062\n",
       "1  2acmU  1.334711 -0.340164  4.365080   73.037750\n",
       "2  409Wp  1.022732  0.151990  1.419926   85.265647\n",
       "3  iJLyR -0.032172  0.139033  2.978566  168.620776\n",
       "4  Xdl7t  1.988431  0.155413  4.751769  154.036647"
      ]
     },
     "execution_count": 15,
     "metadata": {},
     "output_type": "execute_result"
    }
   ],
   "source": [
    "# проверка\n",
    "df_old_0.head()"
   ]
  },
  {
   "cell_type": "code",
   "execution_count": 16,
   "id": "a4e1a047",
   "metadata": {},
   "outputs": [],
   "source": [
    "# удаление признака который нам пока не нужен\n",
    "i = len(df_list)\n",
    "for df, j in zip(df_list, range(0, i)):\n",
    "    df_list[j] = df.drop('id', axis=1)\n",
    "    "
   ]
  },
  {
   "cell_type": "code",
   "execution_count": 17,
   "id": "5f951bf5",
   "metadata": {
    "scrolled": true
   },
   "outputs": [
    {
     "name": "stdout",
     "output_type": "stream",
     "text": [
      "df_0:\n",
      "         f0        f1       f2     product\n",
      "0  0.705745 -0.497823  1.22117  105.280062\n",
      "\n",
      "df_1:\n",
      "          f0     f1        f2   product\n",
      "0 -15.001348 -8.276 -0.005876  3.179103\n",
      "\n",
      "df_2:\n",
      "         f0        f1        f2    product\n",
      "0 -1.146987  0.963328 -0.828965  27.758673\n",
      "\n"
     ]
    }
   ],
   "source": [
    "# проверка удаления\n",
    "i=0\n",
    "for df in df_list:\n",
    "    print(f\"df_{i}:\")\n",
    "    print(df.head(1))\n",
    "    print()\n",
    "    i+=1"
   ]
  },
  {
   "cell_type": "markdown",
   "id": "86cac68e",
   "metadata": {},
   "source": [
    "Считаем данные достаточно подготовленными, пропусков и дубликатов нет, все данных в датафреймах - числовые"
   ]
  },
  {
   "cell_type": "markdown",
   "id": "4bc82889",
   "metadata": {},
   "source": [
    "## Исследование задачи"
   ]
  },
  {
   "cell_type": "markdown",
   "id": "5d0d4ca1",
   "metadata": {},
   "source": [
    "Есть желание объедить датафреймы для удобства и большей базы для обучения модели. Но на разных месторождениях могут быть разные зависимости между параметрами и поэтому объединять их не будем.\n",
    "Разделим датафреймы на обучающую и целевую выборки, затем на тренировочную и валдиную, после чего обучим модели."
   ]
  },
  {
   "cell_type": "code",
   "execution_count": 18,
   "id": "0f3f0dc6",
   "metadata": {},
   "outputs": [],
   "source": [
    "# разбивка датафрейма на обучающие и целевые признаки\n",
    "def take_features (data, attribute):\n",
    "        features = data.drop(attribute, axis=1)\n",
    "        return features\n",
    "    \n",
    "def take_target (data, attribute):\n",
    "        target = data[attribute]\n",
    "        return target"
   ]
  },
  {
   "cell_type": "code",
   "execution_count": 19,
   "id": "59dcda5c",
   "metadata": {},
   "outputs": [],
   "source": [
    "i = 0\n",
    "list_features = []\n",
    "list_target = []\n",
    "for df in df_list:\n",
    "    x = take_features(df, GOAL)\n",
    "    y = take_target(df, GOAL)\n",
    "    list_features.append(x)\n",
    "    list_target.append(y)\n",
    "    i += 1\n",
    "    \n"
   ]
  },
  {
   "cell_type": "code",
   "execution_count": 20,
   "id": "60ed6186",
   "metadata": {
    "scrolled": true
   },
   "outputs": [
    {
     "name": "stdout",
     "output_type": "stream",
     "text": [
      "df_0:\n",
      "         f0        f1       f2\n",
      "0  0.705745 -0.497823  1.22117\n",
      "\n",
      "df_1:\n",
      "          f0     f1        f2\n",
      "0 -15.001348 -8.276 -0.005876\n",
      "\n",
      "df_2:\n",
      "         f0        f1        f2\n",
      "0 -1.146987  0.963328 -0.828965\n",
      "\n"
     ]
    }
   ],
   "source": [
    "i = 0\n",
    "for features in list_features:\n",
    "    print(f'df_{i}:')\n",
    "    print(features.head(1))\n",
    "    print()\n",
    "    i += 1"
   ]
  },
  {
   "cell_type": "markdown",
   "id": "03539d67",
   "metadata": {},
   "source": [
    "Разобьём выборки на тренировочную и валидную"
   ]
  },
  {
   "cell_type": "code",
   "execution_count": 21,
   "id": "41f1fc04",
   "metadata": {},
   "outputs": [],
   "source": [
    "def take_train_and_valid(features, target):\n",
    "    features_train, features_valid, target_train, target_valid =\\\n",
    "    train_test_split(features, target, test_size=0.25, random_state=RANDOM_STATE)\n",
    "    return features_train, features_valid, target_train, target_valid\n",
    "\n",
    "\n",
    "    "
   ]
  },
  {
   "cell_type": "code",
   "execution_count": 22,
   "id": "521baad7",
   "metadata": {},
   "outputs": [],
   "source": [
    "# разбивка датафрейма на обучющую и валидную выборки\n",
    "list_features_train = []\n",
    "list_features_valid = []\n",
    "list_target_train = []\n",
    "list_target_valid = []\n",
    "for features, target, j in zip(list_features, list_target, range(0, len(list_features))):\n",
    "    features_train, features_valid, target_train, target_valid =\\\n",
    "    take_train_and_valid(features, target)\n",
    "    list_features_train.append(features_train)\n",
    "    list_features_valid.append(features_valid)\n",
    "    list_target_train.append(target_train)\n",
    "    list_target_valid.append(target_valid)\n"
   ]
  },
  {
   "cell_type": "code",
   "execution_count": 23,
   "id": "1ffb6f61",
   "metadata": {},
   "outputs": [
    {
     "name": "stdout",
     "output_type": "stream",
     "text": [
      "features_train_0:\n",
      "             f0        f1        f2\n",
      "98980  1.611925 -0.151874  1.221668\n",
      "\n",
      "features_valid_0:\n",
      "             f0        f1        f2\n",
      "75721  0.599283 -0.557623  2.121187\n",
      "\n",
      "target_train,_0:\n",
      "98980    105.179287\n",
      "Name: product, dtype: float64\n",
      "\n",
      "target_valid_0:\n",
      "75721    122.07335\n",
      "Name: product, dtype: float64\n",
      "\n",
      "features_train_1:\n",
      "             f0        f1       f2\n",
      "45440  6.496237 -8.423664  5.00011\n",
      "\n",
      "features_valid_1:\n",
      "             f0        f1        f2\n",
      "84348 -4.290822 -0.112987  4.997867\n",
      "\n",
      "target_train,_1:\n",
      "45440    134.766305\n",
      "Name: product, dtype: float64\n",
      "\n",
      "target_valid_1:\n",
      "84348    137.945408\n",
      "Name: product, dtype: float64\n",
      "\n",
      "features_train_2:\n",
      "             f0        f1        f2\n",
      "64847  0.786865 -0.636662 -4.198678\n",
      "\n",
      "features_valid_2:\n",
      "             f0        f1        f2\n",
      "95120 -0.888283 -0.136273  3.911332\n",
      "\n",
      "target_train,_2:\n",
      "64847    130.867512\n",
      "Name: product, dtype: float64\n",
      "\n",
      "target_valid_2:\n",
      "95120    12.129573\n",
      "Name: product, dtype: float64\n",
      "\n"
     ]
    }
   ],
   "source": [
    "# проверка\n",
    "i = 0\n",
    "for features_train, features_valid, target_train, target_valid\\\n",
    "in zip(list_features_train, list_features_valid, list_target_train, list_target_valid):\n",
    "    print(f'features_train_{i}:') \n",
    "    print(features_train.head(1))\n",
    "    print()\n",
    "    print(f'features_valid_{i}:')\n",
    "    print(features_valid.head(1))\n",
    "    print()\n",
    "    print(f'target_train,_{i}:')\n",
    "    print(target_train.head(1))\n",
    "    print()\n",
    "    print(f'target_valid_{i}:')\n",
    "    print(target_valid.head(1))\n",
    "    print()\n",
    "    i+=1\n",
    "    "
   ]
  },
  {
   "cell_type": "code",
   "execution_count": 24,
   "id": "6da90d88",
   "metadata": {},
   "outputs": [
    {
     "name": "stdout",
     "output_type": "stream",
     "text": [
      "Linear Regression для региона №1\n",
      "MSE_0 = 1425.5608700093812\n",
      "RMSE_0 = 37.75660035026169\n",
      "Средний запас сырья: 92.32595637084387\n",
      "Среднеедний запас предсказанного сырья: 92.39879990657768\n",
      "\n",
      "Linear Regression для региона №2\n",
      "MSE_1 = 0.7920060236213451\n",
      "RMSE_1 = 0.8899472027156135\n",
      "Средний запас сырья: 68.59968732439852\n",
      "Среднеедний запас предсказанного сырья: 68.58780312701154\n",
      "\n",
      "Linear Regression для региона №3\n",
      "MSE_2 = 1619.0443657160029\n",
      "RMSE_2 = 40.23735038140562\n",
      "Средний запас сырья: 95.03521872476617\n",
      "Среднеедний запас предсказанного сырья: 95.09230341410031\n",
      "\n"
     ]
    }
   ],
   "source": [
    "i = 0\n",
    "list_predicted = []\n",
    "for features_train, features_valid, target_train, target_valid\\\n",
    "in zip(list_features_train, list_features_valid, list_target_train, list_target_valid):\n",
    "    model = LinearRegression() # объявление модели\n",
    "    model.fit(features_train, target_train) # тренировка модли\n",
    "    predict = model.predict(features_valid) # предсказание модели\n",
    "    mse = mean_squared_error(target_valid, predict)\n",
    "    rmse = mse ** 0.5 # расчет MSE и RMSE\n",
    "\n",
    "    print(f\"Linear Regression для региона №{i+1}\")\n",
    "    print(f\"MSE_{i} =\", mse)\n",
    "    print(f\"RMSE_{i} =\", rmse)\n",
    "    print(\"Средний запас сырья:\", target_valid.mean())\n",
    "    print(\"Среднеедний запас предсказанного сырья:\", predict.mean())\n",
    "    print()\n",
    "    i += 1\n",
    "    \n",
    "    # создаём выборку из предсказаний\n",
    "    predicted_series = pd.Series(predict, index = target_valid.index)\n",
    "    list_predicted.append(predicted_series)\n"
   ]
  },
  {
   "cell_type": "markdown",
   "id": "a1c1efda",
   "metadata": {},
   "source": [
    "Средняя квадратичная ошибка минимальна для рассчета модели во втором регионе. Это наверняка связано со странным наполнением датафрейма для второго региона. Для первого и третьего она около 40тыс. баррелей.\n",
    "При этм средние запасы предсказанного сырья в первом и третьем регионе примерно равны и на треть выше чем во втором регионе. В моделях для всех трёх регионов средний запас сырья почти не отличается от среднего запаса предсказзного сырья."
   ]
  },
  {
   "cell_type": "markdown",
   "id": "857adfd9",
   "metadata": {},
   "source": [
    "## Подготовка к рассчёту прибыли"
   ]
  },
  {
   "cell_type": "markdown",
   "id": "53adc4de",
   "metadata": {},
   "source": [
    "Рассчитаем какой объем сырья необходим для безубыточной добычи в регионе.\n",
    "\n",
    "При разведке региона исследуют 500 точек, из которых с помощью машинного обучения выбирают 200 лучших для разработки.\n",
    "\n",
    "Бюджет на разработку скважин в регионе — 10 млрд рублей.\n",
    "\n",
    "При нынешних ценах один баррель сырья приносит 450 рублей дохода. Доход с каждой единицы продукта составляет 450 тыс. рублей, поскольку объём указан в тысячах баррелей."
   ]
  },
  {
   "cell_type": "markdown",
   "id": "80251b7c",
   "metadata": {},
   "source": [
    "Для безубычтоной добычи считаем что доход от добычы в двухста лучших точках должен быть больше или равен бюджету."
   ]
  },
  {
   "cell_type": "code",
   "execution_count": 25,
   "id": "1e658536",
   "metadata": {},
   "outputs": [
    {
     "name": "stdout",
     "output_type": "stream",
     "text": [
      "Средний доход с с точке для безубыточности: 50000.0\n",
      "Средний объем нефти в точке для безубыточности по текущим ценам: 111.11111111111111\n"
     ]
    }
   ],
   "source": [
    "# cчитаем средний доход с точки для безубыточности\n",
    "mean_income = BUDGET / DOTS_BEST\n",
    "print(\"Средний доход с с точке для безубыточности:\", mean_income)\n",
    "\n",
    "# считаем средний объем нефти в точки для безубыточности по текущим ценам\n",
    "mean_stock = mean_income / BARREL_PRICE\n",
    "print(\"Средний объем нефти в точке для безубыточности по текущим ценам:\", mean_stock)"
   ]
  },
  {
   "cell_type": "markdown",
   "id": "aced58b4",
   "metadata": {},
   "source": [
    "Для безубыточной рзработки в регионе необходимо, чтобы запас сырья в 200 лучших точках было выше 111 тыч. баррелей. Среднее по всем трём данным регионам пока ниже. Но у нас пока есть среднее по всем точкам в регионе, а не по лучшим."
   ]
  },
  {
   "cell_type": "markdown",
   "id": "a6d09124",
   "metadata": {},
   "source": [
    "Машинное обучение в данном проекта нужно для расчёта среднего значения запасов по региону, даже если сведения в регионе не полные. Для проверки возможнен ли выхож на безубыточную добычу в региону нужно выбрать 200 лучших точек из всего региона для добычи. Для этого нужно провести бустрорапирование данных."
   ]
  },
  {
   "cell_type": "markdown",
   "id": "44794a73",
   "metadata": {},
   "source": [
    "Далее напишим функцию для расчёта прибыли по выбранным скважинам и предсказаниям модели."
   ]
  },
  {
   "cell_type": "markdown",
   "id": "fe30fcb9",
   "metadata": {},
   "source": [
    "## Создание функции для расчёта прибыли по выбранным скважинам и предсказаниям модели"
   ]
  },
  {
   "cell_type": "markdown",
   "id": "15585471",
   "metadata": {},
   "source": [
    " 1. Выберем скважины с максимальными значениями предсказаний. \n",
    " 2. Просуммируем целевое значение объёма сырья, соответствующее этим предсказаниям.\n",
    " 3. Рассчитаем прибыль для полученного объёма сырья.\n"
   ]
  },
  {
   "cell_type": "code",
   "execution_count": 26,
   "id": "6da4e783",
   "metadata": {},
   "outputs": [],
   "source": [
    "# создание функции расчёта прибыли\n",
    "def profitability (target, predict, budget, price, count): # в параметры вкладывам предсказанные значения и стоимость сырья\n",
    "    predict_sorted = predict.sort_values(ascending=False) # находим 200 самых прибыльных точек по предсказанным значениям\n",
    "    best = target[predict_sorted.index][:count] # выбираем лучшие но по фактическим индексам    \n",
    "    best_sum = best.sum() # суммируем объёмы сырья в лучших точках\n",
    "    profit = best_sum * price - BUDGET # находим прибыль для полученного объёма сырья\n",
    "    return profit"
   ]
  },
  {
   "cell_type": "markdown",
   "id": "edb2ba61",
   "metadata": {},
   "source": [
    "## Расчёт рисков и прибыли для каждого региона"
   ]
  },
  {
   "cell_type": "markdown",
   "id": "511f9687",
   "metadata": {},
   "source": [
    " Применим технику Bootstrap с 1000 выборок, чтобы найти распределение прибыли.\n",
    " \n",
    " Найдём среднюю прибыль, 95%-й доверительный интервал и риск убытков. Убыток — это отрицательная прибыль.\n",
    " \n",
    " После оценки рисков нужно оставить лишь те регионы, в которых вероятность убытков меньше 2.5%. Среди них выбираем регион с наибольшей средней прибылью."
   ]
  },
  {
   "cell_type": "code",
   "execution_count": 27,
   "id": "8c8eab00",
   "metadata": {},
   "outputs": [],
   "source": [
    "# Нахождение прибыльности точки по реальным значениями\n",
    "def revenue_of_region (list_target, list_predictions):\n",
    "    \n",
    "    values_target = []\n",
    "    list_target = pd.Series(list_target)\n",
    "    list_predictions = pd.Series(list_predictions)\n",
    "    i = 0\n",
    "    for target, predict in zip(list_target, list_predictions):\n",
    "        values = []    \n",
    "        for j in range(1000):\n",
    "            target_subsample = target.sample(n=500,\n",
    "                                      replace=True,\n",
    "                                      random_state=RANDOM_STATE) # генерация подвыборки, выбираем из 500 точек\n",
    "            predict_subsample = predict[target_subsample.index]\n",
    "            profit = profitability(target_subsample, predict_subsample, BUDGET, BARREL_PRICE, DOTS_BEST) # нахождение прибыльности точки\n",
    "            values.append(profit)\n",
    "        values=pd.Series(values)\n",
    "\n",
    "\n",
    "\n",
    "        values_mean = values.mean() # средняя доходность точке\n",
    "\n",
    "        lower_target = values.quantile(0.025) # нижняя граница доверительного 95% интервала\n",
    "        upper_target = values.quantile(0.975) # верхняя граница доверительного 95% интервала\n",
    "\n",
    "        print(f\"В {i+1}м регионе:\")\n",
    "\n",
    "        print(\"Средняя прибыль по реальным значениям:\", values_mean, \"тыс. руб\") # вычитаем бюджет из дохода\n",
    "        print()\n",
    "\n",
    "        print(\"Нижняя граница доверительного 95% интервала по реальным значениям:\", lower_target, \"тыс. руб\")\n",
    "        print()\n",
    "\n",
    "        print(\"Верхняя граница доверительного 95% интервала по предсказанным значениям:\", upper_target, \"тыс. руб\")\n",
    "\n",
    "        # Нахождение доли убыточных разроботок    \n",
    "        print(f\"Доля убыточных разработок на реальной выборке в регионе №{i+1}\", len(values[values<0])/len(values))\n",
    "        print(\"\\n\")\n",
    "        \n",
    "        i+=1"
   ]
  },
  {
   "cell_type": "markdown",
   "id": "4d265c32",
   "metadata": {},
   "source": [
    "Расчитаем среднюю прибыль, доверительный интвервал и риск убытков по реигонам"
   ]
  },
  {
   "cell_type": "code",
   "execution_count": 28,
   "id": "fc6bff60",
   "metadata": {
    "scrolled": true
   },
   "outputs": [
    {
     "name": "stdout",
     "output_type": "stream",
     "text": [
      "В 1м регионе:\n",
      "Средняя прибыль по реальным значениям: 440446.61953533685 тыс. руб\n",
      "\n",
      "Нижняя граница доверительного 95% интервала по реальным значениям: -129698.2638755694 тыс. руб\n",
      "\n",
      "Верхняя граница доверительного 95% интервала по предсказанным значениям: 980351.5347801712 тыс. руб\n",
      "Доля убыточных разработок на реальной выборке в регионе №1 0.058\n",
      "\n",
      "\n",
      "В 2м регионе:\n",
      "Средняя прибыль по реальным значениям: 489036.1460885979 тыс. руб\n",
      "\n",
      "Нижняя граница доверительного 95% интервала по реальным значениям: 63878.578768579944 тыс. руб\n",
      "\n",
      "Верхняя граница доверительного 95% интервала по предсказанным значениям: 900130.4555331349 тыс. руб\n",
      "Доля убыточных разработок на реальной выборке в регионе №2 0.01\n",
      "\n",
      "\n",
      "В 3м регионе:\n",
      "Средняя прибыль по реальным значениям: 343559.87128002784 тыс. руб\n",
      "\n",
      "Нижняя граница доверительного 95% интервала по реальным значениям: -210907.75068006336 тыс. руб\n",
      "\n",
      "Верхняя граница доверительного 95% интервала по предсказанным значениям: 884771.2145797132 тыс. руб\n",
      "Доля убыточных разработок на реальной выборке в регионе №3 0.119\n",
      "\n",
      "\n"
     ]
    }
   ],
   "source": [
    "# расчёт средней прибыли, доверительного интвервала и риска убытков по реигонам\n",
    "revenue_of_region(list_target_valid, list_predicted)\n"
   ]
  },
  {
   "cell_type": "markdown",
   "id": "e5794134",
   "metadata": {},
   "source": [
    "## В итоге\n",
    "В этом проекте мы обучили модель логистической регрессии для пребсказания запасов нефти в скважине по параметрам скыважины дял трёх регионов. Самая точная модель получисась по второму региону. Далее провели подготовку для расчёта прибыльности скважин в регионе. Так как бюджет на разработку ограничен, мы выбрали 200 самых перспективных скважин и методом Бутстреп подсчитали перспективы прибыльности добычи в каждом из трёх регионов. Нашли среднюю прибыль, 95%-й доверительный интервал и риск убытков. Критичный порог риска убытков равен 2,5% Критический порог превышен только во первом регионе. Самый перспективный регион - 2й из трёх. Его средняя прибыль равна 0,48 млрд. руб., что выше чем у остальных двух и минимальный из регионов риск убытков. У первого региона риск убытов превышает пороговое значение. Из этих данных можно сделать вывод, что 2й регион являтеся самым перспективным\n",
    "\n",
    "В итоге у нас есть модель для прогнозирования и расчёта прибыльности региона по данных с скважин."
   ]
  }
 ],
 "metadata": {
  "ExecuteTimeLog": [
   {
    "duration": 3425,
    "start_time": "2023-09-27T15:36:54.034Z"
   },
   {
    "duration": 1664,
    "start_time": "2023-09-27T15:36:57.462Z"
   },
   {
    "duration": 14,
    "start_time": "2023-09-27T15:36:59.127Z"
   },
   {
    "duration": 1312,
    "start_time": "2023-09-27T15:36:59.142Z"
   },
   {
    "duration": 1511,
    "start_time": "2023-09-27T15:37:00.457Z"
   },
   {
    "duration": 1914,
    "start_time": "2023-09-27T15:37:01.970Z"
   },
   {
    "duration": 711,
    "start_time": "2023-09-27T15:37:03.885Z"
   },
   {
    "duration": 24,
    "start_time": "2023-09-27T15:37:04.598Z"
   },
   {
    "duration": 10,
    "start_time": "2023-09-27T15:37:04.623Z"
   },
   {
    "duration": 18,
    "start_time": "2023-09-27T15:37:04.635Z"
   },
   {
    "duration": 14,
    "start_time": "2023-09-27T15:37:04.655Z"
   },
   {
    "duration": 63,
    "start_time": "2023-09-27T15:37:04.671Z"
   },
   {
    "duration": 42,
    "start_time": "2023-09-27T15:37:04.736Z"
   },
   {
    "duration": 64,
    "start_time": "2023-09-27T15:37:04.781Z"
   },
   {
    "duration": 2,
    "start_time": "2023-09-27T15:37:04.847Z"
   },
   {
    "duration": 31,
    "start_time": "2023-09-27T15:37:04.851Z"
   },
   {
    "duration": 18,
    "start_time": "2023-09-27T15:37:04.884Z"
   },
   {
    "duration": 35,
    "start_time": "2023-09-27T15:37:04.903Z"
   },
   {
    "duration": 65,
    "start_time": "2023-09-27T15:37:04.940Z"
   },
   {
    "duration": 211,
    "start_time": "2023-09-27T15:37:05.007Z"
   },
   {
    "duration": 95,
    "start_time": "2023-09-27T15:37:05.220Z"
   },
   {
    "duration": 112,
    "start_time": "2023-09-27T15:37:05.318Z"
   },
   {
    "duration": 82,
    "start_time": "2023-09-27T15:37:05.432Z"
   },
   {
    "duration": 119,
    "start_time": "2023-09-27T15:37:05.517Z"
   },
   {
    "duration": 43,
    "start_time": "2023-09-27T15:37:05.638Z"
   },
   {
    "duration": 489,
    "start_time": "2023-09-27T15:37:05.683Z"
   },
   {
    "duration": 409,
    "start_time": "2023-09-27T15:37:06.174Z"
   },
   {
    "duration": 396,
    "start_time": "2023-09-27T15:37:06.584Z"
   },
   {
    "duration": 2733,
    "start_time": "2023-09-28T08:17:25.154Z"
   },
   {
    "duration": 875,
    "start_time": "2023-09-28T08:26:28.060Z"
   },
   {
    "duration": 4,
    "start_time": "2023-09-28T08:26:52.437Z"
   },
   {
    "duration": 5,
    "start_time": "2023-09-28T08:26:52.443Z"
   },
   {
    "duration": 462,
    "start_time": "2023-09-28T08:26:52.450Z"
   },
   {
    "duration": 15,
    "start_time": "2023-09-28T08:26:52.914Z"
   },
   {
    "duration": 148,
    "start_time": "2023-09-28T08:26:52.931Z"
   },
   {
    "duration": 0,
    "start_time": "2023-09-28T08:26:53.081Z"
   },
   {
    "duration": 0,
    "start_time": "2023-09-28T08:26:53.083Z"
   },
   {
    "duration": 0,
    "start_time": "2023-09-28T08:26:53.084Z"
   },
   {
    "duration": 0,
    "start_time": "2023-09-28T08:26:53.085Z"
   },
   {
    "duration": 0,
    "start_time": "2023-09-28T08:26:53.087Z"
   },
   {
    "duration": 0,
    "start_time": "2023-09-28T08:26:53.088Z"
   },
   {
    "duration": 0,
    "start_time": "2023-09-28T08:26:53.089Z"
   },
   {
    "duration": 0,
    "start_time": "2023-09-28T08:26:53.090Z"
   },
   {
    "duration": 0,
    "start_time": "2023-09-28T08:26:53.091Z"
   },
   {
    "duration": 0,
    "start_time": "2023-09-28T08:26:53.092Z"
   },
   {
    "duration": 0,
    "start_time": "2023-09-28T08:26:53.093Z"
   },
   {
    "duration": 0,
    "start_time": "2023-09-28T08:26:53.094Z"
   },
   {
    "duration": 0,
    "start_time": "2023-09-28T08:26:53.095Z"
   },
   {
    "duration": 0,
    "start_time": "2023-09-28T08:26:53.097Z"
   },
   {
    "duration": 0,
    "start_time": "2023-09-28T08:26:53.098Z"
   },
   {
    "duration": 0,
    "start_time": "2023-09-28T08:26:53.100Z"
   },
   {
    "duration": 0,
    "start_time": "2023-09-28T08:26:53.101Z"
   },
   {
    "duration": 0,
    "start_time": "2023-09-28T08:26:53.102Z"
   },
   {
    "duration": 0,
    "start_time": "2023-09-28T08:26:53.104Z"
   },
   {
    "duration": 0,
    "start_time": "2023-09-28T08:26:53.105Z"
   },
   {
    "duration": 0,
    "start_time": "2023-09-28T08:26:53.106Z"
   },
   {
    "duration": 0,
    "start_time": "2023-09-28T08:26:53.107Z"
   },
   {
    "duration": 0,
    "start_time": "2023-09-28T08:26:53.147Z"
   },
   {
    "duration": 0,
    "start_time": "2023-09-28T08:26:53.149Z"
   },
   {
    "duration": 0,
    "start_time": "2023-09-28T08:26:53.150Z"
   },
   {
    "duration": 0,
    "start_time": "2023-09-28T08:26:53.151Z"
   },
   {
    "duration": 0,
    "start_time": "2023-09-28T08:26:53.152Z"
   },
   {
    "duration": 437,
    "start_time": "2023-09-28T08:27:17.036Z"
   },
   {
    "duration": 12,
    "start_time": "2023-09-28T08:27:18.428Z"
   },
   {
    "duration": 13,
    "start_time": "2023-09-28T08:27:18.732Z"
   },
   {
    "duration": 13,
    "start_time": "2023-09-28T08:27:18.900Z"
   },
   {
    "duration": 18,
    "start_time": "2023-09-28T08:27:19.386Z"
   },
   {
    "duration": 16,
    "start_time": "2023-09-28T08:27:19.524Z"
   },
   {
    "duration": 17,
    "start_time": "2023-09-28T08:27:20.020Z"
   },
   {
    "duration": 12,
    "start_time": "2023-09-28T08:27:20.475Z"
   },
   {
    "duration": 11,
    "start_time": "2023-09-28T08:27:20.619Z"
   },
   {
    "duration": 12,
    "start_time": "2023-09-28T08:27:20.747Z"
   },
   {
    "duration": 48,
    "start_time": "2023-09-28T08:27:21.203Z"
   },
   {
    "duration": 13,
    "start_time": "2023-09-28T08:29:17.935Z"
   },
   {
    "duration": 14,
    "start_time": "2023-09-28T08:29:32.042Z"
   },
   {
    "duration": 12,
    "start_time": "2023-09-28T08:29:36.402Z"
   },
   {
    "duration": 17,
    "start_time": "2023-09-28T08:29:40.985Z"
   },
   {
    "duration": 100,
    "start_time": "2023-09-28T08:33:35.233Z"
   },
   {
    "duration": 56,
    "start_time": "2023-09-28T08:33:42.010Z"
   },
   {
    "duration": 62,
    "start_time": "2023-09-28T08:33:46.091Z"
   },
   {
    "duration": 68,
    "start_time": "2023-09-28T08:34:10.865Z"
   },
   {
    "duration": 20,
    "start_time": "2023-09-28T08:34:26.625Z"
   },
   {
    "duration": 79,
    "start_time": "2023-09-28T08:34:29.975Z"
   },
   {
    "duration": 33,
    "start_time": "2023-09-28T08:36:04.577Z"
   },
   {
    "duration": 101,
    "start_time": "2023-09-28T08:36:35.276Z"
   },
   {
    "duration": 77,
    "start_time": "2023-09-28T08:36:41.021Z"
   },
   {
    "duration": 69,
    "start_time": "2023-09-28T08:36:46.245Z"
   },
   {
    "duration": 60,
    "start_time": "2023-09-28T08:36:57.365Z"
   },
   {
    "duration": 71,
    "start_time": "2023-09-28T08:37:00.092Z"
   },
   {
    "duration": 61,
    "start_time": "2023-09-28T08:37:02.838Z"
   },
   {
    "duration": 33,
    "start_time": "2023-09-28T08:37:09.021Z"
   },
   {
    "duration": 18,
    "start_time": "2023-09-28T08:38:23.198Z"
   },
   {
    "duration": 22,
    "start_time": "2023-09-28T08:39:13.701Z"
   },
   {
    "duration": 70,
    "start_time": "2023-09-28T08:50:35.743Z"
   },
   {
    "duration": 58,
    "start_time": "2023-09-28T08:50:36.551Z"
   },
   {
    "duration": 31,
    "start_time": "2023-09-28T08:50:38.272Z"
   },
   {
    "duration": 15,
    "start_time": "2023-09-28T08:50:42.177Z"
   },
   {
    "duration": 20,
    "start_time": "2023-09-28T08:50:50.812Z"
   },
   {
    "duration": 197,
    "start_time": "2023-09-28T08:52:46.764Z"
   },
   {
    "duration": 10,
    "start_time": "2023-09-28T08:58:05.854Z"
   },
   {
    "duration": 34,
    "start_time": "2023-09-28T08:58:17.940Z"
   },
   {
    "duration": 33,
    "start_time": "2023-09-28T08:58:35.463Z"
   },
   {
    "duration": 36,
    "start_time": "2023-09-28T08:58:40.680Z"
   },
   {
    "duration": 5,
    "start_time": "2023-09-28T08:58:44.838Z"
   },
   {
    "duration": 456,
    "start_time": "2023-09-28T08:58:44.844Z"
   },
   {
    "duration": 11,
    "start_time": "2023-09-28T08:58:45.302Z"
   },
   {
    "duration": 52,
    "start_time": "2023-09-28T08:58:45.316Z"
   },
   {
    "duration": 30,
    "start_time": "2023-09-28T08:58:45.370Z"
   },
   {
    "duration": 26,
    "start_time": "2023-09-28T08:58:45.402Z"
   },
   {
    "duration": 16,
    "start_time": "2023-09-28T08:58:45.429Z"
   },
   {
    "duration": 16,
    "start_time": "2023-09-28T08:58:45.446Z"
   },
   {
    "duration": 32,
    "start_time": "2023-09-28T08:58:45.463Z"
   },
   {
    "duration": 11,
    "start_time": "2023-09-28T08:58:45.497Z"
   },
   {
    "duration": 12,
    "start_time": "2023-09-28T08:58:45.510Z"
   },
   {
    "duration": 86,
    "start_time": "2023-09-28T08:58:45.523Z"
   },
   {
    "duration": 58,
    "start_time": "2023-09-28T08:58:45.611Z"
   },
   {
    "duration": 59,
    "start_time": "2023-09-28T08:58:45.671Z"
   },
   {
    "duration": 37,
    "start_time": "2023-09-28T08:58:45.747Z"
   },
   {
    "duration": 104,
    "start_time": "2023-09-28T08:58:45.787Z"
   },
   {
    "duration": 93,
    "start_time": "2023-09-28T08:58:45.893Z"
   },
   {
    "duration": 217,
    "start_time": "2023-09-28T08:58:45.988Z"
   },
   {
    "duration": 79,
    "start_time": "2023-09-28T08:58:46.207Z"
   },
   {
    "duration": 13,
    "start_time": "2023-09-28T08:58:46.288Z"
   },
   {
    "duration": 14,
    "start_time": "2023-09-28T08:58:46.303Z"
   },
   {
    "duration": 37,
    "start_time": "2023-09-28T08:58:46.318Z"
   },
   {
    "duration": 16,
    "start_time": "2023-09-28T08:58:46.356Z"
   },
   {
    "duration": 46,
    "start_time": "2023-09-28T08:58:46.374Z"
   },
   {
    "duration": 127,
    "start_time": "2023-09-28T08:58:46.422Z"
   },
   {
    "duration": 109,
    "start_time": "2023-09-28T08:58:46.551Z"
   },
   {
    "duration": 190,
    "start_time": "2023-09-28T08:58:46.663Z"
   },
   {
    "duration": 95,
    "start_time": "2023-09-28T08:58:46.855Z"
   },
   {
    "duration": 117,
    "start_time": "2023-09-28T08:58:46.956Z"
   },
   {
    "duration": 31,
    "start_time": "2023-09-28T08:58:47.075Z"
   },
   {
    "duration": 10,
    "start_time": "2023-09-28T08:58:47.108Z"
   },
   {
    "duration": 447,
    "start_time": "2023-09-28T08:58:47.120Z"
   },
   {
    "duration": 6,
    "start_time": "2023-09-28T08:58:47.569Z"
   },
   {
    "duration": 35,
    "start_time": "2023-09-28T08:58:47.577Z"
   },
   {
    "duration": 426,
    "start_time": "2023-09-28T08:58:47.613Z"
   },
   {
    "duration": 444,
    "start_time": "2023-09-28T08:58:48.041Z"
   },
   {
    "duration": 12,
    "start_time": "2023-09-28T08:59:10.695Z"
   },
   {
    "duration": 4,
    "start_time": "2023-09-28T08:59:30.728Z"
   },
   {
    "duration": 502,
    "start_time": "2023-09-28T08:59:30.734Z"
   },
   {
    "duration": 10,
    "start_time": "2023-09-28T08:59:31.238Z"
   },
   {
    "duration": 33,
    "start_time": "2023-09-28T08:59:31.250Z"
   },
   {
    "duration": 46,
    "start_time": "2023-09-28T08:59:31.285Z"
   },
   {
    "duration": 59,
    "start_time": "2023-09-28T08:59:31.333Z"
   },
   {
    "duration": 30,
    "start_time": "2023-09-28T08:59:31.394Z"
   },
   {
    "duration": 43,
    "start_time": "2023-09-28T08:59:31.426Z"
   },
   {
    "duration": 38,
    "start_time": "2023-09-28T08:59:31.472Z"
   },
   {
    "duration": 37,
    "start_time": "2023-09-28T08:59:31.512Z"
   },
   {
    "duration": 101,
    "start_time": "2023-09-28T08:59:31.551Z"
   },
   {
    "duration": 71,
    "start_time": "2023-09-28T08:59:31.654Z"
   },
   {
    "duration": 47,
    "start_time": "2023-09-28T08:59:31.728Z"
   },
   {
    "duration": 84,
    "start_time": "2023-09-28T08:59:31.777Z"
   },
   {
    "duration": 23,
    "start_time": "2023-09-28T08:59:33.725Z"
   },
   {
    "duration": 95,
    "start_time": "2023-09-28T09:00:32.065Z"
   },
   {
    "duration": 58,
    "start_time": "2023-09-28T09:00:38.722Z"
   },
   {
    "duration": 50,
    "start_time": "2023-09-28T09:02:40.470Z"
   },
   {
    "duration": 31,
    "start_time": "2023-09-28T09:02:54.552Z"
   },
   {
    "duration": 24,
    "start_time": "2023-09-28T09:03:02.938Z"
   },
   {
    "duration": 23,
    "start_time": "2023-09-28T09:03:10.657Z"
   },
   {
    "duration": 23,
    "start_time": "2023-09-28T09:03:26.707Z"
   },
   {
    "duration": 25,
    "start_time": "2023-09-28T09:03:37.181Z"
   },
   {
    "duration": 24,
    "start_time": "2023-09-28T09:03:45.829Z"
   },
   {
    "duration": 22,
    "start_time": "2023-09-28T09:03:50.397Z"
   },
   {
    "duration": 22,
    "start_time": "2023-09-28T09:03:59.342Z"
   },
   {
    "duration": 23,
    "start_time": "2023-09-28T09:04:04.159Z"
   },
   {
    "duration": 22,
    "start_time": "2023-09-28T09:04:09.551Z"
   },
   {
    "duration": 23,
    "start_time": "2023-09-28T09:04:45.134Z"
   },
   {
    "duration": 23,
    "start_time": "2023-09-28T09:04:46.443Z"
   },
   {
    "duration": 198,
    "start_time": "2023-09-28T09:04:47.333Z"
   },
   {
    "duration": 33,
    "start_time": "2023-09-28T09:04:48.358Z"
   },
   {
    "duration": 54,
    "start_time": "2023-09-28T09:04:55.332Z"
   },
   {
    "duration": 76,
    "start_time": "2023-09-28T09:04:55.389Z"
   },
   {
    "duration": 166,
    "start_time": "2023-09-28T09:07:20.627Z"
   },
   {
    "duration": 203,
    "start_time": "2023-09-28T09:07:36.836Z"
   },
   {
    "duration": 157,
    "start_time": "2023-09-28T09:07:49.628Z"
   },
   {
    "duration": 155,
    "start_time": "2023-09-28T09:08:03.175Z"
   },
   {
    "duration": 164,
    "start_time": "2023-09-28T09:08:07.647Z"
   },
   {
    "duration": 235,
    "start_time": "2023-09-28T09:08:09.312Z"
   },
   {
    "duration": 155,
    "start_time": "2023-09-28T09:08:11.350Z"
   },
   {
    "duration": 1922,
    "start_time": "2023-09-28T09:09:56.328Z"
   },
   {
    "duration": 4,
    "start_time": "2023-09-28T09:09:58.252Z"
   },
   {
    "duration": 545,
    "start_time": "2023-09-28T09:09:58.257Z"
   },
   {
    "duration": 14,
    "start_time": "2023-09-28T09:09:58.804Z"
   },
   {
    "duration": 83,
    "start_time": "2023-09-28T09:09:58.820Z"
   },
   {
    "duration": 70,
    "start_time": "2023-09-28T09:09:58.905Z"
   },
   {
    "duration": 64,
    "start_time": "2023-09-28T09:09:58.977Z"
   },
   {
    "duration": 83,
    "start_time": "2023-09-28T09:09:59.044Z"
   },
   {
    "duration": 20,
    "start_time": "2023-09-28T09:09:59.128Z"
   },
   {
    "duration": 35,
    "start_time": "2023-09-28T09:09:59.150Z"
   },
   {
    "duration": 38,
    "start_time": "2023-09-28T09:09:59.187Z"
   },
   {
    "duration": 26,
    "start_time": "2023-09-28T09:09:59.227Z"
   },
   {
    "duration": 63,
    "start_time": "2023-09-28T09:09:59.255Z"
   },
   {
    "duration": 53,
    "start_time": "2023-09-28T09:09:59.321Z"
   },
   {
    "duration": 54,
    "start_time": "2023-09-28T09:09:59.376Z"
   },
   {
    "duration": 35,
    "start_time": "2023-09-28T09:09:59.432Z"
   },
   {
    "duration": 47,
    "start_time": "2023-09-28T09:09:59.470Z"
   },
   {
    "duration": 25,
    "start_time": "2023-09-28T09:09:59.518Z"
   },
   {
    "duration": 214,
    "start_time": "2023-09-28T09:09:59.545Z"
   },
   {
    "duration": 38,
    "start_time": "2023-09-28T09:09:59.761Z"
   },
   {
    "duration": 112,
    "start_time": "2023-09-28T09:09:59.800Z"
   },
   {
    "duration": 88,
    "start_time": "2023-09-28T09:09:59.914Z"
   },
   {
    "duration": 0,
    "start_time": "2023-09-28T09:10:38.811Z"
   },
   {
    "duration": 0,
    "start_time": "2023-09-28T09:10:38.813Z"
   },
   {
    "duration": 0,
    "start_time": "2023-09-28T09:10:38.814Z"
   },
   {
    "duration": 0,
    "start_time": "2023-09-28T09:10:38.815Z"
   },
   {
    "duration": 0,
    "start_time": "2023-09-28T09:10:38.816Z"
   },
   {
    "duration": 0,
    "start_time": "2023-09-28T09:10:38.817Z"
   },
   {
    "duration": 0,
    "start_time": "2023-09-28T09:10:38.818Z"
   },
   {
    "duration": 0,
    "start_time": "2023-09-28T09:10:38.819Z"
   },
   {
    "duration": 0,
    "start_time": "2023-09-28T09:10:38.821Z"
   },
   {
    "duration": 1,
    "start_time": "2023-09-28T09:10:38.821Z"
   },
   {
    "duration": 0,
    "start_time": "2023-09-28T09:10:38.823Z"
   },
   {
    "duration": 0,
    "start_time": "2023-09-28T09:10:38.824Z"
   },
   {
    "duration": 0,
    "start_time": "2023-09-28T09:10:38.825Z"
   },
   {
    "duration": 0,
    "start_time": "2023-09-28T09:10:38.826Z"
   },
   {
    "duration": 0,
    "start_time": "2023-09-28T09:10:38.827Z"
   },
   {
    "duration": 0,
    "start_time": "2023-09-28T09:10:38.828Z"
   },
   {
    "duration": 0,
    "start_time": "2023-09-28T09:10:38.829Z"
   },
   {
    "duration": 0,
    "start_time": "2023-09-28T09:10:38.831Z"
   },
   {
    "duration": 0,
    "start_time": "2023-09-28T09:10:38.849Z"
   },
   {
    "duration": 0,
    "start_time": "2023-09-28T09:10:38.850Z"
   },
   {
    "duration": 3,
    "start_time": "2023-09-28T09:10:42.777Z"
   },
   {
    "duration": 33,
    "start_time": "2023-09-28T09:10:42.782Z"
   },
   {
    "duration": 456,
    "start_time": "2023-09-28T09:10:42.816Z"
   },
   {
    "duration": 10,
    "start_time": "2023-09-28T09:10:43.274Z"
   },
   {
    "duration": 15,
    "start_time": "2023-09-28T09:10:43.285Z"
   },
   {
    "duration": 11,
    "start_time": "2023-09-28T09:10:43.302Z"
   },
   {
    "duration": 34,
    "start_time": "2023-09-28T09:10:43.315Z"
   },
   {
    "duration": 16,
    "start_time": "2023-09-28T09:10:43.350Z"
   },
   {
    "duration": 15,
    "start_time": "2023-09-28T09:10:43.368Z"
   },
   {
    "duration": 12,
    "start_time": "2023-09-28T09:10:43.385Z"
   },
   {
    "duration": 50,
    "start_time": "2023-09-28T09:10:43.398Z"
   },
   {
    "duration": 12,
    "start_time": "2023-09-28T09:10:43.449Z"
   },
   {
    "duration": 57,
    "start_time": "2023-09-28T09:10:43.462Z"
   },
   {
    "duration": 55,
    "start_time": "2023-09-28T09:10:43.521Z"
   },
   {
    "duration": 45,
    "start_time": "2023-09-28T09:10:43.577Z"
   },
   {
    "duration": 38,
    "start_time": "2023-09-28T09:10:43.624Z"
   },
   {
    "duration": 22,
    "start_time": "2023-09-28T09:10:43.664Z"
   },
   {
    "duration": 22,
    "start_time": "2023-09-28T09:10:43.688Z"
   },
   {
    "duration": 208,
    "start_time": "2023-09-28T09:10:43.712Z"
   },
   {
    "duration": 44,
    "start_time": "2023-09-28T09:10:43.922Z"
   },
   {
    "duration": 35,
    "start_time": "2023-09-28T09:10:43.967Z"
   },
   {
    "duration": 48,
    "start_time": "2023-09-28T09:10:44.004Z"
   },
   {
    "duration": 184,
    "start_time": "2023-09-28T09:10:44.054Z"
   },
   {
    "duration": 165,
    "start_time": "2023-09-28T09:10:44.246Z"
   },
   {
    "duration": 164,
    "start_time": "2023-09-28T09:10:44.413Z"
   },
   {
    "duration": 178,
    "start_time": "2023-09-28T09:12:39.364Z"
   },
   {
    "duration": 304,
    "start_time": "2023-09-28T09:12:44.098Z"
   },
   {
    "duration": 179,
    "start_time": "2023-09-28T09:12:54.203Z"
   },
   {
    "duration": 2155,
    "start_time": "2023-09-28T09:13:00.021Z"
   },
   {
    "duration": 174,
    "start_time": "2023-09-28T09:13:08.510Z"
   },
   {
    "duration": 23,
    "start_time": "2023-09-28T09:15:32.213Z"
   },
   {
    "duration": 15,
    "start_time": "2023-09-28T09:15:45.239Z"
   },
   {
    "duration": 9,
    "start_time": "2023-09-28T09:15:54.895Z"
   },
   {
    "duration": 3,
    "start_time": "2023-09-28T09:16:08.067Z"
   },
   {
    "duration": 21,
    "start_time": "2023-09-28T09:16:08.072Z"
   },
   {
    "duration": 439,
    "start_time": "2023-09-28T09:16:08.095Z"
   },
   {
    "duration": 10,
    "start_time": "2023-09-28T09:16:08.535Z"
   },
   {
    "duration": 29,
    "start_time": "2023-09-28T09:16:08.548Z"
   },
   {
    "duration": 24,
    "start_time": "2023-09-28T09:16:08.579Z"
   },
   {
    "duration": 42,
    "start_time": "2023-09-28T09:16:08.605Z"
   },
   {
    "duration": 30,
    "start_time": "2023-09-28T09:16:08.649Z"
   },
   {
    "duration": 37,
    "start_time": "2023-09-28T09:16:08.680Z"
   },
   {
    "duration": 14,
    "start_time": "2023-09-28T09:16:08.719Z"
   },
   {
    "duration": 10,
    "start_time": "2023-09-28T09:16:08.736Z"
   },
   {
    "duration": 33,
    "start_time": "2023-09-28T09:16:08.748Z"
   },
   {
    "duration": 66,
    "start_time": "2023-09-28T09:16:08.783Z"
   },
   {
    "duration": 52,
    "start_time": "2023-09-28T09:16:08.851Z"
   },
   {
    "duration": 56,
    "start_time": "2023-09-28T09:16:08.905Z"
   },
   {
    "duration": 24,
    "start_time": "2023-09-28T09:16:08.963Z"
   },
   {
    "duration": 50,
    "start_time": "2023-09-28T09:16:08.989Z"
   },
   {
    "duration": 26,
    "start_time": "2023-09-28T09:16:09.042Z"
   },
   {
    "duration": 266,
    "start_time": "2023-09-28T09:16:09.070Z"
   },
   {
    "duration": 37,
    "start_time": "2023-09-28T09:16:09.338Z"
   },
   {
    "duration": 72,
    "start_time": "2023-09-28T09:16:09.377Z"
   },
   {
    "duration": 40,
    "start_time": "2023-09-28T09:16:09.450Z"
   },
   {
    "duration": 182,
    "start_time": "2023-09-28T09:16:09.492Z"
   },
   {
    "duration": 195,
    "start_time": "2023-09-28T09:16:09.676Z"
   },
   {
    "duration": 184,
    "start_time": "2023-09-28T09:16:09.873Z"
   },
   {
    "duration": 15,
    "start_time": "2023-09-28T09:16:10.059Z"
   },
   {
    "duration": 30,
    "start_time": "2023-09-28T09:16:10.076Z"
   },
   {
    "duration": 14,
    "start_time": "2023-09-28T09:16:10.108Z"
   },
   {
    "duration": 37,
    "start_time": "2023-09-28T09:16:10.125Z"
   },
   {
    "duration": 18,
    "start_time": "2023-09-28T09:16:26.858Z"
   },
   {
    "duration": 50,
    "start_time": "2023-09-28T11:16:20.627Z"
   },
   {
    "duration": 116,
    "start_time": "2023-09-28T11:16:24.150Z"
   },
   {
    "duration": 8,
    "start_time": "2023-09-28T11:16:24.737Z"
   },
   {
    "duration": 1714,
    "start_time": "2023-09-28T11:16:27.357Z"
   },
   {
    "duration": 3,
    "start_time": "2023-09-28T11:16:29.074Z"
   },
   {
    "duration": 996,
    "start_time": "2023-09-28T11:16:29.080Z"
   },
   {
    "duration": 13,
    "start_time": "2023-09-28T11:16:30.079Z"
   },
   {
    "duration": 61,
    "start_time": "2023-09-28T11:16:30.094Z"
   },
   {
    "duration": 39,
    "start_time": "2023-09-28T11:16:30.157Z"
   },
   {
    "duration": 61,
    "start_time": "2023-09-28T11:16:30.198Z"
   },
   {
    "duration": 51,
    "start_time": "2023-09-28T11:16:30.260Z"
   },
   {
    "duration": 55,
    "start_time": "2023-09-28T11:16:30.313Z"
   },
   {
    "duration": 29,
    "start_time": "2023-09-28T11:16:30.372Z"
   },
   {
    "duration": 34,
    "start_time": "2023-09-28T11:16:30.403Z"
   },
   {
    "duration": 33,
    "start_time": "2023-09-28T11:16:30.439Z"
   },
   {
    "duration": 92,
    "start_time": "2023-09-28T11:16:30.475Z"
   },
   {
    "duration": 73,
    "start_time": "2023-09-28T11:16:30.569Z"
   },
   {
    "duration": 109,
    "start_time": "2023-09-28T11:16:30.643Z"
   },
   {
    "duration": 35,
    "start_time": "2023-09-28T11:16:30.754Z"
   },
   {
    "duration": 87,
    "start_time": "2023-09-28T11:16:30.791Z"
   },
   {
    "duration": 70,
    "start_time": "2023-09-28T11:16:30.880Z"
   },
   {
    "duration": 207,
    "start_time": "2023-09-28T11:16:30.952Z"
   },
   {
    "duration": 41,
    "start_time": "2023-09-28T11:16:31.160Z"
   },
   {
    "duration": 213,
    "start_time": "2023-09-28T11:16:31.203Z"
   },
   {
    "duration": 125,
    "start_time": "2023-09-28T11:16:31.418Z"
   },
   {
    "duration": 240,
    "start_time": "2023-09-28T11:16:31.544Z"
   },
   {
    "duration": 184,
    "start_time": "2023-09-28T11:16:31.786Z"
   },
   {
    "duration": 175,
    "start_time": "2023-09-28T11:16:31.972Z"
   },
   {
    "duration": 15,
    "start_time": "2023-09-28T11:16:32.148Z"
   },
   {
    "duration": 37,
    "start_time": "2023-09-28T11:16:32.165Z"
   },
   {
    "duration": 30,
    "start_time": "2023-09-28T11:16:32.206Z"
   },
   {
    "duration": 35,
    "start_time": "2023-09-28T11:16:32.238Z"
   },
   {
    "duration": 38,
    "start_time": "2023-09-28T11:16:32.275Z"
   },
   {
    "duration": 47,
    "start_time": "2023-09-28T11:16:32.315Z"
   },
   {
    "duration": 109,
    "start_time": "2023-09-28T11:16:32.364Z"
   },
   {
    "duration": 0,
    "start_time": "2023-09-28T11:16:32.474Z"
   },
   {
    "duration": 0,
    "start_time": "2023-09-28T11:16:32.475Z"
   },
   {
    "duration": 0,
    "start_time": "2023-09-28T11:16:32.476Z"
   },
   {
    "duration": 0,
    "start_time": "2023-09-28T11:16:32.477Z"
   },
   {
    "duration": 0,
    "start_time": "2023-09-28T11:16:32.479Z"
   },
   {
    "duration": 0,
    "start_time": "2023-09-28T11:16:32.480Z"
   },
   {
    "duration": 0,
    "start_time": "2023-09-28T11:16:32.481Z"
   },
   {
    "duration": 0,
    "start_time": "2023-09-28T11:16:32.482Z"
   },
   {
    "duration": 0,
    "start_time": "2023-09-28T11:16:32.483Z"
   },
   {
    "duration": 0,
    "start_time": "2023-09-28T11:16:32.484Z"
   },
   {
    "duration": 0,
    "start_time": "2023-09-28T11:16:32.486Z"
   },
   {
    "duration": 0,
    "start_time": "2023-09-28T11:16:32.488Z"
   },
   {
    "duration": 0,
    "start_time": "2023-09-28T11:16:32.489Z"
   },
   {
    "duration": 0,
    "start_time": "2023-09-28T11:16:32.490Z"
   },
   {
    "duration": 12,
    "start_time": "2023-09-28T11:16:47.264Z"
   },
   {
    "duration": 76,
    "start_time": "2023-09-28T11:16:49.919Z"
   },
   {
    "duration": 15,
    "start_time": "2023-09-28T11:17:03.372Z"
   },
   {
    "duration": 14,
    "start_time": "2023-09-28T11:17:29.776Z"
   },
   {
    "duration": 10,
    "start_time": "2023-09-28T11:17:47.649Z"
   },
   {
    "duration": 14,
    "start_time": "2023-09-28T11:18:00.300Z"
   },
   {
    "duration": 15,
    "start_time": "2023-09-28T11:18:06.314Z"
   },
   {
    "duration": 10,
    "start_time": "2023-09-28T11:18:17.108Z"
   },
   {
    "duration": 140,
    "start_time": "2023-09-28T11:20:29.985Z"
   },
   {
    "duration": 9,
    "start_time": "2023-09-28T11:20:33.366Z"
   },
   {
    "duration": 8,
    "start_time": "2023-09-28T11:20:58.108Z"
   },
   {
    "duration": 8,
    "start_time": "2023-09-28T11:21:02.580Z"
   },
   {
    "duration": 116,
    "start_time": "2023-09-28T11:22:04.597Z"
   },
   {
    "duration": 8,
    "start_time": "2023-09-28T11:22:07.898Z"
   },
   {
    "duration": 16,
    "start_time": "2023-09-28T11:22:24.603Z"
   },
   {
    "duration": 11,
    "start_time": "2023-09-28T11:22:35.293Z"
   },
   {
    "duration": 7,
    "start_time": "2023-09-28T11:22:40.789Z"
   },
   {
    "duration": 18,
    "start_time": "2023-09-28T11:23:03.112Z"
   },
   {
    "duration": 12,
    "start_time": "2023-09-28T11:23:45.052Z"
   },
   {
    "duration": 5,
    "start_time": "2023-09-28T11:25:03.950Z"
   },
   {
    "duration": 11,
    "start_time": "2023-09-28T11:25:20.182Z"
   },
   {
    "duration": 24,
    "start_time": "2023-09-28T11:25:32.743Z"
   },
   {
    "duration": 13,
    "start_time": "2023-09-28T11:25:41.334Z"
   },
   {
    "duration": 15,
    "start_time": "2023-09-28T11:25:48.833Z"
   },
   {
    "duration": 19,
    "start_time": "2023-09-28T11:26:09.891Z"
   },
   {
    "duration": 18,
    "start_time": "2023-09-28T11:26:44.855Z"
   },
   {
    "duration": 4,
    "start_time": "2023-09-28T11:26:49.681Z"
   },
   {
    "duration": 24,
    "start_time": "2023-09-28T11:26:49.687Z"
   },
   {
    "duration": 418,
    "start_time": "2023-09-28T11:26:49.713Z"
   },
   {
    "duration": 10,
    "start_time": "2023-09-28T11:26:50.132Z"
   },
   {
    "duration": 49,
    "start_time": "2023-09-28T11:26:50.144Z"
   },
   {
    "duration": 35,
    "start_time": "2023-09-28T11:26:50.196Z"
   },
   {
    "duration": 33,
    "start_time": "2023-09-28T11:26:50.233Z"
   },
   {
    "duration": 16,
    "start_time": "2023-09-28T11:26:50.268Z"
   },
   {
    "duration": 30,
    "start_time": "2023-09-28T11:26:50.285Z"
   },
   {
    "duration": 11,
    "start_time": "2023-09-28T11:26:50.317Z"
   },
   {
    "duration": 30,
    "start_time": "2023-09-28T11:26:50.330Z"
   },
   {
    "duration": 22,
    "start_time": "2023-09-28T11:26:50.361Z"
   },
   {
    "duration": 52,
    "start_time": "2023-09-28T11:26:50.385Z"
   },
   {
    "duration": 49,
    "start_time": "2023-09-28T11:26:50.439Z"
   },
   {
    "duration": 44,
    "start_time": "2023-09-28T11:26:50.489Z"
   },
   {
    "duration": 31,
    "start_time": "2023-09-28T11:26:50.535Z"
   },
   {
    "duration": 45,
    "start_time": "2023-09-28T11:26:50.567Z"
   },
   {
    "duration": 30,
    "start_time": "2023-09-28T11:26:50.614Z"
   },
   {
    "duration": 177,
    "start_time": "2023-09-28T11:26:50.646Z"
   },
   {
    "duration": 40,
    "start_time": "2023-09-28T11:26:50.825Z"
   },
   {
    "duration": 58,
    "start_time": "2023-09-28T11:26:50.866Z"
   },
   {
    "duration": 66,
    "start_time": "2023-09-28T11:26:50.925Z"
   },
   {
    "duration": 197,
    "start_time": "2023-09-28T11:26:50.992Z"
   },
   {
    "duration": 178,
    "start_time": "2023-09-28T11:26:51.190Z"
   },
   {
    "duration": 250,
    "start_time": "2023-09-28T11:26:51.370Z"
   },
   {
    "duration": 24,
    "start_time": "2023-09-28T11:26:51.622Z"
   },
   {
    "duration": 23,
    "start_time": "2023-09-28T11:26:51.647Z"
   },
   {
    "duration": 44,
    "start_time": "2023-09-28T11:26:51.672Z"
   },
   {
    "duration": 46,
    "start_time": "2023-09-28T11:26:51.719Z"
   },
   {
    "duration": 103,
    "start_time": "2023-09-28T11:26:51.767Z"
   },
   {
    "duration": 37,
    "start_time": "2023-09-28T11:26:51.871Z"
   },
   {
    "duration": 50,
    "start_time": "2023-09-28T11:26:51.911Z"
   },
   {
    "duration": 43,
    "start_time": "2023-09-28T11:26:51.963Z"
   },
   {
    "duration": 53,
    "start_time": "2023-09-28T11:26:52.008Z"
   },
   {
    "duration": 69,
    "start_time": "2023-09-28T11:26:52.063Z"
   },
   {
    "duration": 117,
    "start_time": "2023-09-28T11:26:52.134Z"
   },
   {
    "duration": 109,
    "start_time": "2023-09-28T11:26:52.254Z"
   },
   {
    "duration": 191,
    "start_time": "2023-09-28T11:26:52.367Z"
   },
   {
    "duration": 86,
    "start_time": "2023-09-28T11:26:52.560Z"
   },
   {
    "duration": 129,
    "start_time": "2023-09-28T11:26:52.648Z"
   },
   {
    "duration": 26,
    "start_time": "2023-09-28T11:26:52.778Z"
   },
   {
    "duration": 36,
    "start_time": "2023-09-28T11:26:52.806Z"
   },
   {
    "duration": 431,
    "start_time": "2023-09-28T11:26:52.843Z"
   },
   {
    "duration": 7,
    "start_time": "2023-09-28T11:26:53.275Z"
   },
   {
    "duration": 33,
    "start_time": "2023-09-28T11:26:53.283Z"
   },
   {
    "duration": 417,
    "start_time": "2023-09-28T11:26:53.317Z"
   },
   {
    "duration": 431,
    "start_time": "2023-09-28T11:26:53.737Z"
   },
   {
    "duration": 3,
    "start_time": "2023-09-28T11:28:18.175Z"
   },
   {
    "duration": 12,
    "start_time": "2023-09-28T11:28:18.180Z"
   },
   {
    "duration": 413,
    "start_time": "2023-09-28T11:28:18.194Z"
   },
   {
    "duration": 10,
    "start_time": "2023-09-28T11:28:18.609Z"
   },
   {
    "duration": 19,
    "start_time": "2023-09-28T11:28:18.621Z"
   },
   {
    "duration": 15,
    "start_time": "2023-09-28T11:28:18.641Z"
   },
   {
    "duration": 19,
    "start_time": "2023-09-28T11:28:18.657Z"
   },
   {
    "duration": 14,
    "start_time": "2023-09-28T11:28:18.677Z"
   },
   {
    "duration": 14,
    "start_time": "2023-09-28T11:28:18.693Z"
   },
   {
    "duration": 35,
    "start_time": "2023-09-28T11:28:18.709Z"
   },
   {
    "duration": 10,
    "start_time": "2023-09-28T11:28:18.746Z"
   },
   {
    "duration": 25,
    "start_time": "2023-09-28T11:28:18.758Z"
   },
   {
    "duration": 46,
    "start_time": "2023-09-28T11:28:18.784Z"
   },
   {
    "duration": 48,
    "start_time": "2023-09-28T11:28:18.832Z"
   },
   {
    "duration": 43,
    "start_time": "2023-09-28T11:28:18.881Z"
   },
   {
    "duration": 21,
    "start_time": "2023-09-28T11:28:18.943Z"
   },
   {
    "duration": 22,
    "start_time": "2023-09-28T11:28:18.966Z"
   },
   {
    "duration": 23,
    "start_time": "2023-09-28T11:28:18.989Z"
   },
   {
    "duration": 217,
    "start_time": "2023-09-28T11:28:19.013Z"
   },
   {
    "duration": 37,
    "start_time": "2023-09-28T11:28:19.232Z"
   },
   {
    "duration": 56,
    "start_time": "2023-09-28T11:28:19.271Z"
   },
   {
    "duration": 47,
    "start_time": "2023-09-28T11:28:19.329Z"
   },
   {
    "duration": 169,
    "start_time": "2023-09-28T11:28:19.378Z"
   },
   {
    "duration": 190,
    "start_time": "2023-09-28T11:28:19.550Z"
   },
   {
    "duration": 170,
    "start_time": "2023-09-28T11:28:19.743Z"
   },
   {
    "duration": 15,
    "start_time": "2023-09-28T11:28:19.915Z"
   },
   {
    "duration": 24,
    "start_time": "2023-09-28T11:28:19.932Z"
   },
   {
    "duration": 14,
    "start_time": "2023-09-28T11:28:19.958Z"
   },
   {
    "duration": 25,
    "start_time": "2023-09-28T11:28:19.974Z"
   },
   {
    "duration": 48,
    "start_time": "2023-09-28T11:28:20.001Z"
   },
   {
    "duration": 59,
    "start_time": "2023-09-28T11:28:20.051Z"
   },
   {
    "duration": 26,
    "start_time": "2023-09-28T11:28:20.112Z"
   },
   {
    "duration": 35,
    "start_time": "2023-09-28T11:28:20.140Z"
   },
   {
    "duration": 48,
    "start_time": "2023-09-28T11:28:20.176Z"
   },
   {
    "duration": 82,
    "start_time": "2023-09-28T11:28:20.226Z"
   },
   {
    "duration": 7,
    "start_time": "2023-09-28T11:29:20.141Z"
   },
   {
    "duration": 7,
    "start_time": "2023-09-28T11:29:29.003Z"
   },
   {
    "duration": 6,
    "start_time": "2023-09-28T11:29:31.591Z"
   },
   {
    "duration": 6,
    "start_time": "2023-09-28T11:29:34.886Z"
   },
   {
    "duration": 10,
    "start_time": "2023-09-28T11:29:36.782Z"
   },
   {
    "duration": 7,
    "start_time": "2023-09-28T11:29:39.974Z"
   },
   {
    "duration": 6,
    "start_time": "2023-09-28T11:29:44.351Z"
   },
   {
    "duration": 7,
    "start_time": "2023-09-28T11:29:46.206Z"
   },
   {
    "duration": 6,
    "start_time": "2023-09-28T11:29:48.136Z"
   },
   {
    "duration": 7,
    "start_time": "2023-09-28T11:32:08.342Z"
   },
   {
    "duration": 238,
    "start_time": "2023-09-28T11:43:54.120Z"
   },
   {
    "duration": 85,
    "start_time": "2023-09-28T11:44:05.451Z"
   },
   {
    "duration": 97,
    "start_time": "2023-09-28T11:44:14.336Z"
   },
   {
    "duration": 5,
    "start_time": "2023-09-28T11:44:18.560Z"
   },
   {
    "duration": 4,
    "start_time": "2023-09-28T11:44:18.936Z"
   },
   {
    "duration": 196,
    "start_time": "2023-09-28T11:44:37.459Z"
   },
   {
    "duration": 1760,
    "start_time": "2023-09-28T11:44:53.269Z"
   },
   {
    "duration": 4,
    "start_time": "2023-09-28T11:44:55.032Z"
   },
   {
    "duration": 204,
    "start_time": "2023-09-28T11:44:55.038Z"
   },
   {
    "duration": 0,
    "start_time": "2023-09-28T11:44:55.245Z"
   },
   {
    "duration": 0,
    "start_time": "2023-09-28T11:44:55.247Z"
   },
   {
    "duration": 0,
    "start_time": "2023-09-28T11:44:55.248Z"
   },
   {
    "duration": 0,
    "start_time": "2023-09-28T11:44:55.249Z"
   },
   {
    "duration": 0,
    "start_time": "2023-09-28T11:44:55.250Z"
   },
   {
    "duration": 0,
    "start_time": "2023-09-28T11:44:55.251Z"
   },
   {
    "duration": 0,
    "start_time": "2023-09-28T11:44:55.252Z"
   },
   {
    "duration": 0,
    "start_time": "2023-09-28T11:44:55.253Z"
   },
   {
    "duration": 0,
    "start_time": "2023-09-28T11:44:55.254Z"
   },
   {
    "duration": 0,
    "start_time": "2023-09-28T11:44:55.255Z"
   },
   {
    "duration": 0,
    "start_time": "2023-09-28T11:44:55.256Z"
   },
   {
    "duration": 0,
    "start_time": "2023-09-28T11:44:55.257Z"
   },
   {
    "duration": 0,
    "start_time": "2023-09-28T11:44:55.258Z"
   },
   {
    "duration": 0,
    "start_time": "2023-09-28T11:44:55.259Z"
   },
   {
    "duration": 0,
    "start_time": "2023-09-28T11:44:55.261Z"
   },
   {
    "duration": 1,
    "start_time": "2023-09-28T11:44:55.262Z"
   },
   {
    "duration": 0,
    "start_time": "2023-09-28T11:44:55.264Z"
   },
   {
    "duration": 0,
    "start_time": "2023-09-28T11:44:55.266Z"
   },
   {
    "duration": 0,
    "start_time": "2023-09-28T11:44:55.268Z"
   },
   {
    "duration": 0,
    "start_time": "2023-09-28T11:44:55.269Z"
   },
   {
    "duration": 0,
    "start_time": "2023-09-28T11:44:55.271Z"
   },
   {
    "duration": 0,
    "start_time": "2023-09-28T11:44:55.272Z"
   },
   {
    "duration": 0,
    "start_time": "2023-09-28T11:44:55.274Z"
   },
   {
    "duration": 0,
    "start_time": "2023-09-28T11:44:55.275Z"
   },
   {
    "duration": 0,
    "start_time": "2023-09-28T11:44:55.276Z"
   },
   {
    "duration": 0,
    "start_time": "2023-09-28T11:44:55.278Z"
   },
   {
    "duration": 0,
    "start_time": "2023-09-28T11:44:55.279Z"
   },
   {
    "duration": 0,
    "start_time": "2023-09-28T11:44:55.281Z"
   },
   {
    "duration": 0,
    "start_time": "2023-09-28T11:44:55.343Z"
   },
   {
    "duration": 0,
    "start_time": "2023-09-28T11:44:55.345Z"
   },
   {
    "duration": 0,
    "start_time": "2023-09-28T11:44:55.346Z"
   },
   {
    "duration": 0,
    "start_time": "2023-09-28T11:44:55.347Z"
   },
   {
    "duration": 0,
    "start_time": "2023-09-28T11:44:55.348Z"
   },
   {
    "duration": 0,
    "start_time": "2023-09-28T11:44:55.350Z"
   },
   {
    "duration": 0,
    "start_time": "2023-09-28T11:44:55.351Z"
   },
   {
    "duration": 0,
    "start_time": "2023-09-28T11:44:55.352Z"
   },
   {
    "duration": 0,
    "start_time": "2023-09-28T11:44:55.353Z"
   },
   {
    "duration": 0,
    "start_time": "2023-09-28T11:44:55.355Z"
   },
   {
    "duration": 0,
    "start_time": "2023-09-28T11:44:55.358Z"
   },
   {
    "duration": 0,
    "start_time": "2023-09-28T11:44:55.360Z"
   },
   {
    "duration": 0,
    "start_time": "2023-09-28T11:44:55.361Z"
   },
   {
    "duration": 0,
    "start_time": "2023-09-28T11:44:55.362Z"
   },
   {
    "duration": 0,
    "start_time": "2023-09-28T11:44:55.364Z"
   },
   {
    "duration": 0,
    "start_time": "2023-09-28T11:44:55.366Z"
   },
   {
    "duration": 0,
    "start_time": "2023-09-28T11:44:55.368Z"
   },
   {
    "duration": 99,
    "start_time": "2023-09-28T11:45:20.137Z"
   },
   {
    "duration": 99,
    "start_time": "2023-09-28T11:45:34.150Z"
   },
   {
    "duration": 6,
    "start_time": "2023-09-28T11:45:39.504Z"
   },
   {
    "duration": 122,
    "start_time": "2023-09-28T11:46:26.549Z"
   },
   {
    "duration": 5,
    "start_time": "2023-09-28T11:48:40.554Z"
   },
   {
    "duration": 13,
    "start_time": "2023-09-28T11:48:41.322Z"
   },
   {
    "duration": 5,
    "start_time": "2023-09-28T11:50:10.746Z"
   },
   {
    "duration": 20,
    "start_time": "2023-09-28T11:50:11.571Z"
   },
   {
    "duration": 6,
    "start_time": "2023-09-28T11:52:12.434Z"
   },
   {
    "duration": 24,
    "start_time": "2023-09-28T11:52:14.479Z"
   },
   {
    "duration": 227,
    "start_time": "2023-09-28T11:53:17.687Z"
   },
   {
    "duration": 113,
    "start_time": "2023-09-28T11:55:44.556Z"
   },
   {
    "duration": 274,
    "start_time": "2023-09-28T11:59:40.005Z"
   },
   {
    "duration": 176,
    "start_time": "2023-09-28T11:59:52.828Z"
   },
   {
    "duration": 115,
    "start_time": "2023-09-28T12:00:07.181Z"
   },
   {
    "duration": 9,
    "start_time": "2023-09-28T12:00:37.832Z"
   },
   {
    "duration": 6,
    "start_time": "2023-09-28T12:01:41.126Z"
   },
   {
    "duration": 33,
    "start_time": "2023-09-28T12:01:43.125Z"
   },
   {
    "duration": 5,
    "start_time": "2023-09-28T12:02:14.218Z"
   },
   {
    "duration": 35,
    "start_time": "2023-09-28T12:02:15.377Z"
   },
   {
    "duration": 7,
    "start_time": "2023-09-28T12:02:24.941Z"
   },
   {
    "duration": 218,
    "start_time": "2023-09-28T12:02:25.610Z"
   },
   {
    "duration": 120,
    "start_time": "2023-09-28T12:03:51.053Z"
   },
   {
    "duration": 94,
    "start_time": "2023-09-28T12:05:01.561Z"
   },
   {
    "duration": 5,
    "start_time": "2023-09-28T12:06:39.507Z"
   },
   {
    "duration": 5,
    "start_time": "2023-09-28T12:06:47.780Z"
   },
   {
    "duration": 413,
    "start_time": "2023-09-28T12:06:55.675Z"
   },
   {
    "duration": 5,
    "start_time": "2023-09-28T12:07:00.070Z"
   },
   {
    "duration": 436,
    "start_time": "2023-09-28T12:07:00.990Z"
   },
   {
    "duration": 9,
    "start_time": "2023-09-28T12:07:12.200Z"
   },
   {
    "duration": 4,
    "start_time": "2023-09-28T12:07:15.970Z"
   },
   {
    "duration": 28,
    "start_time": "2023-09-28T12:07:15.976Z"
   },
   {
    "duration": 28,
    "start_time": "2023-09-28T12:07:16.006Z"
   },
   {
    "duration": 460,
    "start_time": "2023-09-28T12:07:16.036Z"
   },
   {
    "duration": 11,
    "start_time": "2023-09-28T12:07:16.497Z"
   },
   {
    "duration": 157,
    "start_time": "2023-09-28T12:07:27.887Z"
   },
   {
    "duration": 420,
    "start_time": "2023-09-28T12:07:28.879Z"
   },
   {
    "duration": 9,
    "start_time": "2023-09-28T12:07:29.686Z"
   },
   {
    "duration": 157,
    "start_time": "2023-09-28T12:14:23.952Z"
   },
   {
    "duration": 10,
    "start_time": "2023-09-28T12:14:27.816Z"
   },
   {
    "duration": 11,
    "start_time": "2023-09-28T12:14:39.192Z"
   },
   {
    "duration": 110,
    "start_time": "2023-09-28T12:15:31.718Z"
   },
   {
    "duration": 237,
    "start_time": "2023-09-28T12:16:06.544Z"
   },
   {
    "duration": 171,
    "start_time": "2023-09-28T12:16:22.433Z"
   },
   {
    "duration": 191,
    "start_time": "2023-09-28T12:16:25.674Z"
   },
   {
    "duration": 83,
    "start_time": "2023-09-28T12:17:11.522Z"
   },
   {
    "duration": 200,
    "start_time": "2023-09-28T12:20:33.683Z"
   },
   {
    "duration": 83,
    "start_time": "2023-09-28T12:20:44.402Z"
   },
   {
    "duration": 86,
    "start_time": "2023-09-28T12:21:07.012Z"
   },
   {
    "duration": 124,
    "start_time": "2023-09-28T12:21:37.173Z"
   },
   {
    "duration": 76,
    "start_time": "2023-09-28T12:21:49.173Z"
   },
   {
    "duration": 3,
    "start_time": "2023-09-28T12:21:57.280Z"
   },
   {
    "duration": 155,
    "start_time": "2023-09-28T12:22:07.272Z"
   },
   {
    "duration": 116,
    "start_time": "2023-09-28T12:22:49.416Z"
   },
   {
    "duration": 316,
    "start_time": "2023-09-28T12:22:54.133Z"
   },
   {
    "duration": 190,
    "start_time": "2023-09-28T12:23:52.485Z"
   },
   {
    "duration": 164,
    "start_time": "2023-09-28T12:24:04.870Z"
   },
   {
    "duration": 10,
    "start_time": "2023-09-28T12:24:34.375Z"
   },
   {
    "duration": 81,
    "start_time": "2023-09-28T12:24:48.388Z"
   },
   {
    "duration": 398,
    "start_time": "2023-09-28T12:25:54.418Z"
   },
   {
    "duration": 79,
    "start_time": "2023-09-28T12:26:13.572Z"
   },
   {
    "duration": 98,
    "start_time": "2023-09-28T12:26:19.634Z"
   },
   {
    "duration": 380,
    "start_time": "2023-09-28T12:26:35.109Z"
   },
   {
    "duration": 372,
    "start_time": "2023-09-28T12:27:15.940Z"
   },
   {
    "duration": 129,
    "start_time": "2023-09-28T12:27:39.453Z"
   },
   {
    "duration": 390,
    "start_time": "2023-09-28T12:28:07.503Z"
   },
   {
    "duration": 391,
    "start_time": "2023-09-28T12:28:17.666Z"
   },
   {
    "duration": 147,
    "start_time": "2023-09-28T12:28:32.823Z"
   },
   {
    "duration": 147,
    "start_time": "2023-09-28T12:28:37.966Z"
   },
   {
    "duration": 378,
    "start_time": "2023-09-28T12:28:45.192Z"
   },
   {
    "duration": 391,
    "start_time": "2023-09-28T12:29:01.505Z"
   },
   {
    "duration": 388,
    "start_time": "2023-09-28T12:29:14.102Z"
   },
   {
    "duration": 1398,
    "start_time": "2023-09-28T12:29:46.489Z"
   },
   {
    "duration": 3,
    "start_time": "2023-09-28T12:29:47.889Z"
   },
   {
    "duration": 22,
    "start_time": "2023-09-28T12:29:47.894Z"
   },
   {
    "duration": 165,
    "start_time": "2023-09-28T12:29:47.918Z"
   },
   {
    "duration": 0,
    "start_time": "2023-09-28T12:29:48.086Z"
   },
   {
    "duration": 0,
    "start_time": "2023-09-28T12:29:48.087Z"
   },
   {
    "duration": 0,
    "start_time": "2023-09-28T12:29:48.088Z"
   },
   {
    "duration": 0,
    "start_time": "2023-09-28T12:29:48.090Z"
   },
   {
    "duration": 0,
    "start_time": "2023-09-28T12:29:48.091Z"
   },
   {
    "duration": 0,
    "start_time": "2023-09-28T12:29:48.092Z"
   },
   {
    "duration": 0,
    "start_time": "2023-09-28T12:29:48.093Z"
   },
   {
    "duration": 0,
    "start_time": "2023-09-28T12:29:48.094Z"
   },
   {
    "duration": 0,
    "start_time": "2023-09-28T12:29:48.095Z"
   },
   {
    "duration": 0,
    "start_time": "2023-09-28T12:29:48.096Z"
   },
   {
    "duration": 0,
    "start_time": "2023-09-28T12:29:48.097Z"
   },
   {
    "duration": 0,
    "start_time": "2023-09-28T12:29:48.098Z"
   },
   {
    "duration": 0,
    "start_time": "2023-09-28T12:29:48.099Z"
   },
   {
    "duration": 0,
    "start_time": "2023-09-28T12:29:48.099Z"
   },
   {
    "duration": 0,
    "start_time": "2023-09-28T12:29:48.100Z"
   },
   {
    "duration": 0,
    "start_time": "2023-09-28T12:29:48.101Z"
   },
   {
    "duration": 0,
    "start_time": "2023-09-28T12:29:48.102Z"
   },
   {
    "duration": 0,
    "start_time": "2023-09-28T12:29:48.103Z"
   },
   {
    "duration": 0,
    "start_time": "2023-09-28T12:29:48.104Z"
   },
   {
    "duration": 0,
    "start_time": "2023-09-28T12:29:48.105Z"
   },
   {
    "duration": 0,
    "start_time": "2023-09-28T12:29:48.106Z"
   },
   {
    "duration": 0,
    "start_time": "2023-09-28T12:29:48.144Z"
   },
   {
    "duration": 0,
    "start_time": "2023-09-28T12:29:48.146Z"
   },
   {
    "duration": 0,
    "start_time": "2023-09-28T12:29:48.146Z"
   },
   {
    "duration": 0,
    "start_time": "2023-09-28T12:29:48.147Z"
   },
   {
    "duration": 0,
    "start_time": "2023-09-28T12:29:48.148Z"
   },
   {
    "duration": 0,
    "start_time": "2023-09-28T12:29:48.149Z"
   },
   {
    "duration": 0,
    "start_time": "2023-09-28T12:29:48.150Z"
   },
   {
    "duration": 0,
    "start_time": "2023-09-28T12:29:48.151Z"
   },
   {
    "duration": 0,
    "start_time": "2023-09-28T12:29:48.152Z"
   },
   {
    "duration": 0,
    "start_time": "2023-09-28T12:29:48.153Z"
   },
   {
    "duration": 0,
    "start_time": "2023-09-28T12:29:48.154Z"
   },
   {
    "duration": 0,
    "start_time": "2023-09-28T12:29:48.155Z"
   },
   {
    "duration": 0,
    "start_time": "2023-09-28T12:29:48.156Z"
   },
   {
    "duration": 0,
    "start_time": "2023-09-28T12:29:48.157Z"
   },
   {
    "duration": 0,
    "start_time": "2023-09-28T12:29:48.158Z"
   },
   {
    "duration": 0,
    "start_time": "2023-09-28T12:29:48.159Z"
   },
   {
    "duration": 0,
    "start_time": "2023-09-28T12:29:48.160Z"
   },
   {
    "duration": 0,
    "start_time": "2023-09-28T12:29:48.161Z"
   },
   {
    "duration": 0,
    "start_time": "2023-09-28T12:29:48.162Z"
   },
   {
    "duration": 0,
    "start_time": "2023-09-28T12:29:48.163Z"
   },
   {
    "duration": 0,
    "start_time": "2023-09-28T12:29:48.164Z"
   },
   {
    "duration": 0,
    "start_time": "2023-09-28T12:29:48.165Z"
   },
   {
    "duration": 0,
    "start_time": "2023-09-28T12:29:48.166Z"
   },
   {
    "duration": 0,
    "start_time": "2023-09-28T12:29:48.167Z"
   },
   {
    "duration": 3,
    "start_time": "2023-09-28T12:30:03.972Z"
   },
   {
    "duration": 396,
    "start_time": "2023-09-28T12:30:05.023Z"
   },
   {
    "duration": 18,
    "start_time": "2023-09-28T12:30:15.417Z"
   },
   {
    "duration": 5,
    "start_time": "2023-09-28T12:34:52.205Z"
   },
   {
    "duration": 13,
    "start_time": "2023-09-28T12:35:05.160Z"
   },
   {
    "duration": 5,
    "start_time": "2023-09-28T12:35:23.422Z"
   },
   {
    "duration": 17,
    "start_time": "2023-09-28T12:35:24.278Z"
   },
   {
    "duration": 5,
    "start_time": "2023-09-28T12:35:52.331Z"
   },
   {
    "duration": 13,
    "start_time": "2023-09-28T12:35:53.121Z"
   },
   {
    "duration": 5,
    "start_time": "2023-09-28T12:36:01.576Z"
   },
   {
    "duration": 459,
    "start_time": "2023-09-28T12:36:03.604Z"
   },
   {
    "duration": 424,
    "start_time": "2023-09-28T12:36:10.486Z"
   },
   {
    "duration": 399,
    "start_time": "2023-09-28T12:36:50.136Z"
   },
   {
    "duration": 9,
    "start_time": "2023-09-28T12:37:21.177Z"
   },
   {
    "duration": 396,
    "start_time": "2023-09-28T12:37:32.883Z"
   },
   {
    "duration": 5,
    "start_time": "2023-09-28T12:38:04.031Z"
   },
   {
    "duration": 401,
    "start_time": "2023-09-28T12:38:04.646Z"
   },
   {
    "duration": 420,
    "start_time": "2023-09-28T12:38:16.215Z"
   },
   {
    "duration": 1504,
    "start_time": "2023-09-28T12:38:23.004Z"
   },
   {
    "duration": 5,
    "start_time": "2023-09-28T12:38:24.511Z"
   },
   {
    "duration": 28,
    "start_time": "2023-09-28T12:38:24.517Z"
   },
   {
    "duration": 569,
    "start_time": "2023-09-28T12:38:24.548Z"
   },
   {
    "duration": 0,
    "start_time": "2023-09-28T12:38:25.120Z"
   },
   {
    "duration": 0,
    "start_time": "2023-09-28T12:38:25.121Z"
   },
   {
    "duration": 0,
    "start_time": "2023-09-28T12:38:25.122Z"
   },
   {
    "duration": 0,
    "start_time": "2023-09-28T12:38:25.123Z"
   },
   {
    "duration": 0,
    "start_time": "2023-09-28T12:38:25.124Z"
   },
   {
    "duration": 0,
    "start_time": "2023-09-28T12:38:25.126Z"
   },
   {
    "duration": 0,
    "start_time": "2023-09-28T12:38:25.127Z"
   },
   {
    "duration": 0,
    "start_time": "2023-09-28T12:38:25.144Z"
   },
   {
    "duration": 0,
    "start_time": "2023-09-28T12:38:25.145Z"
   },
   {
    "duration": 0,
    "start_time": "2023-09-28T12:38:25.146Z"
   },
   {
    "duration": 0,
    "start_time": "2023-09-28T12:38:25.147Z"
   },
   {
    "duration": 0,
    "start_time": "2023-09-28T12:38:25.148Z"
   },
   {
    "duration": 0,
    "start_time": "2023-09-28T12:38:25.149Z"
   },
   {
    "duration": 0,
    "start_time": "2023-09-28T12:38:25.150Z"
   },
   {
    "duration": 0,
    "start_time": "2023-09-28T12:38:25.150Z"
   },
   {
    "duration": 0,
    "start_time": "2023-09-28T12:38:25.151Z"
   },
   {
    "duration": 0,
    "start_time": "2023-09-28T12:38:25.152Z"
   },
   {
    "duration": 0,
    "start_time": "2023-09-28T12:38:25.153Z"
   },
   {
    "duration": 0,
    "start_time": "2023-09-28T12:38:25.154Z"
   },
   {
    "duration": 0,
    "start_time": "2023-09-28T12:38:25.155Z"
   },
   {
    "duration": 0,
    "start_time": "2023-09-28T12:38:25.156Z"
   },
   {
    "duration": 0,
    "start_time": "2023-09-28T12:38:25.157Z"
   },
   {
    "duration": 0,
    "start_time": "2023-09-28T12:38:25.158Z"
   },
   {
    "duration": 0,
    "start_time": "2023-09-28T12:38:25.159Z"
   },
   {
    "duration": 0,
    "start_time": "2023-09-28T12:38:25.160Z"
   },
   {
    "duration": 0,
    "start_time": "2023-09-28T12:38:25.161Z"
   },
   {
    "duration": 0,
    "start_time": "2023-09-28T12:38:25.162Z"
   },
   {
    "duration": 0,
    "start_time": "2023-09-28T12:38:25.163Z"
   },
   {
    "duration": 0,
    "start_time": "2023-09-28T12:38:25.164Z"
   },
   {
    "duration": 0,
    "start_time": "2023-09-28T12:38:25.164Z"
   },
   {
    "duration": 0,
    "start_time": "2023-09-28T12:38:25.165Z"
   },
   {
    "duration": 1,
    "start_time": "2023-09-28T12:38:25.166Z"
   },
   {
    "duration": 0,
    "start_time": "2023-09-28T12:38:25.167Z"
   },
   {
    "duration": 0,
    "start_time": "2023-09-28T12:38:25.168Z"
   },
   {
    "duration": 0,
    "start_time": "2023-09-28T12:38:25.169Z"
   },
   {
    "duration": 0,
    "start_time": "2023-09-28T12:38:25.170Z"
   },
   {
    "duration": 0,
    "start_time": "2023-09-28T12:38:25.171Z"
   },
   {
    "duration": 0,
    "start_time": "2023-09-28T12:38:25.172Z"
   },
   {
    "duration": 0,
    "start_time": "2023-09-28T12:38:25.173Z"
   },
   {
    "duration": 0,
    "start_time": "2023-09-28T12:38:25.174Z"
   },
   {
    "duration": 0,
    "start_time": "2023-09-28T12:38:25.175Z"
   },
   {
    "duration": 0,
    "start_time": "2023-09-28T12:38:25.176Z"
   },
   {
    "duration": 0,
    "start_time": "2023-09-28T12:38:25.177Z"
   },
   {
    "duration": 0,
    "start_time": "2023-09-28T12:38:25.178Z"
   },
   {
    "duration": 423,
    "start_time": "2023-09-28T12:38:38.729Z"
   },
   {
    "duration": 92,
    "start_time": "2023-09-28T12:38:55.682Z"
   },
   {
    "duration": 6,
    "start_time": "2023-09-28T12:39:04.485Z"
   },
   {
    "duration": 426,
    "start_time": "2023-09-28T12:39:05.484Z"
   },
   {
    "duration": 6,
    "start_time": "2023-09-28T12:39:16.428Z"
   },
   {
    "duration": 426,
    "start_time": "2023-09-28T12:39:17.596Z"
   },
   {
    "duration": 92,
    "start_time": "2023-09-28T12:39:36.448Z"
   },
   {
    "duration": 5,
    "start_time": "2023-09-28T12:43:04.236Z"
   },
   {
    "duration": 80,
    "start_time": "2023-09-28T12:43:10.195Z"
   },
   {
    "duration": 4,
    "start_time": "2023-09-28T12:43:12.620Z"
   },
   {
    "duration": 411,
    "start_time": "2023-09-28T12:43:13.212Z"
   },
   {
    "duration": 5,
    "start_time": "2023-09-28T12:44:37.515Z"
   },
   {
    "duration": 405,
    "start_time": "2023-09-28T12:44:38.227Z"
   },
   {
    "duration": 5,
    "start_time": "2023-09-28T12:45:24.697Z"
   },
   {
    "duration": 412,
    "start_time": "2023-09-28T12:45:25.169Z"
   },
   {
    "duration": 5,
    "start_time": "2023-09-28T12:46:10.374Z"
   },
   {
    "duration": 401,
    "start_time": "2023-09-28T12:46:11.092Z"
   },
   {
    "duration": 5,
    "start_time": "2023-09-28T12:46:18.388Z"
   },
   {
    "duration": 414,
    "start_time": "2023-09-28T12:46:19.168Z"
   },
   {
    "duration": 9,
    "start_time": "2023-09-28T12:47:50.579Z"
   },
   {
    "duration": 8,
    "start_time": "2023-09-28T12:48:02.460Z"
   },
   {
    "duration": 405,
    "start_time": "2023-09-28T12:48:03.143Z"
   },
   {
    "duration": 403,
    "start_time": "2023-09-28T12:48:17.792Z"
   },
   {
    "duration": 5,
    "start_time": "2023-09-28T12:48:29.074Z"
   },
   {
    "duration": 403,
    "start_time": "2023-09-28T12:48:30.227Z"
   },
   {
    "duration": 5,
    "start_time": "2023-09-28T12:51:36.338Z"
   },
   {
    "duration": 469,
    "start_time": "2023-09-28T12:51:39.018Z"
   },
   {
    "duration": 451,
    "start_time": "2023-09-28T12:51:55.902Z"
   },
   {
    "duration": 437,
    "start_time": "2023-09-28T12:52:07.907Z"
   },
   {
    "duration": 12,
    "start_time": "2023-09-28T12:52:26.576Z"
   },
   {
    "duration": 9,
    "start_time": "2023-09-28T12:52:32.938Z"
   },
   {
    "duration": 5,
    "start_time": "2023-09-28T12:52:42.168Z"
   },
   {
    "duration": 5,
    "start_time": "2023-09-28T12:53:01.148Z"
   },
   {
    "duration": 424,
    "start_time": "2023-09-28T12:53:01.893Z"
   },
   {
    "duration": 424,
    "start_time": "2023-09-28T12:53:13.886Z"
   },
   {
    "duration": 414,
    "start_time": "2023-09-28T12:53:34.569Z"
   },
   {
    "duration": 399,
    "start_time": "2023-09-28T12:53:38.594Z"
   },
   {
    "duration": 400,
    "start_time": "2023-09-28T12:53:41.840Z"
   },
   {
    "duration": 14,
    "start_time": "2023-09-28T12:53:54.087Z"
   },
   {
    "duration": 12,
    "start_time": "2023-09-28T12:54:17.835Z"
   },
   {
    "duration": 88,
    "start_time": "2023-09-28T12:54:50.317Z"
   },
   {
    "duration": 24,
    "start_time": "2023-09-28T12:55:01.823Z"
   },
   {
    "duration": 11,
    "start_time": "2023-09-28T12:55:14.296Z"
   },
   {
    "duration": 8,
    "start_time": "2023-09-28T12:55:22.274Z"
   },
   {
    "duration": 11,
    "start_time": "2023-09-28T12:55:26.665Z"
   },
   {
    "duration": 4,
    "start_time": "2023-09-28T12:55:36.324Z"
   },
   {
    "duration": 14,
    "start_time": "2023-09-28T12:56:02.813Z"
   },
   {
    "duration": 15,
    "start_time": "2023-09-28T12:56:07.229Z"
   },
   {
    "duration": 13,
    "start_time": "2023-09-28T12:56:10.717Z"
   },
   {
    "duration": 48,
    "start_time": "2023-09-28T12:57:03.089Z"
   },
   {
    "duration": 119,
    "start_time": "2023-09-28T12:58:10.788Z"
   },
   {
    "duration": 15,
    "start_time": "2023-09-28T12:58:14.952Z"
   },
   {
    "duration": 12,
    "start_time": "2023-09-28T12:59:38.185Z"
   },
   {
    "duration": 12,
    "start_time": "2023-09-28T13:00:35.399Z"
   },
   {
    "duration": 11,
    "start_time": "2023-09-28T13:01:12.480Z"
   },
   {
    "duration": 11,
    "start_time": "2023-09-28T13:01:22.981Z"
   },
   {
    "duration": 54,
    "start_time": "2023-09-28T13:01:34.645Z"
   },
   {
    "duration": 40,
    "start_time": "2023-09-28T13:01:40.701Z"
   },
   {
    "duration": 37,
    "start_time": "2023-09-28T13:01:48.710Z"
   },
   {
    "duration": 36,
    "start_time": "2023-09-28T13:02:29.834Z"
   },
   {
    "duration": 40,
    "start_time": "2023-09-28T13:02:34.996Z"
   },
   {
    "duration": 33,
    "start_time": "2023-09-28T13:03:25.174Z"
   },
   {
    "duration": 111,
    "start_time": "2023-09-28T13:04:51.417Z"
   },
   {
    "duration": 54,
    "start_time": "2023-09-28T13:05:31.627Z"
   },
   {
    "duration": 25,
    "start_time": "2023-09-28T13:06:05.074Z"
   },
   {
    "duration": 117,
    "start_time": "2023-09-28T13:06:08.458Z"
   },
   {
    "duration": 55,
    "start_time": "2023-09-28T13:06:12.095Z"
   },
   {
    "duration": 54,
    "start_time": "2023-09-28T13:06:18.578Z"
   },
   {
    "duration": 57,
    "start_time": "2023-09-28T13:07:08.316Z"
   },
   {
    "duration": 166,
    "start_time": "2023-09-28T13:07:25.686Z"
   },
   {
    "duration": 65,
    "start_time": "2023-09-28T13:07:47.840Z"
   },
   {
    "duration": 176,
    "start_time": "2023-09-28T13:07:50.351Z"
   },
   {
    "duration": 53,
    "start_time": "2023-09-28T13:07:51.512Z"
   },
   {
    "duration": 138,
    "start_time": "2023-09-28T13:07:57.448Z"
   },
   {
    "duration": 85,
    "start_time": "2023-09-28T13:07:58.344Z"
   },
   {
    "duration": 370,
    "start_time": "2023-09-28T13:08:33.603Z"
   },
   {
    "duration": 0,
    "start_time": "2023-09-28T13:13:00.763Z"
   },
   {
    "duration": 250,
    "start_time": "2023-09-28T13:13:19.424Z"
   },
   {
    "duration": 5,
    "start_time": "2023-09-28T13:19:08.434Z"
   },
   {
    "duration": 569,
    "start_time": "2023-09-28T13:19:11.227Z"
   },
   {
    "duration": 616,
    "start_time": "2023-09-28T13:20:07.711Z"
   },
   {
    "duration": 723,
    "start_time": "2023-09-28T13:20:46.859Z"
   },
   {
    "duration": 719,
    "start_time": "2023-09-28T13:20:50.835Z"
   },
   {
    "duration": 18,
    "start_time": "2023-09-28T13:22:12.843Z"
   },
   {
    "duration": 9,
    "start_time": "2023-09-28T13:22:15.965Z"
   },
   {
    "duration": 10,
    "start_time": "2023-09-28T13:22:20.281Z"
   },
   {
    "duration": 82,
    "start_time": "2023-09-28T13:22:23.012Z"
   },
   {
    "duration": 10,
    "start_time": "2023-09-28T13:22:26.315Z"
   },
   {
    "duration": 14612,
    "start_time": "2023-09-28T13:26:27.384Z"
   },
   {
    "duration": 52,
    "start_time": "2023-09-28T13:28:18.816Z"
   },
   {
    "duration": 8,
    "start_time": "2023-09-28T13:29:37.886Z"
   },
   {
    "duration": 1650,
    "start_time": "2023-09-28T13:29:57.721Z"
   },
   {
    "duration": 4,
    "start_time": "2023-09-28T13:30:08.280Z"
   },
   {
    "duration": 10,
    "start_time": "2023-09-28T13:30:08.286Z"
   },
   {
    "duration": 9,
    "start_time": "2023-09-28T13:30:08.298Z"
   },
   {
    "duration": 843,
    "start_time": "2023-09-28T13:30:08.308Z"
   },
   {
    "duration": 13,
    "start_time": "2023-09-28T13:30:09.154Z"
   },
   {
    "duration": 40,
    "start_time": "2023-09-28T13:30:09.169Z"
   },
   {
    "duration": 37,
    "start_time": "2023-09-28T13:30:09.211Z"
   },
   {
    "duration": 136,
    "start_time": "2023-09-28T13:30:09.250Z"
   },
   {
    "duration": 79,
    "start_time": "2023-09-28T13:30:09.388Z"
   },
   {
    "duration": 225,
    "start_time": "2023-09-28T13:30:09.469Z"
   },
   {
    "duration": 118,
    "start_time": "2023-09-28T13:30:09.697Z"
   },
   {
    "duration": 264,
    "start_time": "2023-09-28T13:30:09.816Z"
   },
   {
    "duration": 655,
    "start_time": "2023-09-28T13:30:10.082Z"
   },
   {
    "duration": 76,
    "start_time": "2023-09-28T13:30:10.743Z"
   },
   {
    "duration": 0,
    "start_time": "2023-09-28T13:30:10.822Z"
   },
   {
    "duration": 0,
    "start_time": "2023-09-28T13:30:10.823Z"
   },
   {
    "duration": 0,
    "start_time": "2023-09-28T13:30:10.824Z"
   },
   {
    "duration": 0,
    "start_time": "2023-09-28T13:30:10.825Z"
   },
   {
    "duration": 0,
    "start_time": "2023-09-28T13:30:10.844Z"
   },
   {
    "duration": 0,
    "start_time": "2023-09-28T13:30:10.845Z"
   },
   {
    "duration": 0,
    "start_time": "2023-09-28T13:30:10.846Z"
   },
   {
    "duration": 0,
    "start_time": "2023-09-28T13:30:10.847Z"
   },
   {
    "duration": 0,
    "start_time": "2023-09-28T13:30:10.848Z"
   },
   {
    "duration": 0,
    "start_time": "2023-09-28T13:30:10.849Z"
   },
   {
    "duration": 0,
    "start_time": "2023-09-28T13:30:10.851Z"
   },
   {
    "duration": 0,
    "start_time": "2023-09-28T13:30:10.852Z"
   },
   {
    "duration": 0,
    "start_time": "2023-09-28T13:30:10.853Z"
   },
   {
    "duration": 0,
    "start_time": "2023-09-28T13:30:10.853Z"
   },
   {
    "duration": 0,
    "start_time": "2023-09-28T13:30:10.854Z"
   },
   {
    "duration": 0,
    "start_time": "2023-09-28T13:30:10.855Z"
   },
   {
    "duration": 0,
    "start_time": "2023-09-28T13:30:10.856Z"
   },
   {
    "duration": 0,
    "start_time": "2023-09-28T13:30:10.857Z"
   },
   {
    "duration": 0,
    "start_time": "2023-09-28T13:30:10.858Z"
   },
   {
    "duration": 0,
    "start_time": "2023-09-28T13:30:10.859Z"
   },
   {
    "duration": 0,
    "start_time": "2023-09-28T13:30:10.860Z"
   },
   {
    "duration": 0,
    "start_time": "2023-09-28T13:30:10.861Z"
   },
   {
    "duration": 0,
    "start_time": "2023-09-28T13:30:10.862Z"
   },
   {
    "duration": 9,
    "start_time": "2023-09-28T13:30:36.532Z"
   },
   {
    "duration": 9,
    "start_time": "2023-09-28T13:30:56.334Z"
   },
   {
    "duration": 204,
    "start_time": "2023-09-28T13:31:33.569Z"
   },
   {
    "duration": 10,
    "start_time": "2023-09-28T13:31:36.522Z"
   },
   {
    "duration": 9,
    "start_time": "2023-09-28T13:31:40.314Z"
   },
   {
    "duration": 10,
    "start_time": "2023-09-28T13:31:50.596Z"
   },
   {
    "duration": 439,
    "start_time": "2023-09-28T13:31:53.172Z"
   },
   {
    "duration": 175,
    "start_time": "2023-09-28T13:32:10.109Z"
   },
   {
    "duration": 5,
    "start_time": "2023-09-28T13:33:13.621Z"
   },
   {
    "duration": 162,
    "start_time": "2023-09-28T13:33:14.964Z"
   },
   {
    "duration": 5,
    "start_time": "2023-09-28T13:34:18.682Z"
   },
   {
    "duration": 437,
    "start_time": "2023-09-28T13:34:19.306Z"
   },
   {
    "duration": 9,
    "start_time": "2023-09-28T13:34:35.610Z"
   },
   {
    "duration": 418,
    "start_time": "2023-09-28T13:34:50.460Z"
   },
   {
    "duration": 441,
    "start_time": "2023-09-28T13:34:57.438Z"
   },
   {
    "duration": 5,
    "start_time": "2023-09-28T13:35:50.869Z"
   },
   {
    "duration": 429,
    "start_time": "2023-09-28T13:35:51.363Z"
   },
   {
    "duration": 5,
    "start_time": "2023-09-28T13:36:04.286Z"
   },
   {
    "duration": 5,
    "start_time": "2023-09-28T13:36:32.823Z"
   },
   {
    "duration": 424,
    "start_time": "2023-09-28T13:36:34.775Z"
   },
   {
    "duration": 5,
    "start_time": "2023-09-28T13:37:28.408Z"
   },
   {
    "duration": 437,
    "start_time": "2023-09-28T13:37:28.996Z"
   },
   {
    "duration": 5,
    "start_time": "2023-09-28T13:37:56.152Z"
   },
   {
    "duration": 406,
    "start_time": "2023-09-28T13:37:56.655Z"
   },
   {
    "duration": 108,
    "start_time": "2023-09-28T13:38:07.336Z"
   },
   {
    "duration": 8,
    "start_time": "2023-09-28T13:38:13.801Z"
   },
   {
    "duration": 145,
    "start_time": "2023-09-28T13:38:15.801Z"
   },
   {
    "duration": 80,
    "start_time": "2023-09-28T13:38:25.354Z"
   },
   {
    "duration": 138,
    "start_time": "2023-09-28T13:38:25.993Z"
   },
   {
    "duration": 3,
    "start_time": "2023-09-28T13:38:47.563Z"
   },
   {
    "duration": 3,
    "start_time": "2023-09-28T13:38:54.116Z"
   },
   {
    "duration": 5,
    "start_time": "2023-09-28T13:39:04.220Z"
   },
   {
    "duration": 80,
    "start_time": "2023-09-28T13:39:38.032Z"
   },
   {
    "duration": 4,
    "start_time": "2023-09-28T13:39:45.857Z"
   },
   {
    "duration": 4,
    "start_time": "2023-09-28T13:39:53.578Z"
   },
   {
    "duration": 5,
    "start_time": "2023-09-28T13:40:23.421Z"
   },
   {
    "duration": 5,
    "start_time": "2023-09-28T13:40:25.860Z"
   },
   {
    "duration": 123,
    "start_time": "2023-09-28T13:41:10.610Z"
   },
   {
    "duration": 10,
    "start_time": "2023-09-28T13:41:16.610Z"
   },
   {
    "duration": 4,
    "start_time": "2023-09-28T13:41:17.994Z"
   },
   {
    "duration": 412,
    "start_time": "2023-09-28T13:41:20.802Z"
   },
   {
    "duration": 438,
    "start_time": "2023-09-28T13:41:30.900Z"
   },
   {
    "duration": 5,
    "start_time": "2023-09-28T13:41:43.412Z"
   },
   {
    "duration": 4,
    "start_time": "2023-09-28T13:41:44.045Z"
   },
   {
    "duration": 485,
    "start_time": "2023-09-28T13:41:44.692Z"
   },
   {
    "duration": 5,
    "start_time": "2023-09-28T13:41:53.310Z"
   },
   {
    "duration": 5,
    "start_time": "2023-09-28T13:41:53.854Z"
   },
   {
    "duration": 427,
    "start_time": "2023-09-28T13:41:54.773Z"
   },
   {
    "duration": 13,
    "start_time": "2023-09-28T13:42:07.347Z"
   },
   {
    "duration": 5,
    "start_time": "2023-09-28T13:42:20.489Z"
   },
   {
    "duration": 11,
    "start_time": "2023-09-28T13:42:21.104Z"
   },
   {
    "duration": 440,
    "start_time": "2023-09-28T13:42:21.950Z"
   },
   {
    "duration": 5,
    "start_time": "2023-09-28T13:43:21.271Z"
   },
   {
    "duration": 9,
    "start_time": "2023-09-28T13:43:22.069Z"
   },
   {
    "duration": 437,
    "start_time": "2023-09-28T13:43:22.805Z"
   },
   {
    "duration": 5,
    "start_time": "2023-09-28T13:43:59.378Z"
   },
   {
    "duration": 420,
    "start_time": "2023-09-28T13:44:00.259Z"
   },
   {
    "duration": 5,
    "start_time": "2023-09-28T13:44:19.404Z"
   },
   {
    "duration": 33,
    "start_time": "2023-09-28T13:44:19.939Z"
   },
   {
    "duration": 6,
    "start_time": "2023-09-28T13:44:28.916Z"
   },
   {
    "duration": 33,
    "start_time": "2023-09-28T13:44:29.317Z"
   },
   {
    "duration": 4,
    "start_time": "2023-09-28T13:45:08.410Z"
   },
   {
    "duration": 6,
    "start_time": "2023-09-28T13:45:16.440Z"
   },
   {
    "duration": 155,
    "start_time": "2023-09-28T13:45:18.105Z"
   },
   {
    "duration": 6,
    "start_time": "2023-09-28T13:45:52.871Z"
   },
   {
    "duration": 3,
    "start_time": "2023-09-28T13:45:53.375Z"
   },
   {
    "duration": 106,
    "start_time": "2023-09-28T13:45:53.926Z"
   },
   {
    "duration": 7,
    "start_time": "2023-09-28T13:46:29.801Z"
   },
   {
    "duration": 4,
    "start_time": "2023-09-28T13:46:30.407Z"
   },
   {
    "duration": 82,
    "start_time": "2023-09-28T13:46:30.938Z"
   },
   {
    "duration": 4,
    "start_time": "2023-09-28T13:46:33.962Z"
   },
   {
    "duration": 25,
    "start_time": "2023-09-28T13:46:33.968Z"
   },
   {
    "duration": 39,
    "start_time": "2023-09-28T13:46:33.995Z"
   },
   {
    "duration": 35,
    "start_time": "2023-09-28T13:46:34.036Z"
   },
   {
    "duration": 149,
    "start_time": "2023-09-28T13:46:34.073Z"
   },
   {
    "duration": 0,
    "start_time": "2023-09-28T13:46:34.226Z"
   },
   {
    "duration": 0,
    "start_time": "2023-09-28T13:46:34.227Z"
   },
   {
    "duration": 0,
    "start_time": "2023-09-28T13:46:34.228Z"
   },
   {
    "duration": 0,
    "start_time": "2023-09-28T13:46:34.229Z"
   },
   {
    "duration": 0,
    "start_time": "2023-09-28T13:46:34.230Z"
   },
   {
    "duration": 0,
    "start_time": "2023-09-28T13:46:34.231Z"
   },
   {
    "duration": 0,
    "start_time": "2023-09-28T13:46:34.232Z"
   },
   {
    "duration": 0,
    "start_time": "2023-09-28T13:46:34.233Z"
   },
   {
    "duration": 0,
    "start_time": "2023-09-28T13:46:34.234Z"
   },
   {
    "duration": 0,
    "start_time": "2023-09-28T13:46:34.235Z"
   },
   {
    "duration": 0,
    "start_time": "2023-09-28T13:46:34.236Z"
   },
   {
    "duration": 0,
    "start_time": "2023-09-28T13:46:34.237Z"
   },
   {
    "duration": 0,
    "start_time": "2023-09-28T13:46:34.238Z"
   },
   {
    "duration": 0,
    "start_time": "2023-09-28T13:46:34.239Z"
   },
   {
    "duration": 0,
    "start_time": "2023-09-28T13:46:34.240Z"
   },
   {
    "duration": 0,
    "start_time": "2023-09-28T13:46:34.241Z"
   },
   {
    "duration": 0,
    "start_time": "2023-09-28T13:46:34.242Z"
   },
   {
    "duration": 0,
    "start_time": "2023-09-28T13:46:34.243Z"
   },
   {
    "duration": 0,
    "start_time": "2023-09-28T13:46:34.244Z"
   },
   {
    "duration": 0,
    "start_time": "2023-09-28T13:46:34.246Z"
   },
   {
    "duration": 0,
    "start_time": "2023-09-28T13:46:34.247Z"
   },
   {
    "duration": 0,
    "start_time": "2023-09-28T13:46:34.248Z"
   },
   {
    "duration": 0,
    "start_time": "2023-09-28T13:46:34.249Z"
   },
   {
    "duration": 0,
    "start_time": "2023-09-28T13:46:34.250Z"
   },
   {
    "duration": 0,
    "start_time": "2023-09-28T13:46:34.251Z"
   },
   {
    "duration": 0,
    "start_time": "2023-09-28T13:46:34.252Z"
   },
   {
    "duration": 0,
    "start_time": "2023-09-28T13:46:34.253Z"
   },
   {
    "duration": 0,
    "start_time": "2023-09-28T13:46:34.254Z"
   },
   {
    "duration": 0,
    "start_time": "2023-09-28T13:46:34.255Z"
   },
   {
    "duration": 0,
    "start_time": "2023-09-28T13:46:34.256Z"
   },
   {
    "duration": 0,
    "start_time": "2023-09-28T13:46:34.257Z"
   },
   {
    "duration": 0,
    "start_time": "2023-09-28T13:46:34.259Z"
   },
   {
    "duration": 0,
    "start_time": "2023-09-28T13:46:34.260Z"
   },
   {
    "duration": 1414,
    "start_time": "2023-09-28T13:46:46.559Z"
   },
   {
    "duration": 3,
    "start_time": "2023-09-28T13:46:47.974Z"
   },
   {
    "duration": 16,
    "start_time": "2023-09-28T13:46:47.979Z"
   },
   {
    "duration": 135,
    "start_time": "2023-09-28T13:46:47.997Z"
   },
   {
    "duration": 0,
    "start_time": "2023-09-28T13:46:48.134Z"
   },
   {
    "duration": 0,
    "start_time": "2023-09-28T13:46:48.135Z"
   },
   {
    "duration": 0,
    "start_time": "2023-09-28T13:46:48.136Z"
   },
   {
    "duration": 0,
    "start_time": "2023-09-28T13:46:48.137Z"
   },
   {
    "duration": 0,
    "start_time": "2023-09-28T13:46:48.138Z"
   },
   {
    "duration": 0,
    "start_time": "2023-09-28T13:46:48.139Z"
   },
   {
    "duration": 0,
    "start_time": "2023-09-28T13:46:48.140Z"
   },
   {
    "duration": 0,
    "start_time": "2023-09-28T13:46:48.141Z"
   },
   {
    "duration": 0,
    "start_time": "2023-09-28T13:46:48.144Z"
   },
   {
    "duration": 0,
    "start_time": "2023-09-28T13:46:48.145Z"
   },
   {
    "duration": 0,
    "start_time": "2023-09-28T13:46:48.146Z"
   },
   {
    "duration": 0,
    "start_time": "2023-09-28T13:46:48.147Z"
   },
   {
    "duration": 0,
    "start_time": "2023-09-28T13:46:48.148Z"
   },
   {
    "duration": 0,
    "start_time": "2023-09-28T13:46:48.149Z"
   },
   {
    "duration": 0,
    "start_time": "2023-09-28T13:46:48.151Z"
   },
   {
    "duration": 0,
    "start_time": "2023-09-28T13:46:48.152Z"
   },
   {
    "duration": 0,
    "start_time": "2023-09-28T13:46:48.152Z"
   },
   {
    "duration": 0,
    "start_time": "2023-09-28T13:46:48.153Z"
   },
   {
    "duration": 0,
    "start_time": "2023-09-28T13:46:48.154Z"
   },
   {
    "duration": 0,
    "start_time": "2023-09-28T13:46:48.155Z"
   },
   {
    "duration": 0,
    "start_time": "2023-09-28T13:46:48.156Z"
   },
   {
    "duration": 0,
    "start_time": "2023-09-28T13:46:48.157Z"
   },
   {
    "duration": 0,
    "start_time": "2023-09-28T13:46:48.158Z"
   },
   {
    "duration": 0,
    "start_time": "2023-09-28T13:46:48.159Z"
   },
   {
    "duration": 0,
    "start_time": "2023-09-28T13:46:48.161Z"
   },
   {
    "duration": 0,
    "start_time": "2023-09-28T13:46:48.162Z"
   },
   {
    "duration": 0,
    "start_time": "2023-09-28T13:46:48.163Z"
   },
   {
    "duration": 0,
    "start_time": "2023-09-28T13:46:48.165Z"
   },
   {
    "duration": 0,
    "start_time": "2023-09-28T13:46:48.166Z"
   },
   {
    "duration": 0,
    "start_time": "2023-09-28T13:46:48.167Z"
   },
   {
    "duration": 0,
    "start_time": "2023-09-28T13:46:48.169Z"
   },
   {
    "duration": 0,
    "start_time": "2023-09-28T13:46:48.170Z"
   },
   {
    "duration": 0,
    "start_time": "2023-09-28T13:46:48.172Z"
   },
   {
    "duration": 0,
    "start_time": "2023-09-28T13:46:48.173Z"
   },
   {
    "duration": 79,
    "start_time": "2023-09-28T13:46:57.570Z"
   },
   {
    "duration": 5,
    "start_time": "2023-09-28T13:48:11.090Z"
   },
   {
    "duration": 9,
    "start_time": "2023-09-28T13:48:11.921Z"
   },
   {
    "duration": 103,
    "start_time": "2023-09-28T13:48:12.626Z"
   },
   {
    "duration": 7,
    "start_time": "2023-09-28T13:49:08.043Z"
   },
   {
    "duration": 26,
    "start_time": "2023-09-28T13:49:08.051Z"
   },
   {
    "duration": 0,
    "start_time": "2023-09-28T13:49:08.079Z"
   },
   {
    "duration": 461,
    "start_time": "2023-09-28T13:49:13.742Z"
   },
   {
    "duration": 4,
    "start_time": "2023-09-28T13:49:37.868Z"
   },
   {
    "duration": 419,
    "start_time": "2023-09-28T13:49:38.786Z"
   },
   {
    "duration": 4,
    "start_time": "2023-09-28T13:50:21.335Z"
   },
   {
    "duration": 438,
    "start_time": "2023-09-28T13:50:22.151Z"
   },
   {
    "duration": 6,
    "start_time": "2023-09-28T13:51:12.733Z"
   },
   {
    "duration": 176,
    "start_time": "2023-09-28T13:51:13.595Z"
   },
   {
    "duration": 5,
    "start_time": "2023-09-28T13:51:55.403Z"
   },
   {
    "duration": 435,
    "start_time": "2023-09-28T13:51:55.824Z"
   },
   {
    "duration": 447,
    "start_time": "2023-09-28T13:52:30.691Z"
   },
   {
    "duration": 5,
    "start_time": "2023-09-28T13:52:33.107Z"
   },
   {
    "duration": 463,
    "start_time": "2023-09-28T13:52:33.559Z"
   },
   {
    "duration": 5,
    "start_time": "2023-09-28T13:53:41.395Z"
   },
   {
    "duration": 484,
    "start_time": "2023-09-28T13:53:41.922Z"
   },
   {
    "duration": 5,
    "start_time": "2023-09-28T13:56:28.957Z"
   },
   {
    "duration": 91,
    "start_time": "2023-09-28T13:56:29.268Z"
   },
   {
    "duration": 6,
    "start_time": "2023-09-28T13:57:18.739Z"
   },
   {
    "duration": 44,
    "start_time": "2023-09-28T13:57:19.505Z"
   },
   {
    "duration": 5,
    "start_time": "2023-09-28T13:57:31.788Z"
   },
   {
    "duration": 73,
    "start_time": "2023-09-28T13:57:32.235Z"
   },
   {
    "duration": 5,
    "start_time": "2023-09-28T13:58:19.016Z"
   },
   {
    "duration": 96,
    "start_time": "2023-09-28T13:58:19.591Z"
   },
   {
    "duration": 5,
    "start_time": "2023-09-28T13:58:37.906Z"
   },
   {
    "duration": 14,
    "start_time": "2023-09-28T13:58:39.622Z"
   },
   {
    "duration": 5,
    "start_time": "2023-09-28T13:58:51.399Z"
   },
   {
    "duration": 209,
    "start_time": "2023-09-28T13:58:52.467Z"
   },
   {
    "duration": 186,
    "start_time": "2023-09-28T14:08:32.953Z"
   },
   {
    "duration": 6,
    "start_time": "2023-09-28T14:08:44.071Z"
   },
   {
    "duration": 9,
    "start_time": "2023-09-28T14:08:45.855Z"
   },
   {
    "duration": 414,
    "start_time": "2023-09-28T14:08:46.502Z"
   },
   {
    "duration": 10,
    "start_time": "2023-09-28T14:09:02.184Z"
   },
   {
    "duration": 3,
    "start_time": "2023-09-28T14:09:27.091Z"
   },
   {
    "duration": 3,
    "start_time": "2023-09-28T14:09:30.531Z"
   },
   {
    "duration": 9,
    "start_time": "2023-09-28T14:10:17.496Z"
   },
   {
    "duration": 10,
    "start_time": "2023-09-28T14:10:23.179Z"
   },
   {
    "duration": 3,
    "start_time": "2023-09-28T14:10:27.696Z"
   },
   {
    "duration": 7,
    "start_time": "2023-09-28T14:10:34.393Z"
   },
   {
    "duration": 5,
    "start_time": "2023-09-28T14:10:47.147Z"
   },
   {
    "duration": 6,
    "start_time": "2023-09-28T14:10:54.084Z"
   },
   {
    "duration": 240,
    "start_time": "2023-09-28T14:11:34.399Z"
   },
   {
    "duration": 5,
    "start_time": "2023-09-28T14:12:15.660Z"
   },
   {
    "duration": 5,
    "start_time": "2023-09-28T14:12:22.979Z"
   },
   {
    "duration": 6,
    "start_time": "2023-09-28T14:12:55.197Z"
   },
   {
    "duration": 93,
    "start_time": "2023-09-28T14:13:19.541Z"
   },
   {
    "duration": 4,
    "start_time": "2023-09-28T14:13:47.301Z"
   },
   {
    "duration": 420,
    "start_time": "2023-09-28T14:13:51.797Z"
   },
   {
    "duration": 6,
    "start_time": "2023-09-28T14:15:15.870Z"
   },
   {
    "duration": 9,
    "start_time": "2023-09-28T14:15:17.372Z"
   },
   {
    "duration": 796,
    "start_time": "2023-09-28T14:15:19.201Z"
   },
   {
    "duration": 796,
    "start_time": "2023-09-28T14:19:07.939Z"
   },
   {
    "duration": 3,
    "start_time": "2023-09-28T14:20:22.264Z"
   },
   {
    "duration": 33,
    "start_time": "2023-09-28T14:20:22.270Z"
   },
   {
    "duration": 15,
    "start_time": "2023-09-28T14:20:22.305Z"
   },
   {
    "duration": 783,
    "start_time": "2023-09-28T14:20:22.323Z"
   },
   {
    "duration": 12,
    "start_time": "2023-09-28T14:20:23.108Z"
   },
   {
    "duration": 61,
    "start_time": "2023-09-28T14:20:23.123Z"
   },
   {
    "duration": 22,
    "start_time": "2023-09-28T14:20:23.186Z"
   },
   {
    "duration": 138,
    "start_time": "2023-09-28T14:20:23.210Z"
   },
   {
    "duration": 56,
    "start_time": "2023-09-28T14:20:23.351Z"
   },
   {
    "duration": 178,
    "start_time": "2023-09-28T14:20:23.410Z"
   },
   {
    "duration": 117,
    "start_time": "2023-09-28T14:20:23.590Z"
   },
   {
    "duration": 307,
    "start_time": "2023-09-28T14:20:23.709Z"
   },
   {
    "duration": 220,
    "start_time": "2023-09-28T14:20:24.017Z"
   },
   {
    "duration": 3,
    "start_time": "2023-09-28T14:20:24.244Z"
   },
   {
    "duration": 202,
    "start_time": "2023-09-28T14:20:24.249Z"
   },
   {
    "duration": 20,
    "start_time": "2023-09-28T14:20:24.454Z"
   },
   {
    "duration": 26,
    "start_time": "2023-09-28T14:20:24.476Z"
   },
   {
    "duration": 44,
    "start_time": "2023-09-28T14:20:24.504Z"
   },
   {
    "duration": 9,
    "start_time": "2023-09-28T14:20:24.551Z"
   },
   {
    "duration": 28,
    "start_time": "2023-09-28T14:20:24.562Z"
   },
   {
    "duration": 39,
    "start_time": "2023-09-28T14:20:24.592Z"
   },
   {
    "duration": 20,
    "start_time": "2023-09-28T14:20:24.633Z"
   },
   {
    "duration": 44,
    "start_time": "2023-09-28T14:20:24.655Z"
   },
   {
    "duration": 0,
    "start_time": "2023-09-28T14:20:24.702Z"
   },
   {
    "duration": 0,
    "start_time": "2023-09-28T14:20:24.704Z"
   },
   {
    "duration": 0,
    "start_time": "2023-09-28T14:20:24.706Z"
   },
   {
    "duration": 0,
    "start_time": "2023-09-28T14:20:24.707Z"
   },
   {
    "duration": 0,
    "start_time": "2023-09-28T14:20:24.708Z"
   },
   {
    "duration": 1,
    "start_time": "2023-09-28T14:20:24.711Z"
   },
   {
    "duration": 0,
    "start_time": "2023-09-28T14:20:24.713Z"
   },
   {
    "duration": 0,
    "start_time": "2023-09-28T14:20:24.715Z"
   },
   {
    "duration": 0,
    "start_time": "2023-09-28T14:20:24.717Z"
   },
   {
    "duration": 0,
    "start_time": "2023-09-28T14:20:24.719Z"
   },
   {
    "duration": 0,
    "start_time": "2023-09-28T14:20:24.720Z"
   },
   {
    "duration": 0,
    "start_time": "2023-09-28T14:20:24.722Z"
   },
   {
    "duration": 0,
    "start_time": "2023-09-28T14:20:24.723Z"
   },
   {
    "duration": 0,
    "start_time": "2023-09-28T14:20:24.725Z"
   },
   {
    "duration": 194,
    "start_time": "2023-09-28T14:21:04.852Z"
   },
   {
    "duration": 167,
    "start_time": "2023-09-28T14:21:17.073Z"
   },
   {
    "duration": 38,
    "start_time": "2023-09-28T14:25:09.505Z"
   },
   {
    "duration": 4,
    "start_time": "2023-09-28T14:27:59.979Z"
   },
   {
    "duration": 51,
    "start_time": "2023-09-28T14:27:59.985Z"
   },
   {
    "duration": 81,
    "start_time": "2023-09-28T14:28:00.038Z"
   },
   {
    "duration": 785,
    "start_time": "2023-09-28T14:28:00.121Z"
   },
   {
    "duration": 12,
    "start_time": "2023-09-28T14:28:00.908Z"
   },
   {
    "duration": 104,
    "start_time": "2023-09-28T14:28:00.922Z"
   },
   {
    "duration": 61,
    "start_time": "2023-09-28T14:28:01.028Z"
   },
   {
    "duration": 156,
    "start_time": "2023-09-28T14:28:01.091Z"
   },
   {
    "duration": 56,
    "start_time": "2023-09-28T14:28:01.251Z"
   },
   {
    "duration": 178,
    "start_time": "2023-09-28T14:28:01.309Z"
   },
   {
    "duration": 91,
    "start_time": "2023-09-28T14:28:01.489Z"
   },
   {
    "duration": 179,
    "start_time": "2023-09-28T14:28:01.583Z"
   },
   {
    "duration": 205,
    "start_time": "2023-09-28T14:28:01.764Z"
   },
   {
    "duration": 182,
    "start_time": "2023-09-28T14:28:01.972Z"
   },
   {
    "duration": 29,
    "start_time": "2023-09-28T14:28:02.156Z"
   },
   {
    "duration": 48,
    "start_time": "2023-09-28T14:28:02.187Z"
   },
   {
    "duration": 74,
    "start_time": "2023-09-28T14:28:02.237Z"
   },
   {
    "duration": 0,
    "start_time": "2023-09-28T14:28:02.312Z"
   },
   {
    "duration": 0,
    "start_time": "2023-09-28T14:28:02.314Z"
   },
   {
    "duration": 0,
    "start_time": "2023-09-28T14:28:02.315Z"
   },
   {
    "duration": 0,
    "start_time": "2023-09-28T14:28:02.316Z"
   },
   {
    "duration": 0,
    "start_time": "2023-09-28T14:28:02.318Z"
   },
   {
    "duration": 0,
    "start_time": "2023-09-28T14:28:02.319Z"
   },
   {
    "duration": 0,
    "start_time": "2023-09-28T14:28:02.320Z"
   },
   {
    "duration": 0,
    "start_time": "2023-09-28T14:28:02.321Z"
   },
   {
    "duration": 1,
    "start_time": "2023-09-28T14:28:02.322Z"
   },
   {
    "duration": 0,
    "start_time": "2023-09-28T14:28:02.324Z"
   },
   {
    "duration": 0,
    "start_time": "2023-09-28T14:28:02.326Z"
   },
   {
    "duration": 0,
    "start_time": "2023-09-28T14:28:02.327Z"
   },
   {
    "duration": 0,
    "start_time": "2023-09-28T14:28:02.328Z"
   },
   {
    "duration": 0,
    "start_time": "2023-09-28T14:28:02.329Z"
   },
   {
    "duration": 0,
    "start_time": "2023-09-28T14:28:02.331Z"
   },
   {
    "duration": 0,
    "start_time": "2023-09-28T14:28:02.333Z"
   },
   {
    "duration": 0,
    "start_time": "2023-09-28T14:28:02.334Z"
   },
   {
    "duration": 0,
    "start_time": "2023-09-28T14:28:02.335Z"
   },
   {
    "duration": 0,
    "start_time": "2023-09-28T14:28:02.337Z"
   },
   {
    "duration": 9,
    "start_time": "2023-09-28T14:29:24.017Z"
   },
   {
    "duration": 12,
    "start_time": "2023-09-28T14:29:25.672Z"
   },
   {
    "duration": 204,
    "start_time": "2023-09-28T14:29:53.290Z"
   },
   {
    "duration": 77,
    "start_time": "2023-09-28T14:29:53.845Z"
   },
   {
    "duration": 93,
    "start_time": "2023-09-28T14:30:13.796Z"
   },
   {
    "duration": 3,
    "start_time": "2023-09-28T14:30:23.508Z"
   },
   {
    "duration": 23,
    "start_time": "2023-09-28T14:30:23.514Z"
   },
   {
    "duration": 25,
    "start_time": "2023-09-28T14:30:23.539Z"
   },
   {
    "duration": 776,
    "start_time": "2023-09-28T14:30:23.566Z"
   },
   {
    "duration": 12,
    "start_time": "2023-09-28T14:30:24.344Z"
   },
   {
    "duration": 80,
    "start_time": "2023-09-28T14:30:24.358Z"
   },
   {
    "duration": 33,
    "start_time": "2023-09-28T14:30:24.440Z"
   },
   {
    "duration": 183,
    "start_time": "2023-09-28T14:30:24.476Z"
   },
   {
    "duration": 57,
    "start_time": "2023-09-28T14:30:24.661Z"
   },
   {
    "duration": 171,
    "start_time": "2023-09-28T14:30:24.720Z"
   },
   {
    "duration": 103,
    "start_time": "2023-09-28T14:30:24.894Z"
   },
   {
    "duration": 208,
    "start_time": "2023-09-28T14:30:24.999Z"
   },
   {
    "duration": 198,
    "start_time": "2023-09-28T14:30:25.209Z"
   },
   {
    "duration": 182,
    "start_time": "2023-09-28T14:30:25.409Z"
   },
   {
    "duration": 31,
    "start_time": "2023-09-28T14:30:25.593Z"
   },
   {
    "duration": 24,
    "start_time": "2023-09-28T14:30:25.626Z"
   },
   {
    "duration": 23,
    "start_time": "2023-09-28T14:30:25.652Z"
   },
   {
    "duration": 10,
    "start_time": "2023-09-28T14:30:25.677Z"
   },
   {
    "duration": 43,
    "start_time": "2023-09-28T14:30:25.689Z"
   },
   {
    "duration": 0,
    "start_time": "2023-09-28T14:30:25.734Z"
   },
   {
    "duration": 0,
    "start_time": "2023-09-28T14:30:25.735Z"
   },
   {
    "duration": 0,
    "start_time": "2023-09-28T14:30:25.737Z"
   },
   {
    "duration": 0,
    "start_time": "2023-09-28T14:30:25.738Z"
   },
   {
    "duration": 0,
    "start_time": "2023-09-28T14:30:25.740Z"
   },
   {
    "duration": 0,
    "start_time": "2023-09-28T14:30:25.741Z"
   },
   {
    "duration": 0,
    "start_time": "2023-09-28T14:30:25.742Z"
   },
   {
    "duration": 0,
    "start_time": "2023-09-28T14:30:25.744Z"
   },
   {
    "duration": 0,
    "start_time": "2023-09-28T14:30:25.745Z"
   },
   {
    "duration": 0,
    "start_time": "2023-09-28T14:30:25.746Z"
   },
   {
    "duration": 0,
    "start_time": "2023-09-28T14:30:25.748Z"
   },
   {
    "duration": 0,
    "start_time": "2023-09-28T14:30:25.749Z"
   },
   {
    "duration": 0,
    "start_time": "2023-09-28T14:30:25.750Z"
   },
   {
    "duration": 0,
    "start_time": "2023-09-28T14:30:25.751Z"
   },
   {
    "duration": 0,
    "start_time": "2023-09-28T14:30:25.752Z"
   },
   {
    "duration": 0,
    "start_time": "2023-09-28T14:30:25.754Z"
   },
   {
    "duration": 0,
    "start_time": "2023-09-28T14:30:25.755Z"
   },
   {
    "duration": 9,
    "start_time": "2023-09-28T14:31:11.370Z"
   },
   {
    "duration": 7,
    "start_time": "2023-09-28T14:31:52.558Z"
   },
   {
    "duration": 12,
    "start_time": "2023-09-28T14:32:56.034Z"
   },
   {
    "duration": 13,
    "start_time": "2023-09-28T14:32:59.245Z"
   },
   {
    "duration": 13,
    "start_time": "2023-09-28T14:33:05.062Z"
   },
   {
    "duration": 8,
    "start_time": "2023-09-28T14:34:05.092Z"
   },
   {
    "duration": 11,
    "start_time": "2023-09-28T14:34:07.698Z"
   },
   {
    "duration": 4,
    "start_time": "2023-09-28T14:34:14.178Z"
   },
   {
    "duration": 32,
    "start_time": "2023-09-28T14:34:14.184Z"
   },
   {
    "duration": 39,
    "start_time": "2023-09-28T14:34:14.218Z"
   },
   {
    "duration": 906,
    "start_time": "2023-09-28T14:34:14.259Z"
   },
   {
    "duration": 12,
    "start_time": "2023-09-28T14:34:15.167Z"
   },
   {
    "duration": 61,
    "start_time": "2023-09-28T14:34:15.181Z"
   },
   {
    "duration": 22,
    "start_time": "2023-09-28T14:34:15.244Z"
   },
   {
    "duration": 122,
    "start_time": "2023-09-28T14:34:15.267Z"
   },
   {
    "duration": 66,
    "start_time": "2023-09-28T14:34:15.391Z"
   },
   {
    "duration": 156,
    "start_time": "2023-09-28T14:34:15.459Z"
   },
   {
    "duration": 88,
    "start_time": "2023-09-28T14:34:15.617Z"
   },
   {
    "duration": 184,
    "start_time": "2023-09-28T14:34:15.707Z"
   },
   {
    "duration": 199,
    "start_time": "2023-09-28T14:34:15.893Z"
   },
   {
    "duration": 172,
    "start_time": "2023-09-28T14:34:16.093Z"
   },
   {
    "duration": 29,
    "start_time": "2023-09-28T14:34:16.266Z"
   },
   {
    "duration": 12,
    "start_time": "2023-09-28T14:34:16.296Z"
   },
   {
    "duration": 25,
    "start_time": "2023-09-28T14:34:16.309Z"
   },
   {
    "duration": 15,
    "start_time": "2023-09-28T14:34:16.344Z"
   },
   {
    "duration": 30,
    "start_time": "2023-09-28T14:34:16.360Z"
   },
   {
    "duration": 19,
    "start_time": "2023-09-28T14:35:34.398Z"
   },
   {
    "duration": 3,
    "start_time": "2023-09-28T14:35:43.016Z"
   },
   {
    "duration": 17,
    "start_time": "2023-09-28T14:35:43.021Z"
   },
   {
    "duration": 21,
    "start_time": "2023-09-28T14:35:43.040Z"
   },
   {
    "duration": 772,
    "start_time": "2023-09-28T14:35:43.063Z"
   },
   {
    "duration": 19,
    "start_time": "2023-09-28T14:35:43.838Z"
   },
   {
    "duration": 49,
    "start_time": "2023-09-28T14:35:43.859Z"
   },
   {
    "duration": 36,
    "start_time": "2023-09-28T14:35:43.910Z"
   },
   {
    "duration": 140,
    "start_time": "2023-09-28T14:35:43.948Z"
   },
   {
    "duration": 66,
    "start_time": "2023-09-28T14:35:44.090Z"
   },
   {
    "duration": 167,
    "start_time": "2023-09-28T14:35:44.158Z"
   },
   {
    "duration": 87,
    "start_time": "2023-09-28T14:35:44.327Z"
   },
   {
    "duration": 237,
    "start_time": "2023-09-28T14:35:44.416Z"
   },
   {
    "duration": 208,
    "start_time": "2023-09-28T14:35:44.654Z"
   },
   {
    "duration": 294,
    "start_time": "2023-09-28T14:35:44.863Z"
   },
   {
    "duration": 29,
    "start_time": "2023-09-28T14:35:45.158Z"
   },
   {
    "duration": 57,
    "start_time": "2023-09-28T14:35:45.188Z"
   },
   {
    "duration": 15,
    "start_time": "2023-09-28T14:35:45.247Z"
   },
   {
    "duration": 31,
    "start_time": "2023-09-28T14:35:45.264Z"
   },
   {
    "duration": 53,
    "start_time": "2023-09-28T14:35:45.297Z"
   },
   {
    "duration": 23,
    "start_time": "2023-09-28T14:35:45.351Z"
   },
   {
    "duration": 163,
    "start_time": "2023-09-28T14:35:45.376Z"
   },
   {
    "duration": 0,
    "start_time": "2023-09-28T14:35:45.541Z"
   },
   {
    "duration": 0,
    "start_time": "2023-09-28T14:35:45.542Z"
   },
   {
    "duration": 0,
    "start_time": "2023-09-28T14:35:45.544Z"
   },
   {
    "duration": 0,
    "start_time": "2023-09-28T14:35:45.545Z"
   },
   {
    "duration": 0,
    "start_time": "2023-09-28T14:35:45.546Z"
   },
   {
    "duration": 0,
    "start_time": "2023-09-28T14:35:45.547Z"
   },
   {
    "duration": 0,
    "start_time": "2023-09-28T14:35:45.548Z"
   },
   {
    "duration": 0,
    "start_time": "2023-09-28T14:35:45.549Z"
   },
   {
    "duration": 0,
    "start_time": "2023-09-28T14:35:45.550Z"
   },
   {
    "duration": 0,
    "start_time": "2023-09-28T14:35:45.551Z"
   },
   {
    "duration": 0,
    "start_time": "2023-09-28T14:35:45.552Z"
   },
   {
    "duration": 0,
    "start_time": "2023-09-28T14:35:45.554Z"
   },
   {
    "duration": 0,
    "start_time": "2023-09-28T14:35:45.555Z"
   },
   {
    "duration": 0,
    "start_time": "2023-09-28T14:35:45.556Z"
   },
   {
    "duration": 4,
    "start_time": "2023-09-28T14:36:35.777Z"
   },
   {
    "duration": 34,
    "start_time": "2023-09-28T14:36:35.783Z"
   },
   {
    "duration": 29,
    "start_time": "2023-09-28T14:36:35.819Z"
   },
   {
    "duration": 780,
    "start_time": "2023-09-28T14:36:35.850Z"
   },
   {
    "duration": 11,
    "start_time": "2023-09-28T14:36:36.633Z"
   },
   {
    "duration": 61,
    "start_time": "2023-09-28T14:36:36.645Z"
   },
   {
    "duration": 23,
    "start_time": "2023-09-28T14:36:36.708Z"
   },
   {
    "duration": 115,
    "start_time": "2023-09-28T14:36:36.733Z"
   },
   {
    "duration": 50,
    "start_time": "2023-09-28T14:36:36.850Z"
   },
   {
    "duration": 179,
    "start_time": "2023-09-28T14:36:36.901Z"
   },
   {
    "duration": 104,
    "start_time": "2023-09-28T14:36:37.085Z"
   },
   {
    "duration": 171,
    "start_time": "2023-09-28T14:36:37.191Z"
   },
   {
    "duration": 182,
    "start_time": "2023-09-28T14:36:37.364Z"
   },
   {
    "duration": 167,
    "start_time": "2023-09-28T14:36:37.548Z"
   },
   {
    "duration": 40,
    "start_time": "2023-09-28T14:36:37.717Z"
   },
   {
    "duration": 12,
    "start_time": "2023-09-28T14:36:37.758Z"
   },
   {
    "duration": 23,
    "start_time": "2023-09-28T14:36:37.771Z"
   },
   {
    "duration": 14,
    "start_time": "2023-09-28T14:36:37.796Z"
   },
   {
    "duration": 11,
    "start_time": "2023-09-28T14:36:37.812Z"
   },
   {
    "duration": 64,
    "start_time": "2023-09-28T14:36:37.825Z"
   },
   {
    "duration": 4,
    "start_time": "2023-09-28T14:37:06.780Z"
   },
   {
    "duration": 17,
    "start_time": "2023-09-28T14:37:06.786Z"
   },
   {
    "duration": 10,
    "start_time": "2023-09-28T14:37:06.805Z"
   },
   {
    "duration": 799,
    "start_time": "2023-09-28T14:37:06.817Z"
   },
   {
    "duration": 12,
    "start_time": "2023-09-28T14:37:07.618Z"
   },
   {
    "duration": 61,
    "start_time": "2023-09-28T14:37:07.633Z"
   },
   {
    "duration": 23,
    "start_time": "2023-09-28T14:37:07.695Z"
   },
   {
    "duration": 138,
    "start_time": "2023-09-28T14:37:07.719Z"
   },
   {
    "duration": 52,
    "start_time": "2023-09-28T14:37:07.859Z"
   },
   {
    "duration": 178,
    "start_time": "2023-09-28T14:37:07.913Z"
   },
   {
    "duration": 105,
    "start_time": "2023-09-28T14:37:08.094Z"
   },
   {
    "duration": 190,
    "start_time": "2023-09-28T14:37:08.202Z"
   },
   {
    "duration": 205,
    "start_time": "2023-09-28T14:37:08.393Z"
   },
   {
    "duration": 181,
    "start_time": "2023-09-28T14:37:08.599Z"
   },
   {
    "duration": 30,
    "start_time": "2023-09-28T14:37:08.782Z"
   },
   {
    "duration": 30,
    "start_time": "2023-09-28T14:37:08.814Z"
   },
   {
    "duration": 39,
    "start_time": "2023-09-28T14:37:08.845Z"
   },
   {
    "duration": 44,
    "start_time": "2023-09-28T14:37:08.886Z"
   },
   {
    "duration": 35,
    "start_time": "2023-09-28T14:37:08.931Z"
   },
   {
    "duration": 32,
    "start_time": "2023-09-28T14:37:08.967Z"
   },
   {
    "duration": 52,
    "start_time": "2023-09-28T14:37:09.002Z"
   },
   {
    "duration": 11,
    "start_time": "2023-09-28T14:38:34.296Z"
   },
   {
    "duration": 4,
    "start_time": "2023-09-28T14:38:37.396Z"
   },
   {
    "duration": 24,
    "start_time": "2023-09-28T14:38:37.402Z"
   },
   {
    "duration": 7,
    "start_time": "2023-09-28T14:38:37.429Z"
   },
   {
    "duration": 832,
    "start_time": "2023-09-28T14:38:37.438Z"
   },
   {
    "duration": 12,
    "start_time": "2023-09-28T14:38:38.272Z"
   },
   {
    "duration": 54,
    "start_time": "2023-09-28T14:38:38.286Z"
   },
   {
    "duration": 24,
    "start_time": "2023-09-28T14:38:38.344Z"
   },
   {
    "duration": 143,
    "start_time": "2023-09-28T14:38:38.371Z"
   },
   {
    "duration": 69,
    "start_time": "2023-09-28T14:38:38.516Z"
   },
   {
    "duration": 9,
    "start_time": "2023-09-28T14:38:38.587Z"
   },
   {
    "duration": 168,
    "start_time": "2023-09-28T14:38:38.599Z"
   },
   {
    "duration": 107,
    "start_time": "2023-09-28T14:38:38.768Z"
   },
   {
    "duration": 184,
    "start_time": "2023-09-28T14:38:38.877Z"
   },
   {
    "duration": 200,
    "start_time": "2023-09-28T14:38:39.063Z"
   },
   {
    "duration": 185,
    "start_time": "2023-09-28T14:38:39.264Z"
   },
   {
    "duration": 33,
    "start_time": "2023-09-28T14:38:39.450Z"
   },
   {
    "duration": 12,
    "start_time": "2023-09-28T14:38:39.484Z"
   },
   {
    "duration": 34,
    "start_time": "2023-09-28T14:38:39.498Z"
   },
   {
    "duration": 22,
    "start_time": "2023-09-28T14:38:39.534Z"
   },
   {
    "duration": 43,
    "start_time": "2023-09-28T14:38:39.558Z"
   },
   {
    "duration": 17,
    "start_time": "2023-09-28T14:38:39.603Z"
   },
   {
    "duration": 32,
    "start_time": "2023-09-28T14:38:39.622Z"
   },
   {
    "duration": 4,
    "start_time": "2023-09-28T14:38:39.655Z"
   },
   {
    "duration": 19,
    "start_time": "2023-09-28T14:38:39.660Z"
   },
   {
    "duration": 0,
    "start_time": "2023-09-28T14:38:39.681Z"
   },
   {
    "duration": 0,
    "start_time": "2023-09-28T14:38:39.683Z"
   },
   {
    "duration": 0,
    "start_time": "2023-09-28T14:38:39.684Z"
   },
   {
    "duration": 0,
    "start_time": "2023-09-28T14:38:39.685Z"
   },
   {
    "duration": 0,
    "start_time": "2023-09-28T14:38:39.686Z"
   },
   {
    "duration": 0,
    "start_time": "2023-09-28T14:38:39.687Z"
   },
   {
    "duration": 0,
    "start_time": "2023-09-28T14:38:39.688Z"
   },
   {
    "duration": 0,
    "start_time": "2023-09-28T14:38:39.690Z"
   },
   {
    "duration": 0,
    "start_time": "2023-09-28T14:38:39.691Z"
   },
   {
    "duration": 0,
    "start_time": "2023-09-28T14:38:39.692Z"
   },
   {
    "duration": 0,
    "start_time": "2023-09-28T14:38:39.693Z"
   },
   {
    "duration": 0,
    "start_time": "2023-09-28T14:38:39.694Z"
   },
   {
    "duration": 0,
    "start_time": "2023-09-28T14:38:39.695Z"
   },
   {
    "duration": 0,
    "start_time": "2023-09-28T14:38:39.697Z"
   },
   {
    "duration": 5,
    "start_time": "2023-09-28T14:39:14.848Z"
   },
   {
    "duration": 9,
    "start_time": "2023-09-28T14:39:14.856Z"
   },
   {
    "duration": 17,
    "start_time": "2023-09-28T14:39:14.867Z"
   },
   {
    "duration": 838,
    "start_time": "2023-09-28T14:39:14.886Z"
   },
   {
    "duration": 8,
    "start_time": "2023-09-28T14:39:15.726Z"
   },
   {
    "duration": 12,
    "start_time": "2023-09-28T14:39:32.578Z"
   },
   {
    "duration": 15,
    "start_time": "2023-09-28T14:39:45.964Z"
   },
   {
    "duration": 162,
    "start_time": "2023-09-28T14:39:49.287Z"
   },
   {
    "duration": 1891,
    "start_time": "2023-09-28T14:39:58.246Z"
   },
   {
    "duration": 13,
    "start_time": "2023-09-28T14:40:34.098Z"
   },
   {
    "duration": 11,
    "start_time": "2023-09-28T14:41:36.047Z"
   },
   {
    "duration": 12,
    "start_time": "2023-09-28T14:42:12.874Z"
   },
   {
    "duration": 12,
    "start_time": "2023-09-28T14:42:14.811Z"
   },
   {
    "duration": 2,
    "start_time": "2023-09-28T14:53:53.183Z"
   },
   {
    "duration": 10,
    "start_time": "2023-09-28T14:54:36.803Z"
   },
   {
    "duration": 87,
    "start_time": "2023-09-28T14:54:50.380Z"
   },
   {
    "duration": 3,
    "start_time": "2023-09-28T14:54:53.502Z"
   },
   {
    "duration": 5,
    "start_time": "2023-09-28T14:54:59.501Z"
   },
   {
    "duration": 104,
    "start_time": "2023-09-28T14:58:40.886Z"
   },
   {
    "duration": 75,
    "start_time": "2023-09-28T14:59:52.819Z"
   },
   {
    "duration": 94,
    "start_time": "2023-09-28T15:00:57.411Z"
   },
   {
    "duration": 89,
    "start_time": "2023-09-28T15:01:20.563Z"
   },
   {
    "duration": 91,
    "start_time": "2023-09-28T15:01:25.990Z"
   },
   {
    "duration": 11,
    "start_time": "2023-09-28T15:01:38.734Z"
   },
   {
    "duration": 16,
    "start_time": "2023-09-28T15:01:56.427Z"
   },
   {
    "duration": 16,
    "start_time": "2023-09-28T15:02:14.857Z"
   },
   {
    "duration": 15,
    "start_time": "2023-09-28T15:02:31.595Z"
   },
   {
    "duration": 21,
    "start_time": "2023-09-28T15:02:56.582Z"
   },
   {
    "duration": 22,
    "start_time": "2023-09-28T15:06:55.730Z"
   },
   {
    "duration": 3,
    "start_time": "2023-09-28T15:39:44.361Z"
   },
   {
    "duration": 32,
    "start_time": "2023-09-28T15:39:44.366Z"
   },
   {
    "duration": 15,
    "start_time": "2023-09-28T15:39:44.400Z"
   },
   {
    "duration": 766,
    "start_time": "2023-09-28T15:39:44.417Z"
   },
   {
    "duration": 11,
    "start_time": "2023-09-28T15:39:45.185Z"
   },
   {
    "duration": 52,
    "start_time": "2023-09-28T15:39:45.198Z"
   },
   {
    "duration": 23,
    "start_time": "2023-09-28T15:39:45.252Z"
   },
   {
    "duration": 117,
    "start_time": "2023-09-28T15:39:45.276Z"
   },
   {
    "duration": 64,
    "start_time": "2023-09-28T15:39:45.395Z"
   },
   {
    "duration": 144,
    "start_time": "2023-09-28T15:39:45.461Z"
   },
   {
    "duration": 87,
    "start_time": "2023-09-28T15:39:45.608Z"
   },
   {
    "duration": 175,
    "start_time": "2023-09-28T15:39:45.697Z"
   },
   {
    "duration": 300,
    "start_time": "2023-09-28T15:39:45.874Z"
   },
   {
    "duration": 175,
    "start_time": "2023-09-28T15:39:46.176Z"
   },
   {
    "duration": 30,
    "start_time": "2023-09-28T15:39:46.353Z"
   },
   {
    "duration": 21,
    "start_time": "2023-09-28T15:39:46.385Z"
   },
   {
    "duration": 41,
    "start_time": "2023-09-28T15:39:46.408Z"
   },
   {
    "duration": 22,
    "start_time": "2023-09-28T15:39:46.451Z"
   },
   {
    "duration": 26,
    "start_time": "2023-09-28T15:39:46.475Z"
   },
   {
    "duration": 3,
    "start_time": "2023-09-28T15:42:32.593Z"
   },
   {
    "duration": 292,
    "start_time": "2023-09-28T15:44:15.551Z"
   },
   {
    "duration": 11,
    "start_time": "2023-09-28T15:46:13.644Z"
   },
   {
    "duration": 10,
    "start_time": "2023-09-28T15:46:42.170Z"
   },
   {
    "duration": 15,
    "start_time": "2023-09-28T15:47:00.263Z"
   },
   {
    "duration": 3,
    "start_time": "2023-09-28T15:47:32.847Z"
   },
   {
    "duration": 18,
    "start_time": "2023-09-28T15:47:40.392Z"
   },
   {
    "duration": 14,
    "start_time": "2023-09-28T15:47:52.978Z"
   },
   {
    "duration": 15,
    "start_time": "2023-09-28T15:47:55.425Z"
   },
   {
    "duration": 14,
    "start_time": "2023-09-28T15:48:00.438Z"
   },
   {
    "duration": 12,
    "start_time": "2023-09-28T15:48:04.171Z"
   },
   {
    "duration": 11,
    "start_time": "2023-09-28T15:48:07.562Z"
   },
   {
    "duration": 11,
    "start_time": "2023-09-28T15:48:09.538Z"
   },
   {
    "duration": 11,
    "start_time": "2023-09-28T15:54:07.646Z"
   },
   {
    "duration": 9,
    "start_time": "2023-09-28T15:54:29.480Z"
   },
   {
    "duration": 9,
    "start_time": "2023-09-28T15:55:35.056Z"
   },
   {
    "duration": 4,
    "start_time": "2023-09-28T15:55:52.394Z"
   },
   {
    "duration": 74,
    "start_time": "2023-09-28T15:56:02.019Z"
   },
   {
    "duration": 4,
    "start_time": "2023-09-28T15:56:38.318Z"
   },
   {
    "duration": 13,
    "start_time": "2023-09-28T15:56:43.758Z"
   },
   {
    "duration": 5,
    "start_time": "2023-09-28T15:57:55.288Z"
   },
   {
    "duration": 4,
    "start_time": "2023-09-28T15:58:00.238Z"
   },
   {
    "duration": 87,
    "start_time": "2023-09-28T15:58:08.271Z"
   },
   {
    "duration": 4,
    "start_time": "2023-09-28T15:58:13.295Z"
   },
   {
    "duration": 4,
    "start_time": "2023-09-28T16:01:34.253Z"
   },
   {
    "duration": 4,
    "start_time": "2023-09-28T16:01:42.756Z"
   },
   {
    "duration": 4,
    "start_time": "2023-09-28T16:02:08.255Z"
   },
   {
    "duration": 4,
    "start_time": "2023-09-28T16:03:25.983Z"
   },
   {
    "duration": 17,
    "start_time": "2023-09-28T16:03:46.729Z"
   },
   {
    "duration": 18,
    "start_time": "2023-09-28T16:05:14.897Z"
   },
   {
    "duration": 21,
    "start_time": "2023-09-28T16:05:55.095Z"
   },
   {
    "duration": 13,
    "start_time": "2023-09-28T16:06:08.160Z"
   },
   {
    "duration": 16,
    "start_time": "2023-09-28T16:07:41.497Z"
   },
   {
    "duration": 10,
    "start_time": "2023-09-28T16:07:43.897Z"
   },
   {
    "duration": 3,
    "start_time": "2023-09-28T16:07:48.955Z"
   },
   {
    "duration": 28,
    "start_time": "2023-09-28T16:07:48.960Z"
   },
   {
    "duration": 19,
    "start_time": "2023-09-28T16:07:48.990Z"
   },
   {
    "duration": 788,
    "start_time": "2023-09-28T16:07:49.012Z"
   },
   {
    "duration": 13,
    "start_time": "2023-09-28T16:07:49.802Z"
   },
   {
    "duration": 53,
    "start_time": "2023-09-28T16:07:49.817Z"
   },
   {
    "duration": 25,
    "start_time": "2023-09-28T16:07:49.872Z"
   },
   {
    "duration": 153,
    "start_time": "2023-09-28T16:07:49.899Z"
   },
   {
    "duration": 61,
    "start_time": "2023-09-28T16:07:50.055Z"
   },
   {
    "duration": 201,
    "start_time": "2023-09-28T16:07:50.118Z"
   },
   {
    "duration": 97,
    "start_time": "2023-09-28T16:07:50.321Z"
   },
   {
    "duration": 199,
    "start_time": "2023-09-28T16:07:50.419Z"
   },
   {
    "duration": 192,
    "start_time": "2023-09-28T16:07:50.619Z"
   },
   {
    "duration": 187,
    "start_time": "2023-09-28T16:07:50.812Z"
   },
   {
    "duration": 44,
    "start_time": "2023-09-28T16:07:51.000Z"
   },
   {
    "duration": 14,
    "start_time": "2023-09-28T16:07:51.047Z"
   },
   {
    "duration": 49,
    "start_time": "2023-09-28T16:07:51.063Z"
   },
   {
    "duration": 41,
    "start_time": "2023-09-28T16:07:51.113Z"
   },
   {
    "duration": 19,
    "start_time": "2023-09-28T16:07:51.156Z"
   },
   {
    "duration": 26,
    "start_time": "2023-09-28T16:07:51.176Z"
   },
   {
    "duration": 62,
    "start_time": "2023-09-28T16:07:51.204Z"
   },
   {
    "duration": 38,
    "start_time": "2023-09-28T16:07:51.268Z"
   },
   {
    "duration": 55,
    "start_time": "2023-09-28T16:07:51.308Z"
   },
   {
    "duration": 61,
    "start_time": "2023-09-28T16:07:51.368Z"
   },
   {
    "duration": 70,
    "start_time": "2023-09-28T16:07:51.432Z"
   },
   {
    "duration": 141,
    "start_time": "2023-09-28T16:07:51.543Z"
   },
   {
    "duration": 178,
    "start_time": "2023-09-28T16:07:51.687Z"
   },
   {
    "duration": 104,
    "start_time": "2023-09-28T16:07:51.946Z"
   },
   {
    "duration": 0,
    "start_time": "2023-09-28T16:07:52.052Z"
   },
   {
    "duration": 0,
    "start_time": "2023-09-28T16:07:52.054Z"
   },
   {
    "duration": 0,
    "start_time": "2023-09-28T16:07:52.055Z"
   },
   {
    "duration": 0,
    "start_time": "2023-09-28T16:07:52.057Z"
   },
   {
    "duration": 0,
    "start_time": "2023-09-28T16:07:52.058Z"
   },
   {
    "duration": 0,
    "start_time": "2023-09-28T16:07:52.060Z"
   },
   {
    "duration": 0,
    "start_time": "2023-09-28T16:07:52.062Z"
   },
   {
    "duration": 4,
    "start_time": "2023-09-28T16:08:42.138Z"
   },
   {
    "duration": 25,
    "start_time": "2023-09-28T16:08:42.144Z"
   },
   {
    "duration": 15,
    "start_time": "2023-09-28T16:08:42.171Z"
   },
   {
    "duration": 774,
    "start_time": "2023-09-28T16:08:42.188Z"
   },
   {
    "duration": 13,
    "start_time": "2023-09-28T16:08:42.963Z"
   },
   {
    "duration": 49,
    "start_time": "2023-09-28T16:08:42.978Z"
   },
   {
    "duration": 46,
    "start_time": "2023-09-28T16:08:43.029Z"
   },
   {
    "duration": 140,
    "start_time": "2023-09-28T16:08:43.077Z"
   },
   {
    "duration": 77,
    "start_time": "2023-09-28T16:08:43.220Z"
   },
   {
    "duration": 199,
    "start_time": "2023-09-28T16:08:43.299Z"
   },
   {
    "duration": 114,
    "start_time": "2023-09-28T16:08:43.500Z"
   },
   {
    "duration": 234,
    "start_time": "2023-09-28T16:08:43.617Z"
   },
   {
    "duration": 229,
    "start_time": "2023-09-28T16:08:43.854Z"
   },
   {
    "duration": 201,
    "start_time": "2023-09-28T16:08:44.085Z"
   },
   {
    "duration": 31,
    "start_time": "2023-09-28T16:08:44.288Z"
   },
   {
    "duration": 26,
    "start_time": "2023-09-28T16:08:44.321Z"
   },
   {
    "duration": 11,
    "start_time": "2023-09-28T16:08:44.348Z"
   },
   {
    "duration": 33,
    "start_time": "2023-09-28T16:08:44.361Z"
   },
   {
    "duration": 29,
    "start_time": "2023-09-28T16:08:44.396Z"
   },
   {
    "duration": 12,
    "start_time": "2023-09-28T16:08:44.427Z"
   },
   {
    "duration": 31,
    "start_time": "2023-09-28T16:08:44.441Z"
   },
   {
    "duration": 1546,
    "start_time": "2023-09-28T16:08:53.970Z"
   },
   {
    "duration": 4,
    "start_time": "2023-09-28T16:08:55.518Z"
   },
   {
    "duration": 17,
    "start_time": "2023-09-28T16:08:55.524Z"
   },
   {
    "duration": 839,
    "start_time": "2023-09-28T16:08:55.543Z"
   },
   {
    "duration": 18,
    "start_time": "2023-09-28T16:08:56.386Z"
   },
   {
    "duration": 78,
    "start_time": "2023-09-28T16:08:56.406Z"
   },
   {
    "duration": 94,
    "start_time": "2023-09-28T16:08:56.486Z"
   },
   {
    "duration": 249,
    "start_time": "2023-09-28T16:08:56.582Z"
   },
   {
    "duration": 62,
    "start_time": "2023-09-28T16:08:56.832Z"
   },
   {
    "duration": 200,
    "start_time": "2023-09-28T16:08:56.896Z"
   },
   {
    "duration": 110,
    "start_time": "2023-09-28T16:08:57.098Z"
   },
   {
    "duration": 198,
    "start_time": "2023-09-28T16:08:57.210Z"
   },
   {
    "duration": 197,
    "start_time": "2023-09-28T16:08:57.410Z"
   },
   {
    "duration": 186,
    "start_time": "2023-09-28T16:08:57.610Z"
   },
   {
    "duration": 31,
    "start_time": "2023-09-28T16:08:57.798Z"
   },
   {
    "duration": 13,
    "start_time": "2023-09-28T16:08:57.844Z"
   },
   {
    "duration": 14,
    "start_time": "2023-09-28T16:08:57.859Z"
   },
   {
    "duration": 15,
    "start_time": "2023-09-28T16:08:57.875Z"
   },
   {
    "duration": 21,
    "start_time": "2023-09-28T16:08:57.892Z"
   },
   {
    "duration": 10,
    "start_time": "2023-09-28T16:08:57.915Z"
   },
   {
    "duration": 39,
    "start_time": "2023-09-28T16:08:57.926Z"
   },
   {
    "duration": 121,
    "start_time": "2023-09-28T16:08:57.967Z"
   },
   {
    "duration": 0,
    "start_time": "2023-09-28T16:08:58.090Z"
   },
   {
    "duration": 0,
    "start_time": "2023-09-28T16:08:58.091Z"
   },
   {
    "duration": 0,
    "start_time": "2023-09-28T16:08:58.092Z"
   },
   {
    "duration": 0,
    "start_time": "2023-09-28T16:08:58.093Z"
   },
   {
    "duration": 0,
    "start_time": "2023-09-28T16:08:58.095Z"
   },
   {
    "duration": 0,
    "start_time": "2023-09-28T16:08:58.096Z"
   },
   {
    "duration": 0,
    "start_time": "2023-09-28T16:08:58.097Z"
   },
   {
    "duration": 0,
    "start_time": "2023-09-28T16:08:58.098Z"
   },
   {
    "duration": 0,
    "start_time": "2023-09-28T16:08:58.099Z"
   },
   {
    "duration": 0,
    "start_time": "2023-09-28T16:08:58.100Z"
   },
   {
    "duration": 0,
    "start_time": "2023-09-28T16:08:58.101Z"
   },
   {
    "duration": 0,
    "start_time": "2023-09-28T16:08:58.102Z"
   },
   {
    "duration": 0,
    "start_time": "2023-09-28T16:08:58.103Z"
   },
   {
    "duration": 21,
    "start_time": "2023-09-28T16:09:05.336Z"
   },
   {
    "duration": 10,
    "start_time": "2023-09-28T16:09:07.824Z"
   },
   {
    "duration": 18,
    "start_time": "2023-09-28T16:09:22.034Z"
   },
   {
    "duration": 14,
    "start_time": "2023-09-28T16:09:26.396Z"
   },
   {
    "duration": 8,
    "start_time": "2023-09-28T16:09:32.852Z"
   },
   {
    "duration": 16,
    "start_time": "2023-09-28T16:09:43.408Z"
   },
   {
    "duration": 15,
    "start_time": "2023-09-28T16:10:58.021Z"
   },
   {
    "duration": 13,
    "start_time": "2023-09-28T16:11:26.577Z"
   },
   {
    "duration": 8,
    "start_time": "2023-09-28T16:11:47.315Z"
   },
   {
    "duration": 8,
    "start_time": "2023-09-28T16:11:59.458Z"
   },
   {
    "duration": 8,
    "start_time": "2023-09-28T16:12:18.652Z"
   },
   {
    "duration": 9,
    "start_time": "2023-09-28T16:12:25.228Z"
   },
   {
    "duration": 3,
    "start_time": "2023-09-28T16:15:58.330Z"
   },
   {
    "duration": 5,
    "start_time": "2023-09-28T16:18:45.216Z"
   },
   {
    "duration": 3,
    "start_time": "2023-09-28T16:18:51.713Z"
   },
   {
    "duration": 5,
    "start_time": "2023-09-28T16:19:26.011Z"
   },
   {
    "duration": 4,
    "start_time": "2023-09-28T16:19:41.950Z"
   },
   {
    "duration": 4,
    "start_time": "2023-09-28T16:19:54.198Z"
   },
   {
    "duration": 5,
    "start_time": "2023-09-28T16:20:07.649Z"
   },
   {
    "duration": 4,
    "start_time": "2023-09-28T16:20:14.769Z"
   },
   {
    "duration": 4,
    "start_time": "2023-09-28T16:20:32.739Z"
   },
   {
    "duration": 9,
    "start_time": "2023-09-28T16:20:48.524Z"
   },
   {
    "duration": 86,
    "start_time": "2023-09-28T16:20:49.482Z"
   },
   {
    "duration": 15,
    "start_time": "2023-09-28T16:21:37.354Z"
   },
   {
    "duration": 13,
    "start_time": "2023-09-28T16:22:02.084Z"
   },
   {
    "duration": 4,
    "start_time": "2023-09-28T16:22:50.753Z"
   },
   {
    "duration": 280,
    "start_time": "2023-09-28T16:22:52.552Z"
   },
   {
    "duration": 289,
    "start_time": "2023-09-28T16:22:56.705Z"
   },
   {
    "duration": 8,
    "start_time": "2023-09-28T16:23:06.410Z"
   },
   {
    "duration": 762,
    "start_time": "2023-09-28T16:23:08.241Z"
   },
   {
    "duration": 5,
    "start_time": "2023-09-28T16:23:58.429Z"
   },
   {
    "duration": 16,
    "start_time": "2023-09-28T16:24:08.736Z"
   },
   {
    "duration": 14,
    "start_time": "2023-09-28T16:24:27.086Z"
   },
   {
    "duration": 16,
    "start_time": "2023-09-28T16:24:50.950Z"
   },
   {
    "duration": 20,
    "start_time": "2023-09-28T16:25:24.320Z"
   },
   {
    "duration": 12,
    "start_time": "2023-09-28T16:25:26.503Z"
   },
   {
    "duration": 18,
    "start_time": "2023-09-28T16:25:35.051Z"
   },
   {
    "duration": 17,
    "start_time": "2023-09-28T16:25:39.649Z"
   },
   {
    "duration": 161,
    "start_time": "2023-09-28T16:25:45.322Z"
   },
   {
    "duration": 4,
    "start_time": "2023-09-28T16:25:50.954Z"
   },
   {
    "duration": 9,
    "start_time": "2023-09-28T16:25:54.731Z"
   },
   {
    "duration": 29,
    "start_time": "2023-09-28T16:27:02.377Z"
   },
   {
    "duration": 9,
    "start_time": "2023-09-28T16:27:03.330Z"
   },
   {
    "duration": 1669,
    "start_time": "2023-09-29T05:39:13.351Z"
   },
   {
    "duration": 4,
    "start_time": "2023-09-29T05:39:15.022Z"
   },
   {
    "duration": 117,
    "start_time": "2023-09-29T05:39:15.027Z"
   },
   {
    "duration": 1226,
    "start_time": "2023-09-29T05:39:15.146Z"
   },
   {
    "duration": 15,
    "start_time": "2023-09-29T05:39:16.374Z"
   },
   {
    "duration": 49,
    "start_time": "2023-09-29T05:39:16.390Z"
   },
   {
    "duration": 24,
    "start_time": "2023-09-29T05:39:16.441Z"
   },
   {
    "duration": 151,
    "start_time": "2023-09-29T05:39:16.466Z"
   },
   {
    "duration": 58,
    "start_time": "2023-09-29T05:39:16.619Z"
   },
   {
    "duration": 193,
    "start_time": "2023-09-29T05:39:16.679Z"
   },
   {
    "duration": 104,
    "start_time": "2023-09-29T05:39:16.874Z"
   },
   {
    "duration": 206,
    "start_time": "2023-09-29T05:39:16.980Z"
   },
   {
    "duration": 195,
    "start_time": "2023-09-29T05:39:17.188Z"
   },
   {
    "duration": 174,
    "start_time": "2023-09-29T05:39:17.385Z"
   },
   {
    "duration": 30,
    "start_time": "2023-09-29T05:39:17.561Z"
   },
   {
    "duration": 12,
    "start_time": "2023-09-29T05:39:17.601Z"
   },
   {
    "duration": 9,
    "start_time": "2023-09-29T05:39:17.615Z"
   },
   {
    "duration": 11,
    "start_time": "2023-09-29T05:39:17.626Z"
   },
   {
    "duration": 17,
    "start_time": "2023-09-29T05:39:17.638Z"
   },
   {
    "duration": 10,
    "start_time": "2023-09-29T05:39:17.657Z"
   },
   {
    "duration": 8,
    "start_time": "2023-09-29T05:39:17.669Z"
   },
   {
    "duration": 93,
    "start_time": "2023-09-29T05:39:17.678Z"
   },
   {
    "duration": 0,
    "start_time": "2023-09-29T05:39:17.773Z"
   },
   {
    "duration": 112,
    "start_time": "2023-09-29T05:39:32.107Z"
   },
   {
    "duration": 17,
    "start_time": "2023-09-29T05:39:43.021Z"
   },
   {
    "duration": 9,
    "start_time": "2023-09-29T05:41:03.300Z"
   },
   {
    "duration": 10,
    "start_time": "2023-09-29T05:41:43.590Z"
   },
   {
    "duration": 3,
    "start_time": "2023-09-29T05:42:11.044Z"
   },
   {
    "duration": 3,
    "start_time": "2023-09-29T05:42:22.455Z"
   },
   {
    "duration": 3,
    "start_time": "2023-09-29T05:42:36.239Z"
   },
   {
    "duration": 10,
    "start_time": "2023-09-29T05:42:51.789Z"
   },
   {
    "duration": 10,
    "start_time": "2023-09-29T05:43:10.842Z"
   },
   {
    "duration": 10,
    "start_time": "2023-09-29T05:43:11.378Z"
   },
   {
    "duration": 5,
    "start_time": "2023-09-29T05:43:37.050Z"
   },
   {
    "duration": 4,
    "start_time": "2023-09-29T05:43:39.782Z"
   },
   {
    "duration": 424,
    "start_time": "2023-09-29T05:43:39.789Z"
   },
   {
    "duration": 47,
    "start_time": "2023-09-29T05:43:40.215Z"
   },
   {
    "duration": 490,
    "start_time": "2023-09-29T05:43:40.265Z"
   },
   {
    "duration": 12,
    "start_time": "2023-09-29T05:43:40.757Z"
   },
   {
    "duration": 118,
    "start_time": "2023-09-29T05:43:40.771Z"
   },
   {
    "duration": 24,
    "start_time": "2023-09-29T05:43:40.891Z"
   },
   {
    "duration": 167,
    "start_time": "2023-09-29T05:43:40.917Z"
   },
   {
    "duration": 90,
    "start_time": "2023-09-29T05:43:41.086Z"
   },
   {
    "duration": 183,
    "start_time": "2023-09-29T05:43:41.178Z"
   },
   {
    "duration": 123,
    "start_time": "2023-09-29T05:43:41.364Z"
   },
   {
    "duration": 200,
    "start_time": "2023-09-29T05:43:41.489Z"
   },
   {
    "duration": 218,
    "start_time": "2023-09-29T05:43:41.690Z"
   },
   {
    "duration": 275,
    "start_time": "2023-09-29T05:43:41.910Z"
   },
   {
    "duration": 37,
    "start_time": "2023-09-29T05:43:42.187Z"
   },
   {
    "duration": 12,
    "start_time": "2023-09-29T05:43:42.225Z"
   },
   {
    "duration": 16,
    "start_time": "2023-09-29T05:43:42.240Z"
   },
   {
    "duration": 16,
    "start_time": "2023-09-29T05:43:42.258Z"
   },
   {
    "duration": 38,
    "start_time": "2023-09-29T05:43:42.276Z"
   },
   {
    "duration": 11,
    "start_time": "2023-09-29T05:43:42.316Z"
   },
   {
    "duration": 34,
    "start_time": "2023-09-29T05:43:42.329Z"
   },
   {
    "duration": 28,
    "start_time": "2023-09-29T05:43:42.365Z"
   },
   {
    "duration": 26,
    "start_time": "2023-09-29T05:43:42.395Z"
   },
   {
    "duration": 43,
    "start_time": "2023-09-29T05:43:42.425Z"
   },
   {
    "duration": 233,
    "start_time": "2023-09-29T05:43:42.470Z"
   },
   {
    "duration": 21,
    "start_time": "2023-09-29T05:43:42.705Z"
   },
   {
    "duration": 119,
    "start_time": "2023-09-29T05:43:42.802Z"
   },
   {
    "duration": 179,
    "start_time": "2023-09-29T05:43:42.923Z"
   },
   {
    "duration": 0,
    "start_time": "2023-09-29T05:43:43.104Z"
   },
   {
    "duration": 0,
    "start_time": "2023-09-29T05:43:43.106Z"
   },
   {
    "duration": 0,
    "start_time": "2023-09-29T05:43:43.107Z"
   },
   {
    "duration": 0,
    "start_time": "2023-09-29T05:43:43.108Z"
   },
   {
    "duration": 0,
    "start_time": "2023-09-29T05:43:43.110Z"
   },
   {
    "duration": 0,
    "start_time": "2023-09-29T05:43:43.111Z"
   },
   {
    "duration": 0,
    "start_time": "2023-09-29T05:43:43.113Z"
   },
   {
    "duration": 6,
    "start_time": "2023-09-29T05:44:11.689Z"
   },
   {
    "duration": 3,
    "start_time": "2023-09-29T05:46:40.055Z"
   },
   {
    "duration": 138,
    "start_time": "2023-09-29T05:53:33.249Z"
   },
   {
    "duration": 3,
    "start_time": "2023-09-29T05:53:37.955Z"
   },
   {
    "duration": 3,
    "start_time": "2023-09-29T05:53:51.351Z"
   },
   {
    "duration": 6,
    "start_time": "2023-09-29T06:11:24.249Z"
   },
   {
    "duration": 159,
    "start_time": "2023-09-29T06:11:25.466Z"
   },
   {
    "duration": 4,
    "start_time": "2023-09-29T06:12:33.946Z"
   },
   {
    "duration": 417,
    "start_time": "2023-09-29T06:12:35.033Z"
   },
   {
    "duration": 18,
    "start_time": "2023-09-29T06:12:38.520Z"
   },
   {
    "duration": 3,
    "start_time": "2023-09-29T06:12:42.212Z"
   },
   {
    "duration": 14,
    "start_time": "2023-09-29T06:12:42.217Z"
   },
   {
    "duration": 7,
    "start_time": "2023-09-29T06:12:42.233Z"
   },
   {
    "duration": 426,
    "start_time": "2023-09-29T06:12:42.241Z"
   },
   {
    "duration": 14,
    "start_time": "2023-09-29T06:12:42.670Z"
   },
   {
    "duration": 61,
    "start_time": "2023-09-29T06:12:42.686Z"
   },
   {
    "duration": 40,
    "start_time": "2023-09-29T06:12:42.749Z"
   },
   {
    "duration": 157,
    "start_time": "2023-09-29T06:12:42.791Z"
   },
   {
    "duration": 79,
    "start_time": "2023-09-29T06:12:42.950Z"
   },
   {
    "duration": 182,
    "start_time": "2023-09-29T06:12:43.031Z"
   },
   {
    "duration": 111,
    "start_time": "2023-09-29T06:12:43.216Z"
   },
   {
    "duration": 189,
    "start_time": "2023-09-29T06:12:43.329Z"
   },
   {
    "duration": 198,
    "start_time": "2023-09-29T06:12:43.521Z"
   },
   {
    "duration": 184,
    "start_time": "2023-09-29T06:12:43.720Z"
   },
   {
    "duration": 30,
    "start_time": "2023-09-29T06:12:43.906Z"
   },
   {
    "duration": 11,
    "start_time": "2023-09-29T06:12:43.938Z"
   },
   {
    "duration": 10,
    "start_time": "2023-09-29T06:12:43.951Z"
   },
   {
    "duration": 26,
    "start_time": "2023-09-29T06:12:43.962Z"
   },
   {
    "duration": 26,
    "start_time": "2023-09-29T06:12:44.000Z"
   },
   {
    "duration": 13,
    "start_time": "2023-09-29T06:12:44.028Z"
   },
   {
    "duration": 18,
    "start_time": "2023-09-29T06:12:44.042Z"
   },
   {
    "duration": 29,
    "start_time": "2023-09-29T06:12:44.062Z"
   },
   {
    "duration": 35,
    "start_time": "2023-09-29T06:12:44.092Z"
   },
   {
    "duration": 10,
    "start_time": "2023-09-29T06:12:44.130Z"
   },
   {
    "duration": 15,
    "start_time": "2023-09-29T06:12:44.142Z"
   },
   {
    "duration": 0,
    "start_time": "2023-09-29T06:12:44.160Z"
   },
   {
    "duration": 0,
    "start_time": "2023-09-29T06:12:44.161Z"
   },
   {
    "duration": 0,
    "start_time": "2023-09-29T06:12:44.162Z"
   },
   {
    "duration": 0,
    "start_time": "2023-09-29T06:12:44.164Z"
   },
   {
    "duration": 0,
    "start_time": "2023-09-29T06:12:44.165Z"
   },
   {
    "duration": 0,
    "start_time": "2023-09-29T06:12:44.166Z"
   },
   {
    "duration": 0,
    "start_time": "2023-09-29T06:12:44.167Z"
   },
   {
    "duration": 0,
    "start_time": "2023-09-29T06:12:44.169Z"
   },
   {
    "duration": 0,
    "start_time": "2023-09-29T06:12:44.170Z"
   },
   {
    "duration": 0,
    "start_time": "2023-09-29T06:12:44.172Z"
   },
   {
    "duration": 0,
    "start_time": "2023-09-29T06:12:44.173Z"
   },
   {
    "duration": 19,
    "start_time": "2023-09-29T06:13:02.276Z"
   },
   {
    "duration": 4,
    "start_time": "2023-09-29T06:13:12.679Z"
   },
   {
    "duration": 19,
    "start_time": "2023-09-29T06:13:13.241Z"
   },
   {
    "duration": 27,
    "start_time": "2023-09-29T06:13:19.232Z"
   },
   {
    "duration": 44,
    "start_time": "2023-09-29T06:13:27.561Z"
   },
   {
    "duration": 23,
    "start_time": "2023-09-29T06:13:36.483Z"
   },
   {
    "duration": 3,
    "start_time": "2023-09-29T06:13:39.488Z"
   },
   {
    "duration": 9,
    "start_time": "2023-09-29T06:13:39.494Z"
   },
   {
    "duration": 9,
    "start_time": "2023-09-29T06:13:39.505Z"
   },
   {
    "duration": 432,
    "start_time": "2023-09-29T06:13:39.516Z"
   },
   {
    "duration": 14,
    "start_time": "2023-09-29T06:13:39.950Z"
   },
   {
    "duration": 73,
    "start_time": "2023-09-29T06:13:39.965Z"
   },
   {
    "duration": 24,
    "start_time": "2023-09-29T06:13:40.040Z"
   },
   {
    "duration": 147,
    "start_time": "2023-09-29T06:13:40.065Z"
   },
   {
    "duration": 63,
    "start_time": "2023-09-29T06:13:40.214Z"
   },
   {
    "duration": 188,
    "start_time": "2023-09-29T06:13:40.280Z"
   },
   {
    "duration": 109,
    "start_time": "2023-09-29T06:13:40.470Z"
   },
   {
    "duration": 192,
    "start_time": "2023-09-29T06:13:40.580Z"
   },
   {
    "duration": 197,
    "start_time": "2023-09-29T06:13:40.774Z"
   },
   {
    "duration": 184,
    "start_time": "2023-09-29T06:13:40.972Z"
   },
   {
    "duration": 29,
    "start_time": "2023-09-29T06:13:41.157Z"
   },
   {
    "duration": 11,
    "start_time": "2023-09-29T06:13:41.202Z"
   },
   {
    "duration": 16,
    "start_time": "2023-09-29T06:13:41.215Z"
   },
   {
    "duration": 57,
    "start_time": "2023-09-29T06:13:41.233Z"
   },
   {
    "duration": 27,
    "start_time": "2023-09-29T06:13:41.292Z"
   },
   {
    "duration": 35,
    "start_time": "2023-09-29T06:13:41.321Z"
   },
   {
    "duration": 38,
    "start_time": "2023-09-29T06:13:41.358Z"
   },
   {
    "duration": 24,
    "start_time": "2023-09-29T06:13:41.398Z"
   },
   {
    "duration": 28,
    "start_time": "2023-09-29T06:13:41.424Z"
   },
   {
    "duration": 13,
    "start_time": "2023-09-29T06:13:41.454Z"
   },
   {
    "duration": 33,
    "start_time": "2023-09-29T06:13:41.470Z"
   },
   {
    "duration": 24,
    "start_time": "2023-09-29T06:13:47.721Z"
   },
   {
    "duration": 24,
    "start_time": "2023-09-29T06:13:54.170Z"
   },
   {
    "duration": 1666,
    "start_time": "2023-09-29T06:14:06.959Z"
   },
   {
    "duration": 4,
    "start_time": "2023-09-29T06:14:08.628Z"
   },
   {
    "duration": 267,
    "start_time": "2023-09-29T06:14:08.638Z"
   },
   {
    "duration": 634,
    "start_time": "2023-09-29T06:14:08.907Z"
   },
   {
    "duration": 13,
    "start_time": "2023-09-29T06:14:09.544Z"
   },
   {
    "duration": 68,
    "start_time": "2023-09-29T06:14:09.559Z"
   },
   {
    "duration": 103,
    "start_time": "2023-09-29T06:14:09.628Z"
   },
   {
    "duration": 176,
    "start_time": "2023-09-29T06:14:09.732Z"
   },
   {
    "duration": 64,
    "start_time": "2023-09-29T06:14:09.909Z"
   },
   {
    "duration": 232,
    "start_time": "2023-09-29T06:14:09.975Z"
   },
   {
    "duration": 124,
    "start_time": "2023-09-29T06:14:10.209Z"
   },
   {
    "duration": 196,
    "start_time": "2023-09-29T06:14:10.336Z"
   },
   {
    "duration": 215,
    "start_time": "2023-09-29T06:14:10.533Z"
   },
   {
    "duration": 214,
    "start_time": "2023-09-29T06:14:10.753Z"
   },
   {
    "duration": 44,
    "start_time": "2023-09-29T06:14:10.969Z"
   },
   {
    "duration": 32,
    "start_time": "2023-09-29T06:14:11.015Z"
   },
   {
    "duration": 36,
    "start_time": "2023-09-29T06:14:11.049Z"
   },
   {
    "duration": 35,
    "start_time": "2023-09-29T06:14:11.087Z"
   },
   {
    "duration": 39,
    "start_time": "2023-09-29T06:14:11.123Z"
   },
   {
    "duration": 51,
    "start_time": "2023-09-29T06:14:11.164Z"
   },
   {
    "duration": 20,
    "start_time": "2023-09-29T06:14:11.217Z"
   },
   {
    "duration": 36,
    "start_time": "2023-09-29T06:14:11.238Z"
   },
   {
    "duration": 46,
    "start_time": "2023-09-29T06:14:11.276Z"
   },
   {
    "duration": 45,
    "start_time": "2023-09-29T06:14:11.324Z"
   },
   {
    "duration": 54,
    "start_time": "2023-09-29T06:14:11.371Z"
   },
   {
    "duration": 115,
    "start_time": "2023-09-29T06:14:11.427Z"
   },
   {
    "duration": 0,
    "start_time": "2023-09-29T06:14:11.543Z"
   },
   {
    "duration": 0,
    "start_time": "2023-09-29T06:14:11.544Z"
   },
   {
    "duration": 0,
    "start_time": "2023-09-29T06:14:11.545Z"
   },
   {
    "duration": 0,
    "start_time": "2023-09-29T06:14:11.546Z"
   },
   {
    "duration": 0,
    "start_time": "2023-09-29T06:14:11.547Z"
   },
   {
    "duration": 0,
    "start_time": "2023-09-29T06:14:11.548Z"
   },
   {
    "duration": 0,
    "start_time": "2023-09-29T06:14:11.549Z"
   },
   {
    "duration": 0,
    "start_time": "2023-09-29T06:14:11.551Z"
   },
   {
    "duration": 0,
    "start_time": "2023-09-29T06:14:11.552Z"
   },
   {
    "duration": 1,
    "start_time": "2023-09-29T06:14:11.552Z"
   },
   {
    "duration": 12,
    "start_time": "2023-09-29T06:20:55.707Z"
   },
   {
    "duration": 12,
    "start_time": "2023-09-29T06:21:05.308Z"
   },
   {
    "duration": 12,
    "start_time": "2023-09-29T06:21:20.877Z"
   },
   {
    "duration": 12,
    "start_time": "2023-09-29T06:21:26.326Z"
   },
   {
    "duration": 11,
    "start_time": "2023-09-29T06:22:22.453Z"
   },
   {
    "duration": 11,
    "start_time": "2023-09-29T06:22:25.284Z"
   },
   {
    "duration": 14,
    "start_time": "2023-09-29T06:22:34.365Z"
   },
   {
    "duration": 11,
    "start_time": "2023-09-29T06:27:41.382Z"
   },
   {
    "duration": 21,
    "start_time": "2023-09-29T06:28:25.928Z"
   },
   {
    "duration": 29,
    "start_time": "2023-09-29T06:28:38.250Z"
   },
   {
    "duration": 3,
    "start_time": "2023-09-29T06:28:59.926Z"
   },
   {
    "duration": 2,
    "start_time": "2023-09-29T06:29:00.310Z"
   },
   {
    "duration": 1592,
    "start_time": "2023-09-29T08:07:16.286Z"
   },
   {
    "duration": 4,
    "start_time": "2023-09-29T08:07:17.879Z"
   },
   {
    "duration": 32,
    "start_time": "2023-09-29T08:07:17.884Z"
   },
   {
    "duration": 1762,
    "start_time": "2023-09-29T08:07:17.917Z"
   },
   {
    "duration": 13,
    "start_time": "2023-09-29T08:07:19.681Z"
   },
   {
    "duration": 35,
    "start_time": "2023-09-29T08:07:19.695Z"
   },
   {
    "duration": 31,
    "start_time": "2023-09-29T08:07:19.732Z"
   },
   {
    "duration": 126,
    "start_time": "2023-09-29T08:07:19.764Z"
   },
   {
    "duration": 79,
    "start_time": "2023-09-29T08:07:19.892Z"
   },
   {
    "duration": 166,
    "start_time": "2023-09-29T08:07:19.973Z"
   },
   {
    "duration": 96,
    "start_time": "2023-09-29T08:07:20.152Z"
   },
   {
    "duration": 174,
    "start_time": "2023-09-29T08:07:20.250Z"
   },
   {
    "duration": 185,
    "start_time": "2023-09-29T08:07:20.426Z"
   },
   {
    "duration": 167,
    "start_time": "2023-09-29T08:07:20.614Z"
   },
   {
    "duration": 28,
    "start_time": "2023-09-29T08:07:20.783Z"
   },
   {
    "duration": 11,
    "start_time": "2023-09-29T08:07:20.812Z"
   },
   {
    "duration": 16,
    "start_time": "2023-09-29T08:07:20.846Z"
   },
   {
    "duration": 13,
    "start_time": "2023-09-29T08:07:20.863Z"
   },
   {
    "duration": 14,
    "start_time": "2023-09-29T08:07:20.878Z"
   },
   {
    "duration": 15,
    "start_time": "2023-09-29T08:07:20.894Z"
   },
   {
    "duration": 50,
    "start_time": "2023-09-29T08:07:20.910Z"
   },
   {
    "duration": 13,
    "start_time": "2023-09-29T08:07:20.962Z"
   },
   {
    "duration": 35,
    "start_time": "2023-09-29T08:07:20.976Z"
   },
   {
    "duration": 66,
    "start_time": "2023-09-29T08:07:21.013Z"
   },
   {
    "duration": 38,
    "start_time": "2023-09-29T08:07:21.081Z"
   },
   {
    "duration": 3,
    "start_time": "2023-09-29T08:07:21.121Z"
   },
   {
    "duration": 11,
    "start_time": "2023-09-29T08:07:21.126Z"
   },
   {
    "duration": 90,
    "start_time": "2023-09-29T08:07:21.139Z"
   },
   {
    "duration": 5,
    "start_time": "2023-09-29T08:21:46.050Z"
   },
   {
    "duration": 123,
    "start_time": "2023-09-29T08:27:41.517Z"
   },
   {
    "duration": 372,
    "start_time": "2023-09-29T08:27:46.444Z"
   },
   {
    "duration": 3,
    "start_time": "2023-09-29T08:27:59.469Z"
   },
   {
    "duration": 79,
    "start_time": "2023-09-29T08:28:00.076Z"
   },
   {
    "duration": 3,
    "start_time": "2023-09-29T08:28:25.071Z"
   },
   {
    "duration": 111,
    "start_time": "2023-09-29T08:28:25.441Z"
   },
   {
    "duration": 3,
    "start_time": "2023-09-29T08:28:33.728Z"
   },
   {
    "duration": 44,
    "start_time": "2023-09-29T08:28:34.104Z"
   },
   {
    "duration": 29,
    "start_time": "2023-09-29T08:28:39.435Z"
   },
   {
    "duration": 57,
    "start_time": "2023-09-29T08:28:47.011Z"
   },
   {
    "duration": 170,
    "start_time": "2023-09-29T08:28:56.290Z"
   },
   {
    "duration": 189,
    "start_time": "2023-09-29T08:29:34.878Z"
   },
   {
    "duration": 3,
    "start_time": "2023-09-29T08:44:46.633Z"
   },
   {
    "duration": 4,
    "start_time": "2023-09-29T08:47:10.263Z"
   },
   {
    "duration": 95,
    "start_time": "2023-09-29T09:30:43.969Z"
   },
   {
    "duration": 18,
    "start_time": "2023-09-29T09:30:56.867Z"
   },
   {
    "duration": 19,
    "start_time": "2023-09-29T09:32:59.867Z"
   },
   {
    "duration": 17,
    "start_time": "2023-09-29T09:33:20.021Z"
   },
   {
    "duration": 83,
    "start_time": "2023-09-29T09:34:00.368Z"
   },
   {
    "duration": 71,
    "start_time": "2023-09-29T09:40:37.574Z"
   },
   {
    "duration": 200,
    "start_time": "2023-09-29T09:40:47.246Z"
   },
   {
    "duration": 129,
    "start_time": "2023-09-29T09:40:54.217Z"
   },
   {
    "duration": 11,
    "start_time": "2023-09-29T09:43:47.090Z"
   },
   {
    "duration": 10,
    "start_time": "2023-09-29T09:44:10.933Z"
   },
   {
    "duration": 176,
    "start_time": "2023-09-29T09:44:22.270Z"
   },
   {
    "duration": 10,
    "start_time": "2023-09-29T09:44:48.905Z"
   },
   {
    "duration": 9,
    "start_time": "2023-09-29T09:45:11.822Z"
   },
   {
    "duration": 12,
    "start_time": "2023-09-29T09:47:52.345Z"
   },
   {
    "duration": 9,
    "start_time": "2023-09-29T09:49:55.439Z"
   },
   {
    "duration": 10,
    "start_time": "2023-09-29T10:09:58.406Z"
   },
   {
    "duration": 14,
    "start_time": "2023-09-29T10:10:05.047Z"
   },
   {
    "duration": 13,
    "start_time": "2023-09-29T10:10:24.936Z"
   },
   {
    "duration": 12,
    "start_time": "2023-09-29T10:10:45.370Z"
   },
   {
    "duration": 13,
    "start_time": "2023-09-29T10:11:26.990Z"
   },
   {
    "duration": 13,
    "start_time": "2023-09-29T10:11:33.433Z"
   },
   {
    "duration": 6,
    "start_time": "2023-09-29T10:11:39.751Z"
   },
   {
    "duration": 12,
    "start_time": "2023-09-29T10:17:46.603Z"
   },
   {
    "duration": 122,
    "start_time": "2023-09-29T10:25:00.956Z"
   },
   {
    "duration": 89,
    "start_time": "2023-09-29T10:25:05.240Z"
   },
   {
    "duration": 136,
    "start_time": "2023-09-29T10:25:12.056Z"
   },
   {
    "duration": 99,
    "start_time": "2023-09-29T10:25:16.808Z"
   },
   {
    "duration": 12,
    "start_time": "2023-09-29T10:25:44.587Z"
   },
   {
    "duration": 5,
    "start_time": "2023-09-29T10:26:20.311Z"
   },
   {
    "duration": 14,
    "start_time": "2023-09-29T10:27:43.504Z"
   },
   {
    "duration": 14,
    "start_time": "2023-09-29T10:27:57.792Z"
   },
   {
    "duration": 16,
    "start_time": "2023-09-29T10:28:16.875Z"
   },
   {
    "duration": 19,
    "start_time": "2023-09-29T10:28:27.081Z"
   },
   {
    "duration": 13,
    "start_time": "2023-09-29T10:33:44.787Z"
   },
   {
    "duration": 18,
    "start_time": "2023-09-29T10:33:57.350Z"
   },
   {
    "duration": 13,
    "start_time": "2023-09-29T10:34:19.820Z"
   },
   {
    "duration": 11,
    "start_time": "2023-09-29T10:35:02.539Z"
   },
   {
    "duration": 15,
    "start_time": "2023-09-29T10:35:24.535Z"
   },
   {
    "duration": 15,
    "start_time": "2023-09-29T10:35:46.760Z"
   },
   {
    "duration": 13,
    "start_time": "2023-09-29T10:36:08.157Z"
   },
   {
    "duration": 12,
    "start_time": "2023-09-29T11:12:44.820Z"
   },
   {
    "duration": 9,
    "start_time": "2023-09-29T11:15:38.280Z"
   },
   {
    "duration": 89,
    "start_time": "2023-09-29T11:18:48.974Z"
   },
   {
    "duration": 16,
    "start_time": "2023-09-29T11:18:54.183Z"
   },
   {
    "duration": 16,
    "start_time": "2023-09-29T11:19:03.545Z"
   },
   {
    "duration": 20,
    "start_time": "2023-09-29T11:19:09.386Z"
   },
   {
    "duration": 3,
    "start_time": "2023-09-29T11:20:46.636Z"
   },
   {
    "duration": 16,
    "start_time": "2023-09-29T11:21:08.840Z"
   },
   {
    "duration": 3,
    "start_time": "2023-09-29T11:21:28.285Z"
   },
   {
    "duration": 11,
    "start_time": "2023-09-29T11:22:14.523Z"
   },
   {
    "duration": 16,
    "start_time": "2023-09-29T11:23:54.165Z"
   },
   {
    "duration": 11,
    "start_time": "2023-09-29T11:24:14.766Z"
   },
   {
    "duration": 8,
    "start_time": "2023-09-29T11:24:25.272Z"
   },
   {
    "duration": 10,
    "start_time": "2023-09-29T11:24:27.527Z"
   },
   {
    "duration": 8,
    "start_time": "2023-09-29T11:24:45.978Z"
   },
   {
    "duration": 1501,
    "start_time": "2023-09-29T11:24:56.658Z"
   },
   {
    "duration": 4,
    "start_time": "2023-09-29T11:24:58.161Z"
   },
   {
    "duration": 12,
    "start_time": "2023-09-29T11:24:58.167Z"
   },
   {
    "duration": 402,
    "start_time": "2023-09-29T11:24:58.181Z"
   },
   {
    "duration": 12,
    "start_time": "2023-09-29T11:24:58.584Z"
   },
   {
    "duration": 43,
    "start_time": "2023-09-29T11:24:58.597Z"
   },
   {
    "duration": 29,
    "start_time": "2023-09-29T11:24:58.642Z"
   },
   {
    "duration": 127,
    "start_time": "2023-09-29T11:24:58.673Z"
   },
   {
    "duration": 71,
    "start_time": "2023-09-29T11:24:58.801Z"
   },
   {
    "duration": 164,
    "start_time": "2023-09-29T11:24:58.873Z"
   },
   {
    "duration": 92,
    "start_time": "2023-09-29T11:24:59.039Z"
   },
   {
    "duration": 184,
    "start_time": "2023-09-29T11:24:59.132Z"
   },
   {
    "duration": 173,
    "start_time": "2023-09-29T11:24:59.318Z"
   },
   {
    "duration": 165,
    "start_time": "2023-09-29T11:24:59.494Z"
   },
   {
    "duration": 27,
    "start_time": "2023-09-29T11:24:59.660Z"
   },
   {
    "duration": 11,
    "start_time": "2023-09-29T11:24:59.688Z"
   },
   {
    "duration": 9,
    "start_time": "2023-09-29T11:24:59.700Z"
   },
   {
    "duration": 48,
    "start_time": "2023-09-29T11:24:59.710Z"
   },
   {
    "duration": 10,
    "start_time": "2023-09-29T11:24:59.760Z"
   },
   {
    "duration": 6,
    "start_time": "2023-09-29T11:24:59.772Z"
   },
   {
    "duration": 23,
    "start_time": "2023-09-29T11:24:59.780Z"
   },
   {
    "duration": 16,
    "start_time": "2023-09-29T11:24:59.804Z"
   },
   {
    "duration": 18,
    "start_time": "2023-09-29T11:24:59.822Z"
   },
   {
    "duration": 57,
    "start_time": "2023-09-29T11:24:59.841Z"
   },
   {
    "duration": 20,
    "start_time": "2023-09-29T11:24:59.900Z"
   },
   {
    "duration": 3,
    "start_time": "2023-09-29T11:24:59.921Z"
   },
   {
    "duration": 11,
    "start_time": "2023-09-29T11:24:59.925Z"
   },
   {
    "duration": 4,
    "start_time": "2023-09-29T11:24:59.937Z"
   },
   {
    "duration": 124,
    "start_time": "2023-09-29T11:24:59.943Z"
   },
   {
    "duration": 77,
    "start_time": "2023-09-29T11:25:00.069Z"
   },
   {
    "duration": 122,
    "start_time": "2023-09-29T11:25:00.149Z"
   },
   {
    "duration": 197,
    "start_time": "2023-09-29T11:25:00.272Z"
   },
   {
    "duration": 106,
    "start_time": "2023-09-29T11:25:00.549Z"
   },
   {
    "duration": 57,
    "start_time": "2023-09-29T11:25:00.657Z"
   },
   {
    "duration": 228,
    "start_time": "2023-09-29T11:25:00.715Z"
   },
   {
    "duration": 1,
    "start_time": "2023-09-29T11:25:00.944Z"
   },
   {
    "duration": 0,
    "start_time": "2023-09-29T11:25:00.945Z"
   },
   {
    "duration": 0,
    "start_time": "2023-09-29T11:25:00.946Z"
   },
   {
    "duration": 0,
    "start_time": "2023-09-29T11:25:00.947Z"
   },
   {
    "duration": 12,
    "start_time": "2023-09-29T11:26:14.973Z"
   },
   {
    "duration": 15,
    "start_time": "2023-09-29T11:26:49.863Z"
   },
   {
    "duration": 13,
    "start_time": "2023-09-29T11:27:27.602Z"
   },
   {
    "duration": 5,
    "start_time": "2023-09-29T11:27:46.234Z"
   },
   {
    "duration": 12,
    "start_time": "2023-09-29T11:28:45.466Z"
   },
   {
    "duration": 12,
    "start_time": "2023-09-29T11:29:12.383Z"
   },
   {
    "duration": 6,
    "start_time": "2023-09-29T11:29:51.065Z"
   },
   {
    "duration": 35,
    "start_time": "2023-09-29T11:29:57.546Z"
   },
   {
    "duration": 15,
    "start_time": "2023-09-29T11:30:05.455Z"
   },
   {
    "duration": 20,
    "start_time": "2023-09-29T11:30:45.340Z"
   },
   {
    "duration": 13,
    "start_time": "2023-09-29T11:31:08.854Z"
   },
   {
    "duration": 14,
    "start_time": "2023-09-29T11:31:35.658Z"
   },
   {
    "duration": 4,
    "start_time": "2023-09-29T11:32:19.255Z"
   },
   {
    "duration": 15,
    "start_time": "2023-09-29T11:33:11.428Z"
   },
   {
    "duration": 4,
    "start_time": "2023-09-29T11:33:19.492Z"
   },
   {
    "duration": 20,
    "start_time": "2023-09-29T11:33:46.287Z"
   },
   {
    "duration": 15,
    "start_time": "2023-09-29T11:34:15.377Z"
   },
   {
    "duration": 11,
    "start_time": "2023-09-29T11:36:45.520Z"
   },
   {
    "duration": 10,
    "start_time": "2023-09-29T11:37:18.754Z"
   },
   {
    "duration": 10,
    "start_time": "2023-09-29T11:37:26.325Z"
   },
   {
    "duration": 8,
    "start_time": "2023-09-29T11:37:32.762Z"
   },
   {
    "duration": 20,
    "start_time": "2023-09-29T11:37:49.504Z"
   },
   {
    "duration": 7,
    "start_time": "2023-09-29T11:38:02.793Z"
   },
   {
    "duration": 14,
    "start_time": "2023-09-29T11:38:41.341Z"
   },
   {
    "duration": 23,
    "start_time": "2023-09-29T11:38:53.734Z"
   },
   {
    "duration": 13,
    "start_time": "2023-09-29T11:39:19.873Z"
   },
   {
    "duration": 4,
    "start_time": "2023-09-29T11:39:30.705Z"
   },
   {
    "duration": 9,
    "start_time": "2023-09-29T11:39:42.268Z"
   },
   {
    "duration": 4,
    "start_time": "2023-09-29T11:39:45.490Z"
   },
   {
    "duration": 15,
    "start_time": "2023-09-29T11:39:51.124Z"
   },
   {
    "duration": 13,
    "start_time": "2023-09-29T11:39:59.476Z"
   },
   {
    "duration": 5,
    "start_time": "2023-09-29T11:40:33.039Z"
   },
   {
    "duration": 7,
    "start_time": "2023-09-29T11:40:45.104Z"
   },
   {
    "duration": 7,
    "start_time": "2023-09-29T11:40:58.218Z"
   },
   {
    "duration": 203,
    "start_time": "2023-09-29T11:42:23.844Z"
   },
   {
    "duration": 8,
    "start_time": "2023-09-29T11:44:29.704Z"
   },
   {
    "duration": 12,
    "start_time": "2023-09-29T11:44:39.911Z"
   },
   {
    "duration": 9,
    "start_time": "2023-09-29T11:44:50.288Z"
   },
   {
    "duration": 12,
    "start_time": "2023-09-29T11:45:21.509Z"
   },
   {
    "duration": 15,
    "start_time": "2023-09-29T11:45:25.067Z"
   },
   {
    "duration": 13,
    "start_time": "2023-09-29T11:46:36.058Z"
   },
   {
    "duration": 400,
    "start_time": "2023-09-29T11:46:58.853Z"
   },
   {
    "duration": 364,
    "start_time": "2023-09-29T11:47:06.544Z"
   },
   {
    "duration": 455,
    "start_time": "2023-09-29T11:47:24.191Z"
   },
   {
    "duration": 5,
    "start_time": "2023-09-29T11:48:10.356Z"
   },
   {
    "duration": 15,
    "start_time": "2023-09-29T11:48:35.214Z"
   },
   {
    "duration": 5,
    "start_time": "2023-09-29T11:48:46.184Z"
   },
   {
    "duration": 5,
    "start_time": "2023-09-29T11:49:28.435Z"
   },
   {
    "duration": 5,
    "start_time": "2023-09-29T11:49:54.966Z"
   },
   {
    "duration": 3,
    "start_time": "2023-09-29T11:49:59.486Z"
   },
   {
    "duration": 14,
    "start_time": "2023-09-29T11:52:05.979Z"
   },
   {
    "duration": 13,
    "start_time": "2023-09-29T11:52:18.261Z"
   },
   {
    "duration": 3730,
    "start_time": "2023-09-29T11:52:45.983Z"
   },
   {
    "duration": 1098,
    "start_time": "2023-09-29T11:53:24.484Z"
   },
   {
    "duration": 12,
    "start_time": "2023-09-29T11:53:33.356Z"
   },
   {
    "duration": 13,
    "start_time": "2023-09-29T11:54:32.050Z"
   },
   {
    "duration": 13,
    "start_time": "2023-09-29T11:55:04.998Z"
   },
   {
    "duration": 15,
    "start_time": "2023-09-29T11:55:17.542Z"
   },
   {
    "duration": 5,
    "start_time": "2023-09-29T11:55:43.629Z"
   },
   {
    "duration": 8,
    "start_time": "2023-09-29T11:55:43.636Z"
   },
   {
    "duration": 16,
    "start_time": "2023-09-29T11:55:43.646Z"
   },
   {
    "duration": 438,
    "start_time": "2023-09-29T11:55:43.663Z"
   },
   {
    "duration": 18,
    "start_time": "2023-09-29T11:55:44.105Z"
   },
   {
    "duration": 67,
    "start_time": "2023-09-29T11:55:44.125Z"
   },
   {
    "duration": 29,
    "start_time": "2023-09-29T11:55:44.194Z"
   },
   {
    "duration": 163,
    "start_time": "2023-09-29T11:55:44.224Z"
   },
   {
    "duration": 81,
    "start_time": "2023-09-29T11:55:44.389Z"
   },
   {
    "duration": 168,
    "start_time": "2023-09-29T11:55:44.473Z"
   },
   {
    "duration": 80,
    "start_time": "2023-09-29T11:55:44.644Z"
   },
   {
    "duration": 197,
    "start_time": "2023-09-29T11:55:44.726Z"
   },
   {
    "duration": 273,
    "start_time": "2023-09-29T11:55:44.925Z"
   },
   {
    "duration": 169,
    "start_time": "2023-09-29T11:55:45.200Z"
   },
   {
    "duration": 26,
    "start_time": "2023-09-29T11:55:45.371Z"
   },
   {
    "duration": 15,
    "start_time": "2023-09-29T11:55:45.399Z"
   },
   {
    "duration": 30,
    "start_time": "2023-09-29T11:55:45.415Z"
   },
   {
    "duration": 8,
    "start_time": "2023-09-29T11:55:45.447Z"
   },
   {
    "duration": 12,
    "start_time": "2023-09-29T11:55:45.458Z"
   },
   {
    "duration": 23,
    "start_time": "2023-09-29T11:55:45.472Z"
   },
   {
    "duration": 25,
    "start_time": "2023-09-29T11:55:45.497Z"
   },
   {
    "duration": 18,
    "start_time": "2023-09-29T11:55:45.524Z"
   },
   {
    "duration": 5,
    "start_time": "2023-09-29T11:55:45.544Z"
   },
   {
    "duration": 29,
    "start_time": "2023-09-29T11:55:45.550Z"
   },
   {
    "duration": 24,
    "start_time": "2023-09-29T11:55:45.580Z"
   },
   {
    "duration": 4,
    "start_time": "2023-09-29T11:55:45.605Z"
   },
   {
    "duration": 9,
    "start_time": "2023-09-29T11:55:45.611Z"
   },
   {
    "duration": 10,
    "start_time": "2023-09-29T11:55:45.621Z"
   },
   {
    "duration": 204,
    "start_time": "2023-09-29T11:55:45.644Z"
   },
   {
    "duration": 5,
    "start_time": "2023-09-29T11:55:45.849Z"
   },
   {
    "duration": 9,
    "start_time": "2023-09-29T11:55:45.945Z"
   },
   {
    "duration": 191,
    "start_time": "2023-09-29T11:55:45.955Z"
   },
   {
    "duration": 204,
    "start_time": "2023-09-29T11:55:46.149Z"
   },
   {
    "duration": 5,
    "start_time": "2023-09-29T11:55:46.355Z"
   },
   {
    "duration": 23,
    "start_time": "2023-09-29T11:55:46.362Z"
   },
   {
    "duration": 0,
    "start_time": "2023-09-29T11:55:46.386Z"
   },
   {
    "duration": 0,
    "start_time": "2023-09-29T11:55:46.387Z"
   },
   {
    "duration": 0,
    "start_time": "2023-09-29T11:55:46.388Z"
   },
   {
    "duration": 0,
    "start_time": "2023-09-29T11:55:46.390Z"
   },
   {
    "duration": 0,
    "start_time": "2023-09-29T11:55:46.391Z"
   },
   {
    "duration": 0,
    "start_time": "2023-09-29T11:55:46.392Z"
   },
   {
    "duration": 0,
    "start_time": "2023-09-29T11:55:46.393Z"
   },
   {
    "duration": 0,
    "start_time": "2023-09-29T11:55:46.393Z"
   },
   {
    "duration": 0,
    "start_time": "2023-09-29T11:55:46.394Z"
   },
   {
    "duration": 14,
    "start_time": "2023-09-29T11:56:35.679Z"
   },
   {
    "duration": 13,
    "start_time": "2023-09-29T11:56:58.529Z"
   },
   {
    "duration": 13,
    "start_time": "2023-09-29T11:57:15.531Z"
   },
   {
    "duration": 2043,
    "start_time": "2023-09-29T11:57:36.965Z"
   },
   {
    "duration": 13,
    "start_time": "2023-09-29T11:58:15.265Z"
   },
   {
    "duration": 3,
    "start_time": "2023-09-29T11:58:20.632Z"
   },
   {
    "duration": 15,
    "start_time": "2023-09-29T11:58:20.637Z"
   },
   {
    "duration": 8,
    "start_time": "2023-09-29T11:58:20.654Z"
   },
   {
    "duration": 441,
    "start_time": "2023-09-29T11:58:20.664Z"
   },
   {
    "duration": 11,
    "start_time": "2023-09-29T11:58:21.107Z"
   },
   {
    "duration": 48,
    "start_time": "2023-09-29T11:58:21.120Z"
   },
   {
    "duration": 20,
    "start_time": "2023-09-29T11:58:21.170Z"
   },
   {
    "duration": 121,
    "start_time": "2023-09-29T11:58:21.192Z"
   },
   {
    "duration": 57,
    "start_time": "2023-09-29T11:58:21.316Z"
   },
   {
    "duration": 169,
    "start_time": "2023-09-29T11:58:21.375Z"
   },
   {
    "duration": 83,
    "start_time": "2023-09-29T11:58:21.546Z"
   },
   {
    "duration": 162,
    "start_time": "2023-09-29T11:58:21.630Z"
   },
   {
    "duration": 171,
    "start_time": "2023-09-29T11:58:21.794Z"
   },
   {
    "duration": 162,
    "start_time": "2023-09-29T11:58:21.967Z"
   },
   {
    "duration": 33,
    "start_time": "2023-09-29T11:58:22.131Z"
   },
   {
    "duration": 11,
    "start_time": "2023-09-29T11:58:22.166Z"
   },
   {
    "duration": 8,
    "start_time": "2023-09-29T11:58:22.178Z"
   },
   {
    "duration": 8,
    "start_time": "2023-09-29T11:58:22.187Z"
   },
   {
    "duration": 11,
    "start_time": "2023-09-29T11:58:22.196Z"
   },
   {
    "duration": 3,
    "start_time": "2023-09-29T11:58:22.209Z"
   },
   {
    "duration": 35,
    "start_time": "2023-09-29T11:58:22.213Z"
   },
   {
    "duration": 11,
    "start_time": "2023-09-29T11:58:22.249Z"
   },
   {
    "duration": 3,
    "start_time": "2023-09-29T11:58:22.261Z"
   },
   {
    "duration": 23,
    "start_time": "2023-09-29T11:58:22.267Z"
   },
   {
    "duration": 19,
    "start_time": "2023-09-29T11:58:22.291Z"
   },
   {
    "duration": 3,
    "start_time": "2023-09-29T11:58:22.311Z"
   },
   {
    "duration": 28,
    "start_time": "2023-09-29T11:58:22.316Z"
   },
   {
    "duration": 5,
    "start_time": "2023-09-29T11:58:22.346Z"
   },
   {
    "duration": 203,
    "start_time": "2023-09-29T11:58:22.352Z"
   },
   {
    "duration": 8,
    "start_time": "2023-09-29T11:58:22.646Z"
   },
   {
    "duration": 92,
    "start_time": "2023-09-29T11:58:22.656Z"
   },
   {
    "duration": 100,
    "start_time": "2023-09-29T11:58:22.749Z"
   },
   {
    "duration": 207,
    "start_time": "2023-09-29T11:58:22.852Z"
   },
   {
    "duration": 5,
    "start_time": "2023-09-29T11:58:23.060Z"
   },
   {
    "duration": 15,
    "start_time": "2023-09-29T11:58:29.185Z"
   },
   {
    "duration": 13,
    "start_time": "2023-09-29T11:58:48.187Z"
   },
   {
    "duration": 1157,
    "start_time": "2023-09-29T11:58:54.900Z"
   },
   {
    "duration": 1057,
    "start_time": "2023-09-29T11:59:09.054Z"
   },
   {
    "duration": 1072,
    "start_time": "2023-09-29T11:59:12.373Z"
   },
   {
    "duration": 14,
    "start_time": "2023-09-29T11:59:14.669Z"
   },
   {
    "duration": 14,
    "start_time": "2023-09-29T11:59:21.982Z"
   },
   {
    "duration": 8,
    "start_time": "2023-09-29T11:59:31.529Z"
   },
   {
    "duration": 1118,
    "start_time": "2023-09-29T11:59:41.688Z"
   },
   {
    "duration": 1202,
    "start_time": "2023-09-29T11:59:54.266Z"
   },
   {
    "duration": 1094,
    "start_time": "2023-09-29T12:00:05.050Z"
   },
   {
    "duration": 13,
    "start_time": "2023-09-29T12:00:07.427Z"
   },
   {
    "duration": 1401,
    "start_time": "2023-09-29T12:01:23.540Z"
   },
   {
    "duration": 1444,
    "start_time": "2023-09-29T12:02:15.881Z"
   },
   {
    "duration": 7,
    "start_time": "2023-09-29T12:02:24.063Z"
   },
   {
    "duration": 1334,
    "start_time": "2023-09-29T12:02:45.668Z"
   },
   {
    "duration": 18,
    "start_time": "2023-09-29T12:02:54.299Z"
   },
   {
    "duration": 113,
    "start_time": "2023-09-29T12:03:02.789Z"
   },
   {
    "duration": 113,
    "start_time": "2023-09-29T12:03:27.072Z"
   },
   {
    "duration": 11,
    "start_time": "2023-09-29T12:03:45.410Z"
   },
   {
    "duration": 24,
    "start_time": "2023-09-29T12:04:04.690Z"
   },
   {
    "duration": 17,
    "start_time": "2023-09-29T12:06:43.675Z"
   },
   {
    "duration": 14,
    "start_time": "2023-09-29T12:07:02.295Z"
   },
   {
    "duration": 199,
    "start_time": "2023-09-29T12:07:09.542Z"
   },
   {
    "duration": 16,
    "start_time": "2023-09-29T12:07:15.855Z"
   },
   {
    "duration": 5,
    "start_time": "2023-09-29T12:07:36.608Z"
   },
   {
    "duration": 14,
    "start_time": "2023-09-29T12:09:01.423Z"
   },
   {
    "duration": 4,
    "start_time": "2023-09-29T12:15:44.921Z"
   },
   {
    "duration": 14,
    "start_time": "2023-09-29T12:17:07.602Z"
   },
   {
    "duration": 3,
    "start_time": "2023-09-29T12:17:47.109Z"
   },
   {
    "duration": 3,
    "start_time": "2023-09-29T12:17:58.374Z"
   },
   {
    "duration": 18,
    "start_time": "2023-09-29T12:18:47.444Z"
   },
   {
    "duration": 14,
    "start_time": "2023-09-29T12:20:12.915Z"
   },
   {
    "duration": 14,
    "start_time": "2023-09-29T12:40:49.959Z"
   },
   {
    "duration": 4,
    "start_time": "2023-09-29T12:40:59.438Z"
   },
   {
    "duration": 15,
    "start_time": "2023-09-29T12:41:39.531Z"
   },
   {
    "duration": 4,
    "start_time": "2023-09-29T12:41:42.939Z"
   },
   {
    "duration": 4,
    "start_time": "2023-09-29T12:41:46.683Z"
   },
   {
    "duration": 17,
    "start_time": "2023-09-29T12:41:54.854Z"
   },
   {
    "duration": 4,
    "start_time": "2023-09-29T12:41:58.057Z"
   },
   {
    "duration": 14,
    "start_time": "2023-09-29T12:42:02.197Z"
   },
   {
    "duration": 4,
    "start_time": "2023-09-29T12:42:03.830Z"
   },
   {
    "duration": 1501,
    "start_time": "2023-09-29T12:42:22.815Z"
   },
   {
    "duration": 4,
    "start_time": "2023-09-29T12:42:24.317Z"
   },
   {
    "duration": 44,
    "start_time": "2023-09-29T12:42:24.323Z"
   },
   {
    "duration": 416,
    "start_time": "2023-09-29T12:42:24.369Z"
   },
   {
    "duration": 12,
    "start_time": "2023-09-29T12:42:24.787Z"
   },
   {
    "duration": 49,
    "start_time": "2023-09-29T12:42:24.801Z"
   },
   {
    "duration": 22,
    "start_time": "2023-09-29T12:42:24.851Z"
   },
   {
    "duration": 134,
    "start_time": "2023-09-29T12:42:24.874Z"
   },
   {
    "duration": 70,
    "start_time": "2023-09-29T12:42:25.010Z"
   },
   {
    "duration": 186,
    "start_time": "2023-09-29T12:42:25.082Z"
   },
   {
    "duration": 84,
    "start_time": "2023-09-29T12:42:25.269Z"
   },
   {
    "duration": 167,
    "start_time": "2023-09-29T12:42:25.355Z"
   },
   {
    "duration": 166,
    "start_time": "2023-09-29T12:42:25.524Z"
   },
   {
    "duration": 151,
    "start_time": "2023-09-29T12:42:25.693Z"
   },
   {
    "duration": 27,
    "start_time": "2023-09-29T12:42:25.846Z"
   },
   {
    "duration": 12,
    "start_time": "2023-09-29T12:42:25.875Z"
   },
   {
    "duration": 9,
    "start_time": "2023-09-29T12:42:25.888Z"
   },
   {
    "duration": 14,
    "start_time": "2023-09-29T12:42:25.899Z"
   },
   {
    "duration": 37,
    "start_time": "2023-09-29T12:42:25.914Z"
   },
   {
    "duration": 6,
    "start_time": "2023-09-29T12:42:25.953Z"
   },
   {
    "duration": 19,
    "start_time": "2023-09-29T12:42:25.960Z"
   },
   {
    "duration": 13,
    "start_time": "2023-09-29T12:42:25.980Z"
   },
   {
    "duration": 4,
    "start_time": "2023-09-29T12:42:25.994Z"
   },
   {
    "duration": 34,
    "start_time": "2023-09-29T12:42:26.000Z"
   },
   {
    "duration": 24,
    "start_time": "2023-09-29T12:42:26.036Z"
   },
   {
    "duration": 7,
    "start_time": "2023-09-29T12:42:26.062Z"
   },
   {
    "duration": 10,
    "start_time": "2023-09-29T12:42:26.071Z"
   },
   {
    "duration": 5,
    "start_time": "2023-09-29T12:42:26.083Z"
   },
   {
    "duration": 164,
    "start_time": "2023-09-29T12:42:26.089Z"
   },
   {
    "duration": 6,
    "start_time": "2023-09-29T12:42:26.349Z"
   },
   {
    "duration": 12,
    "start_time": "2023-09-29T12:42:26.445Z"
   },
   {
    "duration": 188,
    "start_time": "2023-09-29T12:42:26.458Z"
   },
   {
    "duration": 1308,
    "start_time": "2023-09-29T12:42:26.648Z"
   },
   {
    "duration": 1037,
    "start_time": "2023-09-29T12:42:27.958Z"
   },
   {
    "duration": 116,
    "start_time": "2023-09-29T12:42:28.996Z"
   },
   {
    "duration": 0,
    "start_time": "2023-09-29T12:42:29.114Z"
   },
   {
    "duration": 0,
    "start_time": "2023-09-29T12:42:29.115Z"
   },
   {
    "duration": 14,
    "start_time": "2023-09-29T12:43:14.757Z"
   },
   {
    "duration": 4,
    "start_time": "2023-09-29T12:43:18.838Z"
   },
   {
    "duration": 85,
    "start_time": "2023-09-29T12:43:48.843Z"
   },
   {
    "duration": 15,
    "start_time": "2023-09-29T12:43:51.352Z"
   },
   {
    "duration": 13,
    "start_time": "2023-09-29T12:44:03.822Z"
   },
   {
    "duration": 13,
    "start_time": "2023-09-29T12:44:05.579Z"
   },
   {
    "duration": 17,
    "start_time": "2023-09-29T12:44:18.596Z"
   },
   {
    "duration": 4,
    "start_time": "2023-09-29T12:44:29.595Z"
   },
   {
    "duration": 80,
    "start_time": "2023-09-29T12:46:19.591Z"
   },
   {
    "duration": 2,
    "start_time": "2023-09-29T12:46:33.080Z"
   },
   {
    "duration": 4,
    "start_time": "2023-09-29T13:04:08.048Z"
   },
   {
    "duration": 5,
    "start_time": "2023-09-29T13:16:09.073Z"
   },
   {
    "duration": 391,
    "start_time": "2023-09-29T13:16:21.018Z"
   },
   {
    "duration": 392,
    "start_time": "2023-09-29T13:16:35.995Z"
   },
   {
    "duration": 375,
    "start_time": "2023-09-29T13:16:45.948Z"
   },
   {
    "duration": 1151,
    "start_time": "2023-09-29T13:17:52.443Z"
   },
   {
    "duration": 1073,
    "start_time": "2023-09-29T13:19:10.588Z"
   },
   {
    "duration": 12,
    "start_time": "2023-09-29T13:23:21.660Z"
   },
   {
    "duration": 4,
    "start_time": "2023-09-29T13:23:30.812Z"
   },
   {
    "duration": 258,
    "start_time": "2023-09-29T13:23:33.291Z"
   },
   {
    "duration": 1145,
    "start_time": "2023-09-29T13:23:34.948Z"
   },
   {
    "duration": 14,
    "start_time": "2023-09-29T13:23:40.756Z"
   },
   {
    "duration": 1136,
    "start_time": "2023-09-29T13:23:54.431Z"
   },
   {
    "duration": 1254,
    "start_time": "2023-09-29T13:24:53.782Z"
   },
   {
    "duration": 1072,
    "start_time": "2023-09-29T13:25:00.941Z"
   },
   {
    "duration": 1286,
    "start_time": "2023-09-29T13:25:24.064Z"
   },
   {
    "duration": 1172,
    "start_time": "2023-09-29T13:25:34.777Z"
   },
   {
    "duration": 1166,
    "start_time": "2023-09-29T13:26:11.332Z"
   },
   {
    "duration": 1163,
    "start_time": "2023-09-29T13:26:19.166Z"
   },
   {
    "duration": 3,
    "start_time": "2023-09-29T13:26:47.699Z"
   },
   {
    "duration": 7,
    "start_time": "2023-09-29T13:26:47.705Z"
   },
   {
    "duration": 5,
    "start_time": "2023-09-29T13:26:47.714Z"
   },
   {
    "duration": 399,
    "start_time": "2023-09-29T13:26:47.720Z"
   },
   {
    "duration": 12,
    "start_time": "2023-09-29T13:26:48.120Z"
   },
   {
    "duration": 42,
    "start_time": "2023-09-29T13:26:48.134Z"
   },
   {
    "duration": 22,
    "start_time": "2023-09-29T13:26:48.178Z"
   },
   {
    "duration": 129,
    "start_time": "2023-09-29T13:26:48.201Z"
   },
   {
    "duration": 55,
    "start_time": "2023-09-29T13:26:48.331Z"
   },
   {
    "duration": 178,
    "start_time": "2023-09-29T13:26:48.387Z"
   },
   {
    "duration": 98,
    "start_time": "2023-09-29T13:26:48.567Z"
   },
   {
    "duration": 168,
    "start_time": "2023-09-29T13:26:48.667Z"
   },
   {
    "duration": 256,
    "start_time": "2023-09-29T13:26:48.837Z"
   },
   {
    "duration": 172,
    "start_time": "2023-09-29T13:26:49.096Z"
   },
   {
    "duration": 29,
    "start_time": "2023-09-29T13:26:49.269Z"
   },
   {
    "duration": 14,
    "start_time": "2023-09-29T13:26:49.300Z"
   },
   {
    "duration": 34,
    "start_time": "2023-09-29T13:26:49.316Z"
   },
   {
    "duration": 17,
    "start_time": "2023-09-29T13:26:49.351Z"
   },
   {
    "duration": 30,
    "start_time": "2023-09-29T13:26:49.370Z"
   },
   {
    "duration": 15,
    "start_time": "2023-09-29T13:26:49.402Z"
   },
   {
    "duration": 16,
    "start_time": "2023-09-29T13:26:49.419Z"
   },
   {
    "duration": 21,
    "start_time": "2023-09-29T13:26:49.436Z"
   },
   {
    "duration": 9,
    "start_time": "2023-09-29T13:26:49.459Z"
   },
   {
    "duration": 36,
    "start_time": "2023-09-29T13:26:49.470Z"
   },
   {
    "duration": 21,
    "start_time": "2023-09-29T13:26:49.508Z"
   },
   {
    "duration": 3,
    "start_time": "2023-09-29T13:26:49.530Z"
   },
   {
    "duration": 14,
    "start_time": "2023-09-29T13:26:49.535Z"
   },
   {
    "duration": 17,
    "start_time": "2023-09-29T13:26:49.551Z"
   },
   {
    "duration": 286,
    "start_time": "2023-09-29T13:26:49.570Z"
   },
   {
    "duration": 88,
    "start_time": "2023-09-29T13:26:49.859Z"
   },
   {
    "duration": 97,
    "start_time": "2023-09-29T13:26:49.949Z"
   },
   {
    "duration": 203,
    "start_time": "2023-09-29T13:26:50.048Z"
   },
   {
    "duration": 1425,
    "start_time": "2023-09-29T13:26:50.253Z"
   },
   {
    "duration": 1127,
    "start_time": "2023-09-29T13:26:51.679Z"
   },
   {
    "duration": 14,
    "start_time": "2023-09-29T13:26:52.808Z"
   },
   {
    "duration": 31,
    "start_time": "2023-09-29T13:26:52.824Z"
   },
   {
    "duration": 1168,
    "start_time": "2023-09-29T13:28:02.257Z"
   },
   {
    "duration": 1077,
    "start_time": "2023-09-29T13:28:36.506Z"
   },
   {
    "duration": 1116,
    "start_time": "2023-09-29T13:28:46.155Z"
   },
   {
    "duration": 14,
    "start_time": "2023-09-29T13:29:18.767Z"
   },
   {
    "duration": 14,
    "start_time": "2023-09-29T13:29:20.727Z"
   },
   {
    "duration": 15,
    "start_time": "2023-09-29T13:30:06.172Z"
   },
   {
    "duration": 15,
    "start_time": "2023-09-29T13:30:46.272Z"
   },
   {
    "duration": 15,
    "start_time": "2023-09-29T13:31:15.067Z"
   },
   {
    "duration": 15,
    "start_time": "2023-09-29T13:31:39.517Z"
   },
   {
    "duration": 16,
    "start_time": "2023-09-29T13:31:51.470Z"
   },
   {
    "duration": 15,
    "start_time": "2023-09-29T13:32:07.608Z"
   },
   {
    "duration": 14,
    "start_time": "2023-09-29T13:32:28.666Z"
   },
   {
    "duration": 15,
    "start_time": "2023-09-29T13:32:39.364Z"
   },
   {
    "duration": 17,
    "start_time": "2023-09-29T13:32:43.003Z"
   },
   {
    "duration": 1065,
    "start_time": "2023-09-29T13:32:46.220Z"
   },
   {
    "duration": 34,
    "start_time": "2023-09-29T13:32:59.668Z"
   },
   {
    "duration": 1113,
    "start_time": "2023-09-29T13:33:16.473Z"
   },
   {
    "duration": 1551,
    "start_time": "2023-09-29T13:33:29.312Z"
   },
   {
    "duration": 1094,
    "start_time": "2023-09-29T13:34:12.840Z"
   },
   {
    "duration": 35,
    "start_time": "2023-09-29T13:34:16.236Z"
   },
   {
    "duration": 1153,
    "start_time": "2023-09-29T13:35:07.714Z"
   },
   {
    "duration": 1226,
    "start_time": "2023-09-29T13:36:19.497Z"
   },
   {
    "duration": 1225,
    "start_time": "2023-09-29T13:36:48.892Z"
   },
   {
    "duration": 1137,
    "start_time": "2023-09-29T13:37:56.116Z"
   },
   {
    "duration": 1180,
    "start_time": "2023-09-29T13:38:20.101Z"
   },
   {
    "duration": 1149,
    "start_time": "2023-09-29T13:38:24.278Z"
   },
   {
    "duration": 403,
    "start_time": "2023-09-29T13:39:00.003Z"
   },
   {
    "duration": 1257,
    "start_time": "2023-09-29T13:39:03.682Z"
   },
   {
    "duration": 12,
    "start_time": "2023-09-29T13:39:23.475Z"
   },
   {
    "duration": 1160,
    "start_time": "2023-09-29T13:39:35.116Z"
   },
   {
    "duration": 1191,
    "start_time": "2023-09-29T13:39:51.024Z"
   },
   {
    "duration": 1196,
    "start_time": "2023-09-29T13:40:20.625Z"
   },
   {
    "duration": 1108,
    "start_time": "2023-09-29T13:40:30.172Z"
   },
   {
    "duration": 1284,
    "start_time": "2023-09-29T13:40:53.172Z"
   },
   {
    "duration": 1211,
    "start_time": "2023-09-29T13:40:54.972Z"
   },
   {
    "duration": 1398,
    "start_time": "2023-09-29T13:41:06.521Z"
   },
   {
    "duration": 3,
    "start_time": "2023-09-29T13:41:07.921Z"
   },
   {
    "duration": 30,
    "start_time": "2023-09-29T13:41:07.925Z"
   },
   {
    "duration": 421,
    "start_time": "2023-09-29T13:41:07.957Z"
   },
   {
    "duration": 12,
    "start_time": "2023-09-29T13:41:08.380Z"
   },
   {
    "duration": 50,
    "start_time": "2023-09-29T13:41:08.394Z"
   },
   {
    "duration": 20,
    "start_time": "2023-09-29T13:41:08.446Z"
   },
   {
    "duration": 399,
    "start_time": "2023-09-29T13:41:08.467Z"
   },
   {
    "duration": 124,
    "start_time": "2023-09-29T13:41:08.868Z"
   },
   {
    "duration": 184,
    "start_time": "2023-09-29T13:41:08.994Z"
   },
   {
    "duration": 86,
    "start_time": "2023-09-29T13:41:09.179Z"
   },
   {
    "duration": 167,
    "start_time": "2023-09-29T13:41:09.266Z"
   },
   {
    "duration": 171,
    "start_time": "2023-09-29T13:41:09.435Z"
   },
   {
    "duration": 160,
    "start_time": "2023-09-29T13:41:09.607Z"
   },
   {
    "duration": 26,
    "start_time": "2023-09-29T13:41:09.768Z"
   },
   {
    "duration": 13,
    "start_time": "2023-09-29T13:41:09.796Z"
   },
   {
    "duration": 10,
    "start_time": "2023-09-29T13:41:09.810Z"
   },
   {
    "duration": 15,
    "start_time": "2023-09-29T13:41:09.845Z"
   },
   {
    "duration": 31,
    "start_time": "2023-09-29T13:41:09.862Z"
   },
   {
    "duration": 18,
    "start_time": "2023-09-29T13:41:09.894Z"
   },
   {
    "duration": 29,
    "start_time": "2023-09-29T13:41:09.913Z"
   },
   {
    "duration": 16,
    "start_time": "2023-09-29T13:41:09.944Z"
   },
   {
    "duration": 12,
    "start_time": "2023-09-29T13:41:09.962Z"
   },
   {
    "duration": 34,
    "start_time": "2023-09-29T13:41:09.975Z"
   },
   {
    "duration": 33,
    "start_time": "2023-09-29T13:41:10.011Z"
   },
   {
    "duration": 22,
    "start_time": "2023-09-29T13:41:10.046Z"
   },
   {
    "duration": 18,
    "start_time": "2023-09-29T13:41:10.070Z"
   },
   {
    "duration": 11,
    "start_time": "2023-09-29T13:41:10.091Z"
   },
   {
    "duration": 343,
    "start_time": "2023-09-29T13:41:10.103Z"
   },
   {
    "duration": 98,
    "start_time": "2023-09-29T13:41:10.448Z"
   },
   {
    "duration": 3,
    "start_time": "2023-09-29T13:41:10.548Z"
   },
   {
    "duration": 195,
    "start_time": "2023-09-29T13:41:10.552Z"
   },
   {
    "duration": 683,
    "start_time": "2023-09-29T13:41:10.749Z"
   },
   {
    "duration": 0,
    "start_time": "2023-09-29T13:41:11.433Z"
   },
   {
    "duration": 0,
    "start_time": "2023-09-29T13:41:11.434Z"
   },
   {
    "duration": 0,
    "start_time": "2023-09-29T13:41:11.435Z"
   },
   {
    "duration": 1244,
    "start_time": "2023-09-29T13:42:39.368Z"
   },
   {
    "duration": 1283,
    "start_time": "2023-09-29T13:42:43.207Z"
   },
   {
    "duration": 14,
    "start_time": "2023-09-29T13:42:47.318Z"
   },
   {
    "duration": 12,
    "start_time": "2023-09-29T13:42:55.744Z"
   },
   {
    "duration": 12,
    "start_time": "2023-09-29T13:42:59.920Z"
   },
   {
    "duration": 14,
    "start_time": "2023-09-29T13:43:06.385Z"
   },
   {
    "duration": 17,
    "start_time": "2023-09-29T13:43:34.205Z"
   },
   {
    "duration": 13,
    "start_time": "2023-09-29T13:43:50.376Z"
   },
   {
    "duration": 19,
    "start_time": "2023-09-29T13:44:11.943Z"
   },
   {
    "duration": 14,
    "start_time": "2023-09-29T13:44:18.945Z"
   },
   {
    "duration": 13,
    "start_time": "2023-09-29T13:44:27.241Z"
   },
   {
    "duration": 1331,
    "start_time": "2023-09-29T13:44:35.986Z"
   },
   {
    "duration": 4,
    "start_time": "2023-09-29T13:44:37.319Z"
   },
   {
    "duration": 7,
    "start_time": "2023-09-29T13:44:37.324Z"
   },
   {
    "duration": 381,
    "start_time": "2023-09-29T13:44:37.333Z"
   },
   {
    "duration": 13,
    "start_time": "2023-09-29T13:44:37.715Z"
   },
   {
    "duration": 43,
    "start_time": "2023-09-29T13:44:37.729Z"
   },
   {
    "duration": 21,
    "start_time": "2023-09-29T13:44:37.773Z"
   },
   {
    "duration": 143,
    "start_time": "2023-09-29T13:44:37.795Z"
   },
   {
    "duration": 54,
    "start_time": "2023-09-29T13:44:37.944Z"
   },
   {
    "duration": 195,
    "start_time": "2023-09-29T13:44:38.000Z"
   },
   {
    "duration": 96,
    "start_time": "2023-09-29T13:44:38.197Z"
   },
   {
    "duration": 183,
    "start_time": "2023-09-29T13:44:38.295Z"
   },
   {
    "duration": 186,
    "start_time": "2023-09-29T13:44:38.480Z"
   },
   {
    "duration": 163,
    "start_time": "2023-09-29T13:44:38.668Z"
   },
   {
    "duration": 37,
    "start_time": "2023-09-29T13:44:38.832Z"
   },
   {
    "duration": 15,
    "start_time": "2023-09-29T13:44:38.870Z"
   },
   {
    "duration": 10,
    "start_time": "2023-09-29T13:44:38.887Z"
   },
   {
    "duration": 15,
    "start_time": "2023-09-29T13:44:38.899Z"
   },
   {
    "duration": 36,
    "start_time": "2023-09-29T13:44:38.916Z"
   },
   {
    "duration": 11,
    "start_time": "2023-09-29T13:44:38.954Z"
   },
   {
    "duration": 25,
    "start_time": "2023-09-29T13:44:38.967Z"
   },
   {
    "duration": 12,
    "start_time": "2023-09-29T13:44:38.994Z"
   },
   {
    "duration": 8,
    "start_time": "2023-09-29T13:44:39.007Z"
   },
   {
    "duration": 33,
    "start_time": "2023-09-29T13:44:39.017Z"
   },
   {
    "duration": 18,
    "start_time": "2023-09-29T13:44:39.051Z"
   },
   {
    "duration": 12,
    "start_time": "2023-09-29T13:44:39.070Z"
   },
   {
    "duration": 16,
    "start_time": "2023-09-29T13:44:39.084Z"
   },
   {
    "duration": 6,
    "start_time": "2023-09-29T13:44:39.103Z"
   },
   {
    "duration": 239,
    "start_time": "2023-09-29T13:44:39.111Z"
   },
   {
    "duration": 95,
    "start_time": "2023-09-29T13:44:39.352Z"
   },
   {
    "duration": 7,
    "start_time": "2023-09-29T13:44:39.450Z"
   },
   {
    "duration": 287,
    "start_time": "2023-09-29T13:44:39.459Z"
   },
   {
    "duration": 1332,
    "start_time": "2023-09-29T13:44:39.753Z"
   },
   {
    "duration": 1067,
    "start_time": "2023-09-29T13:44:41.087Z"
   },
   {
    "duration": 12,
    "start_time": "2023-09-29T13:44:42.155Z"
   },
   {
    "duration": 13,
    "start_time": "2023-09-29T13:44:42.169Z"
   },
   {
    "duration": 1352,
    "start_time": "2023-09-29T13:51:15.097Z"
   },
   {
    "duration": 4,
    "start_time": "2023-09-29T13:51:16.451Z"
   },
   {
    "duration": 16,
    "start_time": "2023-09-29T13:51:16.456Z"
   },
   {
    "duration": 394,
    "start_time": "2023-09-29T13:51:16.474Z"
   },
   {
    "duration": 16,
    "start_time": "2023-09-29T13:51:16.870Z"
   },
   {
    "duration": 42,
    "start_time": "2023-09-29T13:51:16.889Z"
   },
   {
    "duration": 41,
    "start_time": "2023-09-29T13:51:16.933Z"
   },
   {
    "duration": 135,
    "start_time": "2023-09-29T13:51:16.976Z"
   },
   {
    "duration": 65,
    "start_time": "2023-09-29T13:51:17.112Z"
   },
   {
    "duration": 178,
    "start_time": "2023-09-29T13:51:17.180Z"
   },
   {
    "duration": 85,
    "start_time": "2023-09-29T13:51:17.359Z"
   },
   {
    "duration": 171,
    "start_time": "2023-09-29T13:51:17.446Z"
   },
   {
    "duration": 189,
    "start_time": "2023-09-29T13:51:17.619Z"
   },
   {
    "duration": 199,
    "start_time": "2023-09-29T13:51:17.810Z"
   },
   {
    "duration": 45,
    "start_time": "2023-09-29T13:51:18.011Z"
   },
   {
    "duration": 15,
    "start_time": "2023-09-29T13:51:18.058Z"
   },
   {
    "duration": 20,
    "start_time": "2023-09-29T13:51:18.075Z"
   },
   {
    "duration": 33,
    "start_time": "2023-09-29T13:51:18.097Z"
   },
   {
    "duration": 29,
    "start_time": "2023-09-29T13:51:18.132Z"
   },
   {
    "duration": 28,
    "start_time": "2023-09-29T13:51:18.162Z"
   },
   {
    "duration": 19,
    "start_time": "2023-09-29T13:51:18.191Z"
   },
   {
    "duration": 34,
    "start_time": "2023-09-29T13:51:18.212Z"
   },
   {
    "duration": 24,
    "start_time": "2023-09-29T13:51:18.249Z"
   },
   {
    "duration": 57,
    "start_time": "2023-09-29T13:51:18.275Z"
   },
   {
    "duration": 23,
    "start_time": "2023-09-29T13:51:18.334Z"
   },
   {
    "duration": 4,
    "start_time": "2023-09-29T13:51:18.359Z"
   },
   {
    "duration": 10,
    "start_time": "2023-09-29T13:51:18.365Z"
   },
   {
    "duration": 4,
    "start_time": "2023-09-29T13:51:18.378Z"
   },
   {
    "duration": 262,
    "start_time": "2023-09-29T13:51:18.384Z"
   },
   {
    "duration": 7,
    "start_time": "2023-09-29T13:51:18.648Z"
   },
   {
    "duration": 95,
    "start_time": "2023-09-29T13:51:18.657Z"
   },
   {
    "duration": 191,
    "start_time": "2023-09-29T13:51:18.753Z"
   },
   {
    "duration": 1371,
    "start_time": "2023-09-29T13:51:18.946Z"
   },
   {
    "duration": 1277,
    "start_time": "2023-09-29T13:51:20.318Z"
   },
   {
    "duration": 13,
    "start_time": "2023-09-29T13:51:21.597Z"
   },
   {
    "duration": 13,
    "start_time": "2023-09-29T13:51:21.611Z"
   },
   {
    "duration": 1800,
    "start_time": "2023-10-02T05:58:50.716Z"
   },
   {
    "duration": 4,
    "start_time": "2023-10-02T05:58:52.519Z"
   },
   {
    "duration": 50,
    "start_time": "2023-10-02T05:58:52.525Z"
   },
   {
    "duration": 832,
    "start_time": "2023-10-02T05:58:52.577Z"
   },
   {
    "duration": 14,
    "start_time": "2023-10-02T05:58:53.412Z"
   },
   {
    "duration": 64,
    "start_time": "2023-10-02T05:58:53.428Z"
   },
   {
    "duration": 32,
    "start_time": "2023-10-02T05:58:53.495Z"
   },
   {
    "duration": 147,
    "start_time": "2023-10-02T05:58:53.547Z"
   },
   {
    "duration": 76,
    "start_time": "2023-10-02T05:58:53.696Z"
   },
   {
    "duration": 199,
    "start_time": "2023-10-02T05:58:53.774Z"
   },
   {
    "duration": 109,
    "start_time": "2023-10-02T05:58:53.975Z"
   },
   {
    "duration": 251,
    "start_time": "2023-10-02T05:58:54.086Z"
   },
   {
    "duration": 253,
    "start_time": "2023-10-02T05:58:54.340Z"
   },
   {
    "duration": 232,
    "start_time": "2023-10-02T05:58:54.595Z"
   },
   {
    "duration": 6,
    "start_time": "2023-10-02T05:59:06.722Z"
   },
   {
    "duration": 216,
    "start_time": "2023-10-02T05:59:10.819Z"
   },
   {
    "duration": 264,
    "start_time": "2023-10-02T05:59:17.977Z"
   },
   {
    "duration": 359,
    "start_time": "2023-10-02T05:59:26.993Z"
   },
   {
    "duration": 209,
    "start_time": "2023-10-02T05:59:29.475Z"
   },
   {
    "duration": 8,
    "start_time": "2023-10-02T05:59:43.003Z"
   },
   {
    "duration": 203,
    "start_time": "2023-10-02T05:59:47.939Z"
   },
   {
    "duration": 218,
    "start_time": "2023-10-02T05:59:50.114Z"
   },
   {
    "duration": 217,
    "start_time": "2023-10-02T05:59:52.067Z"
   },
   {
    "duration": 132,
    "start_time": "2023-10-02T06:45:16.110Z"
   },
   {
    "duration": 9,
    "start_time": "2023-10-02T06:45:31.017Z"
   },
   {
    "duration": 578,
    "start_time": "2023-10-02T06:47:01.084Z"
   },
   {
    "duration": 208,
    "start_time": "2023-10-02T06:47:52.217Z"
   },
   {
    "duration": 210,
    "start_time": "2023-10-02T06:48:04.236Z"
   },
   {
    "duration": 684,
    "start_time": "2023-10-02T06:48:08.346Z"
   },
   {
    "duration": 634,
    "start_time": "2023-10-02T06:50:28.298Z"
   },
   {
    "duration": 654,
    "start_time": "2023-10-02T06:51:33.575Z"
   },
   {
    "duration": 195,
    "start_time": "2023-10-02T06:52:54.118Z"
   },
   {
    "duration": 780,
    "start_time": "2023-10-02T06:53:09.200Z"
   },
   {
    "duration": 3,
    "start_time": "2023-10-02T06:53:19.088Z"
   },
   {
    "duration": 20,
    "start_time": "2023-10-02T06:53:19.093Z"
   },
   {
    "duration": 23,
    "start_time": "2023-10-02T06:53:19.115Z"
   },
   {
    "duration": 438,
    "start_time": "2023-10-02T06:53:19.140Z"
   },
   {
    "duration": 12,
    "start_time": "2023-10-02T06:53:19.580Z"
   },
   {
    "duration": 68,
    "start_time": "2023-10-02T06:53:19.594Z"
   },
   {
    "duration": 26,
    "start_time": "2023-10-02T06:53:19.664Z"
   },
   {
    "duration": 155,
    "start_time": "2023-10-02T06:53:19.692Z"
   },
   {
    "duration": 61,
    "start_time": "2023-10-02T06:53:19.849Z"
   },
   {
    "duration": 222,
    "start_time": "2023-10-02T06:53:19.912Z"
   },
   {
    "duration": 110,
    "start_time": "2023-10-02T06:53:20.137Z"
   },
   {
    "duration": 666,
    "start_time": "2023-10-02T06:53:20.249Z"
   },
   {
    "duration": 38,
    "start_time": "2023-10-02T06:53:20.917Z"
   },
   {
    "duration": 12,
    "start_time": "2023-10-02T06:53:20.957Z"
   },
   {
    "duration": 35,
    "start_time": "2023-10-02T06:53:20.971Z"
   },
   {
    "duration": 37,
    "start_time": "2023-10-02T06:53:21.008Z"
   },
   {
    "duration": 34,
    "start_time": "2023-10-02T06:53:21.047Z"
   },
   {
    "duration": 51,
    "start_time": "2023-10-02T06:53:21.083Z"
   },
   {
    "duration": 33,
    "start_time": "2023-10-02T06:53:21.136Z"
   },
   {
    "duration": 28,
    "start_time": "2023-10-02T06:53:21.171Z"
   },
   {
    "duration": 36,
    "start_time": "2023-10-02T06:53:21.201Z"
   },
   {
    "duration": 48,
    "start_time": "2023-10-02T06:53:21.239Z"
   },
   {
    "duration": 28,
    "start_time": "2023-10-02T06:53:21.288Z"
   },
   {
    "duration": 14,
    "start_time": "2023-10-02T06:53:21.319Z"
   },
   {
    "duration": 14,
    "start_time": "2023-10-02T06:53:21.336Z"
   },
   {
    "duration": 11,
    "start_time": "2023-10-02T06:53:21.352Z"
   },
   {
    "duration": 384,
    "start_time": "2023-10-02T06:53:21.365Z"
   },
   {
    "duration": 96,
    "start_time": "2023-10-02T06:53:21.751Z"
   },
   {
    "duration": 3,
    "start_time": "2023-10-02T06:53:21.852Z"
   },
   {
    "duration": 194,
    "start_time": "2023-10-02T06:53:21.857Z"
   },
   {
    "duration": 1572,
    "start_time": "2023-10-02T06:53:22.054Z"
   },
   {
    "duration": 1333,
    "start_time": "2023-10-02T06:53:23.628Z"
   },
   {
    "duration": 14,
    "start_time": "2023-10-02T06:53:24.962Z"
   },
   {
    "duration": 15,
    "start_time": "2023-10-02T06:53:24.978Z"
   },
   {
    "duration": 226,
    "start_time": "2023-10-02T06:55:20.629Z"
   },
   {
    "duration": 3,
    "start_time": "2023-10-02T06:55:32.646Z"
   },
   {
    "duration": 65,
    "start_time": "2023-10-02T06:55:32.651Z"
   },
   {
    "duration": 28,
    "start_time": "2023-10-02T06:55:32.718Z"
   },
   {
    "duration": 461,
    "start_time": "2023-10-02T06:55:32.748Z"
   },
   {
    "duration": 13,
    "start_time": "2023-10-02T06:55:33.211Z"
   },
   {
    "duration": 84,
    "start_time": "2023-10-02T06:55:33.226Z"
   },
   {
    "duration": 29,
    "start_time": "2023-10-02T06:55:33.312Z"
   },
   {
    "duration": 242,
    "start_time": "2023-10-02T06:55:33.343Z"
   },
   {
    "duration": 65,
    "start_time": "2023-10-02T06:55:33.587Z"
   },
   {
    "duration": 180,
    "start_time": "2023-10-02T06:55:33.654Z"
   },
   {
    "duration": 95,
    "start_time": "2023-10-02T06:55:33.837Z"
   },
   {
    "duration": 676,
    "start_time": "2023-10-02T06:55:33.934Z"
   },
   {
    "duration": 42,
    "start_time": "2023-10-02T06:55:34.612Z"
   },
   {
    "duration": 15,
    "start_time": "2023-10-02T06:55:34.656Z"
   },
   {
    "duration": 50,
    "start_time": "2023-10-02T06:55:34.672Z"
   },
   {
    "duration": 64,
    "start_time": "2023-10-02T06:55:34.724Z"
   },
   {
    "duration": 55,
    "start_time": "2023-10-02T06:55:34.790Z"
   },
   {
    "duration": 185,
    "start_time": "2023-10-02T06:55:34.848Z"
   },
   {
    "duration": 66,
    "start_time": "2023-10-02T06:55:35.035Z"
   },
   {
    "duration": 66,
    "start_time": "2023-10-02T06:55:35.103Z"
   },
   {
    "duration": 44,
    "start_time": "2023-10-02T06:55:35.171Z"
   },
   {
    "duration": 81,
    "start_time": "2023-10-02T06:55:35.217Z"
   },
   {
    "duration": 48,
    "start_time": "2023-10-02T06:55:35.300Z"
   },
   {
    "duration": 8,
    "start_time": "2023-10-02T07:23:41.902Z"
   },
   {
    "duration": 6,
    "start_time": "2023-10-02T07:23:48.222Z"
   },
   {
    "duration": 3,
    "start_time": "2023-10-02T07:35:27.542Z"
   },
   {
    "duration": 3,
    "start_time": "2023-10-02T07:37:32.498Z"
   },
   {
    "duration": 108,
    "start_time": "2023-10-02T07:40:57.902Z"
   },
   {
    "duration": 113,
    "start_time": "2023-10-02T07:42:31.991Z"
   },
   {
    "duration": 6,
    "start_time": "2023-10-02T07:42:38.278Z"
   },
   {
    "duration": 6,
    "start_time": "2023-10-02T07:45:27.745Z"
   },
   {
    "duration": 7,
    "start_time": "2023-10-02T07:48:47.485Z"
   },
   {
    "duration": 7,
    "start_time": "2023-10-02T07:49:50.402Z"
   },
   {
    "duration": 7,
    "start_time": "2023-10-02T07:50:12.363Z"
   },
   {
    "duration": 14,
    "start_time": "2023-10-02T07:50:17.780Z"
   },
   {
    "duration": 4,
    "start_time": "2023-10-02T07:51:18.864Z"
   },
   {
    "duration": 86,
    "start_time": "2023-10-02T07:51:18.869Z"
   },
   {
    "duration": 8,
    "start_time": "2023-10-02T07:51:18.957Z"
   },
   {
    "duration": 440,
    "start_time": "2023-10-02T07:51:18.966Z"
   },
   {
    "duration": 13,
    "start_time": "2023-10-02T07:51:19.408Z"
   },
   {
    "duration": 54,
    "start_time": "2023-10-02T07:51:19.423Z"
   },
   {
    "duration": 24,
    "start_time": "2023-10-02T07:51:19.479Z"
   },
   {
    "duration": 145,
    "start_time": "2023-10-02T07:51:19.504Z"
   },
   {
    "duration": 58,
    "start_time": "2023-10-02T07:51:19.651Z"
   },
   {
    "duration": 194,
    "start_time": "2023-10-02T07:51:19.710Z"
   },
   {
    "duration": 124,
    "start_time": "2023-10-02T07:51:19.907Z"
   },
   {
    "duration": 681,
    "start_time": "2023-10-02T07:51:20.032Z"
   },
   {
    "duration": 37,
    "start_time": "2023-10-02T07:51:20.715Z"
   },
   {
    "duration": 18,
    "start_time": "2023-10-02T07:51:20.754Z"
   },
   {
    "duration": 73,
    "start_time": "2023-10-02T07:51:20.773Z"
   },
   {
    "duration": 38,
    "start_time": "2023-10-02T07:51:20.848Z"
   },
   {
    "duration": 41,
    "start_time": "2023-10-02T07:51:20.888Z"
   },
   {
    "duration": 35,
    "start_time": "2023-10-02T07:51:20.930Z"
   },
   {
    "duration": 48,
    "start_time": "2023-10-02T07:51:20.967Z"
   },
   {
    "duration": 55,
    "start_time": "2023-10-02T07:51:21.017Z"
   },
   {
    "duration": 31,
    "start_time": "2023-10-02T07:51:21.075Z"
   },
   {
    "duration": 70,
    "start_time": "2023-10-02T07:51:21.108Z"
   },
   {
    "duration": 178,
    "start_time": "2023-10-02T07:51:21.181Z"
   },
   {
    "duration": 295,
    "start_time": "2023-10-02T07:51:21.361Z"
   },
   {
    "duration": 9,
    "start_time": "2023-10-02T07:51:21.746Z"
   },
   {
    "duration": 102,
    "start_time": "2023-10-02T07:51:21.757Z"
   },
   {
    "duration": 191,
    "start_time": "2023-10-02T07:51:21.861Z"
   },
   {
    "duration": 101,
    "start_time": "2023-10-02T07:51:22.054Z"
   },
   {
    "duration": 130,
    "start_time": "2023-10-02T07:51:22.160Z"
   },
   {
    "duration": 10,
    "start_time": "2023-10-02T07:52:47.162Z"
   },
   {
    "duration": 14,
    "start_time": "2023-10-02T07:53:17.655Z"
   },
   {
    "duration": 15,
    "start_time": "2023-10-02T07:53:25.678Z"
   },
   {
    "duration": 7,
    "start_time": "2023-10-02T07:53:41.729Z"
   },
   {
    "duration": 15,
    "start_time": "2023-10-02T07:54:04.227Z"
   },
   {
    "duration": 16,
    "start_time": "2023-10-02T07:56:59.150Z"
   },
   {
    "duration": 10,
    "start_time": "2023-10-02T07:57:14.101Z"
   },
   {
    "duration": 17,
    "start_time": "2023-10-02T07:57:16.339Z"
   },
   {
    "duration": 7,
    "start_time": "2023-10-02T07:58:27.205Z"
   },
   {
    "duration": 26,
    "start_time": "2023-10-02T07:58:29.774Z"
   },
   {
    "duration": 7,
    "start_time": "2023-10-02T08:00:53.211Z"
   },
   {
    "duration": 6,
    "start_time": "2023-10-02T08:01:33.663Z"
   },
   {
    "duration": 26,
    "start_time": "2023-10-02T08:01:36.640Z"
   },
   {
    "duration": 8,
    "start_time": "2023-10-02T08:02:43.429Z"
   },
   {
    "duration": 20,
    "start_time": "2023-10-02T08:02:45.901Z"
   },
   {
    "duration": 7,
    "start_time": "2023-10-02T08:03:04.543Z"
   },
   {
    "duration": 32,
    "start_time": "2023-10-02T08:03:09.121Z"
   },
   {
    "duration": 4,
    "start_time": "2023-10-02T08:03:28.482Z"
   },
   {
    "duration": 7,
    "start_time": "2023-10-02T08:03:31.882Z"
   },
   {
    "duration": 45,
    "start_time": "2023-10-02T08:03:33.195Z"
   },
   {
    "duration": 30,
    "start_time": "2023-10-02T08:03:34.401Z"
   },
   {
    "duration": 4,
    "start_time": "2023-10-02T08:04:18.248Z"
   },
   {
    "duration": 9,
    "start_time": "2023-10-02T08:04:20.526Z"
   },
   {
    "duration": 24,
    "start_time": "2023-10-02T08:04:22.910Z"
   },
   {
    "duration": 4,
    "start_time": "2023-10-02T08:05:20.253Z"
   },
   {
    "duration": 21,
    "start_time": "2023-10-02T08:05:20.259Z"
   },
   {
    "duration": 11,
    "start_time": "2023-10-02T08:05:20.283Z"
   },
   {
    "duration": 457,
    "start_time": "2023-10-02T08:05:20.296Z"
   },
   {
    "duration": 14,
    "start_time": "2023-10-02T08:05:20.755Z"
   },
   {
    "duration": 63,
    "start_time": "2023-10-02T08:05:20.770Z"
   },
   {
    "duration": 28,
    "start_time": "2023-10-02T08:05:20.835Z"
   },
   {
    "duration": 138,
    "start_time": "2023-10-02T08:05:20.865Z"
   },
   {
    "duration": 81,
    "start_time": "2023-10-02T08:05:21.004Z"
   },
   {
    "duration": 212,
    "start_time": "2023-10-02T08:05:21.087Z"
   },
   {
    "duration": 113,
    "start_time": "2023-10-02T08:05:21.303Z"
   },
   {
    "duration": 700,
    "start_time": "2023-10-02T08:05:21.418Z"
   },
   {
    "duration": 51,
    "start_time": "2023-10-02T08:05:22.120Z"
   },
   {
    "duration": 15,
    "start_time": "2023-10-02T08:05:22.174Z"
   },
   {
    "duration": 27,
    "start_time": "2023-10-02T08:05:22.192Z"
   },
   {
    "duration": 43,
    "start_time": "2023-10-02T08:05:22.220Z"
   },
   {
    "duration": 52,
    "start_time": "2023-10-02T08:05:22.265Z"
   },
   {
    "duration": 24,
    "start_time": "2023-10-02T08:05:22.319Z"
   },
   {
    "duration": 62,
    "start_time": "2023-10-02T08:05:22.345Z"
   },
   {
    "duration": 64,
    "start_time": "2023-10-02T08:05:22.409Z"
   },
   {
    "duration": 82,
    "start_time": "2023-10-02T08:05:22.475Z"
   },
   {
    "duration": 47,
    "start_time": "2023-10-02T08:05:22.559Z"
   },
   {
    "duration": 23,
    "start_time": "2023-10-02T08:05:22.608Z"
   },
   {
    "duration": 224,
    "start_time": "2023-10-02T08:05:22.633Z"
   },
   {
    "duration": 87,
    "start_time": "2023-10-02T08:05:22.859Z"
   },
   {
    "duration": 98,
    "start_time": "2023-10-02T08:05:22.949Z"
   },
   {
    "duration": 200,
    "start_time": "2023-10-02T08:05:23.049Z"
   },
   {
    "duration": 101,
    "start_time": "2023-10-02T08:05:23.251Z"
   },
   {
    "duration": 158,
    "start_time": "2023-10-02T08:05:23.357Z"
   },
   {
    "duration": 4,
    "start_time": "2023-10-02T08:05:34.758Z"
   },
   {
    "duration": 7,
    "start_time": "2023-10-02T08:05:36.918Z"
   },
   {
    "duration": 35,
    "start_time": "2023-10-02T08:05:38.319Z"
   },
   {
    "duration": 7,
    "start_time": "2023-10-02T08:06:17.539Z"
   },
   {
    "duration": 21,
    "start_time": "2023-10-02T08:06:19.460Z"
   },
   {
    "duration": 7,
    "start_time": "2023-10-02T08:06:29.126Z"
   },
   {
    "duration": 41,
    "start_time": "2023-10-02T08:06:30.772Z"
   },
   {
    "duration": 193,
    "start_time": "2023-10-02T08:06:56.558Z"
   },
   {
    "duration": 8,
    "start_time": "2023-10-02T08:06:59.494Z"
   },
   {
    "duration": 9,
    "start_time": "2023-10-02T08:07:20.712Z"
   },
   {
    "duration": 38,
    "start_time": "2023-10-02T08:07:22.255Z"
   },
   {
    "duration": 6,
    "start_time": "2023-10-02T08:12:15.638Z"
   },
   {
    "duration": 6,
    "start_time": "2023-10-02T08:12:23.359Z"
   },
   {
    "duration": 6,
    "start_time": "2023-10-02T08:12:29.463Z"
   },
   {
    "duration": 10,
    "start_time": "2023-10-02T08:13:00.658Z"
   },
   {
    "duration": 5,
    "start_time": "2023-10-02T08:13:17.052Z"
   },
   {
    "duration": 6,
    "start_time": "2023-10-02T08:13:21.737Z"
   },
   {
    "duration": 7,
    "start_time": "2023-10-02T08:13:38.894Z"
   },
   {
    "duration": 36,
    "start_time": "2023-10-02T08:13:41.528Z"
   },
   {
    "duration": 9,
    "start_time": "2023-10-02T08:15:26.409Z"
   },
   {
    "duration": 6,
    "start_time": "2023-10-02T08:15:31.033Z"
   },
   {
    "duration": 275,
    "start_time": "2023-10-02T08:16:01.373Z"
   },
   {
    "duration": 131,
    "start_time": "2023-10-02T08:16:06.417Z"
   },
   {
    "duration": 4,
    "start_time": "2023-10-02T08:16:09.232Z"
   },
   {
    "duration": 17,
    "start_time": "2023-10-02T08:16:09.238Z"
   },
   {
    "duration": 13,
    "start_time": "2023-10-02T08:16:09.258Z"
   },
   {
    "duration": 431,
    "start_time": "2023-10-02T08:16:09.273Z"
   },
   {
    "duration": 12,
    "start_time": "2023-10-02T08:16:09.707Z"
   },
   {
    "duration": 56,
    "start_time": "2023-10-02T08:16:09.721Z"
   },
   {
    "duration": 31,
    "start_time": "2023-10-02T08:16:09.780Z"
   },
   {
    "duration": 162,
    "start_time": "2023-10-02T08:16:09.813Z"
   },
   {
    "duration": 75,
    "start_time": "2023-10-02T08:16:09.976Z"
   },
   {
    "duration": 175,
    "start_time": "2023-10-02T08:16:10.053Z"
   },
   {
    "duration": 99,
    "start_time": "2023-10-02T08:16:10.231Z"
   },
   {
    "duration": 657,
    "start_time": "2023-10-02T08:16:10.347Z"
   },
   {
    "duration": 48,
    "start_time": "2023-10-02T08:16:11.006Z"
   },
   {
    "duration": 13,
    "start_time": "2023-10-02T08:16:11.056Z"
   },
   {
    "duration": 25,
    "start_time": "2023-10-02T08:16:11.071Z"
   },
   {
    "duration": 11,
    "start_time": "2023-10-02T08:16:11.098Z"
   },
   {
    "duration": 21,
    "start_time": "2023-10-02T08:16:11.111Z"
   },
   {
    "duration": 22,
    "start_time": "2023-10-02T08:16:11.134Z"
   },
   {
    "duration": 27,
    "start_time": "2023-10-02T08:16:11.157Z"
   },
   {
    "duration": 32,
    "start_time": "2023-10-02T08:16:11.186Z"
   },
   {
    "duration": 16,
    "start_time": "2023-10-02T08:16:11.220Z"
   },
   {
    "duration": 32,
    "start_time": "2023-10-02T08:16:11.238Z"
   },
   {
    "duration": 23,
    "start_time": "2023-10-02T08:16:11.271Z"
   },
   {
    "duration": 158,
    "start_time": "2023-10-02T08:16:11.296Z"
   },
   {
    "duration": 6,
    "start_time": "2023-10-02T08:16:11.548Z"
   },
   {
    "duration": 5,
    "start_time": "2023-10-02T08:16:11.646Z"
   },
   {
    "duration": 295,
    "start_time": "2023-10-02T08:16:11.653Z"
   },
   {
    "duration": 96,
    "start_time": "2023-10-02T08:16:11.951Z"
   },
   {
    "duration": 147,
    "start_time": "2023-10-02T08:16:12.053Z"
   },
   {
    "duration": 0,
    "start_time": "2023-10-02T08:16:12.201Z"
   },
   {
    "duration": 0,
    "start_time": "2023-10-02T08:16:12.203Z"
   },
   {
    "duration": 6,
    "start_time": "2023-10-02T08:16:17.156Z"
   },
   {
    "duration": 8,
    "start_time": "2023-10-02T08:16:34.157Z"
   },
   {
    "duration": 42,
    "start_time": "2023-10-02T08:16:41.704Z"
   },
   {
    "duration": 11,
    "start_time": "2023-10-02T08:17:10.462Z"
   },
   {
    "duration": 135,
    "start_time": "2023-10-02T08:17:15.414Z"
   },
   {
    "duration": 7,
    "start_time": "2023-10-02T08:17:21.437Z"
   },
   {
    "duration": 33,
    "start_time": "2023-10-02T08:17:24.364Z"
   },
   {
    "duration": 4,
    "start_time": "2023-10-02T08:17:59.088Z"
   },
   {
    "duration": 7,
    "start_time": "2023-10-02T08:18:01.512Z"
   },
   {
    "duration": 36,
    "start_time": "2023-10-02T08:18:03.215Z"
   },
   {
    "duration": 7,
    "start_time": "2023-10-02T08:19:07.495Z"
   },
   {
    "duration": 3,
    "start_time": "2023-10-02T08:19:09.855Z"
   },
   {
    "duration": 29,
    "start_time": "2023-10-02T08:19:09.862Z"
   },
   {
    "duration": 45,
    "start_time": "2023-10-02T08:19:09.893Z"
   },
   {
    "duration": 469,
    "start_time": "2023-10-02T08:19:09.940Z"
   },
   {
    "duration": 13,
    "start_time": "2023-10-02T08:19:10.411Z"
   },
   {
    "duration": 59,
    "start_time": "2023-10-02T08:19:10.426Z"
   },
   {
    "duration": 25,
    "start_time": "2023-10-02T08:19:10.488Z"
   },
   {
    "duration": 152,
    "start_time": "2023-10-02T08:19:10.515Z"
   },
   {
    "duration": 79,
    "start_time": "2023-10-02T08:19:10.669Z"
   },
   {
    "duration": 177,
    "start_time": "2023-10-02T08:19:10.750Z"
   },
   {
    "duration": 99,
    "start_time": "2023-10-02T08:19:10.929Z"
   },
   {
    "duration": 707,
    "start_time": "2023-10-02T08:19:11.030Z"
   },
   {
    "duration": 35,
    "start_time": "2023-10-02T08:19:11.739Z"
   },
   {
    "duration": 11,
    "start_time": "2023-10-02T08:19:11.776Z"
   },
   {
    "duration": 32,
    "start_time": "2023-10-02T08:19:11.790Z"
   },
   {
    "duration": 16,
    "start_time": "2023-10-02T08:19:11.824Z"
   },
   {
    "duration": 29,
    "start_time": "2023-10-02T08:19:11.842Z"
   },
   {
    "duration": 14,
    "start_time": "2023-10-02T08:19:11.873Z"
   },
   {
    "duration": 12,
    "start_time": "2023-10-02T08:19:11.889Z"
   },
   {
    "duration": 15,
    "start_time": "2023-10-02T08:19:11.903Z"
   },
   {
    "duration": 41,
    "start_time": "2023-10-02T08:19:11.920Z"
   },
   {
    "duration": 40,
    "start_time": "2023-10-02T08:19:11.963Z"
   },
   {
    "duration": 183,
    "start_time": "2023-10-02T08:19:12.004Z"
   },
   {
    "duration": 359,
    "start_time": "2023-10-02T08:19:12.189Z"
   },
   {
    "duration": 96,
    "start_time": "2023-10-02T08:19:12.551Z"
   },
   {
    "duration": 24,
    "start_time": "2023-10-02T08:19:12.649Z"
   },
   {
    "duration": 174,
    "start_time": "2023-10-02T08:19:12.675Z"
   },
   {
    "duration": 96,
    "start_time": "2023-10-02T08:19:12.851Z"
   },
   {
    "duration": 107,
    "start_time": "2023-10-02T08:19:12.950Z"
   },
   {
    "duration": 0,
    "start_time": "2023-10-02T08:19:13.059Z"
   },
   {
    "duration": 0,
    "start_time": "2023-10-02T08:19:13.060Z"
   },
   {
    "duration": 8,
    "start_time": "2023-10-02T08:19:38.112Z"
   },
   {
    "duration": 22,
    "start_time": "2023-10-02T08:19:41.891Z"
   },
   {
    "duration": 3,
    "start_time": "2023-10-02T08:19:47.520Z"
   },
   {
    "duration": 32,
    "start_time": "2023-10-02T08:19:47.525Z"
   },
   {
    "duration": 26,
    "start_time": "2023-10-02T08:19:47.559Z"
   },
   {
    "duration": 410,
    "start_time": "2023-10-02T08:19:47.587Z"
   },
   {
    "duration": 12,
    "start_time": "2023-10-02T08:19:47.999Z"
   },
   {
    "duration": 54,
    "start_time": "2023-10-02T08:19:48.013Z"
   },
   {
    "duration": 26,
    "start_time": "2023-10-02T08:19:48.069Z"
   },
   {
    "duration": 157,
    "start_time": "2023-10-02T08:19:48.097Z"
   },
   {
    "duration": 59,
    "start_time": "2023-10-02T08:19:48.258Z"
   },
   {
    "duration": 183,
    "start_time": "2023-10-02T08:19:48.319Z"
   },
   {
    "duration": 105,
    "start_time": "2023-10-02T08:19:48.504Z"
   },
   {
    "duration": 671,
    "start_time": "2023-10-02T08:19:48.611Z"
   },
   {
    "duration": 30,
    "start_time": "2023-10-02T08:19:49.283Z"
   },
   {
    "duration": 12,
    "start_time": "2023-10-02T08:19:49.315Z"
   },
   {
    "duration": 10,
    "start_time": "2023-10-02T08:19:49.347Z"
   },
   {
    "duration": 17,
    "start_time": "2023-10-02T08:19:49.358Z"
   },
   {
    "duration": 32,
    "start_time": "2023-10-02T08:19:49.377Z"
   },
   {
    "duration": 10,
    "start_time": "2023-10-02T08:19:49.411Z"
   },
   {
    "duration": 27,
    "start_time": "2023-10-02T08:19:49.423Z"
   },
   {
    "duration": 14,
    "start_time": "2023-10-02T08:19:49.451Z"
   },
   {
    "duration": 3,
    "start_time": "2023-10-02T08:19:49.467Z"
   },
   {
    "duration": 27,
    "start_time": "2023-10-02T08:19:49.472Z"
   },
   {
    "duration": 45,
    "start_time": "2023-10-02T08:19:49.501Z"
   },
   {
    "duration": 302,
    "start_time": "2023-10-02T08:19:49.550Z"
   },
   {
    "duration": 96,
    "start_time": "2023-10-02T08:19:49.855Z"
   },
   {
    "duration": 5,
    "start_time": "2023-10-02T08:19:49.952Z"
   },
   {
    "duration": 291,
    "start_time": "2023-10-02T08:19:49.958Z"
   },
   {
    "duration": 95,
    "start_time": "2023-10-02T08:19:50.252Z"
   },
   {
    "duration": 37,
    "start_time": "2023-10-02T08:19:50.349Z"
   },
   {
    "duration": 8,
    "start_time": "2023-10-02T08:20:25.182Z"
   },
   {
    "duration": 28,
    "start_time": "2023-10-02T08:20:31.047Z"
   },
   {
    "duration": 8,
    "start_time": "2023-10-02T08:21:22.149Z"
   },
   {
    "duration": 39,
    "start_time": "2023-10-02T08:21:26.454Z"
   },
   {
    "duration": 7,
    "start_time": "2023-10-02T08:21:55.551Z"
   },
   {
    "duration": 6,
    "start_time": "2023-10-02T08:21:58.944Z"
   },
   {
    "duration": 6,
    "start_time": "2023-10-02T08:22:00.330Z"
   },
   {
    "duration": 7,
    "start_time": "2023-10-02T08:23:01.407Z"
   },
   {
    "duration": 15,
    "start_time": "2023-10-02T08:23:03.646Z"
   },
   {
    "duration": 6,
    "start_time": "2023-10-02T08:23:11.375Z"
   },
   {
    "duration": 25,
    "start_time": "2023-10-02T08:23:13.791Z"
   },
   {
    "duration": 3,
    "start_time": "2023-10-02T08:23:38.770Z"
   },
   {
    "duration": 7,
    "start_time": "2023-10-02T08:23:41.105Z"
   },
   {
    "duration": 19,
    "start_time": "2023-10-02T08:23:43.115Z"
   },
   {
    "duration": 6,
    "start_time": "2023-10-02T08:24:04.613Z"
   },
   {
    "duration": 154,
    "start_time": "2023-10-02T08:24:17.589Z"
   },
   {
    "duration": 7,
    "start_time": "2023-10-02T08:25:14.129Z"
   },
   {
    "duration": 18,
    "start_time": "2023-10-02T08:25:16.178Z"
   },
   {
    "duration": 9,
    "start_time": "2023-10-02T08:25:35.194Z"
   },
   {
    "duration": 38,
    "start_time": "2023-10-02T08:25:37.614Z"
   },
   {
    "duration": 7,
    "start_time": "2023-10-02T08:26:02.201Z"
   },
   {
    "duration": 39,
    "start_time": "2023-10-02T08:26:03.949Z"
   },
   {
    "duration": 8,
    "start_time": "2023-10-02T08:27:20.648Z"
   },
   {
    "duration": 2348,
    "start_time": "2023-10-02T08:27:23.626Z"
   },
   {
    "duration": 4,
    "start_time": "2023-10-02T08:28:24.390Z"
   },
   {
    "duration": 187,
    "start_time": "2023-10-02T08:28:26.565Z"
   },
   {
    "duration": 7,
    "start_time": "2023-10-02T08:28:28.420Z"
   },
   {
    "duration": 4498,
    "start_time": "2023-10-02T08:28:29.870Z"
   },
   {
    "duration": 6,
    "start_time": "2023-10-02T08:29:21.461Z"
   },
   {
    "duration": 4462,
    "start_time": "2023-10-02T08:29:23.777Z"
   },
   {
    "duration": 7,
    "start_time": "2023-10-02T08:29:56.398Z"
   },
   {
    "duration": 4471,
    "start_time": "2023-10-02T08:29:58.573Z"
   },
   {
    "duration": 7,
    "start_time": "2023-10-02T08:30:44.773Z"
   },
   {
    "duration": 4453,
    "start_time": "2023-10-02T08:30:47.271Z"
   },
   {
    "duration": 11,
    "start_time": "2023-10-02T08:31:02.238Z"
   },
   {
    "duration": 129,
    "start_time": "2023-10-02T08:31:57.682Z"
   },
   {
    "duration": 7,
    "start_time": "2023-10-02T08:32:05.804Z"
   },
   {
    "duration": 4445,
    "start_time": "2023-10-02T08:32:08.025Z"
   },
   {
    "duration": 4497,
    "start_time": "2023-10-02T08:43:15.965Z"
   },
   {
    "duration": 4619,
    "start_time": "2023-10-02T08:45:39.098Z"
   },
   {
    "duration": 1656,
    "start_time": "2023-10-02T08:51:05.467Z"
   },
   {
    "duration": 3,
    "start_time": "2023-10-02T08:51:07.126Z"
   },
   {
    "duration": 16,
    "start_time": "2023-10-02T08:51:07.131Z"
   },
   {
    "duration": 458,
    "start_time": "2023-10-02T08:51:07.150Z"
   },
   {
    "duration": 13,
    "start_time": "2023-10-02T08:51:07.610Z"
   },
   {
    "duration": 56,
    "start_time": "2023-10-02T08:51:07.625Z"
   },
   {
    "duration": 24,
    "start_time": "2023-10-02T08:51:07.683Z"
   },
   {
    "duration": 166,
    "start_time": "2023-10-02T08:51:07.708Z"
   },
   {
    "duration": 84,
    "start_time": "2023-10-02T08:51:07.877Z"
   },
   {
    "duration": 213,
    "start_time": "2023-10-02T08:51:07.964Z"
   },
   {
    "duration": 106,
    "start_time": "2023-10-02T08:51:08.179Z"
   },
   {
    "duration": 699,
    "start_time": "2023-10-02T08:51:08.287Z"
   },
   {
    "duration": 33,
    "start_time": "2023-10-02T08:51:08.987Z"
   },
   {
    "duration": 35,
    "start_time": "2023-10-02T08:51:09.022Z"
   },
   {
    "duration": 15,
    "start_time": "2023-10-02T08:51:09.059Z"
   },
   {
    "duration": 34,
    "start_time": "2023-10-02T08:51:09.076Z"
   },
   {
    "duration": 25,
    "start_time": "2023-10-02T08:51:09.112Z"
   },
   {
    "duration": 23,
    "start_time": "2023-10-02T08:51:09.138Z"
   },
   {
    "duration": 34,
    "start_time": "2023-10-02T08:51:09.162Z"
   },
   {
    "duration": 15,
    "start_time": "2023-10-02T08:51:09.197Z"
   },
   {
    "duration": 8,
    "start_time": "2023-10-02T08:51:09.214Z"
   },
   {
    "duration": 150,
    "start_time": "2023-10-02T08:51:09.223Z"
   },
   {
    "duration": 0,
    "start_time": "2023-10-02T08:51:09.374Z"
   },
   {
    "duration": 0,
    "start_time": "2023-10-02T08:51:09.376Z"
   },
   {
    "duration": 0,
    "start_time": "2023-10-02T08:51:09.377Z"
   },
   {
    "duration": 0,
    "start_time": "2023-10-02T08:51:09.378Z"
   },
   {
    "duration": 0,
    "start_time": "2023-10-02T08:51:09.379Z"
   },
   {
    "duration": 0,
    "start_time": "2023-10-02T08:51:09.381Z"
   },
   {
    "duration": 0,
    "start_time": "2023-10-02T08:51:09.382Z"
   },
   {
    "duration": 30,
    "start_time": "2023-10-02T08:52:02.105Z"
   },
   {
    "duration": 1574,
    "start_time": "2023-10-02T08:52:11.459Z"
   },
   {
    "duration": 4,
    "start_time": "2023-10-02T08:52:13.035Z"
   },
   {
    "duration": 62,
    "start_time": "2023-10-02T08:52:13.041Z"
   },
   {
    "duration": 547,
    "start_time": "2023-10-02T08:52:13.105Z"
   },
   {
    "duration": 16,
    "start_time": "2023-10-02T08:52:13.654Z"
   },
   {
    "duration": 103,
    "start_time": "2023-10-02T08:52:13.672Z"
   },
   {
    "duration": 24,
    "start_time": "2023-10-02T08:52:13.777Z"
   },
   {
    "duration": 167,
    "start_time": "2023-10-02T08:52:13.803Z"
   },
   {
    "duration": 85,
    "start_time": "2023-10-02T08:52:13.972Z"
   },
   {
    "duration": 214,
    "start_time": "2023-10-02T08:52:14.061Z"
   },
   {
    "duration": 105,
    "start_time": "2023-10-02T08:52:14.277Z"
   },
   {
    "duration": 679,
    "start_time": "2023-10-02T08:52:14.384Z"
   },
   {
    "duration": 32,
    "start_time": "2023-10-02T08:52:15.065Z"
   },
   {
    "duration": 14,
    "start_time": "2023-10-02T08:52:15.100Z"
   },
   {
    "duration": 47,
    "start_time": "2023-10-02T08:52:15.115Z"
   },
   {
    "duration": 20,
    "start_time": "2023-10-02T08:52:15.163Z"
   },
   {
    "duration": 154,
    "start_time": "2023-10-02T08:52:15.185Z"
   },
   {
    "duration": 85,
    "start_time": "2023-10-02T08:52:15.341Z"
   },
   {
    "duration": 39,
    "start_time": "2023-10-02T08:52:15.429Z"
   },
   {
    "duration": 39,
    "start_time": "2023-10-02T08:52:15.470Z"
   },
   {
    "duration": 9,
    "start_time": "2023-10-02T08:52:15.511Z"
   },
   {
    "duration": 45,
    "start_time": "2023-10-02T08:52:15.522Z"
   },
   {
    "duration": 23,
    "start_time": "2023-10-02T08:52:15.569Z"
   },
   {
    "duration": 279,
    "start_time": "2023-10-02T08:52:15.594Z"
   },
   {
    "duration": 0,
    "start_time": "2023-10-02T08:52:15.875Z"
   },
   {
    "duration": 0,
    "start_time": "2023-10-02T08:52:15.876Z"
   },
   {
    "duration": 0,
    "start_time": "2023-10-02T08:52:15.878Z"
   },
   {
    "duration": 0,
    "start_time": "2023-10-02T08:52:15.879Z"
   },
   {
    "duration": 0,
    "start_time": "2023-10-02T08:52:15.880Z"
   },
   {
    "duration": 159,
    "start_time": "2023-10-02T08:52:34.702Z"
   },
   {
    "duration": 1726,
    "start_time": "2023-10-02T08:52:44.186Z"
   },
   {
    "duration": 4,
    "start_time": "2023-10-02T08:52:45.914Z"
   },
   {
    "duration": 17,
    "start_time": "2023-10-02T08:52:45.920Z"
   },
   {
    "duration": 503,
    "start_time": "2023-10-02T08:52:45.938Z"
   },
   {
    "duration": 28,
    "start_time": "2023-10-02T08:52:46.444Z"
   },
   {
    "duration": 89,
    "start_time": "2023-10-02T08:52:46.474Z"
   },
   {
    "duration": 25,
    "start_time": "2023-10-02T08:52:46.565Z"
   },
   {
    "duration": 150,
    "start_time": "2023-10-02T08:52:46.591Z"
   },
   {
    "duration": 67,
    "start_time": "2023-10-02T08:52:46.748Z"
   },
   {
    "duration": 214,
    "start_time": "2023-10-02T08:52:46.817Z"
   },
   {
    "duration": 103,
    "start_time": "2023-10-02T08:52:47.033Z"
   },
   {
    "duration": 777,
    "start_time": "2023-10-02T08:52:47.138Z"
   },
   {
    "duration": 61,
    "start_time": "2023-10-02T08:52:47.917Z"
   },
   {
    "duration": 13,
    "start_time": "2023-10-02T08:52:47.981Z"
   },
   {
    "duration": 13,
    "start_time": "2023-10-02T08:52:47.995Z"
   },
   {
    "duration": 50,
    "start_time": "2023-10-02T08:52:48.010Z"
   },
   {
    "duration": 19,
    "start_time": "2023-10-02T08:52:48.062Z"
   },
   {
    "duration": 21,
    "start_time": "2023-10-02T08:52:48.083Z"
   },
   {
    "duration": 46,
    "start_time": "2023-10-02T08:52:48.106Z"
   },
   {
    "duration": 20,
    "start_time": "2023-10-02T08:52:48.159Z"
   },
   {
    "duration": 16,
    "start_time": "2023-10-02T08:52:48.181Z"
   },
   {
    "duration": 58,
    "start_time": "2023-10-02T08:52:48.199Z"
   },
   {
    "duration": 21,
    "start_time": "2023-10-02T08:52:48.259Z"
   },
   {
    "duration": 176,
    "start_time": "2023-10-02T08:52:48.282Z"
   },
   {
    "duration": 7,
    "start_time": "2023-10-02T08:52:48.460Z"
   },
   {
    "duration": 180,
    "start_time": "2023-10-02T08:52:48.469Z"
   },
   {
    "duration": 157,
    "start_time": "2023-10-02T08:52:48.650Z"
   },
   {
    "duration": 0,
    "start_time": "2023-10-02T08:52:48.808Z"
   },
   {
    "duration": 0,
    "start_time": "2023-10-02T08:52:48.809Z"
   },
   {
    "duration": 18,
    "start_time": "2023-10-02T08:54:25.776Z"
   },
   {
    "duration": 56,
    "start_time": "2023-10-02T08:55:33.293Z"
   },
   {
    "duration": 250,
    "start_time": "2023-10-02T08:55:49.399Z"
   },
   {
    "duration": 188,
    "start_time": "2023-10-02T08:56:15.169Z"
   },
   {
    "duration": 1549,
    "start_time": "2023-10-02T08:56:23.353Z"
   },
   {
    "duration": 5,
    "start_time": "2023-10-02T08:56:24.904Z"
   },
   {
    "duration": 18,
    "start_time": "2023-10-02T08:56:24.911Z"
   },
   {
    "duration": 512,
    "start_time": "2023-10-02T08:56:24.930Z"
   },
   {
    "duration": 17,
    "start_time": "2023-10-02T08:56:25.447Z"
   },
   {
    "duration": 197,
    "start_time": "2023-10-02T08:56:25.466Z"
   },
   {
    "duration": 24,
    "start_time": "2023-10-02T08:56:25.665Z"
   },
   {
    "duration": 147,
    "start_time": "2023-10-02T08:56:25.691Z"
   },
   {
    "duration": 60,
    "start_time": "2023-10-02T08:56:25.846Z"
   },
   {
    "duration": 226,
    "start_time": "2023-10-02T08:56:25.908Z"
   },
   {
    "duration": 97,
    "start_time": "2023-10-02T08:56:26.136Z"
   },
   {
    "duration": 653,
    "start_time": "2023-10-02T08:56:26.235Z"
   },
   {
    "duration": 32,
    "start_time": "2023-10-02T08:56:26.891Z"
   },
   {
    "duration": 28,
    "start_time": "2023-10-02T08:56:26.927Z"
   },
   {
    "duration": 36,
    "start_time": "2023-10-02T08:56:26.956Z"
   },
   {
    "duration": 35,
    "start_time": "2023-10-02T08:56:26.994Z"
   },
   {
    "duration": 48,
    "start_time": "2023-10-02T08:56:27.031Z"
   },
   {
    "duration": 29,
    "start_time": "2023-10-02T08:56:27.081Z"
   },
   {
    "duration": 31,
    "start_time": "2023-10-02T08:56:27.111Z"
   },
   {
    "duration": 26,
    "start_time": "2023-10-02T08:56:27.144Z"
   },
   {
    "duration": 34,
    "start_time": "2023-10-02T08:56:27.172Z"
   },
   {
    "duration": 47,
    "start_time": "2023-10-02T08:56:27.208Z"
   },
   {
    "duration": 22,
    "start_time": "2023-10-02T08:56:27.257Z"
   },
   {
    "duration": 275,
    "start_time": "2023-10-02T08:56:27.281Z"
   },
   {
    "duration": 6,
    "start_time": "2023-10-02T08:56:27.647Z"
   },
   {
    "duration": 160,
    "start_time": "2023-10-02T08:56:27.656Z"
   },
   {
    "duration": 39,
    "start_time": "2023-10-02T08:56:27.818Z"
   },
   {
    "duration": 4327,
    "start_time": "2023-10-02T08:56:27.859Z"
   }
  ],
  "kernelspec": {
   "display_name": "Python 3 (ipykernel)",
   "language": "python",
   "name": "python3"
  },
  "language_info": {
   "codemirror_mode": {
    "name": "ipython",
    "version": 3
   },
   "file_extension": ".py",
   "mimetype": "text/x-python",
   "name": "python",
   "nbconvert_exporter": "python",
   "pygments_lexer": "ipython3",
   "version": "3.10.13"
  },
  "toc": {
   "base_numbering": 1,
   "nav_menu": {},
   "number_sections": true,
   "sideBar": true,
   "skip_h1_title": true,
   "title_cell": "Table of Contents",
   "title_sidebar": "Contents",
   "toc_cell": false,
   "toc_position": {},
   "toc_section_display": true,
   "toc_window_display": false
  }
 },
 "nbformat": 4,
 "nbformat_minor": 5
}
