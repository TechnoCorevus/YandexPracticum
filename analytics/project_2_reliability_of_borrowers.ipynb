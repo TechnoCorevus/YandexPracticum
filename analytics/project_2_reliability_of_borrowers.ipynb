{
 "cells": [
  {
   "cell_type": "markdown",
   "id": "6d5ac7b0",
   "metadata": {
    "deletable": false,
    "editable": false,
    "id": "c81daeeb"
   },
   "source": [
    "# Исследование надежности заемщиков\n"
   ]
  },
  {
   "cell_type": "markdown",
   "id": "4308b1f3",
   "metadata": {
    "deletable": false,
    "editable": false,
    "id": "827c20bf"
   },
   "source": [
    "Во второй части проекта вы выполните шаги 3 и 4. Их вручную проверит ревьюер.\n",
    "Чтобы вам не пришлось писать код заново для шагов 1 и 2, мы добавили авторские решения в ячейки с кодом. \n",
    "\n"
   ]
  },
  {
   "cell_type": "markdown",
   "id": "5cdcde94",
   "metadata": {
    "deletable": false,
    "editable": false,
    "id": "744d7639"
   },
   "source": [
    "## Откройте таблицу и изучите общую информацию о данных"
   ]
  },
  {
   "cell_type": "markdown",
   "id": "bfc87047",
   "metadata": {
    "deletable": false,
    "editable": false,
    "id": "e7a14c31"
   },
   "source": [
    "**Задание 1. Импортируйте библиотеку pandas. Считайте данные из csv-файла в датафрейм и сохраните в переменную `data`. Путь к файлу:**\n",
    "\n",
    "`/datasets/data.csv`"
   ]
  },
  {
   "cell_type": "code",
   "execution_count": 1,
   "id": "e66c71d3",
   "metadata": {
    "deletable": false,
    "id": "7bcf75c9"
   },
   "outputs": [],
   "source": [
    "import pandas as pd\n",
    "\n",
    "try:\n",
    "    data = pd.read_csv('/datasets/data.csv')\n",
    "except:\n",
    "    data = pd.read_csv('https://code.s3.yandex.net/datasets/data.csv')"
   ]
  },
  {
   "cell_type": "markdown",
   "id": "37a4d323",
   "metadata": {
    "deletable": false,
    "editable": false,
    "id": "b8038fe3"
   },
   "source": [
    "**Задание 2. Выведите первые 20 строчек датафрейма `data` на экран.**"
   ]
  },
  {
   "cell_type": "code",
   "execution_count": 2,
   "id": "032d9998",
   "metadata": {
    "deletable": false,
    "id": "2a7cab99",
    "outputId": "1a8f3ef2-d323-4ec2-ddf7-89670b5944c4"
   },
   "outputs": [
    {
     "data": {
      "text/html": [
       "<div>\n",
       "<style scoped>\n",
       "    .dataframe tbody tr th:only-of-type {\n",
       "        vertical-align: middle;\n",
       "    }\n",
       "\n",
       "    .dataframe tbody tr th {\n",
       "        vertical-align: top;\n",
       "    }\n",
       "\n",
       "    .dataframe thead th {\n",
       "        text-align: right;\n",
       "    }\n",
       "</style>\n",
       "<table border=\"1\" class=\"dataframe\">\n",
       "  <thead>\n",
       "    <tr style=\"text-align: right;\">\n",
       "      <th></th>\n",
       "      <th>children</th>\n",
       "      <th>days_employed</th>\n",
       "      <th>dob_years</th>\n",
       "      <th>education</th>\n",
       "      <th>education_id</th>\n",
       "      <th>family_status</th>\n",
       "      <th>family_status_id</th>\n",
       "      <th>gender</th>\n",
       "      <th>income_type</th>\n",
       "      <th>debt</th>\n",
       "      <th>total_income</th>\n",
       "      <th>purpose</th>\n",
       "    </tr>\n",
       "  </thead>\n",
       "  <tbody>\n",
       "    <tr>\n",
       "      <th>0</th>\n",
       "      <td>1</td>\n",
       "      <td>-8437.673028</td>\n",
       "      <td>42</td>\n",
       "      <td>высшее</td>\n",
       "      <td>0</td>\n",
       "      <td>женат / замужем</td>\n",
       "      <td>0</td>\n",
       "      <td>F</td>\n",
       "      <td>сотрудник</td>\n",
       "      <td>0</td>\n",
       "      <td>253875.639453</td>\n",
       "      <td>покупка жилья</td>\n",
       "    </tr>\n",
       "    <tr>\n",
       "      <th>1</th>\n",
       "      <td>1</td>\n",
       "      <td>-4024.803754</td>\n",
       "      <td>36</td>\n",
       "      <td>среднее</td>\n",
       "      <td>1</td>\n",
       "      <td>женат / замужем</td>\n",
       "      <td>0</td>\n",
       "      <td>F</td>\n",
       "      <td>сотрудник</td>\n",
       "      <td>0</td>\n",
       "      <td>112080.014102</td>\n",
       "      <td>приобретение автомобиля</td>\n",
       "    </tr>\n",
       "    <tr>\n",
       "      <th>2</th>\n",
       "      <td>0</td>\n",
       "      <td>-5623.422610</td>\n",
       "      <td>33</td>\n",
       "      <td>Среднее</td>\n",
       "      <td>1</td>\n",
       "      <td>женат / замужем</td>\n",
       "      <td>0</td>\n",
       "      <td>M</td>\n",
       "      <td>сотрудник</td>\n",
       "      <td>0</td>\n",
       "      <td>145885.952297</td>\n",
       "      <td>покупка жилья</td>\n",
       "    </tr>\n",
       "    <tr>\n",
       "      <th>3</th>\n",
       "      <td>3</td>\n",
       "      <td>-4124.747207</td>\n",
       "      <td>32</td>\n",
       "      <td>среднее</td>\n",
       "      <td>1</td>\n",
       "      <td>женат / замужем</td>\n",
       "      <td>0</td>\n",
       "      <td>M</td>\n",
       "      <td>сотрудник</td>\n",
       "      <td>0</td>\n",
       "      <td>267628.550329</td>\n",
       "      <td>дополнительное образование</td>\n",
       "    </tr>\n",
       "    <tr>\n",
       "      <th>4</th>\n",
       "      <td>0</td>\n",
       "      <td>340266.072047</td>\n",
       "      <td>53</td>\n",
       "      <td>среднее</td>\n",
       "      <td>1</td>\n",
       "      <td>гражданский брак</td>\n",
       "      <td>1</td>\n",
       "      <td>F</td>\n",
       "      <td>пенсионер</td>\n",
       "      <td>0</td>\n",
       "      <td>158616.077870</td>\n",
       "      <td>сыграть свадьбу</td>\n",
       "    </tr>\n",
       "    <tr>\n",
       "      <th>5</th>\n",
       "      <td>0</td>\n",
       "      <td>-926.185831</td>\n",
       "      <td>27</td>\n",
       "      <td>высшее</td>\n",
       "      <td>0</td>\n",
       "      <td>гражданский брак</td>\n",
       "      <td>1</td>\n",
       "      <td>M</td>\n",
       "      <td>компаньон</td>\n",
       "      <td>0</td>\n",
       "      <td>255763.565419</td>\n",
       "      <td>покупка жилья</td>\n",
       "    </tr>\n",
       "    <tr>\n",
       "      <th>6</th>\n",
       "      <td>0</td>\n",
       "      <td>-2879.202052</td>\n",
       "      <td>43</td>\n",
       "      <td>высшее</td>\n",
       "      <td>0</td>\n",
       "      <td>женат / замужем</td>\n",
       "      <td>0</td>\n",
       "      <td>F</td>\n",
       "      <td>компаньон</td>\n",
       "      <td>0</td>\n",
       "      <td>240525.971920</td>\n",
       "      <td>операции с жильем</td>\n",
       "    </tr>\n",
       "    <tr>\n",
       "      <th>7</th>\n",
       "      <td>0</td>\n",
       "      <td>-152.779569</td>\n",
       "      <td>50</td>\n",
       "      <td>СРЕДНЕЕ</td>\n",
       "      <td>1</td>\n",
       "      <td>женат / замужем</td>\n",
       "      <td>0</td>\n",
       "      <td>M</td>\n",
       "      <td>сотрудник</td>\n",
       "      <td>0</td>\n",
       "      <td>135823.934197</td>\n",
       "      <td>образование</td>\n",
       "    </tr>\n",
       "    <tr>\n",
       "      <th>8</th>\n",
       "      <td>2</td>\n",
       "      <td>-6929.865299</td>\n",
       "      <td>35</td>\n",
       "      <td>ВЫСШЕЕ</td>\n",
       "      <td>0</td>\n",
       "      <td>гражданский брак</td>\n",
       "      <td>1</td>\n",
       "      <td>F</td>\n",
       "      <td>сотрудник</td>\n",
       "      <td>0</td>\n",
       "      <td>95856.832424</td>\n",
       "      <td>на проведение свадьбы</td>\n",
       "    </tr>\n",
       "    <tr>\n",
       "      <th>9</th>\n",
       "      <td>0</td>\n",
       "      <td>-2188.756445</td>\n",
       "      <td>41</td>\n",
       "      <td>среднее</td>\n",
       "      <td>1</td>\n",
       "      <td>женат / замужем</td>\n",
       "      <td>0</td>\n",
       "      <td>M</td>\n",
       "      <td>сотрудник</td>\n",
       "      <td>0</td>\n",
       "      <td>144425.938277</td>\n",
       "      <td>покупка жилья для семьи</td>\n",
       "    </tr>\n",
       "    <tr>\n",
       "      <th>10</th>\n",
       "      <td>2</td>\n",
       "      <td>-4171.483647</td>\n",
       "      <td>36</td>\n",
       "      <td>высшее</td>\n",
       "      <td>0</td>\n",
       "      <td>женат / замужем</td>\n",
       "      <td>0</td>\n",
       "      <td>M</td>\n",
       "      <td>компаньон</td>\n",
       "      <td>0</td>\n",
       "      <td>113943.491460</td>\n",
       "      <td>покупка недвижимости</td>\n",
       "    </tr>\n",
       "    <tr>\n",
       "      <th>11</th>\n",
       "      <td>0</td>\n",
       "      <td>-792.701887</td>\n",
       "      <td>40</td>\n",
       "      <td>среднее</td>\n",
       "      <td>1</td>\n",
       "      <td>женат / замужем</td>\n",
       "      <td>0</td>\n",
       "      <td>F</td>\n",
       "      <td>сотрудник</td>\n",
       "      <td>0</td>\n",
       "      <td>77069.234271</td>\n",
       "      <td>покупка коммерческой недвижимости</td>\n",
       "    </tr>\n",
       "    <tr>\n",
       "      <th>12</th>\n",
       "      <td>0</td>\n",
       "      <td>NaN</td>\n",
       "      <td>65</td>\n",
       "      <td>среднее</td>\n",
       "      <td>1</td>\n",
       "      <td>гражданский брак</td>\n",
       "      <td>1</td>\n",
       "      <td>M</td>\n",
       "      <td>пенсионер</td>\n",
       "      <td>0</td>\n",
       "      <td>NaN</td>\n",
       "      <td>сыграть свадьбу</td>\n",
       "    </tr>\n",
       "    <tr>\n",
       "      <th>13</th>\n",
       "      <td>0</td>\n",
       "      <td>-1846.641941</td>\n",
       "      <td>54</td>\n",
       "      <td>неоконченное высшее</td>\n",
       "      <td>2</td>\n",
       "      <td>женат / замужем</td>\n",
       "      <td>0</td>\n",
       "      <td>F</td>\n",
       "      <td>сотрудник</td>\n",
       "      <td>0</td>\n",
       "      <td>130458.228857</td>\n",
       "      <td>приобретение автомобиля</td>\n",
       "    </tr>\n",
       "    <tr>\n",
       "      <th>14</th>\n",
       "      <td>0</td>\n",
       "      <td>-1844.956182</td>\n",
       "      <td>56</td>\n",
       "      <td>высшее</td>\n",
       "      <td>0</td>\n",
       "      <td>гражданский брак</td>\n",
       "      <td>1</td>\n",
       "      <td>F</td>\n",
       "      <td>компаньон</td>\n",
       "      <td>1</td>\n",
       "      <td>165127.911772</td>\n",
       "      <td>покупка жилой недвижимости</td>\n",
       "    </tr>\n",
       "    <tr>\n",
       "      <th>15</th>\n",
       "      <td>1</td>\n",
       "      <td>-972.364419</td>\n",
       "      <td>26</td>\n",
       "      <td>среднее</td>\n",
       "      <td>1</td>\n",
       "      <td>женат / замужем</td>\n",
       "      <td>0</td>\n",
       "      <td>F</td>\n",
       "      <td>сотрудник</td>\n",
       "      <td>0</td>\n",
       "      <td>116820.904450</td>\n",
       "      <td>строительство собственной недвижимости</td>\n",
       "    </tr>\n",
       "    <tr>\n",
       "      <th>16</th>\n",
       "      <td>0</td>\n",
       "      <td>-1719.934226</td>\n",
       "      <td>35</td>\n",
       "      <td>среднее</td>\n",
       "      <td>1</td>\n",
       "      <td>женат / замужем</td>\n",
       "      <td>0</td>\n",
       "      <td>F</td>\n",
       "      <td>сотрудник</td>\n",
       "      <td>0</td>\n",
       "      <td>289202.704229</td>\n",
       "      <td>недвижимость</td>\n",
       "    </tr>\n",
       "    <tr>\n",
       "      <th>17</th>\n",
       "      <td>0</td>\n",
       "      <td>-2369.999720</td>\n",
       "      <td>33</td>\n",
       "      <td>высшее</td>\n",
       "      <td>0</td>\n",
       "      <td>гражданский брак</td>\n",
       "      <td>1</td>\n",
       "      <td>M</td>\n",
       "      <td>сотрудник</td>\n",
       "      <td>0</td>\n",
       "      <td>90410.586745</td>\n",
       "      <td>строительство недвижимости</td>\n",
       "    </tr>\n",
       "    <tr>\n",
       "      <th>18</th>\n",
       "      <td>0</td>\n",
       "      <td>400281.136913</td>\n",
       "      <td>53</td>\n",
       "      <td>среднее</td>\n",
       "      <td>1</td>\n",
       "      <td>вдовец / вдова</td>\n",
       "      <td>2</td>\n",
       "      <td>F</td>\n",
       "      <td>пенсионер</td>\n",
       "      <td>0</td>\n",
       "      <td>56823.777243</td>\n",
       "      <td>на покупку подержанного автомобиля</td>\n",
       "    </tr>\n",
       "    <tr>\n",
       "      <th>19</th>\n",
       "      <td>0</td>\n",
       "      <td>-10038.818549</td>\n",
       "      <td>48</td>\n",
       "      <td>СРЕДНЕЕ</td>\n",
       "      <td>1</td>\n",
       "      <td>в разводе</td>\n",
       "      <td>3</td>\n",
       "      <td>F</td>\n",
       "      <td>сотрудник</td>\n",
       "      <td>0</td>\n",
       "      <td>242831.107982</td>\n",
       "      <td>на покупку своего автомобиля</td>\n",
       "    </tr>\n",
       "  </tbody>\n",
       "</table>\n",
       "</div>"
      ],
      "text/plain": [
       "    children  days_employed  dob_years            education  education_id  \\\n",
       "0          1   -8437.673028         42               высшее             0   \n",
       "1          1   -4024.803754         36              среднее             1   \n",
       "2          0   -5623.422610         33              Среднее             1   \n",
       "3          3   -4124.747207         32              среднее             1   \n",
       "4          0  340266.072047         53              среднее             1   \n",
       "5          0    -926.185831         27               высшее             0   \n",
       "6          0   -2879.202052         43               высшее             0   \n",
       "7          0    -152.779569         50              СРЕДНЕЕ             1   \n",
       "8          2   -6929.865299         35               ВЫСШЕЕ             0   \n",
       "9          0   -2188.756445         41              среднее             1   \n",
       "10         2   -4171.483647         36               высшее             0   \n",
       "11         0    -792.701887         40              среднее             1   \n",
       "12         0            NaN         65              среднее             1   \n",
       "13         0   -1846.641941         54  неоконченное высшее             2   \n",
       "14         0   -1844.956182         56               высшее             0   \n",
       "15         1    -972.364419         26              среднее             1   \n",
       "16         0   -1719.934226         35              среднее             1   \n",
       "17         0   -2369.999720         33               высшее             0   \n",
       "18         0  400281.136913         53              среднее             1   \n",
       "19         0  -10038.818549         48              СРЕДНЕЕ             1   \n",
       "\n",
       "       family_status  family_status_id gender income_type  debt  \\\n",
       "0    женат / замужем                 0      F   сотрудник     0   \n",
       "1    женат / замужем                 0      F   сотрудник     0   \n",
       "2    женат / замужем                 0      M   сотрудник     0   \n",
       "3    женат / замужем                 0      M   сотрудник     0   \n",
       "4   гражданский брак                 1      F   пенсионер     0   \n",
       "5   гражданский брак                 1      M   компаньон     0   \n",
       "6    женат / замужем                 0      F   компаньон     0   \n",
       "7    женат / замужем                 0      M   сотрудник     0   \n",
       "8   гражданский брак                 1      F   сотрудник     0   \n",
       "9    женат / замужем                 0      M   сотрудник     0   \n",
       "10   женат / замужем                 0      M   компаньон     0   \n",
       "11   женат / замужем                 0      F   сотрудник     0   \n",
       "12  гражданский брак                 1      M   пенсионер     0   \n",
       "13   женат / замужем                 0      F   сотрудник     0   \n",
       "14  гражданский брак                 1      F   компаньон     1   \n",
       "15   женат / замужем                 0      F   сотрудник     0   \n",
       "16   женат / замужем                 0      F   сотрудник     0   \n",
       "17  гражданский брак                 1      M   сотрудник     0   \n",
       "18    вдовец / вдова                 2      F   пенсионер     0   \n",
       "19         в разводе                 3      F   сотрудник     0   \n",
       "\n",
       "     total_income                                 purpose  \n",
       "0   253875.639453                           покупка жилья  \n",
       "1   112080.014102                 приобретение автомобиля  \n",
       "2   145885.952297                           покупка жилья  \n",
       "3   267628.550329              дополнительное образование  \n",
       "4   158616.077870                         сыграть свадьбу  \n",
       "5   255763.565419                           покупка жилья  \n",
       "6   240525.971920                       операции с жильем  \n",
       "7   135823.934197                             образование  \n",
       "8    95856.832424                   на проведение свадьбы  \n",
       "9   144425.938277                 покупка жилья для семьи  \n",
       "10  113943.491460                    покупка недвижимости  \n",
       "11   77069.234271       покупка коммерческой недвижимости  \n",
       "12            NaN                         сыграть свадьбу  \n",
       "13  130458.228857                 приобретение автомобиля  \n",
       "14  165127.911772              покупка жилой недвижимости  \n",
       "15  116820.904450  строительство собственной недвижимости  \n",
       "16  289202.704229                            недвижимость  \n",
       "17   90410.586745              строительство недвижимости  \n",
       "18   56823.777243      на покупку подержанного автомобиля  \n",
       "19  242831.107982            на покупку своего автомобиля  "
      ]
     },
     "execution_count": 2,
     "metadata": {},
     "output_type": "execute_result"
    }
   ],
   "source": [
    "data.head(20)"
   ]
  },
  {
   "cell_type": "markdown",
   "id": "18307779",
   "metadata": {
    "deletable": false,
    "editable": false,
    "id": "1c12e233"
   },
   "source": [
    "**Задание 3. Выведите основную информацию о датафрейме с помощью метода `info()`.**"
   ]
  },
  {
   "cell_type": "code",
   "execution_count": 3,
   "id": "1bc1011b",
   "metadata": {
    "deletable": false,
    "id": "2b757bca",
    "outputId": "15376089-8dad-46c9-b520-c05248d43158"
   },
   "outputs": [
    {
     "name": "stdout",
     "output_type": "stream",
     "text": [
      "<class 'pandas.core.frame.DataFrame'>\n",
      "RangeIndex: 21525 entries, 0 to 21524\n",
      "Data columns (total 12 columns):\n",
      " #   Column            Non-Null Count  Dtype  \n",
      "---  ------            --------------  -----  \n",
      " 0   children          21525 non-null  int64  \n",
      " 1   days_employed     19351 non-null  float64\n",
      " 2   dob_years         21525 non-null  int64  \n",
      " 3   education         21525 non-null  object \n",
      " 4   education_id      21525 non-null  int64  \n",
      " 5   family_status     21525 non-null  object \n",
      " 6   family_status_id  21525 non-null  int64  \n",
      " 7   gender            21525 non-null  object \n",
      " 8   income_type       21525 non-null  object \n",
      " 9   debt              21525 non-null  int64  \n",
      " 10  total_income      19351 non-null  float64\n",
      " 11  purpose           21525 non-null  object \n",
      "dtypes: float64(2), int64(5), object(5)\n",
      "memory usage: 2.0+ MB\n"
     ]
    }
   ],
   "source": [
    "data.info()"
   ]
  },
  {
   "cell_type": "markdown",
   "id": "56072e66",
   "metadata": {
    "deletable": false,
    "editable": false,
    "id": "333ec665"
   },
   "source": [
    "## Предобработка данных"
   ]
  },
  {
   "cell_type": "markdown",
   "id": "c874d522",
   "metadata": {
    "deletable": false,
    "editable": false,
    "id": "02d92d53"
   },
   "source": [
    "### Удаление пропусков"
   ]
  },
  {
   "cell_type": "markdown",
   "id": "a755c530",
   "metadata": {
    "deletable": false,
    "editable": false,
    "id": "cd84967c"
   },
   "source": [
    "**Задание 4. Выведите количество пропущенных значений для каждого столбца. Используйте комбинацию двух методов.**"
   ]
  },
  {
   "cell_type": "code",
   "execution_count": 4,
   "id": "ba772ae9",
   "metadata": {
    "deletable": false,
    "id": "7f9b2309",
    "outputId": "81f4d817-781c-465c-ed15-91ce4446810d"
   },
   "outputs": [
    {
     "data": {
      "text/plain": [
       "children               0\n",
       "days_employed       2174\n",
       "dob_years              0\n",
       "education              0\n",
       "education_id           0\n",
       "family_status          0\n",
       "family_status_id       0\n",
       "gender                 0\n",
       "income_type            0\n",
       "debt                   0\n",
       "total_income        2174\n",
       "purpose                0\n",
       "dtype: int64"
      ]
     },
     "execution_count": 4,
     "metadata": {},
     "output_type": "execute_result"
    }
   ],
   "source": [
    "data.isna().sum()"
   ]
  },
  {
   "cell_type": "markdown",
   "id": "506185d9",
   "metadata": {
    "deletable": false,
    "editable": false,
    "id": "db86e27b"
   },
   "source": [
    "**Задание 5. В двух столбцах есть пропущенные значения. Один из них — `days_employed`. Пропуски в этом столбце вы обработаете на следующем этапе. Другой столбец с пропущенными значениями — `total_income` — хранит данные о доходах. На сумму дохода сильнее всего влияет тип занятости, поэтому заполнить пропуски в этом столбце нужно медианным значением по каждому типу из столбца `income_type`. Например, у человека с типом занятости `сотрудник` пропуск в столбце `total_income` должен быть заполнен медианным доходом среди всех записей с тем же типом.**"
   ]
  },
  {
   "cell_type": "code",
   "execution_count": 5,
   "id": "16cc0611",
   "metadata": {
    "deletable": false,
    "id": "42006a93"
   },
   "outputs": [],
   "source": [
    "\n",
    "\n",
    "for t in data['income_type'].unique():\n",
    "    data.loc[(data['income_type'] == t) & (data['total_income'].isna()), 'total_income'] = \\\n",
    "    data.loc[(data['income_type'] == t), 'total_income'].median()"
   ]
  },
  {
   "cell_type": "markdown",
   "id": "badcecdc",
   "metadata": {
    "deletable": false,
    "editable": false,
    "id": "89da5ece"
   },
   "source": [
    "### Обработка аномальных значений"
   ]
  },
  {
   "cell_type": "markdown",
   "id": "410d3204",
   "metadata": {
    "deletable": false,
    "editable": false,
    "id": "57964554"
   },
   "source": [
    "**Задание 6. В данных могут встречаться артефакты (аномалии) — значения, которые не отражают действительность и появились по какой-то ошибке. таким артефактом будет отрицательное количество дней трудового стажа в столбце `days_employed`. Для реальных данных это нормально. Обработайте значения в этом столбце: замените все отрицательные значения положительными с помощью метода `abs()`.**"
   ]
  },
  {
   "cell_type": "code",
   "execution_count": 6,
   "id": "5e8627d0",
   "metadata": {
    "deletable": false,
    "id": "f6f055bf"
   },
   "outputs": [],
   "source": [
    "data['days_employed'] = data['days_employed'].abs()"
   ]
  },
  {
   "cell_type": "markdown",
   "id": "cbd2f787",
   "metadata": {
    "deletable": false,
    "editable": false,
    "id": "6107dd2f"
   },
   "source": [
    "**Задание 7. Для каждого типа занятости выведите медианное значение трудового стажа `days_employed` в днях.**"
   ]
  },
  {
   "cell_type": "code",
   "execution_count": 7,
   "id": "9325f44d",
   "metadata": {
    "deletable": false,
    "id": "85a5faf6",
    "outputId": "801ef80e-522b-4668-f34e-565af7432bcf"
   },
   "outputs": [
    {
     "data": {
      "text/plain": [
       "income_type\n",
       "безработный        366413.652744\n",
       "в декрете            3296.759962\n",
       "госслужащий          2689.368353\n",
       "компаньон            1547.382223\n",
       "пенсионер          365213.306266\n",
       "предприниматель       520.848083\n",
       "сотрудник            1574.202821\n",
       "студент               578.751554\n",
       "Name: days_employed, dtype: float64"
      ]
     },
     "execution_count": 7,
     "metadata": {},
     "output_type": "execute_result"
    }
   ],
   "source": [
    "data.groupby('income_type')['days_employed'].agg('median')"
   ]
  },
  {
   "cell_type": "markdown",
   "id": "506a666d",
   "metadata": {
    "deletable": false,
    "editable": false,
    "id": "38d1a030"
   },
   "source": [
    "У двух типов (безработные и пенсионеры) получатся аномально большие значения. Исправить такие значения сложно, поэтому оставьте их как есть. Тем более этот столбец не понадобится вам для исследования."
   ]
  },
  {
   "cell_type": "markdown",
   "id": "60c9d442",
   "metadata": {
    "deletable": false,
    "editable": false,
    "id": "d8a9f147"
   },
   "source": [
    "**Задание 8. Выведите перечень уникальных значений столбца `children`.**"
   ]
  },
  {
   "cell_type": "code",
   "execution_count": 8,
   "id": "e3ec29f7",
   "metadata": {
    "deletable": false,
    "id": "ef5056eb",
    "outputId": "6975b15c-7f95-4697-d16d-a0c79b657b03"
   },
   "outputs": [
    {
     "data": {
      "text/plain": [
       "array([ 1,  0,  3,  2, -1,  4, 20,  5])"
      ]
     },
     "execution_count": 8,
     "metadata": {},
     "output_type": "execute_result"
    }
   ],
   "source": [
    "data['children'].unique()"
   ]
  },
  {
   "cell_type": "markdown",
   "id": "3e43d2c5",
   "metadata": {
    "deletable": false,
    "editable": false,
    "id": "40b9ebf2"
   },
   "source": [
    "**Задание 9. В столбце `children` есть два аномальных значения. Удалите строки, в которых встречаются такие аномальные значения из датафрейма `data`.**"
   ]
  },
  {
   "cell_type": "code",
   "execution_count": 9,
   "id": "3b2b4989",
   "metadata": {
    "deletable": false,
    "id": "3ff9801d"
   },
   "outputs": [],
   "source": [
    "data = data[(data['children'] != -1) & (data['children'] != 20)]"
   ]
  },
  {
   "cell_type": "markdown",
   "id": "fdd09b55",
   "metadata": {
    "deletable": false,
    "editable": false,
    "id": "bbc4d0ce"
   },
   "source": [
    "**Задание 10. Ещё раз выведите перечень уникальных значений столбца `children`, чтобы убедиться, что артефакты удалены.**"
   ]
  },
  {
   "cell_type": "code",
   "execution_count": 10,
   "id": "d7d8d108",
   "metadata": {
    "deletable": false,
    "id": "ad4fa8b7",
    "outputId": "b2097101-d49d-44d9-901b-32a65c9463d1"
   },
   "outputs": [
    {
     "data": {
      "text/plain": [
       "array([1, 0, 3, 2, 4, 5])"
      ]
     },
     "execution_count": 10,
     "metadata": {},
     "output_type": "execute_result"
    }
   ],
   "source": [
    "data['children'].unique()"
   ]
  },
  {
   "cell_type": "markdown",
   "id": "071db72b",
   "metadata": {
    "deletable": false,
    "editable": false,
    "id": "75440b63"
   },
   "source": [
    "### Удаление пропусков (продолжение)"
   ]
  },
  {
   "cell_type": "markdown",
   "id": "c789530d",
   "metadata": {
    "deletable": false,
    "editable": false,
    "id": "f4ea573f"
   },
   "source": [
    "**Задание 11. Заполните пропуски в столбце `days_employed` медианными значениями по каждого типа занятости `income_type`.**"
   ]
  },
  {
   "cell_type": "code",
   "execution_count": 11,
   "id": "f01975fe",
   "metadata": {
    "deletable": false,
    "id": "af6b1a7e"
   },
   "outputs": [],
   "source": [
    "data['days_employed_mean'] = data['days_employed']\n",
    "\n",
    "for t in data['income_type'].unique():\n",
    "    data.loc[(data['income_type'] == t) & (data['days_employed'].isna()), 'days_employed'] = \\\n",
    "    data.loc[(data['income_type'] == t), 'days_employed'].median()"
   ]
  },
  {
   "cell_type": "markdown",
   "id": "93fe8fd1",
   "metadata": {
    "deletable": false,
    "editable": false,
    "id": "2753f40d"
   },
   "source": [
    "**Задание 12. Убедитесь, что все пропуски заполнены. Проверьте себя и ещё раз выведите количество пропущенных значений для каждого столбца с помощью двух методов.**"
   ]
  },
  {
   "cell_type": "code",
   "execution_count": 12,
   "id": "13188fd2",
   "metadata": {
    "deletable": false,
    "id": "55f78bc2",
    "outputId": "8da1e4e1-358e-4e87-98c9-f261bce0a7b2"
   },
   "outputs": [
    {
     "data": {
      "text/plain": [
       "children                 0\n",
       "days_employed            0\n",
       "dob_years                0\n",
       "education                0\n",
       "education_id             0\n",
       "family_status            0\n",
       "family_status_id         0\n",
       "gender                   0\n",
       "income_type              0\n",
       "debt                     0\n",
       "total_income             0\n",
       "purpose                  0\n",
       "days_employed_mean    2162\n",
       "dtype: int64"
      ]
     },
     "execution_count": 12,
     "metadata": {},
     "output_type": "execute_result"
    }
   ],
   "source": [
    "data.isna().sum()"
   ]
  },
  {
   "cell_type": "markdown",
   "id": "7d763810",
   "metadata": {
    "deletable": false,
    "editable": false,
    "id": "ddc81e43"
   },
   "source": [
    "### Изменение типов данных"
   ]
  },
  {
   "cell_type": "markdown",
   "id": "a740b4d7",
   "metadata": {
    "deletable": false,
    "editable": false,
    "id": "42d19d24"
   },
   "source": [
    "**Задание 13. Замените вещественный тип данных в столбце `total_income` на целочисленный с помощью метода `astype()`.**"
   ]
  },
  {
   "cell_type": "code",
   "execution_count": 13,
   "id": "ef6da3dc",
   "metadata": {
    "deletable": false,
    "id": "920b65ad"
   },
   "outputs": [],
   "source": [
    "data['total_income'] = data['total_income'].astype(int)"
   ]
  },
  {
   "cell_type": "markdown",
   "id": "e3d6d6e1",
   "metadata": {
    "deletable": false,
    "editable": false,
    "id": "80c420ba"
   },
   "source": [
    "### Обработка дубликатов"
   ]
  },
  {
   "cell_type": "markdown",
   "id": "58bbd7aa",
   "metadata": {
    "deletable": false,
    "editable": false
   },
   "source": [
    "**Задание 14. Обработайте неявные дубликаты в столбце `education`. В этом столбце есть одни и те же значения, но записанные по-разному: с использованием заглавных и строчных букв. Приведите их к нижнему регистру. Проверьте остальные столбцы.**"
   ]
  },
  {
   "cell_type": "code",
   "execution_count": 14,
   "id": "17b60c24",
   "metadata": {
    "deletable": false
   },
   "outputs": [],
   "source": [
    "data['education'] = data['education'].str.lower()"
   ]
  },
  {
   "cell_type": "markdown",
   "id": "9389762d",
   "metadata": {
    "deletable": false,
    "editable": false,
    "id": "dc587695"
   },
   "source": [
    "**Задание 15. Выведите на экран количество строк-дубликатов в данных. Если такие строки присутствуют, удалите их.**"
   ]
  },
  {
   "cell_type": "code",
   "execution_count": 15,
   "id": "f9c20b6f",
   "metadata": {
    "deletable": false,
    "id": "3ee445e4",
    "outputId": "9684deba-1934-42d1-99e1-cda61740f822"
   },
   "outputs": [
    {
     "data": {
      "text/plain": [
       "71"
      ]
     },
     "execution_count": 15,
     "metadata": {},
     "output_type": "execute_result"
    }
   ],
   "source": [
    "data.duplicated().sum()"
   ]
  },
  {
   "cell_type": "code",
   "execution_count": 16,
   "id": "f930301e",
   "metadata": {
    "deletable": false,
    "id": "8575fe05"
   },
   "outputs": [],
   "source": [
    "data = data.drop_duplicates()"
   ]
  },
  {
   "cell_type": "markdown",
   "id": "2c793463",
   "metadata": {
    "deletable": false,
    "editable": false,
    "id": "9904cf55"
   },
   "source": [
    "### Категоризация данных"
   ]
  },
  {
   "cell_type": "markdown",
   "id": "cf42623b",
   "metadata": {
    "deletable": false,
    "editable": false,
    "id": "72fcc8a2"
   },
   "source": [
    "**Задание 16. На основании диапазонов, указанных ниже, создайте в датафрейме `data` столбец `total_income_category` с категориями:**\n",
    "\n",
    "- 0–30000 — `'E'`;\n",
    "- 30001–50000 — `'D'`;\n",
    "- 50001–200000 — `'C'`;\n",
    "- 200001–1000000 — `'B'`;\n",
    "- 1000001 и выше — `'A'`.\n",
    "\n",
    "\n",
    "**Например, кредитополучателю с доходом 25000 нужно назначить категорию `'E'`, а клиенту, получающему 235000, — `'B'`. Используйте собственную функцию с именем `categorize_income()` и метод `apply()`.**"
   ]
  },
  {
   "cell_type": "code",
   "execution_count": 17,
   "id": "8cc3517b",
   "metadata": {
    "deletable": false,
    "id": "e1771346"
   },
   "outputs": [],
   "source": [
    "def categorize_income(income):\n",
    "    try:\n",
    "        if 0 <= income <= 30000:\n",
    "            return 'E'\n",
    "        elif 30001 <= income <= 50000:\n",
    "            return 'D'\n",
    "        elif 50001 <= income <= 200000:\n",
    "            return 'C'\n",
    "        elif 200001 <= income <= 1000000:\n",
    "            return 'B'\n",
    "        elif income >= 1000001:\n",
    "            return 'A'\n",
    "    except:\n",
    "        pass"
   ]
  },
  {
   "cell_type": "code",
   "execution_count": 18,
   "id": "896c0799",
   "metadata": {
    "deletable": false,
    "id": "d5f3586d"
   },
   "outputs": [],
   "source": [
    "data['total_income_category'] = data['total_income'].apply(categorize_income)"
   ]
  },
  {
   "cell_type": "markdown",
   "id": "e08cbb61",
   "metadata": {
    "deletable": false,
    "editable": false,
    "id": "dde49b5c"
   },
   "source": [
    "**Задание 17. Выведите на экран перечень уникальных целей взятия кредита из столбца `purpose`.**"
   ]
  },
  {
   "cell_type": "code",
   "execution_count": 19,
   "id": "9daf8a43",
   "metadata": {
    "deletable": false,
    "id": "f67ce9b3",
    "outputId": "673c12d9-7d7e-4ae0-9812-c622c89dd244"
   },
   "outputs": [
    {
     "data": {
      "text/plain": [
       "array(['покупка жилья', 'приобретение автомобиля',\n",
       "       'дополнительное образование', 'сыграть свадьбу',\n",
       "       'операции с жильем', 'образование', 'на проведение свадьбы',\n",
       "       'покупка жилья для семьи', 'покупка недвижимости',\n",
       "       'покупка коммерческой недвижимости', 'покупка жилой недвижимости',\n",
       "       'строительство собственной недвижимости', 'недвижимость',\n",
       "       'строительство недвижимости', 'на покупку подержанного автомобиля',\n",
       "       'на покупку своего автомобиля',\n",
       "       'операции с коммерческой недвижимостью',\n",
       "       'строительство жилой недвижимости', 'жилье',\n",
       "       'операции со своей недвижимостью', 'автомобили',\n",
       "       'заняться образованием', 'сделка с подержанным автомобилем',\n",
       "       'получение образования', 'автомобиль', 'свадьба',\n",
       "       'получение дополнительного образования', 'покупка своего жилья',\n",
       "       'операции с недвижимостью', 'получение высшего образования',\n",
       "       'свой автомобиль', 'сделка с автомобилем',\n",
       "       'профильное образование', 'высшее образование',\n",
       "       'покупка жилья для сдачи', 'на покупку автомобиля', 'ремонт жилью',\n",
       "       'заняться высшим образованием'], dtype=object)"
      ]
     },
     "execution_count": 19,
     "metadata": {},
     "output_type": "execute_result"
    }
   ],
   "source": [
    "data['purpose'].unique()"
   ]
  },
  {
   "cell_type": "markdown",
   "id": "c4fdf669",
   "metadata": {
    "deletable": false,
    "editable": false,
    "id": "85d0aef0"
   },
   "source": [
    "**Задание 18. Создайте функцию, которая на основании данных из столбца `purpose` сформирует новый столбец `purpose_category`, в который войдут следующие категории:**\n",
    "\n",
    "- `'операции с автомобилем'`,\n",
    "- `'операции с недвижимостью'`,\n",
    "- `'проведение свадьбы'`,\n",
    "- `'получение образования'`.\n",
    "\n",
    "**Например, если в столбце `purpose` находится подстрока `'на покупку автомобиля'`, то в столбце `purpose_category` должна появиться строка `'операции с автомобилем'`.**\n",
    "\n",
    "**Используйте собственную функцию с именем `categorize_purpose()` и метод `apply()`. Изучите данные в столбце `purpose` и определите, какие подстроки помогут вам правильно определить категорию.**"
   ]
  },
  {
   "cell_type": "code",
   "execution_count": 20,
   "id": "f898a7b3",
   "metadata": {
    "deletable": false,
    "id": "e149fab4"
   },
   "outputs": [],
   "source": [
    "def categorize_purpose(row):\n",
    "    try:\n",
    "        if 'автом' in row:\n",
    "            return 'операции с автомобилем'\n",
    "        elif 'жил' in row or 'недвиж' in row:\n",
    "            return 'операции с недвижимостью'\n",
    "        elif 'свад' in row:\n",
    "            return 'проведение свадьбы'\n",
    "        elif 'образов' in row:\n",
    "            return 'получение образования'\n",
    "    except:\n",
    "        return 'нет категории'"
   ]
  },
  {
   "cell_type": "code",
   "execution_count": 21,
   "id": "d21cb6c4",
   "metadata": {
    "deletable": false,
    "id": "bf36e69b"
   },
   "outputs": [],
   "source": [
    "data['purpose_category'] = data['purpose'].apply(categorize_purpose)"
   ]
  },
  {
   "cell_type": "markdown",
   "id": "d9aa8d7b",
   "metadata": {
    "deletable": false,
    "editable": false,
    "id": "09b242bf"
   },
   "source": [
    "### Шаг 3. Исследуйте данные и ответьте на вопросы"
   ]
  },
  {
   "cell_type": "markdown",
   "id": "11d8439b",
   "metadata": {
    "deletable": false,
    "editable": false,
    "id": "c5d66278"
   },
   "source": [
    "#### 3.1 Есть ли зависимость между количеством детей и возвратом кредита в срок?"
   ]
  },
  {
   "cell_type": "code",
   "execution_count": 22,
   "id": "5cae49f1",
   "metadata": {
    "deletable": false,
    "id": "2cacfc4a"
   },
   "outputs": [
    {
     "name": "stdout",
     "output_type": "stream",
     "text": [
      "          Всего заёмщиков  Всего должников  Доля должников, %\n",
      "children                                                     \n",
      "0                   14091             1063           7.543822\n",
      "1                    4808              444           9.234609\n",
      "2                    2052              194           9.454191\n",
      "3                     330               27           8.181818\n",
      "4                      41                4           9.756098\n",
      "5                       9                0           0.000000\n"
     ]
    }
   ],
   "source": [
    "# Исследование зависимости между количеством детей у заёмщика и возвратом кредита в срок\n",
    "\n",
    "#print(data.groupby('children')['debt'].mean()*100)\n",
    "\n",
    "aggfunc = pd.DataFrame(columns = ['Всего заёмщиков', 'Всего должников', 'Доля должников, %'])\n",
    "\n",
    "aggfunc['Всего заёмщиков'] = data.groupby('children')['debt'].count()\n",
    "aggfunc['Всего должников'] = data.groupby('children')['debt'].sum()\n",
    "aggfunc['Доля должников, %'] = data.groupby('children')['debt'].mean()*100\n",
    "\n",
    "print(aggfunc)"
   ]
  },
  {
   "cell_type": "code",
   "execution_count": 27,
   "id": "b0aa878b",
   "metadata": {},
   "outputs": [
    {
     "data": {
      "text/html": [
       "<style  type=\"text/css\" >\n",
       "#T_d1beb_row0_col0,#T_d1beb_row0_col1,#T_d1beb_row4_col2{\n",
       "            background-color:  #08306b;\n",
       "            color:  #f1f1f1;\n",
       "        }#T_d1beb_row0_col2{\n",
       "            background-color:  #1c6bb0;\n",
       "            color:  #f1f1f1;\n",
       "        }#T_d1beb_row1_col0{\n",
       "            background-color:  #a9cfe5;\n",
       "            color:  #000000;\n",
       "        }#T_d1beb_row1_col1{\n",
       "            background-color:  #8dc1dd;\n",
       "            color:  #000000;\n",
       "        }#T_d1beb_row1_col2{\n",
       "            background-color:  #083d7f;\n",
       "            color:  #f1f1f1;\n",
       "        }#T_d1beb_row2_col0{\n",
       "            background-color:  #dae8f6;\n",
       "            color:  #000000;\n",
       "        }#T_d1beb_row2_col1{\n",
       "            background-color:  #d3e4f3;\n",
       "            color:  #000000;\n",
       "        }#T_d1beb_row2_col2{\n",
       "            background-color:  #083776;\n",
       "            color:  #f1f1f1;\n",
       "        }#T_d1beb_row3_col0{\n",
       "            background-color:  #f3f8fe;\n",
       "            color:  #000000;\n",
       "        }#T_d1beb_row3_col1{\n",
       "            background-color:  #f2f8fd;\n",
       "            color:  #000000;\n",
       "        }#T_d1beb_row3_col2{\n",
       "            background-color:  #0f5aa3;\n",
       "            color:  #f1f1f1;\n",
       "        }#T_d1beb_row4_col0,#T_d1beb_row4_col1,#T_d1beb_row5_col0,#T_d1beb_row5_col1,#T_d1beb_row5_col2{\n",
       "            background-color:  #f7fbff;\n",
       "            color:  #000000;\n",
       "        }</style><table id=\"T_d1beb_\" ><thead>    <tr>        <th class=\"blank level0\" ></th>        <th class=\"col_heading level0 col0\" >Всего кредитополучателей</th>        <th class=\"col_heading level0 col1\" >Всего должников</th>        <th class=\"col_heading level0 col2\" >Доля должников</th>    </tr>    <tr>        <th class=\"index_name level0\" >children</th>        <th class=\"blank\" ></th>        <th class=\"blank\" ></th>        <th class=\"blank\" ></th>    </tr></thead><tbody>\n",
       "                <tr>\n",
       "                        <th id=\"T_d1beb_level0_row0\" class=\"row_heading level0 row0\" >0</th>\n",
       "                        <td id=\"T_d1beb_row0_col0\" class=\"data row0 col0\" >14091.000</td>\n",
       "                        <td id=\"T_d1beb_row0_col1\" class=\"data row0 col1\" >1063.000</td>\n",
       "                        <td id=\"T_d1beb_row0_col2\" class=\"data row0 col2\" >0.075</td>\n",
       "            </tr>\n",
       "            <tr>\n",
       "                        <th id=\"T_d1beb_level0_row1\" class=\"row_heading level0 row1\" >1</th>\n",
       "                        <td id=\"T_d1beb_row1_col0\" class=\"data row1 col0\" >4808.000</td>\n",
       "                        <td id=\"T_d1beb_row1_col1\" class=\"data row1 col1\" >444.000</td>\n",
       "                        <td id=\"T_d1beb_row1_col2\" class=\"data row1 col2\" >0.092</td>\n",
       "            </tr>\n",
       "            <tr>\n",
       "                        <th id=\"T_d1beb_level0_row2\" class=\"row_heading level0 row2\" >2</th>\n",
       "                        <td id=\"T_d1beb_row2_col0\" class=\"data row2 col0\" >2052.000</td>\n",
       "                        <td id=\"T_d1beb_row2_col1\" class=\"data row2 col1\" >194.000</td>\n",
       "                        <td id=\"T_d1beb_row2_col2\" class=\"data row2 col2\" >0.095</td>\n",
       "            </tr>\n",
       "            <tr>\n",
       "                        <th id=\"T_d1beb_level0_row3\" class=\"row_heading level0 row3\" >3</th>\n",
       "                        <td id=\"T_d1beb_row3_col0\" class=\"data row3 col0\" >330.000</td>\n",
       "                        <td id=\"T_d1beb_row3_col1\" class=\"data row3 col1\" >27.000</td>\n",
       "                        <td id=\"T_d1beb_row3_col2\" class=\"data row3 col2\" >0.082</td>\n",
       "            </tr>\n",
       "            <tr>\n",
       "                        <th id=\"T_d1beb_level0_row4\" class=\"row_heading level0 row4\" >4</th>\n",
       "                        <td id=\"T_d1beb_row4_col0\" class=\"data row4 col0\" >41.000</td>\n",
       "                        <td id=\"T_d1beb_row4_col1\" class=\"data row4 col1\" >4.000</td>\n",
       "                        <td id=\"T_d1beb_row4_col2\" class=\"data row4 col2\" >0.098</td>\n",
       "            </tr>\n",
       "            <tr>\n",
       "                        <th id=\"T_d1beb_level0_row5\" class=\"row_heading level0 row5\" >5</th>\n",
       "                        <td id=\"T_d1beb_row5_col0\" class=\"data row5 col0\" >9.000</td>\n",
       "                        <td id=\"T_d1beb_row5_col1\" class=\"data row5 col1\" >0.000</td>\n",
       "                        <td id=\"T_d1beb_row5_col2\" class=\"data row5 col2\" >0.000</td>\n",
       "            </tr>\n",
       "    </tbody></table>"
      ],
      "text/plain": [
       "<pandas.io.formats.style.Styler at 0x7f5e2d939070>"
      ]
     },
     "metadata": {},
     "output_type": "display_data"
    }
   ],
   "source": [
    "# Создаем копию датасета, что бы не работать с исходным\n",
    "temp = data.copy()\n",
    "# Напишем функцию, так как все задачи аналогичны\n",
    "def que(category):\n",
    "    data_temp = temp.pivot_table(index=category, values='debt', aggfunc=['count', 'sum', 'mean'])\n",
    "    data_temp.columns = ['Всего кредитополучателей', 'Всего должников', 'Доля должников']\n",
    "    # Оформим таблицу цветным градиентом, но можно ее вывести и просто display(data_temp)\n",
    "    display(data_temp.style.format(\"{:.3f}\").background_gradient(cmap='Blues', axis=0))\n",
    "    \n",
    "que('children')"
   ]
  },
  {
   "cell_type": "markdown",
   "id": "ed7600fd",
   "metadata": {
    "deletable": false,
    "id": "3a6b99ec"
   },
   "source": [
    "**Вывод: есть заметная разница по количеству должников при отсуствием детей у заёмщика и при их наличии. Разница между этими значениями составляет более 22%** "
   ]
  },
  {
   "cell_type": "markdown",
   "id": "f40cc534",
   "metadata": {
    "deletable": false,
    "editable": false,
    "id": "97be82ca"
   },
   "source": [
    "#### 3.2 Есть ли зависимость между семейным положением и возвратом кредита в срок?"
   ]
  },
  {
   "cell_type": "code",
   "execution_count": 23,
   "id": "ac69c195",
   "metadata": {
    "deletable": false,
    "id": "dc3f7ee8"
   },
   "outputs": [
    {
     "name": "stdout",
     "output_type": "stream",
     "text": [
      "                       Всего заёмщиков  Всего должников  Доля должников, %\n",
      "family_status                                                             \n",
      "женат / замужем                  12261              927           7.560558\n",
      "гражданский брак                  4134              385           9.313014\n",
      "Не женат / не замужем             2796              273           9.763948\n",
      "в разводе                         1189               84           7.064760\n",
      "вдовец / вдова                     951               63           6.624606\n"
     ]
    }
   ],
   "source": [
    "# Исследование зависимости между семейным положением у заёмщика и возвратом кредита в срок\n",
    "\n",
    "#print(data.groupby('family_status')['debt'].mean()*100)\n",
    "\n",
    "aggfunc = pd.DataFrame(columns = ['Всего заёмщиков', 'Всего должников', 'Доля должников, %'])\n",
    "\n",
    "aggfunc['Всего заёмщиков'] = data.groupby('family_status')['debt'].count()\n",
    "aggfunc['Всего должников'] = data.groupby('family_status')['debt'].sum()\n",
    "aggfunc['Доля должников, %'] = data.groupby('family_status')['debt'].mean()*100\n",
    "\n",
    "print(aggfunc.sort_values(by = 'Всего заёмщиков', ascending = False))"
   ]
  },
  {
   "cell_type": "markdown",
   "id": "69b576d0",
   "metadata": {
    "deletable": false,
    "id": "1cef7837"
   },
   "source": [
    "**Вывод: реже возвращают кредит в срок заёмщики не состоявшие в браке, также находящиеся в гражданском браке. Чаще всего возвращают кредит а срок вдовцы/вдовы** "
   ]
  },
  {
   "cell_type": "markdown",
   "id": "aa49ffdd",
   "metadata": {
    "deletable": false,
    "editable": false,
    "id": "1e8b2fca"
   },
   "source": [
    "#### 3.3 Есть ли зависимость между уровнем дохода и возвратом кредита в срок?"
   ]
  },
  {
   "cell_type": "code",
   "execution_count": 24,
   "id": "60e229f3",
   "metadata": {
    "deletable": false,
    "id": "cd7e3720"
   },
   "outputs": [
    {
     "name": "stdout",
     "output_type": "stream",
     "text": [
      "                       Всего заёмщиков  Всего должников  Доля должников, %\n",
      "total_income_category                                                     \n",
      "C                                15921             1353           8.498210\n",
      "B                                 5014              354           7.060231\n",
      "D                                  349               21           6.017192\n",
      "A                                   25                2           8.000000\n",
      "E                                   22                2           9.090909\n"
     ]
    }
   ],
   "source": [
    "# Исследование зависимости между уровнем дохода у заёмщика и возвратом кредита в срок\n",
    "\n",
    "#print(data.groupby('total_income_category')['debt'].mean()*100)\n",
    "\n",
    "aggfunc = pd.DataFrame(columns = ['Всего заёмщиков', 'Всего должников', 'Доля должников, %'])\n",
    "\n",
    "aggfunc['Всего заёмщиков'] = data.groupby('total_income_category')['debt'].count()\n",
    "aggfunc['Всего должников'] = data.groupby('total_income_category')['debt'].sum()\n",
    "aggfunc['Доля должников, %'] = data.groupby('total_income_category')['debt'].mean()*100\n",
    "\n",
    "print(aggfunc.sort_values(by = 'Всего заёмщиков', ascending = False))"
   ]
  },
  {
   "cell_type": "markdown",
   "id": "c88c7516",
   "metadata": {
    "deletable": false,
    "id": "e8593def"
   },
   "source": [
    "**Вывод: меньше всего заёмщиков из крайних категорий по доходам 'A' и 'E' их суммарная доля от общего количества заёмщиков равна 0,2%. С учётом этих долей максимальное количество должников из категории 'E' и разница между крайними значениями равна 34%. Без учёта категорий 'A' и 'E', максимальное количество должников из категории 'C' и разница между крайними значениями равна 30%.\n",
    "Возмножно, уровень дохода категории 'E' не позволяют обслуживать кредит, а уровень дохода категории 'A' позволяет обходится без заёмных средств** "
   ]
  },
  {
   "cell_type": "markdown",
   "id": "cdbade8f",
   "metadata": {
    "deletable": false,
    "editable": false,
    "id": "99ecbd1f"
   },
   "source": [
    "#### 3.4 Как разные цели кредита влияют на его возврат в срок?"
   ]
  },
  {
   "cell_type": "code",
   "execution_count": 25,
   "id": "51f6531e",
   "metadata": {
    "deletable": false,
    "id": "2b687290"
   },
   "outputs": [
    {
     "name": "stdout",
     "output_type": "stream",
     "text": [
      "                          Всего заёмщиков  Всего должников  Доля должников, %\n",
      "purpose_category                                                             \n",
      "операции с недвижимостью            10751              780           7.255139\n",
      "операции с автомобилем               4279              400           9.347978\n",
      "получение образования                3988              369           9.252758\n",
      "проведение свадьбы                   2313              183           7.911803\n"
     ]
    }
   ],
   "source": [
    "# Исследование зависимости между целью кредита у заёмщика и возвратом кредита в срок\n",
    "\n",
    "#print(data.groupby('purpose_category')['debt'].mean()*100)\n",
    "\n",
    "aggfunc = pd.DataFrame(columns = ['Всего заёмщиков', 'Всего должников', 'Доля должников, %'])\n",
    "\n",
    "aggfunc['Всего заёмщиков'] = data.groupby('purpose_category')['debt'].count()\n",
    "aggfunc['Всего должников'] = data.groupby('purpose_category')['debt'].sum()\n",
    "aggfunc['Доля должников, %'] = data.groupby('purpose_category')['debt'].mean()*100\n",
    "\n",
    "print(aggfunc.sort_values(by = 'Всего заёмщиков', ascending = False))"
   ]
  },
  {
   "cell_type": "markdown",
   "id": "1152609d",
   "metadata": {
    "deletable": false,
    "id": "b4bb2ce6"
   },
   "source": [
    "**Вывод: заёмщики с целями кредита на операции с автомобилем и получение образования реже возвращают кредит в срок** "
   ]
  },
  {
   "cell_type": "markdown",
   "id": "9d5f4772",
   "metadata": {
    "deletable": false,
    "editable": false,
    "id": "09c3ac4c"
   },
   "source": [
    "#### 3.5 Приведите возможные причины появления пропусков в исходных данных."
   ]
  },
  {
   "cell_type": "markdown",
   "id": "18e55de5",
   "metadata": {
    "deletable": false,
    "id": "9da2ceda"
   },
   "source": [
    "*Ответ: пропуски в данном датасете являются случайными в количественных данных, вероятные причины: отсутсвие кредитной истории, неправильное заполнение формы или техический сбой* "
   ]
  },
  {
   "cell_type": "markdown",
   "id": "e89dd559",
   "metadata": {
    "deletable": false,
    "editable": false,
    "id": "7b0487d6"
   },
   "source": [
    "#### 3.6 Объясните, почему заполнить пропуски медианным значением — лучшее решение для количественных переменных."
   ]
  },
  {
   "cell_type": "markdown",
   "id": "6737790f",
   "metadata": {
    "deletable": false,
    "id": "7ecf2b8e"
   },
   "source": [
    "*Ответ: в данном желательно заполнять пропуски медианныи значнием, чтобы избежать искажений из-за большого разброса в размере чисел в количественных переменных* "
   ]
  },
  {
   "cell_type": "code",
   "execution_count": 26,
   "id": "99820866",
   "metadata": {},
   "outputs": [
    {
     "name": "stdout",
     "output_type": "stream",
     "text": [
      "Соотношение медианных значений к средним:\n",
      "income_type\n",
      "безработный        1.000000\n",
      "в декрете          1.000000\n",
      "госслужащий        0.979169\n",
      "компаньон          0.973859\n",
      "пенсионер          1.000072\n",
      "предприниматель    1.000000\n",
      "сотрудник          0.968708\n",
      "студент            1.000000\n",
      "dtype: float64\n"
     ]
    }
   ],
   "source": [
    "\n",
    "for t in data['income_type'].unique():\n",
    "    data.loc[(data['income_type'] == t) & (data['days_employed_mean'].isna()), 'days_employed_mean'] = \\\n",
    "    data.loc[(data['income_type'] == t), 'days_employed_mean'].mean()\n",
    "\n",
    "employed_mean = data.groupby('income_type')['days_employed_mean'].sum().astype('int')\n",
    "employed_median = data.groupby('income_type')['days_employed'].sum().astype('int')\n",
    "    \n",
    "#print(employed_mean)\n",
    "#print(employed_median)\n",
    "print('Соотношение медианных значений к средним:')\n",
    "print(employed_median/employed_mean)\n",
    "    "
   ]
  },
  {
   "cell_type": "markdown",
   "id": "ff228a1a",
   "metadata": {},
   "source": [
    "**В данном случаем сумма средних значений в большинстве случаев на 2% - 3% больше медианных."
   ]
  },
  {
   "cell_type": "code",
   "execution_count": 36,
   "id": "438947b7",
   "metadata": {},
   "outputs": [
    {
     "name": "stdout",
     "output_type": "stream",
     "text": [
      "Среднее 67148.97213258488\n",
      "Медиана 1996.732855437927\n",
      "Во сколько раз среднее превышает медиану 34\n"
     ]
    }
   ],
   "source": [
    "# Комментарий ревьюера 2\n",
    "a, b, = data.days_employed.mean(), data.days_employed.median()\n",
    "print('Среднее', a)\n",
    "print('Медиана', b)\n",
    "print('Во сколько раз среднее превышает медиану', round(a/b))"
   ]
  },
  {
   "cell_type": "markdown",
   "id": "da20bc0c",
   "metadata": {
    "deletable": false,
    "editable": false,
    "id": "6db5255a"
   },
   "source": [
    "### Шаг 4: общий вывод."
   ]
  },
  {
   "cell_type": "markdown",
   "id": "f19bd333",
   "metadata": {
    "deletable": false,
    "id": "bad65432"
   },
   "source": [
    "*Заказачик проекта - кредитный отдел банка.\n",
    "\n",
    "Проект представляет из себя исследование надёжности заёмщиковы зависимости от семейного положения и наличи детей.\n",
    "На вход мы получили данные статистики по платёжеспособности клиентов.\n",
    "\n",
    "Данные сгруппированы по колонкам:\n",
    "children — количество детей в семье\n",
    "days_employed — общий трудовой стаж в днях\n",
    "dob_years — возраст клиента в годах\n",
    "education — уровень образования клиента\n",
    "education_id — идентификатор уровня образования\n",
    "family_status — семейное положение\n",
    "family_status_id — идентификатор семейного положения\n",
    "gender — пол клиента\n",
    "income_type — тип занятости\n",
    "debt — имел ли задолженность по возврату кредитов\n",
    "total_income — ежемесячный доход\n",
    "purpose — цель получения кредита\n",
    "\n",
    "Во время предобрабоки были обнаружены пропуски в данных days_employed и total_income, которые были заменны медианными значениями для своей категории. \n",
    "\n",
    "Далее были обнаружены аномальные значения в данных по days_employed и children. days_employed нам для исследования не нужны и значения оставлены, в данных children аномальные значения обработаны.\n",
    "\n",
    "Удалены найденнные дубликаты.\n",
    "\n",
    "После чего провели категоризацию данных.\n",
    "Были созданы столбецы total_income_category с разделеним по доходу:\n",
    "- 0–30000 — `'E'`;\n",
    "- 30001–50000 — `'D'`;\n",
    "- 50001–200000 — `'C'`;\n",
    "- 200001–1000000 — `'B'`;\n",
    "- 1000001 и выше — `'A'`.\n",
    "\n",
    "и purpose_category с разделением по цели кредита:\n",
    "- `'операции с автомобилем'`,\n",
    "- `'операции с недвижимостью'`,\n",
    "- `'проведение свадьбы'`,\n",
    "- `'получение образования'`.\n",
    "\n",
    "После подготовки данных провели исследования по зависимости надёжности заёмщика в зависимости от разлчных условий.\n",
    "\n",
    "Выяснили что наиболее надёжные заёмщики это люди состоящие в браке в настоящее время, либо состоявщие в браке в прошлом. С доходом от 200 000. Взявшие кредит с целью проведения свадьбы(вероятно второй брак) или операций с недвижимостью, не имеющие детей.\n",
    "\n",
    "Наименее надёжые заёмщики это люди на состоящие в браке и не состоявшие в браке в прошлом. С доходом от 50 000 до 200 000. Взявшие кредит с целью покупи автомобиля или получения образования, имеющие детей.\n",
    "*"
   ]
  }
 ],
 "metadata": {
  "ExecuteTimeLog": [
   {
    "duration": 68,
    "start_time": "2023-07-07T18:09:21.564Z"
   },
   {
    "duration": 520,
    "start_time": "2023-07-07T18:09:44.273Z"
   },
   {
    "duration": 33,
    "start_time": "2023-07-07T18:09:44.795Z"
   },
   {
    "duration": 23,
    "start_time": "2023-07-07T18:09:44.830Z"
   },
   {
    "duration": 11,
    "start_time": "2023-07-07T18:09:44.855Z"
   },
   {
    "duration": 68,
    "start_time": "2023-07-07T18:09:44.870Z"
   },
   {
    "duration": 3,
    "start_time": "2023-07-07T18:09:44.940Z"
   },
   {
    "duration": 11,
    "start_time": "2023-07-07T18:09:44.945Z"
   },
   {
    "duration": 5,
    "start_time": "2023-07-07T18:09:44.958Z"
   },
   {
    "duration": 9,
    "start_time": "2023-07-07T18:09:44.965Z"
   },
   {
    "duration": 5,
    "start_time": "2023-07-07T18:09:44.976Z"
   },
   {
    "duration": 92,
    "start_time": "2023-07-07T18:09:44.982Z"
   },
   {
    "duration": 9,
    "start_time": "2023-07-07T18:09:45.076Z"
   },
   {
    "duration": 14,
    "start_time": "2023-07-07T18:09:45.086Z"
   },
   {
    "duration": 39,
    "start_time": "2023-07-07T18:09:45.102Z"
   },
   {
    "duration": 27,
    "start_time": "2023-07-07T18:09:45.143Z"
   },
   {
    "duration": 17,
    "start_time": "2023-07-07T18:09:45.173Z"
   },
   {
    "duration": 11,
    "start_time": "2023-07-07T18:09:45.192Z"
   },
   {
    "duration": 15,
    "start_time": "2023-07-07T18:09:45.205Z"
   },
   {
    "duration": 15,
    "start_time": "2023-07-07T18:09:45.223Z"
   },
   {
    "duration": 7,
    "start_time": "2023-07-07T18:09:45.240Z"
   },
   {
    "duration": 20,
    "start_time": "2023-07-07T18:09:45.249Z"
   },
   {
    "duration": 18,
    "start_time": "2023-07-07T18:09:45.271Z"
   },
   {
    "duration": 2,
    "start_time": "2023-07-07T18:09:45.291Z"
   },
   {
    "duration": 21,
    "start_time": "2023-07-07T18:09:45.295Z"
   },
   {
    "duration": 9,
    "start_time": "2023-07-07T18:09:45.318Z"
   },
   {
    "duration": 7,
    "start_time": "2023-07-07T18:13:55.561Z"
   },
   {
    "duration": 6,
    "start_time": "2023-07-07T18:14:09.448Z"
   },
   {
    "duration": 7,
    "start_time": "2023-07-07T18:14:18.422Z"
   },
   {
    "duration": 6,
    "start_time": "2023-07-07T18:14:37.607Z"
   },
   {
    "duration": 6,
    "start_time": "2023-07-07T18:19:02.778Z"
   },
   {
    "duration": 8,
    "start_time": "2023-07-07T18:19:09.853Z"
   },
   {
    "duration": 6,
    "start_time": "2023-07-07T18:19:16.586Z"
   },
   {
    "duration": 5,
    "start_time": "2023-07-07T18:19:28.750Z"
   },
   {
    "duration": 8,
    "start_time": "2023-07-07T18:35:49.380Z"
   },
   {
    "duration": 7,
    "start_time": "2023-07-07T18:40:17.499Z"
   },
   {
    "duration": 10,
    "start_time": "2023-07-07T18:44:28.257Z"
   },
   {
    "duration": 40,
    "start_time": "2023-07-07T18:57:02.243Z"
   },
   {
    "duration": 19,
    "start_time": "2023-07-07T18:57:09.621Z"
   },
   {
    "duration": 14,
    "start_time": "2023-07-07T18:58:06.989Z"
   },
   {
    "duration": 9,
    "start_time": "2023-07-07T18:58:33.972Z"
   },
   {
    "duration": 26,
    "start_time": "2023-07-07T18:58:47.863Z"
   },
   {
    "duration": 8,
    "start_time": "2023-07-07T18:58:53.987Z"
   },
   {
    "duration": 7,
    "start_time": "2023-07-07T19:01:40.235Z"
   },
   {
    "duration": 9,
    "start_time": "2023-07-07T19:02:28.936Z"
   },
   {
    "duration": 15,
    "start_time": "2023-07-07T19:03:53.821Z"
   },
   {
    "duration": 33,
    "start_time": "2023-07-07T19:04:53.092Z"
   },
   {
    "duration": 8,
    "start_time": "2023-07-07T19:05:15.816Z"
   },
   {
    "duration": 8,
    "start_time": "2023-07-07T19:05:22.509Z"
   },
   {
    "duration": 8,
    "start_time": "2023-07-07T19:05:30.874Z"
   },
   {
    "duration": 8,
    "start_time": "2023-07-07T19:05:40.658Z"
   },
   {
    "duration": 113,
    "start_time": "2023-07-07T19:05:51.695Z"
   },
   {
    "duration": 9,
    "start_time": "2023-07-07T19:05:58.910Z"
   },
   {
    "duration": 1635,
    "start_time": "2023-07-07T19:09:10.498Z"
   },
   {
    "duration": 27,
    "start_time": "2023-07-07T19:09:43.653Z"
   },
   {
    "duration": 10,
    "start_time": "2023-07-07T19:10:08.478Z"
   },
   {
    "duration": 8,
    "start_time": "2023-07-07T19:15:26.417Z"
   },
   {
    "duration": 8,
    "start_time": "2023-07-07T19:15:28.914Z"
   },
   {
    "duration": 9,
    "start_time": "2023-07-07T19:15:41.964Z"
   },
   {
    "duration": 516,
    "start_time": "2023-07-07T19:34:18.067Z"
   },
   {
    "duration": 24,
    "start_time": "2023-07-07T19:34:18.585Z"
   },
   {
    "duration": 16,
    "start_time": "2023-07-07T19:34:18.611Z"
   },
   {
    "duration": 9,
    "start_time": "2023-07-07T19:34:18.629Z"
   },
   {
    "duration": 53,
    "start_time": "2023-07-07T19:34:18.641Z"
   },
   {
    "duration": 3,
    "start_time": "2023-07-07T19:34:18.696Z"
   },
   {
    "duration": 9,
    "start_time": "2023-07-07T19:34:18.701Z"
   },
   {
    "duration": 4,
    "start_time": "2023-07-07T19:34:18.711Z"
   },
   {
    "duration": 9,
    "start_time": "2023-07-07T19:34:18.716Z"
   },
   {
    "duration": 4,
    "start_time": "2023-07-07T19:34:18.727Z"
   },
   {
    "duration": 61,
    "start_time": "2023-07-07T19:34:18.732Z"
   },
   {
    "duration": 9,
    "start_time": "2023-07-07T19:34:18.794Z"
   },
   {
    "duration": 3,
    "start_time": "2023-07-07T19:34:18.805Z"
   },
   {
    "duration": 13,
    "start_time": "2023-07-07T19:34:18.810Z"
   },
   {
    "duration": 28,
    "start_time": "2023-07-07T19:34:18.824Z"
   },
   {
    "duration": 29,
    "start_time": "2023-07-07T19:34:18.853Z"
   },
   {
    "duration": 4,
    "start_time": "2023-07-07T19:34:18.883Z"
   },
   {
    "duration": 19,
    "start_time": "2023-07-07T19:34:18.889Z"
   },
   {
    "duration": 12,
    "start_time": "2023-07-07T19:34:18.909Z"
   },
   {
    "duration": 4,
    "start_time": "2023-07-07T19:34:18.922Z"
   },
   {
    "duration": 11,
    "start_time": "2023-07-07T19:34:18.927Z"
   },
   {
    "duration": 7,
    "start_time": "2023-07-07T19:34:18.939Z"
   },
   {
    "duration": 28,
    "start_time": "2023-07-07T19:34:18.947Z"
   },
   {
    "duration": 7,
    "start_time": "2023-07-07T19:34:18.976Z"
   },
   {
    "duration": 8,
    "start_time": "2023-07-07T19:34:18.984Z"
   },
   {
    "duration": 519,
    "start_time": "2023-07-08T05:13:21.313Z"
   },
   {
    "duration": 22,
    "start_time": "2023-07-08T05:13:21.833Z"
   },
   {
    "duration": 15,
    "start_time": "2023-07-08T05:13:21.856Z"
   },
   {
    "duration": 10,
    "start_time": "2023-07-08T05:13:21.872Z"
   },
   {
    "duration": 33,
    "start_time": "2023-07-08T05:13:21.884Z"
   },
   {
    "duration": 4,
    "start_time": "2023-07-08T05:13:21.918Z"
   },
   {
    "duration": 12,
    "start_time": "2023-07-08T05:13:21.923Z"
   },
   {
    "duration": 4,
    "start_time": "2023-07-08T05:13:21.937Z"
   },
   {
    "duration": 31,
    "start_time": "2023-07-08T05:13:21.943Z"
   },
   {
    "duration": 6,
    "start_time": "2023-07-08T05:13:21.976Z"
   },
   {
    "duration": 36,
    "start_time": "2023-07-08T05:13:21.984Z"
   },
   {
    "duration": 10,
    "start_time": "2023-07-08T05:13:22.021Z"
   },
   {
    "duration": 6,
    "start_time": "2023-07-08T05:13:22.032Z"
   },
   {
    "duration": 35,
    "start_time": "2023-07-08T05:13:22.040Z"
   },
   {
    "duration": 18,
    "start_time": "2023-07-08T05:13:22.077Z"
   },
   {
    "duration": 15,
    "start_time": "2023-07-08T05:13:22.096Z"
   },
   {
    "duration": 3,
    "start_time": "2023-07-08T05:13:22.113Z"
   },
   {
    "duration": 11,
    "start_time": "2023-07-08T05:13:22.118Z"
   },
   {
    "duration": 5,
    "start_time": "2023-07-08T05:13:22.130Z"
   },
   {
    "duration": 32,
    "start_time": "2023-07-08T05:13:22.136Z"
   },
   {
    "duration": 8,
    "start_time": "2023-07-08T05:13:22.170Z"
   },
   {
    "duration": 15,
    "start_time": "2023-07-08T05:13:22.180Z"
   },
   {
    "duration": 10,
    "start_time": "2023-07-08T05:13:22.196Z"
   },
   {
    "duration": 7,
    "start_time": "2023-07-08T05:13:22.208Z"
   },
   {
    "duration": 9,
    "start_time": "2023-07-08T05:13:22.216Z"
   },
   {
    "duration": 59,
    "start_time": "2023-07-08T05:20:02.274Z"
   },
   {
    "duration": 7,
    "start_time": "2023-07-08T05:24:32.967Z"
   },
   {
    "duration": 7,
    "start_time": "2023-07-08T05:24:54.518Z"
   },
   {
    "duration": 17,
    "start_time": "2023-07-08T05:28:04.356Z"
   },
   {
    "duration": 15,
    "start_time": "2023-07-08T05:29:56.241Z"
   },
   {
    "duration": 15,
    "start_time": "2023-07-08T05:30:18.311Z"
   },
   {
    "duration": 12,
    "start_time": "2023-07-08T05:30:29.230Z"
   },
   {
    "duration": 18,
    "start_time": "2023-07-08T05:38:11.511Z"
   },
   {
    "duration": 22,
    "start_time": "2023-07-08T05:38:46.691Z"
   },
   {
    "duration": 29,
    "start_time": "2023-07-08T05:39:30.430Z"
   },
   {
    "duration": 17,
    "start_time": "2023-07-08T05:39:34.912Z"
   },
   {
    "duration": 20,
    "start_time": "2023-07-08T05:40:12.125Z"
   },
   {
    "duration": 16,
    "start_time": "2023-07-08T05:41:10.749Z"
   },
   {
    "duration": 15,
    "start_time": "2023-07-08T05:43:42.542Z"
   },
   {
    "duration": 82,
    "start_time": "2023-07-08T06:01:34.012Z"
   },
   {
    "duration": 20,
    "start_time": "2023-07-08T06:01:34.097Z"
   },
   {
    "duration": 21,
    "start_time": "2023-07-08T06:01:34.119Z"
   },
   {
    "duration": 33,
    "start_time": "2023-07-08T06:01:34.142Z"
   },
   {
    "duration": 49,
    "start_time": "2023-07-08T06:01:34.178Z"
   },
   {
    "duration": 4,
    "start_time": "2023-07-08T06:01:34.229Z"
   },
   {
    "duration": 10,
    "start_time": "2023-07-08T06:01:34.235Z"
   },
   {
    "duration": 6,
    "start_time": "2023-07-08T06:01:34.269Z"
   },
   {
    "duration": 7,
    "start_time": "2023-07-08T06:01:34.277Z"
   },
   {
    "duration": 6,
    "start_time": "2023-07-08T06:01:34.286Z"
   },
   {
    "duration": 35,
    "start_time": "2023-07-08T06:01:34.294Z"
   },
   {
    "duration": 39,
    "start_time": "2023-07-08T06:01:34.330Z"
   },
   {
    "duration": 4,
    "start_time": "2023-07-08T06:01:34.371Z"
   },
   {
    "duration": 14,
    "start_time": "2023-07-08T06:01:34.378Z"
   },
   {
    "duration": 27,
    "start_time": "2023-07-08T06:01:34.394Z"
   },
   {
    "duration": 62,
    "start_time": "2023-07-08T06:01:34.423Z"
   },
   {
    "duration": 4,
    "start_time": "2023-07-08T06:01:34.487Z"
   },
   {
    "duration": 26,
    "start_time": "2023-07-08T06:01:34.493Z"
   },
   {
    "duration": 13,
    "start_time": "2023-07-08T06:01:34.521Z"
   },
   {
    "duration": 12,
    "start_time": "2023-07-08T06:01:34.536Z"
   },
   {
    "duration": 33,
    "start_time": "2023-07-08T06:01:34.549Z"
   },
   {
    "duration": 27,
    "start_time": "2023-07-08T06:01:34.584Z"
   },
   {
    "duration": 23,
    "start_time": "2023-07-08T06:01:34.612Z"
   },
   {
    "duration": 17,
    "start_time": "2023-07-08T06:01:34.637Z"
   },
   {
    "duration": 21,
    "start_time": "2023-07-08T06:01:34.656Z"
   },
   {
    "duration": 24,
    "start_time": "2023-07-08T06:10:06.849Z"
   },
   {
    "duration": 1469,
    "start_time": "2023-07-08T06:53:21.890Z"
   },
   {
    "duration": 41,
    "start_time": "2023-07-08T06:54:04.881Z"
   },
   {
    "duration": 4,
    "start_time": "2023-07-08T06:55:28.566Z"
   },
   {
    "duration": 342,
    "start_time": "2023-07-08T06:55:33.125Z"
   },
   {
    "duration": 52,
    "start_time": "2023-07-08T06:56:02.474Z"
   },
   {
    "duration": 50,
    "start_time": "2023-07-08T06:57:33.981Z"
   },
   {
    "duration": 1445,
    "start_time": "2023-07-08T06:58:21.785Z"
   },
   {
    "duration": 1619,
    "start_time": "2023-07-08T06:58:54.650Z"
   },
   {
    "duration": 1266,
    "start_time": "2023-07-08T06:59:17.879Z"
   },
   {
    "duration": 39,
    "start_time": "2023-07-08T06:59:59.635Z"
   },
   {
    "duration": 114,
    "start_time": "2023-07-08T07:00:40.207Z"
   },
   {
    "duration": 72,
    "start_time": "2023-07-08T07:00:54.753Z"
   },
   {
    "duration": 16,
    "start_time": "2023-07-08T07:00:54.828Z"
   },
   {
    "duration": 36,
    "start_time": "2023-07-08T07:00:54.845Z"
   },
   {
    "duration": 11,
    "start_time": "2023-07-08T07:00:54.883Z"
   },
   {
    "duration": 45,
    "start_time": "2023-07-08T07:00:54.895Z"
   },
   {
    "duration": 27,
    "start_time": "2023-07-08T07:00:54.942Z"
   },
   {
    "duration": 20,
    "start_time": "2023-07-08T07:00:54.971Z"
   },
   {
    "duration": 5,
    "start_time": "2023-07-08T07:00:54.992Z"
   },
   {
    "duration": 16,
    "start_time": "2023-07-08T07:00:54.999Z"
   },
   {
    "duration": 21,
    "start_time": "2023-07-08T07:00:55.019Z"
   },
   {
    "duration": 65,
    "start_time": "2023-07-08T07:00:55.043Z"
   },
   {
    "duration": 11,
    "start_time": "2023-07-08T07:00:55.110Z"
   },
   {
    "duration": 12,
    "start_time": "2023-07-08T07:00:55.123Z"
   },
   {
    "duration": 31,
    "start_time": "2023-07-08T07:00:55.137Z"
   },
   {
    "duration": 30,
    "start_time": "2023-07-08T07:00:55.171Z"
   },
   {
    "duration": 28,
    "start_time": "2023-07-08T07:00:55.204Z"
   },
   {
    "duration": 6,
    "start_time": "2023-07-08T07:00:55.234Z"
   },
   {
    "duration": 41,
    "start_time": "2023-07-08T07:00:55.242Z"
   },
   {
    "duration": 8,
    "start_time": "2023-07-08T07:00:55.285Z"
   },
   {
    "duration": 5,
    "start_time": "2023-07-08T07:00:55.295Z"
   },
   {
    "duration": 30,
    "start_time": "2023-07-08T07:00:55.301Z"
   },
   {
    "duration": 22,
    "start_time": "2023-07-08T07:00:55.333Z"
   },
   {
    "duration": 30,
    "start_time": "2023-07-08T07:00:55.357Z"
   },
   {
    "duration": 24,
    "start_time": "2023-07-08T07:00:55.388Z"
   },
   {
    "duration": 35,
    "start_time": "2023-07-08T07:00:55.414Z"
   },
   {
    "duration": 82,
    "start_time": "2023-07-08T07:00:55.468Z"
   },
   {
    "duration": 48,
    "start_time": "2023-07-08T07:01:03.107Z"
   },
   {
    "duration": 36,
    "start_time": "2023-07-08T07:01:20.757Z"
   },
   {
    "duration": 60,
    "start_time": "2023-07-08T07:02:39.056Z"
   },
   {
    "duration": 64,
    "start_time": "2023-07-08T07:02:47.843Z"
   },
   {
    "duration": 86,
    "start_time": "2023-07-08T07:04:00.566Z"
   },
   {
    "duration": 38,
    "start_time": "2023-07-08T07:05:04.205Z"
   },
   {
    "duration": 47,
    "start_time": "2023-07-08T07:05:13.210Z"
   },
   {
    "duration": 59,
    "start_time": "2023-07-08T07:05:48.590Z"
   },
   {
    "duration": 96,
    "start_time": "2023-07-08T07:06:14.790Z"
   },
   {
    "duration": 16,
    "start_time": "2023-07-08T07:06:14.891Z"
   },
   {
    "duration": 16,
    "start_time": "2023-07-08T07:06:14.909Z"
   },
   {
    "duration": 21,
    "start_time": "2023-07-08T07:06:14.927Z"
   },
   {
    "duration": 75,
    "start_time": "2023-07-08T07:06:14.950Z"
   },
   {
    "duration": 23,
    "start_time": "2023-07-08T07:06:15.028Z"
   },
   {
    "duration": 55,
    "start_time": "2023-07-08T07:06:15.053Z"
   },
   {
    "duration": 7,
    "start_time": "2023-07-08T07:06:15.110Z"
   },
   {
    "duration": 20,
    "start_time": "2023-07-08T07:06:15.119Z"
   },
   {
    "duration": 18,
    "start_time": "2023-07-08T07:06:15.143Z"
   },
   {
    "duration": 72,
    "start_time": "2023-07-08T07:06:15.164Z"
   },
   {
    "duration": 17,
    "start_time": "2023-07-08T07:06:15.238Z"
   },
   {
    "duration": 5,
    "start_time": "2023-07-08T07:06:15.257Z"
   },
   {
    "duration": 27,
    "start_time": "2023-07-08T07:06:15.264Z"
   },
   {
    "duration": 34,
    "start_time": "2023-07-08T07:06:15.293Z"
   },
   {
    "duration": 18,
    "start_time": "2023-07-08T07:06:15.329Z"
   },
   {
    "duration": 4,
    "start_time": "2023-07-08T07:06:15.349Z"
   },
   {
    "duration": 44,
    "start_time": "2023-07-08T07:06:15.355Z"
   },
   {
    "duration": 13,
    "start_time": "2023-07-08T07:06:15.406Z"
   },
   {
    "duration": 16,
    "start_time": "2023-07-08T07:06:15.421Z"
   },
   {
    "duration": 26,
    "start_time": "2023-07-08T07:06:15.439Z"
   },
   {
    "duration": 45,
    "start_time": "2023-07-08T07:06:15.468Z"
   },
   {
    "duration": 24,
    "start_time": "2023-07-08T07:06:15.515Z"
   },
   {
    "duration": 24,
    "start_time": "2023-07-08T07:06:15.541Z"
   },
   {
    "duration": 32,
    "start_time": "2023-07-08T07:06:15.567Z"
   },
   {
    "duration": 75,
    "start_time": "2023-07-08T07:06:15.600Z"
   },
   {
    "duration": 56,
    "start_time": "2023-07-08T07:07:45.865Z"
   },
   {
    "duration": 66,
    "start_time": "2023-07-08T07:08:44.028Z"
   },
   {
    "duration": 44,
    "start_time": "2023-07-08T07:08:54.410Z"
   },
   {
    "duration": 62,
    "start_time": "2023-07-08T07:09:25.747Z"
   },
   {
    "duration": 48,
    "start_time": "2023-07-08T07:09:47.600Z"
   },
   {
    "duration": 36,
    "start_time": "2023-07-08T07:10:11.691Z"
   },
   {
    "duration": 55,
    "start_time": "2023-07-08T07:11:13.645Z"
   },
   {
    "duration": 528,
    "start_time": "2023-07-08T12:07:40.806Z"
   },
   {
    "duration": 24,
    "start_time": "2023-07-08T12:07:41.336Z"
   },
   {
    "duration": 17,
    "start_time": "2023-07-08T12:07:41.362Z"
   },
   {
    "duration": 12,
    "start_time": "2023-07-08T12:07:41.381Z"
   },
   {
    "duration": 65,
    "start_time": "2023-07-08T12:07:41.396Z"
   },
   {
    "duration": 4,
    "start_time": "2023-07-08T12:07:41.463Z"
   },
   {
    "duration": 16,
    "start_time": "2023-07-08T12:07:41.469Z"
   },
   {
    "duration": 4,
    "start_time": "2023-07-08T12:07:41.487Z"
   },
   {
    "duration": 10,
    "start_time": "2023-07-08T12:07:41.493Z"
   },
   {
    "duration": 6,
    "start_time": "2023-07-08T12:07:41.504Z"
   },
   {
    "duration": 61,
    "start_time": "2023-07-08T12:07:41.512Z"
   },
   {
    "duration": 11,
    "start_time": "2023-07-08T12:07:41.575Z"
   },
   {
    "duration": 4,
    "start_time": "2023-07-08T12:07:41.588Z"
   },
   {
    "duration": 11,
    "start_time": "2023-07-08T12:07:41.596Z"
   },
   {
    "duration": 52,
    "start_time": "2023-07-08T12:07:41.608Z"
   },
   {
    "duration": 24,
    "start_time": "2023-07-08T12:07:41.662Z"
   },
   {
    "duration": 4,
    "start_time": "2023-07-08T12:07:41.687Z"
   },
   {
    "duration": 12,
    "start_time": "2023-07-08T12:07:41.692Z"
   },
   {
    "duration": 6,
    "start_time": "2023-07-08T12:07:41.705Z"
   },
   {
    "duration": 3,
    "start_time": "2023-07-08T12:07:41.712Z"
   },
   {
    "duration": 39,
    "start_time": "2023-07-08T12:07:41.717Z"
   },
   {
    "duration": 15,
    "start_time": "2023-07-08T12:07:41.758Z"
   },
   {
    "duration": 17,
    "start_time": "2023-07-08T12:07:41.775Z"
   },
   {
    "duration": 15,
    "start_time": "2023-07-08T12:07:41.794Z"
   },
   {
    "duration": 46,
    "start_time": "2023-07-08T12:07:41.811Z"
   },
   {
    "duration": 43,
    "start_time": "2023-07-08T12:07:41.859Z"
   },
   {
    "duration": 78,
    "start_time": "2023-07-08T12:10:49.012Z"
   },
   {
    "duration": 16,
    "start_time": "2023-07-08T12:10:49.092Z"
   },
   {
    "duration": 15,
    "start_time": "2023-07-08T12:10:49.110Z"
   },
   {
    "duration": 35,
    "start_time": "2023-07-08T12:10:49.127Z"
   },
   {
    "duration": 35,
    "start_time": "2023-07-08T12:10:49.164Z"
   },
   {
    "duration": 3,
    "start_time": "2023-07-08T12:10:49.200Z"
   },
   {
    "duration": 10,
    "start_time": "2023-07-08T12:10:49.204Z"
   },
   {
    "duration": 4,
    "start_time": "2023-07-08T12:10:49.216Z"
   },
   {
    "duration": 36,
    "start_time": "2023-07-08T12:10:49.221Z"
   },
   {
    "duration": 5,
    "start_time": "2023-07-08T12:10:49.259Z"
   },
   {
    "duration": 39,
    "start_time": "2023-07-08T12:10:49.265Z"
   },
   {
    "duration": 11,
    "start_time": "2023-07-08T12:10:49.306Z"
   },
   {
    "duration": 4,
    "start_time": "2023-07-08T12:10:49.319Z"
   },
   {
    "duration": 15,
    "start_time": "2023-07-08T12:10:49.353Z"
   },
   {
    "duration": 28,
    "start_time": "2023-07-08T12:10:49.370Z"
   },
   {
    "duration": 22,
    "start_time": "2023-07-08T12:10:49.400Z"
   },
   {
    "duration": 4,
    "start_time": "2023-07-08T12:10:49.424Z"
   },
   {
    "duration": 11,
    "start_time": "2023-07-08T12:10:49.454Z"
   },
   {
    "duration": 10,
    "start_time": "2023-07-08T12:10:49.466Z"
   },
   {
    "duration": 6,
    "start_time": "2023-07-08T12:10:49.477Z"
   },
   {
    "duration": 35,
    "start_time": "2023-07-08T12:10:49.484Z"
   },
   {
    "duration": 14,
    "start_time": "2023-07-08T12:10:49.521Z"
   },
   {
    "duration": 17,
    "start_time": "2023-07-08T12:10:49.537Z"
   },
   {
    "duration": 18,
    "start_time": "2023-07-08T12:10:49.556Z"
   },
   {
    "duration": 18,
    "start_time": "2023-07-08T12:10:49.575Z"
   },
   {
    "duration": 71,
    "start_time": "2023-07-08T12:10:49.595Z"
   },
   {
    "duration": 84,
    "start_time": "2023-07-08T12:41:47.538Z"
   },
   {
    "duration": 507,
    "start_time": "2023-07-08T13:54:13.843Z"
   },
   {
    "duration": 23,
    "start_time": "2023-07-08T13:54:14.355Z"
   },
   {
    "duration": 34,
    "start_time": "2023-07-08T13:54:14.380Z"
   },
   {
    "duration": 19,
    "start_time": "2023-07-08T13:54:14.416Z"
   },
   {
    "duration": 37,
    "start_time": "2023-07-08T13:54:14.438Z"
   },
   {
    "duration": 4,
    "start_time": "2023-07-08T13:54:14.476Z"
   },
   {
    "duration": 9,
    "start_time": "2023-07-08T13:54:14.481Z"
   },
   {
    "duration": 3,
    "start_time": "2023-07-08T13:54:14.492Z"
   },
   {
    "duration": 9,
    "start_time": "2023-07-08T13:54:14.496Z"
   },
   {
    "duration": 7,
    "start_time": "2023-07-08T13:54:14.507Z"
   },
   {
    "duration": 58,
    "start_time": "2023-07-08T13:54:14.515Z"
   },
   {
    "duration": 10,
    "start_time": "2023-07-08T13:54:14.575Z"
   },
   {
    "duration": 5,
    "start_time": "2023-07-08T13:54:14.586Z"
   },
   {
    "duration": 12,
    "start_time": "2023-07-08T13:54:14.594Z"
   },
   {
    "duration": 47,
    "start_time": "2023-07-08T13:54:14.608Z"
   },
   {
    "duration": 26,
    "start_time": "2023-07-08T13:54:14.657Z"
   },
   {
    "duration": 4,
    "start_time": "2023-07-08T13:54:14.685Z"
   },
   {
    "duration": 14,
    "start_time": "2023-07-08T13:54:14.691Z"
   },
   {
    "duration": 21,
    "start_time": "2023-07-08T13:54:14.707Z"
   },
   {
    "duration": 6,
    "start_time": "2023-07-08T13:54:14.730Z"
   },
   {
    "duration": 9,
    "start_time": "2023-07-08T13:54:14.754Z"
   },
   {
    "duration": 18,
    "start_time": "2023-07-08T13:54:14.765Z"
   },
   {
    "duration": 20,
    "start_time": "2023-07-08T13:54:14.785Z"
   },
   {
    "duration": 16,
    "start_time": "2023-07-08T13:54:14.807Z"
   },
   {
    "duration": 47,
    "start_time": "2023-07-08T13:54:14.824Z"
   },
   {
    "duration": 43,
    "start_time": "2023-07-08T13:54:14.873Z"
   },
   {
    "duration": 521,
    "start_time": "2023-07-08T13:56:32.843Z"
   },
   {
    "duration": 23,
    "start_time": "2023-07-08T13:56:33.366Z"
   },
   {
    "duration": 28,
    "start_time": "2023-07-08T13:56:33.390Z"
   },
   {
    "duration": 12,
    "start_time": "2023-07-08T13:56:33.420Z"
   },
   {
    "duration": 43,
    "start_time": "2023-07-08T13:56:33.433Z"
   },
   {
    "duration": 3,
    "start_time": "2023-07-08T13:56:33.478Z"
   },
   {
    "duration": 29,
    "start_time": "2023-07-08T13:56:33.483Z"
   },
   {
    "duration": 19,
    "start_time": "2023-07-08T13:56:33.513Z"
   },
   {
    "duration": 18,
    "start_time": "2023-07-08T13:56:33.534Z"
   },
   {
    "duration": 10,
    "start_time": "2023-07-08T13:56:33.555Z"
   },
   {
    "duration": 39,
    "start_time": "2023-07-08T13:56:33.567Z"
   },
   {
    "duration": 11,
    "start_time": "2023-07-08T13:56:33.608Z"
   },
   {
    "duration": 4,
    "start_time": "2023-07-08T13:56:33.620Z"
   },
   {
    "duration": 34,
    "start_time": "2023-07-08T13:56:33.625Z"
   },
   {
    "duration": 27,
    "start_time": "2023-07-08T13:56:33.660Z"
   },
   {
    "duration": 25,
    "start_time": "2023-07-08T13:56:33.688Z"
   },
   {
    "duration": 3,
    "start_time": "2023-07-08T13:56:33.715Z"
   },
   {
    "duration": 25,
    "start_time": "2023-07-08T13:56:33.720Z"
   },
   {
    "duration": 21,
    "start_time": "2023-07-08T13:56:33.747Z"
   },
   {
    "duration": 10,
    "start_time": "2023-07-08T13:56:33.770Z"
   },
   {
    "duration": 35,
    "start_time": "2023-07-08T13:56:33.782Z"
   },
   {
    "duration": 35,
    "start_time": "2023-07-08T13:56:33.819Z"
   },
   {
    "duration": 23,
    "start_time": "2023-07-08T13:56:33.856Z"
   },
   {
    "duration": 16,
    "start_time": "2023-07-08T13:56:33.881Z"
   },
   {
    "duration": 18,
    "start_time": "2023-07-08T13:56:33.898Z"
   },
   {
    "duration": 62,
    "start_time": "2023-07-08T13:56:33.918Z"
   },
   {
    "duration": 432,
    "start_time": "2023-07-08T13:58:27.106Z"
   },
   {
    "duration": 6,
    "start_time": "2023-07-08T14:04:18.196Z"
   },
   {
    "duration": 7,
    "start_time": "2023-07-08T14:05:40.105Z"
   },
   {
    "duration": 6,
    "start_time": "2023-07-08T14:07:24.421Z"
   },
   {
    "duration": 6,
    "start_time": "2023-07-08T14:07:46.185Z"
   },
   {
    "duration": 121,
    "start_time": "2023-07-08T14:07:52.270Z"
   },
   {
    "duration": 6,
    "start_time": "2023-07-08T14:09:08.760Z"
   },
   {
    "duration": 6,
    "start_time": "2023-07-08T14:09:22.998Z"
   },
   {
    "duration": 6,
    "start_time": "2023-07-08T14:09:34.330Z"
   },
   {
    "duration": 6,
    "start_time": "2023-07-08T14:10:12.321Z"
   },
   {
    "duration": 118,
    "start_time": "2023-07-08T16:09:45.125Z"
   }
  ],
  "colab": {
   "name": "dpp_template_part2.ipynb",
   "provenance": []
  },
  "kernelspec": {
   "display_name": "Python 3 (ipykernel)",
   "language": "python",
   "name": "python3"
  },
  "language_info": {
   "codemirror_mode": {
    "name": "ipython",
    "version": 3
   },
   "file_extension": ".py",
   "mimetype": "text/x-python",
   "name": "python",
   "nbconvert_exporter": "python",
   "pygments_lexer": "ipython3",
   "version": "3.10.13"
  },
  "toc": {
   "base_numbering": 1,
   "nav_menu": {},
   "number_sections": true,
   "sideBar": true,
   "skip_h1_title": true,
   "title_cell": "Table of Contents",
   "title_sidebar": "Contents",
   "toc_cell": false,
   "toc_position": {
    "height": "calc(100% - 180px)",
    "left": "10px",
    "top": "150px",
    "width": "216.938px"
   },
   "toc_section_display": true,
   "toc_window_display": true
  }
 },
 "nbformat": 4,
 "nbformat_minor": 5
}
