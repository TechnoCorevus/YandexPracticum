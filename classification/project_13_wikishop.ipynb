{
 "cells": [
  {
   "cell_type": "markdown",
   "id": "15a0445d",
   "metadata": {},
   "source": [
    "<h1>Содержание<span class=\"tocSkip\"></span></h1>\n",
    "<div class=\"toc\"><ul class=\"toc-item\"><li><span><a href=\"#Подготовка\" data-toc-modified-id=\"Подготовка-1\"><span class=\"toc-item-num\">1&nbsp;&nbsp;</span>Подготовка</a></span></li><li><span><a href=\"#Обучение\" data-toc-modified-id=\"Обучение-2\"><span class=\"toc-item-num\">2&nbsp;&nbsp;</span>Обучение</a></span></li><li><span><a href=\"#Выводы\" data-toc-modified-id=\"Выводы-3\"><span class=\"toc-item-num\">3&nbsp;&nbsp;</span>Выводы</a></span></li><li><span><a href=\"#Чек-лист-проверки\" data-toc-modified-id=\"Чек-лист-проверки-4\"><span class=\"toc-item-num\">4&nbsp;&nbsp;</span>Чек-лист проверки</a></span></li></ul></div>"
   ]
  },
  {
   "cell_type": "markdown",
   "id": "5138cb6d",
   "metadata": {},
   "source": [
    "Интернет-магазин «Викишоп» запускает новый сервис. Теперь пользователи могут редактировать и дополнять описания товаров, как в вики-сообществах. То есть клиенты предлагают свои правки и комментируют изменения других. Магазину нужен инструмент, который будет искать токсичные комментарии и отправлять их на модерацию. \n",
    "\n",
    "Обучите модель классифицировать комментарии на позитивные и негативные. В вашем распоряжении набор данных с разметкой о токсичности правок.\n",
    "\n",
    "Постройте модель со значением метрики качества *F1* не меньше 0.75. \n",
    "\n",
    "**Инструкция по выполнению проекта**\n",
    "\n",
    "1. Загрузите и подготовьте данные.\n",
    "2. Обучите разные модели. \n",
    "3. Сделайте выводы.\n",
    "\n",
    "Для выполнения проекта применять *BERT* необязательно, но вы можете попробовать.\n",
    "\n",
    "**Описание данных**\n",
    "\n",
    "Данные находятся в файле `toxic_comments.csv`. Столбец *text* в нём содержит текст комментария, а *toxic* — целевой признак."
   ]
  },
  {
   "cell_type": "code",
   "execution_count": 1,
   "id": "54b532b4",
   "metadata": {},
   "outputs": [
    {
     "name": "stderr",
     "output_type": "stream",
     "text": [
      "[nltk_data] Downloading package averaged_perceptron_tagger to\n",
      "[nltk_data]     /home/jovyan/nltk_data...\n",
      "[nltk_data]   Unzipping taggers/averaged_perceptron_tagger.zip.\n"
     ]
    },
    {
     "name": "stdout",
     "output_type": "stream",
     "text": [
      "Requirement already satisfied: catboost in /opt/conda/lib/python3.9/site-packages (1.0.3)\n",
      "Requirement already satisfied: graphviz in /opt/conda/lib/python3.9/site-packages (from catboost) (0.20.1)\n",
      "Requirement already satisfied: scipy in /opt/conda/lib/python3.9/site-packages (from catboost) (1.9.1)\n",
      "Requirement already satisfied: pandas>=0.24.0 in /opt/conda/lib/python3.9/site-packages (from catboost) (1.2.4)\n",
      "Requirement already satisfied: plotly in /opt/conda/lib/python3.9/site-packages (from catboost) (5.4.0)\n",
      "Requirement already satisfied: matplotlib in /opt/conda/lib/python3.9/site-packages (from catboost) (3.3.4)\n",
      "Requirement already satisfied: numpy>=1.16.0 in /opt/conda/lib/python3.9/site-packages (from catboost) (1.21.1)\n",
      "Requirement already satisfied: six in /opt/conda/lib/python3.9/site-packages (from catboost) (1.16.0)\n",
      "Requirement already satisfied: python-dateutil>=2.7.3 in /opt/conda/lib/python3.9/site-packages (from pandas>=0.24.0->catboost) (2.8.1)\n",
      "Requirement already satisfied: pytz>=2017.3 in /opt/conda/lib/python3.9/site-packages (from pandas>=0.24.0->catboost) (2021.1)\n",
      "Requirement already satisfied: cycler>=0.10 in /opt/conda/lib/python3.9/site-packages (from matplotlib->catboost) (0.11.0)\n",
      "Requirement already satisfied: pyparsing!=2.0.4,!=2.1.2,!=2.1.6,>=2.0.3 in /opt/conda/lib/python3.9/site-packages (from matplotlib->catboost) (2.4.7)\n",
      "Requirement already satisfied: pillow>=6.2.0 in /opt/conda/lib/python3.9/site-packages (from matplotlib->catboost) (8.4.0)\n",
      "Requirement already satisfied: kiwisolver>=1.0.1 in /opt/conda/lib/python3.9/site-packages (from matplotlib->catboost) (1.4.4)\n",
      "Requirement already satisfied: tenacity>=6.2.0 in /opt/conda/lib/python3.9/site-packages (from plotly->catboost) (8.0.1)\n",
      "Requirement already satisfied: spacy in /opt/conda/lib/python3.9/site-packages (3.2.0)\n",
      "Requirement already satisfied: typer<0.5.0,>=0.3.0 in /opt/conda/lib/python3.9/site-packages (from spacy) (0.4.2)\n",
      "Requirement already satisfied: catalogue<2.1.0,>=2.0.6 in /opt/conda/lib/python3.9/site-packages (from spacy) (2.0.8)\n",
      "Requirement already satisfied: spacy-legacy<3.1.0,>=3.0.8 in /opt/conda/lib/python3.9/site-packages (from spacy) (3.0.10)\n",
      "Requirement already satisfied: setuptools in /opt/conda/lib/python3.9/site-packages (from spacy) (49.6.0.post20210108)\n",
      "Requirement already satisfied: srsly<3.0.0,>=2.4.1 in /opt/conda/lib/python3.9/site-packages (from spacy) (2.4.4)\n",
      "Requirement already satisfied: langcodes<4.0.0,>=3.2.0 in /opt/conda/lib/python3.9/site-packages (from spacy) (3.3.0)\n",
      "Requirement already satisfied: requests<3.0.0,>=2.13.0 in /opt/conda/lib/python3.9/site-packages (from spacy) (2.25.1)\n",
      "Requirement already satisfied: packaging>=20.0 in /opt/conda/lib/python3.9/site-packages (from spacy) (21.3)\n",
      "Requirement already satisfied: preshed<3.1.0,>=3.0.2 in /opt/conda/lib/python3.9/site-packages (from spacy) (3.0.7)\n",
      "Requirement already satisfied: murmurhash<1.1.0,>=0.28.0 in /opt/conda/lib/python3.9/site-packages (from spacy) (1.0.8)\n",
      "Requirement already satisfied: numpy>=1.15.0 in /opt/conda/lib/python3.9/site-packages (from spacy) (1.21.1)\n",
      "Requirement already satisfied: pydantic!=1.8,!=1.8.1,<1.9.0,>=1.7.4 in /opt/conda/lib/python3.9/site-packages (from spacy) (1.8.2)\n",
      "Requirement already satisfied: pathy>=0.3.5 in /opt/conda/lib/python3.9/site-packages (from spacy) (0.6.2)\n",
      "Requirement already satisfied: jinja2 in /opt/conda/lib/python3.9/site-packages (from spacy) (3.0.1)\n",
      "Requirement already satisfied: blis<0.8.0,>=0.4.0 in /opt/conda/lib/python3.9/site-packages (from spacy) (0.7.8)\n",
      "Requirement already satisfied: cymem<2.1.0,>=2.0.2 in /opt/conda/lib/python3.9/site-packages (from spacy) (2.0.6)\n",
      "Requirement already satisfied: spacy-loggers<2.0.0,>=1.0.0 in /opt/conda/lib/python3.9/site-packages (from spacy) (1.0.3)\n",
      "Requirement already satisfied: tqdm<5.0.0,>=4.38.0 in /opt/conda/lib/python3.9/site-packages (from spacy) (4.61.2)\n",
      "Requirement already satisfied: thinc<8.1.0,>=8.0.12 in /opt/conda/lib/python3.9/site-packages (from spacy) (8.0.17)\n",
      "Requirement already satisfied: wasabi<1.1.0,>=0.8.1 in /opt/conda/lib/python3.9/site-packages (from spacy) (0.10.1)\n",
      "Requirement already satisfied: pyparsing!=3.0.5,>=2.0.2 in /opt/conda/lib/python3.9/site-packages (from packaging>=20.0->spacy) (2.4.7)\n",
      "Requirement already satisfied: smart-open<6.0.0,>=5.2.1 in /opt/conda/lib/python3.9/site-packages (from pathy>=0.3.5->spacy) (5.2.1)\n",
      "Requirement already satisfied: typing-extensions>=3.7.4.3 in /opt/conda/lib/python3.9/site-packages (from pydantic!=1.8,!=1.8.1,<1.9.0,>=1.7.4->spacy) (4.3.0)\n",
      "Requirement already satisfied: chardet<5,>=3.0.2 in /opt/conda/lib/python3.9/site-packages (from requests<3.0.0,>=2.13.0->spacy) (4.0.0)\n",
      "Requirement already satisfied: urllib3<1.27,>=1.21.1 in /opt/conda/lib/python3.9/site-packages (from requests<3.0.0,>=2.13.0->spacy) (1.26.6)\n",
      "Requirement already satisfied: certifi>=2017.4.17 in /opt/conda/lib/python3.9/site-packages (from requests<3.0.0,>=2.13.0->spacy) (2022.6.15)\n",
      "Requirement already satisfied: idna<3,>=2.5 in /opt/conda/lib/python3.9/site-packages (from requests<3.0.0,>=2.13.0->spacy) (2.10)\n",
      "Requirement already satisfied: click<9.0.0,>=7.1.1 in /opt/conda/lib/python3.9/site-packages (from typer<0.5.0,>=0.3.0->spacy) (8.1.3)\n",
      "Requirement already satisfied: MarkupSafe>=2.0 in /opt/conda/lib/python3.9/site-packages (from jinja2->spacy) (2.1.1)\n",
      "\u001b[38;5;3m⚠ As of spaCy v3.0, shortcuts like 'en' are deprecated. Please use the\n",
      "full pipeline package name 'en_core_web_sm' instead.\u001b[0m\n",
      "Collecting en-core-web-sm==3.2.0\n",
      "  Downloading https://github.com/explosion/spacy-models/releases/download/en_core_web_sm-3.2.0/en_core_web_sm-3.2.0-py3-none-any.whl (13.9 MB)\n",
      "\u001b[K     |████████████████████████████████| 13.9 MB 2.5 MB/s eta 0:00:01\n",
      "\u001b[?25hRequirement already satisfied: spacy<3.3.0,>=3.2.0 in /opt/conda/lib/python3.9/site-packages (from en-core-web-sm==3.2.0) (3.2.0)\n",
      "Requirement already satisfied: catalogue<2.1.0,>=2.0.6 in /opt/conda/lib/python3.9/site-packages (from spacy<3.3.0,>=3.2.0->en-core-web-sm==3.2.0) (2.0.8)\n",
      "Requirement already satisfied: pathy>=0.3.5 in /opt/conda/lib/python3.9/site-packages (from spacy<3.3.0,>=3.2.0->en-core-web-sm==3.2.0) (0.6.2)\n",
      "Requirement already satisfied: setuptools in /opt/conda/lib/python3.9/site-packages (from spacy<3.3.0,>=3.2.0->en-core-web-sm==3.2.0) (49.6.0.post20210108)\n",
      "Requirement already satisfied: wasabi<1.1.0,>=0.8.1 in /opt/conda/lib/python3.9/site-packages (from spacy<3.3.0,>=3.2.0->en-core-web-sm==3.2.0) (0.10.1)\n",
      "Requirement already satisfied: typer<0.5.0,>=0.3.0 in /opt/conda/lib/python3.9/site-packages (from spacy<3.3.0,>=3.2.0->en-core-web-sm==3.2.0) (0.4.2)\n",
      "Requirement already satisfied: spacy-legacy<3.1.0,>=3.0.8 in /opt/conda/lib/python3.9/site-packages (from spacy<3.3.0,>=3.2.0->en-core-web-sm==3.2.0) (3.0.10)\n",
      "Requirement already satisfied: langcodes<4.0.0,>=3.2.0 in /opt/conda/lib/python3.9/site-packages (from spacy<3.3.0,>=3.2.0->en-core-web-sm==3.2.0) (3.3.0)\n",
      "Requirement already satisfied: cymem<2.1.0,>=2.0.2 in /opt/conda/lib/python3.9/site-packages (from spacy<3.3.0,>=3.2.0->en-core-web-sm==3.2.0) (2.0.6)\n",
      "Requirement already satisfied: preshed<3.1.0,>=3.0.2 in /opt/conda/lib/python3.9/site-packages (from spacy<3.3.0,>=3.2.0->en-core-web-sm==3.2.0) (3.0.7)\n",
      "Requirement already satisfied: packaging>=20.0 in /opt/conda/lib/python3.9/site-packages (from spacy<3.3.0,>=3.2.0->en-core-web-sm==3.2.0) (21.3)\n",
      "Requirement already satisfied: pydantic!=1.8,!=1.8.1,<1.9.0,>=1.7.4 in /opt/conda/lib/python3.9/site-packages (from spacy<3.3.0,>=3.2.0->en-core-web-sm==3.2.0) (1.8.2)\n",
      "Requirement already satisfied: srsly<3.0.0,>=2.4.1 in /opt/conda/lib/python3.9/site-packages (from spacy<3.3.0,>=3.2.0->en-core-web-sm==3.2.0) (2.4.4)\n",
      "Requirement already satisfied: thinc<8.1.0,>=8.0.12 in /opt/conda/lib/python3.9/site-packages (from spacy<3.3.0,>=3.2.0->en-core-web-sm==3.2.0) (8.0.17)\n",
      "Requirement already satisfied: murmurhash<1.1.0,>=0.28.0 in /opt/conda/lib/python3.9/site-packages (from spacy<3.3.0,>=3.2.0->en-core-web-sm==3.2.0) (1.0.8)\n",
      "Requirement already satisfied: blis<0.8.0,>=0.4.0 in /opt/conda/lib/python3.9/site-packages (from spacy<3.3.0,>=3.2.0->en-core-web-sm==3.2.0) (0.7.8)\n",
      "Requirement already satisfied: requests<3.0.0,>=2.13.0 in /opt/conda/lib/python3.9/site-packages (from spacy<3.3.0,>=3.2.0->en-core-web-sm==3.2.0) (2.25.1)\n",
      "Requirement already satisfied: jinja2 in /opt/conda/lib/python3.9/site-packages (from spacy<3.3.0,>=3.2.0->en-core-web-sm==3.2.0) (3.0.1)\n",
      "Requirement already satisfied: spacy-loggers<2.0.0,>=1.0.0 in /opt/conda/lib/python3.9/site-packages (from spacy<3.3.0,>=3.2.0->en-core-web-sm==3.2.0) (1.0.3)\n",
      "Requirement already satisfied: tqdm<5.0.0,>=4.38.0 in /opt/conda/lib/python3.9/site-packages (from spacy<3.3.0,>=3.2.0->en-core-web-sm==3.2.0) (4.61.2)\n",
      "Requirement already satisfied: numpy>=1.15.0 in /opt/conda/lib/python3.9/site-packages (from spacy<3.3.0,>=3.2.0->en-core-web-sm==3.2.0) (1.21.1)\n",
      "Requirement already satisfied: pyparsing!=3.0.5,>=2.0.2 in /opt/conda/lib/python3.9/site-packages (from packaging>=20.0->spacy<3.3.0,>=3.2.0->en-core-web-sm==3.2.0) (2.4.7)\n",
      "Requirement already satisfied: smart-open<6.0.0,>=5.2.1 in /opt/conda/lib/python3.9/site-packages (from pathy>=0.3.5->spacy<3.3.0,>=3.2.0->en-core-web-sm==3.2.0) (5.2.1)\n",
      "Requirement already satisfied: typing-extensions>=3.7.4.3 in /opt/conda/lib/python3.9/site-packages (from pydantic!=1.8,!=1.8.1,<1.9.0,>=1.7.4->spacy<3.3.0,>=3.2.0->en-core-web-sm==3.2.0) (4.3.0)\n",
      "Requirement already satisfied: certifi>=2017.4.17 in /opt/conda/lib/python3.9/site-packages (from requests<3.0.0,>=2.13.0->spacy<3.3.0,>=3.2.0->en-core-web-sm==3.2.0) (2022.6.15)\n",
      "Requirement already satisfied: idna<3,>=2.5 in /opt/conda/lib/python3.9/site-packages (from requests<3.0.0,>=2.13.0->spacy<3.3.0,>=3.2.0->en-core-web-sm==3.2.0) (2.10)\n",
      "Requirement already satisfied: chardet<5,>=3.0.2 in /opt/conda/lib/python3.9/site-packages (from requests<3.0.0,>=2.13.0->spacy<3.3.0,>=3.2.0->en-core-web-sm==3.2.0) (4.0.0)\n",
      "Requirement already satisfied: urllib3<1.27,>=1.21.1 in /opt/conda/lib/python3.9/site-packages (from requests<3.0.0,>=2.13.0->spacy<3.3.0,>=3.2.0->en-core-web-sm==3.2.0) (1.26.6)\n",
      "Requirement already satisfied: click<9.0.0,>=7.1.1 in /opt/conda/lib/python3.9/site-packages (from typer<0.5.0,>=0.3.0->spacy<3.3.0,>=3.2.0->en-core-web-sm==3.2.0) (8.1.3)\n",
      "Requirement already satisfied: MarkupSafe>=2.0 in /opt/conda/lib/python3.9/site-packages (from jinja2->spacy<3.3.0,>=3.2.0->en-core-web-sm==3.2.0) (2.1.1)\n",
      "\u001b[38;5;2m✔ Download and installation successful\u001b[0m\n",
      "You can now load the package via spacy.load('en_core_web_sm')\n"
     ]
    }
   ],
   "source": [
    "import pandas as pd\n",
    "import numpy as np\n",
    "import os\n",
    "import transformers\n",
    "import seaborn as sns\n",
    "import torch\n",
    "import re\n",
    "from pymystem3 import Mystem\n",
    "import matplotlib.pyplot as plt\n",
    "\n",
    "\n",
    "from sklearn.feature_extraction.text import TfidfVectorizer\n",
    "from sklearn.model_selection import train_test_split, cross_val_score, GridSearchCV\n",
    "from sklearn.linear_model import LogisticRegression\n",
    "from sklearn.tree import DecisionTreeClassifier\n",
    "from sklearn.metrics import f1_score, precision_score, recall_score, accuracy_score, roc_auc_score, roc_curve\n",
    "from sklearn.metrics import roc_auc_score\n",
    "from sklearn.metrics import roc_curve \n",
    "from sklearn.utils import shuffle\n",
    "\n",
    "import nltk\n",
    "nltk.download('averaged_perceptron_tagger')\n",
    "from nltk.corpus import stopwords as nltk_stopwords\n",
    "from nltk.corpus import wordnet\n",
    "from nltk.stem import WordNetLemmatizer\n",
    "from nltk import pos_tag\n",
    "from nltk.tokenize import word_tokenize\n",
    "\n",
    "import sys\n",
    "\n",
    "!{sys.executable} -m pip install catboost\n",
    "\n",
    "import catboost\n",
    "from catboost import CatBoostClassifier\n",
    "\n",
    "!{sys.executable} -m pip install spacy\n",
    "# Download spaCy's  'en' Model\n",
    "!{sys.executable} -m spacy download en\n",
    "\n",
    "import spacy\n",
    "\n",
    "import time\n",
    "from tqdm.notebook import tqdm\n",
    "\n",
    "RANDOM_STATE = 711"
   ]
  },
  {
   "cell_type": "code",
   "execution_count": 2,
   "id": "ce20bceb",
   "metadata": {},
   "outputs": [],
   "source": [
    "# функция для загрузки данных\n",
    "path_1 = '/datasets/toxic_comments.csv'\n",
    "path_2 = 'C:\\\\DS\\\\YP\\\\S17\\\\toxic_comments.csv'\n",
    "\n",
    "def generate_data(path_1, path_2):\n",
    "    if os.path.exists(path_1):\n",
    "        df = pd.read_csv(path_1)\n",
    "    elif os.path.exists(path_2):\n",
    "        df = pd.read_csv(path_2)\n",
    "    else:\n",
    "        print(\"Something is wrong!\")\n",
    "    return df"
   ]
  },
  {
   "cell_type": "code",
   "execution_count": 3,
   "id": "047d6505",
   "metadata": {},
   "outputs": [],
   "source": [
    "#создаём датасет\n",
    "df = generate_data(path_1, path_2)"
   ]
  },
  {
   "cell_type": "code",
   "execution_count": 4,
   "id": "7418b489",
   "metadata": {},
   "outputs": [
    {
     "data": {
      "text/html": [
       "<div>\n",
       "<style scoped>\n",
       "    .dataframe tbody tr th:only-of-type {\n",
       "        vertical-align: middle;\n",
       "    }\n",
       "\n",
       "    .dataframe tbody tr th {\n",
       "        vertical-align: top;\n",
       "    }\n",
       "\n",
       "    .dataframe thead th {\n",
       "        text-align: right;\n",
       "    }\n",
       "</style>\n",
       "<table border=\"1\" class=\"dataframe\">\n",
       "  <thead>\n",
       "    <tr style=\"text-align: right;\">\n",
       "      <th></th>\n",
       "      <th>Unnamed: 0</th>\n",
       "      <th>text</th>\n",
       "      <th>toxic</th>\n",
       "    </tr>\n",
       "  </thead>\n",
       "  <tbody>\n",
       "    <tr>\n",
       "      <th>0</th>\n",
       "      <td>0</td>\n",
       "      <td>Explanation\\nWhy the edits made under my usern...</td>\n",
       "      <td>0</td>\n",
       "    </tr>\n",
       "    <tr>\n",
       "      <th>1</th>\n",
       "      <td>1</td>\n",
       "      <td>D'aww! He matches this background colour I'm s...</td>\n",
       "      <td>0</td>\n",
       "    </tr>\n",
       "    <tr>\n",
       "      <th>2</th>\n",
       "      <td>2</td>\n",
       "      <td>Hey man, I'm really not trying to edit war. It...</td>\n",
       "      <td>0</td>\n",
       "    </tr>\n",
       "    <tr>\n",
       "      <th>3</th>\n",
       "      <td>3</td>\n",
       "      <td>\"\\nMore\\nI can't make any real suggestions on ...</td>\n",
       "      <td>0</td>\n",
       "    </tr>\n",
       "    <tr>\n",
       "      <th>4</th>\n",
       "      <td>4</td>\n",
       "      <td>You, sir, are my hero. Any chance you remember...</td>\n",
       "      <td>0</td>\n",
       "    </tr>\n",
       "  </tbody>\n",
       "</table>\n",
       "</div>"
      ],
      "text/plain": [
       "   Unnamed: 0                                               text  toxic\n",
       "0           0  Explanation\\nWhy the edits made under my usern...      0\n",
       "1           1  D'aww! He matches this background colour I'm s...      0\n",
       "2           2  Hey man, I'm really not trying to edit war. It...      0\n",
       "3           3  \"\\nMore\\nI can't make any real suggestions on ...      0\n",
       "4           4  You, sir, are my hero. Any chance you remember...      0"
      ]
     },
     "execution_count": 4,
     "metadata": {},
     "output_type": "execute_result"
    }
   ],
   "source": [
    "# проверка, вывод на экран\n",
    "df.head()"
   ]
  },
  {
   "cell_type": "code",
   "execution_count": 5,
   "id": "b5f425f1",
   "metadata": {},
   "outputs": [
    {
     "name": "stdout",
     "output_type": "stream",
     "text": [
      "<class 'pandas.core.frame.DataFrame'>\n",
      "RangeIndex: 159292 entries, 0 to 159291\n",
      "Data columns (total 3 columns):\n",
      " #   Column      Non-Null Count   Dtype \n",
      "---  ------      --------------   ----- \n",
      " 0   Unnamed: 0  159292 non-null  int64 \n",
      " 1   text        159292 non-null  object\n",
      " 2   toxic       159292 non-null  int64 \n",
      "dtypes: int64(2), object(1)\n",
      "memory usage: 3.6+ MB\n"
     ]
    }
   ],
   "source": [
    "# вывод информации о датасете\n",
    "df.info()"
   ]
  },
  {
   "cell_type": "markdown",
   "id": "b525d564",
   "metadata": {},
   "source": [
    "Выведем столбец 'Unnamed: 0'"
   ]
  },
  {
   "cell_type": "code",
   "execution_count": 6,
   "id": "37790963",
   "metadata": {},
   "outputs": [
    {
     "data": {
      "text/plain": [
       "0              0\n",
       "1              1\n",
       "2              2\n",
       "3              3\n",
       "4              4\n",
       "           ...  \n",
       "159287    159446\n",
       "159288    159447\n",
       "159289    159448\n",
       "159290    159449\n",
       "159291    159450\n",
       "Name: Unnamed: 0, Length: 159292, dtype: int64"
      ]
     },
     "execution_count": 6,
     "metadata": {},
     "output_type": "execute_result"
    }
   ],
   "source": [
    "df['Unnamed: 0']"
   ]
  },
  {
   "cell_type": "markdown",
   "id": "3d8a1187",
   "metadata": {},
   "source": [
    "Вероятно столбец хранит данные о номере комментария. Для модели нам не понадобится. Удалим столбец"
   ]
  },
  {
   "cell_type": "code",
   "execution_count": 7,
   "id": "3ceefaf2",
   "metadata": {},
   "outputs": [
    {
     "data": {
      "text/html": [
       "<div>\n",
       "<style scoped>\n",
       "    .dataframe tbody tr th:only-of-type {\n",
       "        vertical-align: middle;\n",
       "    }\n",
       "\n",
       "    .dataframe tbody tr th {\n",
       "        vertical-align: top;\n",
       "    }\n",
       "\n",
       "    .dataframe thead th {\n",
       "        text-align: right;\n",
       "    }\n",
       "</style>\n",
       "<table border=\"1\" class=\"dataframe\">\n",
       "  <thead>\n",
       "    <tr style=\"text-align: right;\">\n",
       "      <th></th>\n",
       "      <th>text</th>\n",
       "      <th>toxic</th>\n",
       "    </tr>\n",
       "  </thead>\n",
       "  <tbody>\n",
       "    <tr>\n",
       "      <th>0</th>\n",
       "      <td>Explanation\\nWhy the edits made under my usern...</td>\n",
       "      <td>0</td>\n",
       "    </tr>\n",
       "    <tr>\n",
       "      <th>1</th>\n",
       "      <td>D'aww! He matches this background colour I'm s...</td>\n",
       "      <td>0</td>\n",
       "    </tr>\n",
       "    <tr>\n",
       "      <th>2</th>\n",
       "      <td>Hey man, I'm really not trying to edit war. It...</td>\n",
       "      <td>0</td>\n",
       "    </tr>\n",
       "    <tr>\n",
       "      <th>3</th>\n",
       "      <td>\"\\nMore\\nI can't make any real suggestions on ...</td>\n",
       "      <td>0</td>\n",
       "    </tr>\n",
       "    <tr>\n",
       "      <th>4</th>\n",
       "      <td>You, sir, are my hero. Any chance you remember...</td>\n",
       "      <td>0</td>\n",
       "    </tr>\n",
       "  </tbody>\n",
       "</table>\n",
       "</div>"
      ],
      "text/plain": [
       "                                                text  toxic\n",
       "0  Explanation\\nWhy the edits made under my usern...      0\n",
       "1  D'aww! He matches this background colour I'm s...      0\n",
       "2  Hey man, I'm really not trying to edit war. It...      0\n",
       "3  \"\\nMore\\nI can't make any real suggestions on ...      0\n",
       "4  You, sir, are my hero. Any chance you remember...      0"
      ]
     },
     "execution_count": 7,
     "metadata": {},
     "output_type": "execute_result"
    }
   ],
   "source": [
    "df = df.drop('Unnamed: 0', axis=1)\n",
    "# проверка\n",
    "df.head()"
   ]
  },
  {
   "cell_type": "markdown",
   "id": "22597fa2",
   "metadata": {},
   "source": [
    "Язык комментариев английский"
   ]
  },
  {
   "cell_type": "markdown",
   "id": "9a478d46",
   "metadata": {},
   "source": [
    "Выведем уникальные значения столбца 'toxic'"
   ]
  },
  {
   "cell_type": "code",
   "execution_count": 8,
   "id": "54352e6b",
   "metadata": {},
   "outputs": [
    {
     "data": {
      "text/plain": [
       "array([0, 1])"
      ]
     },
     "execution_count": 8,
     "metadata": {},
     "output_type": "execute_result"
    }
   ],
   "source": [
    "df['toxic'].unique()"
   ]
  },
  {
   "cell_type": "code",
   "execution_count": 9,
   "id": "b0b367ab",
   "metadata": {},
   "outputs": [
    {
     "name": "stdout",
     "output_type": "stream",
     "text": [
      "<class 'pandas.core.frame.DataFrame'>\n",
      "RangeIndex: 159292 entries, 0 to 159291\n",
      "Data columns (total 2 columns):\n",
      " #   Column  Non-Null Count   Dtype \n",
      "---  ------  --------------   ----- \n",
      " 0   text    159292 non-null  object\n",
      " 1   toxic   159292 non-null  int64 \n",
      "dtypes: int64(1), object(1)\n",
      "memory usage: 2.4+ MB\n"
     ]
    }
   ],
   "source": [
    "df.info()"
   ]
  },
  {
   "cell_type": "markdown",
   "id": "a00fa01e",
   "metadata": {},
   "source": [
    "Веротяно значение \"1\" означает, что комментарий токсичен, значение \"0\", что комментарий не токсичен. Для этих двух значений тип данных int64 излишне велик. Изменим тип на int8"
   ]
  },
  {
   "cell_type": "code",
   "execution_count": 10,
   "id": "65df34a5",
   "metadata": {},
   "outputs": [],
   "source": [
    "df['toxic'] = df['toxic'].astype('int8')"
   ]
  },
  {
   "cell_type": "code",
   "execution_count": 11,
   "id": "24e4f3b0",
   "metadata": {},
   "outputs": [
    {
     "name": "stdout",
     "output_type": "stream",
     "text": [
      "<class 'pandas.core.frame.DataFrame'>\n",
      "RangeIndex: 159292 entries, 0 to 159291\n",
      "Data columns (total 2 columns):\n",
      " #   Column  Non-Null Count   Dtype \n",
      "---  ------  --------------   ----- \n",
      " 0   text    159292 non-null  object\n",
      " 1   toxic   159292 non-null  int8  \n",
      "dtypes: int8(1), object(1)\n",
      "memory usage: 1.4+ MB\n"
     ]
    }
   ],
   "source": [
    "df.info()"
   ]
  },
  {
   "cell_type": "markdown",
   "id": "0917201e",
   "metadata": {},
   "source": [
    "Тем самым снизили размер файла почти в 2 раза"
   ]
  },
  {
   "cell_type": "markdown",
   "id": "a4666948",
   "metadata": {},
   "source": [
    "Проверим соотношение тоскичных комментариев и нетоксичных"
   ]
  },
  {
   "cell_type": "code",
   "execution_count": 12,
   "id": "cfafb88e",
   "metadata": {},
   "outputs": [
    {
     "data": {
      "image/png": "[encoded data removed]",
      "text/plain": [
       "<Figure size 432x288 with 1 Axes>"
      ]
     },
     "metadata": {
      "needs_background": "light"
     },
     "output_type": "display_data"
    }
   ],
   "source": [
    "sns.histplot(df['toxic'], bins=3);"
   ]
  },
  {
   "cell_type": "markdown",
   "id": "ce23d0cb",
   "metadata": {},
   "source": [
    "Наблюдается большая диспропорция между колчиеством токсичных и нетоксичнх комментариев. При обучении модели потребуется сбалансировать данные."
   ]
  },
  {
   "cell_type": "markdown",
   "id": "1322288e",
   "metadata": {},
   "source": [
    "## Обучение"
   ]
  },
  {
   "cell_type": "markdown",
   "id": "3f2c9256",
   "metadata": {},
   "source": [
    "### Лемматизируем текст"
   ]
  },
  {
   "cell_type": "code",
   "execution_count": 13,
   "id": "693f6d65",
   "metadata": {},
   "outputs": [],
   "source": [
    "# саздаём функцию для очистки текста от небуквенных символов\n",
    "\n",
    "def clear_text(text):\n",
    "    new_text = re.sub(r'[^a-zA-Z]', ' ', text)\n",
    "    new_text = new_text.split()\n",
    "    new_text = \" \".join(new_text)\n",
    "  \n",
    "    return new_text"
   ]
  },
  {
   "cell_type": "code",
   "execution_count": 14,
   "id": "e0f19c05",
   "metadata": {},
   "outputs": [],
   "source": [
    "# читстим текст от небуквенных значений\n",
    "cleared_text = df['text'].apply(clear_text)\n"
   ]
  },
  {
   "cell_type": "markdown",
   "id": "b4d53d7b",
   "metadata": {},
   "source": [
    "Используем библиотеку SpaCy для лемматизации текста"
   ]
  },
  {
   "cell_type": "code",
   "execution_count": 15,
   "id": "642c166a",
   "metadata": {},
   "outputs": [
    {
     "name": "stdout",
     "output_type": "stream",
     "text": [
      "                                                text\n",
      "0  The striped bats are hanging on their feet for...\n",
      "1      you should be ashamed of yourself went worked\n"
     ]
    },
    {
     "data": {
      "application/vnd.jupyter.widget-view+json": {
       "model_id": "3258a34cbef24c27a8256e000e9c58d3",
       "version_major": 2,
       "version_minor": 0
      },
      "text/plain": [
       "  0%|          | 0/2 [00:00<?, ?it/s]"
      ]
     },
     "metadata": {},
     "output_type": "display_data"
    },
    {
     "name": "stdout",
     "output_type": "stream",
     "text": [
      "0    [the, striped, bat, be, hang, on, their, foot,...\n",
      "1    [you, should, be, ashamed, of, yourself, go, w...\n",
      "Name: text, dtype: object\n"
     ]
    }
   ],
   "source": [
    "# Проверим лемматизациюи \n",
    "wnl = WordNetLemmatizer()\n",
    "\n",
    "sentence1 = \"The striped bats are hanging on their feet for best\"\n",
    "sentence2 = \"you should be ashamed of yourself went worked\"\n",
    "df_my = pd.DataFrame([sentence1, sentence2], columns = ['text'])\n",
    "print(df_my)\n",
    "\n",
    "def penn2morphy(penntag):\n",
    "    # придаём POS-теги для слов\n",
    "    morphy_tag = {'NN':'n', 'JJ':'a',\n",
    "                  'VB':'v', 'RB':'r'}\n",
    "    try:\n",
    "        return morphy_tag[penntag[:2]]\n",
    "    except:\n",
    "        return 'n'\n",
    "\n",
    "\n",
    "tqdm.pandas()\n",
    "def lemmatize_text(text):\n",
    "    # текст передаём в нижнем регстире\n",
    "    return [wnl.lemmatize(word.lower(), pos=penn2morphy(tag)) \n",
    "            for word, tag in pos_tag(word_tokenize(text))]\n",
    "\n",
    "print(df_my['text'].progress_apply(lemmatize_text))"
   ]
  },
  {
   "cell_type": "markdown",
   "id": "0db7133f",
   "metadata": {},
   "source": [
    "В целом лемматизацая с помощью WordNetLemmatizer работает хорошо"
   ]
  },
  {
   "cell_type": "code",
   "execution_count": 16,
   "id": "53511906",
   "metadata": {},
   "outputs": [
    {
     "data": {
      "application/vnd.jupyter.widget-view+json": {
       "model_id": "82612319c9fd4dc8b5234af603487621",
       "version_major": 2,
       "version_minor": 0
      },
      "text/plain": [
       "  0%|          | 0/159292 [00:00<?, ?it/s]"
      ]
     },
     "metadata": {},
     "output_type": "display_data"
    }
   ],
   "source": [
    "# лемматизация текста\n",
    "\n",
    "tqdm.pandas()\n",
    "df['lemm_text'] = cleared_text.progress_apply(lemmatize_text)\n",
    "\n",
    "df = df.drop(['text'], axis=1)"
   ]
  },
  {
   "cell_type": "code",
   "execution_count": 17,
   "id": "f732142c",
   "metadata": {},
   "outputs": [
    {
     "data": {
      "text/plain": [
       "0         Explanation Why the edits made under my userna...\n",
       "1         D aww He matches this background colour I m se...\n",
       "2         Hey man I m really not trying to edit war It s...\n",
       "3         More I can t make any real suggestions on impr...\n",
       "4         You sir are my hero Any chance you remember wh...\n",
       "                                ...                        \n",
       "159287    And for the second time of asking when your vi...\n",
       "159288    You should be ashamed of yourself That is a ho...\n",
       "159289    Spitzer Umm theres no actual article for prost...\n",
       "159290    And it looks like it was actually you who put ...\n",
       "159291    And I really don t think you understand I came...\n",
       "Name: text, Length: 159292, dtype: object"
      ]
     },
     "execution_count": 17,
     "metadata": {},
     "output_type": "execute_result"
    }
   ],
   "source": [
    "cleared_text"
   ]
  },
  {
   "cell_type": "code",
   "execution_count": 18,
   "id": "2debd8c2",
   "metadata": {},
   "outputs": [
    {
     "data": {
      "text/plain": [
       "0         [explanation, why, the, edits, make, under, my...\n",
       "1         [d, aww, he, match, this, background, colour, ...\n",
       "2         [hey, man, i, m, really, not, try, to, edit, w...\n",
       "3         [more, i, can, t, make, any, real, suggestion,...\n",
       "4         [you, sir, be, my, hero, any, chance, you, rem...\n",
       "                                ...                        \n",
       "159287    [and, for, the, second, time, of, ask, when, y...\n",
       "159288    [you, should, be, ashamed, of, yourself, that,...\n",
       "159289    [spitzer, umm, theres, no, actual, article, fo...\n",
       "159290    [and, it, look, like, it, be, actually, you, w...\n",
       "159291    [and, i, really, don, t, think, you, understan...\n",
       "Name: lemm_text, Length: 159292, dtype: object"
      ]
     },
     "execution_count": 18,
     "metadata": {},
     "output_type": "execute_result"
    }
   ],
   "source": [
    "df['lemm_text']"
   ]
  },
  {
   "cell_type": "code",
   "execution_count": 19,
   "id": "ae2b534b",
   "metadata": {},
   "outputs": [],
   "source": [
    "def func (df):\n",
    "    df['lemm_text'].apply(lambda x: ' '.join(x))\n",
    "\n",
    "df['lemm_text'] = [\" \".join(review) for review in df['lemm_text'].values]"
   ]
  },
  {
   "cell_type": "code",
   "execution_count": 20,
   "id": "b0b35f5c",
   "metadata": {},
   "outputs": [
    {
     "data": {
      "text/plain": [
       "0         explanation why the edits make under my userna...\n",
       "1         d aww he match this background colour i m seem...\n",
       "2         hey man i m really not try to edit war it s ju...\n",
       "3         more i can t make any real suggestion on impro...\n",
       "4         you sir be my hero any chance you remember wha...\n",
       "                                ...                        \n",
       "159287    and for the second time of ask when your view ...\n",
       "159288    you should be ashamed of yourself that be a ho...\n",
       "159289    spitzer umm theres no actual article for prost...\n",
       "159290    and it look like it be actually you who put on...\n",
       "159291    and i really don t think you understand i come...\n",
       "Name: lemm_text, Length: 159292, dtype: object"
      ]
     },
     "execution_count": 20,
     "metadata": {},
     "output_type": "execute_result"
    }
   ],
   "source": [
    "df['lemm_text']"
   ]
  },
  {
   "cell_type": "markdown",
   "id": "821b1048",
   "metadata": {},
   "source": [
    "Разобьём выборку на тренировочную, валидную и тестовую в соотношении 50/25/25"
   ]
  },
  {
   "cell_type": "code",
   "execution_count": 21,
   "id": "36449378",
   "metadata": {
    "scrolled": true
   },
   "outputs": [],
   "source": [
    "# Разобьём выборку в соотношении 50/25/25. Уменьшим количество кроссвалидаций до 3 из-за размера выборки.\n",
    "X = df.drop('toxic', axis=1)\n",
    "y = df['toxic']\n",
    "\n",
    "X_train, X_valid, y_train, y_valid = train_test_split(X,\n",
    "                                                      y,\n",
    "                                                     test_size=0.5,\n",
    "                                                     random_state=RANDOM_STATE)\n",
    "\n",
    "X_valid, X_test, y_valid, y_test = train_test_split(X_valid,\n",
    "                                                   y_valid,\n",
    "                                                   test_size=0.5,\n",
    "                                                   random_state=RANDOM_STATE)\n",
    "\n",
    "# уменьшаем размер кросс-валидации\n",
    "cv_counts = 2"
   ]
  },
  {
   "cell_type": "code",
   "execution_count": 22,
   "id": "7c8c9e89",
   "metadata": {
    "scrolled": true
   },
   "outputs": [
    {
     "name": "stderr",
     "output_type": "stream",
     "text": [
      "[nltk_data] Downloading package stopwords to /home/jovyan/nltk_data...\n",
      "[nltk_data]   Package stopwords is already up-to-date!\n"
     ]
    }
   ],
   "source": [
    "# загружаем стоп-слова из словаря ntlk\n",
    "nltk.download('stopwords')\n",
    "stopwords = list(nltk_stopwords.words('english'))\n",
    "\n",
    "#создаём модель векторизации\n",
    "count_tf_idf = TfidfVectorizer(stop_words=stopwords)\n",
    "\n",
    "\n",
    "#векторизируем признаки с учётом стоп-слов и переводим значения в юникод\n",
    "\n",
    "X_train = count_tf_idf.fit_transform(X_train['lemm_text'])\n",
    "X_valid = count_tf_idf.transform(X_valid['lemm_text'])\n",
    "X_test  = count_tf_idf.transform(X_test['lemm_text'])\n",
    "\n"
   ]
  },
  {
   "cell_type": "code",
   "execution_count": 23,
   "id": "05a8eb7c",
   "metadata": {
    "scrolled": false
   },
   "outputs": [
    {
     "name": "stdout",
     "output_type": "stream",
     "text": [
      "(79646, 103055)\n",
      "(39823, 103055)\n",
      "(39823, 103055)\n"
     ]
    }
   ],
   "source": [
    "print(X_train.shape)\n",
    "print(X_valid.shape)\n",
    "print(X_test.shape)\n",
    "cv_counts = 2"
   ]
  },
  {
   "cell_type": "markdown",
   "id": "6656864b",
   "metadata": {},
   "source": [
    "**Вывод**\n",
    "Данные не сбалансированы. Далее проведём балансировку данных несклькольми способами и сравним."
   ]
  },
  {
   "cell_type": "markdown",
   "id": "4350cc1b",
   "metadata": {},
   "source": [
    "### Обучение моделей"
   ]
  },
  {
   "cell_type": "markdown",
   "id": "64c7655f",
   "metadata": {},
   "source": [
    "Далее подберём оптимальные гиперпараметры модели. В логистической регресси будем менять параметры \"penalty\" и \"solver\" и значение балансировки"
   ]
  },
  {
   "cell_type": "markdown",
   "id": "cb2b4a58",
   "metadata": {},
   "source": [
    "### Логистическая регрессия"
   ]
  },
  {
   "cell_type": "code",
   "execution_count": 24,
   "id": "f2e3263d",
   "metadata": {},
   "outputs": [
    {
     "data": {
      "application/vnd.jupyter.widget-view+json": {
       "model_id": "8e50c002e84c4e1ba9b11048b86feff4",
       "version_major": 2,
       "version_minor": 0
      },
      "text/plain": [
       "  0%|          | 0/3 [00:00<?, ?it/s]"
      ]
     },
     "metadata": {},
     "output_type": "display_data"
    },
    {
     "data": {
      "application/vnd.jupyter.widget-view+json": {
       "model_id": "ac8e64124ca541589aa89a25886e4386",
       "version_major": 2,
       "version_minor": 0
      },
      "text/plain": [
       "  0%|          | 0/2 [00:00<?, ?it/s]"
      ]
     },
     "metadata": {},
     "output_type": "display_data"
    },
    {
     "data": {
      "application/vnd.jupyter.widget-view+json": {
       "model_id": "05e8e04b4b944110bd15d0a7dd730500",
       "version_major": 2,
       "version_minor": 0
      },
      "text/plain": [
       "  0%|          | 0/3 [00:00<?, ?it/s]"
      ]
     },
     "metadata": {},
     "output_type": "display_data"
    },
    {
     "name": "stderr",
     "output_type": "stream",
     "text": [
      "/opt/conda/lib/python3.9/site-packages/sklearn/linear_model/_sag.py:328: ConvergenceWarning: The max_iter was reached which means the coef_ did not converge\n",
      "  warnings.warn(\"The max_iter was reached which means \"\n",
      "/opt/conda/lib/python3.9/site-packages/sklearn/linear_model/_sag.py:328: ConvergenceWarning: The max_iter was reached which means the coef_ did not converge\n",
      "  warnings.warn(\"The max_iter was reached which means \"\n",
      "/opt/conda/lib/python3.9/site-packages/sklearn/linear_model/_sag.py:328: ConvergenceWarning: The max_iter was reached which means the coef_ did not converge\n",
      "  warnings.warn(\"The max_iter was reached which means \"\n"
     ]
    },
    {
     "name": "stdout",
     "output_type": "stream",
     "text": [
      "Значение f1 при С = 5.0, penalty = l1 и балансировке = None: 0.7742279020234291\n",
      "Значение f1 на CV при С = 5.0, penalty = l1 и балансировке = None: 0.7497868192646122\n"
     ]
    },
    {
     "name": "stderr",
     "output_type": "stream",
     "text": [
      "/opt/conda/lib/python3.9/site-packages/sklearn/linear_model/_sag.py:328: ConvergenceWarning: The max_iter was reached which means the coef_ did not converge\n",
      "  warnings.warn(\"The max_iter was reached which means \"\n",
      "/opt/conda/lib/python3.9/site-packages/sklearn/linear_model/_sag.py:328: ConvergenceWarning: The max_iter was reached which means the coef_ did not converge\n",
      "  warnings.warn(\"The max_iter was reached which means \"\n",
      "/opt/conda/lib/python3.9/site-packages/sklearn/linear_model/_sag.py:328: ConvergenceWarning: The max_iter was reached which means the coef_ did not converge\n",
      "  warnings.warn(\"The max_iter was reached which means \"\n"
     ]
    },
    {
     "name": "stdout",
     "output_type": "stream",
     "text": [
      "Значение f1 при С = 5.0, penalty = l1 и балансировке = dict_classes: 0.774167776298269\n",
      "Значение f1 на CV при С = 5.0, penalty = l1 и балансировке = dict_classes: 0.7498938379082344\n"
     ]
    },
    {
     "name": "stderr",
     "output_type": "stream",
     "text": [
      "/opt/conda/lib/python3.9/site-packages/sklearn/linear_model/_sag.py:328: ConvergenceWarning: The max_iter was reached which means the coef_ did not converge\n",
      "  warnings.warn(\"The max_iter was reached which means \"\n",
      "/opt/conda/lib/python3.9/site-packages/sklearn/linear_model/_sag.py:328: ConvergenceWarning: The max_iter was reached which means the coef_ did not converge\n",
      "  warnings.warn(\"The max_iter was reached which means \"\n"
     ]
    },
    {
     "name": "stdout",
     "output_type": "stream",
     "text": [
      "Значение f1 при С = 5.0, penalty = l1 и балансировке = balanced: 0.7444407930770073\n",
      "Значение f1 на CV при С = 5.0, penalty = l1 и балансировке = balanced: 0.7352821834738881\n"
     ]
    },
    {
     "name": "stderr",
     "output_type": "stream",
     "text": [
      "/opt/conda/lib/python3.9/site-packages/sklearn/linear_model/_sag.py:328: ConvergenceWarning: The max_iter was reached which means the coef_ did not converge\n",
      "  warnings.warn(\"The max_iter was reached which means \"\n"
     ]
    },
    {
     "data": {
      "application/vnd.jupyter.widget-view+json": {
       "model_id": "51969663fc9346729ae62c259ee429e9",
       "version_major": 2,
       "version_minor": 0
      },
      "text/plain": [
       "  0%|          | 0/3 [00:00<?, ?it/s]"
      ]
     },
     "metadata": {},
     "output_type": "display_data"
    },
    {
     "name": "stdout",
     "output_type": "stream",
     "text": [
      "Значение f1 при С = 5.0, penalty = l2 и балансировке = None: 0.759564367495113\n",
      "Значение f1 на CV при С = 5.0, penalty = l2 и балансировке = None: 0.7137618229720719\n",
      "Значение f1 при С = 5.0, penalty = l2 и балансировке = dict_classes: 0.759564367495113\n",
      "Значение f1 на CV при С = 5.0, penalty = l2 и балансировке = dict_classes: 0.7138043733753264\n"
     ]
    },
    {
     "name": "stderr",
     "output_type": "stream",
     "text": [
      "/opt/conda/lib/python3.9/site-packages/sklearn/linear_model/_sag.py:328: ConvergenceWarning: The max_iter was reached which means the coef_ did not converge\n",
      "  warnings.warn(\"The max_iter was reached which means \"\n",
      "/opt/conda/lib/python3.9/site-packages/sklearn/linear_model/_sag.py:328: ConvergenceWarning: The max_iter was reached which means the coef_ did not converge\n",
      "  warnings.warn(\"The max_iter was reached which means \"\n"
     ]
    },
    {
     "name": "stdout",
     "output_type": "stream",
     "text": [
      "Значение f1 при С = 5.0, penalty = l2 и балансировке = balanced: 0.7518632178868917\n",
      "Значение f1 на CV при С = 5.0, penalty = l2 и балансировке = balanced: 0.7403545743463611\n"
     ]
    },
    {
     "name": "stderr",
     "output_type": "stream",
     "text": [
      "/opt/conda/lib/python3.9/site-packages/sklearn/linear_model/_sag.py:328: ConvergenceWarning: The max_iter was reached which means the coef_ did not converge\n",
      "  warnings.warn(\"The max_iter was reached which means \"\n"
     ]
    },
    {
     "data": {
      "application/vnd.jupyter.widget-view+json": {
       "model_id": "fcf0154df9d148469730f1c851cc79e9",
       "version_major": 2,
       "version_minor": 0
      },
      "text/plain": [
       "  0%|          | 0/2 [00:00<?, ?it/s]"
      ]
     },
     "metadata": {},
     "output_type": "display_data"
    },
    {
     "data": {
      "application/vnd.jupyter.widget-view+json": {
       "model_id": "9cb113fc044e430ca6a17f637dd416b8",
       "version_major": 2,
       "version_minor": 0
      },
      "text/plain": [
       "  0%|          | 0/3 [00:00<?, ?it/s]"
      ]
     },
     "metadata": {},
     "output_type": "display_data"
    },
    {
     "name": "stderr",
     "output_type": "stream",
     "text": [
      "/opt/conda/lib/python3.9/site-packages/sklearn/linear_model/_sag.py:328: ConvergenceWarning: The max_iter was reached which means the coef_ did not converge\n",
      "  warnings.warn(\"The max_iter was reached which means \"\n",
      "/opt/conda/lib/python3.9/site-packages/sklearn/linear_model/_sag.py:328: ConvergenceWarning: The max_iter was reached which means the coef_ did not converge\n",
      "  warnings.warn(\"The max_iter was reached which means \"\n",
      "/opt/conda/lib/python3.9/site-packages/sklearn/linear_model/_sag.py:328: ConvergenceWarning: The max_iter was reached which means the coef_ did not converge\n",
      "  warnings.warn(\"The max_iter was reached which means \"\n"
     ]
    },
    {
     "name": "stdout",
     "output_type": "stream",
     "text": [
      "Значение f1 при С = 10.0, penalty = l1 и балансировке = None: 0.7687838373167832\n",
      "Значение f1 на CV при С = 10.0, penalty = l1 и балансировке = None: 0.7444100330727206\n"
     ]
    },
    {
     "name": "stderr",
     "output_type": "stream",
     "text": [
      "/opt/conda/lib/python3.9/site-packages/sklearn/linear_model/_sag.py:328: ConvergenceWarning: The max_iter was reached which means the coef_ did not converge\n",
      "  warnings.warn(\"The max_iter was reached which means \"\n",
      "/opt/conda/lib/python3.9/site-packages/sklearn/linear_model/_sag.py:328: ConvergenceWarning: The max_iter was reached which means the coef_ did not converge\n",
      "  warnings.warn(\"The max_iter was reached which means \"\n",
      "/opt/conda/lib/python3.9/site-packages/sklearn/linear_model/_sag.py:328: ConvergenceWarning: The max_iter was reached which means the coef_ did not converge\n",
      "  warnings.warn(\"The max_iter was reached which means \"\n"
     ]
    },
    {
     "name": "stdout",
     "output_type": "stream",
     "text": [
      "Значение f1 при С = 10.0, penalty = l1 и балансировке = dict_classes: 0.768682334301558\n",
      "Значение f1 на CV при С = 10.0, penalty = l1 и балансировке = dict_classes: 0.744539595877871\n"
     ]
    },
    {
     "name": "stderr",
     "output_type": "stream",
     "text": [
      "/opt/conda/lib/python3.9/site-packages/sklearn/linear_model/_sag.py:328: ConvergenceWarning: The max_iter was reached which means the coef_ did not converge\n",
      "  warnings.warn(\"The max_iter was reached which means \"\n",
      "/opt/conda/lib/python3.9/site-packages/sklearn/linear_model/_sag.py:328: ConvergenceWarning: The max_iter was reached which means the coef_ did not converge\n",
      "  warnings.warn(\"The max_iter was reached which means \"\n"
     ]
    },
    {
     "name": "stdout",
     "output_type": "stream",
     "text": [
      "Значение f1 при С = 10.0, penalty = l1 и балансировке = balanced: 0.7571683521713265\n",
      "Значение f1 на CV при С = 10.0, penalty = l1 и балансировке = balanced: 0.7393090292567341\n"
     ]
    },
    {
     "name": "stderr",
     "output_type": "stream",
     "text": [
      "/opt/conda/lib/python3.9/site-packages/sklearn/linear_model/_sag.py:328: ConvergenceWarning: The max_iter was reached which means the coef_ did not converge\n",
      "  warnings.warn(\"The max_iter was reached which means \"\n"
     ]
    },
    {
     "data": {
      "application/vnd.jupyter.widget-view+json": {
       "model_id": "249c3456769d434b8cac14027c47f311",
       "version_major": 2,
       "version_minor": 0
      },
      "text/plain": [
       "  0%|          | 0/3 [00:00<?, ?it/s]"
      ]
     },
     "metadata": {},
     "output_type": "display_data"
    },
    {
     "name": "stdout",
     "output_type": "stream",
     "text": [
      "Значение f1 при С = 10.0, penalty = l2 и балансировке = None: 0.7635116598079561\n",
      "Значение f1 на CV при С = 10.0, penalty = l2 и балансировке = None: 0.7257110211195461\n",
      "Значение f1 при С = 10.0, penalty = l2 и балансировке = dict_classes: 0.7635116598079561\n",
      "Значение f1 на CV при С = 10.0, penalty = l2 и балансировке = dict_classes: 0.7257110211195461\n"
     ]
    },
    {
     "name": "stderr",
     "output_type": "stream",
     "text": [
      "/opt/conda/lib/python3.9/site-packages/sklearn/linear_model/_sag.py:328: ConvergenceWarning: The max_iter was reached which means the coef_ did not converge\n",
      "  warnings.warn(\"The max_iter was reached which means \"\n",
      "/opt/conda/lib/python3.9/site-packages/sklearn/linear_model/_sag.py:328: ConvergenceWarning: The max_iter was reached which means the coef_ did not converge\n",
      "  warnings.warn(\"The max_iter was reached which means \"\n"
     ]
    },
    {
     "name": "stdout",
     "output_type": "stream",
     "text": [
      "Значение f1 при С = 10.0, penalty = l2 и балансировке = balanced: 0.7055807533030961\n",
      "Значение f1 на CV при С = 10.0, penalty = l2 и балансировке = balanced: 0.7387301906470753\n"
     ]
    },
    {
     "name": "stderr",
     "output_type": "stream",
     "text": [
      "/opt/conda/lib/python3.9/site-packages/sklearn/linear_model/_sag.py:328: ConvergenceWarning: The max_iter was reached which means the coef_ did not converge\n",
      "  warnings.warn(\"The max_iter was reached which means \"\n"
     ]
    },
    {
     "data": {
      "application/vnd.jupyter.widget-view+json": {
       "model_id": "51eccafb77a84772a6ad20be8bff25e7",
       "version_major": 2,
       "version_minor": 0
      },
      "text/plain": [
       "  0%|          | 0/2 [00:00<?, ?it/s]"
      ]
     },
     "metadata": {},
     "output_type": "display_data"
    },
    {
     "data": {
      "application/vnd.jupyter.widget-view+json": {
       "model_id": "aa063ebe392441d2af5816fe3c4f8ec5",
       "version_major": 2,
       "version_minor": 0
      },
      "text/plain": [
       "  0%|          | 0/3 [00:00<?, ?it/s]"
      ]
     },
     "metadata": {},
     "output_type": "display_data"
    },
    {
     "name": "stderr",
     "output_type": "stream",
     "text": [
      "/opt/conda/lib/python3.9/site-packages/sklearn/linear_model/_sag.py:328: ConvergenceWarning: The max_iter was reached which means the coef_ did not converge\n",
      "  warnings.warn(\"The max_iter was reached which means \"\n",
      "/opt/conda/lib/python3.9/site-packages/sklearn/linear_model/_sag.py:328: ConvergenceWarning: The max_iter was reached which means the coef_ did not converge\n",
      "  warnings.warn(\"The max_iter was reached which means \"\n",
      "/opt/conda/lib/python3.9/site-packages/sklearn/linear_model/_sag.py:328: ConvergenceWarning: The max_iter was reached which means the coef_ did not converge\n",
      "  warnings.warn(\"The max_iter was reached which means \"\n"
     ]
    },
    {
     "name": "stdout",
     "output_type": "stream",
     "text": [
      "Значение f1 при С = 15.0, penalty = l1 и балансировке = None: 0.764968487394958\n",
      "Значение f1 на CV при С = 15.0, penalty = l1 и балансировке = None: 0.7422201609948932\n"
     ]
    },
    {
     "name": "stderr",
     "output_type": "stream",
     "text": [
      "/opt/conda/lib/python3.9/site-packages/sklearn/linear_model/_sag.py:328: ConvergenceWarning: The max_iter was reached which means the coef_ did not converge\n",
      "  warnings.warn(\"The max_iter was reached which means \"\n",
      "/opt/conda/lib/python3.9/site-packages/sklearn/linear_model/_sag.py:328: ConvergenceWarning: The max_iter was reached which means the coef_ did not converge\n",
      "  warnings.warn(\"The max_iter was reached which means \"\n",
      "/opt/conda/lib/python3.9/site-packages/sklearn/linear_model/_sag.py:328: ConvergenceWarning: The max_iter was reached which means the coef_ did not converge\n",
      "  warnings.warn(\"The max_iter was reached which means \"\n"
     ]
    },
    {
     "name": "stdout",
     "output_type": "stream",
     "text": [
      "Значение f1 при С = 15.0, penalty = l1 и балансировке = dict_classes: 0.7649067507223536\n",
      "Значение f1 на CV при С = 15.0, penalty = l1 и балансировке = dict_classes: 0.7423022189789923\n"
     ]
    },
    {
     "name": "stderr",
     "output_type": "stream",
     "text": [
      "/opt/conda/lib/python3.9/site-packages/sklearn/linear_model/_sag.py:328: ConvergenceWarning: The max_iter was reached which means the coef_ did not converge\n",
      "  warnings.warn(\"The max_iter was reached which means \"\n",
      "/opt/conda/lib/python3.9/site-packages/sklearn/linear_model/_sag.py:328: ConvergenceWarning: The max_iter was reached which means the coef_ did not converge\n",
      "  warnings.warn(\"The max_iter was reached which means \"\n"
     ]
    },
    {
     "name": "stdout",
     "output_type": "stream",
     "text": [
      "Значение f1 при С = 15.0, penalty = l1 и балансировке = balanced: 0.75418860698899\n",
      "Значение f1 на CV при С = 15.0, penalty = l1 и балансировке = balanced: 0.7405674162399674\n"
     ]
    },
    {
     "name": "stderr",
     "output_type": "stream",
     "text": [
      "/opt/conda/lib/python3.9/site-packages/sklearn/linear_model/_sag.py:328: ConvergenceWarning: The max_iter was reached which means the coef_ did not converge\n",
      "  warnings.warn(\"The max_iter was reached which means \"\n"
     ]
    },
    {
     "data": {
      "application/vnd.jupyter.widget-view+json": {
       "model_id": "011657e9d4574441b8c784f7f88c9869",
       "version_major": 2,
       "version_minor": 0
      },
      "text/plain": [
       "  0%|          | 0/3 [00:00<?, ?it/s]"
      ]
     },
     "metadata": {},
     "output_type": "display_data"
    },
    {
     "name": "stdout",
     "output_type": "stream",
     "text": [
      "Значение f1 при С = 15.0, penalty = l2 и балансировке = None: 0.7648339684267829\n",
      "Значение f1 на CV при С = 15.0, penalty = l2 и балансировке = None: 0.7282479988776602\n",
      "Значение f1 при С = 15.0, penalty = l2 и балансировке = dict_classes: 0.7648339684267829\n",
      "Значение f1 на CV при С = 15.0, penalty = l2 и балансировке = dict_classes: 0.7282479988776602\n"
     ]
    },
    {
     "name": "stderr",
     "output_type": "stream",
     "text": [
      "/opt/conda/lib/python3.9/site-packages/sklearn/linear_model/_sag.py:328: ConvergenceWarning: The max_iter was reached which means the coef_ did not converge\n",
      "  warnings.warn(\"The max_iter was reached which means \"\n",
      "/opt/conda/lib/python3.9/site-packages/sklearn/linear_model/_sag.py:328: ConvergenceWarning: The max_iter was reached which means the coef_ did not converge\n",
      "  warnings.warn(\"The max_iter was reached which means \"\n"
     ]
    },
    {
     "name": "stdout",
     "output_type": "stream",
     "text": [
      "Значение f1 при С = 15.0, penalty = l2 и балансировке = balanced: 0.7533621798620044\n",
      "Значение f1 на CV при С = 15.0, penalty = l2 и балансировке = balanced: 0.731436129064762\n"
     ]
    },
    {
     "name": "stderr",
     "output_type": "stream",
     "text": [
      "/opt/conda/lib/python3.9/site-packages/sklearn/linear_model/_sag.py:328: ConvergenceWarning: The max_iter was reached which means the coef_ did not converge\n",
      "  warnings.warn(\"The max_iter was reached which means \"\n"
     ]
    }
   ],
   "source": [
    "class_ratio = df['toxic'].value_counts()[0]/df['toxic'].value_counts()[1]\n",
    "dict_classes={0:1, 1:class_ratio}\n",
    "\n",
    "list_C = [5.0, 10.0, 15.0]\n",
    "list_penalty = ['l1', 'l2']\n",
    "list_weight = ['None', 'dict_classes', 'balanced']\n",
    "\n",
    "model_table = pd.DataFrame(columns = ['модель', 'C', 'penalty', 'class_weight' 'cv_f1_LR', 'F1'])\n",
    "\n",
    "for C in tqdm(list_C):\n",
    "    for penalty in tqdm(list_penalty):\n",
    "        for weight in tqdm(list_weight):\n",
    "            model = LogisticRegression(C=C, penalty=penalty, class_weight=weight, solver='saga')\n",
    "            model.fit(X_train, y_train)\n",
    "            predictions = model.predict(X_valid)\n",
    "            f1 = f1_score(y_valid, predictions)\n",
    "            cv_f1_LR = cross_val_score(model,\n",
    "                        X_train, \n",
    "                        y_train, \n",
    "                        cv=cv_counts, \n",
    "                        scoring='f1').mean()\n",
    "            print(f\"Значение f1 при С = {C}, penalty = {penalty} и балансировке = {weight}:\", f1)\n",
    "            print(f\"Значение f1 на CV при С = {C}, penalty = {penalty} и балансировке = {weight}:\", cv_f1_LR)\n",
    "            new_row = ['логистическая регрессия', C, penalty, weight, cv_f1_LR, f1]\n",
    "            model_table = model_table.append({'модель': 'логистическая регрессия',\n",
    "                                'C' : C,\n",
    "                                'penalty' : penalty,\n",
    "                                'class_weight' : weight,\n",
    "                                'cv_f1_LR' : cv_f1_LR,\n",
    "                                'F1' : f1},\n",
    "                                ignore_index=True)\n",
    "\n",
    "\n"
   ]
  },
  {
   "cell_type": "code",
   "execution_count": 25,
   "id": "b787082b",
   "metadata": {},
   "outputs": [
    {
     "name": "stdout",
     "output_type": "stream",
     "text": [
      "                     модель     C penalty  class_weightcv_f1_LR        F1  \\\n",
      "0   логистическая регрессия   5.0      l1                   NaN  0.774228   \n",
      "1   логистическая регрессия   5.0      l1                   NaN  0.774168   \n",
      "2   логистическая регрессия   5.0      l1                   NaN  0.744441   \n",
      "3   логистическая регрессия   5.0      l2                   NaN  0.759564   \n",
      "4   логистическая регрессия   5.0      l2                   NaN  0.759564   \n",
      "5   логистическая регрессия   5.0      l2                   NaN  0.751863   \n",
      "6   логистическая регрессия  10.0      l1                   NaN  0.768784   \n",
      "7   логистическая регрессия  10.0      l1                   NaN  0.768682   \n",
      "8   логистическая регрессия  10.0      l1                   NaN  0.757168   \n",
      "9   логистическая регрессия  10.0      l2                   NaN  0.763512   \n",
      "10  логистическая регрессия  10.0      l2                   NaN  0.763512   \n",
      "11  логистическая регрессия  10.0      l2                   NaN  0.705581   \n",
      "12  логистическая регрессия  15.0      l1                   NaN  0.764968   \n",
      "13  логистическая регрессия  15.0      l1                   NaN  0.764907   \n",
      "14  логистическая регрессия  15.0      l1                   NaN  0.754189   \n",
      "15  логистическая регрессия  15.0      l2                   NaN  0.764834   \n",
      "16  логистическая регрессия  15.0      l2                   NaN  0.764834   \n",
      "17  логистическая регрессия  15.0      l2                   NaN  0.753362   \n",
      "\n",
      "    class_weight  cv_f1_LR  \n",
      "0           None  0.749787  \n",
      "1   dict_classes  0.749894  \n",
      "2       balanced  0.735282  \n",
      "3           None  0.713762  \n",
      "4   dict_classes  0.713804  \n",
      "5       balanced  0.740355  \n",
      "6           None  0.744410  \n",
      "7   dict_classes  0.744540  \n",
      "8       balanced  0.739309  \n",
      "9           None  0.725711  \n",
      "10  dict_classes  0.725711  \n",
      "11      balanced  0.738730  \n",
      "12          None  0.742220  \n",
      "13  dict_classes  0.742302  \n",
      "14      balanced  0.740567  \n",
      "15          None  0.728248  \n",
      "16  dict_classes  0.728248  \n",
      "17      balanced  0.731436  \n"
     ]
    }
   ],
   "source": [
    "print(model_table)"
   ]
  },
  {
   "cell_type": "markdown",
   "id": "c0b1ce66",
   "metadata": {},
   "source": [
    "Максимальное значение f1 = 0.774228 добились при таких параметрах Значение f1 при С = 5.0, penalty = l1 и балансировке = None: "
   ]
  },
  {
   "cell_type": "code",
   "execution_count": 26,
   "id": "82985207",
   "metadata": {},
   "outputs": [],
   "source": [
    "# Присвоим лучшее значение f1 переменной valid_f1_LR для будущего сравнения\n",
    "valid_f1_LR = 0.7740218259249401\n",
    "cv_f1_LR = 0.749752\n"
   ]
  },
  {
   "cell_type": "markdown",
   "id": "53488867",
   "metadata": {},
   "source": [
    "### Решающее дерево\n",
    "\n",
    "обучим модель решающее дерево"
   ]
  },
  {
   "cell_type": "code",
   "execution_count": 27,
   "id": "7df1ed09",
   "metadata": {},
   "outputs": [
    {
     "name": "stdout",
     "output_type": "stream",
     "text": [
      "Лучший параметр f1 на валидации: 0.6045669729880256\n",
      "Лучший параметр f1 на CV: 0.5975479757912054\n",
      "C глубиной: 24\n"
     ]
    }
   ],
   "source": [
    "best_depth = 0\n",
    "best_result = 0\n",
    "best_cv_result = 0\n",
    "best_model = None \n",
    "for depth in range(2, 26, 2):\n",
    "    model_tree = DecisionTreeClassifier(random_state=RANDOM_STATE, max_depth = depth, class_weight=dict_classes) # обучение модели с заданной глубиной\n",
    "    model_tree.fit(X_train, y_train) # обучение модели на тренировочной выборке\n",
    "    predictions = model_tree.predict(X_valid) # подсчёт качества модели на валидационной выборке\n",
    "    result = f1_score(y_valid, predictions)\n",
    "\n",
    "    if result > best_result:\n",
    "        best_result = result\n",
    "        best_depth = depth\n",
    "\n",
    "model_tree = DecisionTreeClassifier(random_state=RANDOM_STATE, max_depth = best_depth, class_weight=dict_classes)        \n",
    "cv_f1_DT = cross_val_score(model_tree,\n",
    "                        X_train, \n",
    "                        y_train, \n",
    "                        cv=cv_counts, \n",
    "                        scoring='f1').mean()\n",
    "         \n",
    "valid_f1_DT = best_result\n",
    "print('Лучший параметр f1 на валидации:', best_result)\n",
    "print('Лучший параметр f1 на CV:', cv_f1_DT)\n",
    "print('C глубиной:', best_depth)"
   ]
  },
  {
   "cell_type": "markdown",
   "id": "762a6688",
   "metadata": {},
   "source": [
    "### CatBoostClassifier \n",
    "\n",
    "Обучим модель CatBoostClassifier "
   ]
  },
  {
   "cell_type": "code",
   "execution_count": 28,
   "id": "e8f83a49",
   "metadata": {},
   "outputs": [
    {
     "name": "stdout",
     "output_type": "stream",
     "text": [
      "F1 на cv 0.7346476098955408\n",
      "F1 на валидации 0.7476739034116083\n"
     ]
    }
   ],
   "source": [
    "model_CatBoost = CatBoostClassifier(verbose=False, iterations=250, class_weights=dict_classes)\n",
    "model_CatBoost.fit(X_train, y_train)\n",
    "predictions = model_CatBoost.predict(X_valid)\n",
    "cv_f1_CB = cross_val_score(model_CatBoost,\n",
    "                            X_train, \n",
    "                            y_train, \n",
    "                            cv=cv_counts, \n",
    "                            scoring='f1').mean()\n",
    "valid_f1_CB = f1_score(y_valid, predictions)\n",
    "print('F1 на cv', cv_f1_CB)\n",
    "print('F1 на валидации', valid_f1_CB)"
   ]
  },
  {
   "cell_type": "code",
   "execution_count": 29,
   "id": "f29cfe97",
   "metadata": {},
   "outputs": [
    {
     "data": {
      "text/html": [
       "<div>\n",
       "<style scoped>\n",
       "    .dataframe tbody tr th:only-of-type {\n",
       "        vertical-align: middle;\n",
       "    }\n",
       "\n",
       "    .dataframe tbody tr th {\n",
       "        vertical-align: top;\n",
       "    }\n",
       "\n",
       "    .dataframe thead th {\n",
       "        text-align: right;\n",
       "    }\n",
       "</style>\n",
       "<table border=\"1\" class=\"dataframe\">\n",
       "  <thead>\n",
       "    <tr style=\"text-align: right;\">\n",
       "      <th></th>\n",
       "      <th>F1 на CV</th>\n",
       "      <th>F1 на валидации</th>\n",
       "      <th>Выполнение задачи</th>\n",
       "    </tr>\n",
       "  </thead>\n",
       "  <tbody>\n",
       "    <tr>\n",
       "      <th>LogisticRegression</th>\n",
       "      <td>0.749752</td>\n",
       "      <td>0.774022</td>\n",
       "      <td>True</td>\n",
       "    </tr>\n",
       "    <tr>\n",
       "      <th>DecisionTreeClassifier</th>\n",
       "      <td>0.597548</td>\n",
       "      <td>0.604567</td>\n",
       "      <td>False</td>\n",
       "    </tr>\n",
       "    <tr>\n",
       "      <th>CatBoostClassifier</th>\n",
       "      <td>0.734648</td>\n",
       "      <td>0.747674</td>\n",
       "      <td>False</td>\n",
       "    </tr>\n",
       "  </tbody>\n",
       "</table>\n",
       "</div>"
      ],
      "text/plain": [
       "                        F1 на CV  F1 на валидации  Выполнение задачи\n",
       "LogisticRegression      0.749752         0.774022               True\n",
       "DecisionTreeClassifier  0.597548         0.604567              False\n",
       "CatBoostClassifier      0.734648         0.747674              False"
      ]
     },
     "execution_count": 29,
     "metadata": {},
     "output_type": "execute_result"
    }
   ],
   "source": [
    "index = ['LogisticRegression',\n",
    "         'DecisionTreeClassifier',\n",
    "         'CatBoostClassifier']\n",
    "data = {'F1 на CV':[cv_f1_LR,\n",
    "                    cv_f1_DT,\n",
    "                    cv_f1_CB],\n",
    "        'F1 на валидации':[valid_f1_LR,\n",
    "                           valid_f1_DT,\n",
    "                           valid_f1_CB]}\n",
    "\n",
    "scores_data = pd.DataFrame(data=data, index=index)\n",
    "scores_data['Выполнение задачи'] = scores_data['F1 на валидации'] > 0.75\n",
    "scores_data"
   ]
  },
  {
   "cell_type": "markdown",
   "id": "817abcc7",
   "metadata": {},
   "source": [
    "На тестовых данных будем тестировать логистическую регрессию"
   ]
  },
  {
   "cell_type": "markdown",
   "id": "7c2a346c",
   "metadata": {},
   "source": [
    "Логистическая регрессия показала наилучие результаты из рассматриваемых моделей. \n",
    "Длаее логистическую регрессию с гиперпараметрами, которые дали лучший результат на тренировочной выборке, обучим на тестовой выборке."
   ]
  },
  {
   "cell_type": "code",
   "execution_count": 31,
   "id": "7e05164a",
   "metadata": {},
   "outputs": [
    {
     "name": "stderr",
     "output_type": "stream",
     "text": [
      "/opt/conda/lib/python3.9/site-packages/sklearn/linear_model/_sag.py:328: ConvergenceWarning: The max_iter was reached which means the coef_ did not converge\n",
      "  warnings.warn(\"The max_iter was reached which means \"\n"
     ]
    },
    {
     "name": "stdout",
     "output_type": "stream",
     "text": [
      "Метрики LogisticRegression\n",
      "ROC AUC: 0.9624230237163651\n",
      "F1: 0.7815384615384616\n",
      "Precision: 0.856849515987093\n",
      "Recall: 0.7183964584358091\n",
      "Accuracy: 0.9589935464430103\n",
      "\n"
     ]
    },
    {
     "data": {
      "image/png": "[encoded data removed]",
      "text/plain": [
       "<Figure size 864x648 with 1 Axes>"
      ]
     },
     "metadata": {
      "needs_background": "light"
     },
     "output_type": "display_data"
    }
   ],
   "source": [
    "plt.figure(figsize=[12,9])\n",
    "\n",
    "plt.plot([0, 1], [0, 1], linestyle='--', label='RandomModel')\n",
    "\n",
    "\n",
    "model = LogisticRegression(C=5.0, penalty='l1',  class_weight='dict_classes', solver='saga')\n",
    "model.fit(X_train, y_train)\n",
    "probabilities_test = model.predict_proba(X_test)\n",
    "probabilities_one_test = probabilities_test[:, 1]\n",
    "fpr, tpr, thresholds = roc_curve(y_test, probabilities_one_test)\n",
    "predict_test = model.predict(X_test)\n",
    "plt.plot(fpr, tpr, label='LogisticRegression')\n",
    "print('Метрики LogisticRegression')\n",
    "print('ROC AUC:', roc_auc_score(y_test, probabilities_one_test))\n",
    "print('F1:', f1_score(y_test, predict_test))\n",
    "print('Precision:', precision_score(y_test, predict_test))\n",
    "print('Recall:', recall_score(y_test, predict_test))\n",
    "print('Accuracy:', accuracy_score(y_test, predict_test))\n",
    "print()\n",
    "\n",
    "plt.xlim([0,1])\n",
    "plt.ylim([0,1])\n",
    "\n",
    "plt.xlabel(\"False Positive Rate\")\n",
    "plt.ylabel(\"True Positive Rate\")\n",
    "\n",
    "plt.legend(loc='lower right', fontsize='x-large')\n",
    "\n",
    "plt.title(\"ROC-кривая\")\n",
    "plt.show()"
   ]
  },
  {
   "cell_type": "markdown",
   "id": "d168dee3",
   "metadata": {},
   "source": [
    "Добились разультата метрики f1 на тестовой выборке 0.753, что удовлетворяем условиям задачи."
   ]
  },
  {
   "cell_type": "markdown",
   "id": "470a8c5e",
   "metadata": {},
   "source": [
    "## Выводы"
   ]
  },
  {
   "cell_type": "markdown",
   "id": "25f5b779",
   "metadata": {},
   "source": [
    "Подготовлены данные для обучения. Сформированы выборки для обучения. Выбран способ балансировки данных. Обучены модели выбрана лучшая из них. Проверили модель на тестовой выборке. Модель прошла проверку. Луше всего себя показала логистическая регрессия с гиперпараметрами: C=5.0, penalty='l1',  class_weight='None', solver='saga'"
   ]
  }
 ],
 "metadata": {
  "ExecuteTimeLog": [
   {
    "duration": 3704,
    "start_time": "2023-12-15T12:45:07.484Z"
   },
   {
    "duration": 2853,
    "start_time": "2023-12-15T12:53:04.177Z"
   },
   {
    "duration": 59,
    "start_time": "2023-12-15T12:53:07.032Z"
   },
   {
    "duration": 4,
    "start_time": "2023-12-15T12:53:07.093Z"
   },
   {
    "duration": 3277,
    "start_time": "2023-12-15T12:53:07.099Z"
   },
   {
    "duration": 15,
    "start_time": "2023-12-15T12:53:10.377Z"
   },
   {
    "duration": 38,
    "start_time": "2023-12-15T12:53:10.393Z"
   },
   {
    "duration": 6,
    "start_time": "2023-12-15T12:53:10.433Z"
   },
   {
    "duration": 15,
    "start_time": "2023-12-15T12:53:10.441Z"
   },
   {
    "duration": 10,
    "start_time": "2023-12-15T12:53:10.457Z"
   },
   {
    "duration": 53,
    "start_time": "2023-12-15T12:53:10.470Z"
   },
   {
    "duration": 9,
    "start_time": "2023-12-15T12:53:10.528Z"
   },
   {
    "duration": 33,
    "start_time": "2023-12-15T12:53:10.539Z"
   },
   {
    "duration": 232,
    "start_time": "2023-12-15T12:53:10.573Z"
   },
   {
    "duration": 10273,
    "start_time": "2023-12-15T12:58:17.093Z"
   },
   {
    "duration": 14446,
    "start_time": "2023-12-15T12:59:25.611Z"
   },
   {
    "duration": 5314,
    "start_time": "2023-12-15T13:14:54.051Z"
   },
   {
    "duration": 76,
    "start_time": "2023-12-15T13:15:03.935Z"
   },
   {
    "duration": 82,
    "start_time": "2023-12-15T13:15:08.044Z"
   },
   {
    "duration": 521,
    "start_time": "2023-12-15T13:18:31.259Z"
   },
   {
    "duration": 81,
    "start_time": "2023-12-15T13:18:41.236Z"
   },
   {
    "duration": 150,
    "start_time": "2023-12-15T13:18:53.581Z"
   },
   {
    "duration": 150,
    "start_time": "2023-12-15T13:19:01.142Z"
   },
   {
    "duration": 151,
    "start_time": "2023-12-15T13:19:22.817Z"
   },
   {
    "duration": 155,
    "start_time": "2023-12-15T13:20:16.822Z"
   },
   {
    "duration": 150,
    "start_time": "2023-12-15T13:21:20.965Z"
   },
   {
    "duration": 3,
    "start_time": "2023-12-15T13:23:11.033Z"
   },
   {
    "duration": 58,
    "start_time": "2023-12-15T13:23:15.975Z"
   },
   {
    "duration": 160,
    "start_time": "2023-12-15T13:23:20.185Z"
   },
   {
    "duration": 145,
    "start_time": "2023-12-15T13:23:36.745Z"
   },
   {
    "duration": 152,
    "start_time": "2023-12-15T13:23:49.514Z"
   },
   {
    "duration": 209,
    "start_time": "2023-12-15T13:24:49.432Z"
   },
   {
    "duration": 84,
    "start_time": "2023-12-15T13:29:55.784Z"
   },
   {
    "duration": 506,
    "start_time": "2023-12-15T13:30:28.963Z"
   },
   {
    "duration": 475,
    "start_time": "2023-12-15T13:34:15.170Z"
   },
   {
    "duration": 663,
    "start_time": "2023-12-15T13:35:37.291Z"
   },
   {
    "duration": 468,
    "start_time": "2023-12-15T13:35:42.937Z"
   },
   {
    "duration": 454,
    "start_time": "2023-12-15T13:36:04.260Z"
   },
   {
    "duration": 280,
    "start_time": "2023-12-15T14:00:48.090Z"
   },
   {
    "duration": 236,
    "start_time": "2023-12-15T14:01:03.929Z"
   },
   {
    "duration": 20490,
    "start_time": "2023-12-15T14:02:47.821Z"
   },
   {
    "duration": 6295,
    "start_time": "2023-12-15T14:03:09.892Z"
   },
   {
    "duration": 44,
    "start_time": "2023-12-15T14:03:50.736Z"
   },
   {
    "duration": 19,
    "start_time": "2023-12-15T14:05:29.451Z"
   },
   {
    "duration": 51,
    "start_time": "2023-12-15T14:05:42.764Z"
   },
   {
    "duration": 13328,
    "start_time": "2023-12-15T14:05:54.712Z"
   },
   {
    "duration": 7,
    "start_time": "2023-12-15T14:06:08.042Z"
   },
   {
    "duration": 928,
    "start_time": "2023-12-15T14:06:08.051Z"
   },
   {
    "duration": 8,
    "start_time": "2023-12-15T14:06:08.982Z"
   },
   {
    "duration": 46,
    "start_time": "2023-12-15T14:06:08.991Z"
   },
   {
    "duration": 17,
    "start_time": "2023-12-15T14:06:09.040Z"
   },
   {
    "duration": 29,
    "start_time": "2023-12-15T14:06:09.059Z"
   },
   {
    "duration": 18,
    "start_time": "2023-12-15T14:06:09.089Z"
   },
   {
    "duration": 34,
    "start_time": "2023-12-15T14:06:09.109Z"
   },
   {
    "duration": 9,
    "start_time": "2023-12-15T14:06:09.145Z"
   },
   {
    "duration": 37,
    "start_time": "2023-12-15T14:06:09.156Z"
   },
   {
    "duration": 233,
    "start_time": "2023-12-15T14:06:09.194Z"
   },
   {
    "duration": 7,
    "start_time": "2023-12-15T14:06:09.428Z"
   },
   {
    "duration": 4361,
    "start_time": "2023-12-15T14:06:09.436Z"
   },
   {
    "duration": 933,
    "start_time": "2023-12-15T14:06:13.799Z"
   },
   {
    "duration": 48,
    "start_time": "2023-12-15T14:06:14.733Z"
   },
   {
    "duration": 52,
    "start_time": "2023-12-15T14:07:00.834Z"
   },
   {
    "duration": 17674,
    "start_time": "2023-12-15T14:07:11.503Z"
   },
   {
    "duration": 4,
    "start_time": "2023-12-15T14:07:29.179Z"
   },
   {
    "duration": 891,
    "start_time": "2023-12-15T14:07:29.185Z"
   },
   {
    "duration": 12,
    "start_time": "2023-12-15T14:07:30.079Z"
   },
   {
    "duration": 65,
    "start_time": "2023-12-15T14:07:30.092Z"
   },
   {
    "duration": 7,
    "start_time": "2023-12-15T14:07:30.159Z"
   },
   {
    "duration": 54,
    "start_time": "2023-12-15T14:07:30.168Z"
   },
   {
    "duration": 55,
    "start_time": "2023-12-15T14:07:30.224Z"
   },
   {
    "duration": 99,
    "start_time": "2023-12-15T14:07:30.281Z"
   },
   {
    "duration": 44,
    "start_time": "2023-12-15T14:07:30.382Z"
   },
   {
    "duration": 52,
    "start_time": "2023-12-15T14:07:30.427Z"
   },
   {
    "duration": 250,
    "start_time": "2023-12-15T14:07:30.480Z"
   },
   {
    "duration": 3,
    "start_time": "2023-12-15T14:07:30.732Z"
   },
   {
    "duration": 4451,
    "start_time": "2023-12-15T14:07:30.736Z"
   },
   {
    "duration": 542,
    "start_time": "2023-12-15T14:07:35.189Z"
   },
   {
    "duration": 46,
    "start_time": "2023-12-15T14:07:35.732Z"
   },
   {
    "duration": 0,
    "start_time": "2023-12-15T14:07:35.780Z"
   },
   {
    "duration": 0,
    "start_time": "2023-12-15T14:07:35.782Z"
   },
   {
    "duration": 0,
    "start_time": "2023-12-15T14:07:35.784Z"
   },
   {
    "duration": 0,
    "start_time": "2023-12-15T14:07:35.785Z"
   },
   {
    "duration": 0,
    "start_time": "2023-12-15T14:07:35.787Z"
   },
   {
    "duration": 0,
    "start_time": "2023-12-15T14:07:35.788Z"
   },
   {
    "duration": 0,
    "start_time": "2023-12-15T14:07:35.790Z"
   },
   {
    "duration": 0,
    "start_time": "2023-12-15T14:07:35.791Z"
   },
   {
    "duration": 0,
    "start_time": "2023-12-15T14:07:35.793Z"
   },
   {
    "duration": 0,
    "start_time": "2023-12-15T14:07:35.794Z"
   },
   {
    "duration": 0,
    "start_time": "2023-12-15T14:07:35.796Z"
   },
   {
    "duration": 0,
    "start_time": "2023-12-15T14:07:35.797Z"
   },
   {
    "duration": 0,
    "start_time": "2023-12-15T14:07:35.799Z"
   },
   {
    "duration": 0,
    "start_time": "2023-12-15T14:07:35.800Z"
   },
   {
    "duration": 52,
    "start_time": "2023-12-15T14:08:13.595Z"
   },
   {
    "duration": 51,
    "start_time": "2023-12-15T14:08:30.332Z"
   },
   {
    "duration": 12795,
    "start_time": "2023-12-15T14:11:03.293Z"
   },
   {
    "duration": 2620,
    "start_time": "2023-12-15T14:11:32.540Z"
   },
   {
    "duration": 59,
    "start_time": "2023-12-15T14:11:51.048Z"
   },
   {
    "duration": 20,
    "start_time": "2023-12-15T14:12:07.728Z"
   },
   {
    "duration": 37919,
    "start_time": "2023-12-15T14:13:17.281Z"
   },
   {
    "duration": 13291,
    "start_time": "2023-12-15T14:14:34.448Z"
   },
   {
    "duration": 52,
    "start_time": "2023-12-15T14:15:04.573Z"
   },
   {
    "duration": 22,
    "start_time": "2023-12-15T14:18:21.478Z"
   },
   {
    "duration": 2700050,
    "start_time": "2023-12-15T14:18:26.601Z"
   },
   {
    "duration": 45,
    "start_time": "2023-12-15T15:58:07.791Z"
   },
   {
    "duration": 7582,
    "start_time": "2023-12-15T15:58:08.704Z"
   },
   {
    "duration": 3,
    "start_time": "2023-12-15T15:58:21.745Z"
   },
   {
    "duration": 50,
    "start_time": "2023-12-15T15:58:26.812Z"
   },
   {
    "duration": 72194,
    "start_time": "2023-12-15T15:58:45.032Z"
   },
   {
    "duration": 104792,
    "start_time": "2023-12-15T15:59:57.228Z"
   },
   {
    "duration": 60623,
    "start_time": "2023-12-15T16:01:42.021Z"
   },
   {
    "duration": 32,
    "start_time": "2023-12-15T16:08:42.613Z"
   },
   {
    "duration": 258264,
    "start_time": "2023-12-15T16:10:48.564Z"
   },
   {
    "duration": 25,
    "start_time": "2023-12-15T16:15:40.409Z"
   },
   {
    "duration": 23,
    "start_time": "2023-12-15T16:15:48.624Z"
   },
   {
    "duration": 15521,
    "start_time": "2023-12-15T16:16:07.668Z"
   },
   {
    "duration": 54904,
    "start_time": "2023-12-15T16:16:32.318Z"
   },
   {
    "duration": 797380,
    "start_time": "2023-12-15T16:37:15.060Z"
   },
   {
    "duration": 45,
    "start_time": "2023-12-15T16:55:40.005Z"
   },
   {
    "duration": 45,
    "start_time": "2023-12-15T16:57:54.131Z"
   },
   {
    "duration": 37435,
    "start_time": "2023-12-15T16:58:08.701Z"
   },
   {
    "duration": 135470,
    "start_time": "2023-12-15T17:01:48.779Z"
   },
   {
    "duration": 45,
    "start_time": "2023-12-15T17:06:05.374Z"
   },
   {
    "duration": 41,
    "start_time": "2023-12-15T17:06:19.833Z"
   },
   {
    "duration": 43,
    "start_time": "2023-12-15T17:07:02.314Z"
   },
   {
    "duration": 45,
    "start_time": "2023-12-15T17:07:16.112Z"
   },
   {
    "duration": 34638,
    "start_time": "2023-12-15T17:07:24.620Z"
   },
   {
    "duration": 54,
    "start_time": "2023-12-15T17:08:11.788Z"
   },
   {
    "duration": 51,
    "start_time": "2023-12-15T17:08:20.705Z"
   },
   {
    "duration": 230995,
    "start_time": "2023-12-15T17:08:59.669Z"
   },
   {
    "duration": 0,
    "start_time": "2023-12-15T17:21:02.949Z"
   },
   {
    "duration": 3468081,
    "start_time": "2023-12-15T17:22:23.115Z"
   },
   {
    "duration": 18603,
    "start_time": "2023-12-16T07:27:01.676Z"
   },
   {
    "duration": 7,
    "start_time": "2023-12-16T07:27:20.281Z"
   },
   {
    "duration": 2359,
    "start_time": "2023-12-16T07:27:20.296Z"
   },
   {
    "duration": 11,
    "start_time": "2023-12-16T07:27:22.656Z"
   },
   {
    "duration": 54,
    "start_time": "2023-12-16T07:27:22.669Z"
   },
   {
    "duration": 6,
    "start_time": "2023-12-16T07:27:22.724Z"
   },
   {
    "duration": 29,
    "start_time": "2023-12-16T07:27:22.731Z"
   },
   {
    "duration": 9,
    "start_time": "2023-12-16T07:27:22.761Z"
   },
   {
    "duration": 37,
    "start_time": "2023-12-16T07:27:22.772Z"
   },
   {
    "duration": 10,
    "start_time": "2023-12-16T07:27:22.811Z"
   },
   {
    "duration": 40,
    "start_time": "2023-12-16T07:27:22.823Z"
   },
   {
    "duration": 214,
    "start_time": "2023-12-16T07:27:22.864Z"
   },
   {
    "duration": 4,
    "start_time": "2023-12-16T07:27:23.080Z"
   },
   {
    "duration": 4413,
    "start_time": "2023-12-16T07:27:23.087Z"
   },
   {
    "duration": 623,
    "start_time": "2023-12-16T07:27:27.508Z"
   },
   {
    "duration": 2208626,
    "start_time": "2023-12-16T07:27:28.133Z"
   },
   {
    "duration": 0,
    "start_time": "2023-12-16T08:04:16.761Z"
   },
   {
    "duration": 0,
    "start_time": "2023-12-16T08:04:16.762Z"
   },
   {
    "duration": 0,
    "start_time": "2023-12-16T08:04:16.763Z"
   },
   {
    "duration": 0,
    "start_time": "2023-12-16T08:04:16.764Z"
   },
   {
    "duration": 0,
    "start_time": "2023-12-16T08:04:16.764Z"
   },
   {
    "duration": 0,
    "start_time": "2023-12-16T08:04:16.765Z"
   },
   {
    "duration": 0,
    "start_time": "2023-12-16T08:04:16.766Z"
   },
   {
    "duration": 0,
    "start_time": "2023-12-16T08:04:16.767Z"
   },
   {
    "duration": 0,
    "start_time": "2023-12-16T08:04:16.768Z"
   },
   {
    "duration": 12059,
    "start_time": "2023-12-16T08:04:19.874Z"
   },
   {
    "duration": 4,
    "start_time": "2023-12-16T08:04:31.935Z"
   },
   {
    "duration": 850,
    "start_time": "2023-12-16T08:04:31.940Z"
   },
   {
    "duration": 10,
    "start_time": "2023-12-16T08:04:32.792Z"
   },
   {
    "duration": 39,
    "start_time": "2023-12-16T08:04:32.804Z"
   },
   {
    "duration": 5,
    "start_time": "2023-12-16T08:04:32.844Z"
   },
   {
    "duration": 14,
    "start_time": "2023-12-16T08:04:32.851Z"
   },
   {
    "duration": 15,
    "start_time": "2023-12-16T08:04:32.867Z"
   },
   {
    "duration": 28,
    "start_time": "2023-12-16T08:04:32.884Z"
   },
   {
    "duration": 34,
    "start_time": "2023-12-16T08:04:32.913Z"
   },
   {
    "duration": 54,
    "start_time": "2023-12-16T08:04:32.949Z"
   },
   {
    "duration": 217,
    "start_time": "2023-12-16T08:04:33.005Z"
   },
   {
    "duration": 3,
    "start_time": "2023-12-16T08:04:33.223Z"
   },
   {
    "duration": 4180,
    "start_time": "2023-12-16T08:04:33.229Z"
   },
   {
    "duration": 488,
    "start_time": "2023-12-16T08:04:37.411Z"
   },
   {
    "duration": 12021,
    "start_time": "2023-12-16T08:04:46.537Z"
   },
   {
    "duration": 77,
    "start_time": "2023-12-16T08:15:09.972Z"
   },
   {
    "duration": 49,
    "start_time": "2023-12-16T08:16:58.196Z"
   },
   {
    "duration": 11952,
    "start_time": "2023-12-16T08:18:02.400Z"
   },
   {
    "duration": 78,
    "start_time": "2023-12-16T08:18:19.458Z"
   },
   {
    "duration": 395,
    "start_time": "2023-12-16T08:19:40.742Z"
   },
   {
    "duration": 0,
    "start_time": "2023-12-16T08:24:47.859Z"
   },
   {
    "duration": 12460,
    "start_time": "2023-12-16T08:24:50.712Z"
   },
   {
    "duration": 1600,
    "start_time": "2023-12-16T08:25:12.282Z"
   },
   {
    "duration": 602095,
    "start_time": "2023-12-16T08:26:25.404Z"
   },
   {
    "duration": 48,
    "start_time": "2023-12-16T18:00:07.625Z"
   },
   {
    "duration": 18015,
    "start_time": "2023-12-16T18:00:15.015Z"
   },
   {
    "duration": 300,
    "start_time": "2023-12-16T18:00:33.032Z"
   },
   {
    "duration": 6,
    "start_time": "2023-12-16T18:00:44.403Z"
   },
   {
    "duration": 12,
    "start_time": "2023-12-16T18:00:49.665Z"
   },
   {
    "duration": 16740,
    "start_time": "2023-12-16T18:03:38.757Z"
   },
   {
    "duration": 4,
    "start_time": "2023-12-16T18:03:55.499Z"
   },
   {
    "duration": 3113,
    "start_time": "2023-12-16T18:03:55.504Z"
   },
   {
    "duration": 13,
    "start_time": "2023-12-16T18:03:58.619Z"
   },
   {
    "duration": 31,
    "start_time": "2023-12-16T18:03:58.634Z"
   },
   {
    "duration": 6,
    "start_time": "2023-12-16T18:03:58.666Z"
   },
   {
    "duration": 20,
    "start_time": "2023-12-16T18:03:58.674Z"
   },
   {
    "duration": 6,
    "start_time": "2023-12-16T18:03:58.715Z"
   },
   {
    "duration": 29,
    "start_time": "2023-12-16T18:03:58.723Z"
   },
   {
    "duration": 3,
    "start_time": "2023-12-16T18:03:58.754Z"
   },
   {
    "duration": 37,
    "start_time": "2023-12-16T18:03:58.759Z"
   },
   {
    "duration": 207,
    "start_time": "2023-12-16T18:03:58.815Z"
   },
   {
    "duration": 3,
    "start_time": "2023-12-16T18:03:59.023Z"
   },
   {
    "duration": 3999,
    "start_time": "2023-12-16T18:03:59.029Z"
   },
   {
    "duration": 337,
    "start_time": "2023-12-16T18:04:03.030Z"
   },
   {
    "duration": 0,
    "start_time": "2023-12-16T18:04:03.369Z"
   },
   {
    "duration": 0,
    "start_time": "2023-12-16T18:04:03.370Z"
   },
   {
    "duration": 0,
    "start_time": "2023-12-16T18:04:03.371Z"
   },
   {
    "duration": 0,
    "start_time": "2023-12-16T18:04:03.372Z"
   },
   {
    "duration": 0,
    "start_time": "2023-12-16T18:04:03.373Z"
   },
   {
    "duration": 0,
    "start_time": "2023-12-16T18:04:03.374Z"
   },
   {
    "duration": 0,
    "start_time": "2023-12-16T18:04:03.375Z"
   },
   {
    "duration": 0,
    "start_time": "2023-12-16T18:04:03.375Z"
   },
   {
    "duration": 0,
    "start_time": "2023-12-16T18:04:03.376Z"
   },
   {
    "duration": 0,
    "start_time": "2023-12-16T18:04:03.378Z"
   },
   {
    "duration": 0,
    "start_time": "2023-12-16T18:04:03.378Z"
   },
   {
    "duration": 1519,
    "start_time": "2023-12-16T18:14:25.591Z"
   },
   {
    "duration": 4202,
    "start_time": "2023-12-16T18:14:34.539Z"
   },
   {
    "duration": 0,
    "start_time": "2023-12-16T18:14:38.744Z"
   },
   {
    "duration": 0,
    "start_time": "2023-12-16T18:14:38.745Z"
   },
   {
    "duration": 0,
    "start_time": "2023-12-16T18:14:38.747Z"
   },
   {
    "duration": 0,
    "start_time": "2023-12-16T18:14:38.748Z"
   },
   {
    "duration": 0,
    "start_time": "2023-12-16T18:14:38.750Z"
   },
   {
    "duration": 0,
    "start_time": "2023-12-16T18:14:38.751Z"
   },
   {
    "duration": 0,
    "start_time": "2023-12-16T18:14:38.752Z"
   },
   {
    "duration": 0,
    "start_time": "2023-12-16T18:14:38.754Z"
   },
   {
    "duration": 0,
    "start_time": "2023-12-16T18:14:38.755Z"
   },
   {
    "duration": 0,
    "start_time": "2023-12-16T18:14:38.815Z"
   },
   {
    "duration": 0,
    "start_time": "2023-12-16T18:14:38.817Z"
   },
   {
    "duration": 0,
    "start_time": "2023-12-16T18:14:38.818Z"
   },
   {
    "duration": 0,
    "start_time": "2023-12-16T18:14:38.820Z"
   },
   {
    "duration": 0,
    "start_time": "2023-12-16T18:14:38.821Z"
   },
   {
    "duration": 17019,
    "start_time": "2023-12-16T18:14:44.819Z"
   },
   {
    "duration": 4,
    "start_time": "2023-12-16T18:15:01.840Z"
   },
   {
    "duration": 869,
    "start_time": "2023-12-16T18:15:01.845Z"
   },
   {
    "duration": 11,
    "start_time": "2023-12-16T18:15:02.716Z"
   },
   {
    "duration": 37,
    "start_time": "2023-12-16T18:15:02.729Z"
   },
   {
    "duration": 4,
    "start_time": "2023-12-16T18:15:02.768Z"
   },
   {
    "duration": 26,
    "start_time": "2023-12-16T18:15:02.774Z"
   },
   {
    "duration": 20,
    "start_time": "2023-12-16T18:15:02.801Z"
   },
   {
    "duration": 30,
    "start_time": "2023-12-16T18:15:02.823Z"
   },
   {
    "duration": 7,
    "start_time": "2023-12-16T18:15:02.854Z"
   },
   {
    "duration": 38,
    "start_time": "2023-12-16T18:15:02.863Z"
   },
   {
    "duration": 194,
    "start_time": "2023-12-16T18:15:02.902Z"
   },
   {
    "duration": 3,
    "start_time": "2023-12-16T18:15:03.097Z"
   },
   {
    "duration": 4047,
    "start_time": "2023-12-16T18:15:03.102Z"
   },
   {
    "duration": 1558,
    "start_time": "2023-12-16T18:15:07.150Z"
   },
   {
    "duration": 579999,
    "start_time": "2023-12-16T18:15:08.709Z"
   },
   {
    "duration": 0,
    "start_time": "2023-12-16T18:24:48.709Z"
   },
   {
    "duration": 0,
    "start_time": "2023-12-16T18:24:48.711Z"
   },
   {
    "duration": 0,
    "start_time": "2023-12-16T18:24:48.712Z"
   },
   {
    "duration": 0,
    "start_time": "2023-12-16T18:24:48.713Z"
   },
   {
    "duration": 0,
    "start_time": "2023-12-16T18:24:48.714Z"
   },
   {
    "duration": 0,
    "start_time": "2023-12-16T18:24:48.715Z"
   },
   {
    "duration": 0,
    "start_time": "2023-12-16T18:24:48.716Z"
   },
   {
    "duration": 0,
    "start_time": "2023-12-16T18:24:48.717Z"
   },
   {
    "duration": 0,
    "start_time": "2023-12-16T18:24:48.718Z"
   },
   {
    "duration": 0,
    "start_time": "2023-12-16T18:24:48.719Z"
   },
   {
    "duration": 819,
    "start_time": "2023-12-16T18:52:30.729Z"
   },
   {
    "duration": 51,
    "start_time": "2023-12-16T18:53:10.980Z"
   },
   {
    "duration": 802,
    "start_time": "2023-12-16T18:53:26.569Z"
   },
   {
    "duration": 16827,
    "start_time": "2023-12-16T18:54:30.876Z"
   },
   {
    "duration": 3,
    "start_time": "2023-12-16T18:54:47.704Z"
   },
   {
    "duration": 836,
    "start_time": "2023-12-16T18:54:47.714Z"
   },
   {
    "duration": 11,
    "start_time": "2023-12-16T18:54:48.551Z"
   },
   {
    "duration": 29,
    "start_time": "2023-12-16T18:54:48.564Z"
   },
   {
    "duration": 5,
    "start_time": "2023-12-16T18:54:48.594Z"
   },
   {
    "duration": 13,
    "start_time": "2023-12-16T18:54:48.615Z"
   },
   {
    "duration": 6,
    "start_time": "2023-12-16T18:54:48.630Z"
   },
   {
    "duration": 29,
    "start_time": "2023-12-16T18:54:48.637Z"
   },
   {
    "duration": 3,
    "start_time": "2023-12-16T18:54:48.668Z"
   },
   {
    "duration": 62,
    "start_time": "2023-12-16T18:54:48.673Z"
   },
   {
    "duration": 228,
    "start_time": "2023-12-16T18:54:48.737Z"
   },
   {
    "duration": 4,
    "start_time": "2023-12-16T18:54:48.966Z"
   },
   {
    "duration": 4020,
    "start_time": "2023-12-16T18:54:48.972Z"
   },
   {
    "duration": 1589,
    "start_time": "2023-12-16T18:54:52.993Z"
   },
   {
    "duration": 578325,
    "start_time": "2023-12-16T18:54:54.584Z"
   },
   {
    "duration": 0,
    "start_time": "2023-12-16T19:04:32.910Z"
   },
   {
    "duration": 0,
    "start_time": "2023-12-16T19:04:32.912Z"
   },
   {
    "duration": 0,
    "start_time": "2023-12-16T19:04:32.913Z"
   },
   {
    "duration": 0,
    "start_time": "2023-12-16T19:04:32.914Z"
   },
   {
    "duration": 0,
    "start_time": "2023-12-16T19:04:32.915Z"
   },
   {
    "duration": 0,
    "start_time": "2023-12-16T19:04:32.916Z"
   },
   {
    "duration": 0,
    "start_time": "2023-12-16T19:04:32.917Z"
   },
   {
    "duration": 0,
    "start_time": "2023-12-16T19:04:32.918Z"
   },
   {
    "duration": 0,
    "start_time": "2023-12-16T19:04:32.919Z"
   },
   {
    "duration": 0,
    "start_time": "2023-12-16T19:04:32.920Z"
   },
   {
    "duration": 794,
    "start_time": "2023-12-16T19:05:29.159Z"
   },
   {
    "duration": 16861,
    "start_time": "2023-12-16T19:05:38.935Z"
   },
   {
    "duration": 4,
    "start_time": "2023-12-16T19:05:55.797Z"
   },
   {
    "duration": 871,
    "start_time": "2023-12-16T19:05:55.802Z"
   },
   {
    "duration": 11,
    "start_time": "2023-12-16T19:05:56.674Z"
   },
   {
    "duration": 42,
    "start_time": "2023-12-16T19:05:56.687Z"
   },
   {
    "duration": 5,
    "start_time": "2023-12-16T19:05:56.730Z"
   },
   {
    "duration": 13,
    "start_time": "2023-12-16T19:05:56.736Z"
   },
   {
    "duration": 5,
    "start_time": "2023-12-16T19:05:56.750Z"
   },
   {
    "duration": 28,
    "start_time": "2023-12-16T19:05:56.756Z"
   },
   {
    "duration": 3,
    "start_time": "2023-12-16T19:05:56.785Z"
   },
   {
    "duration": 35,
    "start_time": "2023-12-16T19:05:56.815Z"
   },
   {
    "duration": 194,
    "start_time": "2023-12-16T19:05:56.852Z"
   },
   {
    "duration": 3,
    "start_time": "2023-12-16T19:05:57.048Z"
   },
   {
    "duration": 3997,
    "start_time": "2023-12-16T19:05:57.054Z"
   },
   {
    "duration": 1631,
    "start_time": "2023-12-16T19:06:01.053Z"
   },
   {
    "duration": 600548,
    "start_time": "2023-12-16T19:06:02.685Z"
   },
   {
    "duration": 44,
    "start_time": "2023-12-16T19:16:03.235Z"
   },
   {
    "duration": 343,
    "start_time": "2023-12-16T19:16:03.280Z"
   },
   {
    "duration": 0,
    "start_time": "2023-12-16T19:16:03.624Z"
   },
   {
    "duration": 0,
    "start_time": "2023-12-16T19:16:03.625Z"
   },
   {
    "duration": 0,
    "start_time": "2023-12-16T19:16:03.626Z"
   },
   {
    "duration": 0,
    "start_time": "2023-12-16T19:16:03.627Z"
   },
   {
    "duration": 0,
    "start_time": "2023-12-16T19:16:03.628Z"
   },
   {
    "duration": 0,
    "start_time": "2023-12-16T19:16:03.629Z"
   },
   {
    "duration": 0,
    "start_time": "2023-12-16T19:16:03.630Z"
   },
   {
    "duration": 0,
    "start_time": "2023-12-16T19:16:03.631Z"
   },
   {
    "duration": 22,
    "start_time": "2023-12-16T19:37:39.784Z"
   },
   {
    "duration": 22,
    "start_time": "2023-12-16T19:37:51.289Z"
   },
   {
    "duration": 3,
    "start_time": "2023-12-16T19:38:22.118Z"
   },
   {
    "duration": 3,
    "start_time": "2023-12-16T19:38:39.402Z"
   },
   {
    "duration": 44,
    "start_time": "2023-12-16T19:42:03.774Z"
   },
   {
    "duration": 53,
    "start_time": "2023-12-16T19:42:14.425Z"
   },
   {
    "duration": 2,
    "start_time": "2023-12-16T19:42:19.392Z"
   },
   {
    "duration": 24,
    "start_time": "2023-12-16T19:42:24.409Z"
   },
   {
    "duration": 8,
    "start_time": "2023-12-16T19:46:42.521Z"
   },
   {
    "duration": 56,
    "start_time": "2023-12-16T19:46:52.948Z"
   },
   {
    "duration": 23,
    "start_time": "2023-12-16T19:46:55.347Z"
   },
   {
    "duration": 8,
    "start_time": "2023-12-16T19:47:35.287Z"
   },
   {
    "duration": 17338,
    "start_time": "2023-12-16T19:47:53.358Z"
   },
   {
    "duration": 3,
    "start_time": "2023-12-16T19:48:10.698Z"
   },
   {
    "duration": 857,
    "start_time": "2023-12-16T19:48:10.702Z"
   },
   {
    "duration": 12,
    "start_time": "2023-12-16T19:48:11.560Z"
   },
   {
    "duration": 53,
    "start_time": "2023-12-16T19:48:11.573Z"
   },
   {
    "duration": 15,
    "start_time": "2023-12-16T19:48:11.628Z"
   },
   {
    "duration": 30,
    "start_time": "2023-12-16T19:48:11.644Z"
   },
   {
    "duration": 8,
    "start_time": "2023-12-16T19:48:11.676Z"
   },
   {
    "duration": 34,
    "start_time": "2023-12-16T19:48:11.685Z"
   },
   {
    "duration": 4,
    "start_time": "2023-12-16T19:48:11.720Z"
   },
   {
    "duration": 31,
    "start_time": "2023-12-16T19:48:11.725Z"
   },
   {
    "duration": 199,
    "start_time": "2023-12-16T19:48:11.758Z"
   },
   {
    "duration": 4,
    "start_time": "2023-12-16T19:48:11.959Z"
   },
   {
    "duration": 4042,
    "start_time": "2023-12-16T19:48:11.966Z"
   },
   {
    "duration": 1653,
    "start_time": "2023-12-16T19:48:16.009Z"
   },
   {
    "duration": 580626,
    "start_time": "2023-12-16T19:48:17.664Z"
   },
   {
    "duration": 2,
    "start_time": "2023-12-16T19:57:58.292Z"
   },
   {
    "duration": 57,
    "start_time": "2023-12-16T19:57:58.296Z"
   },
   {
    "duration": 339,
    "start_time": "2023-12-16T19:57:58.355Z"
   },
   {
    "duration": 0,
    "start_time": "2023-12-16T19:57:58.696Z"
   },
   {
    "duration": 0,
    "start_time": "2023-12-16T19:57:58.697Z"
   },
   {
    "duration": 0,
    "start_time": "2023-12-16T19:57:58.699Z"
   },
   {
    "duration": 0,
    "start_time": "2023-12-16T19:57:58.700Z"
   },
   {
    "duration": 0,
    "start_time": "2023-12-16T19:57:58.701Z"
   },
   {
    "duration": 1,
    "start_time": "2023-12-16T19:57:58.715Z"
   },
   {
    "duration": 0,
    "start_time": "2023-12-16T19:57:58.717Z"
   },
   {
    "duration": 0,
    "start_time": "2023-12-16T19:57:58.718Z"
   },
   {
    "duration": 0,
    "start_time": "2023-12-16T19:57:58.720Z"
   },
   {
    "duration": 291,
    "start_time": "2023-12-16T20:06:43.624Z"
   },
   {
    "duration": 787,
    "start_time": "2023-12-16T20:10:49.942Z"
   },
   {
    "duration": 21288,
    "start_time": "2023-12-18T06:34:21.429Z"
   },
   {
    "duration": 4,
    "start_time": "2023-12-18T06:34:42.719Z"
   },
   {
    "duration": 3505,
    "start_time": "2023-12-18T06:34:42.736Z"
   },
   {
    "duration": 16,
    "start_time": "2023-12-18T06:34:46.244Z"
   },
   {
    "duration": 40,
    "start_time": "2023-12-18T06:34:46.263Z"
   },
   {
    "duration": 7,
    "start_time": "2023-12-18T06:34:46.305Z"
   },
   {
    "duration": 34,
    "start_time": "2023-12-18T06:34:46.314Z"
   },
   {
    "duration": 6,
    "start_time": "2023-12-18T06:34:46.350Z"
   },
   {
    "duration": 54,
    "start_time": "2023-12-18T06:34:46.358Z"
   },
   {
    "duration": 4,
    "start_time": "2023-12-18T06:34:46.414Z"
   },
   {
    "duration": 39,
    "start_time": "2023-12-18T06:34:46.420Z"
   },
   {
    "duration": 236,
    "start_time": "2023-12-18T06:34:46.461Z"
   },
   {
    "duration": 3,
    "start_time": "2023-12-18T06:34:46.699Z"
   },
   {
    "duration": 4789,
    "start_time": "2023-12-18T06:34:46.705Z"
   },
   {
    "duration": 1872,
    "start_time": "2023-12-18T06:34:51.496Z"
   },
   {
    "duration": 708104,
    "start_time": "2023-12-18T06:34:53.369Z"
   },
   {
    "duration": 10,
    "start_time": "2023-12-18T06:46:41.476Z"
   },
   {
    "duration": 88,
    "start_time": "2023-12-18T06:46:41.488Z"
   },
   {
    "duration": 401,
    "start_time": "2023-12-18T06:46:41.578Z"
   },
   {
    "duration": 1,
    "start_time": "2023-12-18T06:46:41.980Z"
   },
   {
    "duration": 0,
    "start_time": "2023-12-18T06:46:41.981Z"
   },
   {
    "duration": 0,
    "start_time": "2023-12-18T06:46:41.983Z"
   },
   {
    "duration": 0,
    "start_time": "2023-12-18T06:46:41.984Z"
   },
   {
    "duration": 0,
    "start_time": "2023-12-18T06:46:41.985Z"
   },
   {
    "duration": 0,
    "start_time": "2023-12-18T06:46:41.986Z"
   },
   {
    "duration": 0,
    "start_time": "2023-12-18T06:46:41.987Z"
   },
   {
    "duration": 0,
    "start_time": "2023-12-18T06:46:41.989Z"
   },
   {
    "duration": 0,
    "start_time": "2023-12-18T06:46:41.989Z"
   },
   {
    "duration": 12,
    "start_time": "2023-12-18T07:17:16.922Z"
   },
   {
    "duration": 649709,
    "start_time": "2023-12-18T07:18:06.196Z"
   },
   {
    "duration": 6,
    "start_time": "2023-12-18T07:52:00.256Z"
   },
   {
    "duration": 19470,
    "start_time": "2023-12-18T07:52:15.217Z"
   },
   {
    "duration": 4,
    "start_time": "2023-12-18T07:52:34.689Z"
   },
   {
    "duration": 1008,
    "start_time": "2023-12-18T07:52:34.695Z"
   },
   {
    "duration": 14,
    "start_time": "2023-12-18T07:52:35.706Z"
   },
   {
    "duration": 55,
    "start_time": "2023-12-18T07:52:35.733Z"
   },
   {
    "duration": 20,
    "start_time": "2023-12-18T07:52:35.789Z"
   },
   {
    "duration": 46,
    "start_time": "2023-12-18T07:52:35.811Z"
   },
   {
    "duration": 15,
    "start_time": "2023-12-18T07:52:35.859Z"
   },
   {
    "duration": 64,
    "start_time": "2023-12-18T07:52:35.876Z"
   },
   {
    "duration": 21,
    "start_time": "2023-12-18T07:52:35.942Z"
   },
   {
    "duration": 54,
    "start_time": "2023-12-18T07:52:35.965Z"
   },
   {
    "duration": 246,
    "start_time": "2023-12-18T07:52:36.021Z"
   },
   {
    "duration": 3,
    "start_time": "2023-12-18T07:52:36.268Z"
   },
   {
    "duration": 4780,
    "start_time": "2023-12-18T07:52:36.275Z"
   },
   {
    "duration": 1926,
    "start_time": "2023-12-18T07:52:41.057Z"
   },
   {
    "duration": 650380,
    "start_time": "2023-12-18T07:52:42.985Z"
   },
   {
    "duration": 6,
    "start_time": "2023-12-18T08:03:33.367Z"
   },
   {
    "duration": 28,
    "start_time": "2023-12-18T08:03:33.374Z"
   },
   {
    "duration": 10,
    "start_time": "2023-12-18T08:03:33.404Z"
   },
   {
    "duration": 82,
    "start_time": "2023-12-18T08:03:33.416Z"
   },
   {
    "duration": 406,
    "start_time": "2023-12-18T08:03:33.500Z"
   },
   {
    "duration": 1,
    "start_time": "2023-12-18T08:03:33.908Z"
   },
   {
    "duration": 0,
    "start_time": "2023-12-18T08:03:33.910Z"
   },
   {
    "duration": 0,
    "start_time": "2023-12-18T08:03:33.911Z"
   },
   {
    "duration": 0,
    "start_time": "2023-12-18T08:03:33.912Z"
   },
   {
    "duration": 0,
    "start_time": "2023-12-18T08:03:33.913Z"
   },
   {
    "duration": 0,
    "start_time": "2023-12-18T08:03:33.914Z"
   },
   {
    "duration": 0,
    "start_time": "2023-12-18T08:03:33.915Z"
   },
   {
    "duration": 0,
    "start_time": "2023-12-18T08:03:33.931Z"
   },
   {
    "duration": 0,
    "start_time": "2023-12-18T08:03:33.932Z"
   },
   {
    "duration": 7645,
    "start_time": "2023-12-18T08:04:23.504Z"
   },
   {
    "duration": 7633,
    "start_time": "2023-12-18T08:11:09.849Z"
   },
   {
    "duration": 7421,
    "start_time": "2023-12-18T08:13:21.894Z"
   },
   {
    "duration": 7829,
    "start_time": "2023-12-18T08:14:11.621Z"
   },
   {
    "duration": 15,
    "start_time": "2023-12-18T08:15:02.304Z"
   },
   {
    "duration": 8534,
    "start_time": "2023-12-18T08:15:38.084Z"
   },
   {
    "duration": 7896,
    "start_time": "2023-12-18T08:16:03.757Z"
   },
   {
    "duration": 8054,
    "start_time": "2023-12-18T08:17:36.398Z"
   },
   {
    "duration": 7828,
    "start_time": "2023-12-18T08:17:51.032Z"
   },
   {
    "duration": 7509,
    "start_time": "2023-12-18T08:18:14.710Z"
   },
   {
    "duration": 933,
    "start_time": "2023-12-18T08:18:56.278Z"
   },
   {
    "duration": 76,
    "start_time": "2023-12-18T08:19:02.791Z"
   },
   {
    "duration": 36,
    "start_time": "2023-12-18T08:19:04.304Z"
   },
   {
    "duration": 9,
    "start_time": "2023-12-18T08:19:44.595Z"
   },
   {
    "duration": 912,
    "start_time": "2023-12-18T08:20:00.910Z"
   },
   {
    "duration": 13,
    "start_time": "2023-12-18T08:26:33.919Z"
   },
   {
    "duration": 58,
    "start_time": "2023-12-18T08:31:48.688Z"
   },
   {
    "duration": 791,
    "start_time": "2023-12-18T08:32:00.514Z"
   },
   {
    "duration": 24,
    "start_time": "2023-12-18T08:38:50.982Z"
   },
   {
    "duration": 26,
    "start_time": "2023-12-18T08:39:12.702Z"
   },
   {
    "duration": 265,
    "start_time": "2023-12-18T08:40:28.343Z"
   },
   {
    "duration": 345,
    "start_time": "2023-12-18T08:40:42.209Z"
   },
   {
    "duration": 941,
    "start_time": "2023-12-18T08:42:08.617Z"
   },
   {
    "duration": 382,
    "start_time": "2023-12-18T08:42:18.978Z"
   },
   {
    "duration": 6,
    "start_time": "2023-12-18T08:42:26.617Z"
   },
   {
    "duration": 65,
    "start_time": "2023-12-18T08:42:33.915Z"
   },
   {
    "duration": 29,
    "start_time": "2023-12-18T08:42:38.658Z"
   },
   {
    "duration": 7859,
    "start_time": "2023-12-18T08:42:44.236Z"
   },
   {
    "duration": 24,
    "start_time": "2023-12-18T08:42:52.098Z"
   },
   {
    "duration": 3,
    "start_time": "2023-12-18T08:42:58.981Z"
   },
   {
    "duration": 29,
    "start_time": "2023-12-18T08:43:04.948Z"
   },
   {
    "duration": 248174,
    "start_time": "2023-12-18T08:43:44.436Z"
   },
   {
    "duration": 244988,
    "start_time": "2023-12-18T08:49:29.473Z"
   },
   {
    "duration": 5,
    "start_time": "2023-12-18T08:55:58.922Z"
   },
   {
    "duration": 12,
    "start_time": "2023-12-18T08:56:04.978Z"
   },
   {
    "duration": 245737,
    "start_time": "2023-12-18T08:58:06.411Z"
   },
   {
    "duration": 17902,
    "start_time": "2023-12-18T10:46:43.181Z"
   },
   {
    "duration": 3,
    "start_time": "2023-12-18T10:47:01.085Z"
   },
   {
    "duration": 2309,
    "start_time": "2023-12-18T10:47:01.090Z"
   },
   {
    "duration": 11,
    "start_time": "2023-12-18T10:47:03.401Z"
   },
   {
    "duration": 25,
    "start_time": "2023-12-18T10:47:03.413Z"
   },
   {
    "duration": 5,
    "start_time": "2023-12-18T10:47:03.440Z"
   },
   {
    "duration": 12,
    "start_time": "2023-12-18T10:47:03.452Z"
   },
   {
    "duration": 5,
    "start_time": "2023-12-18T10:47:03.465Z"
   },
   {
    "duration": 28,
    "start_time": "2023-12-18T10:47:03.472Z"
   },
   {
    "duration": 3,
    "start_time": "2023-12-18T10:47:03.502Z"
   },
   {
    "duration": 52,
    "start_time": "2023-12-18T10:47:03.506Z"
   },
   {
    "duration": 195,
    "start_time": "2023-12-18T10:47:03.560Z"
   },
   {
    "duration": 3,
    "start_time": "2023-12-18T10:47:03.756Z"
   },
   {
    "duration": 3871,
    "start_time": "2023-12-18T10:47:03.760Z"
   },
   {
    "duration": 1523,
    "start_time": "2023-12-18T10:47:07.632Z"
   },
   {
    "duration": 5,
    "start_time": "2023-12-18T10:47:14.226Z"
   },
   {
    "duration": 1280,
    "start_time": "2023-12-18T10:47:15.400Z"
   },
   {
    "duration": 0,
    "start_time": "2023-12-18T10:47:16.682Z"
   },
   {
    "duration": 0,
    "start_time": "2023-12-18T10:47:16.683Z"
   },
   {
    "duration": 0,
    "start_time": "2023-12-18T10:47:16.684Z"
   },
   {
    "duration": 0,
    "start_time": "2023-12-18T10:47:16.685Z"
   },
   {
    "duration": 0,
    "start_time": "2023-12-18T10:47:16.686Z"
   },
   {
    "duration": 0,
    "start_time": "2023-12-18T10:47:16.687Z"
   },
   {
    "duration": 0,
    "start_time": "2023-12-18T10:47:16.688Z"
   },
   {
    "duration": 0,
    "start_time": "2023-12-18T10:47:16.689Z"
   },
   {
    "duration": 0,
    "start_time": "2023-12-18T10:47:16.690Z"
   },
   {
    "duration": 0,
    "start_time": "2023-12-18T10:47:16.691Z"
   },
   {
    "duration": 0,
    "start_time": "2023-12-18T10:47:16.692Z"
   },
   {
    "duration": 16292,
    "start_time": "2023-12-18T10:47:28.320Z"
   },
   {
    "duration": 3,
    "start_time": "2023-12-18T10:47:44.614Z"
   },
   {
    "duration": 801,
    "start_time": "2023-12-18T10:47:44.618Z"
   },
   {
    "duration": 10,
    "start_time": "2023-12-18T10:47:45.421Z"
   },
   {
    "duration": 39,
    "start_time": "2023-12-18T10:47:45.433Z"
   },
   {
    "duration": 5,
    "start_time": "2023-12-18T10:47:45.474Z"
   },
   {
    "duration": 14,
    "start_time": "2023-12-18T10:47:45.480Z"
   },
   {
    "duration": 5,
    "start_time": "2023-12-18T10:47:45.495Z"
   },
   {
    "duration": 26,
    "start_time": "2023-12-18T10:47:45.501Z"
   },
   {
    "duration": 2,
    "start_time": "2023-12-18T10:47:45.552Z"
   },
   {
    "duration": 27,
    "start_time": "2023-12-18T10:47:45.556Z"
   },
   {
    "duration": 185,
    "start_time": "2023-12-18T10:47:45.585Z"
   },
   {
    "duration": 2,
    "start_time": "2023-12-18T10:47:45.771Z"
   },
   {
    "duration": 3864,
    "start_time": "2023-12-18T10:47:45.776Z"
   },
   {
    "duration": 1492,
    "start_time": "2023-12-18T10:47:49.642Z"
   },
   {
    "duration": 493044,
    "start_time": "2023-12-18T10:47:51.135Z"
   },
   {
    "duration": 7,
    "start_time": "2023-12-18T10:56:04.181Z"
   },
   {
    "duration": 10,
    "start_time": "2023-12-18T10:56:04.189Z"
   },
   {
    "duration": 621,
    "start_time": "2023-12-18T10:56:04.201Z"
   },
   {
    "duration": 4,
    "start_time": "2023-12-18T10:56:04.824Z"
   },
   {
    "duration": 47,
    "start_time": "2023-12-18T10:56:04.830Z"
   },
   {
    "duration": 6277,
    "start_time": "2023-12-18T10:56:04.879Z"
   },
   {
    "duration": 4,
    "start_time": "2023-12-18T10:56:11.157Z"
   },
   {
    "duration": 221351,
    "start_time": "2023-12-18T10:56:11.163Z"
   },
   {
    "duration": 0,
    "start_time": "2023-12-18T10:59:52.515Z"
   },
   {
    "duration": 0,
    "start_time": "2023-12-18T10:59:52.517Z"
   },
   {
    "duration": 0,
    "start_time": "2023-12-18T10:59:52.518Z"
   },
   {
    "duration": 0,
    "start_time": "2023-12-18T10:59:52.519Z"
   },
   {
    "duration": 0,
    "start_time": "2023-12-18T10:59:52.520Z"
   },
   {
    "duration": 221952,
    "start_time": "2023-12-18T12:11:48.084Z"
   },
   {
    "duration": 222290,
    "start_time": "2023-12-18T13:03:49.603Z"
   },
   {
    "duration": 217166,
    "start_time": "2023-12-18T13:09:21.121Z"
   },
   {
    "duration": 221986,
    "start_time": "2023-12-18T13:13:47.384Z"
   },
   {
    "duration": 3303158,
    "start_time": "2023-12-18T13:19:47.087Z"
   },
   {
    "duration": 6,
    "start_time": "2023-12-18T14:20:43.760Z"
   },
   {
    "duration": 21,
    "start_time": "2023-12-18T14:22:25.433Z"
   },
   {
    "duration": 3,
    "start_time": "2023-12-18T14:22:29.409Z"
   },
   {
    "duration": 15,
    "start_time": "2023-12-18T14:22:40.418Z"
   },
   {
    "duration": 6,
    "start_time": "2023-12-18T14:22:56.917Z"
   },
   {
    "duration": 3,
    "start_time": "2023-12-18T14:23:02.765Z"
   },
   {
    "duration": 8,
    "start_time": "2023-12-18T14:23:20.542Z"
   },
   {
    "duration": 5,
    "start_time": "2023-12-18T14:23:22.375Z"
   },
   {
    "duration": 8,
    "start_time": "2023-12-18T14:23:35.528Z"
   },
   {
    "duration": 7,
    "start_time": "2023-12-18T14:23:36.993Z"
   },
   {
    "duration": 80,
    "start_time": "2023-12-18T14:29:36.998Z"
   },
   {
    "duration": 140,
    "start_time": "2023-12-18T14:29:46.285Z"
   },
   {
    "duration": 138,
    "start_time": "2023-12-18T14:30:05.503Z"
   },
   {
    "duration": 135,
    "start_time": "2023-12-18T14:30:12.559Z"
   },
   {
    "duration": 149,
    "start_time": "2023-12-18T14:30:19.681Z"
   },
   {
    "duration": 130,
    "start_time": "2023-12-18T14:30:44.091Z"
   },
   {
    "duration": 139,
    "start_time": "2023-12-18T14:31:14.654Z"
   },
   {
    "duration": 139,
    "start_time": "2023-12-18T14:31:44.072Z"
   },
   {
    "duration": 102637,
    "start_time": "2023-12-18T14:31:51.985Z"
   },
   {
    "duration": 68874,
    "start_time": "2023-12-18T14:33:34.624Z"
   },
   {
    "duration": 866020,
    "start_time": "2023-12-18T14:34:43.499Z"
   },
   {
    "duration": 10,
    "start_time": "2023-12-18T14:49:09.521Z"
   },
   {
    "duration": 140,
    "start_time": "2023-12-18T14:50:28.303Z"
   },
   {
    "duration": 135,
    "start_time": "2023-12-18T14:50:35.183Z"
   },
   {
    "duration": 308820,
    "start_time": "2023-12-18T14:51:01.651Z"
   },
   {
    "duration": 17085,
    "start_time": "2023-12-21T10:26:37.546Z"
   },
   {
    "duration": 3,
    "start_time": "2023-12-21T10:26:54.633Z"
   },
   {
    "duration": 3237,
    "start_time": "2023-12-21T10:26:54.637Z"
   },
   {
    "duration": 11,
    "start_time": "2023-12-21T10:26:57.875Z"
   },
   {
    "duration": 30,
    "start_time": "2023-12-21T10:26:57.888Z"
   },
   {
    "duration": 5,
    "start_time": "2023-12-21T10:26:57.920Z"
   },
   {
    "duration": 19,
    "start_time": "2023-12-21T10:26:57.927Z"
   },
   {
    "duration": 19,
    "start_time": "2023-12-21T10:26:57.948Z"
   },
   {
    "duration": 39,
    "start_time": "2023-12-21T10:26:57.968Z"
   },
   {
    "duration": 3,
    "start_time": "2023-12-21T10:26:58.009Z"
   },
   {
    "duration": 39,
    "start_time": "2023-12-21T10:26:58.013Z"
   },
   {
    "duration": 193,
    "start_time": "2023-12-21T10:26:58.053Z"
   },
   {
    "duration": 3,
    "start_time": "2023-12-21T10:26:58.248Z"
   },
   {
    "duration": 3782,
    "start_time": "2023-12-21T10:26:58.254Z"
   },
   {
    "duration": 1563,
    "start_time": "2023-12-21T10:27:02.037Z"
   },
   {
    "duration": 481076,
    "start_time": "2023-12-21T10:27:03.602Z"
   },
   {
    "duration": 5,
    "start_time": "2023-12-21T10:35:04.679Z"
   },
   {
    "duration": 46,
    "start_time": "2023-12-21T10:35:04.686Z"
   },
   {
    "duration": 581,
    "start_time": "2023-12-21T10:35:04.733Z"
   },
   {
    "duration": 6,
    "start_time": "2023-12-21T10:35:05.316Z"
   },
   {
    "duration": 39,
    "start_time": "2023-12-21T10:35:05.324Z"
   },
   {
    "duration": 6083,
    "start_time": "2023-12-21T10:35:05.364Z"
   },
   {
    "duration": 3,
    "start_time": "2023-12-21T10:35:11.449Z"
   },
   {
    "duration": 3182159,
    "start_time": "2023-12-21T10:35:11.453Z"
   },
   {
    "duration": 7,
    "start_time": "2023-12-21T11:28:13.613Z"
   },
   {
    "duration": 67961,
    "start_time": "2023-12-21T11:28:13.621Z"
   },
   {
    "duration": 860852,
    "start_time": "2023-12-21T11:29:21.584Z"
   },
   {
    "duration": 314,
    "start_time": "2023-12-21T11:43:42.437Z"
   },
   {
    "duration": 0,
    "start_time": "2023-12-21T11:43:42.752Z"
   },
   {
    "duration": 6,
    "start_time": "2023-12-21T11:59:02.943Z"
   },
   {
    "duration": 3211836,
    "start_time": "2023-12-21T11:59:44.343Z"
   },
   {
    "duration": 4,
    "start_time": "2023-12-21T12:53:16.181Z"
   },
   {
    "duration": 75869,
    "start_time": "2023-12-21T12:53:16.200Z"
   },
   {
    "duration": 981690,
    "start_time": "2023-12-21T12:54:32.070Z"
   },
   {
    "duration": 4,
    "start_time": "2023-12-21T13:25:24.968Z"
   },
   {
    "duration": 3369813,
    "start_time": "2023-12-21T13:38:27.997Z"
   },
   {
    "duration": 7,
    "start_time": "2023-12-21T14:34:37.813Z"
   },
   {
    "duration": 3,
    "start_time": "2023-12-21T15:14:21.602Z"
   },
   {
    "duration": 11,
    "start_time": "2023-12-21T15:14:27.254Z"
   },
   {
    "duration": 303057,
    "start_time": "2023-12-21T15:14:32.937Z"
   },
   {
    "duration": 11,
    "start_time": "2023-12-21T15:24:35.105Z"
   },
   {
    "duration": 3,
    "start_time": "2023-12-21T15:25:06.236Z"
   },
   {
    "duration": 3,
    "start_time": "2023-12-21T15:25:35.352Z"
   },
   {
    "duration": 10,
    "start_time": "2023-12-21T15:25:42.127Z"
   },
   {
    "duration": 67477,
    "start_time": "2023-12-21T15:26:30.566Z"
   },
   {
    "duration": 2,
    "start_time": "2023-12-21T15:27:38.045Z"
   },
   {
    "duration": 9,
    "start_time": "2023-12-21T15:27:53.652Z"
   },
   {
    "duration": 303162,
    "start_time": "2023-12-21T15:28:08.090Z"
   },
   {
    "duration": 18932,
    "start_time": "2023-12-22T07:55:45.194Z"
   },
   {
    "duration": 4,
    "start_time": "2023-12-22T07:56:04.129Z"
   },
   {
    "duration": 2412,
    "start_time": "2023-12-22T07:56:04.134Z"
   },
   {
    "duration": 11,
    "start_time": "2023-12-22T07:56:06.548Z"
   },
   {
    "duration": 65,
    "start_time": "2023-12-22T07:56:06.561Z"
   },
   {
    "duration": 6,
    "start_time": "2023-12-22T07:56:06.628Z"
   },
   {
    "duration": 18,
    "start_time": "2023-12-22T07:56:06.635Z"
   },
   {
    "duration": 15,
    "start_time": "2023-12-22T07:56:06.655Z"
   },
   {
    "duration": 41,
    "start_time": "2023-12-22T07:56:06.671Z"
   },
   {
    "duration": 13,
    "start_time": "2023-12-22T07:56:06.714Z"
   },
   {
    "duration": 41,
    "start_time": "2023-12-22T07:56:06.729Z"
   },
   {
    "duration": 217,
    "start_time": "2023-12-22T07:56:06.771Z"
   },
   {
    "duration": 3,
    "start_time": "2023-12-22T07:56:06.989Z"
   },
   {
    "duration": 4402,
    "start_time": "2023-12-22T07:56:06.995Z"
   },
   {
    "duration": 1602,
    "start_time": "2023-12-22T07:56:11.398Z"
   },
   {
    "duration": 554686,
    "start_time": "2023-12-22T07:56:13.002Z"
   },
   {
    "duration": 5,
    "start_time": "2023-12-22T08:05:27.690Z"
   },
   {
    "duration": 38,
    "start_time": "2023-12-22T08:05:27.696Z"
   },
   {
    "duration": 630,
    "start_time": "2023-12-22T08:05:27.735Z"
   },
   {
    "duration": 5,
    "start_time": "2023-12-22T08:05:28.367Z"
   },
   {
    "duration": 53,
    "start_time": "2023-12-22T08:05:28.373Z"
   },
   {
    "duration": 6798,
    "start_time": "2023-12-22T08:05:28.428Z"
   },
   {
    "duration": 4,
    "start_time": "2023-12-22T08:05:35.228Z"
   },
   {
    "duration": 3517729,
    "start_time": "2023-12-22T08:05:35.233Z"
   },
   {
    "duration": 10,
    "start_time": "2023-12-22T09:04:12.964Z"
   },
   {
    "duration": 18,
    "start_time": "2023-12-22T09:04:12.975Z"
   },
   {
    "duration": 84806,
    "start_time": "2023-12-22T09:04:12.995Z"
   },
   {
    "duration": 987523,
    "start_time": "2023-12-22T09:05:37.803Z"
   },
   {
    "duration": 11,
    "start_time": "2023-12-22T09:22:05.328Z"
   },
   {
    "duration": 145078,
    "start_time": "2023-12-22T09:27:39.576Z"
   }
  ],
  "kernelspec": {
   "display_name": "Python 3 (ipykernel)",
   "language": "python",
   "name": "python3"
  },
  "language_info": {
   "codemirror_mode": {
    "name": "ipython",
    "version": 3
   },
   "file_extension": ".py",
   "mimetype": "text/x-python",
   "name": "python",
   "nbconvert_exporter": "python",
   "pygments_lexer": "ipython3",
   "version": "3.10.13"
  },
  "toc": {
   "base_numbering": 1,
   "nav_menu": {},
   "number_sections": true,
   "sideBar": true,
   "skip_h1_title": true,
   "title_cell": "Table of Contents",
   "title_sidebar": "Contents",
   "toc_cell": false,
   "toc_position": {
    "height": "calc(100% - 180px)",
    "left": "10px",
    "top": "150px",
    "width": "199px"
   },
   "toc_section_display": true,
   "toc_window_display": true
  }
 },
 "nbformat": 4,
 "nbformat_minor": 5
}
