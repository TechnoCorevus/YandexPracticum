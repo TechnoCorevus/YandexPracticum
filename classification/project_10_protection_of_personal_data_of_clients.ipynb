{
 "cells": [
  {
   "cell_type": "markdown",
   "metadata": {
    "toc": true
   },
   "source": [
    "<h1>Содержание<span class=\"tocSkip\"></span></h1>\n",
    "<div class=\"toc\"><ul class=\"toc-item\"><li><span><a href=\"#Загрузка-данных\" data-toc-modified-id=\"Загрузка-данных-1\"><span class=\"toc-item-num\">1&nbsp;&nbsp;</span>Загрузка данных</a></span></li><li><span><a href=\"#Умножение-матриц\" data-toc-modified-id=\"Умножение-матриц-2\"><span class=\"toc-item-num\">2&nbsp;&nbsp;</span>Умножение матриц</a></span></li><li><span><a href=\"#Алгоритм-преобразования\" data-toc-modified-id=\"Алгоритм-преобразования-3\"><span class=\"toc-item-num\">3&nbsp;&nbsp;</span>Алгоритм преобразования</a></span></li><li><span><a href=\"#Проверка-алгоритма\" data-toc-modified-id=\"Проверка-алгоритма-4\"><span class=\"toc-item-num\">4&nbsp;&nbsp;</span>Проверка алгоритма</a></span></li><li><span><a href=\"#Итоговый-вывод\" data-toc-modified-id=\"Итоговый-вывод-5\"><span class=\"toc-item-num\">5&nbsp;&nbsp;</span>Итоговый вывод</a></span></li><li><span><a href=\"#Чек-лист-проверки\" data-toc-modified-id=\"Чек-лист-проверки-6\"><span class=\"toc-item-num\">6&nbsp;&nbsp;</span>Чек-лист проверки</a></span></li></ul></div>"
   ]
  },
  {
   "cell_type": "markdown",
   "metadata": {},
   "source": [
    "# Защита персональных данных клиентов"
   ]
  },
  {
   "cell_type": "markdown",
   "metadata": {},
   "source": [
    "Вам нужно защитить данные клиентов страховой компании «Хоть потоп». Разработайте такой метод преобразования данных, чтобы по ним было сложно восстановить персональную информацию. Обоснуйте корректность его работы.\n",
    "\n",
    "Нужно защитить данные, чтобы при преобразовании качество моделей машинного обучения не ухудшилось. Подбирать наилучшую модель не требуется."
   ]
  },
  {
   "cell_type": "markdown",
   "metadata": {},
   "source": [
    "## Загрузка данных"
   ]
  },
  {
   "cell_type": "code",
   "execution_count": 5,
   "metadata": {},
   "outputs": [],
   "source": [
    "import pandas as pd\n",
    "import numpy as np\n",
    "import os\n",
    "import matplotlib.pyplot as plt\n",
    "import seaborn as sns\n",
    "from sklearn.linear_model import LinearRegression\n",
    "from sklearn.metrics import r2_score, mean_squared_error\n",
    "from sklearn.preprocessing import StandardScaler"
   ]
  },
  {
   "cell_type": "code",
   "execution_count": 10,
   "metadata": {},
   "outputs": [],
   "source": [
    "path_1 = '/datasets/insurance.csv'\n",
    "path_2 = \"C:\\\\DS\\\\YP\\\\S13\\\\insurance.csv\"\n",
    "\n",
    "\n",
    "def generate_data (path_1, path_2):\n",
    "    if os.path.exists(path_1):\n",
    "        df = pd.read_csv(path_1)\n",
    "    elif os.path.exists(path_2):\n",
    "        df = pd.read_csv(path_2)\n",
    "    else:\n",
    "        print('Something is wrong')\n",
    "    return df"
   ]
  },
  {
   "cell_type": "code",
   "execution_count": 11,
   "metadata": {},
   "outputs": [],
   "source": [
    "df = generate_data(path_1, path_2)"
   ]
  },
  {
   "cell_type": "markdown",
   "metadata": {},
   "source": [
    "Проверим загрузку датафрейма, выведем на экран"
   ]
  },
  {
   "cell_type": "code",
   "execution_count": 4,
   "metadata": {
    "scrolled": true
   },
   "outputs": [
    {
     "data": {
      "text/html": [
       "<div>\n",
       "<style scoped>\n",
       "    .dataframe tbody tr th:only-of-type {\n",
       "        vertical-align: middle;\n",
       "    }\n",
       "\n",
       "    .dataframe tbody tr th {\n",
       "        vertical-align: top;\n",
       "    }\n",
       "\n",
       "    .dataframe thead th {\n",
       "        text-align: right;\n",
       "    }\n",
       "</style>\n",
       "<table border=\"1\" class=\"dataframe\">\n",
       "  <thead>\n",
       "    <tr style=\"text-align: right;\">\n",
       "      <th></th>\n",
       "      <th>Пол</th>\n",
       "      <th>Возраст</th>\n",
       "      <th>Зарплата</th>\n",
       "      <th>Члены семьи</th>\n",
       "      <th>Страховые выплаты</th>\n",
       "    </tr>\n",
       "  </thead>\n",
       "  <tbody>\n",
       "    <tr>\n",
       "      <th>0</th>\n",
       "      <td>1</td>\n",
       "      <td>41.0</td>\n",
       "      <td>49600.0</td>\n",
       "      <td>1</td>\n",
       "      <td>0</td>\n",
       "    </tr>\n",
       "    <tr>\n",
       "      <th>1</th>\n",
       "      <td>0</td>\n",
       "      <td>46.0</td>\n",
       "      <td>38000.0</td>\n",
       "      <td>1</td>\n",
       "      <td>1</td>\n",
       "    </tr>\n",
       "    <tr>\n",
       "      <th>2</th>\n",
       "      <td>0</td>\n",
       "      <td>29.0</td>\n",
       "      <td>21000.0</td>\n",
       "      <td>0</td>\n",
       "      <td>0</td>\n",
       "    </tr>\n",
       "    <tr>\n",
       "      <th>3</th>\n",
       "      <td>0</td>\n",
       "      <td>21.0</td>\n",
       "      <td>41700.0</td>\n",
       "      <td>2</td>\n",
       "      <td>0</td>\n",
       "    </tr>\n",
       "    <tr>\n",
       "      <th>4</th>\n",
       "      <td>1</td>\n",
       "      <td>28.0</td>\n",
       "      <td>26100.0</td>\n",
       "      <td>0</td>\n",
       "      <td>0</td>\n",
       "    </tr>\n",
       "  </tbody>\n",
       "</table>\n",
       "</div>"
      ],
      "text/plain": [
       "   Пол  Возраст  Зарплата  Члены семьи  Страховые выплаты\n",
       "0    1     41.0   49600.0            1                  0\n",
       "1    0     46.0   38000.0            1                  1\n",
       "2    0     29.0   21000.0            0                  0\n",
       "3    0     21.0   41700.0            2                  0\n",
       "4    1     28.0   26100.0            0                  0"
      ]
     },
     "execution_count": 4,
     "metadata": {},
     "output_type": "execute_result"
    }
   ],
   "source": [
    "df.head()"
   ]
  },
  {
   "cell_type": "markdown",
   "metadata": {},
   "source": [
    "Заменим название колонок на английский аналог и со строчной буквы"
   ]
  },
  {
   "cell_type": "code",
   "execution_count": 5,
   "metadata": {},
   "outputs": [],
   "source": [
    "df.set_axis(['gender', 'age', 'salary', 'family_members', 'insurance_payments'], \n",
    "            axis='columns' ,inplace=True)"
   ]
  },
  {
   "cell_type": "markdown",
   "metadata": {},
   "source": [
    "Выведем информацию о датафрейме"
   ]
  },
  {
   "cell_type": "code",
   "execution_count": 6,
   "metadata": {
    "scrolled": true
   },
   "outputs": [
    {
     "name": "stdout",
     "output_type": "stream",
     "text": [
      "<class 'pandas.core.frame.DataFrame'>\n",
      "RangeIndex: 5000 entries, 0 to 4999\n",
      "Data columns (total 5 columns):\n",
      " #   Column              Non-Null Count  Dtype  \n",
      "---  ------              --------------  -----  \n",
      " 0   gender              5000 non-null   int64  \n",
      " 1   age                 5000 non-null   float64\n",
      " 2   salary              5000 non-null   float64\n",
      " 3   family_members      5000 non-null   int64  \n",
      " 4   insurance_payments  5000 non-null   int64  \n",
      "dtypes: float64(2), int64(3)\n",
      "memory usage: 195.4 KB\n"
     ]
    }
   ],
   "source": [
    "df.info()"
   ]
  },
  {
   "cell_type": "markdown",
   "metadata": {},
   "source": [
    "Проверим на пропуски"
   ]
  },
  {
   "cell_type": "code",
   "execution_count": 7,
   "metadata": {
    "scrolled": true
   },
   "outputs": [
    {
     "data": {
      "text/plain": [
       "gender                0\n",
       "age                   0\n",
       "salary                0\n",
       "family_members        0\n",
       "insurance_payments    0\n",
       "dtype: int64"
      ]
     },
     "execution_count": 7,
     "metadata": {},
     "output_type": "execute_result"
    }
   ],
   "source": [
    "df.isnull().sum()"
   ]
  },
  {
   "cell_type": "markdown",
   "metadata": {},
   "source": [
    "Выведем статистику о данных"
   ]
  },
  {
   "cell_type": "code",
   "execution_count": 8,
   "metadata": {
    "scrolled": true
   },
   "outputs": [
    {
     "data": {
      "text/html": [
       "<div>\n",
       "<style scoped>\n",
       "    .dataframe tbody tr th:only-of-type {\n",
       "        vertical-align: middle;\n",
       "    }\n",
       "\n",
       "    .dataframe tbody tr th {\n",
       "        vertical-align: top;\n",
       "    }\n",
       "\n",
       "    .dataframe thead th {\n",
       "        text-align: right;\n",
       "    }\n",
       "</style>\n",
       "<table border=\"1\" class=\"dataframe\">\n",
       "  <thead>\n",
       "    <tr style=\"text-align: right;\">\n",
       "      <th></th>\n",
       "      <th>count</th>\n",
       "      <th>mean</th>\n",
       "      <th>std</th>\n",
       "      <th>min</th>\n",
       "      <th>25%</th>\n",
       "      <th>50%</th>\n",
       "      <th>75%</th>\n",
       "      <th>max</th>\n",
       "    </tr>\n",
       "  </thead>\n",
       "  <tbody>\n",
       "    <tr>\n",
       "      <th>gender</th>\n",
       "      <td>5000.0</td>\n",
       "      <td>0.4990</td>\n",
       "      <td>0.500049</td>\n",
       "      <td>0.0</td>\n",
       "      <td>0.0</td>\n",
       "      <td>0.0</td>\n",
       "      <td>1.0</td>\n",
       "      <td>1.0</td>\n",
       "    </tr>\n",
       "    <tr>\n",
       "      <th>age</th>\n",
       "      <td>5000.0</td>\n",
       "      <td>30.9528</td>\n",
       "      <td>8.440807</td>\n",
       "      <td>18.0</td>\n",
       "      <td>24.0</td>\n",
       "      <td>30.0</td>\n",
       "      <td>37.0</td>\n",
       "      <td>65.0</td>\n",
       "    </tr>\n",
       "    <tr>\n",
       "      <th>salary</th>\n",
       "      <td>5000.0</td>\n",
       "      <td>39916.3600</td>\n",
       "      <td>9900.083569</td>\n",
       "      <td>5300.0</td>\n",
       "      <td>33300.0</td>\n",
       "      <td>40200.0</td>\n",
       "      <td>46600.0</td>\n",
       "      <td>79000.0</td>\n",
       "    </tr>\n",
       "    <tr>\n",
       "      <th>family_members</th>\n",
       "      <td>5000.0</td>\n",
       "      <td>1.1942</td>\n",
       "      <td>1.091387</td>\n",
       "      <td>0.0</td>\n",
       "      <td>0.0</td>\n",
       "      <td>1.0</td>\n",
       "      <td>2.0</td>\n",
       "      <td>6.0</td>\n",
       "    </tr>\n",
       "    <tr>\n",
       "      <th>insurance_payments</th>\n",
       "      <td>5000.0</td>\n",
       "      <td>0.1480</td>\n",
       "      <td>0.463183</td>\n",
       "      <td>0.0</td>\n",
       "      <td>0.0</td>\n",
       "      <td>0.0</td>\n",
       "      <td>0.0</td>\n",
       "      <td>5.0</td>\n",
       "    </tr>\n",
       "  </tbody>\n",
       "</table>\n",
       "</div>"
      ],
      "text/plain": [
       "                     count        mean          std     min      25%      50%  \\\n",
       "gender              5000.0      0.4990     0.500049     0.0      0.0      0.0   \n",
       "age                 5000.0     30.9528     8.440807    18.0     24.0     30.0   \n",
       "salary              5000.0  39916.3600  9900.083569  5300.0  33300.0  40200.0   \n",
       "family_members      5000.0      1.1942     1.091387     0.0      0.0      1.0   \n",
       "insurance_payments  5000.0      0.1480     0.463183     0.0      0.0      0.0   \n",
       "\n",
       "                        75%      max  \n",
       "gender                  1.0      1.0  \n",
       "age                    37.0     65.0  \n",
       "salary              46600.0  79000.0  \n",
       "family_members          2.0      6.0  \n",
       "insurance_payments      0.0      5.0  "
      ]
     },
     "execution_count": 8,
     "metadata": {},
     "output_type": "execute_result"
    }
   ],
   "source": [
    "df.describe().T"
   ]
  },
  {
   "cell_type": "markdown",
   "metadata": {},
   "source": [
    "Проверим на дубликаты"
   ]
  },
  {
   "cell_type": "code",
   "execution_count": 9,
   "metadata": {},
   "outputs": [
    {
     "data": {
      "text/plain": [
       "153"
      ]
     },
     "execution_count": 9,
     "metadata": {},
     "output_type": "execute_result"
    }
   ],
   "source": [
    "df.duplicated().sum()"
   ]
  },
  {
   "cell_type": "markdown",
   "metadata": {},
   "source": [
    "Удалим дубликаты"
   ]
  },
  {
   "cell_type": "code",
   "execution_count": 10,
   "metadata": {},
   "outputs": [
    {
     "data": {
      "text/plain": [
       "0"
      ]
     },
     "execution_count": 10,
     "metadata": {},
     "output_type": "execute_result"
    }
   ],
   "source": [
    "df.drop_duplicates(inplace=True)\n",
    "# проверка\n",
    "df.duplicated().sum()"
   ]
  },
  {
   "cell_type": "markdown",
   "metadata": {},
   "source": [
    "Возраст и зарплата имеют тип данных float, хотя им больше подходит int.\n",
    "Замени возраст на uint8, а зарплату на uint32. Отсальные колонки тоже заменим на uint8 для экономии памяти"
   ]
  },
  {
   "cell_type": "code",
   "execution_count": 11,
   "metadata": {
    "scrolled": true
   },
   "outputs": [
    {
     "name": "stdout",
     "output_type": "stream",
     "text": [
      "<class 'pandas.core.frame.DataFrame'>\n",
      "Int64Index: 4847 entries, 0 to 4999\n",
      "Data columns (total 5 columns):\n",
      " #   Column              Non-Null Count  Dtype \n",
      "---  ------              --------------  ----- \n",
      " 0   gender              4847 non-null   uint8 \n",
      " 1   age                 4847 non-null   uint8 \n",
      " 2   salary              4847 non-null   uint32\n",
      " 3   family_members      4847 non-null   uint8 \n",
      " 4   insurance_payments  4847 non-null   uint8 \n",
      "dtypes: uint32(1), uint8(4)\n",
      "memory usage: 75.7 KB\n"
     ]
    }
   ],
   "source": [
    "df['gender'] = df['gender'].astype(np.uint8)\n",
    "df['age'] = df['age'].astype(np.uint8)\n",
    "df['salary'] = df['salary'].astype(np.uint32)\n",
    "df['family_members'] = df['family_members'].astype(np.uint8)\n",
    "df['insurance_payments'] = df['insurance_payments'].astype(np.uint8)\n",
    "\n",
    "#проверка\n",
    "df.info()"
   ]
  },
  {
   "cell_type": "markdown",
   "metadata": {},
   "source": [
    "Объем данныз уменьшился с 195.4 КБ до 75.7 КБ, что в два с половиной раза меньше. Это позволит снизить объем данных и ускорить вычисления, если данных будет будет значительно больше."
   ]
  },
  {
   "cell_type": "markdown",
   "metadata": {},
   "source": [
    "Проверим распределение данных.\n",
    "\n",
    "Напишем функции для отрисовки диограмм размаха и гистрограмм"
   ]
  },
  {
   "cell_type": "code",
   "execution_count": 12,
   "metadata": {},
   "outputs": [],
   "source": [
    "# фнукция для отрисовки ящика с усами\n",
    "def draw_boxplot(df, column, title,\n",
    "                 figsize=(15,3), color='green',\n",
    "                 xlabel='', xlim=None):\n",
    "    plt.figure(figsize=figsize)\n",
    "    \n",
    "    ax = sns.boxplot(\n",
    "        x=df[column],\n",
    "        color=color\n",
    "    )\n",
    "    \n",
    "    if (xlim != None):\n",
    "        plt.xlim(xlim)\n",
    "    \n",
    "    ax.set(\n",
    "        xlabel=xlabel,\n",
    "        title=title\n",
    "    )"
   ]
  },
  {
   "cell_type": "code",
   "execution_count": 13,
   "metadata": {},
   "outputs": [],
   "source": [
    "# функция для отрисовки гистрограмм\n",
    "def draw_histogram(df, column, title,  \n",
    "                   figsize=(14,5), color='green',\n",
    "                   xlabel='', ylabel='', bins=None, xticks=0,\n",
    "                   xlim=None, ylim=None):\n",
    "    plt.figure(figsize=figsize)\n",
    "    \n",
    "    ax = sns.distplot(\n",
    "        df[column],\n",
    "        color=color,\n",
    "        kde=False,\n",
    "        bins=bins\n",
    "    )\n",
    "    \n",
    "    if (xlim != None):\n",
    "        plt.xlim(xlim)\n",
    "    if (ylim != None):\n",
    "        plt.ylim(ylim)\n",
    "    \n",
    "    ax.set(\n",
    "        xlabel=xlabel,\n",
    "        ylabel=ylabel,\n",
    "        title=title\n",
    "    )\n",
    "    \n",
    "    if xticks != 0:\n",
    "        ax.set(xticks=xticks)"
   ]
  },
  {
   "cell_type": "markdown",
   "metadata": {},
   "source": [
    "**Пол клиентов**"
   ]
  },
  {
   "cell_type": "code",
   "execution_count": 14,
   "metadata": {},
   "outputs": [
    {
     "name": "stderr",
     "output_type": "stream",
     "text": [
      "/opt/conda/lib/python3.9/site-packages/seaborn/distributions.py:2557: FutureWarning: `distplot` is a deprecated function and will be removed in a future version. Please adapt your code to use either `displot` (a figure-level function with similar flexibility) or `histplot` (an axes-level function for histograms).\n",
      "  warnings.warn(msg, FutureWarning)\n"
     ]
    },
    {
     "data": {
      "image/png": "[encoded data removed]",
      "text/plain": [
       "<Figure size 1008x360 with 1 Axes>"
      ]
     },
     "metadata": {
      "needs_background": "light"
     },
     "output_type": "display_data"
    }
   ],
   "source": [
    "draw_histogram(df, 'gender', 'пол клиентов')"
   ]
  },
  {
   "cell_type": "markdown",
   "metadata": {},
   "source": [
    "Данные выглядят адекватно. Количество клиентов по генденрному составу распределяется примерно поровну"
   ]
  },
  {
   "cell_type": "markdown",
   "metadata": {},
   "source": [
    "**Возраст клиентов**"
   ]
  },
  {
   "cell_type": "markdown",
   "metadata": {},
   "source": [
    "Никаких выбросов не обнаружено, данные по полу распределены равномерно"
   ]
  },
  {
   "cell_type": "code",
   "execution_count": 15,
   "metadata": {},
   "outputs": [
    {
     "data": {
      "image/png": "[encoded data removed]",
      "text/plain": [
       "<Figure size 1008x360 with 1 Axes>"
      ]
     },
     "metadata": {
      "needs_background": "light"
     },
     "output_type": "display_data"
    }
   ],
   "source": [
    "draw_histogram(df, 'age', 'возраст клиентов', bins = 48)"
   ]
  },
  {
   "cell_type": "markdown",
   "metadata": {},
   "source": [
    "Распределение выглядит адекватным. Большинство клиентов возрасто до 40 лет"
   ]
  },
  {
   "cell_type": "code",
   "execution_count": 16,
   "metadata": {
    "scrolled": true
   },
   "outputs": [
    {
     "data": {
      "image/png": "[encoded data removed]",
      "text/plain": [
       "<Figure size 1080x216 with 1 Axes>"
      ]
     },
     "metadata": {
      "needs_background": "light"
     },
     "output_type": "display_data"
    }
   ],
   "source": [
    "draw_boxplot(df, 'age', 'возраст клиентов')"
   ]
  },
  {
   "cell_type": "markdown",
   "metadata": {},
   "source": [
    "Клиенты возрастом старше 56 лет на графике показаны как выборсы. Удалять их не будем. Так как нам важны данные о клиентах всех возрастов."
   ]
  },
  {
   "cell_type": "markdown",
   "metadata": {},
   "source": [
    "**Зарплата клиентов**"
   ]
  },
  {
   "cell_type": "code",
   "execution_count": 17,
   "metadata": {},
   "outputs": [
    {
     "name": "stderr",
     "output_type": "stream",
     "text": [
      "/opt/conda/lib/python3.9/site-packages/seaborn/distributions.py:2557: FutureWarning: `distplot` is a deprecated function and will be removed in a future version. Please adapt your code to use either `displot` (a figure-level function with similar flexibility) or `histplot` (an axes-level function for histograms).\n",
      "  warnings.warn(msg, FutureWarning)\n"
     ]
    },
    {
     "data": {
      "image/png": "[encoded data removed]",
      "text/plain": [
       "<Figure size 1008x360 with 1 Axes>"
      ]
     },
     "metadata": {
      "needs_background": "light"
     },
     "output_type": "display_data"
    }
   ],
   "source": [
    "draw_histogram(df, 'salary', 'зарплата', bins=50)"
   ]
  },
  {
   "cell_type": "code",
   "execution_count": 18,
   "metadata": {},
   "outputs": [
    {
     "data": {
      "image/png": "[encoded data removed]",
      "text/plain": [
       "<Figure size 1080x216 with 1 Axes>"
      ]
     },
     "metadata": {
      "needs_background": "light"
     },
     "output_type": "display_data"
    }
   ],
   "source": [
    "draw_boxplot(df, 'salary', 'зарплата')"
   ]
  },
  {
   "cell_type": "markdown",
   "metadata": {},
   "source": [
    "Данные по зарплате, выоглядят адекватно. Изабвляться от выборосов не будем, на понадобятся все данные."
   ]
  },
  {
   "cell_type": "markdown",
   "metadata": {},
   "source": [
    "**Члены семьи**"
   ]
  },
  {
   "cell_type": "code",
   "execution_count": 19,
   "metadata": {},
   "outputs": [
    {
     "name": "stderr",
     "output_type": "stream",
     "text": [
      "/opt/conda/lib/python3.9/site-packages/seaborn/distributions.py:2557: FutureWarning: `distplot` is a deprecated function and will be removed in a future version. Please adapt your code to use either `displot` (a figure-level function with similar flexibility) or `histplot` (an axes-level function for histograms).\n",
      "  warnings.warn(msg, FutureWarning)\n"
     ]
    },
    {
     "data": {
      "image/png": "[encoded data removed]",
      "text/plain": [
       "<Figure size 1008x360 with 1 Axes>"
      ]
     },
     "metadata": {
      "needs_background": "light"
     },
     "output_type": "display_data"
    }
   ],
   "source": [
    "draw_histogram(df, 'family_members', 'члены семьи', )"
   ]
  },
  {
   "cell_type": "markdown",
   "metadata": {},
   "source": [
    "Данные о членах семьи скорее являются данным о количестве детей. В таком случае данные выглядятю одекватно. У большинства клиентов от 0 до 2х детей"
   ]
  },
  {
   "cell_type": "code",
   "execution_count": 20,
   "metadata": {},
   "outputs": [
    {
     "data": {
      "image/png": "[encoded data removed]",
      "text/plain": [
       "<Figure size 1080x216 with 1 Axes>"
      ]
     },
     "metadata": {
      "needs_background": "light"
     },
     "output_type": "display_data"
    }
   ],
   "source": [
    "draw_boxplot(df, 'family_members', 'члены семьи')"
   ]
  },
  {
   "cell_type": "markdown",
   "metadata": {},
   "source": [
    "Удалять выборос не будем. Нам понадобятся все данные."
   ]
  },
  {
   "cell_type": "code",
   "execution_count": 21,
   "metadata": {},
   "outputs": [
    {
     "name": "stderr",
     "output_type": "stream",
     "text": [
      "/opt/conda/lib/python3.9/site-packages/seaborn/distributions.py:2557: FutureWarning: `distplot` is a deprecated function and will be removed in a future version. Please adapt your code to use either `displot` (a figure-level function with similar flexibility) or `histplot` (an axes-level function for histograms).\n",
      "  warnings.warn(msg, FutureWarning)\n"
     ]
    },
    {
     "data": {
      "image/png": "[encoded data removed]",
      "text/plain": [
       "<Figure size 1008x360 with 1 Axes>"
      ]
     },
     "metadata": {
      "needs_background": "light"
     },
     "output_type": "display_data"
    }
   ],
   "source": [
    "draw_histogram(df, 'insurance_payments', 'страховые выплаты')"
   ]
  },
  {
   "cell_type": "code",
   "execution_count": 22,
   "metadata": {},
   "outputs": [
    {
     "data": {
      "image/png": "[encoded data removed]",
      "text/plain": [
       "<Figure size 1080x216 with 1 Axes>"
      ]
     },
     "metadata": {
      "needs_background": "light"
     },
     "output_type": "display_data"
    }
   ],
   "source": [
    "draw_boxplot(df, 'insurance_payments', 'страховые выплаты')"
   ]
  },
  {
   "cell_type": "markdown",
   "metadata": {},
   "source": [
    "Здесь данные тоже выглядят вполне адекватными"
   ]
  },
  {
   "cell_type": "markdown",
   "metadata": {},
   "source": [
    "**Вывод**\n",
    "\n",
    "- Аномальных данных не обнаружено\n",
    "- Пропусков в данных не обнаружено\n",
    "- Удалены дубликаты\n",
    "- Переименованы колонки\n",
    "- Изменены типы данных\n",
    "\n",
    "Данными подготовлены, перейдём к следующему этапу\n"
   ]
  },
  {
   "cell_type": "markdown",
   "metadata": {},
   "source": [
    "## Умножение матриц"
   ]
  },
  {
   "cell_type": "markdown",
   "metadata": {},
   "source": [
    "В этом задании вы можете записывать формулы в *Jupyter Notebook.*\n",
    "\n",
    "Чтобы записать формулу внутри текста, окружите её символами доллара \\\\$; если снаружи —  двойными символами \\\\$\\\\$. Эти формулы записываются на языке вёрстки *LaTeX.* \n",
    "\n",
    "Для примера мы записали формулы линейной регрессии. Можете их скопировать и отредактировать, чтобы решить задачу.\n",
    "\n",
    "Работать в *LaTeX* необязательно."
   ]
  },
  {
   "cell_type": "markdown",
   "metadata": {},
   "source": [
    "Обозначения:\n",
    "\n",
    "- $X$ — матрица признаков (нулевой столбец состоит из единиц)\n",
    "\n",
    "- $y$ — вектор целевого признака\n",
    "\n",
    "- $P$ — матрица, на которую умножаются признаки\n",
    "\n",
    "- $w$ — вектор весов линейной регрессии (нулевой элемент равен сдвигу)"
   ]
  },
  {
   "cell_type": "markdown",
   "metadata": {},
   "source": [
    "Предсказания:\n",
    "\n",
    "$$\n",
    "a = Xw\n",
    "$$\n",
    "\n",
    "Задача обучения:\n",
    "\n",
    "$$\n",
    "w = \\arg\\min_w MSE(Xw, y)\n",
    "$$\n",
    "\n",
    "Формула обучения:\n",
    "\n",
    "\n",
    "$$\n",
    "w = (X^T X)^{-1} X^T y\n",
    "$$"
   ]
  },
  {
   "cell_type": "markdown",
   "metadata": {},
   "source": [
    "**Создим и обучим модель линейной регрессии.**"
   ]
  },
  {
   "cell_type": "markdown",
   "metadata": {},
   "source": [
    "При задаче обучения нахождения минимального MSE $$w = \\arg\\min_w MSE(Xw, y)$$ минимальное значение MSE получится когда веса равны величине $$w = (X^T X)^{-1} X^T y$$"
   ]
  },
  {
   "cell_type": "markdown",
   "metadata": {},
   "source": [
    "**Вопрос**\n",
    " Признаки умножают на обратимую матрицу. Изменится ли качество линейной регрессии? (Её можно обучить заново.)\n",
    " \n",
    " Вопрос в том изментися ли качество модели линейной регрессии если уножить матрицу $X$ на обратимую матрицу $P$, то при вычислении весов линейной регрессии $w$ предсказания $a = Xw$ не изменятся"
   ]
  },
  {
   "cell_type": "markdown",
   "metadata": {},
   "source": [
    "**Ответ:** Качество линейной регрессии не измениться\n",
    "\n",
    "**Обоснование:** \n",
    "\n",
    "Заменим $w = (X^T X)^{-1} X^T y$ на формулу с умноженной матрицей $X$ на обратимую матрицу $P$, получится формула \n",
    "$$\n",
    "w_n = ((XP)^T XP)^{-1} (XP)^T y\n",
    "$$\n",
    "\n",
    "+  У нас есть ряд свойств:\n",
    "    $$\n",
    "(AB)^T=B^T A^T \\tag 1\n",
    "$$\n",
    "$$\n",
    "(AB)^{-1} = B^{-1} A^{-1} \\tag 2\n",
    "$$\n",
    "$$\n",
    "A A^{-1} = A^{-1} A = E \\tag 3\n",
    "$$\n",
    "$$\n",
    "AE = EA = A \\tag 4\n",
    "$$\n",
    "$$\n",
    "A(BC) = (AB)C \\tag 5\n",
    "$$"
   ]
  },
  {
   "cell_type": "markdown",
   "metadata": {},
   "source": [
    "$(X^T)^{-1} = (X^{-1})^T$ - обратная матрица бывает только у квадратных матриц, а для матрицы признаков такое условие почти никогда не соблюдается.\n",
    "$E$ - единичная матрица\n",
    "\n",
    "+  Для начала раскроем $(XP)^T$ в примере $((XP)^T X P)^{-1}$, и получим $(P^T X^T X P)^{-1} (P^TX^T)y$\n",
    "\n"
   ]
  },
  {
   "cell_type": "markdown",
   "metadata": {},
   "source": [
    "  \n",
    "Воспользуемся свойством 2:\n",
    "    \n",
    "+  $(P^T(X^TX)P)^{-1}$, пусть тут $A=P^T$, $B=(X^TX)P)^{-1}$, тогда $(P^T(X^TX)P)^{-1}$\n",
    "\n",
    "+ полная формула выглядит так:\n",
    "$$\n",
    "w_n = ((X^TX)P)^{-1} (P^T)^{-1} P^TX^Ty\n",
    "$$\n",
    "\n",
    "+ согласно правилу 3: \n",
    "\n",
    "$(P^T)^{-1} P^T = E$ тогда $((X^TX)P)^{-1} (P^T)^{-1} P^TX^Ty = ((X^TX)P)^{-1} EX^Ty$\n",
    " "
   ]
  },
  {
   "cell_type": "markdown",
   "metadata": {},
   "source": [
    "+ согласно свойству 4\n",
    "\n",
    "\n",
    "$EX^T$ равно $X^T$ тогда  $((X^TX)P)^{-1} EX^Ty = ((X^TX)P)^{-1}X^Ty$\n",
    "\n",
    "$$\n",
    "w_n = ((X^TX)P)^{-1}X^Ty\n",
    "$$\n",
    "\n",
    "+ воспользуемся свойстом 2 \n",
    "\n",
    "$$\n",
    "((X^TX)P)^{-1}X^Ty = P^{-1}(X^TX)X^Ty\n",
    "$$\n",
    "\n",
    "по условию $(X^T X)^{-1} X^T y = w$ следовательно\n",
    "\n",
    "$$\n",
    "w_n = P^{-1}w\n",
    "$$"
   ]
  },
  {
   "cell_type": "markdown",
   "metadata": {},
   "source": [
    "формула предсказаний для с обратимой матрицей $a_n = XPw_n$\n",
    "$$\n",
    "a_n = XPw_n\n",
    "$$\n",
    "$$\n",
    "a_n = XPP^{-1}w\n",
    "$$\n",
    "$PP^{-1}$ даёт единичную матрицу $E$\n",
    "Следовательно $a_n$ будет равно:\n",
    "$$\n",
    "a_n = Xw\n",
    "$$\n",
    "$$\n",
    "a_n = a\n",
    "$$\n",
    "\n",
    "Умножение матрицы признаков на обратимую матрицу не меняет качество линейной регрессии"
   ]
  },
  {
   "cell_type": "markdown",
   "metadata": {},
   "source": [
    "## Алгоритм преобразования"
   ]
  },
  {
   "cell_type": "markdown",
   "metadata": {},
   "source": [
    "**Алгоритм**\n",
    "\n",
    "1. Выделить из данных признаки и целевой признак\n",
    "2. Отмасштабируем признаки\n",
    "3. Рассчитаем вектор весов $w$ для изначальной матрицы данных после по формуле $w = (X^T X)^{-1} X^T y$\n",
    "4. Вычислить вектор предсказаний $a$ по формуле $a = Xw$\n",
    "5. Создадим обратимую(квадратуную) матрицу\n",
    "6. Теперь сделаем тоже самое, но для матрицы признаков, которую мы умножим на обратимую матрицу $P$, полученную ранее\n",
    "7. Посчитаем разницу между предсказаниями"
   ]
  },
  {
   "cell_type": "code",
   "execution_count": 23,
   "metadata": {},
   "outputs": [],
   "source": [
    "# Выделение из данных признаков и целевого признака\n",
    "X = df.drop('insurance_payments', axis=1)\n",
    "y = df['insurance_payments']"
   ]
  },
  {
   "cell_type": "code",
   "execution_count": 24,
   "metadata": {},
   "outputs": [],
   "source": [
    "# Масштабирование признаков\n",
    "scaler = StandardScaler()\n",
    "scaler.fit(X)\n",
    "X = scaler.transform(X)"
   ]
  },
  {
   "cell_type": "code",
   "execution_count": 25,
   "metadata": {},
   "outputs": [],
   "source": [
    "# Пишем функцию для генерации обратимой матрицы\n",
    "def get_squad_matrix(low, high, size):\n",
    "    squad_matrix = np.random.randint(low, high, size=(size, size))\n",
    "    print(squad_matrix)\n",
    "    print()\n",
    "    print(\"Обратимость матрицы:\", np.linalg.det(squad_matrix) != 0)\n",
    "    return squad_matrix"
   ]
  },
  {
   "cell_type": "code",
   "execution_count": 26,
   "metadata": {},
   "outputs": [
    {
     "name": "stdout",
     "output_type": "stream",
     "text": [
      "[ 0.00473007  0.30692826 -0.00138603 -0.01565625]\n"
     ]
    }
   ],
   "source": [
    "# рассчитваем вектор весов для для изначаной матрицы\n",
    "w = np.linalg.inv(X.T.dot(X)).dot(X.T).dot(y)\n",
    "print(w)"
   ]
  },
  {
   "cell_type": "code",
   "execution_count": 27,
   "metadata": {},
   "outputs": [],
   "source": [
    "# Вычисляем предсказание\n",
    "a = X.dot(w)"
   ]
  },
  {
   "cell_type": "code",
   "execution_count": 28,
   "metadata": {
    "scrolled": true
   },
   "outputs": [
    {
     "name": "stdout",
     "output_type": "stream",
     "text": [
      "[[34 11 71 14]\n",
      " [64 13 34 97]\n",
      " [26  5 50 49]\n",
      " [64 74 73 37]]\n",
      "\n",
      "Обратимость матрицы: True\n"
     ]
    }
   ],
   "source": [
    "# генерируем обратимую матрицу\n",
    "P = get_squad_matrix(1, 100, 4)"
   ]
  },
  {
   "cell_type": "markdown",
   "metadata": {},
   "source": [
    "$$w_n = ((XP)^T XP)^{-1} (XP)^T y$$\n",
    "\n",
    "$$\n",
    "w = (X^T X)^{-1} X^T y\n",
    "$$"
   ]
  },
  {
   "cell_type": "code",
   "execution_count": 29,
   "metadata": {},
   "outputs": [
    {
     "name": "stdout",
     "output_type": "stream",
     "text": [
      "[ 0.00866212 -0.00403065 -0.0032877  -0.00085842]\n"
     ]
    }
   ],
   "source": [
    "# найдём веса для признаков умноженных на обратимую матрицу\n",
    "X_n = X.dot(P)\n",
    "\n",
    "w_n = np.linalg.inv(X_n.T.dot(X_n)).dot(X_n.T).dot(y)\n",
    "print(w_n)"
   ]
  },
  {
   "cell_type": "code",
   "execution_count": 30,
   "metadata": {},
   "outputs": [],
   "source": [
    "# вычислем предсказание с обратимой матрицей\n",
    "a_n = X_n.dot(P).dot(w_n)\n",
    "#a_n = np.linalg.inv(P).dot(w)\n"
   ]
  },
  {
   "cell_type": "code",
   "execution_count": 31,
   "metadata": {
    "scrolled": true
   },
   "outputs": [
    {
     "name": "stdout",
     "output_type": "stream",
     "text": [
      "1.6143530956469476e-11\n"
     ]
    }
   ],
   "source": [
    "# Вычислим разницу между предсказаниями\n",
    "a_dif = a - a_n\n",
    "print(a_dif.sum())"
   ]
  },
  {
   "cell_type": "markdown",
   "metadata": {},
   "source": [
    "**Обоснование**\n",
    "\n",
    "Разинца между предсказкнием c признками без унможения на обратимую матрицу и признаками умноженными на обратимую матрицу - минимальна"
   ]
  },
  {
   "cell_type": "markdown",
   "metadata": {},
   "source": [
    "## Проверка алгоритма"
   ]
  },
  {
   "cell_type": "markdown",
   "metadata": {},
   "source": []
  },
  {
   "cell_type": "code",
   "execution_count": 32,
   "metadata": {},
   "outputs": [],
   "source": [
    "def check_alg (X, y):\n",
    "    model = LinearRegression()\n",
    "    model.fit(X, y)\n",
    "    predictions = model.predict(X)\n",
    "    print(\"метрика R2:\", r2_score(y, predictions))\n",
    "    print(\"метрика MSE:\", mean_squared_error(y, predictions))\n",
    "    \n"
   ]
  },
  {
   "cell_type": "markdown",
   "metadata": {},
   "source": [
    "Посчитаем метрики для признаков без обратимой матрицы"
   ]
  },
  {
   "cell_type": "code",
   "execution_count": 33,
   "metadata": {},
   "outputs": [
    {
     "name": "stdout",
     "output_type": "stream",
     "text": [
      "метрика R2: 0.4302010046633359\n",
      "метрика MSE: 0.1252726382276536\n"
     ]
    }
   ],
   "source": [
    "check_alg(X, y)"
   ]
  },
  {
   "cell_type": "markdown",
   "metadata": {},
   "source": [
    "Посчитаем метрики для признаков с обратимой матрицей"
   ]
  },
  {
   "cell_type": "code",
   "execution_count": 34,
   "metadata": {},
   "outputs": [
    {
     "name": "stdout",
     "output_type": "stream",
     "text": [
      "метрика R2: 0.4302010046633358\n",
      "метрика MSE: 0.12527263822765364\n"
     ]
    }
   ],
   "source": [
    "check_alg(X_n, y)"
   ]
  },
  {
   "cell_type": "markdown",
   "metadata": {},
   "source": [
    "Метрики качества почти не отличаются"
   ]
  },
  {
   "cell_type": "markdown",
   "metadata": {},
   "source": [
    "## Итоговый вывод"
   ]
  },
  {
   "cell_type": "markdown",
   "metadata": {},
   "source": [
    "* Проверили и подготовили данные\n",
    "* Доказали что умножение признаков на обратимую матрицу не меняем качество линейной регрессии\n",
    "* Создали и проверили алгоритм преобразования\n",
    "* В итоге найден способ защитить данные страховой компании \"Хоть потоп\""
   ]
  }
 ],
 "metadata": {
  "ExecuteTimeLog": [
   {
    "duration": 370,
    "start_time": "2023-10-24T11:20:19.770Z"
   },
   {
    "duration": 3,
    "start_time": "2023-10-24T11:20:28.465Z"
   },
   {
    "duration": 5,
    "start_time": "2023-10-24T11:21:59.834Z"
   },
   {
    "duration": 58,
    "start_time": "2023-10-24T11:22:36.516Z"
   },
   {
    "duration": 3,
    "start_time": "2023-10-24T11:22:43.078Z"
   },
   {
    "duration": 6,
    "start_time": "2023-10-24T11:22:44.270Z"
   },
   {
    "duration": 4,
    "start_time": "2023-10-24T11:22:49.175Z"
   },
   {
    "duration": 8,
    "start_time": "2023-10-24T11:22:49.551Z"
   },
   {
    "duration": 2,
    "start_time": "2023-10-24T11:23:10.729Z"
   },
   {
    "duration": 3,
    "start_time": "2023-10-24T11:23:11.105Z"
   },
   {
    "duration": 74,
    "start_time": "2023-10-24T11:23:11.404Z"
   },
   {
    "duration": 18,
    "start_time": "2023-10-24T11:23:39.804Z"
   },
   {
    "duration": 7,
    "start_time": "2023-10-24T11:24:03.613Z"
   },
   {
    "duration": 10,
    "start_time": "2023-10-24T11:24:14.586Z"
   },
   {
    "duration": 8,
    "start_time": "2023-10-24T11:24:23.320Z"
   },
   {
    "duration": 10,
    "start_time": "2023-10-24T11:25:38.944Z"
   },
   {
    "duration": 6,
    "start_time": "2023-10-24T11:25:44.032Z"
   },
   {
    "duration": 10,
    "start_time": "2023-10-24T11:25:51.943Z"
   },
   {
    "duration": 5,
    "start_time": "2023-10-24T11:26:12.011Z"
   },
   {
    "duration": 799,
    "start_time": "2023-10-24T11:26:32.925Z"
   },
   {
    "duration": 973,
    "start_time": "2023-10-24T12:00:01.651Z"
   },
   {
    "duration": 77,
    "start_time": "2023-10-24T12:03:07.261Z"
   },
   {
    "duration": 3,
    "start_time": "2023-10-24T12:23:49.081Z"
   },
   {
    "duration": 7,
    "start_time": "2023-10-24T12:27:24.293Z"
   },
   {
    "duration": 7,
    "start_time": "2023-10-24T12:27:32.624Z"
   },
   {
    "duration": 8,
    "start_time": "2023-10-24T12:27:38.338Z"
   },
   {
    "duration": 7,
    "start_time": "2023-10-24T12:27:43.683Z"
   },
   {
    "duration": 7,
    "start_time": "2023-10-24T12:28:19.136Z"
   },
   {
    "duration": 7,
    "start_time": "2023-10-24T12:28:27.379Z"
   },
   {
    "duration": 7,
    "start_time": "2023-10-24T12:28:52.293Z"
   },
   {
    "duration": 35,
    "start_time": "2023-10-24T12:29:11.114Z"
   },
   {
    "duration": 2,
    "start_time": "2023-10-24T12:29:16.105Z"
   },
   {
    "duration": 12,
    "start_time": "2023-10-24T12:29:33.113Z"
   },
   {
    "duration": 7,
    "start_time": "2023-10-24T12:29:36.081Z"
   },
   {
    "duration": 3,
    "start_time": "2023-10-24T12:45:03.950Z"
   },
   {
    "duration": 7,
    "start_time": "2023-10-24T12:45:07.931Z"
   },
   {
    "duration": 52,
    "start_time": "2023-10-25T07:16:54.847Z"
   },
   {
    "duration": 1769,
    "start_time": "2023-10-25T07:16:57.084Z"
   },
   {
    "duration": 4,
    "start_time": "2023-10-25T07:16:58.855Z"
   },
   {
    "duration": 123,
    "start_time": "2023-10-25T07:16:58.861Z"
   },
   {
    "duration": 20,
    "start_time": "2023-10-25T07:16:58.986Z"
   },
   {
    "duration": 18,
    "start_time": "2023-10-25T07:16:59.008Z"
   },
   {
    "duration": 6,
    "start_time": "2023-10-25T07:16:59.027Z"
   },
   {
    "duration": 13,
    "start_time": "2023-10-25T07:16:59.034Z"
   },
   {
    "duration": 7,
    "start_time": "2023-10-25T07:16:59.049Z"
   },
   {
    "duration": 10,
    "start_time": "2023-10-25T07:16:59.057Z"
   },
   {
    "duration": 249,
    "start_time": "2023-10-25T07:17:50.332Z"
   },
   {
    "duration": 15,
    "start_time": "2023-10-25T07:18:06.701Z"
   },
   {
    "duration": 2,
    "start_time": "2023-10-25T07:18:12.183Z"
   },
   {
    "duration": 9,
    "start_time": "2023-10-25T07:18:15.577Z"
   },
   {
    "duration": 105,
    "start_time": "2023-10-25T07:23:34.791Z"
   },
   {
    "duration": 4,
    "start_time": "2023-10-25T07:23:44.807Z"
   },
   {
    "duration": 2,
    "start_time": "2023-10-25T07:31:47.777Z"
   },
   {
    "duration": 16,
    "start_time": "2023-10-25T07:31:47.781Z"
   },
   {
    "duration": 36,
    "start_time": "2023-10-25T07:31:47.799Z"
   },
   {
    "duration": 17,
    "start_time": "2023-10-25T07:31:47.837Z"
   },
   {
    "duration": 15,
    "start_time": "2023-10-25T07:31:47.859Z"
   },
   {
    "duration": 14,
    "start_time": "2023-10-25T07:31:47.876Z"
   },
   {
    "duration": 6,
    "start_time": "2023-10-25T07:31:47.891Z"
   },
   {
    "duration": 16,
    "start_time": "2023-10-25T07:31:47.898Z"
   },
   {
    "duration": 6,
    "start_time": "2023-10-25T07:31:47.916Z"
   },
   {
    "duration": 47,
    "start_time": "2023-10-25T07:31:47.924Z"
   },
   {
    "duration": 18,
    "start_time": "2023-10-25T07:33:15.178Z"
   },
   {
    "duration": 12,
    "start_time": "2023-10-25T07:34:15.475Z"
   },
   {
    "duration": 4,
    "start_time": "2023-10-25T07:34:42.167Z"
   },
   {
    "duration": 13,
    "start_time": "2023-10-25T07:34:44.812Z"
   },
   {
    "duration": 4,
    "start_time": "2023-10-25T07:35:01.326Z"
   },
   {
    "duration": 4,
    "start_time": "2023-10-25T07:35:22.984Z"
   },
   {
    "duration": 14,
    "start_time": "2023-10-25T07:35:23.985Z"
   },
   {
    "duration": 11,
    "start_time": "2023-10-25T07:35:33.163Z"
   },
   {
    "duration": 206,
    "start_time": "2023-10-25T07:35:46.939Z"
   },
   {
    "duration": 14,
    "start_time": "2023-10-25T07:35:56.931Z"
   },
   {
    "duration": 415,
    "start_time": "2023-10-25T07:37:26.628Z"
   },
   {
    "duration": 4,
    "start_time": "2023-10-25T07:37:31.621Z"
   },
   {
    "duration": 22,
    "start_time": "2023-10-25T07:37:32.951Z"
   },
   {
    "duration": 4,
    "start_time": "2023-10-25T07:37:55.874Z"
   },
   {
    "duration": 23,
    "start_time": "2023-10-25T07:37:56.336Z"
   },
   {
    "duration": 4,
    "start_time": "2023-10-25T07:38:07.683Z"
   },
   {
    "duration": 7,
    "start_time": "2023-10-25T07:38:08.272Z"
   },
   {
    "duration": 4,
    "start_time": "2023-10-25T07:41:38.382Z"
   },
   {
    "duration": 3,
    "start_time": "2023-10-25T08:59:17.390Z"
   },
   {
    "duration": 18,
    "start_time": "2023-10-25T08:59:17.395Z"
   },
   {
    "duration": 71,
    "start_time": "2023-10-25T08:59:17.414Z"
   },
   {
    "duration": 22,
    "start_time": "2023-10-25T08:59:17.487Z"
   },
   {
    "duration": 27,
    "start_time": "2023-10-25T08:59:17.511Z"
   },
   {
    "duration": 67,
    "start_time": "2023-10-25T08:59:17.539Z"
   },
   {
    "duration": 40,
    "start_time": "2023-10-25T08:59:17.607Z"
   },
   {
    "duration": 33,
    "start_time": "2023-10-25T08:59:17.649Z"
   },
   {
    "duration": 46,
    "start_time": "2023-10-25T08:59:17.683Z"
   },
   {
    "duration": 117,
    "start_time": "2023-10-25T08:59:17.731Z"
   },
   {
    "duration": 31,
    "start_time": "2023-10-25T08:59:17.851Z"
   },
   {
    "duration": 9,
    "start_time": "2023-10-25T09:23:06.690Z"
   },
   {
    "duration": 23,
    "start_time": "2023-10-25T09:24:41.683Z"
   },
   {
    "duration": 27,
    "start_time": "2023-10-25T09:24:44.299Z"
   },
   {
    "duration": 22,
    "start_time": "2023-10-25T09:24:47.946Z"
   },
   {
    "duration": 23,
    "start_time": "2023-10-25T09:26:20.477Z"
   },
   {
    "duration": 3,
    "start_time": "2023-10-25T09:30:33.126Z"
   },
   {
    "duration": 11,
    "start_time": "2023-10-25T09:30:36.229Z"
   },
   {
    "duration": 10,
    "start_time": "2023-10-25T09:30:45.414Z"
   },
   {
    "duration": 8,
    "start_time": "2023-10-25T09:33:07.197Z"
   },
   {
    "duration": 13,
    "start_time": "2023-10-25T09:33:11.075Z"
   },
   {
    "duration": 9,
    "start_time": "2023-10-25T09:33:21.075Z"
   },
   {
    "duration": 10,
    "start_time": "2023-10-25T09:33:30.415Z"
   },
   {
    "duration": 3,
    "start_time": "2023-10-25T09:33:34.553Z"
   },
   {
    "duration": 135,
    "start_time": "2023-10-25T09:33:47.263Z"
   },
   {
    "duration": 5,
    "start_time": "2023-10-25T09:34:15.099Z"
   },
   {
    "duration": 3,
    "start_time": "2023-10-25T09:34:30.261Z"
   },
   {
    "duration": 32,
    "start_time": "2023-10-25T09:34:30.268Z"
   },
   {
    "duration": 74,
    "start_time": "2023-10-25T09:34:30.302Z"
   },
   {
    "duration": 17,
    "start_time": "2023-10-25T09:34:30.378Z"
   },
   {
    "duration": 32,
    "start_time": "2023-10-25T09:34:30.396Z"
   },
   {
    "duration": 33,
    "start_time": "2023-10-25T09:34:30.431Z"
   },
   {
    "duration": 57,
    "start_time": "2023-10-25T09:34:30.465Z"
   },
   {
    "duration": 39,
    "start_time": "2023-10-25T09:34:30.523Z"
   },
   {
    "duration": 63,
    "start_time": "2023-10-25T09:34:30.564Z"
   },
   {
    "duration": 73,
    "start_time": "2023-10-25T09:34:30.629Z"
   },
   {
    "duration": 111,
    "start_time": "2023-10-25T09:34:30.704Z"
   },
   {
    "duration": 193,
    "start_time": "2023-10-25T09:34:30.817Z"
   },
   {
    "duration": 149,
    "start_time": "2023-10-25T09:34:31.012Z"
   },
   {
    "duration": 51,
    "start_time": "2023-10-25T09:35:02.647Z"
   },
   {
    "duration": 5,
    "start_time": "2023-10-25T09:35:13.913Z"
   },
   {
    "duration": 52,
    "start_time": "2023-10-25T11:36:57.274Z"
   },
   {
    "duration": 8,
    "start_time": "2023-10-25T11:37:01.495Z"
   },
   {
    "duration": 1249,
    "start_time": "2023-10-25T11:37:04.594Z"
   },
   {
    "duration": 4,
    "start_time": "2023-10-25T11:37:05.845Z"
   },
   {
    "duration": 86,
    "start_time": "2023-10-25T11:37:05.851Z"
   },
   {
    "duration": 17,
    "start_time": "2023-10-25T11:37:05.940Z"
   },
   {
    "duration": 26,
    "start_time": "2023-10-25T11:37:05.959Z"
   },
   {
    "duration": 14,
    "start_time": "2023-10-25T11:37:05.987Z"
   },
   {
    "duration": 58,
    "start_time": "2023-10-25T11:37:06.004Z"
   },
   {
    "duration": 14,
    "start_time": "2023-10-25T11:37:06.065Z"
   },
   {
    "duration": 14,
    "start_time": "2023-10-25T11:37:06.082Z"
   },
   {
    "duration": 6,
    "start_time": "2023-10-25T11:37:06.098Z"
   },
   {
    "duration": 33,
    "start_time": "2023-10-25T11:37:06.106Z"
   },
   {
    "duration": 60,
    "start_time": "2023-10-25T11:37:06.141Z"
   },
   {
    "duration": 98,
    "start_time": "2023-10-25T11:37:06.204Z"
   },
   {
    "duration": 16,
    "start_time": "2023-10-25T11:37:06.305Z"
   },
   {
    "duration": 72,
    "start_time": "2023-10-25T11:38:02.038Z"
   },
   {
    "duration": 9,
    "start_time": "2023-10-25T11:38:05.790Z"
   },
   {
    "duration": 73,
    "start_time": "2023-10-25T11:43:39.078Z"
   },
   {
    "duration": 3,
    "start_time": "2023-10-25T11:44:33.960Z"
   },
   {
    "duration": 11,
    "start_time": "2023-10-25T11:44:36.631Z"
   },
   {
    "duration": 3,
    "start_time": "2023-10-25T11:44:38.668Z"
   },
   {
    "duration": 127,
    "start_time": "2023-10-25T11:44:38.673Z"
   },
   {
    "duration": 46,
    "start_time": "2023-10-25T11:44:38.802Z"
   },
   {
    "duration": 10,
    "start_time": "2023-10-25T11:44:38.850Z"
   },
   {
    "duration": 7,
    "start_time": "2023-10-25T11:44:38.863Z"
   },
   {
    "duration": 25,
    "start_time": "2023-10-25T11:44:38.872Z"
   },
   {
    "duration": 7,
    "start_time": "2023-10-25T11:44:38.898Z"
   },
   {
    "duration": 60,
    "start_time": "2023-10-25T11:44:38.906Z"
   },
   {
    "duration": 6,
    "start_time": "2023-10-25T11:44:38.968Z"
   },
   {
    "duration": 16,
    "start_time": "2023-10-25T11:44:38.975Z"
   },
   {
    "duration": 83,
    "start_time": "2023-10-25T11:44:38.993Z"
   },
   {
    "duration": 0,
    "start_time": "2023-10-25T11:44:39.078Z"
   },
   {
    "duration": 0,
    "start_time": "2023-10-25T11:44:39.079Z"
   },
   {
    "duration": 0,
    "start_time": "2023-10-25T11:44:39.080Z"
   },
   {
    "duration": 0,
    "start_time": "2023-10-25T11:44:39.082Z"
   },
   {
    "duration": 0,
    "start_time": "2023-10-25T11:44:39.083Z"
   },
   {
    "duration": 10,
    "start_time": "2023-10-25T11:46:35.999Z"
   },
   {
    "duration": 10,
    "start_time": "2023-10-25T11:47:06.175Z"
   },
   {
    "duration": 15,
    "start_time": "2023-10-25T11:47:13.428Z"
   },
   {
    "duration": 8,
    "start_time": "2023-10-25T11:47:20.635Z"
   },
   {
    "duration": 4,
    "start_time": "2023-10-25T11:50:17.822Z"
   },
   {
    "duration": 564,
    "start_time": "2023-10-25T11:51:06.993Z"
   },
   {
    "duration": 5,
    "start_time": "2023-10-25T11:52:16.378Z"
   },
   {
    "duration": 185,
    "start_time": "2023-10-25T11:53:57.596Z"
   },
   {
    "duration": 5,
    "start_time": "2023-10-25T11:54:07.940Z"
   },
   {
    "duration": 142,
    "start_time": "2023-10-25T11:54:10.390Z"
   },
   {
    "duration": 10,
    "start_time": "2023-10-25T11:54:12.974Z"
   },
   {
    "duration": 103,
    "start_time": "2023-10-25T11:54:19.390Z"
   },
   {
    "duration": 140,
    "start_time": "2023-10-25T11:55:52.535Z"
   },
   {
    "duration": 280,
    "start_time": "2023-10-25T11:56:06.650Z"
   },
   {
    "duration": 175,
    "start_time": "2023-10-25T11:56:17.242Z"
   },
   {
    "duration": 211,
    "start_time": "2023-10-25T11:56:20.904Z"
   },
   {
    "duration": 200,
    "start_time": "2023-10-25T11:56:29.174Z"
   },
   {
    "duration": 233,
    "start_time": "2023-10-25T11:56:38.277Z"
   },
   {
    "duration": 208,
    "start_time": "2023-10-25T11:56:42.132Z"
   },
   {
    "duration": 201,
    "start_time": "2023-10-25T11:56:45.213Z"
   },
   {
    "duration": 217,
    "start_time": "2023-10-25T11:56:48.596Z"
   },
   {
    "duration": 204,
    "start_time": "2023-10-25T11:56:51.749Z"
   },
   {
    "duration": 205,
    "start_time": "2023-10-25T11:57:35.490Z"
   },
   {
    "duration": 211,
    "start_time": "2023-10-25T11:59:29.502Z"
   },
   {
    "duration": 217,
    "start_time": "2023-10-25T12:00:02.448Z"
   },
   {
    "duration": 197,
    "start_time": "2023-10-25T12:00:11.254Z"
   },
   {
    "duration": 207,
    "start_time": "2023-10-25T12:00:14.296Z"
   },
   {
    "duration": 97,
    "start_time": "2023-10-25T12:00:42.175Z"
   },
   {
    "duration": 128,
    "start_time": "2023-10-25T12:00:57.703Z"
   },
   {
    "duration": 211,
    "start_time": "2023-10-25T12:07:54.919Z"
   },
   {
    "duration": 192,
    "start_time": "2023-10-25T12:07:59.679Z"
   },
   {
    "duration": 168,
    "start_time": "2023-10-25T12:08:17.775Z"
   },
   {
    "duration": 97,
    "start_time": "2023-10-25T12:08:31.315Z"
   },
   {
    "duration": 339,
    "start_time": "2023-10-25T12:11:09.584Z"
   },
   {
    "duration": 210,
    "start_time": "2023-10-25T12:11:13.061Z"
   },
   {
    "duration": 95,
    "start_time": "2023-10-25T12:11:24.845Z"
   },
   {
    "duration": 97,
    "start_time": "2023-10-25T12:11:58.794Z"
   },
   {
    "duration": 6,
    "start_time": "2023-10-25T13:17:51.507Z"
   },
   {
    "duration": 99,
    "start_time": "2023-10-25T13:17:57.506Z"
   },
   {
    "duration": 1591,
    "start_time": "2023-10-26T07:06:45.855Z"
   },
   {
    "duration": 4,
    "start_time": "2023-10-26T07:06:47.448Z"
   },
   {
    "duration": 112,
    "start_time": "2023-10-26T07:06:47.453Z"
   },
   {
    "duration": 12,
    "start_time": "2023-10-26T07:06:47.566Z"
   },
   {
    "duration": 16,
    "start_time": "2023-10-26T07:06:47.580Z"
   },
   {
    "duration": 28,
    "start_time": "2023-10-26T07:06:47.598Z"
   },
   {
    "duration": 19,
    "start_time": "2023-10-26T07:06:47.627Z"
   },
   {
    "duration": 47,
    "start_time": "2023-10-26T07:06:47.647Z"
   },
   {
    "duration": 9,
    "start_time": "2023-10-26T07:06:47.695Z"
   },
   {
    "duration": 33,
    "start_time": "2023-10-26T07:06:47.706Z"
   },
   {
    "duration": 25,
    "start_time": "2023-10-26T07:06:47.741Z"
   },
   {
    "duration": 8,
    "start_time": "2023-10-26T07:06:47.768Z"
   },
   {
    "duration": 22,
    "start_time": "2023-10-26T07:06:47.777Z"
   },
   {
    "duration": 171,
    "start_time": "2023-10-26T07:06:47.802Z"
   },
   {
    "duration": 105,
    "start_time": "2023-10-26T07:06:47.974Z"
   },
   {
    "duration": 183,
    "start_time": "2023-10-26T07:06:48.081Z"
   },
   {
    "duration": 93,
    "start_time": "2023-10-26T07:06:48.265Z"
   },
   {
    "duration": 273,
    "start_time": "2023-10-26T07:06:48.360Z"
   },
   {
    "duration": 116,
    "start_time": "2023-10-26T07:06:48.635Z"
   },
   {
    "duration": 161,
    "start_time": "2023-10-26T07:06:48.752Z"
   },
   {
    "duration": 95,
    "start_time": "2023-10-26T07:06:48.915Z"
   },
   {
    "duration": 194,
    "start_time": "2023-10-26T07:06:49.012Z"
   },
   {
    "duration": 101,
    "start_time": "2023-10-26T07:06:49.207Z"
   },
   {
    "duration": 4,
    "start_time": "2023-10-26T07:06:49.310Z"
   },
   {
    "duration": 137,
    "start_time": "2023-10-26T07:06:49.316Z"
   },
   {
    "duration": 5,
    "start_time": "2023-10-26T09:53:04.234Z"
   },
   {
    "duration": 5,
    "start_time": "2023-10-26T09:54:15.285Z"
   },
   {
    "duration": 3,
    "start_time": "2023-10-26T10:05:20.730Z"
   },
   {
    "duration": 18,
    "start_time": "2023-10-26T10:05:31.958Z"
   },
   {
    "duration": 4,
    "start_time": "2023-10-26T10:05:40.129Z"
   },
   {
    "duration": 4,
    "start_time": "2023-10-26T10:05:40.731Z"
   },
   {
    "duration": 4,
    "start_time": "2023-10-26T10:06:20.758Z"
   },
   {
    "duration": 3,
    "start_time": "2023-10-26T10:06:22.775Z"
   },
   {
    "duration": 9,
    "start_time": "2023-10-26T10:12:26.058Z"
   },
   {
    "duration": 8,
    "start_time": "2023-10-26T10:13:17.879Z"
   },
   {
    "duration": 7,
    "start_time": "2023-10-26T10:13:24.659Z"
   },
   {
    "duration": 4,
    "start_time": "2023-10-26T10:14:39.622Z"
   },
   {
    "duration": 11,
    "start_time": "2023-10-26T10:14:47.183Z"
   },
   {
    "duration": 132,
    "start_time": "2023-10-26T10:17:00.783Z"
   },
   {
    "duration": 22,
    "start_time": "2023-10-26T10:17:30.541Z"
   },
   {
    "duration": 225,
    "start_time": "2023-10-26T10:18:01.105Z"
   },
   {
    "duration": 29,
    "start_time": "2023-10-26T10:18:06.761Z"
   },
   {
    "duration": 13,
    "start_time": "2023-10-26T10:19:04.214Z"
   },
   {
    "duration": 10,
    "start_time": "2023-10-26T10:21:32.793Z"
   },
   {
    "duration": 201,
    "start_time": "2023-10-26T10:24:32.614Z"
   },
   {
    "duration": 1602,
    "start_time": "2023-10-26T10:24:45.127Z"
   },
   {
    "duration": 4,
    "start_time": "2023-10-26T10:24:46.731Z"
   },
   {
    "duration": 50,
    "start_time": "2023-10-26T10:24:46.737Z"
   },
   {
    "duration": 13,
    "start_time": "2023-10-26T10:24:46.789Z"
   },
   {
    "duration": 5,
    "start_time": "2023-10-26T10:24:46.803Z"
   },
   {
    "duration": 21,
    "start_time": "2023-10-26T10:24:46.809Z"
   },
   {
    "duration": 5,
    "start_time": "2023-10-26T10:24:46.832Z"
   },
   {
    "duration": 52,
    "start_time": "2023-10-26T10:24:46.839Z"
   },
   {
    "duration": 5,
    "start_time": "2023-10-26T10:24:46.893Z"
   },
   {
    "duration": 18,
    "start_time": "2023-10-26T10:24:46.900Z"
   },
   {
    "duration": 18,
    "start_time": "2023-10-26T10:24:46.919Z"
   },
   {
    "duration": 4,
    "start_time": "2023-10-26T10:24:46.938Z"
   },
   {
    "duration": 11,
    "start_time": "2023-10-26T10:24:46.944Z"
   },
   {
    "duration": 166,
    "start_time": "2023-10-26T10:24:46.957Z"
   },
   {
    "duration": 111,
    "start_time": "2023-10-26T10:24:47.124Z"
   },
   {
    "duration": 247,
    "start_time": "2023-10-26T10:24:47.237Z"
   },
   {
    "duration": 106,
    "start_time": "2023-10-26T10:24:47.487Z"
   },
   {
    "duration": 304,
    "start_time": "2023-10-26T10:24:47.594Z"
   },
   {
    "duration": 121,
    "start_time": "2023-10-26T10:24:47.900Z"
   },
   {
    "duration": 191,
    "start_time": "2023-10-26T10:24:48.022Z"
   },
   {
    "duration": 126,
    "start_time": "2023-10-26T10:24:48.214Z"
   },
   {
    "duration": 239,
    "start_time": "2023-10-26T10:24:48.344Z"
   },
   {
    "duration": 115,
    "start_time": "2023-10-26T10:24:48.588Z"
   },
   {
    "duration": 5,
    "start_time": "2023-10-26T10:24:48.705Z"
   },
   {
    "duration": 16,
    "start_time": "2023-10-26T10:24:48.711Z"
   },
   {
    "duration": 30,
    "start_time": "2023-10-26T10:24:48.729Z"
   },
   {
    "duration": 97,
    "start_time": "2023-10-26T10:24:48.760Z"
   },
   {
    "duration": 27,
    "start_time": "2023-10-26T10:24:48.861Z"
   },
   {
    "duration": 468,
    "start_time": "2023-10-26T10:24:48.891Z"
   },
   {
    "duration": 0,
    "start_time": "2023-10-26T10:24:49.367Z"
   },
   {
    "duration": 0,
    "start_time": "2023-10-26T10:24:49.374Z"
   },
   {
    "duration": 16,
    "start_time": "2023-10-26T10:25:21.968Z"
   },
   {
    "duration": 14,
    "start_time": "2023-10-26T10:25:29.465Z"
   },
   {
    "duration": 9,
    "start_time": "2023-10-26T10:26:11.816Z"
   },
   {
    "duration": 14,
    "start_time": "2023-10-26T10:26:21.512Z"
   },
   {
    "duration": 7,
    "start_time": "2023-10-26T10:26:33.417Z"
   },
   {
    "duration": 2,
    "start_time": "2023-10-26T10:27:08.230Z"
   },
   {
    "duration": 7,
    "start_time": "2023-10-26T10:27:11.333Z"
   },
   {
    "duration": 8,
    "start_time": "2023-10-26T10:27:18.569Z"
   },
   {
    "duration": 4,
    "start_time": "2023-10-26T10:27:26.669Z"
   },
   {
    "duration": 10,
    "start_time": "2023-10-26T10:27:38.672Z"
   },
   {
    "duration": 3,
    "start_time": "2023-10-26T10:27:57.281Z"
   },
   {
    "duration": 5,
    "start_time": "2023-10-26T10:27:57.968Z"
   },
   {
    "duration": 7,
    "start_time": "2023-10-26T10:27:59.568Z"
   },
   {
    "duration": 8,
    "start_time": "2023-10-26T10:28:16.187Z"
   },
   {
    "duration": 42,
    "start_time": "2023-10-26T10:28:16.571Z"
   },
   {
    "duration": 5,
    "start_time": "2023-10-26T10:28:17.619Z"
   },
   {
    "duration": 2828,
    "start_time": "2023-10-26T10:28:24.465Z"
   },
   {
    "duration": 3,
    "start_time": "2023-10-26T10:28:27.295Z"
   },
   {
    "duration": 135,
    "start_time": "2023-10-26T10:28:27.300Z"
   },
   {
    "duration": 15,
    "start_time": "2023-10-26T10:28:27.437Z"
   },
   {
    "duration": 30,
    "start_time": "2023-10-26T10:28:27.453Z"
   },
   {
    "duration": 57,
    "start_time": "2023-10-26T10:28:27.485Z"
   },
   {
    "duration": 28,
    "start_time": "2023-10-26T10:28:27.543Z"
   },
   {
    "duration": 25,
    "start_time": "2023-10-26T10:28:27.573Z"
   },
   {
    "duration": 5,
    "start_time": "2023-10-26T10:28:27.600Z"
   },
   {
    "duration": 16,
    "start_time": "2023-10-26T10:28:27.607Z"
   },
   {
    "duration": 12,
    "start_time": "2023-10-26T10:28:27.624Z"
   },
   {
    "duration": 4,
    "start_time": "2023-10-26T10:28:27.638Z"
   },
   {
    "duration": 12,
    "start_time": "2023-10-26T10:28:27.644Z"
   },
   {
    "duration": 173,
    "start_time": "2023-10-26T10:28:27.658Z"
   },
   {
    "duration": 104,
    "start_time": "2023-10-26T10:28:27.832Z"
   },
   {
    "duration": 231,
    "start_time": "2023-10-26T10:28:27.938Z"
   },
   {
    "duration": 118,
    "start_time": "2023-10-26T10:28:28.171Z"
   },
   {
    "duration": 309,
    "start_time": "2023-10-26T10:28:28.291Z"
   },
   {
    "duration": 126,
    "start_time": "2023-10-26T10:28:28.602Z"
   },
   {
    "duration": 185,
    "start_time": "2023-10-26T10:28:28.731Z"
   },
   {
    "duration": 108,
    "start_time": "2023-10-26T10:28:28.918Z"
   },
   {
    "duration": 224,
    "start_time": "2023-10-26T10:28:29.028Z"
   },
   {
    "duration": 100,
    "start_time": "2023-10-26T10:28:29.254Z"
   },
   {
    "duration": 6,
    "start_time": "2023-10-26T10:28:29.355Z"
   },
   {
    "duration": 4,
    "start_time": "2023-10-26T10:28:29.362Z"
   },
   {
    "duration": 9,
    "start_time": "2023-10-26T10:28:29.367Z"
   },
   {
    "duration": 5,
    "start_time": "2023-10-26T10:28:29.378Z"
   },
   {
    "duration": 7,
    "start_time": "2023-10-26T10:28:29.447Z"
   },
   {
    "duration": 161,
    "start_time": "2023-10-26T10:28:29.456Z"
   },
   {
    "duration": 0,
    "start_time": "2023-10-26T10:28:29.618Z"
   },
   {
    "duration": 0,
    "start_time": "2023-10-26T10:28:29.619Z"
   },
   {
    "duration": 6,
    "start_time": "2023-10-26T10:29:14.151Z"
   },
   {
    "duration": 7,
    "start_time": "2023-10-26T10:29:15.001Z"
   },
   {
    "duration": 11,
    "start_time": "2023-10-26T10:29:23.186Z"
   },
   {
    "duration": 4,
    "start_time": "2023-10-26T10:29:23.542Z"
   },
   {
    "duration": 3,
    "start_time": "2023-10-26T10:29:29.636Z"
   },
   {
    "duration": 3,
    "start_time": "2023-10-26T10:29:31.403Z"
   },
   {
    "duration": 76,
    "start_time": "2023-10-26T10:29:57.855Z"
   },
   {
    "duration": 2,
    "start_time": "2023-10-26T10:30:43.178Z"
   },
   {
    "duration": 8,
    "start_time": "2023-10-26T10:30:44.600Z"
   },
   {
    "duration": 12,
    "start_time": "2023-10-26T10:30:45.442Z"
   },
   {
    "duration": 12,
    "start_time": "2023-10-26T10:30:47.242Z"
   },
   {
    "duration": 11,
    "start_time": "2023-10-26T10:30:52.858Z"
   },
   {
    "duration": 4,
    "start_time": "2023-10-26T10:31:03.787Z"
   },
   {
    "duration": 4,
    "start_time": "2023-10-26T10:32:01.158Z"
   },
   {
    "duration": 10,
    "start_time": "2023-10-26T10:32:01.538Z"
   },
   {
    "duration": 9,
    "start_time": "2023-10-26T10:32:02.017Z"
   },
   {
    "duration": 3,
    "start_time": "2023-10-26T10:32:02.401Z"
   },
   {
    "duration": 4,
    "start_time": "2023-10-26T10:32:25.484Z"
   },
   {
    "duration": 12,
    "start_time": "2023-10-26T10:32:27.164Z"
   },
   {
    "duration": 3,
    "start_time": "2023-10-26T10:32:37.509Z"
   },
   {
    "duration": 333,
    "start_time": "2023-10-26T10:32:39.741Z"
   },
   {
    "duration": 81,
    "start_time": "2023-10-26T10:33:10.528Z"
   },
   {
    "duration": 4,
    "start_time": "2023-10-26T10:33:13.247Z"
   },
   {
    "duration": 1342,
    "start_time": "2023-10-26T10:33:15.153Z"
   },
   {
    "duration": 3,
    "start_time": "2023-10-26T10:33:44.308Z"
   },
   {
    "duration": 11,
    "start_time": "2023-10-26T10:33:46.301Z"
   },
   {
    "duration": 3,
    "start_time": "2023-10-26T10:33:54.446Z"
   },
   {
    "duration": 531,
    "start_time": "2023-10-26T10:33:56.181Z"
   },
   {
    "duration": 3,
    "start_time": "2023-10-26T10:34:05.430Z"
   },
   {
    "duration": 466,
    "start_time": "2023-10-26T10:34:07.121Z"
   },
   {
    "duration": 3,
    "start_time": "2023-10-26T10:34:13.791Z"
   },
   {
    "duration": 147,
    "start_time": "2023-10-26T10:34:19.511Z"
   },
   {
    "duration": 3,
    "start_time": "2023-10-26T10:34:22.407Z"
   },
   {
    "duration": 8,
    "start_time": "2023-10-26T10:34:23.783Z"
   },
   {
    "duration": 4,
    "start_time": "2023-10-26T10:34:30.095Z"
   },
   {
    "duration": 116,
    "start_time": "2023-10-26T10:34:31.551Z"
   },
   {
    "duration": 3,
    "start_time": "2023-10-26T10:34:39.314Z"
   },
   {
    "duration": 1837,
    "start_time": "2023-10-26T10:34:41.121Z"
   },
   {
    "duration": 1487,
    "start_time": "2023-10-26T10:34:45.721Z"
   },
   {
    "duration": 3,
    "start_time": "2023-10-26T10:34:49.377Z"
   },
   {
    "duration": 9,
    "start_time": "2023-10-26T10:34:50.676Z"
   },
   {
    "duration": 3,
    "start_time": "2023-10-26T10:35:57.248Z"
   },
   {
    "duration": 4,
    "start_time": "2023-10-26T10:35:58.162Z"
   },
   {
    "duration": 3,
    "start_time": "2023-10-26T10:38:11.384Z"
   },
   {
    "duration": 8,
    "start_time": "2023-10-26T10:38:13.205Z"
   },
   {
    "duration": 3,
    "start_time": "2023-10-26T10:38:53.426Z"
   },
   {
    "duration": 8,
    "start_time": "2023-10-26T10:38:54.210Z"
   },
   {
    "duration": 9,
    "start_time": "2023-10-26T10:38:56.546Z"
   },
   {
    "duration": 4,
    "start_time": "2023-10-26T10:39:28.173Z"
   },
   {
    "duration": 10,
    "start_time": "2023-10-26T10:39:34.679Z"
   },
   {
    "duration": 6,
    "start_time": "2023-10-26T10:39:48.414Z"
   },
   {
    "duration": 8,
    "start_time": "2023-10-26T10:39:56.740Z"
   },
   {
    "duration": 13,
    "start_time": "2023-10-26T10:41:28.210Z"
   },
   {
    "duration": 13,
    "start_time": "2023-10-26T10:41:37.234Z"
   },
   {
    "duration": 15,
    "start_time": "2023-10-26T10:43:27.013Z"
   },
   {
    "duration": 5,
    "start_time": "2023-10-26T10:44:55.022Z"
   },
   {
    "duration": 7,
    "start_time": "2023-10-26T10:45:03.319Z"
   },
   {
    "duration": 4,
    "start_time": "2023-10-26T10:46:28.331Z"
   },
   {
    "duration": 72,
    "start_time": "2023-10-26T10:47:50.080Z"
   },
   {
    "duration": 4,
    "start_time": "2023-10-26T10:47:58.240Z"
   },
   {
    "duration": 5,
    "start_time": "2023-10-26T10:48:03.800Z"
   },
   {
    "duration": 5,
    "start_time": "2023-10-26T10:48:07.345Z"
   },
   {
    "duration": 1448,
    "start_time": "2023-10-26T10:48:46.054Z"
   },
   {
    "duration": 3,
    "start_time": "2023-10-26T10:48:47.504Z"
   },
   {
    "duration": 49,
    "start_time": "2023-10-26T10:48:47.509Z"
   },
   {
    "duration": 12,
    "start_time": "2023-10-26T10:48:47.560Z"
   },
   {
    "duration": 3,
    "start_time": "2023-10-26T10:48:47.573Z"
   },
   {
    "duration": 19,
    "start_time": "2023-10-26T10:48:47.577Z"
   },
   {
    "duration": 24,
    "start_time": "2023-10-26T10:48:47.597Z"
   },
   {
    "duration": 26,
    "start_time": "2023-10-26T10:48:47.623Z"
   },
   {
    "duration": 6,
    "start_time": "2023-10-26T10:48:47.651Z"
   },
   {
    "duration": 8,
    "start_time": "2023-10-26T10:48:47.659Z"
   },
   {
    "duration": 12,
    "start_time": "2023-10-26T10:48:47.669Z"
   },
   {
    "duration": 8,
    "start_time": "2023-10-26T10:48:47.682Z"
   },
   {
    "duration": 18,
    "start_time": "2023-10-26T10:48:47.691Z"
   },
   {
    "duration": 144,
    "start_time": "2023-10-26T10:48:47.710Z"
   },
   {
    "duration": 93,
    "start_time": "2023-10-26T10:48:47.855Z"
   },
   {
    "duration": 197,
    "start_time": "2023-10-26T10:48:47.950Z"
   },
   {
    "duration": 86,
    "start_time": "2023-10-26T10:48:48.148Z"
   },
   {
    "duration": 311,
    "start_time": "2023-10-26T10:48:48.235Z"
   },
   {
    "duration": 103,
    "start_time": "2023-10-26T10:48:48.548Z"
   },
   {
    "duration": 174,
    "start_time": "2023-10-26T10:48:48.653Z"
   },
   {
    "duration": 97,
    "start_time": "2023-10-26T10:48:48.829Z"
   },
   {
    "duration": 199,
    "start_time": "2023-10-26T10:48:48.927Z"
   },
   {
    "duration": 94,
    "start_time": "2023-10-26T10:48:49.127Z"
   },
   {
    "duration": 4,
    "start_time": "2023-10-26T10:48:49.222Z"
   },
   {
    "duration": 24,
    "start_time": "2023-10-26T10:48:49.228Z"
   },
   {
    "duration": 20,
    "start_time": "2023-10-26T10:48:49.253Z"
   },
   {
    "duration": 70,
    "start_time": "2023-10-26T10:48:49.275Z"
   },
   {
    "duration": 201,
    "start_time": "2023-10-26T10:48:49.350Z"
   },
   {
    "duration": 0,
    "start_time": "2023-10-26T10:48:49.552Z"
   },
   {
    "duration": 0,
    "start_time": "2023-10-26T10:48:49.553Z"
   },
   {
    "duration": 0,
    "start_time": "2023-10-26T10:48:49.555Z"
   },
   {
    "duration": 0,
    "start_time": "2023-10-26T10:48:49.556Z"
   },
   {
    "duration": 0,
    "start_time": "2023-10-26T10:48:49.557Z"
   },
   {
    "duration": 4,
    "start_time": "2023-10-26T10:49:10.382Z"
   },
   {
    "duration": 7,
    "start_time": "2023-10-26T10:49:11.448Z"
   },
   {
    "duration": 4,
    "start_time": "2023-10-26T10:49:11.871Z"
   },
   {
    "duration": 3,
    "start_time": "2023-10-26T10:49:12.206Z"
   },
   {
    "duration": 7,
    "start_time": "2023-10-26T10:49:15.106Z"
   },
   {
    "duration": 7,
    "start_time": "2023-10-26T10:49:15.616Z"
   },
   {
    "duration": 5,
    "start_time": "2023-10-26T10:49:16.090Z"
   },
   {
    "duration": 4,
    "start_time": "2023-10-26T10:49:21.790Z"
   },
   {
    "duration": 3,
    "start_time": "2023-10-26T10:49:23.652Z"
   },
   {
    "duration": 40,
    "start_time": "2023-10-26T10:49:23.657Z"
   },
   {
    "duration": 52,
    "start_time": "2023-10-26T10:49:23.698Z"
   },
   {
    "duration": 19,
    "start_time": "2023-10-26T10:49:23.752Z"
   },
   {
    "duration": 49,
    "start_time": "2023-10-26T10:49:23.773Z"
   },
   {
    "duration": 89,
    "start_time": "2023-10-26T10:49:23.824Z"
   },
   {
    "duration": 76,
    "start_time": "2023-10-26T10:49:23.915Z"
   },
   {
    "duration": 57,
    "start_time": "2023-10-26T10:49:23.993Z"
   },
   {
    "duration": 6,
    "start_time": "2023-10-26T10:49:24.053Z"
   },
   {
    "duration": 63,
    "start_time": "2023-10-26T10:49:24.061Z"
   },
   {
    "duration": 45,
    "start_time": "2023-10-26T10:49:24.126Z"
   },
   {
    "duration": 19,
    "start_time": "2023-10-26T10:49:24.173Z"
   },
   {
    "duration": 31,
    "start_time": "2023-10-26T10:49:24.194Z"
   },
   {
    "duration": 183,
    "start_time": "2023-10-26T10:49:24.227Z"
   },
   {
    "duration": 97,
    "start_time": "2023-10-26T10:49:24.411Z"
   },
   {
    "duration": 185,
    "start_time": "2023-10-26T10:49:24.509Z"
   },
   {
    "duration": 93,
    "start_time": "2023-10-26T10:49:24.695Z"
   },
   {
    "duration": 194,
    "start_time": "2023-10-26T10:49:24.790Z"
   },
   {
    "duration": 199,
    "start_time": "2023-10-26T10:49:24.985Z"
   },
   {
    "duration": 173,
    "start_time": "2023-10-26T10:49:25.186Z"
   },
   {
    "duration": 108,
    "start_time": "2023-10-26T10:49:25.360Z"
   },
   {
    "duration": 206,
    "start_time": "2023-10-26T10:49:25.470Z"
   },
   {
    "duration": 116,
    "start_time": "2023-10-26T10:49:25.678Z"
   },
   {
    "duration": 4,
    "start_time": "2023-10-26T10:49:25.798Z"
   },
   {
    "duration": 28,
    "start_time": "2023-10-26T10:49:25.804Z"
   },
   {
    "duration": 68,
    "start_time": "2023-10-26T10:49:25.834Z"
   },
   {
    "duration": 42,
    "start_time": "2023-10-26T10:49:25.904Z"
   },
   {
    "duration": 114,
    "start_time": "2023-10-26T10:49:25.948Z"
   },
   {
    "duration": 42,
    "start_time": "2023-10-26T10:49:26.064Z"
   },
   {
    "duration": 5,
    "start_time": "2023-10-26T10:49:26.144Z"
   },
   {
    "duration": 109,
    "start_time": "2023-10-26T10:49:26.151Z"
   },
   {
    "duration": 28,
    "start_time": "2023-10-26T10:49:26.345Z"
   },
   {
    "duration": 26,
    "start_time": "2023-10-26T10:49:26.374Z"
   },
   {
    "duration": 9,
    "start_time": "2023-10-26T10:51:23.588Z"
   },
   {
    "duration": 3,
    "start_time": "2023-10-26T10:52:01.144Z"
   },
   {
    "duration": 1455,
    "start_time": "2023-10-26T10:52:11.423Z"
   },
   {
    "duration": 4,
    "start_time": "2023-10-26T10:52:12.879Z"
   },
   {
    "duration": 80,
    "start_time": "2023-10-26T10:52:12.884Z"
   },
   {
    "duration": 19,
    "start_time": "2023-10-26T10:52:12.966Z"
   },
   {
    "duration": 35,
    "start_time": "2023-10-26T10:52:12.988Z"
   },
   {
    "duration": 48,
    "start_time": "2023-10-26T10:52:13.025Z"
   },
   {
    "duration": 24,
    "start_time": "2023-10-26T10:52:13.075Z"
   },
   {
    "duration": 77,
    "start_time": "2023-10-26T10:52:13.101Z"
   },
   {
    "duration": 15,
    "start_time": "2023-10-26T10:52:13.179Z"
   },
   {
    "duration": 44,
    "start_time": "2023-10-26T10:52:13.195Z"
   },
   {
    "duration": 33,
    "start_time": "2023-10-26T10:52:13.240Z"
   },
   {
    "duration": 45,
    "start_time": "2023-10-26T10:52:13.274Z"
   },
   {
    "duration": 50,
    "start_time": "2023-10-26T10:52:13.321Z"
   },
   {
    "duration": 202,
    "start_time": "2023-10-26T10:52:13.373Z"
   },
   {
    "duration": 96,
    "start_time": "2023-10-26T10:52:13.577Z"
   },
   {
    "duration": 189,
    "start_time": "2023-10-26T10:52:13.675Z"
   },
   {
    "duration": 95,
    "start_time": "2023-10-26T10:52:13.866Z"
   },
   {
    "duration": 359,
    "start_time": "2023-10-26T10:52:13.963Z"
   },
   {
    "duration": 106,
    "start_time": "2023-10-26T10:52:14.324Z"
   },
   {
    "duration": 164,
    "start_time": "2023-10-26T10:52:14.432Z"
   },
   {
    "duration": 101,
    "start_time": "2023-10-26T10:52:14.598Z"
   },
   {
    "duration": 197,
    "start_time": "2023-10-26T10:52:14.702Z"
   },
   {
    "duration": 102,
    "start_time": "2023-10-26T10:52:14.901Z"
   },
   {
    "duration": 5,
    "start_time": "2023-10-26T10:52:15.005Z"
   },
   {
    "duration": 56,
    "start_time": "2023-10-26T10:52:15.011Z"
   },
   {
    "duration": 41,
    "start_time": "2023-10-26T10:52:15.069Z"
   },
   {
    "duration": 38,
    "start_time": "2023-10-26T10:52:15.111Z"
   },
   {
    "duration": 96,
    "start_time": "2023-10-26T10:52:15.151Z"
   },
   {
    "duration": 115,
    "start_time": "2023-10-26T10:52:15.249Z"
   },
   {
    "duration": 81,
    "start_time": "2023-10-26T10:52:15.366Z"
   },
   {
    "duration": 99,
    "start_time": "2023-10-26T10:52:15.448Z"
   },
   {
    "duration": 101,
    "start_time": "2023-10-26T10:52:15.549Z"
   },
   {
    "duration": 117,
    "start_time": "2023-10-26T10:52:15.652Z"
   },
   {
    "duration": 120,
    "start_time": "2023-10-26T10:52:15.770Z"
   },
   {
    "duration": 7,
    "start_time": "2023-10-26T10:54:03.348Z"
   },
   {
    "duration": 3,
    "start_time": "2023-10-26T10:57:50.323Z"
   },
   {
    "duration": 9,
    "start_time": "2023-10-26T10:58:37.272Z"
   },
   {
    "duration": 8,
    "start_time": "2023-10-26T10:58:48.321Z"
   },
   {
    "duration": 3,
    "start_time": "2023-10-26T10:58:51.152Z"
   },
   {
    "duration": 8,
    "start_time": "2023-10-26T10:58:53.256Z"
   },
   {
    "duration": 5,
    "start_time": "2023-10-26T10:59:04.042Z"
   },
   {
    "duration": 19,
    "start_time": "2023-10-26T10:59:05.610Z"
   },
   {
    "duration": 83,
    "start_time": "2023-10-26T10:59:25.365Z"
   },
   {
    "duration": 7,
    "start_time": "2023-10-26T10:59:42.654Z"
   },
   {
    "duration": 1480,
    "start_time": "2023-10-26T11:03:26.657Z"
   },
   {
    "duration": 3,
    "start_time": "2023-10-26T11:03:28.139Z"
   },
   {
    "duration": 49,
    "start_time": "2023-10-26T11:03:28.144Z"
   },
   {
    "duration": 12,
    "start_time": "2023-10-26T11:03:28.194Z"
   },
   {
    "duration": 3,
    "start_time": "2023-10-26T11:03:28.208Z"
   },
   {
    "duration": 14,
    "start_time": "2023-10-26T11:03:28.212Z"
   },
   {
    "duration": 9,
    "start_time": "2023-10-26T11:03:28.228Z"
   },
   {
    "duration": 26,
    "start_time": "2023-10-26T11:03:28.238Z"
   },
   {
    "duration": 5,
    "start_time": "2023-10-26T11:03:28.266Z"
   },
   {
    "duration": 13,
    "start_time": "2023-10-26T11:03:28.272Z"
   },
   {
    "duration": 13,
    "start_time": "2023-10-26T11:03:28.287Z"
   },
   {
    "duration": 3,
    "start_time": "2023-10-26T11:03:28.302Z"
   },
   {
    "duration": 36,
    "start_time": "2023-10-26T11:03:28.306Z"
   },
   {
    "duration": 141,
    "start_time": "2023-10-26T11:03:28.345Z"
   },
   {
    "duration": 96,
    "start_time": "2023-10-26T11:03:28.487Z"
   },
   {
    "duration": 201,
    "start_time": "2023-10-26T11:03:28.585Z"
   },
   {
    "duration": 100,
    "start_time": "2023-10-26T11:03:28.787Z"
   },
   {
    "duration": 266,
    "start_time": "2023-10-26T11:03:28.889Z"
   },
   {
    "duration": 102,
    "start_time": "2023-10-26T11:03:29.157Z"
   },
   {
    "duration": 173,
    "start_time": "2023-10-26T11:03:29.261Z"
   },
   {
    "duration": 89,
    "start_time": "2023-10-26T11:03:29.436Z"
   },
   {
    "duration": 188,
    "start_time": "2023-10-26T11:03:29.527Z"
   },
   {
    "duration": 95,
    "start_time": "2023-10-26T11:03:29.717Z"
   },
   {
    "duration": 4,
    "start_time": "2023-10-26T11:03:29.814Z"
   },
   {
    "duration": 27,
    "start_time": "2023-10-26T11:03:29.819Z"
   },
   {
    "duration": 16,
    "start_time": "2023-10-26T11:03:29.847Z"
   },
   {
    "duration": 29,
    "start_time": "2023-10-26T11:03:29.865Z"
   },
   {
    "duration": 53,
    "start_time": "2023-10-26T11:03:29.896Z"
   },
   {
    "duration": 95,
    "start_time": "2023-10-26T11:03:29.951Z"
   },
   {
    "duration": 99,
    "start_time": "2023-10-26T11:03:30.048Z"
   },
   {
    "duration": 113,
    "start_time": "2023-10-26T11:03:30.149Z"
   },
   {
    "duration": 250,
    "start_time": "2023-10-26T11:03:30.264Z"
   },
   {
    "duration": 112,
    "start_time": "2023-10-26T11:03:30.516Z"
   },
   {
    "duration": 66,
    "start_time": "2023-10-26T11:03:30.630Z"
   },
   {
    "duration": 268,
    "start_time": "2023-10-26T11:03:30.698Z"
   },
   {
    "duration": 2537,
    "start_time": "2023-10-27T08:53:17.740Z"
   },
   {
    "duration": 9,
    "start_time": "2023-10-27T08:53:20.281Z"
   },
   {
    "duration": 116,
    "start_time": "2023-10-27T08:53:20.292Z"
   },
   {
    "duration": 12,
    "start_time": "2023-10-27T08:53:20.410Z"
   },
   {
    "duration": 52,
    "start_time": "2023-10-27T08:53:20.423Z"
   },
   {
    "duration": 17,
    "start_time": "2023-10-27T08:53:20.476Z"
   },
   {
    "duration": 28,
    "start_time": "2023-10-27T08:53:20.495Z"
   },
   {
    "duration": 57,
    "start_time": "2023-10-27T08:53:20.524Z"
   },
   {
    "duration": 6,
    "start_time": "2023-10-27T08:53:20.583Z"
   },
   {
    "duration": 24,
    "start_time": "2023-10-27T08:53:20.592Z"
   },
   {
    "duration": 13,
    "start_time": "2023-10-27T08:53:20.618Z"
   },
   {
    "duration": 40,
    "start_time": "2023-10-27T08:53:20.633Z"
   },
   {
    "duration": 31,
    "start_time": "2023-10-27T08:53:20.676Z"
   },
   {
    "duration": 180,
    "start_time": "2023-10-27T08:53:20.708Z"
   },
   {
    "duration": 222,
    "start_time": "2023-10-27T08:53:20.889Z"
   },
   {
    "duration": 109,
    "start_time": "2023-10-27T08:53:21.113Z"
   },
   {
    "duration": 295,
    "start_time": "2023-10-27T08:53:21.224Z"
   },
   {
    "duration": 120,
    "start_time": "2023-10-27T08:53:21.520Z"
   },
   {
    "duration": 197,
    "start_time": "2023-10-27T08:53:21.645Z"
   },
   {
    "duration": 111,
    "start_time": "2023-10-27T08:53:21.845Z"
   },
   {
    "duration": 220,
    "start_time": "2023-10-27T08:53:21.957Z"
   },
   {
    "duration": 115,
    "start_time": "2023-10-27T08:53:22.179Z"
   },
   {
    "duration": 5,
    "start_time": "2023-10-27T08:53:22.295Z"
   },
   {
    "duration": 16,
    "start_time": "2023-10-27T08:53:22.302Z"
   },
   {
    "duration": 6,
    "start_time": "2023-10-27T08:53:22.319Z"
   },
   {
    "duration": 59,
    "start_time": "2023-10-27T08:53:22.326Z"
   },
   {
    "duration": 16,
    "start_time": "2023-10-27T08:53:22.444Z"
   },
   {
    "duration": 91,
    "start_time": "2023-10-27T08:53:22.471Z"
   },
   {
    "duration": 16,
    "start_time": "2023-10-27T08:53:22.571Z"
   },
   {
    "duration": 57,
    "start_time": "2023-10-27T08:53:22.591Z"
   },
   {
    "duration": 9,
    "start_time": "2023-10-27T08:53:22.745Z"
   },
   {
    "duration": 37,
    "start_time": "2023-10-27T08:53:22.759Z"
   },
   {
    "duration": 13,
    "start_time": "2023-10-27T08:53:22.798Z"
   },
   {
    "duration": 10,
    "start_time": "2023-10-27T08:53:22.844Z"
   },
   {
    "duration": 106,
    "start_time": "2023-10-27T10:48:18.414Z"
   },
   {
    "duration": 4,
    "start_time": "2023-10-27T10:48:33.462Z"
   },
   {
    "duration": 3,
    "start_time": "2023-10-27T10:48:47.655Z"
   },
   {
    "duration": 3,
    "start_time": "2023-10-27T10:49:33.286Z"
   },
   {
    "duration": 6,
    "start_time": "2023-10-27T10:49:34.179Z"
   },
   {
    "duration": 3,
    "start_time": "2023-10-27T10:49:34.756Z"
   },
   {
    "duration": 4,
    "start_time": "2023-10-27T10:49:35.304Z"
   },
   {
    "duration": 4,
    "start_time": "2023-10-27T10:49:42.994Z"
   },
   {
    "duration": 5,
    "start_time": "2023-10-27T10:49:43.203Z"
   },
   {
    "duration": 6,
    "start_time": "2023-10-27T10:49:43.365Z"
   },
   {
    "duration": 4,
    "start_time": "2023-10-27T10:49:43.731Z"
   },
   {
    "duration": 3,
    "start_time": "2023-10-27T11:01:20.611Z"
   },
   {
    "duration": 1621,
    "start_time": "2023-10-27T11:01:30.673Z"
   },
   {
    "duration": 2,
    "start_time": "2023-10-27T11:01:32.296Z"
   },
   {
    "duration": 53,
    "start_time": "2023-10-27T11:01:32.300Z"
   },
   {
    "duration": 13,
    "start_time": "2023-10-27T11:01:32.354Z"
   },
   {
    "duration": 26,
    "start_time": "2023-10-27T11:01:32.369Z"
   },
   {
    "duration": 35,
    "start_time": "2023-10-27T11:01:32.397Z"
   },
   {
    "duration": 13,
    "start_time": "2023-10-27T11:01:32.434Z"
   },
   {
    "duration": 29,
    "start_time": "2023-10-27T11:01:32.448Z"
   },
   {
    "duration": 9,
    "start_time": "2023-10-27T11:01:32.478Z"
   },
   {
    "duration": 21,
    "start_time": "2023-10-27T11:01:32.488Z"
   },
   {
    "duration": 13,
    "start_time": "2023-10-27T11:01:32.511Z"
   },
   {
    "duration": 14,
    "start_time": "2023-10-27T11:01:32.526Z"
   },
   {
    "duration": 15,
    "start_time": "2023-10-27T11:01:32.541Z"
   },
   {
    "duration": 156,
    "start_time": "2023-10-27T11:01:32.560Z"
   },
   {
    "duration": 214,
    "start_time": "2023-10-27T11:01:32.717Z"
   },
   {
    "duration": 99,
    "start_time": "2023-10-27T11:01:32.933Z"
   },
   {
    "duration": 226,
    "start_time": "2023-10-27T11:01:33.034Z"
   },
   {
    "duration": 178,
    "start_time": "2023-10-27T11:01:33.261Z"
   },
   {
    "duration": 157,
    "start_time": "2023-10-27T11:01:33.445Z"
   },
   {
    "duration": 99,
    "start_time": "2023-10-27T11:01:33.603Z"
   },
   {
    "duration": 186,
    "start_time": "2023-10-27T11:01:33.704Z"
   },
   {
    "duration": 101,
    "start_time": "2023-10-27T11:01:33.892Z"
   },
   {
    "duration": 4,
    "start_time": "2023-10-27T11:01:33.995Z"
   },
   {
    "duration": 22,
    "start_time": "2023-10-27T11:01:34.000Z"
   },
   {
    "duration": 23,
    "start_time": "2023-10-27T11:01:34.024Z"
   },
   {
    "duration": 30,
    "start_time": "2023-10-27T11:01:34.048Z"
   },
   {
    "duration": 68,
    "start_time": "2023-10-27T11:01:34.080Z"
   },
   {
    "duration": 216,
    "start_time": "2023-10-27T11:01:34.150Z"
   },
   {
    "duration": 0,
    "start_time": "2023-10-27T11:01:34.367Z"
   },
   {
    "duration": 0,
    "start_time": "2023-10-27T11:01:34.368Z"
   },
   {
    "duration": 0,
    "start_time": "2023-10-27T11:01:34.369Z"
   },
   {
    "duration": 0,
    "start_time": "2023-10-27T11:01:34.370Z"
   },
   {
    "duration": 0,
    "start_time": "2023-10-27T11:01:34.371Z"
   },
   {
    "duration": 0,
    "start_time": "2023-10-27T11:01:34.372Z"
   },
   {
    "duration": 4,
    "start_time": "2023-10-27T11:01:59.045Z"
   },
   {
    "duration": 6,
    "start_time": "2023-10-27T11:01:59.509Z"
   },
   {
    "duration": 4,
    "start_time": "2023-10-27T11:01:59.788Z"
   },
   {
    "duration": 4,
    "start_time": "2023-10-27T11:02:00.377Z"
   },
   {
    "duration": 4,
    "start_time": "2023-10-27T11:02:03.532Z"
   },
   {
    "duration": 3,
    "start_time": "2023-10-27T11:02:04.496Z"
   },
   {
    "duration": 9,
    "start_time": "2023-10-27T11:02:05.525Z"
   },
   {
    "duration": 5,
    "start_time": "2023-10-27T11:02:30.201Z"
   },
   {
    "duration": 5,
    "start_time": "2023-10-27T11:02:35.457Z"
   },
   {
    "duration": 5,
    "start_time": "2023-10-27T11:02:40.249Z"
   },
   {
    "duration": 4,
    "start_time": "2023-10-27T11:06:10.005Z"
   },
   {
    "duration": 3,
    "start_time": "2023-10-27T11:06:12.442Z"
   },
   {
    "duration": 1658,
    "start_time": "2023-10-27T11:09:26.615Z"
   },
   {
    "duration": 4,
    "start_time": "2023-10-27T11:09:28.275Z"
   },
   {
    "duration": 42,
    "start_time": "2023-10-27T11:09:28.280Z"
   },
   {
    "duration": 12,
    "start_time": "2023-10-27T11:09:28.324Z"
   },
   {
    "duration": 35,
    "start_time": "2023-10-27T11:09:28.338Z"
   },
   {
    "duration": 35,
    "start_time": "2023-10-27T11:09:28.374Z"
   },
   {
    "duration": 12,
    "start_time": "2023-10-27T11:09:28.410Z"
   },
   {
    "duration": 26,
    "start_time": "2023-10-27T11:09:28.423Z"
   },
   {
    "duration": 4,
    "start_time": "2023-10-27T11:09:28.451Z"
   },
   {
    "duration": 13,
    "start_time": "2023-10-27T11:09:28.457Z"
   },
   {
    "duration": 12,
    "start_time": "2023-10-27T11:09:28.471Z"
   },
   {
    "duration": 4,
    "start_time": "2023-10-27T11:09:28.484Z"
   },
   {
    "duration": 9,
    "start_time": "2023-10-27T11:09:28.489Z"
   },
   {
    "duration": 146,
    "start_time": "2023-10-27T11:09:28.499Z"
   },
   {
    "duration": 178,
    "start_time": "2023-10-27T11:09:28.646Z"
   },
   {
    "duration": 90,
    "start_time": "2023-10-27T11:09:28.826Z"
   },
   {
    "duration": 195,
    "start_time": "2023-10-27T11:09:28.917Z"
   },
   {
    "duration": 176,
    "start_time": "2023-10-27T11:09:29.113Z"
   },
   {
    "duration": 158,
    "start_time": "2023-10-27T11:09:29.291Z"
   },
   {
    "duration": 99,
    "start_time": "2023-10-27T11:09:29.450Z"
   },
   {
    "duration": 181,
    "start_time": "2023-10-27T11:09:29.551Z"
   },
   {
    "duration": 96,
    "start_time": "2023-10-27T11:09:29.734Z"
   },
   {
    "duration": 13,
    "start_time": "2023-10-27T11:09:29.831Z"
   },
   {
    "duration": 6,
    "start_time": "2023-10-27T11:09:29.846Z"
   },
   {
    "duration": 7,
    "start_time": "2023-10-27T11:09:29.853Z"
   },
   {
    "duration": 25,
    "start_time": "2023-10-27T11:09:29.862Z"
   },
   {
    "duration": 7,
    "start_time": "2023-10-27T11:09:29.889Z"
   },
   {
    "duration": 6,
    "start_time": "2023-10-27T11:09:29.948Z"
   },
   {
    "duration": 6,
    "start_time": "2023-10-27T11:09:30.043Z"
   },
   {
    "duration": 101,
    "start_time": "2023-10-27T11:09:30.051Z"
   },
   {
    "duration": 94,
    "start_time": "2023-10-27T11:09:30.155Z"
   },
   {
    "duration": 93,
    "start_time": "2023-10-27T11:09:30.251Z"
   },
   {
    "duration": 9,
    "start_time": "2023-10-27T11:09:30.346Z"
   },
   {
    "duration": 211,
    "start_time": "2023-10-27T11:09:30.357Z"
   },
   {
    "duration": 10,
    "start_time": "2023-12-06T10:08:14.959Z"
   },
   {
    "duration": 49,
    "start_time": "2023-12-06T10:08:15.831Z"
   },
   {
    "duration": 3,
    "start_time": "2023-12-06T10:08:22.160Z"
   },
   {
    "duration": 7,
    "start_time": "2023-12-06T10:08:23.313Z"
   },
   {
    "duration": 1677,
    "start_time": "2023-12-06T10:08:25.296Z"
   },
   {
    "duration": 3,
    "start_time": "2023-12-06T10:08:26.975Z"
   },
   {
    "duration": 82,
    "start_time": "2023-12-06T10:08:26.980Z"
   },
   {
    "duration": 4,
    "start_time": "2023-12-06T10:08:59.660Z"
   },
   {
    "duration": 167,
    "start_time": "2023-12-06T10:09:00.428Z"
   },
   {
    "duration": 4,
    "start_time": "2023-12-06T10:09:07.894Z"
   },
   {
    "duration": 29,
    "start_time": "2023-12-06T10:09:08.629Z"
   }
  ],
  "kernelspec": {
   "display_name": "Python 3 (ipykernel)",
   "language": "python",
   "name": "python3"
  },
  "language_info": {
   "codemirror_mode": {
    "name": "ipython",
    "version": 3
   },
   "file_extension": ".py",
   "mimetype": "text/x-python",
   "name": "python",
   "nbconvert_exporter": "python",
   "pygments_lexer": "ipython3",
   "version": "3.10.13"
  },
  "toc": {
   "base_numbering": 1,
   "nav_menu": {},
   "number_sections": true,
   "sideBar": true,
   "skip_h1_title": true,
   "title_cell": "Содержание",
   "title_sidebar": "Contents",
   "toc_cell": true,
   "toc_position": {
    "height": "calc(100% - 180px)",
    "left": "10px",
    "top": "150px",
    "width": "371px"
   },
   "toc_section_display": true,
   "toc_window_display": true
  }
 },
 "nbformat": 4,
 "nbformat_minor": 2
}
