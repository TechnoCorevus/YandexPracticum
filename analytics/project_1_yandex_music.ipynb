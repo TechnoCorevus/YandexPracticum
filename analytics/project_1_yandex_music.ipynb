{
 "cells": [
  {
   "cell_type": "markdown",
   "metadata": {
    "deletable": false,
    "editable": false,
    "id": "E0vqbgi9ay0H"
   },
   "source": [
    "# Яндекс Музыка"
   ]
  },
  {
   "cell_type": "markdown",
   "metadata": {
    "deletable": false,
    "editable": false,
    "id": "VUC88oWjTJw2"
   },
   "source": [
    "Сравнение Москвы и Петербурга окружено мифами. Например:\n",
    " * Москва — мегаполис, подчинённый жёсткому ритму рабочей недели;\n",
    " * Петербург — культурная столица, со своими вкусами.\n",
    "\n",
    "На данных Яндекс Музыки вы сравните поведение пользователей двух столиц.\n",
    "\n",
    "**Цель исследования** — проверьте три гипотезы:\n",
    "1. Активность пользователей зависит от дня недели. Причём в Москве и Петербурге это проявляется по-разному.\n",
    "2. В понедельник утром в Москве преобладают одни жанры, а в Петербурге — другие. Так же и вечером пятницы преобладают разные жанры — в зависимости от города. \n",
    "3. Москва и Петербург предпочитают разные жанры музыки. В Москве чаще слушают поп-музыку, в Петербурге — русский рэп.\n",
    "\n",
    "**Ход исследования**\n",
    "\n",
    "Данные о поведении пользователей вы получите из файла `yandex_music_project.csv`. О качестве данных ничего не известно. Поэтому перед проверкой гипотез понадобится обзор данных. \n",
    "\n",
    "Вы проверите данные на ошибки и оцените их влияние на исследование. Затем, на этапе предобработки вы поищете возможность исправить самые критичные ошибки данных.\n",
    " \n",
    "Таким образом, исследование пройдёт в три этапа:\n",
    " 1. Обзор данных.\n",
    " 2. Предобработка данных.\n",
    " 3. Проверка гипотез.\n",
    "\n"
   ]
  },
  {
   "cell_type": "markdown",
   "metadata": {
    "deletable": false,
    "editable": false,
    "id": "Ml1hmfXC_Zcs"
   },
   "source": [
    "## Обзор данных\n",
    "\n",
    "Составьте первое представление о данных Яндекс Музыки.\n",
    "\n",
    "\n"
   ]
  },
  {
   "cell_type": "markdown",
   "metadata": {
    "deletable": false,
    "editable": false,
    "id": "57eAOGIz_Zcs",
    "tags": [
     "start_task"
    ]
   },
   "source": [
    "**Задание 1**\n",
    "\n",
    "Основной инструмент аналитика — `pandas`. Импортируйте эту библиотеку."
   ]
  },
  {
   "cell_type": "code",
   "execution_count": 222,
   "metadata": {
    "deletable": false,
    "id": "AXN7PHPN_Zcs"
   },
   "outputs": [],
   "source": [
    "# импорт библиотеки pandas\n",
    "import pandas as pd"
   ]
  },
  {
   "cell_type": "markdown",
   "metadata": {
    "deletable": false,
    "editable": false,
    "id": "SG23P8tt_Zcs",
    "tags": [
     "start_task"
    ]
   },
   "source": [
    "**Задание 2**\n",
    "\n",
    "Прочитайте файл `yandex_music_project.csv` из папки `/datasets` и сохраните его в переменной `df`:"
   ]
  },
  {
   "cell_type": "code",
   "execution_count": 223,
   "metadata": {
    "deletable": false,
    "id": "fFVu7vqh_Zct"
   },
   "outputs": [],
   "source": [
    "# чтение файла с данными и сохранение в df\n",
    "df = pd.read_csv('/datasets/yandex_music_project.csv')"
   ]
  },
  {
   "cell_type": "markdown",
   "metadata": {
    "deletable": false,
    "editable": false,
    "id": "rDoOMd3uTqnZ",
    "tags": [
     "start_task"
    ]
   },
   "source": [
    "**Задание 3**\n",
    "\n",
    "\n",
    "Выведите на экран первые десять строк таблицы:"
   ]
  },
  {
   "cell_type": "code",
   "execution_count": 224,
   "metadata": {
    "deletable": false,
    "id": "oWTVX3gW_Zct"
   },
   "outputs": [
    {
     "data": {
      "text/html": [
       "<div>\n",
       "<style scoped>\n",
       "    .dataframe tbody tr th:only-of-type {\n",
       "        vertical-align: middle;\n",
       "    }\n",
       "\n",
       "    .dataframe tbody tr th {\n",
       "        vertical-align: top;\n",
       "    }\n",
       "\n",
       "    .dataframe thead th {\n",
       "        text-align: right;\n",
       "    }\n",
       "</style>\n",
       "<table border=\"1\" class=\"dataframe\">\n",
       "  <thead>\n",
       "    <tr style=\"text-align: right;\">\n",
       "      <th></th>\n",
       "      <th>userID</th>\n",
       "      <th>Track</th>\n",
       "      <th>artist</th>\n",
       "      <th>genre</th>\n",
       "      <th>City</th>\n",
       "      <th>time</th>\n",
       "      <th>Day</th>\n",
       "    </tr>\n",
       "  </thead>\n",
       "  <tbody>\n",
       "    <tr>\n",
       "      <th>0</th>\n",
       "      <td>FFB692EC</td>\n",
       "      <td>Kamigata To Boots</td>\n",
       "      <td>The Mass Missile</td>\n",
       "      <td>rock</td>\n",
       "      <td>Saint-Petersburg</td>\n",
       "      <td>20:28:33</td>\n",
       "      <td>Wednesday</td>\n",
       "    </tr>\n",
       "    <tr>\n",
       "      <th>1</th>\n",
       "      <td>55204538</td>\n",
       "      <td>Delayed Because of Accident</td>\n",
       "      <td>Andreas Rönnberg</td>\n",
       "      <td>rock</td>\n",
       "      <td>Moscow</td>\n",
       "      <td>14:07:09</td>\n",
       "      <td>Friday</td>\n",
       "    </tr>\n",
       "    <tr>\n",
       "      <th>2</th>\n",
       "      <td>20EC38</td>\n",
       "      <td>Funiculì funiculà</td>\n",
       "      <td>Mario Lanza</td>\n",
       "      <td>pop</td>\n",
       "      <td>Saint-Petersburg</td>\n",
       "      <td>20:58:07</td>\n",
       "      <td>Wednesday</td>\n",
       "    </tr>\n",
       "    <tr>\n",
       "      <th>3</th>\n",
       "      <td>A3DD03C9</td>\n",
       "      <td>Dragons in the Sunset</td>\n",
       "      <td>Fire + Ice</td>\n",
       "      <td>folk</td>\n",
       "      <td>Saint-Petersburg</td>\n",
       "      <td>08:37:09</td>\n",
       "      <td>Monday</td>\n",
       "    </tr>\n",
       "    <tr>\n",
       "      <th>4</th>\n",
       "      <td>E2DC1FAE</td>\n",
       "      <td>Soul People</td>\n",
       "      <td>Space Echo</td>\n",
       "      <td>dance</td>\n",
       "      <td>Moscow</td>\n",
       "      <td>08:34:34</td>\n",
       "      <td>Monday</td>\n",
       "    </tr>\n",
       "    <tr>\n",
       "      <th>5</th>\n",
       "      <td>842029A1</td>\n",
       "      <td>Преданная</td>\n",
       "      <td>IMPERVTOR</td>\n",
       "      <td>rusrap</td>\n",
       "      <td>Saint-Petersburg</td>\n",
       "      <td>13:09:41</td>\n",
       "      <td>Friday</td>\n",
       "    </tr>\n",
       "    <tr>\n",
       "      <th>6</th>\n",
       "      <td>4CB90AA5</td>\n",
       "      <td>True</td>\n",
       "      <td>Roman Messer</td>\n",
       "      <td>dance</td>\n",
       "      <td>Moscow</td>\n",
       "      <td>13:00:07</td>\n",
       "      <td>Wednesday</td>\n",
       "    </tr>\n",
       "    <tr>\n",
       "      <th>7</th>\n",
       "      <td>F03E1C1F</td>\n",
       "      <td>Feeling This Way</td>\n",
       "      <td>Polina Griffith</td>\n",
       "      <td>dance</td>\n",
       "      <td>Moscow</td>\n",
       "      <td>20:47:49</td>\n",
       "      <td>Wednesday</td>\n",
       "    </tr>\n",
       "    <tr>\n",
       "      <th>8</th>\n",
       "      <td>8FA1D3BE</td>\n",
       "      <td>И вновь продолжается бой</td>\n",
       "      <td>NaN</td>\n",
       "      <td>ruspop</td>\n",
       "      <td>Moscow</td>\n",
       "      <td>09:17:40</td>\n",
       "      <td>Friday</td>\n",
       "    </tr>\n",
       "    <tr>\n",
       "      <th>9</th>\n",
       "      <td>E772D5C0</td>\n",
       "      <td>Pessimist</td>\n",
       "      <td>NaN</td>\n",
       "      <td>dance</td>\n",
       "      <td>Saint-Petersburg</td>\n",
       "      <td>21:20:49</td>\n",
       "      <td>Wednesday</td>\n",
       "    </tr>\n",
       "  </tbody>\n",
       "</table>\n",
       "</div>"
      ],
      "text/plain": [
       "     userID                        Track            artist   genre  \\\n",
       "0  FFB692EC            Kamigata To Boots  The Mass Missile    rock   \n",
       "1  55204538  Delayed Because of Accident  Andreas Rönnberg    rock   \n",
       "2    20EC38            Funiculì funiculà       Mario Lanza     pop   \n",
       "3  A3DD03C9        Dragons in the Sunset        Fire + Ice    folk   \n",
       "4  E2DC1FAE                  Soul People        Space Echo   dance   \n",
       "5  842029A1                    Преданная         IMPERVTOR  rusrap   \n",
       "6  4CB90AA5                         True      Roman Messer   dance   \n",
       "7  F03E1C1F             Feeling This Way   Polina Griffith   dance   \n",
       "8  8FA1D3BE     И вновь продолжается бой               NaN  ruspop   \n",
       "9  E772D5C0                    Pessimist               NaN   dance   \n",
       "\n",
       "             City        time        Day  \n",
       "0  Saint-Petersburg  20:28:33  Wednesday  \n",
       "1            Moscow  14:07:09     Friday  \n",
       "2  Saint-Petersburg  20:58:07  Wednesday  \n",
       "3  Saint-Petersburg  08:37:09     Monday  \n",
       "4            Moscow  08:34:34     Monday  \n",
       "5  Saint-Petersburg  13:09:41     Friday  \n",
       "6            Moscow  13:00:07  Wednesday  \n",
       "7            Moscow  20:47:49  Wednesday  \n",
       "8            Moscow  09:17:40     Friday  \n",
       "9  Saint-Petersburg  21:20:49  Wednesday  "
      ]
     },
     "execution_count": 224,
     "metadata": {},
     "output_type": "execute_result"
    }
   ],
   "source": [
    "# получение первых 10 строк таблицы df\n",
    "df.head(10)"
   ]
  },
  {
   "cell_type": "markdown",
   "metadata": {
    "deletable": false,
    "editable": false,
    "id": "EO73Kwic_Zct",
    "tags": [
     "start_task"
    ]
   },
   "source": [
    "**Задание 4**\n",
    "\n",
    "\n",
    "Одной командой получить общую информацию о таблице c помощью метода `info()`:"
   ]
  },
  {
   "cell_type": "code",
   "execution_count": 225,
   "metadata": {
    "deletable": false,
    "id": "DSf2kIb-_Zct"
   },
   "outputs": [
    {
     "name": "stdout",
     "output_type": "stream",
     "text": [
      "<class 'pandas.core.frame.DataFrame'>\n",
      "RangeIndex: 65079 entries, 0 to 65078\n",
      "Data columns (total 7 columns):\n",
      " #   Column    Non-Null Count  Dtype \n",
      "---  ------    --------------  ----- \n",
      " 0     userID  65079 non-null  object\n",
      " 1   Track     63848 non-null  object\n",
      " 2   artist    57876 non-null  object\n",
      " 3   genre     63881 non-null  object\n",
      " 4     City    65079 non-null  object\n",
      " 5   time      65079 non-null  object\n",
      " 6   Day       65079 non-null  object\n",
      "dtypes: object(7)\n",
      "memory usage: 3.5+ MB\n"
     ]
    }
   ],
   "source": [
    "# получение общей информации о данных в таблице df\n",
    "df.info()"
   ]
  },
  {
   "cell_type": "markdown",
   "metadata": {
    "deletable": false,
    "editable": false,
    "id": "TaQ2Iwbr_Zct"
   },
   "source": [
    "Итак, в таблице семь столбцов. Тип данных во всех столбцах — `object`.\n",
    "\n",
    "Согласно документации к данным:\n",
    "* `userID` — идентификатор пользователя;\n",
    "* `Track` — название трека;  \n",
    "* `artist` — имя исполнителя;\n",
    "* `genre` — название жанра;\n",
    "* `City` — город пользователя;\n",
    "* `time` — время начала прослушивания;\n",
    "* `Day` — день недели.\n",
    "\n",
    "Количество значений в столбцах различается. Значит, в данных есть пропущенные значения."
   ]
  },
  {
   "cell_type": "markdown",
   "metadata": {
    "deletable": false,
    "editable": false,
    "id": "4P0UCWzswgEm",
    "tags": [
     "start_task"
    ]
   },
   "source": [
    "**Задание 5**\n",
    "\n",
    "**Вопрос со свободной формой ответа**\n",
    "\n",
    "В названиях колонок видны три нарушения стиля:\n",
    "1. Строчные буквы сочетаются с прописными.\n",
    "2. Встречаются пробелы."
   ]
  },
  {
   "cell_type": "code",
   "execution_count": 8,
   "metadata": {
    "id": "c137-ZstwgEm"
   },
   "outputs": [],
   "source": [
    "# Напишите ваш ответ здесь комментарием. Не удаляйте символ #. Не меняйте тип этой ячейки на Markdown.\n",
    "# Строчные буквы сочетаются с прописными."
   ]
  },
  {
   "cell_type": "markdown",
   "metadata": {
    "deletable": false,
    "editable": false,
    "id": "MCB6-dXG_Zct"
   },
   "source": [
    "**Выводы**\n",
    "\n",
    "В каждой строке таблицы — данные о прослушанном треке. Часть колонок описывает саму композицию: название, исполнителя и жанр. Остальные данные рассказывают о пользователе: из какого он города, когда он слушал музыку. \n",
    "\n",
    "Предварительно можно утверждать, что, данных достаточно для проверки гипотез. Но встречаются пропуски в данных, а в названиях колонок — расхождения с хорошим стилем.\n",
    "\n",
    "Чтобы двигаться дальше, нужно устранить проблемы в данных."
   ]
  },
  {
   "cell_type": "markdown",
   "metadata": {
    "deletable": false,
    "editable": false,
    "id": "SjYF6Ub9_Zct"
   },
   "source": [
    "## Предобработка данных\n",
    "Исправьте стиль в заголовках столбцов, исключите пропуски. Затем проверьте данные на дубликаты."
   ]
  },
  {
   "cell_type": "markdown",
   "metadata": {
    "deletable": false,
    "editable": false,
    "id": "dIaKXr29_Zct",
    "tags": [
     "start_task"
    ]
   },
   "source": [
    "### Стиль заголовков\n",
    "\n",
    "**Задание 6**\n",
    "\n",
    "Выведите на экран названия столбцов:"
   ]
  },
  {
   "cell_type": "code",
   "execution_count": 226,
   "metadata": {
    "deletable": false,
    "id": "oKOTdF_Q_Zct"
   },
   "outputs": [
    {
     "data": {
      "text/plain": [
       "Index(['  userID', 'Track', 'artist', 'genre', '  City  ', 'time', 'Day'], dtype='object')"
      ]
     },
     "execution_count": 226,
     "metadata": {},
     "output_type": "execute_result"
    }
   ],
   "source": [
    "# перечень названий столбцов таблицы df\n",
    "df.columns"
   ]
  },
  {
   "cell_type": "markdown",
   "metadata": {
    "deletable": false,
    "editable": false,
    "id": "zj5534cv_Zct",
    "tags": [
     "start_task"
    ]
   },
   "source": [
    "**Задание 7**\n",
    "\n",
    "\n",
    "Приведите названия в соответствие с хорошим стилем:\n",
    "* несколько слов в названии запишите в «змеином_регистре»,\n",
    "* все символы сделайте строчными,\n",
    "* устраните пробелы.\n",
    "\n",
    "Для этого переименуйте колонки так:\n",
    "* `'  userID'` → `'user_id'`;\n",
    "* `'Track'` → `'track'`;\n",
    "* `'  City  '` → `'city'`;\n",
    "* `'Day'` → `'day'`."
   ]
  },
  {
   "cell_type": "code",
   "execution_count": 227,
   "metadata": {
    "deletable": false,
    "id": "ISlFqs5y_Zct"
   },
   "outputs": [],
   "source": [
    "# переименование столбцов\n",
    "df = df.rename(columns = {'  userID' : 'user_id', 'Track' : 'track', '  City  ' : 'city', 'Day' : 'day'})"
   ]
  },
  {
   "cell_type": "markdown",
   "metadata": {
    "deletable": false,
    "editable": false,
    "id": "1dqbh00J_Zct",
    "tags": [
     "start_task"
    ]
   },
   "source": [
    "**Задание 8**\n",
    "\n",
    "\n",
    "Проверьте результат. Для этого ещё раз выведите на экран названия столбцов:"
   ]
  },
  {
   "cell_type": "code",
   "execution_count": 228,
   "metadata": {
    "deletable": false,
    "id": "d4NOAmTW_Zct"
   },
   "outputs": [
    {
     "data": {
      "text/plain": [
       "Index(['user_id', 'track', 'artist', 'genre', 'city', 'time', 'day'], dtype='object')"
      ]
     },
     "execution_count": 228,
     "metadata": {},
     "output_type": "execute_result"
    }
   ],
   "source": [
    "# проверка результатов - перечень названий столбцов\n",
    "df.columns"
   ]
  },
  {
   "cell_type": "markdown",
   "metadata": {
    "deletable": false,
    "editable": false,
    "id": "5ISfbcfY_Zct",
    "tags": [
     "start_task"
    ]
   },
   "source": [
    "### Пропуски значений\n",
    "\n",
    "**Задание 9**\n",
    "\n",
    "Сначала посчитайте, сколько в таблице пропущенных значений. Для этого достаточно двух методов `pandas`:"
   ]
  },
  {
   "cell_type": "code",
   "execution_count": 229,
   "metadata": {
    "deletable": false,
    "id": "RskX29qr_Zct"
   },
   "outputs": [
    {
     "data": {
      "text/plain": [
       "user_id       0\n",
       "track      1231\n",
       "artist     7203\n",
       "genre      1198\n",
       "city          0\n",
       "time          0\n",
       "day           0\n",
       "dtype: int64"
      ]
     },
     "execution_count": 229,
     "metadata": {},
     "output_type": "execute_result"
    }
   ],
   "source": [
    "# подсчёт пропусков\n",
    "df.isna().sum()"
   ]
  },
  {
   "cell_type": "markdown",
   "metadata": {
    "deletable": false,
    "editable": false,
    "id": "qubhgnlO_Zct"
   },
   "source": [
    "Не все пропущенные значения влияют на исследование. Так в `track` и `artist` пропуски не важны для вашей работы. Достаточно заменить их явными обозначениями.\n",
    "\n",
    "Но пропуски в `genre` могут помешать сравнению музыкальных вкусов в Москве и Санкт-Петербурге. На практике было бы правильно установить причину пропусков и восстановить данные. Такой возможности нет в учебном проекте. Придётся:\n",
    "* заполнить и эти пропуски явными обозначениями,\n",
    "* оценить, насколько они повредят расчётам. "
   ]
  },
  {
   "cell_type": "markdown",
   "metadata": {
    "deletable": false,
    "editable": false,
    "id": "fSv2laPA_Zct",
    "tags": [
     "start_task"
    ]
   },
   "source": [
    "**Задание 10**\n",
    "\n",
    "Замените пропущенные значения в столбцах `track`, `artist` и `genre` на строку `'unknown'`. Для этого создайте список `columns_to_replace`, переберите его элементы циклом `for` и для каждого столбца выполните замену пропущенных значений:"
   ]
  },
  {
   "cell_type": "code",
   "execution_count": 230,
   "metadata": {
    "deletable": false,
    "id": "KplB5qWs_Zct"
   },
   "outputs": [],
   "source": [
    "# перебор названий столбцов в цикле и замена пропущенных значений на 'unknown'\n",
    "\n",
    "columns_to_replace = [\n",
    "    'track',\n",
    "    'artist',\n",
    "    'genre'\n",
    "]\n",
    "\n",
    "for column in columns_to_replace:\n",
    "    df[column] = df[column].fillna('unknown') \n"
   ]
  },
  {
   "cell_type": "markdown",
   "metadata": {
    "deletable": false,
    "editable": false,
    "id": "Ilsm-MZo_Zct",
    "tags": [
     "start_task"
    ]
   },
   "source": [
    "**Задание 11**\n",
    "\n",
    "Убедитесь, что в таблице не осталось пропусков. Для этого ещё раз посчитайте пропущенные значения."
   ]
  },
  {
   "cell_type": "code",
   "execution_count": 231,
   "metadata": {
    "deletable": false,
    "id": "Tq4nYRX4_Zct"
   },
   "outputs": [
    {
     "data": {
      "text/plain": [
       "user_id    0\n",
       "track      0\n",
       "artist     0\n",
       "genre      0\n",
       "city       0\n",
       "time       0\n",
       "day        0\n",
       "dtype: int64"
      ]
     },
     "execution_count": 231,
     "metadata": {},
     "output_type": "execute_result"
    }
   ],
   "source": [
    "# подсчёт пропусков\n",
    "df.isna().sum()"
   ]
  },
  {
   "cell_type": "markdown",
   "metadata": {
    "deletable": false,
    "editable": false,
    "id": "BWKRtBJ3_Zct",
    "tags": [
     "start_task"
    ]
   },
   "source": [
    "### Дубликаты\n",
    "\n",
    "**Задание 12**\n",
    "\n",
    "Посчитайте явные дубликаты в таблице одной командой:"
   ]
  },
  {
   "cell_type": "code",
   "execution_count": 232,
   "metadata": {
    "deletable": false,
    "id": "36eES_S0_Zct"
   },
   "outputs": [
    {
     "data": {
      "text/plain": [
       "3826"
      ]
     },
     "execution_count": 232,
     "metadata": {},
     "output_type": "execute_result"
    }
   ],
   "source": [
    "# подсчёт явных дубликатов\n",
    "df.duplicated().sum()"
   ]
  },
  {
   "cell_type": "markdown",
   "metadata": {
    "deletable": false,
    "editable": false,
    "id": "Ot25h6XR_Zct",
    "tags": [
     "start_task"
    ]
   },
   "source": [
    "**Задание 13**\n",
    "\n",
    "Вызовите специальный метод `pandas`, чтобы удалить явные дубликаты:"
   ]
  },
  {
   "cell_type": "code",
   "execution_count": 233,
   "metadata": {
    "deletable": false,
    "id": "exFHq6tt_Zct"
   },
   "outputs": [],
   "source": [
    "# удаление явных дубликатов (с удалением старых индексов и формированием новых)\n",
    "df = df.drop_duplicates()"
   ]
  },
  {
   "cell_type": "markdown",
   "metadata": {
    "deletable": false,
    "editable": false,
    "id": "Im2YwBEG_Zct",
    "tags": [
     "start_task"
    ]
   },
   "source": [
    "**Задание 14**\n",
    "\n",
    "Ещё раз посчитайте явные дубликаты в таблице — убедитесь, что полностью от них избавились:"
   ]
  },
  {
   "cell_type": "code",
   "execution_count": 234,
   "metadata": {
    "deletable": false,
    "id": "-8PuNWQ0_Zct"
   },
   "outputs": [
    {
     "data": {
      "text/plain": [
       "0"
      ]
     },
     "execution_count": 234,
     "metadata": {},
     "output_type": "execute_result"
    }
   ],
   "source": [
    "# проверка на отсутствие дубликатов\n",
    "df.duplicated().sum()"
   ]
  },
  {
   "cell_type": "markdown",
   "metadata": {
    "deletable": false,
    "editable": false,
    "id": "QlFBsxAr_Zct"
   },
   "source": [
    "Теперь избавьтесь от неявных дубликатов в колонке `genre`. Например, название одного и того же жанра может быть записано немного по-разному. Такие ошибки тоже повлияют на результат исследования."
   ]
  },
  {
   "cell_type": "markdown",
   "metadata": {
    "deletable": false,
    "editable": false,
    "id": "eSjWwsOh_Zct",
    "tags": [
     "start_task"
    ]
   },
   "source": [
    "**Задание 15**\n",
    "\n",
    "Выведите на экран список уникальных названий жанров, отсортированный в алфавитном порядке. Для этого:\n",
    "* извлеките нужный столбец датафрейма, \n",
    "* примените к нему метод сортировки,\n",
    "* для отсортированного столбца вызовите метод, который вернёт уникальные значения из столбца."
   ]
  },
  {
   "cell_type": "code",
   "execution_count": 235,
   "metadata": {
    "deletable": false,
    "id": "JIUcqzZN_Zct"
   },
   "outputs": [
    {
     "name": "stdout",
     "output_type": "stream",
     "text": [
      "['acid' 'acoustic' 'action' 'adult' 'africa' 'afrikaans' 'alternative'\n",
      " 'alternativepunk' 'ambient' 'americana' 'animated' 'anime' 'arabesk'\n",
      " 'arabic' 'arena' 'argentinetango' 'art' 'audiobook' 'author' 'avantgarde'\n",
      " 'axé' 'baile' 'balkan' 'beats' 'bigroom' 'black' 'bluegrass' 'blues'\n",
      " 'bollywood' 'bossa' 'brazilian' 'breakbeat' 'breaks' 'broadway'\n",
      " 'cantautori' 'cantopop' 'canzone' 'caribbean' 'caucasian' 'celtic'\n",
      " 'chamber' 'chanson' 'children' 'chill' 'chinese' 'choral' 'christian'\n",
      " 'christmas' 'classical' 'classicmetal' 'club' 'colombian' 'comedy'\n",
      " 'conjazz' 'contemporary' 'country' 'cuban' 'dance' 'dancehall' 'dancepop'\n",
      " 'dark' 'death' 'deep' 'deutschrock' 'deutschspr' 'dirty' 'disco' 'dnb'\n",
      " 'documentary' 'downbeat' 'downtempo' 'drum' 'dub' 'dubstep' 'eastern'\n",
      " 'easy' 'electronic' 'electropop' 'emo' 'entehno' 'epicmetal' 'estrada'\n",
      " 'ethnic' 'eurofolk' 'european' 'experimental' 'extrememetal' 'fado'\n",
      " 'fairytail' 'film' 'fitness' 'flamenco' 'folk' 'folklore' 'folkmetal'\n",
      " 'folkrock' 'folktronica' 'forró' 'frankreich' 'französisch' 'french'\n",
      " 'funk' 'future' 'gangsta' 'garage' 'german' 'ghazal' 'gitarre' 'glitch'\n",
      " 'gospel' 'gothic' 'grime' 'grunge' 'gypsy' 'handsup' \"hard'n'heavy\"\n",
      " 'hardcore' 'hardstyle' 'hardtechno' 'hip' 'hip-hop' 'hiphop' 'historisch'\n",
      " 'holiday' 'hop' 'horror' 'house' 'hymn' 'idm' 'independent' 'indian'\n",
      " 'indie' 'indipop' 'industrial' 'inspirational' 'instrumental'\n",
      " 'international' 'irish' 'jam' 'japanese' 'jazz' 'jewish' 'jpop' 'jungle'\n",
      " 'k-pop' 'karadeniz' 'karaoke' 'kayokyoku' 'korean' 'laiko' 'latin'\n",
      " 'latino' 'leftfield' 'local' 'lounge' 'loungeelectronic' 'lovers'\n",
      " 'malaysian' 'mandopop' 'marschmusik' 'meditative' 'mediterranean'\n",
      " 'melodic' 'metal' 'metalcore' 'mexican' 'middle' 'minimal'\n",
      " 'miscellaneous' 'modern' 'mood' 'mpb' 'muslim' 'native' 'neoklassik'\n",
      " 'neue' 'new' 'newage' 'newwave' 'nu' 'nujazz' 'numetal' 'oceania' 'old'\n",
      " 'opera' 'orchestral' 'other' 'piano' 'podcasts' 'pop' 'popdance'\n",
      " 'popelectronic' 'popeurodance' 'poprussian' 'post' 'posthardcore'\n",
      " 'postrock' 'power' 'progmetal' 'progressive' 'psychedelic' 'punjabi'\n",
      " 'punk' 'quebecois' 'ragga' 'ram' 'rancheras' 'rap' 'rave' 'reggae'\n",
      " 'reggaeton' 'regional' 'relax' 'religious' 'retro' 'rhythm' 'rnb' 'rnr'\n",
      " 'rock' 'rockabilly' 'rockalternative' 'rockindie' 'rockother' 'romance'\n",
      " 'roots' 'ruspop' 'rusrap' 'rusrock' 'russian' 'salsa' 'samba' 'scenic'\n",
      " 'schlager' 'self' 'sertanejo' 'shanson' 'shoegazing' 'showtunes' 'singer'\n",
      " 'ska' 'skarock' 'slow' 'smooth' 'soft' 'soul' 'soulful' 'sound'\n",
      " 'soundtrack' 'southern' 'specialty' 'speech' 'spiritual' 'sport'\n",
      " 'stonerrock' 'surf' 'swing' 'synthpop' 'synthrock' 'sängerportrait'\n",
      " 'tango' 'tanzorchester' 'taraftar' 'tatar' 'tech' 'techno' 'teen'\n",
      " 'thrash' 'top' 'traditional' 'tradjazz' 'trance' 'tribal' 'trip'\n",
      " 'triphop' 'tropical' 'türk' 'türkçe' 'ukrrock' 'unknown' 'urban' 'uzbek'\n",
      " 'variété' 'vi' 'videogame' 'vocal' 'western' 'world' 'worldbeat' 'ïîï'\n",
      " 'электроника']\n"
     ]
    }
   ],
   "source": [
    "# Просмотр уникальных названий жанров\n",
    "print(df['genre'].sort_values().unique())"
   ]
  },
  {
   "cell_type": "markdown",
   "metadata": {
    "deletable": false,
    "editable": false,
    "id": "qej-Qmuo_Zct",
    "tags": [
     "start_task"
    ]
   },
   "source": [
    "**Задание 16**\n",
    "\n",
    "Просмотрите список и найдите неявные дубликаты названия `hiphop`. Это могут быть названия с ошибками или альтернативные названия того же жанра.\n",
    "\n",
    "Вы увидите следующие неявные дубликаты:\n",
    "* *hip*,\n",
    "* *hop*,\n",
    "* *hip-hop*.\n",
    "\n",
    "Чтобы очистить от них таблицу используйте метод `replace()` с двумя аргументами: списком строк-дубликатов (включащий *hip*, *hop* и *hip-hop*) и строкой с правильным значением. Вам нужно исправить колонку `genre` в таблице `df`: заменить каждое значение из списка дубликатов на верное. Вместо `hip`, `hop` и `hip-hop` в таблице должно быть значение `hiphop`:"
   ]
  },
  {
   "cell_type": "code",
   "execution_count": 236,
   "metadata": {
    "deletable": false,
    "id": "ErNDkmns_Zct"
   },
   "outputs": [],
   "source": [
    "# Устранение неявных дубликатов\n",
    "duplicates = ['hip', 'hop', 'hip-hop']\n",
    "name = 'hiphop'\n",
    "df['genre'] = df['genre'].replace(duplicates, name)"
   ]
  },
  {
   "cell_type": "markdown",
   "metadata": {
    "deletable": false,
    "editable": false,
    "id": "zQKF16_RG15m",
    "tags": [
     "start_task"
    ]
   },
   "source": [
    "**Задание 17**\n",
    "\n",
    "Проверьте, что заменили неправильные названия:\n",
    "\n",
    "*   hip\n",
    "*   hop\n",
    "*   hip-hop\n",
    "\n",
    "Выведите отсортированный список уникальных значений столбца `genre`:"
   ]
  },
  {
   "cell_type": "code",
   "execution_count": 261,
   "metadata": {
    "deletable": false,
    "id": "wvixALnFG15m"
   },
   "outputs": [
    {
     "name": "stdout",
     "output_type": "stream",
     "text": [
      "['acid' 'acoustic' 'action' 'adult' 'africa' 'afrikaans' 'alternative'\n",
      " 'alternativepunk' 'ambient' 'americana' 'animated' 'anime' 'arabesk'\n",
      " 'arabic' 'arena' 'argentinetango' 'art' 'audiobook' 'author' 'avantgarde'\n",
      " 'axé' 'baile' 'balkan' 'beats' 'bigroom' 'black' 'bluegrass' 'blues'\n",
      " 'bollywood' 'bossa' 'brazilian' 'breakbeat' 'breaks' 'broadway'\n",
      " 'cantautori' 'cantopop' 'canzone' 'caribbean' 'caucasian' 'celtic'\n",
      " 'chamber' 'chanson' 'children' 'chill' 'chinese' 'choral' 'christian'\n",
      " 'christmas' 'classical' 'classicmetal' 'club' 'colombian' 'comedy'\n",
      " 'conjazz' 'contemporary' 'country' 'cuban' 'dance' 'dancehall' 'dancepop'\n",
      " 'dark' 'death' 'deep' 'deutschrock' 'deutschspr' 'dirty' 'disco' 'dnb'\n",
      " 'documentary' 'downbeat' 'downtempo' 'drum' 'dub' 'dubstep' 'eastern'\n",
      " 'easy' 'electronic' 'electropop' 'emo' 'entehno' 'epicmetal' 'estrada'\n",
      " 'ethnic' 'eurofolk' 'european' 'experimental' 'extrememetal' 'fado'\n",
      " 'fairytail' 'film' 'fitness' 'flamenco' 'folk' 'folklore' 'folkmetal'\n",
      " 'folkrock' 'folktronica' 'forró' 'frankreich' 'französisch' 'french'\n",
      " 'funk' 'future' 'gangsta' 'garage' 'german' 'ghazal' 'gitarre' 'glitch'\n",
      " 'gospel' 'gothic' 'grime' 'grunge' 'gypsy' 'handsup' \"hard'n'heavy\"\n",
      " 'hardcore' 'hardstyle' 'hardtechno' 'hiphop' 'historisch' 'holiday'\n",
      " 'horror' 'house' 'hymn' 'idm' 'independent' 'indian' 'indie' 'indipop'\n",
      " 'industrial' 'inspirational' 'instrumental' 'international' 'irish' 'jam'\n",
      " 'japanese' 'jazz' 'jewish' 'jpop' 'jungle' 'k-pop' 'karadeniz' 'karaoke'\n",
      " 'kayokyoku' 'korean' 'laiko' 'latin' 'latino' 'leftfield' 'local'\n",
      " 'lounge' 'loungeelectronic' 'lovers' 'malaysian' 'mandopop' 'marschmusik'\n",
      " 'meditative' 'mediterranean' 'melodic' 'metal' 'metalcore' 'mexican'\n",
      " 'middle' 'minimal' 'miscellaneous' 'modern' 'mood' 'mpb' 'muslim'\n",
      " 'native' 'neoklassik' 'neue' 'new' 'newage' 'newwave' 'nu' 'nujazz'\n",
      " 'numetal' 'oceania' 'old' 'opera' 'orchestral' 'other' 'piano' 'podcasts'\n",
      " 'pop' 'popdance' 'popelectronic' 'popeurodance' 'poprussian' 'post'\n",
      " 'posthardcore' 'postrock' 'power' 'progmetal' 'progressive' 'psychedelic'\n",
      " 'punjabi' 'punk' 'quebecois' 'ragga' 'ram' 'rancheras' 'rap' 'rave'\n",
      " 'reggae' 'reggaeton' 'regional' 'relax' 'religious' 'retro' 'rhythm'\n",
      " 'rnb' 'rnr' 'rock' 'rockabilly' 'rockalternative' 'rockindie' 'rockother'\n",
      " 'romance' 'roots' 'ruspop' 'rusrap' 'rusrock' 'russian' 'salsa' 'samba'\n",
      " 'scenic' 'schlager' 'self' 'sertanejo' 'shanson' 'shoegazing' 'showtunes'\n",
      " 'singer' 'ska' 'skarock' 'slow' 'smooth' 'soft' 'soul' 'soulful' 'sound'\n",
      " 'soundtrack' 'southern' 'specialty' 'speech' 'spiritual' 'sport'\n",
      " 'stonerrock' 'surf' 'swing' 'synthpop' 'synthrock' 'sängerportrait'\n",
      " 'tango' 'tanzorchester' 'taraftar' 'tatar' 'tech' 'techno' 'teen'\n",
      " 'thrash' 'top' 'traditional' 'tradjazz' 'trance' 'tribal' 'trip'\n",
      " 'triphop' 'tropical' 'türk' 'türkçe' 'ukrrock' 'unknown' 'urban' 'uzbek'\n",
      " 'variété' 'vi' 'videogame' 'vocal' 'western' 'world' 'worldbeat' 'ïîï'\n",
      " 'электроника']\n"
     ]
    }
   ],
   "source": [
    "# Проверка на неявные дубликаты\n",
    "print(df['genre'].sort_values().unique())"
   ]
  },
  {
   "cell_type": "markdown",
   "metadata": {
    "deletable": false,
    "editable": false,
    "id": "jz6a9-7HQUDd"
   },
   "source": [
    "**Выводы**\n",
    "\n",
    "Предобработка обнаружила три проблемы в данных:\n",
    "\n",
    "- нарушения в стиле заголовков,\n",
    "- пропущенные значения,\n",
    "- дубликаты — явные и неявные.\n",
    "\n",
    "Вы исправили заголовки, чтобы упростить работу с таблицей. Без дубликатов исследование станет более точным.\n",
    "\n",
    "Пропущенные значения вы заменили на `'unknown'`. Ещё предстоит увидеть, не повредят ли исследованию пропуски в колонке `genre`.\n",
    "\n",
    "Теперь можно перейти к проверке гипотез. "
   ]
  },
  {
   "cell_type": "markdown",
   "metadata": {
    "deletable": false,
    "editable": false,
    "id": "WttZHXH0SqKk"
   },
   "source": [
    "## Проверка гипотез"
   ]
  },
  {
   "cell_type": "markdown",
   "metadata": {
    "deletable": false,
    "editable": false,
    "id": "Im936VVi_Zcu"
   },
   "source": [
    "### Сравнение поведения пользователей двух столиц"
   ]
  },
  {
   "cell_type": "markdown",
   "metadata": {
    "deletable": false,
    "editable": false,
    "id": "nwt_MuaL_Zcu"
   },
   "source": [
    "Первая гипотеза утверждает, что пользователи по-разному слушают музыку в Москве и Санкт-Петербурге. Проверьте это предположение по данным о трёх днях недели — понедельнике, среде и пятнице. Для этого:\n",
    "\n",
    "* Разделите пользователей Москвы и Санкт-Петербурга\n",
    "* Сравните, сколько треков послушала каждая группа пользователей в понедельник, среду и пятницу.\n"
   ]
  },
  {
   "cell_type": "markdown",
   "metadata": {
    "deletable": false,
    "editable": false,
    "id": "8Dw_YMmT_Zcu",
    "tags": [
     "start_task"
    ]
   },
   "source": [
    "**Задание 18**\n",
    "\n",
    "Для тренировки сначала выполните каждый из расчётов по отдельности. \n",
    "\n",
    "Оцените активность пользователей в каждом городе. Сгруппируйте данные по городу и посчитайте прослушивания в каждой группе.\n",
    "\n"
   ]
  },
  {
   "cell_type": "code",
   "execution_count": 264,
   "metadata": {
    "deletable": false,
    "id": "0_Qs96oh_Zcu"
   },
   "outputs": [
    {
     "data": {
      "text/plain": [
       "city\n",
       "Moscow              42741\n",
       "Saint-Petersburg    18512\n",
       "Name: track, dtype: int64"
      ]
     },
     "execution_count": 264,
     "metadata": {},
     "output_type": "execute_result"
    }
   ],
   "source": [
    "# Подсчёт прослушиваний в каждом городе\n",
    "\n",
    "\n",
    "df.groupby('city')['track'].count()"
   ]
  },
  {
   "cell_type": "markdown",
   "metadata": {
    "deletable": false,
    "editable": false,
    "id": "dzli3w8o_Zcu",
    "tags": [
     "start_task"
    ]
   },
   "source": [
    "В Москве прослушиваний больше, чем в Петербурге. Из этого не следует, что московские пользователи чаще слушают музыку. Просто самих пользователей в Москве больше.\n",
    "\n",
    "**Задание 19**\n",
    "\n",
    "Теперь сгруппируйте данные по дню недели и подсчитайте прослушивания в понедельник, среду и пятницу. Учтите, что в данных есть информация только о прослушиваниях только за эти дни.\n"
   ]
  },
  {
   "cell_type": "code",
   "execution_count": 326,
   "metadata": {
    "deletable": false,
    "id": "uZMKjiJz_Zcu"
   },
   "outputs": [
    {
     "data": {
      "text/plain": [
       "day\n",
       "Friday       21840\n",
       "Monday       21354\n",
       "Wednesday    18059\n",
       "Name: day, dtype: int64"
      ]
     },
     "execution_count": 326,
     "metadata": {},
     "output_type": "execute_result"
    }
   ],
   "source": [
    "# Подсчёт прослушиваний в каждый из трёх дней\n",
    "\n",
    "df.groupby('day')['day'].count()"
   ]
  },
  {
   "cell_type": "markdown",
   "metadata": {
    "deletable": false,
    "editable": false,
    "id": "cC2tNrlL_Zcu"
   },
   "source": [
    "В среднем пользователи из двух городов менее активны по средам. Но картина может измениться, если рассмотреть каждый город в отдельности."
   ]
  },
  {
   "cell_type": "markdown",
   "metadata": {
    "deletable": false,
    "editable": false,
    "id": "POzs8bGa_Zcu",
    "tags": [
     "start_task"
    ]
   },
   "source": [
    "**Задание 20**\n",
    "\n",
    "\n",
    "Вы видели, как работает группировка по городу и по дням недели. Теперь напишите функцию, которая объединит два эти расчёта.\n",
    "\n",
    "Создайте функцию `number_tracks()`, которая посчитает прослушивания для заданного дня и города. Ей понадобятся два параметра:\n",
    "* день недели,\n",
    "* название города.\n",
    "\n",
    "В функции сохраните в переменную строки исходной таблицы, у которых значение:\n",
    "  * в колонке `day` равно параметру `day`,\n",
    "  * в колонке `city` равно параметру `city`.\n",
    "\n",
    "Для этого примените последовательную фильтрацию с логической индексацией (или сложные логические выражения в одну строку, если вы уже знакомы с ними).\n",
    "\n",
    "Затем посчитайте значения в столбце `user_id` получившейся таблицы. Результат сохраните в новую переменную. Верните эту переменную из функции."
   ]
  },
  {
   "cell_type": "code",
   "execution_count": 315,
   "metadata": {
    "deletable": false,
    "id": "Nz3GdQB1_Zcu"
   },
   "outputs": [],
   "source": [
    "# <создание функции number_tracks()>\n",
    "# Объявляется функция с двумя параметрами: day, city.\n",
    "# В переменной track_list сохраняются те строки таблицы df, для которых \n",
    "# значение в столбце 'day' равно параметру day и одновременно значение\n",
    "# в столбце 'city' равно параметру city (используйте последовательную фильтрацию\n",
    "# с помощью логической индексации или сложные логические выражения в одну строку, если вы уже знакомы с ними).\n",
    "# В переменной track_list_count сохраняется число значений столбца 'user_id',\n",
    "# рассчитанное методом count() для таблицы track_list.\n",
    "# Функция возвращает число - значение track_list_count.\n",
    "\n",
    "# Функция для подсчёта прослушиваний для конкретного города и дня.\n",
    "# С помощью последовательной фильтрации с логической индексацией она \n",
    "# сначала получит из исходной таблицы строки с нужным днём,\n",
    "# затем из результата отфильтрует строки с нужным городом,\n",
    "# методом count() посчитает количество значений в колонке user_id. \n",
    "# Это количество функция вернёт в качестве результата\n",
    "def number_tracks(day, city):\n",
    "    track_list = df[(df['day'] == day) & (df['city'] == city)]\n",
    "    track_list_count = track_list['user_id'].count()\n",
    "    return track_list_count\n",
    "\n",
    "\n",
    "    "
   ]
  },
  {
   "cell_type": "markdown",
   "metadata": {
    "deletable": false,
    "editable": false,
    "id": "ytf7xFrFJQ2r",
    "tags": [
     "start_task"
    ]
   },
   "source": [
    "**Задание 21**\n",
    "\n",
    "Вызовите `number_tracks()` шесть раз, меняя значение параметров — так, чтобы получить данные для каждого города в каждый из трёх дней."
   ]
  },
  {
   "cell_type": "code",
   "execution_count": 317,
   "metadata": {
    "deletable": false,
    "id": "rJcRATNQ_Zcu"
   },
   "outputs": [
    {
     "data": {
      "text/plain": [
       "15740"
      ]
     },
     "execution_count": 317,
     "metadata": {},
     "output_type": "execute_result"
    }
   ],
   "source": [
    "# количество прослушиваний в Москве по понедельникам\n",
    "number_tracks('Monday', 'Moscow')"
   ]
  },
  {
   "cell_type": "code",
   "execution_count": 321,
   "metadata": {
    "deletable": false,
    "id": "hq_ncZ5T_Zcu"
   },
   "outputs": [
    {
     "data": {
      "text/plain": [
       "5614"
      ]
     },
     "execution_count": 321,
     "metadata": {},
     "output_type": "execute_result"
    }
   ],
   "source": [
    "# количество прослушиваний в Санкт-Петербурге по понедельникам\n",
    "number_tracks('Monday', 'Saint-Petersburg')"
   ]
  },
  {
   "cell_type": "code",
   "execution_count": 319,
   "metadata": {
    "deletable": false,
    "id": "_NTy2VPU_Zcu"
   },
   "outputs": [
    {
     "data": {
      "text/plain": [
       "11056"
      ]
     },
     "execution_count": 319,
     "metadata": {},
     "output_type": "execute_result"
    }
   ],
   "source": [
    "# количество прослушиваний в Москве по средам\n",
    "number_tracks('Wednesday', 'Moscow')"
   ]
  },
  {
   "cell_type": "code",
   "execution_count": 323,
   "metadata": {
    "deletable": false,
    "id": "j2y3TAwo_Zcu"
   },
   "outputs": [
    {
     "data": {
      "text/plain": [
       "7003"
      ]
     },
     "execution_count": 323,
     "metadata": {},
     "output_type": "execute_result"
    }
   ],
   "source": [
    "# количество прослушиваний в Санкт-Петербурге по средам\n",
    "number_tracks('Wednesday', 'Saint-Petersburg')"
   ]
  },
  {
   "cell_type": "code",
   "execution_count": 324,
   "metadata": {
    "deletable": false,
    "id": "vYDw5u_K_Zcu"
   },
   "outputs": [
    {
     "data": {
      "text/plain": [
       "15945"
      ]
     },
     "execution_count": 324,
     "metadata": {},
     "output_type": "execute_result"
    }
   ],
   "source": [
    "# количество прослушиваний в Москве по пятницам\n",
    "number_tracks('Friday', 'Moscow')"
   ]
  },
  {
   "cell_type": "code",
   "execution_count": 325,
   "metadata": {
    "deletable": false,
    "id": "8_yzFtW3_Zcu"
   },
   "outputs": [
    {
     "data": {
      "text/plain": [
       "5895"
      ]
     },
     "execution_count": 325,
     "metadata": {},
     "output_type": "execute_result"
    }
   ],
   "source": [
    "# количество прослушиваний в Санкт-Петербурге по пятницам\n",
    "number_tracks('Friday', 'Saint-Petersburg')"
   ]
  },
  {
   "cell_type": "markdown",
   "metadata": {
    "deletable": false,
    "editable": false,
    "id": "7QXffbO-_Zcu",
    "tags": [
     "start_task"
    ]
   },
   "source": [
    "**Задание 22**\n",
    "\n",
    "Создайте c помощью конструктора `pd.DataFrame` таблицу, где\n",
    "* названия колонок — `['city', 'monday', 'wednesday', 'friday']`;\n",
    "* данные — результаты, которые вы получили с помощью `number_tracks`."
   ]
  },
  {
   "cell_type": "code",
   "execution_count": 331,
   "metadata": {
    "deletable": false,
    "id": "APAcLpOr_Zcu"
   },
   "outputs": [
    {
     "name": "stdout",
     "output_type": "stream",
     "text": [
      "              city  monday  wednesday  friday\n",
      "0           Москва   15740      11056   15945\n",
      "1  Санкт-Петербург    5614       7003    5895\n"
     ]
    }
   ],
   "source": [
    "# Таблица с результатами\n",
    "info = pd.DataFrame(data = [['Москва', 15740, 11056, 15945] , ['Санкт-Петербург', 5614, 7003, 5895]], columns = ['city', 'monday', 'wednesday', 'friday'])"
   ]
  },
  {
   "cell_type": "markdown",
   "metadata": {
    "deletable": false,
    "editable": false,
    "id": "-EgPIHYu_Zcu"
   },
   "source": [
    "**Выводы**\n",
    "\n",
    "Данные показывают разницу поведения пользователей:\n",
    "\n",
    "- В Москве пик прослушиваний приходится на понедельник и пятницу, а в среду заметен спад.\n",
    "- В Петербурге, наоборот, больше слушают музыку по средам. Активность в понедельник и пятницу здесь почти в равной мере уступает среде.\n",
    "\n",
    "Значит, данные говорят в пользу первой гипотезы."
   ]
  },
  {
   "cell_type": "markdown",
   "metadata": {
    "deletable": false,
    "editable": false,
    "id": "atZAxtq4_Zcu"
   },
   "source": [
    "### Музыка в начале и в конце недели"
   ]
  },
  {
   "cell_type": "markdown",
   "metadata": {
    "deletable": false,
    "editable": false,
    "id": "eXrQqXFH_Zcu"
   },
   "source": [
    "Согласно второй гипотезе, утром в понедельник в Москве преобладают одни жанры, а в Петербурге — другие. Так же и вечером пятницы преобладают разные жанры — в зависимости от города."
   ]
  },
  {
   "cell_type": "markdown",
   "metadata": {
    "deletable": false,
    "editable": false,
    "id": "S8UcW6Hw_Zcu",
    "tags": [
     "start_task"
    ]
   },
   "source": [
    "**Задание 23**\n",
    "\n",
    "Сохраните таблицы с данными в две переменные:\n",
    "* по Москве — в `moscow_general`;\n",
    "* по Санкт-Петербургу — в `spb_general`."
   ]
  },
  {
   "cell_type": "code",
   "execution_count": 334,
   "metadata": {
    "deletable": false,
    "id": "qeaFfM_P_Zcu"
   },
   "outputs": [],
   "source": [
    "# получение таблицы moscow_general из тех строк таблицы df, \n",
    "# для которых значение в столбце 'city' равно 'Moscow'\n",
    "moscow_general = df[df['city'] == 'Moscow']"
   ]
  },
  {
   "cell_type": "code",
   "execution_count": 335,
   "metadata": {
    "deletable": false,
    "id": "ORaVRKto_Zcu"
   },
   "outputs": [],
   "source": [
    "# получение таблицы spb_general из тех строк таблицы df,\n",
    "# для которых значение в столбце 'city' равно 'Saint-Petersburg'\n",
    "spb_general = df[df['city'] == 'Saint-Petersburg']\n"
   ]
  },
  {
   "cell_type": "markdown",
   "metadata": {
    "deletable": false,
    "id": "MEJV-CX2_Zcu",
    "tags": [
     "start_task"
    ]
   },
   "source": [
    "**Задание 24**\n",
    "\n",
    "Создайте функцию `genre_weekday()` с четырьмя параметрами:\n",
    "* таблица (датафрейм) с данными,\n",
    "* день недели,\n",
    "* начальная временная метка в формате 'hh:mm', \n",
    "* последняя временная метка в формате 'hh:mm'.\n",
    "\n",
    "Функция должна вернуть информацию о топ-10 жанров тех треков, которые прослушивали в указанный день, в промежутке между двумя отметками времени."
   ]
  },
  {
   "cell_type": "code",
   "execution_count": 367,
   "metadata": {
    "deletable": false,
    "id": "laJT9BYl_Zcu"
   },
   "outputs": [],
   "source": [
    "# Объявление функции genre_weekday() с параметрами df, day, time1, time2,\n",
    "# которая возвращает информацию о самых популярных жанрах в указанный день в\n",
    "# заданное время:\n",
    "# 1) в переменную genre_df сохраняются те строки переданного датафрейма df, для\n",
    "#    которых одновременно:\n",
    "#    - значение в столбце day равно значению аргумента day\n",
    "#    - значение в столбце time больше значения аргумента time1\n",
    "#    - значение в столбце time меньше значения аргумента time2\n",
    "#    Используйте последовательную фильтрацию с помощью логической индексации.\n",
    "# 2) сгруппировать датафрейм genre_df по столбцу genre, взять один из его\n",
    "#    столбцов и посчитать методом count() количество записей для каждого из\n",
    "#    присутствующих жанров, получившийся Series записать в переменную\n",
    "#    genre_df_grouped\n",
    "# 3) отсортировать genre_df_grouped по убыванию встречаемости и сохранить\n",
    "#    в переменную genre_df_sorted\n",
    "# 4) вернуть Series из 10 первых значений genre_df_sorted, это будут топ-10\n",
    "#    популярных жанров (в указанный день, в заданное время)\n",
    "\n",
    "def genre_weekday(df, day, time1, time2):\n",
    "    # последовательная фильтрация\n",
    "    # оставляем в genre_df только те строки df, у которых день равен day\n",
    "    genre_df = df[(df['day'] == day) & (df['time'] > time1) & (df['time'] < time2)]# ваш код здесь\n",
    "    # оставляем в genre_df только те строки genre_df, у которых время меньше time2\n",
    "    #genre_df = df[df['time'] < time2]# ваш код здесь\n",
    "    # оставляем в genre_df только те строки genre_df, у которых время больше time1\n",
    "    #genre_df = df[df['time'] > time1]# ваш код здесь\n",
    "    # сгруппируем отфильтрованный датафрейм по столбцу с названиями жанров, возьмём столбец genre и посчитаем кол-во строк для каждого жанра методом count()\n",
    "    genre_df_grouped = genre_df.groupby('genre')['genre'].count()# ваш код здесь\n",
    "    # отсортируем результат по убыванию (чтобы в начале Series оказались самые популярные жанры)\n",
    "    genre_df_sorted =  genre_df_grouped.sort_values(ascending=False)# ваш код здесь\n",
    "    # вернём Series с 10 самыми популярными жанрами в указанный отрезок времени заданного дня\n",
    "    return genre_df_sorted[:10]"
   ]
  },
  {
   "cell_type": "markdown",
   "metadata": {
    "deletable": false,
    "editable": false,
    "id": "la2s2_PF_Zcu",
    "tags": [
     "start_task"
    ]
   },
   "source": [
    "**Задание 25**\n",
    "\n",
    "\n",
    "Cравните результаты функции `genre_weekday()` для Москвы и Санкт-Петербурга в понедельник утром (с 7:00 до 11:00) и в пятницу вечером (с 17:00 до 23:00):"
   ]
  },
  {
   "cell_type": "code",
   "execution_count": 368,
   "metadata": {
    "deletable": false,
    "id": "yz7itPUQ_Zcu"
   },
   "outputs": [
    {
     "data": {
      "text/plain": [
       "genre\n",
       "pop            781\n",
       "dance          549\n",
       "electronic     480\n",
       "rock           474\n",
       "hiphop         286\n",
       "ruspop         186\n",
       "world          181\n",
       "rusrap         175\n",
       "alternative    164\n",
       "unknown        161\n",
       "Name: genre, dtype: int64"
      ]
     },
     "execution_count": 368,
     "metadata": {},
     "output_type": "execute_result"
    }
   ],
   "source": [
    "# вызов функции для утра понедельника в Москве (вместо df — таблица moscow_general)\n",
    "# объекты, хранящие время, являются строками и сравниваются как строки\n",
    "# пример вызова: genre_weekday(moscow_general, 'Monday', '07:00', '11:00')\n",
    "genre_weekday(moscow_general, 'Monday', '07:00', '11:00')"
   ]
  },
  {
   "cell_type": "code",
   "execution_count": 369,
   "metadata": {
    "deletable": false,
    "id": "kwUcHPdy_Zcu"
   },
   "outputs": [
    {
     "data": {
      "text/plain": [
       "genre\n",
       "pop            218\n",
       "dance          182\n",
       "rock           162\n",
       "electronic     147\n",
       "hiphop          80\n",
       "ruspop          64\n",
       "alternative     58\n",
       "rusrap          55\n",
       "jazz            44\n",
       "classical       40\n",
       "Name: genre, dtype: int64"
      ]
     },
     "execution_count": 369,
     "metadata": {},
     "output_type": "execute_result"
    }
   ],
   "source": [
    "# вызов функции для утра понедельника в Петербурге (вместо df — таблица spb_general)\n",
    "genre_weekday(spb_general, 'Monday', '07:00', '11:00')"
   ]
  },
  {
   "cell_type": "code",
   "execution_count": 370,
   "metadata": {
    "deletable": false,
    "id": "EzXVRE1o_Zcu"
   },
   "outputs": [
    {
     "data": {
      "text/plain": [
       "genre\n",
       "pop            713\n",
       "rock           517\n",
       "dance          495\n",
       "electronic     482\n",
       "hiphop         273\n",
       "world          208\n",
       "ruspop         170\n",
       "alternative    163\n",
       "classical      163\n",
       "rusrap         142\n",
       "Name: genre, dtype: int64"
      ]
     },
     "execution_count": 370,
     "metadata": {},
     "output_type": "execute_result"
    }
   ],
   "source": [
    "# вызов функции для вечера пятницы в Москве\n",
    "genre_weekday(moscow_general, 'Friday', '17:00', '23:00')"
   ]
  },
  {
   "cell_type": "code",
   "execution_count": 371,
   "metadata": {
    "deletable": false,
    "id": "JZaEKu5v_Zcu"
   },
   "outputs": [
    {
     "data": {
      "text/plain": [
       "genre\n",
       "pop            256\n",
       "electronic     216\n",
       "rock           216\n",
       "dance          210\n",
       "hiphop          97\n",
       "alternative     63\n",
       "jazz            61\n",
       "classical       60\n",
       "rusrap          59\n",
       "world           54\n",
       "Name: genre, dtype: int64"
      ]
     },
     "execution_count": 371,
     "metadata": {},
     "output_type": "execute_result"
    }
   ],
   "source": [
    "# вызов функции для вечера пятницы в Петербурге\n",
    "genre_weekday(spb_general, 'Friday', '17:00', '23:00')"
   ]
  },
  {
   "cell_type": "markdown",
   "metadata": {
    "deletable": false,
    "editable": false,
    "id": "wrCe4MNX_Zcu"
   },
   "source": [
    "**Выводы**\n",
    "\n",
    "Если сравнить топ-10 жанров в понедельник утром, можно сделать такие выводы:\n",
    "\n",
    "1. В Москве и Петербурге слушают похожую музыку. Единственное отличие — в московский рейтинг вошёл жанр “world”, а в петербургский — джаз и классика.\n",
    "\n",
    "2. В Москве пропущенных значений оказалось так много, что значение `'unknown'` заняло десятое место среди самых популярных жанров. Значит, пропущенные значения занимают существенную долю в данных и угрожают достоверности исследования.\n",
    "\n",
    "Вечер пятницы не меняет эту картину. Некоторые жанры поднимаются немного выше, другие спускаются, но в целом топ-10 остаётся тем же самым.\n",
    "\n",
    "Таким образом, вторая гипотеза подтвердилась лишь частично:\n",
    "* Пользователи слушают похожую музыку в начале недели и в конце.\n",
    "* Разница между Москвой и Петербургом не слишком выражена. В Москве чаще слушают русскую популярную музыку, в Петербурге — джаз.\n",
    "\n",
    "Однако пропуски в данных ставят под сомнение этот результат. В Москве их так много, что рейтинг топ-10 мог бы выглядеть иначе, если бы не утерянные  данные о жанрах."
   ]
  },
  {
   "cell_type": "markdown",
   "metadata": {
    "deletable": false,
    "editable": false,
    "id": "JolODAqr_Zcu"
   },
   "source": [
    "### Жанровые предпочтения в Москве и Петербурге\n",
    "\n",
    "Гипотеза: Петербург — столица рэпа, музыку этого жанра там слушают чаще, чем в Москве.  А Москва — город контрастов, в котором, тем не менее, преобладает поп-музыка."
   ]
  },
  {
   "cell_type": "markdown",
   "metadata": {
    "deletable": false,
    "editable": false,
    "id": "DlegSvaT_Zcu",
    "tags": [
     "start_task"
    ]
   },
   "source": [
    "**Задание 26**\n",
    "\n",
    "Сгруппируйте таблицу `moscow_general` по жанру и посчитайте прослушивания треков каждого жанра методом `count()`. Затем отсортируйте результат в порядке убывания и сохраните его в таблице `moscow_genres`."
   ]
  },
  {
   "cell_type": "code",
   "execution_count": 379,
   "metadata": {
    "deletable": false,
    "id": "r19lIPke_Zcu"
   },
   "outputs": [],
   "source": [
    "# одной строкой: группировка таблицы moscow_general по столбцу 'genre', \n",
    "# подсчёт числа значений 'genre' в этой группировке методом count(), \n",
    "# сортировка получившегося Series в порядке убывания и сохранение в moscow_genres\n",
    "moscow_genres = moscow_general.groupby('genre')['genre'].count().sort_values(ascending = False)"
   ]
  },
  {
   "cell_type": "markdown",
   "metadata": {
    "deletable": false,
    "editable": false,
    "id": "6kMuomxTiIr8",
    "tags": [
     "start_task"
    ]
   },
   "source": [
    "**Задание 27**\n",
    "\n",
    "Выведите на экран первые десять строк `moscow_genres`:"
   ]
  },
  {
   "cell_type": "code",
   "execution_count": 380,
   "metadata": {
    "deletable": false,
    "id": "WhCSooF8_Zcv"
   },
   "outputs": [
    {
     "data": {
      "text/plain": [
       "genre\n",
       "pop            5892\n",
       "dance          4435\n",
       "rock           3965\n",
       "electronic     3786\n",
       "hiphop         2096\n",
       "classical      1616\n",
       "world          1432\n",
       "alternative    1379\n",
       "ruspop         1372\n",
       "rusrap         1161\n",
       "Name: genre, dtype: int64"
      ]
     },
     "execution_count": 380,
     "metadata": {},
     "output_type": "execute_result"
    }
   ],
   "source": [
    "# просмотр первых 10 строк moscow_genres\n",
    "moscow_genres[:10]"
   ]
  },
  {
   "cell_type": "markdown",
   "metadata": {
    "deletable": false,
    "editable": false,
    "id": "cnPG2vnN_Zcv",
    "tags": [
     "start_task"
    ]
   },
   "source": [
    "**Задание 28**\n",
    "\n",
    "\n",
    "Теперь повторите то же и для Петербурга.\n",
    "\n",
    "Сгруппируйте таблицу `spb_general` по жанру. Посчитайте прослушивания треков каждого жанра. Результат отсортируйте в порядке убывания и сохраните в таблице `spb_genres`:\n"
   ]
  },
  {
   "cell_type": "code",
   "execution_count": 385,
   "metadata": {
    "deletable": false,
    "id": "gluLIpE7_Zcv"
   },
   "outputs": [],
   "source": [
    "# одной строкой: группировка таблицы spb_general по столбцу 'genre', \n",
    "# подсчёт числа значений 'genre' в этой группировке методом count(), \n",
    "# сортировка получившегося Series в порядке убывания и сохранение в spb_genres\n",
    "\n",
    "spb_genres = spb_general.groupby('genre')['genre'].count().sort_values(ascending=False)"
   ]
  },
  {
   "cell_type": "markdown",
   "metadata": {
    "deletable": false,
    "editable": false,
    "id": "5Doha_ODgyQ8",
    "tags": [
     "start_task"
    ]
   },
   "source": [
    "**Задание 29**\n",
    "\n",
    "Выведите на экран первые десять строк `spb_genres`:"
   ]
  },
  {
   "cell_type": "code",
   "execution_count": 386,
   "metadata": {
    "deletable": false,
    "id": "uaGJHjVU_Zcv"
   },
   "outputs": [
    {
     "data": {
      "text/plain": [
       "genre\n",
       "pop            2431\n",
       "dance          1932\n",
       "rock           1879\n",
       "electronic     1736\n",
       "hiphop          960\n",
       "alternative     649\n",
       "classical       646\n",
       "rusrap          564\n",
       "ruspop          538\n",
       "world           515\n",
       "Name: genre, dtype: int64"
      ]
     },
     "execution_count": 386,
     "metadata": {},
     "output_type": "execute_result"
    }
   ],
   "source": [
    "# просмотр первых 10 строк spb_genres\n",
    "spb_genres[:10]"
   ]
  },
  {
   "cell_type": "markdown",
   "metadata": {
    "deletable": false,
    "editable": false,
    "id": "RY51YJYu_Zcv"
   },
   "source": [
    "**Выводы**"
   ]
  },
  {
   "cell_type": "markdown",
   "metadata": {
    "deletable": false,
    "editable": false,
    "id": "nVhnJEm__Zcv"
   },
   "source": [
    "Гипотеза частично подтвердилась:\n",
    "* Поп-музыка — самый популярный жанр в Москве, как и предполагала гипотеза. Более того, в топ-10 жанров встречается близкий жанр — русская популярная музыка.\n",
    "* Вопреки ожиданиям, рэп одинаково популярен в Москве и Петербурге. \n"
   ]
  },
  {
   "cell_type": "markdown",
   "metadata": {
    "deletable": false,
    "editable": false,
    "id": "ykKQ0N65_Zcv"
   },
   "source": [
    "## Итоги исследования"
   ]
  },
  {
   "cell_type": "markdown",
   "metadata": {
    "deletable": false,
    "editable": false,
    "id": "tjUwbHb3_Zcv"
   },
   "source": [
    "Вы проверили три гипотезы и установили:\n",
    "\n",
    "1. День недели по-разному влияет на активность пользователей в Москве и Петербурге. \n",
    "\n",
    "Первая гипотеза полностью подтвердилась.\n",
    "\n",
    "2. Музыкальные предпочтения не сильно меняются в течение недели — будь то Москва или Петербург. Небольшие различия заметны в начале недели, по понедельникам:\n",
    "* в Москве слушают музыку жанра “world”,\n",
    "* в Петербурге — джаз и классику.\n",
    "\n",
    "Таким образом, вторая гипотеза подтвердилась лишь отчасти. Этот результат мог оказаться иным, если бы не пропуски в данных.\n",
    "\n",
    "3. Во вкусах пользователей Москвы и Петербурга больше общего чем различий. Вопреки ожиданиям, предпочтения жанров в Петербурге напоминают московские.\n",
    "\n",
    "Третья гипотеза не подтвердилась. Если различия в предпочтениях и существуют, на основной массе пользователей они незаметны.\n",
    "\n",
    "**На практике исследования содержат проверки статистических гипотез.**\n",
    "Из данных одного сервиса не всегда можно сделать вывод о всех жителях города.\n",
    "Проверки статистических гипотез покажут, насколько они достоверны, исходя из имеющихся данных. \n",
    "С методами проверок гипотез вы ещё познакомитесь в следующих темах."
   ]
  }
 ],
 "metadata": {
  "ExecuteTimeLog": [
   {
    "duration": 75,
    "start_time": "2023-06-22T18:00:12.454Z"
   },
   {
    "duration": 7,
    "start_time": "2023-06-22T18:00:58.946Z"
   },
   {
    "duration": 7,
    "start_time": "2023-06-22T18:01:09.822Z"
   },
   {
    "duration": 9,
    "start_time": "2023-06-22T18:01:38.170Z"
   },
   {
    "duration": 9,
    "start_time": "2023-06-22T18:02:05.779Z"
   },
   {
    "duration": 44,
    "start_time": "2023-06-22T18:02:24.099Z"
   },
   {
    "duration": 472,
    "start_time": "2023-06-22T18:02:41.420Z"
   },
   {
    "duration": 186,
    "start_time": "2023-06-22T18:02:49.950Z"
   },
   {
    "duration": 312,
    "start_time": "2023-06-22T18:03:23.009Z"
   },
   {
    "duration": 45,
    "start_time": "2023-06-22T18:03:28.289Z"
   },
   {
    "duration": 46,
    "start_time": "2023-06-22T18:03:56.471Z"
   },
   {
    "duration": 8,
    "start_time": "2023-06-22T18:05:08.829Z"
   },
   {
    "duration": 4,
    "start_time": "2023-06-22T18:05:46.835Z"
   },
   {
    "duration": 14,
    "start_time": "2023-06-22T18:15:47.641Z"
   },
   {
    "duration": 5,
    "start_time": "2023-06-22T18:15:50.170Z"
   },
   {
    "duration": 55,
    "start_time": "2023-06-25T07:35:13.184Z"
   },
   {
    "duration": 8,
    "start_time": "2023-06-25T07:36:06.286Z"
   },
   {
    "duration": 415,
    "start_time": "2023-06-25T07:36:12.045Z"
   },
   {
    "duration": 2,
    "start_time": "2023-06-25T07:36:14.204Z"
   },
   {
    "duration": 216,
    "start_time": "2023-06-25T07:36:15.676Z"
   },
   {
    "duration": 23,
    "start_time": "2023-06-25T07:36:17.693Z"
   },
   {
    "duration": 30,
    "start_time": "2023-06-25T07:36:19.983Z"
   },
   {
    "duration": 2,
    "start_time": "2023-06-25T07:36:23.733Z"
   },
   {
    "duration": 5,
    "start_time": "2023-06-25T07:36:26.136Z"
   },
   {
    "duration": 14,
    "start_time": "2023-06-25T07:36:28.302Z"
   },
   {
    "duration": 4,
    "start_time": "2023-06-25T07:36:30.832Z"
   },
   {
    "duration": 32,
    "start_time": "2023-06-25T07:36:32.659Z"
   },
   {
    "duration": 27,
    "start_time": "2023-06-25T07:41:46.737Z"
   },
   {
    "duration": 8,
    "start_time": "2023-06-25T07:44:30.094Z"
   },
   {
    "duration": 8,
    "start_time": "2023-06-25T07:50:50.673Z"
   },
   {
    "duration": 7,
    "start_time": "2023-06-25T07:51:07.949Z"
   },
   {
    "duration": 1035,
    "start_time": "2023-06-25T07:52:07.660Z"
   },
   {
    "duration": 31,
    "start_time": "2023-06-25T08:05:59.135Z"
   },
   {
    "duration": 16,
    "start_time": "2023-06-25T08:06:02.842Z"
   },
   {
    "duration": 13,
    "start_time": "2023-06-25T08:11:10.529Z"
   },
   {
    "duration": 16,
    "start_time": "2023-06-25T08:11:30.443Z"
   },
   {
    "duration": 16,
    "start_time": "2023-06-25T08:12:02.181Z"
   },
   {
    "duration": 7,
    "start_time": "2023-06-25T08:15:21.806Z"
   },
   {
    "duration": 22863,
    "start_time": "2023-06-25T08:15:45.718Z"
   },
   {
    "duration": 8,
    "start_time": "2023-06-25T08:16:46.052Z"
   },
   {
    "duration": 25,
    "start_time": "2023-06-25T08:16:53.733Z"
   },
   {
    "duration": 8,
    "start_time": "2023-06-25T08:16:56.700Z"
   },
   {
    "duration": 27,
    "start_time": "2023-06-25T08:17:41.871Z"
   },
   {
    "duration": 8,
    "start_time": "2023-06-25T08:17:43.891Z"
   },
   {
    "duration": 30,
    "start_time": "2023-06-25T08:18:53.124Z"
   },
   {
    "duration": 9,
    "start_time": "2023-06-25T08:20:39.534Z"
   },
   {
    "duration": 7,
    "start_time": "2023-06-25T08:21:02.680Z"
   },
   {
    "duration": 28,
    "start_time": "2023-06-25T08:21:15.198Z"
   },
   {
    "duration": 8,
    "start_time": "2023-06-25T08:21:18.916Z"
   },
   {
    "duration": 35,
    "start_time": "2023-06-25T08:21:40.271Z"
   },
   {
    "duration": 7,
    "start_time": "2023-06-25T08:22:29.629Z"
   },
   {
    "duration": 24,
    "start_time": "2023-06-25T08:23:52.111Z"
   },
   {
    "duration": 8,
    "start_time": "2023-06-25T08:23:55.208Z"
   },
   {
    "duration": 7,
    "start_time": "2023-06-25T08:23:56.049Z"
   },
   {
    "duration": 9,
    "start_time": "2023-06-25T08:24:17.069Z"
   },
   {
    "duration": 43,
    "start_time": "2023-06-25T08:24:30.012Z"
   },
   {
    "duration": 4,
    "start_time": "2023-06-25T08:24:32.094Z"
   },
   {
    "duration": 8,
    "start_time": "2023-06-25T08:24:35.969Z"
   },
   {
    "duration": 7,
    "start_time": "2023-06-25T08:26:17.018Z"
   },
   {
    "duration": 7,
    "start_time": "2023-06-25T08:27:20.886Z"
   },
   {
    "duration": 9,
    "start_time": "2023-06-25T08:28:33.494Z"
   },
   {
    "duration": 6,
    "start_time": "2023-06-25T08:28:52.442Z"
   },
   {
    "duration": 4,
    "start_time": "2023-06-25T08:30:25.188Z"
   },
   {
    "duration": 3,
    "start_time": "2023-06-25T08:30:27.333Z"
   },
   {
    "duration": 3,
    "start_time": "2023-06-25T08:30:35.552Z"
   },
   {
    "duration": 7,
    "start_time": "2023-06-25T08:30:48.623Z"
   },
   {
    "duration": 4,
    "start_time": "2023-06-25T08:31:15.872Z"
   },
   {
    "duration": 32,
    "start_time": "2023-06-25T08:31:37.042Z"
   },
   {
    "duration": 26,
    "start_time": "2023-06-25T08:31:50.186Z"
   },
   {
    "duration": 26,
    "start_time": "2023-06-25T08:34:56.033Z"
   },
   {
    "duration": 4,
    "start_time": "2023-06-25T08:35:14.699Z"
   },
   {
    "duration": 7,
    "start_time": "2023-06-25T08:35:30.307Z"
   },
   {
    "duration": 6,
    "start_time": "2023-06-25T08:35:46.200Z"
   },
   {
    "duration": 58,
    "start_time": "2023-06-25T08:36:20.910Z"
   },
   {
    "duration": 147,
    "start_time": "2023-06-25T08:41:02.557Z"
   },
   {
    "duration": 135,
    "start_time": "2023-06-25T08:41:26.643Z"
   },
   {
    "duration": 9,
    "start_time": "2023-06-25T08:42:16.890Z"
   },
   {
    "duration": 35,
    "start_time": "2023-06-25T08:43:14.923Z"
   },
   {
    "duration": 25,
    "start_time": "2023-06-25T08:43:28.217Z"
   },
   {
    "duration": 8,
    "start_time": "2023-06-25T08:44:27.340Z"
   },
   {
    "duration": 710,
    "start_time": "2023-06-25T08:44:33.146Z"
   },
   {
    "duration": 57,
    "start_time": "2023-06-25T08:47:39.129Z"
   },
   {
    "duration": 9,
    "start_time": "2023-06-25T08:47:52.762Z"
   },
   {
    "duration": 10,
    "start_time": "2023-06-25T08:57:41.845Z"
   },
   {
    "duration": 18,
    "start_time": "2023-06-25T08:57:53.957Z"
   },
   {
    "duration": 8,
    "start_time": "2023-06-25T09:00:38.210Z"
   },
   {
    "duration": 6,
    "start_time": "2023-06-25T09:00:57.221Z"
   },
   {
    "duration": 4,
    "start_time": "2023-06-25T09:01:17.747Z"
   },
   {
    "duration": 6,
    "start_time": "2023-06-25T09:01:29.304Z"
   },
   {
    "duration": 7,
    "start_time": "2023-06-25T09:01:50.262Z"
   },
   {
    "duration": 31,
    "start_time": "2023-06-25T09:02:20.699Z"
   },
   {
    "duration": 29,
    "start_time": "2023-06-25T09:03:42.273Z"
   },
   {
    "duration": 26,
    "start_time": "2023-06-25T09:04:41.047Z"
   },
   {
    "duration": 51,
    "start_time": "2023-06-25T09:05:05.018Z"
   },
   {
    "duration": 168,
    "start_time": "2023-06-25T09:05:13.516Z"
   },
   {
    "duration": 24,
    "start_time": "2023-06-25T09:05:15.501Z"
   },
   {
    "duration": 140,
    "start_time": "2023-06-25T09:05:22.308Z"
   },
   {
    "duration": 31,
    "start_time": "2023-06-25T09:05:54.238Z"
   },
   {
    "duration": 24,
    "start_time": "2023-06-25T09:05:58.085Z"
   },
   {
    "duration": 33,
    "start_time": "2023-06-25T09:05:59.894Z"
   },
   {
    "duration": 23,
    "start_time": "2023-06-25T09:06:02.600Z"
   },
   {
    "duration": 29,
    "start_time": "2023-06-25T09:06:11.696Z"
   },
   {
    "duration": 25,
    "start_time": "2023-06-25T09:06:13.780Z"
   },
   {
    "duration": 8,
    "start_time": "2023-06-25T09:11:27.044Z"
   },
   {
    "duration": 8,
    "start_time": "2023-06-25T09:11:40.172Z"
   },
   {
    "duration": 9,
    "start_time": "2023-06-25T09:12:05.245Z"
   },
   {
    "duration": 20,
    "start_time": "2023-06-25T09:12:26.716Z"
   },
   {
    "duration": 24,
    "start_time": "2023-06-25T09:12:32.036Z"
   },
   {
    "duration": 9,
    "start_time": "2023-06-25T09:12:40.354Z"
   },
   {
    "duration": 73,
    "start_time": "2023-06-25T09:15:48.829Z"
   },
   {
    "duration": 16,
    "start_time": "2023-06-25T09:16:49.539Z"
   },
   {
    "duration": 25,
    "start_time": "2023-06-25T09:16:51.134Z"
   },
   {
    "duration": 12,
    "start_time": "2023-06-25T09:18:07.791Z"
   },
   {
    "duration": 86,
    "start_time": "2023-06-25T09:20:12.416Z"
   },
   {
    "duration": 12,
    "start_time": "2023-06-25T09:20:18.400Z"
   },
   {
    "duration": 7,
    "start_time": "2023-06-25T09:22:54.508Z"
   },
   {
    "duration": 9,
    "start_time": "2023-06-25T09:23:02.315Z"
   },
   {
    "duration": 27,
    "start_time": "2023-06-25T09:23:08.140Z"
   },
   {
    "duration": 31,
    "start_time": "2023-06-25T09:23:10.965Z"
   },
   {
    "duration": 59,
    "start_time": "2023-06-25T09:23:22.054Z"
   },
   {
    "duration": 27,
    "start_time": "2023-06-25T09:23:34.596Z"
   },
   {
    "duration": 24,
    "start_time": "2023-06-25T09:23:37.269Z"
   },
   {
    "duration": 10,
    "start_time": "2023-06-25T09:24:14.832Z"
   },
   {
    "duration": 26,
    "start_time": "2023-06-25T09:24:20.200Z"
   },
   {
    "duration": 14,
    "start_time": "2023-06-25T09:25:04.474Z"
   },
   {
    "duration": 42,
    "start_time": "2023-06-25T09:25:06.701Z"
   },
   {
    "duration": 26,
    "start_time": "2023-06-25T09:26:06.290Z"
   },
   {
    "duration": 39,
    "start_time": "2023-06-25T09:26:08.566Z"
   },
   {
    "duration": 7,
    "start_time": "2023-06-25T09:28:03.428Z"
   },
   {
    "duration": 7,
    "start_time": "2023-06-25T09:28:12.823Z"
   },
   {
    "duration": 63,
    "start_time": "2023-06-25T09:28:34.801Z"
   },
   {
    "duration": 135,
    "start_time": "2023-06-25T09:30:59.673Z"
   },
   {
    "duration": 17,
    "start_time": "2023-06-25T09:31:57.157Z"
   },
   {
    "duration": 24,
    "start_time": "2023-06-25T09:31:59.742Z"
   },
   {
    "duration": 9,
    "start_time": "2023-06-25T09:34:05.002Z"
   },
   {
    "duration": 68,
    "start_time": "2023-06-25T09:34:20.166Z"
   },
   {
    "duration": 66,
    "start_time": "2023-06-25T09:35:12.476Z"
   },
   {
    "duration": 53,
    "start_time": "2023-06-25T09:35:38.474Z"
   },
   {
    "duration": 49,
    "start_time": "2023-06-25T09:36:35.770Z"
   },
   {
    "duration": 32,
    "start_time": "2023-06-25T09:37:07.059Z"
   },
   {
    "duration": 219,
    "start_time": "2023-06-25T09:37:36.142Z"
   },
   {
    "duration": 70,
    "start_time": "2023-06-25T09:38:22.626Z"
   },
   {
    "duration": 70,
    "start_time": "2023-06-25T09:56:53.092Z"
   },
   {
    "duration": 107,
    "start_time": "2023-06-25T09:57:16.239Z"
   },
   {
    "duration": 85,
    "start_time": "2023-06-25T09:57:29.909Z"
   },
   {
    "duration": 64,
    "start_time": "2023-06-25T09:57:46.052Z"
   },
   {
    "duration": 90,
    "start_time": "2023-06-25T09:58:03.142Z"
   },
   {
    "duration": 51,
    "start_time": "2023-06-25T09:58:16.635Z"
   },
   {
    "duration": 59,
    "start_time": "2023-06-25T09:58:21.488Z"
   },
   {
    "duration": 57,
    "start_time": "2023-06-25T09:58:23.321Z"
   },
   {
    "duration": 58,
    "start_time": "2023-06-25T10:14:39.700Z"
   },
   {
    "duration": 10,
    "start_time": "2023-06-25T10:14:47.340Z"
   },
   {
    "duration": 8,
    "start_time": "2023-06-25T10:21:17.671Z"
   },
   {
    "duration": 39,
    "start_time": "2023-06-25T10:21:40.006Z"
   },
   {
    "duration": 101,
    "start_time": "2023-06-25T10:28:15.829Z"
   },
   {
    "duration": 285,
    "start_time": "2023-06-25T10:28:40.210Z"
   },
   {
    "duration": 22,
    "start_time": "2023-06-25T10:28:46.486Z"
   },
   {
    "duration": 37,
    "start_time": "2023-06-25T10:29:27.498Z"
   },
   {
    "duration": 37,
    "start_time": "2023-06-25T10:29:58.527Z"
   },
   {
    "duration": 38,
    "start_time": "2023-06-25T10:32:41.605Z"
   },
   {
    "duration": 48,
    "start_time": "2023-06-25T10:32:43.413Z"
   },
   {
    "duration": 24,
    "start_time": "2023-06-25T10:32:44.994Z"
   },
   {
    "duration": 22,
    "start_time": "2023-06-25T10:32:47.512Z"
   },
   {
    "duration": 58,
    "start_time": "2023-06-25T10:34:58.439Z"
   },
   {
    "duration": 7,
    "start_time": "2023-06-25T10:35:12.925Z"
   },
   {
    "duration": 17,
    "start_time": "2023-06-25T10:35:30.890Z"
   },
   {
    "duration": 28,
    "start_time": "2023-06-25T10:35:35.992Z"
   },
   {
    "duration": 22,
    "start_time": "2023-06-25T10:35:51.367Z"
   },
   {
    "duration": 23,
    "start_time": "2023-06-25T10:36:06.138Z"
   },
   {
    "duration": 38,
    "start_time": "2023-06-25T10:36:35.384Z"
   },
   {
    "duration": 23,
    "start_time": "2023-06-25T10:36:40.470Z"
   },
   {
    "duration": 56,
    "start_time": "2023-06-25T10:36:44.959Z"
   },
   {
    "duration": 24,
    "start_time": "2023-06-25T10:36:47.478Z"
   },
   {
    "duration": 45,
    "start_time": "2023-06-25T10:36:58.438Z"
   },
   {
    "duration": 21,
    "start_time": "2023-06-25T10:37:03.672Z"
   },
   {
    "duration": 23,
    "start_time": "2023-06-25T10:37:08.446Z"
   },
   {
    "duration": 1428,
    "start_time": "2023-06-25T10:37:10.441Z"
   },
   {
    "duration": 22,
    "start_time": "2023-06-25T10:37:12.171Z"
   },
   {
    "duration": 3,
    "start_time": "2023-06-25T10:37:20.972Z"
   },
   {
    "duration": 172,
    "start_time": "2023-06-25T10:37:24.352Z"
   },
   {
    "duration": 9,
    "start_time": "2023-06-25T10:37:27.100Z"
   },
   {
    "duration": 29,
    "start_time": "2023-06-25T10:37:30.247Z"
   },
   {
    "duration": 5,
    "start_time": "2023-06-25T10:37:36.334Z"
   },
   {
    "duration": 7,
    "start_time": "2023-06-25T10:37:40.432Z"
   },
   {
    "duration": 5,
    "start_time": "2023-06-25T10:37:41.906Z"
   },
   {
    "duration": 26,
    "start_time": "2023-06-25T10:37:44.076Z"
   },
   {
    "duration": 16,
    "start_time": "2023-06-25T10:37:47.178Z"
   },
   {
    "duration": 23,
    "start_time": "2023-06-25T10:37:49.258Z"
   },
   {
    "duration": 101,
    "start_time": "2023-06-25T10:37:51.176Z"
   },
   {
    "duration": 81,
    "start_time": "2023-06-25T10:37:52.475Z"
   },
   {
    "duration": 51,
    "start_time": "2023-06-25T10:37:54.117Z"
   },
   {
    "duration": 35,
    "start_time": "2023-06-25T10:37:56.497Z"
   },
   {
    "duration": 15,
    "start_time": "2023-06-25T10:38:00.377Z"
   },
   {
    "duration": 37,
    "start_time": "2023-06-25T10:38:02.814Z"
   },
   {
    "duration": 24,
    "start_time": "2023-06-25T10:38:33.904Z"
   },
   {
    "duration": 68,
    "start_time": "2023-06-25T10:43:32.072Z"
   },
   {
    "duration": 13,
    "start_time": "2023-06-25T10:44:00.512Z"
   },
   {
    "duration": 36,
    "start_time": "2023-06-25T10:44:05.670Z"
   },
   {
    "duration": 10,
    "start_time": "2023-06-25T10:44:53.747Z"
   },
   {
    "duration": 35,
    "start_time": "2023-06-25T10:44:56.555Z"
   },
   {
    "duration": 23,
    "start_time": "2023-06-25T10:46:57.928Z"
   },
   {
    "duration": 63,
    "start_time": "2023-06-25T10:47:00.016Z"
   },
   {
    "duration": 13,
    "start_time": "2023-06-25T10:47:23.763Z"
   },
   {
    "duration": 89,
    "start_time": "2023-06-25T10:47:26.431Z"
   },
   {
    "duration": 53,
    "start_time": "2023-06-25T10:47:29.084Z"
   },
   {
    "duration": 12,
    "start_time": "2023-06-25T10:47:31.908Z"
   },
   {
    "duration": 51,
    "start_time": "2023-06-25T10:47:34.625Z"
   },
   {
    "duration": 53,
    "start_time": "2023-06-25T10:47:45.729Z"
   },
   {
    "duration": 52,
    "start_time": "2023-06-25T10:47:48.174Z"
   },
   {
    "duration": 2,
    "start_time": "2023-06-25T10:47:53.468Z"
   },
   {
    "duration": 162,
    "start_time": "2023-06-25T10:47:54.915Z"
   },
   {
    "duration": 10,
    "start_time": "2023-06-25T10:47:55.806Z"
   },
   {
    "duration": 25,
    "start_time": "2023-06-25T10:47:57.883Z"
   },
   {
    "duration": 3,
    "start_time": "2023-06-25T10:48:02.470Z"
   },
   {
    "duration": 7,
    "start_time": "2023-06-25T10:48:04.223Z"
   },
   {
    "duration": 4,
    "start_time": "2023-06-25T10:48:05.764Z"
   },
   {
    "duration": 26,
    "start_time": "2023-06-25T10:48:06.982Z"
   },
   {
    "duration": 27,
    "start_time": "2023-06-25T10:48:11.141Z"
   },
   {
    "duration": 27,
    "start_time": "2023-06-25T10:48:14.212Z"
   },
   {
    "duration": 58,
    "start_time": "2023-06-25T10:48:15.887Z"
   },
   {
    "duration": 62,
    "start_time": "2023-06-25T10:48:17.226Z"
   },
   {
    "duration": 50,
    "start_time": "2023-06-25T10:48:19.061Z"
   },
   {
    "duration": 39,
    "start_time": "2023-06-25T10:48:21.229Z"
   },
   {
    "duration": 22,
    "start_time": "2023-06-25T10:48:23.648Z"
   },
   {
    "duration": 54,
    "start_time": "2023-06-25T10:48:25.375Z"
   },
   {
    "duration": 54,
    "start_time": "2023-06-25T10:48:30.508Z"
   },
   {
    "duration": 58,
    "start_time": "2023-06-25T10:48:33.545Z"
   },
   {
    "duration": 59,
    "start_time": "2023-06-25T10:48:35.153Z"
   },
   {
    "duration": 58,
    "start_time": "2023-06-25T10:48:36.604Z"
   },
   {
    "duration": 76,
    "start_time": "2023-06-25T10:48:38.701Z"
   },
   {
    "duration": 53,
    "start_time": "2023-06-25T10:48:42.877Z"
   },
   {
    "duration": 60,
    "start_time": "2023-06-25T10:48:44.260Z"
   },
   {
    "duration": 55,
    "start_time": "2023-06-25T10:48:45.334Z"
   },
   {
    "duration": 57,
    "start_time": "2023-06-25T10:48:46.974Z"
   },
   {
    "duration": 3,
    "start_time": "2023-06-25T10:49:02.437Z"
   },
   {
    "duration": 182,
    "start_time": "2023-06-25T10:49:03.212Z"
   },
   {
    "duration": 10,
    "start_time": "2023-06-25T10:49:04.354Z"
   },
   {
    "duration": 28,
    "start_time": "2023-06-25T10:49:05.699Z"
   },
   {
    "duration": 4,
    "start_time": "2023-06-25T10:49:09.159Z"
   },
   {
    "duration": 11,
    "start_time": "2023-06-25T10:49:10.927Z"
   },
   {
    "duration": 3,
    "start_time": "2023-06-25T10:49:11.851Z"
   },
   {
    "duration": 24,
    "start_time": "2023-06-25T10:49:13.248Z"
   },
   {
    "duration": 17,
    "start_time": "2023-06-25T10:49:15.470Z"
   },
   {
    "duration": 33,
    "start_time": "2023-06-25T10:49:16.383Z"
   },
   {
    "duration": 55,
    "start_time": "2023-06-25T10:49:17.817Z"
   },
   {
    "duration": 60,
    "start_time": "2023-06-25T10:49:19.935Z"
   },
   {
    "duration": 53,
    "start_time": "2023-06-25T10:49:20.891Z"
   },
   {
    "duration": 46,
    "start_time": "2023-06-25T10:49:22.371Z"
   },
   {
    "duration": 13,
    "start_time": "2023-06-25T10:49:24.488Z"
   },
   {
    "duration": 36,
    "start_time": "2023-06-25T10:49:25.964Z"
   },
   {
    "duration": 4,
    "start_time": "2023-06-25T11:00:05.488Z"
   },
   {
    "duration": 6,
    "start_time": "2023-06-25T11:00:55.007Z"
   },
   {
    "duration": 9,
    "start_time": "2023-06-25T11:01:22.804Z"
   },
   {
    "duration": 31,
    "start_time": "2023-06-25T11:02:53.623Z"
   },
   {
    "duration": 12,
    "start_time": "2023-06-25T11:04:21.793Z"
   },
   {
    "duration": 27,
    "start_time": "2023-06-25T11:05:36.524Z"
   },
   {
    "duration": 22,
    "start_time": "2023-06-25T11:05:40.504Z"
   },
   {
    "duration": 3,
    "start_time": "2023-06-25T11:06:30.064Z"
   },
   {
    "duration": 30,
    "start_time": "2023-06-25T11:06:52.051Z"
   },
   {
    "duration": 25,
    "start_time": "2023-06-25T11:07:00.366Z"
   },
   {
    "duration": 270,
    "start_time": "2023-06-25T11:07:15.393Z"
   },
   {
    "duration": 19,
    "start_time": "2023-06-25T11:07:38.894Z"
   },
   {
    "duration": 11,
    "start_time": "2023-06-25T11:08:24.883Z"
   },
   {
    "duration": 11,
    "start_time": "2023-06-25T11:12:41.599Z"
   },
   {
    "duration": 10,
    "start_time": "2023-06-25T11:13:13.759Z"
   },
   {
    "duration": 4,
    "start_time": "2023-06-25T11:17:32.517Z"
   },
   {
    "duration": 9,
    "start_time": "2023-06-25T11:18:03.338Z"
   },
   {
    "duration": 8,
    "start_time": "2023-06-25T11:20:15.170Z"
   },
   {
    "duration": 35,
    "start_time": "2023-06-25T11:20:35.984Z"
   },
   {
    "duration": 29,
    "start_time": "2023-06-25T11:21:00.183Z"
   },
   {
    "duration": 27,
    "start_time": "2023-06-25T11:21:20.036Z"
   },
   {
    "duration": 29,
    "start_time": "2023-06-25T11:21:21.887Z"
   },
   {
    "duration": 27,
    "start_time": "2023-06-25T11:21:28.848Z"
   },
   {
    "duration": 39,
    "start_time": "2023-06-25T11:21:35.207Z"
   },
   {
    "duration": 31,
    "start_time": "2023-06-25T11:21:38.909Z"
   },
   {
    "duration": 42,
    "start_time": "2023-06-25T11:21:46.299Z"
   },
   {
    "duration": 14,
    "start_time": "2023-06-25T11:22:27.472Z"
   },
   {
    "duration": 14,
    "start_time": "2023-06-25T11:25:06.258Z"
   },
   {
    "duration": 4,
    "start_time": "2023-06-25T11:25:22.118Z"
   },
   {
    "duration": 6,
    "start_time": "2023-06-25T11:25:31.528Z"
   },
   {
    "duration": 8,
    "start_time": "2023-06-25T11:27:11.890Z"
   },
   {
    "duration": 62,
    "start_time": "2023-06-25T11:27:37.791Z"
   },
   {
    "duration": 9,
    "start_time": "2023-06-25T11:27:43.493Z"
   },
   {
    "duration": 916,
    "start_time": "2023-06-25T11:27:59.751Z"
   },
   {
    "duration": 9,
    "start_time": "2023-06-25T11:29:33.614Z"
   },
   {
    "duration": 12,
    "start_time": "2023-06-25T11:29:36.392Z"
   },
   {
    "duration": 8,
    "start_time": "2023-06-25T11:30:08.799Z"
   },
   {
    "duration": 5,
    "start_time": "2023-06-25T11:30:18.628Z"
   },
   {
    "duration": 12,
    "start_time": "2023-06-25T11:30:30.251Z"
   },
   {
    "duration": 10,
    "start_time": "2023-06-25T11:31:15.667Z"
   },
   {
    "duration": 27,
    "start_time": "2023-06-25T11:31:31.787Z"
   },
   {
    "duration": 11,
    "start_time": "2023-06-25T11:31:53.571Z"
   },
   {
    "duration": 30,
    "start_time": "2023-06-25T11:32:19.616Z"
   },
   {
    "duration": 4,
    "start_time": "2023-06-25T11:40:18.410Z"
   },
   {
    "duration": 7,
    "start_time": "2023-06-25T11:41:48.011Z"
   },
   {
    "duration": 7,
    "start_time": "2023-06-25T11:42:11.321Z"
   },
   {
    "duration": 9,
    "start_time": "2023-06-25T11:42:43.133Z"
   },
   {
    "duration": 4,
    "start_time": "2023-06-25T11:43:18.781Z"
   },
   {
    "duration": 4,
    "start_time": "2023-06-25T11:43:21.285Z"
   },
   {
    "duration": 8,
    "start_time": "2023-06-25T11:43:28.060Z"
   },
   {
    "duration": 92,
    "start_time": "2023-06-25T11:43:56.304Z"
   },
   {
    "duration": 11,
    "start_time": "2023-06-25T11:44:05.765Z"
   },
   {
    "duration": 10,
    "start_time": "2023-06-25T11:47:43.167Z"
   },
   {
    "duration": 4,
    "start_time": "2023-06-25T11:47:47.868Z"
   },
   {
    "duration": 9,
    "start_time": "2023-06-25T11:47:51.898Z"
   },
   {
    "duration": 3,
    "start_time": "2023-06-25T11:48:47.255Z"
   },
   {
    "duration": 9,
    "start_time": "2023-06-25T11:48:48.941Z"
   },
   {
    "duration": 3,
    "start_time": "2023-06-25T11:48:52.021Z"
   },
   {
    "duration": 11,
    "start_time": "2023-06-25T11:48:55.688Z"
   },
   {
    "duration": 4,
    "start_time": "2023-06-25T11:49:50.435Z"
   },
   {
    "duration": 2,
    "start_time": "2023-06-25T11:49:52.123Z"
   },
   {
    "duration": 68,
    "start_time": "2023-06-25T11:50:18.288Z"
   },
   {
    "duration": 65,
    "start_time": "2023-06-25T11:50:23.953Z"
   },
   {
    "duration": 111,
    "start_time": "2023-06-25T11:50:30.434Z"
   },
   {
    "duration": 4,
    "start_time": "2023-06-25T11:53:44.650Z"
   },
   {
    "duration": 9,
    "start_time": "2023-06-25T11:53:52.469Z"
   },
   {
    "duration": 5,
    "start_time": "2023-06-25T11:54:03.197Z"
   },
   {
    "duration": 30,
    "start_time": "2023-06-25T11:54:05.878Z"
   },
   {
    "duration": 3,
    "start_time": "2023-06-25T11:54:54.467Z"
   },
   {
    "duration": 11,
    "start_time": "2023-06-25T11:54:56.501Z"
   },
   {
    "duration": 7,
    "start_time": "2023-06-25T11:55:30.501Z"
   },
   {
    "duration": 13,
    "start_time": "2023-06-25T11:55:47.756Z"
   },
   {
    "duration": 5,
    "start_time": "2023-06-25T12:05:54.202Z"
   },
   {
    "duration": 4,
    "start_time": "2023-06-25T12:16:39.838Z"
   },
   {
    "duration": 216,
    "start_time": "2023-06-25T12:16:58.294Z"
   },
   {
    "duration": 3,
    "start_time": "2023-06-25T12:17:21.720Z"
   },
   {
    "duration": 302,
    "start_time": "2023-06-25T12:17:23.303Z"
   },
   {
    "duration": 4,
    "start_time": "2023-06-25T12:20:32.230Z"
   },
   {
    "duration": 20,
    "start_time": "2023-06-25T12:20:35.184Z"
   },
   {
    "duration": 17,
    "start_time": "2023-06-25T12:21:03.560Z"
   },
   {
    "duration": 11,
    "start_time": "2023-06-25T12:22:59.643Z"
   },
   {
    "duration": 15,
    "start_time": "2023-06-25T12:23:01.715Z"
   },
   {
    "duration": 10,
    "start_time": "2023-06-25T12:23:07.303Z"
   },
   {
    "duration": 13,
    "start_time": "2023-06-25T12:23:16.422Z"
   },
   {
    "duration": 11,
    "start_time": "2023-06-25T12:23:17.951Z"
   },
   {
    "duration": 13,
    "start_time": "2023-06-25T12:23:21.083Z"
   },
   {
    "duration": 16,
    "start_time": "2023-06-25T12:23:24.786Z"
   },
   {
    "duration": 14,
    "start_time": "2023-06-25T12:23:25.550Z"
   },
   {
    "duration": 14,
    "start_time": "2023-06-25T12:25:53.873Z"
   },
   {
    "duration": 8,
    "start_time": "2023-06-25T12:48:35.198Z"
   },
   {
    "duration": 6,
    "start_time": "2023-06-25T12:48:51.175Z"
   },
   {
    "duration": 67,
    "start_time": "2023-06-25T12:52:42.269Z"
   },
   {
    "duration": 3,
    "start_time": "2023-06-25T12:54:44.779Z"
   },
   {
    "duration": 6,
    "start_time": "2023-06-25T12:55:03.015Z"
   },
   {
    "duration": 10,
    "start_time": "2023-06-25T12:56:38.935Z"
   },
   {
    "duration": 16,
    "start_time": "2023-06-25T12:56:57.769Z"
   },
   {
    "duration": 12,
    "start_time": "2023-06-25T12:57:07.286Z"
   },
   {
    "duration": 8,
    "start_time": "2023-06-25T12:57:35.466Z"
   },
   {
    "duration": 4,
    "start_time": "2023-06-25T13:06:31.219Z"
   },
   {
    "duration": 4,
    "start_time": "2023-06-25T13:07:57.688Z"
   },
   {
    "duration": 4,
    "start_time": "2023-06-25T13:08:14.399Z"
   },
   {
    "duration": 4,
    "start_time": "2023-06-25T13:09:05.173Z"
   },
   {
    "duration": 4,
    "start_time": "2023-06-25T13:09:42.117Z"
   },
   {
    "duration": 5,
    "start_time": "2023-06-25T13:11:15.903Z"
   },
   {
    "duration": 18,
    "start_time": "2023-06-25T13:16:00.131Z"
   },
   {
    "duration": 4,
    "start_time": "2023-06-25T13:18:20.329Z"
   },
   {
    "duration": 4,
    "start_time": "2023-06-25T13:18:58.763Z"
   },
   {
    "duration": 5,
    "start_time": "2023-06-25T13:20:53.040Z"
   },
   {
    "duration": 5,
    "start_time": "2023-06-25T13:20:56.643Z"
   },
   {
    "duration": 4,
    "start_time": "2023-06-25T13:21:11.562Z"
   },
   {
    "duration": 5,
    "start_time": "2023-06-25T13:21:23.744Z"
   },
   {
    "duration": 5,
    "start_time": "2023-06-25T13:21:40.704Z"
   },
   {
    "duration": 4,
    "start_time": "2023-06-25T13:23:54.649Z"
   },
   {
    "duration": 5,
    "start_time": "2023-06-25T13:24:10.535Z"
   },
   {
    "duration": 5,
    "start_time": "2023-06-25T13:24:40.993Z"
   },
   {
    "duration": 5,
    "start_time": "2023-06-25T13:26:16.483Z"
   },
   {
    "duration": 49,
    "start_time": "2023-06-25T13:29:22.549Z"
   },
   {
    "duration": 20,
    "start_time": "2023-06-25T13:29:28.105Z"
   },
   {
    "duration": 5,
    "start_time": "2023-06-25T13:29:40.891Z"
   },
   {
    "duration": 26,
    "start_time": "2023-06-25T13:29:42.639Z"
   },
   {
    "duration": 15,
    "start_time": "2023-06-25T13:29:47.595Z"
   },
   {
    "duration": 6,
    "start_time": "2023-06-25T13:31:26.315Z"
   },
   {
    "duration": 4,
    "start_time": "2023-06-25T13:34:07.599Z"
   },
   {
    "duration": 5,
    "start_time": "2023-06-25T13:34:12.249Z"
   },
   {
    "duration": 4,
    "start_time": "2023-06-25T13:34:32.269Z"
   },
   {
    "duration": 4,
    "start_time": "2023-06-25T13:34:42.665Z"
   },
   {
    "duration": 4,
    "start_time": "2023-06-25T13:35:08.538Z"
   },
   {
    "duration": 4,
    "start_time": "2023-06-25T13:35:57.012Z"
   },
   {
    "duration": 4,
    "start_time": "2023-06-25T13:37:43.542Z"
   },
   {
    "duration": 4,
    "start_time": "2023-06-25T13:38:59.512Z"
   },
   {
    "duration": 16,
    "start_time": "2023-06-25T13:39:32.990Z"
   },
   {
    "duration": 11,
    "start_time": "2023-06-25T13:39:38.618Z"
   },
   {
    "duration": 16,
    "start_time": "2023-06-25T13:40:25.902Z"
   },
   {
    "duration": 12,
    "start_time": "2023-06-25T13:40:42.196Z"
   },
   {
    "duration": 201,
    "start_time": "2023-06-25T13:44:23.455Z"
   },
   {
    "duration": 114,
    "start_time": "2023-06-25T13:44:32.861Z"
   },
   {
    "duration": 3,
    "start_time": "2023-06-25T13:44:56.424Z"
   },
   {
    "duration": 178,
    "start_time": "2023-06-25T13:45:00.798Z"
   },
   {
    "duration": 144,
    "start_time": "2023-06-25T13:45:37.965Z"
   },
   {
    "duration": 407,
    "start_time": "2023-06-25T13:46:14.093Z"
   },
   {
    "duration": 166,
    "start_time": "2023-06-25T13:46:49.774Z"
   },
   {
    "duration": 8,
    "start_time": "2023-06-25T13:47:00.347Z"
   },
   {
    "duration": 5,
    "start_time": "2023-06-25T13:47:34.975Z"
   },
   {
    "duration": 6,
    "start_time": "2023-06-25T13:49:15.271Z"
   },
   {
    "duration": 7,
    "start_time": "2023-06-25T13:49:28.973Z"
   },
   {
    "duration": 302,
    "start_time": "2023-06-25T13:49:48.615Z"
   },
   {
    "duration": 9,
    "start_time": "2023-06-25T13:49:54.709Z"
   },
   {
    "duration": 7,
    "start_time": "2023-06-25T13:50:03.616Z"
   },
   {
    "duration": 5,
    "start_time": "2023-06-25T13:50:14.681Z"
   }
  ],
  "colab": {
   "collapsed_sections": [
    "E0vqbgi9ay0H",
    "VUC88oWjTJw2"
   ],
   "provenance": []
  },
  "kernelspec": {
   "display_name": "Python 3 (ipykernel)",
   "language": "python",
   "name": "python3"
  },
  "language_info": {
   "codemirror_mode": {
    "name": "ipython",
    "version": 3
   },
   "file_extension": ".py",
   "mimetype": "text/x-python",
   "name": "python",
   "nbconvert_exporter": "python",
   "pygments_lexer": "ipython3",
   "version": "3.9.5"
  },
  "toc": {
   "base_numbering": 1,
   "nav_menu": {
    "height": "215px",
    "width": "403px"
   },
   "number_sections": true,
   "sideBar": true,
   "skip_h1_title": true,
   "title_cell": "Table of Contents",
   "title_sidebar": "Contents",
   "toc_cell": false,
   "toc_position": {
    "height": "calc(100% - 180px)",
    "left": "10px",
    "top": "150px",
    "width": "306.797px"
   },
   "toc_section_display": true,
   "toc_window_display": false
  }
 },
 "nbformat": 4,
 "nbformat_minor": 1
}
